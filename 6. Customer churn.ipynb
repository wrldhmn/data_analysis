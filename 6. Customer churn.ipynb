{
 "cells": [
  {
   "cell_type": "markdown",
   "metadata": {},
   "source": [
    "# Customer churn"
   ]
  },
  {
   "cell_type": "markdown",
   "metadata": {},
   "source": [
    "Clients began to leave Beta Bank. Every month. A little, but noticeable. Bank marketers have calculated that it is cheaper to retain current customers than to attract new ones.\n",
    "\n",
    "It is necessary to predict whether the client will leave the bank in the near future or not. We are provided with historical data on customer behavior and termination of contracts with the bank.\n",
    "\n",
    "Let's build a model with an extremely large *F1*-measure. To pass the project successfully, you need to bring the metric to 0.59. Let's check the *F1*-measure on the test sample ourselves.\n",
    "\n",
    "Additionally, we measure *AUC-ROC* and compare its value with the *F1*-measure.\n",
    "\n",
    "Data source: [https://www.kaggle.com/barelydedicated/bank-customer-churn-modeling](https://www.kaggle.com/barelydedicated/bank-customer-churn-modeling)"
   ]
  },
  {
   "cell_type": "markdown",
   "metadata": {},
   "source": [
    "# Description of data\n",
    "\n",
    "- The data is located in the file /datasets/Churn.csv (English: “customer outflow”). Download dataset\n",
    "- Signs\n",
    "- RowNumber — row index in the data\n",
    "- CustomerId — unique client identifier\n",
    "- Surname - surname\n",
    "- CreditScore - credit rating\n",
    "- Geography - country of residence\n",
    "- Gender - gender\n",
    "- Age - age\n",
    "- Tenure - how many years a person has been a bank client\n",
    "- Balance - account balance\n",
    "- NumOfProducts — number of bank products used by the client\n",
    "- HasCrCard - availability of a credit card\n",
    "- IsActiveMember — client activity\n",
    "- EstimatedSalary - estimated salary\n",
    "\n",
    "<b>Target feature</b>\n",
    "\n",
    "- Exited—the fact that the client has left"
   ]
  },
  {
   "cell_type": "markdown",
   "metadata": {},
   "source": [
    "## Data preparation"
   ]
  },
  {
   "cell_type": "markdown",
   "metadata": {},
   "source": [
    "Import the necessary libraries and look at the data"
   ]
  },
  {
   "cell_type": "code",
   "execution_count": 1,
   "metadata": {},
   "outputs": [
    {
     "name": "stdout",
     "output_type": "stream",
     "text": [
      "<class 'pandas.core.frame.DataFrame'>\n",
      "RangeIndex: 10000 entries, 0 to 9999\n",
      "Data columns (total 14 columns):\n",
      "RowNumber          10000 non-null int64\n",
      "CustomerId         10000 non-null int64\n",
      "Surname            10000 non-null object\n",
      "CreditScore        10000 non-null int64\n",
      "Geography          10000 non-null object\n",
      "Gender             10000 non-null object\n",
      "Age                10000 non-null int64\n",
      "Tenure             9091 non-null float64\n",
      "Balance            10000 non-null float64\n",
      "NumOfProducts      10000 non-null int64\n",
      "HasCrCard          10000 non-null int64\n",
      "IsActiveMember     10000 non-null int64\n",
      "EstimatedSalary    10000 non-null float64\n",
      "Exited             10000 non-null int64\n",
      "dtypes: float64(3), int64(8), object(3)\n",
      "memory usage: 1.1+ MB\n",
      "None\n"
     ]
    },
    {
     "data": {
      "text/html": [
       "<div>\n",
       "<style scoped>\n",
       "    .dataframe tbody tr th:only-of-type {\n",
       "        vertical-align: middle;\n",
       "    }\n",
       "\n",
       "    .dataframe tbody tr th {\n",
       "        vertical-align: top;\n",
       "    }\n",
       "\n",
       "    .dataframe thead th {\n",
       "        text-align: right;\n",
       "    }\n",
       "</style>\n",
       "<table border=\"1\" class=\"dataframe\">\n",
       "  <thead>\n",
       "    <tr style=\"text-align: right;\">\n",
       "      <th></th>\n",
       "      <th>RowNumber</th>\n",
       "      <th>CustomerId</th>\n",
       "      <th>Surname</th>\n",
       "      <th>CreditScore</th>\n",
       "      <th>Geography</th>\n",
       "      <th>Gender</th>\n",
       "      <th>Age</th>\n",
       "      <th>Tenure</th>\n",
       "      <th>Balance</th>\n",
       "      <th>NumOfProducts</th>\n",
       "      <th>HasCrCard</th>\n",
       "      <th>IsActiveMember</th>\n",
       "      <th>EstimatedSalary</th>\n",
       "      <th>Exited</th>\n",
       "    </tr>\n",
       "  </thead>\n",
       "  <tbody>\n",
       "    <tr>\n",
       "      <td>0</td>\n",
       "      <td>1</td>\n",
       "      <td>15634602</td>\n",
       "      <td>Hargrave</td>\n",
       "      <td>619</td>\n",
       "      <td>France</td>\n",
       "      <td>Female</td>\n",
       "      <td>42</td>\n",
       "      <td>2.0</td>\n",
       "      <td>0.00</td>\n",
       "      <td>1</td>\n",
       "      <td>1</td>\n",
       "      <td>1</td>\n",
       "      <td>101348.88</td>\n",
       "      <td>1</td>\n",
       "    </tr>\n",
       "    <tr>\n",
       "      <td>1</td>\n",
       "      <td>2</td>\n",
       "      <td>15647311</td>\n",
       "      <td>Hill</td>\n",
       "      <td>608</td>\n",
       "      <td>Spain</td>\n",
       "      <td>Female</td>\n",
       "      <td>41</td>\n",
       "      <td>1.0</td>\n",
       "      <td>83807.86</td>\n",
       "      <td>1</td>\n",
       "      <td>0</td>\n",
       "      <td>1</td>\n",
       "      <td>112542.58</td>\n",
       "      <td>0</td>\n",
       "    </tr>\n",
       "    <tr>\n",
       "      <td>2</td>\n",
       "      <td>3</td>\n",
       "      <td>15619304</td>\n",
       "      <td>Onio</td>\n",
       "      <td>502</td>\n",
       "      <td>France</td>\n",
       "      <td>Female</td>\n",
       "      <td>42</td>\n",
       "      <td>8.0</td>\n",
       "      <td>159660.80</td>\n",
       "      <td>3</td>\n",
       "      <td>1</td>\n",
       "      <td>0</td>\n",
       "      <td>113931.57</td>\n",
       "      <td>1</td>\n",
       "    </tr>\n",
       "    <tr>\n",
       "      <td>3</td>\n",
       "      <td>4</td>\n",
       "      <td>15701354</td>\n",
       "      <td>Boni</td>\n",
       "      <td>699</td>\n",
       "      <td>France</td>\n",
       "      <td>Female</td>\n",
       "      <td>39</td>\n",
       "      <td>1.0</td>\n",
       "      <td>0.00</td>\n",
       "      <td>2</td>\n",
       "      <td>0</td>\n",
       "      <td>0</td>\n",
       "      <td>93826.63</td>\n",
       "      <td>0</td>\n",
       "    </tr>\n",
       "    <tr>\n",
       "      <td>4</td>\n",
       "      <td>5</td>\n",
       "      <td>15737888</td>\n",
       "      <td>Mitchell</td>\n",
       "      <td>850</td>\n",
       "      <td>Spain</td>\n",
       "      <td>Female</td>\n",
       "      <td>43</td>\n",
       "      <td>2.0</td>\n",
       "      <td>125510.82</td>\n",
       "      <td>1</td>\n",
       "      <td>1</td>\n",
       "      <td>1</td>\n",
       "      <td>79084.10</td>\n",
       "      <td>0</td>\n",
       "    </tr>\n",
       "  </tbody>\n",
       "</table>\n",
       "</div>"
      ],
      "text/plain": [
       "   RowNumber  CustomerId   Surname  CreditScore Geography  Gender  Age  \\\n",
       "0          1    15634602  Hargrave          619    France  Female   42   \n",
       "1          2    15647311      Hill          608     Spain  Female   41   \n",
       "2          3    15619304      Onio          502    France  Female   42   \n",
       "3          4    15701354      Boni          699    France  Female   39   \n",
       "4          5    15737888  Mitchell          850     Spain  Female   43   \n",
       "\n",
       "   Tenure    Balance  NumOfProducts  HasCrCard  IsActiveMember  \\\n",
       "0     2.0       0.00              1          1               1   \n",
       "1     1.0   83807.86              1          0               1   \n",
       "2     8.0  159660.80              3          1               0   \n",
       "3     1.0       0.00              2          0               0   \n",
       "4     2.0  125510.82              1          1               1   \n",
       "\n",
       "   EstimatedSalary  Exited  \n",
       "0        101348.88       1  \n",
       "1        112542.58       0  \n",
       "2        113931.57       1  \n",
       "3         93826.63       0  \n",
       "4         79084.10       0  "
      ]
     },
     "metadata": {},
     "output_type": "display_data"
    }
   ],
   "source": [
    "import pandas as pd\n",
    "\n",
    "from sklearn.metrics import mean_squared_error\n",
    "from sklearn.tree import DecisionTreeClassifier\n",
    "from sklearn.ensemble import RandomForestClassifier\n",
    "from sklearn.model_selection import train_test_split\n",
    "from sklearn.metrics import accuracy_score\n",
    "from sklearn.dummy import DummyClassifier\n",
    "from sklearn.metrics import accuracy_score, f1_score, roc_auc_score\n",
    "from sklearn.utils import shuffle\n",
    "from sklearn.preprocessing import StandardScaler\n",
    "\n",
    "df = pd.read_csv('/datasets/Churn.csv')\n",
    "\n",
    "print(df.info())\n",
    "display(df.head())"
   ]
  },
  {
   "cell_type": "markdown",
   "metadata": {},
   "source": [
    "Let's delete objects with an empty value in the Tenure column"
   ]
  },
  {
   "cell_type": "code",
   "execution_count": 2,
   "metadata": {},
   "outputs": [],
   "source": [
    "df = df.query('Tenure.isna() == False')"
   ]
  },
  {
   "cell_type": "markdown",
   "metadata": {},
   "source": [
    "Let's change data types"
   ]
  },
  {
   "cell_type": "code",
   "execution_count": 3,
   "metadata": {},
   "outputs": [],
   "source": [
    "df.Tenure = df.Tenure.astype(int)"
   ]
  },
  {
   "cell_type": "markdown",
   "metadata": {},
   "source": [
    "We delete the columns RowNumber, CustomerId, Surname. They won't be useful"
   ]
  },
  {
   "cell_type": "code",
   "execution_count": 4,
   "metadata": {},
   "outputs": [],
   "source": [
    "df = df.drop(['RowNumber', 'CustomerId', 'Surname'], axis=1)"
   ]
  },
  {
   "cell_type": "code",
   "execution_count": 5,
   "metadata": {
    "scrolled": false
   },
   "outputs": [
    {
     "data": {
      "text/html": [
       "<div>\n",
       "<style scoped>\n",
       "    .dataframe tbody tr th:only-of-type {\n",
       "        vertical-align: middle;\n",
       "    }\n",
       "\n",
       "    .dataframe tbody tr th {\n",
       "        vertical-align: top;\n",
       "    }\n",
       "\n",
       "    .dataframe thead th {\n",
       "        text-align: right;\n",
       "    }\n",
       "</style>\n",
       "<table border=\"1\" class=\"dataframe\">\n",
       "  <thead>\n",
       "    <tr style=\"text-align: right;\">\n",
       "      <th></th>\n",
       "      <th>CreditScore</th>\n",
       "      <th>Geography</th>\n",
       "      <th>Gender</th>\n",
       "      <th>Age</th>\n",
       "      <th>Tenure</th>\n",
       "      <th>Balance</th>\n",
       "      <th>NumOfProducts</th>\n",
       "      <th>HasCrCard</th>\n",
       "      <th>IsActiveMember</th>\n",
       "      <th>EstimatedSalary</th>\n",
       "      <th>Exited</th>\n",
       "    </tr>\n",
       "  </thead>\n",
       "  <tbody>\n",
       "    <tr>\n",
       "      <td>0</td>\n",
       "      <td>619</td>\n",
       "      <td>France</td>\n",
       "      <td>Female</td>\n",
       "      <td>42</td>\n",
       "      <td>2</td>\n",
       "      <td>0.00</td>\n",
       "      <td>1</td>\n",
       "      <td>1</td>\n",
       "      <td>1</td>\n",
       "      <td>101348.88</td>\n",
       "      <td>1</td>\n",
       "    </tr>\n",
       "    <tr>\n",
       "      <td>1</td>\n",
       "      <td>608</td>\n",
       "      <td>Spain</td>\n",
       "      <td>Female</td>\n",
       "      <td>41</td>\n",
       "      <td>1</td>\n",
       "      <td>83807.86</td>\n",
       "      <td>1</td>\n",
       "      <td>0</td>\n",
       "      <td>1</td>\n",
       "      <td>112542.58</td>\n",
       "      <td>0</td>\n",
       "    </tr>\n",
       "    <tr>\n",
       "      <td>2</td>\n",
       "      <td>502</td>\n",
       "      <td>France</td>\n",
       "      <td>Female</td>\n",
       "      <td>42</td>\n",
       "      <td>8</td>\n",
       "      <td>159660.80</td>\n",
       "      <td>3</td>\n",
       "      <td>1</td>\n",
       "      <td>0</td>\n",
       "      <td>113931.57</td>\n",
       "      <td>1</td>\n",
       "    </tr>\n",
       "    <tr>\n",
       "      <td>3</td>\n",
       "      <td>699</td>\n",
       "      <td>France</td>\n",
       "      <td>Female</td>\n",
       "      <td>39</td>\n",
       "      <td>1</td>\n",
       "      <td>0.00</td>\n",
       "      <td>2</td>\n",
       "      <td>0</td>\n",
       "      <td>0</td>\n",
       "      <td>93826.63</td>\n",
       "      <td>0</td>\n",
       "    </tr>\n",
       "    <tr>\n",
       "      <td>4</td>\n",
       "      <td>850</td>\n",
       "      <td>Spain</td>\n",
       "      <td>Female</td>\n",
       "      <td>43</td>\n",
       "      <td>2</td>\n",
       "      <td>125510.82</td>\n",
       "      <td>1</td>\n",
       "      <td>1</td>\n",
       "      <td>1</td>\n",
       "      <td>79084.10</td>\n",
       "      <td>0</td>\n",
       "    </tr>\n",
       "  </tbody>\n",
       "</table>\n",
       "</div>"
      ],
      "text/plain": [
       "   CreditScore Geography  Gender  Age  Tenure    Balance  NumOfProducts  \\\n",
       "0          619    France  Female   42       2       0.00              1   \n",
       "1          608     Spain  Female   41       1   83807.86              1   \n",
       "2          502    France  Female   42       8  159660.80              3   \n",
       "3          699    France  Female   39       1       0.00              2   \n",
       "4          850     Spain  Female   43       2  125510.82              1   \n",
       "\n",
       "   HasCrCard  IsActiveMember  EstimatedSalary  Exited  \n",
       "0          1               1        101348.88       1  \n",
       "1          0               1        112542.58       0  \n",
       "2          1               0        113931.57       1  \n",
       "3          0               0         93826.63       0  \n",
       "4          1               1         79084.10       0  "
      ]
     },
     "execution_count": 5,
     "metadata": {},
     "output_type": "execute_result"
    }
   ],
   "source": [
    "df.head()"
   ]
  },
  {
   "cell_type": "markdown",
   "metadata": {},
   "source": [
    "Let's split the columns using the get_dummies() function"
   ]
  },
  {
   "cell_type": "code",
   "execution_count": 6,
   "metadata": {},
   "outputs": [],
   "source": [
    "df = pd.get_dummies(df, columns=['Geography', 'Gender'], drop_first=True)"
   ]
  },
  {
   "cell_type": "code",
   "execution_count": 7,
   "metadata": {},
   "outputs": [
    {
     "data": {
      "text/html": [
       "<div>\n",
       "<style scoped>\n",
       "    .dataframe tbody tr th:only-of-type {\n",
       "        vertical-align: middle;\n",
       "    }\n",
       "\n",
       "    .dataframe tbody tr th {\n",
       "        vertical-align: top;\n",
       "    }\n",
       "\n",
       "    .dataframe thead th {\n",
       "        text-align: right;\n",
       "    }\n",
       "</style>\n",
       "<table border=\"1\" class=\"dataframe\">\n",
       "  <thead>\n",
       "    <tr style=\"text-align: right;\">\n",
       "      <th></th>\n",
       "      <th>CreditScore</th>\n",
       "      <th>Age</th>\n",
       "      <th>Tenure</th>\n",
       "      <th>Balance</th>\n",
       "      <th>NumOfProducts</th>\n",
       "      <th>HasCrCard</th>\n",
       "      <th>IsActiveMember</th>\n",
       "      <th>EstimatedSalary</th>\n",
       "      <th>Exited</th>\n",
       "      <th>Geography_Germany</th>\n",
       "      <th>Geography_Spain</th>\n",
       "      <th>Gender_Male</th>\n",
       "    </tr>\n",
       "  </thead>\n",
       "  <tbody>\n",
       "    <tr>\n",
       "      <td>0</td>\n",
       "      <td>619</td>\n",
       "      <td>42</td>\n",
       "      <td>2</td>\n",
       "      <td>0.00</td>\n",
       "      <td>1</td>\n",
       "      <td>1</td>\n",
       "      <td>1</td>\n",
       "      <td>101348.88</td>\n",
       "      <td>1</td>\n",
       "      <td>0</td>\n",
       "      <td>0</td>\n",
       "      <td>0</td>\n",
       "    </tr>\n",
       "    <tr>\n",
       "      <td>1</td>\n",
       "      <td>608</td>\n",
       "      <td>41</td>\n",
       "      <td>1</td>\n",
       "      <td>83807.86</td>\n",
       "      <td>1</td>\n",
       "      <td>0</td>\n",
       "      <td>1</td>\n",
       "      <td>112542.58</td>\n",
       "      <td>0</td>\n",
       "      <td>0</td>\n",
       "      <td>1</td>\n",
       "      <td>0</td>\n",
       "    </tr>\n",
       "    <tr>\n",
       "      <td>2</td>\n",
       "      <td>502</td>\n",
       "      <td>42</td>\n",
       "      <td>8</td>\n",
       "      <td>159660.80</td>\n",
       "      <td>3</td>\n",
       "      <td>1</td>\n",
       "      <td>0</td>\n",
       "      <td>113931.57</td>\n",
       "      <td>1</td>\n",
       "      <td>0</td>\n",
       "      <td>0</td>\n",
       "      <td>0</td>\n",
       "    </tr>\n",
       "    <tr>\n",
       "      <td>3</td>\n",
       "      <td>699</td>\n",
       "      <td>39</td>\n",
       "      <td>1</td>\n",
       "      <td>0.00</td>\n",
       "      <td>2</td>\n",
       "      <td>0</td>\n",
       "      <td>0</td>\n",
       "      <td>93826.63</td>\n",
       "      <td>0</td>\n",
       "      <td>0</td>\n",
       "      <td>0</td>\n",
       "      <td>0</td>\n",
       "    </tr>\n",
       "    <tr>\n",
       "      <td>4</td>\n",
       "      <td>850</td>\n",
       "      <td>43</td>\n",
       "      <td>2</td>\n",
       "      <td>125510.82</td>\n",
       "      <td>1</td>\n",
       "      <td>1</td>\n",
       "      <td>1</td>\n",
       "      <td>79084.10</td>\n",
       "      <td>0</td>\n",
       "      <td>0</td>\n",
       "      <td>1</td>\n",
       "      <td>0</td>\n",
       "    </tr>\n",
       "  </tbody>\n",
       "</table>\n",
       "</div>"
      ],
      "text/plain": [
       "   CreditScore  Age  Tenure    Balance  NumOfProducts  HasCrCard  \\\n",
       "0          619   42       2       0.00              1          1   \n",
       "1          608   41       1   83807.86              1          0   \n",
       "2          502   42       8  159660.80              3          1   \n",
       "3          699   39       1       0.00              2          0   \n",
       "4          850   43       2  125510.82              1          1   \n",
       "\n",
       "   IsActiveMember  EstimatedSalary  Exited  Geography_Germany  \\\n",
       "0               1        101348.88       1                  0   \n",
       "1               1        112542.58       0                  0   \n",
       "2               0        113931.57       1                  0   \n",
       "3               0         93826.63       0                  0   \n",
       "4               1         79084.10       0                  0   \n",
       "\n",
       "   Geography_Spain  Gender_Male  \n",
       "0                0            0  \n",
       "1                1            0  \n",
       "2                0            0  \n",
       "3                0            0  \n",
       "4                1            0  "
      ]
     },
     "metadata": {},
     "output_type": "display_data"
    }
   ],
   "source": [
    "display(df.head())"
   ]
  },
  {
   "cell_type": "markdown",
   "metadata": {},
   "source": [
    "<b>Output</b>\n",
    "\n",
    "- Worked out the gaps\n",
    "- Changed the data type\n",
    "- Split the data using the OHE method\n",
    "- Also removed columns that will not be needed in the future to build the model"
   ]
  },
  {
   "cell_type": "markdown",
   "metadata": {},
   "source": [
    "## Problem research"
   ]
  },
  {
   "cell_type": "markdown",
   "metadata": {},
   "source": [
    "Let's look at the ratio of target indicators"
   ]
  },
  {
   "cell_type": "code",
   "execution_count": 8,
   "metadata": {},
   "outputs": [
    {
     "data": {
      "text/plain": [
       "0    0.796062\n",
       "1    0.203938\n",
       "Name: Exited, dtype: float64"
      ]
     },
     "execution_count": 8,
     "metadata": {},
     "output_type": "execute_result"
    }
   ],
   "source": [
    "df.Exited.value_counts(normalize=True)"
   ]
  },
  {
   "cell_type": "markdown",
   "metadata": {},
   "source": [
    "There is a bias towards 0. Approximate ratio 4:1"
   ]
  },
  {
   "cell_type": "markdown",
   "metadata": {},
   "source": [
    "Let's analyze the data into samples"
   ]
  },
  {
   "cell_type": "code",
   "execution_count": 9,
   "metadata": {},
   "outputs": [],
   "source": [
    "df_features = df.drop(['Exited'], axis=1) # признаки\n",
    "df_target = df['Exited'] # цель"
   ]
  },
  {
   "cell_type": "markdown",
   "metadata": {},
   "source": [
    "We divide it into samples (training and validation)"
   ]
  },
  {
   "cell_type": "code",
   "execution_count": 10,
   "metadata": {},
   "outputs": [],
   "source": [
    "features_train, features_test_valid, \\\n",
    "target_train, target_test_valid = train_test_split(df_features, df_target, \\\n",
    "    test_size=0.4, random_state=12345)"
   ]
  },
  {
   "cell_type": "markdown",
   "metadata": {},
   "source": [
    "Let's give half of the validation sample to the test sample"
   ]
  },
  {
   "cell_type": "code",
   "execution_count": 11,
   "metadata": {},
   "outputs": [],
   "source": [
    "features_test, features_valid, target_test, target_valid = train_test_split(features_test_valid, target_test_valid,\\\n",
    "    test_size=0.5,\n",
    "    random_state=12345)"
   ]
  },
  {
   "cell_type": "markdown",
   "metadata": {},
   "source": [
    "Let's look at the number of objects in each sample"
   ]
  },
  {
   "cell_type": "code",
   "execution_count": 12,
   "metadata": {},
   "outputs": [
    {
     "name": "stdout",
     "output_type": "stream",
     "text": [
      "Размеры выборок\n",
      "(9091,) - генеральная выборка\n",
      "(5454,) - обучающая выборка\n",
      "(1818,) - тестовая выборка\n",
      "(1819,) - валидационная выборка\n"
     ]
    }
   ],
   "source": [
    "print('Размеры выборок')\n",
    "print(df_target.shape, '- генеральная выборка')\n",
    "print(target_train.shape, '- обучающая выборка')\n",
    "print(target_test.shape, '- тестовая выборка')\n",
    "print(target_valid.shape, '- валидационная выборка')"
   ]
  },
  {
   "cell_type": "markdown",
   "metadata": {},
   "source": [
    "The signs contain different scales. We standardize them using the StandardScaler method"
   ]
  },
  {
   "cell_type": "code",
   "execution_count": 13,
   "metadata": {},
   "outputs": [
    {
     "name": "stderr",
     "output_type": "stream",
     "text": [
      "/opt/conda/lib/python3.7/site-packages/ipykernel_launcher.py:6: SettingWithCopyWarning: \n",
      "A value is trying to be set on a copy of a slice from a DataFrame.\n",
      "Try using .loc[row_indexer,col_indexer] = value instead\n",
      "\n",
      "See the caveats in the documentation: http://pandas.pydata.org/pandas-docs/stable/user_guide/indexing.html#returning-a-view-versus-a-copy\n",
      "  \n",
      "/opt/conda/lib/python3.7/site-packages/pandas/core/indexing.py:494: SettingWithCopyWarning: \n",
      "A value is trying to be set on a copy of a slice from a DataFrame.\n",
      "Try using .loc[row_indexer,col_indexer] = value instead\n",
      "\n",
      "See the caveats in the documentation: http://pandas.pydata.org/pandas-docs/stable/user_guide/indexing.html#returning-a-view-versus-a-copy\n",
      "  self.obj[item] = s\n",
      "/opt/conda/lib/python3.7/site-packages/ipykernel_launcher.py:7: SettingWithCopyWarning: \n",
      "A value is trying to be set on a copy of a slice from a DataFrame.\n",
      "Try using .loc[row_indexer,col_indexer] = value instead\n",
      "\n",
      "See the caveats in the documentation: http://pandas.pydata.org/pandas-docs/stable/user_guide/indexing.html#returning-a-view-versus-a-copy\n",
      "  import sys\n",
      "/opt/conda/lib/python3.7/site-packages/pandas/core/indexing.py:494: SettingWithCopyWarning: \n",
      "A value is trying to be set on a copy of a slice from a DataFrame.\n",
      "Try using .loc[row_indexer,col_indexer] = value instead\n",
      "\n",
      "See the caveats in the documentation: http://pandas.pydata.org/pandas-docs/stable/user_guide/indexing.html#returning-a-view-versus-a-copy\n",
      "  self.obj[item] = s\n",
      "/opt/conda/lib/python3.7/site-packages/ipykernel_launcher.py:8: SettingWithCopyWarning: \n",
      "A value is trying to be set on a copy of a slice from a DataFrame.\n",
      "Try using .loc[row_indexer,col_indexer] = value instead\n",
      "\n",
      "See the caveats in the documentation: http://pandas.pydata.org/pandas-docs/stable/user_guide/indexing.html#returning-a-view-versus-a-copy\n",
      "  \n",
      "/opt/conda/lib/python3.7/site-packages/pandas/core/indexing.py:494: SettingWithCopyWarning: \n",
      "A value is trying to be set on a copy of a slice from a DataFrame.\n",
      "Try using .loc[row_indexer,col_indexer] = value instead\n",
      "\n",
      "See the caveats in the documentation: http://pandas.pydata.org/pandas-docs/stable/user_guide/indexing.html#returning-a-view-versus-a-copy\n",
      "  self.obj[item] = s\n"
     ]
    },
    {
     "data": {
      "text/html": [
       "<div>\n",
       "<style scoped>\n",
       "    .dataframe tbody tr th:only-of-type {\n",
       "        vertical-align: middle;\n",
       "    }\n",
       "\n",
       "    .dataframe tbody tr th {\n",
       "        vertical-align: top;\n",
       "    }\n",
       "\n",
       "    .dataframe thead th {\n",
       "        text-align: right;\n",
       "    }\n",
       "</style>\n",
       "<table border=\"1\" class=\"dataframe\">\n",
       "  <thead>\n",
       "    <tr style=\"text-align: right;\">\n",
       "      <th></th>\n",
       "      <th>CreditScore</th>\n",
       "      <th>Age</th>\n",
       "      <th>Tenure</th>\n",
       "      <th>Balance</th>\n",
       "      <th>NumOfProducts</th>\n",
       "      <th>HasCrCard</th>\n",
       "      <th>IsActiveMember</th>\n",
       "      <th>EstimatedSalary</th>\n",
       "      <th>Geography_Germany</th>\n",
       "      <th>Geography_Spain</th>\n",
       "      <th>Gender_Male</th>\n",
       "    </tr>\n",
       "  </thead>\n",
       "  <tbody>\n",
       "    <tr>\n",
       "      <td>9344</td>\n",
       "      <td>0.809075</td>\n",
       "      <td>-1.039327</td>\n",
       "      <td>-1.025995</td>\n",
       "      <td>0.554904</td>\n",
       "      <td>1</td>\n",
       "      <td>1</td>\n",
       "      <td>0</td>\n",
       "      <td>0.019508</td>\n",
       "      <td>0</td>\n",
       "      <td>0</td>\n",
       "      <td>0</td>\n",
       "    </tr>\n",
       "    <tr>\n",
       "      <td>3796</td>\n",
       "      <td>-1.152518</td>\n",
       "      <td>-1.227561</td>\n",
       "      <td>0.696524</td>\n",
       "      <td>0.480609</td>\n",
       "      <td>1</td>\n",
       "      <td>0</td>\n",
       "      <td>0</td>\n",
       "      <td>0.056167</td>\n",
       "      <td>0</td>\n",
       "      <td>0</td>\n",
       "      <td>1</td>\n",
       "    </tr>\n",
       "    <tr>\n",
       "      <td>7462</td>\n",
       "      <td>-0.398853</td>\n",
       "      <td>0.090079</td>\n",
       "      <td>1.385532</td>\n",
       "      <td>-1.237830</td>\n",
       "      <td>1</td>\n",
       "      <td>1</td>\n",
       "      <td>1</td>\n",
       "      <td>0.848738</td>\n",
       "      <td>0</td>\n",
       "      <td>0</td>\n",
       "      <td>1</td>\n",
       "    </tr>\n",
       "    <tr>\n",
       "      <td>1508</td>\n",
       "      <td>-0.749875</td>\n",
       "      <td>-0.286389</td>\n",
       "      <td>0.352020</td>\n",
       "      <td>-1.237830</td>\n",
       "      <td>2</td>\n",
       "      <td>1</td>\n",
       "      <td>1</td>\n",
       "      <td>-0.894953</td>\n",
       "      <td>0</td>\n",
       "      <td>0</td>\n",
       "      <td>1</td>\n",
       "    </tr>\n",
       "    <tr>\n",
       "      <td>4478</td>\n",
       "      <td>-1.028628</td>\n",
       "      <td>-0.756975</td>\n",
       "      <td>-0.336987</td>\n",
       "      <td>-1.237830</td>\n",
       "      <td>2</td>\n",
       "      <td>0</td>\n",
       "      <td>1</td>\n",
       "      <td>-1.284516</td>\n",
       "      <td>0</td>\n",
       "      <td>0</td>\n",
       "      <td>1</td>\n",
       "    </tr>\n",
       "  </tbody>\n",
       "</table>\n",
       "</div>"
      ],
      "text/plain": [
       "      CreditScore       Age    Tenure   Balance  NumOfProducts  HasCrCard  \\\n",
       "9344     0.809075 -1.039327 -1.025995  0.554904              1          1   \n",
       "3796    -1.152518 -1.227561  0.696524  0.480609              1          0   \n",
       "7462    -0.398853  0.090079  1.385532 -1.237830              1          1   \n",
       "1508    -0.749875 -0.286389  0.352020 -1.237830              2          1   \n",
       "4478    -1.028628 -0.756975 -0.336987 -1.237830              2          0   \n",
       "\n",
       "      IsActiveMember  EstimatedSalary  Geography_Germany  Geography_Spain  \\\n",
       "9344               0         0.019508                  0                0   \n",
       "3796               0         0.056167                  0                0   \n",
       "7462               1         0.848738                  0                0   \n",
       "1508               1        -0.894953                  0                0   \n",
       "4478               1        -1.284516                  0                0   \n",
       "\n",
       "      Gender_Male  \n",
       "9344            0  \n",
       "3796            1  \n",
       "7462            1  \n",
       "1508            1  \n",
       "4478            1  "
      ]
     },
     "metadata": {},
     "output_type": "display_data"
    }
   ],
   "source": [
    "numeric = ['CreditScore', 'Age', 'Tenure', 'Balance', 'EstimatedSalary']\n",
    "\n",
    "scaler = StandardScaler()\n",
    "scaler.fit(features_train[numeric])\n",
    "\n",
    "features_train[numeric] = scaler.transform(features_train[numeric])\n",
    "features_valid[numeric] = scaler.transform(features_valid[numeric])\n",
    "features_test[numeric] = scaler.transform(features_test[numeric])\n",
    "\n",
    "pd.options.mode.chained_assignment = None\n",
    "\n",
    "display(features_train.head())"
   ]
  },
  {
   "cell_type": "markdown",
   "metadata": {},
   "source": [
    "Let's find the best hyperparameters for our decision tree model"
   ]
  },
  {
   "cell_type": "code",
   "execution_count": 14,
   "metadata": {
    "scrolled": true
   },
   "outputs": [
    {
     "name": "stdout",
     "output_type": "stream",
     "text": [
      "Глубина 2\n",
      "Критерий gini\n",
      "f1 0.509274873524452\n",
      "auc_roc 0.7404758300534868\n",
      "********************\n",
      "Глубина 2\n",
      "Критерий entropy\n",
      "f1 0.5072697899838449\n",
      "auc_roc 0.7410978364656838\n",
      "********************\n",
      "Глубина 3\n",
      "Критерий gini\n",
      "f1 0.41290322580645167\n",
      "auc_roc 0.8032004704348029\n",
      "********************\n",
      "Глубина 3\n",
      "Критерий entropy\n",
      "f1 0.4127659574468085\n",
      "auc_roc 0.7982176265555013\n",
      "********************\n",
      "Глубина 4\n",
      "Критерий gini\n",
      "f1 0.5261261261261261\n",
      "auc_roc 0.8231803643928984\n",
      "********************\n",
      "Глубина 4\n",
      "Критерий entropy\n",
      "f1 0.5231316725978647\n",
      "auc_roc 0.8234307195478856\n",
      "********************\n",
      "Глубина 5\n",
      "Критерий gini\n",
      "f1 0.48192771084337344\n",
      "auc_roc 0.8270928914661885\n",
      "********************\n",
      "Глубина 5\n",
      "Критерий entropy\n",
      "f1 0.48412698412698413\n",
      "auc_roc 0.8397736711769409\n",
      "********************\n",
      "Глубина 6\n",
      "Критерий gini\n",
      "f1 0.5284403669724772\n",
      "auc_roc 0.8321931499724416\n",
      "********************\n",
      "Глубина 6\n",
      "Критерий entropy\n",
      "f1 0.5350089766606821\n",
      "auc_roc 0.8301049162765783\n",
      "********************\n",
      "Глубина 7\n",
      "Критерий gini\n",
      "f1 0.5534804753820034\n",
      "auc_roc 0.8280166825807154\n",
      "********************\n",
      "Глубина 7\n",
      "Критерий entropy\n",
      "f1 0.5362563237774031\n",
      "auc_roc 0.8263059223549687\n",
      "********************\n",
      "Глубина 8\n",
      "Критерий gini\n",
      "f1 0.5\n",
      "auc_roc 0.7986562332611379\n",
      "********************\n",
      "Глубина 8\n",
      "Критерий entropy\n",
      "f1 0.5263157894736843\n",
      "auc_roc 0.8208204274280568\n",
      "********************\n",
      "Глубина 9\n",
      "Критерий gini\n",
      "f1 0.5202702702702702\n",
      "auc_roc 0.7932668048471864\n",
      "********************\n",
      "Глубина 9\n",
      "Критерий entropy\n",
      "f1 0.5257903494176372\n",
      "auc_roc 0.805403207651164\n",
      "********************\n",
      "Глубина 10\n",
      "Критерий gini\n",
      "f1 0.5203252032520326\n",
      "auc_roc 0.7701827010410117\n",
      "********************\n",
      "Глубина 10\n",
      "Критерий entropy\n",
      "f1 0.5129870129870129\n",
      "auc_roc 0.7738351692711365\n",
      "********************\n",
      "Лучшая модель с глубиной - 7 , с критерием - gini\n",
      "f1 -  0.5534804753820034\n",
      "auc_roc -  0.8397736711769409\n"
     ]
    }
   ],
   "source": [
    "f1_best = 0\n",
    "max_depth_best = 1\n",
    "auc_roc_best = 0\n",
    "caracter_best = []\n",
    "\n",
    "for max_depth_i in range(2, 11):\n",
    "    for caracter_i in ['gini', 'entropy']:\n",
    "        model = DecisionTreeClassifier(random_state=12345, max_depth=max_depth_i, criterion=caracter_i)\n",
    "        model.fit(features_train, target_train)\n",
    "        prediction = model.predict(features_valid)\n",
    "        f1 = f1_score(target_valid, prediction)\n",
    "        if f1  > f1_best:\n",
    "            f1_best = f1\n",
    "            max_depth_best = max_depth_i\n",
    "            caracter_best = caracter_i\n",
    "        \n",
    "        probabilities_valid = model.predict_proba(features_valid)\n",
    "        probabilities_one_valid = probabilities_valid[:, 1]\n",
    "        roc_auc = roc_auc_score(target_valid, probabilities_one_valid)\n",
    "        if roc_auc > auc_roc_best:\n",
    "            auc_roc_best = roc_auc\n",
    "            \n",
    "        print('Глубина', max_depth_i)\n",
    "        print('Критерий', caracter_i)\n",
    "        print('f1', f1)\n",
    "        print('auc_roc', roc_auc)\n",
    "        print('*' * 20)\n",
    "        \n",
    "print('Лучшая модель с глубиной -', max_depth_best, ', с критерием -', caracter_best)\n",
    "print('f1 - ', f1_best)\n",
    "print('auc_roc - ', auc_roc_best)"
   ]
  },
  {
   "cell_type": "markdown",
   "metadata": {},
   "source": [
    "Let's find the best parameters for Random Forest"
   ]
  },
  {
   "cell_type": "code",
   "execution_count": 15,
   "metadata": {
    "scrolled": true
   },
   "outputs": [
    {
     "name": "stdout",
     "output_type": "stream",
     "text": [
      "Глубина 2\n",
      "n_estimators 10\n",
      "f1 0.20408163265306126\n",
      "auc_roc 0.8020544648610045\n",
      "********************\n",
      "Глубина 2\n",
      "n_estimators 20\n",
      "f1 0.17142857142857143\n",
      "auc_roc 0.802281531164365\n",
      "********************\n",
      "Глубина 2\n",
      "n_estimators 30\n",
      "f1 0.11290322580645161\n",
      "auc_roc 0.8069509459155236\n",
      "********************\n",
      "Глубина 2\n",
      "n_estimators 40\n",
      "f1 0.15748031496062995\n",
      "auc_roc 0.8210174122980664\n",
      "********************\n",
      "Глубина 2\n",
      "n_estimators 50\n",
      "f1 0.1671018276762402\n",
      "auc_roc 0.8170117298182693\n",
      "********************\n",
      "Глубина 2\n",
      "n_estimators 60\n",
      "f1 0.13793103448275862\n",
      "auc_roc 0.8159792573961511\n",
      "********************\n",
      "Глубина 2\n",
      "n_estimators 70\n",
      "f1 0.13297872340425532\n",
      "auc_roc 0.8170350186698961\n",
      "********************\n",
      "Глубина 2\n",
      "n_estimators 80\n",
      "f1 0.13793103448275862\n",
      "auc_roc 0.820135347042704\n",
      "********************\n",
      "Глубина 2\n",
      "n_estimators 90\n",
      "f1 0.12299465240641712\n",
      "auc_roc 0.8230940015681161\n",
      "********************\n",
      "Глубина 2\n",
      "n_estimators 100\n",
      "f1 0.13793103448275862\n",
      "auc_roc 0.8230115202186046\n",
      "********************\n",
      "Глубина 3\n",
      "n_estimators 10\n",
      "f1 0.23115577889447234\n",
      "auc_roc 0.818647771645047\n",
      "********************\n",
      "Глубина 3\n",
      "n_estimators 20\n",
      "f1 0.19999999999999998\n",
      "auc_roc 0.8227582539571641\n",
      "********************\n",
      "Глубина 3\n",
      "n_estimators 30\n",
      "f1 0.20460358056265987\n",
      "auc_roc 0.8230969126745693\n",
      "********************\n",
      "Глубина 3\n",
      "n_estimators 40\n",
      "f1 0.20918367346938777\n",
      "auc_roc 0.8361959213457851\n",
      "********************\n",
      "Глубина 3\n",
      "n_estimators 50\n",
      "f1 0.20918367346938777\n",
      "auc_roc 0.8333246000139733\n",
      "********************\n",
      "Глубина 3\n",
      "n_estimators 60\n",
      "f1 0.2182741116751269\n",
      "auc_roc 0.834071784003664\n",
      "********************\n",
      "Глубина 3\n",
      "n_estimators 70\n",
      "f1 0.19999999999999998\n",
      "auc_roc 0.8336710216819209\n",
      "********************\n",
      "Глубина 3\n",
      "n_estimators 80\n",
      "f1 0.20918367346938777\n",
      "auc_roc 0.8328830822018833\n",
      "********************\n",
      "Глубина 3\n",
      "n_estimators 90\n",
      "f1 0.21374045801526717\n",
      "auc_roc 0.8342153985886955\n",
      "********************\n",
      "Глубина 3\n",
      "n_estimators 100\n",
      "f1 0.2227848101265823\n",
      "auc_roc 0.8344570204243229\n",
      "********************\n",
      "Глубина 4\n",
      "n_estimators 10\n",
      "f1 0.44258872651356984\n",
      "auc_roc 0.8303465381122057\n",
      "********************\n",
      "Глубина 4\n",
      "n_estimators 20\n",
      "f1 0.34403669724770647\n",
      "auc_roc 0.8378319631725626\n",
      "********************\n",
      "Глубина 4\n",
      "n_estimators 30\n",
      "f1 0.34022988505747126\n",
      "auc_roc 0.8402850555439112\n",
      "********************\n",
      "Глубина 4\n",
      "n_estimators 40\n",
      "f1 0.34403669724770647\n",
      "auc_roc 0.8443014120807036\n",
      "********************\n",
      "Глубина 4\n",
      "n_estimators 50\n",
      "f1 0.3448275862068965\n",
      "auc_roc 0.8444770488367219\n",
      "********************\n",
      "Глубина 4\n",
      "n_estimators 60\n",
      "f1 0.34101382488479265\n",
      "auc_roc 0.8456832172772226\n",
      "********************\n",
      "Глубина 4\n",
      "n_estimators 70\n",
      "f1 0.3333333333333333\n",
      "auc_roc 0.8448186186605805\n",
      "********************\n",
      "Глубина 4\n",
      "n_estimators 80\n",
      "f1 0.3371824480369515\n",
      "auc_roc 0.843986042214925\n",
      "********************\n",
      "Глубина 4\n",
      "n_estimators 90\n",
      "f1 0.3371824480369515\n",
      "auc_roc 0.8437395685352089\n",
      "********************\n",
      "Глубина 4\n",
      "n_estimators 100\n",
      "f1 0.3333333333333333\n",
      "auc_roc 0.8442936491301614\n",
      "********************\n",
      "Глубина 5\n",
      "n_estimators 10\n",
      "f1 0.467479674796748\n",
      "auc_roc 0.8475657327837164\n",
      "********************\n",
      "Глубина 5\n",
      "n_estimators 20\n",
      "f1 0.4536082474226804\n",
      "auc_roc 0.8476986733117523\n",
      "********************\n",
      "Глубина 5\n",
      "n_estimators 30\n",
      "f1 0.4421052631578947\n",
      "auc_roc 0.8461878090624685\n",
      "********************\n",
      "Глубина 5\n",
      "n_estimators 40\n",
      "f1 0.4288747346072187\n",
      "auc_roc 0.8494948259934635\n",
      "********************\n",
      "Глубина 5\n",
      "n_estimators 50\n",
      "f1 0.43312101910828027\n",
      "auc_roc 0.8505389428413952\n",
      "********************\n",
      "Глубина 5\n",
      "n_estimators 60\n",
      "f1 0.4444444444444444\n",
      "auc_roc 0.8507136092285956\n",
      "********************\n",
      "Глубина 5\n",
      "n_estimators 70\n",
      "f1 0.44906444906444914\n",
      "auc_roc 0.852517524860849\n",
      "********************\n",
      "Глубина 5\n",
      "n_estimators 80\n",
      "f1 0.4522821576763486\n",
      "auc_roc 0.8529891241062902\n",
      "********************\n",
      "Глубина 5\n",
      "n_estimators 90\n",
      "f1 0.44583333333333336\n",
      "auc_roc 0.8532627681129044\n",
      "********************\n",
      "Глубина 5\n",
      "n_estimators 100\n",
      "f1 0.44676409185803756\n",
      "auc_roc 0.8532724718010822\n",
      "********************\n",
      "Глубина 6\n",
      "n_estimators 10\n",
      "f1 0.51252408477842\n",
      "auc_roc 0.8457530838321028\n",
      "********************\n",
      "Глубина 6\n",
      "n_estimators 20\n",
      "f1 0.5202312138728324\n",
      "auc_roc 0.849091152565267\n",
      "********************\n",
      "Глубина 6\n",
      "n_estimators 30\n",
      "f1 0.5185185185185185\n",
      "auc_roc 0.8538682782551992\n",
      "********************\n",
      "Глубина 6\n",
      "n_estimators 40\n",
      "f1 0.5146198830409356\n",
      "auc_roc 0.8560545192016581\n",
      "********************\n",
      "Глубина 6\n",
      "n_estimators 50\n",
      "f1 0.5108055009823183\n",
      "auc_roc 0.8583242118664463\n",
      "********************\n",
      "Глубина 6\n",
      "n_estimators 60\n",
      "f1 0.506876227897839\n",
      "auc_roc 0.8577711016403113\n",
      "********************\n",
      "Глубина 6\n",
      "n_estimators 70\n",
      "f1 0.5108055009823183\n",
      "auc_roc 0.8570685546162384\n",
      "********************\n",
      "Глубина 6\n",
      "n_estimators 80\n",
      "f1 0.5108055009823183\n",
      "auc_roc 0.8570957249431365\n",
      "********************\n",
      "Глубина 6\n",
      "n_estimators 90\n",
      "f1 0.5078740157480315\n",
      "auc_roc 0.8577478127886846\n",
      "********************\n",
      "Глубина 6\n",
      "n_estimators 100\n",
      "f1 0.512720156555773\n",
      "auc_roc 0.8588210407011498\n",
      "********************\n",
      "Глубина 7\n",
      "n_estimators 10\n",
      "f1 0.5252918287937743\n",
      "auc_roc 0.8488398270414619\n",
      "********************\n",
      "Глубина 7\n",
      "n_estimators 20\n",
      "f1 0.5303030303030303\n",
      "auc_roc 0.8553393573829542\n",
      "********************\n",
      "Глубина 7\n",
      "n_estimators 30\n",
      "f1 0.5353728489483748\n",
      "auc_roc 0.8576468944316356\n",
      "********************\n",
      "Глубина 7\n",
      "n_estimators 40\n",
      "f1 0.5222437137330754\n",
      "auc_roc 0.8584872338278333\n",
      "********************\n",
      "Глубина 7\n",
      "n_estimators 50\n",
      "f1 0.5098039215686274\n",
      "auc_roc 0.8602882383536333\n",
      "********************\n",
      "Глубина 7\n",
      "n_estimators 60\n",
      "f1 0.5224171539961013\n",
      "auc_roc 0.8610606519325866\n",
      "********************\n",
      "Глубина 7\n",
      "n_estimators 70\n",
      "f1 0.5185185185185185\n",
      "auc_roc 0.8616564583867036\n",
      "********************\n",
      "Глубина 7\n",
      "n_estimators 80\n",
      "f1 0.5147347740667977\n",
      "auc_roc 0.8620213170621891\n",
      "********************\n",
      "Глубина 7\n",
      "n_estimators 90\n",
      "f1 0.5157480314960631\n",
      "auc_roc 0.8629936266176048\n",
      "********************\n",
      "Глубина 7\n",
      "n_estimators 100\n",
      "f1 0.5069306930693069\n",
      "auc_roc 0.8635098628286639\n",
      "********************\n",
      "Глубина 8\n",
      "n_estimators 10\n",
      "f1 0.547486033519553\n",
      "auc_roc 0.8458307133375252\n",
      "********************\n",
      "Глубина 8\n",
      "n_estimators 20\n",
      "f1 0.56353591160221\n",
      "auc_roc 0.8527174208373118\n",
      "********************\n",
      "Глубина 8\n",
      "n_estimators 30\n",
      "f1 0.5512104283054003\n",
      "auc_roc 0.8552345575506339\n",
      "********************\n",
      "Глубина 8\n",
      "n_estimators 40\n",
      "f1 0.5555555555555556\n",
      "auc_roc 0.858174775068508\n",
      "********************\n",
      "Глубина 8\n",
      "n_estimators 50\n",
      "f1 0.550561797752809\n",
      "auc_roc 0.8604677565849227\n",
      "********************\n",
      "Глубина 8\n",
      "n_estimators 60\n",
      "f1 0.5532710280373832\n",
      "auc_roc 0.8601640311449577\n",
      "********************\n",
      "Глубина 8\n",
      "n_estimators 70\n",
      "f1 0.5499058380414312\n",
      "auc_roc 0.8624521608172835\n",
      "********************\n",
      "Глубина 8\n",
      "n_estimators 80\n",
      "f1 0.5396226415094338\n",
      "auc_roc 0.8620581910772646\n",
      "********************\n",
      "Глубина 8\n",
      "n_estimators 90\n",
      "f1 0.5423728813559321\n",
      "auc_roc 0.8622949610688031\n",
      "********************\n",
      "Глубина 8\n",
      "n_estimators 100\n",
      "f1 0.5451127819548872\n",
      "auc_roc 0.8617049768275926\n",
      "********************\n",
      "Глубина 9\n",
      "n_estimators 10\n",
      "f1 0.5343228200371057\n",
      "auc_roc 0.8537013748185409\n",
      "********************\n",
      "Глубина 9\n",
      "n_estimators 20\n",
      "f1 0.5353159851301116\n",
      "auc_roc 0.8548405878106152\n",
      "********************\n",
      "Глубина 9\n",
      "n_estimators 30\n",
      "f1 0.5471349353049908\n",
      "auc_roc 0.8577866275413959\n",
      "********************\n",
      "Глубина 9\n",
      "n_estimators 40\n",
      "f1 0.5539033457249071\n",
      "auc_roc 0.8600437054115528\n",
      "********************\n",
      "Глубина 9\n",
      "n_estimators 50\n",
      "f1 0.5430711610486891\n",
      "auc_roc 0.8604958972806385\n",
      "********************\n",
      "Глубина 9\n",
      "n_estimators 60\n",
      "f1 0.547486033519553\n",
      "auc_roc 0.8615419548662056\n",
      "********************\n",
      "Глубина 9\n",
      "n_estimators 70\n",
      "f1 0.5576208178438662\n",
      "auc_roc 0.862537553273248\n",
      "********************\n",
      "Глубина 9\n",
      "n_estimators 80\n",
      "f1 0.550185873605948\n",
      "auc_roc 0.8623590054107765\n",
      "********************\n",
      "Глубина 9\n",
      "n_estimators 90\n",
      "f1 0.5464684014869888\n",
      "auc_roc 0.8632905594758457\n",
      "********************\n",
      "Глубина 9\n",
      "n_estimators 100\n",
      "f1 0.5539033457249071\n",
      "auc_roc 0.8634943369275794\n",
      "********************\n",
      "Глубина 10\n",
      "n_estimators 10\n",
      "f1 0.5621621621621621\n",
      "auc_roc 0.8446119301023933\n",
      "********************\n",
      "Глубина 10\n",
      "n_estimators 20\n",
      "f1 0.5822784810126582\n",
      "auc_roc 0.8559856230155958\n",
      "********************\n",
      "Глубина 10\n",
      "n_estimators 30\n",
      "f1 0.5604395604395604\n",
      "auc_roc 0.8593256324863954\n",
      "********************\n",
      "Глубина 10\n",
      "n_estimators 40\n",
      "f1 0.5650557620817843\n",
      "auc_roc 0.8602125495858466\n",
      "********************\n",
      "Глубина 10\n",
      "n_estimators 50\n",
      "f1 0.5539033457249071\n",
      "auc_roc 0.8620620725525358\n",
      "********************\n",
      "Глубина 10\n",
      "n_estimators 60\n",
      "f1 0.549165120593692\n",
      "auc_roc 0.862935404488538\n",
      "********************\n",
      "Глубина 10\n",
      "n_estimators 70\n",
      "f1 0.5539033457249071\n",
      "auc_roc 0.8623182499204298\n",
      "********************\n",
      "Глубина 10\n",
      "n_estimators 80\n",
      "f1 0.55452865064695\n",
      "auc_roc 0.8629121156369113\n",
      "********************\n",
      "Глубина 10\n",
      "n_estimators 90\n",
      "f1 0.5565862708719851\n",
      "auc_roc 0.8639581732224784\n",
      "********************\n",
      "Глубина 10\n",
      "n_estimators 100\n",
      "f1 0.5588235294117647\n",
      "auc_roc 0.8641716543623899\n",
      "********************\n",
      "Лучшая модель с глубиной - 10 , n_estimators - 20\n",
      "f1 -  0.5822784810126582\n",
      "auc_roc -  0.8641716543623899\n"
     ]
    }
   ],
   "source": [
    "f1_best = 0\n",
    "max_depth_best = 1\n",
    "auc_roc_best = 0\n",
    "n_estimators_best = []\n",
    "\n",
    "for max_depth_i in range(2, 11, 1):\n",
    "    for n_estimators_i in range(10, 101, 10):\n",
    "        model = RandomForestClassifier(random_state=12345, max_depth=max_depth_i, n_estimators=n_estimators_i)\n",
    "        model.fit(features_train, target_train)\n",
    "        prediction = model.predict(features_valid)\n",
    "        f1 = f1_score(target_valid, prediction)\n",
    "        if f1  > f1_best:\n",
    "            f1_best = f1\n",
    "            max_depth_best = max_depth_i\n",
    "            n_estimators_best = n_estimators_i\n",
    "            \n",
    "        probabilities_valid = model.predict_proba(features_valid)\n",
    "        probabilities_one_valid = probabilities_valid[:, 1]\n",
    "        roc_auc = roc_auc_score(target_valid, probabilities_one_valid)\n",
    "        if roc_auc > auc_roc_best:\n",
    "            auc_roc_best = roc_auc\n",
    "            \n",
    "        print('Глубина', max_depth_i)    \n",
    "        print('n_estimators', n_estimators_i)\n",
    "        print('f1', f1)\n",
    "        print('auc_roc', roc_auc)\n",
    "        print('*' * 20)\n",
    "            \n",
    "print('Лучшая модель с глубиной -', max_depth_best, ', n_estimators -', n_estimators_best)\n",
    "print('f1 - ', f1_best)\n",
    "print('auc_roc - ', auc_roc_best)"
   ]
  },
  {
   "cell_type": "markdown",
   "metadata": {},
   "source": [
    "<b>Output</b>\n",
    "\n",
    "f1 for the Decision Tree model is 0.55, for the Sluay Forest model 0.58\n",
    "\n",
    "Nothing reaches the required value of 0.59.\n",
    "\n",
    "Target ratio is 4:1\n",
    "\n",
    "Next we will work with imbalance"
   ]
  },
  {
   "cell_type": "markdown",
   "metadata": {},
   "source": [
    "## Fighting imbalance"
   ]
  },
  {
   "cell_type": "markdown",
   "metadata": {},
   "source": [
    "Let's write a function to increase the sample"
   ]
  },
  {
   "cell_type": "code",
   "execution_count": 16,
   "metadata": {},
   "outputs": [],
   "source": [
    "def upsample(features, target, repeat):\n",
    "    features_zeros = features[target == 0]\n",
    "    features_ones = features[target == 1]\n",
    "    target_zeros = target[target == 0]\n",
    "    target_ones = target[target == 1]\n",
    "\n",
    "    features_upsampled = pd.concat([features_zeros] + [features_ones] * repeat)\n",
    "    target_upsampled = pd.concat([target_zeros] + [target_ones] * repeat)\n",
    "    \n",
    "    features_upsampled, target_upsampled = shuffle(\n",
    "        features_upsampled, target_upsampled, random_state=12345)\n",
    "    \n",
    "    return features_upsampled, target_upsampled"
   ]
  },
  {
   "cell_type": "markdown",
   "metadata": {},
   "source": [
    "Let's write a function to reduce the sample"
   ]
  },
  {
   "cell_type": "code",
   "execution_count": 17,
   "metadata": {},
   "outputs": [],
   "source": [
    "def downsample(features, target, fraction):\n",
    "    features_zeros = features[target == 0]\n",
    "    features_ones = features[target == 1]\n",
    "    target_zeros = target[target == 0]\n",
    "    target_ones = target[target == 1]\n",
    "\n",
    "    features_downsampled = pd.concat(\n",
    "        [features_zeros.sample(frac=fraction, random_state=12345)] + [features_ones])\n",
    "    target_downsampled = pd.concat(\n",
    "        [target_zeros.sample(frac=fraction, random_state=12345)] + [target_ones])\n",
    "    \n",
    "    features_downsampled, target_downsampled = shuffle(\n",
    "        features_downsampled, target_downsampled, random_state=12345)\n",
    "    \n",
    "    return features_downsampled, target_downsampled"
   ]
  },
  {
   "cell_type": "markdown",
   "metadata": {},
   "source": [
    "Let's increase the training sample with target indicator 1 by 4 times"
   ]
  },
  {
   "cell_type": "code",
   "execution_count": 18,
   "metadata": {},
   "outputs": [],
   "source": [
    "features_train_upsampled, target_train_upsampled = upsample(features_train, target_train, 4)"
   ]
  },
  {
   "cell_type": "code",
   "execution_count": 19,
   "metadata": {},
   "outputs": [
    {
     "data": {
      "text/plain": [
       "1    0.509964\n",
       "0    0.490036\n",
       "Name: Exited, dtype: float64"
      ]
     },
     "execution_count": 19,
     "metadata": {},
     "output_type": "execute_result"
    }
   ],
   "source": [
    "target_train_upsampled.value_counts(normalize=True)"
   ]
  },
  {
   "cell_type": "markdown",
   "metadata": {},
   "source": [
    "<b>Let's test the models</b>"
   ]
  },
  {
   "cell_type": "markdown",
   "metadata": {},
   "source": [
    "Decision tree"
   ]
  },
  {
   "cell_type": "code",
   "execution_count": 20,
   "metadata": {
    "scrolled": true
   },
   "outputs": [
    {
     "name": "stdout",
     "output_type": "stream",
     "text": [
      "Глубина 2\n",
      "Критерий gini\n",
      "f1 0.4983888292158968\n",
      "auc_roc 0.7410978364656838\n",
      "********************\n",
      "Глубина 2\n",
      "Критерий entropy\n",
      "f1 0.4983888292158968\n",
      "auc_roc 0.7410978364656838\n",
      "********************\n",
      "Глубина 3\n",
      "Критерий gini\n",
      "f1 0.5138248847926268\n",
      "auc_roc 0.7938849297841124\n",
      "********************\n",
      "Глубина 3\n",
      "Критерий entropy\n",
      "f1 0.4983888292158968\n",
      "auc_roc 0.7989842179215476\n",
      "********************\n",
      "Глубина 4\n",
      "Критерий gini\n",
      "f1 0.5146771037181996\n",
      "auc_roc 0.8137542016969811\n",
      "********************\n",
      "Глубина 4\n",
      "Критерий entropy\n",
      "f1 0.5468245425188375\n",
      "auc_roc 0.8267969289767655\n",
      "********************\n",
      "Глубина 5\n",
      "Критерий gini\n",
      "f1 0.5653631284916201\n",
      "auc_roc 0.8374962155616106\n",
      "********************\n",
      "Глубина 5\n",
      "Критерий entropy\n",
      "f1 0.5495867768595041\n",
      "auc_roc 0.8413320834982961\n",
      "********************\n",
      "Глубина 6\n",
      "Критерий gini\n",
      "f1 0.537864077669903\n",
      "auc_roc 0.8373244602808636\n",
      "********************\n",
      "Глубина 6\n",
      "Критерий entropy\n",
      "f1 0.5325779036827195\n",
      "auc_roc 0.8344191760404294\n",
      "********************\n",
      "Глубина 7\n",
      "Критерий gini\n",
      "f1 0.5384615384615384\n",
      "auc_roc 0.827363624366349\n",
      "********************\n",
      "Глубина 7\n",
      "Критерий entropy\n",
      "f1 0.5383867832847424\n",
      "auc_roc 0.8246097176614888\n",
      "********************\n",
      "Глубина 8\n",
      "Критерий gini\n",
      "f1 0.531317494600432\n",
      "auc_roc 0.8045075572323528\n",
      "********************\n",
      "Глубина 8\n",
      "Критерий entropy\n",
      "f1 0.5382381413359147\n",
      "auc_roc 0.8188418454086028\n",
      "********************\n",
      "Глубина 9\n",
      "Критерий gini\n",
      "f1 0.5271493212669682\n",
      "auc_roc 0.7755391369151587\n",
      "********************\n",
      "Глубина 9\n",
      "Критерий entropy\n",
      "f1 0.5285412262156448\n",
      "auc_roc 0.7980002639403183\n",
      "********************\n",
      "Глубина 10\n",
      "Критерий gini\n",
      "f1 0.49890109890109885\n",
      "auc_roc 0.7489073647111795\n",
      "********************\n",
      "Глубина 10\n",
      "Критерий entropy\n",
      "f1 0.528421052631579\n",
      "auc_roc 0.787637695335243\n",
      "********************\n",
      "Лучшая модель с глубиной - 5 , с критерием - gini\n",
      "f1 -  0.5653631284916201\n",
      "auc_roc -  0.8413320834982961\n"
     ]
    }
   ],
   "source": [
    "f1_best = 0\n",
    "max_depth_best = 1\n",
    "auc_roc_best = 0\n",
    "caracter_best = []\n",
    "\n",
    "for max_depth_i in range(2, 11):\n",
    "    for caracter_i in ['gini', 'entropy']:\n",
    "        model = DecisionTreeClassifier(random_state=12345, max_depth=max_depth_i, criterion=caracter_i)\n",
    "        model.fit(features_train_upsampled, target_train_upsampled)\n",
    "        prediction = model.predict(features_valid)\n",
    "        f1 = f1_score(target_valid, prediction)\n",
    "        if f1  > f1_best:\n",
    "            f1_best = f1\n",
    "            max_depth_best = max_depth_i\n",
    "            caracter_best = caracter_i\n",
    "        \n",
    "        probabilities_valid = model.predict_proba(features_valid)\n",
    "        probabilities_one_valid = probabilities_valid[:, 1]\n",
    "        roc_auc = roc_auc_score(target_valid, probabilities_one_valid)\n",
    "        if roc_auc > auc_roc_best:\n",
    "            auc_roc_best = roc_auc\n",
    "            \n",
    "        print('Глубина', max_depth_i)\n",
    "        print('Критерий', caracter_i)\n",
    "        print('f1', f1)\n",
    "        print('auc_roc', roc_auc)\n",
    "        print('*' * 20)\n",
    "        \n",
    "print('Лучшая модель с глубиной -', max_depth_best, ', с критерием -', caracter_best)\n",
    "print('f1 - ', f1_best)\n",
    "print('auc_roc - ', auc_roc_best)"
   ]
  },
  {
   "cell_type": "markdown",
   "metadata": {},
   "source": [
    "Random forest"
   ]
  },
  {
   "cell_type": "code",
   "execution_count": 21,
   "metadata": {
    "scrolled": true
   },
   "outputs": [
    {
     "name": "stdout",
     "output_type": "stream",
     "text": [
      "Глубина 1\n",
      "n_estimators 10\n",
      "f1 0.47602441150828245\n",
      "auc_roc 0.7917976664570671\n",
      "********************\n",
      "Глубина 1\n",
      "n_estimators 20\n",
      "f1 0.508646998982706\n",
      "auc_roc 0.7959421116778065\n",
      "********************\n",
      "Глубина 1\n",
      "n_estimators 30\n",
      "f1 0.4904214559386973\n",
      "auc_roc 0.7916453185526756\n",
      "********************\n",
      "Глубина 1\n",
      "n_estimators 40\n",
      "f1 0.5\n",
      "auc_roc 0.806957738497248\n",
      "********************\n",
      "Глубина 1\n",
      "n_estimators 50\n",
      "f1 0.4941634241245136\n",
      "auc_roc 0.8043416241645125\n",
      "********************\n",
      "Глубина 1\n",
      "n_estimators 60\n",
      "f1 0.49272550921435504\n",
      "auc_roc 0.8079164628892149\n",
      "********************\n",
      "Глубина 1\n",
      "n_estimators 70\n",
      "f1 0.4995064165844027\n",
      "auc_roc 0.8045570460420597\n",
      "********************\n",
      "Глубина 1\n",
      "n_estimators 80\n",
      "f1 0.501984126984127\n",
      "auc_roc 0.8093108828803651\n",
      "********************\n",
      "Глубина 1\n",
      "n_estimators 90\n",
      "f1 0.49609375\n",
      "auc_roc 0.8075516042137295\n",
      "********************\n",
      "Глубина 1\n",
      "n_estimators 100\n",
      "f1 0.49951219512195116\n",
      "auc_roc 0.8106858954951598\n",
      "********************\n",
      "Глубина 2\n",
      "n_estimators 10\n",
      "f1 0.5452631578947368\n",
      "auc_roc 0.822418624870941\n",
      "********************\n",
      "Глубина 2\n",
      "n_estimators 20\n",
      "f1 0.5149330587023686\n",
      "auc_roc 0.8125994628038224\n",
      "********************\n",
      "Глубина 2\n",
      "n_estimators 30\n",
      "f1 0.5174825174825175\n",
      "auc_roc 0.8201945395405886\n",
      "********************\n",
      "Глубина 2\n",
      "n_estimators 40\n",
      "f1 0.5456453305351522\n",
      "auc_roc 0.8306075673241886\n",
      "********************\n",
      "Глубина 2\n",
      "n_estimators 50\n",
      "f1 0.5427974947807933\n",
      "auc_roc 0.8287473703005038\n",
      "********************\n",
      "Глубина 2\n",
      "n_estimators 60\n",
      "f1 0.5433646812957158\n",
      "auc_roc 0.826450507308818\n",
      "********************\n",
      "Глубина 2\n",
      "n_estimators 70\n",
      "f1 0.5168986083499005\n",
      "auc_roc 0.8225001358516346\n",
      "********************\n",
      "Глубина 2\n",
      "n_estimators 80\n",
      "f1 0.5409326424870468\n",
      "auc_roc 0.8261322263365861\n",
      "********************\n",
      "Глубина 2\n",
      "n_estimators 90\n",
      "f1 0.537590113285273\n",
      "auc_roc 0.8279312901247506\n",
      "********************\n",
      "Глубина 2\n",
      "n_estimators 100\n",
      "f1 0.5418821096173733\n",
      "auc_roc 0.8286571260004503\n",
      "********************\n",
      "Глубина 3\n",
      "n_estimators 10\n",
      "f1 0.5341365461847389\n",
      "auc_roc 0.8347384273814791\n",
      "********************\n",
      "Глубина 3\n",
      "n_estimators 20\n",
      "f1 0.530241935483871\n",
      "auc_roc 0.8299263684141068\n",
      "********************\n",
      "Глубина 3\n",
      "n_estimators 30\n",
      "f1 0.5267406659939455\n",
      "auc_roc 0.828649363049908\n",
      "********************\n",
      "Глубина 3\n",
      "n_estimators 40\n",
      "f1 0.5381443298969073\n",
      "auc_roc 0.8336166810281251\n",
      "********************\n",
      "Глубина 3\n",
      "n_estimators 50\n",
      "f1 0.5390946502057613\n",
      "auc_roc 0.8334429850097426\n",
      "********************\n",
      "Глубина 3\n",
      "n_estimators 60\n",
      "f1 0.5420560747663551\n",
      "auc_roc 0.8358446478337487\n",
      "********************\n",
      "Глубина 3\n",
      "n_estimators 70\n",
      "f1 0.5411030176899063\n",
      "auc_roc 0.8336816957389165\n",
      "********************\n",
      "Глубина 3\n",
      "n_estimators 80\n",
      "f1 0.5512143611404435\n",
      "auc_roc 0.8341862875241621\n",
      "********************\n",
      "Глубина 3\n",
      "n_estimators 90\n",
      "f1 0.5506329113924051\n",
      "auc_roc 0.8357883664423175\n",
      "********************\n",
      "Глубина 3\n",
      "n_estimators 100\n",
      "f1 0.5550847457627118\n",
      "auc_roc 0.8373438676572191\n",
      "********************\n",
      "Глубина 4\n",
      "n_estimators 10\n",
      "f1 0.5701149425287356\n",
      "auc_roc 0.8401055373126218\n",
      "********************\n",
      "Глубина 4\n",
      "n_estimators 20\n",
      "f1 0.5642151481888035\n",
      "auc_roc 0.8397261231048697\n",
      "********************\n",
      "Глубина 4\n",
      "n_estimators 30\n",
      "f1 0.5525210084033614\n",
      "auc_roc 0.8409973062561619\n",
      "********************\n",
      "Глубина 4\n",
      "n_estimators 40\n",
      "f1 0.5732899022801302\n",
      "auc_roc 0.8437376277975733\n",
      "********************\n",
      "Глубина 4\n",
      "n_estimators 50\n",
      "f1 0.5655021834061136\n",
      "auc_roc 0.8451815365984303\n",
      "********************\n",
      "Глубина 4\n",
      "n_estimators 60\n",
      "f1 0.5627044711014176\n",
      "auc_roc 0.8452591661038529\n",
      "********************\n",
      "Глубина 4\n",
      "n_estimators 70\n",
      "f1 0.5575888051668461\n",
      "auc_roc 0.8435687836232797\n",
      "********************\n",
      "Глубина 4\n",
      "n_estimators 80\n",
      "f1 0.5621621621621621\n",
      "auc_roc 0.8445934930948554\n",
      "********************\n",
      "Глубина 4\n",
      "n_estimators 90\n",
      "f1 0.561822125813449\n",
      "auc_roc 0.8449399147628031\n",
      "********************\n",
      "Глубина 4\n",
      "n_estimators 100\n",
      "f1 0.5640473627556513\n",
      "auc_roc 0.8454425658104132\n",
      "********************\n",
      "Глубина 5\n",
      "n_estimators 10\n",
      "f1 0.5717488789237668\n",
      "auc_roc 0.8455590100685468\n",
      "********************\n",
      "Глубина 5\n",
      "n_estimators 20\n",
      "f1 0.5845464725643897\n",
      "auc_roc 0.8497820551635267\n",
      "********************\n",
      "Глубина 5\n",
      "n_estimators 30\n",
      "f1 0.5776805251641138\n",
      "auc_roc 0.8483400871003052\n",
      "********************\n",
      "Глубина 5\n",
      "n_estimators 40\n",
      "f1 0.5802879291251385\n",
      "auc_roc 0.8519605331594433\n",
      "********************\n",
      "Глубина 5\n",
      "n_estimators 50\n",
      "f1 0.5825027685492801\n",
      "auc_roc 0.8516975632098247\n",
      "********************\n",
      "Глубина 5\n",
      "n_estimators 60\n",
      "f1 0.5866666666666666\n",
      "auc_roc 0.8522380586413283\n",
      "********************\n",
      "Глубина 5\n",
      "n_estimators 70\n",
      "f1 0.5869324473975637\n",
      "auc_roc 0.8518586444335764\n",
      "********************\n",
      "Глубина 5\n",
      "n_estimators 80\n",
      "f1 0.5857461024498886\n",
      "auc_roc 0.8541099000908264\n",
      "********************\n",
      "Глубина 5\n",
      "n_estimators 90\n",
      "f1 0.5857461024498886\n",
      "auc_roc 0.8523729399069997\n",
      "********************\n",
      "Глубина 5\n",
      "n_estimators 100\n",
      "f1 0.583795782463929\n",
      "auc_roc 0.8521798365122616\n",
      "********************\n",
      "Глубина 6\n",
      "n_estimators 10\n",
      "f1 0.590126291618829\n",
      "auc_roc 0.855688690157355\n",
      "********************\n",
      "Глубина 6\n",
      "n_estimators 20\n",
      "f1 0.5854214123006835\n",
      "auc_roc 0.8566105405342461\n",
      "********************\n",
      "Глубина 6\n",
      "n_estimators 30\n",
      "f1 0.5894263217097863\n",
      "auc_roc 0.8547086176513969\n",
      "********************\n",
      "Глубина 6\n",
      "n_estimators 40\n",
      "f1 0.5832402234636872\n",
      "auc_roc 0.85636406685453\n",
      "********************\n",
      "Глубина 6\n",
      "n_estimators 50\n",
      "f1 0.5855855855855856\n",
      "auc_roc 0.8560273488747603\n",
      "********************\n",
      "Глубина 6\n",
      "n_estimators 60\n",
      "f1 0.5855855855855856\n",
      "auc_roc 0.8561370005511696\n",
      "********************\n",
      "Глубина 6\n",
      "n_estimators 70\n",
      "f1 0.5781250000000001\n",
      "auc_roc 0.856059371045747\n",
      "********************\n",
      "Глубина 6\n",
      "n_estimators 80\n",
      "f1 0.578177727784027\n",
      "auc_roc 0.8569909251108161\n",
      "********************\n",
      "Глубина 6\n",
      "n_estimators 90\n",
      "f1 0.5813692480359146\n",
      "auc_roc 0.8566318886482376\n",
      "********************\n",
      "Глубина 6\n",
      "n_estimators 100\n",
      "f1 0.5800671892497201\n",
      "auc_roc 0.85719470256255\n",
      "********************\n",
      "Глубина 7\n",
      "n_estimators 10\n",
      "f1 0.5833333333333334\n",
      "auc_roc 0.8548920173579574\n",
      "********************\n",
      "Глубина 7\n",
      "n_estimators 20\n",
      "f1 0.5792474344355759\n",
      "auc_roc 0.8531783460257574\n",
      "********************\n",
      "Глубина 7\n",
      "n_estimators 30\n",
      "f1 0.5736782902137234\n",
      "auc_roc 0.8544805809792186\n",
      "********************\n",
      "Глубина 7\n",
      "n_estimators 40\n",
      "f1 0.5682074408117249\n",
      "auc_roc 0.857066613878603\n",
      "********************\n",
      "Глубина 7\n",
      "n_estimators 50\n",
      "f1 0.564334085778781\n",
      "auc_roc 0.8594983581359602\n",
      "********************\n",
      "Глубина 7\n",
      "n_estimators 60\n",
      "f1 0.5685164212910533\n",
      "auc_roc 0.8596943726371518\n",
      "********************\n",
      "Глубина 7\n",
      "n_estimators 70\n",
      "f1 0.576\n",
      "auc_roc 0.8590791588066792\n",
      "********************\n",
      "Глубина 7\n",
      "n_estimators 80\n",
      "f1 0.5782312925170068\n",
      "auc_roc 0.8608918077582928\n",
      "********************\n",
      "Глубина 7\n",
      "n_estimators 90\n",
      "f1 0.5769669327251995\n",
      "auc_roc 0.8598923278759791\n",
      "********************\n",
      "Глубина 7\n",
      "n_estimators 100\n",
      "f1 0.5746864310148232\n",
      "auc_roc 0.8603542234332424\n",
      "********************\n",
      "Глубина 8\n",
      "n_estimators 10\n",
      "f1 0.5823665893271461\n",
      "auc_roc 0.8471290668157153\n",
      "********************\n",
      "Глубина 8\n",
      "n_estimators 20\n",
      "f1 0.5851428571428571\n",
      "auc_roc 0.8535499972829672\n",
      "********************\n",
      "Глубина 8\n",
      "n_estimators 30\n",
      "f1 0.592074592074592\n",
      "auc_roc 0.8578409681951916\n",
      "********************\n",
      "Глубина 8\n",
      "n_estimators 40\n",
      "f1 0.592074592074592\n",
      "auc_roc 0.8589103146323854\n",
      "********************\n",
      "Глубина 8\n",
      "n_estimators 50\n",
      "f1 0.5937136204889406\n",
      "auc_roc 0.8588016333247941\n",
      "********************\n",
      "Глубина 8\n",
      "n_estimators 60\n",
      "f1 0.5919075144508671\n",
      "auc_roc 0.8595294099381292\n",
      "********************\n",
      "Глубина 8\n",
      "n_estimators 70\n",
      "f1 0.5893271461716938\n",
      "auc_roc 0.8595798691166538\n",
      "********************\n",
      "Глубина 8\n",
      "n_estimators 80\n",
      "f1 0.5923344947735191\n",
      "auc_roc 0.8616952731394149\n",
      "********************\n",
      "Глубина 8\n",
      "n_estimators 90\n",
      "f1 0.5921658986175115\n",
      "auc_roc 0.8617457323179395\n",
      "********************\n",
      "Глубина 8\n",
      "n_estimators 100\n",
      "f1 0.5944700460829493\n",
      "auc_roc 0.8619436875567665\n",
      "********************\n",
      "Глубина 9\n",
      "n_estimators 10\n",
      "f1 0.5755053507728893\n",
      "auc_roc 0.8443014120807036\n",
      "********************\n",
      "Глубина 9\n",
      "n_estimators 20\n",
      "f1 0.5799522673031026\n",
      "auc_roc 0.8482032650969981\n",
      "********************\n",
      "Глубина 9\n",
      "n_estimators 30\n",
      "f1 0.5789473684210528\n",
      "auc_roc 0.8542273147177779\n",
      "********************\n",
      "Глубина 9\n",
      "n_estimators 40\n",
      "f1 0.5860023724792409\n",
      "auc_roc 0.8572626283797946\n",
      "********************\n",
      "Глубина 9\n",
      "n_estimators 50\n",
      "f1 0.5841346153846153\n",
      "auc_roc 0.8586192039870515\n",
      "********************\n",
      "Глубина 9\n",
      "n_estimators 60\n",
      "f1 0.5879518072289157\n",
      "auc_roc 0.85986127607381\n",
      "********************\n",
      "Глубина 9\n",
      "n_estimators 70\n",
      "f1 0.5903614457831325\n",
      "auc_roc 0.859936964841597\n",
      "********************\n",
      "Глубина 9\n",
      "n_estimators 80\n",
      "f1 0.5939393939393939\n",
      "auc_roc 0.8610703556207644\n",
      "********************\n",
      "Глубина 9\n",
      "n_estimators 90\n",
      "f1 0.5990338164251208\n",
      "auc_roc 0.861235318319787\n",
      "********************\n",
      "Глубина 9\n",
      "n_estimators 100\n",
      "f1 0.5953827460510328\n",
      "auc_roc 0.8611149925863822\n",
      "********************\n",
      "Глубина 10\n",
      "n_estimators 10\n",
      "f1 0.5558312655086849\n",
      "auc_roc 0.8406984326602855\n",
      "********************\n",
      "Глубина 10\n",
      "n_estimators 20\n",
      "f1 0.5810473815461347\n",
      "auc_roc 0.8514520598989265\n",
      "********************\n",
      "Глубина 10\n",
      "n_estimators 30\n",
      "f1 0.5875\n",
      "auc_roc 0.8547377287159303\n",
      "********************\n",
      "Глубина 10\n",
      "n_estimators 40\n",
      "f1 0.5989847715736041\n",
      "auc_roc 0.8551258762430425\n",
      "********************\n",
      "Глубина 10\n",
      "n_estimators 50\n",
      "f1 0.5954773869346734\n",
      "auc_roc 0.856412585295419\n",
      "********************\n",
      "Глубина 10\n",
      "n_estimators 60\n",
      "f1 0.5957446808510638\n",
      "auc_roc 0.8561835782544229\n",
      "********************\n",
      "Глубина 10\n",
      "n_estimators 70\n",
      "f1 0.5869017632241813\n",
      "auc_roc 0.8561272968629916\n",
      "********************\n",
      "Глубина 10\n",
      "n_estimators 80\n",
      "f1 0.5843828715365239\n",
      "auc_roc 0.8575052205842397\n",
      "********************\n",
      "Глубина 10\n",
      "n_estimators 90\n",
      "f1 0.5845771144278608\n",
      "auc_roc 0.8580699752361878\n",
      "********************\n",
      "Глубина 10\n",
      "n_estimators 100\n",
      "f1 0.5842696629213484\n",
      "auc_roc 0.8583921376836907\n",
      "********************\n",
      "Лучшая модель с глубиной - 9 , n_estimators - 90\n",
      "f1 -  0.5990338164251208\n",
      "auc_roc -  0.8619436875567665\n"
     ]
    }
   ],
   "source": [
    "f1_best = 0\n",
    "max_depth_best = 1\n",
    "auc_roc_best = 0\n",
    "n_estimators_best = []\n",
    "\n",
    "for max_depth_i in range(1, 11, 1):\n",
    "    for n_estimators_i in range(10, 101, 10):\n",
    "        model = RandomForestClassifier(random_state=12345, max_depth=max_depth_i, n_estimators=n_estimators_i)\n",
    "        model.fit(features_train_upsampled, target_train_upsampled)\n",
    "        prediction = model.predict(features_valid)\n",
    "        f1 = f1_score(target_valid, prediction)\n",
    "        if f1  > f1_best:\n",
    "            f1_best = f1\n",
    "            max_depth_best = max_depth_i\n",
    "            n_estimators_best = n_estimators_i\n",
    "            \n",
    "        probabilities_valid = model.predict_proba(features_valid)\n",
    "        probabilities_one_valid = probabilities_valid[:, 1]\n",
    "        roc_auc = roc_auc_score(target_valid, probabilities_one_valid)\n",
    "        if roc_auc > auc_roc_best:\n",
    "            auc_roc_best = roc_auc\n",
    "            \n",
    "        print('Глубина', max_depth_i)    \n",
    "        print('n_estimators', n_estimators_i)\n",
    "        print('f1', f1)\n",
    "        print('auc_roc', roc_auc)\n",
    "        print('*' * 20)\n",
    "            \n",
    "print('Лучшая модель с глубиной -', max_depth_best, ', n_estimators -', n_estimators_best)\n",
    "print('f1 - ', f1_best)\n",
    "print('auc_roc - ', auc_roc_best)"
   ]
  },
  {
   "cell_type": "markdown",
   "metadata": {},
   "source": [
    "Let's reduce the training sample with target indicator 0 by 4 times"
   ]
  },
  {
   "cell_type": "code",
   "execution_count": 22,
   "metadata": {},
   "outputs": [],
   "source": [
    "features_train_downsample, target_train_downsample = downsample(features_train, target_train, 0.25)"
   ]
  },
  {
   "cell_type": "code",
   "execution_count": 23,
   "metadata": {
    "scrolled": true
   },
   "outputs": [
    {
     "data": {
      "text/plain": [
       "1    0.509964\n",
       "0    0.490036\n",
       "Name: Exited, dtype: float64"
      ]
     },
     "execution_count": 23,
     "metadata": {},
     "output_type": "execute_result"
    }
   ],
   "source": [
    "target_train_downsample.value_counts(normalize=True)"
   ]
  },
  {
   "cell_type": "markdown",
   "metadata": {},
   "source": [
    "<b>Let's test the models</b>"
   ]
  },
  {
   "cell_type": "markdown",
   "metadata": {},
   "source": [
    "Decision tree"
   ]
  },
  {
   "cell_type": "code",
   "execution_count": 24,
   "metadata": {
    "scrolled": true
   },
   "outputs": [
    {
     "name": "stdout",
     "output_type": "stream",
     "text": [
      "Глубина 2\n",
      "Критерий gini\n",
      "f1 0.4692737430167598\n",
      "auc_roc 0.7374249904903858\n",
      "********************\n",
      "Глубина 2\n",
      "Критерий entropy\n",
      "f1 0.4983888292158968\n",
      "auc_roc 0.7410978364656838\n",
      "********************\n",
      "Глубина 3\n",
      "Критерий gini\n",
      "f1 0.4692737430167598\n",
      "auc_roc 0.7892213372458604\n",
      "********************\n",
      "Глубина 3\n",
      "Критерий entropy\n",
      "f1 0.4983888292158968\n",
      "auc_roc 0.7982176265555012\n",
      "********************\n",
      "Глубина 4\n",
      "Критерий gini\n",
      "f1 0.5362776025236593\n",
      "auc_roc 0.8197559328349519\n",
      "********************\n",
      "Глубина 4\n",
      "Критерий entropy\n",
      "f1 0.5483870967741936\n",
      "auc_roc 0.826211796579644\n",
      "********************\n",
      "Глубина 5\n",
      "Критерий gini\n",
      "f1 0.5281306715063522\n",
      "auc_roc 0.823915903956776\n",
      "********************\n",
      "Глубина 5\n",
      "Критерий entropy\n",
      "f1 0.5405921680993314\n",
      "auc_roc 0.839826071093101\n",
      "********************\n",
      "Глубина 6\n",
      "Критерий gini\n",
      "f1 0.5485148514851486\n",
      "auc_roc 0.8290210143071178\n",
      "********************\n",
      "Глубина 6\n",
      "Критерий entropy\n",
      "f1 0.545273631840796\n",
      "auc_roc 0.8382763920911058\n",
      "********************\n",
      "Глубина 7\n",
      "Критерий gini\n",
      "f1 0.5476190476190476\n",
      "auc_roc 0.825174472313437\n",
      "********************\n",
      "Глубина 7\n",
      "Критерий entropy\n",
      "f1 0.5447690857681433\n",
      "auc_roc 0.8319563799809032\n",
      "********************\n",
      "Глубина 8\n",
      "Критерий gini\n",
      "f1 0.5277207392197125\n",
      "auc_roc 0.8049219047175451\n",
      "********************\n",
      "Глубина 8\n",
      "Критерий entropy\n",
      "f1 0.5136921624173748\n",
      "auc_roc 0.8081425588237577\n",
      "********************\n",
      "Глубина 9\n",
      "Критерий gini\n",
      "f1 0.5147347740667977\n",
      "auc_roc 0.7949261355255905\n",
      "********************\n",
      "Глубина 9\n",
      "Критерий entropy\n",
      "f1 0.5053037608486017\n",
      "auc_roc 0.7943070402198468\n",
      "********************\n",
      "Глубина 10\n",
      "Критерий gini\n",
      "f1 0.5066394279877426\n",
      "auc_roc 0.765809248779276\n",
      "********************\n",
      "Глубина 10\n",
      "Критерий entropy\n",
      "f1 0.520653218059558\n",
      "auc_roc 0.7863626307086797\n",
      "********************\n",
      "Лучшая модель с глубиной - 6 , с критерием - gini\n",
      "f1 -  0.5485148514851486\n",
      "auc_roc -  0.839826071093101\n"
     ]
    }
   ],
   "source": [
    "f1_best = 0\n",
    "max_depth_best = 1\n",
    "auc_roc_best = 0\n",
    "caracter_best = []\n",
    "\n",
    "for max_depth_i in range(2, 11):\n",
    "    for caracter_i in ['gini', 'entropy']:\n",
    "        model = DecisionTreeClassifier(random_state=12345, max_depth=max_depth_i, criterion=caracter_i)\n",
    "        model.fit(features_train_downsample, target_train_downsample)\n",
    "        prediction = model.predict(features_valid)\n",
    "        f1 = f1_score(target_valid, prediction)\n",
    "        if f1  > f1_best:\n",
    "            f1_best = f1\n",
    "            max_depth_best = max_depth_i\n",
    "            caracter_best = caracter_i\n",
    "        \n",
    "        probabilities_valid = model.predict_proba(features_valid)\n",
    "        probabilities_one_valid = probabilities_valid[:, 1]\n",
    "        roc_auc = roc_auc_score(target_valid, probabilities_one_valid)\n",
    "        if roc_auc > auc_roc_best:\n",
    "            auc_roc_best = roc_auc\n",
    "            \n",
    "        print('Глубина', max_depth_i)\n",
    "        print('Критерий', caracter_i)\n",
    "        print('f1', f1)\n",
    "        print('auc_roc', roc_auc)\n",
    "        print('*' * 20)\n",
    "        \n",
    "print('Лучшая модель с глубиной -', max_depth_best, ', с критерием -', caracter_best)\n",
    "print('f1 - ', f1_best)\n",
    "print('auc_roc - ', auc_roc_best)"
   ]
  },
  {
   "cell_type": "markdown",
   "metadata": {},
   "source": [
    "Random forest"
   ]
  },
  {
   "cell_type": "code",
   "execution_count": 25,
   "metadata": {
    "scrolled": true
   },
   "outputs": [
    {
     "name": "stdout",
     "output_type": "stream",
     "text": [
      "Глубина 2\n",
      "n_estimators 10\n",
      "f1 0.49789915966386555\n",
      "auc_roc 0.7919014959205695\n",
      "********************\n",
      "Глубина 2\n",
      "n_estimators 20\n",
      "f1 0.5275181723779855\n",
      "auc_roc 0.8152524511516337\n",
      "********************\n",
      "Глубина 2\n",
      "n_estimators 30\n",
      "f1 0.5305699481865285\n",
      "auc_roc 0.8236781635964197\n",
      "********************\n",
      "Глубина 2\n",
      "n_estimators 40\n",
      "f1 0.5389473684210527\n",
      "auc_roc 0.8273228688760024\n",
      "********************\n",
      "Глубина 2\n",
      "n_estimators 50\n",
      "f1 0.5403141361256545\n",
      "auc_roc 0.8269599509381527\n",
      "********************\n",
      "Глубина 2\n",
      "n_estimators 60\n",
      "f1 0.537344398340249\n",
      "auc_roc 0.8238955262116026\n",
      "********************\n",
      "Глубина 2\n",
      "n_estimators 70\n",
      "f1 0.5227963525835867\n",
      "auc_roc 0.819406600060551\n",
      "********************\n",
      "Глубина 2\n",
      "n_estimators 80\n",
      "f1 0.5295315682281059\n",
      "auc_roc 0.822758253957164\n",
      "********************\n",
      "Глубина 2\n",
      "n_estimators 90\n",
      "f1 0.5321100917431193\n",
      "auc_roc 0.8243739180387681\n",
      "********************\n",
      "Глубина 2\n",
      "n_estimators 100\n",
      "f1 0.5346938775510204\n",
      "auc_roc 0.8243069625903413\n",
      "********************\n",
      "Глубина 3\n",
      "n_estimators 10\n",
      "f1 0.5110663983903421\n",
      "auc_roc 0.8214172042509916\n",
      "********************\n",
      "Глубина 3\n",
      "n_estimators 20\n",
      "f1 0.5326530612244897\n",
      "auc_roc 0.8258352934783453\n",
      "********************\n",
      "Глубина 3\n",
      "n_estimators 30\n",
      "f1 0.5363357215967246\n",
      "auc_roc 0.8280807269226887\n",
      "********************\n",
      "Глубина 3\n",
      "n_estimators 40\n",
      "f1 0.536734693877551\n",
      "auc_roc 0.830636678388722\n",
      "********************\n",
      "Глубина 3\n",
      "n_estimators 50\n",
      "f1 0.5378323108384458\n",
      "auc_roc 0.8314032697547684\n",
      "********************\n",
      "Глубина 3\n",
      "n_estimators 60\n",
      "f1 0.5382262996941896\n",
      "auc_roc 0.8319379429733653\n",
      "********************\n",
      "Глубина 3\n",
      "n_estimators 70\n",
      "f1 0.532795156407669\n",
      "auc_roc 0.828335933921765\n",
      "********************\n",
      "Глубина 3\n",
      "n_estimators 80\n",
      "f1 0.5383828045035823\n",
      "auc_roc 0.8299729461173603\n",
      "********************\n",
      "Глубина 3\n",
      "n_estimators 90\n",
      "f1 0.538540596094553\n",
      "auc_roc 0.8327229713469495\n",
      "********************\n",
      "Глубина 3\n",
      "n_estimators 100\n",
      "f1 0.5390946502057613\n",
      "auc_roc 0.835083878680609\n",
      "********************\n",
      "Глубина 4\n",
      "n_estimators 10\n",
      "f1 0.5603543743078626\n",
      "auc_roc 0.8402278037836621\n",
      "********************\n",
      "Глубина 4\n",
      "n_estimators 20\n",
      "f1 0.5632911392405062\n",
      "auc_roc 0.8416959718049637\n",
      "********************\n",
      "Глубина 4\n",
      "n_estimators 30\n",
      "f1 0.556237218813906\n",
      "auc_roc 0.8441422715945877\n",
      "********************\n",
      "Глубина 4\n",
      "n_estimators 40\n",
      "f1 0.556237218813906\n",
      "auc_roc 0.8458268318622543\n",
      "********************\n",
      "Глубина 4\n",
      "n_estimators 50\n",
      "f1 0.5538461538461539\n",
      "auc_roc 0.8470718150554664\n",
      "********************\n",
      "Глубина 4\n",
      "n_estimators 60\n",
      "f1 0.5557809330628802\n",
      "auc_roc 0.847346429430898\n",
      "********************\n",
      "Глубина 4\n",
      "n_estimators 70\n",
      "f1 0.5545361875637105\n",
      "auc_roc 0.8446604485432824\n",
      "********************\n",
      "Глубина 4\n",
      "n_estimators 80\n",
      "f1 0.5541922290388548\n",
      "auc_roc 0.8460762166484237\n",
      "********************\n",
      "Глубина 4\n",
      "n_estimators 90\n",
      "f1 0.5530612244897959\n",
      "auc_roc 0.8469049116188082\n",
      "********************\n",
      "Глубина 4\n",
      "n_estimators 100\n",
      "f1 0.5503080082135523\n",
      "auc_roc 0.8473590442255292\n",
      "********************\n",
      "Глубина 5\n",
      "n_estimators 10\n",
      "f1 0.5834254143646409\n",
      "auc_roc 0.8497102478710108\n",
      "********************\n",
      "Глубина 5\n",
      "n_estimators 20\n",
      "f1 0.5757906215921482\n",
      "auc_roc 0.8472251333286756\n",
      "********************\n",
      "Глубина 5\n",
      "n_estimators 30\n",
      "f1 0.5669456066945606\n",
      "auc_roc 0.8520430145089545\n",
      "********************\n",
      "Глубина 5\n",
      "n_estimators 40\n",
      "f1 0.5711252653927813\n",
      "auc_roc 0.8520294293455056\n",
      "********************\n",
      "Глубина 5\n",
      "n_estimators 50\n",
      "f1 0.5671641791044777\n",
      "auc_roc 0.8519682961099856\n",
      "********************\n",
      "Глубина 5\n",
      "n_estimators 60\n",
      "f1 0.565997888067582\n",
      "auc_roc 0.8514966968645443\n",
      "********************\n",
      "Глубина 5\n",
      "n_estimators 70\n",
      "f1 0.56203605514316\n",
      "auc_roc 0.8507708609888447\n",
      "********************\n",
      "Глубина 5\n",
      "n_estimators 80\n",
      "f1 0.5614406779661016\n",
      "auc_roc 0.8520595107788568\n",
      "********************\n",
      "Глубина 5\n",
      "n_estimators 90\n",
      "f1 0.5604166666666668\n",
      "auc_roc 0.8519721775852567\n",
      "********************\n",
      "Глубина 5\n",
      "n_estimators 100\n",
      "f1 0.5634095634095634\n",
      "auc_roc 0.852703835673863\n",
      "********************\n",
      "Глубина 6\n",
      "n_estimators 10\n",
      "f1 0.5556711758584808\n",
      "auc_roc 0.847360014594347\n",
      "********************\n",
      "Глубина 6\n",
      "n_estimators 20\n",
      "f1 0.5565939771547248\n",
      "auc_roc 0.8512744824052726\n",
      "********************\n",
      "Глубина 6\n",
      "n_estimators 30\n",
      "f1 0.558282208588957\n",
      "auc_roc 0.8538944782132792\n",
      "********************\n",
      "Глубина 6\n",
      "n_estimators 40\n",
      "f1 0.5602471678681772\n",
      "auc_roc 0.8553170389001451\n",
      "********************\n",
      "Глубина 6\n",
      "n_estimators 50\n",
      "f1 0.5645833333333333\n",
      "auc_roc 0.8562214226383165\n",
      "********************\n",
      "Глубина 6\n",
      "n_estimators 60\n",
      "f1 0.5620512820512821\n",
      "auc_roc 0.8562204522694986\n",
      "********************\n",
      "Глубина 6\n",
      "n_estimators 70\n",
      "f1 0.564366632337796\n",
      "auc_roc 0.8559778600650536\n",
      "********************\n",
      "Глубина 6\n",
      "n_estimators 80\n",
      "f1 0.5651720542231491\n",
      "auc_roc 0.8562709114480231\n",
      "********************\n",
      "Глубина 6\n",
      "n_estimators 90\n",
      "f1 0.563467492260062\n",
      "auc_roc 0.8570957249431365\n",
      "********************\n",
      "Глубина 6\n",
      "n_estimators 100\n",
      "f1 0.5714285714285714\n",
      "auc_roc 0.858347500718073\n",
      "********************\n",
      "Глубина 7\n",
      "n_estimators 10\n",
      "f1 0.5617977528089888\n",
      "auc_roc 0.8460209056258102\n",
      "********************\n",
      "Глубина 7\n",
      "n_estimators 20\n",
      "f1 0.5602471678681772\n",
      "auc_roc 0.8510008383986585\n",
      "********************\n",
      "Глубина 7\n",
      "n_estimators 30\n",
      "f1 0.5581874356333677\n",
      "auc_roc 0.8529677759922992\n",
      "********************\n",
      "Глубина 7\n",
      "n_estimators 40\n",
      "f1 0.5607476635514018\n",
      "auc_roc 0.8540526483305776\n",
      "********************\n",
      "Глубина 7\n",
      "n_estimators 50\n",
      "f1 0.5616580310880829\n",
      "auc_roc 0.8553121870560562\n",
      "********************\n",
      "Глубина 7\n",
      "n_estimators 60\n",
      "f1 0.5578512396694215\n",
      "auc_roc 0.8558711194950978\n",
      "********************\n",
      "Глубина 7\n",
      "n_estimators 70\n",
      "f1 0.5563598759048604\n",
      "auc_roc 0.8547047361761259\n",
      "********************\n",
      "Глубина 7\n",
      "n_estimators 80\n",
      "f1 0.5579937304075235\n",
      "auc_roc 0.8563330150523611\n",
      "********************\n",
      "Глубина 7\n",
      "n_estimators 90\n",
      "f1 0.5615866388308978\n",
      "auc_roc 0.856395118656699\n",
      "********************\n",
      "Глубина 7\n",
      "n_estimators 100\n",
      "f1 0.5615866388308978\n",
      "auc_roc 0.8573344356723104\n",
      "********************\n",
      "Глубина 8\n",
      "n_estimators 10\n",
      "f1 0.5732620320855615\n",
      "auc_roc 0.8469223782575281\n",
      "********************\n",
      "Глубина 8\n",
      "n_estimators 20\n",
      "f1 0.5628997867803838\n",
      "auc_roc 0.8496335887344062\n",
      "********************\n",
      "Глубина 8\n",
      "n_estimators 30\n",
      "f1 0.5640495867768596\n",
      "auc_roc 0.852385554701631\n",
      "********************\n",
      "Глубина 8\n",
      "n_estimators 40\n",
      "f1 0.5619834710743802\n",
      "auc_roc 0.8543078553296537\n",
      "********************\n",
      "Глубина 8\n",
      "n_estimators 50\n",
      "f1 0.5642633228840126\n",
      "auc_roc 0.8544388551200541\n",
      "********************\n",
      "Глубина 8\n",
      "n_estimators 60\n",
      "f1 0.562564632885212\n",
      "auc_roc 0.8564940962761126\n",
      "********************\n",
      "Глубина 8\n",
      "n_estimators 70\n",
      "f1 0.5610766045548654\n",
      "auc_roc 0.8563213706265478\n",
      "********************\n",
      "Глубина 8\n",
      "n_estimators 80\n",
      "f1 0.5660770031217482\n",
      "auc_roc 0.8572645691174301\n",
      "********************\n",
      "Глубина 8\n",
      "n_estimators 90\n",
      "f1 0.5631469979296067\n",
      "auc_roc 0.857738109100507\n",
      "********************\n",
      "Глубина 8\n",
      "n_estimators 100\n",
      "f1 0.5615866388308978\n",
      "auc_roc 0.8578370867199204\n",
      "********************\n",
      "Глубина 9\n",
      "n_estimators 10\n",
      "f1 0.5327868852459017\n",
      "auc_roc 0.8310219148093807\n",
      "********************\n",
      "Глубина 9\n",
      "n_estimators 20\n",
      "f1 0.5504587155963303\n",
      "auc_roc 0.8444828710496285\n",
      "********************\n",
      "Глубина 9\n",
      "n_estimators 30\n",
      "f1 0.5546558704453441\n",
      "auc_roc 0.850654416730711\n",
      "********************\n",
      "Глубина 9\n",
      "n_estimators 40\n",
      "f1 0.556701030927835\n",
      "auc_roc 0.8546795065868635\n",
      "********************\n",
      "Глубина 9\n",
      "n_estimators 50\n",
      "f1 0.5572755417956656\n",
      "auc_roc 0.8565794887320772\n",
      "********************\n",
      "Глубина 9\n",
      "n_estimators 60\n",
      "f1 0.5617977528089888\n",
      "auc_roc 0.858448419075122\n",
      "********************\n",
      "Глубина 9\n",
      "n_estimators 70\n",
      "f1 0.5578512396694215\n",
      "auc_roc 0.8575731464014844\n",
      "********************\n",
      "Глубина 9\n",
      "n_estimators 80\n",
      "f1 0.5607476635514018\n",
      "auc_roc 0.8597312466522276\n",
      "********************\n",
      "Глубина 9\n",
      "n_estimators 90\n",
      "f1 0.5576131687242799\n",
      "auc_roc 0.8603910974483182\n",
      "********************\n",
      "Глубина 9\n",
      "n_estimators 100\n",
      "f1 0.5617283950617284\n",
      "auc_roc 0.8605405342462563\n",
      "********************\n",
      "Глубина 10\n",
      "n_estimators 10\n",
      "f1 0.5363357215967246\n",
      "auc_roc 0.8372041345474588\n",
      "********************\n",
      "Глубина 10\n",
      "n_estimators 20\n",
      "f1 0.5486542443064182\n",
      "auc_roc 0.8450097813176831\n",
      "********************\n",
      "Глубина 10\n",
      "n_estimators 30\n",
      "f1 0.5461767626613704\n",
      "auc_roc 0.8497218922968242\n",
      "********************\n",
      "Глубина 10\n",
      "n_estimators 40\n",
      "f1 0.5538771399798591\n",
      "auc_roc 0.8518634962776652\n",
      "********************\n",
      "Глубина 10\n",
      "n_estimators 50\n",
      "f1 0.5649948822927329\n",
      "auc_roc 0.8530551091858993\n",
      "********************\n",
      "Глубина 10\n",
      "n_estimators 60\n",
      "f1 0.560081466395112\n",
      "auc_roc 0.853604337936763\n",
      "********************\n",
      "Глубина 10\n",
      "n_estimators 70\n",
      "f1 0.5688073394495412\n",
      "auc_roc 0.8554790904927145\n",
      "********************\n",
      "Глубина 10\n",
      "n_estimators 80\n",
      "f1 0.5603271983640081\n",
      "auc_roc 0.856660999712771\n",
      "********************\n",
      "Глубина 10\n",
      "n_estimators 90\n",
      "f1 0.563265306122449\n",
      "auc_roc 0.8578370867199205\n",
      "********************\n",
      "Глубина 10\n",
      "n_estimators 100\n",
      "f1 0.5670419651995905\n",
      "auc_roc 0.8579593531909608\n",
      "********************\n",
      "Лучшая модель с глубиной - 5 , n_estimators - 10\n",
      "f1 -  0.5834254143646409\n",
      "auc_roc -  0.8605405342462563\n"
     ]
    }
   ],
   "source": [
    "f1_best = 0\n",
    "max_depth_best = 1\n",
    "auc_roc_best = 0\n",
    "n_estimators_best = []\n",
    "\n",
    "for max_depth_i in range(2, 11, 1):\n",
    "    for n_estimators_i in range(10, 101, 10):\n",
    "        model = RandomForestClassifier(random_state=12345, max_depth=max_depth_i, n_estimators=n_estimators_i)\n",
    "        model.fit(features_train_downsample, target_train_downsample)\n",
    "        prediction = model.predict(features_valid)\n",
    "        f1 = f1_score(target_valid, prediction)\n",
    "        if f1  > f1_best:\n",
    "            f1_best = f1\n",
    "            max_depth_best = max_depth_i\n",
    "            n_estimators_best = n_estimators_i\n",
    "            \n",
    "        probabilities_valid = model.predict_proba(features_valid)\n",
    "        probabilities_one_valid = probabilities_valid[:, 1]\n",
    "        roc_auc = roc_auc_score(target_valid, probabilities_one_valid)\n",
    "        if roc_auc > auc_roc_best:\n",
    "            auc_roc_best = roc_auc\n",
    "            \n",
    "        print('Глубина', max_depth_i)    \n",
    "        print('n_estimators', n_estimators_i)\n",
    "        print('f1', f1)\n",
    "        print('auc_roc', roc_auc)\n",
    "        print('*' * 20)\n",
    "            \n",
    "print('Лучшая модель с глубиной -', max_depth_best, ', n_estimators -', n_estimators_best)\n",
    "print('f1 - ', f1_best)\n",
    "print('auc_roc - ', auc_roc_best)"
   ]
  },
  {
   "cell_type": "markdown",
   "metadata": {},
   "source": [
    "<b>Output</b>\n",
    "\n",
    "The Random Forest model has the best f1 result when changing the imbalance by increasing a smaller value.\n",
    "- f1 - 0.599\n",
    "- auc_roc - 0.86\n",
    "\n",
    "The best method for dealing with imbalance for our task turned out to be upsample\n",
    "\n",
    "auc_roc almost always grows with f1. But if for f1 - 0.599 the best parameters turned out to be max_depth - 9 and n_estimators - 90, auc_roc with these parameters is equal to - 0.8612. The best parameters for auc_roc are 0.8619, max_depth - 8, n_estimators - 100. The difference in auc_roc is insignificant and is approximately 0.0007\n",
    "\n",
    "Further, when testing, we will use the result obtained"
   ]
  },
  {
   "cell_type": "markdown",
   "metadata": {},
   "source": [
    "## Model testing"
   ]
  },
  {
   "cell_type": "markdown",
   "metadata": {},
   "source": [
    "Testing using the Random Forest model"
   ]
  },
  {
   "cell_type": "code",
   "execution_count": 26,
   "metadata": {},
   "outputs": [
    {
     "name": "stdout",
     "output_type": "stream",
     "text": [
      "f1 - 0.6254295532646048\n",
      "roc_auc_score - 0.8691356024864844\n"
     ]
    }
   ],
   "source": [
    "model = RandomForestClassifier(random_state=12345, max_depth=9, n_estimators=90)\n",
    "model.fit(features_train_upsampled, target_train_upsampled)\n",
    "prediction = model.predict(features_test)\n",
    "\n",
    "f1 = f1_score(target_test, prediction)\n",
    "\n",
    "probabilities_test = model.predict_proba(features_test)\n",
    "probabilities_one_test = probabilities_test[:, 1]\n",
    "roc_auc = roc_auc_score(target_test, probabilities_one_test)\n",
    "\n",
    "print('f1 -', f1)\n",
    "print('roc_auc_score -', roc_auc)"
   ]
  },
  {
   "cell_type": "markdown",
   "metadata": {},
   "source": [
    "## General conclusion"
   ]
  },
  {
   "cell_type": "markdown",
   "metadata": {},
   "source": [
    "After working through data about Beta-Bank clients, we created a model to predict customer churn.\n",
    "For current data, the Random Forest model and the upsample method of working with imbalance are most suitable\n",
    "\n",
    "We encountered an imbalance in the current data, because... the share of those who left the bank was significantly less than those who still remained.\n",
    "\n",
    "After all the transformations, we made a customer churn prediction model that satisfied us and the task.\n",
    "\n",
    "The best parameters for the Random Forest model turned out to be\n",
    "- max_depth - 9\n",
    "- n_estimators - 90\n",
    "\n",
    "With these parameters we get:\n",
    "- f1 - 0.6254295532646048\n",
    "- roc_auc_score - 0.8691356024864844"
   ]
  }
 ],
 "metadata": {
  "ExecuteTimeLog": [
   {
    "duration": 795,
    "start_time": "2022-03-08T06:54:17.074Z"
   },
   {
    "duration": 6,
    "start_time": "2022-03-08T06:58:28.118Z"
   },
   {
    "duration": 8,
    "start_time": "2022-03-08T06:58:46.648Z"
   },
   {
    "duration": 863,
    "start_time": "2022-03-09T07:39:22.488Z"
   },
   {
    "duration": 7,
    "start_time": "2022-03-09T07:39:47.674Z"
   },
   {
    "duration": 6,
    "start_time": "2022-03-09T07:39:55.111Z"
   },
   {
    "duration": 7,
    "start_time": "2022-03-09T07:44:05.041Z"
   },
   {
    "duration": 9,
    "start_time": "2022-03-09T07:44:17.806Z"
   },
   {
    "duration": 5,
    "start_time": "2022-03-09T07:44:57.505Z"
   },
   {
    "duration": 10,
    "start_time": "2022-03-09T07:45:04.512Z"
   },
   {
    "duration": 5,
    "start_time": "2022-03-09T07:47:04.654Z"
   },
   {
    "duration": 6,
    "start_time": "2022-03-09T07:48:17.864Z"
   },
   {
    "duration": 8498,
    "start_time": "2022-03-09T07:50:59.310Z"
   },
   {
    "duration": 7,
    "start_time": "2022-03-09T07:51:19.380Z"
   },
   {
    "duration": 340,
    "start_time": "2022-03-09T07:51:36.708Z"
   },
   {
    "duration": 6,
    "start_time": "2022-03-09T07:51:47.921Z"
   },
   {
    "duration": 8,
    "start_time": "2022-03-09T07:51:52.274Z"
   },
   {
    "duration": 4215,
    "start_time": "2022-03-09T07:52:10.087Z"
   },
   {
    "duration": 4414,
    "start_time": "2022-03-09T07:56:38.218Z"
   },
   {
    "duration": -213,
    "start_time": "2022-03-09T07:56:42.849Z"
   },
   {
    "duration": 317,
    "start_time": "2022-03-09T07:56:53.710Z"
   },
   {
    "duration": 331,
    "start_time": "2022-03-09T07:57:33.365Z"
   },
   {
    "duration": 58,
    "start_time": "2022-03-09T07:57:50.850Z"
   },
   {
    "duration": 4,
    "start_time": "2022-03-09T07:57:50.911Z"
   },
   {
    "duration": 8,
    "start_time": "2022-03-09T07:57:50.918Z"
   },
   {
    "duration": 10,
    "start_time": "2022-03-09T07:57:53.657Z"
   },
   {
    "duration": 30,
    "start_time": "2022-03-09T07:57:55.448Z"
   },
   {
    "duration": 14,
    "start_time": "2022-03-09T07:58:36.409Z"
   },
   {
    "duration": 32,
    "start_time": "2022-03-09T07:58:37.650Z"
   },
   {
    "duration": 7,
    "start_time": "2022-03-09T08:00:16.217Z"
   },
   {
    "duration": 27,
    "start_time": "2022-03-09T08:00:20.563Z"
   },
   {
    "duration": 5,
    "start_time": "2022-03-09T08:07:08.855Z"
   },
   {
    "duration": 5,
    "start_time": "2022-03-09T08:07:21.518Z"
   },
   {
    "duration": 13,
    "start_time": "2022-03-09T08:07:34.058Z"
   },
   {
    "duration": 339,
    "start_time": "2022-03-09T08:07:48.600Z"
   },
   {
    "duration": 72,
    "start_time": "2022-03-09T08:08:08.045Z"
   },
   {
    "duration": 5,
    "start_time": "2022-03-09T08:08:08.120Z"
   },
   {
    "duration": 10,
    "start_time": "2022-03-09T08:08:08.128Z"
   },
   {
    "duration": 25,
    "start_time": "2022-03-09T08:08:08.141Z"
   },
   {
    "duration": 7,
    "start_time": "2022-03-09T08:08:08.169Z"
   },
   {
    "duration": 1056,
    "start_time": "2022-03-09T11:29:10.076Z"
   },
   {
    "duration": 4,
    "start_time": "2022-03-09T11:29:14.598Z"
   },
   {
    "duration": 4,
    "start_time": "2022-03-09T11:29:14.969Z"
   },
   {
    "duration": 10,
    "start_time": "2022-03-09T11:29:15.314Z"
   },
   {
    "duration": 5,
    "start_time": "2022-03-09T11:29:15.700Z"
   },
   {
    "duration": 4,
    "start_time": "2022-03-09T11:31:04.888Z"
   },
   {
    "duration": 7,
    "start_time": "2022-03-09T11:31:52.782Z"
   },
   {
    "duration": 6,
    "start_time": "2022-03-09T11:32:14.183Z"
   },
   {
    "duration": 4,
    "start_time": "2022-03-09T11:32:45.585Z"
   },
   {
    "duration": 265,
    "start_time": "2022-03-09T11:33:36.654Z"
   },
   {
    "duration": 8,
    "start_time": "2022-03-09T11:34:14.816Z"
   },
   {
    "duration": 180,
    "start_time": "2022-03-09T11:34:34.368Z"
   },
   {
    "duration": 5,
    "start_time": "2022-03-09T11:34:41.192Z"
   },
   {
    "duration": 40,
    "start_time": "2022-03-09T11:40:05.947Z"
   },
   {
    "duration": 3,
    "start_time": "2022-03-09T11:40:05.989Z"
   },
   {
    "duration": 5,
    "start_time": "2022-03-09T11:40:05.994Z"
   },
   {
    "duration": 12,
    "start_time": "2022-03-09T11:40:06.000Z"
   },
   {
    "duration": 5,
    "start_time": "2022-03-09T11:40:06.013Z"
   },
   {
    "duration": 10,
    "start_time": "2022-03-09T11:40:13.594Z"
   },
   {
    "duration": 69,
    "start_time": "2022-03-09T11:41:14.957Z"
   },
   {
    "duration": 10,
    "start_time": "2022-03-09T11:41:19.697Z"
   },
   {
    "duration": 10,
    "start_time": "2022-03-09T11:42:25.937Z"
   },
   {
    "duration": 6,
    "start_time": "2022-03-09T11:43:05.436Z"
   },
   {
    "duration": 6,
    "start_time": "2022-03-09T11:43:23.343Z"
   },
   {
    "duration": 4,
    "start_time": "2022-03-09T11:45:30.185Z"
   },
   {
    "duration": 6,
    "start_time": "2022-03-09T11:45:36.719Z"
   },
   {
    "duration": 6,
    "start_time": "2022-03-09T11:45:50.779Z"
   },
   {
    "duration": 38,
    "start_time": "2022-03-09T11:45:54.612Z"
   },
   {
    "duration": 3,
    "start_time": "2022-03-09T11:45:54.653Z"
   },
   {
    "duration": 4,
    "start_time": "2022-03-09T11:45:54.659Z"
   },
   {
    "duration": 12,
    "start_time": "2022-03-09T11:45:54.665Z"
   },
   {
    "duration": 6,
    "start_time": "2022-03-09T11:45:54.679Z"
   },
   {
    "duration": 11,
    "start_time": "2022-03-09T11:45:54.686Z"
   },
   {
    "duration": 4,
    "start_time": "2022-03-09T11:45:54.698Z"
   },
   {
    "duration": 6,
    "start_time": "2022-03-09T11:45:54.704Z"
   },
   {
    "duration": 6,
    "start_time": "2022-03-09T11:45:58.092Z"
   },
   {
    "duration": 10,
    "start_time": "2022-03-09T11:46:31.843Z"
   },
   {
    "duration": 6,
    "start_time": "2022-03-09T11:46:32.688Z"
   },
   {
    "duration": 36,
    "start_time": "2022-03-09T11:46:37.399Z"
   },
   {
    "duration": 3,
    "start_time": "2022-03-09T11:46:37.437Z"
   },
   {
    "duration": 4,
    "start_time": "2022-03-09T11:46:37.442Z"
   },
   {
    "duration": 10,
    "start_time": "2022-03-09T11:46:37.448Z"
   },
   {
    "duration": 5,
    "start_time": "2022-03-09T11:46:37.461Z"
   },
   {
    "duration": 11,
    "start_time": "2022-03-09T11:46:37.469Z"
   },
   {
    "duration": 13,
    "start_time": "2022-03-09T11:46:37.482Z"
   },
   {
    "duration": 11,
    "start_time": "2022-03-09T11:46:39.977Z"
   },
   {
    "duration": 13,
    "start_time": "2022-03-09T11:46:40.814Z"
   },
   {
    "duration": 44,
    "start_time": "2022-03-09T11:47:31.968Z"
   },
   {
    "duration": 3,
    "start_time": "2022-03-09T11:47:32.013Z"
   },
   {
    "duration": 5,
    "start_time": "2022-03-09T11:47:32.019Z"
   },
   {
    "duration": 13,
    "start_time": "2022-03-09T11:47:32.025Z"
   },
   {
    "duration": 5,
    "start_time": "2022-03-09T11:47:32.040Z"
   },
   {
    "duration": 21,
    "start_time": "2022-03-09T11:47:32.047Z"
   },
   {
    "duration": 14,
    "start_time": "2022-03-09T11:47:32.070Z"
   },
   {
    "duration": 12,
    "start_time": "2022-03-09T11:47:32.087Z"
   },
   {
    "duration": 8,
    "start_time": "2022-03-09T11:47:32.100Z"
   },
   {
    "duration": 5,
    "start_time": "2022-03-09T11:47:32.110Z"
   },
   {
    "duration": 5,
    "start_time": "2022-03-09T11:47:32.117Z"
   },
   {
    "duration": 35,
    "start_time": "2022-03-09T11:47:32.124Z"
   },
   {
    "duration": 211,
    "start_time": "2022-03-09T11:47:32.161Z"
   },
   {
    "duration": 234,
    "start_time": "2022-03-09T11:48:20.820Z"
   },
   {
    "duration": 40,
    "start_time": "2022-03-09T12:10:02.133Z"
   },
   {
    "duration": 4,
    "start_time": "2022-03-09T12:10:19.757Z"
   },
   {
    "duration": 4,
    "start_time": "2022-03-09T12:10:26.916Z"
   },
   {
    "duration": 5,
    "start_time": "2022-03-09T12:10:40.932Z"
   },
   {
    "duration": 11,
    "start_time": "2022-03-09T12:10:41.687Z"
   },
   {
    "duration": 12,
    "start_time": "2022-03-09T12:10:44.029Z"
   },
   {
    "duration": 12,
    "start_time": "2022-03-09T12:10:44.574Z"
   },
   {
    "duration": 178,
    "start_time": "2022-03-09T12:32:19.952Z"
   },
   {
    "duration": 189,
    "start_time": "2022-03-09T12:32:46.863Z"
   },
   {
    "duration": 198,
    "start_time": "2022-03-09T12:33:50.376Z"
   },
   {
    "duration": 230,
    "start_time": "2022-03-09T12:34:16.398Z"
   },
   {
    "duration": 42,
    "start_time": "2022-03-09T12:34:48.459Z"
   },
   {
    "duration": 4,
    "start_time": "2022-03-09T12:34:50.880Z"
   },
   {
    "duration": 4,
    "start_time": "2022-03-09T12:34:51.189Z"
   },
   {
    "duration": 6,
    "start_time": "2022-03-09T12:34:51.487Z"
   },
   {
    "duration": 11,
    "start_time": "2022-03-09T12:34:51.661Z"
   },
   {
    "duration": 12,
    "start_time": "2022-03-09T12:34:51.799Z"
   },
   {
    "duration": 14,
    "start_time": "2022-03-09T12:34:51.979Z"
   },
   {
    "duration": 6,
    "start_time": "2022-03-09T12:34:52.520Z"
   },
   {
    "duration": 9,
    "start_time": "2022-03-09T12:34:53.166Z"
   },
   {
    "duration": 5,
    "start_time": "2022-03-09T12:34:53.549Z"
   },
   {
    "duration": 5,
    "start_time": "2022-03-09T12:34:54.370Z"
   },
   {
    "duration": 194,
    "start_time": "2022-03-09T12:34:54.710Z"
   },
   {
    "duration": 219,
    "start_time": "2022-03-09T12:35:06.730Z"
   },
   {
    "duration": 389,
    "start_time": "2022-03-09T12:35:31.505Z"
   },
   {
    "duration": 366,
    "start_time": "2022-03-09T12:35:57.863Z"
   },
   {
    "duration": 374,
    "start_time": "2022-03-09T12:36:36.722Z"
   },
   {
    "duration": 367,
    "start_time": "2022-03-09T12:36:55.380Z"
   },
   {
    "duration": 382,
    "start_time": "2022-03-09T12:37:05.071Z"
   },
   {
    "duration": 354,
    "start_time": "2022-03-09T12:37:10.723Z"
   },
   {
    "duration": 1077,
    "start_time": "2022-03-09T12:37:15.175Z"
   },
   {
    "duration": 744,
    "start_time": "2022-03-09T12:37:35.599Z"
   },
   {
    "duration": 791,
    "start_time": "2022-03-09T12:37:45.059Z"
   },
   {
    "duration": 1493,
    "start_time": "2022-03-09T12:37:52.932Z"
   },
   {
    "duration": 1437,
    "start_time": "2022-03-09T12:38:01.812Z"
   },
   {
    "duration": 2171,
    "start_time": "2022-03-09T12:38:10.101Z"
   },
   {
    "duration": 365,
    "start_time": "2022-03-09T12:48:33.920Z"
   },
   {
    "duration": 200,
    "start_time": "2022-03-09T12:51:20.995Z"
   },
   {
    "duration": 6241,
    "start_time": "2022-03-09T12:52:15.925Z"
   },
   {
    "duration": 44,
    "start_time": "2022-03-09T12:52:51.114Z"
   },
   {
    "duration": 3,
    "start_time": "2022-03-09T12:52:51.160Z"
   },
   {
    "duration": 5,
    "start_time": "2022-03-09T12:52:51.165Z"
   },
   {
    "duration": 13,
    "start_time": "2022-03-09T12:52:51.172Z"
   },
   {
    "duration": 11,
    "start_time": "2022-03-09T12:52:51.187Z"
   },
   {
    "duration": 14,
    "start_time": "2022-03-09T12:52:51.200Z"
   },
   {
    "duration": 11,
    "start_time": "2022-03-09T12:52:51.216Z"
   },
   {
    "duration": 5,
    "start_time": "2022-03-09T12:52:51.229Z"
   },
   {
    "duration": 28,
    "start_time": "2022-03-09T12:52:51.235Z"
   },
   {
    "duration": 6,
    "start_time": "2022-03-09T12:52:51.265Z"
   },
   {
    "duration": 4,
    "start_time": "2022-03-09T12:52:51.273Z"
   },
   {
    "duration": 6026,
    "start_time": "2022-03-09T12:52:55.584Z"
   },
   {
    "duration": 27101,
    "start_time": "2022-03-09T12:54:48.389Z"
   },
   {
    "duration": 53729,
    "start_time": "2022-03-09T12:55:33.090Z"
   },
   {
    "duration": 11566,
    "start_time": "2022-03-09T12:56:57.581Z"
   },
   {
    "duration": 32973,
    "start_time": "2022-03-09T12:57:18.326Z"
   },
   {
    "duration": 22109,
    "start_time": "2022-03-09T12:58:10.493Z"
   },
   {
    "duration": 6,
    "start_time": "2022-03-09T13:01:46.045Z"
   },
   {
    "duration": 9,
    "start_time": "2022-03-09T13:03:18.364Z"
   },
   {
    "duration": 6,
    "start_time": "2022-03-09T13:10:41.885Z"
   },
   {
    "duration": 4,
    "start_time": "2022-03-09T13:13:26.473Z"
   },
   {
    "duration": 4,
    "start_time": "2022-03-09T13:14:22.484Z"
   },
   {
    "duration": 420,
    "start_time": "2022-03-09T13:16:53.864Z"
   },
   {
    "duration": 40,
    "start_time": "2022-03-09T13:17:16.387Z"
   },
   {
    "duration": 38,
    "start_time": "2022-03-09T13:17:23.226Z"
   },
   {
    "duration": 8,
    "start_time": "2022-03-09T13:17:23.266Z"
   },
   {
    "duration": 37,
    "start_time": "2022-03-09T13:17:23.276Z"
   },
   {
    "duration": 34,
    "start_time": "2022-03-09T13:17:23.314Z"
   },
   {
    "duration": 40,
    "start_time": "2022-03-09T13:17:23.350Z"
   },
   {
    "duration": 32,
    "start_time": "2022-03-09T13:17:23.392Z"
   },
   {
    "duration": 47,
    "start_time": "2022-03-09T13:17:23.426Z"
   },
   {
    "duration": 32,
    "start_time": "2022-03-09T13:17:23.476Z"
   },
   {
    "duration": 27,
    "start_time": "2022-03-09T13:17:23.510Z"
   },
   {
    "duration": 26,
    "start_time": "2022-03-09T13:17:23.539Z"
   },
   {
    "duration": 27,
    "start_time": "2022-03-09T13:17:23.566Z"
   },
   {
    "duration": 384,
    "start_time": "2022-03-09T13:17:23.595Z"
   },
   {
    "duration": 21739,
    "start_time": "2022-03-09T13:17:23.981Z"
   },
   {
    "duration": 6,
    "start_time": "2022-03-09T13:17:45.722Z"
   },
   {
    "duration": 3,
    "start_time": "2022-03-09T13:17:45.730Z"
   },
   {
    "duration": 6,
    "start_time": "2022-03-09T13:17:45.735Z"
   },
   {
    "duration": 10,
    "start_time": "2022-03-09T13:17:45.759Z"
   },
   {
    "duration": 12,
    "start_time": "2022-03-09T13:19:12.422Z"
   },
   {
    "duration": 5,
    "start_time": "2022-03-09T13:19:24.847Z"
   },
   {
    "duration": 6,
    "start_time": "2022-03-09T13:19:52.992Z"
   },
   {
    "duration": 14,
    "start_time": "2022-03-09T13:20:55.252Z"
   },
   {
    "duration": 6,
    "start_time": "2022-03-09T13:21:16.217Z"
   },
   {
    "duration": 12,
    "start_time": "2022-03-09T13:21:30.948Z"
   },
   {
    "duration": 6,
    "start_time": "2022-03-09T13:21:31.853Z"
   },
   {
    "duration": 13,
    "start_time": "2022-03-09T13:21:41.429Z"
   },
   {
    "duration": 6,
    "start_time": "2022-03-09T13:21:42.004Z"
   },
   {
    "duration": 12,
    "start_time": "2022-03-09T13:21:46.857Z"
   },
   {
    "duration": 6,
    "start_time": "2022-03-09T13:21:47.255Z"
   },
   {
    "duration": 280,
    "start_time": "2022-03-09T13:22:11.300Z"
   },
   {
    "duration": 186,
    "start_time": "2022-03-09T13:22:14.102Z"
   },
   {
    "duration": 6,
    "start_time": "2022-03-09T13:22:23.643Z"
   },
   {
    "duration": 11,
    "start_time": "2022-03-09T13:22:37.912Z"
   },
   {
    "duration": 5,
    "start_time": "2022-03-09T13:22:38.126Z"
   },
   {
    "duration": 2,
    "start_time": "2022-03-09T13:22:46.499Z"
   },
   {
    "duration": 6,
    "start_time": "2022-03-09T13:22:46.817Z"
   },
   {
    "duration": 13,
    "start_time": "2022-03-09T13:25:23.369Z"
   },
   {
    "duration": 6,
    "start_time": "2022-03-09T13:25:24.239Z"
   },
   {
    "duration": 389,
    "start_time": "2022-03-09T13:25:28.789Z"
   },
   {
    "duration": 39,
    "start_time": "2022-03-09T13:25:38.385Z"
   },
   {
    "duration": 3,
    "start_time": "2022-03-09T13:25:38.426Z"
   },
   {
    "duration": 5,
    "start_time": "2022-03-09T13:25:38.431Z"
   },
   {
    "duration": 5,
    "start_time": "2022-03-09T13:25:38.438Z"
   },
   {
    "duration": 10,
    "start_time": "2022-03-09T13:25:38.445Z"
   },
   {
    "duration": 12,
    "start_time": "2022-03-09T13:25:38.456Z"
   },
   {
    "duration": 11,
    "start_time": "2022-03-09T13:25:38.470Z"
   },
   {
    "duration": 4,
    "start_time": "2022-03-09T13:25:38.483Z"
   },
   {
    "duration": 5,
    "start_time": "2022-03-09T13:25:38.489Z"
   },
   {
    "duration": 5,
    "start_time": "2022-03-09T13:25:38.495Z"
   },
   {
    "duration": 3,
    "start_time": "2022-03-09T13:25:38.511Z"
   },
   {
    "duration": 369,
    "start_time": "2022-03-09T13:25:38.516Z"
   },
   {
    "duration": 22016,
    "start_time": "2022-03-09T13:25:38.887Z"
   },
   {
    "duration": 7,
    "start_time": "2022-03-09T13:26:00.905Z"
   },
   {
    "duration": 15,
    "start_time": "2022-03-09T13:26:00.914Z"
   },
   {
    "duration": 12,
    "start_time": "2022-03-09T13:26:00.931Z"
   },
   {
    "duration": 22,
    "start_time": "2022-03-09T13:26:00.944Z"
   },
   {
    "duration": 12,
    "start_time": "2022-03-09T13:26:00.967Z"
   },
   {
    "duration": 5,
    "start_time": "2022-03-09T13:26:00.981Z"
   },
   {
    "duration": 44,
    "start_time": "2022-03-09T13:26:34.501Z"
   },
   {
    "duration": 3,
    "start_time": "2022-03-09T13:26:34.547Z"
   },
   {
    "duration": 7,
    "start_time": "2022-03-09T13:26:34.552Z"
   },
   {
    "duration": 8,
    "start_time": "2022-03-09T13:26:34.560Z"
   },
   {
    "duration": 12,
    "start_time": "2022-03-09T13:26:34.570Z"
   },
   {
    "duration": 14,
    "start_time": "2022-03-09T13:26:34.583Z"
   },
   {
    "duration": 12,
    "start_time": "2022-03-09T13:26:34.598Z"
   },
   {
    "duration": 5,
    "start_time": "2022-03-09T13:26:34.612Z"
   },
   {
    "duration": 6,
    "start_time": "2022-03-09T13:26:34.619Z"
   },
   {
    "duration": 37,
    "start_time": "2022-03-09T13:26:34.626Z"
   },
   {
    "duration": 5,
    "start_time": "2022-03-09T13:26:34.665Z"
   },
   {
    "duration": 379,
    "start_time": "2022-03-09T13:26:34.672Z"
   },
   {
    "duration": 22395,
    "start_time": "2022-03-09T13:26:35.053Z"
   },
   {
    "duration": 10,
    "start_time": "2022-03-09T13:26:57.449Z"
   },
   {
    "duration": 10,
    "start_time": "2022-03-09T13:26:57.461Z"
   },
   {
    "duration": 15,
    "start_time": "2022-03-09T13:26:57.473Z"
   },
   {
    "duration": 45,
    "start_time": "2022-03-09T13:26:57.490Z"
   },
   {
    "duration": 13,
    "start_time": "2022-03-09T13:26:57.537Z"
   },
   {
    "duration": 14,
    "start_time": "2022-03-09T13:26:57.551Z"
   },
   {
    "duration": 978,
    "start_time": "2022-03-09T13:27:09.590Z"
   },
   {
    "duration": -100,
    "start_time": "2022-03-09T13:27:10.670Z"
   },
   {
    "duration": 41,
    "start_time": "2022-03-09T13:27:50.946Z"
   },
   {
    "duration": 3,
    "start_time": "2022-03-09T13:27:50.989Z"
   },
   {
    "duration": 5,
    "start_time": "2022-03-09T13:27:50.994Z"
   },
   {
    "duration": 6,
    "start_time": "2022-03-09T13:27:51.001Z"
   },
   {
    "duration": 10,
    "start_time": "2022-03-09T13:27:51.008Z"
   },
   {
    "duration": 43,
    "start_time": "2022-03-09T13:27:51.019Z"
   },
   {
    "duration": 11,
    "start_time": "2022-03-09T13:27:51.064Z"
   },
   {
    "duration": 5,
    "start_time": "2022-03-09T13:27:51.078Z"
   },
   {
    "duration": 7,
    "start_time": "2022-03-09T13:27:51.085Z"
   },
   {
    "duration": 5,
    "start_time": "2022-03-09T13:27:51.093Z"
   },
   {
    "duration": 7,
    "start_time": "2022-03-09T13:27:51.100Z"
   },
   {
    "duration": 392,
    "start_time": "2022-03-09T13:27:51.108Z"
   },
   {
    "duration": 22035,
    "start_time": "2022-03-09T13:27:51.502Z"
   },
   {
    "duration": 6,
    "start_time": "2022-03-09T13:28:13.539Z"
   },
   {
    "duration": 13,
    "start_time": "2022-03-09T13:28:13.547Z"
   },
   {
    "duration": 6,
    "start_time": "2022-03-09T13:28:13.562Z"
   },
   {
    "duration": 15,
    "start_time": "2022-03-09T13:28:13.569Z"
   },
   {
    "duration": 13,
    "start_time": "2022-03-09T13:28:13.585Z"
   },
   {
    "duration": 13,
    "start_time": "2022-03-09T13:28:18.218Z"
   },
   {
    "duration": 6,
    "start_time": "2022-03-09T13:28:19.628Z"
   },
   {
    "duration": 37,
    "start_time": "2022-03-09T13:30:17.254Z"
   },
   {
    "duration": 3,
    "start_time": "2022-03-09T13:30:17.293Z"
   },
   {
    "duration": 19,
    "start_time": "2022-03-09T13:30:17.298Z"
   },
   {
    "duration": 30,
    "start_time": "2022-03-09T13:30:17.318Z"
   },
   {
    "duration": 23,
    "start_time": "2022-03-09T13:30:17.349Z"
   },
   {
    "duration": 27,
    "start_time": "2022-03-09T13:30:17.373Z"
   },
   {
    "duration": 19,
    "start_time": "2022-03-09T13:30:17.402Z"
   },
   {
    "duration": 21,
    "start_time": "2022-03-09T13:30:17.424Z"
   },
   {
    "duration": 21,
    "start_time": "2022-03-09T13:30:17.446Z"
   },
   {
    "duration": 42,
    "start_time": "2022-03-09T13:30:17.469Z"
   },
   {
    "duration": 58,
    "start_time": "2022-03-09T13:30:17.513Z"
   },
   {
    "duration": 380,
    "start_time": "2022-03-09T13:30:17.573Z"
   },
   {
    "duration": 22226,
    "start_time": "2022-03-09T13:30:17.955Z"
   },
   {
    "duration": 6,
    "start_time": "2022-03-09T13:30:40.183Z"
   },
   {
    "duration": 11,
    "start_time": "2022-03-09T13:30:40.190Z"
   },
   {
    "duration": 27,
    "start_time": "2022-03-09T13:30:40.202Z"
   },
   {
    "duration": 44,
    "start_time": "2022-03-09T13:30:40.231Z"
   },
   {
    "duration": 13,
    "start_time": "2022-03-09T13:30:40.277Z"
   },
   {
    "duration": 10,
    "start_time": "2022-03-09T13:30:40.292Z"
   },
   {
    "duration": 5,
    "start_time": "2022-03-09T13:30:56.557Z"
   },
   {
    "duration": 353,
    "start_time": "2022-03-09T13:31:11.478Z"
   },
   {
    "duration": 23095,
    "start_time": "2022-03-09T13:31:59.019Z"
   },
   {
    "duration": 16,
    "start_time": "2022-03-09T13:39:20.246Z"
   },
   {
    "duration": 52,
    "start_time": "2022-03-09T13:40:51.613Z"
   },
   {
    "duration": 54,
    "start_time": "2022-03-09T13:41:05.322Z"
   },
   {
    "duration": 14,
    "start_time": "2022-03-09T13:41:08.184Z"
   },
   {
    "duration": 11,
    "start_time": "2022-03-09T13:42:41.651Z"
   },
   {
    "duration": 37,
    "start_time": "2022-03-09T13:43:35.051Z"
   },
   {
    "duration": 3,
    "start_time": "2022-03-09T13:43:35.089Z"
   },
   {
    "duration": 4,
    "start_time": "2022-03-09T13:43:35.094Z"
   },
   {
    "duration": 6,
    "start_time": "2022-03-09T13:43:35.100Z"
   },
   {
    "duration": 10,
    "start_time": "2022-03-09T13:43:35.107Z"
   },
   {
    "duration": 43,
    "start_time": "2022-03-09T13:43:35.118Z"
   },
   {
    "duration": 11,
    "start_time": "2022-03-09T13:43:35.163Z"
   },
   {
    "duration": 5,
    "start_time": "2022-03-09T13:43:35.176Z"
   },
   {
    "duration": 6,
    "start_time": "2022-03-09T13:43:35.183Z"
   },
   {
    "duration": 5,
    "start_time": "2022-03-09T13:43:35.191Z"
   },
   {
    "duration": 4,
    "start_time": "2022-03-09T13:43:35.198Z"
   },
   {
    "duration": 390,
    "start_time": "2022-03-09T13:43:35.204Z"
   },
   {
    "duration": 22103,
    "start_time": "2022-03-09T13:43:35.596Z"
   },
   {
    "duration": 6,
    "start_time": "2022-03-09T13:43:57.701Z"
   },
   {
    "duration": 5,
    "start_time": "2022-03-09T13:43:57.709Z"
   },
   {
    "duration": 7,
    "start_time": "2022-03-09T13:43:57.715Z"
   },
   {
    "duration": 13,
    "start_time": "2022-03-09T13:43:57.724Z"
   },
   {
    "duration": 29,
    "start_time": "2022-03-09T13:43:57.738Z"
   },
   {
    "duration": 5,
    "start_time": "2022-03-09T13:43:57.768Z"
   },
   {
    "duration": 353,
    "start_time": "2022-03-09T13:43:57.775Z"
   },
   {
    "duration": 22175,
    "start_time": "2022-03-09T13:43:58.129Z"
   },
   {
    "duration": 18,
    "start_time": "2022-03-09T13:44:20.306Z"
   },
   {
    "duration": 13,
    "start_time": "2022-03-09T13:44:20.326Z"
   },
   {
    "duration": 55,
    "start_time": "2022-03-09T13:44:20.359Z"
   },
   {
    "duration": 7,
    "start_time": "2022-03-09T13:46:03.695Z"
   },
   {
    "duration": 23,
    "start_time": "2022-03-09T13:47:28.904Z"
   },
   {
    "duration": 15,
    "start_time": "2022-03-09T13:47:30.129Z"
   },
   {
    "duration": 45,
    "start_time": "2022-03-09T13:47:36.787Z"
   },
   {
    "duration": 206,
    "start_time": "2022-03-09T13:47:44.802Z"
   },
   {
    "duration": 170,
    "start_time": "2022-03-09T13:47:52.996Z"
   },
   {
    "duration": 40,
    "start_time": "2022-03-09T13:56:01.494Z"
   },
   {
    "duration": 3,
    "start_time": "2022-03-09T13:56:11.262Z"
   },
   {
    "duration": 4,
    "start_time": "2022-03-09T13:56:13.094Z"
   },
   {
    "duration": 5,
    "start_time": "2022-03-09T13:56:14.823Z"
   },
   {
    "duration": 10,
    "start_time": "2022-03-09T13:56:17.139Z"
   },
   {
    "duration": 13,
    "start_time": "2022-03-09T13:56:23.724Z"
   },
   {
    "duration": 11,
    "start_time": "2022-03-09T13:57:04.762Z"
   },
   {
    "duration": 12,
    "start_time": "2022-03-09T13:57:05.266Z"
   },
   {
    "duration": 6,
    "start_time": "2022-03-09T13:57:18.406Z"
   },
   {
    "duration": 8,
    "start_time": "2022-03-09T13:57:20.836Z"
   },
   {
    "duration": 7,
    "start_time": "2022-03-09T13:57:22.312Z"
   },
   {
    "duration": 4,
    "start_time": "2022-03-09T13:57:36.269Z"
   },
   {
    "duration": 357,
    "start_time": "2022-03-09T13:57:42.931Z"
   },
   {
    "duration": 63,
    "start_time": "2022-03-09T13:58:03.078Z"
   },
   {
    "duration": 22461,
    "start_time": "2022-03-09T13:58:03.643Z"
   },
   {
    "duration": 6,
    "start_time": "2022-03-09T13:59:11.397Z"
   },
   {
    "duration": 4,
    "start_time": "2022-03-09T13:59:20.718Z"
   },
   {
    "duration": 5,
    "start_time": "2022-03-09T13:59:22.563Z"
   },
   {
    "duration": 12,
    "start_time": "2022-03-09T14:04:36.353Z"
   },
   {
    "duration": 13,
    "start_time": "2022-03-09T14:04:47.148Z"
   },
   {
    "duration": 6,
    "start_time": "2022-03-09T14:04:48.067Z"
   },
   {
    "duration": 345,
    "start_time": "2022-03-09T14:06:44.503Z"
   },
   {
    "duration": 22507,
    "start_time": "2022-03-09T14:06:48.105Z"
   },
   {
    "duration": 26,
    "start_time": "2022-03-09T14:09:21.276Z"
   },
   {
    "duration": 44,
    "start_time": "2022-03-09T14:09:22.274Z"
   },
   {
    "duration": 7,
    "start_time": "2022-03-09T14:09:24.223Z"
   },
   {
    "duration": 183,
    "start_time": "2022-03-09T14:09:33.957Z"
   },
   {
    "duration": 37,
    "start_time": "2022-03-09T14:17:24.102Z"
   },
   {
    "duration": 3,
    "start_time": "2022-03-09T14:17:24.142Z"
   },
   {
    "duration": 9,
    "start_time": "2022-03-09T14:17:24.147Z"
   },
   {
    "duration": 7,
    "start_time": "2022-03-09T14:17:24.158Z"
   },
   {
    "duration": 12,
    "start_time": "2022-03-09T14:17:24.167Z"
   },
   {
    "duration": 13,
    "start_time": "2022-03-09T14:17:24.181Z"
   },
   {
    "duration": 12,
    "start_time": "2022-03-09T14:17:24.196Z"
   },
   {
    "duration": 5,
    "start_time": "2022-03-09T14:17:24.210Z"
   },
   {
    "duration": 6,
    "start_time": "2022-03-09T14:17:24.217Z"
   },
   {
    "duration": 37,
    "start_time": "2022-03-09T14:17:24.225Z"
   },
   {
    "duration": 4,
    "start_time": "2022-03-09T14:17:24.264Z"
   },
   {
    "duration": 404,
    "start_time": "2022-03-09T14:17:24.270Z"
   },
   {
    "duration": 69,
    "start_time": "2022-03-09T14:17:24.676Z"
   },
   {
    "duration": -65,
    "start_time": "2022-03-09T14:17:24.812Z"
   },
   {
    "duration": -67,
    "start_time": "2022-03-09T14:17:24.815Z"
   },
   {
    "duration": -74,
    "start_time": "2022-03-09T14:17:24.823Z"
   },
   {
    "duration": -78,
    "start_time": "2022-03-09T14:17:24.828Z"
   },
   {
    "duration": -81,
    "start_time": "2022-03-09T14:17:24.832Z"
   },
   {
    "duration": -85,
    "start_time": "2022-03-09T14:17:24.837Z"
   },
   {
    "duration": -88,
    "start_time": "2022-03-09T14:17:24.841Z"
   },
   {
    "duration": -96,
    "start_time": "2022-03-09T14:17:24.850Z"
   },
   {
    "duration": -100,
    "start_time": "2022-03-09T14:17:24.855Z"
   },
   {
    "duration": -105,
    "start_time": "2022-03-09T14:17:24.861Z"
   },
   {
    "duration": -108,
    "start_time": "2022-03-09T14:17:24.865Z"
   },
   {
    "duration": -134,
    "start_time": "2022-03-09T14:17:24.892Z"
   },
   {
    "duration": 40,
    "start_time": "2022-03-09T14:18:07.490Z"
   },
   {
    "duration": 5,
    "start_time": "2022-03-09T14:18:07.533Z"
   },
   {
    "duration": 9,
    "start_time": "2022-03-09T14:18:07.541Z"
   },
   {
    "duration": 4,
    "start_time": "2022-03-09T14:18:07.554Z"
   },
   {
    "duration": 13,
    "start_time": "2022-03-09T14:18:07.560Z"
   },
   {
    "duration": 14,
    "start_time": "2022-03-09T14:18:07.575Z"
   },
   {
    "duration": 13,
    "start_time": "2022-03-09T14:18:07.591Z"
   },
   {
    "duration": 6,
    "start_time": "2022-03-09T14:18:07.607Z"
   },
   {
    "duration": 6,
    "start_time": "2022-03-09T14:18:07.615Z"
   },
   {
    "duration": 6,
    "start_time": "2022-03-09T14:18:07.659Z"
   },
   {
    "duration": 11,
    "start_time": "2022-03-09T14:18:07.667Z"
   },
   {
    "duration": 379,
    "start_time": "2022-03-09T14:18:07.680Z"
   },
   {
    "duration": 75,
    "start_time": "2022-03-09T14:18:08.061Z"
   },
   {
    "duration": -139,
    "start_time": "2022-03-09T14:18:08.278Z"
   },
   {
    "duration": -142,
    "start_time": "2022-03-09T14:18:08.282Z"
   },
   {
    "duration": -146,
    "start_time": "2022-03-09T14:18:08.288Z"
   },
   {
    "duration": -148,
    "start_time": "2022-03-09T14:18:08.291Z"
   },
   {
    "duration": -150,
    "start_time": "2022-03-09T14:18:08.295Z"
   },
   {
    "duration": -154,
    "start_time": "2022-03-09T14:18:08.300Z"
   },
   {
    "duration": -158,
    "start_time": "2022-03-09T14:18:08.306Z"
   },
   {
    "duration": -163,
    "start_time": "2022-03-09T14:18:08.312Z"
   },
   {
    "duration": -174,
    "start_time": "2022-03-09T14:18:08.325Z"
   },
   {
    "duration": -177,
    "start_time": "2022-03-09T14:18:08.329Z"
   },
   {
    "duration": -178,
    "start_time": "2022-03-09T14:18:08.332Z"
   },
   {
    "duration": -181,
    "start_time": "2022-03-09T14:18:08.336Z"
   },
   {
    "duration": 37,
    "start_time": "2022-03-09T14:18:21.286Z"
   },
   {
    "duration": 3,
    "start_time": "2022-03-09T14:18:23.312Z"
   },
   {
    "duration": 4,
    "start_time": "2022-03-09T14:18:24.209Z"
   },
   {
    "duration": 6,
    "start_time": "2022-03-09T14:18:25.070Z"
   },
   {
    "duration": 11,
    "start_time": "2022-03-09T14:18:25.660Z"
   },
   {
    "duration": 12,
    "start_time": "2022-03-09T14:18:27.439Z"
   },
   {
    "duration": 12,
    "start_time": "2022-03-09T14:18:28.010Z"
   },
   {
    "duration": 5,
    "start_time": "2022-03-09T14:18:29.608Z"
   },
   {
    "duration": 7,
    "start_time": "2022-03-09T14:18:31.031Z"
   },
   {
    "duration": 6,
    "start_time": "2022-03-09T14:18:31.956Z"
   },
   {
    "duration": 4,
    "start_time": "2022-03-09T14:18:33.132Z"
   },
   {
    "duration": 385,
    "start_time": "2022-03-09T14:18:34.498Z"
   },
   {
    "duration": 71,
    "start_time": "2022-03-09T14:18:34.966Z"
   },
   {
    "duration": 22307,
    "start_time": "2022-03-09T14:18:36.902Z"
   },
   {
    "duration": 38,
    "start_time": "2022-03-09T14:31:15.577Z"
   },
   {
    "duration": 4,
    "start_time": "2022-03-09T14:31:20.471Z"
   },
   {
    "duration": 4,
    "start_time": "2022-03-09T14:31:24.276Z"
   },
   {
    "duration": 5,
    "start_time": "2022-03-09T14:31:26.275Z"
   },
   {
    "duration": 11,
    "start_time": "2022-03-09T14:31:29.422Z"
   },
   {
    "duration": 13,
    "start_time": "2022-03-09T14:31:38.711Z"
   },
   {
    "duration": 12,
    "start_time": "2022-03-09T14:31:44.075Z"
   },
   {
    "duration": 5,
    "start_time": "2022-03-09T14:31:48.036Z"
   },
   {
    "duration": 7,
    "start_time": "2022-03-09T14:31:49.075Z"
   },
   {
    "duration": 7,
    "start_time": "2022-03-09T14:31:50.871Z"
   },
   {
    "duration": 4,
    "start_time": "2022-03-09T14:31:53.527Z"
   },
   {
    "duration": 366,
    "start_time": "2022-03-09T14:31:57.640Z"
   },
   {
    "duration": 22747,
    "start_time": "2022-03-09T14:32:02.132Z"
   },
   {
    "duration": 7,
    "start_time": "2022-03-09T14:32:49.204Z"
   },
   {
    "duration": 4,
    "start_time": "2022-03-09T14:32:55.191Z"
   },
   {
    "duration": 4,
    "start_time": "2022-03-09T14:32:58.137Z"
   },
   {
    "duration": 12,
    "start_time": "2022-03-09T14:33:06.786Z"
   },
   {
    "duration": 12,
    "start_time": "2022-03-09T14:33:10.734Z"
   },
   {
    "duration": 6,
    "start_time": "2022-03-09T14:33:14.474Z"
   },
   {
    "duration": 349,
    "start_time": "2022-03-09T14:33:18.963Z"
   },
   {
    "duration": 22077,
    "start_time": "2022-03-09T14:33:25.520Z"
   },
   {
    "duration": 22,
    "start_time": "2022-03-09T14:37:25.079Z"
   },
   {
    "duration": 46,
    "start_time": "2022-03-09T14:37:26.277Z"
   },
   {
    "duration": 178,
    "start_time": "2022-03-09T14:37:29.551Z"
   },
   {
    "duration": 1179,
    "start_time": "2022-03-10T05:32:24.819Z"
   },
   {
    "duration": 5,
    "start_time": "2022-03-10T05:32:26.000Z"
   },
   {
    "duration": 20,
    "start_time": "2022-03-10T05:32:26.007Z"
   },
   {
    "duration": 28,
    "start_time": "2022-03-10T05:32:26.029Z"
   },
   {
    "duration": 13,
    "start_time": "2022-03-10T05:32:26.059Z"
   },
   {
    "duration": 27,
    "start_time": "2022-03-10T05:32:26.074Z"
   },
   {
    "duration": 17,
    "start_time": "2022-03-10T05:32:26.103Z"
   },
   {
    "duration": 22,
    "start_time": "2022-03-10T05:32:26.122Z"
   },
   {
    "duration": 17,
    "start_time": "2022-03-10T05:32:26.147Z"
   },
   {
    "duration": 15,
    "start_time": "2022-03-10T05:32:26.166Z"
   },
   {
    "duration": 27,
    "start_time": "2022-03-10T05:32:26.182Z"
   },
   {
    "duration": 432,
    "start_time": "2022-03-10T05:32:26.211Z"
   },
   {
    "duration": 23821,
    "start_time": "2022-03-10T05:32:26.646Z"
   },
   {
    "duration": 13,
    "start_time": "2022-03-10T05:32:50.469Z"
   },
   {
    "duration": 19,
    "start_time": "2022-03-10T05:32:50.484Z"
   },
   {
    "duration": 59,
    "start_time": "2022-03-10T05:32:50.505Z"
   },
   {
    "duration": 22,
    "start_time": "2022-03-10T05:32:50.566Z"
   },
   {
    "duration": 14,
    "start_time": "2022-03-10T05:32:50.590Z"
   },
   {
    "duration": 6,
    "start_time": "2022-03-10T05:32:50.606Z"
   },
   {
    "duration": 389,
    "start_time": "2022-03-10T05:32:50.613Z"
   },
   {
    "duration": 24167,
    "start_time": "2022-03-10T05:32:51.005Z"
   },
   {
    "duration": 34,
    "start_time": "2022-03-10T05:33:15.174Z"
   },
   {
    "duration": 46,
    "start_time": "2022-03-10T05:33:15.211Z"
   },
   {
    "duration": 203,
    "start_time": "2022-03-10T05:33:15.259Z"
   },
   {
    "duration": 1547,
    "start_time": "2022-03-10T07:40:10.961Z"
   },
   {
    "duration": 91,
    "start_time": "2022-03-10T07:41:30.164Z"
   },
   {
    "duration": 5,
    "start_time": "2022-03-10T07:41:43.449Z"
   },
   {
    "duration": 5,
    "start_time": "2022-03-10T07:41:55.375Z"
   },
   {
    "duration": 7,
    "start_time": "2022-03-10T07:41:57.997Z"
   },
   {
    "duration": 14,
    "start_time": "2022-03-10T07:44:16.345Z"
   },
   {
    "duration": 10,
    "start_time": "2022-03-10T07:44:21.385Z"
   },
   {
    "duration": 446,
    "start_time": "2022-03-10T07:47:23.994Z"
   },
   {
    "duration": 53,
    "start_time": "2022-03-10T07:47:46.843Z"
   },
   {
    "duration": 4,
    "start_time": "2022-03-10T07:47:46.899Z"
   },
   {
    "duration": 7,
    "start_time": "2022-03-10T07:47:46.906Z"
   },
   {
    "duration": 9,
    "start_time": "2022-03-10T07:47:46.916Z"
   },
   {
    "duration": 47,
    "start_time": "2022-03-10T07:47:46.928Z"
   },
   {
    "duration": 296,
    "start_time": "2022-03-10T07:47:50.764Z"
   },
   {
    "duration": 13,
    "start_time": "2022-03-10T07:48:11.529Z"
   },
   {
    "duration": 17,
    "start_time": "2022-03-10T07:48:14.058Z"
   },
   {
    "duration": 21,
    "start_time": "2022-03-10T07:50:53.662Z"
   },
   {
    "duration": 53,
    "start_time": "2022-03-10T07:51:04.496Z"
   },
   {
    "duration": 5,
    "start_time": "2022-03-10T07:51:04.551Z"
   },
   {
    "duration": 7,
    "start_time": "2022-03-10T07:51:04.559Z"
   },
   {
    "duration": 12,
    "start_time": "2022-03-10T07:51:04.569Z"
   },
   {
    "duration": 22,
    "start_time": "2022-03-10T07:51:04.583Z"
   },
   {
    "duration": 25,
    "start_time": "2022-03-10T07:51:07.614Z"
   },
   {
    "duration": 16,
    "start_time": "2022-03-10T07:51:10.624Z"
   },
   {
    "duration": 314,
    "start_time": "2022-03-10T07:53:38.701Z"
   },
   {
    "duration": 51,
    "start_time": "2022-03-10T07:53:48.710Z"
   },
   {
    "duration": 6,
    "start_time": "2022-03-10T07:53:48.763Z"
   },
   {
    "duration": 20,
    "start_time": "2022-03-10T07:53:48.772Z"
   },
   {
    "duration": 16,
    "start_time": "2022-03-10T07:53:48.795Z"
   },
   {
    "duration": 29,
    "start_time": "2022-03-10T07:53:48.813Z"
   },
   {
    "duration": 291,
    "start_time": "2022-03-10T07:53:51.443Z"
   },
   {
    "duration": 13,
    "start_time": "2022-03-10T07:54:28.088Z"
   },
   {
    "duration": 14,
    "start_time": "2022-03-10T07:55:52.421Z"
   },
   {
    "duration": 12,
    "start_time": "2022-03-10T07:56:05.180Z"
   },
   {
    "duration": 14,
    "start_time": "2022-03-10T07:57:27.666Z"
   },
   {
    "duration": 16,
    "start_time": "2022-03-10T07:57:28.387Z"
   },
   {
    "duration": 13,
    "start_time": "2022-03-10T07:57:53.035Z"
   },
   {
    "duration": 50,
    "start_time": "2022-03-10T07:58:02.433Z"
   },
   {
    "duration": 37,
    "start_time": "2022-03-10T07:58:02.486Z"
   },
   {
    "duration": 6,
    "start_time": "2022-03-10T07:58:02.573Z"
   },
   {
    "duration": 42,
    "start_time": "2022-03-10T07:58:02.581Z"
   },
   {
    "duration": 34,
    "start_time": "2022-03-10T07:58:02.626Z"
   },
   {
    "duration": 13,
    "start_time": "2022-03-10T07:58:10.309Z"
   },
   {
    "duration": 17,
    "start_time": "2022-03-10T07:58:12.357Z"
   },
   {
    "duration": 107,
    "start_time": "2022-03-10T08:01:49.915Z"
   },
   {
    "duration": 7,
    "start_time": "2022-03-10T08:03:32.771Z"
   },
   {
    "duration": 46,
    "start_time": "2022-03-10T08:08:36.943Z"
   },
   {
    "duration": 18,
    "start_time": "2022-03-10T08:08:42.838Z"
   },
   {
    "duration": 156,
    "start_time": "2022-03-10T08:10:54.244Z"
   },
   {
    "duration": 16,
    "start_time": "2022-03-10T08:10:55.025Z"
   },
   {
    "duration": 88,
    "start_time": "2022-03-10T08:11:03.949Z"
   },
   {
    "duration": 260,
    "start_time": "2022-03-10T08:11:16.383Z"
   },
   {
    "duration": 96,
    "start_time": "2022-03-10T08:11:34.301Z"
   },
   {
    "duration": 52,
    "start_time": "2022-03-10T08:11:38.601Z"
   },
   {
    "duration": 5,
    "start_time": "2022-03-10T08:11:38.655Z"
   },
   {
    "duration": 24,
    "start_time": "2022-03-10T08:11:38.662Z"
   },
   {
    "duration": 46,
    "start_time": "2022-03-10T08:11:38.689Z"
   },
   {
    "duration": 26,
    "start_time": "2022-03-10T08:11:38.744Z"
   },
   {
    "duration": 50,
    "start_time": "2022-03-10T08:11:38.773Z"
   },
   {
    "duration": 40,
    "start_time": "2022-03-10T08:11:38.826Z"
   },
   {
    "duration": 103,
    "start_time": "2022-03-10T08:11:41.898Z"
   },
   {
    "duration": 102,
    "start_time": "2022-03-10T08:12:12.010Z"
   },
   {
    "duration": 93,
    "start_time": "2022-03-10T08:12:31.268Z"
   },
   {
    "duration": 96,
    "start_time": "2022-03-10T08:13:02.867Z"
   },
   {
    "duration": 9,
    "start_time": "2022-03-10T08:13:23.429Z"
   },
   {
    "duration": 16,
    "start_time": "2022-03-10T08:13:25.609Z"
   },
   {
    "duration": 60,
    "start_time": "2022-03-10T08:13:35.816Z"
   },
   {
    "duration": 5,
    "start_time": "2022-03-10T08:13:35.878Z"
   },
   {
    "duration": 13,
    "start_time": "2022-03-10T08:13:35.886Z"
   },
   {
    "duration": 14,
    "start_time": "2022-03-10T08:13:35.902Z"
   },
   {
    "duration": 19,
    "start_time": "2022-03-10T08:13:35.919Z"
   },
   {
    "duration": 32,
    "start_time": "2022-03-10T08:13:35.941Z"
   },
   {
    "duration": 17,
    "start_time": "2022-03-10T08:13:35.976Z"
   },
   {
    "duration": 11,
    "start_time": "2022-03-10T08:13:35.996Z"
   },
   {
    "duration": 588,
    "start_time": "2022-03-10T08:13:39.275Z"
   },
   {
    "duration": 292,
    "start_time": "2022-03-10T08:13:57.151Z"
   },
   {
    "duration": 51,
    "start_time": "2022-03-10T08:14:00.963Z"
   },
   {
    "duration": 5,
    "start_time": "2022-03-10T08:14:01.017Z"
   },
   {
    "duration": 26,
    "start_time": "2022-03-10T08:14:01.025Z"
   },
   {
    "duration": 22,
    "start_time": "2022-03-10T08:14:01.053Z"
   },
   {
    "duration": 27,
    "start_time": "2022-03-10T08:14:01.077Z"
   },
   {
    "duration": 31,
    "start_time": "2022-03-10T08:14:01.107Z"
   },
   {
    "duration": 29,
    "start_time": "2022-03-10T08:14:01.141Z"
   },
   {
    "duration": 8,
    "start_time": "2022-03-10T08:14:05.098Z"
   },
   {
    "duration": 16,
    "start_time": "2022-03-10T08:14:09.220Z"
   },
   {
    "duration": 52,
    "start_time": "2022-03-10T09:04:51.087Z"
   },
   {
    "duration": 54,
    "start_time": "2022-03-10T09:05:09.484Z"
   },
   {
    "duration": 4,
    "start_time": "2022-03-10T09:05:09.541Z"
   },
   {
    "duration": 48,
    "start_time": "2022-03-10T09:05:09.548Z"
   },
   {
    "duration": 36,
    "start_time": "2022-03-10T09:05:09.599Z"
   },
   {
    "duration": 40,
    "start_time": "2022-03-10T09:05:09.637Z"
   },
   {
    "duration": 49,
    "start_time": "2022-03-10T09:05:09.680Z"
   },
   {
    "duration": 43,
    "start_time": "2022-03-10T09:05:09.732Z"
   },
   {
    "duration": 38,
    "start_time": "2022-03-10T09:05:09.779Z"
   },
   {
    "duration": 41,
    "start_time": "2022-03-10T09:05:09.820Z"
   },
   {
    "duration": 35,
    "start_time": "2022-03-10T09:05:09.863Z"
   },
   {
    "duration": 40,
    "start_time": "2022-03-10T09:05:09.900Z"
   },
   {
    "duration": 56,
    "start_time": "2022-03-10T09:05:09.942Z"
   },
   {
    "duration": 54,
    "start_time": "2022-03-10T09:05:10.001Z"
   },
   {
    "duration": 53,
    "start_time": "2022-03-10T09:05:55.900Z"
   },
   {
    "duration": 4,
    "start_time": "2022-03-10T09:05:55.956Z"
   },
   {
    "duration": 17,
    "start_time": "2022-03-10T09:05:55.963Z"
   },
   {
    "duration": 26,
    "start_time": "2022-03-10T09:05:55.982Z"
   },
   {
    "duration": 19,
    "start_time": "2022-03-10T09:05:56.010Z"
   },
   {
    "duration": 20,
    "start_time": "2022-03-10T09:05:56.031Z"
   },
   {
    "duration": 18,
    "start_time": "2022-03-10T09:05:56.054Z"
   },
   {
    "duration": 14,
    "start_time": "2022-03-10T09:05:56.083Z"
   },
   {
    "duration": 9,
    "start_time": "2022-03-10T09:05:56.100Z"
   },
   {
    "duration": 7,
    "start_time": "2022-03-10T09:05:56.112Z"
   },
   {
    "duration": 8,
    "start_time": "2022-03-10T09:05:56.122Z"
   },
   {
    "duration": 17,
    "start_time": "2022-03-10T09:07:35.113Z"
   },
   {
    "duration": 47,
    "start_time": "2022-03-10T09:12:30.794Z"
   },
   {
    "duration": 43,
    "start_time": "2022-03-10T09:12:41.679Z"
   },
   {
    "duration": 509,
    "start_time": "2022-03-10T09:14:06.066Z"
   },
   {
    "duration": 544,
    "start_time": "2022-03-10T10:12:04.664Z"
   },
   {
    "duration": 645,
    "start_time": "2022-03-10T10:14:03.971Z"
   },
   {
    "duration": 570,
    "start_time": "2022-03-10T10:14:18.455Z"
   },
   {
    "duration": 570,
    "start_time": "2022-03-10T10:14:27.883Z"
   },
   {
    "duration": 735,
    "start_time": "2022-03-10T10:30:13.253Z"
   },
   {
    "duration": 32661,
    "start_time": "2022-03-10T10:35:55.688Z"
   },
   {
    "duration": 35001,
    "start_time": "2022-03-10T10:38:26.572Z"
   },
   {
    "duration": 8,
    "start_time": "2022-03-10T10:41:41.850Z"
   },
   {
    "duration": 97,
    "start_time": "2022-03-10T10:42:01.362Z"
   },
   {
    "duration": 62,
    "start_time": "2022-03-10T10:45:15.157Z"
   },
   {
    "duration": 5,
    "start_time": "2022-03-10T10:45:15.222Z"
   },
   {
    "duration": 6,
    "start_time": "2022-03-10T10:45:15.231Z"
   },
   {
    "duration": 33,
    "start_time": "2022-03-10T10:45:15.241Z"
   },
   {
    "duration": 17,
    "start_time": "2022-03-10T10:45:15.277Z"
   },
   {
    "duration": 15,
    "start_time": "2022-03-10T10:45:15.315Z"
   },
   {
    "duration": 46,
    "start_time": "2022-03-10T10:45:15.333Z"
   },
   {
    "duration": 16,
    "start_time": "2022-03-10T10:45:15.385Z"
   },
   {
    "duration": 15,
    "start_time": "2022-03-10T10:45:15.404Z"
   },
   {
    "duration": 9,
    "start_time": "2022-03-10T10:45:15.422Z"
   },
   {
    "duration": 40,
    "start_time": "2022-03-10T10:45:15.433Z"
   },
   {
    "duration": 9,
    "start_time": "2022-03-10T10:45:15.476Z"
   },
   {
    "duration": 50,
    "start_time": "2022-03-10T10:45:15.487Z"
   },
   {
    "duration": 650,
    "start_time": "2022-03-10T10:45:15.540Z"
   },
   {
    "duration": 37707,
    "start_time": "2022-03-10T10:45:16.192Z"
   },
   {
    "duration": 7,
    "start_time": "2022-03-10T10:45:53.901Z"
   },
   {
    "duration": 18,
    "start_time": "2022-03-10T10:45:53.911Z"
   },
   {
    "duration": 31,
    "start_time": "2022-03-10T10:45:53.932Z"
   },
   {
    "duration": 613,
    "start_time": "2022-03-10T10:45:53.966Z"
   },
   {
    "duration": 638,
    "start_time": "2022-03-10T10:46:44.911Z"
   },
   {
    "duration": 16,
    "start_time": "2022-03-10T10:47:06.613Z"
   },
   {
    "duration": 797,
    "start_time": "2022-03-10T10:47:07.990Z"
   },
   {
    "duration": 10,
    "start_time": "2022-03-10T10:47:32.273Z"
   },
   {
    "duration": 10,
    "start_time": "2022-03-10T10:47:44.964Z"
   },
   {
    "duration": 8,
    "start_time": "2022-03-10T10:48:02.720Z"
   },
   {
    "duration": 48931,
    "start_time": "2022-03-10T10:51:03.907Z"
   },
   {
    "duration": 16,
    "start_time": "2022-03-10T10:57:10.331Z"
   },
   {
    "duration": 8,
    "start_time": "2022-03-10T10:57:11.173Z"
   },
   {
    "duration": 8,
    "start_time": "2022-03-10T10:57:20.630Z"
   },
   {
    "duration": 96,
    "start_time": "2022-03-10T10:57:41.464Z"
   },
   {
    "duration": 442,
    "start_time": "2022-03-10T10:59:09.147Z"
   },
   {
    "duration": 20996,
    "start_time": "2022-03-10T11:02:18.292Z"
   },
   {
    "duration": 17,
    "start_time": "2022-03-10T11:10:07.056Z"
   },
   {
    "duration": 8,
    "start_time": "2022-03-10T11:10:26.879Z"
   },
   {
    "duration": 308,
    "start_time": "2022-03-10T11:11:54.778Z"
   },
   {
    "duration": 126,
    "start_time": "2022-03-10T11:23:50.762Z"
   },
   {
    "duration": 60,
    "start_time": "2022-03-10T11:24:09.435Z"
   },
   {
    "duration": 4,
    "start_time": "2022-03-10T11:24:23.209Z"
   },
   {
    "duration": 5,
    "start_time": "2022-03-10T11:24:28.591Z"
   },
   {
    "duration": 7,
    "start_time": "2022-03-10T11:24:30.360Z"
   },
   {
    "duration": 16,
    "start_time": "2022-03-10T11:24:34.519Z"
   },
   {
    "duration": 14,
    "start_time": "2022-03-10T11:24:42.940Z"
   },
   {
    "duration": 18,
    "start_time": "2022-03-10T11:24:53.253Z"
   },
   {
    "duration": 10,
    "start_time": "2022-03-10T11:25:02.335Z"
   },
   {
    "duration": 7,
    "start_time": "2022-03-10T11:25:15.569Z"
   },
   {
    "duration": 10,
    "start_time": "2022-03-10T11:25:34.189Z"
   },
   {
    "duration": 10,
    "start_time": "2022-03-10T11:25:36.042Z"
   },
   {
    "duration": 5,
    "start_time": "2022-03-10T11:25:39.381Z"
   },
   {
    "duration": 45,
    "start_time": "2022-03-10T11:26:33.121Z"
   },
   {
    "duration": 600,
    "start_time": "2022-03-10T11:26:41.974Z"
   },
   {
    "duration": 35531,
    "start_time": "2022-03-10T11:27:09.322Z"
   },
   {
    "duration": 6,
    "start_time": "2022-03-10T11:29:40.699Z"
   },
   {
    "duration": 9,
    "start_time": "2022-03-10T11:29:44.851Z"
   },
   {
    "duration": 19,
    "start_time": "2022-03-10T11:30:01.574Z"
   },
   {
    "duration": 11,
    "start_time": "2022-03-10T11:30:02.736Z"
   },
   {
    "duration": 721,
    "start_time": "2022-03-10T11:30:28.919Z"
   },
   {
    "duration": 55374,
    "start_time": "2022-03-10T11:30:47.723Z"
   },
   {
    "duration": 16,
    "start_time": "2022-03-10T11:32:25.414Z"
   },
   {
    "duration": 9,
    "start_time": "2022-03-10T11:32:27.219Z"
   },
   {
    "duration": 349,
    "start_time": "2022-03-10T11:33:07.234Z"
   },
   {
    "duration": 23601,
    "start_time": "2022-03-10T11:33:15.127Z"
   },
   {
    "duration": 16,
    "start_time": "2022-03-10T11:38:04.473Z"
   },
   {
    "duration": 9,
    "start_time": "2022-03-10T11:38:40.074Z"
   },
   {
    "duration": 310,
    "start_time": "2022-03-10T11:38:45.134Z"
   },
   {
    "duration": 1386,
    "start_time": "2022-03-11T05:10:28.540Z"
   },
   {
    "duration": 5,
    "start_time": "2022-03-11T05:10:29.929Z"
   },
   {
    "duration": 7,
    "start_time": "2022-03-11T05:10:29.937Z"
   },
   {
    "duration": 7,
    "start_time": "2022-03-11T05:10:29.946Z"
   },
   {
    "duration": 15,
    "start_time": "2022-03-11T05:10:29.956Z"
   },
   {
    "duration": 14,
    "start_time": "2022-03-11T05:10:29.974Z"
   },
   {
    "duration": 56,
    "start_time": "2022-03-11T05:10:29.990Z"
   },
   {
    "duration": 10,
    "start_time": "2022-03-11T05:10:30.050Z"
   },
   {
    "duration": 7,
    "start_time": "2022-03-11T05:10:30.063Z"
   },
   {
    "duration": 8,
    "start_time": "2022-03-11T05:10:30.073Z"
   },
   {
    "duration": 49,
    "start_time": "2022-03-11T05:10:30.083Z"
   },
   {
    "duration": 7,
    "start_time": "2022-03-11T05:10:30.135Z"
   },
   {
    "duration": 47,
    "start_time": "2022-03-11T05:10:30.144Z"
   },
   {
    "duration": 582,
    "start_time": "2022-03-11T05:10:30.193Z"
   },
   {
    "duration": 32559,
    "start_time": "2022-03-11T05:10:30.777Z"
   },
   {
    "duration": 5,
    "start_time": "2022-03-11T05:11:03.338Z"
   },
   {
    "duration": 7,
    "start_time": "2022-03-11T05:11:03.345Z"
   },
   {
    "duration": 24,
    "start_time": "2022-03-11T05:11:03.354Z"
   },
   {
    "duration": 9,
    "start_time": "2022-03-11T05:11:03.380Z"
   },
   {
    "duration": 756,
    "start_time": "2022-03-11T05:11:03.392Z"
   },
   {
    "duration": 45367,
    "start_time": "2022-03-11T05:11:04.150Z"
   },
   {
    "duration": 28,
    "start_time": "2022-03-11T05:11:49.519Z"
   },
   {
    "duration": 8,
    "start_time": "2022-03-11T05:11:49.550Z"
   },
   {
    "duration": 356,
    "start_time": "2022-03-11T05:11:49.560Z"
   },
   {
    "duration": 20192,
    "start_time": "2022-03-11T05:11:49.918Z"
   },
   {
    "duration": 23,
    "start_time": "2022-03-11T05:12:10.114Z"
   },
   {
    "duration": 9,
    "start_time": "2022-03-11T05:12:10.140Z"
   },
   {
    "duration": 321,
    "start_time": "2022-03-11T05:12:10.151Z"
   },
   {
    "duration": 1915,
    "start_time": "2022-03-11T17:21:44.039Z"
   },
   {
    "duration": 5,
    "start_time": "2022-03-11T17:21:45.957Z"
   },
   {
    "duration": 13,
    "start_time": "2022-03-11T17:22:40.969Z"
   },
   {
    "duration": 8,
    "start_time": "2022-03-11T17:22:53.662Z"
   },
   {
    "duration": 7,
    "start_time": "2022-03-11T17:23:06.209Z"
   },
   {
    "duration": 71,
    "start_time": "2022-03-11T17:23:09.732Z"
   },
   {
    "duration": 11,
    "start_time": "2022-03-11T17:23:09.806Z"
   },
   {
    "duration": 12,
    "start_time": "2022-03-11T17:23:12.067Z"
   },
   {
    "duration": 16,
    "start_time": "2022-03-11T17:23:12.660Z"
   },
   {
    "duration": 59,
    "start_time": "2022-03-11T17:28:38.037Z"
   },
   {
    "duration": 9,
    "start_time": "2022-03-11T17:28:38.099Z"
   },
   {
    "duration": 9,
    "start_time": "2022-03-11T17:28:38.111Z"
   },
   {
    "duration": 8,
    "start_time": "2022-03-11T17:28:38.123Z"
   },
   {
    "duration": 16,
    "start_time": "2022-03-11T17:28:38.133Z"
   },
   {
    "duration": 48,
    "start_time": "2022-03-11T17:28:38.151Z"
   },
   {
    "duration": 19,
    "start_time": "2022-03-11T17:28:38.201Z"
   },
   {
    "duration": 11,
    "start_time": "2022-03-11T17:28:38.225Z"
   },
   {
    "duration": 50,
    "start_time": "2022-03-11T17:28:38.240Z"
   },
   {
    "duration": 10,
    "start_time": "2022-03-11T17:28:38.292Z"
   },
   {
    "duration": 8,
    "start_time": "2022-03-11T17:28:38.305Z"
   },
   {
    "duration": 10,
    "start_time": "2022-03-11T17:28:38.315Z"
   },
   {
    "duration": 110,
    "start_time": "2022-03-11T17:28:38.328Z"
   },
   {
    "duration": 605,
    "start_time": "2022-03-11T17:28:38.441Z"
   },
   {
    "duration": 33878,
    "start_time": "2022-03-11T17:28:39.049Z"
   },
   {
    "duration": 6,
    "start_time": "2022-03-11T17:29:12.929Z"
   },
   {
    "duration": 8,
    "start_time": "2022-03-11T17:29:12.937Z"
   },
   {
    "duration": 44,
    "start_time": "2022-03-11T17:29:12.948Z"
   },
   {
    "duration": 9,
    "start_time": "2022-03-11T17:29:12.995Z"
   },
   {
    "duration": 736,
    "start_time": "2022-03-11T17:29:13.006Z"
   },
   {
    "duration": 46112,
    "start_time": "2022-03-11T17:29:13.744Z"
   },
   {
    "duration": 32,
    "start_time": "2022-03-11T17:29:59.859Z"
   },
   {
    "duration": 8,
    "start_time": "2022-03-11T17:29:59.896Z"
   },
   {
    "duration": 356,
    "start_time": "2022-03-11T17:29:59.906Z"
   },
   {
    "duration": 21968,
    "start_time": "2022-03-11T17:30:00.264Z"
   },
   {
    "duration": 275,
    "start_time": "2022-03-11T17:30:22.235Z"
   },
   {
    "duration": 381,
    "start_time": "2022-03-11T17:32:25.486Z"
   },
   {
    "duration": 6,
    "start_time": "2022-03-11T17:34:36.181Z"
   },
   {
    "duration": 412,
    "start_time": "2022-03-11T17:35:03.530Z"
   },
   {
    "duration": 53,
    "start_time": "2022-03-11T17:35:16.515Z"
   },
   {
    "duration": 232,
    "start_time": "2022-03-11T17:35:16.571Z"
   },
   {
    "duration": 227,
    "start_time": "2022-03-11T17:35:18.944Z"
   },
   {
    "duration": 235,
    "start_time": "2022-03-11T17:35:26.266Z"
   },
   {
    "duration": 54,
    "start_time": "2022-03-11T17:35:49.199Z"
   },
   {
    "duration": 220,
    "start_time": "2022-03-11T17:35:49.256Z"
   },
   {
    "duration": 220,
    "start_time": "2022-03-11T17:35:51.406Z"
   },
   {
    "duration": 234,
    "start_time": "2022-03-11T17:36:03.322Z"
   },
   {
    "duration": 237,
    "start_time": "2022-03-11T17:36:18.223Z"
   },
   {
    "duration": 265,
    "start_time": "2022-03-11T17:36:22.460Z"
   },
   {
    "duration": 11,
    "start_time": "2022-03-11T17:36:39.393Z"
   },
   {
    "duration": 7,
    "start_time": "2022-03-11T17:37:03.745Z"
   },
   {
    "duration": 12,
    "start_time": "2022-03-11T17:37:05.128Z"
   },
   {
    "duration": 55,
    "start_time": "2022-03-11T17:37:48.744Z"
   },
   {
    "duration": 6,
    "start_time": "2022-03-11T17:37:48.803Z"
   },
   {
    "duration": 9,
    "start_time": "2022-03-11T17:37:48.812Z"
   },
   {
    "duration": 9,
    "start_time": "2022-03-11T17:37:48.824Z"
   },
   {
    "duration": 51,
    "start_time": "2022-03-11T17:37:48.836Z"
   },
   {
    "duration": 13,
    "start_time": "2022-03-11T17:37:48.889Z"
   },
   {
    "duration": 18,
    "start_time": "2022-03-11T17:37:48.905Z"
   },
   {
    "duration": 9,
    "start_time": "2022-03-11T17:37:48.927Z"
   },
   {
    "duration": 52,
    "start_time": "2022-03-11T17:37:48.938Z"
   },
   {
    "duration": 15,
    "start_time": "2022-03-11T17:37:48.992Z"
   },
   {
    "duration": 11,
    "start_time": "2022-03-11T17:37:49.009Z"
   },
   {
    "duration": 6,
    "start_time": "2022-03-11T17:37:49.023Z"
   },
   {
    "duration": 75,
    "start_time": "2022-03-11T17:37:49.032Z"
   },
   {
    "duration": 582,
    "start_time": "2022-03-11T17:37:49.109Z"
   },
   {
    "duration": 32844,
    "start_time": "2022-03-11T17:37:49.693Z"
   },
   {
    "duration": 5,
    "start_time": "2022-03-11T17:38:22.539Z"
   },
   {
    "duration": 13,
    "start_time": "2022-03-11T17:38:22.546Z"
   },
   {
    "duration": 37,
    "start_time": "2022-03-11T17:38:22.561Z"
   },
   {
    "duration": 8,
    "start_time": "2022-03-11T17:38:22.601Z"
   },
   {
    "duration": 740,
    "start_time": "2022-03-11T17:38:22.611Z"
   },
   {
    "duration": 45195,
    "start_time": "2022-03-11T17:38:23.354Z"
   },
   {
    "duration": 15,
    "start_time": "2022-03-11T17:39:08.551Z"
   },
   {
    "duration": 21,
    "start_time": "2022-03-11T17:39:08.570Z"
   },
   {
    "duration": 388,
    "start_time": "2022-03-11T17:43:34.747Z"
   },
   {
    "duration": 218,
    "start_time": "2022-03-11T17:44:13.410Z"
   },
   {
    "duration": 53,
    "start_time": "2022-03-11T17:45:45.670Z"
   },
   {
    "duration": 10,
    "start_time": "2022-03-11T17:46:33.454Z"
   },
   {
    "duration": 11,
    "start_time": "2022-03-11T17:46:43.539Z"
   },
   {
    "duration": 5,
    "start_time": "2022-03-11T17:46:52.382Z"
   },
   {
    "duration": 6,
    "start_time": "2022-03-11T17:46:53.512Z"
   },
   {
    "duration": 15,
    "start_time": "2022-03-11T17:46:54.141Z"
   },
   {
    "duration": 12,
    "start_time": "2022-03-11T17:46:57.440Z"
   },
   {
    "duration": 16,
    "start_time": "2022-03-11T17:46:58.884Z"
   },
   {
    "duration": 11,
    "start_time": "2022-03-11T17:47:03.179Z"
   },
   {
    "duration": 7,
    "start_time": "2022-03-11T17:47:17.184Z"
   },
   {
    "duration": 8,
    "start_time": "2022-03-11T17:47:19.056Z"
   },
   {
    "duration": 8,
    "start_time": "2022-03-11T17:47:20.085Z"
   },
   {
    "duration": 7,
    "start_time": "2022-03-11T17:47:21.690Z"
   },
   {
    "duration": 43,
    "start_time": "2022-03-11T17:47:27.624Z"
   },
   {
    "duration": 524,
    "start_time": "2022-03-11T17:47:34.422Z"
   },
   {
    "duration": 30585,
    "start_time": "2022-03-11T17:47:58.816Z"
   },
   {
    "duration": 6,
    "start_time": "2022-03-11T17:50:27.066Z"
   },
   {
    "duration": 6,
    "start_time": "2022-03-11T17:50:29.517Z"
   },
   {
    "duration": 15,
    "start_time": "2022-03-11T17:50:38.200Z"
   },
   {
    "duration": 8,
    "start_time": "2022-03-11T17:50:38.713Z"
   },
   {
    "duration": 663,
    "start_time": "2022-03-11T17:50:44.548Z"
   },
   {
    "duration": 42890,
    "start_time": "2022-03-11T17:50:54.906Z"
   },
   {
    "duration": 16,
    "start_time": "2022-03-11T17:51:47.852Z"
   },
   {
    "duration": 9,
    "start_time": "2022-03-11T17:51:48.907Z"
   },
   {
    "duration": 319,
    "start_time": "2022-03-11T17:51:54.720Z"
   },
   {
    "duration": 20010,
    "start_time": "2022-03-11T17:52:02.976Z"
   },
   {
    "duration": 362,
    "start_time": "2022-03-11T17:52:55.079Z"
   },
   {
    "duration": 83547,
    "start_time": "2022-03-11T17:54:33.269Z"
   },
   {
    "duration": 317,
    "start_time": "2022-03-11T17:56:22.214Z"
   },
   {
    "duration": 58243,
    "start_time": "2022-03-11T17:57:23.346Z"
   },
   {
    "duration": 235,
    "start_time": "2022-03-11T17:58:43.863Z"
   },
   {
    "duration": 46006,
    "start_time": "2022-03-11T17:59:01.909Z"
   },
   {
    "duration": 379,
    "start_time": "2022-03-11T18:00:05.841Z"
   },
   {
    "duration": 1103,
    "start_time": "2022-03-13T04:21:05.077Z"
   },
   {
    "duration": 10,
    "start_time": "2022-03-13T04:21:10.047Z"
   },
   {
    "duration": 4,
    "start_time": "2022-03-13T04:21:16.275Z"
   },
   {
    "duration": 6,
    "start_time": "2022-03-13T04:21:19.678Z"
   },
   {
    "duration": 10,
    "start_time": "2022-03-13T04:21:20.434Z"
   },
   {
    "duration": 10,
    "start_time": "2022-03-13T04:21:27.806Z"
   },
   {
    "duration": 11,
    "start_time": "2022-03-13T04:21:30.339Z"
   },
   {
    "duration": 6,
    "start_time": "2022-03-13T04:21:35.051Z"
   },
   {
    "duration": 5,
    "start_time": "2022-03-13T04:21:42.998Z"
   },
   {
    "duration": 7,
    "start_time": "2022-03-13T04:21:44.534Z"
   },
   {
    "duration": 7,
    "start_time": "2022-03-13T04:21:46.987Z"
   },
   {
    "duration": 4,
    "start_time": "2022-03-13T04:21:48.995Z"
   },
   {
    "duration": 32,
    "start_time": "2022-03-13T04:22:03.664Z"
   },
   {
    "duration": 325,
    "start_time": "2022-03-13T04:22:15.385Z"
   },
   {
    "duration": 18172,
    "start_time": "2022-03-13T04:22:27.480Z"
   },
   {
    "duration": 4,
    "start_time": "2022-03-13T04:23:41.021Z"
   },
   {
    "duration": 4,
    "start_time": "2022-03-13T04:23:43.599Z"
   },
   {
    "duration": 11,
    "start_time": "2022-03-13T04:23:48.709Z"
   },
   {
    "duration": 7,
    "start_time": "2022-03-13T04:23:49.287Z"
   },
   {
    "duration": 403,
    "start_time": "2022-03-13T04:23:52.798Z"
   },
   {
    "duration": 26116,
    "start_time": "2022-03-13T04:24:00.439Z"
   },
   {
    "duration": 10,
    "start_time": "2022-03-13T04:24:42.717Z"
   },
   {
    "duration": 6,
    "start_time": "2022-03-13T04:24:43.718Z"
   },
   {
    "duration": 189,
    "start_time": "2022-03-13T04:24:45.374Z"
   },
   {
    "duration": 11593,
    "start_time": "2022-03-13T04:24:52.412Z"
   },
   {
    "duration": 110,
    "start_time": "2022-03-13T04:37:59.148Z"
   },
   {
    "duration": 214,
    "start_time": "2022-03-13T04:38:35.136Z"
   },
   {
    "duration": 573,
    "start_time": "2022-03-13T04:43:28.457Z"
   },
   {
    "duration": 104,
    "start_time": "2022-03-13T04:44:49.192Z"
   },
   {
    "duration": 117,
    "start_time": "2022-03-13T04:48:01.147Z"
   },
   {
    "duration": 1212,
    "start_time": "2022-03-13T18:07:10.169Z"
   },
   {
    "duration": 8,
    "start_time": "2022-03-13T18:07:11.382Z"
   },
   {
    "duration": 3,
    "start_time": "2022-03-13T18:07:11.393Z"
   },
   {
    "duration": 8,
    "start_time": "2022-03-13T18:07:11.398Z"
   },
   {
    "duration": 14,
    "start_time": "2022-03-13T18:07:11.408Z"
   },
   {
    "duration": 11,
    "start_time": "2022-03-13T18:07:11.424Z"
   },
   {
    "duration": 13,
    "start_time": "2022-03-13T18:07:11.437Z"
   },
   {
    "duration": 30,
    "start_time": "2022-03-13T18:07:11.452Z"
   },
   {
    "duration": 5,
    "start_time": "2022-03-13T18:07:11.485Z"
   },
   {
    "duration": 7,
    "start_time": "2022-03-13T18:07:11.493Z"
   },
   {
    "duration": 5,
    "start_time": "2022-03-13T18:07:11.502Z"
   },
   {
    "duration": 6,
    "start_time": "2022-03-13T18:07:11.509Z"
   },
   {
    "duration": 65,
    "start_time": "2022-03-13T18:07:11.517Z"
   },
   {
    "duration": 413,
    "start_time": "2022-03-13T18:07:11.584Z"
   },
   {
    "duration": 22073,
    "start_time": "2022-03-13T18:07:11.999Z"
   },
   {
    "duration": 5,
    "start_time": "2022-03-13T18:07:34.076Z"
   },
   {
    "duration": 6,
    "start_time": "2022-03-13T18:07:34.083Z"
   },
   {
    "duration": 19,
    "start_time": "2022-03-13T18:07:34.090Z"
   },
   {
    "duration": 6,
    "start_time": "2022-03-13T18:07:34.111Z"
   },
   {
    "duration": 530,
    "start_time": "2022-03-13T18:07:34.119Z"
   },
   {
    "duration": 32067,
    "start_time": "2022-03-13T18:07:34.651Z"
   },
   {
    "duration": 12,
    "start_time": "2022-03-13T18:08:06.719Z"
   },
   {
    "duration": 5,
    "start_time": "2022-03-13T18:08:06.733Z"
   },
   {
    "duration": 271,
    "start_time": "2022-03-13T18:08:06.740Z"
   },
   {
    "duration": 14232,
    "start_time": "2022-03-13T18:08:07.013Z"
   },
   {
    "duration": 706,
    "start_time": "2022-03-13T18:08:21.247Z"
   }
  ],
  "kernelspec": {
   "display_name": "Python 3 (ipykernel)",
   "language": "python",
   "name": "python3"
  },
  "language_info": {
   "codemirror_mode": {
    "name": "ipython",
    "version": 3
   },
   "file_extension": ".py",
   "mimetype": "text/x-python",
   "name": "python",
   "nbconvert_exporter": "python",
   "pygments_lexer": "ipython3",
   "version": "3.9.5"
  },
  "toc": {
   "base_numbering": 1,
   "nav_menu": {},
   "number_sections": true,
   "sideBar": true,
   "skip_h1_title": true,
   "title_cell": "Содержание",
   "title_sidebar": "Contents",
   "toc_cell": true,
   "toc_position": {
    "height": "calc(100% - 180px)",
    "left": "10px",
    "top": "150px",
    "width": "165px"
   },
   "toc_section_display": true,
   "toc_window_display": true
  }
 },
 "nbformat": 4,
 "nbformat_minor": 2
}
