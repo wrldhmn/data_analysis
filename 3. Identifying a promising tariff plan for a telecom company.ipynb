{
 "cells": [
  {
   "cell_type": "markdown",
   "metadata": {},
   "source": [
    "# Identifying a promising tariff plan for a telecom company."
   ]
  },
  {
   "cell_type": "markdown",
   "metadata": {},
   "source": [
    "**Project Description**\n",
    "\n",
    "Clients are offered two tariff plans: \"Smart\" and \"Ultra\". To adjust the advertising budget, the commercial department wants to understand which tariff brings in more money."
   ]
  },
  {
   "cell_type": "markdown",
   "metadata": {},
   "source": [
    "**Task**\n",
    "\n",
    "It is necessary to analyze customer behavior and draw a conclusion about which tariff is better."
   ]
  },
  {
   "cell_type": "markdown",
   "metadata": {},
   "source": [
    "Конечно, я выделил названия таблиц и колонок красным цветом:\n",
    "\n",
    "**Data Description**\n",
    "\n",
    "Table: **users** (user information):\n",
    "\n",
    "- **user_id**: unique user identifier\n",
    "- **first_name**: user's first name\n",
    "- **last_name**: user's last name\n",
    "- **age**: user's age (years)\n",
    "- **reg_date**: tariff activation date (day, month, year)\n",
    "- **churn_date**: date of discontinuation of the tariff (if the value is missing, the tariff was still active at the time of data extraction)\n",
    "- **city**: user's city of residence\n",
    "- **tariff**: tariff plan name\n",
    "\n",
    "Table: **calls** (call information):\n",
    "\n",
    "- **id**: unique call number\n",
    "- **call_date**: call date\n",
    "- **duration**: call duration in minutes\n",
    "- **user_id**: user identifier who made the call\n",
    "\n",
    "Table: **messages** (message information):\n",
    "\n",
    "- **id**: unique message number\n",
    "- **message_date**: message date\n",
    "- **user_id**: user identifier who sent the message\n",
    "\n",
    "Table: **internet** (internet session information):\n",
    "\n",
    "- **id**: unique session number\n",
    "- **mb_used**: volume of internet traffic spent per session (in megabytes)\n",
    "- **session_date**: internet session date\n",
    "- **user_id**: user identifier\n",
    "\n",
    "Table: **tariffs** (tariff information):\n",
    "\n",
    "- **tariff_name**: tariff name\n",
    "- **rub_monthly_fee**: monthly subscription fee in rubles\n",
    "- **minutes_included**: number of minutes of calls included in the monthly subscription fee\n",
    "- **messages_included**: number of messages included in the monthly subscription fee\n",
    "- **mb_per_month_included**: volume of internet traffic included in the monthly subscription fee (in megabytes)\n",
    "- **rub_per_minute**: cost of a minute of call above the tariff package (for example, if the tariff includes 100 minutes of calls per month, then from the 101st minute, a fee will be charged)\n",
    "- **rub_per_message**: cost of sending a message above the tariff package\n",
    "- **rub_per_gb**: cost of additional gigabyte of internet traffic above the tariff package (1 gigabyte = 1024 megabytes)"
   ]
  },
  {
   "cell_type": "markdown",
   "metadata": {},
   "source": [
    "## Studying Data from the File"
   ]
  },
  {
   "cell_type": "markdown",
   "metadata": {},
   "source": [
    "Let's import the necessary libraries and take a look at the tables."
   ]
  },
  {
   "cell_type": "code",
   "execution_count": 37,
   "metadata": {
    "scrolled": true
   },
   "outputs": [
    {
     "name": "stdout",
     "output_type": "stream",
     "text": [
      "<class 'pandas.core.frame.DataFrame'>\n",
      "RangeIndex: 202607 entries, 0 to 202606\n",
      "Data columns (total 4 columns):\n",
      "id           202607 non-null object\n",
      "call_date    202607 non-null object\n",
      "duration     202607 non-null float64\n",
      "user_id      202607 non-null int64\n",
      "dtypes: float64(1), int64(1), object(2)\n",
      "memory usage: 6.2+ MB\n",
      "None\n"
     ]
    },
    {
     "data": {
      "text/html": [
       "<div>\n",
       "<style scoped>\n",
       "    .dataframe tbody tr th:only-of-type {\n",
       "        vertical-align: middle;\n",
       "    }\n",
       "\n",
       "    .dataframe tbody tr th {\n",
       "        vertical-align: top;\n",
       "    }\n",
       "\n",
       "    .dataframe thead th {\n",
       "        text-align: right;\n",
       "    }\n",
       "</style>\n",
       "<table border=\"1\" class=\"dataframe\">\n",
       "  <thead>\n",
       "    <tr style=\"text-align: right;\">\n",
       "      <th></th>\n",
       "      <th>id</th>\n",
       "      <th>call_date</th>\n",
       "      <th>duration</th>\n",
       "      <th>user_id</th>\n",
       "    </tr>\n",
       "  </thead>\n",
       "  <tbody>\n",
       "    <tr>\n",
       "      <td>0</td>\n",
       "      <td>1000_0</td>\n",
       "      <td>2018-07-25</td>\n",
       "      <td>0.00</td>\n",
       "      <td>1000</td>\n",
       "    </tr>\n",
       "    <tr>\n",
       "      <td>1</td>\n",
       "      <td>1000_1</td>\n",
       "      <td>2018-08-17</td>\n",
       "      <td>0.00</td>\n",
       "      <td>1000</td>\n",
       "    </tr>\n",
       "    <tr>\n",
       "      <td>2</td>\n",
       "      <td>1000_2</td>\n",
       "      <td>2018-06-11</td>\n",
       "      <td>2.85</td>\n",
       "      <td>1000</td>\n",
       "    </tr>\n",
       "    <tr>\n",
       "      <td>3</td>\n",
       "      <td>1000_3</td>\n",
       "      <td>2018-09-21</td>\n",
       "      <td>13.80</td>\n",
       "      <td>1000</td>\n",
       "    </tr>\n",
       "    <tr>\n",
       "      <td>4</td>\n",
       "      <td>1000_4</td>\n",
       "      <td>2018-12-15</td>\n",
       "      <td>5.18</td>\n",
       "      <td>1000</td>\n",
       "    </tr>\n",
       "  </tbody>\n",
       "</table>\n",
       "</div>"
      ],
      "text/plain": [
       "       id   call_date  duration  user_id\n",
       "0  1000_0  2018-07-25      0.00     1000\n",
       "1  1000_1  2018-08-17      0.00     1000\n",
       "2  1000_2  2018-06-11      2.85     1000\n",
       "3  1000_3  2018-09-21     13.80     1000\n",
       "4  1000_4  2018-12-15      5.18     1000"
      ]
     },
     "metadata": {},
     "output_type": "display_data"
    },
    {
     "name": "stdout",
     "output_type": "stream",
     "text": [
      "****************************************************************************************************\n",
      "<class 'pandas.core.frame.DataFrame'>\n",
      "RangeIndex: 149396 entries, 0 to 149395\n",
      "Data columns (total 5 columns):\n",
      "Unnamed: 0      149396 non-null int64\n",
      "id              149396 non-null object\n",
      "mb_used         149396 non-null float64\n",
      "session_date    149396 non-null object\n",
      "user_id         149396 non-null int64\n",
      "dtypes: float64(1), int64(2), object(2)\n",
      "memory usage: 5.7+ MB\n",
      "None\n"
     ]
    },
    {
     "data": {
      "text/html": [
       "<div>\n",
       "<style scoped>\n",
       "    .dataframe tbody tr th:only-of-type {\n",
       "        vertical-align: middle;\n",
       "    }\n",
       "\n",
       "    .dataframe tbody tr th {\n",
       "        vertical-align: top;\n",
       "    }\n",
       "\n",
       "    .dataframe thead th {\n",
       "        text-align: right;\n",
       "    }\n",
       "</style>\n",
       "<table border=\"1\" class=\"dataframe\">\n",
       "  <thead>\n",
       "    <tr style=\"text-align: right;\">\n",
       "      <th></th>\n",
       "      <th>Unnamed: 0</th>\n",
       "      <th>id</th>\n",
       "      <th>mb_used</th>\n",
       "      <th>session_date</th>\n",
       "      <th>user_id</th>\n",
       "    </tr>\n",
       "  </thead>\n",
       "  <tbody>\n",
       "    <tr>\n",
       "      <td>0</td>\n",
       "      <td>0</td>\n",
       "      <td>1000_0</td>\n",
       "      <td>112.95</td>\n",
       "      <td>2018-11-25</td>\n",
       "      <td>1000</td>\n",
       "    </tr>\n",
       "    <tr>\n",
       "      <td>1</td>\n",
       "      <td>1</td>\n",
       "      <td>1000_1</td>\n",
       "      <td>1052.81</td>\n",
       "      <td>2018-09-07</td>\n",
       "      <td>1000</td>\n",
       "    </tr>\n",
       "    <tr>\n",
       "      <td>2</td>\n",
       "      <td>2</td>\n",
       "      <td>1000_2</td>\n",
       "      <td>1197.26</td>\n",
       "      <td>2018-06-25</td>\n",
       "      <td>1000</td>\n",
       "    </tr>\n",
       "    <tr>\n",
       "      <td>3</td>\n",
       "      <td>3</td>\n",
       "      <td>1000_3</td>\n",
       "      <td>550.27</td>\n",
       "      <td>2018-08-22</td>\n",
       "      <td>1000</td>\n",
       "    </tr>\n",
       "    <tr>\n",
       "      <td>4</td>\n",
       "      <td>4</td>\n",
       "      <td>1000_4</td>\n",
       "      <td>302.56</td>\n",
       "      <td>2018-09-24</td>\n",
       "      <td>1000</td>\n",
       "    </tr>\n",
       "  </tbody>\n",
       "</table>\n",
       "</div>"
      ],
      "text/plain": [
       "   Unnamed: 0      id  mb_used session_date  user_id\n",
       "0           0  1000_0   112.95   2018-11-25     1000\n",
       "1           1  1000_1  1052.81   2018-09-07     1000\n",
       "2           2  1000_2  1197.26   2018-06-25     1000\n",
       "3           3  1000_3   550.27   2018-08-22     1000\n",
       "4           4  1000_4   302.56   2018-09-24     1000"
      ]
     },
     "metadata": {},
     "output_type": "display_data"
    },
    {
     "name": "stdout",
     "output_type": "stream",
     "text": [
      "****************************************************************************************************\n",
      "<class 'pandas.core.frame.DataFrame'>\n",
      "RangeIndex: 123036 entries, 0 to 123035\n",
      "Data columns (total 3 columns):\n",
      "id              123036 non-null object\n",
      "message_date    123036 non-null object\n",
      "user_id         123036 non-null int64\n",
      "dtypes: int64(1), object(2)\n",
      "memory usage: 2.8+ MB\n",
      "None\n"
     ]
    },
    {
     "data": {
      "text/html": [
       "<div>\n",
       "<style scoped>\n",
       "    .dataframe tbody tr th:only-of-type {\n",
       "        vertical-align: middle;\n",
       "    }\n",
       "\n",
       "    .dataframe tbody tr th {\n",
       "        vertical-align: top;\n",
       "    }\n",
       "\n",
       "    .dataframe thead th {\n",
       "        text-align: right;\n",
       "    }\n",
       "</style>\n",
       "<table border=\"1\" class=\"dataframe\">\n",
       "  <thead>\n",
       "    <tr style=\"text-align: right;\">\n",
       "      <th></th>\n",
       "      <th>id</th>\n",
       "      <th>message_date</th>\n",
       "      <th>user_id</th>\n",
       "    </tr>\n",
       "  </thead>\n",
       "  <tbody>\n",
       "    <tr>\n",
       "      <td>0</td>\n",
       "      <td>1000_0</td>\n",
       "      <td>2018-06-27</td>\n",
       "      <td>1000</td>\n",
       "    </tr>\n",
       "    <tr>\n",
       "      <td>1</td>\n",
       "      <td>1000_1</td>\n",
       "      <td>2018-10-08</td>\n",
       "      <td>1000</td>\n",
       "    </tr>\n",
       "    <tr>\n",
       "      <td>2</td>\n",
       "      <td>1000_2</td>\n",
       "      <td>2018-08-04</td>\n",
       "      <td>1000</td>\n",
       "    </tr>\n",
       "    <tr>\n",
       "      <td>3</td>\n",
       "      <td>1000_3</td>\n",
       "      <td>2018-06-16</td>\n",
       "      <td>1000</td>\n",
       "    </tr>\n",
       "    <tr>\n",
       "      <td>4</td>\n",
       "      <td>1000_4</td>\n",
       "      <td>2018-12-05</td>\n",
       "      <td>1000</td>\n",
       "    </tr>\n",
       "  </tbody>\n",
       "</table>\n",
       "</div>"
      ],
      "text/plain": [
       "       id message_date  user_id\n",
       "0  1000_0   2018-06-27     1000\n",
       "1  1000_1   2018-10-08     1000\n",
       "2  1000_2   2018-08-04     1000\n",
       "3  1000_3   2018-06-16     1000\n",
       "4  1000_4   2018-12-05     1000"
      ]
     },
     "metadata": {},
     "output_type": "display_data"
    },
    {
     "name": "stdout",
     "output_type": "stream",
     "text": [
      "****************************************************************************************************\n",
      "<class 'pandas.core.frame.DataFrame'>\n",
      "RangeIndex: 2 entries, 0 to 1\n",
      "Data columns (total 8 columns):\n",
      "messages_included        2 non-null int64\n",
      "mb_per_month_included    2 non-null int64\n",
      "minutes_included         2 non-null int64\n",
      "rub_monthly_fee          2 non-null int64\n",
      "rub_per_gb               2 non-null int64\n",
      "rub_per_message          2 non-null int64\n",
      "rub_per_minute           2 non-null int64\n",
      "tariff_name              2 non-null object\n",
      "dtypes: int64(7), object(1)\n",
      "memory usage: 256.0+ bytes\n",
      "None\n"
     ]
    },
    {
     "data": {
      "text/html": [
       "<div>\n",
       "<style scoped>\n",
       "    .dataframe tbody tr th:only-of-type {\n",
       "        vertical-align: middle;\n",
       "    }\n",
       "\n",
       "    .dataframe tbody tr th {\n",
       "        vertical-align: top;\n",
       "    }\n",
       "\n",
       "    .dataframe thead th {\n",
       "        text-align: right;\n",
       "    }\n",
       "</style>\n",
       "<table border=\"1\" class=\"dataframe\">\n",
       "  <thead>\n",
       "    <tr style=\"text-align: right;\">\n",
       "      <th></th>\n",
       "      <th>messages_included</th>\n",
       "      <th>mb_per_month_included</th>\n",
       "      <th>minutes_included</th>\n",
       "      <th>rub_monthly_fee</th>\n",
       "      <th>rub_per_gb</th>\n",
       "      <th>rub_per_message</th>\n",
       "      <th>rub_per_minute</th>\n",
       "      <th>tariff_name</th>\n",
       "    </tr>\n",
       "  </thead>\n",
       "  <tbody>\n",
       "    <tr>\n",
       "      <td>0</td>\n",
       "      <td>50</td>\n",
       "      <td>15360</td>\n",
       "      <td>500</td>\n",
       "      <td>550</td>\n",
       "      <td>200</td>\n",
       "      <td>3</td>\n",
       "      <td>3</td>\n",
       "      <td>smart</td>\n",
       "    </tr>\n",
       "    <tr>\n",
       "      <td>1</td>\n",
       "      <td>1000</td>\n",
       "      <td>30720</td>\n",
       "      <td>3000</td>\n",
       "      <td>1950</td>\n",
       "      <td>150</td>\n",
       "      <td>1</td>\n",
       "      <td>1</td>\n",
       "      <td>ultra</td>\n",
       "    </tr>\n",
       "  </tbody>\n",
       "</table>\n",
       "</div>"
      ],
      "text/plain": [
       "   messages_included  mb_per_month_included  minutes_included  \\\n",
       "0                 50                  15360               500   \n",
       "1               1000                  30720              3000   \n",
       "\n",
       "   rub_monthly_fee  rub_per_gb  rub_per_message  rub_per_minute tariff_name  \n",
       "0              550         200                3               3       smart  \n",
       "1             1950         150                1               1       ultra  "
      ]
     },
     "metadata": {},
     "output_type": "display_data"
    },
    {
     "name": "stdout",
     "output_type": "stream",
     "text": [
      "****************************************************************************************************\n",
      "<class 'pandas.core.frame.DataFrame'>\n",
      "RangeIndex: 500 entries, 0 to 499\n",
      "Data columns (total 8 columns):\n",
      "user_id       500 non-null int64\n",
      "age           500 non-null int64\n",
      "churn_date    38 non-null object\n",
      "city          500 non-null object\n",
      "first_name    500 non-null object\n",
      "last_name     500 non-null object\n",
      "reg_date      500 non-null object\n",
      "tariff        500 non-null object\n",
      "dtypes: int64(2), object(6)\n",
      "memory usage: 31.4+ KB\n",
      "None\n"
     ]
    },
    {
     "data": {
      "text/html": [
       "<div>\n",
       "<style scoped>\n",
       "    .dataframe tbody tr th:only-of-type {\n",
       "        vertical-align: middle;\n",
       "    }\n",
       "\n",
       "    .dataframe tbody tr th {\n",
       "        vertical-align: top;\n",
       "    }\n",
       "\n",
       "    .dataframe thead th {\n",
       "        text-align: right;\n",
       "    }\n",
       "</style>\n",
       "<table border=\"1\" class=\"dataframe\">\n",
       "  <thead>\n",
       "    <tr style=\"text-align: right;\">\n",
       "      <th></th>\n",
       "      <th>user_id</th>\n",
       "      <th>age</th>\n",
       "      <th>churn_date</th>\n",
       "      <th>city</th>\n",
       "      <th>first_name</th>\n",
       "      <th>last_name</th>\n",
       "      <th>reg_date</th>\n",
       "      <th>tariff</th>\n",
       "    </tr>\n",
       "  </thead>\n",
       "  <tbody>\n",
       "    <tr>\n",
       "      <td>0</td>\n",
       "      <td>1000</td>\n",
       "      <td>52</td>\n",
       "      <td>NaN</td>\n",
       "      <td>Краснодар</td>\n",
       "      <td>Рафаил</td>\n",
       "      <td>Верещагин</td>\n",
       "      <td>2018-05-25</td>\n",
       "      <td>ultra</td>\n",
       "    </tr>\n",
       "    <tr>\n",
       "      <td>1</td>\n",
       "      <td>1001</td>\n",
       "      <td>41</td>\n",
       "      <td>NaN</td>\n",
       "      <td>Москва</td>\n",
       "      <td>Иван</td>\n",
       "      <td>Ежов</td>\n",
       "      <td>2018-11-01</td>\n",
       "      <td>smart</td>\n",
       "    </tr>\n",
       "    <tr>\n",
       "      <td>2</td>\n",
       "      <td>1002</td>\n",
       "      <td>59</td>\n",
       "      <td>NaN</td>\n",
       "      <td>Стерлитамак</td>\n",
       "      <td>Евгений</td>\n",
       "      <td>Абрамович</td>\n",
       "      <td>2018-06-17</td>\n",
       "      <td>smart</td>\n",
       "    </tr>\n",
       "    <tr>\n",
       "      <td>3</td>\n",
       "      <td>1003</td>\n",
       "      <td>23</td>\n",
       "      <td>NaN</td>\n",
       "      <td>Москва</td>\n",
       "      <td>Белла</td>\n",
       "      <td>Белякова</td>\n",
       "      <td>2018-08-17</td>\n",
       "      <td>ultra</td>\n",
       "    </tr>\n",
       "    <tr>\n",
       "      <td>4</td>\n",
       "      <td>1004</td>\n",
       "      <td>68</td>\n",
       "      <td>NaN</td>\n",
       "      <td>Новокузнецк</td>\n",
       "      <td>Татьяна</td>\n",
       "      <td>Авдеенко</td>\n",
       "      <td>2018-05-14</td>\n",
       "      <td>ultra</td>\n",
       "    </tr>\n",
       "  </tbody>\n",
       "</table>\n",
       "</div>"
      ],
      "text/plain": [
       "   user_id  age churn_date         city first_name  last_name    reg_date  \\\n",
       "0     1000   52        NaN    Краснодар     Рафаил  Верещагин  2018-05-25   \n",
       "1     1001   41        NaN       Москва       Иван       Ежов  2018-11-01   \n",
       "2     1002   59        NaN  Стерлитамак    Евгений  Абрамович  2018-06-17   \n",
       "3     1003   23        NaN       Москва      Белла   Белякова  2018-08-17   \n",
       "4     1004   68        NaN  Новокузнецк    Татьяна   Авдеенко  2018-05-14   \n",
       "\n",
       "  tariff  \n",
       "0  ultra  \n",
       "1  smart  \n",
       "2  smart  \n",
       "3  ultra  \n",
       "4  ultra  "
      ]
     },
     "metadata": {},
     "output_type": "display_data"
    },
    {
     "name": "stdout",
     "output_type": "stream",
     "text": [
      "****************************************************************************************************\n"
     ]
    }
   ],
   "source": [
    "from scipy import stats as st\n",
    "import numpy as np\n",
    "import pandas as pd\n",
    "import math\n",
    "import seaborn as sns\n",
    "import matplotlib.pyplot as plt\n",
    "\n",
    "\n",
    "df_calls = pd.read_csv('/datasets/calls.csv')\n",
    "df_internet = pd.read_csv('/datasets/internet.csv')\n",
    "df_messages = pd.read_csv('/datasets/messages.csv')\n",
    "df_tariffs = pd.read_csv('/datasets/tariffs.csv')\n",
    "df_users = pd.read_csv('/datasets/users.csv')\n",
    "\n",
    "df_all = [df_calls, df_internet, df_messages, df_tariffs, df_users]\n",
    "\n",
    "for i in df_all:\n",
    "    print(i.info())\n",
    "    display(i.head())\n",
    "    print('*' * 100)\n",
    "    "
   ]
  },
  {
   "cell_type": "markdown",
   "metadata": {},
   "source": [
    "Let's check if there are any missing values in the tables."
   ]
  },
  {
   "cell_type": "code",
   "execution_count": 38,
   "metadata": {
    "scrolled": true
   },
   "outputs": [
    {
     "name": "stdout",
     "output_type": "stream",
     "text": [
      "id           0.0\n",
      "call_date    0.0\n",
      "duration     0.0\n",
      "user_id      0.0\n",
      "dtype: float64\n",
      "****************************************************************************************************\n",
      "Unnamed: 0      0.0\n",
      "id              0.0\n",
      "mb_used         0.0\n",
      "session_date    0.0\n",
      "user_id         0.0\n",
      "dtype: float64\n",
      "****************************************************************************************************\n",
      "id              0.0\n",
      "message_date    0.0\n",
      "user_id         0.0\n",
      "dtype: float64\n",
      "****************************************************************************************************\n",
      "messages_included        0.0\n",
      "mb_per_month_included    0.0\n",
      "minutes_included         0.0\n",
      "rub_monthly_fee          0.0\n",
      "rub_per_gb               0.0\n",
      "rub_per_message          0.0\n",
      "rub_per_minute           0.0\n",
      "tariff_name              0.0\n",
      "dtype: float64\n",
      "****************************************************************************************************\n",
      "user_id       0.000\n",
      "age           0.000\n",
      "churn_date    0.924\n",
      "city          0.000\n",
      "first_name    0.000\n",
      "last_name     0.000\n",
      "reg_date      0.000\n",
      "tariff        0.000\n",
      "dtype: float64\n",
      "****************************************************************************************************\n"
     ]
    }
   ],
   "source": [
    "for i in df_all:\n",
    "    print(i.isna().mean())\n",
    "    print('*' * 100)"
   ]
  },
  {
   "cell_type": "markdown",
   "metadata": {},
   "source": [
    "There are only missing values in the `users` table, in the `churn_date` column. This means that the subscribers are still active. Let's not change this column for now.\n",
    "\n",
    "Let's check if there are any duplicates."
   ]
  },
  {
   "cell_type": "code",
   "execution_count": 39,
   "metadata": {},
   "outputs": [
    {
     "name": "stdout",
     "output_type": "stream",
     "text": [
      "0\n",
      "0\n",
      "0\n",
      "0\n",
      "0\n"
     ]
    }
   ],
   "source": [
    "for i in df_all:\n",
    "    print(i.duplicated().sum())"
   ]
  },
  {
   "cell_type": "markdown",
   "metadata": {},
   "source": [
    "There are no duplicates."
   ]
  },
  {
   "cell_type": "markdown",
   "metadata": {},
   "source": [
    "### Conclusion\n",
    "\n",
    "So, we have 5 tables. They are free of missing values and duplicates. Next step is data preprocessing.\n",
    "\n",
    "In the `df_calls` and `df_internet` tables, there are zero values. This is not an error: zeros indicate missed calls and unsuccessful internet connections, so they don't need to be removed."
   ]
  },
  {
   "cell_type": "markdown",
   "metadata": {},
   "source": [
    "## Data Preprocessing"
   ]
  },
  {
   "cell_type": "markdown",
   "metadata": {},
   "source": [
    "Let's change the column name in the `df_tariffs` table."
   ]
  },
  {
   "cell_type": "code",
   "execution_count": 40,
   "metadata": {},
   "outputs": [],
   "source": [
    "df_tariffs = df_tariffs.rename(columns={'tariff_name': 'tariff'})"
   ]
  },
  {
   "cell_type": "markdown",
   "metadata": {},
   "source": [
    "Since the operator always rounds up each call to the nearest minute, let's reflect this in the `df_calls` table."
   ]
  },
  {
   "cell_type": "code",
   "execution_count": 41,
   "metadata": {},
   "outputs": [],
   "source": [
    "df_calls['duration'] = (df_calls['duration']).apply(math.ceil)"
   ]
  },
  {
   "cell_type": "markdown",
   "metadata": {},
   "source": [
    "Let's convert the data to the appropriate types."
   ]
  },
  {
   "cell_type": "code",
   "execution_count": 42,
   "metadata": {},
   "outputs": [],
   "source": [
    "#1. df_calls\n",
    "df_calls['call_date'] = pd.to_datetime(df_calls['call_date'], format='%Y-%m-%d')\n",
    "df_calls['duration'] = df_calls['duration'].astype(int)\n",
    "\n",
    "#2. df_internet\n",
    "df_internet['session_date'] = pd.to_datetime(df_internet['session_date'], format='%Y-%m-%d')\n",
    "\n",
    "#3. df_messages\n",
    "df_messages['message_date'] = pd.to_datetime(df_messages['message_date'], format='%Y-%m-%d')\n",
    "\n",
    "#5. df_users\n",
    "df_users['reg_date'] = pd.to_datetime(df_users['reg_date'], format='%Y-%m-%d')"
   ]
  },
  {
   "cell_type": "markdown",
   "metadata": {},
   "source": [
    "**Find the number of calls made and minutes used per month.**"
   ]
  },
  {
   "cell_type": "markdown",
   "metadata": {},
   "source": [
    "First, let's add a new column with the month to the `df_calls` table."
   ]
  },
  {
   "cell_type": "code",
   "execution_count": 43,
   "metadata": {},
   "outputs": [],
   "source": [
    "df_calls['month'] = df_calls['call_date'].dt.month"
   ]
  },
  {
   "cell_type": "markdown",
   "metadata": {},
   "source": [
    "Let's add a column with the tariff to the calls table."
   ]
  },
  {
   "cell_type": "code",
   "execution_count": 44,
   "metadata": {},
   "outputs": [],
   "source": [
    "df_calls = df_calls.merge(df_users[['user_id', 'tariff']], on='user_id')"
   ]
  },
  {
   "cell_type": "markdown",
   "metadata": {},
   "source": [
    "Let's create a pivot table for the number and duration of calls."
   ]
  },
  {
   "cell_type": "code",
   "execution_count": 45,
   "metadata": {},
   "outputs": [
    {
     "data": {
      "text/html": [
       "<div>\n",
       "<style scoped>\n",
       "    .dataframe tbody tr th:only-of-type {\n",
       "        vertical-align: middle;\n",
       "    }\n",
       "\n",
       "    .dataframe tbody tr th {\n",
       "        vertical-align: top;\n",
       "    }\n",
       "\n",
       "    .dataframe thead tr th {\n",
       "        text-align: left;\n",
       "    }\n",
       "</style>\n",
       "<table border=\"1\" class=\"dataframe\">\n",
       "  <thead>\n",
       "    <tr>\n",
       "      <th></th>\n",
       "      <th>tariff</th>\n",
       "      <th>user_id</th>\n",
       "      <th>month</th>\n",
       "      <th>count</th>\n",
       "      <th>sum</th>\n",
       "    </tr>\n",
       "    <tr>\n",
       "      <th></th>\n",
       "      <th></th>\n",
       "      <th></th>\n",
       "      <th></th>\n",
       "      <th>duration</th>\n",
       "      <th>duration</th>\n",
       "    </tr>\n",
       "  </thead>\n",
       "  <tbody>\n",
       "    <tr>\n",
       "      <td>0</td>\n",
       "      <td>smart</td>\n",
       "      <td>1001</td>\n",
       "      <td>11</td>\n",
       "      <td>59</td>\n",
       "      <td>430</td>\n",
       "    </tr>\n",
       "    <tr>\n",
       "      <td>1</td>\n",
       "      <td>smart</td>\n",
       "      <td>1001</td>\n",
       "      <td>12</td>\n",
       "      <td>63</td>\n",
       "      <td>414</td>\n",
       "    </tr>\n",
       "    <tr>\n",
       "      <td>2</td>\n",
       "      <td>smart</td>\n",
       "      <td>1002</td>\n",
       "      <td>6</td>\n",
       "      <td>15</td>\n",
       "      <td>117</td>\n",
       "    </tr>\n",
       "    <tr>\n",
       "      <td>3</td>\n",
       "      <td>smart</td>\n",
       "      <td>1002</td>\n",
       "      <td>7</td>\n",
       "      <td>26</td>\n",
       "      <td>214</td>\n",
       "    </tr>\n",
       "    <tr>\n",
       "      <td>4</td>\n",
       "      <td>smart</td>\n",
       "      <td>1002</td>\n",
       "      <td>8</td>\n",
       "      <td>42</td>\n",
       "      <td>289</td>\n",
       "    </tr>\n",
       "  </tbody>\n",
       "</table>\n",
       "</div>"
      ],
      "text/plain": [
       "  tariff user_id month    count      sum\n",
       "                       duration duration\n",
       "0  smart    1001    11       59      430\n",
       "1  smart    1001    12       63      414\n",
       "2  smart    1002     6       15      117\n",
       "3  smart    1002     7       26      214\n",
       "4  smart    1002     8       42      289"
      ]
     },
     "execution_count": 45,
     "metadata": {},
     "output_type": "execute_result"
    }
   ],
   "source": [
    "df_calls_income = df_calls.pivot_table(index=['tariff', 'user_id', 'month'], values='duration', aggfunc=['count', 'sum']).reset_index()\n",
    "df_calls_income.head()"
   ]
  },
  {
   "cell_type": "markdown",
   "metadata": {},
   "source": [
    "Let's change the column names."
   ]
  },
  {
   "cell_type": "code",
   "execution_count": 46,
   "metadata": {},
   "outputs": [],
   "source": [
    "df_calls_income.columns = ['tariff', 'user_id', 'month', 'duration_count', 'duration_sum']"
   ]
  },
  {
   "cell_type": "markdown",
   "metadata": {},
   "source": [
    "**Find the number of messages sent per month.**"
   ]
  },
  {
   "cell_type": "markdown",
   "metadata": {},
   "source": [
    "First, let's add a new column with the month to the `df_messages` table."
   ]
  },
  {
   "cell_type": "code",
   "execution_count": 47,
   "metadata": {},
   "outputs": [],
   "source": [
    "df_messages['month'] = df_messages['message_date'].dt.month"
   ]
  },
  {
   "cell_type": "markdown",
   "metadata": {},
   "source": [
    "Let's add a column with the tariff to the calls table."
   ]
  },
  {
   "cell_type": "code",
   "execution_count": 48,
   "metadata": {},
   "outputs": [],
   "source": [
    "df_messages = df_messages.merge(df_users[['user_id', 'tariff']], on='user_id')"
   ]
  },
  {
   "cell_type": "markdown",
   "metadata": {},
   "source": [
    "Let's create a pivot table for the number of messages."
   ]
  },
  {
   "cell_type": "code",
   "execution_count": 49,
   "metadata": {
    "scrolled": true
   },
   "outputs": [
    {
     "data": {
      "text/html": [
       "<div>\n",
       "<style scoped>\n",
       "    .dataframe tbody tr th:only-of-type {\n",
       "        vertical-align: middle;\n",
       "    }\n",
       "\n",
       "    .dataframe tbody tr th {\n",
       "        vertical-align: top;\n",
       "    }\n",
       "\n",
       "    .dataframe thead th {\n",
       "        text-align: right;\n",
       "    }\n",
       "</style>\n",
       "<table border=\"1\" class=\"dataframe\">\n",
       "  <thead>\n",
       "    <tr style=\"text-align: right;\">\n",
       "      <th></th>\n",
       "      <th>tariff</th>\n",
       "      <th>user_id</th>\n",
       "      <th>month</th>\n",
       "      <th>message_date</th>\n",
       "    </tr>\n",
       "  </thead>\n",
       "  <tbody>\n",
       "    <tr>\n",
       "      <td>0</td>\n",
       "      <td>smart</td>\n",
       "      <td>1002</td>\n",
       "      <td>6</td>\n",
       "      <td>4</td>\n",
       "    </tr>\n",
       "    <tr>\n",
       "      <td>1</td>\n",
       "      <td>smart</td>\n",
       "      <td>1002</td>\n",
       "      <td>7</td>\n",
       "      <td>11</td>\n",
       "    </tr>\n",
       "    <tr>\n",
       "      <td>2</td>\n",
       "      <td>smart</td>\n",
       "      <td>1002</td>\n",
       "      <td>8</td>\n",
       "      <td>13</td>\n",
       "    </tr>\n",
       "    <tr>\n",
       "      <td>3</td>\n",
       "      <td>smart</td>\n",
       "      <td>1002</td>\n",
       "      <td>9</td>\n",
       "      <td>4</td>\n",
       "    </tr>\n",
       "    <tr>\n",
       "      <td>4</td>\n",
       "      <td>smart</td>\n",
       "      <td>1002</td>\n",
       "      <td>10</td>\n",
       "      <td>10</td>\n",
       "    </tr>\n",
       "  </tbody>\n",
       "</table>\n",
       "</div>"
      ],
      "text/plain": [
       "  tariff  user_id  month  message_date\n",
       "0  smart     1002      6             4\n",
       "1  smart     1002      7            11\n",
       "2  smart     1002      8            13\n",
       "3  smart     1002      9             4\n",
       "4  smart     1002     10            10"
      ]
     },
     "execution_count": 49,
     "metadata": {},
     "output_type": "execute_result"
    }
   ],
   "source": [
    "df_messages_income = df_messages.pivot_table(index=['tariff', 'user_id', 'month'], values='message_date', aggfunc='count').reset_index()\n",
    "df_messages_income.head()"
   ]
  },
  {
   "cell_type": "markdown",
   "metadata": {},
   "source": [
    "**Find the volume of internet traffic used per month.**"
   ]
  },
  {
   "cell_type": "markdown",
   "metadata": {},
   "source": [
    "First, let's add a new column with the month to the `df_internet` table."
   ]
  },
  {
   "cell_type": "code",
   "execution_count": 50,
   "metadata": {},
   "outputs": [],
   "source": [
    "df_internet['month'] = df_internet['session_date'].dt.month"
   ]
  },
  {
   "cell_type": "markdown",
   "metadata": {},
   "source": [
    "Let's add a column with the tariff to the calls table."
   ]
  },
  {
   "cell_type": "code",
   "execution_count": 51,
   "metadata": {},
   "outputs": [],
   "source": [
    "df_internet = df_internet.merge(df_users[['user_id', 'tariff']], on='user_id')"
   ]
  },
  {
   "cell_type": "markdown",
   "metadata": {},
   "source": [
    "Let's create a pivot table for the total traffic volume."
   ]
  },
  {
   "cell_type": "code",
   "execution_count": 52,
   "metadata": {},
   "outputs": [
    {
     "data": {
      "text/html": [
       "<div>\n",
       "<style scoped>\n",
       "    .dataframe tbody tr th:only-of-type {\n",
       "        vertical-align: middle;\n",
       "    }\n",
       "\n",
       "    .dataframe tbody tr th {\n",
       "        vertical-align: top;\n",
       "    }\n",
       "\n",
       "    .dataframe thead th {\n",
       "        text-align: right;\n",
       "    }\n",
       "</style>\n",
       "<table border=\"1\" class=\"dataframe\">\n",
       "  <thead>\n",
       "    <tr style=\"text-align: right;\">\n",
       "      <th></th>\n",
       "      <th>tariff</th>\n",
       "      <th>user_id</th>\n",
       "      <th>month</th>\n",
       "      <th>mb_used</th>\n",
       "    </tr>\n",
       "  </thead>\n",
       "  <tbody>\n",
       "    <tr>\n",
       "      <td>0</td>\n",
       "      <td>smart</td>\n",
       "      <td>1001</td>\n",
       "      <td>11</td>\n",
       "      <td>18429.34</td>\n",
       "    </tr>\n",
       "    <tr>\n",
       "      <td>1</td>\n",
       "      <td>smart</td>\n",
       "      <td>1001</td>\n",
       "      <td>12</td>\n",
       "      <td>14036.66</td>\n",
       "    </tr>\n",
       "    <tr>\n",
       "      <td>2</td>\n",
       "      <td>smart</td>\n",
       "      <td>1002</td>\n",
       "      <td>6</td>\n",
       "      <td>10856.82</td>\n",
       "    </tr>\n",
       "    <tr>\n",
       "      <td>3</td>\n",
       "      <td>smart</td>\n",
       "      <td>1002</td>\n",
       "      <td>7</td>\n",
       "      <td>17580.10</td>\n",
       "    </tr>\n",
       "    <tr>\n",
       "      <td>4</td>\n",
       "      <td>smart</td>\n",
       "      <td>1002</td>\n",
       "      <td>8</td>\n",
       "      <td>20319.26</td>\n",
       "    </tr>\n",
       "  </tbody>\n",
       "</table>\n",
       "</div>"
      ],
      "text/plain": [
       "  tariff  user_id  month   mb_used\n",
       "0  smart     1001     11  18429.34\n",
       "1  smart     1001     12  14036.66\n",
       "2  smart     1002      6  10856.82\n",
       "3  smart     1002      7  17580.10\n",
       "4  smart     1002      8  20319.26"
      ]
     },
     "execution_count": 52,
     "metadata": {},
     "output_type": "execute_result"
    }
   ],
   "source": [
    "df_internet_income = df_internet.pivot_table(index=['tariff', 'user_id', 'month'], values='mb_used', aggfunc='sum').reset_index()\n",
    "df_internet_income.head()"
   ]
  },
  {
   "cell_type": "markdown",
   "metadata": {},
   "source": [
    "Let's merge the pivot tables into one. We'll use the calls table as the base."
   ]
  },
  {
   "cell_type": "code",
   "execution_count": 53,
   "metadata": {},
   "outputs": [
    {
     "data": {
      "text/html": [
       "<div>\n",
       "<style scoped>\n",
       "    .dataframe tbody tr th:only-of-type {\n",
       "        vertical-align: middle;\n",
       "    }\n",
       "\n",
       "    .dataframe tbody tr th {\n",
       "        vertical-align: top;\n",
       "    }\n",
       "\n",
       "    .dataframe thead th {\n",
       "        text-align: right;\n",
       "    }\n",
       "</style>\n",
       "<table border=\"1\" class=\"dataframe\">\n",
       "  <thead>\n",
       "    <tr style=\"text-align: right;\">\n",
       "      <th></th>\n",
       "      <th>tariff</th>\n",
       "      <th>user_id</th>\n",
       "      <th>month</th>\n",
       "      <th>duration_count</th>\n",
       "      <th>duration_sum</th>\n",
       "      <th>message_date</th>\n",
       "      <th>mb_used</th>\n",
       "    </tr>\n",
       "  </thead>\n",
       "  <tbody>\n",
       "    <tr>\n",
       "      <td>0</td>\n",
       "      <td>smart</td>\n",
       "      <td>1001</td>\n",
       "      <td>11</td>\n",
       "      <td>59.0</td>\n",
       "      <td>430.0</td>\n",
       "      <td>NaN</td>\n",
       "      <td>18429.34</td>\n",
       "    </tr>\n",
       "    <tr>\n",
       "      <td>1</td>\n",
       "      <td>smart</td>\n",
       "      <td>1001</td>\n",
       "      <td>12</td>\n",
       "      <td>63.0</td>\n",
       "      <td>414.0</td>\n",
       "      <td>NaN</td>\n",
       "      <td>14036.66</td>\n",
       "    </tr>\n",
       "    <tr>\n",
       "      <td>2</td>\n",
       "      <td>smart</td>\n",
       "      <td>1002</td>\n",
       "      <td>6</td>\n",
       "      <td>15.0</td>\n",
       "      <td>117.0</td>\n",
       "      <td>4.0</td>\n",
       "      <td>10856.82</td>\n",
       "    </tr>\n",
       "    <tr>\n",
       "      <td>3</td>\n",
       "      <td>smart</td>\n",
       "      <td>1002</td>\n",
       "      <td>7</td>\n",
       "      <td>26.0</td>\n",
       "      <td>214.0</td>\n",
       "      <td>11.0</td>\n",
       "      <td>17580.10</td>\n",
       "    </tr>\n",
       "    <tr>\n",
       "      <td>4</td>\n",
       "      <td>smart</td>\n",
       "      <td>1002</td>\n",
       "      <td>8</td>\n",
       "      <td>42.0</td>\n",
       "      <td>289.0</td>\n",
       "      <td>13.0</td>\n",
       "      <td>20319.26</td>\n",
       "    </tr>\n",
       "  </tbody>\n",
       "</table>\n",
       "</div>"
      ],
      "text/plain": [
       "  tariff  user_id  month  duration_count  duration_sum  message_date   mb_used\n",
       "0  smart     1001     11            59.0         430.0           NaN  18429.34\n",
       "1  smart     1001     12            63.0         414.0           NaN  14036.66\n",
       "2  smart     1002      6            15.0         117.0           4.0  10856.82\n",
       "3  smart     1002      7            26.0         214.0          11.0  17580.10\n",
       "4  smart     1002      8            42.0         289.0          13.0  20319.26"
      ]
     },
     "execution_count": 53,
     "metadata": {},
     "output_type": "execute_result"
    }
   ],
   "source": [
    "df_income = df_calls_income\n",
    "df_income = df_income.merge(df_messages_income, on=['tariff', 'user_id', 'month'], how='outer')\n",
    "df_income = df_income.merge(df_internet_income, on=['tariff', 'user_id', 'month'], how='outer')\n",
    "df_income.head()"
   ]
  },
  {
   "cell_type": "markdown",
   "metadata": {},
   "source": [
    "Let's check for missing values."
   ]
  },
  {
   "cell_type": "code",
   "execution_count": 54,
   "metadata": {},
   "outputs": [
    {
     "data": {
      "text/plain": [
       "tariff              0\n",
       "user_id             0\n",
       "month               0\n",
       "duration_count     40\n",
       "duration_sum       40\n",
       "message_date      497\n",
       "mb_used            11\n",
       "dtype: int64"
      ]
     },
     "execution_count": 54,
     "metadata": {},
     "output_type": "execute_result"
    }
   ],
   "source": [
    "df_income.isna().sum()"
   ]
  },
  {
   "cell_type": "markdown",
   "metadata": {},
   "source": [
    "Let's rename the column `message_date` to `message_count` and change all dates to 1, and empty values to 0."
   ]
  },
  {
   "cell_type": "code",
   "execution_count": 55,
   "metadata": {},
   "outputs": [
    {
     "data": {
      "text/html": [
       "<div>\n",
       "<style scoped>\n",
       "    .dataframe tbody tr th:only-of-type {\n",
       "        vertical-align: middle;\n",
       "    }\n",
       "\n",
       "    .dataframe tbody tr th {\n",
       "        vertical-align: top;\n",
       "    }\n",
       "\n",
       "    .dataframe thead th {\n",
       "        text-align: right;\n",
       "    }\n",
       "</style>\n",
       "<table border=\"1\" class=\"dataframe\">\n",
       "  <thead>\n",
       "    <tr style=\"text-align: right;\">\n",
       "      <th></th>\n",
       "      <th>tariff</th>\n",
       "      <th>user_id</th>\n",
       "      <th>month</th>\n",
       "      <th>duration_count</th>\n",
       "      <th>duration_sum</th>\n",
       "      <th>message_count</th>\n",
       "      <th>mb_used</th>\n",
       "    </tr>\n",
       "  </thead>\n",
       "  <tbody>\n",
       "    <tr>\n",
       "      <td>0</td>\n",
       "      <td>smart</td>\n",
       "      <td>1001</td>\n",
       "      <td>11</td>\n",
       "      <td>59.0</td>\n",
       "      <td>430.0</td>\n",
       "      <td>0</td>\n",
       "      <td>18429.34</td>\n",
       "    </tr>\n",
       "    <tr>\n",
       "      <td>1</td>\n",
       "      <td>smart</td>\n",
       "      <td>1001</td>\n",
       "      <td>12</td>\n",
       "      <td>63.0</td>\n",
       "      <td>414.0</td>\n",
       "      <td>0</td>\n",
       "      <td>14036.66</td>\n",
       "    </tr>\n",
       "    <tr>\n",
       "      <td>2</td>\n",
       "      <td>smart</td>\n",
       "      <td>1002</td>\n",
       "      <td>6</td>\n",
       "      <td>15.0</td>\n",
       "      <td>117.0</td>\n",
       "      <td>1</td>\n",
       "      <td>10856.82</td>\n",
       "    </tr>\n",
       "    <tr>\n",
       "      <td>3</td>\n",
       "      <td>smart</td>\n",
       "      <td>1002</td>\n",
       "      <td>7</td>\n",
       "      <td>26.0</td>\n",
       "      <td>214.0</td>\n",
       "      <td>1</td>\n",
       "      <td>17580.10</td>\n",
       "    </tr>\n",
       "    <tr>\n",
       "      <td>4</td>\n",
       "      <td>smart</td>\n",
       "      <td>1002</td>\n",
       "      <td>8</td>\n",
       "      <td>42.0</td>\n",
       "      <td>289.0</td>\n",
       "      <td>1</td>\n",
       "      <td>20319.26</td>\n",
       "    </tr>\n",
       "  </tbody>\n",
       "</table>\n",
       "</div>"
      ],
      "text/plain": [
       "  tariff  user_id  month  duration_count  duration_sum  message_count  \\\n",
       "0  smart     1001     11            59.0         430.0              0   \n",
       "1  smart     1001     12            63.0         414.0              0   \n",
       "2  smart     1002      6            15.0         117.0              1   \n",
       "3  smart     1002      7            26.0         214.0              1   \n",
       "4  smart     1002      8            42.0         289.0              1   \n",
       "\n",
       "    mb_used  \n",
       "0  18429.34  \n",
       "1  14036.66  \n",
       "2  10856.82  \n",
       "3  17580.10  \n",
       "4  20319.26  "
      ]
     },
     "execution_count": 55,
     "metadata": {},
     "output_type": "execute_result"
    }
   ],
   "source": [
    "df_income = df_income.rename(columns={'message_date': 'message_count'})\n",
    "\n",
    "df_income['message_count'] = df_income['message_count'].fillna(0)\n",
    "\n",
    "df_income.loc[(df_income['message_count'] != 0), 'message_count'] = 1\n",
    "df_income['message_count'] = df_income['message_count'].astype(int)\n",
    "df_income.head()"
   ]
  },
  {
   "cell_type": "markdown",
   "metadata": {},
   "source": [
    "Let's change the missing values to 0 in the columns `duration_count`, `duration_sum`, and `mb_used`."
   ]
  },
  {
   "cell_type": "code",
   "execution_count": 56,
   "metadata": {},
   "outputs": [],
   "source": [
    "df_income['duration_count'] = df_income['duration_count'].fillna(0)\n",
    "df_income['duration_sum'] = df_income['duration_sum'].fillna(0)\n",
    "df_income['mb_used'] = df_income['mb_used'].fillna(0)"
   ]
  },
  {
   "cell_type": "markdown",
   "metadata": {},
   "source": [
    "Let's check for missing values."
   ]
  },
  {
   "cell_type": "code",
   "execution_count": 57,
   "metadata": {},
   "outputs": [
    {
     "data": {
      "text/plain": [
       "tariff            0\n",
       "user_id           0\n",
       "month             0\n",
       "duration_count    0\n",
       "duration_sum      0\n",
       "message_count     0\n",
       "mb_used           0\n",
       "dtype: int64"
      ]
     },
     "execution_count": 57,
     "metadata": {},
     "output_type": "execute_result"
    }
   ],
   "source": [
    "df_income.isna().sum()"
   ]
  },
  {
   "cell_type": "markdown",
   "metadata": {},
   "source": [
    "Based on the tariff, let's add the necessary information from the `df_tariffs` table."
   ]
  },
  {
   "cell_type": "code",
   "execution_count": 58,
   "metadata": {},
   "outputs": [
    {
     "data": {
      "text/html": [
       "<div>\n",
       "<style scoped>\n",
       "    .dataframe tbody tr th:only-of-type {\n",
       "        vertical-align: middle;\n",
       "    }\n",
       "\n",
       "    .dataframe tbody tr th {\n",
       "        vertical-align: top;\n",
       "    }\n",
       "\n",
       "    .dataframe thead th {\n",
       "        text-align: right;\n",
       "    }\n",
       "</style>\n",
       "<table border=\"1\" class=\"dataframe\">\n",
       "  <thead>\n",
       "    <tr style=\"text-align: right;\">\n",
       "      <th></th>\n",
       "      <th>tariff</th>\n",
       "      <th>user_id</th>\n",
       "      <th>month</th>\n",
       "      <th>duration_count</th>\n",
       "      <th>duration_sum</th>\n",
       "      <th>message_count</th>\n",
       "      <th>mb_used</th>\n",
       "      <th>messages_included</th>\n",
       "      <th>mb_per_month_included</th>\n",
       "      <th>minutes_included</th>\n",
       "      <th>rub_monthly_fee</th>\n",
       "      <th>rub_per_gb</th>\n",
       "      <th>rub_per_message</th>\n",
       "      <th>rub_per_minute</th>\n",
       "    </tr>\n",
       "  </thead>\n",
       "  <tbody>\n",
       "    <tr>\n",
       "      <td>0</td>\n",
       "      <td>smart</td>\n",
       "      <td>1001</td>\n",
       "      <td>11</td>\n",
       "      <td>59.0</td>\n",
       "      <td>430.0</td>\n",
       "      <td>0</td>\n",
       "      <td>18429.34</td>\n",
       "      <td>50</td>\n",
       "      <td>15360</td>\n",
       "      <td>500</td>\n",
       "      <td>550</td>\n",
       "      <td>200</td>\n",
       "      <td>3</td>\n",
       "      <td>3</td>\n",
       "    </tr>\n",
       "    <tr>\n",
       "      <td>1</td>\n",
       "      <td>smart</td>\n",
       "      <td>1001</td>\n",
       "      <td>12</td>\n",
       "      <td>63.0</td>\n",
       "      <td>414.0</td>\n",
       "      <td>0</td>\n",
       "      <td>14036.66</td>\n",
       "      <td>50</td>\n",
       "      <td>15360</td>\n",
       "      <td>500</td>\n",
       "      <td>550</td>\n",
       "      <td>200</td>\n",
       "      <td>3</td>\n",
       "      <td>3</td>\n",
       "    </tr>\n",
       "    <tr>\n",
       "      <td>2</td>\n",
       "      <td>smart</td>\n",
       "      <td>1002</td>\n",
       "      <td>6</td>\n",
       "      <td>15.0</td>\n",
       "      <td>117.0</td>\n",
       "      <td>1</td>\n",
       "      <td>10856.82</td>\n",
       "      <td>50</td>\n",
       "      <td>15360</td>\n",
       "      <td>500</td>\n",
       "      <td>550</td>\n",
       "      <td>200</td>\n",
       "      <td>3</td>\n",
       "      <td>3</td>\n",
       "    </tr>\n",
       "    <tr>\n",
       "      <td>3</td>\n",
       "      <td>smart</td>\n",
       "      <td>1002</td>\n",
       "      <td>7</td>\n",
       "      <td>26.0</td>\n",
       "      <td>214.0</td>\n",
       "      <td>1</td>\n",
       "      <td>17580.10</td>\n",
       "      <td>50</td>\n",
       "      <td>15360</td>\n",
       "      <td>500</td>\n",
       "      <td>550</td>\n",
       "      <td>200</td>\n",
       "      <td>3</td>\n",
       "      <td>3</td>\n",
       "    </tr>\n",
       "    <tr>\n",
       "      <td>4</td>\n",
       "      <td>smart</td>\n",
       "      <td>1002</td>\n",
       "      <td>8</td>\n",
       "      <td>42.0</td>\n",
       "      <td>289.0</td>\n",
       "      <td>1</td>\n",
       "      <td>20319.26</td>\n",
       "      <td>50</td>\n",
       "      <td>15360</td>\n",
       "      <td>500</td>\n",
       "      <td>550</td>\n",
       "      <td>200</td>\n",
       "      <td>3</td>\n",
       "      <td>3</td>\n",
       "    </tr>\n",
       "  </tbody>\n",
       "</table>\n",
       "</div>"
      ],
      "text/plain": [
       "  tariff  user_id  month  duration_count  duration_sum  message_count  \\\n",
       "0  smart     1001     11            59.0         430.0              0   \n",
       "1  smart     1001     12            63.0         414.0              0   \n",
       "2  smart     1002      6            15.0         117.0              1   \n",
       "3  smart     1002      7            26.0         214.0              1   \n",
       "4  smart     1002      8            42.0         289.0              1   \n",
       "\n",
       "    mb_used  messages_included  mb_per_month_included  minutes_included  \\\n",
       "0  18429.34                 50                  15360               500   \n",
       "1  14036.66                 50                  15360               500   \n",
       "2  10856.82                 50                  15360               500   \n",
       "3  17580.10                 50                  15360               500   \n",
       "4  20319.26                 50                  15360               500   \n",
       "\n",
       "   rub_monthly_fee  rub_per_gb  rub_per_message  rub_per_minute  \n",
       "0              550         200                3               3  \n",
       "1              550         200                3               3  \n",
       "2              550         200                3               3  \n",
       "3              550         200                3               3  \n",
       "4              550         200                3               3  "
      ]
     },
     "execution_count": 58,
     "metadata": {},
     "output_type": "execute_result"
    }
   ],
   "source": [
    "df_income = df_income.merge(df_tariffs, on='tariff')\n",
    "df_income.head()"
   ]
  },
  {
   "cell_type": "markdown",
   "metadata": {},
   "source": [
    "**Find the monthly revenue from each user.**"
   ]
  },
  {
   "cell_type": "markdown",
   "metadata": {},
   "source": [
    "First, let's find the number of calls exceeding the limit and add them to a new column."
   ]
  },
  {
   "cell_type": "code",
   "execution_count": 59,
   "metadata": {},
   "outputs": [],
   "source": [
    "df_income['duration_more_tarrif'] = df_income['duration_sum'] - df_income['minutes_included']\n",
    "df_income.loc[(df_income['duration_more_tarrif'] < 0), 'duration_more_tarrif'] = 0"
   ]
  },
  {
   "cell_type": "code",
   "execution_count": 60,
   "metadata": {},
   "outputs": [
    {
     "data": {
      "text/plain": [
       "0       0.0\n",
       "1       0.0\n",
       "2       0.0\n",
       "3       0.0\n",
       "4       0.0\n",
       "       ... \n",
       "3209    0.0\n",
       "3210    0.0\n",
       "3211    0.0\n",
       "3212    0.0\n",
       "3213    0.0\n",
       "Length: 3214, dtype: float64"
      ]
     },
     "execution_count": 60,
     "metadata": {},
     "output_type": "execute_result"
    }
   ],
   "source": [
    "np.maximum(0,(df_income['duration_sum'] - df_income['minutes_included']))"
   ]
  },
  {
   "cell_type": "markdown",
   "metadata": {},
   "source": [
    "Let's find the number of messages exceeding the limit and add them to a new column."
   ]
  },
  {
   "cell_type": "code",
   "execution_count": 61,
   "metadata": {},
   "outputs": [],
   "source": [
    "df_income['messages_more_tarrif'] = df_income['message_count'] - df_income['messages_included']\n",
    "df_income.loc[(df_income['messages_more_tarrif'] < 0), 'messages_more_tarrif'] = 0"
   ]
  },
  {
   "cell_type": "markdown",
   "metadata": {},
   "source": [
    "Now let's do the same for internet traffic and add it to a new column."
   ]
  },
  {
   "cell_type": "code",
   "execution_count": 62,
   "metadata": {},
   "outputs": [],
   "source": [
    "df_income['internet_more_tarrif'] = df_income['mb_used'] - df_income['mb_per_month_included']\n",
    "df_income.loc[(df_income['internet_more_tarrif'] < 0), 'internet_more_tarrif'] = 0"
   ]
  },
  {
   "cell_type": "code",
   "execution_count": 63,
   "metadata": {},
   "outputs": [
    {
     "data": {
      "text/html": [
       "<div>\n",
       "<style scoped>\n",
       "    .dataframe tbody tr th:only-of-type {\n",
       "        vertical-align: middle;\n",
       "    }\n",
       "\n",
       "    .dataframe tbody tr th {\n",
       "        vertical-align: top;\n",
       "    }\n",
       "\n",
       "    .dataframe thead th {\n",
       "        text-align: right;\n",
       "    }\n",
       "</style>\n",
       "<table border=\"1\" class=\"dataframe\">\n",
       "  <thead>\n",
       "    <tr style=\"text-align: right;\">\n",
       "      <th></th>\n",
       "      <th>tariff</th>\n",
       "      <th>user_id</th>\n",
       "      <th>month</th>\n",
       "      <th>duration_count</th>\n",
       "      <th>duration_sum</th>\n",
       "      <th>message_count</th>\n",
       "      <th>mb_used</th>\n",
       "      <th>messages_included</th>\n",
       "      <th>mb_per_month_included</th>\n",
       "      <th>minutes_included</th>\n",
       "      <th>rub_monthly_fee</th>\n",
       "      <th>rub_per_gb</th>\n",
       "      <th>rub_per_message</th>\n",
       "      <th>rub_per_minute</th>\n",
       "      <th>duration_more_tarrif</th>\n",
       "      <th>messages_more_tarrif</th>\n",
       "      <th>internet_more_tarrif</th>\n",
       "    </tr>\n",
       "  </thead>\n",
       "  <tbody>\n",
       "    <tr>\n",
       "      <td>0</td>\n",
       "      <td>smart</td>\n",
       "      <td>1001</td>\n",
       "      <td>11</td>\n",
       "      <td>59.0</td>\n",
       "      <td>430.0</td>\n",
       "      <td>0</td>\n",
       "      <td>18429.34</td>\n",
       "      <td>50</td>\n",
       "      <td>15360</td>\n",
       "      <td>500</td>\n",
       "      <td>550</td>\n",
       "      <td>200</td>\n",
       "      <td>3</td>\n",
       "      <td>3</td>\n",
       "      <td>0.0</td>\n",
       "      <td>0</td>\n",
       "      <td>3069.34</td>\n",
       "    </tr>\n",
       "    <tr>\n",
       "      <td>1</td>\n",
       "      <td>smart</td>\n",
       "      <td>1001</td>\n",
       "      <td>12</td>\n",
       "      <td>63.0</td>\n",
       "      <td>414.0</td>\n",
       "      <td>0</td>\n",
       "      <td>14036.66</td>\n",
       "      <td>50</td>\n",
       "      <td>15360</td>\n",
       "      <td>500</td>\n",
       "      <td>550</td>\n",
       "      <td>200</td>\n",
       "      <td>3</td>\n",
       "      <td>3</td>\n",
       "      <td>0.0</td>\n",
       "      <td>0</td>\n",
       "      <td>0.00</td>\n",
       "    </tr>\n",
       "    <tr>\n",
       "      <td>2</td>\n",
       "      <td>smart</td>\n",
       "      <td>1002</td>\n",
       "      <td>6</td>\n",
       "      <td>15.0</td>\n",
       "      <td>117.0</td>\n",
       "      <td>1</td>\n",
       "      <td>10856.82</td>\n",
       "      <td>50</td>\n",
       "      <td>15360</td>\n",
       "      <td>500</td>\n",
       "      <td>550</td>\n",
       "      <td>200</td>\n",
       "      <td>3</td>\n",
       "      <td>3</td>\n",
       "      <td>0.0</td>\n",
       "      <td>0</td>\n",
       "      <td>0.00</td>\n",
       "    </tr>\n",
       "    <tr>\n",
       "      <td>3</td>\n",
       "      <td>smart</td>\n",
       "      <td>1002</td>\n",
       "      <td>7</td>\n",
       "      <td>26.0</td>\n",
       "      <td>214.0</td>\n",
       "      <td>1</td>\n",
       "      <td>17580.10</td>\n",
       "      <td>50</td>\n",
       "      <td>15360</td>\n",
       "      <td>500</td>\n",
       "      <td>550</td>\n",
       "      <td>200</td>\n",
       "      <td>3</td>\n",
       "      <td>3</td>\n",
       "      <td>0.0</td>\n",
       "      <td>0</td>\n",
       "      <td>2220.10</td>\n",
       "    </tr>\n",
       "    <tr>\n",
       "      <td>4</td>\n",
       "      <td>smart</td>\n",
       "      <td>1002</td>\n",
       "      <td>8</td>\n",
       "      <td>42.0</td>\n",
       "      <td>289.0</td>\n",
       "      <td>1</td>\n",
       "      <td>20319.26</td>\n",
       "      <td>50</td>\n",
       "      <td>15360</td>\n",
       "      <td>500</td>\n",
       "      <td>550</td>\n",
       "      <td>200</td>\n",
       "      <td>3</td>\n",
       "      <td>3</td>\n",
       "      <td>0.0</td>\n",
       "      <td>0</td>\n",
       "      <td>4959.26</td>\n",
       "    </tr>\n",
       "  </tbody>\n",
       "</table>\n",
       "</div>"
      ],
      "text/plain": [
       "  tariff  user_id  month  duration_count  duration_sum  message_count  \\\n",
       "0  smart     1001     11            59.0         430.0              0   \n",
       "1  smart     1001     12            63.0         414.0              0   \n",
       "2  smart     1002      6            15.0         117.0              1   \n",
       "3  smart     1002      7            26.0         214.0              1   \n",
       "4  smart     1002      8            42.0         289.0              1   \n",
       "\n",
       "    mb_used  messages_included  mb_per_month_included  minutes_included  \\\n",
       "0  18429.34                 50                  15360               500   \n",
       "1  14036.66                 50                  15360               500   \n",
       "2  10856.82                 50                  15360               500   \n",
       "3  17580.10                 50                  15360               500   \n",
       "4  20319.26                 50                  15360               500   \n",
       "\n",
       "   rub_monthly_fee  rub_per_gb  rub_per_message  rub_per_minute  \\\n",
       "0              550         200                3               3   \n",
       "1              550         200                3               3   \n",
       "2              550         200                3               3   \n",
       "3              550         200                3               3   \n",
       "4              550         200                3               3   \n",
       "\n",
       "   duration_more_tarrif  messages_more_tarrif  internet_more_tarrif  \n",
       "0                   0.0                     0               3069.34  \n",
       "1                   0.0                     0                  0.00  \n",
       "2                   0.0                     0                  0.00  \n",
       "3                   0.0                     0               2220.10  \n",
       "4                   0.0                     0               4959.26  "
      ]
     },
     "execution_count": 63,
     "metadata": {},
     "output_type": "execute_result"
    }
   ],
   "source": [
    "df_income.head()"
   ]
  },
  {
   "cell_type": "markdown",
   "metadata": {},
   "source": [
    "Let's calculate the revenue.\n",
    "We'll multiply the minutes, messages, and excess traffic by the tariff.\n",
    "We'll convert traffic from MB to GB and round up to the nearest integer.\n",
    "Then, we'll add them all up and add the subscription fee. The result will be the total revenue in a new column."
   ]
  },
  {
   "cell_type": "code",
   "execution_count": 64,
   "metadata": {},
   "outputs": [
    {
     "data": {
      "text/html": [
       "<div>\n",
       "<style scoped>\n",
       "    .dataframe tbody tr th:only-of-type {\n",
       "        vertical-align: middle;\n",
       "    }\n",
       "\n",
       "    .dataframe tbody tr th {\n",
       "        vertical-align: top;\n",
       "    }\n",
       "\n",
       "    .dataframe thead th {\n",
       "        text-align: right;\n",
       "    }\n",
       "</style>\n",
       "<table border=\"1\" class=\"dataframe\">\n",
       "  <thead>\n",
       "    <tr style=\"text-align: right;\">\n",
       "      <th></th>\n",
       "      <th>tariff</th>\n",
       "      <th>user_id</th>\n",
       "      <th>month</th>\n",
       "      <th>duration_count</th>\n",
       "      <th>duration_sum</th>\n",
       "      <th>message_count</th>\n",
       "      <th>mb_used</th>\n",
       "      <th>messages_included</th>\n",
       "      <th>mb_per_month_included</th>\n",
       "      <th>minutes_included</th>\n",
       "      <th>rub_monthly_fee</th>\n",
       "      <th>rub_per_gb</th>\n",
       "      <th>rub_per_message</th>\n",
       "      <th>rub_per_minute</th>\n",
       "      <th>duration_more_tarrif</th>\n",
       "      <th>messages_more_tarrif</th>\n",
       "      <th>internet_more_tarrif</th>\n",
       "      <th>income_total</th>\n",
       "    </tr>\n",
       "  </thead>\n",
       "  <tbody>\n",
       "    <tr>\n",
       "      <td>0</td>\n",
       "      <td>smart</td>\n",
       "      <td>1001</td>\n",
       "      <td>11</td>\n",
       "      <td>59.0</td>\n",
       "      <td>430.0</td>\n",
       "      <td>0</td>\n",
       "      <td>18429.34</td>\n",
       "      <td>50</td>\n",
       "      <td>15360</td>\n",
       "      <td>500</td>\n",
       "      <td>550</td>\n",
       "      <td>200</td>\n",
       "      <td>3</td>\n",
       "      <td>3</td>\n",
       "      <td>0.0</td>\n",
       "      <td>0</td>\n",
       "      <td>3069.34</td>\n",
       "      <td>1150.0</td>\n",
       "    </tr>\n",
       "    <tr>\n",
       "      <td>1</td>\n",
       "      <td>smart</td>\n",
       "      <td>1001</td>\n",
       "      <td>12</td>\n",
       "      <td>63.0</td>\n",
       "      <td>414.0</td>\n",
       "      <td>0</td>\n",
       "      <td>14036.66</td>\n",
       "      <td>50</td>\n",
       "      <td>15360</td>\n",
       "      <td>500</td>\n",
       "      <td>550</td>\n",
       "      <td>200</td>\n",
       "      <td>3</td>\n",
       "      <td>3</td>\n",
       "      <td>0.0</td>\n",
       "      <td>0</td>\n",
       "      <td>0.00</td>\n",
       "      <td>550.0</td>\n",
       "    </tr>\n",
       "    <tr>\n",
       "      <td>2</td>\n",
       "      <td>smart</td>\n",
       "      <td>1002</td>\n",
       "      <td>6</td>\n",
       "      <td>15.0</td>\n",
       "      <td>117.0</td>\n",
       "      <td>1</td>\n",
       "      <td>10856.82</td>\n",
       "      <td>50</td>\n",
       "      <td>15360</td>\n",
       "      <td>500</td>\n",
       "      <td>550</td>\n",
       "      <td>200</td>\n",
       "      <td>3</td>\n",
       "      <td>3</td>\n",
       "      <td>0.0</td>\n",
       "      <td>0</td>\n",
       "      <td>0.00</td>\n",
       "      <td>550.0</td>\n",
       "    </tr>\n",
       "    <tr>\n",
       "      <td>3</td>\n",
       "      <td>smart</td>\n",
       "      <td>1002</td>\n",
       "      <td>7</td>\n",
       "      <td>26.0</td>\n",
       "      <td>214.0</td>\n",
       "      <td>1</td>\n",
       "      <td>17580.10</td>\n",
       "      <td>50</td>\n",
       "      <td>15360</td>\n",
       "      <td>500</td>\n",
       "      <td>550</td>\n",
       "      <td>200</td>\n",
       "      <td>3</td>\n",
       "      <td>3</td>\n",
       "      <td>0.0</td>\n",
       "      <td>0</td>\n",
       "      <td>2220.10</td>\n",
       "      <td>1150.0</td>\n",
       "    </tr>\n",
       "    <tr>\n",
       "      <td>4</td>\n",
       "      <td>smart</td>\n",
       "      <td>1002</td>\n",
       "      <td>8</td>\n",
       "      <td>42.0</td>\n",
       "      <td>289.0</td>\n",
       "      <td>1</td>\n",
       "      <td>20319.26</td>\n",
       "      <td>50</td>\n",
       "      <td>15360</td>\n",
       "      <td>500</td>\n",
       "      <td>550</td>\n",
       "      <td>200</td>\n",
       "      <td>3</td>\n",
       "      <td>3</td>\n",
       "      <td>0.0</td>\n",
       "      <td>0</td>\n",
       "      <td>4959.26</td>\n",
       "      <td>1550.0</td>\n",
       "    </tr>\n",
       "  </tbody>\n",
       "</table>\n",
       "</div>"
      ],
      "text/plain": [
       "  tariff  user_id  month  duration_count  duration_sum  message_count  \\\n",
       "0  smart     1001     11            59.0         430.0              0   \n",
       "1  smart     1001     12            63.0         414.0              0   \n",
       "2  smart     1002      6            15.0         117.0              1   \n",
       "3  smart     1002      7            26.0         214.0              1   \n",
       "4  smart     1002      8            42.0         289.0              1   \n",
       "\n",
       "    mb_used  messages_included  mb_per_month_included  minutes_included  \\\n",
       "0  18429.34                 50                  15360               500   \n",
       "1  14036.66                 50                  15360               500   \n",
       "2  10856.82                 50                  15360               500   \n",
       "3  17580.10                 50                  15360               500   \n",
       "4  20319.26                 50                  15360               500   \n",
       "\n",
       "   rub_monthly_fee  rub_per_gb  rub_per_message  rub_per_minute  \\\n",
       "0              550         200                3               3   \n",
       "1              550         200                3               3   \n",
       "2              550         200                3               3   \n",
       "3              550         200                3               3   \n",
       "4              550         200                3               3   \n",
       "\n",
       "   duration_more_tarrif  messages_more_tarrif  internet_more_tarrif  \\\n",
       "0                   0.0                     0               3069.34   \n",
       "1                   0.0                     0                  0.00   \n",
       "2                   0.0                     0                  0.00   \n",
       "3                   0.0                     0               2220.10   \n",
       "4                   0.0                     0               4959.26   \n",
       "\n",
       "   income_total  \n",
       "0        1150.0  \n",
       "1         550.0  \n",
       "2         550.0  \n",
       "3        1150.0  \n",
       "4        1550.0  "
      ]
     },
     "execution_count": 64,
     "metadata": {},
     "output_type": "execute_result"
    }
   ],
   "source": [
    "df_income['income_total'] = (df_income['duration_more_tarrif'] * df_income['rub_per_minute']) + (df_income['messages_more_tarrif'] * df_income['rub_per_message']) + (((df_income['internet_more_tarrif'] / 1024).apply(math.ceil)) * df_income['rub_per_gb']) + df_income['rub_monthly_fee']\n",
    "df_income.head()"
   ]
  },
  {
   "cell_type": "markdown",
   "metadata": {},
   "source": [
    "### Conclusion\n",
    "\n",
    "We renamed columns and changed data types. We created several pivot tables for each tariff direction and also made a general table with all the necessary data. We added the total revenue to the table. Let's move on to data analysis."
   ]
  },
  {
   "cell_type": "markdown",
   "metadata": {},
   "source": [
    "## Data Analysis"
   ]
  },
  {
   "cell_type": "markdown",
   "metadata": {},
   "source": [
    "Let's take a look at the description of the table."
   ]
  },
  {
   "cell_type": "code",
   "execution_count": 65,
   "metadata": {},
   "outputs": [
    {
     "data": {
      "text/html": [
       "<div>\n",
       "<style scoped>\n",
       "    .dataframe tbody tr th:only-of-type {\n",
       "        vertical-align: middle;\n",
       "    }\n",
       "\n",
       "    .dataframe tbody tr th {\n",
       "        vertical-align: top;\n",
       "    }\n",
       "\n",
       "    .dataframe thead th {\n",
       "        text-align: right;\n",
       "    }\n",
       "</style>\n",
       "<table border=\"1\" class=\"dataframe\">\n",
       "  <thead>\n",
       "    <tr style=\"text-align: right;\">\n",
       "      <th></th>\n",
       "      <th>user_id</th>\n",
       "      <th>month</th>\n",
       "      <th>duration_count</th>\n",
       "      <th>duration_sum</th>\n",
       "      <th>message_count</th>\n",
       "      <th>mb_used</th>\n",
       "      <th>messages_included</th>\n",
       "      <th>mb_per_month_included</th>\n",
       "      <th>minutes_included</th>\n",
       "      <th>rub_monthly_fee</th>\n",
       "      <th>rub_per_gb</th>\n",
       "      <th>rub_per_message</th>\n",
       "      <th>rub_per_minute</th>\n",
       "      <th>duration_more_tarrif</th>\n",
       "      <th>messages_more_tarrif</th>\n",
       "      <th>internet_more_tarrif</th>\n",
       "      <th>income_total</th>\n",
       "    </tr>\n",
       "  </thead>\n",
       "  <tbody>\n",
       "    <tr>\n",
       "      <td>count</td>\n",
       "      <td>3214.000000</td>\n",
       "      <td>3214.000000</td>\n",
       "      <td>3214.000000</td>\n",
       "      <td>3214.000000</td>\n",
       "      <td>3214.000000</td>\n",
       "      <td>3214.000000</td>\n",
       "      <td>3214.000000</td>\n",
       "      <td>3214.000000</td>\n",
       "      <td>3214.000000</td>\n",
       "      <td>3214.000000</td>\n",
       "      <td>3214.000000</td>\n",
       "      <td>3214.000000</td>\n",
       "      <td>3214.000000</td>\n",
       "      <td>3214.000000</td>\n",
       "      <td>3214.0</td>\n",
       "      <td>3214.000000</td>\n",
       "      <td>3214.000000</td>\n",
       "    </tr>\n",
       "    <tr>\n",
       "      <td>mean</td>\n",
       "      <td>1251.590230</td>\n",
       "      <td>8.317362</td>\n",
       "      <td>63.038892</td>\n",
       "      <td>451.244866</td>\n",
       "      <td>0.845364</td>\n",
       "      <td>17207.612859</td>\n",
       "      <td>341.148102</td>\n",
       "      <td>20067.405103</td>\n",
       "      <td>1266.179216</td>\n",
       "      <td>979.060361</td>\n",
       "      <td>184.676416</td>\n",
       "      <td>2.387057</td>\n",
       "      <td>2.387057</td>\n",
       "      <td>28.854698</td>\n",
       "      <td>0.0</td>\n",
       "      <td>2141.032184</td>\n",
       "      <td>1517.009023</td>\n",
       "    </tr>\n",
       "    <tr>\n",
       "      <td>std</td>\n",
       "      <td>144.659172</td>\n",
       "      <td>2.905413</td>\n",
       "      <td>33.236368</td>\n",
       "      <td>241.909978</td>\n",
       "      <td>0.361614</td>\n",
       "      <td>7570.958771</td>\n",
       "      <td>438.044726</td>\n",
       "      <td>7082.491569</td>\n",
       "      <td>1152.749279</td>\n",
       "      <td>645.539596</td>\n",
       "      <td>23.054986</td>\n",
       "      <td>0.922199</td>\n",
       "      <td>0.922199</td>\n",
       "      <td>73.077172</td>\n",
       "      <td>0.0</td>\n",
       "      <td>3407.192129</td>\n",
       "      <td>798.489284</td>\n",
       "    </tr>\n",
       "    <tr>\n",
       "      <td>min</td>\n",
       "      <td>1000.000000</td>\n",
       "      <td>1.000000</td>\n",
       "      <td>0.000000</td>\n",
       "      <td>0.000000</td>\n",
       "      <td>0.000000</td>\n",
       "      <td>0.000000</td>\n",
       "      <td>50.000000</td>\n",
       "      <td>15360.000000</td>\n",
       "      <td>500.000000</td>\n",
       "      <td>550.000000</td>\n",
       "      <td>150.000000</td>\n",
       "      <td>1.000000</td>\n",
       "      <td>1.000000</td>\n",
       "      <td>0.000000</td>\n",
       "      <td>0.0</td>\n",
       "      <td>0.000000</td>\n",
       "      <td>550.000000</td>\n",
       "    </tr>\n",
       "    <tr>\n",
       "      <td>25%</td>\n",
       "      <td>1125.000000</td>\n",
       "      <td>6.000000</td>\n",
       "      <td>40.000000</td>\n",
       "      <td>282.000000</td>\n",
       "      <td>1.000000</td>\n",
       "      <td>12491.890000</td>\n",
       "      <td>50.000000</td>\n",
       "      <td>15360.000000</td>\n",
       "      <td>500.000000</td>\n",
       "      <td>550.000000</td>\n",
       "      <td>150.000000</td>\n",
       "      <td>1.000000</td>\n",
       "      <td>1.000000</td>\n",
       "      <td>0.000000</td>\n",
       "      <td>0.0</td>\n",
       "      <td>0.000000</td>\n",
       "      <td>750.000000</td>\n",
       "    </tr>\n",
       "    <tr>\n",
       "      <td>50%</td>\n",
       "      <td>1253.000000</td>\n",
       "      <td>9.000000</td>\n",
       "      <td>62.000000</td>\n",
       "      <td>443.000000</td>\n",
       "      <td>1.000000</td>\n",
       "      <td>16943.175000</td>\n",
       "      <td>50.000000</td>\n",
       "      <td>15360.000000</td>\n",
       "      <td>500.000000</td>\n",
       "      <td>550.000000</td>\n",
       "      <td>200.000000</td>\n",
       "      <td>3.000000</td>\n",
       "      <td>3.000000</td>\n",
       "      <td>0.000000</td>\n",
       "      <td>0.0</td>\n",
       "      <td>0.000000</td>\n",
       "      <td>1619.500000</td>\n",
       "    </tr>\n",
       "    <tr>\n",
       "      <td>75%</td>\n",
       "      <td>1378.750000</td>\n",
       "      <td>11.000000</td>\n",
       "      <td>82.000000</td>\n",
       "      <td>589.000000</td>\n",
       "      <td>1.000000</td>\n",
       "      <td>21424.625000</td>\n",
       "      <td>1000.000000</td>\n",
       "      <td>30720.000000</td>\n",
       "      <td>3000.000000</td>\n",
       "      <td>1950.000000</td>\n",
       "      <td>200.000000</td>\n",
       "      <td>3.000000</td>\n",
       "      <td>3.000000</td>\n",
       "      <td>0.000000</td>\n",
       "      <td>0.0</td>\n",
       "      <td>3550.732500</td>\n",
       "      <td>1950.000000</td>\n",
       "    </tr>\n",
       "    <tr>\n",
       "      <td>max</td>\n",
       "      <td>1499.000000</td>\n",
       "      <td>12.000000</td>\n",
       "      <td>244.000000</td>\n",
       "      <td>1673.000000</td>\n",
       "      <td>1.000000</td>\n",
       "      <td>49745.690000</td>\n",
       "      <td>1000.000000</td>\n",
       "      <td>30720.000000</td>\n",
       "      <td>3000.000000</td>\n",
       "      <td>1950.000000</td>\n",
       "      <td>200.000000</td>\n",
       "      <td>3.000000</td>\n",
       "      <td>3.000000</td>\n",
       "      <td>935.000000</td>\n",
       "      <td>0.0</td>\n",
       "      <td>23192.450000</td>\n",
       "      <td>6671.000000</td>\n",
       "    </tr>\n",
       "  </tbody>\n",
       "</table>\n",
       "</div>"
      ],
      "text/plain": [
       "           user_id        month  duration_count  duration_sum  message_count  \\\n",
       "count  3214.000000  3214.000000     3214.000000   3214.000000    3214.000000   \n",
       "mean   1251.590230     8.317362       63.038892    451.244866       0.845364   \n",
       "std     144.659172     2.905413       33.236368    241.909978       0.361614   \n",
       "min    1000.000000     1.000000        0.000000      0.000000       0.000000   \n",
       "25%    1125.000000     6.000000       40.000000    282.000000       1.000000   \n",
       "50%    1253.000000     9.000000       62.000000    443.000000       1.000000   \n",
       "75%    1378.750000    11.000000       82.000000    589.000000       1.000000   \n",
       "max    1499.000000    12.000000      244.000000   1673.000000       1.000000   \n",
       "\n",
       "            mb_used  messages_included  mb_per_month_included  \\\n",
       "count   3214.000000        3214.000000            3214.000000   \n",
       "mean   17207.612859         341.148102           20067.405103   \n",
       "std     7570.958771         438.044726            7082.491569   \n",
       "min        0.000000          50.000000           15360.000000   \n",
       "25%    12491.890000          50.000000           15360.000000   \n",
       "50%    16943.175000          50.000000           15360.000000   \n",
       "75%    21424.625000        1000.000000           30720.000000   \n",
       "max    49745.690000        1000.000000           30720.000000   \n",
       "\n",
       "       minutes_included  rub_monthly_fee   rub_per_gb  rub_per_message  \\\n",
       "count       3214.000000      3214.000000  3214.000000      3214.000000   \n",
       "mean        1266.179216       979.060361   184.676416         2.387057   \n",
       "std         1152.749279       645.539596    23.054986         0.922199   \n",
       "min          500.000000       550.000000   150.000000         1.000000   \n",
       "25%          500.000000       550.000000   150.000000         1.000000   \n",
       "50%          500.000000       550.000000   200.000000         3.000000   \n",
       "75%         3000.000000      1950.000000   200.000000         3.000000   \n",
       "max         3000.000000      1950.000000   200.000000         3.000000   \n",
       "\n",
       "       rub_per_minute  duration_more_tarrif  messages_more_tarrif  \\\n",
       "count     3214.000000           3214.000000                3214.0   \n",
       "mean         2.387057             28.854698                   0.0   \n",
       "std          0.922199             73.077172                   0.0   \n",
       "min          1.000000              0.000000                   0.0   \n",
       "25%          1.000000              0.000000                   0.0   \n",
       "50%          3.000000              0.000000                   0.0   \n",
       "75%          3.000000              0.000000                   0.0   \n",
       "max          3.000000            935.000000                   0.0   \n",
       "\n",
       "       internet_more_tarrif  income_total  \n",
       "count           3214.000000   3214.000000  \n",
       "mean            2141.032184   1517.009023  \n",
       "std             3407.192129    798.489284  \n",
       "min                0.000000    550.000000  \n",
       "25%                0.000000    750.000000  \n",
       "50%                0.000000   1619.500000  \n",
       "75%             3550.732500   1950.000000  \n",
       "max            23192.450000   6671.000000  "
      ]
     },
     "execution_count": 65,
     "metadata": {},
     "output_type": "execute_result"
    }
   ],
   "source": [
    "df_income.describe()"
   ]
  },
  {
   "cell_type": "markdown",
   "metadata": {},
   "source": [
    "The table shows that the majority of subscribers do not exceed the limits for calls and messages. Half of them do not exceed the internet limit."
   ]
  },
  {
   "cell_type": "markdown",
   "metadata": {},
   "source": [
    "**Let's see how calls, messages, internet, and revenue affect each other.**"
   ]
  },
  {
   "cell_type": "markdown",
   "metadata": {},
   "source": [
    "**Smart Tariff**"
   ]
  },
  {
   "cell_type": "code",
   "execution_count": 66,
   "metadata": {
    "scrolled": true
   },
   "outputs": [
    {
     "name": "stdout",
     "output_type": "stream",
     "text": [
      "               duration_sum  message_count   mb_used  income_total\n",
      "duration_sum       1.000000       0.020943  0.340519      0.411425\n",
      "message_count      0.020943       1.000000  0.011577     -0.010840\n",
      "mb_used            0.340519       0.011577  1.000000      0.847751\n",
      "income_total       0.411425      -0.010840  0.847751      1.000000\n"
     ]
    }
   ],
   "source": [
    "df_income_smart = df_income.query('tariff == \"smart\"')\n",
    "print(df_income_smart[['duration_sum', 'message_count', 'mb_used', 'income_total']].corr())"
   ]
  },
  {
   "cell_type": "markdown",
   "metadata": {},
   "source": [
    "The traffic has the most significant impact on revenue at 0.85. This means that the more traffic, the higher the revenue. It's logical.\n",
    "Calls have less influence.\n",
    "Messages have almost no impact."
   ]
  },
  {
   "cell_type": "markdown",
   "metadata": {},
   "source": [
    "**Ultra Tariff**"
   ]
  },
  {
   "cell_type": "code",
   "execution_count": 67,
   "metadata": {},
   "outputs": [
    {
     "name": "stdout",
     "output_type": "stream",
     "text": [
      "               duration_sum  message_count   mb_used  income_total\n",
      "duration_sum       1.000000       0.018719  0.177775      0.090650\n",
      "message_count      0.018719       1.000000 -0.018834     -0.121952\n",
      "mb_used            0.177775      -0.018834  1.000000      0.620143\n",
      "income_total       0.090650      -0.121952  0.620143      1.000000\n"
     ]
    }
   ],
   "source": [
    "df_income_ultra = df_income.query('tariff == \"ultra\"')\n",
    "print(df_income_ultra[['duration_sum', 'message_count', 'mb_used', 'income_total']].corr())"
   ]
  },
  {
   "cell_type": "markdown",
   "metadata": {},
   "source": [
    "Internet has a weaker impact on revenue compared to the Smart tariff, but still significant.\n",
    "Calls and messages have almost no impact on revenue."
   ]
  },
  {
   "cell_type": "markdown",
   "metadata": {},
   "source": [
    "**Let's plot graphs for calls, messages, internet, and revenue, and find the variance and standard deviation.**"
   ]
  },
  {
   "cell_type": "markdown",
   "metadata": {},
   "source": [
    "**1. Calls**"
   ]
  },
  {
   "cell_type": "code",
   "execution_count": 68,
   "metadata": {},
   "outputs": [
    {
     "data": {
      "text/plain": [
       "<matplotlib.axes._subplots.AxesSubplot at 0x7fb043c4a710>"
      ]
     },
     "execution_count": 68,
     "metadata": {},
     "output_type": "execute_result"
    },
    {
     "data": {
      "image/png": "[encoded data removed]",
      "text/plain": [
       "<Figure size 720x216 with 1 Axes>"
      ]
     },
     "metadata": {
      "needs_background": "light"
     },
     "output_type": "display_data"
    }
   ],
   "source": [
    "df_calls_mean = df_income.pivot_table(index='month', columns='tariff', values='duration_sum', aggfunc='mean').reset_index()\n",
    "df_calls_mean.plot(kind='bar', x='month', figsize=(10, 3))"
   ]
  },
  {
   "cell_type": "code",
   "execution_count": 69,
   "metadata": {},
   "outputs": [
    {
     "name": "stdout",
     "output_type": "stream",
     "text": [
      "Дисперсия продолжительности звонков smart 36203.06665209469\n",
      "Стандартное отклонение продолжительности звонков smart 190.27103471651876\n",
      "\n",
      "Дисперсия продолжительности звонков ultra 100771.2236172022\n",
      "Стандартное отклонение продолжительности звонков ultra 317.44483554974113\n"
     ]
    }
   ],
   "source": [
    "variance_calls_smart = np.var(df_income_smart['duration_sum'])\n",
    "variance_calls_ultra = np.var(df_income_ultra['duration_sum'])\n",
    "\n",
    "std_calls_smart = np.std(df_income_smart['duration_sum'])\n",
    "std_calls_ultra = np.std(df_income_ultra['duration_sum'])\n",
    "\n",
    "print('Дисперсия продолжительности звонков smart', variance_calls_smart)\n",
    "print('Стандартное отклонение продолжительности звонков smart', std_calls_smart)\n",
    "print()\n",
    "print('Дисперсия продолжительности звонков ultra', variance_calls_ultra)\n",
    "print('Стандартное отклонение продолжительности звонков ultra', std_calls_ultra)"
   ]
  },
  {
   "cell_type": "code",
   "execution_count": 70,
   "metadata": {},
   "outputs": [
    {
     "data": {
      "text/plain": [
       "350"
      ]
     },
     "execution_count": 70,
     "metadata": {},
     "output_type": "execute_result"
    }
   ],
   "source": [
    "df_income_smart['user_id'].nunique()"
   ]
  },
  {
   "cell_type": "markdown",
   "metadata": {},
   "source": [
    "Let's plot a histogram of the distribution of call duration for the Smart tariff."
   ]
  },
  {
   "cell_type": "code",
   "execution_count": 71,
   "metadata": {},
   "outputs": [
    {
     "data": {
      "text/plain": [
       "<matplotlib.axes._subplots.AxesSubplot at 0x7fb04c857a50>"
      ]
     },
     "execution_count": 71,
     "metadata": {},
     "output_type": "execute_result"
    },
    {
     "data": {
      "image/png": "[encoded data removed]",
      "text/plain": [
       "<Figure size 432x288 with 1 Axes>"
      ]
     },
     "metadata": {
      "needs_background": "light"
     },
     "output_type": "display_data"
    }
   ],
   "source": [
    "df_income_smart['duration_sum'].plot(kind='hist', bins=range(0, 2000, 100))"
   ]
  },
  {
   "cell_type": "code",
   "execution_count": 72,
   "metadata": {},
   "outputs": [
    {
     "data": {
      "image/png": "[encoded data removed]",
      "text/plain": [
       "<Figure size 720x576 with 1 Axes>"
      ]
     },
     "metadata": {},
     "output_type": "display_data"
    }
   ],
   "source": [
    "plt.style.use('ggplot') \n",
    "\n",
    "df_income.groupby('tariff')['duration_sum'].plot.hist(alpha=0.5, legend=True, bins=25, figsize=(10,8))\n",
    "\n",
    "plt.legend(['Смарт', 'Ультра'])\n",
    "plt.title('Заголовок')\n",
    "plt.xlabel('Подпись')\n",
    "plt.ylabel('Подпись')\n",
    "\n",
    "plt.show()"
   ]
  },
  {
   "cell_type": "markdown",
   "metadata": {},
   "source": [
    "The histogram is normally distributed, with a slight deviation to the right. A small portion of calls exceeds 1000 minutes per month."
   ]
  },
  {
   "cell_type": "markdown",
   "metadata": {},
   "source": [
    "Let's plot a histogram of the distribution of call duration for the Ultra tariff."
   ]
  },
  {
   "cell_type": "code",
   "execution_count": 364,
   "metadata": {},
   "outputs": [
    {
     "data": {
      "text/plain": [
       "<matplotlib.axes._subplots.AxesSubplot at 0x7fbd8d1c6750>"
      ]
     },
     "execution_count": 364,
     "metadata": {},
     "output_type": "execute_result"
    },
    {
     "data": {
      "image/png": "[encoded data removed]",
      "text/plain": [
       "<Figure size 432x288 with 1 Axes>"
      ]
     },
     "metadata": {
      "needs_background": "light"
     },
     "output_type": "display_data"
    }
   ],
   "source": [
    "df_income_ultra['duration_sum'].plot(kind='hist', bins=range(0, 3000, 100))"
   ]
  },
  {
   "cell_type": "markdown",
   "metadata": {},
   "source": [
    "The histogram shows that all users stay within the call limit (3000 minutes according to the tariff). Almost no one talks more than 1500 minutes per month."
   ]
  },
  {
   "cell_type": "markdown",
   "metadata": {},
   "source": [
    "**2. Messages**"
   ]
  },
  {
   "cell_type": "code",
   "execution_count": 365,
   "metadata": {},
   "outputs": [
    {
     "data": {
      "text/plain": [
       "<matplotlib.axes._subplots.AxesSubplot at 0x7fbd8e613c10>"
      ]
     },
     "execution_count": 365,
     "metadata": {},
     "output_type": "execute_result"
    },
    {
     "data": {
      "image/png": "[encoded data removed]",
      "text/plain": [
       "<Figure size 720x216 with 1 Axes>"
      ]
     },
     "metadata": {
      "needs_background": "light"
     },
     "output_type": "display_data"
    }
   ],
   "source": [
    "df_messages_mean = df_income.pivot_table(index='month', columns='tariff', values='message_count', aggfunc='mean').reset_index()\n",
    "df_messages_mean.plot(kind='bar', x='month', figsize=(10, 3))"
   ]
  },
  {
   "cell_type": "code",
   "execution_count": 366,
   "metadata": {
    "scrolled": true
   },
   "outputs": [
    {
     "name": "stdout",
     "output_type": "stream",
     "text": [
      "Дисперсия кол-ва смс smart 0.11876039184122342\n",
      "Стандартное отклонение кол-ва смс smart 0.34461629654040365\n",
      "\n",
      "Дисперсия кол-ва смс ultra 0.1556855368600067\n",
      "Стандартное отклонение кол-ва смс ultra 0.394570065843833\n"
     ]
    }
   ],
   "source": [
    "variance_messages_smart = np.var(df_income_smart['message_count'])\n",
    "variance_messages_ultra = np.var(df_income_ultra['message_count'])\n",
    "\n",
    "std_messages_smart = np.std(df_income_smart['message_count'])\n",
    "std_messages_ultra = np.std(df_income_ultra['message_count'])\n",
    "\n",
    "print('Дисперсия кол-ва смс smart', variance_messages_smart)\n",
    "print('Стандартное отклонение кол-ва смс smart', std_messages_smart)\n",
    "print()\n",
    "print('Дисперсия кол-ва смс ultra', variance_messages_ultra)\n",
    "print('Стандартное отклонение кол-ва смс ultra', std_messages_ultra)"
   ]
  },
  {
   "cell_type": "markdown",
   "metadata": {},
   "source": [
    "Let's plot a histogram of the distribution of messages for the Smart tariff."
   ]
  },
  {
   "cell_type": "code",
   "execution_count": 367,
   "metadata": {
    "scrolled": false
   },
   "outputs": [
    {
     "data": {
      "text/plain": [
       "<matplotlib.axes._subplots.AxesSubplot at 0x7fbd9078ca50>"
      ]
     },
     "execution_count": 367,
     "metadata": {},
     "output_type": "execute_result"
    },
    {
     "data": {
      "image/png": "[encoded data removed]",
      "text/plain": [
       "<Figure size 432x288 with 1 Axes>"
      ]
     },
     "metadata": {
      "needs_background": "light"
     },
     "output_type": "display_data"
    }
   ],
   "source": [
    "df_income_smart['message_count'].plot(kind='hist', bins=2)"
   ]
  },
  {
   "cell_type": "markdown",
   "metadata": {},
   "source": [
    "Let's plot a histogram of the distribution of messages for the Ultra tariff."
   ]
  },
  {
   "cell_type": "code",
   "execution_count": 368,
   "metadata": {},
   "outputs": [
    {
     "data": {
      "text/plain": [
       "<matplotlib.axes._subplots.AxesSubplot at 0x7fbd8fd70d50>"
      ]
     },
     "execution_count": 368,
     "metadata": {},
     "output_type": "execute_result"
    },
    {
     "data": {
      "image/png": "[encoded data removed]",
      "text/plain": [
       "<Figure size 432x288 with 1 Axes>"
      ]
     },
     "metadata": {
      "needs_background": "light"
     },
     "output_type": "display_data"
    }
   ],
   "source": [
    "df_income_ultra['message_count'].plot(kind='hist', bins=2)"
   ]
  },
  {
   "cell_type": "markdown",
   "metadata": {},
   "source": [
    "On both histograms, it's noticeable that there are subscribers who don't send any messages at all. The proportion of subscribers who don't send messages is higher for the Ultra tariff."
   ]
  },
  {
   "cell_type": "markdown",
   "metadata": {},
   "source": [
    "**3. Internet**"
   ]
  },
  {
   "cell_type": "code",
   "execution_count": 369,
   "metadata": {},
   "outputs": [
    {
     "data": {
      "text/plain": [
       "<matplotlib.axes._subplots.AxesSubplot at 0x7fbd902fded0>"
      ]
     },
     "execution_count": 369,
     "metadata": {},
     "output_type": "execute_result"
    },
    {
     "data": {
      "image/png": "[encoded data removed]",
      "text/plain": [
       "<Figure size 720x216 with 1 Axes>"
      ]
     },
     "metadata": {
      "needs_background": "light"
     },
     "output_type": "display_data"
    }
   ],
   "source": [
    "df_internet_mean = df_income.pivot_table(index='month', columns='tariff', values='mb_used', aggfunc='mean').reset_index()\n",
    "df_internet_mean.plot(kind='bar', x='month', figsize=(10, 3))"
   ]
  },
  {
   "cell_type": "code",
   "execution_count": 370,
   "metadata": {
    "scrolled": true
   },
   "outputs": [
    {
     "name": "stdout",
     "output_type": "stream",
     "text": [
      "Дисперсия интернета smart 34447035.49528493\n",
      "Стандартное отклонение интернета smart 5869.159692433401\n",
      "\n",
      "Дисперсия интернета ultra 101647713.26174639\n",
      "Стандартное отклонение интернета ultra 10082.049060669482\n"
     ]
    }
   ],
   "source": [
    "variance_internet_smart = np.var(df_income_smart['mb_used'])\n",
    "variance_internet_ultra = np.var(df_income_ultra['mb_used'])\n",
    "\n",
    "std_internet_smart = np.std(df_income_smart['mb_used'])\n",
    "std_internet_ultra = np.std(df_income_ultra['mb_used'])\n",
    "\n",
    "print('Дисперсия интернета smart', variance_internet_smart)\n",
    "print('Стандартное отклонение интернета smart', std_internet_smart)\n",
    "print()\n",
    "print('Дисперсия интернета ultra', variance_internet_ultra)\n",
    "print('Стандартное отклонение интернета ultra', std_internet_ultra)"
   ]
  },
  {
   "cell_type": "markdown",
   "metadata": {},
   "source": [
    "Let's plot a histogram of the distribution of internet traffic for the Smart tariff."
   ]
  },
  {
   "cell_type": "code",
   "execution_count": 371,
   "metadata": {},
   "outputs": [
    {
     "data": {
      "text/plain": [
       "<matplotlib.axes._subplots.AxesSubplot at 0x7fbd90b8bb50>"
      ]
     },
     "execution_count": 371,
     "metadata": {},
     "output_type": "execute_result"
    },
    {
     "data": {
      "image/png": "[encoded data removed]",
      "text/plain": [
       "<Figure size 432x288 with 1 Axes>"
      ]
     },
     "metadata": {
      "needs_background": "light"
     },
     "output_type": "display_data"
    }
   ],
   "source": [
    "df_income_smart['mb_used'].plot(kind='hist', bins=range(0, 40000, 1000))"
   ]
  },
  {
   "cell_type": "markdown",
   "metadata": {},
   "source": [
    "The histogram is normally distributed. However, a large portion of subscribers exceed the 15GB traffic limit."
   ]
  },
  {
   "cell_type": "markdown",
   "metadata": {},
   "source": [
    "Let's plot a histogram of the distribution of internet traffic for the Ultra tariff."
   ]
  },
  {
   "cell_type": "code",
   "execution_count": 372,
   "metadata": {},
   "outputs": [
    {
     "data": {
      "text/plain": [
       "<matplotlib.axes._subplots.AxesSubplot at 0x7fbd909b7b50>"
      ]
     },
     "execution_count": 372,
     "metadata": {},
     "output_type": "execute_result"
    },
    {
     "data": {
      "image/png": "[encoded data removed]",
      "text/plain": [
       "<Figure size 432x288 with 1 Axes>"
      ]
     },
     "metadata": {
      "needs_background": "light"
     },
     "output_type": "display_data"
    }
   ],
   "source": [
    "df_income_ultra['mb_used'].plot(kind='hist', bins=range(0, 50000, 2000))"
   ]
  },
  {
   "cell_type": "markdown",
   "metadata": {},
   "source": [
    "Subscribers of the Ultra tariff more often stay within the 30GB limit, but there are also subscribers who exceed it."
   ]
  },
  {
   "cell_type": "markdown",
   "metadata": {},
   "source": [
    "**4. Revenue**"
   ]
  },
  {
   "cell_type": "code",
   "execution_count": 373,
   "metadata": {},
   "outputs": [
    {
     "data": {
      "text/plain": [
       "<matplotlib.axes._subplots.AxesSubplot at 0x7fbd95942ed0>"
      ]
     },
     "execution_count": 373,
     "metadata": {},
     "output_type": "execute_result"
    },
    {
     "data": {
      "image/png": "[encoded data removed]",
      "text/plain": [
       "<Figure size 720x216 with 1 Axes>"
      ]
     },
     "metadata": {
      "needs_background": "light"
     },
     "output_type": "display_data"
    }
   ],
   "source": [
    "df_income_mean = df_income.pivot_table(index='month', columns='tariff', values='income_total', aggfunc='mean').reset_index()\n",
    "df_income_mean.plot(kind='bar', x='month', figsize=(10, 3))"
   ]
  },
  {
   "cell_type": "code",
   "execution_count": 374,
   "metadata": {
    "scrolled": true
   },
   "outputs": [
    {
     "name": "stdout",
     "output_type": "stream",
     "text": [
      "Дисперсия выручки smart 661620.0229295266\n",
      "Стандартное отклонение выручки smart 813.4002845644491\n",
      "\n",
      "Дисперсия выручки ultra 141373.07325620347\n",
      "Стандартное отклонение выручки ultra 375.9961080333192\n"
     ]
    }
   ],
   "source": [
    "variance_income_smart = np.var(df_income_smart['income_total'])\n",
    "variance_income_ultra = np.var(df_income_ultra['income_total'])\n",
    "\n",
    "std_income_smart = np.std(df_income_smart['income_total'])\n",
    "std_income_ultra = np.std(df_income_ultra['income_total'])\n",
    "\n",
    "print('Дисперсия выручки smart', variance_income_smart)\n",
    "print('Стандартное отклонение выручки smart', std_income_smart)\n",
    "print()\n",
    "print('Дисперсия выручки ultra', variance_income_ultra)\n",
    "print('Стандартное отклонение выручки ultra', std_income_ultra)"
   ]
  },
  {
   "cell_type": "markdown",
   "metadata": {},
   "source": [
    "Let's plot a histogram of the distribution of total revenue for the Smart tariff."
   ]
  },
  {
   "cell_type": "code",
   "execution_count": 375,
   "metadata": {},
   "outputs": [
    {
     "data": {
      "text/plain": [
       "<matplotlib.axes._subplots.AxesSubplot at 0x7fbd9079cc50>"
      ]
     },
     "execution_count": 375,
     "metadata": {},
     "output_type": "execute_result"
    },
    {
     "data": {
      "image/png": "[encoded data removed]",
      "text/plain": [
       "<Figure size 432x288 with 1 Axes>"
      ]
     },
     "metadata": {
      "needs_background": "light"
     },
     "output_type": "display_data"
    }
   ],
   "source": [
    "df_income_smart['income_total'].plot(kind='hist', bins=range(550, 7000, 200))"
   ]
  },
  {
   "cell_type": "markdown",
   "metadata": {},
   "source": [
    "Many subscribers of the Smart tariff pay more than 550 rubles per month. Moreover, there are subscribers who pay more than the cost of the Ultra tariff. They should definitely consider changing their tariff to save money."
   ]
  },
  {
   "cell_type": "markdown",
   "metadata": {},
   "source": [
    "Let's plot a histogram of the distribution of total revenue for the Ultra tariff."
   ]
  },
  {
   "cell_type": "code",
   "execution_count": 376,
   "metadata": {},
   "outputs": [
    {
     "data": {
      "text/plain": [
       "<matplotlib.axes._subplots.AxesSubplot at 0x7fbda07c8590>"
      ]
     },
     "execution_count": 376,
     "metadata": {},
     "output_type": "execute_result"
    },
    {
     "data": {
      "image/png": "[encoded data removed]",
      "text/plain": [
       "<Figure size 432x288 with 1 Axes>"
      ]
     },
     "metadata": {
      "needs_background": "light"
     },
     "output_type": "display_data"
    }
   ],
   "source": [
    "df_income_ultra['income_total'].plot(kind='hist', bins=range(1950, 7000, 100))"
   ]
  },
  {
   "cell_type": "markdown",
   "metadata": {},
   "source": [
    "Almost all subscribers of the ultra tariff pay only a subscription fee, without additional services. There is a small part of subscribers who exceed the limits, but the share of such subscribers is significantly less than that of the smart tariff"
   ]
  },
  {
   "cell_type": "markdown",
   "metadata": {},
   "source": [
    "<b>Let's find the number of subscribers on each tariff and the total revenue for the tariffs</b>"
   ]
  },
  {
   "cell_type": "code",
   "execution_count": 377,
   "metadata": {},
   "outputs": [
    {
     "name": "stdout",
     "output_type": "stream",
     "text": [
      "Итоговая выручка по тарифам\n",
      "        income_total\n",
      "tariff              \n",
      "smart      2836567.0\n",
      "ultra      2039100.0\n",
      "\n",
      "Общее кол-во абонентов\n",
      "        user_id\n",
      "tariff         \n",
      "smart       351\n",
      "ultra       149\n"
     ]
    }
   ],
   "source": [
    "print('Итоговая выручка по тарифам')\n",
    "print(df_income.pivot_table(index='tariff', values='income_total', aggfunc='sum'))\n",
    "print()\n",
    "print('Общее кол-во абонентов')\n",
    "print(df_users.pivot_table(index='tariff', values='user_id', aggfunc='count'))"
   ]
  },
  {
   "cell_type": "markdown",
   "metadata": {},
   "source": [
    "### Conclusion\n",
    "\n",
    "The graphs show that the average value for all parameters is higher for the ultra tariff, except for the number of SMS. In terms of average number of SMS, the smart<br> tariff is in the lead\n",
    "The variance in calls, SMS and traffic is greater for the ultra tariff. Smart tariff revenue dispersion is greater<br>\n",
    "The revenue of the smart tariff is greatly influenced by traffic. I think that 15GB is not enough for many subscribers and they pay separately for additional traffic. Calls have less impact<br>\n",
    "The ultra tariff's revenue will mainly come from the Internet. But here more subscribers meet the tariff standards than on smart<br>\n",
    "More people use the smart tariff than the ultra tariff. And the total revenue for the smart tariff is higher.<br>\n",
    "Constructed distribution histograms for calls, SMS, Internet and revenue"
   ]
  },
  {
   "cell_type": "markdown",
   "metadata": {},
   "source": [
    "## Testing hypotheses"
   ]
  },
  {
   "cell_type": "markdown",
   "metadata": {},
   "source": [
    "<b>Hypothesis 1<br>\n",
    " H0 - Average revenue of users of Ultra tariffs = average revenue of users of Smart tariffs<br>\n",
    "</b>"
   ]
  },
  {
   "cell_type": "markdown",
   "metadata": {},
   "source": [
    "We already have two ready-made tables\n",
    "\n",
    "- df_income_smart\n",
    "- df_income_ultra\n",
    "\n",
    "Let's check the hypothesis"
   ]
  },
  {
   "cell_type": "code",
   "execution_count": 378,
   "metadata": {},
   "outputs": [
    {
     "name": "stdout",
     "output_type": "stream",
     "text": [
      "p-значение:  3.798003235009034e-261\n",
      "Отвергаем нулевую гипотезу\n"
     ]
    }
   ],
   "source": [
    "alpha = .05 # критический уровень статистической значимости\n",
    "# если p-value окажется меньше него - отвегнем гипотезу\n",
    "\n",
    "results = st.ttest_ind(\n",
    "    df_income_smart['income_total'], \n",
    "    df_income_ultra['income_total'],\n",
    "    equal_var = False)\n",
    "\n",
    "print('p-значение: ', results.pvalue)\n",
    "\n",
    "if results.pvalue < alpha:\n",
    "    print(\"Отвергаем нулевую гипотезу\")\n",
    "else:\n",
    "    print(\"Не получилось отвергнуть нулевую гипотезу\") "
   ]
  },
  {
   "cell_type": "markdown",
   "metadata": {},
   "source": [
    "Because We don’t have a lot of data, so we can calculate more accurately using the mean() function"
   ]
  },
  {
   "cell_type": "code",
   "execution_count": 379,
   "metadata": {},
   "outputs": [
    {
     "name": "stdout",
     "output_type": "stream",
     "text": [
      "1272.5737999102737\n",
      "2070.1522842639592\n"
     ]
    }
   ],
   "source": [
    "print(df_income_smart['income_total'].mean())\n",
    "print(df_income_ultra['income_total'].mean())"
   ]
  },
  {
   "cell_type": "markdown",
   "metadata": {},
   "source": [
    "The hypothesis was not confirmed. The average revenue of the smart tariff is almost two times less than that of the ultra tariff"
   ]
  },
  {
   "cell_type": "markdown",
   "metadata": {},
   "source": [
    "<b>Hypothesis 2<br>\n",
    " H0 - Average revenue of users from Moscow = average revenue of users from other cities<br>\n",
    "</b>"
   ]
  },
  {
   "cell_type": "markdown",
   "metadata": {},
   "source": [
    "First, let's add the city to the table with revenue"
   ]
  },
  {
   "cell_type": "code",
   "execution_count": 380,
   "metadata": {},
   "outputs": [],
   "source": [
    "df_income = df_income.merge(df_users[['user_id', 'city']], on='user_id')"
   ]
  },
  {
   "cell_type": "markdown",
   "metadata": {},
   "source": [
    "Now let's make two separate tables:\n",
    "1. Only Moscow\n",
    "2. Other cities"
   ]
  },
  {
   "cell_type": "code",
   "execution_count": 381,
   "metadata": {},
   "outputs": [],
   "source": [
    "df_income_moscow_city = df_income.query('city == \"Москва\"')\n",
    "df_income_others_city = df_income.query('city != \"Москва\"')"
   ]
  },
  {
   "cell_type": "markdown",
   "metadata": {},
   "source": [
    "Testing the hypothesis"
   ]
  },
  {
   "cell_type": "code",
   "execution_count": 382,
   "metadata": {},
   "outputs": [
    {
     "name": "stdout",
     "output_type": "stream",
     "text": [
      "p-значение:  0.425625168367989\n",
      "Не получилось отвергнуть нулевую гипотезу\n"
     ]
    }
   ],
   "source": [
    "alpha = .05 # критический уровень статистической значимости\n",
    "# если p-value окажется меньше него - отвегнем гипотезу\n",
    "\n",
    "results = st.ttest_ind(\n",
    "    df_income_moscow_city['income_total'], \n",
    "    df_income_others_city['income_total'],\n",
    "    equal_var = False)\n",
    "\n",
    "print('p-значение: ', results.pvalue)\n",
    "\n",
    "if results.pvalue < alpha:\n",
    "    print(\"Отвергаем нулевую гипотезу\")\n",
    "else:\n",
    "    print(\"Не получилось отвергнуть нулевую гипотезу\")"
   ]
  },
  {
   "cell_type": "markdown",
   "metadata": {},
   "source": [
    "The hypothesis was confirmed, because pvalue turned out to be 42%\n",
    "The revenue of Moscow and other cities is approximately the same"
   ]
  },
  {
   "cell_type": "markdown",
   "metadata": {},
   "source": [
    "Let's double check"
   ]
  },
  {
   "cell_type": "code",
   "execution_count": 383,
   "metadata": {},
   "outputs": [
    {
     "name": "stdout",
     "output_type": "stream",
     "text": [
      "1539.1767594108019\n",
      "1511.8056089127929\n"
     ]
    }
   ],
   "source": [
    "print(df_income_moscow_city['income_total'].mean())\n",
    "print(df_income_others_city['income_total'].mean())"
   ]
  },
  {
   "cell_type": "markdown",
   "metadata": {},
   "source": [
    "The difference is less than 100"
   ]
  },
  {
   "cell_type": "markdown",
   "metadata": {},
   "source": [
    "### Conclusion\n",
    "\n",
    "Hypothesis 1 was confirmed. The revenue between the two tariffs differs by almost two times<br>\n",
    "Hypothesis 2 was not confirmed. Revenue between Moscow and other cities is not much different.\n",
    "\n",
    "For two hypotheses, I used a method to test the hypothesis that the mean of two populations is equal based on samples taken from them: scipy.stats.ttest_ind (array1, array2,equal_var)\n",
    "\n",
    "We are completing the project"
   ]
  },
  {
   "cell_type": "markdown",
   "metadata": {},
   "source": [
    "## General conclusion"
   ]
  },
  {
   "cell_type": "markdown",
   "metadata": {},
   "source": [
    "Having analyzed the data on 500 subscribers of the Megaline company, we draw the following conclusion.\n",
    "1. The greatest revenue for the company comes from the smart tariff. Also, the smart tariff has a larger number of people.\n",
    "2. Revenue from the ultra tariff is more stable than from the smart tariff. I assume that this is due to the fact that many smart tariff subscribers buy additional traffic.\n",
    "3. The variance in calls, SMS and traffic is greater with the ultra tariff. The revenue dispersion of the smart tariff is greater. This means that smart tariff subscribers more often exceed the limits that are established with their tariff and, accordingly, overpay more often.\n",
    "4. The hypothesis that the average revenue of users of Ultra and Smart tariffs are equal was not confirmed. On average, subscribers pay almost twice as much for the ultra tariff\n",
    "5. The hypothesis that the average revenue of users from Moscow is equal to the revenue of users from other regions was confirmed. The difference in revenue between Moscow and other cities is no more than 100 rubles.\n",
    "\n",
    "Having analyzed this sample, we come to the following conclusion:\n",
    "\n",
    "The smart tariff is better than the ultra tariff, because... the revenue from this takrif is greater. The revenue of the smart tariff is 2.8 million rubles, the ultra tariff is 2 million rubles. Also, more subscribers use the smart tariff than the ultra tariff. 351 and 149 respectively."
   ]
  }
 ],
 "metadata": {
  "ExecuteTimeLog": [
   {
    "duration": 3,
    "start_time": "2022-01-14T16:13:03.915Z"
   },
   {
    "duration": 581,
    "start_time": "2022-01-14T16:24:30.590Z"
   },
   {
    "duration": 375,
    "start_time": "2022-01-14T16:25:39.063Z"
   },
   {
    "duration": 150,
    "start_time": "2022-01-14T16:25:49.175Z"
   },
   {
    "duration": 423,
    "start_time": "2022-01-14T16:28:13.060Z"
   },
   {
    "duration": 414,
    "start_time": "2022-01-14T16:29:08.280Z"
   },
   {
    "duration": 416,
    "start_time": "2022-01-14T16:29:49.452Z"
   },
   {
    "duration": 893,
    "start_time": "2022-01-15T12:17:52.056Z"
   },
   {
    "duration": 401,
    "start_time": "2022-01-15T12:18:30.045Z"
   },
   {
    "duration": 598,
    "start_time": "2022-01-15T12:19:41.180Z"
   },
   {
    "duration": 393,
    "start_time": "2022-01-15T12:19:49.357Z"
   },
   {
    "duration": 18,
    "start_time": "2022-01-15T12:23:38.670Z"
   },
   {
    "duration": 45,
    "start_time": "2022-01-15T12:23:46.901Z"
   },
   {
    "duration": 51,
    "start_time": "2022-01-15T12:23:53.674Z"
   },
   {
    "duration": 39,
    "start_time": "2022-01-15T12:26:47.218Z"
   },
   {
    "duration": 128,
    "start_time": "2022-01-15T12:27:16.446Z"
   },
   {
    "duration": 136,
    "start_time": "2022-01-15T12:27:23.010Z"
   },
   {
    "duration": 24,
    "start_time": "2022-01-15T12:54:34.035Z"
   },
   {
    "duration": 16,
    "start_time": "2022-01-15T12:55:19.748Z"
   },
   {
    "duration": 10,
    "start_time": "2022-01-15T12:55:28.079Z"
   },
   {
    "duration": 40,
    "start_time": "2022-01-15T13:04:54.515Z"
   },
   {
    "duration": 4,
    "start_time": "2022-01-15T13:10:10.512Z"
   },
   {
    "duration": 3,
    "start_time": "2022-01-15T13:10:14.392Z"
   },
   {
    "duration": 4,
    "start_time": "2022-01-15T13:10:38.868Z"
   },
   {
    "duration": 4,
    "start_time": "2022-01-15T13:10:44.332Z"
   },
   {
    "duration": 4,
    "start_time": "2022-01-15T13:10:51.804Z"
   },
   {
    "duration": 4,
    "start_time": "2022-01-15T13:11:23.984Z"
   },
   {
    "duration": 423,
    "start_time": "2022-01-15T13:51:23.640Z"
   },
   {
    "duration": 38,
    "start_time": "2022-01-15T13:51:31.892Z"
   },
   {
    "duration": 155,
    "start_time": "2022-01-15T13:51:40.920Z"
   },
   {
    "duration": 53,
    "start_time": "2022-01-15T13:52:35.893Z"
   },
   {
    "duration": 4,
    "start_time": "2022-01-15T13:55:26.962Z"
   },
   {
    "duration": 20,
    "start_time": "2022-01-15T13:59:32.771Z"
   },
   {
    "duration": 29,
    "start_time": "2022-01-15T13:59:39.599Z"
   },
   {
    "duration": 21,
    "start_time": "2022-01-15T13:59:48.278Z"
   },
   {
    "duration": 211,
    "start_time": "2022-01-15T14:02:59.848Z"
   },
   {
    "duration": 70,
    "start_time": "2022-01-15T14:03:06.716Z"
   },
   {
    "duration": 58,
    "start_time": "2022-01-15T14:05:02.589Z"
   },
   {
    "duration": 53,
    "start_time": "2022-01-15T14:05:21.637Z"
   },
   {
    "duration": 63,
    "start_time": "2022-01-15T14:05:30.596Z"
   },
   {
    "duration": 15,
    "start_time": "2022-01-15T14:09:54.603Z"
   },
   {
    "duration": 28,
    "start_time": "2022-01-15T14:12:41.175Z"
   },
   {
    "duration": 16,
    "start_time": "2022-01-15T14:15:09.563Z"
   },
   {
    "duration": 34,
    "start_time": "2022-01-15T14:18:09.453Z"
   },
   {
    "duration": 92,
    "start_time": "2022-01-15T14:21:22.950Z"
   },
   {
    "duration": 201,
    "start_time": "2022-01-15T16:02:03.716Z"
   },
   {
    "duration": 12,
    "start_time": "2022-01-15T16:02:43.085Z"
   },
   {
    "duration": 4,
    "start_time": "2022-01-15T16:03:55.221Z"
   },
   {
    "duration": 4,
    "start_time": "2022-01-15T16:05:33.378Z"
   },
   {
    "duration": 3,
    "start_time": "2022-01-15T16:05:45.318Z"
   },
   {
    "duration": 15,
    "start_time": "2022-01-15T16:05:58.062Z"
   },
   {
    "duration": 2910,
    "start_time": "2022-01-15T16:18:09.297Z"
   },
   {
    "duration": 20,
    "start_time": "2022-01-15T16:20:36.862Z"
   },
   {
    "duration": 20,
    "start_time": "2022-01-15T16:20:50.070Z"
   },
   {
    "duration": 4700,
    "start_time": "2022-01-15T16:21:06.814Z"
   },
   {
    "duration": 21,
    "start_time": "2022-01-15T16:21:15.814Z"
   },
   {
    "duration": 19,
    "start_time": "2022-01-15T16:21:20.174Z"
   },
   {
    "duration": 21,
    "start_time": "2022-01-15T16:21:25.462Z"
   },
   {
    "duration": 22,
    "start_time": "2022-01-15T16:21:30.170Z"
   },
   {
    "duration": 413,
    "start_time": "2022-01-15T16:26:45.432Z"
   },
   {
    "duration": 193,
    "start_time": "2022-01-15T16:27:03.604Z"
   },
   {
    "duration": 204,
    "start_time": "2022-01-15T16:27:56.153Z"
   },
   {
    "duration": 404,
    "start_time": "2022-01-15T16:28:21.964Z"
   },
   {
    "duration": 39,
    "start_time": "2022-01-15T16:28:25.409Z"
   },
   {
    "duration": 179,
    "start_time": "2022-01-15T16:28:31.876Z"
   },
   {
    "duration": 208,
    "start_time": "2022-01-15T16:28:37.572Z"
   },
   {
    "duration": 204,
    "start_time": "2022-01-15T16:30:20.777Z"
   },
   {
    "duration": 188,
    "start_time": "2022-01-15T16:30:37.317Z"
   },
   {
    "duration": 213,
    "start_time": "2022-01-15T16:32:11.562Z"
   },
   {
    "duration": 200,
    "start_time": "2022-01-15T16:32:40.358Z"
   },
   {
    "duration": 51,
    "start_time": "2022-01-15T16:36:36.203Z"
   },
   {
    "duration": 50,
    "start_time": "2022-01-15T16:36:45.283Z"
   },
   {
    "duration": 42,
    "start_time": "2022-01-15T16:37:02.963Z"
   },
   {
    "duration": 717,
    "start_time": "2022-01-15T16:38:47.915Z"
   },
   {
    "duration": 59,
    "start_time": "2022-01-15T16:39:52.716Z"
   },
   {
    "duration": 53,
    "start_time": "2022-01-15T16:40:14.660Z"
   },
   {
    "duration": 68,
    "start_time": "2022-01-15T16:40:33.160Z"
   },
   {
    "duration": 65,
    "start_time": "2022-01-15T16:40:36.796Z"
   },
   {
    "duration": 21,
    "start_time": "2022-01-15T16:40:58.644Z"
   },
   {
    "duration": 20,
    "start_time": "2022-01-15T16:41:28.625Z"
   },
   {
    "duration": 391,
    "start_time": "2022-01-15T16:41:34.921Z"
   },
   {
    "duration": 39,
    "start_time": "2022-01-15T16:41:38.261Z"
   },
   {
    "duration": 142,
    "start_time": "2022-01-15T16:41:39.653Z"
   },
   {
    "duration": 57,
    "start_time": "2022-01-15T16:41:43.697Z"
   },
   {
    "duration": 57,
    "start_time": "2022-01-15T16:41:44.701Z"
   },
   {
    "duration": 20,
    "start_time": "2022-01-15T16:41:48.144Z"
   },
   {
    "duration": 58,
    "start_time": "2022-01-15T16:41:49.245Z"
   },
   {
    "duration": 14,
    "start_time": "2022-01-15T16:41:54.869Z"
   },
   {
    "duration": 28,
    "start_time": "2022-01-15T16:41:55.905Z"
   },
   {
    "duration": 15,
    "start_time": "2022-01-15T16:41:59.621Z"
   },
   {
    "duration": 27,
    "start_time": "2022-01-15T16:42:02.221Z"
   },
   {
    "duration": 21,
    "start_time": "2022-01-15T16:42:11.165Z"
   },
   {
    "duration": 20,
    "start_time": "2022-01-15T16:42:35.617Z"
   },
   {
    "duration": 27,
    "start_time": "2022-01-15T16:44:42.541Z"
   },
   {
    "duration": 25,
    "start_time": "2022-01-15T16:45:07.682Z"
   },
   {
    "duration": 22,
    "start_time": "2022-01-15T16:46:11.754Z"
   },
   {
    "duration": 15,
    "start_time": "2022-01-15T16:55:06.676Z"
   },
   {
    "duration": 27,
    "start_time": "2022-01-15T16:57:11.366Z"
   },
   {
    "duration": 175,
    "start_time": "2022-01-15T16:57:56.098Z"
   },
   {
    "duration": 4743,
    "start_time": "2022-01-15T16:58:12.215Z"
   },
   {
    "duration": 19,
    "start_time": "2022-01-15T16:58:23.651Z"
   },
   {
    "duration": 20,
    "start_time": "2022-01-15T17:00:58.950Z"
   },
   {
    "duration": 7,
    "start_time": "2022-01-15T17:04:20.052Z"
   },
   {
    "duration": 7,
    "start_time": "2022-01-15T17:04:25.324Z"
   },
   {
    "duration": 7,
    "start_time": "2022-01-15T17:04:31.803Z"
   },
   {
    "duration": 4,
    "start_time": "2022-01-15T17:04:37.820Z"
   },
   {
    "duration": 3,
    "start_time": "2022-01-15T17:04:46.220Z"
   },
   {
    "duration": 3,
    "start_time": "2022-01-15T17:04:51.516Z"
   },
   {
    "duration": 4,
    "start_time": "2022-01-15T17:04:58.932Z"
   },
   {
    "duration": 4,
    "start_time": "2022-01-15T17:05:02.187Z"
   },
   {
    "duration": 5695,
    "start_time": "2022-01-15T17:05:10.480Z"
   },
   {
    "duration": 3,
    "start_time": "2022-01-15T17:05:23.560Z"
   },
   {
    "duration": 4991,
    "start_time": "2022-01-15T17:05:37.755Z"
   },
   {
    "duration": 7,
    "start_time": "2022-01-15T17:07:01.992Z"
   },
   {
    "duration": 14,
    "start_time": "2022-01-15T17:07:07.012Z"
   },
   {
    "duration": 12,
    "start_time": "2022-01-15T17:07:19.128Z"
   },
   {
    "duration": 13,
    "start_time": "2022-01-15T17:07:31.080Z"
   },
   {
    "duration": 192,
    "start_time": "2022-01-15T17:29:33.175Z"
   },
   {
    "duration": 183,
    "start_time": "2022-01-15T17:31:10.816Z"
   },
   {
    "duration": 406,
    "start_time": "2022-01-15T17:31:25.168Z"
   },
   {
    "duration": 39,
    "start_time": "2022-01-15T17:31:32.944Z"
   },
   {
    "duration": 135,
    "start_time": "2022-01-15T17:31:34.848Z"
   },
   {
    "duration": 51,
    "start_time": "2022-01-15T17:31:37.720Z"
   },
   {
    "duration": 56,
    "start_time": "2022-01-15T17:31:38.604Z"
   },
   {
    "duration": 20,
    "start_time": "2022-01-15T17:31:40.672Z"
   },
   {
    "duration": 52,
    "start_time": "2022-01-15T17:31:41.908Z"
   },
   {
    "duration": 13,
    "start_time": "2022-01-15T17:31:44.240Z"
   },
   {
    "duration": 26,
    "start_time": "2022-01-15T17:31:45.392Z"
   },
   {
    "duration": 15,
    "start_time": "2022-01-15T17:31:51.236Z"
   },
   {
    "duration": 29,
    "start_time": "2022-01-15T17:31:54.660Z"
   },
   {
    "duration": 26,
    "start_time": "2022-01-15T17:31:56.668Z"
   },
   {
    "duration": 215,
    "start_time": "2022-01-15T17:32:02.668Z"
   },
   {
    "duration": 28,
    "start_time": "2022-01-15T17:32:38.348Z"
   },
   {
    "duration": 21,
    "start_time": "2022-01-15T17:34:39.849Z"
   },
   {
    "duration": 191,
    "start_time": "2022-01-15T17:36:29.546Z"
   },
   {
    "duration": 199,
    "start_time": "2022-01-15T17:40:36.161Z"
   },
   {
    "duration": 3,
    "start_time": "2022-01-15T17:40:43.699Z"
   },
   {
    "duration": 186,
    "start_time": "2022-01-15T17:40:52.983Z"
   },
   {
    "duration": 394,
    "start_time": "2022-01-15T17:41:03.103Z"
   },
   {
    "duration": 40,
    "start_time": "2022-01-15T17:41:04.680Z"
   },
   {
    "duration": 140,
    "start_time": "2022-01-15T17:41:05.708Z"
   },
   {
    "duration": 2,
    "start_time": "2022-01-15T17:41:08.080Z"
   },
   {
    "duration": 57,
    "start_time": "2022-01-15T17:41:09.016Z"
   },
   {
    "duration": 57,
    "start_time": "2022-01-15T17:41:09.966Z"
   },
   {
    "duration": 21,
    "start_time": "2022-01-15T17:41:11.900Z"
   },
   {
    "duration": 65,
    "start_time": "2022-01-15T17:41:12.780Z"
   },
   {
    "duration": 13,
    "start_time": "2022-01-15T17:41:14.144Z"
   },
   {
    "duration": 26,
    "start_time": "2022-01-15T17:41:15.040Z"
   },
   {
    "duration": 15,
    "start_time": "2022-01-15T17:41:16.384Z"
   },
   {
    "duration": 28,
    "start_time": "2022-01-15T17:41:17.256Z"
   },
   {
    "duration": 23,
    "start_time": "2022-01-15T17:41:18.180Z"
   },
   {
    "duration": 182,
    "start_time": "2022-01-15T17:41:20.052Z"
   },
   {
    "duration": 7,
    "start_time": "2022-01-15T17:41:38.748Z"
   },
   {
    "duration": 8,
    "start_time": "2022-01-15T17:41:50.456Z"
   },
   {
    "duration": 9,
    "start_time": "2022-01-15T17:45:01.681Z"
   },
   {
    "duration": 4,
    "start_time": "2022-01-15T17:45:05.509Z"
   },
   {
    "duration": 10,
    "start_time": "2022-01-15T17:45:11.566Z"
   },
   {
    "duration": 35,
    "start_time": "2022-01-15T17:45:37.717Z"
   },
   {
    "duration": 252,
    "start_time": "2022-01-15T17:46:55.938Z"
   },
   {
    "duration": 58,
    "start_time": "2022-01-15T17:46:59.822Z"
   },
   {
    "duration": 54,
    "start_time": "2022-01-15T17:47:01.626Z"
   },
   {
    "duration": 51,
    "start_time": "2022-01-15T17:47:06.018Z"
   },
   {
    "duration": 23,
    "start_time": "2022-01-15T17:49:29.346Z"
   },
   {
    "duration": 22,
    "start_time": "2022-01-15T17:51:50.119Z"
   },
   {
    "duration": 20,
    "start_time": "2022-01-15T17:52:22.516Z"
   },
   {
    "duration": 24,
    "start_time": "2022-01-15T17:52:25.308Z"
   },
   {
    "duration": 20,
    "start_time": "2022-01-15T17:56:09.637Z"
   },
   {
    "duration": 18,
    "start_time": "2022-01-15T17:56:16.306Z"
   },
   {
    "duration": 21,
    "start_time": "2022-01-15T17:56:26.169Z"
   },
   {
    "duration": 18,
    "start_time": "2022-01-15T17:56:32.792Z"
   },
   {
    "duration": 19,
    "start_time": "2022-01-15T17:56:46.998Z"
   },
   {
    "duration": 19,
    "start_time": "2022-01-15T17:56:57.241Z"
   },
   {
    "duration": 24,
    "start_time": "2022-01-15T17:57:14.997Z"
   },
   {
    "duration": 415,
    "start_time": "2022-01-15T17:58:00.562Z"
   },
   {
    "duration": 40,
    "start_time": "2022-01-15T17:58:02.089Z"
   },
   {
    "duration": 136,
    "start_time": "2022-01-15T17:58:03.844Z"
   },
   {
    "duration": 3,
    "start_time": "2022-01-15T17:58:06.370Z"
   },
   {
    "duration": 51,
    "start_time": "2022-01-15T17:58:07.367Z"
   },
   {
    "duration": 57,
    "start_time": "2022-01-15T17:58:08.365Z"
   },
   {
    "duration": 20,
    "start_time": "2022-01-15T17:58:10.554Z"
   },
   {
    "duration": 53,
    "start_time": "2022-01-15T17:58:11.514Z"
   },
   {
    "duration": 14,
    "start_time": "2022-01-15T17:58:13.157Z"
   },
   {
    "duration": 26,
    "start_time": "2022-01-15T17:58:14.230Z"
   },
   {
    "duration": 16,
    "start_time": "2022-01-15T17:58:16.058Z"
   },
   {
    "duration": 29,
    "start_time": "2022-01-15T17:58:18.077Z"
   },
   {
    "duration": 24,
    "start_time": "2022-01-15T17:58:20.294Z"
   },
   {
    "duration": 25,
    "start_time": "2022-01-15T17:58:22.818Z"
   },
   {
    "duration": 21,
    "start_time": "2022-01-15T17:58:28.070Z"
   },
   {
    "duration": 23,
    "start_time": "2022-01-15T17:59:10.226Z"
   },
   {
    "duration": 18,
    "start_time": "2022-01-15T17:59:18.446Z"
   },
   {
    "duration": 4551,
    "start_time": "2022-01-15T17:59:42.990Z"
   },
   {
    "duration": 4,
    "start_time": "2022-01-15T17:59:56.871Z"
   },
   {
    "duration": 5,
    "start_time": "2022-01-15T18:00:02.746Z"
   },
   {
    "duration": 5,
    "start_time": "2022-01-15T18:00:05.330Z"
   },
   {
    "duration": 5,
    "start_time": "2022-01-15T18:00:08.766Z"
   },
   {
    "duration": 4,
    "start_time": "2022-01-15T18:00:11.837Z"
   },
   {
    "duration": 4,
    "start_time": "2022-01-15T18:00:15.274Z"
   },
   {
    "duration": 4,
    "start_time": "2022-01-15T18:00:19.222Z"
   },
   {
    "duration": 4,
    "start_time": "2022-01-15T18:00:22.263Z"
   },
   {
    "duration": 5090,
    "start_time": "2022-01-15T18:00:30.954Z"
   },
   {
    "duration": 3,
    "start_time": "2022-01-15T18:00:47.243Z"
   },
   {
    "duration": 21,
    "start_time": "2022-01-15T18:17:07.008Z"
   },
   {
    "duration": 384,
    "start_time": "2022-01-15T18:17:22.540Z"
   },
   {
    "duration": 8,
    "start_time": "2022-01-15T18:18:28.108Z"
   },
   {
    "duration": 8,
    "start_time": "2022-01-15T18:18:49.648Z"
   },
   {
    "duration": 10,
    "start_time": "2022-01-15T18:18:54.728Z"
   },
   {
    "duration": 8,
    "start_time": "2022-01-15T18:18:59.156Z"
   },
   {
    "duration": 191,
    "start_time": "2022-01-15T18:20:10.706Z"
   },
   {
    "duration": 6,
    "start_time": "2022-01-15T18:20:16.888Z"
   },
   {
    "duration": 388,
    "start_time": "2022-01-15T18:20:50.272Z"
   },
   {
    "duration": 44,
    "start_time": "2022-01-15T18:20:52.614Z"
   },
   {
    "duration": 142,
    "start_time": "2022-01-15T18:20:55.845Z"
   },
   {
    "duration": 3,
    "start_time": "2022-01-15T18:21:00.797Z"
   },
   {
    "duration": 50,
    "start_time": "2022-01-15T18:21:01.832Z"
   },
   {
    "duration": 57,
    "start_time": "2022-01-15T18:21:02.899Z"
   },
   {
    "duration": 20,
    "start_time": "2022-01-15T18:21:05.268Z"
   },
   {
    "duration": 51,
    "start_time": "2022-01-15T18:21:06.597Z"
   },
   {
    "duration": 15,
    "start_time": "2022-01-15T18:21:08.507Z"
   },
   {
    "duration": 27,
    "start_time": "2022-01-15T18:21:09.608Z"
   },
   {
    "duration": 15,
    "start_time": "2022-01-15T18:21:11.369Z"
   },
   {
    "duration": 27,
    "start_time": "2022-01-15T18:21:14.136Z"
   },
   {
    "duration": 27,
    "start_time": "2022-01-15T18:21:15.400Z"
   },
   {
    "duration": 21,
    "start_time": "2022-01-15T18:21:19.753Z"
   },
   {
    "duration": 18,
    "start_time": "2022-01-15T18:21:20.965Z"
   },
   {
    "duration": 17,
    "start_time": "2022-01-15T18:21:21.697Z"
   },
   {
    "duration": 23,
    "start_time": "2022-01-15T18:24:55.078Z"
   },
   {
    "duration": 26,
    "start_time": "2022-01-15T18:25:38.558Z"
   },
   {
    "duration": 197,
    "start_time": "2022-01-15T18:26:50.839Z"
   },
   {
    "duration": 215,
    "start_time": "2022-01-15T18:30:26.424Z"
   },
   {
    "duration": 186,
    "start_time": "2022-01-15T18:30:48.160Z"
   },
   {
    "duration": 206,
    "start_time": "2022-01-15T18:30:56.712Z"
   },
   {
    "duration": 193,
    "start_time": "2022-01-15T18:31:05.660Z"
   },
   {
    "duration": 185,
    "start_time": "2022-01-15T18:31:09.588Z"
   },
   {
    "duration": 41,
    "start_time": "2022-01-15T18:31:18.068Z"
   },
   {
    "duration": 43,
    "start_time": "2022-01-15T18:31:41.572Z"
   },
   {
    "duration": 40,
    "start_time": "2022-01-15T18:31:48.204Z"
   },
   {
    "duration": 23,
    "start_time": "2022-01-15T18:37:09.246Z"
   },
   {
    "duration": 363,
    "start_time": "2022-01-15T18:38:35.598Z"
   },
   {
    "duration": 210,
    "start_time": "2022-01-15T18:38:38.795Z"
   },
   {
    "duration": 40,
    "start_time": "2022-01-15T18:38:58.747Z"
   },
   {
    "duration": 31,
    "start_time": "2022-01-15T18:39:06.891Z"
   },
   {
    "duration": 48,
    "start_time": "2022-01-15T18:39:20.939Z"
   },
   {
    "duration": 26,
    "start_time": "2022-01-15T18:39:58.282Z"
   },
   {
    "duration": 17,
    "start_time": "2022-01-15T18:41:28.400Z"
   },
   {
    "duration": 49,
    "start_time": "2022-01-15T18:42:53.483Z"
   },
   {
    "duration": 45,
    "start_time": "2022-01-15T18:43:12.260Z"
   },
   {
    "duration": 39,
    "start_time": "2022-01-15T18:46:38.894Z"
   },
   {
    "duration": 40,
    "start_time": "2022-01-15T18:48:11.701Z"
   },
   {
    "duration": 39,
    "start_time": "2022-01-15T18:48:37.674Z"
   },
   {
    "duration": 245,
    "start_time": "2022-01-15T18:52:13.211Z"
   },
   {
    "duration": 216,
    "start_time": "2022-01-15T18:52:54.332Z"
   },
   {
    "duration": 26,
    "start_time": "2022-01-15T18:53:38.039Z"
   },
   {
    "duration": 15,
    "start_time": "2022-01-15T18:54:59.296Z"
   },
   {
    "duration": 47,
    "start_time": "2022-01-15T18:57:11.873Z"
   },
   {
    "duration": 58,
    "start_time": "2022-01-15T18:57:25.929Z"
   },
   {
    "duration": 46,
    "start_time": "2022-01-15T18:57:47.572Z"
   },
   {
    "duration": 43,
    "start_time": "2022-01-15T18:59:54.058Z"
   },
   {
    "duration": 43,
    "start_time": "2022-01-15T18:59:59.190Z"
   },
   {
    "duration": 422,
    "start_time": "2022-01-15T19:00:08.810Z"
   },
   {
    "duration": 39,
    "start_time": "2022-01-15T19:00:10.190Z"
   },
   {
    "duration": 132,
    "start_time": "2022-01-15T19:00:11.169Z"
   },
   {
    "duration": 3,
    "start_time": "2022-01-15T19:00:13.378Z"
   },
   {
    "duration": 53,
    "start_time": "2022-01-15T19:00:14.162Z"
   },
   {
    "duration": 59,
    "start_time": "2022-01-15T19:00:15.010Z"
   },
   {
    "duration": 20,
    "start_time": "2022-01-15T19:00:16.722Z"
   },
   {
    "duration": 52,
    "start_time": "2022-01-15T19:00:17.626Z"
   },
   {
    "duration": 13,
    "start_time": "2022-01-15T19:00:19.314Z"
   },
   {
    "duration": 26,
    "start_time": "2022-01-15T19:00:20.290Z"
   },
   {
    "duration": 17,
    "start_time": "2022-01-15T19:00:21.966Z"
   },
   {
    "duration": 28,
    "start_time": "2022-01-15T19:00:23.398Z"
   },
   {
    "duration": 25,
    "start_time": "2022-01-15T19:00:24.730Z"
   },
   {
    "duration": 21,
    "start_time": "2022-01-15T19:00:27.502Z"
   },
   {
    "duration": 19,
    "start_time": "2022-01-15T19:00:28.298Z"
   },
   {
    "duration": 41,
    "start_time": "2022-01-15T19:00:28.818Z"
   },
   {
    "duration": 28,
    "start_time": "2022-01-15T19:00:33.594Z"
   },
   {
    "duration": 18,
    "start_time": "2022-01-15T19:00:34.270Z"
   },
   {
    "duration": 38,
    "start_time": "2022-01-15T19:00:34.893Z"
   },
   {
    "duration": 26,
    "start_time": "2022-01-15T19:00:40.254Z"
   },
   {
    "duration": 16,
    "start_time": "2022-01-15T19:00:43.376Z"
   },
   {
    "duration": 44,
    "start_time": "2022-01-15T19:00:44.046Z"
   },
   {
    "duration": 45,
    "start_time": "2022-01-15T19:01:18.426Z"
   },
   {
    "duration": 43,
    "start_time": "2022-01-15T19:01:52.616Z"
   },
   {
    "duration": 38,
    "start_time": "2022-01-15T19:01:59.952Z"
   },
   {
    "duration": 38,
    "start_time": "2022-01-15T19:02:05.789Z"
   },
   {
    "duration": 44,
    "start_time": "2022-01-15T19:02:17.046Z"
   },
   {
    "duration": 44,
    "start_time": "2022-01-15T19:03:04.251Z"
   },
   {
    "duration": 41,
    "start_time": "2022-01-15T19:03:45.519Z"
   },
   {
    "duration": 13,
    "start_time": "2022-01-15T19:04:15.483Z"
   },
   {
    "duration": 42,
    "start_time": "2022-01-15T19:04:18.567Z"
   },
   {
    "duration": 43,
    "start_time": "2022-01-15T19:05:03.615Z"
   },
   {
    "duration": 409,
    "start_time": "2022-01-15T19:05:13.779Z"
   },
   {
    "duration": 415,
    "start_time": "2022-01-15T19:05:26.283Z"
   },
   {
    "duration": 50,
    "start_time": "2022-01-15T19:05:26.699Z"
   },
   {
    "duration": 149,
    "start_time": "2022-01-15T19:05:26.751Z"
   },
   {
    "duration": 12,
    "start_time": "2022-01-15T19:05:26.901Z"
   },
   {
    "duration": 56,
    "start_time": "2022-01-15T19:05:26.915Z"
   },
   {
    "duration": 66,
    "start_time": "2022-01-15T19:05:26.972Z"
   },
   {
    "duration": 19,
    "start_time": "2022-01-15T19:05:27.040Z"
   },
   {
    "duration": 65,
    "start_time": "2022-01-15T19:05:27.061Z"
   },
   {
    "duration": 14,
    "start_time": "2022-01-15T19:05:27.127Z"
   },
   {
    "duration": 25,
    "start_time": "2022-01-15T19:05:27.142Z"
   },
   {
    "duration": 15,
    "start_time": "2022-01-15T19:05:27.168Z"
   },
   {
    "duration": 47,
    "start_time": "2022-01-15T19:05:27.185Z"
   },
   {
    "duration": 23,
    "start_time": "2022-01-15T19:05:27.233Z"
   },
   {
    "duration": 21,
    "start_time": "2022-01-15T19:05:27.257Z"
   },
   {
    "duration": 37,
    "start_time": "2022-01-15T19:05:27.279Z"
   },
   {
    "duration": 39,
    "start_time": "2022-01-15T19:05:27.317Z"
   },
   {
    "duration": 25,
    "start_time": "2022-01-15T19:05:27.357Z"
   },
   {
    "duration": 36,
    "start_time": "2022-01-15T19:05:27.383Z"
   },
   {
    "duration": 36,
    "start_time": "2022-01-15T19:05:27.421Z"
   },
   {
    "duration": 23,
    "start_time": "2022-01-15T19:05:27.458Z"
   },
   {
    "duration": 37,
    "start_time": "2022-01-15T19:05:27.482Z"
   },
   {
    "duration": 39,
    "start_time": "2022-01-15T19:05:27.520Z"
   },
   {
    "duration": 52,
    "start_time": "2022-01-15T19:34:57.485Z"
   },
   {
    "duration": 193,
    "start_time": "2022-01-15T19:36:17.854Z"
   },
   {
    "duration": 18,
    "start_time": "2022-01-15T19:37:36.030Z"
   },
   {
    "duration": 17,
    "start_time": "2022-01-15T19:37:45.834Z"
   },
   {
    "duration": 349,
    "start_time": "2022-01-16T07:31:55.162Z"
   },
   {
    "duration": 1547,
    "start_time": "2022-01-16T07:32:05.321Z"
   },
   {
    "duration": 63,
    "start_time": "2022-01-16T07:32:06.871Z"
   },
   {
    "duration": 331,
    "start_time": "2022-01-16T07:32:06.937Z"
   },
   {
    "duration": 7,
    "start_time": "2022-01-16T07:32:07.270Z"
   },
   {
    "duration": 116,
    "start_time": "2022-01-16T07:32:07.279Z"
   },
   {
    "duration": 108,
    "start_time": "2022-01-16T07:32:07.397Z"
   },
   {
    "duration": 74,
    "start_time": "2022-01-16T07:32:07.507Z"
   },
   {
    "duration": 42,
    "start_time": "2022-01-16T07:32:16.614Z"
   },
   {
    "duration": 347,
    "start_time": "2022-01-16T07:33:55.517Z"
   },
   {
    "duration": 358,
    "start_time": "2022-01-16T07:34:11.582Z"
   },
   {
    "duration": 291,
    "start_time": "2022-01-16T07:34:22.587Z"
   },
   {
    "duration": 376,
    "start_time": "2022-01-16T07:34:36.491Z"
   },
   {
    "duration": 296,
    "start_time": "2022-01-16T07:34:57.043Z"
   },
   {
    "duration": 348,
    "start_time": "2022-01-16T07:36:18.707Z"
   },
   {
    "duration": 18,
    "start_time": "2022-01-16T07:36:38.979Z"
   },
   {
    "duration": 31,
    "start_time": "2022-01-16T07:38:14.026Z"
   },
   {
    "duration": 47,
    "start_time": "2022-01-16T07:38:19.284Z"
   },
   {
    "duration": 325,
    "start_time": "2022-01-16T07:38:22.468Z"
   },
   {
    "duration": 19,
    "start_time": "2022-01-16T07:38:32.292Z"
   },
   {
    "duration": 5742,
    "start_time": "2022-01-16T07:39:06.776Z"
   },
   {
    "duration": 5516,
    "start_time": "2022-01-16T07:39:32.668Z"
   },
   {
    "duration": 104,
    "start_time": "2022-01-16T07:40:48.520Z"
   },
   {
    "duration": 101,
    "start_time": "2022-01-16T07:40:56.572Z"
   },
   {
    "duration": 301,
    "start_time": "2022-01-16T07:41:30.781Z"
   },
   {
    "duration": 32,
    "start_time": "2022-01-16T07:41:33.188Z"
   },
   {
    "duration": 44,
    "start_time": "2022-01-16T07:41:35.325Z"
   },
   {
    "duration": 136,
    "start_time": "2022-01-16T07:41:35.821Z"
   },
   {
    "duration": 21,
    "start_time": "2022-01-16T07:44:18.282Z"
   },
   {
    "duration": 28,
    "start_time": "2022-01-16T07:44:54.459Z"
   },
   {
    "duration": 729,
    "start_time": "2022-01-16T07:45:41.286Z"
   },
   {
    "duration": 61,
    "start_time": "2022-01-16T07:45:56.414Z"
   },
   {
    "duration": 109,
    "start_time": "2022-01-16T07:46:29.062Z"
   },
   {
    "duration": 43,
    "start_time": "2022-01-16T07:46:42.314Z"
   },
   {
    "duration": 26,
    "start_time": "2022-01-16T07:48:19.770Z"
   },
   {
    "duration": 37,
    "start_time": "2022-01-16T07:48:46.031Z"
   },
   {
    "duration": 64,
    "start_time": "2022-01-16T07:49:26.087Z"
   },
   {
    "duration": 24,
    "start_time": "2022-01-16T07:51:24.383Z"
   },
   {
    "duration": 5,
    "start_time": "2022-01-16T07:51:29.143Z"
   },
   {
    "duration": 97,
    "start_time": "2022-01-16T07:51:40.536Z"
   },
   {
    "duration": 29,
    "start_time": "2022-01-16T07:51:42.856Z"
   },
   {
    "duration": 304,
    "start_time": "2022-01-16T07:55:25.665Z"
   },
   {
    "duration": 31,
    "start_time": "2022-01-16T07:55:32.301Z"
   },
   {
    "duration": 27,
    "start_time": "2022-01-16T07:58:05.402Z"
   },
   {
    "duration": 47,
    "start_time": "2022-01-16T07:58:17.470Z"
   },
   {
    "duration": 11,
    "start_time": "2022-01-16T07:58:58.746Z"
   },
   {
    "duration": 689,
    "start_time": "2022-01-16T07:59:05.734Z"
   },
   {
    "duration": 95,
    "start_time": "2022-01-16T07:59:06.426Z"
   },
   {
    "duration": 292,
    "start_time": "2022-01-16T07:59:06.524Z"
   },
   {
    "duration": 5,
    "start_time": "2022-01-16T07:59:06.819Z"
   },
   {
    "duration": 108,
    "start_time": "2022-01-16T07:59:06.826Z"
   },
   {
    "duration": 108,
    "start_time": "2022-01-16T07:59:06.936Z"
   },
   {
    "duration": 40,
    "start_time": "2022-01-16T07:59:07.046Z"
   },
   {
    "duration": 40,
    "start_time": "2022-01-16T07:59:07.089Z"
   },
   {
    "duration": 122,
    "start_time": "2022-01-16T07:59:07.131Z"
   },
   {
    "duration": 32,
    "start_time": "2022-01-16T07:59:07.255Z"
   },
   {
    "duration": 27,
    "start_time": "2022-01-16T07:59:07.289Z"
   },
   {
    "duration": 48,
    "start_time": "2022-01-16T07:59:07.319Z"
   },
   {
    "duration": 46,
    "start_time": "2022-01-16T07:59:07.369Z"
   },
   {
    "duration": 25,
    "start_time": "2022-01-16T07:59:07.417Z"
   },
   {
    "duration": 54,
    "start_time": "2022-01-16T07:59:07.444Z"
   },
   {
    "duration": 82,
    "start_time": "2022-01-16T07:59:07.500Z"
   },
   {
    "duration": 14,
    "start_time": "2022-01-16T07:59:15.711Z"
   },
   {
    "duration": 3,
    "start_time": "2022-01-16T07:59:40.374Z"
   },
   {
    "duration": 30,
    "start_time": "2022-01-16T07:59:48.238Z"
   },
   {
    "duration": 28,
    "start_time": "2022-01-16T08:00:59.738Z"
   },
   {
    "duration": 333,
    "start_time": "2022-01-16T08:01:58.843Z"
   },
   {
    "duration": 88,
    "start_time": "2022-01-16T08:02:09.422Z"
   },
   {
    "duration": 29,
    "start_time": "2022-01-16T08:02:11.615Z"
   },
   {
    "duration": 35,
    "start_time": "2022-01-16T08:02:25.304Z"
   },
   {
    "duration": 36,
    "start_time": "2022-01-16T08:05:47.431Z"
   },
   {
    "duration": 26,
    "start_time": "2022-01-16T08:06:21.730Z"
   },
   {
    "duration": 33,
    "start_time": "2022-01-16T08:07:32.040Z"
   },
   {
    "duration": 28,
    "start_time": "2022-01-16T08:07:40.917Z"
   },
   {
    "duration": 364,
    "start_time": "2022-01-16T08:10:44.886Z"
   },
   {
    "duration": 282,
    "start_time": "2022-01-16T08:11:35.770Z"
   },
   {
    "duration": 31,
    "start_time": "2022-01-16T08:11:48.818Z"
   },
   {
    "duration": 31,
    "start_time": "2022-01-16T08:11:57.710Z"
   },
   {
    "duration": 31,
    "start_time": "2022-01-16T08:12:05.010Z"
   },
   {
    "duration": 31,
    "start_time": "2022-01-16T08:12:13.018Z"
   },
   {
    "duration": 30,
    "start_time": "2022-01-16T08:13:19.298Z"
   },
   {
    "duration": 30,
    "start_time": "2022-01-16T08:13:25.302Z"
   },
   {
    "duration": 31,
    "start_time": "2022-01-16T08:13:28.474Z"
   },
   {
    "duration": 673,
    "start_time": "2022-01-16T08:13:33.630Z"
   },
   {
    "duration": 90,
    "start_time": "2022-01-16T08:13:34.305Z"
   },
   {
    "duration": 299,
    "start_time": "2022-01-16T08:13:34.398Z"
   },
   {
    "duration": 5,
    "start_time": "2022-01-16T08:13:34.700Z"
   },
   {
    "duration": 112,
    "start_time": "2022-01-16T08:13:34.707Z"
   },
   {
    "duration": 108,
    "start_time": "2022-01-16T08:13:34.821Z"
   },
   {
    "duration": 40,
    "start_time": "2022-01-16T08:13:34.931Z"
   },
   {
    "duration": 38,
    "start_time": "2022-01-16T08:13:34.975Z"
   },
   {
    "duration": 115,
    "start_time": "2022-01-16T08:13:35.016Z"
   },
   {
    "duration": 36,
    "start_time": "2022-01-16T08:13:35.133Z"
   },
   {
    "duration": 25,
    "start_time": "2022-01-16T08:13:35.172Z"
   },
   {
    "duration": 38,
    "start_time": "2022-01-16T08:13:35.200Z"
   },
   {
    "duration": 75,
    "start_time": "2022-01-16T08:13:35.241Z"
   },
   {
    "duration": 52,
    "start_time": "2022-01-16T08:13:35.319Z"
   },
   {
    "duration": 33,
    "start_time": "2022-01-16T08:13:35.373Z"
   },
   {
    "duration": 77,
    "start_time": "2022-01-16T08:13:35.409Z"
   },
   {
    "duration": 36,
    "start_time": "2022-01-16T08:13:35.489Z"
   },
   {
    "duration": 52,
    "start_time": "2022-01-16T08:13:35.528Z"
   },
   {
    "duration": 30,
    "start_time": "2022-01-16T08:13:39.931Z"
   },
   {
    "duration": 22,
    "start_time": "2022-01-16T08:15:25.277Z"
   },
   {
    "duration": 22,
    "start_time": "2022-01-16T08:15:37.620Z"
   },
   {
    "duration": 21,
    "start_time": "2022-01-16T08:16:25.747Z"
   },
   {
    "duration": 14,
    "start_time": "2022-01-16T08:18:26.724Z"
   },
   {
    "duration": 28,
    "start_time": "2022-01-16T08:18:32.504Z"
   },
   {
    "duration": 27,
    "start_time": "2022-01-16T08:18:41.784Z"
   },
   {
    "duration": 90,
    "start_time": "2022-01-16T08:19:23.526Z"
   },
   {
    "duration": 28,
    "start_time": "2022-01-16T08:20:05.189Z"
   },
   {
    "duration": 1282,
    "start_time": "2022-01-16T08:23:12.239Z"
   },
   {
    "duration": 30,
    "start_time": "2022-01-16T08:24:32.616Z"
   },
   {
    "duration": 674,
    "start_time": "2022-01-16T08:24:54.447Z"
   },
   {
    "duration": 91,
    "start_time": "2022-01-16T08:24:55.124Z"
   },
   {
    "duration": 303,
    "start_time": "2022-01-16T08:24:55.219Z"
   },
   {
    "duration": 5,
    "start_time": "2022-01-16T08:24:55.525Z"
   },
   {
    "duration": 115,
    "start_time": "2022-01-16T08:24:55.533Z"
   },
   {
    "duration": 123,
    "start_time": "2022-01-16T08:24:55.651Z"
   },
   {
    "duration": 34,
    "start_time": "2022-01-16T08:24:55.776Z"
   },
   {
    "duration": 65,
    "start_time": "2022-01-16T08:24:55.815Z"
   },
   {
    "duration": 104,
    "start_time": "2022-01-16T08:24:55.884Z"
   },
   {
    "duration": 27,
    "start_time": "2022-01-16T08:24:55.991Z"
   },
   {
    "duration": 48,
    "start_time": "2022-01-16T08:24:56.021Z"
   },
   {
    "duration": 26,
    "start_time": "2022-01-16T08:24:56.072Z"
   },
   {
    "duration": 67,
    "start_time": "2022-01-16T08:24:56.100Z"
   },
   {
    "duration": 26,
    "start_time": "2022-01-16T08:24:56.169Z"
   },
   {
    "duration": 32,
    "start_time": "2022-01-16T08:24:56.198Z"
   },
   {
    "duration": 75,
    "start_time": "2022-01-16T08:24:56.232Z"
   },
   {
    "duration": 58,
    "start_time": "2022-01-16T08:24:56.309Z"
   },
   {
    "duration": 33,
    "start_time": "2022-01-16T08:24:56.369Z"
   },
   {
    "duration": 28,
    "start_time": "2022-01-16T08:25:02.315Z"
   },
   {
    "duration": 666,
    "start_time": "2022-01-16T08:29:50.472Z"
   },
   {
    "duration": 97,
    "start_time": "2022-01-16T08:29:51.141Z"
   },
   {
    "duration": 318,
    "start_time": "2022-01-16T08:29:51.241Z"
   },
   {
    "duration": 7,
    "start_time": "2022-01-16T08:29:51.562Z"
   },
   {
    "duration": 114,
    "start_time": "2022-01-16T08:29:51.572Z"
   },
   {
    "duration": 107,
    "start_time": "2022-01-16T08:29:51.689Z"
   },
   {
    "duration": 31,
    "start_time": "2022-01-16T08:29:51.799Z"
   },
   {
    "duration": 56,
    "start_time": "2022-01-16T08:29:51.834Z"
   },
   {
    "duration": 112,
    "start_time": "2022-01-16T08:29:51.893Z"
   },
   {
    "duration": 26,
    "start_time": "2022-01-16T08:29:52.007Z"
   },
   {
    "duration": 42,
    "start_time": "2022-01-16T08:29:52.036Z"
   },
   {
    "duration": 25,
    "start_time": "2022-01-16T08:29:52.081Z"
   },
   {
    "duration": 66,
    "start_time": "2022-01-16T08:29:52.108Z"
   },
   {
    "duration": 24,
    "start_time": "2022-01-16T08:29:52.177Z"
   },
   {
    "duration": 31,
    "start_time": "2022-01-16T08:29:52.203Z"
   },
   {
    "duration": 82,
    "start_time": "2022-01-16T08:29:52.237Z"
   },
   {
    "duration": 51,
    "start_time": "2022-01-16T08:29:52.321Z"
   },
   {
    "duration": 28,
    "start_time": "2022-01-16T08:29:52.375Z"
   },
   {
    "duration": 27,
    "start_time": "2022-01-16T08:29:56.812Z"
   },
   {
    "duration": 325,
    "start_time": "2022-01-16T08:31:12.484Z"
   },
   {
    "duration": 296,
    "start_time": "2022-01-16T08:31:29.180Z"
   },
   {
    "duration": 291,
    "start_time": "2022-01-16T08:31:37.865Z"
   },
   {
    "duration": 290,
    "start_time": "2022-01-16T08:32:20.135Z"
   },
   {
    "duration": 306,
    "start_time": "2022-01-16T08:32:23.025Z"
   },
   {
    "duration": 307,
    "start_time": "2022-01-16T08:32:45.838Z"
   },
   {
    "duration": 301,
    "start_time": "2022-01-16T08:32:50.081Z"
   },
   {
    "duration": 296,
    "start_time": "2022-01-16T08:32:55.017Z"
   },
   {
    "duration": 281,
    "start_time": "2022-01-16T08:33:02.817Z"
   },
   {
    "duration": 286,
    "start_time": "2022-01-16T08:33:06.262Z"
   },
   {
    "duration": 14,
    "start_time": "2022-01-16T08:33:12.339Z"
   },
   {
    "duration": 9,
    "start_time": "2022-01-16T08:33:15.176Z"
   },
   {
    "duration": 10,
    "start_time": "2022-01-16T08:34:14.598Z"
   },
   {
    "duration": 692,
    "start_time": "2022-01-16T08:34:31.450Z"
   },
   {
    "duration": 65,
    "start_time": "2022-01-16T08:34:32.169Z"
   },
   {
    "duration": 311,
    "start_time": "2022-01-16T08:34:32.237Z"
   },
   {
    "duration": 15,
    "start_time": "2022-01-16T08:34:32.552Z"
   },
   {
    "duration": 107,
    "start_time": "2022-01-16T08:34:32.570Z"
   },
   {
    "duration": 109,
    "start_time": "2022-01-16T08:34:32.679Z"
   },
   {
    "duration": 34,
    "start_time": "2022-01-16T08:34:32.790Z"
   },
   {
    "duration": 54,
    "start_time": "2022-01-16T08:34:32.827Z"
   },
   {
    "duration": 105,
    "start_time": "2022-01-16T08:34:32.884Z"
   },
   {
    "duration": 25,
    "start_time": "2022-01-16T08:34:32.992Z"
   },
   {
    "duration": 47,
    "start_time": "2022-01-16T08:34:33.020Z"
   },
   {
    "duration": 28,
    "start_time": "2022-01-16T08:34:33.070Z"
   },
   {
    "duration": 71,
    "start_time": "2022-01-16T08:34:33.101Z"
   },
   {
    "duration": 26,
    "start_time": "2022-01-16T08:34:33.175Z"
   },
   {
    "duration": 35,
    "start_time": "2022-01-16T08:34:33.204Z"
   },
   {
    "duration": 84,
    "start_time": "2022-01-16T08:34:33.241Z"
   },
   {
    "duration": 69,
    "start_time": "2022-01-16T08:34:33.328Z"
   },
   {
    "duration": 34,
    "start_time": "2022-01-16T08:34:33.399Z"
   },
   {
    "duration": 12,
    "start_time": "2022-01-16T08:34:37.663Z"
   },
   {
    "duration": 23,
    "start_time": "2022-01-16T08:36:16.518Z"
   },
   {
    "duration": 279,
    "start_time": "2022-01-16T08:37:21.745Z"
   },
   {
    "duration": 30,
    "start_time": "2022-01-16T08:37:33.826Z"
   },
   {
    "duration": 23,
    "start_time": "2022-01-16T08:38:35.339Z"
   },
   {
    "duration": 649,
    "start_time": "2022-01-16T08:38:40.930Z"
   },
   {
    "duration": 93,
    "start_time": "2022-01-16T08:38:41.581Z"
   },
   {
    "duration": 285,
    "start_time": "2022-01-16T08:38:41.678Z"
   },
   {
    "duration": 5,
    "start_time": "2022-01-16T08:38:41.966Z"
   },
   {
    "duration": 101,
    "start_time": "2022-01-16T08:38:41.973Z"
   },
   {
    "duration": 108,
    "start_time": "2022-01-16T08:38:42.076Z"
   },
   {
    "duration": 32,
    "start_time": "2022-01-16T08:38:42.186Z"
   },
   {
    "duration": 58,
    "start_time": "2022-01-16T08:38:42.222Z"
   },
   {
    "duration": 103,
    "start_time": "2022-01-16T08:38:42.283Z"
   },
   {
    "duration": 23,
    "start_time": "2022-01-16T08:38:42.388Z"
   },
   {
    "duration": 24,
    "start_time": "2022-01-16T08:38:42.414Z"
   },
   {
    "duration": 46,
    "start_time": "2022-01-16T08:38:42.441Z"
   },
   {
    "duration": 45,
    "start_time": "2022-01-16T08:38:42.489Z"
   },
   {
    "duration": 45,
    "start_time": "2022-01-16T08:38:42.536Z"
   },
   {
    "duration": 33,
    "start_time": "2022-01-16T08:38:42.584Z"
   },
   {
    "duration": 77,
    "start_time": "2022-01-16T08:38:42.620Z"
   },
   {
    "duration": 40,
    "start_time": "2022-01-16T08:38:42.699Z"
   },
   {
    "duration": 49,
    "start_time": "2022-01-16T08:38:42.741Z"
   },
   {
    "duration": 29,
    "start_time": "2022-01-16T08:38:45.222Z"
   },
   {
    "duration": 24,
    "start_time": "2022-01-16T08:39:02.191Z"
   },
   {
    "duration": 642,
    "start_time": "2022-01-16T08:39:06.792Z"
   },
   {
    "duration": 83,
    "start_time": "2022-01-16T08:39:07.437Z"
   },
   {
    "duration": 283,
    "start_time": "2022-01-16T08:39:07.522Z"
   },
   {
    "duration": 4,
    "start_time": "2022-01-16T08:39:07.808Z"
   },
   {
    "duration": 107,
    "start_time": "2022-01-16T08:39:07.814Z"
   },
   {
    "duration": 109,
    "start_time": "2022-01-16T08:39:07.924Z"
   },
   {
    "duration": 46,
    "start_time": "2022-01-16T08:39:08.035Z"
   },
   {
    "duration": 43,
    "start_time": "2022-01-16T08:39:08.086Z"
   },
   {
    "duration": 119,
    "start_time": "2022-01-16T08:39:08.132Z"
   },
   {
    "duration": 35,
    "start_time": "2022-01-16T08:39:08.254Z"
   },
   {
    "duration": 24,
    "start_time": "2022-01-16T08:39:08.292Z"
   },
   {
    "duration": 63,
    "start_time": "2022-01-16T08:39:08.318Z"
   },
   {
    "duration": 47,
    "start_time": "2022-01-16T08:39:08.383Z"
   },
   {
    "duration": 50,
    "start_time": "2022-01-16T08:39:08.432Z"
   },
   {
    "duration": 32,
    "start_time": "2022-01-16T08:39:08.484Z"
   },
   {
    "duration": 78,
    "start_time": "2022-01-16T08:39:08.519Z"
   },
   {
    "duration": 38,
    "start_time": "2022-01-16T08:39:08.599Z"
   },
   {
    "duration": 53,
    "start_time": "2022-01-16T08:39:08.640Z"
   },
   {
    "duration": 25,
    "start_time": "2022-01-16T08:39:16.801Z"
   },
   {
    "duration": 25,
    "start_time": "2022-01-16T08:40:55.670Z"
   },
   {
    "duration": 25,
    "start_time": "2022-01-16T08:41:18.592Z"
   },
   {
    "duration": 28,
    "start_time": "2022-01-16T08:41:40.908Z"
   },
   {
    "duration": 21,
    "start_time": "2022-01-16T08:43:23.320Z"
   },
   {
    "duration": 667,
    "start_time": "2022-01-16T08:43:27.444Z"
   },
   {
    "duration": 91,
    "start_time": "2022-01-16T08:43:28.114Z"
   },
   {
    "duration": 315,
    "start_time": "2022-01-16T08:43:28.208Z"
   },
   {
    "duration": 4,
    "start_time": "2022-01-16T08:43:28.527Z"
   },
   {
    "duration": 109,
    "start_time": "2022-01-16T08:43:28.534Z"
   },
   {
    "duration": 107,
    "start_time": "2022-01-16T08:43:28.645Z"
   },
   {
    "duration": 41,
    "start_time": "2022-01-16T08:43:28.754Z"
   },
   {
    "duration": 39,
    "start_time": "2022-01-16T08:43:28.799Z"
   },
   {
    "duration": 117,
    "start_time": "2022-01-16T08:43:28.841Z"
   },
   {
    "duration": 31,
    "start_time": "2022-01-16T08:43:28.960Z"
   },
   {
    "duration": 23,
    "start_time": "2022-01-16T08:43:28.993Z"
   },
   {
    "duration": 55,
    "start_time": "2022-01-16T08:43:29.019Z"
   },
   {
    "duration": 45,
    "start_time": "2022-01-16T08:43:29.076Z"
   },
   {
    "duration": 45,
    "start_time": "2022-01-16T08:43:29.123Z"
   },
   {
    "duration": 32,
    "start_time": "2022-01-16T08:43:29.171Z"
   },
   {
    "duration": 81,
    "start_time": "2022-01-16T08:43:29.205Z"
   },
   {
    "duration": 39,
    "start_time": "2022-01-16T08:43:29.288Z"
   },
   {
    "duration": 58,
    "start_time": "2022-01-16T08:43:29.330Z"
   },
   {
    "duration": 23,
    "start_time": "2022-01-16T08:43:35.005Z"
   },
   {
    "duration": 28,
    "start_time": "2022-01-16T08:43:46.928Z"
   },
   {
    "duration": 28,
    "start_time": "2022-01-16T08:45:06.754Z"
   },
   {
    "duration": 29,
    "start_time": "2022-01-16T08:45:10.761Z"
   },
   {
    "duration": 672,
    "start_time": "2022-01-16T08:47:49.674Z"
   },
   {
    "duration": 127,
    "start_time": "2022-01-16T08:47:50.349Z"
   },
   {
    "duration": 313,
    "start_time": "2022-01-16T08:47:50.481Z"
   },
   {
    "duration": 5,
    "start_time": "2022-01-16T08:47:50.797Z"
   },
   {
    "duration": 108,
    "start_time": "2022-01-16T08:47:50.804Z"
   },
   {
    "duration": 102,
    "start_time": "2022-01-16T08:47:50.914Z"
   },
   {
    "duration": 32,
    "start_time": "2022-01-16T08:47:51.018Z"
   },
   {
    "duration": 51,
    "start_time": "2022-01-16T08:47:51.054Z"
   },
   {
    "duration": 109,
    "start_time": "2022-01-16T08:47:51.108Z"
   },
   {
    "duration": 27,
    "start_time": "2022-01-16T08:48:47.422Z"
   },
   {
    "duration": 32,
    "start_time": "2022-01-16T08:48:55.410Z"
   },
   {
    "duration": 26,
    "start_time": "2022-01-16T08:49:51.910Z"
   },
   {
    "duration": 647,
    "start_time": "2022-01-16T08:49:58.038Z"
   },
   {
    "duration": 82,
    "start_time": "2022-01-16T08:49:58.688Z"
   },
   {
    "duration": 284,
    "start_time": "2022-01-16T08:49:58.773Z"
   },
   {
    "duration": 10,
    "start_time": "2022-01-16T08:49:59.060Z"
   },
   {
    "duration": 101,
    "start_time": "2022-01-16T08:49:59.072Z"
   },
   {
    "duration": 106,
    "start_time": "2022-01-16T08:49:59.176Z"
   },
   {
    "duration": 32,
    "start_time": "2022-01-16T08:49:59.285Z"
   },
   {
    "duration": 56,
    "start_time": "2022-01-16T08:49:59.320Z"
   },
   {
    "duration": 108,
    "start_time": "2022-01-16T08:49:59.378Z"
   },
   {
    "duration": 23,
    "start_time": "2022-01-16T08:49:59.489Z"
   },
   {
    "duration": 23,
    "start_time": "2022-01-16T08:50:06.634Z"
   },
   {
    "duration": 22,
    "start_time": "2022-01-16T08:50:11.705Z"
   },
   {
    "duration": 24,
    "start_time": "2022-01-16T08:51:34.811Z"
   },
   {
    "duration": 80,
    "start_time": "2022-01-16T08:52:00.139Z"
   },
   {
    "duration": 13,
    "start_time": "2022-01-16T08:52:03.737Z"
   },
   {
    "duration": 13,
    "start_time": "2022-01-16T08:52:09.506Z"
   },
   {
    "duration": 86,
    "start_time": "2022-01-16T08:52:28.547Z"
   },
   {
    "duration": 1137,
    "start_time": "2022-01-16T08:52:30.535Z"
   },
   {
    "duration": 624,
    "start_time": "2022-01-16T08:52:41.319Z"
   },
   {
    "duration": 61,
    "start_time": "2022-01-16T08:52:41.968Z"
   },
   {
    "duration": 292,
    "start_time": "2022-01-16T08:52:42.032Z"
   },
   {
    "duration": 5,
    "start_time": "2022-01-16T08:52:42.327Z"
   },
   {
    "duration": 107,
    "start_time": "2022-01-16T08:52:42.334Z"
   },
   {
    "duration": 101,
    "start_time": "2022-01-16T08:52:42.444Z"
   },
   {
    "duration": 40,
    "start_time": "2022-01-16T08:52:42.547Z"
   },
   {
    "duration": 38,
    "start_time": "2022-01-16T08:52:42.590Z"
   },
   {
    "duration": 49,
    "start_time": "2022-01-16T08:52:44.667Z"
   },
   {
    "duration": 318,
    "start_time": "2022-01-16T08:52:45.511Z"
   },
   {
    "duration": 317,
    "start_time": "2022-01-16T08:52:54.415Z"
   },
   {
    "duration": 65,
    "start_time": "2022-01-16T08:53:12.339Z"
   },
   {
    "duration": 129,
    "start_time": "2022-01-16T08:53:12.407Z"
   },
   {
    "duration": 1169,
    "start_time": "2022-01-16T08:53:15.011Z"
   },
   {
    "duration": 98,
    "start_time": "2022-01-16T08:53:33.992Z"
   },
   {
    "duration": 18,
    "start_time": "2022-01-16T09:06:23.351Z"
   },
   {
    "duration": 332,
    "start_time": "2022-01-16T09:06:48.827Z"
   },
   {
    "duration": 23,
    "start_time": "2022-01-16T09:06:56.244Z"
   },
   {
    "duration": 26,
    "start_time": "2022-01-16T09:06:57.624Z"
   },
   {
    "duration": 48,
    "start_time": "2022-01-16T09:06:58.288Z"
   },
   {
    "duration": 25,
    "start_time": "2022-01-16T09:07:04.724Z"
   },
   {
    "duration": 31,
    "start_time": "2022-01-16T09:07:05.996Z"
   },
   {
    "duration": 52,
    "start_time": "2022-01-16T09:07:13.544Z"
   },
   {
    "duration": 22,
    "start_time": "2022-01-16T09:07:28.412Z"
   },
   {
    "duration": 387,
    "start_time": "2022-01-16T09:08:14.720Z"
   },
   {
    "duration": 733,
    "start_time": "2022-01-16T09:09:12.789Z"
   },
   {
    "duration": 21,
    "start_time": "2022-01-16T09:09:24.384Z"
   },
   {
    "duration": 31,
    "start_time": "2022-01-16T09:13:33.795Z"
   },
   {
    "duration": 660,
    "start_time": "2022-01-16T09:14:33.471Z"
   },
   {
    "duration": 86,
    "start_time": "2022-01-16T09:14:34.134Z"
   },
   {
    "duration": 296,
    "start_time": "2022-01-16T09:14:34.223Z"
   },
   {
    "duration": 5,
    "start_time": "2022-01-16T09:14:34.522Z"
   },
   {
    "duration": 109,
    "start_time": "2022-01-16T09:14:34.530Z"
   },
   {
    "duration": 103,
    "start_time": "2022-01-16T09:14:34.641Z"
   },
   {
    "duration": 36,
    "start_time": "2022-01-16T09:14:34.746Z"
   },
   {
    "duration": 40,
    "start_time": "2022-01-16T09:14:34.785Z"
   },
   {
    "duration": 140,
    "start_time": "2022-01-16T09:14:34.828Z"
   },
   {
    "duration": 18,
    "start_time": "2022-01-16T09:14:34.971Z"
   },
   {
    "duration": 23,
    "start_time": "2022-01-16T09:14:34.992Z"
   },
   {
    "duration": 59,
    "start_time": "2022-01-16T09:14:35.018Z"
   },
   {
    "duration": 49,
    "start_time": "2022-01-16T09:14:35.079Z"
   },
   {
    "duration": 46,
    "start_time": "2022-01-16T09:14:35.130Z"
   },
   {
    "duration": 48,
    "start_time": "2022-01-16T09:14:35.179Z"
   },
   {
    "duration": 96,
    "start_time": "2022-01-16T09:14:35.230Z"
   },
   {
    "duration": 30,
    "start_time": "2022-01-16T09:14:43.287Z"
   },
   {
    "duration": 6,
    "start_time": "2022-01-16T09:15:46.687Z"
   },
   {
    "duration": 5,
    "start_time": "2022-01-16T09:16:09.279Z"
   },
   {
    "duration": 30,
    "start_time": "2022-01-16T09:27:54.395Z"
   },
   {
    "duration": 32,
    "start_time": "2022-01-16T09:30:42.799Z"
   },
   {
    "duration": 18,
    "start_time": "2022-01-16T09:30:53.588Z"
   },
   {
    "duration": 31,
    "start_time": "2022-01-16T09:30:58.532Z"
   },
   {
    "duration": 690,
    "start_time": "2022-01-16T09:33:40.900Z"
   },
   {
    "duration": 86,
    "start_time": "2022-01-16T09:33:41.592Z"
   },
   {
    "duration": 290,
    "start_time": "2022-01-16T09:33:41.681Z"
   },
   {
    "duration": 5,
    "start_time": "2022-01-16T09:33:41.973Z"
   },
   {
    "duration": 106,
    "start_time": "2022-01-16T09:33:41.980Z"
   },
   {
    "duration": 102,
    "start_time": "2022-01-16T09:33:42.088Z"
   },
   {
    "duration": 32,
    "start_time": "2022-01-16T09:33:42.192Z"
   },
   {
    "duration": 55,
    "start_time": "2022-01-16T09:33:42.228Z"
   },
   {
    "duration": 131,
    "start_time": "2022-01-16T09:33:42.285Z"
   },
   {
    "duration": 16,
    "start_time": "2022-01-16T09:33:42.419Z"
   },
   {
    "duration": 41,
    "start_time": "2022-01-16T09:33:42.438Z"
   },
   {
    "duration": 26,
    "start_time": "2022-01-16T09:33:42.482Z"
   },
   {
    "duration": 68,
    "start_time": "2022-01-16T09:33:42.511Z"
   },
   {
    "duration": 25,
    "start_time": "2022-01-16T09:33:42.581Z"
   },
   {
    "duration": 34,
    "start_time": "2022-01-16T09:33:42.608Z"
   },
   {
    "duration": 77,
    "start_time": "2022-01-16T09:33:42.645Z"
   },
   {
    "duration": 49,
    "start_time": "2022-01-16T09:33:42.725Z"
   },
   {
    "duration": 7,
    "start_time": "2022-01-16T09:33:42.776Z"
   },
   {
    "duration": 25,
    "start_time": "2022-01-16T09:33:47.536Z"
   },
   {
    "duration": 278,
    "start_time": "2022-01-16T09:38:03.498Z"
   },
   {
    "duration": 292,
    "start_time": "2022-01-16T09:38:24.218Z"
   },
   {
    "duration": 272,
    "start_time": "2022-01-16T09:38:39.802Z"
   },
   {
    "duration": 32,
    "start_time": "2022-01-16T09:38:44.266Z"
   },
   {
    "duration": 696,
    "start_time": "2022-01-16T09:38:59.983Z"
   },
   {
    "duration": 64,
    "start_time": "2022-01-16T09:39:00.681Z"
   },
   {
    "duration": 305,
    "start_time": "2022-01-16T09:39:00.748Z"
   },
   {
    "duration": 13,
    "start_time": "2022-01-16T09:39:01.056Z"
   },
   {
    "duration": 101,
    "start_time": "2022-01-16T09:39:01.072Z"
   },
   {
    "duration": 107,
    "start_time": "2022-01-16T09:39:01.175Z"
   },
   {
    "duration": 32,
    "start_time": "2022-01-16T09:39:01.284Z"
   },
   {
    "duration": 57,
    "start_time": "2022-01-16T09:39:01.320Z"
   },
   {
    "duration": 118,
    "start_time": "2022-01-16T09:39:01.380Z"
   },
   {
    "duration": 19,
    "start_time": "2022-01-16T09:39:01.501Z"
   },
   {
    "duration": 44,
    "start_time": "2022-01-16T09:39:01.523Z"
   },
   {
    "duration": 26,
    "start_time": "2022-01-16T09:39:01.569Z"
   },
   {
    "duration": 72,
    "start_time": "2022-01-16T09:39:01.597Z"
   },
   {
    "duration": 27,
    "start_time": "2022-01-16T09:39:01.672Z"
   },
   {
    "duration": 35,
    "start_time": "2022-01-16T09:39:01.701Z"
   },
   {
    "duration": 92,
    "start_time": "2022-01-16T09:39:01.739Z"
   },
   {
    "duration": 51,
    "start_time": "2022-01-16T09:39:01.834Z"
   },
   {
    "duration": 8,
    "start_time": "2022-01-16T09:39:01.888Z"
   },
   {
    "duration": 24,
    "start_time": "2022-01-16T09:39:06.814Z"
   },
   {
    "duration": 291,
    "start_time": "2022-01-16T09:39:08.571Z"
   },
   {
    "duration": 339,
    "start_time": "2022-01-16T09:40:10.038Z"
   },
   {
    "duration": 30,
    "start_time": "2022-01-16T09:41:52.851Z"
   },
   {
    "duration": 9234,
    "start_time": "2022-01-16T09:43:32.788Z"
   },
   {
    "duration": 31,
    "start_time": "2022-01-16T09:43:47.515Z"
   },
   {
    "duration": 14,
    "start_time": "2022-01-16T09:44:04.047Z"
   },
   {
    "duration": 12,
    "start_time": "2022-01-16T09:44:18.364Z"
   },
   {
    "duration": 8,
    "start_time": "2022-01-16T09:44:26.832Z"
   },
   {
    "duration": 14,
    "start_time": "2022-01-16T09:46:18.941Z"
   },
   {
    "duration": 10,
    "start_time": "2022-01-16T09:47:48.081Z"
   },
   {
    "duration": 42,
    "start_time": "2022-01-16T09:47:55.153Z"
   },
   {
    "duration": 18,
    "start_time": "2022-01-16T09:53:08.363Z"
   },
   {
    "duration": 90,
    "start_time": "2022-01-16T09:58:58.005Z"
   },
   {
    "duration": 104,
    "start_time": "2022-01-16T09:59:12.425Z"
   },
   {
    "duration": 102,
    "start_time": "2022-01-16T09:59:21.245Z"
   },
   {
    "duration": 28,
    "start_time": "2022-01-16T09:59:59.277Z"
   },
   {
    "duration": 29,
    "start_time": "2022-01-16T10:03:39.562Z"
   },
   {
    "duration": 671,
    "start_time": "2022-01-16T10:10:20.064Z"
   },
   {
    "duration": 368,
    "start_time": "2022-01-16T10:11:24.381Z"
   },
   {
    "duration": 98,
    "start_time": "2022-01-16T10:11:39.681Z"
   },
   {
    "duration": 371,
    "start_time": "2022-01-16T10:11:45.888Z"
   },
   {
    "duration": 364,
    "start_time": "2022-01-16T10:12:17.569Z"
   },
   {
    "duration": 337,
    "start_time": "2022-01-16T10:12:41.083Z"
   },
   {
    "duration": 467,
    "start_time": "2022-01-16T10:14:39.454Z"
   },
   {
    "duration": 474,
    "start_time": "2022-01-16T10:15:00.851Z"
   },
   {
    "duration": 445,
    "start_time": "2022-01-16T10:15:20.378Z"
   },
   {
    "duration": 367,
    "start_time": "2022-01-16T10:16:12.703Z"
   },
   {
    "duration": 436,
    "start_time": "2022-01-16T10:16:41.670Z"
   },
   {
    "duration": 45445,
    "start_time": "2022-01-16T10:17:03.787Z"
   },
   {
    "duration": 6,
    "start_time": "2022-01-16T10:18:57.247Z"
   },
   {
    "duration": 697,
    "start_time": "2022-01-16T10:19:17.799Z"
   },
   {
    "duration": 94,
    "start_time": "2022-01-16T10:19:18.499Z"
   },
   {
    "duration": 302,
    "start_time": "2022-01-16T10:19:18.596Z"
   },
   {
    "duration": 5,
    "start_time": "2022-01-16T10:19:18.901Z"
   },
   {
    "duration": 105,
    "start_time": "2022-01-16T10:19:18.909Z"
   },
   {
    "duration": 108,
    "start_time": "2022-01-16T10:19:19.017Z"
   },
   {
    "duration": 40,
    "start_time": "2022-01-16T10:19:19.128Z"
   },
   {
    "duration": 39,
    "start_time": "2022-01-16T10:19:19.172Z"
   },
   {
    "duration": 129,
    "start_time": "2022-01-16T10:19:19.215Z"
   },
   {
    "duration": 28,
    "start_time": "2022-01-16T10:19:19.348Z"
   },
   {
    "duration": 24,
    "start_time": "2022-01-16T10:19:19.379Z"
   },
   {
    "duration": 61,
    "start_time": "2022-01-16T10:19:19.406Z"
   },
   {
    "duration": 50,
    "start_time": "2022-01-16T10:19:19.470Z"
   },
   {
    "duration": 49,
    "start_time": "2022-01-16T10:19:19.523Z"
   },
   {
    "duration": 32,
    "start_time": "2022-01-16T10:19:19.574Z"
   },
   {
    "duration": 83,
    "start_time": "2022-01-16T10:19:19.609Z"
   },
   {
    "duration": 30,
    "start_time": "2022-01-16T10:19:19.694Z"
   },
   {
    "duration": 7,
    "start_time": "2022-01-16T10:19:19.726Z"
   },
   {
    "duration": 51,
    "start_time": "2022-01-16T10:19:19.735Z"
   },
   {
    "duration": 12,
    "start_time": "2022-01-16T10:19:19.789Z"
   },
   {
    "duration": 15,
    "start_time": "2022-01-16T10:19:19.804Z"
   },
   {
    "duration": 13,
    "start_time": "2022-01-16T10:19:19.821Z"
   },
   {
    "duration": 24,
    "start_time": "2022-01-16T10:19:19.869Z"
   },
   {
    "duration": 45,
    "start_time": "2022-01-16T10:19:19.898Z"
   },
   {
    "duration": 6,
    "start_time": "2022-01-16T10:19:24.999Z"
   },
   {
    "duration": 19,
    "start_time": "2022-01-16T10:20:36.404Z"
   },
   {
    "duration": 334,
    "start_time": "2022-01-16T10:20:49.104Z"
   },
   {
    "duration": 341,
    "start_time": "2022-01-16T10:21:00.990Z"
   },
   {
    "duration": 342,
    "start_time": "2022-01-16T10:21:31.285Z"
   },
   {
    "duration": 344,
    "start_time": "2022-01-16T10:21:42.284Z"
   },
   {
    "duration": 363,
    "start_time": "2022-01-16T10:21:59.597Z"
   },
   {
    "duration": 357,
    "start_time": "2022-01-16T10:22:11.013Z"
   },
   {
    "duration": 339,
    "start_time": "2022-01-16T10:23:46.628Z"
   },
   {
    "duration": 592,
    "start_time": "2022-01-16T10:23:58.712Z"
   },
   {
    "duration": 245,
    "start_time": "2022-01-16T10:24:05.415Z"
   },
   {
    "duration": 29,
    "start_time": "2022-01-16T11:04:42.308Z"
   },
   {
    "duration": 311,
    "start_time": "2022-01-16T11:04:56.360Z"
   },
   {
    "duration": 521,
    "start_time": "2022-01-16T11:05:25.536Z"
   },
   {
    "duration": 428,
    "start_time": "2022-01-16T11:05:52.628Z"
   },
   {
    "duration": 347,
    "start_time": "2022-01-16T11:06:11.868Z"
   },
   {
    "duration": 322,
    "start_time": "2022-01-16T11:07:32.139Z"
   },
   {
    "duration": 340,
    "start_time": "2022-01-16T11:08:03.697Z"
   },
   {
    "duration": 436,
    "start_time": "2022-01-16T11:08:11.484Z"
   },
   {
    "duration": 334,
    "start_time": "2022-01-16T11:08:37.985Z"
   },
   {
    "duration": 298,
    "start_time": "2022-01-16T11:08:54.074Z"
   },
   {
    "duration": 290,
    "start_time": "2022-01-16T11:08:58.288Z"
   },
   {
    "duration": 322,
    "start_time": "2022-01-16T11:09:06.237Z"
   },
   {
    "duration": 366,
    "start_time": "2022-01-16T11:09:15.183Z"
   },
   {
    "duration": 534,
    "start_time": "2022-01-16T11:14:20.227Z"
   },
   {
    "duration": 453,
    "start_time": "2022-01-16T11:14:43.623Z"
   },
   {
    "duration": 748,
    "start_time": "2022-01-16T11:18:16.148Z"
   },
   {
    "duration": 713,
    "start_time": "2022-01-16T11:18:52.985Z"
   },
   {
    "duration": 666,
    "start_time": "2022-01-16T11:19:01.185Z"
   },
   {
    "duration": 719,
    "start_time": "2022-01-16T11:20:32.181Z"
   },
   {
    "duration": 313,
    "start_time": "2022-01-16T11:22:34.763Z"
   },
   {
    "duration": 329,
    "start_time": "2022-01-16T11:22:40.010Z"
   },
   {
    "duration": 285,
    "start_time": "2022-01-16T11:22:48.162Z"
   },
   {
    "duration": 1057,
    "start_time": "2022-01-16T15:16:56.409Z"
   },
   {
    "duration": 40,
    "start_time": "2022-01-16T15:16:57.468Z"
   },
   {
    "duration": 179,
    "start_time": "2022-01-16T15:16:57.528Z"
   },
   {
    "duration": 3,
    "start_time": "2022-01-16T15:16:57.709Z"
   },
   {
    "duration": 68,
    "start_time": "2022-01-16T15:16:57.714Z"
   },
   {
    "duration": 69,
    "start_time": "2022-01-16T15:16:57.784Z"
   },
   {
    "duration": 20,
    "start_time": "2022-01-16T15:16:57.855Z"
   },
   {
    "duration": 29,
    "start_time": "2022-01-16T15:16:57.877Z"
   },
   {
    "duration": 86,
    "start_time": "2022-01-16T15:16:57.908Z"
   },
   {
    "duration": 9,
    "start_time": "2022-01-16T15:16:57.996Z"
   },
   {
    "duration": 32,
    "start_time": "2022-01-16T15:16:58.007Z"
   },
   {
    "duration": 15,
    "start_time": "2022-01-16T15:16:58.040Z"
   },
   {
    "duration": 27,
    "start_time": "2022-01-16T15:16:58.057Z"
   },
   {
    "duration": 15,
    "start_time": "2022-01-16T15:16:58.085Z"
   },
   {
    "duration": 39,
    "start_time": "2022-01-16T15:16:58.102Z"
   },
   {
    "duration": 38,
    "start_time": "2022-01-16T15:16:58.143Z"
   },
   {
    "duration": 15,
    "start_time": "2022-01-16T15:16:58.182Z"
   },
   {
    "duration": 10,
    "start_time": "2022-01-16T15:16:58.198Z"
   },
   {
    "duration": 24,
    "start_time": "2022-01-16T15:16:58.209Z"
   },
   {
    "duration": 9,
    "start_time": "2022-01-16T15:16:58.235Z"
   },
   {
    "duration": 19,
    "start_time": "2022-01-16T15:16:58.245Z"
   },
   {
    "duration": 15,
    "start_time": "2022-01-16T15:16:58.266Z"
   },
   {
    "duration": 23,
    "start_time": "2022-01-16T15:16:58.283Z"
   },
   {
    "duration": 26,
    "start_time": "2022-01-16T15:16:58.308Z"
   },
   {
    "duration": 242,
    "start_time": "2022-01-16T15:17:08.617Z"
   },
   {
    "duration": 166,
    "start_time": "2022-01-16T15:17:20.382Z"
   },
   {
    "duration": 221,
    "start_time": "2022-01-16T15:17:35.229Z"
   },
   {
    "duration": 342,
    "start_time": "2022-01-16T15:17:48.530Z"
   },
   {
    "duration": 388,
    "start_time": "2022-01-16T15:18:20.990Z"
   },
   {
    "duration": 365,
    "start_time": "2022-01-16T15:18:30.726Z"
   },
   {
    "duration": 275,
    "start_time": "2022-01-16T15:18:48.883Z"
   },
   {
    "duration": 106,
    "start_time": "2022-01-16T15:19:22.106Z"
   },
   {
    "duration": 222,
    "start_time": "2022-01-16T15:19:27.106Z"
   },
   {
    "duration": 283,
    "start_time": "2022-01-16T15:19:43.922Z"
   },
   {
    "duration": 1140,
    "start_time": "2022-01-16T15:20:20.291Z"
   },
   {
    "duration": 64,
    "start_time": "2022-01-16T15:20:25.610Z"
   },
   {
    "duration": 206,
    "start_time": "2022-01-16T15:23:52.928Z"
   },
   {
    "duration": 212,
    "start_time": "2022-01-16T15:24:15.820Z"
   },
   {
    "duration": 207,
    "start_time": "2022-01-16T15:24:25.620Z"
   },
   {
    "duration": 204,
    "start_time": "2022-01-16T15:49:22.416Z"
   },
   {
    "duration": 197,
    "start_time": "2022-01-16T15:52:45.352Z"
   },
   {
    "duration": 8,
    "start_time": "2022-01-16T15:53:44.102Z"
   },
   {
    "duration": 378,
    "start_time": "2022-01-16T15:55:46.614Z"
   },
   {
    "duration": 4,
    "start_time": "2022-01-16T15:55:53.726Z"
   },
   {
    "duration": 5,
    "start_time": "2022-01-16T15:56:49.206Z"
   },
   {
    "duration": 5,
    "start_time": "2022-01-16T15:57:10.673Z"
   },
   {
    "duration": 5,
    "start_time": "2022-01-16T16:00:10.424Z"
   },
   {
    "duration": 6,
    "start_time": "2022-01-16T16:00:18.595Z"
   },
   {
    "duration": 7,
    "start_time": "2022-01-16T16:23:47.627Z"
   },
   {
    "duration": 107,
    "start_time": "2022-01-16T16:25:32.364Z"
   },
   {
    "duration": 7,
    "start_time": "2022-01-16T16:38:41.568Z"
   },
   {
    "duration": 6,
    "start_time": "2022-01-16T16:40:45.347Z"
   },
   {
    "duration": 59,
    "start_time": "2022-01-16T16:41:21.434Z"
   },
   {
    "duration": 106,
    "start_time": "2022-01-16T16:42:49.082Z"
   },
   {
    "duration": 6,
    "start_time": "2022-01-16T16:44:02.431Z"
   },
   {
    "duration": 125,
    "start_time": "2022-01-16T16:45:54.995Z"
   },
   {
    "duration": 9,
    "start_time": "2022-01-16T16:50:50.681Z"
   },
   {
    "duration": 8,
    "start_time": "2022-01-16T16:51:58.002Z"
   },
   {
    "duration": 339,
    "start_time": "2022-01-16T16:55:16.167Z"
   },
   {
    "duration": 883,
    "start_time": "2022-01-16T16:55:38.667Z"
   },
   {
    "duration": 8101,
    "start_time": "2022-01-16T16:55:42.643Z"
   },
   {
    "duration": 8309,
    "start_time": "2022-01-16T16:56:04.091Z"
   },
   {
    "duration": 287,
    "start_time": "2022-01-16T16:56:25.359Z"
   },
   {
    "duration": 9211,
    "start_time": "2022-01-16T16:57:52.595Z"
   },
   {
    "duration": 17,
    "start_time": "2022-01-16T17:45:09.042Z"
   },
   {
    "duration": 98,
    "start_time": "2022-01-16T17:45:37.195Z"
   },
   {
    "duration": 825,
    "start_time": "2022-01-16T17:46:37.871Z"
   },
   {
    "duration": 55,
    "start_time": "2022-01-16T17:46:38.697Z"
   },
   {
    "duration": 146,
    "start_time": "2022-01-16T17:46:38.754Z"
   },
   {
    "duration": 3,
    "start_time": "2022-01-16T17:46:38.902Z"
   },
   {
    "duration": 69,
    "start_time": "2022-01-16T17:46:38.907Z"
   },
   {
    "duration": 65,
    "start_time": "2022-01-16T17:46:38.978Z"
   },
   {
    "duration": 20,
    "start_time": "2022-01-16T17:46:39.045Z"
   },
   {
    "duration": 23,
    "start_time": "2022-01-16T17:46:39.068Z"
   },
   {
    "duration": 83,
    "start_time": "2022-01-16T17:46:39.093Z"
   },
   {
    "duration": 10,
    "start_time": "2022-01-16T17:46:39.177Z"
   },
   {
    "duration": 30,
    "start_time": "2022-01-16T17:46:39.188Z"
   },
   {
    "duration": 23,
    "start_time": "2022-01-16T17:46:39.219Z"
   },
   {
    "duration": 41,
    "start_time": "2022-01-16T17:46:39.244Z"
   },
   {
    "duration": 17,
    "start_time": "2022-01-16T17:46:39.286Z"
   },
   {
    "duration": 27,
    "start_time": "2022-01-16T17:46:39.305Z"
   },
   {
    "duration": 39,
    "start_time": "2022-01-16T17:46:39.334Z"
   },
   {
    "duration": 15,
    "start_time": "2022-01-16T17:46:39.375Z"
   },
   {
    "duration": 3,
    "start_time": "2022-01-16T17:46:39.392Z"
   },
   {
    "duration": 34,
    "start_time": "2022-01-16T17:46:39.396Z"
   },
   {
    "duration": 5,
    "start_time": "2022-01-16T17:46:39.432Z"
   },
   {
    "duration": 11,
    "start_time": "2022-01-16T17:46:39.438Z"
   },
   {
    "duration": 9,
    "start_time": "2022-01-16T17:46:39.451Z"
   },
   {
    "duration": 13,
    "start_time": "2022-01-16T17:46:39.462Z"
   },
   {
    "duration": 18,
    "start_time": "2022-01-16T17:46:39.476Z"
   },
   {
    "duration": 59,
    "start_time": "2022-01-16T17:46:39.496Z"
   },
   {
    "duration": 221,
    "start_time": "2022-01-16T17:46:39.557Z"
   },
   {
    "duration": 7,
    "start_time": "2022-01-16T17:46:39.779Z"
   },
   {
    "duration": 227,
    "start_time": "2022-01-16T17:46:39.787Z"
   },
   {
    "duration": 12,
    "start_time": "2022-01-16T17:46:40.016Z"
   },
   {
    "duration": 209,
    "start_time": "2022-01-16T17:46:40.030Z"
   },
   {
    "duration": 6,
    "start_time": "2022-01-16T17:46:40.240Z"
   },
   {
    "duration": 219,
    "start_time": "2022-01-16T17:46:40.248Z"
   },
   {
    "duration": 6,
    "start_time": "2022-01-16T17:46:40.469Z"
   },
   {
    "duration": 25,
    "start_time": "2022-01-16T17:46:40.477Z"
   },
   {
    "duration": 21,
    "start_time": "2022-01-16T17:46:40.503Z"
   },
   {
    "duration": 324,
    "start_time": "2022-01-16T17:49:09.040Z"
   },
   {
    "duration": 5,
    "start_time": "2022-01-16T17:49:25.944Z"
   },
   {
    "duration": 5,
    "start_time": "2022-01-16T17:51:19.003Z"
   },
   {
    "duration": 5,
    "start_time": "2022-01-16T17:51:27.313Z"
   },
   {
    "duration": 5,
    "start_time": "2022-01-16T17:51:30.841Z"
   },
   {
    "duration": 5,
    "start_time": "2022-01-16T17:54:26.170Z"
   },
   {
    "duration": 4,
    "start_time": "2022-01-16T17:55:46.459Z"
   },
   {
    "duration": 5,
    "start_time": "2022-01-16T17:56:25.473Z"
   },
   {
    "duration": 427,
    "start_time": "2022-01-16T17:57:53.474Z"
   },
   {
    "duration": 4,
    "start_time": "2022-01-16T17:58:02.567Z"
   },
   {
    "duration": 4,
    "start_time": "2022-01-16T17:58:33.179Z"
   },
   {
    "duration": 80,
    "start_time": "2022-01-16T18:01:45.995Z"
   },
   {
    "duration": 5,
    "start_time": "2022-01-16T18:01:58.764Z"
   },
   {
    "duration": 313,
    "start_time": "2022-01-16T18:02:47.464Z"
   },
   {
    "duration": 5,
    "start_time": "2022-01-16T18:02:50.984Z"
   },
   {
    "duration": 4,
    "start_time": "2022-01-16T18:03:25.348Z"
   },
   {
    "duration": 4,
    "start_time": "2022-01-16T18:03:55.772Z"
   },
   {
    "duration": 4,
    "start_time": "2022-01-16T18:04:24.088Z"
   },
   {
    "duration": 5,
    "start_time": "2022-01-16T18:04:29.468Z"
   },
   {
    "duration": 4,
    "start_time": "2022-01-16T18:04:43.361Z"
   },
   {
    "duration": 6,
    "start_time": "2022-01-16T18:05:00.285Z"
   },
   {
    "duration": 493,
    "start_time": "2022-01-16T18:06:57.153Z"
   },
   {
    "duration": 41,
    "start_time": "2022-01-16T18:06:57.648Z"
   },
   {
    "duration": 172,
    "start_time": "2022-01-16T18:06:57.691Z"
   },
   {
    "duration": 3,
    "start_time": "2022-01-16T18:06:57.865Z"
   },
   {
    "duration": 70,
    "start_time": "2022-01-16T18:06:57.870Z"
   },
   {
    "duration": 61,
    "start_time": "2022-01-16T18:06:57.942Z"
   },
   {
    "duration": 29,
    "start_time": "2022-01-16T18:06:58.004Z"
   },
   {
    "duration": 24,
    "start_time": "2022-01-16T18:06:58.036Z"
   },
   {
    "duration": 78,
    "start_time": "2022-01-16T18:06:58.062Z"
   },
   {
    "duration": 10,
    "start_time": "2022-01-16T18:06:58.142Z"
   },
   {
    "duration": 16,
    "start_time": "2022-01-16T18:06:58.153Z"
   },
   {
    "duration": 16,
    "start_time": "2022-01-16T18:06:58.170Z"
   },
   {
    "duration": 55,
    "start_time": "2022-01-16T18:06:58.187Z"
   },
   {
    "duration": 15,
    "start_time": "2022-01-16T18:06:58.244Z"
   },
   {
    "duration": 22,
    "start_time": "2022-01-16T18:06:58.260Z"
   },
   {
    "duration": 55,
    "start_time": "2022-01-16T18:06:58.284Z"
   },
   {
    "duration": 16,
    "start_time": "2022-01-16T18:06:58.340Z"
   },
   {
    "duration": 4,
    "start_time": "2022-01-16T18:06:58.357Z"
   },
   {
    "duration": 16,
    "start_time": "2022-01-16T18:06:58.362Z"
   },
   {
    "duration": 5,
    "start_time": "2022-01-16T18:06:58.380Z"
   },
   {
    "duration": 7,
    "start_time": "2022-01-16T18:06:58.386Z"
   },
   {
    "duration": 6,
    "start_time": "2022-01-16T18:06:58.395Z"
   },
   {
    "duration": 34,
    "start_time": "2022-01-16T18:06:58.403Z"
   },
   {
    "duration": 16,
    "start_time": "2022-01-16T18:06:58.438Z"
   },
   {
    "duration": 49,
    "start_time": "2022-01-16T18:06:58.455Z"
   },
   {
    "duration": 232,
    "start_time": "2022-01-16T18:06:58.506Z"
   },
   {
    "duration": 5,
    "start_time": "2022-01-16T18:06:58.740Z"
   },
   {
    "duration": 218,
    "start_time": "2022-01-16T18:06:58.747Z"
   },
   {
    "duration": 6,
    "start_time": "2022-01-16T18:06:58.967Z"
   },
   {
    "duration": 214,
    "start_time": "2022-01-16T18:06:58.975Z"
   },
   {
    "duration": 6,
    "start_time": "2022-01-16T18:06:59.190Z"
   },
   {
    "duration": 229,
    "start_time": "2022-01-16T18:06:59.198Z"
   },
   {
    "duration": 6,
    "start_time": "2022-01-16T18:06:59.428Z"
   },
   {
    "duration": 11,
    "start_time": "2022-01-16T18:06:59.436Z"
   },
   {
    "duration": 9,
    "start_time": "2022-01-16T18:06:59.449Z"
   },
   {
    "duration": 5,
    "start_time": "2022-01-16T18:06:59.459Z"
   },
   {
    "duration": 5,
    "start_time": "2022-01-16T18:08:20.421Z"
   },
   {
    "duration": 5,
    "start_time": "2022-01-16T18:08:26.565Z"
   },
   {
    "duration": 30,
    "start_time": "2022-01-16T18:10:41.614Z"
   },
   {
    "duration": 5,
    "start_time": "2022-01-16T18:11:41.890Z"
   },
   {
    "duration": 5,
    "start_time": "2022-01-16T18:13:42.051Z"
   },
   {
    "duration": 5,
    "start_time": "2022-01-16T18:13:51.559Z"
   },
   {
    "duration": 4,
    "start_time": "2022-01-16T18:14:02.236Z"
   },
   {
    "duration": 5,
    "start_time": "2022-01-16T18:18:20.764Z"
   },
   {
    "duration": 5,
    "start_time": "2022-01-16T18:18:30.154Z"
   },
   {
    "duration": 5,
    "start_time": "2022-01-16T18:18:37.005Z"
   },
   {
    "duration": 6,
    "start_time": "2022-01-16T18:20:04.736Z"
   },
   {
    "duration": 6,
    "start_time": "2022-01-16T18:20:13.433Z"
   },
   {
    "duration": 6,
    "start_time": "2022-01-16T18:20:24.309Z"
   },
   {
    "duration": 5,
    "start_time": "2022-01-16T18:20:37.034Z"
   },
   {
    "duration": 5,
    "start_time": "2022-01-16T18:20:43.366Z"
   },
   {
    "duration": 5,
    "start_time": "2022-01-16T18:21:08.114Z"
   },
   {
    "duration": 8,
    "start_time": "2022-01-16T18:24:54.551Z"
   },
   {
    "duration": 5,
    "start_time": "2022-01-16T18:26:32.075Z"
   },
   {
    "duration": 5,
    "start_time": "2022-01-16T18:30:54.924Z"
   },
   {
    "duration": 5,
    "start_time": "2022-01-16T18:31:44.089Z"
   },
   {
    "duration": 5,
    "start_time": "2022-01-16T18:32:10.825Z"
   },
   {
    "duration": 5,
    "start_time": "2022-01-16T18:32:55.990Z"
   },
   {
    "duration": 6,
    "start_time": "2022-01-16T18:33:08.730Z"
   },
   {
    "duration": 5,
    "start_time": "2022-01-16T18:33:20.954Z"
   },
   {
    "duration": 368,
    "start_time": "2022-01-16T18:33:52.177Z"
   },
   {
    "duration": 9,
    "start_time": "2022-01-16T18:33:59.650Z"
   },
   {
    "duration": 5,
    "start_time": "2022-01-16T18:34:16.548Z"
   },
   {
    "duration": 5,
    "start_time": "2022-01-16T18:34:26.306Z"
   },
   {
    "duration": 5,
    "start_time": "2022-01-16T18:34:33.738Z"
   },
   {
    "duration": 6,
    "start_time": "2022-01-16T18:36:45.651Z"
   },
   {
    "duration": 7,
    "start_time": "2022-01-16T18:40:04.876Z"
   },
   {
    "duration": 105,
    "start_time": "2022-01-16T18:41:41.460Z"
   },
   {
    "duration": 3,
    "start_time": "2022-01-16T18:45:25.391Z"
   },
   {
    "duration": 115,
    "start_time": "2022-01-16T18:48:18.611Z"
   },
   {
    "duration": 18,
    "start_time": "2022-01-16T18:49:26.636Z"
   },
   {
    "duration": 8101,
    "start_time": "2022-01-16T18:50:56.352Z"
   },
   {
    "duration": 22,
    "start_time": "2022-01-16T18:51:16.780Z"
   },
   {
    "duration": 7,
    "start_time": "2022-01-16T18:51:33.728Z"
   },
   {
    "duration": 348,
    "start_time": "2022-01-16T18:53:11.605Z"
   },
   {
    "duration": 7,
    "start_time": "2022-01-16T18:53:35.298Z"
   },
   {
    "duration": 9,
    "start_time": "2022-01-16T18:53:36.441Z"
   },
   {
    "duration": 10,
    "start_time": "2022-01-16T18:53:45.557Z"
   },
   {
    "duration": 24,
    "start_time": "2022-01-16T18:53:53.993Z"
   },
   {
    "duration": 7,
    "start_time": "2022-01-16T18:54:08.909Z"
   },
   {
    "duration": 23,
    "start_time": "2022-01-16T18:54:13.401Z"
   },
   {
    "duration": 23,
    "start_time": "2022-01-16T18:54:23.613Z"
   },
   {
    "duration": 464,
    "start_time": "2022-01-16T18:54:38.332Z"
   },
   {
    "duration": 60,
    "start_time": "2022-01-16T18:54:38.798Z"
   },
   {
    "duration": 158,
    "start_time": "2022-01-16T18:54:38.860Z"
   },
   {
    "duration": 3,
    "start_time": "2022-01-16T18:54:39.027Z"
   },
   {
    "duration": 60,
    "start_time": "2022-01-16T18:54:39.031Z"
   },
   {
    "duration": 75,
    "start_time": "2022-01-16T18:54:39.092Z"
   },
   {
    "duration": 20,
    "start_time": "2022-01-16T18:54:39.168Z"
   },
   {
    "duration": 26,
    "start_time": "2022-01-16T18:54:39.191Z"
   },
   {
    "duration": 78,
    "start_time": "2022-01-16T18:54:39.219Z"
   },
   {
    "duration": 8,
    "start_time": "2022-01-16T18:54:39.299Z"
   },
   {
    "duration": 28,
    "start_time": "2022-01-16T18:54:39.309Z"
   },
   {
    "duration": 16,
    "start_time": "2022-01-16T18:54:39.338Z"
   },
   {
    "duration": 27,
    "start_time": "2022-01-16T18:54:39.355Z"
   },
   {
    "duration": 15,
    "start_time": "2022-01-16T18:54:39.384Z"
   },
   {
    "duration": 36,
    "start_time": "2022-01-16T18:54:39.401Z"
   },
   {
    "duration": 40,
    "start_time": "2022-01-16T18:54:39.438Z"
   },
   {
    "duration": 15,
    "start_time": "2022-01-16T18:54:39.480Z"
   },
   {
    "duration": 4,
    "start_time": "2022-01-16T18:54:39.496Z"
   },
   {
    "duration": 34,
    "start_time": "2022-01-16T18:54:39.501Z"
   },
   {
    "duration": 5,
    "start_time": "2022-01-16T18:54:39.537Z"
   },
   {
    "duration": 6,
    "start_time": "2022-01-16T18:54:39.543Z"
   },
   {
    "duration": 6,
    "start_time": "2022-01-16T18:54:39.550Z"
   },
   {
    "duration": 12,
    "start_time": "2022-01-16T18:54:39.559Z"
   },
   {
    "duration": 15,
    "start_time": "2022-01-16T18:54:39.572Z"
   },
   {
    "duration": 68,
    "start_time": "2022-01-16T18:54:39.589Z"
   },
   {
    "duration": 216,
    "start_time": "2022-01-16T18:54:39.658Z"
   },
   {
    "duration": 6,
    "start_time": "2022-01-16T18:54:39.875Z"
   },
   {
    "duration": 216,
    "start_time": "2022-01-16T18:54:39.882Z"
   },
   {
    "duration": 6,
    "start_time": "2022-01-16T18:54:40.099Z"
   },
   {
    "duration": 196,
    "start_time": "2022-01-16T18:54:40.106Z"
   },
   {
    "duration": 5,
    "start_time": "2022-01-16T18:54:40.304Z"
   },
   {
    "duration": 219,
    "start_time": "2022-01-16T18:54:40.310Z"
   },
   {
    "duration": 6,
    "start_time": "2022-01-16T18:54:40.531Z"
   },
   {
    "duration": 9,
    "start_time": "2022-01-16T18:54:40.538Z"
   },
   {
    "duration": 7,
    "start_time": "2022-01-16T18:54:40.549Z"
   },
   {
    "duration": 5,
    "start_time": "2022-01-16T18:54:40.558Z"
   },
   {
    "duration": 9,
    "start_time": "2022-01-16T18:54:40.565Z"
   },
   {
    "duration": 172,
    "start_time": "2022-01-16T18:54:40.575Z"
   },
   {
    "duration": 8,
    "start_time": "2022-01-16T18:54:45.550Z"
   },
   {
    "duration": 19,
    "start_time": "2022-01-16T18:54:45.728Z"
   },
   {
    "duration": 5,
    "start_time": "2022-01-16T18:57:53.351Z"
   },
   {
    "duration": 5,
    "start_time": "2022-01-16T18:58:50.370Z"
   },
   {
    "duration": 5,
    "start_time": "2022-01-16T18:58:56.131Z"
   },
   {
    "duration": 5,
    "start_time": "2022-01-16T18:59:05.791Z"
   },
   {
    "duration": 3,
    "start_time": "2022-01-16T19:01:37.976Z"
   },
   {
    "duration": 205,
    "start_time": "2022-01-16T19:44:39.123Z"
   },
   {
    "duration": 469,
    "start_time": "2022-01-16T19:44:45.500Z"
   },
   {
    "duration": 59,
    "start_time": "2022-01-16T19:44:45.970Z"
   },
   {
    "duration": 144,
    "start_time": "2022-01-16T19:44:46.031Z"
   },
   {
    "duration": 3,
    "start_time": "2022-01-16T19:44:46.177Z"
   },
   {
    "duration": 70,
    "start_time": "2022-01-16T19:44:46.182Z"
   },
   {
    "duration": 64,
    "start_time": "2022-01-16T19:44:46.253Z"
   },
   {
    "duration": 22,
    "start_time": "2022-01-16T19:44:46.327Z"
   },
   {
    "duration": 25,
    "start_time": "2022-01-16T19:44:46.350Z"
   },
   {
    "duration": 89,
    "start_time": "2022-01-16T19:44:46.378Z"
   },
   {
    "duration": 11,
    "start_time": "2022-01-16T19:44:46.470Z"
   },
   {
    "duration": 14,
    "start_time": "2022-01-16T19:44:46.482Z"
   },
   {
    "duration": 37,
    "start_time": "2022-01-16T19:44:46.498Z"
   },
   {
    "duration": 29,
    "start_time": "2022-01-16T19:44:46.537Z"
   },
   {
    "duration": 17,
    "start_time": "2022-01-16T19:44:46.568Z"
   },
   {
    "duration": 41,
    "start_time": "2022-01-16T19:44:46.586Z"
   },
   {
    "duration": 43,
    "start_time": "2022-01-16T19:44:46.629Z"
   },
   {
    "duration": 17,
    "start_time": "2022-01-16T19:44:46.674Z"
   },
   {
    "duration": 4,
    "start_time": "2022-01-16T19:44:46.693Z"
   },
   {
    "duration": 38,
    "start_time": "2022-01-16T19:44:46.698Z"
   },
   {
    "duration": 6,
    "start_time": "2022-01-16T19:44:46.737Z"
   },
   {
    "duration": 8,
    "start_time": "2022-01-16T19:44:46.744Z"
   },
   {
    "duration": 8,
    "start_time": "2022-01-16T19:44:46.753Z"
   },
   {
    "duration": 11,
    "start_time": "2022-01-16T19:44:46.763Z"
   },
   {
    "duration": 15,
    "start_time": "2022-01-16T19:44:46.776Z"
   },
   {
    "duration": 69,
    "start_time": "2022-01-16T19:44:46.792Z"
   },
   {
    "duration": 216,
    "start_time": "2022-01-16T19:44:46.863Z"
   },
   {
    "duration": 5,
    "start_time": "2022-01-16T19:44:47.082Z"
   },
   {
    "duration": 215,
    "start_time": "2022-01-16T19:44:47.089Z"
   },
   {
    "duration": 6,
    "start_time": "2022-01-16T19:44:47.306Z"
   },
   {
    "duration": 207,
    "start_time": "2022-01-16T19:44:47.313Z"
   },
   {
    "duration": 10,
    "start_time": "2022-01-16T19:44:47.522Z"
   },
   {
    "duration": 222,
    "start_time": "2022-01-16T19:44:47.533Z"
   },
   {
    "duration": 6,
    "start_time": "2022-01-16T19:44:47.756Z"
   },
   {
    "duration": 14,
    "start_time": "2022-01-16T19:44:47.763Z"
   },
   {
    "duration": 7,
    "start_time": "2022-01-16T19:44:47.779Z"
   },
   {
    "duration": 5,
    "start_time": "2022-01-16T19:44:47.787Z"
   },
   {
    "duration": 7,
    "start_time": "2022-01-16T19:44:47.793Z"
   },
   {
    "duration": 28,
    "start_time": "2022-01-16T19:44:47.802Z"
   },
   {
    "duration": 8,
    "start_time": "2022-01-16T19:44:47.832Z"
   },
   {
    "duration": 5,
    "start_time": "2022-01-16T19:44:47.841Z"
   },
   {
    "duration": 5,
    "start_time": "2022-01-16T19:44:47.848Z"
   },
   {
    "duration": 67,
    "start_time": "2022-01-16T19:49:04.005Z"
   },
   {
    "duration": 26,
    "start_time": "2022-01-16T19:51:08.040Z"
   },
   {
    "duration": 3,
    "start_time": "2022-01-16T19:51:20.652Z"
   },
   {
    "duration": 31,
    "start_time": "2022-01-16T19:51:26.420Z"
   },
   {
    "duration": 15,
    "start_time": "2022-01-16T19:57:12.546Z"
   },
   {
    "duration": 46,
    "start_time": "2022-01-16T20:01:06.999Z"
   },
   {
    "duration": 336,
    "start_time": "2022-01-16T20:01:48.224Z"
   },
   {
    "duration": 7,
    "start_time": "2022-01-16T20:01:55.812Z"
   },
   {
    "duration": 7,
    "start_time": "2022-01-16T20:02:19.160Z"
   },
   {
    "duration": 5,
    "start_time": "2022-01-16T20:02:35.852Z"
   },
   {
    "duration": 6,
    "start_time": "2022-01-16T20:02:55.623Z"
   },
   {
    "duration": 5,
    "start_time": "2022-01-16T20:03:01.688Z"
   },
   {
    "duration": 5,
    "start_time": "2022-01-16T20:03:08.520Z"
   },
   {
    "duration": 479,
    "start_time": "2022-01-16T20:03:19.596Z"
   },
   {
    "duration": 56,
    "start_time": "2022-01-16T20:03:20.076Z"
   },
   {
    "duration": 147,
    "start_time": "2022-01-16T20:03:20.133Z"
   },
   {
    "duration": 3,
    "start_time": "2022-01-16T20:03:20.281Z"
   },
   {
    "duration": 71,
    "start_time": "2022-01-16T20:03:20.286Z"
   },
   {
    "duration": 58,
    "start_time": "2022-01-16T20:03:20.359Z"
   },
   {
    "duration": 24,
    "start_time": "2022-01-16T20:03:20.419Z"
   },
   {
    "duration": 23,
    "start_time": "2022-01-16T20:03:20.445Z"
   },
   {
    "duration": 93,
    "start_time": "2022-01-16T20:03:20.469Z"
   },
   {
    "duration": 2,
    "start_time": "2022-01-16T20:03:20.564Z"
   },
   {
    "duration": 45,
    "start_time": "2022-01-16T20:03:20.567Z"
   },
   {
    "duration": 29,
    "start_time": "2022-01-16T20:03:20.614Z"
   },
   {
    "duration": 46,
    "start_time": "2022-01-16T20:03:20.645Z"
   },
   {
    "duration": 23,
    "start_time": "2022-01-16T20:03:20.693Z"
   },
   {
    "duration": 32,
    "start_time": "2022-01-16T20:03:20.718Z"
   },
   {
    "duration": 58,
    "start_time": "2022-01-16T20:03:20.751Z"
   },
   {
    "duration": 19,
    "start_time": "2022-01-16T20:03:20.810Z"
   },
   {
    "duration": 18,
    "start_time": "2022-01-16T20:03:20.830Z"
   },
   {
    "duration": 47,
    "start_time": "2022-01-16T20:03:20.849Z"
   },
   {
    "duration": 11,
    "start_time": "2022-01-16T20:03:20.897Z"
   },
   {
    "duration": 33,
    "start_time": "2022-01-16T20:03:20.909Z"
   },
   {
    "duration": 25,
    "start_time": "2022-01-16T20:03:20.943Z"
   },
   {
    "duration": 34,
    "start_time": "2022-01-16T20:03:20.971Z"
   },
   {
    "duration": 29,
    "start_time": "2022-01-16T20:03:21.007Z"
   },
   {
    "duration": 49,
    "start_time": "2022-01-16T20:03:21.037Z"
   },
   {
    "duration": 46,
    "start_time": "2022-01-16T20:03:21.087Z"
   },
   {
    "duration": 218,
    "start_time": "2022-01-16T20:03:21.134Z"
   },
   {
    "duration": 6,
    "start_time": "2022-01-16T20:03:21.353Z"
   },
   {
    "duration": 212,
    "start_time": "2022-01-16T20:03:21.361Z"
   },
   {
    "duration": 5,
    "start_time": "2022-01-16T20:03:21.575Z"
   },
   {
    "duration": 210,
    "start_time": "2022-01-16T20:03:21.581Z"
   },
   {
    "duration": 6,
    "start_time": "2022-01-16T20:03:21.792Z"
   },
   {
    "duration": 226,
    "start_time": "2022-01-16T20:03:21.799Z"
   },
   {
    "duration": 6,
    "start_time": "2022-01-16T20:03:22.027Z"
   },
   {
    "duration": 16,
    "start_time": "2022-01-16T20:03:22.034Z"
   },
   {
    "duration": 11,
    "start_time": "2022-01-16T20:03:22.052Z"
   },
   {
    "duration": 12,
    "start_time": "2022-01-16T20:03:22.064Z"
   },
   {
    "duration": 19,
    "start_time": "2022-01-16T20:03:22.077Z"
   },
   {
    "duration": 8,
    "start_time": "2022-01-16T20:03:22.098Z"
   },
   {
    "duration": 11,
    "start_time": "2022-01-16T20:03:22.107Z"
   },
   {
    "duration": 8,
    "start_time": "2022-01-16T20:03:22.120Z"
   },
   {
    "duration": 9,
    "start_time": "2022-01-16T20:03:22.129Z"
   },
   {
    "duration": 21,
    "start_time": "2022-01-16T20:04:19.020Z"
   },
   {
    "duration": 4,
    "start_time": "2022-01-16T20:04:53.985Z"
   },
   {
    "duration": 47,
    "start_time": "2022-01-16T20:05:13.924Z"
   },
   {
    "duration": 8060,
    "start_time": "2022-01-16T20:08:57.602Z"
   },
   {
    "duration": 704,
    "start_time": "2022-01-16T20:09:19.671Z"
   },
   {
    "duration": 52,
    "start_time": "2022-01-16T20:09:20.377Z"
   },
   {
    "duration": 160,
    "start_time": "2022-01-16T20:09:20.431Z"
   },
   {
    "duration": 3,
    "start_time": "2022-01-16T20:09:20.593Z"
   },
   {
    "duration": 76,
    "start_time": "2022-01-16T20:09:20.598Z"
   },
   {
    "duration": 67,
    "start_time": "2022-01-16T20:09:20.675Z"
   },
   {
    "duration": 20,
    "start_time": "2022-01-16T20:09:20.744Z"
   },
   {
    "duration": 24,
    "start_time": "2022-01-16T20:09:20.766Z"
   },
   {
    "duration": 91,
    "start_time": "2022-01-16T20:09:20.792Z"
   },
   {
    "duration": 3,
    "start_time": "2022-01-16T20:09:20.884Z"
   },
   {
    "duration": 19,
    "start_time": "2022-01-16T20:09:20.888Z"
   },
   {
    "duration": 30,
    "start_time": "2022-01-16T20:09:20.908Z"
   },
   {
    "duration": 35,
    "start_time": "2022-01-16T20:09:20.939Z"
   },
   {
    "duration": 17,
    "start_time": "2022-01-16T20:09:20.975Z"
   },
   {
    "duration": 48,
    "start_time": "2022-01-16T20:09:20.994Z"
   },
   {
    "duration": 40,
    "start_time": "2022-01-16T20:09:21.044Z"
   },
   {
    "duration": 16,
    "start_time": "2022-01-16T20:09:21.085Z"
   },
   {
    "duration": 4,
    "start_time": "2022-01-16T20:09:21.102Z"
   },
   {
    "duration": 39,
    "start_time": "2022-01-16T20:09:21.107Z"
   },
   {
    "duration": 6,
    "start_time": "2022-01-16T20:09:21.148Z"
   },
   {
    "duration": 5,
    "start_time": "2022-01-16T20:09:21.156Z"
   },
   {
    "duration": 5,
    "start_time": "2022-01-16T20:09:21.163Z"
   },
   {
    "duration": 10,
    "start_time": "2022-01-16T20:09:21.170Z"
   },
   {
    "duration": 45,
    "start_time": "2022-01-16T20:09:21.182Z"
   },
   {
    "duration": 52,
    "start_time": "2022-01-16T20:09:21.230Z"
   },
   {
    "duration": 8424,
    "start_time": "2022-01-16T20:09:25.104Z"
   },
   {
    "duration": 336,
    "start_time": "2022-01-16T20:09:35.867Z"
   },
   {
    "duration": 374,
    "start_time": "2022-01-16T20:10:40.723Z"
   },
   {
    "duration": 235,
    "start_time": "2022-01-16T20:10:49.656Z"
   },
   {
    "duration": 312,
    "start_time": "2022-01-16T20:10:56.751Z"
   },
   {
    "duration": 335,
    "start_time": "2022-01-16T20:11:13.903Z"
   },
   {
    "duration": 197,
    "start_time": "2022-01-16T20:11:17.738Z"
   },
   {
    "duration": 337,
    "start_time": "2022-01-16T20:11:28.143Z"
   },
   {
    "duration": 6,
    "start_time": "2022-01-16T20:32:17.981Z"
   },
   {
    "duration": 6,
    "start_time": "2022-01-16T20:32:33.845Z"
   },
   {
    "duration": 10,
    "start_time": "2022-01-16T20:42:35.625Z"
   },
   {
    "duration": 15,
    "start_time": "2022-01-16T20:43:17.141Z"
   },
   {
    "duration": 505,
    "start_time": "2022-01-16T20:45:16.013Z"
   },
   {
    "duration": 110,
    "start_time": "2022-01-16T20:46:41.802Z"
   },
   {
    "duration": 112,
    "start_time": "2022-01-16T20:46:46.537Z"
   },
   {
    "duration": 118,
    "start_time": "2022-01-16T20:47:00.391Z"
   },
   {
    "duration": 17,
    "start_time": "2022-01-16T20:48:57.214Z"
   },
   {
    "duration": 17,
    "start_time": "2022-01-16T20:49:32.594Z"
   },
   {
    "duration": 16,
    "start_time": "2022-01-16T20:49:43.319Z"
   },
   {
    "duration": 7,
    "start_time": "2022-01-16T20:57:34.369Z"
   },
   {
    "duration": 460,
    "start_time": "2022-01-16T21:02:18.343Z"
   },
   {
    "duration": 44,
    "start_time": "2022-01-16T21:02:18.827Z"
   },
   {
    "duration": 159,
    "start_time": "2022-01-16T21:02:18.873Z"
   },
   {
    "duration": 4,
    "start_time": "2022-01-16T21:02:19.034Z"
   },
   {
    "duration": 60,
    "start_time": "2022-01-16T21:02:19.040Z"
   },
   {
    "duration": 82,
    "start_time": "2022-01-16T21:02:19.101Z"
   },
   {
    "duration": 22,
    "start_time": "2022-01-16T21:02:19.185Z"
   },
   {
    "duration": 36,
    "start_time": "2022-01-16T21:02:19.208Z"
   },
   {
    "duration": 64,
    "start_time": "2022-01-16T21:02:19.247Z"
   },
   {
    "duration": 15,
    "start_time": "2022-01-16T21:02:19.312Z"
   },
   {
    "duration": 15,
    "start_time": "2022-01-16T21:02:19.329Z"
   },
   {
    "duration": 15,
    "start_time": "2022-01-16T21:02:19.346Z"
   },
   {
    "duration": 29,
    "start_time": "2022-01-16T21:02:19.362Z"
   },
   {
    "duration": 15,
    "start_time": "2022-01-16T21:02:19.392Z"
   },
   {
    "duration": 37,
    "start_time": "2022-01-16T21:02:19.408Z"
   },
   {
    "duration": 31,
    "start_time": "2022-01-16T21:02:19.447Z"
   },
   {
    "duration": 15,
    "start_time": "2022-01-16T21:02:19.480Z"
   },
   {
    "duration": 4,
    "start_time": "2022-01-16T21:02:19.497Z"
   },
   {
    "duration": 36,
    "start_time": "2022-01-16T21:02:19.502Z"
   },
   {
    "duration": 5,
    "start_time": "2022-01-16T21:02:19.539Z"
   },
   {
    "duration": 7,
    "start_time": "2022-01-16T21:02:19.546Z"
   },
   {
    "duration": 5,
    "start_time": "2022-01-16T21:02:19.554Z"
   },
   {
    "duration": 10,
    "start_time": "2022-01-16T21:02:19.561Z"
   },
   {
    "duration": 14,
    "start_time": "2022-01-16T21:02:19.572Z"
   },
   {
    "duration": 72,
    "start_time": "2022-01-16T21:02:19.588Z"
   },
   {
    "duration": 9,
    "start_time": "2022-01-16T21:02:19.662Z"
   },
   {
    "duration": 8,
    "start_time": "2022-01-16T21:02:19.674Z"
   },
   {
    "duration": 229,
    "start_time": "2022-01-16T21:02:19.684Z"
   },
   {
    "duration": 13,
    "start_time": "2022-01-16T21:02:19.915Z"
   },
   {
    "duration": 215,
    "start_time": "2022-01-16T21:02:19.929Z"
   },
   {
    "duration": 5,
    "start_time": "2022-01-16T21:02:20.146Z"
   },
   {
    "duration": 217,
    "start_time": "2022-01-16T21:02:20.152Z"
   },
   {
    "duration": 6,
    "start_time": "2022-01-16T21:02:20.371Z"
   },
   {
    "duration": 314,
    "start_time": "2022-01-16T21:02:20.379Z"
   },
   {
    "duration": 6,
    "start_time": "2022-01-16T21:02:20.694Z"
   },
   {
    "duration": 30,
    "start_time": "2022-01-16T21:02:20.701Z"
   },
   {
    "duration": 4,
    "start_time": "2022-01-16T21:02:20.733Z"
   },
   {
    "duration": 7,
    "start_time": "2022-01-16T21:02:20.739Z"
   },
   {
    "duration": 13,
    "start_time": "2022-01-16T21:02:20.748Z"
   },
   {
    "duration": 18,
    "start_time": "2022-01-16T21:02:20.762Z"
   },
   {
    "duration": 10,
    "start_time": "2022-01-16T21:02:20.782Z"
   },
   {
    "duration": 9,
    "start_time": "2022-01-16T21:02:20.793Z"
   },
   {
    "duration": 17,
    "start_time": "2022-01-16T21:03:00.815Z"
   },
   {
    "duration": 6,
    "start_time": "2022-01-16T21:04:49.937Z"
   },
   {
    "duration": 7,
    "start_time": "2022-01-16T21:05:52.329Z"
   },
   {
    "duration": 7,
    "start_time": "2022-01-16T21:07:03.940Z"
   },
   {
    "duration": 6,
    "start_time": "2022-01-16T21:07:42.080Z"
   },
   {
    "duration": 480,
    "start_time": "2022-01-16T21:14:40.247Z"
   },
   {
    "duration": 38,
    "start_time": "2022-01-16T21:14:40.729Z"
   },
   {
    "duration": 144,
    "start_time": "2022-01-16T21:14:40.769Z"
   },
   {
    "duration": 13,
    "start_time": "2022-01-16T21:14:40.915Z"
   },
   {
    "duration": 63,
    "start_time": "2022-01-16T21:14:40.930Z"
   },
   {
    "duration": 66,
    "start_time": "2022-01-16T21:14:40.995Z"
   },
   {
    "duration": 19,
    "start_time": "2022-01-16T21:14:41.063Z"
   },
   {
    "duration": 23,
    "start_time": "2022-01-16T21:14:41.084Z"
   },
   {
    "duration": 75,
    "start_time": "2022-01-16T21:14:41.109Z"
   },
   {
    "duration": 3,
    "start_time": "2022-01-16T21:14:41.185Z"
   },
   {
    "duration": 16,
    "start_time": "2022-01-16T21:14:41.189Z"
   },
   {
    "duration": 31,
    "start_time": "2022-01-16T21:14:41.206Z"
   },
   {
    "duration": 29,
    "start_time": "2022-01-16T21:14:41.238Z"
   },
   {
    "duration": 15,
    "start_time": "2022-01-16T21:14:41.268Z"
   },
   {
    "duration": 19,
    "start_time": "2022-01-16T21:14:41.285Z"
   },
   {
    "duration": 49,
    "start_time": "2022-01-16T21:14:41.306Z"
   },
   {
    "duration": 16,
    "start_time": "2022-01-16T21:14:41.356Z"
   },
   {
    "duration": 4,
    "start_time": "2022-01-16T21:14:41.373Z"
   },
   {
    "duration": 16,
    "start_time": "2022-01-16T21:14:41.378Z"
   },
   {
    "duration": 5,
    "start_time": "2022-01-16T21:14:41.395Z"
   },
   {
    "duration": 6,
    "start_time": "2022-01-16T21:14:41.426Z"
   },
   {
    "duration": 8,
    "start_time": "2022-01-16T21:14:41.434Z"
   },
   {
    "duration": 11,
    "start_time": "2022-01-16T21:14:41.445Z"
   },
   {
    "duration": 15,
    "start_time": "2022-01-16T21:14:41.457Z"
   },
   {
    "duration": 63,
    "start_time": "2022-01-16T21:14:41.473Z"
   },
   {
    "duration": 8,
    "start_time": "2022-01-16T21:14:41.538Z"
   },
   {
    "duration": 9,
    "start_time": "2022-01-16T21:14:41.547Z"
   },
   {
    "duration": 222,
    "start_time": "2022-01-16T21:14:41.557Z"
   },
   {
    "duration": 6,
    "start_time": "2022-01-16T21:14:41.781Z"
   },
   {
    "duration": 222,
    "start_time": "2022-01-16T21:14:41.789Z"
   },
   {
    "duration": 14,
    "start_time": "2022-01-16T21:14:42.013Z"
   },
   {
    "duration": 209,
    "start_time": "2022-01-16T21:14:42.029Z"
   },
   {
    "duration": 6,
    "start_time": "2022-01-16T21:14:42.240Z"
   },
   {
    "duration": 221,
    "start_time": "2022-01-16T21:14:42.247Z"
   },
   {
    "duration": 5,
    "start_time": "2022-01-16T21:14:42.470Z"
   },
   {
    "duration": 18,
    "start_time": "2022-01-16T21:14:42.476Z"
   },
   {
    "duration": 4,
    "start_time": "2022-01-16T21:14:42.496Z"
   },
   {
    "duration": 7,
    "start_time": "2022-01-16T21:14:42.501Z"
   },
   {
    "duration": 21,
    "start_time": "2022-01-16T21:14:42.509Z"
   },
   {
    "duration": 7,
    "start_time": "2022-01-16T21:14:42.531Z"
   },
   {
    "duration": 6,
    "start_time": "2022-01-16T21:14:42.540Z"
   },
   {
    "duration": 15,
    "start_time": "2022-01-16T21:14:42.548Z"
   },
   {
    "duration": 450,
    "start_time": "2022-01-16T21:19:09.025Z"
   },
   {
    "duration": 56,
    "start_time": "2022-01-16T21:19:09.476Z"
   },
   {
    "duration": 148,
    "start_time": "2022-01-16T21:19:09.534Z"
   },
   {
    "duration": 3,
    "start_time": "2022-01-16T21:19:09.684Z"
   },
   {
    "duration": 75,
    "start_time": "2022-01-16T21:19:09.689Z"
   },
   {
    "duration": 63,
    "start_time": "2022-01-16T21:19:09.766Z"
   },
   {
    "duration": 20,
    "start_time": "2022-01-16T21:19:09.830Z"
   },
   {
    "duration": 22,
    "start_time": "2022-01-16T21:19:09.852Z"
   },
   {
    "duration": 80,
    "start_time": "2022-01-16T21:19:09.876Z"
   },
   {
    "duration": 2,
    "start_time": "2022-01-16T21:19:09.958Z"
   },
   {
    "duration": 16,
    "start_time": "2022-01-16T21:19:09.962Z"
   },
   {
    "duration": 16,
    "start_time": "2022-01-16T21:19:09.980Z"
   },
   {
    "duration": 48,
    "start_time": "2022-01-16T21:19:09.997Z"
   },
   {
    "duration": 16,
    "start_time": "2022-01-16T21:19:10.046Z"
   },
   {
    "duration": 20,
    "start_time": "2022-01-16T21:19:10.063Z"
   },
   {
    "duration": 49,
    "start_time": "2022-01-16T21:19:10.084Z"
   },
   {
    "duration": 17,
    "start_time": "2022-01-16T21:19:10.134Z"
   },
   {
    "duration": 5,
    "start_time": "2022-01-16T21:19:10.152Z"
   },
   {
    "duration": 13,
    "start_time": "2022-01-16T21:19:10.158Z"
   },
   {
    "duration": 6,
    "start_time": "2022-01-16T21:19:10.172Z"
   },
   {
    "duration": 6,
    "start_time": "2022-01-16T21:19:10.180Z"
   },
   {
    "duration": 41,
    "start_time": "2022-01-16T21:19:10.187Z"
   },
   {
    "duration": 10,
    "start_time": "2022-01-16T21:19:10.232Z"
   },
   {
    "duration": 15,
    "start_time": "2022-01-16T21:19:10.244Z"
   },
   {
    "duration": 45,
    "start_time": "2022-01-16T21:19:10.260Z"
   },
   {
    "duration": 28,
    "start_time": "2022-01-16T21:19:10.306Z"
   },
   {
    "duration": 7,
    "start_time": "2022-01-16T21:19:10.336Z"
   },
   {
    "duration": 232,
    "start_time": "2022-01-16T21:19:10.344Z"
   },
   {
    "duration": 6,
    "start_time": "2022-01-16T21:19:10.577Z"
   },
   {
    "duration": 243,
    "start_time": "2022-01-16T21:19:10.584Z"
   },
   {
    "duration": 6,
    "start_time": "2022-01-16T21:19:10.828Z"
   },
   {
    "duration": 213,
    "start_time": "2022-01-16T21:19:10.836Z"
   },
   {
    "duration": 6,
    "start_time": "2022-01-16T21:19:11.051Z"
   },
   {
    "duration": 212,
    "start_time": "2022-01-16T21:19:11.058Z"
   },
   {
    "duration": 6,
    "start_time": "2022-01-16T21:19:11.272Z"
   },
   {
    "duration": 24,
    "start_time": "2022-01-16T21:19:11.279Z"
   },
   {
    "duration": 4,
    "start_time": "2022-01-16T21:19:11.305Z"
   },
   {
    "duration": 19,
    "start_time": "2022-01-16T21:19:11.310Z"
   },
   {
    "duration": 13,
    "start_time": "2022-01-16T21:19:11.330Z"
   },
   {
    "duration": 9,
    "start_time": "2022-01-16T21:19:11.344Z"
   },
   {
    "duration": 4,
    "start_time": "2022-01-16T21:19:11.355Z"
   },
   {
    "duration": 8,
    "start_time": "2022-01-16T21:19:11.361Z"
   },
   {
    "duration": 1774,
    "start_time": "2022-01-20T03:11:44.792Z"
   },
   {
    "duration": 57,
    "start_time": "2022-01-20T03:11:46.568Z"
   },
   {
    "duration": 316,
    "start_time": "2022-01-20T03:11:46.627Z"
   },
   {
    "duration": 6,
    "start_time": "2022-01-20T03:11:46.946Z"
   },
   {
    "duration": 89,
    "start_time": "2022-01-20T03:11:46.965Z"
   },
   {
    "duration": 111,
    "start_time": "2022-01-20T03:11:47.056Z"
   },
   {
    "duration": 31,
    "start_time": "2022-01-20T03:11:47.170Z"
   },
   {
    "duration": 70,
    "start_time": "2022-01-20T03:11:47.205Z"
   },
   {
    "duration": 127,
    "start_time": "2022-01-20T03:11:47.278Z"
   },
   {
    "duration": 4,
    "start_time": "2022-01-20T03:11:47.407Z"
   },
   {
    "duration": 25,
    "start_time": "2022-01-20T03:11:47.413Z"
   },
   {
    "duration": 41,
    "start_time": "2022-01-20T03:11:47.440Z"
   },
   {
    "duration": 45,
    "start_time": "2022-01-20T03:11:47.483Z"
   },
   {
    "duration": 48,
    "start_time": "2022-01-20T03:11:47.530Z"
   },
   {
    "duration": 31,
    "start_time": "2022-01-20T03:11:47.580Z"
   },
   {
    "duration": 80,
    "start_time": "2022-01-20T03:11:47.614Z"
   },
   {
    "duration": 28,
    "start_time": "2022-01-20T03:11:47.696Z"
   },
   {
    "duration": 5,
    "start_time": "2022-01-20T03:11:47.727Z"
   },
   {
    "duration": 49,
    "start_time": "2022-01-20T03:11:47.735Z"
   },
   {
    "duration": 16,
    "start_time": "2022-01-20T03:11:47.786Z"
   },
   {
    "duration": 9,
    "start_time": "2022-01-20T03:11:47.804Z"
   },
   {
    "duration": 11,
    "start_time": "2022-01-20T03:11:47.815Z"
   },
   {
    "duration": 42,
    "start_time": "2022-01-20T03:11:47.831Z"
   },
   {
    "duration": 25,
    "start_time": "2022-01-20T03:11:47.876Z"
   },
   {
    "duration": 102,
    "start_time": "2022-01-20T03:11:47.903Z"
   },
   {
    "duration": 15,
    "start_time": "2022-01-20T03:11:48.007Z"
   },
   {
    "duration": 16,
    "start_time": "2022-01-20T03:11:48.024Z"
   },
   {
    "duration": 553,
    "start_time": "2022-01-20T03:11:48.043Z"
   },
   {
    "duration": 11,
    "start_time": "2022-01-20T03:11:48.598Z"
   },
   {
    "duration": 399,
    "start_time": "2022-01-20T03:11:48.611Z"
   },
   {
    "duration": 10,
    "start_time": "2022-01-20T03:11:49.012Z"
   },
   {
    "duration": 389,
    "start_time": "2022-01-20T03:11:49.024Z"
   },
   {
    "duration": 12,
    "start_time": "2022-01-20T03:11:49.416Z"
   },
   {
    "duration": 386,
    "start_time": "2022-01-20T03:11:49.430Z"
   },
   {
    "duration": 12,
    "start_time": "2022-01-20T03:11:49.818Z"
   },
   {
    "duration": 50,
    "start_time": "2022-01-20T03:11:49.833Z"
   },
   {
    "duration": 8,
    "start_time": "2022-01-20T03:11:49.886Z"
   },
   {
    "duration": 10,
    "start_time": "2022-01-20T03:11:49.896Z"
   },
   {
    "duration": 15,
    "start_time": "2022-01-20T03:11:49.909Z"
   },
   {
    "duration": 40,
    "start_time": "2022-01-20T03:11:49.927Z"
   },
   {
    "duration": 8,
    "start_time": "2022-01-20T03:11:49.969Z"
   },
   {
    "duration": 8,
    "start_time": "2022-01-20T03:11:49.979Z"
   },
   {
    "duration": 35,
    "start_time": "2022-01-20T03:13:57.806Z"
   },
   {
    "duration": 9,
    "start_time": "2022-01-20T03:16:20.545Z"
   },
   {
    "duration": 11,
    "start_time": "2022-01-20T03:16:32.448Z"
   },
   {
    "duration": 8,
    "start_time": "2022-01-20T03:17:05.693Z"
   },
   {
    "duration": 35,
    "start_time": "2022-01-20T03:23:51.713Z"
   },
   {
    "duration": 82,
    "start_time": "2022-01-20T07:08:54.229Z"
   },
   {
    "duration": 79,
    "start_time": "2022-01-20T07:12:12.766Z"
   },
   {
    "duration": 124,
    "start_time": "2022-01-20T07:25:05.398Z"
   },
   {
    "duration": 1452,
    "start_time": "2022-01-20T07:29:03.328Z"
   },
   {
    "duration": 41,
    "start_time": "2022-01-20T07:29:04.782Z"
   },
   {
    "duration": 227,
    "start_time": "2022-01-20T07:29:04.825Z"
   },
   {
    "duration": 4,
    "start_time": "2022-01-20T07:29:05.060Z"
   },
   {
    "duration": 92,
    "start_time": "2022-01-20T07:29:05.065Z"
   },
   {
    "duration": 71,
    "start_time": "2022-01-20T07:29:05.159Z"
   },
   {
    "duration": 35,
    "start_time": "2022-01-20T07:29:05.231Z"
   },
   {
    "duration": 38,
    "start_time": "2022-01-20T07:29:05.268Z"
   },
   {
    "duration": 106,
    "start_time": "2022-01-20T07:29:05.308Z"
   },
   {
    "duration": 3,
    "start_time": "2022-01-20T07:29:05.416Z"
   },
   {
    "duration": 46,
    "start_time": "2022-01-20T07:29:05.420Z"
   },
   {
    "duration": 37,
    "start_time": "2022-01-20T07:29:05.468Z"
   },
   {
    "duration": 37,
    "start_time": "2022-01-20T07:29:05.507Z"
   },
   {
    "duration": 34,
    "start_time": "2022-01-20T07:29:05.545Z"
   },
   {
    "duration": 48,
    "start_time": "2022-01-20T07:29:05.581Z"
   },
   {
    "duration": 44,
    "start_time": "2022-01-20T07:29:05.631Z"
   },
   {
    "duration": 402,
    "start_time": "2022-01-20T07:29:21.048Z"
   },
   {
    "duration": 22,
    "start_time": "2022-01-20T07:30:23.896Z"
   },
   {
    "duration": 262,
    "start_time": "2022-01-20T07:38:41.251Z"
   },
   {
    "duration": 394,
    "start_time": "2022-01-20T07:38:52.082Z"
   },
   {
    "duration": 249,
    "start_time": "2022-01-20T07:39:02.835Z"
   },
   {
    "duration": 678,
    "start_time": "2022-01-20T07:41:36.384Z"
   },
   {
    "duration": 261,
    "start_time": "2022-01-20T07:42:58.228Z"
   },
   {
    "duration": 529,
    "start_time": "2022-01-20T07:44:43.941Z"
   },
   {
    "duration": 275,
    "start_time": "2022-01-20T07:44:56.469Z"
   },
   {
    "duration": 481,
    "start_time": "2022-01-20T07:45:05.181Z"
   },
   {
    "duration": 46,
    "start_time": "2022-01-20T07:45:05.663Z"
   },
   {
    "duration": 194,
    "start_time": "2022-01-20T07:45:05.711Z"
   },
   {
    "duration": 3,
    "start_time": "2022-01-20T07:45:05.907Z"
   },
   {
    "duration": 84,
    "start_time": "2022-01-20T07:45:05.912Z"
   },
   {
    "duration": 72,
    "start_time": "2022-01-20T07:45:05.998Z"
   },
   {
    "duration": 22,
    "start_time": "2022-01-20T07:45:06.073Z"
   },
   {
    "duration": 48,
    "start_time": "2022-01-20T07:45:06.098Z"
   },
   {
    "duration": 71,
    "start_time": "2022-01-20T07:45:06.148Z"
   },
   {
    "duration": 2,
    "start_time": "2022-01-20T07:45:06.221Z"
   },
   {
    "duration": 30,
    "start_time": "2022-01-20T07:45:06.224Z"
   },
   {
    "duration": 17,
    "start_time": "2022-01-20T07:45:06.256Z"
   },
   {
    "duration": 33,
    "start_time": "2022-01-20T07:45:06.275Z"
   },
   {
    "duration": 18,
    "start_time": "2022-01-20T07:45:06.310Z"
   },
   {
    "duration": 41,
    "start_time": "2022-01-20T07:45:06.330Z"
   },
   {
    "duration": 46,
    "start_time": "2022-01-20T07:45:06.373Z"
   },
   {
    "duration": 42,
    "start_time": "2022-01-20T07:45:06.420Z"
   },
   {
    "duration": 4,
    "start_time": "2022-01-20T07:45:06.463Z"
   },
   {
    "duration": 20,
    "start_time": "2022-01-20T07:45:06.469Z"
   },
   {
    "duration": 10,
    "start_time": "2022-01-20T07:45:06.491Z"
   },
   {
    "duration": 5,
    "start_time": "2022-01-20T07:45:06.503Z"
   },
   {
    "duration": 10,
    "start_time": "2022-01-20T07:45:06.509Z"
   },
   {
    "duration": 7,
    "start_time": "2022-01-20T07:45:06.522Z"
   },
   {
    "duration": 37,
    "start_time": "2022-01-20T07:45:06.531Z"
   },
   {
    "duration": 1105,
    "start_time": "2022-01-20T07:45:06.569Z"
   },
   {
    "duration": -101,
    "start_time": "2022-01-20T07:45:07.777Z"
   },
   {
    "duration": -124,
    "start_time": "2022-01-20T07:45:07.801Z"
   },
   {
    "duration": -130,
    "start_time": "2022-01-20T07:45:07.808Z"
   },
   {
    "duration": -152,
    "start_time": "2022-01-20T07:45:07.831Z"
   },
   {
    "duration": -166,
    "start_time": "2022-01-20T07:45:07.846Z"
   },
   {
    "duration": 268,
    "start_time": "2022-01-20T07:45:11.640Z"
   },
   {
    "duration": 247,
    "start_time": "2022-01-20T07:45:22.289Z"
   },
   {
    "duration": 279,
    "start_time": "2022-01-20T07:45:41.081Z"
   },
   {
    "duration": 465,
    "start_time": "2022-01-20T07:45:57.373Z"
   },
   {
    "duration": 63,
    "start_time": "2022-01-20T07:45:57.840Z"
   },
   {
    "duration": 177,
    "start_time": "2022-01-20T07:45:57.905Z"
   },
   {
    "duration": 3,
    "start_time": "2022-01-20T07:45:58.084Z"
   },
   {
    "duration": 93,
    "start_time": "2022-01-20T07:45:58.088Z"
   },
   {
    "duration": 63,
    "start_time": "2022-01-20T07:45:58.183Z"
   },
   {
    "duration": 30,
    "start_time": "2022-01-20T07:45:58.247Z"
   },
   {
    "duration": 25,
    "start_time": "2022-01-20T07:45:58.279Z"
   },
   {
    "duration": 84,
    "start_time": "2022-01-20T07:45:58.306Z"
   },
   {
    "duration": 3,
    "start_time": "2022-01-20T07:45:58.392Z"
   },
   {
    "duration": 50,
    "start_time": "2022-01-20T07:45:58.397Z"
   },
   {
    "duration": 55,
    "start_time": "2022-01-20T07:45:58.449Z"
   },
   {
    "duration": 49,
    "start_time": "2022-01-20T07:45:58.506Z"
   },
   {
    "duration": 17,
    "start_time": "2022-01-20T07:45:58.557Z"
   },
   {
    "duration": 57,
    "start_time": "2022-01-20T07:45:58.575Z"
   },
   {
    "duration": 57,
    "start_time": "2022-01-20T07:45:58.633Z"
   },
   {
    "duration": 22,
    "start_time": "2022-01-20T07:45:58.692Z"
   },
   {
    "duration": 18,
    "start_time": "2022-01-20T07:45:58.716Z"
   },
   {
    "duration": 45,
    "start_time": "2022-01-20T07:45:58.735Z"
   },
   {
    "duration": 41,
    "start_time": "2022-01-20T07:45:58.782Z"
   },
   {
    "duration": 48,
    "start_time": "2022-01-20T07:45:58.825Z"
   },
   {
    "duration": 36,
    "start_time": "2022-01-20T07:45:58.875Z"
   },
   {
    "duration": 34,
    "start_time": "2022-01-20T07:45:58.914Z"
   },
   {
    "duration": 120,
    "start_time": "2022-01-20T07:45:58.950Z"
   },
   {
    "duration": 1095,
    "start_time": "2022-01-20T07:45:59.071Z"
   },
   {
    "duration": -58,
    "start_time": "2022-01-20T07:46:00.226Z"
   },
   {
    "duration": -66,
    "start_time": "2022-01-20T07:46:00.235Z"
   },
   {
    "duration": -82,
    "start_time": "2022-01-20T07:46:00.251Z"
   },
   {
    "duration": -93,
    "start_time": "2022-01-20T07:46:00.263Z"
   },
   {
    "duration": -106,
    "start_time": "2022-01-20T07:46:00.277Z"
   },
   {
    "duration": 257,
    "start_time": "2022-01-20T07:46:02.929Z"
   },
   {
    "duration": 226,
    "start_time": "2022-01-20T07:46:12.497Z"
   },
   {
    "duration": 3209,
    "start_time": "2022-01-20T07:46:15.777Z"
   },
   {
    "duration": -70,
    "start_time": "2022-01-20T07:46:19.058Z"
   },
   {
    "duration": 7241,
    "start_time": "2022-01-20T07:46:23.525Z"
   },
   {
    "duration": 9,
    "start_time": "2022-01-20T07:46:43.105Z"
   },
   {
    "duration": 179,
    "start_time": "2022-01-20T07:46:49.369Z"
   },
   {
    "duration": 175,
    "start_time": "2022-01-20T07:47:10.169Z"
   },
   {
    "duration": 174,
    "start_time": "2022-01-20T07:47:13.781Z"
   },
   {
    "duration": 176,
    "start_time": "2022-01-20T07:47:18.318Z"
   },
   {
    "duration": 269,
    "start_time": "2022-01-20T07:47:26.538Z"
   },
   {
    "duration": 259,
    "start_time": "2022-01-20T07:48:13.760Z"
   },
   {
    "duration": 183,
    "start_time": "2022-01-20T07:48:28.146Z"
   },
   {
    "duration": 470,
    "start_time": "2022-01-20T07:48:50.419Z"
   },
   {
    "duration": 210,
    "start_time": "2022-01-20T07:49:02.190Z"
   },
   {
    "duration": 187,
    "start_time": "2022-01-20T07:49:15.906Z"
   },
   {
    "duration": 192,
    "start_time": "2022-01-20T07:49:18.862Z"
   },
   {
    "duration": 169,
    "start_time": "2022-01-20T07:49:22.974Z"
   },
   {
    "duration": 180,
    "start_time": "2022-01-20T07:49:51.046Z"
   },
   {
    "duration": 290,
    "start_time": "2022-01-20T07:50:29.774Z"
   },
   {
    "duration": 477,
    "start_time": "2022-01-20T07:50:40.167Z"
   },
   {
    "duration": 53,
    "start_time": "2022-01-20T07:50:40.645Z"
   },
   {
    "duration": 199,
    "start_time": "2022-01-20T07:50:40.700Z"
   },
   {
    "duration": 4,
    "start_time": "2022-01-20T07:50:40.901Z"
   },
   {
    "duration": 83,
    "start_time": "2022-01-20T07:50:40.906Z"
   },
   {
    "duration": 76,
    "start_time": "2022-01-20T07:50:40.990Z"
   },
   {
    "duration": 24,
    "start_time": "2022-01-20T07:50:41.067Z"
   },
   {
    "duration": 26,
    "start_time": "2022-01-20T07:50:41.093Z"
   },
   {
    "duration": 88,
    "start_time": "2022-01-20T07:50:41.122Z"
   },
   {
    "duration": 3,
    "start_time": "2022-01-20T07:50:41.211Z"
   },
   {
    "duration": 21,
    "start_time": "2022-01-20T07:50:41.215Z"
   },
   {
    "duration": 28,
    "start_time": "2022-01-20T07:50:41.238Z"
   },
   {
    "duration": 32,
    "start_time": "2022-01-20T07:50:41.268Z"
   },
   {
    "duration": 17,
    "start_time": "2022-01-20T07:50:41.302Z"
   },
   {
    "duration": 43,
    "start_time": "2022-01-20T07:50:41.320Z"
   },
   {
    "duration": 40,
    "start_time": "2022-01-20T07:50:41.365Z"
   },
   {
    "duration": 23,
    "start_time": "2022-01-20T07:50:41.406Z"
   },
   {
    "duration": 4,
    "start_time": "2022-01-20T07:50:41.431Z"
   },
   {
    "duration": 37,
    "start_time": "2022-01-20T07:50:41.436Z"
   },
   {
    "duration": 7,
    "start_time": "2022-01-20T07:50:41.475Z"
   },
   {
    "duration": 13,
    "start_time": "2022-01-20T07:50:41.483Z"
   },
   {
    "duration": 9,
    "start_time": "2022-01-20T07:50:41.497Z"
   },
   {
    "duration": 6,
    "start_time": "2022-01-20T07:50:41.509Z"
   },
   {
    "duration": 14,
    "start_time": "2022-01-20T07:50:41.517Z"
   },
   {
    "duration": 1081,
    "start_time": "2022-01-20T07:50:41.533Z"
   },
   {
    "duration": -78,
    "start_time": "2022-01-20T07:50:42.694Z"
   },
   {
    "duration": -87,
    "start_time": "2022-01-20T07:50:42.704Z"
   },
   {
    "duration": -96,
    "start_time": "2022-01-20T07:50:42.714Z"
   },
   {
    "duration": -108,
    "start_time": "2022-01-20T07:50:42.727Z"
   },
   {
    "duration": -115,
    "start_time": "2022-01-20T07:50:42.735Z"
   },
   {
    "duration": -123,
    "start_time": "2022-01-20T07:50:42.745Z"
   },
   {
    "duration": -135,
    "start_time": "2022-01-20T07:50:42.758Z"
   },
   {
    "duration": -140,
    "start_time": "2022-01-20T07:50:42.764Z"
   },
   {
    "duration": -152,
    "start_time": "2022-01-20T07:50:42.777Z"
   },
   {
    "duration": 332,
    "start_time": "2022-01-20T07:50:50.706Z"
   },
   {
    "duration": 232,
    "start_time": "2022-01-20T07:50:54.046Z"
   },
   {
    "duration": 250,
    "start_time": "2022-01-20T07:50:55.211Z"
   },
   {
    "duration": 264,
    "start_time": "2022-01-20T07:51:03.684Z"
   },
   {
    "duration": 505,
    "start_time": "2022-01-20T07:51:35.623Z"
   },
   {
    "duration": 72,
    "start_time": "2022-01-20T07:51:36.130Z"
   },
   {
    "duration": 182,
    "start_time": "2022-01-20T07:51:36.205Z"
   },
   {
    "duration": 4,
    "start_time": "2022-01-20T07:51:36.389Z"
   },
   {
    "duration": 80,
    "start_time": "2022-01-20T07:51:36.394Z"
   },
   {
    "duration": 67,
    "start_time": "2022-01-20T07:51:36.476Z"
   },
   {
    "duration": 30,
    "start_time": "2022-01-20T07:51:36.545Z"
   },
   {
    "duration": 27,
    "start_time": "2022-01-20T07:51:36.578Z"
   },
   {
    "duration": 92,
    "start_time": "2022-01-20T07:51:36.608Z"
   },
   {
    "duration": 2,
    "start_time": "2022-01-20T07:51:36.702Z"
   },
   {
    "duration": 30,
    "start_time": "2022-01-20T07:51:36.706Z"
   },
   {
    "duration": 27,
    "start_time": "2022-01-20T07:51:36.737Z"
   },
   {
    "duration": 32,
    "start_time": "2022-01-20T07:51:36.766Z"
   },
   {
    "duration": 29,
    "start_time": "2022-01-20T07:51:36.799Z"
   },
   {
    "duration": 34,
    "start_time": "2022-01-20T07:51:36.830Z"
   },
   {
    "duration": 49,
    "start_time": "2022-01-20T07:51:36.866Z"
   },
   {
    "duration": 25,
    "start_time": "2022-01-20T07:51:36.917Z"
   },
   {
    "duration": 16,
    "start_time": "2022-01-20T07:51:36.944Z"
   },
   {
    "duration": 17,
    "start_time": "2022-01-20T07:51:36.963Z"
   },
   {
    "duration": 7,
    "start_time": "2022-01-20T07:51:36.982Z"
   },
   {
    "duration": 8,
    "start_time": "2022-01-20T07:51:36.990Z"
   },
   {
    "duration": 7,
    "start_time": "2022-01-20T07:51:37.000Z"
   },
   {
    "duration": 7,
    "start_time": "2022-01-20T07:51:37.012Z"
   },
   {
    "duration": 52,
    "start_time": "2022-01-20T07:51:37.021Z"
   },
   {
    "duration": 970,
    "start_time": "2022-01-20T07:51:37.075Z"
   },
   {
    "duration": -56,
    "start_time": "2022-01-20T07:51:38.103Z"
   },
   {
    "duration": -69,
    "start_time": "2022-01-20T07:51:38.117Z"
   },
   {
    "duration": -79,
    "start_time": "2022-01-20T07:51:38.128Z"
   },
   {
    "duration": -82,
    "start_time": "2022-01-20T07:51:38.132Z"
   },
   {
    "duration": -88,
    "start_time": "2022-01-20T07:51:38.140Z"
   },
   {
    "duration": -96,
    "start_time": "2022-01-20T07:51:38.149Z"
   },
   {
    "duration": -103,
    "start_time": "2022-01-20T07:51:38.157Z"
   },
   {
    "duration": -109,
    "start_time": "2022-01-20T07:51:38.164Z"
   },
   {
    "duration": -115,
    "start_time": "2022-01-20T07:51:38.171Z"
   },
   {
    "duration": -123,
    "start_time": "2022-01-20T07:51:38.180Z"
   },
   {
    "duration": -128,
    "start_time": "2022-01-20T07:51:38.185Z"
   },
   {
    "duration": -137,
    "start_time": "2022-01-20T07:51:38.195Z"
   },
   {
    "duration": -142,
    "start_time": "2022-01-20T07:51:38.201Z"
   },
   {
    "duration": -160,
    "start_time": "2022-01-20T07:51:38.220Z"
   },
   {
    "duration": -169,
    "start_time": "2022-01-20T07:51:38.230Z"
   },
   {
    "duration": -173,
    "start_time": "2022-01-20T07:51:38.235Z"
   },
   {
    "duration": -184,
    "start_time": "2022-01-20T07:51:38.246Z"
   },
   {
    "duration": -187,
    "start_time": "2022-01-20T07:51:38.250Z"
   },
   {
    "duration": -197,
    "start_time": "2022-01-20T07:51:38.261Z"
   },
   {
    "duration": -201,
    "start_time": "2022-01-20T07:51:38.266Z"
   },
   {
    "duration": -207,
    "start_time": "2022-01-20T07:51:38.273Z"
   },
   {
    "duration": 1196,
    "start_time": "2022-01-20T07:52:08.083Z"
   },
   {
    "duration": 515,
    "start_time": "2022-01-20T08:40:22.774Z"
   },
   {
    "duration": 70,
    "start_time": "2022-01-20T08:40:23.291Z"
   },
   {
    "duration": 202,
    "start_time": "2022-01-20T08:40:23.364Z"
   },
   {
    "duration": 3,
    "start_time": "2022-01-20T08:40:23.568Z"
   },
   {
    "duration": 81,
    "start_time": "2022-01-20T08:40:23.573Z"
   },
   {
    "duration": 74,
    "start_time": "2022-01-20T08:40:23.656Z"
   },
   {
    "duration": 33,
    "start_time": "2022-01-20T08:40:23.731Z"
   },
   {
    "duration": 29,
    "start_time": "2022-01-20T08:40:23.767Z"
   },
   {
    "duration": 94,
    "start_time": "2022-01-20T08:40:23.798Z"
   },
   {
    "duration": 3,
    "start_time": "2022-01-20T08:40:23.894Z"
   },
   {
    "duration": 42,
    "start_time": "2022-01-20T08:40:23.899Z"
   },
   {
    "duration": 23,
    "start_time": "2022-01-20T08:40:23.942Z"
   },
   {
    "duration": 51,
    "start_time": "2022-01-20T08:40:23.967Z"
   },
   {
    "duration": 19,
    "start_time": "2022-01-20T08:40:24.020Z"
   },
   {
    "duration": 35,
    "start_time": "2022-01-20T08:40:24.040Z"
   },
   {
    "duration": 50,
    "start_time": "2022-01-20T08:40:24.077Z"
   },
   {
    "duration": 42,
    "start_time": "2022-01-20T08:40:24.129Z"
   },
   {
    "duration": 28,
    "start_time": "2022-01-20T08:40:24.173Z"
   },
   {
    "duration": 25,
    "start_time": "2022-01-20T08:40:24.202Z"
   },
   {
    "duration": 20,
    "start_time": "2022-01-20T08:40:24.230Z"
   },
   {
    "duration": 17,
    "start_time": "2022-01-20T08:40:24.252Z"
   },
   {
    "duration": 20,
    "start_time": "2022-01-20T08:40:24.271Z"
   },
   {
    "duration": 17,
    "start_time": "2022-01-20T08:40:24.294Z"
   },
   {
    "duration": 34,
    "start_time": "2022-01-20T08:40:24.313Z"
   },
   {
    "duration": 1020,
    "start_time": "2022-01-20T08:40:24.349Z"
   },
   {
    "duration": -77,
    "start_time": "2022-01-20T08:40:25.448Z"
   },
   {
    "duration": -84,
    "start_time": "2022-01-20T08:40:25.456Z"
   },
   {
    "duration": -88,
    "start_time": "2022-01-20T08:40:25.462Z"
   },
   {
    "duration": -97,
    "start_time": "2022-01-20T08:40:25.472Z"
   },
   {
    "duration": -100,
    "start_time": "2022-01-20T08:40:25.477Z"
   },
   {
    "duration": -109,
    "start_time": "2022-01-20T08:40:25.487Z"
   },
   {
    "duration": -113,
    "start_time": "2022-01-20T08:40:25.493Z"
   },
   {
    "duration": -122,
    "start_time": "2022-01-20T08:40:25.503Z"
   },
   {
    "duration": -126,
    "start_time": "2022-01-20T08:40:25.509Z"
   },
   {
    "duration": -133,
    "start_time": "2022-01-20T08:40:25.517Z"
   },
   {
    "duration": -138,
    "start_time": "2022-01-20T08:40:25.524Z"
   },
   {
    "duration": -144,
    "start_time": "2022-01-20T08:40:25.531Z"
   },
   {
    "duration": -151,
    "start_time": "2022-01-20T08:40:25.540Z"
   },
   {
    "duration": -157,
    "start_time": "2022-01-20T08:40:25.547Z"
   },
   {
    "duration": -165,
    "start_time": "2022-01-20T08:40:25.556Z"
   },
   {
    "duration": -169,
    "start_time": "2022-01-20T08:40:25.562Z"
   },
   {
    "duration": -178,
    "start_time": "2022-01-20T08:40:25.572Z"
   },
   {
    "duration": -181,
    "start_time": "2022-01-20T08:40:25.577Z"
   },
   {
    "duration": -192,
    "start_time": "2022-01-20T08:40:25.589Z"
   },
   {
    "duration": -196,
    "start_time": "2022-01-20T08:40:25.595Z"
   },
   {
    "duration": -205,
    "start_time": "2022-01-20T08:40:25.605Z"
   },
   {
    "duration": 20,
    "start_time": "2022-01-20T08:40:54.810Z"
   },
   {
    "duration": 7,
    "start_time": "2022-01-20T08:41:03.882Z"
   },
   {
    "duration": 491,
    "start_time": "2022-01-20T08:41:28.718Z"
   },
   {
    "duration": 63,
    "start_time": "2022-01-20T08:41:29.211Z"
   },
   {
    "duration": 211,
    "start_time": "2022-01-20T08:41:29.277Z"
   },
   {
    "duration": 4,
    "start_time": "2022-01-20T08:41:29.490Z"
   },
   {
    "duration": 94,
    "start_time": "2022-01-20T08:41:29.495Z"
   },
   {
    "duration": 79,
    "start_time": "2022-01-20T08:41:29.590Z"
   },
   {
    "duration": 23,
    "start_time": "2022-01-20T08:41:29.671Z"
   },
   {
    "duration": 51,
    "start_time": "2022-01-20T08:41:29.697Z"
   },
   {
    "duration": 83,
    "start_time": "2022-01-20T08:41:29.750Z"
   },
   {
    "duration": 3,
    "start_time": "2022-01-20T08:41:29.834Z"
   },
   {
    "duration": 48,
    "start_time": "2022-01-20T08:41:29.839Z"
   },
   {
    "duration": 57,
    "start_time": "2022-01-20T08:41:29.888Z"
   },
   {
    "duration": 55,
    "start_time": "2022-01-20T08:41:29.947Z"
   },
   {
    "duration": 48,
    "start_time": "2022-01-20T08:41:30.005Z"
   },
   {
    "duration": 54,
    "start_time": "2022-01-20T08:41:30.055Z"
   },
   {
    "duration": 60,
    "start_time": "2022-01-20T08:41:30.111Z"
   },
   {
    "duration": 25,
    "start_time": "2022-01-20T08:41:30.172Z"
   },
   {
    "duration": 8,
    "start_time": "2022-01-20T08:41:33.252Z"
   },
   {
    "duration": 9,
    "start_time": "2022-01-20T08:55:31.058Z"
   },
   {
    "duration": 6,
    "start_time": "2022-01-20T08:56:22.854Z"
   },
   {
    "duration": 3511,
    "start_time": "2022-01-20T08:58:26.495Z"
   },
   {
    "duration": 3714,
    "start_time": "2022-01-20T08:59:01.920Z"
   },
   {
    "duration": 3483,
    "start_time": "2022-01-20T08:59:28.728Z"
   },
   {
    "duration": 3676,
    "start_time": "2022-01-20T09:01:08.268Z"
   },
   {
    "duration": 3907,
    "start_time": "2022-01-20T09:01:25.120Z"
   },
   {
    "duration": 3764,
    "start_time": "2022-01-20T09:04:51.120Z"
   },
   {
    "duration": 3520,
    "start_time": "2022-01-20T09:05:05.161Z"
   },
   {
    "duration": 84,
    "start_time": "2022-01-20T09:05:13.545Z"
   },
   {
    "duration": 3573,
    "start_time": "2022-01-20T09:06:11.609Z"
   },
   {
    "duration": 3885,
    "start_time": "2022-01-20T09:06:22.874Z"
   },
   {
    "duration": 3233,
    "start_time": "2022-01-20T09:07:04.022Z"
   },
   {
    "duration": 3840,
    "start_time": "2022-01-20T09:07:09.198Z"
   },
   {
    "duration": 4,
    "start_time": "2022-01-20T09:07:32.924Z"
   },
   {
    "duration": 3365,
    "start_time": "2022-01-20T09:07:38.826Z"
   },
   {
    "duration": 3527,
    "start_time": "2022-01-20T09:07:54.470Z"
   },
   {
    "duration": 3531,
    "start_time": "2022-01-20T09:08:23.122Z"
   },
   {
    "duration": 3,
    "start_time": "2022-01-20T09:08:34.630Z"
   },
   {
    "duration": 5,
    "start_time": "2022-01-20T09:08:39.351Z"
   },
   {
    "duration": 510,
    "start_time": "2022-01-20T09:09:01.959Z"
   },
   {
    "duration": 47,
    "start_time": "2022-01-20T09:09:02.471Z"
   },
   {
    "duration": 206,
    "start_time": "2022-01-20T09:09:02.520Z"
   },
   {
    "duration": 3,
    "start_time": "2022-01-20T09:09:02.728Z"
   },
   {
    "duration": 88,
    "start_time": "2022-01-20T09:09:02.733Z"
   },
   {
    "duration": 69,
    "start_time": "2022-01-20T09:09:02.823Z"
   },
   {
    "duration": 23,
    "start_time": "2022-01-20T09:09:02.894Z"
   },
   {
    "duration": 26,
    "start_time": "2022-01-20T09:09:02.920Z"
   },
   {
    "duration": 84,
    "start_time": "2022-01-20T09:09:02.948Z"
   },
   {
    "duration": 3,
    "start_time": "2022-01-20T09:09:03.034Z"
   },
   {
    "duration": 37,
    "start_time": "2022-01-20T09:09:03.039Z"
   },
   {
    "duration": 20,
    "start_time": "2022-01-20T09:09:03.078Z"
   },
   {
    "duration": 36,
    "start_time": "2022-01-20T09:09:03.100Z"
   },
   {
    "duration": 35,
    "start_time": "2022-01-20T09:09:03.138Z"
   },
   {
    "duration": 26,
    "start_time": "2022-01-20T09:09:03.175Z"
   },
   {
    "duration": 65,
    "start_time": "2022-01-20T09:09:03.203Z"
   },
   {
    "duration": 24,
    "start_time": "2022-01-20T09:09:03.270Z"
   },
   {
    "duration": 8,
    "start_time": "2022-01-20T09:09:03.296Z"
   },
   {
    "duration": 5,
    "start_time": "2022-01-20T09:09:11.867Z"
   },
   {
    "duration": 16,
    "start_time": "2022-01-20T09:09:13.154Z"
   },
   {
    "duration": 3,
    "start_time": "2022-01-20T09:09:20.559Z"
   },
   {
    "duration": 253,
    "start_time": "2022-01-20T09:09:32.824Z"
   },
   {
    "duration": 359,
    "start_time": "2022-01-20T09:09:44.306Z"
   },
   {
    "duration": 18,
    "start_time": "2022-01-20T09:10:01.095Z"
   },
   {
    "duration": 495,
    "start_time": "2022-01-20T09:10:43.443Z"
   },
   {
    "duration": 47,
    "start_time": "2022-01-20T09:10:43.960Z"
   },
   {
    "duration": 194,
    "start_time": "2022-01-20T09:10:44.009Z"
   },
   {
    "duration": 4,
    "start_time": "2022-01-20T09:10:44.205Z"
   },
   {
    "duration": 80,
    "start_time": "2022-01-20T09:10:44.210Z"
   },
   {
    "duration": 80,
    "start_time": "2022-01-20T09:10:44.291Z"
   },
   {
    "duration": 23,
    "start_time": "2022-01-20T09:10:44.373Z"
   },
   {
    "duration": 27,
    "start_time": "2022-01-20T09:10:44.399Z"
   },
   {
    "duration": 99,
    "start_time": "2022-01-20T09:10:44.428Z"
   },
   {
    "duration": 3,
    "start_time": "2022-01-20T09:10:44.528Z"
   },
   {
    "duration": 27,
    "start_time": "2022-01-20T09:10:44.533Z"
   },
   {
    "duration": 18,
    "start_time": "2022-01-20T09:10:44.562Z"
   },
   {
    "duration": 33,
    "start_time": "2022-01-20T09:10:44.582Z"
   },
   {
    "duration": 19,
    "start_time": "2022-01-20T09:10:44.616Z"
   },
   {
    "duration": 43,
    "start_time": "2022-01-20T09:10:44.637Z"
   },
   {
    "duration": 39,
    "start_time": "2022-01-20T09:10:44.682Z"
   },
   {
    "duration": 41,
    "start_time": "2022-01-20T09:10:44.722Z"
   },
   {
    "duration": 6,
    "start_time": "2022-01-20T09:10:44.765Z"
   },
   {
    "duration": 16,
    "start_time": "2022-01-20T09:10:47.714Z"
   },
   {
    "duration": 6,
    "start_time": "2022-01-20T09:12:31.388Z"
   },
   {
    "duration": 5,
    "start_time": "2022-01-20T09:12:49.075Z"
   },
   {
    "duration": 6,
    "start_time": "2022-01-20T09:12:50.924Z"
   },
   {
    "duration": 6552,
    "start_time": "2022-01-20T09:19:39.443Z"
   },
   {
    "duration": 485,
    "start_time": "2022-01-20T09:19:49.507Z"
   },
   {
    "duration": 70,
    "start_time": "2022-01-20T09:19:49.995Z"
   },
   {
    "duration": 175,
    "start_time": "2022-01-20T09:19:50.068Z"
   },
   {
    "duration": 4,
    "start_time": "2022-01-20T09:19:50.261Z"
   },
   {
    "duration": 76,
    "start_time": "2022-01-20T09:19:50.267Z"
   },
   {
    "duration": 69,
    "start_time": "2022-01-20T09:19:50.345Z"
   },
   {
    "duration": 24,
    "start_time": "2022-01-20T09:19:50.416Z"
   },
   {
    "duration": 43,
    "start_time": "2022-01-20T09:19:50.443Z"
   },
   {
    "duration": 86,
    "start_time": "2022-01-20T09:19:50.488Z"
   },
   {
    "duration": 3,
    "start_time": "2022-01-20T09:19:50.577Z"
   },
   {
    "duration": 49,
    "start_time": "2022-01-20T09:19:50.582Z"
   },
   {
    "duration": 29,
    "start_time": "2022-01-20T09:19:50.633Z"
   },
   {
    "duration": 57,
    "start_time": "2022-01-20T09:19:50.664Z"
   },
   {
    "duration": 18,
    "start_time": "2022-01-20T09:19:50.723Z"
   },
   {
    "duration": 42,
    "start_time": "2022-01-20T09:19:50.743Z"
   },
   {
    "duration": 62,
    "start_time": "2022-01-20T09:19:50.787Z"
   },
   {
    "duration": 24,
    "start_time": "2022-01-20T09:19:50.851Z"
   },
   {
    "duration": 24,
    "start_time": "2022-01-20T09:19:50.877Z"
   },
   {
    "duration": 52,
    "start_time": "2022-01-20T09:19:50.902Z"
   },
   {
    "duration": 21,
    "start_time": "2022-01-20T09:19:50.956Z"
   },
   {
    "duration": 34,
    "start_time": "2022-01-20T09:19:50.979Z"
   },
   {
    "duration": 25,
    "start_time": "2022-01-20T09:19:51.015Z"
   },
   {
    "duration": 50,
    "start_time": "2022-01-20T09:19:51.044Z"
   },
   {
    "duration": 30,
    "start_time": "2022-01-20T09:19:51.096Z"
   },
   {
    "duration": 6,
    "start_time": "2022-01-20T09:19:54.799Z"
   },
   {
    "duration": 7,
    "start_time": "2022-01-20T09:20:18.743Z"
   },
   {
    "duration": 7,
    "start_time": "2022-01-20T09:20:23.307Z"
   },
   {
    "duration": 15,
    "start_time": "2022-01-20T09:20:23.883Z"
   },
   {
    "duration": 21,
    "start_time": "2022-01-20T09:20:31.415Z"
   },
   {
    "duration": 11,
    "start_time": "2022-01-20T09:21:41.139Z"
   },
   {
    "duration": 10,
    "start_time": "2022-01-20T09:21:44.399Z"
   },
   {
    "duration": 522,
    "start_time": "2022-01-20T09:22:11.655Z"
   },
   {
    "duration": 48,
    "start_time": "2022-01-20T09:22:12.179Z"
   },
   {
    "duration": 210,
    "start_time": "2022-01-20T09:22:12.229Z"
   },
   {
    "duration": 4,
    "start_time": "2022-01-20T09:22:12.442Z"
   },
   {
    "duration": 110,
    "start_time": "2022-01-20T09:22:12.447Z"
   },
   {
    "duration": 68,
    "start_time": "2022-01-20T09:22:12.559Z"
   },
   {
    "duration": 23,
    "start_time": "2022-01-20T09:22:12.629Z"
   },
   {
    "duration": 43,
    "start_time": "2022-01-20T09:22:12.661Z"
   },
   {
    "duration": 87,
    "start_time": "2022-01-20T09:22:12.706Z"
   },
   {
    "duration": 2,
    "start_time": "2022-01-20T09:22:12.795Z"
   },
   {
    "duration": 42,
    "start_time": "2022-01-20T09:22:12.799Z"
   },
   {
    "duration": 28,
    "start_time": "2022-01-20T09:22:12.844Z"
   },
   {
    "duration": 44,
    "start_time": "2022-01-20T09:22:12.875Z"
   },
   {
    "duration": 20,
    "start_time": "2022-01-20T09:22:12.922Z"
   },
   {
    "duration": 29,
    "start_time": "2022-01-20T09:22:12.962Z"
   },
   {
    "duration": 76,
    "start_time": "2022-01-20T09:22:12.993Z"
   },
   {
    "duration": 31,
    "start_time": "2022-01-20T09:22:13.072Z"
   },
   {
    "duration": 20,
    "start_time": "2022-01-20T09:22:13.105Z"
   },
   {
    "duration": 44,
    "start_time": "2022-01-20T09:22:13.128Z"
   },
   {
    "duration": 27,
    "start_time": "2022-01-20T09:22:13.174Z"
   },
   {
    "duration": 68,
    "start_time": "2022-01-20T09:22:13.202Z"
   },
   {
    "duration": 47,
    "start_time": "2022-01-20T09:22:13.272Z"
   },
   {
    "duration": 71,
    "start_time": "2022-01-20T09:22:13.323Z"
   },
   {
    "duration": 48,
    "start_time": "2022-01-20T09:22:13.396Z"
   },
   {
    "duration": 59,
    "start_time": "2022-01-20T09:22:13.446Z"
   },
   {
    "duration": 68,
    "start_time": "2022-01-20T09:22:13.507Z"
   },
   {
    "duration": 52,
    "start_time": "2022-01-20T09:22:13.577Z"
   },
   {
    "duration": 46,
    "start_time": "2022-01-20T09:22:13.631Z"
   },
   {
    "duration": 87,
    "start_time": "2022-01-20T09:22:13.678Z"
   },
   {
    "duration": 81,
    "start_time": "2022-01-20T09:22:13.767Z"
   },
   {
    "duration": 15,
    "start_time": "2022-01-20T09:22:13.849Z"
   },
   {
    "duration": 57,
    "start_time": "2022-01-20T09:22:13.866Z"
   },
   {
    "duration": 278,
    "start_time": "2022-01-20T09:22:13.925Z"
   },
   {
    "duration": 7,
    "start_time": "2022-01-20T09:22:14.205Z"
   },
   {
    "duration": 229,
    "start_time": "2022-01-20T09:22:14.214Z"
   },
   {
    "duration": 189,
    "start_time": "2022-01-20T09:22:14.445Z"
   },
   {
    "duration": 240,
    "start_time": "2022-01-20T09:22:14.636Z"
   },
   {
    "duration": 8,
    "start_time": "2022-01-20T09:22:14.877Z"
   },
   {
    "duration": 224,
    "start_time": "2022-01-20T09:22:14.887Z"
   },
   {
    "duration": 241,
    "start_time": "2022-01-20T09:22:15.113Z"
   },
   {
    "duration": 9,
    "start_time": "2022-01-20T09:22:15.355Z"
   },
   {
    "duration": 251,
    "start_time": "2022-01-20T09:22:15.365Z"
   },
   {
    "duration": 7,
    "start_time": "2022-01-20T09:22:15.618Z"
   },
   {
    "duration": 36,
    "start_time": "2022-01-20T09:22:15.627Z"
   },
   {
    "duration": 5,
    "start_time": "2022-01-20T09:22:15.665Z"
   },
   {
    "duration": 15,
    "start_time": "2022-01-20T09:22:15.671Z"
   },
   {
    "duration": 14,
    "start_time": "2022-01-20T09:22:15.689Z"
   },
   {
    "duration": 17,
    "start_time": "2022-01-20T09:22:15.704Z"
   },
   {
    "duration": 6,
    "start_time": "2022-01-20T09:22:15.722Z"
   },
   {
    "duration": 18,
    "start_time": "2022-01-20T09:22:15.730Z"
   },
   {
    "duration": 251,
    "start_time": "2022-01-20T09:22:57.264Z"
   },
   {
    "duration": 203,
    "start_time": "2022-01-20T09:23:07.603Z"
   },
   {
    "duration": 265,
    "start_time": "2022-01-20T09:23:17.508Z"
   },
   {
    "duration": 191,
    "start_time": "2022-01-20T09:23:24.724Z"
   },
   {
    "duration": 329,
    "start_time": "2022-01-20T09:24:48.000Z"
   },
   {
    "duration": 265,
    "start_time": "2022-01-20T09:24:53.552Z"
   },
   {
    "duration": 192,
    "start_time": "2022-01-20T09:25:02.260Z"
   },
   {
    "duration": 366,
    "start_time": "2022-01-20T09:25:36.276Z"
   },
   {
    "duration": 196,
    "start_time": "2022-01-20T09:25:47.476Z"
   },
   {
    "duration": 239,
    "start_time": "2022-01-20T09:25:58.105Z"
   },
   {
    "duration": 232,
    "start_time": "2022-01-20T09:26:16.017Z"
   },
   {
    "duration": 245,
    "start_time": "2022-01-20T09:26:38.713Z"
   },
   {
    "duration": 252,
    "start_time": "2022-01-20T09:27:04.072Z"
   },
   {
    "duration": 231,
    "start_time": "2022-01-20T09:27:21.581Z"
   },
   {
    "duration": 255,
    "start_time": "2022-01-20T09:28:00.709Z"
   },
   {
    "duration": 260,
    "start_time": "2022-01-20T09:28:07.441Z"
   },
   {
    "duration": 186,
    "start_time": "2022-01-20T09:28:13.417Z"
   },
   {
    "duration": 211,
    "start_time": "2022-01-20T09:28:24.693Z"
   },
   {
    "duration": 256,
    "start_time": "2022-01-20T09:28:57.197Z"
   },
   {
    "duration": 265,
    "start_time": "2022-01-20T09:29:29.557Z"
   },
   {
    "duration": 486,
    "start_time": "2022-01-20T10:14:35.236Z"
   },
   {
    "duration": 47,
    "start_time": "2022-01-20T10:14:38.064Z"
   },
   {
    "duration": 161,
    "start_time": "2022-01-20T10:14:40.336Z"
   },
   {
    "duration": 4,
    "start_time": "2022-01-20T10:16:42.213Z"
   },
   {
    "duration": 683,
    "start_time": "2022-01-20T10:16:43.852Z"
   },
   {
    "duration": 336,
    "start_time": "2022-01-20T10:17:03.591Z"
   },
   {
    "duration": 56,
    "start_time": "2022-01-20T10:18:14.045Z"
   },
   {
    "duration": 73,
    "start_time": "2022-01-20T10:18:20.753Z"
   },
   {
    "duration": 22,
    "start_time": "2022-01-20T10:18:24.061Z"
   },
   {
    "duration": 25,
    "start_time": "2022-01-20T10:18:25.293Z"
   },
   {
    "duration": 75,
    "start_time": "2022-01-20T10:18:26.917Z"
   },
   {
    "duration": 3,
    "start_time": "2022-01-20T10:18:29.707Z"
   },
   {
    "duration": 15,
    "start_time": "2022-01-20T10:18:31.121Z"
   },
   {
    "duration": 19,
    "start_time": "2022-01-20T10:18:32.045Z"
   },
   {
    "duration": 33,
    "start_time": "2022-01-20T10:18:35.841Z"
   },
   {
    "duration": 18,
    "start_time": "2022-01-20T10:18:38.321Z"
   },
   {
    "duration": 26,
    "start_time": "2022-01-20T10:18:39.325Z"
   },
   {
    "duration": 39,
    "start_time": "2022-01-20T10:18:42.565Z"
   },
   {
    "duration": 25,
    "start_time": "2022-01-20T10:18:46.569Z"
   },
   {
    "duration": 7,
    "start_time": "2022-01-20T10:19:04.581Z"
   },
   {
    "duration": 15,
    "start_time": "2022-01-20T10:19:09.361Z"
   },
   {
    "duration": 5,
    "start_time": "2022-01-20T10:19:18.672Z"
   },
   {
    "duration": 9,
    "start_time": "2022-01-20T10:19:22.781Z"
   },
   {
    "duration": 5,
    "start_time": "2022-01-20T10:19:26.217Z"
   },
   {
    "duration": 7,
    "start_time": "2022-01-20T10:20:00.162Z"
   },
   {
    "duration": 18,
    "start_time": "2022-01-20T10:20:05.497Z"
   },
   {
    "duration": 7,
    "start_time": "2022-01-20T10:20:42.134Z"
   },
   {
    "duration": 6,
    "start_time": "2022-01-20T10:20:43.033Z"
   },
   {
    "duration": 7,
    "start_time": "2022-01-20T10:20:48.742Z"
   },
   {
    "duration": 7,
    "start_time": "2022-01-20T10:20:49.854Z"
   },
   {
    "duration": 13,
    "start_time": "2022-01-20T10:20:52.006Z"
   },
   {
    "duration": 26,
    "start_time": "2022-01-20T10:20:54.726Z"
   },
   {
    "duration": 53,
    "start_time": "2022-01-20T10:21:55.172Z"
   },
   {
    "duration": 11,
    "start_time": "2022-01-20T10:21:58.086Z"
   },
   {
    "duration": 12,
    "start_time": "2022-01-20T10:22:20.626Z"
   },
   {
    "duration": 273,
    "start_time": "2022-01-20T10:22:23.850Z"
   },
   {
    "duration": 7,
    "start_time": "2022-01-20T10:22:26.730Z"
   },
   {
    "duration": 243,
    "start_time": "2022-01-20T10:22:29.940Z"
   },
   {
    "duration": 417,
    "start_time": "2022-01-20T10:22:44.382Z"
   },
   {
    "duration": 288,
    "start_time": "2022-01-20T10:22:46.849Z"
   },
   {
    "duration": 7,
    "start_time": "2022-01-20T10:22:48.931Z"
   },
   {
    "duration": 191,
    "start_time": "2022-01-20T10:22:53.538Z"
   },
   {
    "duration": 214,
    "start_time": "2022-01-20T10:23:08.851Z"
   },
   {
    "duration": 411,
    "start_time": "2022-01-20T10:24:08.051Z"
   },
   {
    "duration": 464,
    "start_time": "2022-01-20T10:24:38.399Z"
   },
   {
    "duration": 1422,
    "start_time": "2022-01-20T10:26:29.491Z"
   },
   {
    "duration": 315,
    "start_time": "2022-01-20T10:26:40.960Z"
   },
   {
    "duration": 292,
    "start_time": "2022-01-20T10:26:55.208Z"
   },
   {
    "duration": 163,
    "start_time": "2022-01-20T10:27:08.184Z"
   },
   {
    "duration": 282,
    "start_time": "2022-01-20T10:28:05.033Z"
   },
   {
    "duration": 248,
    "start_time": "2022-01-20T10:28:15.904Z"
   },
   {
    "duration": 262,
    "start_time": "2022-01-20T10:29:00.716Z"
   },
   {
    "duration": 266,
    "start_time": "2022-01-20T10:29:04.716Z"
   },
   {
    "duration": 160,
    "start_time": "2022-01-20T10:29:14.189Z"
   },
   {
    "duration": 276,
    "start_time": "2022-01-20T10:31:12.081Z"
   },
   {
    "duration": 2467,
    "start_time": "2022-01-20T10:34:26.906Z"
   },
   {
    "duration": 1157,
    "start_time": "2022-01-20T10:34:47.166Z"
   },
   {
    "duration": 1155,
    "start_time": "2022-01-20T10:35:55.129Z"
   },
   {
    "duration": 971,
    "start_time": "2022-01-20T10:36:03.567Z"
   },
   {
    "duration": 417,
    "start_time": "2022-01-20T10:38:20.156Z"
   },
   {
    "duration": 258,
    "start_time": "2022-01-20T10:38:33.560Z"
   },
   {
    "duration": 1167,
    "start_time": "2022-01-20T10:38:37.955Z"
   },
   {
    "duration": 7028,
    "start_time": "2022-01-20T10:40:43.419Z"
   },
   {
    "duration": 7060,
    "start_time": "2022-01-20T10:41:13.535Z"
   },
   {
    "duration": 1089,
    "start_time": "2022-01-20T10:41:23.444Z"
   },
   {
    "duration": 6651,
    "start_time": "2022-01-20T10:42:11.577Z"
   },
   {
    "duration": 1910,
    "start_time": "2022-01-20T10:42:24.597Z"
   },
   {
    "duration": 2099,
    "start_time": "2022-01-20T10:42:34.337Z"
   },
   {
    "duration": 254,
    "start_time": "2022-01-20T10:43:47.541Z"
   },
   {
    "duration": 265,
    "start_time": "2022-01-20T10:45:03.029Z"
   },
   {
    "duration": 310,
    "start_time": "2022-01-20T10:45:12.678Z"
   },
   {
    "duration": 275,
    "start_time": "2022-01-20T10:45:22.002Z"
   },
   {
    "duration": 349,
    "start_time": "2022-01-20T10:45:37.718Z"
   },
   {
    "duration": 340,
    "start_time": "2022-01-20T10:45:51.990Z"
   },
   {
    "duration": 202,
    "start_time": "2022-01-20T10:46:08.970Z"
   },
   {
    "duration": 196,
    "start_time": "2022-01-20T10:46:19.350Z"
   },
   {
    "duration": 195,
    "start_time": "2022-01-20T10:46:38.042Z"
   },
   {
    "duration": 199,
    "start_time": "2022-01-20T10:46:50.346Z"
   },
   {
    "duration": 204,
    "start_time": "2022-01-20T10:47:03.974Z"
   },
   {
    "duration": 222,
    "start_time": "2022-01-20T10:47:36.263Z"
   },
   {
    "duration": 216,
    "start_time": "2022-01-20T10:48:08.858Z"
   },
   {
    "duration": 202,
    "start_time": "2022-01-20T10:48:31.799Z"
   },
   {
    "duration": 187,
    "start_time": "2022-01-20T10:54:03.792Z"
   },
   {
    "duration": 172,
    "start_time": "2022-01-20T10:54:13.264Z"
   },
   {
    "duration": 185,
    "start_time": "2022-01-20T10:54:28.265Z"
   },
   {
    "duration": 189,
    "start_time": "2022-01-20T10:54:43.589Z"
   },
   {
    "duration": 182,
    "start_time": "2022-01-20T10:55:04.913Z"
   },
   {
    "duration": 181,
    "start_time": "2022-01-20T11:11:02.702Z"
   },
   {
    "duration": 156,
    "start_time": "2022-01-20T11:11:12.029Z"
   },
   {
    "duration": 188,
    "start_time": "2022-01-20T11:11:16.265Z"
   },
   {
    "duration": 176,
    "start_time": "2022-01-20T11:12:54.100Z"
   },
   {
    "duration": 175,
    "start_time": "2022-01-20T11:13:00.410Z"
   },
   {
    "duration": 190,
    "start_time": "2022-01-20T11:13:03.890Z"
   },
   {
    "duration": 78,
    "start_time": "2022-01-20T11:14:41.295Z"
   },
   {
    "duration": 131,
    "start_time": "2022-01-20T11:23:30.149Z"
   },
   {
    "duration": 7,
    "start_time": "2022-01-20T11:23:44.445Z"
   },
   {
    "duration": 4,
    "start_time": "2022-01-20T11:24:23.642Z"
   },
   {
    "duration": 94,
    "start_time": "2022-01-20T11:25:35.018Z"
   },
   {
    "duration": 9,
    "start_time": "2022-01-20T11:25:44.234Z"
   },
   {
    "duration": 10,
    "start_time": "2022-01-20T11:25:45.319Z"
   },
   {
    "duration": 6,
    "start_time": "2022-01-20T11:25:48.326Z"
   },
   {
    "duration": 5,
    "start_time": "2022-01-20T11:25:57.542Z"
   },
   {
    "duration": 20,
    "start_time": "2022-01-20T11:28:01.527Z"
   },
   {
    "duration": 107,
    "start_time": "2022-01-20T11:34:36.865Z"
   },
   {
    "duration": 86,
    "start_time": "2022-01-20T11:41:11.344Z"
   },
   {
    "duration": 532,
    "start_time": "2022-01-20T11:46:26.782Z"
   },
   {
    "duration": 63,
    "start_time": "2022-01-20T11:46:27.316Z"
   },
   {
    "duration": 186,
    "start_time": "2022-01-20T11:46:27.381Z"
   },
   {
    "duration": 4,
    "start_time": "2022-01-20T11:46:27.569Z"
   },
   {
    "duration": 107,
    "start_time": "2022-01-20T11:46:27.574Z"
   },
   {
    "duration": 67,
    "start_time": "2022-01-20T11:46:27.682Z"
   },
   {
    "duration": 23,
    "start_time": "2022-01-20T11:46:27.751Z"
   },
   {
    "duration": 48,
    "start_time": "2022-01-20T11:46:27.776Z"
   },
   {
    "duration": 74,
    "start_time": "2022-01-20T11:46:27.827Z"
   },
   {
    "duration": 3,
    "start_time": "2022-01-20T11:46:27.903Z"
   },
   {
    "duration": 52,
    "start_time": "2022-01-20T11:46:27.908Z"
   },
   {
    "duration": 33,
    "start_time": "2022-01-20T11:46:27.962Z"
   },
   {
    "duration": 74,
    "start_time": "2022-01-20T11:46:27.997Z"
   },
   {
    "duration": 18,
    "start_time": "2022-01-20T11:46:28.073Z"
   },
   {
    "duration": 57,
    "start_time": "2022-01-20T11:46:28.093Z"
   },
   {
    "duration": 67,
    "start_time": "2022-01-20T11:46:28.152Z"
   },
   {
    "duration": 23,
    "start_time": "2022-01-20T11:46:28.221Z"
   },
   {
    "duration": 25,
    "start_time": "2022-01-20T11:46:28.246Z"
   },
   {
    "duration": 37,
    "start_time": "2022-01-20T11:46:28.273Z"
   },
   {
    "duration": 38,
    "start_time": "2022-01-20T11:46:28.312Z"
   },
   {
    "duration": 43,
    "start_time": "2022-01-20T11:46:28.352Z"
   },
   {
    "duration": 48,
    "start_time": "2022-01-20T11:46:28.396Z"
   },
   {
    "duration": 24,
    "start_time": "2022-01-20T11:46:28.447Z"
   },
   {
    "duration": 38,
    "start_time": "2022-01-20T11:46:28.473Z"
   },
   {
    "duration": 51,
    "start_time": "2022-01-20T11:46:28.513Z"
   },
   {
    "duration": 44,
    "start_time": "2022-01-20T11:46:28.566Z"
   },
   {
    "duration": 47,
    "start_time": "2022-01-20T11:46:28.612Z"
   },
   {
    "duration": 37,
    "start_time": "2022-01-20T11:46:28.661Z"
   },
   {
    "duration": 77,
    "start_time": "2022-01-20T11:46:28.700Z"
   },
   {
    "duration": 15,
    "start_time": "2022-01-20T11:46:28.779Z"
   },
   {
    "duration": 28,
    "start_time": "2022-01-20T11:46:28.796Z"
   },
   {
    "duration": 247,
    "start_time": "2022-01-20T11:46:28.826Z"
   },
   {
    "duration": 8,
    "start_time": "2022-01-20T11:46:29.074Z"
   },
   {
    "duration": 197,
    "start_time": "2022-01-20T11:46:29.083Z"
   },
   {
    "duration": 236,
    "start_time": "2022-01-20T11:46:29.282Z"
   },
   {
    "duration": 7,
    "start_time": "2022-01-20T11:46:29.519Z"
   },
   {
    "duration": 215,
    "start_time": "2022-01-20T11:46:29.527Z"
   },
   {
    "duration": 239,
    "start_time": "2022-01-20T11:46:29.743Z"
   },
   {
    "duration": 8,
    "start_time": "2022-01-20T11:46:29.983Z"
   },
   {
    "duration": 216,
    "start_time": "2022-01-20T11:46:29.992Z"
   },
   {
    "duration": 244,
    "start_time": "2022-01-20T11:46:30.210Z"
   },
   {
    "duration": 7,
    "start_time": "2022-01-20T11:46:30.460Z"
   },
   {
    "duration": 229,
    "start_time": "2022-01-20T11:46:30.469Z"
   },
   {
    "duration": 18,
    "start_time": "2022-01-20T11:46:30.700Z"
   },
   {
    "duration": 46,
    "start_time": "2022-01-20T11:46:30.720Z"
   },
   {
    "duration": 36,
    "start_time": "2022-01-20T11:46:30.769Z"
   },
   {
    "duration": 41,
    "start_time": "2022-01-20T11:46:30.807Z"
   },
   {
    "duration": 42,
    "start_time": "2022-01-20T11:46:30.850Z"
   },
   {
    "duration": 41,
    "start_time": "2022-01-20T11:46:30.894Z"
   },
   {
    "duration": 82,
    "start_time": "2022-01-20T11:46:30.938Z"
   },
   {
    "duration": 477,
    "start_time": "2022-01-20T11:55:40.356Z"
   },
   {
    "duration": 89,
    "start_time": "2022-01-20T11:55:40.836Z"
   },
   {
    "duration": 197,
    "start_time": "2022-01-20T11:55:40.927Z"
   },
   {
    "duration": 4,
    "start_time": "2022-01-20T11:55:41.126Z"
   },
   {
    "duration": 298,
    "start_time": "2022-01-20T11:55:56.404Z"
   },
   {
    "duration": 94,
    "start_time": "2022-01-20T11:56:25.772Z"
   },
   {
    "duration": 552,
    "start_time": "2022-01-20T12:49:39.678Z"
   },
   {
    "duration": 70,
    "start_time": "2022-01-20T12:49:40.232Z"
   },
   {
    "duration": 186,
    "start_time": "2022-01-20T12:49:40.304Z"
   },
   {
    "duration": 4,
    "start_time": "2022-01-20T12:49:40.492Z"
   },
   {
    "duration": 88,
    "start_time": "2022-01-20T12:49:40.498Z"
   },
   {
    "duration": 78,
    "start_time": "2022-01-20T12:49:40.588Z"
   },
   {
    "duration": 26,
    "start_time": "2022-01-20T12:49:40.668Z"
   },
   {
    "duration": 95,
    "start_time": "2022-01-20T12:49:40.697Z"
   },
   {
    "duration": 107,
    "start_time": "2022-01-20T12:49:40.794Z"
   },
   {
    "duration": 3,
    "start_time": "2022-01-20T12:49:40.904Z"
   },
   {
    "duration": 33,
    "start_time": "2022-01-20T12:49:40.909Z"
   },
   {
    "duration": 21,
    "start_time": "2022-01-20T12:49:40.944Z"
   },
   {
    "duration": 33,
    "start_time": "2022-01-20T12:49:40.967Z"
   },
   {
    "duration": 24,
    "start_time": "2022-01-20T12:49:41.003Z"
   },
   {
    "duration": 48,
    "start_time": "2022-01-20T12:49:41.030Z"
   },
   {
    "duration": 43,
    "start_time": "2022-01-20T12:49:41.080Z"
   },
   {
    "duration": 41,
    "start_time": "2022-01-20T12:49:41.125Z"
   },
   {
    "duration": 6,
    "start_time": "2022-01-20T12:49:41.168Z"
   },
   {
    "duration": 15,
    "start_time": "2022-01-20T12:49:41.175Z"
   },
   {
    "duration": 5,
    "start_time": "2022-01-20T12:49:41.192Z"
   },
   {
    "duration": 14,
    "start_time": "2022-01-20T12:49:41.198Z"
   },
   {
    "duration": 20,
    "start_time": "2022-01-20T12:49:41.213Z"
   },
   {
    "duration": 8,
    "start_time": "2022-01-20T12:49:41.261Z"
   },
   {
    "duration": 13,
    "start_time": "2022-01-20T12:49:41.271Z"
   },
   {
    "duration": 16,
    "start_time": "2022-01-20T12:49:41.285Z"
   },
   {
    "duration": 12,
    "start_time": "2022-01-20T12:49:41.303Z"
   },
   {
    "duration": 27,
    "start_time": "2022-01-20T12:49:41.317Z"
   },
   {
    "duration": 36,
    "start_time": "2022-01-20T12:49:41.347Z"
   },
   {
    "duration": 54,
    "start_time": "2022-01-20T12:49:41.386Z"
   },
   {
    "duration": 25,
    "start_time": "2022-01-20T12:49:41.442Z"
   },
   {
    "duration": 12,
    "start_time": "2022-01-20T12:49:41.469Z"
   },
   {
    "duration": 324,
    "start_time": "2022-01-20T12:49:41.483Z"
   },
   {
    "duration": 8,
    "start_time": "2022-01-20T12:49:41.809Z"
   },
   {
    "duration": 199,
    "start_time": "2022-01-20T12:49:41.819Z"
   },
   {
    "duration": 280,
    "start_time": "2022-01-20T12:49:42.020Z"
   },
   {
    "duration": 23,
    "start_time": "2022-01-20T12:49:42.303Z"
   },
   {
    "duration": 399,
    "start_time": "2022-01-20T12:49:42.328Z"
   },
   {
    "duration": 338,
    "start_time": "2022-01-20T12:49:42.729Z"
   },
   {
    "duration": 8,
    "start_time": "2022-01-20T12:49:43.069Z"
   },
   {
    "duration": 578,
    "start_time": "2022-01-20T12:49:43.079Z"
   },
   {
    "duration": 256,
    "start_time": "2022-01-20T12:49:43.659Z"
   },
   {
    "duration": 7,
    "start_time": "2022-01-20T12:49:43.917Z"
   },
   {
    "duration": 225,
    "start_time": "2022-01-20T12:49:43.925Z"
   },
   {
    "duration": 24,
    "start_time": "2022-01-20T12:49:44.152Z"
   },
   {
    "duration": 7,
    "start_time": "2022-01-20T12:49:44.178Z"
   },
   {
    "duration": 17,
    "start_time": "2022-01-20T12:49:44.187Z"
   },
   {
    "duration": 15,
    "start_time": "2022-01-20T12:49:44.205Z"
   },
   {
    "duration": 16,
    "start_time": "2022-01-20T12:49:44.221Z"
   },
   {
    "duration": 8,
    "start_time": "2022-01-20T12:49:44.239Z"
   },
   {
    "duration": 13,
    "start_time": "2022-01-20T12:49:44.249Z"
   },
   {
    "duration": 471,
    "start_time": "2022-01-20T12:52:53.959Z"
   },
   {
    "duration": 66,
    "start_time": "2022-01-20T12:52:54.432Z"
   },
   {
    "duration": 197,
    "start_time": "2022-01-20T12:52:54.500Z"
   },
   {
    "duration": 3,
    "start_time": "2022-01-20T12:52:54.699Z"
   },
   {
    "duration": 97,
    "start_time": "2022-01-20T12:52:54.704Z"
   },
   {
    "duration": 74,
    "start_time": "2022-01-20T12:52:54.803Z"
   },
   {
    "duration": 22,
    "start_time": "2022-01-20T12:52:54.879Z"
   },
   {
    "duration": 45,
    "start_time": "2022-01-20T12:52:54.903Z"
   },
   {
    "duration": 79,
    "start_time": "2022-01-20T12:52:54.950Z"
   },
   {
    "duration": 3,
    "start_time": "2022-01-20T12:52:55.030Z"
   },
   {
    "duration": 49,
    "start_time": "2022-01-20T12:52:55.035Z"
   },
   {
    "duration": 38,
    "start_time": "2022-01-20T12:52:55.085Z"
   },
   {
    "duration": 48,
    "start_time": "2022-01-20T12:52:55.125Z"
   },
   {
    "duration": 25,
    "start_time": "2022-01-20T12:52:55.176Z"
   },
   {
    "duration": 50,
    "start_time": "2022-01-20T12:52:55.203Z"
   },
   {
    "duration": 39,
    "start_time": "2022-01-20T12:52:55.254Z"
   },
   {
    "duration": 32,
    "start_time": "2022-01-20T12:52:55.295Z"
   },
   {
    "duration": 7,
    "start_time": "2022-01-20T12:52:55.329Z"
   },
   {
    "duration": 127,
    "start_time": "2022-01-20T12:52:58.534Z"
   },
   {
    "duration": 87,
    "start_time": "2022-01-20T12:53:09.571Z"
   },
   {
    "duration": 16,
    "start_time": "2022-01-20T12:53:18.373Z"
   },
   {
    "duration": 17,
    "start_time": "2022-01-20T12:53:41.051Z"
   },
   {
    "duration": 476,
    "start_time": "2022-01-20T12:53:49.123Z"
   },
   {
    "duration": 62,
    "start_time": "2022-01-20T12:53:49.601Z"
   },
   {
    "duration": 184,
    "start_time": "2022-01-20T12:53:49.666Z"
   },
   {
    "duration": 10,
    "start_time": "2022-01-20T12:53:49.852Z"
   },
   {
    "duration": 73,
    "start_time": "2022-01-20T12:53:49.863Z"
   },
   {
    "duration": 99,
    "start_time": "2022-01-20T12:53:49.938Z"
   },
   {
    "duration": 23,
    "start_time": "2022-01-20T12:53:50.039Z"
   },
   {
    "duration": 70,
    "start_time": "2022-01-20T12:53:50.065Z"
   },
   {
    "duration": 73,
    "start_time": "2022-01-20T12:53:50.137Z"
   },
   {
    "duration": 2,
    "start_time": "2022-01-20T12:53:50.212Z"
   },
   {
    "duration": 56,
    "start_time": "2022-01-20T12:53:50.216Z"
   },
   {
    "duration": 36,
    "start_time": "2022-01-20T12:53:50.273Z"
   },
   {
    "duration": 55,
    "start_time": "2022-01-20T12:53:50.311Z"
   },
   {
    "duration": 25,
    "start_time": "2022-01-20T12:53:50.368Z"
   },
   {
    "duration": 44,
    "start_time": "2022-01-20T12:53:50.395Z"
   },
   {
    "duration": 112,
    "start_time": "2022-01-20T12:53:50.441Z"
   },
   {
    "duration": 33,
    "start_time": "2022-01-20T12:53:50.555Z"
   },
   {
    "duration": 26,
    "start_time": "2022-01-20T12:53:50.590Z"
   },
   {
    "duration": 71,
    "start_time": "2022-01-20T12:53:50.618Z"
   },
   {
    "duration": 45,
    "start_time": "2022-01-20T12:53:50.691Z"
   },
   {
    "duration": 57,
    "start_time": "2022-01-20T12:53:50.738Z"
   },
   {
    "duration": 81,
    "start_time": "2022-01-20T12:53:50.797Z"
   },
   {
    "duration": 66,
    "start_time": "2022-01-20T12:53:50.881Z"
   },
   {
    "duration": 81,
    "start_time": "2022-01-20T12:53:50.949Z"
   },
   {
    "duration": 86,
    "start_time": "2022-01-20T12:53:51.032Z"
   },
   {
    "duration": 62,
    "start_time": "2022-01-20T12:53:51.120Z"
   },
   {
    "duration": 57,
    "start_time": "2022-01-20T12:53:51.184Z"
   },
   {
    "duration": 92,
    "start_time": "2022-01-20T12:53:51.243Z"
   },
   {
    "duration": 92,
    "start_time": "2022-01-20T12:53:51.337Z"
   },
   {
    "duration": 23,
    "start_time": "2022-01-20T12:53:51.431Z"
   },
   {
    "duration": 50,
    "start_time": "2022-01-20T12:53:51.456Z"
   },
   {
    "duration": 297,
    "start_time": "2022-01-20T12:53:51.508Z"
   },
   {
    "duration": 8,
    "start_time": "2022-01-20T12:53:51.808Z"
   },
   {
    "duration": 239,
    "start_time": "2022-01-20T12:53:51.818Z"
   },
   {
    "duration": 235,
    "start_time": "2022-01-20T12:53:52.059Z"
   },
   {
    "duration": 6,
    "start_time": "2022-01-20T12:53:52.295Z"
   },
   {
    "duration": 285,
    "start_time": "2022-01-20T12:53:52.303Z"
   },
   {
    "duration": 233,
    "start_time": "2022-01-20T12:53:52.589Z"
   },
   {
    "duration": 16,
    "start_time": "2022-01-20T12:53:52.824Z"
   },
   {
    "duration": 264,
    "start_time": "2022-01-20T12:53:52.841Z"
   },
   {
    "duration": 249,
    "start_time": "2022-01-20T12:53:53.107Z"
   },
   {
    "duration": 7,
    "start_time": "2022-01-20T12:53:53.360Z"
   },
   {
    "duration": 286,
    "start_time": "2022-01-20T12:53:53.369Z"
   },
   {
    "duration": 18,
    "start_time": "2022-01-20T12:53:53.660Z"
   },
   {
    "duration": 56,
    "start_time": "2022-01-20T12:53:53.680Z"
   },
   {
    "duration": 63,
    "start_time": "2022-01-20T12:53:53.738Z"
   },
   {
    "duration": 84,
    "start_time": "2022-01-20T12:53:53.803Z"
   },
   {
    "duration": 77,
    "start_time": "2022-01-20T12:53:53.889Z"
   },
   {
    "duration": 66,
    "start_time": "2022-01-20T12:53:53.967Z"
   },
   {
    "duration": 96,
    "start_time": "2022-01-20T12:53:54.035Z"
   },
   {
    "duration": 511,
    "start_time": "2022-01-20T12:56:55.908Z"
   },
   {
    "duration": 76,
    "start_time": "2022-01-20T12:56:56.421Z"
   },
   {
    "duration": 185,
    "start_time": "2022-01-20T12:56:56.499Z"
   },
   {
    "duration": 4,
    "start_time": "2022-01-20T12:56:56.687Z"
   },
   {
    "duration": 83,
    "start_time": "2022-01-20T12:56:56.693Z"
   },
   {
    "duration": 112,
    "start_time": "2022-01-20T12:56:56.778Z"
   },
   {
    "duration": 27,
    "start_time": "2022-01-20T12:56:56.892Z"
   },
   {
    "duration": 48,
    "start_time": "2022-01-20T12:56:56.923Z"
   },
   {
    "duration": 117,
    "start_time": "2022-01-20T12:56:56.974Z"
   },
   {
    "duration": 3,
    "start_time": "2022-01-20T12:56:57.093Z"
   },
   {
    "duration": 39,
    "start_time": "2022-01-20T12:56:57.098Z"
   },
   {
    "duration": 17,
    "start_time": "2022-01-20T12:56:57.139Z"
   },
   {
    "duration": 32,
    "start_time": "2022-01-20T12:56:57.157Z"
   },
   {
    "duration": 17,
    "start_time": "2022-01-20T12:56:57.191Z"
   },
   {
    "duration": 23,
    "start_time": "2022-01-20T12:56:57.209Z"
   },
   {
    "duration": 60,
    "start_time": "2022-01-20T12:56:57.233Z"
   },
   {
    "duration": 21,
    "start_time": "2022-01-20T12:56:57.295Z"
   },
   {
    "duration": 6,
    "start_time": "2022-01-20T12:56:57.318Z"
   },
   {
    "duration": 36,
    "start_time": "2022-01-20T12:56:57.326Z"
   },
   {
    "duration": 6,
    "start_time": "2022-01-20T12:56:57.364Z"
   },
   {
    "duration": 29,
    "start_time": "2022-01-20T12:56:57.373Z"
   },
   {
    "duration": 44,
    "start_time": "2022-01-20T12:56:57.404Z"
   },
   {
    "duration": 10,
    "start_time": "2022-01-20T12:56:57.453Z"
   },
   {
    "duration": 21,
    "start_time": "2022-01-20T12:56:57.465Z"
   },
   {
    "duration": 34,
    "start_time": "2022-01-20T12:56:57.488Z"
   },
   {
    "duration": 36,
    "start_time": "2022-01-20T12:56:57.524Z"
   },
   {
    "duration": 43,
    "start_time": "2022-01-20T12:56:57.562Z"
   },
   {
    "duration": 75,
    "start_time": "2022-01-20T12:56:57.606Z"
   },
   {
    "duration": 69,
    "start_time": "2022-01-20T12:56:57.683Z"
   },
   {
    "duration": 10,
    "start_time": "2022-01-20T12:56:57.754Z"
   },
   {
    "duration": 47,
    "start_time": "2022-01-20T12:56:57.766Z"
   },
   {
    "duration": 282,
    "start_time": "2022-01-20T12:56:57.816Z"
   },
   {
    "duration": 6,
    "start_time": "2022-01-20T12:56:58.099Z"
   },
   {
    "duration": 223,
    "start_time": "2022-01-20T12:56:58.107Z"
   },
   {
    "duration": 253,
    "start_time": "2022-01-20T12:56:58.332Z"
   },
   {
    "duration": 6,
    "start_time": "2022-01-20T12:56:58.586Z"
   },
   {
    "duration": 238,
    "start_time": "2022-01-20T12:56:58.594Z"
   },
   {
    "duration": 234,
    "start_time": "2022-01-20T12:56:58.833Z"
   },
   {
    "duration": 6,
    "start_time": "2022-01-20T12:56:59.069Z"
   },
   {
    "duration": 216,
    "start_time": "2022-01-20T12:56:59.077Z"
   },
   {
    "duration": 355,
    "start_time": "2022-01-20T12:56:59.295Z"
   },
   {
    "duration": 14,
    "start_time": "2022-01-20T12:56:59.652Z"
   },
   {
    "duration": 201,
    "start_time": "2022-01-20T12:56:59.668Z"
   },
   {
    "duration": 18,
    "start_time": "2022-01-20T12:56:59.871Z"
   },
   {
    "duration": 26,
    "start_time": "2022-01-20T12:56:59.891Z"
   },
   {
    "duration": 15,
    "start_time": "2022-01-20T12:56:59.919Z"
   },
   {
    "duration": 46,
    "start_time": "2022-01-20T12:56:59.936Z"
   },
   {
    "duration": 40,
    "start_time": "2022-01-20T12:56:59.984Z"
   },
   {
    "duration": 67,
    "start_time": "2022-01-20T12:57:00.026Z"
   },
   {
    "duration": 31,
    "start_time": "2022-01-20T12:57:00.095Z"
   },
   {
    "duration": 1795,
    "start_time": "2022-01-21T08:26:51.905Z"
   },
   {
    "duration": 45,
    "start_time": "2022-01-21T08:26:53.701Z"
   },
   {
    "duration": 242,
    "start_time": "2022-01-21T08:26:53.748Z"
   },
   {
    "duration": 6,
    "start_time": "2022-01-21T08:26:53.993Z"
   },
   {
    "duration": 74,
    "start_time": "2022-01-21T08:26:54.000Z"
   },
   {
    "duration": 80,
    "start_time": "2022-01-21T08:26:54.076Z"
   },
   {
    "duration": 21,
    "start_time": "2022-01-21T08:26:54.158Z"
   },
   {
    "duration": 41,
    "start_time": "2022-01-21T08:26:54.181Z"
   },
   {
    "duration": 95,
    "start_time": "2022-01-21T08:26:54.224Z"
   },
   {
    "duration": 2,
    "start_time": "2022-01-21T08:26:54.321Z"
   },
   {
    "duration": 29,
    "start_time": "2022-01-21T08:26:54.324Z"
   },
   {
    "duration": 18,
    "start_time": "2022-01-21T08:26:54.355Z"
   },
   {
    "duration": 39,
    "start_time": "2022-01-21T08:26:54.375Z"
   },
   {
    "duration": 17,
    "start_time": "2022-01-21T08:26:54.415Z"
   },
   {
    "duration": 22,
    "start_time": "2022-01-21T08:26:54.434Z"
   },
   {
    "duration": 64,
    "start_time": "2022-01-21T08:26:54.457Z"
   },
   {
    "duration": 21,
    "start_time": "2022-01-21T08:26:54.523Z"
   },
   {
    "duration": 6,
    "start_time": "2022-01-21T08:26:54.545Z"
   },
   {
    "duration": 37,
    "start_time": "2022-01-21T08:26:54.552Z"
   },
   {
    "duration": 18,
    "start_time": "2022-01-21T08:26:54.591Z"
   },
   {
    "duration": 10,
    "start_time": "2022-01-21T08:26:54.611Z"
   },
   {
    "duration": 18,
    "start_time": "2022-01-21T08:26:54.622Z"
   },
   {
    "duration": 8,
    "start_time": "2022-01-21T08:26:54.641Z"
   },
   {
    "duration": 7,
    "start_time": "2022-01-21T08:26:54.650Z"
   },
   {
    "duration": 11,
    "start_time": "2022-01-21T08:26:54.658Z"
   },
   {
    "duration": 8,
    "start_time": "2022-01-21T08:26:54.670Z"
   },
   {
    "duration": 21,
    "start_time": "2022-01-21T08:26:54.681Z"
   },
   {
    "duration": 21,
    "start_time": "2022-01-21T08:26:54.704Z"
   },
   {
    "duration": 73,
    "start_time": "2022-01-21T08:26:54.726Z"
   },
   {
    "duration": 10,
    "start_time": "2022-01-21T08:26:54.801Z"
   },
   {
    "duration": 14,
    "start_time": "2022-01-21T08:26:54.812Z"
   },
   {
    "duration": 269,
    "start_time": "2022-01-21T08:26:54.828Z"
   },
   {
    "duration": 7,
    "start_time": "2022-01-21T08:26:55.098Z"
   },
   {
    "duration": 446,
    "start_time": "2022-01-21T08:26:55.107Z"
   },
   {
    "duration": -4555,
    "start_time": "2022-01-21T08:27:00.110Z"
   },
   {
    "duration": -4554,
    "start_time": "2022-01-21T08:27:00.111Z"
   },
   {
    "duration": -4556,
    "start_time": "2022-01-21T08:27:00.114Z"
   },
   {
    "duration": -4557,
    "start_time": "2022-01-21T08:27:00.116Z"
   },
   {
    "duration": -4557,
    "start_time": "2022-01-21T08:27:00.117Z"
   },
   {
    "duration": -4558,
    "start_time": "2022-01-21T08:27:00.119Z"
   },
   {
    "duration": -4558,
    "start_time": "2022-01-21T08:27:00.120Z"
   },
   {
    "duration": -4558,
    "start_time": "2022-01-21T08:27:00.121Z"
   },
   {
    "duration": -4559,
    "start_time": "2022-01-21T08:27:00.123Z"
   },
   {
    "duration": -4565,
    "start_time": "2022-01-21T08:27:00.130Z"
   },
   {
    "duration": -4565,
    "start_time": "2022-01-21T08:27:00.131Z"
   },
   {
    "duration": -4584,
    "start_time": "2022-01-21T08:27:00.150Z"
   },
   {
    "duration": -4585,
    "start_time": "2022-01-21T08:27:00.152Z"
   },
   {
    "duration": -4586,
    "start_time": "2022-01-21T08:27:00.154Z"
   },
   {
    "duration": -4591,
    "start_time": "2022-01-21T08:27:00.160Z"
   },
   {
    "duration": -4591,
    "start_time": "2022-01-21T08:27:00.161Z"
   },
   {
    "duration": 5,
    "start_time": "2022-01-21T08:27:44.332Z"
   },
   {
    "duration": 7,
    "start_time": "2022-01-21T08:28:04.784Z"
   },
   {
    "duration": 2123,
    "start_time": "2022-01-21T08:57:56.748Z"
   },
   {
    "duration": 59,
    "start_time": "2022-01-21T08:57:58.874Z"
   },
   {
    "duration": 315,
    "start_time": "2022-01-21T08:57:58.936Z"
   },
   {
    "duration": 16,
    "start_time": "2022-01-21T08:57:59.253Z"
   },
   {
    "duration": 103,
    "start_time": "2022-01-21T08:57:59.271Z"
   },
   {
    "duration": 107,
    "start_time": "2022-01-21T08:57:59.376Z"
   },
   {
    "duration": 32,
    "start_time": "2022-01-21T08:57:59.486Z"
   },
   {
    "duration": 69,
    "start_time": "2022-01-21T08:57:59.523Z"
   },
   {
    "duration": 125,
    "start_time": "2022-01-21T08:57:59.595Z"
   },
   {
    "duration": 5,
    "start_time": "2022-01-21T08:57:59.723Z"
   },
   {
    "duration": 44,
    "start_time": "2022-01-21T08:57:59.731Z"
   },
   {
    "duration": 29,
    "start_time": "2022-01-21T08:57:59.777Z"
   },
   {
    "duration": 65,
    "start_time": "2022-01-21T08:57:59.809Z"
   },
   {
    "duration": 24,
    "start_time": "2022-01-21T08:57:59.876Z"
   },
   {
    "duration": 30,
    "start_time": "2022-01-21T08:57:59.902Z"
   },
   {
    "duration": 86,
    "start_time": "2022-01-21T08:57:59.935Z"
   },
   {
    "duration": 52,
    "start_time": "2022-01-21T08:58:00.023Z"
   },
   {
    "duration": 11,
    "start_time": "2022-01-21T08:58:00.077Z"
   },
   {
    "duration": 23,
    "start_time": "2022-01-21T08:58:00.091Z"
   },
   {
    "duration": 6,
    "start_time": "2022-01-21T08:58:00.116Z"
   },
   {
    "duration": 49,
    "start_time": "2022-01-21T08:58:00.125Z"
   },
   {
    "duration": 26,
    "start_time": "2022-01-21T08:58:00.176Z"
   },
   {
    "duration": 13,
    "start_time": "2022-01-21T08:58:00.206Z"
   },
   {
    "duration": 15,
    "start_time": "2022-01-21T08:58:00.222Z"
   },
   {
    "duration": 37,
    "start_time": "2022-01-21T08:58:00.239Z"
   },
   {
    "duration": 50,
    "start_time": "2022-01-21T08:58:00.278Z"
   },
   {
    "duration": 44,
    "start_time": "2022-01-21T08:58:00.330Z"
   },
   {
    "duration": 33,
    "start_time": "2022-01-21T08:58:00.376Z"
   },
   {
    "duration": 98,
    "start_time": "2022-01-21T08:58:00.411Z"
   },
   {
    "duration": 16,
    "start_time": "2022-01-21T08:58:00.512Z"
   },
   {
    "duration": 36,
    "start_time": "2022-01-21T08:58:00.530Z"
   },
   {
    "duration": 435,
    "start_time": "2022-01-21T08:58:00.570Z"
   },
   {
    "duration": 10,
    "start_time": "2022-01-21T08:58:01.007Z"
   },
   {
    "duration": 789,
    "start_time": "2022-01-21T08:59:31.017Z"
   },
   {
    "duration": 656,
    "start_time": "2022-01-21T09:00:06.614Z"
   },
   {
    "duration": 676,
    "start_time": "2022-01-21T09:00:24.341Z"
   },
   {
    "duration": 92,
    "start_time": "2022-01-21T09:00:25.021Z"
   },
   {
    "duration": 291,
    "start_time": "2022-01-21T09:00:25.117Z"
   },
   {
    "duration": 5,
    "start_time": "2022-01-21T09:00:25.412Z"
   },
   {
    "duration": 109,
    "start_time": "2022-01-21T09:00:25.419Z"
   },
   {
    "duration": 108,
    "start_time": "2022-01-21T09:00:25.531Z"
   },
   {
    "duration": 36,
    "start_time": "2022-01-21T09:00:25.641Z"
   },
   {
    "duration": 43,
    "start_time": "2022-01-21T09:00:25.681Z"
   },
   {
    "duration": 143,
    "start_time": "2022-01-21T09:00:25.727Z"
   },
   {
    "duration": 4,
    "start_time": "2022-01-21T09:00:25.873Z"
   },
   {
    "duration": 25,
    "start_time": "2022-01-21T09:00:25.879Z"
   },
   {
    "duration": 27,
    "start_time": "2022-01-21T09:00:25.906Z"
   },
   {
    "duration": 78,
    "start_time": "2022-01-21T09:00:25.935Z"
   },
   {
    "duration": 25,
    "start_time": "2022-01-21T09:00:26.015Z"
   },
   {
    "duration": 49,
    "start_time": "2022-01-21T09:00:26.042Z"
   },
   {
    "duration": 84,
    "start_time": "2022-01-21T09:00:26.094Z"
   },
   {
    "duration": 35,
    "start_time": "2022-01-21T09:00:26.181Z"
   },
   {
    "duration": 11,
    "start_time": "2022-01-21T09:00:26.219Z"
   },
   {
    "duration": 54,
    "start_time": "2022-01-21T09:00:26.233Z"
   },
   {
    "duration": 8,
    "start_time": "2022-01-21T09:00:26.289Z"
   },
   {
    "duration": 13,
    "start_time": "2022-01-21T09:00:26.300Z"
   },
   {
    "duration": 54,
    "start_time": "2022-01-21T09:00:26.316Z"
   },
   {
    "duration": 9,
    "start_time": "2022-01-21T09:00:26.375Z"
   },
   {
    "duration": 19,
    "start_time": "2022-01-21T09:00:26.386Z"
   },
   {
    "duration": 11,
    "start_time": "2022-01-21T09:00:26.407Z"
   },
   {
    "duration": 17,
    "start_time": "2022-01-21T09:00:26.420Z"
   },
   {
    "duration": 39,
    "start_time": "2022-01-21T09:00:26.440Z"
   },
   {
    "duration": 28,
    "start_time": "2022-01-21T09:00:26.482Z"
   },
   {
    "duration": 104,
    "start_time": "2022-01-21T09:00:26.512Z"
   },
   {
    "duration": 14,
    "start_time": "2022-01-21T09:00:26.618Z"
   },
   {
    "duration": 35,
    "start_time": "2022-01-21T09:00:26.634Z"
   },
   {
    "duration": 417,
    "start_time": "2022-01-21T09:00:26.672Z"
   },
   {
    "duration": 12,
    "start_time": "2022-01-21T09:00:27.093Z"
   },
   {
    "duration": 307,
    "start_time": "2022-01-21T09:00:33.531Z"
   },
   {
    "duration": 1084,
    "start_time": "2022-01-21T09:03:29.558Z"
   },
   {
    "duration": 328,
    "start_time": "2022-01-21T09:03:44.991Z"
   },
   {
    "duration": 605,
    "start_time": "2022-01-21T09:03:52.818Z"
   },
   {
    "duration": 948,
    "start_time": "2022-01-21T09:04:06.490Z"
   },
   {
    "duration": 301,
    "start_time": "2022-01-21T09:08:41.199Z"
   },
   {
    "duration": 396,
    "start_time": "2022-01-21T09:08:49.868Z"
   },
   {
    "duration": 365,
    "start_time": "2022-01-21T09:09:17.907Z"
   },
   {
    "duration": 451,
    "start_time": "2022-01-21T09:09:26.104Z"
   },
   {
    "duration": 320,
    "start_time": "2022-01-21T09:09:38.372Z"
   },
   {
    "duration": 430,
    "start_time": "2022-01-21T09:09:47.652Z"
   },
   {
    "duration": 334,
    "start_time": "2022-01-21T09:32:30.346Z"
   },
   {
    "duration": 332,
    "start_time": "2022-01-21T09:36:22.249Z"
   },
   {
    "duration": 376,
    "start_time": "2022-01-21T09:36:41.588Z"
   },
   {
    "duration": 385,
    "start_time": "2022-01-21T09:37:00.169Z"
   },
   {
    "duration": 377,
    "start_time": "2022-01-21T09:37:08.732Z"
   },
   {
    "duration": 355,
    "start_time": "2022-01-21T09:37:29.179Z"
   },
   {
    "duration": 384,
    "start_time": "2022-01-21T09:37:38.253Z"
   },
   {
    "duration": 332,
    "start_time": "2022-01-21T09:37:54.853Z"
   },
   {
    "duration": 455,
    "start_time": "2022-01-21T09:38:08.924Z"
   },
   {
    "duration": 396,
    "start_time": "2022-01-21T09:38:38.325Z"
   },
   {
    "duration": 323,
    "start_time": "2022-01-21T09:38:56.517Z"
   },
   {
    "duration": 764,
    "start_time": "2022-01-21T09:39:21.275Z"
   },
   {
    "duration": 341,
    "start_time": "2022-01-21T09:39:27.823Z"
   },
   {
    "duration": 315,
    "start_time": "2022-01-21T09:39:41.613Z"
   },
   {
    "duration": 309,
    "start_time": "2022-01-21T09:40:22.989Z"
   },
   {
    "duration": 586,
    "start_time": "2022-01-21T09:40:35.129Z"
   },
   {
    "duration": 267,
    "start_time": "2022-01-21T09:40:41.793Z"
   },
   {
    "duration": 366,
    "start_time": "2022-01-21T09:41:09.382Z"
   },
   {
    "duration": 352,
    "start_time": "2022-01-21T09:45:49.433Z"
   },
   {
    "duration": 300,
    "start_time": "2022-01-21T09:46:39.701Z"
   },
   {
    "duration": 302,
    "start_time": "2022-01-21T09:46:58.724Z"
   },
   {
    "duration": 410,
    "start_time": "2022-01-21T09:47:04.078Z"
   },
   {
    "duration": 534,
    "start_time": "2022-01-21T09:47:16.434Z"
   },
   {
    "duration": 31,
    "start_time": "2022-01-21T09:47:56.868Z"
   },
   {
    "duration": 627,
    "start_time": "2022-01-21T09:49:12.789Z"
   },
   {
    "duration": 82,
    "start_time": "2022-01-21T09:49:13.419Z"
   },
   {
    "duration": 285,
    "start_time": "2022-01-21T09:49:13.504Z"
   },
   {
    "duration": 5,
    "start_time": "2022-01-21T09:49:13.792Z"
   },
   {
    "duration": 106,
    "start_time": "2022-01-21T09:49:13.799Z"
   },
   {
    "duration": 108,
    "start_time": "2022-01-21T09:49:13.907Z"
   },
   {
    "duration": 31,
    "start_time": "2022-01-21T09:49:14.017Z"
   },
   {
    "duration": 46,
    "start_time": "2022-01-21T09:49:14.051Z"
   },
   {
    "duration": 126,
    "start_time": "2022-01-21T09:49:14.100Z"
   },
   {
    "duration": 3,
    "start_time": "2022-01-21T09:49:14.229Z"
   },
   {
    "duration": 40,
    "start_time": "2022-01-21T09:49:14.235Z"
   },
   {
    "duration": 33,
    "start_time": "2022-01-21T09:49:14.278Z"
   },
   {
    "duration": 71,
    "start_time": "2022-01-21T09:49:14.314Z"
   },
   {
    "duration": 24,
    "start_time": "2022-01-21T09:49:14.387Z"
   },
   {
    "duration": 56,
    "start_time": "2022-01-21T09:49:14.413Z"
   },
   {
    "duration": 60,
    "start_time": "2022-01-21T09:49:14.472Z"
   },
   {
    "duration": 61,
    "start_time": "2022-01-21T09:49:14.535Z"
   },
   {
    "duration": 8,
    "start_time": "2022-01-21T09:49:14.598Z"
   },
   {
    "duration": 26,
    "start_time": "2022-01-21T09:49:14.609Z"
   },
   {
    "duration": 33,
    "start_time": "2022-01-21T09:49:14.637Z"
   },
   {
    "duration": 10,
    "start_time": "2022-01-21T09:49:14.673Z"
   },
   {
    "duration": 25,
    "start_time": "2022-01-21T09:49:14.685Z"
   },
   {
    "duration": 12,
    "start_time": "2022-01-21T09:49:14.713Z"
   },
   {
    "duration": 49,
    "start_time": "2022-01-21T09:49:14.728Z"
   },
   {
    "duration": 13,
    "start_time": "2022-01-21T09:49:14.780Z"
   },
   {
    "duration": 12,
    "start_time": "2022-01-21T09:49:14.796Z"
   },
   {
    "duration": 63,
    "start_time": "2022-01-21T09:49:14.815Z"
   },
   {
    "duration": 43,
    "start_time": "2022-01-21T09:49:14.881Z"
   },
   {
    "duration": 155,
    "start_time": "2022-01-21T09:49:14.927Z"
   },
   {
    "duration": 20,
    "start_time": "2022-01-21T09:49:15.085Z"
   },
   {
    "duration": 18,
    "start_time": "2022-01-21T09:49:15.108Z"
   },
   {
    "duration": 829,
    "start_time": "2022-01-21T09:49:15.129Z"
   },
   {
    "duration": 17,
    "start_time": "2022-01-21T09:49:15.961Z"
   },
   {
    "duration": 373,
    "start_time": "2022-01-21T09:49:15.981Z"
   },
   {
    "duration": 33,
    "start_time": "2022-01-21T09:49:25.109Z"
   },
   {
    "duration": 1351,
    "start_time": "2022-01-21T09:51:31.262Z"
   },
   {
    "duration": 321,
    "start_time": "2022-01-21T09:51:45.702Z"
   },
   {
    "duration": 339,
    "start_time": "2022-01-21T09:51:53.358Z"
   },
   {
    "duration": 95,
    "start_time": "2022-01-21T09:52:53.451Z"
   },
   {
    "duration": 314,
    "start_time": "2022-01-21T09:52:57.858Z"
   },
   {
    "duration": 311,
    "start_time": "2022-01-21T09:53:07.522Z"
   },
   {
    "duration": 270,
    "start_time": "2022-01-21T09:53:17.086Z"
   },
   {
    "duration": 734,
    "start_time": "2022-01-21T09:53:29.355Z"
   },
   {
    "duration": 90,
    "start_time": "2022-01-21T09:53:30.093Z"
   },
   {
    "duration": 286,
    "start_time": "2022-01-21T09:53:30.187Z"
   },
   {
    "duration": 6,
    "start_time": "2022-01-21T09:53:30.476Z"
   },
   {
    "duration": 111,
    "start_time": "2022-01-21T09:53:30.485Z"
   },
   {
    "duration": 113,
    "start_time": "2022-01-21T09:53:30.598Z"
   },
   {
    "duration": 33,
    "start_time": "2022-01-21T09:53:30.714Z"
   },
   {
    "duration": 55,
    "start_time": "2022-01-21T09:53:30.752Z"
   },
   {
    "duration": 136,
    "start_time": "2022-01-21T09:53:30.811Z"
   },
   {
    "duration": 4,
    "start_time": "2022-01-21T09:53:30.950Z"
   },
   {
    "duration": 37,
    "start_time": "2022-01-21T09:53:30.956Z"
   },
   {
    "duration": 25,
    "start_time": "2022-01-21T09:53:30.996Z"
   },
   {
    "duration": 70,
    "start_time": "2022-01-21T09:53:31.024Z"
   },
   {
    "duration": 25,
    "start_time": "2022-01-21T09:53:31.096Z"
   },
   {
    "duration": 54,
    "start_time": "2022-01-21T09:53:31.123Z"
   },
   {
    "duration": 62,
    "start_time": "2022-01-21T09:53:31.179Z"
   },
   {
    "duration": 52,
    "start_time": "2022-01-21T09:53:31.243Z"
   },
   {
    "duration": 8,
    "start_time": "2022-01-21T09:53:31.298Z"
   },
   {
    "duration": 29,
    "start_time": "2022-01-21T09:53:31.309Z"
   },
   {
    "duration": 33,
    "start_time": "2022-01-21T09:53:31.341Z"
   },
   {
    "duration": 15,
    "start_time": "2022-01-21T09:53:31.376Z"
   },
   {
    "duration": 28,
    "start_time": "2022-01-21T09:53:31.393Z"
   },
   {
    "duration": 9,
    "start_time": "2022-01-21T09:53:31.427Z"
   },
   {
    "duration": 39,
    "start_time": "2022-01-21T09:53:31.439Z"
   },
   {
    "duration": 21,
    "start_time": "2022-01-21T09:53:31.481Z"
   },
   {
    "duration": 20,
    "start_time": "2022-01-21T09:53:31.505Z"
   },
   {
    "duration": 26,
    "start_time": "2022-01-21T09:53:31.528Z"
   },
   {
    "duration": 39,
    "start_time": "2022-01-21T09:53:31.556Z"
   },
   {
    "duration": 100,
    "start_time": "2022-01-21T09:53:31.597Z"
   },
   {
    "duration": 14,
    "start_time": "2022-01-21T09:53:31.699Z"
   },
   {
    "duration": 15,
    "start_time": "2022-01-21T09:53:31.716Z"
   },
   {
    "duration": 424,
    "start_time": "2022-01-21T09:53:31.734Z"
   },
   {
    "duration": 14,
    "start_time": "2022-01-21T09:53:32.160Z"
   },
   {
    "duration": 347,
    "start_time": "2022-01-21T09:53:32.177Z"
   },
   {
    "duration": 43,
    "start_time": "2022-01-21T09:53:32.527Z"
   },
   {
    "duration": 336,
    "start_time": "2022-01-21T09:53:32.573Z"
   },
   {
    "duration": 492,
    "start_time": "2022-01-21T09:53:32.911Z"
   },
   {
    "duration": 9,
    "start_time": "2022-01-21T09:53:33.406Z"
   },
   {
    "duration": 484,
    "start_time": "2022-01-21T09:53:33.418Z"
   },
   {
    "duration": 447,
    "start_time": "2022-01-21T09:53:33.905Z"
   },
   {
    "duration": 17,
    "start_time": "2022-01-21T09:53:34.354Z"
   },
   {
    "duration": 317,
    "start_time": "2022-01-21T09:53:34.373Z"
   },
   {
    "duration": 396,
    "start_time": "2022-01-21T09:53:34.693Z"
   },
   {
    "duration": 11,
    "start_time": "2022-01-21T09:53:35.092Z"
   },
   {
    "duration": 336,
    "start_time": "2022-01-21T09:53:35.106Z"
   },
   {
    "duration": 43,
    "start_time": "2022-01-21T09:53:35.445Z"
   },
   {
    "duration": 12,
    "start_time": "2022-01-21T09:53:35.491Z"
   },
   {
    "duration": 8,
    "start_time": "2022-01-21T09:53:35.506Z"
   },
   {
    "duration": 15,
    "start_time": "2022-01-21T09:53:35.517Z"
   },
   {
    "duration": 14,
    "start_time": "2022-01-21T09:53:35.571Z"
   },
   {
    "duration": 8,
    "start_time": "2022-01-21T09:53:35.588Z"
   },
   {
    "duration": 10,
    "start_time": "2022-01-21T09:53:35.599Z"
   },
   {
    "duration": 351,
    "start_time": "2022-01-21T09:54:24.076Z"
   },
   {
    "duration": 268,
    "start_time": "2022-01-21T09:54:55.379Z"
   },
   {
    "duration": 273,
    "start_time": "2022-01-21T09:55:12.899Z"
   },
   {
    "duration": 276,
    "start_time": "2022-01-21T09:55:38.418Z"
   },
   {
    "duration": 301,
    "start_time": "2022-01-21T09:56:15.502Z"
   },
   {
    "duration": 425,
    "start_time": "2022-01-21T09:56:49.924Z"
   },
   {
    "duration": 391,
    "start_time": "2022-01-21T09:57:07.759Z"
   },
   {
    "duration": 293,
    "start_time": "2022-01-21T09:57:25.112Z"
   },
   {
    "duration": 88,
    "start_time": "2022-01-21T09:57:32.364Z"
   },
   {
    "duration": 388,
    "start_time": "2022-01-21T09:57:38.812Z"
   },
   {
    "duration": 293,
    "start_time": "2022-01-21T09:58:24.228Z"
   },
   {
    "duration": 518,
    "start_time": "2022-01-21T09:58:40.881Z"
   },
   {
    "duration": 349,
    "start_time": "2022-01-21T09:58:49.756Z"
   },
   {
    "duration": 272,
    "start_time": "2022-01-21T09:59:38.617Z"
   },
   {
    "duration": 362,
    "start_time": "2022-01-21T09:59:52.889Z"
   },
   {
    "duration": 346,
    "start_time": "2022-01-21T10:00:04.577Z"
   },
   {
    "duration": 332,
    "start_time": "2022-01-21T10:00:09.633Z"
   },
   {
    "duration": 561,
    "start_time": "2022-01-21T10:00:29.985Z"
   },
   {
    "duration": 340,
    "start_time": "2022-01-21T10:00:38.321Z"
   },
   {
    "duration": 320,
    "start_time": "2022-01-21T10:00:50.369Z"
   },
   {
    "duration": 352,
    "start_time": "2022-01-21T10:00:54.417Z"
   },
   {
    "duration": 290,
    "start_time": "2022-01-21T10:01:06.257Z"
   },
   {
    "duration": 305,
    "start_time": "2022-01-21T10:01:11.477Z"
   },
   {
    "duration": 398,
    "start_time": "2022-01-21T10:01:15.897Z"
   },
   {
    "duration": 413,
    "start_time": "2022-01-21T10:01:20.945Z"
   },
   {
    "duration": 89,
    "start_time": "2022-01-21T10:02:33.755Z"
   },
   {
    "duration": 132,
    "start_time": "2022-01-21T10:08:25.979Z"
   },
   {
    "duration": 7,
    "start_time": "2022-01-21T10:10:44.140Z"
   },
   {
    "duration": 271,
    "start_time": "2022-01-21T10:10:54.483Z"
   },
   {
    "duration": 6,
    "start_time": "2022-01-21T10:11:24.596Z"
   },
   {
    "duration": 7,
    "start_time": "2022-01-21T10:11:29.771Z"
   },
   {
    "duration": 351,
    "start_time": "2022-01-21T10:16:34.221Z"
   },
   {
    "duration": 12,
    "start_time": "2022-01-21T10:17:12.953Z"
   },
   {
    "duration": 700,
    "start_time": "2022-01-21T10:22:12.334Z"
   },
   {
    "duration": 273,
    "start_time": "2022-01-21T10:22:36.012Z"
   },
   {
    "duration": 316,
    "start_time": "2022-01-21T10:25:54.792Z"
   },
   {
    "duration": 318,
    "start_time": "2022-01-21T10:26:00.696Z"
   },
   {
    "duration": 323,
    "start_time": "2022-01-21T10:26:08.124Z"
   },
   {
    "duration": 11,
    "start_time": "2022-01-21T10:26:58.848Z"
   },
   {
    "duration": 380,
    "start_time": "2022-01-21T10:27:07.012Z"
   },
   {
    "duration": 415,
    "start_time": "2022-01-21T10:31:22.042Z"
   },
   {
    "duration": 6,
    "start_time": "2022-01-21T10:33:52.391Z"
   },
   {
    "duration": 20,
    "start_time": "2022-01-21T10:34:06.186Z"
   },
   {
    "duration": 6,
    "start_time": "2022-01-21T10:34:19.406Z"
   },
   {
    "duration": 6,
    "start_time": "2022-01-21T10:34:32.603Z"
   },
   {
    "duration": 501,
    "start_time": "2022-01-21T10:38:17.760Z"
   },
   {
    "duration": 32,
    "start_time": "2022-01-21T10:38:51.940Z"
   },
   {
    "duration": 84,
    "start_time": "2022-01-21T10:39:28.740Z"
   },
   {
    "duration": 118,
    "start_time": "2022-01-21T10:39:31.628Z"
   },
   {
    "duration": 55,
    "start_time": "2022-01-21T10:39:35.060Z"
   },
   {
    "duration": 31,
    "start_time": "2022-01-21T10:40:07.020Z"
   },
   {
    "duration": 442,
    "start_time": "2022-01-21T10:40:20.644Z"
   },
   {
    "duration": 326,
    "start_time": "2022-01-21T10:40:52.357Z"
   },
   {
    "duration": 340,
    "start_time": "2022-01-21T10:41:04.709Z"
   },
   {
    "duration": 329,
    "start_time": "2022-01-21T10:42:45.300Z"
   },
   {
    "duration": 342,
    "start_time": "2022-01-21T10:43:04.566Z"
   },
   {
    "duration": 284,
    "start_time": "2022-01-21T10:43:45.045Z"
   },
   {
    "duration": 308,
    "start_time": "2022-01-21T10:44:08.761Z"
   },
   {
    "duration": 289,
    "start_time": "2022-01-21T10:44:16.974Z"
   },
   {
    "duration": 318,
    "start_time": "2022-01-21T10:45:08.094Z"
   },
   {
    "duration": 397,
    "start_time": "2022-01-21T10:45:21.023Z"
   },
   {
    "duration": 334,
    "start_time": "2022-01-21T10:45:43.090Z"
   },
   {
    "duration": 29,
    "start_time": "2022-01-21T10:46:31.159Z"
   },
   {
    "duration": 317,
    "start_time": "2022-01-21T10:47:34.399Z"
   },
   {
    "duration": 330,
    "start_time": "2022-01-21T10:47:53.047Z"
   },
   {
    "duration": 7,
    "start_time": "2022-01-21T10:48:16.022Z"
   },
   {
    "duration": 85,
    "start_time": "2022-01-21T10:52:34.700Z"
   },
   {
    "duration": 10,
    "start_time": "2022-01-21T10:53:15.221Z"
   },
   {
    "duration": 7,
    "start_time": "2022-01-21T10:53:33.637Z"
   },
   {
    "duration": 10,
    "start_time": "2022-01-21T10:53:38.616Z"
   },
   {
    "duration": 121,
    "start_time": "2022-01-21T10:54:43.166Z"
   },
   {
    "duration": 709,
    "start_time": "2022-01-21T10:56:03.909Z"
   },
   {
    "duration": 80,
    "start_time": "2022-01-21T10:56:04.620Z"
   },
   {
    "duration": 312,
    "start_time": "2022-01-21T10:56:04.703Z"
   },
   {
    "duration": 5,
    "start_time": "2022-01-21T10:56:05.017Z"
   },
   {
    "duration": 111,
    "start_time": "2022-01-21T10:56:05.024Z"
   },
   {
    "duration": 106,
    "start_time": "2022-01-21T10:56:05.137Z"
   },
   {
    "duration": 39,
    "start_time": "2022-01-21T10:56:05.245Z"
   },
   {
    "duration": 48,
    "start_time": "2022-01-21T10:56:05.288Z"
   },
   {
    "duration": 142,
    "start_time": "2022-01-21T10:56:05.339Z"
   },
   {
    "duration": 4,
    "start_time": "2022-01-21T10:56:05.484Z"
   },
   {
    "duration": 28,
    "start_time": "2022-01-21T10:56:05.491Z"
   },
   {
    "duration": 53,
    "start_time": "2022-01-21T10:56:05.522Z"
   },
   {
    "duration": 50,
    "start_time": "2022-01-21T10:56:05.577Z"
   },
   {
    "duration": 46,
    "start_time": "2022-01-21T10:56:05.630Z"
   },
   {
    "duration": 34,
    "start_time": "2022-01-21T10:56:05.678Z"
   },
   {
    "duration": 87,
    "start_time": "2022-01-21T10:56:05.714Z"
   },
   {
    "duration": 36,
    "start_time": "2022-01-21T10:56:05.804Z"
   },
   {
    "duration": 34,
    "start_time": "2022-01-21T10:56:05.842Z"
   },
   {
    "duration": 28,
    "start_time": "2022-01-21T10:56:05.878Z"
   },
   {
    "duration": 8,
    "start_time": "2022-01-21T10:56:05.909Z"
   },
   {
    "duration": 16,
    "start_time": "2022-01-21T10:56:05.919Z"
   },
   {
    "duration": 65,
    "start_time": "2022-01-21T10:56:05.937Z"
   },
   {
    "duration": 11,
    "start_time": "2022-01-21T10:56:06.008Z"
   },
   {
    "duration": 17,
    "start_time": "2022-01-21T10:56:06.023Z"
   },
   {
    "duration": 32,
    "start_time": "2022-01-21T10:56:06.042Z"
   },
   {
    "duration": 15,
    "start_time": "2022-01-21T10:56:06.076Z"
   },
   {
    "duration": 21,
    "start_time": "2022-01-21T10:56:06.093Z"
   },
   {
    "duration": 54,
    "start_time": "2022-01-21T10:56:06.117Z"
   },
   {
    "duration": 96,
    "start_time": "2022-01-21T10:56:06.173Z"
   },
   {
    "duration": 15,
    "start_time": "2022-01-21T10:56:06.271Z"
   },
   {
    "duration": 15,
    "start_time": "2022-01-21T10:56:06.288Z"
   },
   {
    "duration": 423,
    "start_time": "2022-01-21T10:56:06.305Z"
   },
   {
    "duration": 9,
    "start_time": "2022-01-21T10:56:06.730Z"
   },
   {
    "duration": 16,
    "start_time": "2022-01-21T10:56:06.741Z"
   },
   {
    "duration": 333,
    "start_time": "2022-01-21T10:56:06.769Z"
   },
   {
    "duration": 573,
    "start_time": "2022-01-21T10:56:07.106Z"
   },
   {
    "duration": 547,
    "start_time": "2022-01-21T10:56:07.681Z"
   },
   {
    "duration": 10,
    "start_time": "2022-01-21T10:56:08.231Z"
   },
   {
    "duration": 308,
    "start_time": "2022-01-21T10:56:08.243Z"
   },
   {
    "duration": 307,
    "start_time": "2022-01-21T10:56:08.554Z"
   },
   {
    "duration": 392,
    "start_time": "2022-01-21T10:56:08.868Z"
   },
   {
    "duration": 9,
    "start_time": "2022-01-21T10:56:09.269Z"
   },
   {
    "duration": 418,
    "start_time": "2022-01-21T10:56:09.280Z"
   },
   {
    "duration": 338,
    "start_time": "2022-01-21T10:56:09.701Z"
   },
   {
    "duration": 392,
    "start_time": "2022-01-21T10:56:10.041Z"
   },
   {
    "duration": 11,
    "start_time": "2022-01-21T10:56:10.436Z"
   },
   {
    "duration": 403,
    "start_time": "2022-01-21T10:56:10.450Z"
   },
   {
    "duration": 437,
    "start_time": "2022-01-21T10:56:10.856Z"
   },
   {
    "duration": 26,
    "start_time": "2022-01-21T10:56:11.295Z"
   },
   {
    "duration": 16,
    "start_time": "2022-01-21T10:56:11.324Z"
   },
   {
    "duration": 26,
    "start_time": "2022-01-21T10:56:11.343Z"
   },
   {
    "duration": 12,
    "start_time": "2022-01-21T10:56:11.372Z"
   },
   {
    "duration": 13,
    "start_time": "2022-01-21T10:56:11.386Z"
   },
   {
    "duration": 6,
    "start_time": "2022-01-21T10:56:11.402Z"
   },
   {
    "duration": 12,
    "start_time": "2022-01-21T10:56:11.410Z"
   },
   {
    "duration": 113,
    "start_time": "2022-01-21T10:57:31.422Z"
   },
   {
    "duration": 79,
    "start_time": "2022-01-21T11:04:02.504Z"
   },
   {
    "duration": 89,
    "start_time": "2022-01-21T11:04:56.856Z"
   },
   {
    "duration": 86,
    "start_time": "2022-01-21T11:05:11.072Z"
   },
   {
    "duration": 890,
    "start_time": "2022-01-21T11:07:32.325Z"
   },
   {
    "duration": 89,
    "start_time": "2022-01-21T11:07:33.218Z"
   },
   {
    "duration": 289,
    "start_time": "2022-01-21T11:07:33.310Z"
   },
   {
    "duration": 5,
    "start_time": "2022-01-21T11:07:33.602Z"
   },
   {
    "duration": 205,
    "start_time": "2022-01-21T11:07:33.609Z"
   },
   {
    "duration": 158,
    "start_time": "2022-01-21T11:07:33.817Z"
   },
   {
    "duration": 39,
    "start_time": "2022-01-21T11:07:33.978Z"
   },
   {
    "duration": 68,
    "start_time": "2022-01-21T11:07:34.021Z"
   },
   {
    "duration": 134,
    "start_time": "2022-01-21T11:07:34.096Z"
   },
   {
    "duration": 3,
    "start_time": "2022-01-21T11:07:34.233Z"
   },
   {
    "duration": 47,
    "start_time": "2022-01-21T11:07:34.238Z"
   },
   {
    "duration": 35,
    "start_time": "2022-01-21T11:07:34.288Z"
   },
   {
    "duration": 82,
    "start_time": "2022-01-21T11:07:34.326Z"
   },
   {
    "duration": 24,
    "start_time": "2022-01-21T11:07:34.410Z"
   },
   {
    "duration": 48,
    "start_time": "2022-01-21T11:07:34.436Z"
   },
   {
    "duration": 56,
    "start_time": "2022-01-21T11:07:34.487Z"
   },
   {
    "duration": 59,
    "start_time": "2022-01-21T11:07:34.546Z"
   },
   {
    "duration": 11,
    "start_time": "2022-01-21T11:07:34.608Z"
   },
   {
    "duration": 56,
    "start_time": "2022-01-21T11:07:34.623Z"
   },
   {
    "duration": 9,
    "start_time": "2022-01-21T11:07:34.682Z"
   },
   {
    "duration": 9,
    "start_time": "2022-01-21T11:07:34.694Z"
   },
   {
    "duration": 66,
    "start_time": "2022-01-21T11:07:34.706Z"
   },
   {
    "duration": 10,
    "start_time": "2022-01-21T11:07:34.775Z"
   },
   {
    "duration": 14,
    "start_time": "2022-01-21T11:07:34.787Z"
   },
   {
    "duration": 19,
    "start_time": "2022-01-21T11:07:34.805Z"
   },
   {
    "duration": 16,
    "start_time": "2022-01-21T11:07:34.828Z"
   },
   {
    "duration": 21,
    "start_time": "2022-01-21T11:07:34.874Z"
   },
   {
    "duration": 43,
    "start_time": "2022-01-21T11:07:34.899Z"
   },
   {
    "duration": 99,
    "start_time": "2022-01-21T11:07:34.970Z"
   },
   {
    "duration": 15,
    "start_time": "2022-01-21T11:07:35.072Z"
   },
   {
    "duration": 15,
    "start_time": "2022-01-21T11:07:35.090Z"
   },
   {
    "duration": 437,
    "start_time": "2022-01-21T11:07:35.107Z"
   },
   {
    "duration": 12,
    "start_time": "2022-01-21T11:07:35.547Z"
   },
   {
    "duration": 8,
    "start_time": "2022-01-21T11:07:35.570Z"
   },
   {
    "duration": 520,
    "start_time": "2022-01-21T11:07:35.581Z"
   },
   {
    "duration": 405,
    "start_time": "2022-01-21T11:07:36.104Z"
   },
   {
    "duration": 1136,
    "start_time": "2022-01-21T11:07:36.513Z"
   },
   {
    "duration": 18,
    "start_time": "2022-01-21T11:07:37.652Z"
   },
   {
    "duration": 299,
    "start_time": "2022-01-21T11:07:37.673Z"
   },
   {
    "duration": 286,
    "start_time": "2022-01-21T11:07:37.974Z"
   },
   {
    "duration": 500,
    "start_time": "2022-01-21T11:07:38.269Z"
   },
   {
    "duration": 10,
    "start_time": "2022-01-21T11:07:38.771Z"
   },
   {
    "duration": 425,
    "start_time": "2022-01-21T11:07:38.783Z"
   },
   {
    "duration": 345,
    "start_time": "2022-01-21T11:07:39.210Z"
   },
   {
    "duration": 441,
    "start_time": "2022-01-21T11:07:39.557Z"
   },
   {
    "duration": 11,
    "start_time": "2022-01-21T11:07:40.001Z"
   },
   {
    "duration": 417,
    "start_time": "2022-01-21T11:07:40.015Z"
   },
   {
    "duration": 682,
    "start_time": "2022-01-21T11:07:40.434Z"
   },
   {
    "duration": 26,
    "start_time": "2022-01-21T11:07:41.119Z"
   },
   {
    "duration": 25,
    "start_time": "2022-01-21T11:07:41.149Z"
   },
   {
    "duration": 8,
    "start_time": "2022-01-21T11:07:41.177Z"
   },
   {
    "duration": 18,
    "start_time": "2022-01-21T11:07:41.189Z"
   },
   {
    "duration": 63,
    "start_time": "2022-01-21T11:07:41.211Z"
   },
   {
    "duration": 10,
    "start_time": "2022-01-21T11:07:41.278Z"
   },
   {
    "duration": 8,
    "start_time": "2022-01-21T11:07:41.291Z"
   },
   {
    "duration": 516,
    "start_time": "2022-01-21T17:06:45.312Z"
   },
   {
    "duration": 43,
    "start_time": "2022-01-21T17:06:45.831Z"
   },
   {
    "duration": 203,
    "start_time": "2022-01-21T17:06:45.897Z"
   },
   {
    "duration": 3,
    "start_time": "2022-01-21T17:06:46.102Z"
   },
   {
    "duration": 92,
    "start_time": "2022-01-21T17:06:46.107Z"
   },
   {
    "duration": 68,
    "start_time": "2022-01-21T17:06:46.201Z"
   },
   {
    "duration": 39,
    "start_time": "2022-01-21T17:06:46.271Z"
   },
   {
    "duration": 33,
    "start_time": "2022-01-21T17:06:46.312Z"
   },
   {
    "duration": 91,
    "start_time": "2022-01-21T17:06:46.348Z"
   },
   {
    "duration": 3,
    "start_time": "2022-01-21T17:06:46.441Z"
   },
   {
    "duration": 50,
    "start_time": "2022-01-21T17:06:46.445Z"
   },
   {
    "duration": 27,
    "start_time": "2022-01-21T17:06:46.497Z"
   },
   {
    "duration": 34,
    "start_time": "2022-01-21T17:06:46.526Z"
   },
   {
    "duration": 17,
    "start_time": "2022-01-21T17:06:46.562Z"
   },
   {
    "duration": 37,
    "start_time": "2022-01-21T17:06:46.581Z"
   },
   {
    "duration": 40,
    "start_time": "2022-01-21T17:06:46.620Z"
   },
   {
    "duration": 36,
    "start_time": "2022-01-21T17:06:46.662Z"
   },
   {
    "duration": 6,
    "start_time": "2022-01-21T17:06:46.700Z"
   },
   {
    "duration": 27,
    "start_time": "2022-01-21T17:06:46.707Z"
   },
   {
    "duration": 16,
    "start_time": "2022-01-21T17:06:46.736Z"
   },
   {
    "duration": 23,
    "start_time": "2022-01-21T17:06:46.754Z"
   },
   {
    "duration": 40,
    "start_time": "2022-01-21T17:06:46.779Z"
   },
   {
    "duration": 8,
    "start_time": "2022-01-21T17:06:46.821Z"
   },
   {
    "duration": 30,
    "start_time": "2022-01-21T17:06:46.831Z"
   },
   {
    "duration": 30,
    "start_time": "2022-01-21T17:06:46.863Z"
   },
   {
    "duration": 23,
    "start_time": "2022-01-21T17:06:46.895Z"
   },
   {
    "duration": 43,
    "start_time": "2022-01-21T17:06:46.922Z"
   },
   {
    "duration": 45,
    "start_time": "2022-01-21T17:06:46.967Z"
   },
   {
    "duration": 60,
    "start_time": "2022-01-21T17:06:47.014Z"
   },
   {
    "duration": 23,
    "start_time": "2022-01-21T17:06:47.076Z"
   },
   {
    "duration": 24,
    "start_time": "2022-01-21T17:06:47.101Z"
   },
   {
    "duration": 257,
    "start_time": "2022-01-21T17:06:47.127Z"
   },
   {
    "duration": 14,
    "start_time": "2022-01-21T17:06:47.386Z"
   },
   {
    "duration": 51,
    "start_time": "2022-01-21T17:06:47.402Z"
   },
   {
    "duration": 249,
    "start_time": "2022-01-21T17:06:47.455Z"
   },
   {
    "duration": 413,
    "start_time": "2022-01-21T17:07:34.833Z"
   }
  ],
  "kernelspec": {
   "display_name": "Python 3 (ipykernel)",
   "language": "python",
   "name": "python3"
  },
  "language_info": {
   "codemirror_mode": {
    "name": "ipython",
    "version": 3
   },
   "file_extension": ".py",
   "mimetype": "text/x-python",
   "name": "python",
   "nbconvert_exporter": "python",
   "pygments_lexer": "ipython3",
   "version": "3.9.5"
  },
  "toc": {
   "base_numbering": 1,
   "nav_menu": {},
   "number_sections": true,
   "sideBar": true,
   "skip_h1_title": true,
   "title_cell": "Table of Contents",
   "title_sidebar": "Contents",
   "toc_cell": false,
   "toc_position": {
    "height": "calc(100% - 180px)",
    "left": "10px",
    "top": "150px",
    "width": "292px"
   },
   "toc_section_display": true,
   "toc_window_display": true
  }
 },
 "nbformat": 4,
 "nbformat_minor": 2
}
