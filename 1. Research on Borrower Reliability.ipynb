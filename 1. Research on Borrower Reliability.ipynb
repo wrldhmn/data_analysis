{
 "cells": [
  {
   "cell_type": "markdown",
   "metadata": {},
   "source": [
    "# Research on Borrower Reliability\n",
    "Client: Bank's credit department. The task is to determine whether marital status and the number of children of a client affect the likelihood of timely loan repayment. The input data from the bank includes statistics on the clients' creditworthiness.\n",
    "\n",
    "The research results will be taken into account when developing the credit scoring model — a special system that assesses the potential borrower's ability to repay the loan to the bank."
   ]
  },
  {
   "cell_type": "markdown",
   "metadata": {},
   "source": [
    "## Step 1. Open the data file and examine the general information"
   ]
  },
  {
   "cell_type": "code",
   "execution_count": 290,
   "metadata": {},
   "outputs": [
    {
     "name": "stdout",
     "output_type": "stream",
     "text": [
      "(21525, 12)\n",
      "<class 'pandas.core.frame.DataFrame'>\n",
      "RangeIndex: 21525 entries, 0 to 21524\n",
      "Data columns (total 12 columns):\n",
      "children            21525 non-null int64\n",
      "days_employed       19351 non-null float64\n",
      "dob_years           21525 non-null int64\n",
      "education           21525 non-null object\n",
      "education_id        21525 non-null int64\n",
      "family_status       21525 non-null object\n",
      "family_status_id    21525 non-null int64\n",
      "gender              21525 non-null object\n",
      "income_type         21525 non-null object\n",
      "debt                21525 non-null int64\n",
      "total_income        19351 non-null float64\n",
      "purpose             21525 non-null object\n",
      "dtypes: float64(2), int64(5), object(5)\n",
      "memory usage: 2.0+ MB\n",
      "None\n"
     ]
    },
    {
     "data": {
      "text/html": [
       "<div>\n",
       "<style scoped>\n",
       "    .dataframe tbody tr th:only-of-type {\n",
       "        vertical-align: middle;\n",
       "    }\n",
       "\n",
       "    .dataframe tbody tr th {\n",
       "        vertical-align: top;\n",
       "    }\n",
       "\n",
       "    .dataframe thead th {\n",
       "        text-align: right;\n",
       "    }\n",
       "</style>\n",
       "<table border=\"1\" class=\"dataframe\">\n",
       "  <thead>\n",
       "    <tr style=\"text-align: right;\">\n",
       "      <th></th>\n",
       "      <th>children</th>\n",
       "      <th>days_employed</th>\n",
       "      <th>dob_years</th>\n",
       "      <th>education</th>\n",
       "      <th>education_id</th>\n",
       "      <th>family_status</th>\n",
       "      <th>family_status_id</th>\n",
       "      <th>gender</th>\n",
       "      <th>income_type</th>\n",
       "      <th>debt</th>\n",
       "      <th>total_income</th>\n",
       "      <th>purpose</th>\n",
       "    </tr>\n",
       "  </thead>\n",
       "  <tbody>\n",
       "    <tr>\n",
       "      <td>0</td>\n",
       "      <td>1</td>\n",
       "      <td>-8437.673028</td>\n",
       "      <td>42</td>\n",
       "      <td>высшее</td>\n",
       "      <td>0</td>\n",
       "      <td>женат / замужем</td>\n",
       "      <td>0</td>\n",
       "      <td>F</td>\n",
       "      <td>сотрудник</td>\n",
       "      <td>0</td>\n",
       "      <td>253875.639453</td>\n",
       "      <td>покупка жилья</td>\n",
       "    </tr>\n",
       "    <tr>\n",
       "      <td>1</td>\n",
       "      <td>1</td>\n",
       "      <td>-4024.803754</td>\n",
       "      <td>36</td>\n",
       "      <td>среднее</td>\n",
       "      <td>1</td>\n",
       "      <td>женат / замужем</td>\n",
       "      <td>0</td>\n",
       "      <td>F</td>\n",
       "      <td>сотрудник</td>\n",
       "      <td>0</td>\n",
       "      <td>112080.014102</td>\n",
       "      <td>приобретение автомобиля</td>\n",
       "    </tr>\n",
       "    <tr>\n",
       "      <td>2</td>\n",
       "      <td>0</td>\n",
       "      <td>-5623.422610</td>\n",
       "      <td>33</td>\n",
       "      <td>Среднее</td>\n",
       "      <td>1</td>\n",
       "      <td>женат / замужем</td>\n",
       "      <td>0</td>\n",
       "      <td>M</td>\n",
       "      <td>сотрудник</td>\n",
       "      <td>0</td>\n",
       "      <td>145885.952297</td>\n",
       "      <td>покупка жилья</td>\n",
       "    </tr>\n",
       "    <tr>\n",
       "      <td>3</td>\n",
       "      <td>3</td>\n",
       "      <td>-4124.747207</td>\n",
       "      <td>32</td>\n",
       "      <td>среднее</td>\n",
       "      <td>1</td>\n",
       "      <td>женат / замужем</td>\n",
       "      <td>0</td>\n",
       "      <td>M</td>\n",
       "      <td>сотрудник</td>\n",
       "      <td>0</td>\n",
       "      <td>267628.550329</td>\n",
       "      <td>дополнительное образование</td>\n",
       "    </tr>\n",
       "    <tr>\n",
       "      <td>4</td>\n",
       "      <td>0</td>\n",
       "      <td>340266.072047</td>\n",
       "      <td>53</td>\n",
       "      <td>среднее</td>\n",
       "      <td>1</td>\n",
       "      <td>гражданский брак</td>\n",
       "      <td>1</td>\n",
       "      <td>F</td>\n",
       "      <td>пенсионер</td>\n",
       "      <td>0</td>\n",
       "      <td>158616.077870</td>\n",
       "      <td>сыграть свадьбу</td>\n",
       "    </tr>\n",
       "  </tbody>\n",
       "</table>\n",
       "</div>"
      ],
      "text/plain": [
       "   children  days_employed  dob_years education  education_id  \\\n",
       "0         1   -8437.673028         42    высшее             0   \n",
       "1         1   -4024.803754         36   среднее             1   \n",
       "2         0   -5623.422610         33   Среднее             1   \n",
       "3         3   -4124.747207         32   среднее             1   \n",
       "4         0  340266.072047         53   среднее             1   \n",
       "\n",
       "      family_status  family_status_id gender income_type  debt   total_income  \\\n",
       "0   женат / замужем                 0      F   сотрудник     0  253875.639453   \n",
       "1   женат / замужем                 0      F   сотрудник     0  112080.014102   \n",
       "2   женат / замужем                 0      M   сотрудник     0  145885.952297   \n",
       "3   женат / замужем                 0      M   сотрудник     0  267628.550329   \n",
       "4  гражданский брак                 1      F   пенсионер     0  158616.077870   \n",
       "\n",
       "                      purpose  \n",
       "0               покупка жилья  \n",
       "1     приобретение автомобиля  \n",
       "2               покупка жилья  \n",
       "3  дополнительное образование  \n",
       "4             сыграть свадьбу  "
      ]
     },
     "metadata": {},
     "output_type": "display_data"
    }
   ],
   "source": [
    "import pandas as pd\n",
    "df = pd.read_csv('/datasets/data.csv')\n",
    "print(df.shape)\n",
    "print(df.info())\n",
    "display(df.head())"
   ]
  },
  {
   "cell_type": "markdown",
   "metadata": {},
   "source": [
    "**Conclusion**\n",
    "\n",
    "It is evident that there are missing values in the columns days_employed and total_income.\n",
    "\n",
    "Additionally, there are negative values in the days_employed column. Employment duration cannot be negative.\n",
    "\n",
    "In the education column, there are values with the same meaning but different capitalization."
   ]
  },
  {
   "cell_type": "markdown",
   "metadata": {},
   "source": [
    "## Step 2. Data Preprocessing"
   ]
  },
  {
   "cell_type": "markdown",
   "metadata": {},
   "source": [
    "### Handling Missing Values"
   ]
  },
  {
   "cell_type": "markdown",
   "metadata": {},
   "source": [
    "\n",
    "In the days_employed column, there are negative values. Employment duration cannot be negative. Perhaps, there was an error during the data extraction.\n",
    "\n",
    "Let's correct the values by taking the absolute value using the abs() method."
   ]
  },
  {
   "cell_type": "code",
   "execution_count": 291,
   "metadata": {},
   "outputs": [],
   "source": [
    "df['days_employed'] = df['days_employed'].abs()"
   ]
  },
  {
   "cell_type": "markdown",
   "metadata": {},
   "source": [
    "Now let's see which rows have missing values. Perhaps there is a pattern among them. Let's filter the days_employed column and display only the rows with missing values."
   ]
  },
  {
   "cell_type": "code",
   "execution_count": 292,
   "metadata": {
    "scrolled": true
   },
   "outputs": [
    {
     "data": {
      "text/html": [
       "<div>\n",
       "<style scoped>\n",
       "    .dataframe tbody tr th:only-of-type {\n",
       "        vertical-align: middle;\n",
       "    }\n",
       "\n",
       "    .dataframe tbody tr th {\n",
       "        vertical-align: top;\n",
       "    }\n",
       "\n",
       "    .dataframe thead th {\n",
       "        text-align: right;\n",
       "    }\n",
       "</style>\n",
       "<table border=\"1\" class=\"dataframe\">\n",
       "  <thead>\n",
       "    <tr style=\"text-align: right;\">\n",
       "      <th></th>\n",
       "      <th>children</th>\n",
       "      <th>days_employed</th>\n",
       "      <th>dob_years</th>\n",
       "      <th>education</th>\n",
       "      <th>education_id</th>\n",
       "      <th>family_status</th>\n",
       "      <th>family_status_id</th>\n",
       "      <th>gender</th>\n",
       "      <th>income_type</th>\n",
       "      <th>debt</th>\n",
       "      <th>total_income</th>\n",
       "      <th>purpose</th>\n",
       "    </tr>\n",
       "  </thead>\n",
       "  <tbody>\n",
       "    <tr>\n",
       "      <td>12</td>\n",
       "      <td>0</td>\n",
       "      <td>NaN</td>\n",
       "      <td>65</td>\n",
       "      <td>среднее</td>\n",
       "      <td>1</td>\n",
       "      <td>гражданский брак</td>\n",
       "      <td>1</td>\n",
       "      <td>M</td>\n",
       "      <td>пенсионер</td>\n",
       "      <td>0</td>\n",
       "      <td>NaN</td>\n",
       "      <td>сыграть свадьбу</td>\n",
       "    </tr>\n",
       "    <tr>\n",
       "      <td>26</td>\n",
       "      <td>0</td>\n",
       "      <td>NaN</td>\n",
       "      <td>41</td>\n",
       "      <td>среднее</td>\n",
       "      <td>1</td>\n",
       "      <td>женат / замужем</td>\n",
       "      <td>0</td>\n",
       "      <td>M</td>\n",
       "      <td>госслужащий</td>\n",
       "      <td>0</td>\n",
       "      <td>NaN</td>\n",
       "      <td>образование</td>\n",
       "    </tr>\n",
       "    <tr>\n",
       "      <td>29</td>\n",
       "      <td>0</td>\n",
       "      <td>NaN</td>\n",
       "      <td>63</td>\n",
       "      <td>среднее</td>\n",
       "      <td>1</td>\n",
       "      <td>Не женат / не замужем</td>\n",
       "      <td>4</td>\n",
       "      <td>F</td>\n",
       "      <td>пенсионер</td>\n",
       "      <td>0</td>\n",
       "      <td>NaN</td>\n",
       "      <td>строительство жилой недвижимости</td>\n",
       "    </tr>\n",
       "    <tr>\n",
       "      <td>41</td>\n",
       "      <td>0</td>\n",
       "      <td>NaN</td>\n",
       "      <td>50</td>\n",
       "      <td>среднее</td>\n",
       "      <td>1</td>\n",
       "      <td>женат / замужем</td>\n",
       "      <td>0</td>\n",
       "      <td>F</td>\n",
       "      <td>госслужащий</td>\n",
       "      <td>0</td>\n",
       "      <td>NaN</td>\n",
       "      <td>сделка с подержанным автомобилем</td>\n",
       "    </tr>\n",
       "    <tr>\n",
       "      <td>55</td>\n",
       "      <td>0</td>\n",
       "      <td>NaN</td>\n",
       "      <td>54</td>\n",
       "      <td>среднее</td>\n",
       "      <td>1</td>\n",
       "      <td>гражданский брак</td>\n",
       "      <td>1</td>\n",
       "      <td>F</td>\n",
       "      <td>пенсионер</td>\n",
       "      <td>1</td>\n",
       "      <td>NaN</td>\n",
       "      <td>сыграть свадьбу</td>\n",
       "    </tr>\n",
       "  </tbody>\n",
       "</table>\n",
       "</div>"
      ],
      "text/plain": [
       "    children  days_employed  dob_years education  education_id  \\\n",
       "12         0            NaN         65   среднее             1   \n",
       "26         0            NaN         41   среднее             1   \n",
       "29         0            NaN         63   среднее             1   \n",
       "41         0            NaN         50   среднее             1   \n",
       "55         0            NaN         54   среднее             1   \n",
       "\n",
       "            family_status  family_status_id gender  income_type  debt  \\\n",
       "12       гражданский брак                 1      M    пенсионер     0   \n",
       "26        женат / замужем                 0      M  госслужащий     0   \n",
       "29  Не женат / не замужем                 4      F    пенсионер     0   \n",
       "41        женат / замужем                 0      F  госслужащий     0   \n",
       "55       гражданский брак                 1      F    пенсионер     1   \n",
       "\n",
       "    total_income                           purpose  \n",
       "12           NaN                   сыграть свадьбу  \n",
       "26           NaN                       образование  \n",
       "29           NaN  строительство жилой недвижимости  \n",
       "41           NaN  сделка с подержанным автомобилем  \n",
       "55           NaN                   сыграть свадьбу  "
      ]
     },
     "metadata": {},
     "output_type": "display_data"
    }
   ],
   "source": [
    "df_days_employed = df[df['days_employed'].isna()]\n",
    "display(df_days_employed.head())"
   ]
  },
  {
   "cell_type": "markdown",
   "metadata": {},
   "source": [
    "Let's see how many missing values are in each employment category."
   ]
  },
  {
   "cell_type": "code",
   "execution_count": 293,
   "metadata": {},
   "outputs": [
    {
     "data": {
      "text/plain": [
       "income_type\n",
       "госслужащий         147\n",
       "компаньон           508\n",
       "пенсионер           413\n",
       "предприниматель       1\n",
       "сотрудник          1105\n",
       "Name: income_type, dtype: int64"
      ]
     },
     "execution_count": 293,
     "metadata": {},
     "output_type": "execute_result"
    }
   ],
   "source": [
    "df_income_type = df_days_employed.groupby('income_type')['income_type'].count()\n",
    "df_income_type"
   ]
  },
  {
   "cell_type": "markdown",
   "metadata": {},
   "source": [
    "There is a suspicion that all cells in the total_income column are also empty. Let's check it."
   ]
  },
  {
   "cell_type": "code",
   "execution_count": 294,
   "metadata": {
    "scrolled": true
   },
   "outputs": [
    {
     "data": {
      "text/plain": [
       "array([nan])"
      ]
     },
     "metadata": {},
     "output_type": "display_data"
    },
    {
     "name": "stdout",
     "output_type": "stream",
     "text": [
      "2174\n"
     ]
    }
   ],
   "source": [
    "display(df_days_employed['total_income'].unique())\n",
    "print(df_days_employed.shape[0])"
   ]
  },
  {
   "cell_type": "markdown",
   "metadata": {},
   "source": [
    "All right.\n",
    "\n",
    "Now let's find the mean value of employment duration and income for each employment type.\n",
    "\n"
   ]
  },
  {
   "cell_type": "code",
   "execution_count": 295,
   "metadata": {
    "scrolled": false
   },
   "outputs": [
    {
     "data": {
      "text/html": [
       "<div>\n",
       "<style scoped>\n",
       "    .dataframe tbody tr th:only-of-type {\n",
       "        vertical-align: middle;\n",
       "    }\n",
       "\n",
       "    .dataframe tbody tr th {\n",
       "        vertical-align: top;\n",
       "    }\n",
       "\n",
       "    .dataframe thead th {\n",
       "        text-align: right;\n",
       "    }\n",
       "</style>\n",
       "<table border=\"1\" class=\"dataframe\">\n",
       "  <thead>\n",
       "    <tr style=\"text-align: right;\">\n",
       "      <th></th>\n",
       "      <th>days_employed</th>\n",
       "      <th>total_income</th>\n",
       "    </tr>\n",
       "    <tr>\n",
       "      <th>income_type</th>\n",
       "      <th></th>\n",
       "      <th></th>\n",
       "    </tr>\n",
       "  </thead>\n",
       "  <tbody>\n",
       "    <tr>\n",
       "      <td>безработный</td>\n",
       "      <td>366413.652744</td>\n",
       "      <td>131339.751676</td>\n",
       "    </tr>\n",
       "    <tr>\n",
       "      <td>в декрете</td>\n",
       "      <td>3296.759962</td>\n",
       "      <td>53829.130729</td>\n",
       "    </tr>\n",
       "    <tr>\n",
       "      <td>госслужащий</td>\n",
       "      <td>3399.896902</td>\n",
       "      <td>170898.309923</td>\n",
       "    </tr>\n",
       "    <tr>\n",
       "      <td>компаньон</td>\n",
       "      <td>2111.524398</td>\n",
       "      <td>202417.461462</td>\n",
       "    </tr>\n",
       "    <tr>\n",
       "      <td>пенсионер</td>\n",
       "      <td>365003.491245</td>\n",
       "      <td>137127.465690</td>\n",
       "    </tr>\n",
       "    <tr>\n",
       "      <td>предприниматель</td>\n",
       "      <td>520.848083</td>\n",
       "      <td>499163.144947</td>\n",
       "    </tr>\n",
       "    <tr>\n",
       "      <td>сотрудник</td>\n",
       "      <td>2326.499216</td>\n",
       "      <td>161380.260488</td>\n",
       "    </tr>\n",
       "    <tr>\n",
       "      <td>студент</td>\n",
       "      <td>578.751554</td>\n",
       "      <td>98201.625314</td>\n",
       "    </tr>\n",
       "  </tbody>\n",
       "</table>\n",
       "</div>"
      ],
      "text/plain": [
       "                 days_employed   total_income\n",
       "income_type                                  \n",
       "безработный      366413.652744  131339.751676\n",
       "в декрете          3296.759962   53829.130729\n",
       "госслужащий        3399.896902  170898.309923\n",
       "компаньон          2111.524398  202417.461462\n",
       "пенсионер        365003.491245  137127.465690\n",
       "предприниматель     520.848083  499163.144947\n",
       "сотрудник          2326.499216  161380.260488\n",
       "студент             578.751554   98201.625314"
      ]
     },
     "metadata": {},
     "output_type": "display_data"
    }
   ],
   "source": [
    "df_avg = df.groupby(by='income_type')['days_employed', 'total_income'].mean()\n",
    "display(df_avg)"
   ]
  },
  {
   "cell_type": "markdown",
   "metadata": {},
   "source": [
    "\n",
    "Let's rename the columns to avoid confusion when we merge them with the main table in the future."
   ]
  },
  {
   "cell_type": "code",
   "execution_count": 296,
   "metadata": {
    "scrolled": true
   },
   "outputs": [
    {
     "data": {
      "text/html": [
       "<div>\n",
       "<style scoped>\n",
       "    .dataframe tbody tr th:only-of-type {\n",
       "        vertical-align: middle;\n",
       "    }\n",
       "\n",
       "    .dataframe tbody tr th {\n",
       "        vertical-align: top;\n",
       "    }\n",
       "\n",
       "    .dataframe thead th {\n",
       "        text-align: right;\n",
       "    }\n",
       "</style>\n",
       "<table border=\"1\" class=\"dataframe\">\n",
       "  <thead>\n",
       "    <tr style=\"text-align: right;\">\n",
       "      <th></th>\n",
       "      <th>days_employed_avg</th>\n",
       "      <th>total_income_avg</th>\n",
       "    </tr>\n",
       "    <tr>\n",
       "      <th>income_type</th>\n",
       "      <th></th>\n",
       "      <th></th>\n",
       "    </tr>\n",
       "  </thead>\n",
       "  <tbody>\n",
       "    <tr>\n",
       "      <td>безработный</td>\n",
       "      <td>366413.652744</td>\n",
       "      <td>131339.751676</td>\n",
       "    </tr>\n",
       "    <tr>\n",
       "      <td>в декрете</td>\n",
       "      <td>3296.759962</td>\n",
       "      <td>53829.130729</td>\n",
       "    </tr>\n",
       "    <tr>\n",
       "      <td>госслужащий</td>\n",
       "      <td>3399.896902</td>\n",
       "      <td>170898.309923</td>\n",
       "    </tr>\n",
       "    <tr>\n",
       "      <td>компаньон</td>\n",
       "      <td>2111.524398</td>\n",
       "      <td>202417.461462</td>\n",
       "    </tr>\n",
       "    <tr>\n",
       "      <td>пенсионер</td>\n",
       "      <td>365003.491245</td>\n",
       "      <td>137127.465690</td>\n",
       "    </tr>\n",
       "    <tr>\n",
       "      <td>предприниматель</td>\n",
       "      <td>520.848083</td>\n",
       "      <td>499163.144947</td>\n",
       "    </tr>\n",
       "    <tr>\n",
       "      <td>сотрудник</td>\n",
       "      <td>2326.499216</td>\n",
       "      <td>161380.260488</td>\n",
       "    </tr>\n",
       "    <tr>\n",
       "      <td>студент</td>\n",
       "      <td>578.751554</td>\n",
       "      <td>98201.625314</td>\n",
       "    </tr>\n",
       "  </tbody>\n",
       "</table>\n",
       "</div>"
      ],
      "text/plain": [
       "                 days_employed_avg  total_income_avg\n",
       "income_type                                         \n",
       "безработный          366413.652744     131339.751676\n",
       "в декрете              3296.759962      53829.130729\n",
       "госслужащий            3399.896902     170898.309923\n",
       "компаньон              2111.524398     202417.461462\n",
       "пенсионер            365003.491245     137127.465690\n",
       "предприниматель         520.848083     499163.144947\n",
       "сотрудник              2326.499216     161380.260488\n",
       "студент                 578.751554      98201.625314"
      ]
     },
     "execution_count": 296,
     "metadata": {},
     "output_type": "execute_result"
    }
   ],
   "source": [
    "df_avg.columns = ['days_employed_avg', 'total_income_avg']\n",
    "df_avg"
   ]
  },
  {
   "cell_type": "markdown",
   "metadata": {},
   "source": [
    "\n",
    "We merge the two tables using the merge() method."
   ]
  },
  {
   "cell_type": "code",
   "execution_count": 297,
   "metadata": {
    "scrolled": true
   },
   "outputs": [
    {
     "data": {
      "text/html": [
       "<div>\n",
       "<style scoped>\n",
       "    .dataframe tbody tr th:only-of-type {\n",
       "        vertical-align: middle;\n",
       "    }\n",
       "\n",
       "    .dataframe tbody tr th {\n",
       "        vertical-align: top;\n",
       "    }\n",
       "\n",
       "    .dataframe thead th {\n",
       "        text-align: right;\n",
       "    }\n",
       "</style>\n",
       "<table border=\"1\" class=\"dataframe\">\n",
       "  <thead>\n",
       "    <tr style=\"text-align: right;\">\n",
       "      <th></th>\n",
       "      <th>children</th>\n",
       "      <th>days_employed</th>\n",
       "      <th>dob_years</th>\n",
       "      <th>education</th>\n",
       "      <th>education_id</th>\n",
       "      <th>family_status</th>\n",
       "      <th>family_status_id</th>\n",
       "      <th>gender</th>\n",
       "      <th>income_type</th>\n",
       "      <th>debt</th>\n",
       "      <th>total_income</th>\n",
       "      <th>purpose</th>\n",
       "      <th>days_employed_avg</th>\n",
       "      <th>total_income_avg</th>\n",
       "    </tr>\n",
       "  </thead>\n",
       "  <tbody>\n",
       "    <tr>\n",
       "      <td>0</td>\n",
       "      <td>1</td>\n",
       "      <td>8437.673028</td>\n",
       "      <td>42</td>\n",
       "      <td>высшее</td>\n",
       "      <td>0</td>\n",
       "      <td>женат / замужем</td>\n",
       "      <td>0</td>\n",
       "      <td>F</td>\n",
       "      <td>сотрудник</td>\n",
       "      <td>0</td>\n",
       "      <td>253875.639453</td>\n",
       "      <td>покупка жилья</td>\n",
       "      <td>2326.499216</td>\n",
       "      <td>161380.260488</td>\n",
       "    </tr>\n",
       "    <tr>\n",
       "      <td>1</td>\n",
       "      <td>1</td>\n",
       "      <td>4024.803754</td>\n",
       "      <td>36</td>\n",
       "      <td>среднее</td>\n",
       "      <td>1</td>\n",
       "      <td>женат / замужем</td>\n",
       "      <td>0</td>\n",
       "      <td>F</td>\n",
       "      <td>сотрудник</td>\n",
       "      <td>0</td>\n",
       "      <td>112080.014102</td>\n",
       "      <td>приобретение автомобиля</td>\n",
       "      <td>2326.499216</td>\n",
       "      <td>161380.260488</td>\n",
       "    </tr>\n",
       "    <tr>\n",
       "      <td>2</td>\n",
       "      <td>0</td>\n",
       "      <td>5623.422610</td>\n",
       "      <td>33</td>\n",
       "      <td>Среднее</td>\n",
       "      <td>1</td>\n",
       "      <td>женат / замужем</td>\n",
       "      <td>0</td>\n",
       "      <td>M</td>\n",
       "      <td>сотрудник</td>\n",
       "      <td>0</td>\n",
       "      <td>145885.952297</td>\n",
       "      <td>покупка жилья</td>\n",
       "      <td>2326.499216</td>\n",
       "      <td>161380.260488</td>\n",
       "    </tr>\n",
       "    <tr>\n",
       "      <td>3</td>\n",
       "      <td>3</td>\n",
       "      <td>4124.747207</td>\n",
       "      <td>32</td>\n",
       "      <td>среднее</td>\n",
       "      <td>1</td>\n",
       "      <td>женат / замужем</td>\n",
       "      <td>0</td>\n",
       "      <td>M</td>\n",
       "      <td>сотрудник</td>\n",
       "      <td>0</td>\n",
       "      <td>267628.550329</td>\n",
       "      <td>дополнительное образование</td>\n",
       "      <td>2326.499216</td>\n",
       "      <td>161380.260488</td>\n",
       "    </tr>\n",
       "    <tr>\n",
       "      <td>4</td>\n",
       "      <td>0</td>\n",
       "      <td>340266.072047</td>\n",
       "      <td>53</td>\n",
       "      <td>среднее</td>\n",
       "      <td>1</td>\n",
       "      <td>гражданский брак</td>\n",
       "      <td>1</td>\n",
       "      <td>F</td>\n",
       "      <td>пенсионер</td>\n",
       "      <td>0</td>\n",
       "      <td>158616.077870</td>\n",
       "      <td>сыграть свадьбу</td>\n",
       "      <td>365003.491245</td>\n",
       "      <td>137127.465690</td>\n",
       "    </tr>\n",
       "  </tbody>\n",
       "</table>\n",
       "</div>"
      ],
      "text/plain": [
       "   children  days_employed  dob_years education  education_id  \\\n",
       "0         1    8437.673028         42    высшее             0   \n",
       "1         1    4024.803754         36   среднее             1   \n",
       "2         0    5623.422610         33   Среднее             1   \n",
       "3         3    4124.747207         32   среднее             1   \n",
       "4         0  340266.072047         53   среднее             1   \n",
       "\n",
       "      family_status  family_status_id gender income_type  debt   total_income  \\\n",
       "0   женат / замужем                 0      F   сотрудник     0  253875.639453   \n",
       "1   женат / замужем                 0      F   сотрудник     0  112080.014102   \n",
       "2   женат / замужем                 0      M   сотрудник     0  145885.952297   \n",
       "3   женат / замужем                 0      M   сотрудник     0  267628.550329   \n",
       "4  гражданский брак                 1      F   пенсионер     0  158616.077870   \n",
       "\n",
       "                      purpose  days_employed_avg  total_income_avg  \n",
       "0               покупка жилья        2326.499216     161380.260488  \n",
       "1     приобретение автомобиля        2326.499216     161380.260488  \n",
       "2               покупка жилья        2326.499216     161380.260488  \n",
       "3  дополнительное образование        2326.499216     161380.260488  \n",
       "4             сыграть свадьбу      365003.491245     137127.465690  "
      ]
     },
     "execution_count": 297,
     "metadata": {},
     "output_type": "execute_result"
    }
   ],
   "source": [
    "df = df.merge(df_avg, on='income_type', how='left')\n",
    "df.head()"
   ]
  },
  {
   "cell_type": "markdown",
   "metadata": {},
   "source": [
    "\n",
    "We replace the missing values with the mean values for each employment group."
   ]
  },
  {
   "cell_type": "code",
   "execution_count": 298,
   "metadata": {},
   "outputs": [],
   "source": [
    "df['days_employed'] = df['days_employed'].fillna(df['days_employed_avg'])\n",
    "df['total_income'] = df['total_income'].fillna(df['total_income_avg'])"
   ]
  },
  {
   "cell_type": "markdown",
   "metadata": {},
   "source": [
    "We remove the last two columns. They are no longer needed."
   ]
  },
  {
   "cell_type": "code",
   "execution_count": 299,
   "metadata": {},
   "outputs": [],
   "source": [
    "df = df.drop('days_employed_avg', 1)\n",
    "df = df.drop('total_income_avg', 1)"
   ]
  },
  {
   "cell_type": "code",
   "execution_count": 300,
   "metadata": {},
   "outputs": [
    {
     "data": {
      "text/html": [
       "<div>\n",
       "<style scoped>\n",
       "    .dataframe tbody tr th:only-of-type {\n",
       "        vertical-align: middle;\n",
       "    }\n",
       "\n",
       "    .dataframe tbody tr th {\n",
       "        vertical-align: top;\n",
       "    }\n",
       "\n",
       "    .dataframe thead th {\n",
       "        text-align: right;\n",
       "    }\n",
       "</style>\n",
       "<table border=\"1\" class=\"dataframe\">\n",
       "  <thead>\n",
       "    <tr style=\"text-align: right;\">\n",
       "      <th></th>\n",
       "      <th>children</th>\n",
       "      <th>days_employed</th>\n",
       "      <th>dob_years</th>\n",
       "      <th>education</th>\n",
       "      <th>education_id</th>\n",
       "      <th>family_status</th>\n",
       "      <th>family_status_id</th>\n",
       "      <th>gender</th>\n",
       "      <th>income_type</th>\n",
       "      <th>debt</th>\n",
       "      <th>total_income</th>\n",
       "      <th>purpose</th>\n",
       "    </tr>\n",
       "  </thead>\n",
       "  <tbody>\n",
       "    <tr>\n",
       "      <td>0</td>\n",
       "      <td>1</td>\n",
       "      <td>8437.673028</td>\n",
       "      <td>42</td>\n",
       "      <td>высшее</td>\n",
       "      <td>0</td>\n",
       "      <td>женат / замужем</td>\n",
       "      <td>0</td>\n",
       "      <td>F</td>\n",
       "      <td>сотрудник</td>\n",
       "      <td>0</td>\n",
       "      <td>253875.639453</td>\n",
       "      <td>покупка жилья</td>\n",
       "    </tr>\n",
       "    <tr>\n",
       "      <td>1</td>\n",
       "      <td>1</td>\n",
       "      <td>4024.803754</td>\n",
       "      <td>36</td>\n",
       "      <td>среднее</td>\n",
       "      <td>1</td>\n",
       "      <td>женат / замужем</td>\n",
       "      <td>0</td>\n",
       "      <td>F</td>\n",
       "      <td>сотрудник</td>\n",
       "      <td>0</td>\n",
       "      <td>112080.014102</td>\n",
       "      <td>приобретение автомобиля</td>\n",
       "    </tr>\n",
       "    <tr>\n",
       "      <td>2</td>\n",
       "      <td>0</td>\n",
       "      <td>5623.422610</td>\n",
       "      <td>33</td>\n",
       "      <td>Среднее</td>\n",
       "      <td>1</td>\n",
       "      <td>женат / замужем</td>\n",
       "      <td>0</td>\n",
       "      <td>M</td>\n",
       "      <td>сотрудник</td>\n",
       "      <td>0</td>\n",
       "      <td>145885.952297</td>\n",
       "      <td>покупка жилья</td>\n",
       "    </tr>\n",
       "    <tr>\n",
       "      <td>3</td>\n",
       "      <td>3</td>\n",
       "      <td>4124.747207</td>\n",
       "      <td>32</td>\n",
       "      <td>среднее</td>\n",
       "      <td>1</td>\n",
       "      <td>женат / замужем</td>\n",
       "      <td>0</td>\n",
       "      <td>M</td>\n",
       "      <td>сотрудник</td>\n",
       "      <td>0</td>\n",
       "      <td>267628.550329</td>\n",
       "      <td>дополнительное образование</td>\n",
       "    </tr>\n",
       "    <tr>\n",
       "      <td>4</td>\n",
       "      <td>0</td>\n",
       "      <td>340266.072047</td>\n",
       "      <td>53</td>\n",
       "      <td>среднее</td>\n",
       "      <td>1</td>\n",
       "      <td>гражданский брак</td>\n",
       "      <td>1</td>\n",
       "      <td>F</td>\n",
       "      <td>пенсионер</td>\n",
       "      <td>0</td>\n",
       "      <td>158616.077870</td>\n",
       "      <td>сыграть свадьбу</td>\n",
       "    </tr>\n",
       "  </tbody>\n",
       "</table>\n",
       "</div>"
      ],
      "text/plain": [
       "   children  days_employed  dob_years education  education_id  \\\n",
       "0         1    8437.673028         42    высшее             0   \n",
       "1         1    4024.803754         36   среднее             1   \n",
       "2         0    5623.422610         33   Среднее             1   \n",
       "3         3    4124.747207         32   среднее             1   \n",
       "4         0  340266.072047         53   среднее             1   \n",
       "\n",
       "      family_status  family_status_id gender income_type  debt   total_income  \\\n",
       "0   женат / замужем                 0      F   сотрудник     0  253875.639453   \n",
       "1   женат / замужем                 0      F   сотрудник     0  112080.014102   \n",
       "2   женат / замужем                 0      M   сотрудник     0  145885.952297   \n",
       "3   женат / замужем                 0      M   сотрудник     0  267628.550329   \n",
       "4  гражданский брак                 1      F   пенсионер     0  158616.077870   \n",
       "\n",
       "                      purpose  \n",
       "0               покупка жилья  \n",
       "1     приобретение автомобиля  \n",
       "2               покупка жилья  \n",
       "3  дополнительное образование  \n",
       "4             сыграть свадьбу  "
      ]
     },
     "execution_count": 300,
     "metadata": {},
     "output_type": "execute_result"
    }
   ],
   "source": [
    "df.head()"
   ]
  },
  {
   "cell_type": "markdown",
   "metadata": {},
   "source": [
    "**Conclusion**\n",
    "\n",
    "All missing values in the `days_employed` and `total_income` columns have been replaced with the mean value.\n",
    "\n",
    "Negative values in the employment duration column have been changed to positive.\n",
    "\n",
    "The reason for the appearance of missing values in the `days_employed` and `total_income` columns may be that these individuals are not employed officially."
   ]
  },
  {
   "cell_type": "markdown",
   "metadata": {},
   "source": [
    "### Data Type Conversion"
   ]
  },
  {
   "cell_type": "markdown",
   "metadata": {},
   "source": [
    "\n",
    "Let's change the data type from float to int64."
   ]
  },
  {
   "cell_type": "code",
   "execution_count": 301,
   "metadata": {},
   "outputs": [
    {
     "name": "stdout",
     "output_type": "stream",
     "text": [
      "<class 'pandas.core.frame.DataFrame'>\n",
      "Int64Index: 21525 entries, 0 to 21524\n",
      "Data columns (total 12 columns):\n",
      "children            21525 non-null int64\n",
      "days_employed       21525 non-null int64\n",
      "dob_years           21525 non-null int64\n",
      "education           21525 non-null object\n",
      "education_id        21525 non-null int64\n",
      "family_status       21525 non-null object\n",
      "family_status_id    21525 non-null int64\n",
      "gender              21525 non-null object\n",
      "income_type         21525 non-null object\n",
      "debt                21525 non-null int64\n",
      "total_income        21525 non-null int64\n",
      "purpose             21525 non-null object\n",
      "dtypes: int64(7), object(5)\n",
      "memory usage: 2.1+ MB\n",
      "None\n"
     ]
    },
    {
     "data": {
      "text/html": [
       "<div>\n",
       "<style scoped>\n",
       "    .dataframe tbody tr th:only-of-type {\n",
       "        vertical-align: middle;\n",
       "    }\n",
       "\n",
       "    .dataframe tbody tr th {\n",
       "        vertical-align: top;\n",
       "    }\n",
       "\n",
       "    .dataframe thead th {\n",
       "        text-align: right;\n",
       "    }\n",
       "</style>\n",
       "<table border=\"1\" class=\"dataframe\">\n",
       "  <thead>\n",
       "    <tr style=\"text-align: right;\">\n",
       "      <th></th>\n",
       "      <th>children</th>\n",
       "      <th>days_employed</th>\n",
       "      <th>dob_years</th>\n",
       "      <th>education</th>\n",
       "      <th>education_id</th>\n",
       "      <th>family_status</th>\n",
       "      <th>family_status_id</th>\n",
       "      <th>gender</th>\n",
       "      <th>income_type</th>\n",
       "      <th>debt</th>\n",
       "      <th>total_income</th>\n",
       "      <th>purpose</th>\n",
       "    </tr>\n",
       "  </thead>\n",
       "  <tbody>\n",
       "    <tr>\n",
       "      <td>0</td>\n",
       "      <td>1</td>\n",
       "      <td>8437</td>\n",
       "      <td>42</td>\n",
       "      <td>высшее</td>\n",
       "      <td>0</td>\n",
       "      <td>женат / замужем</td>\n",
       "      <td>0</td>\n",
       "      <td>F</td>\n",
       "      <td>сотрудник</td>\n",
       "      <td>0</td>\n",
       "      <td>253875</td>\n",
       "      <td>покупка жилья</td>\n",
       "    </tr>\n",
       "    <tr>\n",
       "      <td>1</td>\n",
       "      <td>1</td>\n",
       "      <td>4024</td>\n",
       "      <td>36</td>\n",
       "      <td>среднее</td>\n",
       "      <td>1</td>\n",
       "      <td>женат / замужем</td>\n",
       "      <td>0</td>\n",
       "      <td>F</td>\n",
       "      <td>сотрудник</td>\n",
       "      <td>0</td>\n",
       "      <td>112080</td>\n",
       "      <td>приобретение автомобиля</td>\n",
       "    </tr>\n",
       "    <tr>\n",
       "      <td>2</td>\n",
       "      <td>0</td>\n",
       "      <td>5623</td>\n",
       "      <td>33</td>\n",
       "      <td>Среднее</td>\n",
       "      <td>1</td>\n",
       "      <td>женат / замужем</td>\n",
       "      <td>0</td>\n",
       "      <td>M</td>\n",
       "      <td>сотрудник</td>\n",
       "      <td>0</td>\n",
       "      <td>145885</td>\n",
       "      <td>покупка жилья</td>\n",
       "    </tr>\n",
       "    <tr>\n",
       "      <td>3</td>\n",
       "      <td>3</td>\n",
       "      <td>4124</td>\n",
       "      <td>32</td>\n",
       "      <td>среднее</td>\n",
       "      <td>1</td>\n",
       "      <td>женат / замужем</td>\n",
       "      <td>0</td>\n",
       "      <td>M</td>\n",
       "      <td>сотрудник</td>\n",
       "      <td>0</td>\n",
       "      <td>267628</td>\n",
       "      <td>дополнительное образование</td>\n",
       "    </tr>\n",
       "    <tr>\n",
       "      <td>4</td>\n",
       "      <td>0</td>\n",
       "      <td>340266</td>\n",
       "      <td>53</td>\n",
       "      <td>среднее</td>\n",
       "      <td>1</td>\n",
       "      <td>гражданский брак</td>\n",
       "      <td>1</td>\n",
       "      <td>F</td>\n",
       "      <td>пенсионер</td>\n",
       "      <td>0</td>\n",
       "      <td>158616</td>\n",
       "      <td>сыграть свадьбу</td>\n",
       "    </tr>\n",
       "  </tbody>\n",
       "</table>\n",
       "</div>"
      ],
      "text/plain": [
       "   children  days_employed  dob_years education  education_id  \\\n",
       "0         1           8437         42    высшее             0   \n",
       "1         1           4024         36   среднее             1   \n",
       "2         0           5623         33   Среднее             1   \n",
       "3         3           4124         32   среднее             1   \n",
       "4         0         340266         53   среднее             1   \n",
       "\n",
       "      family_status  family_status_id gender income_type  debt  total_income  \\\n",
       "0   женат / замужем                 0      F   сотрудник     0        253875   \n",
       "1   женат / замужем                 0      F   сотрудник     0        112080   \n",
       "2   женат / замужем                 0      M   сотрудник     0        145885   \n",
       "3   женат / замужем                 0      M   сотрудник     0        267628   \n",
       "4  гражданский брак                 1      F   пенсионер     0        158616   \n",
       "\n",
       "                      purpose  \n",
       "0               покупка жилья  \n",
       "1     приобретение автомобиля  \n",
       "2               покупка жилья  \n",
       "3  дополнительное образование  \n",
       "4             сыграть свадьбу  "
      ]
     },
     "metadata": {},
     "output_type": "display_data"
    }
   ],
   "source": [
    "df['days_employed'] = df['days_employed'].astype('int')\n",
    "df['total_income'] = df['total_income'].astype('int')\n",
    "print(df.info())\n",
    "display(df.head())"
   ]
  },
  {
   "cell_type": "markdown",
   "metadata": {},
   "source": [
    "**Conclusion**\n",
    "\n",
    "We have removed the float data type. Next, we will work with int64.\n"
   ]
  },
  {
   "cell_type": "markdown",
   "metadata": {},
   "source": [
    "### Handling Duplicates"
   ]
  },
  {
   "cell_type": "markdown",
   "metadata": {},
   "source": [
    "First, let's convert all values in the `education` column to lowercase. Since it is already evident that there are values in the `education` column that have the same meaning but different capitalization."
   ]
  },
  {
   "cell_type": "code",
   "execution_count": 302,
   "metadata": {
    "scrolled": false
   },
   "outputs": [
    {
     "data": {
      "text/plain": [
       "array(['высшее', 'среднее', 'неоконченное высшее', 'начальное',\n",
       "       'ученая степень'], dtype=object)"
      ]
     },
     "execution_count": 302,
     "metadata": {},
     "output_type": "execute_result"
    }
   ],
   "source": [
    "df['education'] = df['education'].str.lower()\n",
    "df['education'].unique()"
   ]
  },
  {
   "cell_type": "markdown",
   "metadata": {},
   "source": [
    "Let's remove the explicit duplicates."
   ]
  },
  {
   "cell_type": "code",
   "execution_count": 303,
   "metadata": {},
   "outputs": [],
   "source": [
    "df = df.drop_duplicates()"
   ]
  },
  {
   "cell_type": "markdown",
   "metadata": {},
   "source": [
    "**Conclusion**\n",
    "\n",
    "In the `education` column, there were initially data with different capitalization. By using the `str.lower()` method, I removed values that have the same meaning.\n",
    "\n",
    "Then, I removed all explicit duplicates.\n",
    "\n",
    "Possibly, duplicates appear among individuals who have more than one loan."
   ]
  },
  {
   "cell_type": "markdown",
   "metadata": {},
   "source": [
    "### Lemmatization"
   ]
  },
  {
   "cell_type": "code",
   "execution_count": 304,
   "metadata": {},
   "outputs": [
    {
     "name": "stdout",
     "output_type": "stream",
     "text": [
      "Counter({'свадьба': 791, 'на проведение свадьбы': 768, 'сыграть свадьбу': 765, 'операции с недвижимостью': 675, 'покупка коммерческой недвижимости': 661, 'операции с жильем': 652, 'покупка жилья для сдачи': 651, 'операции с коммерческой недвижимостью': 650, 'покупка жилья': 646, 'жилье': 646, 'покупка жилья для семьи': 638, 'строительство собственной недвижимости': 635, 'недвижимость': 633, 'операции со своей недвижимостью': 627, 'строительство жилой недвижимости': 624, 'покупка недвижимости': 621, 'покупка своего жилья': 620, 'строительство недвижимости': 619, 'ремонт жилью': 607, 'покупка жилой недвижимости': 606, 'на покупку своего автомобиля': 505, 'заняться высшим образованием': 496, 'автомобиль': 494, 'сделка с подержанным автомобилем': 486, 'на покупку подержанного автомобиля': 478, 'автомобили': 478, 'свой автомобиль': 478, 'на покупку автомобиля': 471, 'приобретение автомобиля': 461, 'дополнительное образование': 460, 'сделка с автомобилем': 455, 'высшее образование': 452, 'образование': 447, 'получение дополнительного образования': 446, 'получение образования': 442, 'профильное образование': 436, 'получение высшего образования': 426, 'заняться образованием': 408})\n"
     ]
    }
   ],
   "source": [
    "from pymystem3 import Mystem\n",
    "m = Mystem()\n",
    "from collections import Counter\n",
    "print(Counter(df['purpose']))\n",
    "\n",
    "from nltk.stem import SnowballStemmer\n",
    "russian_stemmer = SnowballStemmer('russian')"
   ]
  },
  {
   "cell_type": "markdown",
   "metadata": {},
   "source": [
    "**Conclusion**\n",
    "\n",
    "It is evident that the main purpose of the loan is wedding, followed by loans for purchasing/repairing housing, car, and education."
   ]
  },
  {
   "cell_type": "markdown",
   "metadata": {},
   "source": [
    "### Data Categorization"
   ]
  },
  {
   "cell_type": "markdown",
   "metadata": {},
   "source": [
    "Let's create separate tables to answer each question.\n",
    "1. Table with marital status\n",
    "2. Table with the number of children"
   ]
  },
  {
   "cell_type": "code",
   "execution_count": 305,
   "metadata": {},
   "outputs": [],
   "source": [
    "df_family_status = df.groupby(by='family_status')['debt'].sum() / df.groupby(by='family_status')['debt'].count() * 100\n",
    "df_children = df.groupby(by='children')['debt'].sum() / df.groupby(by='children')['debt'].count() * 100"
   ]
  },
  {
   "cell_type": "markdown",
   "metadata": {},
   "source": [
    "Let's write a function that will divide the data in the `total_income` column into 4 groups."
   ]
  },
  {
   "cell_type": "code",
   "execution_count": 306,
   "metadata": {},
   "outputs": [],
   "source": [
    "def income_group_fc(total_income):\n",
    "    if total_income < 100000:\n",
    "        return '< 100000'\n",
    "    elif total_income <= 500000:\n",
    "        return '100000 - 500000'\n",
    "    elif total_income < 1000000:\n",
    "        return '500001 - 1000000'\n",
    "    else:\n",
    "        return '> 1000001'"
   ]
  },
  {
   "cell_type": "markdown",
   "metadata": {},
   "source": [
    "Let's create a new table based on `total_income`. Then, using the `apply` method and the `income_group_fc` function, we will add a new column with the income group."
   ]
  },
  {
   "cell_type": "code",
   "execution_count": 307,
   "metadata": {},
   "outputs": [],
   "source": [
    "df_total_income = df.loc[:, ['debt', 'total_income']]\n",
    "df_total_income['income_group'] = df_total_income['total_income'].apply(income_group_fc)\n",
    "df_total_income = df_total_income.groupby(by='income_group')['debt'].sum() / df_total_income.groupby(by='income_group')['debt'].count() * 100"
   ]
  },
  {
   "cell_type": "markdown",
   "metadata": {},
   "source": [
    "**Conclusion**\n",
    "\n",
    "Three new tables have been added to answer the main questions of the project."
   ]
  },
  {
   "cell_type": "markdown",
   "metadata": {},
   "source": [
    "## Step 3. Answer the Questions"
   ]
  },
  {
   "cell_type": "markdown",
   "metadata": {},
   "source": [
    "- Is there a correlation between having children and repaying the loan on time?"
   ]
  },
  {
   "cell_type": "code",
   "execution_count": 308,
   "metadata": {},
   "outputs": [
    {
     "data": {
      "text/plain": [
       "children\n",
       "-1      2.127660\n",
       " 0      7.543822\n",
       " 1      9.234609\n",
       " 2      9.454191\n",
       " 3      8.181818\n",
       " 4      9.756098\n",
       " 5      0.000000\n",
       " 20    10.526316\n",
       "Name: debt, dtype: float64"
      ]
     },
     "metadata": {},
     "output_type": "display_data"
    }
   ],
   "source": [
    "display(df_children)"
   ]
  },
  {
   "cell_type": "markdown",
   "metadata": {},
   "source": [
    "**Conclusion**\n",
    "\n",
    "If a client does not have children, they are more likely to repay the loan on time compared to clients with children. Moreover, the number of children does not seem to play a significant role.\n",
    "\n",
    "It is unclear what \"-1 child\" means. Perhaps something happened... However, since this case is rare, it will not affect the overall conclusions."
   ]
  },
  {
   "cell_type": "markdown",
   "metadata": {},
   "source": [
    "- Is there a correlation between marital status and repayment of the loan on time?"
   ]
  },
  {
   "cell_type": "code",
   "execution_count": 309,
   "metadata": {},
   "outputs": [
    {
     "data": {
      "text/plain": [
       "family_status\n",
       "Не женат / не замужем    9.750890\n",
       "в разводе                7.112971\n",
       "вдовец / вдова           6.569343\n",
       "гражданский брак         9.347145\n",
       "женат / замужем          7.545182\n",
       "Name: debt, dtype: float64"
      ]
     },
     "metadata": {},
     "output_type": "display_data"
    }
   ],
   "source": [
    "display(df_family_status)"
   ]
  },
  {
   "cell_type": "markdown",
   "metadata": {},
   "source": [
    "**Conclusion**\n",
    "\n",
    "People categorized as \"not married\" and \"civil marriage\" are more likely to have overdue loans.\n",
    "\n",
    "People categorized as widows/widowers are the best at repaying loans."
   ]
  },
  {
   "cell_type": "markdown",
   "metadata": {},
   "source": [
    "- Is there a correlation between income level and repayment of the loan on time?"
   ]
  },
  {
   "cell_type": "code",
   "execution_count": 310,
   "metadata": {
    "scrolled": true
   },
   "outputs": [
    {
     "data": {
      "text/plain": [
       "income_group\n",
       "100000 - 500000     8.187727\n",
       "500001 - 1000000    6.091371\n",
       "< 100000            7.931884\n",
       "> 1000001           8.000000\n",
       "Name: debt, dtype: float64"
      ]
     },
     "metadata": {},
     "output_type": "display_data"
    }
   ],
   "source": [
    "display(df_total_income)"
   ]
  },
  {
   "cell_type": "markdown",
   "metadata": {},
   "source": [
    "**Conclusion**\n",
    "\n",
    "The risk group includes people with incomes ranging from 100k to 500k.\n",
    "\n",
    "The most creditworthy group turned out to be the group with incomes ranging from 500k to 1,000k."
   ]
  },
  {
   "cell_type": "markdown",
   "metadata": {},
   "source": [
    "- How do different loan purposes affect timely repayment?"
   ]
  },
  {
   "cell_type": "markdown",
   "metadata": {},
   "source": [
    "Let's write a function to categorize loan purposes."
   ]
  },
  {
   "cell_type": "code",
   "execution_count": 311,
   "metadata": {
    "scrolled": true
   },
   "outputs": [],
   "source": [
    "def df_purpose_fc(x):\n",
    "    if 'авто' in x:\n",
    "        return 'авто'\n",
    "    elif 'недвиж' in x:\n",
    "        return 'недвижимость'\n",
    "    elif 'образ' in x:\n",
    "        return 'образование'\n",
    "    elif 'свадь' in x:\n",
    "        return 'свадьба'\n",
    "    elif 'жиль' in x:\n",
    "        return 'жилье'\n",
    "    else:\n",
    "        return 0"
   ]
  },
  {
   "cell_type": "markdown",
   "metadata": {},
   "source": [
    "Let's add a new column called `purpose_category`, where we will reflect the data returned by the `df_purpose_fc` function."
   ]
  },
  {
   "cell_type": "code",
   "execution_count": 312,
   "metadata": {},
   "outputs": [
    {
     "data": {
      "text/plain": [
       "purpose_category\n",
       "авто            9.359034\n",
       "жилье           6.905830\n",
       "недвижимость    7.463392\n",
       "образование     9.220035\n",
       "свадьба         8.003442\n",
       "Name: debt, dtype: float64"
      ]
     },
     "execution_count": 312,
     "metadata": {},
     "output_type": "execute_result"
    }
   ],
   "source": [
    "df['purpose_category'] = df['purpose'].apply(df_purpose_fc)\n",
    "df_purpose = df.groupby(by='purpose_category')['debt'].sum() / df.groupby(by='purpose_category')['debt'].count() * 100\n",
    "df_purpose"
   ]
  },
  {
   "cell_type": "markdown",
   "metadata": {},
   "source": [
    "**Conclusion**\n",
    "\n",
    "Clients are more likely to have overdue loans if their loan purpose is related to any car-related operation.\n",
    "\n",
    "On the other hand, clients whose loan purpose is to purchase housing tend to be more conscientious about repaying the loan compared to clients with other purposes.\n"
   ]
  },
  {
   "cell_type": "markdown",
   "metadata": {},
   "source": [
    "## Step 4. General Conclusion\n",
    "\n",
    "Analyzing credit data of over 20,000 individuals, the following conclusions can be drawn:\n",
    "\n",
    "1. Having at least one child in the family reduces the chances of repaying the loan on time.\n",
    "2. Marital status also affects loan repayment. Singles or those in civil marriages are at risk. If a loan is to be issued, it is better to choose from the categories of \"widows/widowers\" or \"divorced\".\n",
    "3. Income level affects loan repayment. The ideal scenario for a loan is an individual with a total income ranging from 500k to 1,000k. The risk group includes individuals earning from 100k to 500k. Individuals in this category are significantly more likely to fail to repay the loan on time.\n",
    "4. The purpose of the loan also affects repayment. The best purpose is to purchase housing. The purpose with a higher risk of overdue payments is related to car purchases."
   ]
  }
 ],
 "metadata": {
  "ExecuteTimeLog": [
   {
    "duration": 570,
    "start_time": "2021-12-13T10:55:38.788Z"
   },
   {
    "duration": 242,
    "start_time": "2021-12-13T10:56:21.365Z"
   },
   {
    "duration": 1424,
    "start_time": "2021-12-13T10:56:29.108Z"
   },
   {
    "duration": 63,
    "start_time": "2021-12-13T10:56:50.333Z"
   },
   {
    "duration": 72,
    "start_time": "2021-12-13T10:57:12.325Z"
   },
   {
    "duration": 69,
    "start_time": "2021-12-13T10:58:08.205Z"
   },
   {
    "duration": 110,
    "start_time": "2021-12-13T11:26:32.210Z"
   },
   {
    "duration": 10,
    "start_time": "2021-12-13T11:30:38.543Z"
   },
   {
    "duration": 9,
    "start_time": "2021-12-13T11:31:11.415Z"
   },
   {
    "duration": 9,
    "start_time": "2021-12-13T11:31:28.407Z"
   },
   {
    "duration": 69,
    "start_time": "2021-12-13T11:32:26.767Z"
   },
   {
    "duration": 9,
    "start_time": "2021-12-13T11:32:29.815Z"
   },
   {
    "duration": 5,
    "start_time": "2021-12-13T11:32:42.545Z"
   },
   {
    "duration": 9,
    "start_time": "2021-12-13T11:32:51.931Z"
   },
   {
    "duration": 198,
    "start_time": "2021-12-13T11:33:11.687Z"
   },
   {
    "duration": 257,
    "start_time": "2021-12-13T11:33:16.219Z"
   },
   {
    "duration": 9,
    "start_time": "2021-12-13T11:33:22.463Z"
   },
   {
    "duration": 9,
    "start_time": "2021-12-13T11:33:32.960Z"
   },
   {
    "duration": 9,
    "start_time": "2021-12-13T11:33:45.796Z"
   },
   {
    "duration": 22,
    "start_time": "2021-12-13T11:41:12.570Z"
   },
   {
    "duration": 13,
    "start_time": "2021-12-13T11:41:20.794Z"
   },
   {
    "duration": 69,
    "start_time": "2021-12-13T12:13:56.726Z"
   },
   {
    "duration": 6,
    "start_time": "2021-12-13T12:14:45.063Z"
   },
   {
    "duration": 5,
    "start_time": "2021-12-13T12:14:51.951Z"
   },
   {
    "duration": 193,
    "start_time": "2021-12-13T12:15:20.961Z"
   },
   {
    "duration": 179,
    "start_time": "2021-12-13T12:15:28.644Z"
   },
   {
    "duration": 5,
    "start_time": "2021-12-13T12:15:38.552Z"
   },
   {
    "duration": 5,
    "start_time": "2021-12-13T12:15:43.464Z"
   },
   {
    "duration": 5,
    "start_time": "2021-12-13T12:15:46.844Z"
   },
   {
    "duration": 6,
    "start_time": "2021-12-13T12:16:49.228Z"
   },
   {
    "duration": 5,
    "start_time": "2021-12-13T12:17:15.421Z"
   },
   {
    "duration": 94,
    "start_time": "2021-12-13T12:19:43.373Z"
   },
   {
    "duration": 7,
    "start_time": "2021-12-13T12:22:46.902Z"
   },
   {
    "duration": 11,
    "start_time": "2021-12-13T12:23:11.222Z"
   },
   {
    "duration": 11,
    "start_time": "2021-12-13T12:23:33.963Z"
   },
   {
    "duration": 10,
    "start_time": "2021-12-13T12:26:18.195Z"
   },
   {
    "duration": 199,
    "start_time": "2021-12-13T12:27:19.463Z"
   },
   {
    "duration": 195,
    "start_time": "2021-12-13T12:28:03.428Z"
   },
   {
    "duration": 194,
    "start_time": "2021-12-13T12:28:10.551Z"
   },
   {
    "duration": 210,
    "start_time": "2021-12-13T12:28:44.999Z"
   },
   {
    "duration": 13,
    "start_time": "2021-12-13T12:28:59.552Z"
   },
   {
    "duration": 191,
    "start_time": "2021-12-13T12:29:23.868Z"
   },
   {
    "duration": 198,
    "start_time": "2021-12-13T12:29:29.636Z"
   },
   {
    "duration": 386,
    "start_time": "2021-12-13T12:29:53.280Z"
   },
   {
    "duration": 12,
    "start_time": "2021-12-13T12:30:12.883Z"
   },
   {
    "duration": 12,
    "start_time": "2021-12-13T12:30:48.304Z"
   },
   {
    "duration": 4,
    "start_time": "2021-12-13T12:31:10.689Z"
   },
   {
    "duration": 195,
    "start_time": "2021-12-13T12:52:20.915Z"
   },
   {
    "duration": 7,
    "start_time": "2021-12-13T12:52:29.775Z"
   },
   {
    "duration": 6,
    "start_time": "2021-12-13T12:52:48.879Z"
   },
   {
    "duration": 5,
    "start_time": "2021-12-13T13:08:44.678Z"
   },
   {
    "duration": 14,
    "start_time": "2021-12-13T13:09:09.594Z"
   },
   {
    "duration": 13,
    "start_time": "2021-12-13T13:09:15.224Z"
   },
   {
    "duration": 11,
    "start_time": "2021-12-13T13:14:07.167Z"
   },
   {
    "duration": 13,
    "start_time": "2021-12-13T13:15:09.270Z"
   },
   {
    "duration": -36,
    "start_time": "2021-12-13T13:15:40.801Z"
   },
   {
    "duration": 12,
    "start_time": "2021-12-13T13:16:24.318Z"
   },
   {
    "duration": 16,
    "start_time": "2021-12-13T13:16:41.518Z"
   },
   {
    "duration": 20,
    "start_time": "2021-12-13T13:16:47.030Z"
   },
   {
    "duration": 327,
    "start_time": "2021-12-13T19:39:17.480Z"
   },
   {
    "duration": 718,
    "start_time": "2021-12-13T19:39:30.945Z"
   },
   {
    "duration": 15,
    "start_time": "2021-12-13T19:39:36.936Z"
   },
   {
    "duration": 5,
    "start_time": "2021-12-13T19:40:09.840Z"
   },
   {
    "duration": 4,
    "start_time": "2021-12-13T19:40:13.136Z"
   },
   {
    "duration": 13,
    "start_time": "2021-12-13T19:40:15.288Z"
   },
   {
    "duration": 7,
    "start_time": "2021-12-13T19:40:20.012Z"
   },
   {
    "duration": 14,
    "start_time": "2021-12-13T19:40:22.984Z"
   },
   {
    "duration": 20,
    "start_time": "2021-12-13T19:40:26.372Z"
   },
   {
    "duration": 99,
    "start_time": "2021-12-13T19:42:34.161Z"
   },
   {
    "duration": 33,
    "start_time": "2021-12-13T19:43:37.106Z"
   },
   {
    "duration": 5,
    "start_time": "2021-12-13T19:44:22.914Z"
   },
   {
    "duration": 282,
    "start_time": "2021-12-13T19:51:31.108Z"
   },
   {
    "duration": 270,
    "start_time": "2021-12-13T19:51:58.460Z"
   },
   {
    "duration": 391,
    "start_time": "2021-12-13T19:52:10.412Z"
   },
   {
    "duration": 271,
    "start_time": "2021-12-13T19:52:19.209Z"
   },
   {
    "duration": 268,
    "start_time": "2021-12-13T19:52:27.620Z"
   },
   {
    "duration": 300,
    "start_time": "2021-12-13T19:52:32.475Z"
   },
   {
    "duration": 364,
    "start_time": "2021-12-13T19:52:37.964Z"
   },
   {
    "duration": 21,
    "start_time": "2021-12-13T19:53:10.204Z"
   },
   {
    "duration": 269,
    "start_time": "2021-12-13T19:54:11.286Z"
   },
   {
    "duration": 20,
    "start_time": "2021-12-13T19:54:56.277Z"
   },
   {
    "duration": 291,
    "start_time": "2021-12-13T19:54:59.033Z"
   },
   {
    "duration": 272,
    "start_time": "2021-12-13T19:55:15.891Z"
   },
   {
    "duration": 282,
    "start_time": "2021-12-13T19:55:19.265Z"
   },
   {
    "duration": 294,
    "start_time": "2021-12-13T19:55:34.117Z"
   },
   {
    "duration": 279,
    "start_time": "2021-12-13T19:55:56.693Z"
   },
   {
    "duration": 81,
    "start_time": "2021-12-13T20:06:41.698Z"
   },
   {
    "duration": 3,
    "start_time": "2021-12-13T20:06:47.437Z"
   },
   {
    "duration": 13,
    "start_time": "2021-12-13T20:06:49.617Z"
   },
   {
    "duration": 6,
    "start_time": "2021-12-13T20:06:52.325Z"
   },
   {
    "duration": 16,
    "start_time": "2021-12-13T20:06:54.792Z"
   },
   {
    "duration": 23,
    "start_time": "2021-12-13T20:06:57.721Z"
   },
   {
    "duration": 371,
    "start_time": "2021-12-13T20:07:00.850Z"
   },
   {
    "duration": 274,
    "start_time": "2021-12-13T20:08:02.245Z"
   },
   {
    "duration": 268,
    "start_time": "2021-12-13T20:08:13.810Z"
   },
   {
    "duration": 288,
    "start_time": "2021-12-13T20:11:15.070Z"
   },
   {
    "duration": 274,
    "start_time": "2021-12-13T20:12:11.719Z"
   },
   {
    "duration": 300,
    "start_time": "2021-12-13T20:12:17.023Z"
   },
   {
    "duration": 266,
    "start_time": "2021-12-13T20:12:19.371Z"
   },
   {
    "duration": 6722,
    "start_time": "2021-12-13T20:13:15.915Z"
   },
   {
    "duration": 29,
    "start_time": "2021-12-13T20:13:33.283Z"
   },
   {
    "duration": 448,
    "start_time": "2021-12-13T20:14:01.627Z"
   },
   {
    "duration": 306,
    "start_time": "2021-12-13T20:14:07.276Z"
   },
   {
    "duration": 30,
    "start_time": "2021-12-13T20:14:13.346Z"
   },
   {
    "duration": 284,
    "start_time": "2021-12-13T20:14:19.727Z"
   },
   {
    "duration": 32,
    "start_time": "2021-12-13T20:14:31.845Z"
   },
   {
    "duration": 44,
    "start_time": "2021-12-13T20:15:20.740Z"
   },
   {
    "duration": 49,
    "start_time": "2021-12-13T20:15:28.404Z"
   },
   {
    "duration": 41,
    "start_time": "2021-12-13T20:15:32.636Z"
   },
   {
    "duration": 10,
    "start_time": "2021-12-13T20:15:40.608Z"
   },
   {
    "duration": 6,
    "start_time": "2021-12-13T20:16:03.989Z"
   },
   {
    "duration": 312,
    "start_time": "2021-12-14T07:06:00.154Z"
   },
   {
    "duration": 256,
    "start_time": "2021-12-14T07:06:07.140Z"
   },
   {
    "duration": 875,
    "start_time": "2021-12-14T07:06:11.396Z"
   },
   {
    "duration": 5,
    "start_time": "2021-12-14T07:06:15.309Z"
   },
   {
    "duration": 18,
    "start_time": "2021-12-14T07:06:17.160Z"
   },
   {
    "duration": 9,
    "start_time": "2021-12-14T07:06:19.182Z"
   },
   {
    "duration": 18,
    "start_time": "2021-12-14T07:06:21.792Z"
   },
   {
    "duration": 31,
    "start_time": "2021-12-14T07:06:25.815Z"
   },
   {
    "duration": 19,
    "start_time": "2021-12-14T07:06:28.908Z"
   },
   {
    "duration": 23,
    "start_time": "2021-12-14T07:06:39.998Z"
   },
   {
    "duration": 25,
    "start_time": "2021-12-14T07:07:32.225Z"
   },
   {
    "duration": 36,
    "start_time": "2021-12-14T07:07:53.460Z"
   },
   {
    "duration": 24,
    "start_time": "2021-12-14T07:08:10.325Z"
   },
   {
    "duration": 8,
    "start_time": "2021-12-14T07:09:25.689Z"
   },
   {
    "duration": 308,
    "start_time": "2021-12-14T07:09:59.489Z"
   },
   {
    "duration": 5,
    "start_time": "2021-12-14T07:10:21.870Z"
   },
   {
    "duration": 9,
    "start_time": "2021-12-14T07:10:34.061Z"
   },
   {
    "duration": 248,
    "start_time": "2021-12-14T07:11:38.065Z"
   },
   {
    "duration": 269,
    "start_time": "2021-12-14T07:13:16.538Z"
   },
   {
    "duration": 921,
    "start_time": "2021-12-14T07:13:22.198Z"
   },
   {
    "duration": 326,
    "start_time": "2021-12-14T07:13:41.542Z"
   },
   {
    "duration": 9,
    "start_time": "2021-12-14T07:13:50.789Z"
   },
   {
    "duration": 5397,
    "start_time": "2021-12-14T07:15:13.867Z"
   },
   {
    "duration": 8,
    "start_time": "2021-12-14T07:15:47.387Z"
   },
   {
    "duration": 4476,
    "start_time": "2021-12-14T07:16:03.051Z"
   },
   {
    "duration": 4351,
    "start_time": "2021-12-14T07:16:28.955Z"
   },
   {
    "duration": 9,
    "start_time": "2021-12-14T07:16:36.183Z"
   },
   {
    "duration": 355,
    "start_time": "2021-12-14T07:25:36.762Z"
   },
   {
    "duration": 313,
    "start_time": "2021-12-14T07:26:39.109Z"
   },
   {
    "duration": 24,
    "start_time": "2021-12-14T07:27:04.627Z"
   },
   {
    "duration": 240,
    "start_time": "2021-12-14T07:28:52.039Z"
   },
   {
    "duration": 285,
    "start_time": "2021-12-14T07:29:07.651Z"
   },
   {
    "duration": 253,
    "start_time": "2021-12-14T07:29:23.372Z"
   },
   {
    "duration": 5127,
    "start_time": "2021-12-14T07:29:30.184Z"
   },
   {
    "duration": 91,
    "start_time": "2021-12-14T07:29:38.968Z"
   },
   {
    "duration": 5,
    "start_time": "2021-12-14T07:29:42.519Z"
   },
   {
    "duration": 20,
    "start_time": "2021-12-14T07:29:44.172Z"
   },
   {
    "duration": 7,
    "start_time": "2021-12-14T07:29:46.552Z"
   },
   {
    "duration": 20,
    "start_time": "2021-12-14T07:29:48.188Z"
   },
   {
    "duration": 32,
    "start_time": "2021-12-14T07:29:50.800Z"
   },
   {
    "duration": 22,
    "start_time": "2021-12-14T07:29:53.708Z"
   },
   {
    "duration": 24,
    "start_time": "2021-12-14T07:29:55.992Z"
   },
   {
    "duration": 9,
    "start_time": "2021-12-14T07:29:58.600Z"
   },
   {
    "duration": 8,
    "start_time": "2021-12-14T07:30:01.732Z"
   },
   {
    "duration": 8,
    "start_time": "2021-12-14T07:30:05.204Z"
   },
   {
    "duration": 9,
    "start_time": "2021-12-14T07:32:25.889Z"
   },
   {
    "duration": 9,
    "start_time": "2021-12-14T07:44:10.161Z"
   },
   {
    "duration": 7,
    "start_time": "2021-12-14T07:44:16.302Z"
   },
   {
    "duration": 9,
    "start_time": "2021-12-14T07:44:32.919Z"
   },
   {
    "duration": 415,
    "start_time": "2021-12-14T07:45:51.226Z"
   },
   {
    "duration": 87,
    "start_time": "2021-12-14T07:46:19.226Z"
   },
   {
    "duration": 282,
    "start_time": "2021-12-14T07:46:22.798Z"
   },
   {
    "duration": 9,
    "start_time": "2021-12-14T07:46:27.554Z"
   },
   {
    "duration": 28,
    "start_time": "2021-12-14T07:46:29.601Z"
   },
   {
    "duration": 23,
    "start_time": "2021-12-14T07:46:31.882Z"
   },
   {
    "duration": 32,
    "start_time": "2021-12-14T07:46:36.066Z"
   },
   {
    "duration": 84,
    "start_time": "2021-12-14T07:46:39.562Z"
   },
   {
    "duration": 5,
    "start_time": "2021-12-14T07:46:42.857Z"
   },
   {
    "duration": 20,
    "start_time": "2021-12-14T07:46:44.337Z"
   },
   {
    "duration": 7,
    "start_time": "2021-12-14T07:46:46.502Z"
   },
   {
    "duration": 19,
    "start_time": "2021-12-14T07:46:48.125Z"
   },
   {
    "duration": 32,
    "start_time": "2021-12-14T07:46:50.706Z"
   },
   {
    "duration": 21,
    "start_time": "2021-12-14T07:46:53.330Z"
   },
   {
    "duration": 23,
    "start_time": "2021-12-14T07:46:56.575Z"
   },
   {
    "duration": 9,
    "start_time": "2021-12-14T07:46:58.794Z"
   },
   {
    "duration": 269,
    "start_time": "2021-12-14T07:47:02.806Z"
   },
   {
    "duration": 8,
    "start_time": "2021-12-14T07:47:17.166Z"
   },
   {
    "duration": 255,
    "start_time": "2021-12-14T07:47:20.573Z"
   },
   {
    "duration": 9,
    "start_time": "2021-12-14T07:47:35.190Z"
   },
   {
    "duration": 14,
    "start_time": "2021-12-14T07:49:00.407Z"
   },
   {
    "duration": 6143,
    "start_time": "2021-12-14T07:53:44.536Z"
   },
   {
    "duration": 7805,
    "start_time": "2021-12-14T07:53:54.169Z"
   },
   {
    "duration": 13,
    "start_time": "2021-12-14T07:54:15.089Z"
   },
   {
    "duration": 242,
    "start_time": "2021-12-14T07:57:33.782Z"
   },
   {
    "duration": 262,
    "start_time": "2021-12-14T08:00:07.175Z"
   },
   {
    "duration": 8916,
    "start_time": "2021-12-14T08:02:13.215Z"
   },
   {
    "duration": 4,
    "start_time": "2021-12-14T08:08:29.526Z"
   },
   {
    "duration": 5,
    "start_time": "2021-12-14T08:08:52.834Z"
   },
   {
    "duration": 14,
    "start_time": "2021-12-14T08:09:59.422Z"
   },
   {
    "duration": 1944,
    "start_time": "2021-12-14T08:12:14.575Z"
   },
   {
    "duration": 18,
    "start_time": "2021-12-14T08:12:24.839Z"
   },
   {
    "duration": 4,
    "start_time": "2021-12-14T08:13:06.315Z"
   },
   {
    "duration": 6,
    "start_time": "2021-12-14T08:13:10.563Z"
   },
   {
    "duration": 6,
    "start_time": "2021-12-14T08:13:12.415Z"
   },
   {
    "duration": 14,
    "start_time": "2021-12-14T08:13:16.543Z"
   },
   {
    "duration": 19,
    "start_time": "2021-12-14T08:13:47.887Z"
   },
   {
    "duration": 453,
    "start_time": "2021-12-14T08:14:44.551Z"
   },
   {
    "duration": 18,
    "start_time": "2021-12-14T08:14:53.535Z"
   },
   {
    "duration": 18,
    "start_time": "2021-12-14T08:15:42.996Z"
   },
   {
    "duration": 21,
    "start_time": "2021-12-14T08:15:52.442Z"
   },
   {
    "duration": 10,
    "start_time": "2021-12-14T08:17:15.400Z"
   },
   {
    "duration": 10,
    "start_time": "2021-12-14T08:18:43.233Z"
   },
   {
    "duration": 265,
    "start_time": "2021-12-14T09:15:01.376Z"
   },
   {
    "duration": 88,
    "start_time": "2021-12-14T09:16:17.782Z"
   },
   {
    "duration": 86,
    "start_time": "2021-12-14T09:16:20.382Z"
   },
   {
    "duration": 5,
    "start_time": "2021-12-14T09:16:25.514Z"
   },
   {
    "duration": 18,
    "start_time": "2021-12-14T09:16:27.848Z"
   },
   {
    "duration": 6,
    "start_time": "2021-12-14T09:16:30.238Z"
   },
   {
    "duration": 17,
    "start_time": "2021-12-14T09:16:32.454Z"
   },
   {
    "duration": 32,
    "start_time": "2021-12-14T09:16:35.374Z"
   },
   {
    "duration": 22,
    "start_time": "2021-12-14T09:16:38.315Z"
   },
   {
    "duration": 23,
    "start_time": "2021-12-14T09:16:40.783Z"
   },
   {
    "duration": 9,
    "start_time": "2021-12-14T09:16:43.550Z"
   },
   {
    "duration": 8,
    "start_time": "2021-12-14T09:16:46.142Z"
   },
   {
    "duration": 11,
    "start_time": "2021-12-14T09:17:07.214Z"
   },
   {
    "duration": 5,
    "start_time": "2021-12-14T09:17:16.302Z"
   },
   {
    "duration": 5,
    "start_time": "2021-12-14T09:17:19.890Z"
   },
   {
    "duration": 18,
    "start_time": "2021-12-14T09:17:42.841Z"
   },
   {
    "duration": 5,
    "start_time": "2021-12-14T09:17:57.739Z"
   },
   {
    "duration": 6,
    "start_time": "2021-12-14T09:18:04.711Z"
   },
   {
    "duration": 11,
    "start_time": "2021-12-14T09:18:22.843Z"
   },
   {
    "duration": 301,
    "start_time": "2021-12-14T09:18:48.335Z"
   },
   {
    "duration": 21,
    "start_time": "2021-12-14T09:19:01.055Z"
   },
   {
    "duration": 7,
    "start_time": "2021-12-14T09:19:05.232Z"
   },
   {
    "duration": 6,
    "start_time": "2021-12-14T09:19:18.904Z"
   },
   {
    "duration": 112,
    "start_time": "2021-12-14T09:33:10.316Z"
   },
   {
    "duration": 19,
    "start_time": "2021-12-14T09:37:59.633Z"
   },
   {
    "duration": 7,
    "start_time": "2021-12-14T09:38:31.205Z"
   },
   {
    "duration": 6,
    "start_time": "2021-12-14T09:38:51.017Z"
   },
   {
    "duration": 88,
    "start_time": "2021-12-14T10:03:44.838Z"
   },
   {
    "duration": 7,
    "start_time": "2021-12-14T10:03:51.235Z"
   },
   {
    "duration": 21,
    "start_time": "2021-12-14T10:03:52.994Z"
   },
   {
    "duration": 9,
    "start_time": "2021-12-14T10:03:55.386Z"
   },
   {
    "duration": 18,
    "start_time": "2021-12-14T10:03:57.638Z"
   },
   {
    "duration": 31,
    "start_time": "2021-12-14T10:04:00.202Z"
   },
   {
    "duration": 19,
    "start_time": "2021-12-14T10:04:04.336Z"
   },
   {
    "duration": 23,
    "start_time": "2021-12-14T10:04:05.645Z"
   },
   {
    "duration": 13,
    "start_time": "2021-12-14T10:04:09.078Z"
   },
   {
    "duration": 13,
    "start_time": "2021-12-14T10:04:15.186Z"
   },
   {
    "duration": 5,
    "start_time": "2021-12-14T10:04:17.358Z"
   },
   {
    "duration": 19,
    "start_time": "2021-12-14T10:04:20.169Z"
   },
   {
    "duration": 7,
    "start_time": "2021-12-14T10:04:22.993Z"
   },
   {
    "duration": 6,
    "start_time": "2021-12-14T10:04:25.286Z"
   },
   {
    "duration": 7,
    "start_time": "2021-12-14T10:04:27.908Z"
   },
   {
    "duration": 13,
    "start_time": "2021-12-14T10:04:30.138Z"
   },
   {
    "duration": 671,
    "start_time": "2021-12-14T18:24:42.558Z"
   },
   {
    "duration": 3,
    "start_time": "2021-12-14T18:24:43.231Z"
   },
   {
    "duration": 17,
    "start_time": "2021-12-14T18:24:43.236Z"
   },
   {
    "duration": 9,
    "start_time": "2021-12-14T18:24:43.255Z"
   },
   {
    "duration": 13,
    "start_time": "2021-12-14T18:24:43.266Z"
   },
   {
    "duration": 21,
    "start_time": "2021-12-14T18:24:43.280Z"
   },
   {
    "duration": 15,
    "start_time": "2021-12-14T18:24:43.302Z"
   },
   {
    "duration": 44,
    "start_time": "2021-12-14T18:24:43.319Z"
   },
   {
    "duration": 638,
    "start_time": "2021-12-14T18:24:43.365Z"
   },
   {
    "duration": 8,
    "start_time": "2021-12-14T18:24:44.004Z"
   },
   {
    "duration": 18,
    "start_time": "2021-12-14T18:24:44.013Z"
   },
   {
    "duration": 29,
    "start_time": "2021-12-14T18:24:44.033Z"
   },
   {
    "duration": 11,
    "start_time": "2021-12-14T18:24:44.064Z"
   },
   {
    "duration": 25,
    "start_time": "2021-12-14T18:24:44.077Z"
   },
   {
    "duration": 10,
    "start_time": "2021-12-14T18:24:44.104Z"
   },
   {
    "duration": 32,
    "start_time": "2021-12-14T18:24:44.115Z"
   },
   {
    "duration": 310,
    "start_time": "2021-12-15T07:13:19.694Z"
   },
   {
    "duration": 858,
    "start_time": "2021-12-15T07:13:26.898Z"
   },
   {
    "duration": 5,
    "start_time": "2021-12-15T07:13:31.878Z"
   },
   {
    "duration": 19,
    "start_time": "2021-12-15T07:13:34.162Z"
   },
   {
    "duration": 6,
    "start_time": "2021-12-15T07:13:37.366Z"
   },
   {
    "duration": 17,
    "start_time": "2021-12-15T07:13:42.974Z"
   },
   {
    "duration": 8,
    "start_time": "2021-12-15T07:20:08.705Z"
   },
   {
    "duration": 8,
    "start_time": "2021-12-15T07:20:23.859Z"
   },
   {
    "duration": 262,
    "start_time": "2021-12-15T07:32:35.421Z"
   },
   {
    "duration": -81,
    "start_time": "2021-12-15T07:34:13.865Z"
   },
   {
    "duration": 6932,
    "start_time": "2021-12-15T07:40:53.875Z"
   },
   {
    "duration": 16,
    "start_time": "2021-12-15T07:41:23.231Z"
   },
   {
    "duration": 7145,
    "start_time": "2021-12-15T07:41:25.043Z"
   },
   {
    "duration": 6856,
    "start_time": "2021-12-15T07:43:02.932Z"
   },
   {
    "duration": 9,
    "start_time": "2021-12-15T07:50:39.106Z"
   },
   {
    "duration": 10,
    "start_time": "2021-12-15T07:52:41.443Z"
   },
   {
    "duration": 9709,
    "start_time": "2021-12-15T07:52:50.692Z"
   },
   {
    "duration": -57,
    "start_time": "2021-12-15T07:53:13.477Z"
   },
   {
    "duration": 9,
    "start_time": "2021-12-15T07:53:15.812Z"
   },
   {
    "duration": 7,
    "start_time": "2021-12-15T07:53:24.552Z"
   },
   {
    "duration": 6,
    "start_time": "2021-12-15T07:53:51.736Z"
   },
   {
    "duration": 5,
    "start_time": "2021-12-15T07:56:11.013Z"
   },
   {
    "duration": 4,
    "start_time": "2021-12-15T07:56:19.185Z"
   },
   {
    "duration": 555,
    "start_time": "2021-12-15T07:56:46.772Z"
   },
   {
    "duration": 85,
    "start_time": "2021-12-15T07:56:58.537Z"
   },
   {
    "duration": 5,
    "start_time": "2021-12-15T07:57:02.457Z"
   },
   {
    "duration": 19,
    "start_time": "2021-12-15T07:57:04.929Z"
   },
   {
    "duration": 7,
    "start_time": "2021-12-15T07:57:07.313Z"
   },
   {
    "duration": 16,
    "start_time": "2021-12-15T07:57:09.392Z"
   },
   {
    "duration": 4,
    "start_time": "2021-12-15T07:57:13.263Z"
   },
   {
    "duration": 522,
    "start_time": "2021-12-15T07:57:15.153Z"
   },
   {
    "duration": 504,
    "start_time": "2021-12-15T07:57:33.341Z"
   },
   {
    "duration": 20,
    "start_time": "2021-12-15T08:08:09.056Z"
   },
   {
    "duration": 8,
    "start_time": "2021-12-15T08:08:51.017Z"
   },
   {
    "duration": 10,
    "start_time": "2021-12-15T08:09:24.441Z"
   },
   {
    "duration": 9,
    "start_time": "2021-12-15T08:09:33.444Z"
   },
   {
    "duration": 8,
    "start_time": "2021-12-15T08:09:37.765Z"
   },
   {
    "duration": 8,
    "start_time": "2021-12-15T08:09:46.149Z"
   },
   {
    "duration": 9,
    "start_time": "2021-12-15T08:09:52.673Z"
   },
   {
    "duration": 286,
    "start_time": "2021-12-15T08:17:39.864Z"
   },
   {
    "duration": 15,
    "start_time": "2021-12-15T08:18:05.264Z"
   },
   {
    "duration": 283,
    "start_time": "2021-12-15T08:18:08.364Z"
   },
   {
    "duration": 7299,
    "start_time": "2021-12-15T08:18:26.488Z"
   },
   {
    "duration": 27,
    "start_time": "2021-12-15T08:18:51.160Z"
   },
   {
    "duration": 244,
    "start_time": "2021-12-15T08:32:33.205Z"
   },
   {
    "duration": 5,
    "start_time": "2021-12-15T08:32:45.334Z"
   },
   {
    "duration": 301,
    "start_time": "2021-12-15T08:32:51.057Z"
   },
   {
    "duration": 258,
    "start_time": "2021-12-15T08:32:58.456Z"
   },
   {
    "duration": 241,
    "start_time": "2021-12-15T08:39:33.023Z"
   },
   {
    "duration": 294,
    "start_time": "2021-12-15T08:39:59.155Z"
   },
   {
    "duration": 346,
    "start_time": "2021-12-15T08:42:01.823Z"
   },
   {
    "duration": 55,
    "start_time": "2021-12-15T08:43:50.487Z"
   },
   {
    "duration": 11,
    "start_time": "2021-12-15T08:46:28.428Z"
   },
   {
    "duration": 49,
    "start_time": "2021-12-15T08:46:37.253Z"
   },
   {
    "duration": 330,
    "start_time": "2021-12-15T08:46:49.853Z"
   },
   {
    "duration": 241,
    "start_time": "2021-12-15T08:46:52.240Z"
   },
   {
    "duration": 10,
    "start_time": "2021-12-15T08:46:55.028Z"
   },
   {
    "duration": 7,
    "start_time": "2021-12-15T08:46:57.241Z"
   },
   {
    "duration": 795,
    "start_time": "2021-12-15T08:46:59.254Z"
   },
   {
    "duration": 84,
    "start_time": "2021-12-15T08:47:15.577Z"
   },
   {
    "duration": 5,
    "start_time": "2021-12-15T08:47:19.766Z"
   },
   {
    "duration": 29,
    "start_time": "2021-12-15T08:47:21.438Z"
   },
   {
    "duration": 9,
    "start_time": "2021-12-15T08:47:24.073Z"
   },
   {
    "duration": 7,
    "start_time": "2021-12-15T08:47:25.865Z"
   },
   {
    "duration": 16,
    "start_time": "2021-12-15T08:47:27.809Z"
   },
   {
    "duration": 86,
    "start_time": "2021-12-15T08:47:30.517Z"
   },
   {
    "duration": 12,
    "start_time": "2021-12-15T08:47:34.005Z"
   },
   {
    "duration": 55,
    "start_time": "2021-12-15T08:47:37.761Z"
   },
   {
    "duration": 35,
    "start_time": "2021-12-15T08:48:20.096Z"
   },
   {
    "duration": 5,
    "start_time": "2021-12-15T08:48:56.126Z"
   },
   {
    "duration": 7,
    "start_time": "2021-12-15T08:49:19.265Z"
   },
   {
    "duration": 41,
    "start_time": "2021-12-15T08:49:24.266Z"
   },
   {
    "duration": 245,
    "start_time": "2021-12-15T08:51:04.678Z"
   },
   {
    "duration": 8,
    "start_time": "2021-12-15T08:51:19.142Z"
   },
   {
    "duration": -71,
    "start_time": "2021-12-15T08:52:05.282Z"
   },
   {
    "duration": 32,
    "start_time": "2021-12-15T08:52:06.862Z"
   },
   {
    "duration": 11,
    "start_time": "2021-12-15T08:52:27.567Z"
   },
   {
    "duration": 34,
    "start_time": "2021-12-15T08:52:29.834Z"
   },
   {
    "duration": 6770,
    "start_time": "2021-12-15T08:53:00.498Z"
   },
   {
    "duration": -80,
    "start_time": "2021-12-15T08:53:07.350Z"
   },
   {
    "duration": 261,
    "start_time": "2021-12-15T08:54:46.457Z"
   },
   {
    "duration": 248,
    "start_time": "2021-12-15T08:55:06.603Z"
   },
   {
    "duration": 32,
    "start_time": "2021-12-15T08:55:09.375Z"
   },
   {
    "duration": 38,
    "start_time": "2021-12-15T08:55:23.755Z"
   },
   {
    "duration": 90,
    "start_time": "2021-12-15T08:55:49.931Z"
   },
   {
    "duration": 5,
    "start_time": "2021-12-15T08:55:54.011Z"
   },
   {
    "duration": 21,
    "start_time": "2021-12-15T08:55:56.128Z"
   },
   {
    "duration": 9,
    "start_time": "2021-12-15T08:55:58.648Z"
   },
   {
    "duration": 9,
    "start_time": "2021-12-15T08:56:01.184Z"
   },
   {
    "duration": 17,
    "start_time": "2021-12-15T08:56:03.407Z"
   },
   {
    "duration": 11,
    "start_time": "2021-12-15T08:56:06.032Z"
   },
   {
    "duration": 39,
    "start_time": "2021-12-15T08:56:08.987Z"
   },
   {
    "duration": 7,
    "start_time": "2021-12-15T08:56:39.520Z"
   },
   {
    "duration": 38,
    "start_time": "2021-12-15T08:56:42.616Z"
   },
   {
    "duration": 21,
    "start_time": "2021-12-15T08:56:50.224Z"
   },
   {
    "duration": 10,
    "start_time": "2021-12-15T08:57:15.100Z"
   },
   {
    "duration": 335,
    "start_time": "2021-12-15T08:57:24.592Z"
   },
   {
    "duration": 280,
    "start_time": "2021-12-15T08:57:41.688Z"
   },
   {
    "duration": 20,
    "start_time": "2021-12-15T08:57:48.888Z"
   },
   {
    "duration": 6613,
    "start_time": "2021-12-15T08:58:05.836Z"
   },
   {
    "duration": -78,
    "start_time": "2021-12-15T08:58:12.529Z"
   },
   {
    "duration": 86,
    "start_time": "2021-12-15T08:58:33.305Z"
   },
   {
    "duration": 5,
    "start_time": "2021-12-15T08:58:37.300Z"
   },
   {
    "duration": 25,
    "start_time": "2021-12-15T08:58:39.209Z"
   },
   {
    "duration": 9,
    "start_time": "2021-12-15T08:58:41.693Z"
   },
   {
    "duration": 6,
    "start_time": "2021-12-15T08:58:43.609Z"
   },
   {
    "duration": 16,
    "start_time": "2021-12-15T08:58:45.689Z"
   },
   {
    "duration": 11,
    "start_time": "2021-12-15T08:58:47.700Z"
   },
   {
    "duration": 38,
    "start_time": "2021-12-15T08:58:50.109Z"
   },
   {
    "duration": 7,
    "start_time": "2021-12-15T08:58:52.948Z"
   },
   {
    "duration": 347,
    "start_time": "2021-12-15T08:58:55.173Z"
   },
   {
    "duration": 303,
    "start_time": "2021-12-15T08:59:03.585Z"
   },
   {
    "duration": 39,
    "start_time": "2021-12-15T08:59:11.625Z"
   },
   {
    "duration": 89,
    "start_time": "2021-12-15T08:59:23.041Z"
   },
   {
    "duration": 5,
    "start_time": "2021-12-15T08:59:26.661Z"
   },
   {
    "duration": 21,
    "start_time": "2021-12-15T08:59:29.145Z"
   },
   {
    "duration": 9,
    "start_time": "2021-12-15T08:59:31.661Z"
   },
   {
    "duration": 7,
    "start_time": "2021-12-15T08:59:33.794Z"
   },
   {
    "duration": 16,
    "start_time": "2021-12-15T08:59:36.225Z"
   },
   {
    "duration": 9,
    "start_time": "2021-12-15T08:59:38.417Z"
   },
   {
    "duration": 38,
    "start_time": "2021-12-15T08:59:40.749Z"
   },
   {
    "duration": 7,
    "start_time": "2021-12-15T08:59:46.757Z"
   },
   {
    "duration": 16,
    "start_time": "2021-12-15T08:59:49.081Z"
   },
   {
    "duration": 18,
    "start_time": "2021-12-15T08:59:51.241Z"
   },
   {
    "duration": 32,
    "start_time": "2021-12-15T09:00:20.081Z"
   },
   {
    "duration": 23,
    "start_time": "2021-12-15T09:00:33.069Z"
   },
   {
    "duration": 24,
    "start_time": "2021-12-15T09:00:37.281Z"
   },
   {
    "duration": 763,
    "start_time": "2021-12-15T09:00:41.909Z"
   },
   {
    "duration": 11,
    "start_time": "2021-12-15T09:00:46.057Z"
   },
   {
    "duration": 5,
    "start_time": "2021-12-15T09:00:48.493Z"
   },
   {
    "duration": 18,
    "start_time": "2021-12-15T09:00:51.367Z"
   },
   {
    "duration": 90,
    "start_time": "2021-12-15T09:21:43.745Z"
   },
   {
    "duration": 5,
    "start_time": "2021-12-15T09:21:48.151Z"
   },
   {
    "duration": 22,
    "start_time": "2021-12-15T09:21:50.501Z"
   },
   {
    "duration": 8,
    "start_time": "2021-12-15T09:21:54.471Z"
   },
   {
    "duration": 10,
    "start_time": "2021-12-15T09:22:14.927Z"
   },
   {
    "duration": 16,
    "start_time": "2021-12-15T09:22:36.068Z"
   },
   {
    "duration": 83,
    "start_time": "2021-12-15T09:23:31.932Z"
   },
   {
    "duration": 11,
    "start_time": "2021-12-15T09:23:45.932Z"
   },
   {
    "duration": 94,
    "start_time": "2021-12-15T09:24:26.537Z"
   },
   {
    "duration": 37,
    "start_time": "2021-12-15T09:24:35.246Z"
   },
   {
    "duration": 6,
    "start_time": "2021-12-15T09:25:15.489Z"
   },
   {
    "duration": 15,
    "start_time": "2021-12-15T09:25:44.637Z"
   },
   {
    "duration": 17,
    "start_time": "2021-12-15T09:25:49.564Z"
   },
   {
    "duration": 114,
    "start_time": "2021-12-15T09:27:27.810Z"
   },
   {
    "duration": 36,
    "start_time": "2021-12-15T09:28:48.402Z"
   },
   {
    "duration": 28,
    "start_time": "2021-12-15T09:28:57.818Z"
   },
   {
    "duration": 28,
    "start_time": "2021-12-15T09:28:59.510Z"
   },
   {
    "duration": 16,
    "start_time": "2021-12-15T09:29:06.314Z"
   },
   {
    "duration": 11,
    "start_time": "2021-12-15T09:29:23.182Z"
   },
   {
    "duration": 4,
    "start_time": "2021-12-15T09:29:24.351Z"
   },
   {
    "duration": 19,
    "start_time": "2021-12-15T09:29:25.622Z"
   },
   {
    "duration": 17,
    "start_time": "2021-12-15T09:31:02.175Z"
   },
   {
    "duration": 6,
    "start_time": "2021-12-15T09:31:07.931Z"
   },
   {
    "duration": 356,
    "start_time": "2021-12-15T09:35:29.169Z"
   },
   {
    "duration": 6,
    "start_time": "2021-12-15T09:35:33.433Z"
   },
   {
    "duration": 285,
    "start_time": "2021-12-15T09:36:45.712Z"
   },
   {
    "duration": 14,
    "start_time": "2021-12-15T09:36:53.397Z"
   },
   {
    "duration": 14,
    "start_time": "2021-12-15T09:37:50.861Z"
   },
   {
    "duration": 8,
    "start_time": "2021-12-15T09:38:00.793Z"
   },
   {
    "duration": 253,
    "start_time": "2021-12-15T09:38:15.257Z"
   },
   {
    "duration": 11,
    "start_time": "2021-12-15T09:38:37.313Z"
   },
   {
    "duration": 5,
    "start_time": "2021-12-15T09:38:56.390Z"
   },
   {
    "duration": 83,
    "start_time": "2021-12-15T09:39:20.038Z"
   },
   {
    "duration": 12,
    "start_time": "2021-12-15T09:39:24.450Z"
   },
   {
    "duration": 15,
    "start_time": "2021-12-15T09:44:02.319Z"
   },
   {
    "duration": 18,
    "start_time": "2021-12-15T09:44:24.188Z"
   },
   {
    "duration": 4,
    "start_time": "2021-12-15T09:44:25.595Z"
   },
   {
    "duration": 21,
    "start_time": "2021-12-15T09:44:27.043Z"
   },
   {
    "duration": 6,
    "start_time": "2021-12-15T09:44:38.515Z"
   },
   {
    "duration": 6,
    "start_time": "2021-12-15T09:44:49.796Z"
   },
   {
    "duration": 16,
    "start_time": "2021-12-15T09:45:02.516Z"
   },
   {
    "duration": 4,
    "start_time": "2021-12-15T09:45:03.395Z"
   },
   {
    "duration": 20,
    "start_time": "2021-12-15T09:45:12.787Z"
   },
   {
    "duration": 6,
    "start_time": "2021-12-15T09:45:21.607Z"
   },
   {
    "duration": 7,
    "start_time": "2021-12-15T09:45:59.227Z"
   },
   {
    "duration": 7,
    "start_time": "2021-12-15T09:48:50.132Z"
   },
   {
    "duration": 11,
    "start_time": "2021-12-15T10:01:33.972Z"
   },
   {
    "duration": 13,
    "start_time": "2021-12-15T10:04:04.926Z"
   },
   {
    "duration": 11,
    "start_time": "2021-12-15T10:04:07.458Z"
   },
   {
    "duration": 7530,
    "start_time": "2021-12-15T10:06:07.449Z"
   },
   {
    "duration": 8183,
    "start_time": "2021-12-15T10:06:22.437Z"
   },
   {
    "duration": 14,
    "start_time": "2021-12-15T10:06:32.922Z"
   },
   {
    "duration": 91,
    "start_time": "2021-12-15T10:08:48.995Z"
   },
   {
    "duration": 24,
    "start_time": "2021-12-15T10:09:08.951Z"
   },
   {
    "duration": 10542,
    "start_time": "2021-12-15T10:09:56.606Z"
   },
   {
    "duration": 2598,
    "start_time": "2021-12-15T10:12:45.708Z"
   },
   {
    "duration": 10539,
    "start_time": "2021-12-15T10:12:56.624Z"
   },
   {
    "duration": 17,
    "start_time": "2021-12-15T10:28:44.334Z"
   },
   {
    "duration": 91,
    "start_time": "2021-12-15T10:29:25.849Z"
   },
   {
    "duration": 5,
    "start_time": "2021-12-15T10:29:28.053Z"
   },
   {
    "duration": 19,
    "start_time": "2021-12-15T10:29:28.773Z"
   },
   {
    "duration": 10,
    "start_time": "2021-12-15T10:29:29.517Z"
   },
   {
    "duration": 8,
    "start_time": "2021-12-15T10:29:30.426Z"
   },
   {
    "duration": 17,
    "start_time": "2021-12-15T10:29:31.449Z"
   },
   {
    "duration": 15,
    "start_time": "2021-12-15T10:29:32.521Z"
   },
   {
    "duration": 58,
    "start_time": "2021-12-15T10:29:33.481Z"
   },
   {
    "duration": 7,
    "start_time": "2021-12-15T10:29:34.665Z"
   },
   {
    "duration": 15,
    "start_time": "2021-12-15T10:29:35.684Z"
   },
   {
    "duration": 23,
    "start_time": "2021-12-15T10:29:36.113Z"
   },
   {
    "duration": 37,
    "start_time": "2021-12-15T10:29:39.402Z"
   },
   {
    "duration": 22,
    "start_time": "2021-12-15T10:29:57.361Z"
   },
   {
    "duration": 26,
    "start_time": "2021-12-15T10:29:58.597Z"
   },
   {
    "duration": 15,
    "start_time": "2021-12-15T10:30:11.018Z"
   },
   {
    "duration": 17,
    "start_time": "2021-12-15T10:30:15.505Z"
   },
   {
    "duration": 5,
    "start_time": "2021-12-15T10:30:16.437Z"
   },
   {
    "duration": 22,
    "start_time": "2021-12-15T10:30:17.298Z"
   },
   {
    "duration": 6,
    "start_time": "2021-12-15T10:30:20.598Z"
   },
   {
    "duration": 6,
    "start_time": "2021-12-15T10:30:23.493Z"
   },
   {
    "duration": 5,
    "start_time": "2021-12-15T10:30:26.446Z"
   },
   {
    "duration": 11,
    "start_time": "2021-12-15T10:30:30.257Z"
   },
   {
    "duration": 18,
    "start_time": "2021-12-15T10:30:31.198Z"
   },
   {
    "duration": 22,
    "start_time": "2021-12-15T10:32:38.554Z"
   },
   {
    "duration": 8,
    "start_time": "2021-12-15T10:33:50.041Z"
   },
   {
    "duration": 31,
    "start_time": "2021-12-15T10:34:09.427Z"
   },
   {
    "duration": 33,
    "start_time": "2021-12-15T10:34:20.292Z"
   },
   {
    "duration": 40,
    "start_time": "2021-12-15T10:34:27.003Z"
   },
   {
    "duration": 89,
    "start_time": "2021-12-15T10:34:39.335Z"
   },
   {
    "duration": 5,
    "start_time": "2021-12-15T10:34:43.471Z"
   },
   {
    "duration": 24,
    "start_time": "2021-12-15T10:34:44.403Z"
   },
   {
    "duration": 9,
    "start_time": "2021-12-15T10:34:45.443Z"
   },
   {
    "duration": 7,
    "start_time": "2021-12-15T10:34:46.491Z"
   },
   {
    "duration": 15,
    "start_time": "2021-12-15T10:34:47.727Z"
   },
   {
    "duration": 10,
    "start_time": "2021-12-15T10:34:48.847Z"
   },
   {
    "duration": 40,
    "start_time": "2021-12-15T10:34:51.475Z"
   },
   {
    "duration": 7,
    "start_time": "2021-12-15T10:34:57.528Z"
   },
   {
    "duration": 16,
    "start_time": "2021-12-15T10:34:58.591Z"
   },
   {
    "duration": 18,
    "start_time": "2021-12-15T10:34:59.831Z"
   },
   {
    "duration": 34,
    "start_time": "2021-12-15T10:35:03.431Z"
   },
   {
    "duration": 21,
    "start_time": "2021-12-15T10:35:06.195Z"
   },
   {
    "duration": 26,
    "start_time": "2021-12-15T10:35:07.095Z"
   },
   {
    "duration": 13,
    "start_time": "2021-12-15T10:35:09.420Z"
   },
   {
    "duration": 15,
    "start_time": "2021-12-15T10:35:13.497Z"
   },
   {
    "duration": 4,
    "start_time": "2021-12-15T10:35:16.940Z"
   },
   {
    "duration": 20,
    "start_time": "2021-12-15T10:35:17.831Z"
   },
   {
    "duration": 7,
    "start_time": "2021-12-15T10:35:20.812Z"
   },
   {
    "duration": 6,
    "start_time": "2021-12-15T10:35:23.587Z"
   },
   {
    "duration": 6,
    "start_time": "2021-12-15T10:35:28.776Z"
   },
   {
    "duration": 11,
    "start_time": "2021-12-15T10:35:32.632Z"
   },
   {
    "duration": 30,
    "start_time": "2021-12-15T10:35:35.155Z"
   },
   {
    "duration": 6754,
    "start_time": "2021-12-15T10:35:55.445Z"
   },
   {
    "duration": 259,
    "start_time": "2021-12-15T10:37:33.676Z"
   },
   {
    "duration": 8035,
    "start_time": "2021-12-15T10:44:46.043Z"
   },
   {
    "duration": 9163,
    "start_time": "2021-12-15T10:45:07.574Z"
   },
   {
    "duration": 7,
    "start_time": "2021-12-15T10:45:19.471Z"
   },
   {
    "duration": 2182,
    "start_time": "2021-12-15T10:45:28.411Z"
   },
   {
    "duration": 10,
    "start_time": "2021-12-15T10:46:30.335Z"
   },
   {
    "duration": 3987,
    "start_time": "2021-12-15T10:47:05.999Z"
   },
   {
    "duration": 13,
    "start_time": "2021-12-15T10:47:23.619Z"
   },
   {
    "duration": 241,
    "start_time": "2021-12-15T10:47:35.621Z"
   },
   {
    "duration": 232,
    "start_time": "2021-12-15T10:47:38.511Z"
   },
   {
    "duration": 82,
    "start_time": "2021-12-15T10:48:29.089Z"
   },
   {
    "duration": 88,
    "start_time": "2021-12-15T10:48:39.412Z"
   },
   {
    "duration": 89,
    "start_time": "2021-12-15T10:48:57.960Z"
   },
   {
    "duration": -59,
    "start_time": "2021-12-15T10:49:12.584Z"
   },
   {
    "duration": 6668,
    "start_time": "2021-12-15T10:49:28.284Z"
   },
   {
    "duration": 94,
    "start_time": "2021-12-15T10:49:55.564Z"
   },
   {
    "duration": 6,
    "start_time": "2021-12-15T10:50:00.824Z"
   },
   {
    "duration": 18,
    "start_time": "2021-12-15T10:50:02.292Z"
   },
   {
    "duration": 9,
    "start_time": "2021-12-15T10:50:03.548Z"
   },
   {
    "duration": 9,
    "start_time": "2021-12-15T10:50:04.816Z"
   },
   {
    "duration": 18,
    "start_time": "2021-12-15T10:50:06.026Z"
   },
   {
    "duration": 10,
    "start_time": "2021-12-15T10:50:07.376Z"
   },
   {
    "duration": 39,
    "start_time": "2021-12-15T10:50:08.432Z"
   },
   {
    "duration": 7,
    "start_time": "2021-12-15T10:50:09.500Z"
   },
   {
    "duration": 16,
    "start_time": "2021-12-15T10:50:10.560Z"
   },
   {
    "duration": 22,
    "start_time": "2021-12-15T10:50:11.208Z"
   },
   {
    "duration": 33,
    "start_time": "2021-12-15T10:50:16.336Z"
   },
   {
    "duration": 21,
    "start_time": "2021-12-15T10:50:19.796Z"
   },
   {
    "duration": 23,
    "start_time": "2021-12-15T10:50:21.349Z"
   },
   {
    "duration": 10,
    "start_time": "2021-12-15T10:50:24.832Z"
   },
   {
    "duration": 19,
    "start_time": "2021-12-15T10:50:28.012Z"
   },
   {
    "duration": 4,
    "start_time": "2021-12-15T10:50:29.048Z"
   },
   {
    "duration": 22,
    "start_time": "2021-12-15T10:50:30.027Z"
   },
   {
    "duration": 11,
    "start_time": "2021-12-15T10:50:33.017Z"
   },
   {
    "duration": 7,
    "start_time": "2021-12-15T10:50:35.396Z"
   },
   {
    "duration": 7,
    "start_time": "2021-12-15T10:50:37.880Z"
   },
   {
    "duration": 11,
    "start_time": "2021-12-15T10:50:40.949Z"
   },
   {
    "duration": 7254,
    "start_time": "2021-12-15T10:50:41.553Z"
   },
   {
    "duration": 12,
    "start_time": "2021-12-15T10:51:07.097Z"
   },
   {
    "duration": 20,
    "start_time": "2021-12-15T10:51:19.184Z"
   },
   {
    "duration": 17,
    "start_time": "2021-12-15T10:52:11.401Z"
   },
   {
    "duration": 4,
    "start_time": "2021-12-15T11:53:20.693Z"
   },
   {
    "duration": 26,
    "start_time": "2021-12-15T11:55:13.341Z"
   },
   {
    "duration": 34,
    "start_time": "2021-12-15T11:55:25.641Z"
   },
   {
    "duration": 5,
    "start_time": "2021-12-15T11:55:38.909Z"
   },
   {
    "duration": 35,
    "start_time": "2021-12-15T11:55:41.463Z"
   },
   {
    "duration": 15,
    "start_time": "2021-12-15T11:56:44.714Z"
   },
   {
    "duration": 24,
    "start_time": "2021-12-15T11:58:54.587Z"
   },
   {
    "duration": 81,
    "start_time": "2021-12-15T12:15:18.687Z"
   },
   {
    "duration": 89,
    "start_time": "2021-12-15T12:15:38.489Z"
   },
   {
    "duration": 5,
    "start_time": "2021-12-15T12:15:45.623Z"
   },
   {
    "duration": 25,
    "start_time": "2021-12-15T12:15:46.800Z"
   },
   {
    "duration": 7,
    "start_time": "2021-12-15T12:15:48.852Z"
   },
   {
    "duration": 6,
    "start_time": "2021-12-15T12:15:50.121Z"
   },
   {
    "duration": 15,
    "start_time": "2021-12-15T12:15:51.560Z"
   },
   {
    "duration": 9,
    "start_time": "2021-12-15T12:15:53.568Z"
   },
   {
    "duration": 40,
    "start_time": "2021-12-15T12:15:55.016Z"
   },
   {
    "duration": 6,
    "start_time": "2021-12-15T12:15:56.412Z"
   },
   {
    "duration": 15,
    "start_time": "2021-12-15T12:15:59.300Z"
   },
   {
    "duration": 18,
    "start_time": "2021-12-15T12:16:00.448Z"
   },
   {
    "duration": 32,
    "start_time": "2021-12-15T12:16:05.552Z"
   },
   {
    "duration": 22,
    "start_time": "2021-12-15T12:16:10.059Z"
   },
   {
    "duration": 26,
    "start_time": "2021-12-15T12:16:11.920Z"
   },
   {
    "duration": 9,
    "start_time": "2021-12-15T12:16:15.704Z"
   },
   {
    "duration": 24,
    "start_time": "2021-12-15T12:16:19.840Z"
   },
   {
    "duration": 4,
    "start_time": "2021-12-15T12:16:21.368Z"
   },
   {
    "duration": 22,
    "start_time": "2021-12-15T12:16:23.204Z"
   },
   {
    "duration": 7,
    "start_time": "2021-12-15T12:16:27.315Z"
   },
   {
    "duration": 7,
    "start_time": "2021-12-15T12:16:40.524Z"
   },
   {
    "duration": 7,
    "start_time": "2021-12-15T12:16:44.144Z"
   },
   {
    "duration": 5,
    "start_time": "2021-12-15T12:16:48.235Z"
   },
   {
    "duration": 27,
    "start_time": "2021-12-15T12:16:50.712Z"
   }
  ],
  "kernelspec": {
   "display_name": "Python 3 (ipykernel)",
   "language": "python",
   "name": "python3"
  },
  "language_info": {
   "codemirror_mode": {
    "name": "ipython",
    "version": 3
   },
   "file_extension": ".py",
   "mimetype": "text/x-python",
   "name": "python",
   "nbconvert_exporter": "python",
   "pygments_lexer": "ipython3",
   "version": "3.9.5"
  },
  "toc": {
   "base_numbering": 1,
   "nav_menu": {},
   "number_sections": true,
   "sideBar": true,
   "skip_h1_title": true,
   "title_cell": "Table of Contents",
   "title_sidebar": "Contents",
   "toc_cell": false,
   "toc_position": {},
   "toc_section_display": true,
   "toc_window_display": false
  }
 },
 "nbformat": 4,
 "nbformat_minor": 2
}
