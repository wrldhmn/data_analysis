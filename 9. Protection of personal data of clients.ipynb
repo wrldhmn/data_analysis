{
 "cells": [
  {
   "cell_type": "markdown",
   "metadata": {},
   "source": [
    "# Protection of personal data of clients"
   ]
  },
  {
   "cell_type": "markdown",
   "metadata": {},
   "source": [
    "You need to protect the data of clients of the insurance company \"Though the Flood\". Develop a method for transforming data so that it is difficult to recover personal information from it. Justify the correctness of its operation.\n",
    "\n",
    "It is necessary to protect the data so that the quality of machine learning models does not deteriorate during conversion. There is no need to select the best model."
   ]
  },
  {
   "cell_type": "markdown",
   "metadata": {},
   "source": [
    "## Loading data"
   ]
  },
  {
   "cell_type": "markdown",
   "metadata": {},
   "source": [
    "Import the necessary libraries and look at the data"
   ]
  },
  {
   "cell_type": "code",
   "execution_count": 12,
   "metadata": {
    "scrolled": false
   },
   "outputs": [
    {
     "name": "stdout",
     "output_type": "stream",
     "text": [
      "<class 'pandas.core.frame.DataFrame'>\n",
      "RangeIndex: 5000 entries, 0 to 4999\n",
      "Data columns (total 5 columns):\n",
      " #   Column             Non-Null Count  Dtype  \n",
      "---  ------             --------------  -----  \n",
      " 0   Пол                5000 non-null   int64  \n",
      " 1   Возраст            5000 non-null   float64\n",
      " 2   Зарплата           5000 non-null   float64\n",
      " 3   Члены семьи        5000 non-null   int64  \n",
      " 4   Страховые выплаты  5000 non-null   int64  \n",
      "dtypes: float64(2), int64(3)\n",
      "memory usage: 195.4 KB\n",
      "None\n"
     ]
    },
    {
     "data": {
      "text/html": [
       "<div>\n",
       "<style scoped>\n",
       "    .dataframe tbody tr th:only-of-type {\n",
       "        vertical-align: middle;\n",
       "    }\n",
       "\n",
       "    .dataframe tbody tr th {\n",
       "        vertical-align: top;\n",
       "    }\n",
       "\n",
       "    .dataframe thead th {\n",
       "        text-align: right;\n",
       "    }\n",
       "</style>\n",
       "<table border=\"1\" class=\"dataframe\">\n",
       "  <thead>\n",
       "    <tr style=\"text-align: right;\">\n",
       "      <th></th>\n",
       "      <th>Пол</th>\n",
       "      <th>Возраст</th>\n",
       "      <th>Зарплата</th>\n",
       "      <th>Члены семьи</th>\n",
       "      <th>Страховые выплаты</th>\n",
       "    </tr>\n",
       "  </thead>\n",
       "  <tbody>\n",
       "    <tr>\n",
       "      <th>0</th>\n",
       "      <td>1</td>\n",
       "      <td>41.0</td>\n",
       "      <td>49600.0</td>\n",
       "      <td>1</td>\n",
       "      <td>0</td>\n",
       "    </tr>\n",
       "    <tr>\n",
       "      <th>1</th>\n",
       "      <td>0</td>\n",
       "      <td>46.0</td>\n",
       "      <td>38000.0</td>\n",
       "      <td>1</td>\n",
       "      <td>1</td>\n",
       "    </tr>\n",
       "    <tr>\n",
       "      <th>2</th>\n",
       "      <td>0</td>\n",
       "      <td>29.0</td>\n",
       "      <td>21000.0</td>\n",
       "      <td>0</td>\n",
       "      <td>0</td>\n",
       "    </tr>\n",
       "    <tr>\n",
       "      <th>3</th>\n",
       "      <td>0</td>\n",
       "      <td>21.0</td>\n",
       "      <td>41700.0</td>\n",
       "      <td>2</td>\n",
       "      <td>0</td>\n",
       "    </tr>\n",
       "    <tr>\n",
       "      <th>4</th>\n",
       "      <td>1</td>\n",
       "      <td>28.0</td>\n",
       "      <td>26100.0</td>\n",
       "      <td>0</td>\n",
       "      <td>0</td>\n",
       "    </tr>\n",
       "  </tbody>\n",
       "</table>\n",
       "</div>"
      ],
      "text/plain": [
       "   Пол  Возраст  Зарплата  Члены семьи  Страховые выплаты\n",
       "0    1     41.0   49600.0            1                  0\n",
       "1    0     46.0   38000.0            1                  1\n",
       "2    0     29.0   21000.0            0                  0\n",
       "3    0     21.0   41700.0            2                  0\n",
       "4    1     28.0   26100.0            0                  0"
      ]
     },
     "metadata": {},
     "output_type": "display_data"
    },
    {
     "name": "stdout",
     "output_type": "stream",
     "text": [
      "               Пол      Возраст      Зарплата  Члены семьи  Страховые выплаты\n",
      "count  5000.000000  5000.000000   5000.000000  5000.000000        5000.000000\n",
      "mean      0.499000    30.952800  39916.360000     1.194200           0.148000\n",
      "std       0.500049     8.440807   9900.083569     1.091387           0.463183\n",
      "min       0.000000    18.000000   5300.000000     0.000000           0.000000\n",
      "25%       0.000000    24.000000  33300.000000     0.000000           0.000000\n",
      "50%       0.000000    30.000000  40200.000000     1.000000           0.000000\n",
      "75%       1.000000    37.000000  46600.000000     2.000000           0.000000\n",
      "max       1.000000    65.000000  79000.000000     6.000000           5.000000\n"
     ]
    }
   ],
   "source": [
    "import pandas as pd\n",
    "import numpy as np\n",
    "from sklearn.linear_model import LinearRegression\n",
    "from sklearn.metrics import r2_score\n",
    "\n",
    "df = pd.read_csv('/datasets/insurance.csv')\n",
    "\n",
    "print(df.info())\n",
    "display(df.head())\n",
    "print(df.describe())"
   ]
  },
  {
   "cell_type": "markdown",
   "metadata": {},
   "source": [
    "There are no passes.\n",
    "\n",
    "Let's break down the data for further work."
   ]
  },
  {
   "cell_type": "code",
   "execution_count": 13,
   "metadata": {},
   "outputs": [],
   "source": [
    "features = df.drop('Страховые выплаты', axis=1)\n",
    "target = df['Страховые выплаты']"
   ]
  },
  {
   "cell_type": "markdown",
   "metadata": {},
   "source": [
    "## Matrix multiplication"
   ]
  },
  {
   "cell_type": "markdown",
   "metadata": {},
   "source": [
    "In this activity you can write formulas in *Jupyter Notebook.*\n",
    "\n",
    "To write a formula inside text, surround it with dollar symbols \\\\$; if outside - double symbols \\\\$\\\\$. These formulas are written in the layout language *LaTeX.*\n",
    "\n",
    "For example, we wrote down the linear regression formulas. You can copy and edit them to solve the problem.\n",
    "\n",
    "Working in *LaTeX* is not necessary."
   ]
  },
  {
   "cell_type": "markdown",
   "metadata": {},
   "source": [
    "Designations:\n",
    "\n",
    "- $X$ — matrix of features (the zero column consists of ones)\n",
    "\n",
    "- $y$ — vector of the target feature\n",
    "\n",
    "- $P$ is the matrix by which the features are multiplied\n",
    "\n",
    "- $w$ — vector of linear regression weights (zero element equals shift)"
   ]
  },
  {
   "cell_type": "markdown",
   "metadata": {},
   "source": [
    "Predictions:\n",
    "\n",
    "$$\n",
    "a = Xw\n",
    "$$\n",
    "\n",
    "Learning Objective:\n",
    "\n",
    "$$\n",
    "w = \\arg\\min_w MSE(Xw, y)\n",
    "$$\n",
    "\n",
    "Training formula:\n",
    "\n",
    "$$\n",
    "w = (X^T X)^{-1} X^T y\n",
    "$$"
   ]
  },
  {
   "cell_type": "markdown",
   "metadata": {},
   "source": [
    "**Answer:** assume that the quality of the linear regression does not change, that is, the predictions $a$ do not change.\n",
    "\n",
    "**Rationale:** It is known that the matrix X is a feature matrix, so let’s multiply the matrix $X$ by the invertible matrix $Z$, and substitute this product into $a$ and $w$.\n",
    "\n",
    "$$a = XZw$$\n",
    "\n",
    "$$w = ((XZ)^T XZ)^{-1}(XZ)^T y$$\n",
    "\n",
    "Let's substitute $w$ в $a$:\n",
    "\n",
    "$$a = XZ(((XZ)^T XZ)^{-1}(XZ)^T y)$$\n",
    "\n",
    "Let us expand the transposition using the following property: $(XZ)^T = Z^T X^T$\n",
    "\n",
    "$$a = XZ(((Z^T X^T XZ)^{-1}Z^T X^T y)$$\n",
    "\n",
    "Using the property $(XZ)^{-1} = Z^{-1} X^{-1}$:\n",
    "\n",
    "$$a = XZ(((X^T X Z)^{-1}(Z^T)^{-1} Z^T X^T y)$$\n",
    "\n",
    "$$a = XZ Z^{-1}(((X^T X)^{-1} (Z^T)^{-1} Z^T X^T y)$$\n",
    "\n",
    "We use the definition of an inverse matrix:\n",
    "\n",
    "$$a = XE(X^TX)^{-1}EX^Ty$$\n",
    "\n",
    "It is known that when multiplying, identity matrices cancel:\n",
    "\n",
    "$$a = X(X^TX)^{-1}X^Ty$$\n",
    "\n",
    "As you can see, we have returned to the original form $a$:\n",
    "\n",
    "$$a = X(X^TX)^{-1}X^Ty = Xw$$\n",
    "\n",
    "Thus, multiplying features by an invertible matrix should not lead to a change in the quality of linear regression."
   ]
  },
  {
   "cell_type": "markdown",
   "metadata": {},
   "source": [
    "## Conversion algorithm"
   ]
  },
  {
   "cell_type": "markdown",
   "metadata": {},
   "source": [
    "First, let's find the r2 metric on our data"
   ]
  },
  {
   "cell_type": "code",
   "execution_count": 14,
   "metadata": {},
   "outputs": [
    {
     "name": "stdout",
     "output_type": "stream",
     "text": [
      "r2: 0.42494550286668\n"
     ]
    }
   ],
   "source": [
    "model = LinearRegression()\n",
    "model.fit(features, target)\n",
    "predictions = model.predict(features)\n",
    "print('r2:',r2_score(target, predictions))"
   ]
  },
  {
   "cell_type": "markdown",
   "metadata": {},
   "source": [
    "Let's create a random matrix"
   ]
  },
  {
   "cell_type": "code",
   "execution_count": 15,
   "metadata": {},
   "outputs": [],
   "source": [
    "Z = np.random.normal(size = (4,4))"
   ]
  },
  {
   "cell_type": "markdown",
   "metadata": {},
   "source": [
    "Let's multiply the features by our new matrix"
   ]
  },
  {
   "cell_type": "code",
   "execution_count": 16,
   "metadata": {},
   "outputs": [],
   "source": [
    "X = features.values\n",
    "new_features = np.dot(X, Z)"
   ]
  },
  {
   "cell_type": "markdown",
   "metadata": {},
   "source": [
    "Let's find the metric r2 again"
   ]
  },
  {
   "cell_type": "code",
   "execution_count": 17,
   "metadata": {},
   "outputs": [
    {
     "name": "stdout",
     "output_type": "stream",
     "text": [
      "r2 после умножения на случайную матрицу: 0.4249455028666713\n"
     ]
    }
   ],
   "source": [
    "model = LinearRegression()\n",
    "model.fit(new_features, target)\n",
    "predictions = model.predict(new_features)\n",
    "print('r2 after multiplication by a random matrix:',r2_score(target, predictions))"
   ]
  },
  {
   "cell_type": "markdown",
   "metadata": {},
   "source": [
    "## Conclusion\n",
    "\n",
    "In the current project, we have proven that multiplying features by a random matrix does not affect r2."
   ]
  }
 ],
 "metadata": {
  "ExecuteTimeLog": [
   {
    "duration": 697,
    "start_time": "2022-04-20T07:19:28.969Z"
   },
   {
    "duration": 1310,
    "start_time": "2022-04-20T07:20:50.138Z"
   },
   {
    "duration": 54,
    "start_time": "2022-04-20T07:21:52.372Z"
   },
   {
    "duration": 6,
    "start_time": "2022-04-20T07:23:49.425Z"
   },
   {
    "duration": 92,
    "start_time": "2022-04-20T07:43:21.571Z"
   },
   {
    "duration": 4,
    "start_time": "2022-04-20T07:44:12.836Z"
   },
   {
    "duration": 4,
    "start_time": "2022-04-20T07:45:33.169Z"
   },
   {
    "duration": 6,
    "start_time": "2022-04-20T07:45:42.036Z"
   },
   {
    "duration": 18,
    "start_time": "2022-04-20T07:48:14.027Z"
   },
   {
    "duration": 204,
    "start_time": "2022-04-20T07:50:27.549Z"
   },
   {
    "duration": 0,
    "start_time": "2022-04-20T07:50:27.757Z"
   },
   {
    "duration": 0,
    "start_time": "2022-04-20T07:50:27.758Z"
   },
   {
    "duration": 0,
    "start_time": "2022-04-20T07:50:27.760Z"
   },
   {
    "duration": 0,
    "start_time": "2022-04-20T07:50:27.762Z"
   },
   {
    "duration": 0,
    "start_time": "2022-04-20T07:50:27.764Z"
   },
   {
    "duration": 55,
    "start_time": "2022-04-20T07:51:21.884Z"
   },
   {
    "duration": 67,
    "start_time": "2022-04-20T07:51:25.744Z"
   },
   {
    "duration": 5,
    "start_time": "2022-04-20T07:51:25.814Z"
   },
   {
    "duration": 41,
    "start_time": "2022-04-20T07:51:25.821Z"
   },
   {
    "duration": 87,
    "start_time": "2022-04-20T07:51:25.866Z"
   },
   {
    "duration": 12,
    "start_time": "2022-04-20T07:51:25.957Z"
   },
   {
    "duration": 96,
    "start_time": "2022-04-20T07:51:25.972Z"
   },
   {
    "duration": 180,
    "start_time": "2022-04-20T08:47:44.830Z"
   }
  ],
  "kernelspec": {
   "display_name": "Python 3 (ipykernel)",
   "language": "python",
   "name": "python3"
  },
  "language_info": {
   "codemirror_mode": {
    "name": "ipython",
    "version": 3
   },
   "file_extension": ".py",
   "mimetype": "text/x-python",
   "name": "python",
   "nbconvert_exporter": "python",
   "pygments_lexer": "ipython3",
   "version": "3.9.5"
  },
  "toc": {
   "base_numbering": 1,
   "nav_menu": {},
   "number_sections": true,
   "sideBar": true,
   "skip_h1_title": true,
   "title_cell": "Содержание",
   "title_sidebar": "Contents",
   "toc_cell": true,
   "toc_position": {},
   "toc_section_display": true,
   "toc_window_display": true
  }
 },
 "nbformat": 4,
 "nbformat_minor": 2
}
