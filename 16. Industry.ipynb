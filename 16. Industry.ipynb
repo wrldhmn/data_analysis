{
 "cells": [
  {
   "cell_type": "markdown",
   "id": "88e8375c",
   "metadata": {},
   "source": [
    "# Industry"
   ]
  },
  {
   "cell_type": "markdown",
   "id": "a85509ac",
   "metadata": {},
   "source": [
    "In order to optimize production costs, the metallurgical plant LLC “So we harden steel” decided to reduce energy consumption at the steel processing stage. We have to build a model that will predict the temperature of steel."
   ]
  },
  {
   "cell_type": "markdown",
   "id": "33fdbd77",
   "metadata": {},
   "source": [
    "<b>Description of the processing stage</b>"
   ]
  },
  {
   "cell_type": "markdown",
   "id": "21cbb073",
   "metadata": {},
   "source": [
    "The steel is processed in a metal ladle with a capacity of about 100 tons. To ensure that the ladle can withstand high temperatures, the inside is lined with refractory bricks. Molten steel is poured into a ladle and heated to the desired temperature with graphite electrodes. They are installed in the bucket lid.\n",
    "\n",
    "Sulfur is removed from the alloy (desulfurization), the chemical composition is adjusted by adding impurities, and samples are taken. Steel is alloyed - its composition is changed - by feeding pieces of the alloy from a bunker for bulk materials or wire through a special tribe apparatus (English tribe, “mass”).\n",
    "\n",
    "Before introducing alloying additives for the first time, the temperature of the steel is measured and its chemical analysis is performed. Then the temperature is raised for several minutes, alloying materials are added and the alloy is purged with an inert gas. Then it is mixed and measurements are taken again. This cycle is repeated until the target chemical composition and optimal melting temperature are achieved.\n",
    "\n",
    "Then the molten steel is sent for finishing of the metal or enters a continuous casting machine. From there the finished product comes out in the form of slabs (English *slab*, “slab”)."
   ]
  },
  {
   "cell_type": "markdown",
   "id": "35401bcb",
   "metadata": {},
   "source": [
    "<b>Description of data</b>"
   ]
  },
  {
   "cell_type": "markdown",
   "id": "adb9ecc5",
   "metadata": {},
   "source": [
    "The data consists of files obtained from different sources:\n",
    "\n",
    "- `data_arc.csv` — data about electrodes;\n",
    "- `data_bulk.csv` — data on the supply of bulk materials (volume);\n",
    "- `data_bulk_time.csv` *—* data on the supply of bulk materials (time);\n",
    "- `data_gas.csv` — data on purging the alloy with gas;\n",
    "- `data_temp.csv` — temperature measurement results;\n",
    "- `data_wire.csv` — data on wire materials (volume);\n",
    "- `data_wire_time.csv` — data about wire materials (time).\n",
    "\n",
    "In all files, the key column contains the batch number. There may be several lines in the files with the same key value: they correspond to different iterations of processing."
   ]
  },
  {
   "cell_type": "markdown",
   "id": "1b6c29b0",
   "metadata": {},
   "source": [
    "## Loading data"
   ]
  },
  {
   "cell_type": "markdown",
   "id": "ddb9f3ec",
   "metadata": {},
   "source": [
    "Importing the necessary libraries"
   ]
  },
  {
   "cell_type": "code",
   "execution_count": 1,
   "id": "36cc5d01",
   "metadata": {},
   "outputs": [],
   "source": [
    "import pandas as pd\n",
    "import numpy as np\n",
    "import matplotlib.pyplot as plt\n",
    "import seaborn as sns\n",
    "\n",
    "from sklearn.model_selection import train_test_split, cross_val_score\n",
    "from sklearn.preprocessing import StandardScaler\n",
    "from sklearn.linear_model import LinearRegression\n",
    "from sklearn.metrics import mean_absolute_error\n",
    "from sklearn.ensemble import RandomForestRegressor\n",
    "from sklearn.tree import DecisionTreeRegressor"
   ]
  },
  {
   "cell_type": "markdown",
   "id": "16a0f597",
   "metadata": {},
   "source": [
    "Let's load the data"
   ]
  },
  {
   "cell_type": "code",
   "execution_count": 2,
   "id": "f8c3523a",
   "metadata": {},
   "outputs": [],
   "source": [
    "try:\n",
    "    data_arc = pd.read_csv('./final_steel/data_arc.csv')\n",
    "    data_bulk = pd.read_csv('./final_steel/data_bulk.csv')\n",
    "    data_bulk_time = pd.read_csv('./final_steel/data_bulk_time.csv')\n",
    "    data_gas = pd.read_csv('./final_steel/data_gas.csv')\n",
    "    data_temp = pd.read_csv('./final_steel/data_temp.csv')\n",
    "    data_wire = pd.read_csv('./final_steel/data_wire.csv')\n",
    "    data_wire_time = pd.read_csv('./final_steel/data_wire_time.csv')\n",
    "\n",
    "except:\n",
    "    data_arc = pd.read_csv('/datasets/final_steel/data_arc.csv')\n",
    "    data_bulk = pd.read_csv('/datasets/final_steel/data_bulk.csv')\n",
    "    data_bulk_time = pd.read_csv('/datasets/final_steel/data_bulk_time.csv')\n",
    "    data_gas = pd.read_csv('/datasets/final_steel/data_gas.csv')\n",
    "    data_temp = pd.read_csv('/datasets/final_steel/data_temp.csv')\n",
    "    data_wire = pd.read_csv('/datasets/final_steel/data_wire.csv')\n",
    "    data_wire_time = pd.read_csv('/datasets/final_steel/data_wire_time.csv')\n"
   ]
  },
  {
   "cell_type": "code",
   "execution_count": 3,
   "id": "e6c68aec",
   "metadata": {},
   "outputs": [],
   "source": [
    "data_all = [data_arc, data_bulk, data_bulk_time, data_gas, data_temp, data_wire, data_wire_time]\n",
    "data_all_txt = ['data_arc', 'data_bulk', 'data_bulk_time', 'data_gas', 'data_temp', 'data_wire', 'data_wire_time']"
   ]
  },
  {
   "cell_type": "markdown",
   "id": "0f8e2d1e",
   "metadata": {},
   "source": [
    "Let's print the first 5 lines according to our data"
   ]
  },
  {
   "cell_type": "code",
   "execution_count": 4,
   "id": "dcbcabb8",
   "metadata": {
    "scrolled": true
   },
   "outputs": [
    {
     "name": "stdout",
     "output_type": "stream",
     "text": [
      "Информация по таблице data_arc\n"
     ]
    },
    {
     "data": {
      "text/html": [
       "<div>\n",
       "<style scoped>\n",
       "    .dataframe tbody tr th:only-of-type {\n",
       "        vertical-align: middle;\n",
       "    }\n",
       "\n",
       "    .dataframe tbody tr th {\n",
       "        vertical-align: top;\n",
       "    }\n",
       "\n",
       "    .dataframe thead th {\n",
       "        text-align: right;\n",
       "    }\n",
       "</style>\n",
       "<table border=\"1\" class=\"dataframe\">\n",
       "  <thead>\n",
       "    <tr style=\"text-align: right;\">\n",
       "      <th></th>\n",
       "      <th>key</th>\n",
       "      <th>Начало нагрева дугой</th>\n",
       "      <th>Конец нагрева дугой</th>\n",
       "      <th>Активная мощность</th>\n",
       "      <th>Реактивная мощность</th>\n",
       "    </tr>\n",
       "  </thead>\n",
       "  <tbody>\n",
       "    <tr>\n",
       "      <th>0</th>\n",
       "      <td>1</td>\n",
       "      <td>2019-05-03 11:02:14</td>\n",
       "      <td>2019-05-03 11:06:02</td>\n",
       "      <td>0.976059</td>\n",
       "      <td>0.687084</td>\n",
       "    </tr>\n",
       "    <tr>\n",
       "      <th>1</th>\n",
       "      <td>1</td>\n",
       "      <td>2019-05-03 11:07:28</td>\n",
       "      <td>2019-05-03 11:10:33</td>\n",
       "      <td>0.805607</td>\n",
       "      <td>0.520285</td>\n",
       "    </tr>\n",
       "    <tr>\n",
       "      <th>2</th>\n",
       "      <td>1</td>\n",
       "      <td>2019-05-03 11:11:44</td>\n",
       "      <td>2019-05-03 11:14:36</td>\n",
       "      <td>0.744363</td>\n",
       "      <td>0.498805</td>\n",
       "    </tr>\n",
       "    <tr>\n",
       "      <th>3</th>\n",
       "      <td>1</td>\n",
       "      <td>2019-05-03 11:18:14</td>\n",
       "      <td>2019-05-03 11:24:19</td>\n",
       "      <td>1.659363</td>\n",
       "      <td>1.062669</td>\n",
       "    </tr>\n",
       "    <tr>\n",
       "      <th>4</th>\n",
       "      <td>1</td>\n",
       "      <td>2019-05-03 11:26:09</td>\n",
       "      <td>2019-05-03 11:28:37</td>\n",
       "      <td>0.692755</td>\n",
       "      <td>0.414397</td>\n",
       "    </tr>\n",
       "  </tbody>\n",
       "</table>\n",
       "</div>"
      ],
      "text/plain": [
       "   key Начало нагрева дугой  Конец нагрева дугой  Активная мощность  \\\n",
       "0    1  2019-05-03 11:02:14  2019-05-03 11:06:02           0.976059   \n",
       "1    1  2019-05-03 11:07:28  2019-05-03 11:10:33           0.805607   \n",
       "2    1  2019-05-03 11:11:44  2019-05-03 11:14:36           0.744363   \n",
       "3    1  2019-05-03 11:18:14  2019-05-03 11:24:19           1.659363   \n",
       "4    1  2019-05-03 11:26:09  2019-05-03 11:28:37           0.692755   \n",
       "\n",
       "   Реактивная мощность  \n",
       "0             0.687084  \n",
       "1             0.520285  \n",
       "2             0.498805  \n",
       "3             1.062669  \n",
       "4             0.414397  "
      ]
     },
     "metadata": {},
     "output_type": "display_data"
    },
    {
     "name": "stdout",
     "output_type": "stream",
     "text": [
      "****************************************************************************************************\n",
      "Информация по таблице data_bulk\n"
     ]
    },
    {
     "data": {
      "text/html": [
       "<div>\n",
       "<style scoped>\n",
       "    .dataframe tbody tr th:only-of-type {\n",
       "        vertical-align: middle;\n",
       "    }\n",
       "\n",
       "    .dataframe tbody tr th {\n",
       "        vertical-align: top;\n",
       "    }\n",
       "\n",
       "    .dataframe thead th {\n",
       "        text-align: right;\n",
       "    }\n",
       "</style>\n",
       "<table border=\"1\" class=\"dataframe\">\n",
       "  <thead>\n",
       "    <tr style=\"text-align: right;\">\n",
       "      <th></th>\n",
       "      <th>key</th>\n",
       "      <th>Bulk 1</th>\n",
       "      <th>Bulk 2</th>\n",
       "      <th>Bulk 3</th>\n",
       "      <th>Bulk 4</th>\n",
       "      <th>Bulk 5</th>\n",
       "      <th>Bulk 6</th>\n",
       "      <th>Bulk 7</th>\n",
       "      <th>Bulk 8</th>\n",
       "      <th>Bulk 9</th>\n",
       "      <th>Bulk 10</th>\n",
       "      <th>Bulk 11</th>\n",
       "      <th>Bulk 12</th>\n",
       "      <th>Bulk 13</th>\n",
       "      <th>Bulk 14</th>\n",
       "      <th>Bulk 15</th>\n",
       "    </tr>\n",
       "  </thead>\n",
       "  <tbody>\n",
       "    <tr>\n",
       "      <th>0</th>\n",
       "      <td>1</td>\n",
       "      <td>NaN</td>\n",
       "      <td>NaN</td>\n",
       "      <td>NaN</td>\n",
       "      <td>43.0</td>\n",
       "      <td>NaN</td>\n",
       "      <td>NaN</td>\n",
       "      <td>NaN</td>\n",
       "      <td>NaN</td>\n",
       "      <td>NaN</td>\n",
       "      <td>NaN</td>\n",
       "      <td>NaN</td>\n",
       "      <td>206.0</td>\n",
       "      <td>NaN</td>\n",
       "      <td>150.0</td>\n",
       "      <td>154.0</td>\n",
       "    </tr>\n",
       "    <tr>\n",
       "      <th>1</th>\n",
       "      <td>2</td>\n",
       "      <td>NaN</td>\n",
       "      <td>NaN</td>\n",
       "      <td>NaN</td>\n",
       "      <td>73.0</td>\n",
       "      <td>NaN</td>\n",
       "      <td>NaN</td>\n",
       "      <td>NaN</td>\n",
       "      <td>NaN</td>\n",
       "      <td>NaN</td>\n",
       "      <td>NaN</td>\n",
       "      <td>NaN</td>\n",
       "      <td>206.0</td>\n",
       "      <td>NaN</td>\n",
       "      <td>149.0</td>\n",
       "      <td>154.0</td>\n",
       "    </tr>\n",
       "    <tr>\n",
       "      <th>2</th>\n",
       "      <td>3</td>\n",
       "      <td>NaN</td>\n",
       "      <td>NaN</td>\n",
       "      <td>NaN</td>\n",
       "      <td>34.0</td>\n",
       "      <td>NaN</td>\n",
       "      <td>NaN</td>\n",
       "      <td>NaN</td>\n",
       "      <td>NaN</td>\n",
       "      <td>NaN</td>\n",
       "      <td>NaN</td>\n",
       "      <td>NaN</td>\n",
       "      <td>205.0</td>\n",
       "      <td>NaN</td>\n",
       "      <td>152.0</td>\n",
       "      <td>153.0</td>\n",
       "    </tr>\n",
       "    <tr>\n",
       "      <th>3</th>\n",
       "      <td>4</td>\n",
       "      <td>NaN</td>\n",
       "      <td>NaN</td>\n",
       "      <td>NaN</td>\n",
       "      <td>81.0</td>\n",
       "      <td>NaN</td>\n",
       "      <td>NaN</td>\n",
       "      <td>NaN</td>\n",
       "      <td>NaN</td>\n",
       "      <td>NaN</td>\n",
       "      <td>NaN</td>\n",
       "      <td>NaN</td>\n",
       "      <td>207.0</td>\n",
       "      <td>NaN</td>\n",
       "      <td>153.0</td>\n",
       "      <td>154.0</td>\n",
       "    </tr>\n",
       "    <tr>\n",
       "      <th>4</th>\n",
       "      <td>5</td>\n",
       "      <td>NaN</td>\n",
       "      <td>NaN</td>\n",
       "      <td>NaN</td>\n",
       "      <td>78.0</td>\n",
       "      <td>NaN</td>\n",
       "      <td>NaN</td>\n",
       "      <td>NaN</td>\n",
       "      <td>NaN</td>\n",
       "      <td>NaN</td>\n",
       "      <td>NaN</td>\n",
       "      <td>NaN</td>\n",
       "      <td>203.0</td>\n",
       "      <td>NaN</td>\n",
       "      <td>151.0</td>\n",
       "      <td>152.0</td>\n",
       "    </tr>\n",
       "  </tbody>\n",
       "</table>\n",
       "</div>"
      ],
      "text/plain": [
       "   key  Bulk 1  Bulk 2  Bulk 3  Bulk 4  Bulk 5  Bulk 6  Bulk 7  Bulk 8  \\\n",
       "0    1     NaN     NaN     NaN    43.0     NaN     NaN     NaN     NaN   \n",
       "1    2     NaN     NaN     NaN    73.0     NaN     NaN     NaN     NaN   \n",
       "2    3     NaN     NaN     NaN    34.0     NaN     NaN     NaN     NaN   \n",
       "3    4     NaN     NaN     NaN    81.0     NaN     NaN     NaN     NaN   \n",
       "4    5     NaN     NaN     NaN    78.0     NaN     NaN     NaN     NaN   \n",
       "\n",
       "   Bulk 9  Bulk 10  Bulk 11  Bulk 12  Bulk 13  Bulk 14  Bulk 15  \n",
       "0     NaN      NaN      NaN    206.0      NaN    150.0    154.0  \n",
       "1     NaN      NaN      NaN    206.0      NaN    149.0    154.0  \n",
       "2     NaN      NaN      NaN    205.0      NaN    152.0    153.0  \n",
       "3     NaN      NaN      NaN    207.0      NaN    153.0    154.0  \n",
       "4     NaN      NaN      NaN    203.0      NaN    151.0    152.0  "
      ]
     },
     "metadata": {},
     "output_type": "display_data"
    },
    {
     "name": "stdout",
     "output_type": "stream",
     "text": [
      "****************************************************************************************************\n",
      "Информация по таблице data_bulk_time\n"
     ]
    },
    {
     "data": {
      "text/html": [
       "<div>\n",
       "<style scoped>\n",
       "    .dataframe tbody tr th:only-of-type {\n",
       "        vertical-align: middle;\n",
       "    }\n",
       "\n",
       "    .dataframe tbody tr th {\n",
       "        vertical-align: top;\n",
       "    }\n",
       "\n",
       "    .dataframe thead th {\n",
       "        text-align: right;\n",
       "    }\n",
       "</style>\n",
       "<table border=\"1\" class=\"dataframe\">\n",
       "  <thead>\n",
       "    <tr style=\"text-align: right;\">\n",
       "      <th></th>\n",
       "      <th>key</th>\n",
       "      <th>Bulk 1</th>\n",
       "      <th>Bulk 2</th>\n",
       "      <th>Bulk 3</th>\n",
       "      <th>Bulk 4</th>\n",
       "      <th>Bulk 5</th>\n",
       "      <th>Bulk 6</th>\n",
       "      <th>Bulk 7</th>\n",
       "      <th>Bulk 8</th>\n",
       "      <th>Bulk 9</th>\n",
       "      <th>Bulk 10</th>\n",
       "      <th>Bulk 11</th>\n",
       "      <th>Bulk 12</th>\n",
       "      <th>Bulk 13</th>\n",
       "      <th>Bulk 14</th>\n",
       "      <th>Bulk 15</th>\n",
       "    </tr>\n",
       "  </thead>\n",
       "  <tbody>\n",
       "    <tr>\n",
       "      <th>0</th>\n",
       "      <td>1</td>\n",
       "      <td>NaN</td>\n",
       "      <td>NaN</td>\n",
       "      <td>NaN</td>\n",
       "      <td>2019-05-03 11:21:30</td>\n",
       "      <td>NaN</td>\n",
       "      <td>NaN</td>\n",
       "      <td>NaN</td>\n",
       "      <td>NaN</td>\n",
       "      <td>NaN</td>\n",
       "      <td>NaN</td>\n",
       "      <td>NaN</td>\n",
       "      <td>2019-05-03 11:03:52</td>\n",
       "      <td>NaN</td>\n",
       "      <td>2019-05-03 11:03:52</td>\n",
       "      <td>2019-05-03 11:03:52</td>\n",
       "    </tr>\n",
       "    <tr>\n",
       "      <th>1</th>\n",
       "      <td>2</td>\n",
       "      <td>NaN</td>\n",
       "      <td>NaN</td>\n",
       "      <td>NaN</td>\n",
       "      <td>2019-05-03 11:46:38</td>\n",
       "      <td>NaN</td>\n",
       "      <td>NaN</td>\n",
       "      <td>NaN</td>\n",
       "      <td>NaN</td>\n",
       "      <td>NaN</td>\n",
       "      <td>NaN</td>\n",
       "      <td>NaN</td>\n",
       "      <td>2019-05-03 11:40:20</td>\n",
       "      <td>NaN</td>\n",
       "      <td>2019-05-03 11:40:20</td>\n",
       "      <td>2019-05-03 11:40:20</td>\n",
       "    </tr>\n",
       "    <tr>\n",
       "      <th>2</th>\n",
       "      <td>3</td>\n",
       "      <td>NaN</td>\n",
       "      <td>NaN</td>\n",
       "      <td>NaN</td>\n",
       "      <td>2019-05-03 12:31:06</td>\n",
       "      <td>NaN</td>\n",
       "      <td>NaN</td>\n",
       "      <td>NaN</td>\n",
       "      <td>NaN</td>\n",
       "      <td>NaN</td>\n",
       "      <td>NaN</td>\n",
       "      <td>NaN</td>\n",
       "      <td>2019-05-03 12:09:40</td>\n",
       "      <td>NaN</td>\n",
       "      <td>2019-05-03 12:09:40</td>\n",
       "      <td>2019-05-03 12:09:40</td>\n",
       "    </tr>\n",
       "    <tr>\n",
       "      <th>3</th>\n",
       "      <td>4</td>\n",
       "      <td>NaN</td>\n",
       "      <td>NaN</td>\n",
       "      <td>NaN</td>\n",
       "      <td>2019-05-03 12:48:43</td>\n",
       "      <td>NaN</td>\n",
       "      <td>NaN</td>\n",
       "      <td>NaN</td>\n",
       "      <td>NaN</td>\n",
       "      <td>NaN</td>\n",
       "      <td>NaN</td>\n",
       "      <td>NaN</td>\n",
       "      <td>2019-05-03 12:41:24</td>\n",
       "      <td>NaN</td>\n",
       "      <td>2019-05-03 12:41:24</td>\n",
       "      <td>2019-05-03 12:41:24</td>\n",
       "    </tr>\n",
       "    <tr>\n",
       "      <th>4</th>\n",
       "      <td>5</td>\n",
       "      <td>NaN</td>\n",
       "      <td>NaN</td>\n",
       "      <td>NaN</td>\n",
       "      <td>2019-05-03 13:18:50</td>\n",
       "      <td>NaN</td>\n",
       "      <td>NaN</td>\n",
       "      <td>NaN</td>\n",
       "      <td>NaN</td>\n",
       "      <td>NaN</td>\n",
       "      <td>NaN</td>\n",
       "      <td>NaN</td>\n",
       "      <td>2019-05-03 13:12:56</td>\n",
       "      <td>NaN</td>\n",
       "      <td>2019-05-03 13:12:56</td>\n",
       "      <td>2019-05-03 13:12:56</td>\n",
       "    </tr>\n",
       "  </tbody>\n",
       "</table>\n",
       "</div>"
      ],
      "text/plain": [
       "   key Bulk 1 Bulk 2 Bulk 3               Bulk 4 Bulk 5 Bulk 6 Bulk 7 Bulk 8  \\\n",
       "0    1    NaN    NaN    NaN  2019-05-03 11:21:30    NaN    NaN    NaN    NaN   \n",
       "1    2    NaN    NaN    NaN  2019-05-03 11:46:38    NaN    NaN    NaN    NaN   \n",
       "2    3    NaN    NaN    NaN  2019-05-03 12:31:06    NaN    NaN    NaN    NaN   \n",
       "3    4    NaN    NaN    NaN  2019-05-03 12:48:43    NaN    NaN    NaN    NaN   \n",
       "4    5    NaN    NaN    NaN  2019-05-03 13:18:50    NaN    NaN    NaN    NaN   \n",
       "\n",
       "  Bulk 9 Bulk 10 Bulk 11              Bulk 12 Bulk 13              Bulk 14  \\\n",
       "0    NaN     NaN     NaN  2019-05-03 11:03:52     NaN  2019-05-03 11:03:52   \n",
       "1    NaN     NaN     NaN  2019-05-03 11:40:20     NaN  2019-05-03 11:40:20   \n",
       "2    NaN     NaN     NaN  2019-05-03 12:09:40     NaN  2019-05-03 12:09:40   \n",
       "3    NaN     NaN     NaN  2019-05-03 12:41:24     NaN  2019-05-03 12:41:24   \n",
       "4    NaN     NaN     NaN  2019-05-03 13:12:56     NaN  2019-05-03 13:12:56   \n",
       "\n",
       "               Bulk 15  \n",
       "0  2019-05-03 11:03:52  \n",
       "1  2019-05-03 11:40:20  \n",
       "2  2019-05-03 12:09:40  \n",
       "3  2019-05-03 12:41:24  \n",
       "4  2019-05-03 13:12:56  "
      ]
     },
     "metadata": {},
     "output_type": "display_data"
    },
    {
     "name": "stdout",
     "output_type": "stream",
     "text": [
      "****************************************************************************************************\n",
      "Информация по таблице data_gas\n"
     ]
    },
    {
     "data": {
      "text/html": [
       "<div>\n",
       "<style scoped>\n",
       "    .dataframe tbody tr th:only-of-type {\n",
       "        vertical-align: middle;\n",
       "    }\n",
       "\n",
       "    .dataframe tbody tr th {\n",
       "        vertical-align: top;\n",
       "    }\n",
       "\n",
       "    .dataframe thead th {\n",
       "        text-align: right;\n",
       "    }\n",
       "</style>\n",
       "<table border=\"1\" class=\"dataframe\">\n",
       "  <thead>\n",
       "    <tr style=\"text-align: right;\">\n",
       "      <th></th>\n",
       "      <th>key</th>\n",
       "      <th>Газ 1</th>\n",
       "    </tr>\n",
       "  </thead>\n",
       "  <tbody>\n",
       "    <tr>\n",
       "      <th>0</th>\n",
       "      <td>1</td>\n",
       "      <td>29.749986</td>\n",
       "    </tr>\n",
       "    <tr>\n",
       "      <th>1</th>\n",
       "      <td>2</td>\n",
       "      <td>12.555561</td>\n",
       "    </tr>\n",
       "    <tr>\n",
       "      <th>2</th>\n",
       "      <td>3</td>\n",
       "      <td>28.554793</td>\n",
       "    </tr>\n",
       "    <tr>\n",
       "      <th>3</th>\n",
       "      <td>4</td>\n",
       "      <td>18.841219</td>\n",
       "    </tr>\n",
       "    <tr>\n",
       "      <th>4</th>\n",
       "      <td>5</td>\n",
       "      <td>5.413692</td>\n",
       "    </tr>\n",
       "  </tbody>\n",
       "</table>\n",
       "</div>"
      ],
      "text/plain": [
       "   key      Газ 1\n",
       "0    1  29.749986\n",
       "1    2  12.555561\n",
       "2    3  28.554793\n",
       "3    4  18.841219\n",
       "4    5   5.413692"
      ]
     },
     "metadata": {},
     "output_type": "display_data"
    },
    {
     "name": "stdout",
     "output_type": "stream",
     "text": [
      "****************************************************************************************************\n",
      "Информация по таблице data_temp\n"
     ]
    },
    {
     "data": {
      "text/html": [
       "<div>\n",
       "<style scoped>\n",
       "    .dataframe tbody tr th:only-of-type {\n",
       "        vertical-align: middle;\n",
       "    }\n",
       "\n",
       "    .dataframe tbody tr th {\n",
       "        vertical-align: top;\n",
       "    }\n",
       "\n",
       "    .dataframe thead th {\n",
       "        text-align: right;\n",
       "    }\n",
       "</style>\n",
       "<table border=\"1\" class=\"dataframe\">\n",
       "  <thead>\n",
       "    <tr style=\"text-align: right;\">\n",
       "      <th></th>\n",
       "      <th>key</th>\n",
       "      <th>Время замера</th>\n",
       "      <th>Температура</th>\n",
       "    </tr>\n",
       "  </thead>\n",
       "  <tbody>\n",
       "    <tr>\n",
       "      <th>0</th>\n",
       "      <td>1</td>\n",
       "      <td>2019-05-03 11:16:18</td>\n",
       "      <td>1571.0</td>\n",
       "    </tr>\n",
       "    <tr>\n",
       "      <th>1</th>\n",
       "      <td>1</td>\n",
       "      <td>2019-05-03 11:25:53</td>\n",
       "      <td>1604.0</td>\n",
       "    </tr>\n",
       "    <tr>\n",
       "      <th>2</th>\n",
       "      <td>1</td>\n",
       "      <td>2019-05-03 11:29:11</td>\n",
       "      <td>1618.0</td>\n",
       "    </tr>\n",
       "    <tr>\n",
       "      <th>3</th>\n",
       "      <td>1</td>\n",
       "      <td>2019-05-03 11:30:01</td>\n",
       "      <td>1601.0</td>\n",
       "    </tr>\n",
       "    <tr>\n",
       "      <th>4</th>\n",
       "      <td>1</td>\n",
       "      <td>2019-05-03 11:30:39</td>\n",
       "      <td>1613.0</td>\n",
       "    </tr>\n",
       "  </tbody>\n",
       "</table>\n",
       "</div>"
      ],
      "text/plain": [
       "   key         Время замера  Температура\n",
       "0    1  2019-05-03 11:16:18       1571.0\n",
       "1    1  2019-05-03 11:25:53       1604.0\n",
       "2    1  2019-05-03 11:29:11       1618.0\n",
       "3    1  2019-05-03 11:30:01       1601.0\n",
       "4    1  2019-05-03 11:30:39       1613.0"
      ]
     },
     "metadata": {},
     "output_type": "display_data"
    },
    {
     "name": "stdout",
     "output_type": "stream",
     "text": [
      "****************************************************************************************************\n",
      "Информация по таблице data_wire\n"
     ]
    },
    {
     "data": {
      "text/html": [
       "<div>\n",
       "<style scoped>\n",
       "    .dataframe tbody tr th:only-of-type {\n",
       "        vertical-align: middle;\n",
       "    }\n",
       "\n",
       "    .dataframe tbody tr th {\n",
       "        vertical-align: top;\n",
       "    }\n",
       "\n",
       "    .dataframe thead th {\n",
       "        text-align: right;\n",
       "    }\n",
       "</style>\n",
       "<table border=\"1\" class=\"dataframe\">\n",
       "  <thead>\n",
       "    <tr style=\"text-align: right;\">\n",
       "      <th></th>\n",
       "      <th>key</th>\n",
       "      <th>Wire 1</th>\n",
       "      <th>Wire 2</th>\n",
       "      <th>Wire 3</th>\n",
       "      <th>Wire 4</th>\n",
       "      <th>Wire 5</th>\n",
       "      <th>Wire 6</th>\n",
       "      <th>Wire 7</th>\n",
       "      <th>Wire 8</th>\n",
       "      <th>Wire 9</th>\n",
       "    </tr>\n",
       "  </thead>\n",
       "  <tbody>\n",
       "    <tr>\n",
       "      <th>0</th>\n",
       "      <td>1</td>\n",
       "      <td>60.059998</td>\n",
       "      <td>NaN</td>\n",
       "      <td>NaN</td>\n",
       "      <td>NaN</td>\n",
       "      <td>NaN</td>\n",
       "      <td>NaN</td>\n",
       "      <td>NaN</td>\n",
       "      <td>NaN</td>\n",
       "      <td>NaN</td>\n",
       "    </tr>\n",
       "    <tr>\n",
       "      <th>1</th>\n",
       "      <td>2</td>\n",
       "      <td>96.052315</td>\n",
       "      <td>NaN</td>\n",
       "      <td>NaN</td>\n",
       "      <td>NaN</td>\n",
       "      <td>NaN</td>\n",
       "      <td>NaN</td>\n",
       "      <td>NaN</td>\n",
       "      <td>NaN</td>\n",
       "      <td>NaN</td>\n",
       "    </tr>\n",
       "    <tr>\n",
       "      <th>2</th>\n",
       "      <td>3</td>\n",
       "      <td>91.160157</td>\n",
       "      <td>NaN</td>\n",
       "      <td>NaN</td>\n",
       "      <td>NaN</td>\n",
       "      <td>NaN</td>\n",
       "      <td>NaN</td>\n",
       "      <td>NaN</td>\n",
       "      <td>NaN</td>\n",
       "      <td>NaN</td>\n",
       "    </tr>\n",
       "    <tr>\n",
       "      <th>3</th>\n",
       "      <td>4</td>\n",
       "      <td>89.063515</td>\n",
       "      <td>NaN</td>\n",
       "      <td>NaN</td>\n",
       "      <td>NaN</td>\n",
       "      <td>NaN</td>\n",
       "      <td>NaN</td>\n",
       "      <td>NaN</td>\n",
       "      <td>NaN</td>\n",
       "      <td>NaN</td>\n",
       "    </tr>\n",
       "    <tr>\n",
       "      <th>4</th>\n",
       "      <td>5</td>\n",
       "      <td>89.238236</td>\n",
       "      <td>9.11456</td>\n",
       "      <td>NaN</td>\n",
       "      <td>NaN</td>\n",
       "      <td>NaN</td>\n",
       "      <td>NaN</td>\n",
       "      <td>NaN</td>\n",
       "      <td>NaN</td>\n",
       "      <td>NaN</td>\n",
       "    </tr>\n",
       "  </tbody>\n",
       "</table>\n",
       "</div>"
      ],
      "text/plain": [
       "   key     Wire 1   Wire 2  Wire 3  Wire 4  Wire 5  Wire 6  Wire 7  Wire 8  \\\n",
       "0    1  60.059998      NaN     NaN     NaN     NaN     NaN     NaN     NaN   \n",
       "1    2  96.052315      NaN     NaN     NaN     NaN     NaN     NaN     NaN   \n",
       "2    3  91.160157      NaN     NaN     NaN     NaN     NaN     NaN     NaN   \n",
       "3    4  89.063515      NaN     NaN     NaN     NaN     NaN     NaN     NaN   \n",
       "4    5  89.238236  9.11456     NaN     NaN     NaN     NaN     NaN     NaN   \n",
       "\n",
       "   Wire 9  \n",
       "0     NaN  \n",
       "1     NaN  \n",
       "2     NaN  \n",
       "3     NaN  \n",
       "4     NaN  "
      ]
     },
     "metadata": {},
     "output_type": "display_data"
    },
    {
     "name": "stdout",
     "output_type": "stream",
     "text": [
      "****************************************************************************************************\n",
      "Информация по таблице data_wire_time\n"
     ]
    },
    {
     "data": {
      "text/html": [
       "<div>\n",
       "<style scoped>\n",
       "    .dataframe tbody tr th:only-of-type {\n",
       "        vertical-align: middle;\n",
       "    }\n",
       "\n",
       "    .dataframe tbody tr th {\n",
       "        vertical-align: top;\n",
       "    }\n",
       "\n",
       "    .dataframe thead th {\n",
       "        text-align: right;\n",
       "    }\n",
       "</style>\n",
       "<table border=\"1\" class=\"dataframe\">\n",
       "  <thead>\n",
       "    <tr style=\"text-align: right;\">\n",
       "      <th></th>\n",
       "      <th>key</th>\n",
       "      <th>Wire 1</th>\n",
       "      <th>Wire 2</th>\n",
       "      <th>Wire 3</th>\n",
       "      <th>Wire 4</th>\n",
       "      <th>Wire 5</th>\n",
       "      <th>Wire 6</th>\n",
       "      <th>Wire 7</th>\n",
       "      <th>Wire 8</th>\n",
       "      <th>Wire 9</th>\n",
       "    </tr>\n",
       "  </thead>\n",
       "  <tbody>\n",
       "    <tr>\n",
       "      <th>0</th>\n",
       "      <td>1</td>\n",
       "      <td>2019-05-03 11:11:41</td>\n",
       "      <td>NaN</td>\n",
       "      <td>NaN</td>\n",
       "      <td>NaN</td>\n",
       "      <td>NaN</td>\n",
       "      <td>NaN</td>\n",
       "      <td>NaN</td>\n",
       "      <td>NaN</td>\n",
       "      <td>NaN</td>\n",
       "    </tr>\n",
       "    <tr>\n",
       "      <th>1</th>\n",
       "      <td>2</td>\n",
       "      <td>2019-05-03 11:46:10</td>\n",
       "      <td>NaN</td>\n",
       "      <td>NaN</td>\n",
       "      <td>NaN</td>\n",
       "      <td>NaN</td>\n",
       "      <td>NaN</td>\n",
       "      <td>NaN</td>\n",
       "      <td>NaN</td>\n",
       "      <td>NaN</td>\n",
       "    </tr>\n",
       "    <tr>\n",
       "      <th>2</th>\n",
       "      <td>3</td>\n",
       "      <td>2019-05-03 12:13:47</td>\n",
       "      <td>NaN</td>\n",
       "      <td>NaN</td>\n",
       "      <td>NaN</td>\n",
       "      <td>NaN</td>\n",
       "      <td>NaN</td>\n",
       "      <td>NaN</td>\n",
       "      <td>NaN</td>\n",
       "      <td>NaN</td>\n",
       "    </tr>\n",
       "    <tr>\n",
       "      <th>3</th>\n",
       "      <td>4</td>\n",
       "      <td>2019-05-03 12:48:05</td>\n",
       "      <td>NaN</td>\n",
       "      <td>NaN</td>\n",
       "      <td>NaN</td>\n",
       "      <td>NaN</td>\n",
       "      <td>NaN</td>\n",
       "      <td>NaN</td>\n",
       "      <td>NaN</td>\n",
       "      <td>NaN</td>\n",
       "    </tr>\n",
       "    <tr>\n",
       "      <th>4</th>\n",
       "      <td>5</td>\n",
       "      <td>2019-05-03 13:18:15</td>\n",
       "      <td>2019-05-03 13:32:06</td>\n",
       "      <td>NaN</td>\n",
       "      <td>NaN</td>\n",
       "      <td>NaN</td>\n",
       "      <td>NaN</td>\n",
       "      <td>NaN</td>\n",
       "      <td>NaN</td>\n",
       "      <td>NaN</td>\n",
       "    </tr>\n",
       "  </tbody>\n",
       "</table>\n",
       "</div>"
      ],
      "text/plain": [
       "   key               Wire 1               Wire 2 Wire 3 Wire 4 Wire 5 Wire 6  \\\n",
       "0    1  2019-05-03 11:11:41                  NaN    NaN    NaN    NaN    NaN   \n",
       "1    2  2019-05-03 11:46:10                  NaN    NaN    NaN    NaN    NaN   \n",
       "2    3  2019-05-03 12:13:47                  NaN    NaN    NaN    NaN    NaN   \n",
       "3    4  2019-05-03 12:48:05                  NaN    NaN    NaN    NaN    NaN   \n",
       "4    5  2019-05-03 13:18:15  2019-05-03 13:32:06    NaN    NaN    NaN    NaN   \n",
       "\n",
       "  Wire 7 Wire 8 Wire 9  \n",
       "0    NaN    NaN    NaN  \n",
       "1    NaN    NaN    NaN  \n",
       "2    NaN    NaN    NaN  \n",
       "3    NaN    NaN    NaN  \n",
       "4    NaN    NaN    NaN  "
      ]
     },
     "metadata": {},
     "output_type": "display_data"
    },
    {
     "name": "stdout",
     "output_type": "stream",
     "text": [
      "****************************************************************************************************\n"
     ]
    }
   ],
   "source": [
    "for i in range(len(data_all)):\n",
    "    print('Информация по таблице', data_all_txt[i])\n",
    "    display(data_all[i].head())\n",
    "    print('*' * 100)"
   ]
  },
  {
   "cell_type": "markdown",
   "id": "09610cb7",
   "metadata": {},
   "source": [
    "We will show basic information on our data"
   ]
  },
  {
   "cell_type": "code",
   "execution_count": 5,
   "id": "9089aa31",
   "metadata": {},
   "outputs": [
    {
     "name": "stdout",
     "output_type": "stream",
     "text": [
      "Информация по таблице data_arc\n",
      "<class 'pandas.core.frame.DataFrame'>\n",
      "RangeIndex: 14876 entries, 0 to 14875\n",
      "Data columns (total 5 columns):\n",
      " #   Column                Non-Null Count  Dtype  \n",
      "---  ------                --------------  -----  \n",
      " 0   key                   14876 non-null  int64  \n",
      " 1   Начало нагрева дугой  14876 non-null  object \n",
      " 2   Конец нагрева дугой   14876 non-null  object \n",
      " 3   Активная мощность     14876 non-null  float64\n",
      " 4   Реактивная мощность   14876 non-null  float64\n",
      "dtypes: float64(2), int64(1), object(2)\n",
      "memory usage: 581.2+ KB\n",
      "None\n",
      "****************************************************************************************************\n",
      "Информация по таблице data_bulk\n",
      "<class 'pandas.core.frame.DataFrame'>\n",
      "RangeIndex: 3129 entries, 0 to 3128\n",
      "Data columns (total 16 columns):\n",
      " #   Column   Non-Null Count  Dtype  \n",
      "---  ------   --------------  -----  \n",
      " 0   key      3129 non-null   int64  \n",
      " 1   Bulk 1   252 non-null    float64\n",
      " 2   Bulk 2   22 non-null     float64\n",
      " 3   Bulk 3   1298 non-null   float64\n",
      " 4   Bulk 4   1014 non-null   float64\n",
      " 5   Bulk 5   77 non-null     float64\n",
      " 6   Bulk 6   576 non-null    float64\n",
      " 7   Bulk 7   25 non-null     float64\n",
      " 8   Bulk 8   1 non-null      float64\n",
      " 9   Bulk 9   19 non-null     float64\n",
      " 10  Bulk 10  176 non-null    float64\n",
      " 11  Bulk 11  177 non-null    float64\n",
      " 12  Bulk 12  2450 non-null   float64\n",
      " 13  Bulk 13  18 non-null     float64\n",
      " 14  Bulk 14  2806 non-null   float64\n",
      " 15  Bulk 15  2248 non-null   float64\n",
      "dtypes: float64(15), int64(1)\n",
      "memory usage: 391.2 KB\n",
      "None\n",
      "****************************************************************************************************\n",
      "Информация по таблице data_bulk_time\n",
      "<class 'pandas.core.frame.DataFrame'>\n",
      "RangeIndex: 3129 entries, 0 to 3128\n",
      "Data columns (total 16 columns):\n",
      " #   Column   Non-Null Count  Dtype \n",
      "---  ------   --------------  ----- \n",
      " 0   key      3129 non-null   int64 \n",
      " 1   Bulk 1   252 non-null    object\n",
      " 2   Bulk 2   22 non-null     object\n",
      " 3   Bulk 3   1298 non-null   object\n",
      " 4   Bulk 4   1014 non-null   object\n",
      " 5   Bulk 5   77 non-null     object\n",
      " 6   Bulk 6   576 non-null    object\n",
      " 7   Bulk 7   25 non-null     object\n",
      " 8   Bulk 8   1 non-null      object\n",
      " 9   Bulk 9   19 non-null     object\n",
      " 10  Bulk 10  176 non-null    object\n",
      " 11  Bulk 11  177 non-null    object\n",
      " 12  Bulk 12  2450 non-null   object\n",
      " 13  Bulk 13  18 non-null     object\n",
      " 14  Bulk 14  2806 non-null   object\n",
      " 15  Bulk 15  2248 non-null   object\n",
      "dtypes: int64(1), object(15)\n",
      "memory usage: 391.2+ KB\n",
      "None\n",
      "****************************************************************************************************\n",
      "Информация по таблице data_gas\n",
      "<class 'pandas.core.frame.DataFrame'>\n",
      "RangeIndex: 3239 entries, 0 to 3238\n",
      "Data columns (total 2 columns):\n",
      " #   Column  Non-Null Count  Dtype  \n",
      "---  ------  --------------  -----  \n",
      " 0   key     3239 non-null   int64  \n",
      " 1   Газ 1   3239 non-null   float64\n",
      "dtypes: float64(1), int64(1)\n",
      "memory usage: 50.7 KB\n",
      "None\n",
      "****************************************************************************************************\n",
      "Информация по таблице data_temp\n",
      "<class 'pandas.core.frame.DataFrame'>\n",
      "RangeIndex: 15907 entries, 0 to 15906\n",
      "Data columns (total 3 columns):\n",
      " #   Column        Non-Null Count  Dtype  \n",
      "---  ------        --------------  -----  \n",
      " 0   key           15907 non-null  int64  \n",
      " 1   Время замера  15907 non-null  object \n",
      " 2   Температура   13006 non-null  float64\n",
      "dtypes: float64(1), int64(1), object(1)\n",
      "memory usage: 372.9+ KB\n",
      "None\n",
      "****************************************************************************************************\n",
      "Информация по таблице data_wire\n",
      "<class 'pandas.core.frame.DataFrame'>\n",
      "RangeIndex: 3081 entries, 0 to 3080\n",
      "Data columns (total 10 columns):\n",
      " #   Column  Non-Null Count  Dtype  \n",
      "---  ------  --------------  -----  \n",
      " 0   key     3081 non-null   int64  \n",
      " 1   Wire 1  3055 non-null   float64\n",
      " 2   Wire 2  1079 non-null   float64\n",
      " 3   Wire 3  63 non-null     float64\n",
      " 4   Wire 4  14 non-null     float64\n",
      " 5   Wire 5  1 non-null      float64\n",
      " 6   Wire 6  73 non-null     float64\n",
      " 7   Wire 7  11 non-null     float64\n",
      " 8   Wire 8  19 non-null     float64\n",
      " 9   Wire 9  29 non-null     float64\n",
      "dtypes: float64(9), int64(1)\n",
      "memory usage: 240.8 KB\n",
      "None\n",
      "****************************************************************************************************\n",
      "Информация по таблице data_wire_time\n",
      "<class 'pandas.core.frame.DataFrame'>\n",
      "RangeIndex: 3081 entries, 0 to 3080\n",
      "Data columns (total 10 columns):\n",
      " #   Column  Non-Null Count  Dtype \n",
      "---  ------  --------------  ----- \n",
      " 0   key     3081 non-null   int64 \n",
      " 1   Wire 1  3055 non-null   object\n",
      " 2   Wire 2  1079 non-null   object\n",
      " 3   Wire 3  63 non-null     object\n",
      " 4   Wire 4  14 non-null     object\n",
      " 5   Wire 5  1 non-null      object\n",
      " 6   Wire 6  73 non-null     object\n",
      " 7   Wire 7  11 non-null     object\n",
      " 8   Wire 8  19 non-null     object\n",
      " 9   Wire 9  29 non-null     object\n",
      "dtypes: int64(1), object(9)\n",
      "memory usage: 240.8+ KB\n",
      "None\n",
      "****************************************************************************************************\n"
     ]
    }
   ],
   "source": [
    "for i in range(len(data_all)):\n",
    "    print('Информация по таблице', data_all_txt[i])\n",
    "    print(data_all[i].info())\n",
    "    print('*' * 100)"
   ]
  },
  {
   "cell_type": "markdown",
   "id": "a958fbe3",
   "metadata": {},
   "source": [
    "We will show in % the number of gaps in our data"
   ]
  },
  {
   "cell_type": "code",
   "execution_count": 6,
   "id": "4aa7549f",
   "metadata": {
    "scrolled": true
   },
   "outputs": [
    {
     "name": "stdout",
     "output_type": "stream",
     "text": [
      "Информация по таблице data_arc\n"
     ]
    },
    {
     "data": {
      "text/plain": [
       "key                     0.0\n",
       "Начало нагрева дугой    0.0\n",
       "Конец нагрева дугой     0.0\n",
       "Активная мощность       0.0\n",
       "Реактивная мощность     0.0\n",
       "dtype: float64"
      ]
     },
     "metadata": {},
     "output_type": "display_data"
    },
    {
     "name": "stdout",
     "output_type": "stream",
     "text": [
      "****************************************************************************************************\n",
      "Информация по таблице data_bulk\n"
     ]
    },
    {
     "data": {
      "text/plain": [
       "key        0.000000\n",
       "Bulk 1     0.919463\n",
       "Bulk 2     0.992969\n",
       "Bulk 3     0.585171\n",
       "Bulk 4     0.675935\n",
       "Bulk 5     0.975391\n",
       "Bulk 6     0.815916\n",
       "Bulk 7     0.992010\n",
       "Bulk 8     0.999680\n",
       "Bulk 9     0.993928\n",
       "Bulk 10    0.943752\n",
       "Bulk 11    0.943432\n",
       "Bulk 12    0.217002\n",
       "Bulk 13    0.994247\n",
       "Bulk 14    0.103228\n",
       "Bulk 15    0.281560\n",
       "dtype: float64"
      ]
     },
     "metadata": {},
     "output_type": "display_data"
    },
    {
     "name": "stdout",
     "output_type": "stream",
     "text": [
      "****************************************************************************************************\n",
      "Информация по таблице data_bulk_time\n"
     ]
    },
    {
     "data": {
      "text/plain": [
       "key        0.000000\n",
       "Bulk 1     0.919463\n",
       "Bulk 2     0.992969\n",
       "Bulk 3     0.585171\n",
       "Bulk 4     0.675935\n",
       "Bulk 5     0.975391\n",
       "Bulk 6     0.815916\n",
       "Bulk 7     0.992010\n",
       "Bulk 8     0.999680\n",
       "Bulk 9     0.993928\n",
       "Bulk 10    0.943752\n",
       "Bulk 11    0.943432\n",
       "Bulk 12    0.217002\n",
       "Bulk 13    0.994247\n",
       "Bulk 14    0.103228\n",
       "Bulk 15    0.281560\n",
       "dtype: float64"
      ]
     },
     "metadata": {},
     "output_type": "display_data"
    },
    {
     "name": "stdout",
     "output_type": "stream",
     "text": [
      "****************************************************************************************************\n",
      "Информация по таблице data_gas\n"
     ]
    },
    {
     "data": {
      "text/plain": [
       "key      0.0\n",
       "Газ 1    0.0\n",
       "dtype: float64"
      ]
     },
     "metadata": {},
     "output_type": "display_data"
    },
    {
     "name": "stdout",
     "output_type": "stream",
     "text": [
      "****************************************************************************************************\n",
      "Информация по таблице data_temp\n"
     ]
    },
    {
     "data": {
      "text/plain": [
       "key             0.000000\n",
       "Время замера    0.000000\n",
       "Температура     0.182373\n",
       "dtype: float64"
      ]
     },
     "metadata": {},
     "output_type": "display_data"
    },
    {
     "name": "stdout",
     "output_type": "stream",
     "text": [
      "****************************************************************************************************\n",
      "Информация по таблице data_wire\n"
     ]
    },
    {
     "data": {
      "text/plain": [
       "key       0.000000\n",
       "Wire 1    0.008439\n",
       "Wire 2    0.649789\n",
       "Wire 3    0.979552\n",
       "Wire 4    0.995456\n",
       "Wire 5    0.999675\n",
       "Wire 6    0.976306\n",
       "Wire 7    0.996430\n",
       "Wire 8    0.993833\n",
       "Wire 9    0.990587\n",
       "dtype: float64"
      ]
     },
     "metadata": {},
     "output_type": "display_data"
    },
    {
     "name": "stdout",
     "output_type": "stream",
     "text": [
      "****************************************************************************************************\n",
      "Информация по таблице data_wire_time\n"
     ]
    },
    {
     "data": {
      "text/plain": [
       "key       0.000000\n",
       "Wire 1    0.008439\n",
       "Wire 2    0.649789\n",
       "Wire 3    0.979552\n",
       "Wire 4    0.995456\n",
       "Wire 5    0.999675\n",
       "Wire 6    0.976306\n",
       "Wire 7    0.996430\n",
       "Wire 8    0.993833\n",
       "Wire 9    0.990587\n",
       "dtype: float64"
      ]
     },
     "metadata": {},
     "output_type": "display_data"
    },
    {
     "name": "stdout",
     "output_type": "stream",
     "text": [
      "****************************************************************************************************\n"
     ]
    }
   ],
   "source": [
    "for i in range(len(data_all)):\n",
    "    print('Информация по таблице', data_all_txt[i])\n",
    "    display(data_all[i].isnull().sum() / len(data_all[i]))\n",
    "    print('*' * 100)"
   ]
  },
  {
   "cell_type": "markdown",
   "id": "73099630",
   "metadata": {},
   "source": [
    "### Conclusion\n",
    "\n",
    "We have 7 tables with the necessary information. All tables have a 'key' column - we will use it later to combine our tables.\n",
    "\n",
    "We will not use the data_bulk_time and data_wire_time tables in the future, because for our future model, it does not matter at what time certain materials are served.\n",
    "\n",
    "There are a lot of gaps in the data_bulk and data_wire tables. Gaps indicate that no additional materials were added at a particular step for a given iteration, so we will replace all gaps with 0.\n",
    "\n",
    "Also in some indicators we will need to change the data type.\n",
    "\n",
    "Let's start analyzing the data"
   ]
  },
  {
   "cell_type": "markdown",
   "id": "6b3da61e",
   "metadata": {},
   "source": [
    "## Exploratory data analysis"
   ]
  },
  {
   "cell_type": "markdown",
   "id": "43f8992f",
   "metadata": {},
   "source": [
    "Next, we will process the files we need one by one"
   ]
  },
  {
   "cell_type": "markdown",
   "id": "8dbbe490",
   "metadata": {},
   "source": [
    "### Let's analyze and prepare data from the data_arc file"
   ]
  },
  {
   "cell_type": "markdown",
   "id": "3a57a5c4",
   "metadata": {},
   "source": [
    "Let's check if there is a correlation between Active and Reactive powers in the data_arc table"
   ]
  },
  {
   "cell_type": "code",
   "execution_count": 7,
   "id": "069822f7",
   "metadata": {},
   "outputs": [
    {
     "data": {
      "text/html": [
       "<div>\n",
       "<style scoped>\n",
       "    .dataframe tbody tr th:only-of-type {\n",
       "        vertical-align: middle;\n",
       "    }\n",
       "\n",
       "    .dataframe tbody tr th {\n",
       "        vertical-align: top;\n",
       "    }\n",
       "\n",
       "    .dataframe thead th {\n",
       "        text-align: right;\n",
       "    }\n",
       "</style>\n",
       "<table border=\"1\" class=\"dataframe\">\n",
       "  <thead>\n",
       "    <tr style=\"text-align: right;\">\n",
       "      <th></th>\n",
       "      <th>key</th>\n",
       "      <th>Активная мощность</th>\n",
       "      <th>Реактивная мощность</th>\n",
       "    </tr>\n",
       "  </thead>\n",
       "  <tbody>\n",
       "    <tr>\n",
       "      <th>key</th>\n",
       "      <td>1.000000</td>\n",
       "      <td>-0.021382</td>\n",
       "      <td>-0.004396</td>\n",
       "    </tr>\n",
       "    <tr>\n",
       "      <th>Активная мощность</th>\n",
       "      <td>-0.021382</td>\n",
       "      <td>1.000000</td>\n",
       "      <td>0.054437</td>\n",
       "    </tr>\n",
       "    <tr>\n",
       "      <th>Реактивная мощность</th>\n",
       "      <td>-0.004396</td>\n",
       "      <td>0.054437</td>\n",
       "      <td>1.000000</td>\n",
       "    </tr>\n",
       "  </tbody>\n",
       "</table>\n",
       "</div>"
      ],
      "text/plain": [
       "                          key  Активная мощность  Реактивная мощность\n",
       "key                  1.000000          -0.021382            -0.004396\n",
       "Активная мощность   -0.021382           1.000000             0.054437\n",
       "Реактивная мощность -0.004396           0.054437             1.000000"
      ]
     },
     "execution_count": 7,
     "metadata": {},
     "output_type": "execute_result"
    }
   ],
   "source": [
    "data_arc.corr()"
   ]
  },
  {
   "cell_type": "markdown",
   "id": "0f20ff37",
   "metadata": {},
   "source": [
    "There is no correlation. This tells us that we need to take both power options"
   ]
  },
  {
   "cell_type": "markdown",
   "id": "fe6195ba",
   "metadata": {},
   "source": [
    "Converting the data type"
   ]
  },
  {
   "cell_type": "code",
   "execution_count": 8,
   "id": "09b59a99",
   "metadata": {},
   "outputs": [
    {
     "data": {
      "text/html": [
       "<div>\n",
       "<style scoped>\n",
       "    .dataframe tbody tr th:only-of-type {\n",
       "        vertical-align: middle;\n",
       "    }\n",
       "\n",
       "    .dataframe tbody tr th {\n",
       "        vertical-align: top;\n",
       "    }\n",
       "\n",
       "    .dataframe thead th {\n",
       "        text-align: right;\n",
       "    }\n",
       "</style>\n",
       "<table border=\"1\" class=\"dataframe\">\n",
       "  <thead>\n",
       "    <tr style=\"text-align: right;\">\n",
       "      <th></th>\n",
       "      <th>key</th>\n",
       "      <th>Начало нагрева дугой</th>\n",
       "      <th>Конец нагрева дугой</th>\n",
       "      <th>Активная мощность</th>\n",
       "      <th>Реактивная мощность</th>\n",
       "    </tr>\n",
       "  </thead>\n",
       "  <tbody>\n",
       "    <tr>\n",
       "      <th>0</th>\n",
       "      <td>1</td>\n",
       "      <td>2019-05-03 11:02:14</td>\n",
       "      <td>2019-05-03 11:06:02</td>\n",
       "      <td>0.976059</td>\n",
       "      <td>0.687084</td>\n",
       "    </tr>\n",
       "    <tr>\n",
       "      <th>1</th>\n",
       "      <td>1</td>\n",
       "      <td>2019-05-03 11:07:28</td>\n",
       "      <td>2019-05-03 11:10:33</td>\n",
       "      <td>0.805607</td>\n",
       "      <td>0.520285</td>\n",
       "    </tr>\n",
       "    <tr>\n",
       "      <th>2</th>\n",
       "      <td>1</td>\n",
       "      <td>2019-05-03 11:11:44</td>\n",
       "      <td>2019-05-03 11:14:36</td>\n",
       "      <td>0.744363</td>\n",
       "      <td>0.498805</td>\n",
       "    </tr>\n",
       "    <tr>\n",
       "      <th>3</th>\n",
       "      <td>1</td>\n",
       "      <td>2019-05-03 11:18:14</td>\n",
       "      <td>2019-05-03 11:24:19</td>\n",
       "      <td>1.659363</td>\n",
       "      <td>1.062669</td>\n",
       "    </tr>\n",
       "    <tr>\n",
       "      <th>4</th>\n",
       "      <td>1</td>\n",
       "      <td>2019-05-03 11:26:09</td>\n",
       "      <td>2019-05-03 11:28:37</td>\n",
       "      <td>0.692755</td>\n",
       "      <td>0.414397</td>\n",
       "    </tr>\n",
       "  </tbody>\n",
       "</table>\n",
       "</div>"
      ],
      "text/plain": [
       "   key Начало нагрева дугой Конец нагрева дугой  Активная мощность  \\\n",
       "0    1  2019-05-03 11:02:14 2019-05-03 11:06:02           0.976059   \n",
       "1    1  2019-05-03 11:07:28 2019-05-03 11:10:33           0.805607   \n",
       "2    1  2019-05-03 11:11:44 2019-05-03 11:14:36           0.744363   \n",
       "3    1  2019-05-03 11:18:14 2019-05-03 11:24:19           1.659363   \n",
       "4    1  2019-05-03 11:26:09 2019-05-03 11:28:37           0.692755   \n",
       "\n",
       "   Реактивная мощность  \n",
       "0             0.687084  \n",
       "1             0.520285  \n",
       "2             0.498805  \n",
       "3             1.062669  \n",
       "4             0.414397  "
      ]
     },
     "metadata": {},
     "output_type": "display_data"
    }
   ],
   "source": [
    "data_arc['Начало нагрева дугой'] = pd.to_datetime(data_arc['Начало нагрева дугой'])\n",
    "data_arc['Конец нагрева дугой'] = pd.to_datetime(data_arc['Конец нагрева дугой'])\n",
    "\n",
    "display(data_arc.head())"
   ]
  },
  {
   "cell_type": "markdown",
   "id": "bb517d12",
   "metadata": {},
   "source": [
    "Let's add a column with the time between the beginning and end of arc heating in seconds"
   ]
  },
  {
   "cell_type": "code",
   "execution_count": 9,
   "id": "f54a9892",
   "metadata": {},
   "outputs": [
    {
     "data": {
      "text/html": [
       "<div>\n",
       "<style scoped>\n",
       "    .dataframe tbody tr th:only-of-type {\n",
       "        vertical-align: middle;\n",
       "    }\n",
       "\n",
       "    .dataframe tbody tr th {\n",
       "        vertical-align: top;\n",
       "    }\n",
       "\n",
       "    .dataframe thead th {\n",
       "        text-align: right;\n",
       "    }\n",
       "</style>\n",
       "<table border=\"1\" class=\"dataframe\">\n",
       "  <thead>\n",
       "    <tr style=\"text-align: right;\">\n",
       "      <th></th>\n",
       "      <th>key</th>\n",
       "      <th>Начало нагрева дугой</th>\n",
       "      <th>Конец нагрева дугой</th>\n",
       "      <th>Активная мощность</th>\n",
       "      <th>Реактивная мощность</th>\n",
       "      <th>working_time</th>\n",
       "    </tr>\n",
       "  </thead>\n",
       "  <tbody>\n",
       "    <tr>\n",
       "      <th>0</th>\n",
       "      <td>1</td>\n",
       "      <td>2019-05-03 11:02:14</td>\n",
       "      <td>2019-05-03 11:06:02</td>\n",
       "      <td>0.976059</td>\n",
       "      <td>0.687084</td>\n",
       "      <td>228.0</td>\n",
       "    </tr>\n",
       "    <tr>\n",
       "      <th>1</th>\n",
       "      <td>1</td>\n",
       "      <td>2019-05-03 11:07:28</td>\n",
       "      <td>2019-05-03 11:10:33</td>\n",
       "      <td>0.805607</td>\n",
       "      <td>0.520285</td>\n",
       "      <td>185.0</td>\n",
       "    </tr>\n",
       "    <tr>\n",
       "      <th>2</th>\n",
       "      <td>1</td>\n",
       "      <td>2019-05-03 11:11:44</td>\n",
       "      <td>2019-05-03 11:14:36</td>\n",
       "      <td>0.744363</td>\n",
       "      <td>0.498805</td>\n",
       "      <td>172.0</td>\n",
       "    </tr>\n",
       "    <tr>\n",
       "      <th>3</th>\n",
       "      <td>1</td>\n",
       "      <td>2019-05-03 11:18:14</td>\n",
       "      <td>2019-05-03 11:24:19</td>\n",
       "      <td>1.659363</td>\n",
       "      <td>1.062669</td>\n",
       "      <td>365.0</td>\n",
       "    </tr>\n",
       "    <tr>\n",
       "      <th>4</th>\n",
       "      <td>1</td>\n",
       "      <td>2019-05-03 11:26:09</td>\n",
       "      <td>2019-05-03 11:28:37</td>\n",
       "      <td>0.692755</td>\n",
       "      <td>0.414397</td>\n",
       "      <td>148.0</td>\n",
       "    </tr>\n",
       "  </tbody>\n",
       "</table>\n",
       "</div>"
      ],
      "text/plain": [
       "   key Начало нагрева дугой Конец нагрева дугой  Активная мощность  \\\n",
       "0    1  2019-05-03 11:02:14 2019-05-03 11:06:02           0.976059   \n",
       "1    1  2019-05-03 11:07:28 2019-05-03 11:10:33           0.805607   \n",
       "2    1  2019-05-03 11:11:44 2019-05-03 11:14:36           0.744363   \n",
       "3    1  2019-05-03 11:18:14 2019-05-03 11:24:19           1.659363   \n",
       "4    1  2019-05-03 11:26:09 2019-05-03 11:28:37           0.692755   \n",
       "\n",
       "   Реактивная мощность  working_time  \n",
       "0             0.687084         228.0  \n",
       "1             0.520285         185.0  \n",
       "2             0.498805         172.0  \n",
       "3             1.062669         365.0  \n",
       "4             0.414397         148.0  "
      ]
     },
     "metadata": {},
     "output_type": "display_data"
    }
   ],
   "source": [
    "data_arc['working_time'] = (data_arc['Конец нагрева дугой'] - data_arc['Начало нагрева дугой']).astype('timedelta64[s]')\n",
    "display(data_arc.head())"
   ]
  },
  {
   "cell_type": "markdown",
   "id": "fbd4a9ef",
   "metadata": {},
   "source": [
    "Let's build a graph and look at the distribution of powers and intervals"
   ]
  },
  {
   "cell_type": "code",
   "execution_count": 10,
   "id": "0da08046",
   "metadata": {},
   "outputs": [
    {
     "data": {
      "text/plain": [
       "<AxesSubplot:title={'center':'Интервал нагрева дугой, сек'}, ylabel='Frequency'>"
      ]
     },
     "execution_count": 10,
     "metadata": {},
     "output_type": "execute_result"
    },
    {
     "data": {
      "image/png": "[encoded data removed]",
      "text/plain": [
       "<Figure size 432x288 with 1 Axes>"
      ]
     },
     "metadata": {
      "needs_background": "light"
     },
     "output_type": "display_data"
    }
   ],
   "source": [
    "data_arc['working_time'].plot(kind='hist', bins=100, title='Интервал нагрева дугой, сек')"
   ]
  },
  {
   "cell_type": "markdown",
   "id": "7beeed25",
   "metadata": {},
   "source": [
    "Basically, the distribution occurs in the range from 0 to 200. Then it declines."
   ]
  },
  {
   "cell_type": "markdown",
   "id": "d6f2293d",
   "metadata": {},
   "source": [
    "<b>Let's look at the power<b>"
   ]
  },
  {
   "cell_type": "markdown",
   "id": "872761d6",
   "metadata": {},
   "source": [
    "Let's sort the value in ascending order."
   ]
  },
  {
   "cell_type": "code",
   "execution_count": 11,
   "id": "bbbbaed0",
   "metadata": {},
   "outputs": [
    {
     "data": {
      "text/plain": [
       "9780    -715.504924\n",
       "5596       0.020806\n",
       "2419       0.021154\n",
       "4914       0.022485\n",
       "4633       0.022983\n",
       "            ...    \n",
       "13760      2.335088\n",
       "12424      2.397032\n",
       "9361       2.459959\n",
       "9226       2.504206\n",
       "7799       2.676388\n",
       "Name: Реактивная мощность, Length: 14876, dtype: float64"
      ]
     },
     "execution_count": 11,
     "metadata": {},
     "output_type": "execute_result"
    }
   ],
   "source": [
    "data_arc['Реактивная мощность'].sort_values()"
   ]
  },
  {
   "cell_type": "markdown",
   "id": "664bd7a4",
   "metadata": {},
   "source": [
    "We have one very large outlier. Let's delete it"
   ]
  },
  {
   "cell_type": "code",
   "execution_count": 12,
   "id": "699b206b",
   "metadata": {},
   "outputs": [],
   "source": [
    "data_arc = data_arc.query('`Реактивная мощность` > 0')"
   ]
  },
  {
   "cell_type": "code",
   "execution_count": 13,
   "id": "99bf202d",
   "metadata": {},
   "outputs": [
    {
     "data": {
      "text/plain": [
       "<AxesSubplot:title={'center':'Распределение активной мощности'}, ylabel='Frequency'>"
      ]
     },
     "execution_count": 13,
     "metadata": {},
     "output_type": "execute_result"
    },
    {
     "data": {
      "image/png": "[encoded data removed]",
      "text/plain": [
       "<Figure size 432x288 with 1 Axes>"
      ]
     },
     "metadata": {
      "needs_background": "light"
     },
     "output_type": "display_data"
    }
   ],
   "source": [
    "data_arc['Активная мощность'].plot(kind='hist', bins=100, title='Распределение активной мощности')"
   ]
  },
  {
   "cell_type": "code",
   "execution_count": 14,
   "id": "cebb6ea4",
   "metadata": {},
   "outputs": [
    {
     "data": {
      "text/plain": [
       "<AxesSubplot:title={'center':'Распределение реактивной мощности'}, ylabel='Frequency'>"
      ]
     },
     "execution_count": 14,
     "metadata": {},
     "output_type": "execute_result"
    },
    {
     "data": {
      "image/png": "[encoded data removed]",
      "text/plain": [
       "<Figure size 432x288 with 1 Axes>"
      ]
     },
     "metadata": {
      "needs_background": "light"
     },
     "output_type": "display_data"
    }
   ],
   "source": [
    "data_arc['Реактивная мощность'].plot(kind='hist', bins=100, title='Распределение реактивной мощности')"
   ]
  },
  {
   "cell_type": "code",
   "execution_count": 15,
   "id": "81ae87aa",
   "metadata": {},
   "outputs": [
    {
     "data": {
      "text/html": [
       "<div>\n",
       "<style scoped>\n",
       "    .dataframe tbody tr th:only-of-type {\n",
       "        vertical-align: middle;\n",
       "    }\n",
       "\n",
       "    .dataframe tbody tr th {\n",
       "        vertical-align: top;\n",
       "    }\n",
       "\n",
       "    .dataframe thead th {\n",
       "        text-align: right;\n",
       "    }\n",
       "</style>\n",
       "<table border=\"1\" class=\"dataframe\">\n",
       "  <thead>\n",
       "    <tr style=\"text-align: right;\">\n",
       "      <th></th>\n",
       "      <th>key</th>\n",
       "      <th>Начало нагрева дугой</th>\n",
       "      <th>Конец нагрева дугой</th>\n",
       "      <th>Активная мощность</th>\n",
       "      <th>Реактивная мощность</th>\n",
       "      <th>working_time</th>\n",
       "    </tr>\n",
       "  </thead>\n",
       "  <tbody>\n",
       "    <tr>\n",
       "      <th>0</th>\n",
       "      <td>1</td>\n",
       "      <td>2019-05-03 11:02:14</td>\n",
       "      <td>2019-05-03 11:06:02</td>\n",
       "      <td>0.976059</td>\n",
       "      <td>0.687084</td>\n",
       "      <td>228.0</td>\n",
       "    </tr>\n",
       "    <tr>\n",
       "      <th>1</th>\n",
       "      <td>1</td>\n",
       "      <td>2019-05-03 11:07:28</td>\n",
       "      <td>2019-05-03 11:10:33</td>\n",
       "      <td>0.805607</td>\n",
       "      <td>0.520285</td>\n",
       "      <td>185.0</td>\n",
       "    </tr>\n",
       "    <tr>\n",
       "      <th>2</th>\n",
       "      <td>1</td>\n",
       "      <td>2019-05-03 11:11:44</td>\n",
       "      <td>2019-05-03 11:14:36</td>\n",
       "      <td>0.744363</td>\n",
       "      <td>0.498805</td>\n",
       "      <td>172.0</td>\n",
       "    </tr>\n",
       "    <tr>\n",
       "      <th>3</th>\n",
       "      <td>1</td>\n",
       "      <td>2019-05-03 11:18:14</td>\n",
       "      <td>2019-05-03 11:24:19</td>\n",
       "      <td>1.659363</td>\n",
       "      <td>1.062669</td>\n",
       "      <td>365.0</td>\n",
       "    </tr>\n",
       "    <tr>\n",
       "      <th>4</th>\n",
       "      <td>1</td>\n",
       "      <td>2019-05-03 11:26:09</td>\n",
       "      <td>2019-05-03 11:28:37</td>\n",
       "      <td>0.692755</td>\n",
       "      <td>0.414397</td>\n",
       "      <td>148.0</td>\n",
       "    </tr>\n",
       "  </tbody>\n",
       "</table>\n",
       "</div>"
      ],
      "text/plain": [
       "   key Начало нагрева дугой Конец нагрева дугой  Активная мощность  \\\n",
       "0    1  2019-05-03 11:02:14 2019-05-03 11:06:02           0.976059   \n",
       "1    1  2019-05-03 11:07:28 2019-05-03 11:10:33           0.805607   \n",
       "2    1  2019-05-03 11:11:44 2019-05-03 11:14:36           0.744363   \n",
       "3    1  2019-05-03 11:18:14 2019-05-03 11:24:19           1.659363   \n",
       "4    1  2019-05-03 11:26:09 2019-05-03 11:28:37           0.692755   \n",
       "\n",
       "   Реактивная мощность  working_time  \n",
       "0             0.687084         228.0  \n",
       "1             0.520285         185.0  \n",
       "2             0.498805         172.0  \n",
       "3             1.062669         365.0  \n",
       "4             0.414397         148.0  "
      ]
     },
     "execution_count": 15,
     "metadata": {},
     "output_type": "execute_result"
    }
   ],
   "source": [
    "data_arc.head()"
   ]
  },
  {
   "cell_type": "markdown",
   "id": "749831af",
   "metadata": {},
   "source": [
    "Remove unnecessary columns"
   ]
  },
  {
   "cell_type": "code",
   "execution_count": 16,
   "id": "6e8fbcfa",
   "metadata": {},
   "outputs": [
    {
     "data": {
      "text/html": [
       "<div>\n",
       "<style scoped>\n",
       "    .dataframe tbody tr th:only-of-type {\n",
       "        vertical-align: middle;\n",
       "    }\n",
       "\n",
       "    .dataframe tbody tr th {\n",
       "        vertical-align: top;\n",
       "    }\n",
       "\n",
       "    .dataframe thead th {\n",
       "        text-align: right;\n",
       "    }\n",
       "</style>\n",
       "<table border=\"1\" class=\"dataframe\">\n",
       "  <thead>\n",
       "    <tr style=\"text-align: right;\">\n",
       "      <th></th>\n",
       "      <th>key</th>\n",
       "      <th>Активная мощность</th>\n",
       "      <th>Реактивная мощность</th>\n",
       "      <th>working_time</th>\n",
       "    </tr>\n",
       "  </thead>\n",
       "  <tbody>\n",
       "    <tr>\n",
       "      <th>0</th>\n",
       "      <td>1</td>\n",
       "      <td>0.976059</td>\n",
       "      <td>0.687084</td>\n",
       "      <td>228.0</td>\n",
       "    </tr>\n",
       "    <tr>\n",
       "      <th>1</th>\n",
       "      <td>1</td>\n",
       "      <td>0.805607</td>\n",
       "      <td>0.520285</td>\n",
       "      <td>185.0</td>\n",
       "    </tr>\n",
       "    <tr>\n",
       "      <th>2</th>\n",
       "      <td>1</td>\n",
       "      <td>0.744363</td>\n",
       "      <td>0.498805</td>\n",
       "      <td>172.0</td>\n",
       "    </tr>\n",
       "    <tr>\n",
       "      <th>3</th>\n",
       "      <td>1</td>\n",
       "      <td>1.659363</td>\n",
       "      <td>1.062669</td>\n",
       "      <td>365.0</td>\n",
       "    </tr>\n",
       "    <tr>\n",
       "      <th>4</th>\n",
       "      <td>1</td>\n",
       "      <td>0.692755</td>\n",
       "      <td>0.414397</td>\n",
       "      <td>148.0</td>\n",
       "    </tr>\n",
       "    <tr>\n",
       "      <th>...</th>\n",
       "      <td>...</td>\n",
       "      <td>...</td>\n",
       "      <td>...</td>\n",
       "      <td>...</td>\n",
       "    </tr>\n",
       "    <tr>\n",
       "      <th>14871</th>\n",
       "      <td>3241</td>\n",
       "      <td>0.533670</td>\n",
       "      <td>0.354439</td>\n",
       "      <td>157.0</td>\n",
       "    </tr>\n",
       "    <tr>\n",
       "      <th>14872</th>\n",
       "      <td>3241</td>\n",
       "      <td>0.676604</td>\n",
       "      <td>0.523631</td>\n",
       "      <td>180.0</td>\n",
       "    </tr>\n",
       "    <tr>\n",
       "      <th>14873</th>\n",
       "      <td>3241</td>\n",
       "      <td>0.733899</td>\n",
       "      <td>0.475654</td>\n",
       "      <td>184.0</td>\n",
       "    </tr>\n",
       "    <tr>\n",
       "      <th>14874</th>\n",
       "      <td>3241</td>\n",
       "      <td>0.220694</td>\n",
       "      <td>0.145768</td>\n",
       "      <td>57.0</td>\n",
       "    </tr>\n",
       "    <tr>\n",
       "      <th>14875</th>\n",
       "      <td>3241</td>\n",
       "      <td>0.306580</td>\n",
       "      <td>0.196708</td>\n",
       "      <td>81.0</td>\n",
       "    </tr>\n",
       "  </tbody>\n",
       "</table>\n",
       "<p>14875 rows × 4 columns</p>\n",
       "</div>"
      ],
      "text/plain": [
       "        key  Активная мощность  Реактивная мощность  working_time\n",
       "0         1           0.976059             0.687084         228.0\n",
       "1         1           0.805607             0.520285         185.0\n",
       "2         1           0.744363             0.498805         172.0\n",
       "3         1           1.659363             1.062669         365.0\n",
       "4         1           0.692755             0.414397         148.0\n",
       "...     ...                ...                  ...           ...\n",
       "14871  3241           0.533670             0.354439         157.0\n",
       "14872  3241           0.676604             0.523631         180.0\n",
       "14873  3241           0.733899             0.475654         184.0\n",
       "14874  3241           0.220694             0.145768          57.0\n",
       "14875  3241           0.306580             0.196708          81.0\n",
       "\n",
       "[14875 rows x 4 columns]"
      ]
     },
     "execution_count": 16,
     "metadata": {},
     "output_type": "execute_result"
    }
   ],
   "source": [
    "data_arc.drop(columns = ['Начало нагрева дугой', 'Конец нагрева дугой'], axis = 1)\n"
   ]
  },
  {
   "cell_type": "markdown",
   "id": "afd232e4",
   "metadata": {},
   "source": [
    "Let's group the data by the 'key' column"
   ]
  },
  {
   "cell_type": "code",
   "execution_count": 17,
   "id": "bf46d5a4",
   "metadata": {},
   "outputs": [
    {
     "data": {
      "text/html": [
       "<div>\n",
       "<style scoped>\n",
       "    .dataframe tbody tr th:only-of-type {\n",
       "        vertical-align: middle;\n",
       "    }\n",
       "\n",
       "    .dataframe tbody tr th {\n",
       "        vertical-align: top;\n",
       "    }\n",
       "\n",
       "    .dataframe thead th {\n",
       "        text-align: right;\n",
       "    }\n",
       "</style>\n",
       "<table border=\"1\" class=\"dataframe\">\n",
       "  <thead>\n",
       "    <tr style=\"text-align: right;\">\n",
       "      <th></th>\n",
       "      <th>Активная мощность</th>\n",
       "      <th>Реактивная мощность</th>\n",
       "      <th>working_time</th>\n",
       "    </tr>\n",
       "    <tr>\n",
       "      <th>key</th>\n",
       "      <th></th>\n",
       "      <th></th>\n",
       "      <th></th>\n",
       "    </tr>\n",
       "  </thead>\n",
       "  <tbody>\n",
       "    <tr>\n",
       "      <th>1</th>\n",
       "      <td>4.878147</td>\n",
       "      <td>3.183241</td>\n",
       "      <td>1098.0</td>\n",
       "    </tr>\n",
       "    <tr>\n",
       "      <th>2</th>\n",
       "      <td>3.052598</td>\n",
       "      <td>1.998112</td>\n",
       "      <td>811.0</td>\n",
       "    </tr>\n",
       "    <tr>\n",
       "      <th>3</th>\n",
       "      <td>2.525882</td>\n",
       "      <td>1.599076</td>\n",
       "      <td>655.0</td>\n",
       "    </tr>\n",
       "    <tr>\n",
       "      <th>4</th>\n",
       "      <td>3.209250</td>\n",
       "      <td>2.060298</td>\n",
       "      <td>741.0</td>\n",
       "    </tr>\n",
       "    <tr>\n",
       "      <th>5</th>\n",
       "      <td>3.347173</td>\n",
       "      <td>2.252643</td>\n",
       "      <td>869.0</td>\n",
       "    </tr>\n",
       "    <tr>\n",
       "      <th>...</th>\n",
       "      <td>...</td>\n",
       "      <td>...</td>\n",
       "      <td>...</td>\n",
       "    </tr>\n",
       "    <tr>\n",
       "      <th>3237</th>\n",
       "      <td>3.932467</td>\n",
       "      <td>2.828459</td>\n",
       "      <td>909.0</td>\n",
       "    </tr>\n",
       "    <tr>\n",
       "      <th>3238</th>\n",
       "      <td>2.106529</td>\n",
       "      <td>1.681182</td>\n",
       "      <td>546.0</td>\n",
       "    </tr>\n",
       "    <tr>\n",
       "      <th>3239</th>\n",
       "      <td>4.666754</td>\n",
       "      <td>3.111617</td>\n",
       "      <td>1216.0</td>\n",
       "    </tr>\n",
       "    <tr>\n",
       "      <th>3240</th>\n",
       "      <td>2.984083</td>\n",
       "      <td>2.483267</td>\n",
       "      <td>839.0</td>\n",
       "    </tr>\n",
       "    <tr>\n",
       "      <th>3241</th>\n",
       "      <td>2.471447</td>\n",
       "      <td>1.696199</td>\n",
       "      <td>659.0</td>\n",
       "    </tr>\n",
       "  </tbody>\n",
       "</table>\n",
       "<p>3214 rows × 3 columns</p>\n",
       "</div>"
      ],
      "text/plain": [
       "      Активная мощность  Реактивная мощность  working_time\n",
       "key                                                       \n",
       "1              4.878147             3.183241        1098.0\n",
       "2              3.052598             1.998112         811.0\n",
       "3              2.525882             1.599076         655.0\n",
       "4              3.209250             2.060298         741.0\n",
       "5              3.347173             2.252643         869.0\n",
       "...                 ...                  ...           ...\n",
       "3237           3.932467             2.828459         909.0\n",
       "3238           2.106529             1.681182         546.0\n",
       "3239           4.666754             3.111617        1216.0\n",
       "3240           2.984083             2.483267         839.0\n",
       "3241           2.471447             1.696199         659.0\n",
       "\n",
       "[3214 rows x 3 columns]"
      ]
     },
     "execution_count": 17,
     "metadata": {},
     "output_type": "execute_result"
    }
   ],
   "source": [
    "data_arc = data_arc.groupby('key').sum()\n",
    "data_arc"
   ]
  },
  {
   "cell_type": "markdown",
   "id": "71429b5e",
   "metadata": {},
   "source": [
    "### data_bulk"
   ]
  },
  {
   "cell_type": "markdown",
   "id": "37e4e1d1",
   "metadata": {},
   "source": [
    "Let's add the 'key' column to the index"
   ]
  },
  {
   "cell_type": "code",
   "execution_count": 18,
   "id": "50fb31af",
   "metadata": {},
   "outputs": [],
   "source": [
    "data_bulk = data_bulk.set_index('key')"
   ]
  },
  {
   "cell_type": "markdown",
   "id": "ba276874",
   "metadata": {},
   "source": [
    "Replace all NaNs with 0"
   ]
  },
  {
   "cell_type": "code",
   "execution_count": 19,
   "id": "66ac3e47",
   "metadata": {},
   "outputs": [],
   "source": [
    "data_bulk = data_bulk.fillna(0)"
   ]
  },
  {
   "cell_type": "markdown",
   "id": "32616239",
   "metadata": {},
   "source": [
    "Let's add a column with the sum for all stages of adding bulk materials"
   ]
  },
  {
   "cell_type": "code",
   "execution_count": 20,
   "id": "f696cceb",
   "metadata": {},
   "outputs": [
    {
     "data": {
      "text/html": [
       "<div>\n",
       "<style scoped>\n",
       "    .dataframe tbody tr th:only-of-type {\n",
       "        vertical-align: middle;\n",
       "    }\n",
       "\n",
       "    .dataframe tbody tr th {\n",
       "        vertical-align: top;\n",
       "    }\n",
       "\n",
       "    .dataframe thead th {\n",
       "        text-align: right;\n",
       "    }\n",
       "</style>\n",
       "<table border=\"1\" class=\"dataframe\">\n",
       "  <thead>\n",
       "    <tr style=\"text-align: right;\">\n",
       "      <th></th>\n",
       "      <th>Bulk 1</th>\n",
       "      <th>Bulk 2</th>\n",
       "      <th>Bulk 3</th>\n",
       "      <th>Bulk 4</th>\n",
       "      <th>Bulk 5</th>\n",
       "      <th>Bulk 6</th>\n",
       "      <th>Bulk 7</th>\n",
       "      <th>Bulk 8</th>\n",
       "      <th>Bulk 9</th>\n",
       "      <th>Bulk 10</th>\n",
       "      <th>Bulk 11</th>\n",
       "      <th>Bulk 12</th>\n",
       "      <th>Bulk 13</th>\n",
       "      <th>Bulk 14</th>\n",
       "      <th>Bulk 15</th>\n",
       "      <th>total_bulk</th>\n",
       "    </tr>\n",
       "    <tr>\n",
       "      <th>key</th>\n",
       "      <th></th>\n",
       "      <th></th>\n",
       "      <th></th>\n",
       "      <th></th>\n",
       "      <th></th>\n",
       "      <th></th>\n",
       "      <th></th>\n",
       "      <th></th>\n",
       "      <th></th>\n",
       "      <th></th>\n",
       "      <th></th>\n",
       "      <th></th>\n",
       "      <th></th>\n",
       "      <th></th>\n",
       "      <th></th>\n",
       "      <th></th>\n",
       "    </tr>\n",
       "  </thead>\n",
       "  <tbody>\n",
       "    <tr>\n",
       "      <th>1</th>\n",
       "      <td>0.0</td>\n",
       "      <td>0.0</td>\n",
       "      <td>0.0</td>\n",
       "      <td>43.0</td>\n",
       "      <td>0.0</td>\n",
       "      <td>0.0</td>\n",
       "      <td>0.0</td>\n",
       "      <td>0.0</td>\n",
       "      <td>0.0</td>\n",
       "      <td>0.0</td>\n",
       "      <td>0.0</td>\n",
       "      <td>206.0</td>\n",
       "      <td>0.0</td>\n",
       "      <td>150.0</td>\n",
       "      <td>154.0</td>\n",
       "      <td>553.0</td>\n",
       "    </tr>\n",
       "    <tr>\n",
       "      <th>2</th>\n",
       "      <td>0.0</td>\n",
       "      <td>0.0</td>\n",
       "      <td>0.0</td>\n",
       "      <td>73.0</td>\n",
       "      <td>0.0</td>\n",
       "      <td>0.0</td>\n",
       "      <td>0.0</td>\n",
       "      <td>0.0</td>\n",
       "      <td>0.0</td>\n",
       "      <td>0.0</td>\n",
       "      <td>0.0</td>\n",
       "      <td>206.0</td>\n",
       "      <td>0.0</td>\n",
       "      <td>149.0</td>\n",
       "      <td>154.0</td>\n",
       "      <td>582.0</td>\n",
       "    </tr>\n",
       "    <tr>\n",
       "      <th>3</th>\n",
       "      <td>0.0</td>\n",
       "      <td>0.0</td>\n",
       "      <td>0.0</td>\n",
       "      <td>34.0</td>\n",
       "      <td>0.0</td>\n",
       "      <td>0.0</td>\n",
       "      <td>0.0</td>\n",
       "      <td>0.0</td>\n",
       "      <td>0.0</td>\n",
       "      <td>0.0</td>\n",
       "      <td>0.0</td>\n",
       "      <td>205.0</td>\n",
       "      <td>0.0</td>\n",
       "      <td>152.0</td>\n",
       "      <td>153.0</td>\n",
       "      <td>544.0</td>\n",
       "    </tr>\n",
       "    <tr>\n",
       "      <th>4</th>\n",
       "      <td>0.0</td>\n",
       "      <td>0.0</td>\n",
       "      <td>0.0</td>\n",
       "      <td>81.0</td>\n",
       "      <td>0.0</td>\n",
       "      <td>0.0</td>\n",
       "      <td>0.0</td>\n",
       "      <td>0.0</td>\n",
       "      <td>0.0</td>\n",
       "      <td>0.0</td>\n",
       "      <td>0.0</td>\n",
       "      <td>207.0</td>\n",
       "      <td>0.0</td>\n",
       "      <td>153.0</td>\n",
       "      <td>154.0</td>\n",
       "      <td>595.0</td>\n",
       "    </tr>\n",
       "    <tr>\n",
       "      <th>5</th>\n",
       "      <td>0.0</td>\n",
       "      <td>0.0</td>\n",
       "      <td>0.0</td>\n",
       "      <td>78.0</td>\n",
       "      <td>0.0</td>\n",
       "      <td>0.0</td>\n",
       "      <td>0.0</td>\n",
       "      <td>0.0</td>\n",
       "      <td>0.0</td>\n",
       "      <td>0.0</td>\n",
       "      <td>0.0</td>\n",
       "      <td>203.0</td>\n",
       "      <td>0.0</td>\n",
       "      <td>151.0</td>\n",
       "      <td>152.0</td>\n",
       "      <td>584.0</td>\n",
       "    </tr>\n",
       "    <tr>\n",
       "      <th>...</th>\n",
       "      <td>...</td>\n",
       "      <td>...</td>\n",
       "      <td>...</td>\n",
       "      <td>...</td>\n",
       "      <td>...</td>\n",
       "      <td>...</td>\n",
       "      <td>...</td>\n",
       "      <td>...</td>\n",
       "      <td>...</td>\n",
       "      <td>...</td>\n",
       "      <td>...</td>\n",
       "      <td>...</td>\n",
       "      <td>...</td>\n",
       "      <td>...</td>\n",
       "      <td>...</td>\n",
       "      <td>...</td>\n",
       "    </tr>\n",
       "    <tr>\n",
       "      <th>3237</th>\n",
       "      <td>0.0</td>\n",
       "      <td>0.0</td>\n",
       "      <td>170.0</td>\n",
       "      <td>0.0</td>\n",
       "      <td>0.0</td>\n",
       "      <td>0.0</td>\n",
       "      <td>0.0</td>\n",
       "      <td>0.0</td>\n",
       "      <td>0.0</td>\n",
       "      <td>0.0</td>\n",
       "      <td>0.0</td>\n",
       "      <td>252.0</td>\n",
       "      <td>0.0</td>\n",
       "      <td>130.0</td>\n",
       "      <td>206.0</td>\n",
       "      <td>758.0</td>\n",
       "    </tr>\n",
       "    <tr>\n",
       "      <th>3238</th>\n",
       "      <td>0.0</td>\n",
       "      <td>0.0</td>\n",
       "      <td>126.0</td>\n",
       "      <td>0.0</td>\n",
       "      <td>0.0</td>\n",
       "      <td>0.0</td>\n",
       "      <td>0.0</td>\n",
       "      <td>0.0</td>\n",
       "      <td>0.0</td>\n",
       "      <td>0.0</td>\n",
       "      <td>0.0</td>\n",
       "      <td>254.0</td>\n",
       "      <td>0.0</td>\n",
       "      <td>108.0</td>\n",
       "      <td>106.0</td>\n",
       "      <td>594.0</td>\n",
       "    </tr>\n",
       "    <tr>\n",
       "      <th>3239</th>\n",
       "      <td>0.0</td>\n",
       "      <td>0.0</td>\n",
       "      <td>0.0</td>\n",
       "      <td>0.0</td>\n",
       "      <td>0.0</td>\n",
       "      <td>114.0</td>\n",
       "      <td>0.0</td>\n",
       "      <td>0.0</td>\n",
       "      <td>0.0</td>\n",
       "      <td>0.0</td>\n",
       "      <td>0.0</td>\n",
       "      <td>158.0</td>\n",
       "      <td>0.0</td>\n",
       "      <td>270.0</td>\n",
       "      <td>88.0</td>\n",
       "      <td>630.0</td>\n",
       "    </tr>\n",
       "    <tr>\n",
       "      <th>3240</th>\n",
       "      <td>0.0</td>\n",
       "      <td>0.0</td>\n",
       "      <td>0.0</td>\n",
       "      <td>0.0</td>\n",
       "      <td>0.0</td>\n",
       "      <td>26.0</td>\n",
       "      <td>0.0</td>\n",
       "      <td>0.0</td>\n",
       "      <td>0.0</td>\n",
       "      <td>0.0</td>\n",
       "      <td>0.0</td>\n",
       "      <td>0.0</td>\n",
       "      <td>0.0</td>\n",
       "      <td>192.0</td>\n",
       "      <td>54.0</td>\n",
       "      <td>272.0</td>\n",
       "    </tr>\n",
       "    <tr>\n",
       "      <th>3241</th>\n",
       "      <td>0.0</td>\n",
       "      <td>0.0</td>\n",
       "      <td>0.0</td>\n",
       "      <td>0.0</td>\n",
       "      <td>0.0</td>\n",
       "      <td>0.0</td>\n",
       "      <td>0.0</td>\n",
       "      <td>0.0</td>\n",
       "      <td>0.0</td>\n",
       "      <td>0.0</td>\n",
       "      <td>0.0</td>\n",
       "      <td>0.0</td>\n",
       "      <td>0.0</td>\n",
       "      <td>180.0</td>\n",
       "      <td>52.0</td>\n",
       "      <td>232.0</td>\n",
       "    </tr>\n",
       "  </tbody>\n",
       "</table>\n",
       "<p>3129 rows × 16 columns</p>\n",
       "</div>"
      ],
      "text/plain": [
       "      Bulk 1  Bulk 2  Bulk 3  Bulk 4  Bulk 5  Bulk 6  Bulk 7  Bulk 8  Bulk 9  \\\n",
       "key                                                                            \n",
       "1        0.0     0.0     0.0    43.0     0.0     0.0     0.0     0.0     0.0   \n",
       "2        0.0     0.0     0.0    73.0     0.0     0.0     0.0     0.0     0.0   \n",
       "3        0.0     0.0     0.0    34.0     0.0     0.0     0.0     0.0     0.0   \n",
       "4        0.0     0.0     0.0    81.0     0.0     0.0     0.0     0.0     0.0   \n",
       "5        0.0     0.0     0.0    78.0     0.0     0.0     0.0     0.0     0.0   \n",
       "...      ...     ...     ...     ...     ...     ...     ...     ...     ...   \n",
       "3237     0.0     0.0   170.0     0.0     0.0     0.0     0.0     0.0     0.0   \n",
       "3238     0.0     0.0   126.0     0.0     0.0     0.0     0.0     0.0     0.0   \n",
       "3239     0.0     0.0     0.0     0.0     0.0   114.0     0.0     0.0     0.0   \n",
       "3240     0.0     0.0     0.0     0.0     0.0    26.0     0.0     0.0     0.0   \n",
       "3241     0.0     0.0     0.0     0.0     0.0     0.0     0.0     0.0     0.0   \n",
       "\n",
       "      Bulk 10  Bulk 11  Bulk 12  Bulk 13  Bulk 14  Bulk 15  total_bulk  \n",
       "key                                                                     \n",
       "1         0.0      0.0    206.0      0.0    150.0    154.0       553.0  \n",
       "2         0.0      0.0    206.0      0.0    149.0    154.0       582.0  \n",
       "3         0.0      0.0    205.0      0.0    152.0    153.0       544.0  \n",
       "4         0.0      0.0    207.0      0.0    153.0    154.0       595.0  \n",
       "5         0.0      0.0    203.0      0.0    151.0    152.0       584.0  \n",
       "...       ...      ...      ...      ...      ...      ...         ...  \n",
       "3237      0.0      0.0    252.0      0.0    130.0    206.0       758.0  \n",
       "3238      0.0      0.0    254.0      0.0    108.0    106.0       594.0  \n",
       "3239      0.0      0.0    158.0      0.0    270.0     88.0       630.0  \n",
       "3240      0.0      0.0      0.0      0.0    192.0     54.0       272.0  \n",
       "3241      0.0      0.0      0.0      0.0    180.0     52.0       232.0  \n",
       "\n",
       "[3129 rows x 16 columns]"
      ]
     },
     "execution_count": 20,
     "metadata": {},
     "output_type": "execute_result"
    }
   ],
   "source": [
    "data_bulk['total_bulk'] = data_bulk.sum(axis=1)\n",
    "data_bulk"
   ]
  },
  {
   "cell_type": "markdown",
   "id": "0dbbb0c6",
   "metadata": {},
   "source": [
    "Let's leave only the totals"
   ]
  },
  {
   "cell_type": "code",
   "execution_count": 21,
   "id": "40f3fbce",
   "metadata": {},
   "outputs": [
    {
     "data": {
      "text/plain": [
       "key\n",
       "1       553.0\n",
       "2       582.0\n",
       "3       544.0\n",
       "4       595.0\n",
       "5       584.0\n",
       "        ...  \n",
       "3237    758.0\n",
       "3238    594.0\n",
       "3239    630.0\n",
       "3240    272.0\n",
       "3241    232.0\n",
       "Name: total_bulk, Length: 3129, dtype: float64"
      ]
     },
     "execution_count": 21,
     "metadata": {},
     "output_type": "execute_result"
    }
   ],
   "source": [
    "data_bulk = data_bulk['total_bulk']\n",
    "data_bulk"
   ]
  },
  {
   "cell_type": "markdown",
   "id": "79778521",
   "metadata": {},
   "source": [
    "Let's look at the distribution"
   ]
  },
  {
   "cell_type": "code",
   "execution_count": 22,
   "id": "65008e5a",
   "metadata": {},
   "outputs": [
    {
     "data": {
      "text/plain": [
       "<AxesSubplot:title={'center':'Сумма подачи сыпучих материалов, обьем'}, ylabel='Frequency'>"
      ]
     },
     "execution_count": 22,
     "metadata": {},
     "output_type": "execute_result"
    },
    {
     "data": {
      "image/png": "[encoded data removed]",
      "text/plain": [
       "<Figure size 432x288 with 1 Axes>"
      ]
     },
     "metadata": {
      "needs_background": "light"
     },
     "output_type": "display_data"
    }
   ],
   "source": [
    "data_bulk.plot(kind='hist', bins=100, title='Сумма подачи сыпучих материалов, обьем')"
   ]
  },
  {
   "cell_type": "markdown",
   "id": "81fe8f0d",
   "metadata": {},
   "source": [
    "Convert to dataframe"
   ]
  },
  {
   "cell_type": "code",
   "execution_count": 23,
   "id": "ad90fbfb",
   "metadata": {},
   "outputs": [],
   "source": [
    "data_bulk = data_bulk.to_frame(name='total_bulk')"
   ]
  },
  {
   "cell_type": "code",
   "execution_count": 24,
   "id": "53c035e4",
   "metadata": {},
   "outputs": [
    {
     "data": {
      "text/html": [
       "<div>\n",
       "<style scoped>\n",
       "    .dataframe tbody tr th:only-of-type {\n",
       "        vertical-align: middle;\n",
       "    }\n",
       "\n",
       "    .dataframe tbody tr th {\n",
       "        vertical-align: top;\n",
       "    }\n",
       "\n",
       "    .dataframe thead th {\n",
       "        text-align: right;\n",
       "    }\n",
       "</style>\n",
       "<table border=\"1\" class=\"dataframe\">\n",
       "  <thead>\n",
       "    <tr style=\"text-align: right;\">\n",
       "      <th></th>\n",
       "      <th>total_bulk</th>\n",
       "    </tr>\n",
       "    <tr>\n",
       "      <th>key</th>\n",
       "      <th></th>\n",
       "    </tr>\n",
       "  </thead>\n",
       "  <tbody>\n",
       "    <tr>\n",
       "      <th>1</th>\n",
       "      <td>553.0</td>\n",
       "    </tr>\n",
       "    <tr>\n",
       "      <th>2</th>\n",
       "      <td>582.0</td>\n",
       "    </tr>\n",
       "    <tr>\n",
       "      <th>3</th>\n",
       "      <td>544.0</td>\n",
       "    </tr>\n",
       "    <tr>\n",
       "      <th>4</th>\n",
       "      <td>595.0</td>\n",
       "    </tr>\n",
       "    <tr>\n",
       "      <th>5</th>\n",
       "      <td>584.0</td>\n",
       "    </tr>\n",
       "  </tbody>\n",
       "</table>\n",
       "</div>"
      ],
      "text/plain": [
       "     total_bulk\n",
       "key            \n",
       "1         553.0\n",
       "2         582.0\n",
       "3         544.0\n",
       "4         595.0\n",
       "5         584.0"
      ]
     },
     "execution_count": 24,
     "metadata": {},
     "output_type": "execute_result"
    }
   ],
   "source": [
    "data_bulk.head()"
   ]
  },
  {
   "cell_type": "markdown",
   "id": "0c78a65d",
   "metadata": {},
   "source": [
    "### data_gas"
   ]
  },
  {
   "cell_type": "markdown",
   "id": "6045bf29",
   "metadata": {},
   "source": [
    "Let's add the 'key' column to the index"
   ]
  },
  {
   "cell_type": "code",
   "execution_count": 25,
   "id": "9181b485",
   "metadata": {},
   "outputs": [],
   "source": [
    "data_gas = data_gas.set_index('key')"
   ]
  },
  {
   "cell_type": "markdown",
   "id": "f56d2f82",
   "metadata": {},
   "source": [
    "Let's look at the distribution"
   ]
  },
  {
   "cell_type": "code",
   "execution_count": 26,
   "id": "9e26b867",
   "metadata": {},
   "outputs": [
    {
     "data": {
      "text/plain": [
       "<AxesSubplot:ylabel='Frequency'>"
      ]
     },
     "execution_count": 26,
     "metadata": {},
     "output_type": "execute_result"
    },
    {
     "data": {
      "image/png": "[encoded data removed]",
      "text/plain": [
       "<Figure size 432x288 with 1 Axes>"
      ]
     },
     "metadata": {
      "needs_background": "light"
     },
     "output_type": "display_data"
    }
   ],
   "source": [
    "data_gas.plot(kind='hist', bins=100)"
   ]
  },
  {
   "cell_type": "code",
   "execution_count": 27,
   "id": "f1fd46cc",
   "metadata": {},
   "outputs": [
    {
     "data": {
      "text/html": [
       "<div>\n",
       "<style scoped>\n",
       "    .dataframe tbody tr th:only-of-type {\n",
       "        vertical-align: middle;\n",
       "    }\n",
       "\n",
       "    .dataframe tbody tr th {\n",
       "        vertical-align: top;\n",
       "    }\n",
       "\n",
       "    .dataframe thead th {\n",
       "        text-align: right;\n",
       "    }\n",
       "</style>\n",
       "<table border=\"1\" class=\"dataframe\">\n",
       "  <thead>\n",
       "    <tr style=\"text-align: right;\">\n",
       "      <th></th>\n",
       "      <th>Газ 1</th>\n",
       "    </tr>\n",
       "    <tr>\n",
       "      <th>key</th>\n",
       "      <th></th>\n",
       "    </tr>\n",
       "  </thead>\n",
       "  <tbody>\n",
       "    <tr>\n",
       "      <th>1</th>\n",
       "      <td>29.749986</td>\n",
       "    </tr>\n",
       "    <tr>\n",
       "      <th>2</th>\n",
       "      <td>12.555561</td>\n",
       "    </tr>\n",
       "    <tr>\n",
       "      <th>3</th>\n",
       "      <td>28.554793</td>\n",
       "    </tr>\n",
       "    <tr>\n",
       "      <th>4</th>\n",
       "      <td>18.841219</td>\n",
       "    </tr>\n",
       "    <tr>\n",
       "      <th>5</th>\n",
       "      <td>5.413692</td>\n",
       "    </tr>\n",
       "  </tbody>\n",
       "</table>\n",
       "</div>"
      ],
      "text/plain": [
       "         Газ 1\n",
       "key           \n",
       "1    29.749986\n",
       "2    12.555561\n",
       "3    28.554793\n",
       "4    18.841219\n",
       "5     5.413692"
      ]
     },
     "execution_count": 27,
     "metadata": {},
     "output_type": "execute_result"
    }
   ],
   "source": [
    "data_gas.head()"
   ]
  },
  {
   "cell_type": "markdown",
   "id": "b5f50a19",
   "metadata": {},
   "source": [
    "### data_temp  "
   ]
  },
  {
   "cell_type": "markdown",
   "id": "aa558778",
   "metadata": {},
   "source": [
    "Let's find iterations with one temperature measurement"
   ]
  },
  {
   "cell_type": "code",
   "execution_count": 28,
   "id": "118e9221",
   "metadata": {},
   "outputs": [
    {
     "data": {
      "text/html": [
       "<div>\n",
       "<style scoped>\n",
       "    .dataframe tbody tr th:only-of-type {\n",
       "        vertical-align: middle;\n",
       "    }\n",
       "\n",
       "    .dataframe tbody tr th {\n",
       "        vertical-align: top;\n",
       "    }\n",
       "\n",
       "    .dataframe thead th {\n",
       "        text-align: right;\n",
       "    }\n",
       "</style>\n",
       "<table border=\"1\" class=\"dataframe\">\n",
       "  <thead>\n",
       "    <tr style=\"text-align: right;\">\n",
       "      <th></th>\n",
       "      <th>кол-во_замеров</th>\n",
       "    </tr>\n",
       "    <tr>\n",
       "      <th>key</th>\n",
       "      <th></th>\n",
       "    </tr>\n",
       "  </thead>\n",
       "  <tbody>\n",
       "    <tr>\n",
       "      <th>195</th>\n",
       "      <td>1</td>\n",
       "    </tr>\n",
       "    <tr>\n",
       "      <th>279</th>\n",
       "      <td>1</td>\n",
       "    </tr>\n",
       "    <tr>\n",
       "      <th>2500</th>\n",
       "      <td>1</td>\n",
       "    </tr>\n",
       "    <tr>\n",
       "      <th>2501</th>\n",
       "      <td>1</td>\n",
       "    </tr>\n",
       "    <tr>\n",
       "      <th>2502</th>\n",
       "      <td>1</td>\n",
       "    </tr>\n",
       "    <tr>\n",
       "      <th>...</th>\n",
       "      <td>...</td>\n",
       "    </tr>\n",
       "    <tr>\n",
       "      <th>3237</th>\n",
       "      <td>1</td>\n",
       "    </tr>\n",
       "    <tr>\n",
       "      <th>3238</th>\n",
       "      <td>1</td>\n",
       "    </tr>\n",
       "    <tr>\n",
       "      <th>3239</th>\n",
       "      <td>1</td>\n",
       "    </tr>\n",
       "    <tr>\n",
       "      <th>3240</th>\n",
       "      <td>1</td>\n",
       "    </tr>\n",
       "    <tr>\n",
       "      <th>3241</th>\n",
       "      <td>1</td>\n",
       "    </tr>\n",
       "  </tbody>\n",
       "</table>\n",
       "<p>741 rows × 1 columns</p>\n",
       "</div>"
      ],
      "text/plain": [
       "      кол-во_замеров\n",
       "key                 \n",
       "195                1\n",
       "279                1\n",
       "2500               1\n",
       "2501               1\n",
       "2502               1\n",
       "...              ...\n",
       "3237               1\n",
       "3238               1\n",
       "3239               1\n",
       "3240               1\n",
       "3241               1\n",
       "\n",
       "[741 rows x 1 columns]"
      ]
     },
     "execution_count": 28,
     "metadata": {},
     "output_type": "execute_result"
    }
   ],
   "source": [
    "data_temp_delete = data_temp.groupby('key')['Температура'].count().to_frame(name='кол-во_замеров')\n",
    "data_temp_delete = data_temp_delete.query('`кол-во_замеров` == 1')\n",
    "data_temp_delete"
   ]
  },
  {
   "cell_type": "markdown",
   "id": "d1c919e9",
   "metadata": {},
   "source": [
    "Let's remove such iterations from our dataset"
   ]
  },
  {
   "cell_type": "code",
   "execution_count": 29,
   "id": "9a313f61",
   "metadata": {},
   "outputs": [],
   "source": [
    "data_temp_delete = data_temp_delete.index"
   ]
  },
  {
   "cell_type": "code",
   "execution_count": 30,
   "id": "787486e6",
   "metadata": {},
   "outputs": [
    {
     "name": "stdout",
     "output_type": "stream",
     "text": [
      "(15907, 3)\n",
      "(12265, 3)\n"
     ]
    }
   ],
   "source": [
    "print(data_temp.shape)\n",
    "data_temp = data_temp.query('key not in @data_temp_delete')\n",
    "print(data_temp.shape)"
   ]
  },
  {
   "cell_type": "markdown",
   "id": "726c8bcf",
   "metadata": {},
   "source": [
    "Let's sort our data by Measurement Time and create two variables with the first temperature and the last"
   ]
  },
  {
   "cell_type": "code",
   "execution_count": 31,
   "id": "abcaf2fd",
   "metadata": {},
   "outputs": [],
   "source": [
    "data_temp = data_temp.sort_values(by='Время замера')\n",
    "\n",
    "first_temperature = data_temp.groupby(by='key', as_index=False)['Температура'].first()\n",
    "last_temperature = data_temp.groupby(by='key', as_index=False)['Температура'].last()"
   ]
  },
  {
   "cell_type": "code",
   "execution_count": 32,
   "id": "a6cb4b12",
   "metadata": {},
   "outputs": [
    {
     "data": {
      "text/html": [
       "<div>\n",
       "<style scoped>\n",
       "    .dataframe tbody tr th:only-of-type {\n",
       "        vertical-align: middle;\n",
       "    }\n",
       "\n",
       "    .dataframe tbody tr th {\n",
       "        vertical-align: top;\n",
       "    }\n",
       "\n",
       "    .dataframe thead th {\n",
       "        text-align: right;\n",
       "    }\n",
       "</style>\n",
       "<table border=\"1\" class=\"dataframe\">\n",
       "  <thead>\n",
       "    <tr style=\"text-align: right;\">\n",
       "      <th></th>\n",
       "      <th>key</th>\n",
       "      <th>Время замера</th>\n",
       "      <th>Температура</th>\n",
       "    </tr>\n",
       "  </thead>\n",
       "  <tbody>\n",
       "    <tr>\n",
       "      <th>0</th>\n",
       "      <td>1</td>\n",
       "      <td>2019-05-03 11:16:18</td>\n",
       "      <td>1571.0</td>\n",
       "    </tr>\n",
       "    <tr>\n",
       "      <th>1</th>\n",
       "      <td>1</td>\n",
       "      <td>2019-05-03 11:25:53</td>\n",
       "      <td>1604.0</td>\n",
       "    </tr>\n",
       "    <tr>\n",
       "      <th>2</th>\n",
       "      <td>1</td>\n",
       "      <td>2019-05-03 11:29:11</td>\n",
       "      <td>1618.0</td>\n",
       "    </tr>\n",
       "    <tr>\n",
       "      <th>3</th>\n",
       "      <td>1</td>\n",
       "      <td>2019-05-03 11:30:01</td>\n",
       "      <td>1601.0</td>\n",
       "    </tr>\n",
       "    <tr>\n",
       "      <th>4</th>\n",
       "      <td>1</td>\n",
       "      <td>2019-05-03 11:30:39</td>\n",
       "      <td>1613.0</td>\n",
       "    </tr>\n",
       "  </tbody>\n",
       "</table>\n",
       "</div>"
      ],
      "text/plain": [
       "   key         Время замера  Температура\n",
       "0    1  2019-05-03 11:16:18       1571.0\n",
       "1    1  2019-05-03 11:25:53       1604.0\n",
       "2    1  2019-05-03 11:29:11       1618.0\n",
       "3    1  2019-05-03 11:30:01       1601.0\n",
       "4    1  2019-05-03 11:30:39       1613.0"
      ]
     },
     "execution_count": 32,
     "metadata": {},
     "output_type": "execute_result"
    }
   ],
   "source": [
    "data_temp.head()"
   ]
  },
  {
   "cell_type": "markdown",
   "id": "993aeea4",
   "metadata": {},
   "source": [
    "Now merge into one table"
   ]
  },
  {
   "cell_type": "code",
   "execution_count": 33,
   "id": "3c6d2d6b",
   "metadata": {},
   "outputs": [
    {
     "data": {
      "text/html": [
       "<div>\n",
       "<style scoped>\n",
       "    .dataframe tbody tr th:only-of-type {\n",
       "        vertical-align: middle;\n",
       "    }\n",
       "\n",
       "    .dataframe tbody tr th {\n",
       "        vertical-align: top;\n",
       "    }\n",
       "\n",
       "    .dataframe thead th {\n",
       "        text-align: right;\n",
       "    }\n",
       "</style>\n",
       "<table border=\"1\" class=\"dataframe\">\n",
       "  <thead>\n",
       "    <tr style=\"text-align: right;\">\n",
       "      <th></th>\n",
       "      <th>первый_замер_температуры</th>\n",
       "      <th>последний_замер_температуры</th>\n",
       "    </tr>\n",
       "    <tr>\n",
       "      <th>key</th>\n",
       "      <th></th>\n",
       "      <th></th>\n",
       "    </tr>\n",
       "  </thead>\n",
       "  <tbody>\n",
       "    <tr>\n",
       "      <th>1</th>\n",
       "      <td>1571.0</td>\n",
       "      <td>1613.0</td>\n",
       "    </tr>\n",
       "    <tr>\n",
       "      <th>2</th>\n",
       "      <td>1581.0</td>\n",
       "      <td>1602.0</td>\n",
       "    </tr>\n",
       "    <tr>\n",
       "      <th>3</th>\n",
       "      <td>1596.0</td>\n",
       "      <td>1599.0</td>\n",
       "    </tr>\n",
       "    <tr>\n",
       "      <th>4</th>\n",
       "      <td>1601.0</td>\n",
       "      <td>1625.0</td>\n",
       "    </tr>\n",
       "    <tr>\n",
       "      <th>5</th>\n",
       "      <td>1576.0</td>\n",
       "      <td>1602.0</td>\n",
       "    </tr>\n",
       "  </tbody>\n",
       "</table>\n",
       "</div>"
      ],
      "text/plain": [
       "     первый_замер_температуры  последний_замер_температуры\n",
       "key                                                       \n",
       "1                      1571.0                       1613.0\n",
       "2                      1581.0                       1602.0\n",
       "3                      1596.0                       1599.0\n",
       "4                      1601.0                       1625.0\n",
       "5                      1576.0                       1602.0"
      ]
     },
     "execution_count": 33,
     "metadata": {},
     "output_type": "execute_result"
    }
   ],
   "source": [
    "data_temp_new = first_temperature\n",
    "data_temp_new = data_temp_new.rename(columns={'Температура': 'первый_замер_температуры'})\n",
    "data_temp_new['последний_замер_температуры'] = last_temperature['Температура']\n",
    "data_temp_new = data_temp_new.set_index('key')\n",
    "data_temp_new.head()"
   ]
  },
  {
   "cell_type": "markdown",
   "id": "259565cf",
   "metadata": {},
   "source": [
    "We have a table with the 'key' index and with the temperature results at the first and last measurement."
   ]
  },
  {
   "cell_type": "markdown",
   "id": "383ef2ba",
   "metadata": {},
   "source": [
    "Let's check how many iterations I have the same first and last temperatures"
   ]
  },
  {
   "cell_type": "code",
   "execution_count": 34,
   "id": "cc8904dd",
   "metadata": {},
   "outputs": [
    {
     "data": {
      "text/plain": [
       "42"
      ]
     },
     "execution_count": 34,
     "metadata": {},
     "output_type": "execute_result"
    }
   ],
   "source": [
    "data_temp_new[data_temp_new['первый_замер_температуры'] == data_temp_new['последний_замер_температуры']].shape[0]"
   ]
  },
  {
   "cell_type": "markdown",
   "id": "da5a31c7",
   "metadata": {},
   "source": [
    "Let's leave such iterations, because it is quite possible that the first and last temperature measurements have the same value"
   ]
  },
  {
   "cell_type": "markdown",
   "id": "f789d6fb",
   "metadata": {},
   "source": [
    "### data_wire"
   ]
  },
  {
   "cell_type": "markdown",
   "id": "e5e7ca61",
   "metadata": {},
   "source": [
    "Let's add the 'key' column to the index"
   ]
  },
  {
   "cell_type": "code",
   "execution_count": 35,
   "id": "bbfe2a53",
   "metadata": {},
   "outputs": [],
   "source": [
    "data_wire = data_wire.set_index('key')"
   ]
  },
  {
   "cell_type": "markdown",
   "id": "7aeed127",
   "metadata": {},
   "source": [
    "Replace all NaNs with 0"
   ]
  },
  {
   "cell_type": "code",
   "execution_count": 36,
   "id": "951ab153",
   "metadata": {},
   "outputs": [],
   "source": [
    "data_wire = data_wire.fillna(0)"
   ]
  },
  {
   "cell_type": "markdown",
   "id": "580386ec",
   "metadata": {},
   "source": [
    "Let's add a column with the sum of all stages of adding wire"
   ]
  },
  {
   "cell_type": "code",
   "execution_count": 37,
   "id": "a9ee0bf5",
   "metadata": {},
   "outputs": [
    {
     "data": {
      "text/html": [
       "<div>\n",
       "<style scoped>\n",
       "    .dataframe tbody tr th:only-of-type {\n",
       "        vertical-align: middle;\n",
       "    }\n",
       "\n",
       "    .dataframe tbody tr th {\n",
       "        vertical-align: top;\n",
       "    }\n",
       "\n",
       "    .dataframe thead th {\n",
       "        text-align: right;\n",
       "    }\n",
       "</style>\n",
       "<table border=\"1\" class=\"dataframe\">\n",
       "  <thead>\n",
       "    <tr style=\"text-align: right;\">\n",
       "      <th></th>\n",
       "      <th>Wire 1</th>\n",
       "      <th>Wire 2</th>\n",
       "      <th>Wire 3</th>\n",
       "      <th>Wire 4</th>\n",
       "      <th>Wire 5</th>\n",
       "      <th>Wire 6</th>\n",
       "      <th>Wire 7</th>\n",
       "      <th>Wire 8</th>\n",
       "      <th>Wire 9</th>\n",
       "      <th>total_wire</th>\n",
       "    </tr>\n",
       "    <tr>\n",
       "      <th>key</th>\n",
       "      <th></th>\n",
       "      <th></th>\n",
       "      <th></th>\n",
       "      <th></th>\n",
       "      <th></th>\n",
       "      <th></th>\n",
       "      <th></th>\n",
       "      <th></th>\n",
       "      <th></th>\n",
       "      <th></th>\n",
       "    </tr>\n",
       "  </thead>\n",
       "  <tbody>\n",
       "    <tr>\n",
       "      <th>1</th>\n",
       "      <td>60.059998</td>\n",
       "      <td>0.00000</td>\n",
       "      <td>0.0</td>\n",
       "      <td>0.0</td>\n",
       "      <td>0.0</td>\n",
       "      <td>0.0</td>\n",
       "      <td>0.0</td>\n",
       "      <td>0.0</td>\n",
       "      <td>0.0</td>\n",
       "      <td>60.059998</td>\n",
       "    </tr>\n",
       "    <tr>\n",
       "      <th>2</th>\n",
       "      <td>96.052315</td>\n",
       "      <td>0.00000</td>\n",
       "      <td>0.0</td>\n",
       "      <td>0.0</td>\n",
       "      <td>0.0</td>\n",
       "      <td>0.0</td>\n",
       "      <td>0.0</td>\n",
       "      <td>0.0</td>\n",
       "      <td>0.0</td>\n",
       "      <td>96.052315</td>\n",
       "    </tr>\n",
       "    <tr>\n",
       "      <th>3</th>\n",
       "      <td>91.160157</td>\n",
       "      <td>0.00000</td>\n",
       "      <td>0.0</td>\n",
       "      <td>0.0</td>\n",
       "      <td>0.0</td>\n",
       "      <td>0.0</td>\n",
       "      <td>0.0</td>\n",
       "      <td>0.0</td>\n",
       "      <td>0.0</td>\n",
       "      <td>91.160157</td>\n",
       "    </tr>\n",
       "    <tr>\n",
       "      <th>4</th>\n",
       "      <td>89.063515</td>\n",
       "      <td>0.00000</td>\n",
       "      <td>0.0</td>\n",
       "      <td>0.0</td>\n",
       "      <td>0.0</td>\n",
       "      <td>0.0</td>\n",
       "      <td>0.0</td>\n",
       "      <td>0.0</td>\n",
       "      <td>0.0</td>\n",
       "      <td>89.063515</td>\n",
       "    </tr>\n",
       "    <tr>\n",
       "      <th>5</th>\n",
       "      <td>89.238236</td>\n",
       "      <td>9.11456</td>\n",
       "      <td>0.0</td>\n",
       "      <td>0.0</td>\n",
       "      <td>0.0</td>\n",
       "      <td>0.0</td>\n",
       "      <td>0.0</td>\n",
       "      <td>0.0</td>\n",
       "      <td>0.0</td>\n",
       "      <td>98.352796</td>\n",
       "    </tr>\n",
       "  </tbody>\n",
       "</table>\n",
       "</div>"
      ],
      "text/plain": [
       "        Wire 1   Wire 2  Wire 3  Wire 4  Wire 5  Wire 6  Wire 7  Wire 8  \\\n",
       "key                                                                       \n",
       "1    60.059998  0.00000     0.0     0.0     0.0     0.0     0.0     0.0   \n",
       "2    96.052315  0.00000     0.0     0.0     0.0     0.0     0.0     0.0   \n",
       "3    91.160157  0.00000     0.0     0.0     0.0     0.0     0.0     0.0   \n",
       "4    89.063515  0.00000     0.0     0.0     0.0     0.0     0.0     0.0   \n",
       "5    89.238236  9.11456     0.0     0.0     0.0     0.0     0.0     0.0   \n",
       "\n",
       "     Wire 9  total_wire  \n",
       "key                      \n",
       "1       0.0   60.059998  \n",
       "2       0.0   96.052315  \n",
       "3       0.0   91.160157  \n",
       "4       0.0   89.063515  \n",
       "5       0.0   98.352796  "
      ]
     },
     "execution_count": 37,
     "metadata": {},
     "output_type": "execute_result"
    }
   ],
   "source": [
    "data_wire['total_wire'] = data_wire.sum(axis=1)\n",
    "data_wire.head()"
   ]
  },
  {
   "cell_type": "markdown",
   "id": "9065ed9c",
   "metadata": {},
   "source": [
    "Let's leave only the totals"
   ]
  },
  {
   "cell_type": "code",
   "execution_count": 38,
   "id": "e14d7bd6",
   "metadata": {},
   "outputs": [
    {
     "data": {
      "text/plain": [
       "key\n",
       "1    60.059998\n",
       "2    96.052315\n",
       "3    91.160157\n",
       "4    89.063515\n",
       "5    98.352796\n",
       "Name: total_wire, dtype: float64"
      ]
     },
     "execution_count": 38,
     "metadata": {},
     "output_type": "execute_result"
    }
   ],
   "source": [
    "data_wire = data_wire['total_wire']\n",
    "data_wire.head()"
   ]
  },
  {
   "cell_type": "markdown",
   "id": "030fffe9",
   "metadata": {},
   "source": [
    "Let's look at the distribution"
   ]
  },
  {
   "cell_type": "code",
   "execution_count": 39,
   "id": "b9710d58",
   "metadata": {},
   "outputs": [
    {
     "data": {
      "text/plain": [
       "<AxesSubplot:title={'center':'Сумма проволочных материалов, обьем'}, ylabel='Frequency'>"
      ]
     },
     "execution_count": 39,
     "metadata": {},
     "output_type": "execute_result"
    },
    {
     "data": {
      "image/png": "[encoded data removed]",
      "text/plain": [
       "<Figure size 432x288 with 1 Axes>"
      ]
     },
     "metadata": {
      "needs_background": "light"
     },
     "output_type": "display_data"
    }
   ],
   "source": [
    "data_wire.plot(kind='hist', bins=100, title='Сумма проволочных материалов, обьем')"
   ]
  },
  {
   "cell_type": "markdown",
   "id": "f36d1d4b",
   "metadata": {},
   "source": [
    "Convert to dataframe"
   ]
  },
  {
   "cell_type": "code",
   "execution_count": 40,
   "id": "54ebd6fa",
   "metadata": {},
   "outputs": [],
   "source": [
    "data_wire = data_wire.to_frame(name='total_wire')"
   ]
  },
  {
   "cell_type": "code",
   "execution_count": 41,
   "id": "a2829a26",
   "metadata": {},
   "outputs": [
    {
     "data": {
      "text/html": [
       "<div>\n",
       "<style scoped>\n",
       "    .dataframe tbody tr th:only-of-type {\n",
       "        vertical-align: middle;\n",
       "    }\n",
       "\n",
       "    .dataframe tbody tr th {\n",
       "        vertical-align: top;\n",
       "    }\n",
       "\n",
       "    .dataframe thead th {\n",
       "        text-align: right;\n",
       "    }\n",
       "</style>\n",
       "<table border=\"1\" class=\"dataframe\">\n",
       "  <thead>\n",
       "    <tr style=\"text-align: right;\">\n",
       "      <th></th>\n",
       "      <th>total_wire</th>\n",
       "    </tr>\n",
       "    <tr>\n",
       "      <th>key</th>\n",
       "      <th></th>\n",
       "    </tr>\n",
       "  </thead>\n",
       "  <tbody>\n",
       "    <tr>\n",
       "      <th>1</th>\n",
       "      <td>60.059998</td>\n",
       "    </tr>\n",
       "    <tr>\n",
       "      <th>2</th>\n",
       "      <td>96.052315</td>\n",
       "    </tr>\n",
       "    <tr>\n",
       "      <th>3</th>\n",
       "      <td>91.160157</td>\n",
       "    </tr>\n",
       "    <tr>\n",
       "      <th>4</th>\n",
       "      <td>89.063515</td>\n",
       "    </tr>\n",
       "    <tr>\n",
       "      <th>5</th>\n",
       "      <td>98.352796</td>\n",
       "    </tr>\n",
       "  </tbody>\n",
       "</table>\n",
       "</div>"
      ],
      "text/plain": [
       "     total_wire\n",
       "key            \n",
       "1     60.059998\n",
       "2     96.052315\n",
       "3     91.160157\n",
       "4     89.063515\n",
       "5     98.352796"
      ]
     },
     "execution_count": 41,
     "metadata": {},
     "output_type": "execute_result"
    }
   ],
   "source": [
    "data_wire.head()"
   ]
  },
  {
   "cell_type": "markdown",
   "id": "c2742854",
   "metadata": {},
   "source": [
    "### Let's collect all the data into one dataframe"
   ]
  },
  {
   "cell_type": "code",
   "execution_count": 42,
   "id": "08db4273",
   "metadata": {},
   "outputs": [
    {
     "data": {
      "text/html": [
       "<div>\n",
       "<style scoped>\n",
       "    .dataframe tbody tr th:only-of-type {\n",
       "        vertical-align: middle;\n",
       "    }\n",
       "\n",
       "    .dataframe tbody tr th {\n",
       "        vertical-align: top;\n",
       "    }\n",
       "\n",
       "    .dataframe thead th {\n",
       "        text-align: right;\n",
       "    }\n",
       "</style>\n",
       "<table border=\"1\" class=\"dataframe\">\n",
       "  <thead>\n",
       "    <tr style=\"text-align: right;\">\n",
       "      <th></th>\n",
       "      <th>Активная мощность</th>\n",
       "      <th>Реактивная мощность</th>\n",
       "      <th>working_time</th>\n",
       "      <th>total_bulk</th>\n",
       "      <th>Газ 1</th>\n",
       "      <th>первый_замер_температуры</th>\n",
       "      <th>последний_замер_температуры</th>\n",
       "      <th>total_wire</th>\n",
       "    </tr>\n",
       "    <tr>\n",
       "      <th>key</th>\n",
       "      <th></th>\n",
       "      <th></th>\n",
       "      <th></th>\n",
       "      <th></th>\n",
       "      <th></th>\n",
       "      <th></th>\n",
       "      <th></th>\n",
       "      <th></th>\n",
       "    </tr>\n",
       "  </thead>\n",
       "  <tbody>\n",
       "    <tr>\n",
       "      <th>1</th>\n",
       "      <td>4.878147</td>\n",
       "      <td>3.183241</td>\n",
       "      <td>1098.0</td>\n",
       "      <td>553.0</td>\n",
       "      <td>29.749986</td>\n",
       "      <td>1571.0</td>\n",
       "      <td>1613.0</td>\n",
       "      <td>60.059998</td>\n",
       "    </tr>\n",
       "    <tr>\n",
       "      <th>2</th>\n",
       "      <td>3.052598</td>\n",
       "      <td>1.998112</td>\n",
       "      <td>811.0</td>\n",
       "      <td>582.0</td>\n",
       "      <td>12.555561</td>\n",
       "      <td>1581.0</td>\n",
       "      <td>1602.0</td>\n",
       "      <td>96.052315</td>\n",
       "    </tr>\n",
       "    <tr>\n",
       "      <th>3</th>\n",
       "      <td>2.525882</td>\n",
       "      <td>1.599076</td>\n",
       "      <td>655.0</td>\n",
       "      <td>544.0</td>\n",
       "      <td>28.554793</td>\n",
       "      <td>1596.0</td>\n",
       "      <td>1599.0</td>\n",
       "      <td>91.160157</td>\n",
       "    </tr>\n",
       "    <tr>\n",
       "      <th>4</th>\n",
       "      <td>3.209250</td>\n",
       "      <td>2.060298</td>\n",
       "      <td>741.0</td>\n",
       "      <td>595.0</td>\n",
       "      <td>18.841219</td>\n",
       "      <td>1601.0</td>\n",
       "      <td>1625.0</td>\n",
       "      <td>89.063515</td>\n",
       "    </tr>\n",
       "    <tr>\n",
       "      <th>5</th>\n",
       "      <td>3.347173</td>\n",
       "      <td>2.252643</td>\n",
       "      <td>869.0</td>\n",
       "      <td>584.0</td>\n",
       "      <td>5.413692</td>\n",
       "      <td>1576.0</td>\n",
       "      <td>1602.0</td>\n",
       "      <td>98.352796</td>\n",
       "    </tr>\n",
       "  </tbody>\n",
       "</table>\n",
       "</div>"
      ],
      "text/plain": [
       "     Активная мощность  Реактивная мощность  working_time  total_bulk  \\\n",
       "key                                                                     \n",
       "1             4.878147             3.183241        1098.0       553.0   \n",
       "2             3.052598             1.998112         811.0       582.0   \n",
       "3             2.525882             1.599076         655.0       544.0   \n",
       "4             3.209250             2.060298         741.0       595.0   \n",
       "5             3.347173             2.252643         869.0       584.0   \n",
       "\n",
       "         Газ 1  первый_замер_температуры  последний_замер_температуры  \\\n",
       "key                                                                     \n",
       "1    29.749986                    1571.0                       1613.0   \n",
       "2    12.555561                    1581.0                       1602.0   \n",
       "3    28.554793                    1596.0                       1599.0   \n",
       "4    18.841219                    1601.0                       1625.0   \n",
       "5     5.413692                    1576.0                       1602.0   \n",
       "\n",
       "     total_wire  \n",
       "key              \n",
       "1     60.059998  \n",
       "2     96.052315  \n",
       "3     91.160157  \n",
       "4     89.063515  \n",
       "5     98.352796  "
      ]
     },
     "execution_count": 42,
     "metadata": {},
     "output_type": "execute_result"
    }
   ],
   "source": [
    "df = data_arc\n",
    "df = df.merge(data_bulk, how='inner', on='key')\n",
    "df = df.merge(data_gas, how='inner', on='key')\n",
    "df = df.merge(data_temp_new, how='inner', on='key')\n",
    "df = df.merge(data_wire, how='inner', on='key')\n",
    "df.head()"
   ]
  },
  {
   "cell_type": "markdown",
   "id": "31785a0a",
   "metadata": {},
   "source": [
    "Let's see if there is a correlation in our data"
   ]
  },
  {
   "cell_type": "code",
   "execution_count": 43,
   "id": "0ad5205e",
   "metadata": {},
   "outputs": [
    {
     "data": {
      "text/plain": [
       "<AxesSubplot:>"
      ]
     },
     "execution_count": 43,
     "metadata": {},
     "output_type": "execute_result"
    },
    {
     "data": {
      "image/png": "[encoded data removed]",
      "text/plain": [
       "<Figure size 432x288 with 2 Axes>"
      ]
     },
     "metadata": {
      "needs_background": "light"
     },
     "output_type": "display_data"
    }
   ],
   "source": [
    "sns.heatmap(df.corr(), annot=True)"
   ]
  },
  {
   "cell_type": "markdown",
   "id": "877c2169",
   "metadata": {},
   "source": [
    "We have a strong direct correlation between Active power, Reactive power and working_time. In the future, you can remove unnecessary data. But we will check both ways."
   ]
  },
  {
   "cell_type": "code",
   "execution_count": 44,
   "id": "86c40fcd",
   "metadata": {},
   "outputs": [
    {
     "data": {
      "text/html": [
       "<div>\n",
       "<style scoped>\n",
       "    .dataframe tbody tr th:only-of-type {\n",
       "        vertical-align: middle;\n",
       "    }\n",
       "\n",
       "    .dataframe tbody tr th {\n",
       "        vertical-align: top;\n",
       "    }\n",
       "\n",
       "    .dataframe thead th {\n",
       "        text-align: right;\n",
       "    }\n",
       "</style>\n",
       "<table border=\"1\" class=\"dataframe\">\n",
       "  <thead>\n",
       "    <tr style=\"text-align: right;\">\n",
       "      <th></th>\n",
       "      <th>Активная мощность</th>\n",
       "      <th>Реактивная мощность</th>\n",
       "      <th>working_time</th>\n",
       "      <th>total_bulk</th>\n",
       "      <th>Газ 1</th>\n",
       "      <th>первый_замер_температуры</th>\n",
       "      <th>последний_замер_температуры</th>\n",
       "      <th>total_wire</th>\n",
       "    </tr>\n",
       "    <tr>\n",
       "      <th>key</th>\n",
       "      <th></th>\n",
       "      <th></th>\n",
       "      <th></th>\n",
       "      <th></th>\n",
       "      <th></th>\n",
       "      <th></th>\n",
       "      <th></th>\n",
       "      <th></th>\n",
       "    </tr>\n",
       "  </thead>\n",
       "  <tbody>\n",
       "    <tr>\n",
       "      <th>1</th>\n",
       "      <td>4.878147</td>\n",
       "      <td>3.183241</td>\n",
       "      <td>1098.0</td>\n",
       "      <td>553.0</td>\n",
       "      <td>29.749986</td>\n",
       "      <td>1571.0</td>\n",
       "      <td>1613.0</td>\n",
       "      <td>60.059998</td>\n",
       "    </tr>\n",
       "    <tr>\n",
       "      <th>2</th>\n",
       "      <td>3.052598</td>\n",
       "      <td>1.998112</td>\n",
       "      <td>811.0</td>\n",
       "      <td>582.0</td>\n",
       "      <td>12.555561</td>\n",
       "      <td>1581.0</td>\n",
       "      <td>1602.0</td>\n",
       "      <td>96.052315</td>\n",
       "    </tr>\n",
       "    <tr>\n",
       "      <th>3</th>\n",
       "      <td>2.525882</td>\n",
       "      <td>1.599076</td>\n",
       "      <td>655.0</td>\n",
       "      <td>544.0</td>\n",
       "      <td>28.554793</td>\n",
       "      <td>1596.0</td>\n",
       "      <td>1599.0</td>\n",
       "      <td>91.160157</td>\n",
       "    </tr>\n",
       "    <tr>\n",
       "      <th>4</th>\n",
       "      <td>3.209250</td>\n",
       "      <td>2.060298</td>\n",
       "      <td>741.0</td>\n",
       "      <td>595.0</td>\n",
       "      <td>18.841219</td>\n",
       "      <td>1601.0</td>\n",
       "      <td>1625.0</td>\n",
       "      <td>89.063515</td>\n",
       "    </tr>\n",
       "    <tr>\n",
       "      <th>5</th>\n",
       "      <td>3.347173</td>\n",
       "      <td>2.252643</td>\n",
       "      <td>869.0</td>\n",
       "      <td>584.0</td>\n",
       "      <td>5.413692</td>\n",
       "      <td>1576.0</td>\n",
       "      <td>1602.0</td>\n",
       "      <td>98.352796</td>\n",
       "    </tr>\n",
       "  </tbody>\n",
       "</table>\n",
       "</div>"
      ],
      "text/plain": [
       "     Активная мощность  Реактивная мощность  working_time  total_bulk  \\\n",
       "key                                                                     \n",
       "1             4.878147             3.183241        1098.0       553.0   \n",
       "2             3.052598             1.998112         811.0       582.0   \n",
       "3             2.525882             1.599076         655.0       544.0   \n",
       "4             3.209250             2.060298         741.0       595.0   \n",
       "5             3.347173             2.252643         869.0       584.0   \n",
       "\n",
       "         Газ 1  первый_замер_температуры  последний_замер_температуры  \\\n",
       "key                                                                     \n",
       "1    29.749986                    1571.0                       1613.0   \n",
       "2    12.555561                    1581.0                       1602.0   \n",
       "3    28.554793                    1596.0                       1599.0   \n",
       "4    18.841219                    1601.0                       1625.0   \n",
       "5     5.413692                    1576.0                       1602.0   \n",
       "\n",
       "     total_wire  \n",
       "key              \n",
       "1     60.059998  \n",
       "2     96.052315  \n",
       "3     91.160157  \n",
       "4     89.063515  \n",
       "5     98.352796  "
      ]
     },
     "execution_count": 44,
     "metadata": {},
     "output_type": "execute_result"
    }
   ],
   "source": [
    "df.head()"
   ]
  },
  {
   "cell_type": "markdown",
   "id": "aa3d8b3b",
   "metadata": {},
   "source": [
    "<b>Let's check our final dataframe for emissions.</b>"
   ]
  },
  {
   "cell_type": "code",
   "execution_count": 45,
   "id": "27318bfe",
   "metadata": {},
   "outputs": [
    {
     "name": "stdout",
     "output_type": "stream",
     "text": [
      "Активная мощность\n"
     ]
    },
    {
     "data": {
      "image/png": "[encoded data removed]",
      "text/plain": [
       "<Figure size 432x288 with 1 Axes>"
      ]
     },
     "metadata": {
      "needs_background": "light"
     },
     "output_type": "display_data"
    },
    {
     "name": "stdout",
     "output_type": "stream",
     "text": [
      "Реактивная мощность\n"
     ]
    },
    {
     "data": {
      "image/png": "[encoded data removed]",
      "text/plain": [
       "<Figure size 432x288 with 1 Axes>"
      ]
     },
     "metadata": {
      "needs_background": "light"
     },
     "output_type": "display_data"
    },
    {
     "name": "stdout",
     "output_type": "stream",
     "text": [
      "working_time\n"
     ]
    },
    {
     "data": {
      "image/png": "[encoded data removed]",
      "text/plain": [
       "<Figure size 432x288 with 1 Axes>"
      ]
     },
     "metadata": {
      "needs_background": "light"
     },
     "output_type": "display_data"
    },
    {
     "name": "stdout",
     "output_type": "stream",
     "text": [
      "total_bulk\n"
     ]
    },
    {
     "data": {
      "image/png": "[encoded data removed]",
      "text/plain": [
       "<Figure size 432x288 with 1 Axes>"
      ]
     },
     "metadata": {
      "needs_background": "light"
     },
     "output_type": "display_data"
    },
    {
     "name": "stdout",
     "output_type": "stream",
     "text": [
      "Газ 1\n"
     ]
    },
    {
     "data": {
      "image/png": "[encoded data removed]",
      "text/plain": [
       "<Figure size 432x288 with 1 Axes>"
      ]
     },
     "metadata": {
      "needs_background": "light"
     },
     "output_type": "display_data"
    },
    {
     "name": "stdout",
     "output_type": "stream",
     "text": [
      "первый_замер_температуры\n"
     ]
    },
    {
     "data": {
      "image/png": "[encoded data removed]",
      "text/plain": [
       "<Figure size 432x288 with 1 Axes>"
      ]
     },
     "metadata": {
      "needs_background": "light"
     },
     "output_type": "display_data"
    },
    {
     "name": "stdout",
     "output_type": "stream",
     "text": [
      "последний_замер_температуры\n"
     ]
    },
    {
     "data": {
      "image/png": "[encoded data removed]",
      "text/plain": [
       "<Figure size 432x288 with 1 Axes>"
      ]
     },
     "metadata": {
      "needs_background": "light"
     },
     "output_type": "display_data"
    },
    {
     "name": "stdout",
     "output_type": "stream",
     "text": [
      "total_wire\n"
     ]
    },
    {
     "data": {
      "image/png": "[encoded data removed]",
      "text/plain": [
       "<Figure size 432x288 with 1 Axes>"
      ]
     },
     "metadata": {
      "needs_background": "light"
     },
     "output_type": "display_data"
    }
   ],
   "source": [
    "col = df.columns\n",
    "\n",
    "for i in col:\n",
    "    print(i)\n",
    "    df[i].plot(kind='hist', bins=100)\n",
    "    plt.show()"
   ]
  },
  {
   "cell_type": "code",
   "execution_count": 46,
   "id": "a84c53a7",
   "metadata": {},
   "outputs": [
    {
     "name": "stdout",
     "output_type": "stream",
     "text": [
      "Активная мощность\n"
     ]
    },
    {
     "data": {
      "image/png": "[encoded data removed]",
      "text/plain": [
       "<Figure size 432x288 with 1 Axes>"
      ]
     },
     "metadata": {
      "needs_background": "light"
     },
     "output_type": "display_data"
    },
    {
     "name": "stdout",
     "output_type": "stream",
     "text": [
      "Реактивная мощность\n"
     ]
    },
    {
     "data": {
      "image/png": "[encoded data removed]",
      "text/plain": [
       "<Figure size 432x288 with 1 Axes>"
      ]
     },
     "metadata": {
      "needs_background": "light"
     },
     "output_type": "display_data"
    },
    {
     "name": "stdout",
     "output_type": "stream",
     "text": [
      "working_time\n"
     ]
    },
    {
     "data": {
      "image/png": "[encoded data removed]",
      "text/plain": [
       "<Figure size 432x288 with 1 Axes>"
      ]
     },
     "metadata": {
      "needs_background": "light"
     },
     "output_type": "display_data"
    },
    {
     "name": "stdout",
     "output_type": "stream",
     "text": [
      "total_bulk\n"
     ]
    },
    {
     "data": {
      "image/png": "[encoded data removed]",
      "text/plain": [
       "<Figure size 432x288 with 1 Axes>"
      ]
     },
     "metadata": {
      "needs_background": "light"
     },
     "output_type": "display_data"
    },
    {
     "name": "stdout",
     "output_type": "stream",
     "text": [
      "Газ 1\n"
     ]
    },
    {
     "data": {
      "image/png": "[encoded data removed]",
      "text/plain": [
       "<Figure size 432x288 with 1 Axes>"
      ]
     },
     "metadata": {
      "needs_background": "light"
     },
     "output_type": "display_data"
    },
    {
     "name": "stdout",
     "output_type": "stream",
     "text": [
      "первый_замер_температуры\n"
     ]
    },
    {
     "data": {
      "image/png": "[encoded data removed]",
      "text/plain": [
       "<Figure size 432x288 with 1 Axes>"
      ]
     },
     "metadata": {
      "needs_background": "light"
     },
     "output_type": "display_data"
    },
    {
     "name": "stdout",
     "output_type": "stream",
     "text": [
      "последний_замер_температуры\n"
     ]
    },
    {
     "data": {
      "image/png": "[encoded data removed]",
      "text/plain": [
       "<Figure size 432x288 with 1 Axes>"
      ]
     },
     "metadata": {
      "needs_background": "light"
     },
     "output_type": "display_data"
    },
    {
     "name": "stdout",
     "output_type": "stream",
     "text": [
      "total_wire\n"
     ]
    },
    {
     "data": {
      "image/png": "[encoded data removed]",
      "text/plain": [
       "<Figure size 432x288 with 1 Axes>"
      ]
     },
     "metadata": {
      "needs_background": "light"
     },
     "output_type": "display_data"
    }
   ],
   "source": [
    "for i in col:\n",
    "    print(i)\n",
    "    df.boxplot(column=i)\n",
    "    plt.show()"
   ]
  },
  {
   "cell_type": "markdown",
   "id": "9e224120",
   "metadata": {},
   "source": [
    "We have outliers in all columns. Next, remove outliers. Replace data points that lie outside the lower and upper boundaries (Q1 and Q3) with Zero value."
   ]
  },
  {
   "cell_type": "code",
   "execution_count": 47,
   "id": "af8fa106",
   "metadata": {},
   "outputs": [],
   "source": [
    "for x in ['Активная мощность', 'Реактивная мощность', 'working_time', 'total_bulk', 'Газ 1', 'total_wire', 'первый_замер_температуры', 'последний_замер_температуры']:\n",
    "    q75,q25 = np.percentile(df.loc[:,x],[75,25])\n",
    "    intr_qr = q75-q25\n",
    "\n",
    "    max = q75+(1.5*intr_qr)\n",
    "    min = q25-(1.5*intr_qr)\n",
    "\n",
    "    df.loc[df[x] < min,x] = np.nan\n",
    "    df.loc[df[x] > max,x] = np.nan"
   ]
  },
  {
   "cell_type": "code",
   "execution_count": 48,
   "id": "1306b6ba",
   "metadata": {},
   "outputs": [
    {
     "data": {
      "text/plain": [
       "Активная мощность               42\n",
       "Реактивная мощность             49\n",
       "working_time                    42\n",
       "total_bulk                      13\n",
       "Газ 1                           93\n",
       "первый_замер_температуры        18\n",
       "последний_замер_температуры    181\n",
       "total_wire                      84\n",
       "dtype: int64"
      ]
     },
     "execution_count": 48,
     "metadata": {},
     "output_type": "execute_result"
    }
   ],
   "source": [
    "df.isnull().sum()"
   ]
  },
  {
   "cell_type": "markdown",
   "id": "12866dcd",
   "metadata": {},
   "source": [
    "Let's delete objects with empty values ​​(since these are outliers)"
   ]
  },
  {
   "cell_type": "code",
   "execution_count": 49,
   "id": "b1a669ca",
   "metadata": {},
   "outputs": [],
   "source": [
    "df = df.dropna(axis=0)"
   ]
  },
  {
   "cell_type": "code",
   "execution_count": 50,
   "id": "7cc905f5",
   "metadata": {
    "scrolled": true
   },
   "outputs": [
    {
     "data": {
      "text/plain": [
       "Активная мощность              0\n",
       "Реактивная мощность            0\n",
       "working_time                   0\n",
       "total_bulk                     0\n",
       "Газ 1                          0\n",
       "первый_замер_температуры       0\n",
       "последний_замер_температуры    0\n",
       "total_wire                     0\n",
       "dtype: int64"
      ]
     },
     "execution_count": 50,
     "metadata": {},
     "output_type": "execute_result"
    }
   ],
   "source": [
    "df.isnull().sum()"
   ]
  },
  {
   "cell_type": "markdown",
   "id": "8fb6e48a",
   "metadata": {},
   "source": [
    "Let's build the final histogram"
   ]
  },
  {
   "cell_type": "code",
   "execution_count": 51,
   "id": "c19052fc",
   "metadata": {},
   "outputs": [
    {
     "name": "stdout",
     "output_type": "stream",
     "text": [
      "Активная мощность\n"
     ]
    },
    {
     "data": {
      "image/png": "[encoded data removed]",
      "text/plain": [
       "<Figure size 432x288 with 1 Axes>"
      ]
     },
     "metadata": {
      "needs_background": "light"
     },
     "output_type": "display_data"
    },
    {
     "name": "stdout",
     "output_type": "stream",
     "text": [
      "Реактивная мощность\n"
     ]
    },
    {
     "data": {
      "image/png": "[encoded data removed]",
      "text/plain": [
       "<Figure size 432x288 with 1 Axes>"
      ]
     },
     "metadata": {
      "needs_background": "light"
     },
     "output_type": "display_data"
    },
    {
     "name": "stdout",
     "output_type": "stream",
     "text": [
      "working_time\n"
     ]
    },
    {
     "data": {
      "image/png": "[encoded data removed]",
      "text/plain": [
       "<Figure size 432x288 with 1 Axes>"
      ]
     },
     "metadata": {
      "needs_background": "light"
     },
     "output_type": "display_data"
    },
    {
     "name": "stdout",
     "output_type": "stream",
     "text": [
      "total_bulk\n"
     ]
    },
    {
     "data": {
      "image/png": "[encoded data removed]",
      "text/plain": [
       "<Figure size 432x288 with 1 Axes>"
      ]
     },
     "metadata": {
      "needs_background": "light"
     },
     "output_type": "display_data"
    },
    {
     "name": "stdout",
     "output_type": "stream",
     "text": [
      "Газ 1\n"
     ]
    },
    {
     "data": {
      "image/png": "[encoded data removed]",
      "text/plain": [
       "<Figure size 432x288 with 1 Axes>"
      ]
     },
     "metadata": {
      "needs_background": "light"
     },
     "output_type": "display_data"
    },
    {
     "name": "stdout",
     "output_type": "stream",
     "text": [
      "первый_замер_температуры\n"
     ]
    },
    {
     "data": {
      "image/png": "[encoded data removed]",
      "text/plain": [
       "<Figure size 432x288 with 1 Axes>"
      ]
     },
     "metadata": {
      "needs_background": "light"
     },
     "output_type": "display_data"
    },
    {
     "name": "stdout",
     "output_type": "stream",
     "text": [
      "последний_замер_температуры\n"
     ]
    },
    {
     "data": {
      "image/png": "[encoded data removed]",
      "text/plain": [
       "<Figure size 432x288 with 1 Axes>"
      ]
     },
     "metadata": {
      "needs_background": "light"
     },
     "output_type": "display_data"
    },
    {
     "name": "stdout",
     "output_type": "stream",
     "text": [
      "total_wire\n"
     ]
    },
    {
     "data": {
      "image/png": "[encoded data removed]",
      "text/plain": [
       "<Figure size 432x288 with 1 Axes>"
      ]
     },
     "metadata": {
      "needs_background": "light"
     },
     "output_type": "display_data"
    }
   ],
   "source": [
    "for i in col:\n",
    "    print(i)\n",
    "    df[i].plot(kind='hist', bins=100)\n",
    "    plt.show()"
   ]
  },
  {
   "cell_type": "code",
   "execution_count": 52,
   "id": "c1eb638b",
   "metadata": {},
   "outputs": [
    {
     "name": "stdout",
     "output_type": "stream",
     "text": [
      "Активная мощность\n"
     ]
    },
    {
     "data": {
      "image/png": "[encoded data removed]",
      "text/plain": [
       "<Figure size 432x288 with 1 Axes>"
      ]
     },
     "metadata": {
      "needs_background": "light"
     },
     "output_type": "display_data"
    },
    {
     "name": "stdout",
     "output_type": "stream",
     "text": [
      "Реактивная мощность\n"
     ]
    },
    {
     "data": {
      "image/png": "[encoded data removed]",
      "text/plain": [
       "<Figure size 432x288 with 1 Axes>"
      ]
     },
     "metadata": {
      "needs_background": "light"
     },
     "output_type": "display_data"
    },
    {
     "name": "stdout",
     "output_type": "stream",
     "text": [
      "working_time\n"
     ]
    },
    {
     "data": {
      "image/png": "[encoded data removed]",
      "text/plain": [
       "<Figure size 432x288 with 1 Axes>"
      ]
     },
     "metadata": {
      "needs_background": "light"
     },
     "output_type": "display_data"
    },
    {
     "name": "stdout",
     "output_type": "stream",
     "text": [
      "total_bulk\n"
     ]
    },
    {
     "data": {
      "image/png": "[encoded data removed]",
      "text/plain": [
       "<Figure size 432x288 with 1 Axes>"
      ]
     },
     "metadata": {
      "needs_background": "light"
     },
     "output_type": "display_data"
    },
    {
     "name": "stdout",
     "output_type": "stream",
     "text": [
      "Газ 1\n"
     ]
    },
    {
     "data": {
      "image/png": "[encoded data removed]",
      "text/plain": [
       "<Figure size 432x288 with 1 Axes>"
      ]
     },
     "metadata": {
      "needs_background": "light"
     },
     "output_type": "display_data"
    },
    {
     "name": "stdout",
     "output_type": "stream",
     "text": [
      "первый_замер_температуры\n"
     ]
    },
    {
     "data": {
      "image/png": "[encoded data removed]",
      "text/plain": [
       "<Figure size 432x288 with 1 Axes>"
      ]
     },
     "metadata": {
      "needs_background": "light"
     },
     "output_type": "display_data"
    },
    {
     "name": "stdout",
     "output_type": "stream",
     "text": [
      "последний_замер_температуры\n"
     ]
    },
    {
     "data": {
      "image/png": "[encoded data removed]",
      "text/plain": [
       "<Figure size 432x288 with 1 Axes>"
      ]
     },
     "metadata": {
      "needs_background": "light"
     },
     "output_type": "display_data"
    },
    {
     "name": "stdout",
     "output_type": "stream",
     "text": [
      "total_wire\n"
     ]
    },
    {
     "data": {
      "image/png": "[encoded data removed]",
      "text/plain": [
       "<Figure size 432x288 with 1 Axes>"
      ]
     },
     "metadata": {
      "needs_background": "light"
     },
     "output_type": "display_data"
    }
   ],
   "source": [
    "for i in col:\n",
    "    print(i)\n",
    "    df.boxplot(column=i)\n",
    "    plt.show()"
   ]
  },
  {
   "cell_type": "code",
   "execution_count": 53,
   "id": "37e1b552",
   "metadata": {},
   "outputs": [
    {
     "data": {
      "text/plain": [
       "(1956, 8)"
      ]
     },
     "execution_count": 53,
     "metadata": {},
     "output_type": "execute_result"
    }
   ],
   "source": [
    "df.shape"
   ]
  },
  {
   "cell_type": "markdown",
   "id": "e808672c",
   "metadata": {},
   "source": [
    "### Conclusion\n",
    "\n",
    "In this part we transformed and examined our data.\n",
    "\n",
    "There were outliers in all tables. We did not remove outliers before grouping iterations (since the MAE value with this method will be lower - I checked), but removed outliers after we collected the data together in one table.\n",
    "\n",
    "We removed iterations where the final temperature did not change. Such data is not suitable for us for training.\n",
    "\n",
    "We collected all the data on the keys \"key\". We found a correlation for some indicators.\n",
    "\n",
    "Let's move on to training models"
   ]
  },
  {
   "cell_type": "markdown",
   "id": "e442310e",
   "metadata": {},
   "source": [
    "## Model training"
   ]
  },
  {
   "cell_type": "markdown",
   "id": "1969eaa2",
   "metadata": {},
   "source": [
    "Let's divide the data into training and test samples in a ratio of 3:1"
   ]
  },
  {
   "cell_type": "markdown",
   "id": "a936fa20",
   "metadata": {},
   "source": [
    "Let's prepare the data for linear regression"
   ]
  },
  {
   "cell_type": "code",
   "execution_count": 54,
   "id": "69a45b9d",
   "metadata": {},
   "outputs": [],
   "source": [
    "features_lr = df.drop(['последний_замер_температуры', 'Реактивная мощность', 'working_time'], axis=1)\n",
    "target_lr = df['последний_замер_температуры']\n",
    "\n",
    "features_train_lr, features_test_lr, target_train_lr, target_test_lr = train_test_split(\n",
    "        features_lr, target_lr, test_size=0.25, random_state=12345)"
   ]
  },
  {
   "cell_type": "markdown",
   "id": "ccfecb25",
   "metadata": {},
   "source": [
    "Let's prepare data for other regression models"
   ]
  },
  {
   "cell_type": "code",
   "execution_count": 55,
   "id": "924d75f9",
   "metadata": {},
   "outputs": [],
   "source": [
    "features = df.drop(['последний_замер_температуры'], axis=1)\n",
    "target = df['последний_замер_температуры']\n",
    "\n",
    "features_train, features_test, target_train, target_test = train_test_split(\n",
    "        features, target, test_size=0.25, random_state=12345)"
   ]
  },
  {
   "cell_type": "markdown",
   "id": "16ed747f",
   "metadata": {},
   "source": [
    "Because Since all our features have different scales, we can use data scaling using StandardScaler only for linear regression"
   ]
  },
  {
   "cell_type": "code",
   "execution_count": 56,
   "id": "387958e7",
   "metadata": {},
   "outputs": [
    {
     "name": "stderr",
     "output_type": "stream",
     "text": [
      "/tmp/ipykernel_1347/3199382145.py:4: SettingWithCopyWarning: \n",
      "A value is trying to be set on a copy of a slice from a DataFrame.\n",
      "Try using .loc[row_indexer,col_indexer] = value instead\n",
      "\n",
      "See the caveats in the documentation: https://pandas.pydata.org/pandas-docs/stable/user_guide/indexing.html#returning-a-view-versus-a-copy\n",
      "  features_train_lr[numeric] = scaler.transform(features_train_lr[numeric])\n",
      "/opt/conda/lib/python3.9/site-packages/pandas/core/indexing.py:1637: SettingWithCopyWarning: \n",
      "A value is trying to be set on a copy of a slice from a DataFrame\n",
      "\n",
      "See the caveats in the documentation: https://pandas.pydata.org/pandas-docs/stable/user_guide/indexing.html#returning-a-view-versus-a-copy\n",
      "  self._setitem_single_block(indexer, value, name)\n",
      "/opt/conda/lib/python3.9/site-packages/pandas/core/indexing.py:692: SettingWithCopyWarning: \n",
      "A value is trying to be set on a copy of a slice from a DataFrame\n",
      "\n",
      "See the caveats in the documentation: https://pandas.pydata.org/pandas-docs/stable/user_guide/indexing.html#returning-a-view-versus-a-copy\n",
      "  iloc._setitem_with_indexer(indexer, value, self.name)\n",
      "/tmp/ipykernel_1347/3199382145.py:5: SettingWithCopyWarning: \n",
      "A value is trying to be set on a copy of a slice from a DataFrame.\n",
      "Try using .loc[row_indexer,col_indexer] = value instead\n",
      "\n",
      "See the caveats in the documentation: https://pandas.pydata.org/pandas-docs/stable/user_guide/indexing.html#returning-a-view-versus-a-copy\n",
      "  features_test_lr[numeric] = scaler.transform(features_test_lr[numeric])\n",
      "/opt/conda/lib/python3.9/site-packages/pandas/core/indexing.py:1637: SettingWithCopyWarning: \n",
      "A value is trying to be set on a copy of a slice from a DataFrame\n",
      "\n",
      "See the caveats in the documentation: https://pandas.pydata.org/pandas-docs/stable/user_guide/indexing.html#returning-a-view-versus-a-copy\n",
      "  self._setitem_single_block(indexer, value, name)\n",
      "/opt/conda/lib/python3.9/site-packages/pandas/core/indexing.py:692: SettingWithCopyWarning: \n",
      "A value is trying to be set on a copy of a slice from a DataFrame\n",
      "\n",
      "See the caveats in the documentation: https://pandas.pydata.org/pandas-docs/stable/user_guide/indexing.html#returning-a-view-versus-a-copy\n",
      "  iloc._setitem_with_indexer(indexer, value, self.name)\n"
     ]
    }
   ],
   "source": [
    "numeric = features_lr.columns\n",
    "scaler = StandardScaler()\n",
    "scaler.fit(features_train_lr[numeric])\n",
    "features_train_lr[numeric] = scaler.transform(features_train_lr[numeric])\n",
    "features_test_lr[numeric] = scaler.transform(features_test_lr[numeric])"
   ]
  },
  {
   "cell_type": "markdown",
   "id": "d621666e",
   "metadata": {},
   "source": [
    "<b>Linear regression</b>"
   ]
  },
  {
   "cell_type": "code",
   "execution_count": 57,
   "id": "43d8efef",
   "metadata": {},
   "outputs": [
    {
     "name": "stdout",
     "output_type": "stream",
     "text": [
      "МАЕ на линейной регрессии: 5.4103931317594185\n"
     ]
    }
   ],
   "source": [
    "model_lr = LinearRegression()\n",
    "scores = cross_val_score(model_lr, features_train_lr, target_train_lr, cv=10, scoring='neg_mean_absolute_error')\n",
    "result = scores.mean() * -1\n",
    "\n",
    "print('МАЕ на линейной регрессии:', result)"
   ]
  },
  {
   "cell_type": "markdown",
   "id": "eac0c565",
   "metadata": {},
   "source": [
    "<b>Decision tree</b>"
   ]
  },
  {
   "cell_type": "code",
   "execution_count": 58,
   "id": "b85cbdf2",
   "metadata": {},
   "outputs": [
    {
     "name": "stdout",
     "output_type": "stream",
     "text": [
      "MAE наилучшей модели на тестовой выборке: 5.852291011355065 Глубина дерева: 4\n"
     ]
    }
   ],
   "source": [
    "best_model = None\n",
    "best_result = 10\n",
    "best_depth = 0\n",
    "for depth in range(1, 11):\n",
    "    model_dr = DecisionTreeRegressor(random_state=12345, max_depth=depth)\n",
    "    scores = cross_val_score(model_dr, features_train, target_train, cv=5, scoring='neg_mean_absolute_error')\n",
    "    result = scores.mean() * -1\n",
    "    if result < best_result:\n",
    "        best_model = model_dr\n",
    "        best_result = result\n",
    "        best_depth = depth\n",
    "        \n",
    "print(\"MAE наилучшей модели на тестовой выборке:\", best_result, \"Глубина дерева:\", best_depth)"
   ]
  },
  {
   "cell_type": "markdown",
   "id": "1788ae54",
   "metadata": {},
   "source": [
    "<b>Random Forest</b>"
   ]
  },
  {
   "cell_type": "code",
   "execution_count": 59,
   "id": "fbd0c754",
   "metadata": {
    "scrolled": true
   },
   "outputs": [
    {
     "name": "stdout",
     "output_type": "stream",
     "text": [
      "MAE наилучшей модели на тестовой выборке: 5.3129487622923826 Количество деревьев: 95 Максимальная глубина: 30\n"
     ]
    }
   ],
   "source": [
    "best_model = None\n",
    "best_result = 10\n",
    "best_est = 0\n",
    "best_depth = 0\n",
    "for est in range(50, 101, 5):\n",
    "    for depth in range (10, 31):\n",
    "        model_rf = RandomForestRegressor(random_state=12345, n_estimators=est, max_depth=depth)\n",
    "        scores = cross_val_score(model_rf, features_train, target_train, cv=5, scoring='neg_mean_absolute_error')\n",
    "        result = scores.mean() * -1\n",
    "        if result < best_result:\n",
    "            best_model = model_rf\n",
    "            best_result = result\n",
    "            best_est = est\n",
    "            best_depth = depth\n",
    "            \n",
    "print(\"MAE наилучшей модели на тестовой выборке:\", best_result, \"Количество деревьев:\", best_est, \"Максимальная глубина:\", depth)"
   ]
  },
  {
   "cell_type": "markdown",
   "id": "ed023896",
   "metadata": {},
   "source": [
    "<b>Testing the best model</b>"
   ]
  },
  {
   "cell_type": "code",
   "execution_count": 60,
   "id": "3bdf93c6",
   "metadata": {},
   "outputs": [
    {
     "name": "stdout",
     "output_type": "stream",
     "text": [
      "МАЕ на Случайный лес: 5.5347110106554664\n"
     ]
    }
   ],
   "source": [
    "model_rf = RandomForestRegressor(random_state=12345, n_estimators=95, max_depth=30)\n",
    "model_rf.fit(features_train, target_train)\n",
    "prediction = model_rf.predict(features_test)\n",
    "result = mean_absolute_error(target_test, prediction)\n",
    "print('МАЕ на Случайный лес:', result)"
   ]
  },
  {
   "cell_type": "markdown",
   "id": "686ade2d",
   "metadata": {},
   "source": [
    "## Final conclusion\n",
    "\n",
    "Based on the steel processing data we had, we were able to create a model that would predict the temperature of the steel, which would then lead to optimization of production energy costs.\n",
    "\n",
    "Having tested 3 models, we can say that the best model for this task is Random Forest\n",
    "\n",
    "Using the Random Forest model, we were able to achieve good MAE results - 5.53, with the number of trees - 95 and depth - 30\n",
    "\n",
    "We did not need files with time (data_bulk_time, data_wire_time). For this model you can do without them.\n",
    "\n",
    "We did not remove outliers before grouping each iteration, but did it after grouping, because It is this method that leads to the best performance of the model.\n",
    "\n",
    "About 25% of all data were outliers and incorrect data. For example, in many iterations the temperature after the first measurement and the last one does not change, or only the first temperature measurement is present, which is not suitable for building a model. Therefore, it was decided to remove such data."
   ]
  },
  {
   "cell_type": "code",
   "execution_count": null,
   "id": "989d771f",
   "metadata": {},
   "outputs": [],
   "source": []
  }
 ],
 "metadata": {
  "ExecuteTimeLog": [
   {
    "duration": 1747,
    "start_time": "2022-07-16T08:36:48.833Z"
   },
   {
    "duration": 164,
    "start_time": "2022-07-16T08:36:50.582Z"
   },
   {
    "duration": 0,
    "start_time": "2022-07-16T08:36:50.749Z"
   },
   {
    "duration": 0,
    "start_time": "2022-07-16T08:36:50.750Z"
   },
   {
    "duration": 0,
    "start_time": "2022-07-16T08:36:50.752Z"
   },
   {
    "duration": 0,
    "start_time": "2022-07-16T08:36:50.753Z"
   },
   {
    "duration": 0,
    "start_time": "2022-07-16T08:36:50.754Z"
   },
   {
    "duration": 0,
    "start_time": "2022-07-16T08:36:50.755Z"
   },
   {
    "duration": 0,
    "start_time": "2022-07-16T08:36:50.764Z"
   },
   {
    "duration": 0,
    "start_time": "2022-07-16T08:36:50.765Z"
   },
   {
    "duration": 0,
    "start_time": "2022-07-16T08:36:50.767Z"
   },
   {
    "duration": 0,
    "start_time": "2022-07-16T08:36:50.768Z"
   },
   {
    "duration": 0,
    "start_time": "2022-07-16T08:36:50.769Z"
   },
   {
    "duration": 0,
    "start_time": "2022-07-16T08:36:50.771Z"
   },
   {
    "duration": 0,
    "start_time": "2022-07-16T08:36:50.772Z"
   },
   {
    "duration": 0,
    "start_time": "2022-07-16T08:36:50.773Z"
   },
   {
    "duration": 0,
    "start_time": "2022-07-16T08:36:50.774Z"
   },
   {
    "duration": 0,
    "start_time": "2022-07-16T08:36:50.776Z"
   },
   {
    "duration": 0,
    "start_time": "2022-07-16T08:36:50.778Z"
   },
   {
    "duration": 0,
    "start_time": "2022-07-16T08:36:50.779Z"
   },
   {
    "duration": 0,
    "start_time": "2022-07-16T08:36:50.780Z"
   },
   {
    "duration": 0,
    "start_time": "2022-07-16T08:36:50.782Z"
   },
   {
    "duration": 0,
    "start_time": "2022-07-16T08:36:50.783Z"
   },
   {
    "duration": 0,
    "start_time": "2022-07-16T08:36:50.784Z"
   },
   {
    "duration": 0,
    "start_time": "2022-07-16T08:36:50.785Z"
   },
   {
    "duration": 0,
    "start_time": "2022-07-16T08:36:50.786Z"
   },
   {
    "duration": 0,
    "start_time": "2022-07-16T08:36:50.787Z"
   },
   {
    "duration": 0,
    "start_time": "2022-07-16T08:36:50.788Z"
   },
   {
    "duration": 0,
    "start_time": "2022-07-16T08:36:50.789Z"
   },
   {
    "duration": 1376,
    "start_time": "2022-07-16T08:37:46.292Z"
   },
   {
    "duration": 452,
    "start_time": "2022-07-16T08:37:47.670Z"
   },
   {
    "duration": 3,
    "start_time": "2022-07-16T08:37:48.123Z"
   },
   {
    "duration": 62,
    "start_time": "2022-07-16T08:37:48.128Z"
   },
   {
    "duration": 78,
    "start_time": "2022-07-16T08:37:48.192Z"
   },
   {
    "duration": 35,
    "start_time": "2022-07-16T08:37:48.271Z"
   },
   {
    "duration": 8,
    "start_time": "2022-07-16T08:37:48.307Z"
   },
   {
    "duration": 53,
    "start_time": "2022-07-16T08:37:48.317Z"
   },
   {
    "duration": 11,
    "start_time": "2022-07-16T08:37:48.371Z"
   },
   {
    "duration": 249,
    "start_time": "2022-07-16T08:37:48.384Z"
   },
   {
    "duration": 7,
    "start_time": "2022-07-16T08:37:48.635Z"
   },
   {
    "duration": 23,
    "start_time": "2022-07-16T08:37:48.644Z"
   },
   {
    "duration": 232,
    "start_time": "2022-07-16T08:37:48.669Z"
   },
   {
    "duration": 314,
    "start_time": "2022-07-16T08:37:48.903Z"
   },
   {
    "duration": 9,
    "start_time": "2022-07-16T08:37:49.219Z"
   },
   {
    "duration": 16,
    "start_time": "2022-07-16T08:37:49.230Z"
   },
   {
    "duration": 23,
    "start_time": "2022-07-16T08:37:49.248Z"
   },
   {
    "duration": 5,
    "start_time": "2022-07-16T08:37:49.273Z"
   },
   {
    "duration": 5,
    "start_time": "2022-07-16T08:37:49.279Z"
   },
   {
    "duration": 26,
    "start_time": "2022-07-16T08:37:49.285Z"
   },
   {
    "duration": 5,
    "start_time": "2022-07-16T08:37:49.313Z"
   },
   {
    "duration": 266,
    "start_time": "2022-07-16T08:37:49.320Z"
   },
   {
    "duration": 3,
    "start_time": "2022-07-16T08:37:49.588Z"
   },
   {
    "duration": 10,
    "start_time": "2022-07-16T08:37:49.593Z"
   },
   {
    "duration": 10,
    "start_time": "2022-07-16T08:37:49.604Z"
   },
   {
    "duration": 275,
    "start_time": "2022-07-16T08:37:49.616Z"
   },
   {
    "duration": 7,
    "start_time": "2022-07-16T08:37:49.892Z"
   },
   {
    "duration": 15,
    "start_time": "2022-07-16T08:37:49.902Z"
   },
   {
    "duration": 10,
    "start_time": "2022-07-16T08:37:49.919Z"
   },
   {
    "duration": 11,
    "start_time": "2022-07-16T08:37:58.824Z"
   },
   {
    "duration": 11,
    "start_time": "2022-07-16T08:38:16.296Z"
   },
   {
    "duration": 1508,
    "start_time": "2022-07-16T08:40:22.132Z"
   },
   {
    "duration": 1463,
    "start_time": "2022-07-16T08:41:13.304Z"
   },
   {
    "duration": 1201,
    "start_time": "2022-07-16T08:41:32.845Z"
   },
   {
    "duration": 1341,
    "start_time": "2022-07-16T08:41:45.709Z"
   },
   {
    "duration": 1395,
    "start_time": "2022-07-16T08:41:59.517Z"
   },
   {
    "duration": 1574,
    "start_time": "2022-07-16T08:42:12.452Z"
   },
   {
    "duration": 1487,
    "start_time": "2022-07-16T08:42:32.833Z"
   },
   {
    "duration": 11,
    "start_time": "2022-07-16T08:43:08.349Z"
   },
   {
    "duration": 4,
    "start_time": "2022-07-16T08:44:35.477Z"
   },
   {
    "duration": 5,
    "start_time": "2022-07-16T08:44:48.517Z"
   },
   {
    "duration": 6,
    "start_time": "2022-07-16T08:44:52.739Z"
   },
   {
    "duration": 6,
    "start_time": "2022-07-16T08:45:04.697Z"
   },
   {
    "duration": 1456,
    "start_time": "2022-07-16T09:05:22.856Z"
   },
   {
    "duration": 148,
    "start_time": "2022-07-16T09:05:24.314Z"
   },
   {
    "duration": 1624,
    "start_time": "2022-07-16T09:41:52.028Z"
   },
   {
    "duration": 148,
    "start_time": "2022-07-16T09:41:55.173Z"
   },
   {
    "duration": 100,
    "start_time": "2022-07-16T09:50:40.094Z"
   },
   {
    "duration": 744,
    "start_time": "2022-07-16T09:50:57.204Z"
   },
   {
    "duration": 3,
    "start_time": "2022-07-16T09:51:06.246Z"
   },
   {
    "duration": 84,
    "start_time": "2022-07-16T09:51:07.659Z"
   },
   {
    "duration": 756,
    "start_time": "2022-07-16T09:54:17.275Z"
   },
   {
    "duration": 5,
    "start_time": "2022-07-16T09:54:20.160Z"
   },
   {
    "duration": 93,
    "start_time": "2022-07-16T09:54:22.722Z"
   },
   {
    "duration": 69,
    "start_time": "2022-07-16T09:54:27.196Z"
   },
   {
    "duration": 58,
    "start_time": "2022-07-16T09:54:29.682Z"
   },
   {
    "duration": 10,
    "start_time": "2022-07-16T09:55:15.926Z"
   },
   {
    "duration": 21,
    "start_time": "2022-07-16T09:55:18.271Z"
   },
   {
    "duration": 15,
    "start_time": "2022-07-16T09:55:21.183Z"
   },
   {
    "duration": 370,
    "start_time": "2022-07-16T09:55:23.942Z"
   },
   {
    "duration": 3,
    "start_time": "2022-07-16T09:56:03.047Z"
   },
   {
    "duration": 241,
    "start_time": "2022-07-16T09:56:03.053Z"
   },
   {
    "duration": 5,
    "start_time": "2022-07-16T09:56:03.296Z"
   },
   {
    "duration": 111,
    "start_time": "2022-07-16T09:56:03.304Z"
   },
   {
    "duration": 58,
    "start_time": "2022-07-16T09:56:03.417Z"
   },
   {
    "duration": 74,
    "start_time": "2022-07-16T09:56:03.477Z"
   },
   {
    "duration": 9,
    "start_time": "2022-07-16T09:56:03.553Z"
   },
   {
    "duration": 56,
    "start_time": "2022-07-16T09:56:03.564Z"
   },
   {
    "duration": 12,
    "start_time": "2022-07-16T09:56:03.623Z"
   },
   {
    "duration": 290,
    "start_time": "2022-07-16T09:56:03.637Z"
   },
   {
    "duration": 10,
    "start_time": "2022-07-16T09:56:03.929Z"
   },
   {
    "duration": 12,
    "start_time": "2022-07-16T09:56:03.942Z"
   },
   {
    "duration": 310,
    "start_time": "2022-07-16T09:56:03.957Z"
   },
   {
    "duration": 274,
    "start_time": "2022-07-16T09:56:04.269Z"
   },
   {
    "duration": 12,
    "start_time": "2022-07-16T09:56:04.545Z"
   },
   {
    "duration": 22,
    "start_time": "2022-07-16T09:56:04.558Z"
   },
   {
    "duration": 32,
    "start_time": "2022-07-16T09:56:04.582Z"
   },
   {
    "duration": 4,
    "start_time": "2022-07-16T09:56:04.615Z"
   },
   {
    "duration": 7,
    "start_time": "2022-07-16T09:56:04.620Z"
   },
   {
    "duration": 30,
    "start_time": "2022-07-16T09:56:04.629Z"
   },
   {
    "duration": 7,
    "start_time": "2022-07-16T09:56:04.660Z"
   },
   {
    "duration": 351,
    "start_time": "2022-07-16T09:56:04.669Z"
   },
   {
    "duration": 3,
    "start_time": "2022-07-16T09:56:05.022Z"
   },
   {
    "duration": 8,
    "start_time": "2022-07-16T09:56:05.030Z"
   },
   {
    "duration": 5,
    "start_time": "2022-07-16T09:56:05.040Z"
   },
   {
    "duration": 363,
    "start_time": "2022-07-16T09:56:05.047Z"
   },
   {
    "duration": 10,
    "start_time": "2022-07-16T09:56:05.412Z"
   },
   {
    "duration": 21,
    "start_time": "2022-07-16T09:56:05.424Z"
   },
   {
    "duration": 12,
    "start_time": "2022-07-16T09:56:05.447Z"
   },
   {
    "duration": 8,
    "start_time": "2022-07-16T09:56:05.461Z"
   },
   {
    "duration": 34,
    "start_time": "2022-07-16T09:56:05.471Z"
   },
   {
    "duration": 6,
    "start_time": "2022-07-16T09:56:05.507Z"
   },
   {
    "duration": 20,
    "start_time": "2022-07-16T09:56:05.515Z"
   },
   {
    "duration": 8,
    "start_time": "2022-07-16T09:56:05.537Z"
   },
   {
    "duration": 5,
    "start_time": "2022-07-16T09:56:05.547Z"
   },
   {
    "duration": 24,
    "start_time": "2022-07-16T09:56:05.554Z"
   },
   {
    "duration": 25,
    "start_time": "2022-07-16T09:56:05.580Z"
   },
   {
    "duration": 287,
    "start_time": "2022-07-16T09:56:05.606Z"
   },
   {
    "duration": 9,
    "start_time": "2022-07-16T09:56:05.896Z"
   },
   {
    "duration": 13,
    "start_time": "2022-07-16T09:56:05.907Z"
   },
   {
    "duration": 42,
    "start_time": "2022-07-16T09:56:05.922Z"
   },
   {
    "duration": 924,
    "start_time": "2022-07-16T09:56:05.966Z"
   },
   {
    "duration": 18,
    "start_time": "2022-07-16T09:56:06.892Z"
   },
   {
    "duration": 2330,
    "start_time": "2022-07-16T09:56:06.912Z"
   },
   {
    "duration": 920,
    "start_time": "2022-07-16T09:56:09.244Z"
   },
   {
    "duration": 25,
    "start_time": "2022-07-16T09:56:10.165Z"
   },
   {
    "duration": 18,
    "start_time": "2022-07-16T09:56:10.193Z"
   },
   {
    "duration": 21,
    "start_time": "2022-07-16T09:56:10.214Z"
   },
   {
    "duration": 12,
    "start_time": "2022-07-16T09:56:10.238Z"
   },
   {
    "duration": 2536,
    "start_time": "2022-07-16T09:56:10.252Z"
   },
   {
    "duration": 870,
    "start_time": "2022-07-16T09:56:12.791Z"
   },
   {
    "duration": 6,
    "start_time": "2022-07-16T09:56:13.663Z"
   },
   {
    "duration": 11,
    "start_time": "2022-07-16T09:56:13.671Z"
   },
   {
    "duration": 33,
    "start_time": "2022-07-16T09:56:13.684Z"
   },
   {
    "duration": 19,
    "start_time": "2022-07-16T09:56:13.719Z"
   },
   {
    "duration": 0,
    "start_time": "2022-07-16T09:56:13.740Z"
   },
   {
    "duration": 0,
    "start_time": "2022-07-16T09:56:13.742Z"
   },
   {
    "duration": 0,
    "start_time": "2022-07-16T09:56:13.743Z"
   },
   {
    "duration": 5,
    "start_time": "2022-07-16T09:56:22.006Z"
   },
   {
    "duration": 275,
    "start_time": "2022-07-16T09:56:22.014Z"
   },
   {
    "duration": 5,
    "start_time": "2022-07-16T09:56:22.290Z"
   },
   {
    "duration": 72,
    "start_time": "2022-07-16T09:56:22.296Z"
   },
   {
    "duration": 59,
    "start_time": "2022-07-16T09:56:22.405Z"
   },
   {
    "duration": 64,
    "start_time": "2022-07-16T09:56:22.466Z"
   },
   {
    "duration": 9,
    "start_time": "2022-07-16T09:56:22.532Z"
   },
   {
    "duration": 18,
    "start_time": "2022-07-16T09:56:22.543Z"
   },
   {
    "duration": 13,
    "start_time": "2022-07-16T09:56:22.604Z"
   },
   {
    "duration": 291,
    "start_time": "2022-07-16T09:56:22.618Z"
   },
   {
    "duration": 8,
    "start_time": "2022-07-16T09:56:22.911Z"
   },
   {
    "duration": 11,
    "start_time": "2022-07-16T09:56:22.920Z"
   },
   {
    "duration": 323,
    "start_time": "2022-07-16T09:56:22.933Z"
   },
   {
    "duration": 321,
    "start_time": "2022-07-16T09:56:23.259Z"
   },
   {
    "duration": 12,
    "start_time": "2022-07-16T09:56:23.582Z"
   },
   {
    "duration": 15,
    "start_time": "2022-07-16T09:56:23.603Z"
   },
   {
    "duration": 19,
    "start_time": "2022-07-16T09:56:23.619Z"
   },
   {
    "duration": 4,
    "start_time": "2022-07-16T09:56:23.640Z"
   },
   {
    "duration": 11,
    "start_time": "2022-07-16T09:56:23.645Z"
   },
   {
    "duration": 58,
    "start_time": "2022-07-16T09:56:23.658Z"
   },
   {
    "duration": 6,
    "start_time": "2022-07-16T09:56:23.718Z"
   },
   {
    "duration": 294,
    "start_time": "2022-07-16T09:56:23.726Z"
   },
   {
    "duration": 4,
    "start_time": "2022-07-16T09:56:24.022Z"
   },
   {
    "duration": 12,
    "start_time": "2022-07-16T09:56:24.028Z"
   },
   {
    "duration": 11,
    "start_time": "2022-07-16T09:56:24.042Z"
   },
   {
    "duration": 572,
    "start_time": "2022-07-16T09:56:24.055Z"
   },
   {
    "duration": 11,
    "start_time": "2022-07-16T09:56:24.629Z"
   },
   {
    "duration": 25,
    "start_time": "2022-07-16T09:56:24.642Z"
   },
   {
    "duration": 17,
    "start_time": "2022-07-16T09:56:24.669Z"
   },
   {
    "duration": 5,
    "start_time": "2022-07-16T10:02:04.803Z"
   },
   {
    "duration": 262,
    "start_time": "2022-07-16T10:02:04.825Z"
   },
   {
    "duration": 5,
    "start_time": "2022-07-16T10:02:05.089Z"
   },
   {
    "duration": 118,
    "start_time": "2022-07-16T10:02:05.096Z"
   },
   {
    "duration": 65,
    "start_time": "2022-07-16T10:02:05.215Z"
   },
   {
    "duration": 72,
    "start_time": "2022-07-16T10:02:05.283Z"
   },
   {
    "duration": 13,
    "start_time": "2022-07-16T10:02:05.357Z"
   },
   {
    "duration": 53,
    "start_time": "2022-07-16T10:02:05.372Z"
   },
   {
    "duration": 29,
    "start_time": "2022-07-16T10:02:05.427Z"
   },
   {
    "duration": 271,
    "start_time": "2022-07-16T10:02:05.458Z"
   },
   {
    "duration": 7,
    "start_time": "2022-07-16T10:02:05.731Z"
   },
   {
    "duration": 9,
    "start_time": "2022-07-16T10:02:05.740Z"
   },
   {
    "duration": 378,
    "start_time": "2022-07-16T10:02:05.751Z"
   },
   {
    "duration": 275,
    "start_time": "2022-07-16T10:02:06.133Z"
   },
   {
    "duration": 16,
    "start_time": "2022-07-16T10:02:06.411Z"
   },
   {
    "duration": 14,
    "start_time": "2022-07-16T10:02:06.429Z"
   },
   {
    "duration": 23,
    "start_time": "2022-07-16T10:02:06.445Z"
   },
   {
    "duration": 5,
    "start_time": "2022-07-16T10:02:06.470Z"
   },
   {
    "duration": 64,
    "start_time": "2022-07-16T10:02:06.477Z"
   },
   {
    "duration": 94,
    "start_time": "2022-07-16T10:02:06.543Z"
   },
   {
    "duration": 11,
    "start_time": "2022-07-16T10:02:06.640Z"
   },
   {
    "duration": 487,
    "start_time": "2022-07-16T10:02:06.653Z"
   },
   {
    "duration": 4,
    "start_time": "2022-07-16T10:02:07.142Z"
   },
   {
    "duration": 12,
    "start_time": "2022-07-16T10:02:07.147Z"
   },
   {
    "duration": 6,
    "start_time": "2022-07-16T10:02:07.161Z"
   },
   {
    "duration": 356,
    "start_time": "2022-07-16T10:02:07.169Z"
   },
   {
    "duration": 9,
    "start_time": "2022-07-16T10:02:07.527Z"
   },
   {
    "duration": 22,
    "start_time": "2022-07-16T10:02:07.539Z"
   },
   {
    "duration": 21,
    "start_time": "2022-07-16T10:02:07.563Z"
   },
   {
    "duration": 22,
    "start_time": "2022-07-16T10:02:07.586Z"
   },
   {
    "duration": 17,
    "start_time": "2022-07-16T10:02:07.610Z"
   },
   {
    "duration": 12,
    "start_time": "2022-07-16T10:02:07.630Z"
   },
   {
    "duration": 18,
    "start_time": "2022-07-16T10:02:07.644Z"
   },
   {
    "duration": 12,
    "start_time": "2022-07-16T10:02:07.664Z"
   },
   {
    "duration": 11,
    "start_time": "2022-07-16T10:02:07.678Z"
   },
   {
    "duration": 34,
    "start_time": "2022-07-16T10:02:07.691Z"
   },
   {
    "duration": 13,
    "start_time": "2022-07-16T10:02:07.728Z"
   },
   {
    "duration": 277,
    "start_time": "2022-07-16T10:02:07.743Z"
   },
   {
    "duration": 5,
    "start_time": "2022-07-16T10:02:08.022Z"
   },
   {
    "duration": 74,
    "start_time": "2022-07-16T10:02:08.029Z"
   },
   {
    "duration": 57,
    "start_time": "2022-07-16T10:02:08.107Z"
   },
   {
    "duration": 1056,
    "start_time": "2022-07-16T10:02:08.168Z"
   },
   {
    "duration": 14,
    "start_time": "2022-07-16T10:02:09.226Z"
   },
   {
    "duration": 2328,
    "start_time": "2022-07-16T10:02:09.242Z"
   },
   {
    "duration": 1185,
    "start_time": "2022-07-16T10:02:11.572Z"
   },
   {
    "duration": 18,
    "start_time": "2022-07-16T10:02:12.758Z"
   },
   {
    "duration": 28,
    "start_time": "2022-07-16T10:02:12.777Z"
   },
   {
    "duration": 7,
    "start_time": "2022-07-16T10:02:12.809Z"
   },
   {
    "duration": 20,
    "start_time": "2022-07-16T10:02:12.818Z"
   },
   {
    "duration": 2226,
    "start_time": "2022-07-16T10:02:12.841Z"
   },
   {
    "duration": 1306,
    "start_time": "2022-07-16T10:02:15.068Z"
   },
   {
    "duration": 6,
    "start_time": "2022-07-16T10:02:16.377Z"
   },
   {
    "duration": 27,
    "start_time": "2022-07-16T10:02:16.385Z"
   },
   {
    "duration": 28,
    "start_time": "2022-07-16T10:02:16.416Z"
   },
   {
    "duration": 16,
    "start_time": "2022-07-16T10:02:16.446Z"
   },
   {
    "duration": 0,
    "start_time": "2022-07-16T10:02:16.464Z"
   },
   {
    "duration": 0,
    "start_time": "2022-07-16T10:02:16.465Z"
   },
   {
    "duration": 0,
    "start_time": "2022-07-16T10:02:16.467Z"
   },
   {
    "duration": 10,
    "start_time": "2022-07-16T10:02:54.947Z"
   },
   {
    "duration": 86,
    "start_time": "2022-07-16T10:02:59.916Z"
   },
   {
    "duration": 64802,
    "start_time": "2022-07-16T10:03:00.012Z"
   },
   {
    "duration": 18044,
    "start_time": "2022-07-16T10:04:04.816Z"
   },
   {
    "duration": 31,
    "start_time": "2022-07-16T10:06:49.942Z"
   },
   {
    "duration": 16,
    "start_time": "2022-07-16T10:07:06.331Z"
   },
   {
    "duration": 63,
    "start_time": "2022-07-16T10:07:10.375Z"
   },
   {
    "duration": 590,
    "start_time": "2022-07-16T10:07:14.624Z"
   },
   {
    "duration": 75,
    "start_time": "2022-07-16T10:07:19.745Z"
   },
   {
    "duration": 870,
    "start_time": "2022-07-16T10:08:53.651Z"
   },
   {
    "duration": 13948,
    "start_time": "2022-07-16T10:09:56.126Z"
   },
   {
    "duration": 14079,
    "start_time": "2022-07-16T10:10:22.403Z"
   },
   {
    "duration": 11,
    "start_time": "2022-07-16T10:14:38.745Z"
   },
   {
    "duration": 65,
    "start_time": "2022-07-16T10:15:27.861Z"
   },
   {
    "duration": 4,
    "start_time": "2022-07-16T10:15:48.176Z"
   },
   {
    "duration": 262,
    "start_time": "2022-07-16T10:15:48.187Z"
   },
   {
    "duration": 3,
    "start_time": "2022-07-16T10:15:48.452Z"
   },
   {
    "duration": 86,
    "start_time": "2022-07-16T10:15:48.457Z"
   },
   {
    "duration": 77,
    "start_time": "2022-07-16T10:15:48.545Z"
   },
   {
    "duration": 35,
    "start_time": "2022-07-16T10:15:48.627Z"
   },
   {
    "duration": 9,
    "start_time": "2022-07-16T10:15:48.664Z"
   },
   {
    "duration": 53,
    "start_time": "2022-07-16T10:15:48.674Z"
   },
   {
    "duration": 14,
    "start_time": "2022-07-16T10:15:48.733Z"
   },
   {
    "duration": 270,
    "start_time": "2022-07-16T10:15:48.749Z"
   },
   {
    "duration": 13,
    "start_time": "2022-07-16T10:15:49.021Z"
   },
   {
    "duration": 7,
    "start_time": "2022-07-16T10:15:49.036Z"
   },
   {
    "duration": 302,
    "start_time": "2022-07-16T10:15:49.045Z"
   },
   {
    "duration": 276,
    "start_time": "2022-07-16T10:15:49.348Z"
   },
   {
    "duration": 13,
    "start_time": "2022-07-16T10:15:49.625Z"
   },
   {
    "duration": 16,
    "start_time": "2022-07-16T10:15:49.640Z"
   },
   {
    "duration": 17,
    "start_time": "2022-07-16T10:15:49.657Z"
   },
   {
    "duration": 3,
    "start_time": "2022-07-16T10:15:49.676Z"
   },
   {
    "duration": 26,
    "start_time": "2022-07-16T10:15:49.681Z"
   },
   {
    "duration": 39,
    "start_time": "2022-07-16T10:15:49.717Z"
   },
   {
    "duration": 7,
    "start_time": "2022-07-16T10:15:49.757Z"
   },
   {
    "duration": 293,
    "start_time": "2022-07-16T10:15:49.766Z"
   },
   {
    "duration": 3,
    "start_time": "2022-07-16T10:15:50.061Z"
   },
   {
    "duration": 11,
    "start_time": "2022-07-16T10:15:50.066Z"
   },
   {
    "duration": 6,
    "start_time": "2022-07-16T10:15:50.079Z"
   },
   {
    "duration": 357,
    "start_time": "2022-07-16T10:15:50.087Z"
   },
   {
    "duration": 7,
    "start_time": "2022-07-16T10:15:50.446Z"
   },
   {
    "duration": 16,
    "start_time": "2022-07-16T10:15:50.455Z"
   },
   {
    "duration": 11,
    "start_time": "2022-07-16T10:15:50.475Z"
   },
   {
    "duration": 21,
    "start_time": "2022-07-16T10:15:50.508Z"
   },
   {
    "duration": 6,
    "start_time": "2022-07-16T10:15:50.531Z"
   },
   {
    "duration": 9,
    "start_time": "2022-07-16T10:15:50.539Z"
   },
   {
    "duration": 11,
    "start_time": "2022-07-16T10:15:50.550Z"
   },
   {
    "duration": 7,
    "start_time": "2022-07-16T10:15:50.563Z"
   },
   {
    "duration": 6,
    "start_time": "2022-07-16T10:15:50.571Z"
   },
   {
    "duration": 19,
    "start_time": "2022-07-16T10:15:50.578Z"
   },
   {
    "duration": 14,
    "start_time": "2022-07-16T10:15:50.598Z"
   },
   {
    "duration": 282,
    "start_time": "2022-07-16T10:15:50.613Z"
   },
   {
    "duration": 14,
    "start_time": "2022-07-16T10:15:50.897Z"
   },
   {
    "duration": 29,
    "start_time": "2022-07-16T10:15:50.912Z"
   },
   {
    "duration": 30,
    "start_time": "2022-07-16T10:15:50.943Z"
   },
   {
    "duration": 796,
    "start_time": "2022-07-16T10:15:50.974Z"
   },
   {
    "duration": 13,
    "start_time": "2022-07-16T10:15:51.772Z"
   },
   {
    "duration": 2427,
    "start_time": "2022-07-16T10:15:51.787Z"
   },
   {
    "duration": 942,
    "start_time": "2022-07-16T10:15:54.219Z"
   },
   {
    "duration": 17,
    "start_time": "2022-07-16T10:15:55.162Z"
   },
   {
    "duration": 6,
    "start_time": "2022-07-16T10:15:55.181Z"
   },
   {
    "duration": 10,
    "start_time": "2022-07-16T10:15:55.209Z"
   },
   {
    "duration": 22,
    "start_time": "2022-07-16T10:15:55.221Z"
   },
   {
    "duration": 2533,
    "start_time": "2022-07-16T10:15:55.245Z"
   },
   {
    "duration": 904,
    "start_time": "2022-07-16T10:15:57.779Z"
   },
   {
    "duration": 5,
    "start_time": "2022-07-16T10:15:58.685Z"
   },
   {
    "duration": 30,
    "start_time": "2022-07-16T10:15:58.691Z"
   },
   {
    "duration": 26,
    "start_time": "2022-07-16T10:15:58.723Z"
   },
   {
    "duration": 84,
    "start_time": "2022-07-16T10:15:58.751Z"
   },
   {
    "duration": 6,
    "start_time": "2022-07-16T10:16:32.295Z"
   },
   {
    "duration": 2251,
    "start_time": "2022-07-16T10:17:00.041Z"
   },
   {
    "duration": 298096,
    "start_time": "2022-07-16T10:17:33.750Z"
   },
   {
    "duration": 610,
    "start_time": "2022-07-16T10:24:38.953Z"
   },
   {
    "duration": 5,
    "start_time": "2022-07-16T11:04:10.142Z"
   },
   {
    "duration": 279,
    "start_time": "2022-07-16T11:04:10.153Z"
   },
   {
    "duration": 4,
    "start_time": "2022-07-16T11:04:10.434Z"
   },
   {
    "duration": 80,
    "start_time": "2022-07-16T11:04:10.440Z"
   },
   {
    "duration": 59,
    "start_time": "2022-07-16T11:04:10.522Z"
   },
   {
    "duration": 43,
    "start_time": "2022-07-16T11:04:10.606Z"
   },
   {
    "duration": 10,
    "start_time": "2022-07-16T11:04:10.650Z"
   },
   {
    "duration": 58,
    "start_time": "2022-07-16T11:04:10.662Z"
   },
   {
    "duration": 25,
    "start_time": "2022-07-16T11:04:10.722Z"
   },
   {
    "duration": 274,
    "start_time": "2022-07-16T11:04:10.748Z"
   },
   {
    "duration": 8,
    "start_time": "2022-07-16T11:04:11.026Z"
   },
   {
    "duration": 8,
    "start_time": "2022-07-16T11:04:11.037Z"
   },
   {
    "duration": 287,
    "start_time": "2022-07-16T11:04:11.048Z"
   },
   {
    "duration": 605,
    "start_time": "2022-07-16T11:04:11.337Z"
   },
   {
    "duration": 13,
    "start_time": "2022-07-16T11:04:11.944Z"
   },
   {
    "duration": 19,
    "start_time": "2022-07-16T11:04:11.959Z"
   },
   {
    "duration": 34,
    "start_time": "2022-07-16T11:04:11.979Z"
   },
   {
    "duration": 5,
    "start_time": "2022-07-16T11:04:12.016Z"
   },
   {
    "duration": 12,
    "start_time": "2022-07-16T11:04:12.023Z"
   },
   {
    "duration": 35,
    "start_time": "2022-07-16T11:04:12.037Z"
   },
   {
    "duration": 7,
    "start_time": "2022-07-16T11:04:12.073Z"
   },
   {
    "duration": 351,
    "start_time": "2022-07-16T11:04:12.081Z"
   },
   {
    "duration": 5,
    "start_time": "2022-07-16T11:04:12.436Z"
   },
   {
    "duration": 18,
    "start_time": "2022-07-16T11:04:12.442Z"
   },
   {
    "duration": 8,
    "start_time": "2022-07-16T11:04:12.462Z"
   },
   {
    "duration": 359,
    "start_time": "2022-07-16T11:04:12.472Z"
   },
   {
    "duration": 8,
    "start_time": "2022-07-16T11:04:12.833Z"
   },
   {
    "duration": 21,
    "start_time": "2022-07-16T11:04:12.843Z"
   },
   {
    "duration": 12,
    "start_time": "2022-07-16T11:04:12.868Z"
   },
   {
    "duration": 26,
    "start_time": "2022-07-16T11:04:12.882Z"
   },
   {
    "duration": 14,
    "start_time": "2022-07-16T11:04:12.910Z"
   },
   {
    "duration": 7,
    "start_time": "2022-07-16T11:04:12.926Z"
   },
   {
    "duration": 12,
    "start_time": "2022-07-16T11:04:12.935Z"
   },
   {
    "duration": 14,
    "start_time": "2022-07-16T11:04:12.950Z"
   },
   {
    "duration": 9,
    "start_time": "2022-07-16T11:04:12.966Z"
   },
   {
    "duration": 28,
    "start_time": "2022-07-16T11:04:12.977Z"
   },
   {
    "duration": 12,
    "start_time": "2022-07-16T11:04:13.007Z"
   },
   {
    "duration": 282,
    "start_time": "2022-07-16T11:04:13.022Z"
   },
   {
    "duration": 3,
    "start_time": "2022-07-16T11:04:13.307Z"
   },
   {
    "duration": 17,
    "start_time": "2022-07-16T11:04:13.312Z"
   },
   {
    "duration": 26,
    "start_time": "2022-07-16T11:04:13.331Z"
   },
   {
    "duration": 823,
    "start_time": "2022-07-16T11:04:13.359Z"
   },
   {
    "duration": 14,
    "start_time": "2022-07-16T11:04:14.184Z"
   },
   {
    "duration": 2577,
    "start_time": "2022-07-16T11:04:14.209Z"
   },
   {
    "duration": 874,
    "start_time": "2022-07-16T11:04:16.788Z"
   },
   {
    "duration": 15,
    "start_time": "2022-07-16T11:04:17.664Z"
   },
   {
    "duration": 6,
    "start_time": "2022-07-16T11:04:17.680Z"
   },
   {
    "duration": 23,
    "start_time": "2022-07-16T11:04:17.688Z"
   },
   {
    "duration": 15,
    "start_time": "2022-07-16T11:04:17.714Z"
   },
   {
    "duration": 2270,
    "start_time": "2022-07-16T11:04:17.731Z"
   },
   {
    "duration": 969,
    "start_time": "2022-07-16T11:04:20.004Z"
   },
   {
    "duration": 4,
    "start_time": "2022-07-16T11:04:20.975Z"
   },
   {
    "duration": 46,
    "start_time": "2022-07-16T11:04:20.981Z"
   },
   {
    "duration": 39,
    "start_time": "2022-07-16T11:04:21.029Z"
   },
   {
    "duration": 141,
    "start_time": "2022-07-16T11:04:21.070Z"
   },
   {
    "duration": 1204,
    "start_time": "2022-07-16T11:04:21.214Z"
   },
   {
    "duration": 238621,
    "start_time": "2022-07-16T11:04:22.421Z"
   },
   {
    "duration": 719,
    "start_time": "2022-07-16T11:08:21.044Z"
   },
   {
    "duration": 4,
    "start_time": "2022-07-16T11:29:42.414Z"
   },
   {
    "duration": 277,
    "start_time": "2022-07-16T11:29:42.456Z"
   },
   {
    "duration": 7,
    "start_time": "2022-07-16T11:29:42.737Z"
   },
   {
    "duration": 91,
    "start_time": "2022-07-16T11:29:42.746Z"
   },
   {
    "duration": 98,
    "start_time": "2022-07-16T11:29:42.839Z"
   },
   {
    "duration": 74,
    "start_time": "2022-07-16T11:29:42.940Z"
   },
   {
    "duration": 14,
    "start_time": "2022-07-16T11:29:43.016Z"
   },
   {
    "duration": 27,
    "start_time": "2022-07-16T11:29:43.033Z"
   },
   {
    "duration": 14,
    "start_time": "2022-07-16T11:29:43.062Z"
   },
   {
    "duration": 337,
    "start_time": "2022-07-16T11:29:43.077Z"
   },
   {
    "duration": 12,
    "start_time": "2022-07-16T11:29:43.417Z"
   },
   {
    "duration": 8,
    "start_time": "2022-07-16T11:29:43.432Z"
   },
   {
    "duration": 321,
    "start_time": "2022-07-16T11:29:43.442Z"
   },
   {
    "duration": 289,
    "start_time": "2022-07-16T11:29:43.765Z"
   },
   {
    "duration": 10,
    "start_time": "2022-07-16T11:29:44.057Z"
   },
   {
    "duration": 14,
    "start_time": "2022-07-16T11:29:44.069Z"
   },
   {
    "duration": 43,
    "start_time": "2022-07-16T11:29:44.085Z"
   },
   {
    "duration": 4,
    "start_time": "2022-07-16T11:29:44.130Z"
   },
   {
    "duration": 6,
    "start_time": "2022-07-16T11:29:44.136Z"
   },
   {
    "duration": 58,
    "start_time": "2022-07-16T11:29:44.144Z"
   },
   {
    "duration": 35,
    "start_time": "2022-07-16T11:29:44.205Z"
   },
   {
    "duration": 336,
    "start_time": "2022-07-16T11:29:44.241Z"
   },
   {
    "duration": 3,
    "start_time": "2022-07-16T11:29:44.579Z"
   },
   {
    "duration": 20,
    "start_time": "2022-07-16T11:29:44.584Z"
   },
   {
    "duration": 5,
    "start_time": "2022-07-16T11:29:44.607Z"
   },
   {
    "duration": 346,
    "start_time": "2022-07-16T11:29:44.614Z"
   },
   {
    "duration": 7,
    "start_time": "2022-07-16T11:29:44.962Z"
   },
   {
    "duration": 17,
    "start_time": "2022-07-16T11:29:44.971Z"
   },
   {
    "duration": 24,
    "start_time": "2022-07-16T11:29:45.006Z"
   },
   {
    "duration": 11,
    "start_time": "2022-07-16T11:29:45.033Z"
   },
   {
    "duration": 12,
    "start_time": "2022-07-16T11:29:45.045Z"
   },
   {
    "duration": 9,
    "start_time": "2022-07-16T11:29:45.059Z"
   },
   {
    "duration": 12,
    "start_time": "2022-07-16T11:29:45.069Z"
   },
   {
    "duration": 5,
    "start_time": "2022-07-16T11:29:45.112Z"
   },
   {
    "duration": 17,
    "start_time": "2022-07-16T11:29:45.124Z"
   },
   {
    "duration": 25,
    "start_time": "2022-07-16T11:29:45.143Z"
   },
   {
    "duration": 10,
    "start_time": "2022-07-16T11:29:45.170Z"
   },
   {
    "duration": 313,
    "start_time": "2022-07-16T11:29:45.181Z"
   },
   {
    "duration": 11,
    "start_time": "2022-07-16T11:29:45.496Z"
   },
   {
    "duration": 28,
    "start_time": "2022-07-16T11:29:45.510Z"
   },
   {
    "duration": 40,
    "start_time": "2022-07-16T11:29:45.540Z"
   },
   {
    "duration": 834,
    "start_time": "2022-07-16T11:29:45.586Z"
   },
   {
    "duration": 18,
    "start_time": "2022-07-16T11:29:46.423Z"
   },
   {
    "duration": 2634,
    "start_time": "2022-07-16T11:29:46.443Z"
   },
   {
    "duration": 901,
    "start_time": "2022-07-16T11:29:49.079Z"
   },
   {
    "duration": 23,
    "start_time": "2022-07-16T11:29:49.982Z"
   },
   {
    "duration": 10,
    "start_time": "2022-07-16T11:29:50.011Z"
   },
   {
    "duration": 11,
    "start_time": "2022-07-16T11:29:50.023Z"
   },
   {
    "duration": 8,
    "start_time": "2022-07-16T11:29:50.036Z"
   },
   {
    "duration": 2311,
    "start_time": "2022-07-16T11:29:50.046Z"
   },
   {
    "duration": 1386,
    "start_time": "2022-07-16T11:29:52.359Z"
   },
   {
    "duration": 4,
    "start_time": "2022-07-16T11:29:53.747Z"
   },
   {
    "duration": 10,
    "start_time": "2022-07-16T11:29:53.753Z"
   },
   {
    "duration": 14,
    "start_time": "2022-07-16T11:29:53.764Z"
   },
   {
    "duration": 144,
    "start_time": "2022-07-16T11:29:53.780Z"
   },
   {
    "duration": 963,
    "start_time": "2022-07-16T11:29:53.927Z"
   },
   {
    "duration": 228621,
    "start_time": "2022-07-16T11:29:54.892Z"
   },
   {
    "duration": 650,
    "start_time": "2022-07-16T11:33:43.515Z"
   },
   {
    "duration": 1692,
    "start_time": "2022-07-17T07:24:03.878Z"
   },
   {
    "duration": 487,
    "start_time": "2022-07-17T07:24:05.572Z"
   },
   {
    "duration": 3,
    "start_time": "2022-07-17T07:24:06.061Z"
   },
   {
    "duration": 63,
    "start_time": "2022-07-17T07:24:06.066Z"
   },
   {
    "duration": 95,
    "start_time": "2022-07-17T07:24:06.130Z"
   },
   {
    "duration": 67,
    "start_time": "2022-07-17T07:24:06.227Z"
   },
   {
    "duration": 18,
    "start_time": "2022-07-17T07:24:06.296Z"
   },
   {
    "duration": 59,
    "start_time": "2022-07-17T07:24:06.317Z"
   },
   {
    "duration": 23,
    "start_time": "2022-07-17T07:24:06.378Z"
   },
   {
    "duration": 310,
    "start_time": "2022-07-17T07:24:06.406Z"
   },
   {
    "duration": 10,
    "start_time": "2022-07-17T07:24:06.718Z"
   },
   {
    "duration": 7,
    "start_time": "2022-07-17T07:24:06.731Z"
   },
   {
    "duration": 329,
    "start_time": "2022-07-17T07:24:06.740Z"
   },
   {
    "duration": 227,
    "start_time": "2022-07-17T07:24:07.071Z"
   },
   {
    "duration": 9,
    "start_time": "2022-07-17T07:24:07.300Z"
   },
   {
    "duration": 14,
    "start_time": "2022-07-17T07:24:07.311Z"
   },
   {
    "duration": 14,
    "start_time": "2022-07-17T07:24:07.327Z"
   },
   {
    "duration": 19,
    "start_time": "2022-07-17T07:24:07.343Z"
   },
   {
    "duration": 3,
    "start_time": "2022-07-17T07:24:07.364Z"
   },
   {
    "duration": 29,
    "start_time": "2022-07-17T07:24:07.368Z"
   },
   {
    "duration": 6,
    "start_time": "2022-07-17T07:24:07.398Z"
   },
   {
    "duration": 266,
    "start_time": "2022-07-17T07:24:07.406Z"
   },
   {
    "duration": 3,
    "start_time": "2022-07-17T07:24:07.673Z"
   },
   {
    "duration": 11,
    "start_time": "2022-07-17T07:24:07.678Z"
   },
   {
    "duration": 9,
    "start_time": "2022-07-17T07:24:07.691Z"
   },
   {
    "duration": 275,
    "start_time": "2022-07-17T07:24:07.702Z"
   },
   {
    "duration": 6,
    "start_time": "2022-07-17T07:24:07.979Z"
   },
   {
    "duration": 19,
    "start_time": "2022-07-17T07:24:07.988Z"
   },
   {
    "duration": 10,
    "start_time": "2022-07-17T07:24:08.008Z"
   },
   {
    "duration": 7,
    "start_time": "2022-07-17T07:24:08.020Z"
   },
   {
    "duration": 8,
    "start_time": "2022-07-17T07:24:08.028Z"
   },
   {
    "duration": 24,
    "start_time": "2022-07-17T07:24:08.037Z"
   },
   {
    "duration": 8,
    "start_time": "2022-07-17T07:24:08.063Z"
   },
   {
    "duration": 9,
    "start_time": "2022-07-17T07:24:08.073Z"
   },
   {
    "duration": 8,
    "start_time": "2022-07-17T07:24:08.083Z"
   },
   {
    "duration": 24,
    "start_time": "2022-07-17T07:24:08.093Z"
   },
   {
    "duration": 8,
    "start_time": "2022-07-17T07:24:08.119Z"
   },
   {
    "duration": 241,
    "start_time": "2022-07-17T07:24:08.129Z"
   },
   {
    "duration": 3,
    "start_time": "2022-07-17T07:24:08.372Z"
   },
   {
    "duration": 14,
    "start_time": "2022-07-17T07:24:08.377Z"
   },
   {
    "duration": 25,
    "start_time": "2022-07-17T07:24:08.392Z"
   },
   {
    "duration": 813,
    "start_time": "2022-07-17T07:24:08.418Z"
   },
   {
    "duration": 12,
    "start_time": "2022-07-17T07:24:09.232Z"
   },
   {
    "duration": 2016,
    "start_time": "2022-07-17T07:24:09.246Z"
   },
   {
    "duration": 766,
    "start_time": "2022-07-17T07:24:11.263Z"
   },
   {
    "duration": 30,
    "start_time": "2022-07-17T07:24:12.030Z"
   },
   {
    "duration": 6,
    "start_time": "2022-07-17T07:24:12.062Z"
   },
   {
    "duration": 8,
    "start_time": "2022-07-17T07:24:12.069Z"
   },
   {
    "duration": 5,
    "start_time": "2022-07-17T07:24:12.078Z"
   },
   {
    "duration": 2059,
    "start_time": "2022-07-17T07:24:12.085Z"
   },
   {
    "duration": 757,
    "start_time": "2022-07-17T07:24:14.146Z"
   },
   {
    "duration": 4,
    "start_time": "2022-07-17T07:24:14.905Z"
   },
   {
    "duration": 13,
    "start_time": "2022-07-17T07:24:14.911Z"
   },
   {
    "duration": 17,
    "start_time": "2022-07-17T07:24:14.928Z"
   },
   {
    "duration": 12,
    "start_time": "2022-07-17T07:24:38.644Z"
   },
   {
    "duration": 20,
    "start_time": "2022-07-17T07:43:11.812Z"
   },
   {
    "duration": 1739,
    "start_time": "2022-07-17T08:38:01.333Z"
   },
   {
    "duration": 551,
    "start_time": "2022-07-17T08:38:03.074Z"
   },
   {
    "duration": 4,
    "start_time": "2022-07-17T08:38:03.626Z"
   },
   {
    "duration": 89,
    "start_time": "2022-07-17T08:38:03.631Z"
   },
   {
    "duration": 91,
    "start_time": "2022-07-17T08:38:03.722Z"
   },
   {
    "duration": 54,
    "start_time": "2022-07-17T08:38:03.815Z"
   },
   {
    "duration": 13,
    "start_time": "2022-07-17T08:38:03.903Z"
   },
   {
    "duration": 26,
    "start_time": "2022-07-17T08:38:03.918Z"
   },
   {
    "duration": 17,
    "start_time": "2022-07-17T08:38:03.946Z"
   },
   {
    "duration": 386,
    "start_time": "2022-07-17T08:38:03.969Z"
   },
   {
    "duration": 8,
    "start_time": "2022-07-17T08:38:04.357Z"
   },
   {
    "duration": 10,
    "start_time": "2022-07-17T08:38:04.367Z"
   },
   {
    "duration": 292,
    "start_time": "2022-07-17T08:38:04.379Z"
   },
   {
    "duration": 341,
    "start_time": "2022-07-17T08:38:04.673Z"
   },
   {
    "duration": 16,
    "start_time": "2022-07-17T08:38:05.016Z"
   },
   {
    "duration": 23,
    "start_time": "2022-07-17T08:38:05.034Z"
   },
   {
    "duration": 24,
    "start_time": "2022-07-17T08:38:05.059Z"
   },
   {
    "duration": 21,
    "start_time": "2022-07-17T08:38:05.085Z"
   },
   {
    "duration": 6,
    "start_time": "2022-07-17T08:38:05.108Z"
   },
   {
    "duration": 38,
    "start_time": "2022-07-17T08:38:05.116Z"
   },
   {
    "duration": 6,
    "start_time": "2022-07-17T08:38:05.157Z"
   },
   {
    "duration": 351,
    "start_time": "2022-07-17T08:38:05.165Z"
   },
   {
    "duration": 4,
    "start_time": "2022-07-17T08:38:05.519Z"
   },
   {
    "duration": 20,
    "start_time": "2022-07-17T08:38:05.525Z"
   },
   {
    "duration": 11,
    "start_time": "2022-07-17T08:38:05.547Z"
   },
   {
    "duration": 320,
    "start_time": "2022-07-17T08:38:05.560Z"
   },
   {
    "duration": 8,
    "start_time": "2022-07-17T08:38:05.881Z"
   },
   {
    "duration": 24,
    "start_time": "2022-07-17T08:38:05.892Z"
   },
   {
    "duration": 13,
    "start_time": "2022-07-17T08:38:05.918Z"
   },
   {
    "duration": 3,
    "start_time": "2022-07-17T08:40:04.948Z"
   },
   {
    "duration": 266,
    "start_time": "2022-07-17T08:40:04.958Z"
   },
   {
    "duration": 5,
    "start_time": "2022-07-17T08:40:05.226Z"
   },
   {
    "duration": 99,
    "start_time": "2022-07-17T08:40:05.233Z"
   },
   {
    "duration": 90,
    "start_time": "2022-07-17T08:40:05.334Z"
   },
   {
    "duration": 78,
    "start_time": "2022-07-17T08:40:05.426Z"
   },
   {
    "duration": 9,
    "start_time": "2022-07-17T08:40:05.506Z"
   },
   {
    "duration": 17,
    "start_time": "2022-07-17T08:40:05.517Z"
   },
   {
    "duration": 17,
    "start_time": "2022-07-17T08:40:05.536Z"
   },
   {
    "duration": 298,
    "start_time": "2022-07-17T08:40:05.556Z"
   },
   {
    "duration": 8,
    "start_time": "2022-07-17T08:40:05.857Z"
   },
   {
    "duration": 7,
    "start_time": "2022-07-17T08:40:05.867Z"
   },
   {
    "duration": 306,
    "start_time": "2022-07-17T08:40:05.875Z"
   },
   {
    "duration": 427,
    "start_time": "2022-07-17T08:40:06.183Z"
   },
   {
    "duration": 15,
    "start_time": "2022-07-17T08:40:06.612Z"
   },
   {
    "duration": 42,
    "start_time": "2022-07-17T08:40:06.629Z"
   },
   {
    "duration": 28,
    "start_time": "2022-07-17T08:40:06.673Z"
   },
   {
    "duration": 5,
    "start_time": "2022-07-17T08:40:06.703Z"
   },
   {
    "duration": 19,
    "start_time": "2022-07-17T08:40:06.710Z"
   },
   {
    "duration": 52,
    "start_time": "2022-07-17T08:40:06.731Z"
   },
   {
    "duration": 7,
    "start_time": "2022-07-17T08:40:06.786Z"
   },
   {
    "duration": 309,
    "start_time": "2022-07-17T08:40:06.795Z"
   },
   {
    "duration": 4,
    "start_time": "2022-07-17T08:40:07.106Z"
   },
   {
    "duration": 10,
    "start_time": "2022-07-17T08:40:07.112Z"
   },
   {
    "duration": 8,
    "start_time": "2022-07-17T08:40:07.125Z"
   },
   {
    "duration": 315,
    "start_time": "2022-07-17T08:40:07.134Z"
   },
   {
    "duration": 9,
    "start_time": "2022-07-17T08:40:07.451Z"
   },
   {
    "duration": 19,
    "start_time": "2022-07-17T08:40:07.462Z"
   },
   {
    "duration": 11,
    "start_time": "2022-07-17T08:40:14.015Z"
   },
   {
    "duration": 24,
    "start_time": "2022-07-17T08:40:31.742Z"
   },
   {
    "duration": 7,
    "start_time": "2022-07-17T08:41:08.016Z"
   },
   {
    "duration": 9,
    "start_time": "2022-07-17T08:41:34.499Z"
   },
   {
    "duration": 6,
    "start_time": "2022-07-17T08:42:11.093Z"
   },
   {
    "duration": 7,
    "start_time": "2022-07-17T08:42:16.330Z"
   },
   {
    "duration": 7,
    "start_time": "2022-07-17T08:42:23.258Z"
   },
   {
    "duration": 8,
    "start_time": "2022-07-17T08:43:30.933Z"
   },
   {
    "duration": 7,
    "start_time": "2022-07-17T08:44:07.656Z"
   },
   {
    "duration": 8,
    "start_time": "2022-07-17T08:44:21.797Z"
   },
   {
    "duration": 6,
    "start_time": "2022-07-17T08:47:36.978Z"
   },
   {
    "duration": 9,
    "start_time": "2022-07-17T08:47:46.117Z"
   },
   {
    "duration": 127,
    "start_time": "2022-07-17T08:48:33.120Z"
   },
   {
    "duration": 16,
    "start_time": "2022-07-17T08:48:42.561Z"
   },
   {
    "duration": 9,
    "start_time": "2022-07-17T08:48:48.888Z"
   },
   {
    "duration": 728,
    "start_time": "2022-07-17T08:49:01.194Z"
   },
   {
    "duration": 10,
    "start_time": "2022-07-17T08:49:10.964Z"
   },
   {
    "duration": 13,
    "start_time": "2022-07-17T08:49:39.449Z"
   },
   {
    "duration": 92,
    "start_time": "2022-07-17T08:49:49.555Z"
   },
   {
    "duration": 18,
    "start_time": "2022-07-17T08:50:12.850Z"
   },
   {
    "duration": 7,
    "start_time": "2022-07-17T08:51:17.602Z"
   },
   {
    "duration": 8,
    "start_time": "2022-07-17T08:51:23.322Z"
   },
   {
    "duration": 4,
    "start_time": "2022-07-17T08:51:49.268Z"
   },
   {
    "duration": 255,
    "start_time": "2022-07-17T08:51:49.279Z"
   },
   {
    "duration": 3,
    "start_time": "2022-07-17T08:51:49.536Z"
   },
   {
    "duration": 80,
    "start_time": "2022-07-17T08:51:49.541Z"
   },
   {
    "duration": 58,
    "start_time": "2022-07-17T08:51:49.624Z"
   },
   {
    "duration": 45,
    "start_time": "2022-07-17T08:51:49.705Z"
   },
   {
    "duration": 9,
    "start_time": "2022-07-17T08:51:49.751Z"
   },
   {
    "duration": 61,
    "start_time": "2022-07-17T08:51:49.762Z"
   },
   {
    "duration": 12,
    "start_time": "2022-07-17T08:51:49.825Z"
   },
   {
    "duration": 274,
    "start_time": "2022-07-17T08:51:49.839Z"
   },
   {
    "duration": 9,
    "start_time": "2022-07-17T08:51:50.116Z"
   },
   {
    "duration": 12,
    "start_time": "2022-07-17T08:51:50.126Z"
   },
   {
    "duration": 291,
    "start_time": "2022-07-17T08:51:50.140Z"
   },
   {
    "duration": 262,
    "start_time": "2022-07-17T08:51:50.433Z"
   },
   {
    "duration": 11,
    "start_time": "2022-07-17T08:51:50.704Z"
   },
   {
    "duration": 25,
    "start_time": "2022-07-17T08:51:50.717Z"
   },
   {
    "duration": 20,
    "start_time": "2022-07-17T08:51:50.744Z"
   },
   {
    "duration": 4,
    "start_time": "2022-07-17T08:51:50.766Z"
   },
   {
    "duration": 7,
    "start_time": "2022-07-17T08:51:50.772Z"
   },
   {
    "duration": 49,
    "start_time": "2022-07-17T08:51:50.781Z"
   },
   {
    "duration": 14,
    "start_time": "2022-07-17T08:51:50.832Z"
   },
   {
    "duration": 299,
    "start_time": "2022-07-17T08:51:50.848Z"
   },
   {
    "duration": 3,
    "start_time": "2022-07-17T08:51:51.149Z"
   },
   {
    "duration": 41,
    "start_time": "2022-07-17T08:51:51.154Z"
   },
   {
    "duration": 30,
    "start_time": "2022-07-17T08:51:51.197Z"
   },
   {
    "duration": 383,
    "start_time": "2022-07-17T08:51:51.229Z"
   },
   {
    "duration": 10,
    "start_time": "2022-07-17T08:51:51.614Z"
   },
   {
    "duration": 44,
    "start_time": "2022-07-17T08:51:51.625Z"
   },
   {
    "duration": 38,
    "start_time": "2022-07-17T08:51:51.672Z"
   },
   {
    "duration": 45,
    "start_time": "2022-07-17T08:51:51.711Z"
   },
   {
    "duration": 43,
    "start_time": "2022-07-17T08:51:51.757Z"
   },
   {
    "duration": 21,
    "start_time": "2022-07-17T08:51:51.802Z"
   },
   {
    "duration": 32,
    "start_time": "2022-07-17T08:51:51.825Z"
   },
   {
    "duration": 31,
    "start_time": "2022-07-17T08:51:51.859Z"
   },
   {
    "duration": 4,
    "start_time": "2022-07-17T08:52:13.784Z"
   },
   {
    "duration": 233,
    "start_time": "2022-07-17T08:52:13.798Z"
   },
   {
    "duration": 3,
    "start_time": "2022-07-17T08:52:14.034Z"
   },
   {
    "duration": 82,
    "start_time": "2022-07-17T08:52:14.039Z"
   },
   {
    "duration": 94,
    "start_time": "2022-07-17T08:52:14.124Z"
   },
   {
    "duration": 84,
    "start_time": "2022-07-17T08:52:14.220Z"
   },
   {
    "duration": 12,
    "start_time": "2022-07-17T08:52:14.306Z"
   },
   {
    "duration": 22,
    "start_time": "2022-07-17T08:52:14.321Z"
   },
   {
    "duration": 15,
    "start_time": "2022-07-17T08:52:14.344Z"
   },
   {
    "duration": 724,
    "start_time": "2022-07-17T08:52:14.361Z"
   },
   {
    "duration": 23,
    "start_time": "2022-07-17T08:52:15.088Z"
   },
   {
    "duration": 7,
    "start_time": "2022-07-17T08:52:15.113Z"
   },
   {
    "duration": 301,
    "start_time": "2022-07-17T08:52:15.122Z"
   },
   {
    "duration": 290,
    "start_time": "2022-07-17T08:52:15.425Z"
   },
   {
    "duration": 12,
    "start_time": "2022-07-17T08:52:15.717Z"
   },
   {
    "duration": 23,
    "start_time": "2022-07-17T08:52:15.731Z"
   },
   {
    "duration": 21,
    "start_time": "2022-07-17T08:52:15.756Z"
   },
   {
    "duration": 30,
    "start_time": "2022-07-17T08:52:15.779Z"
   },
   {
    "duration": 7,
    "start_time": "2022-07-17T08:52:15.811Z"
   },
   {
    "duration": 37,
    "start_time": "2022-07-17T08:52:15.820Z"
   },
   {
    "duration": 8,
    "start_time": "2022-07-17T08:52:15.859Z"
   },
   {
    "duration": 351,
    "start_time": "2022-07-17T08:52:15.869Z"
   },
   {
    "duration": 4,
    "start_time": "2022-07-17T08:52:16.222Z"
   },
   {
    "duration": 35,
    "start_time": "2022-07-17T08:52:16.228Z"
   },
   {
    "duration": 8,
    "start_time": "2022-07-17T08:52:16.265Z"
   },
   {
    "duration": 390,
    "start_time": "2022-07-17T08:52:16.275Z"
   },
   {
    "duration": 11,
    "start_time": "2022-07-17T08:52:16.667Z"
   },
   {
    "duration": 33,
    "start_time": "2022-07-17T08:52:16.681Z"
   },
   {
    "duration": 18,
    "start_time": "2022-07-17T08:52:16.719Z"
   },
   {
    "duration": 19,
    "start_time": "2022-07-17T08:52:16.739Z"
   },
   {
    "duration": 15,
    "start_time": "2022-07-17T08:52:16.761Z"
   },
   {
    "duration": 31,
    "start_time": "2022-07-17T08:52:16.778Z"
   },
   {
    "duration": 8,
    "start_time": "2022-07-17T08:52:16.811Z"
   },
   {
    "duration": 9,
    "start_time": "2022-07-17T08:52:16.821Z"
   },
   {
    "duration": 6,
    "start_time": "2022-07-17T08:52:16.832Z"
   },
   {
    "duration": 30,
    "start_time": "2022-07-17T08:52:16.840Z"
   },
   {
    "duration": 15,
    "start_time": "2022-07-17T08:52:16.873Z"
   },
   {
    "duration": 19,
    "start_time": "2022-07-17T08:52:16.890Z"
   },
   {
    "duration": 30,
    "start_time": "2022-07-17T08:52:16.911Z"
   },
   {
    "duration": 7,
    "start_time": "2022-07-17T08:52:16.943Z"
   },
   {
    "duration": 303,
    "start_time": "2022-07-17T08:52:16.953Z"
   },
   {
    "duration": 5,
    "start_time": "2022-07-17T08:52:17.258Z"
   },
   {
    "duration": 20,
    "start_time": "2022-07-17T08:52:17.264Z"
   },
   {
    "duration": 53,
    "start_time": "2022-07-17T08:52:17.286Z"
   },
   {
    "duration": 901,
    "start_time": "2022-07-17T08:52:17.341Z"
   },
   {
    "duration": 15,
    "start_time": "2022-07-17T08:52:18.245Z"
   },
   {
    "duration": 2171,
    "start_time": "2022-07-17T08:52:18.261Z"
   },
   {
    "duration": 1476,
    "start_time": "2022-07-17T08:52:20.435Z"
   },
   {
    "duration": 19,
    "start_time": "2022-07-17T08:52:21.912Z"
   },
   {
    "duration": 35,
    "start_time": "2022-07-17T08:52:21.933Z"
   },
   {
    "duration": 10,
    "start_time": "2022-07-17T08:52:21.970Z"
   },
   {
    "duration": 13,
    "start_time": "2022-07-17T08:52:21.982Z"
   },
   {
    "duration": 2194,
    "start_time": "2022-07-17T08:52:21.997Z"
   },
   {
    "duration": 1069,
    "start_time": "2022-07-17T08:52:24.193Z"
   },
   {
    "duration": 4,
    "start_time": "2022-07-17T08:52:25.264Z"
   },
   {
    "duration": 17,
    "start_time": "2022-07-17T08:52:25.269Z"
   },
   {
    "duration": 41,
    "start_time": "2022-07-17T08:52:25.288Z"
   },
   {
    "duration": 103,
    "start_time": "2022-07-17T08:52:25.332Z"
   },
   {
    "duration": 1175,
    "start_time": "2022-07-17T08:52:25.437Z"
   },
   {
    "duration": 294628,
    "start_time": "2022-07-17T08:52:26.615Z"
   },
   {
    "duration": 824,
    "start_time": "2022-07-17T08:57:21.245Z"
   },
   {
    "duration": 8,
    "start_time": "2022-07-17T08:58:51.665Z"
   },
   {
    "duration": 3,
    "start_time": "2022-07-17T08:59:07.661Z"
   },
   {
    "duration": 218,
    "start_time": "2022-07-17T08:59:07.671Z"
   },
   {
    "duration": 3,
    "start_time": "2022-07-17T08:59:07.891Z"
   },
   {
    "duration": 62,
    "start_time": "2022-07-17T08:59:07.896Z"
   },
   {
    "duration": 89,
    "start_time": "2022-07-17T08:59:07.960Z"
   },
   {
    "duration": 68,
    "start_time": "2022-07-17T08:59:08.051Z"
   },
   {
    "duration": 13,
    "start_time": "2022-07-17T08:59:08.122Z"
   },
   {
    "duration": 26,
    "start_time": "2022-07-17T08:59:08.138Z"
   },
   {
    "duration": 50,
    "start_time": "2022-07-17T08:59:08.166Z"
   },
   {
    "duration": 276,
    "start_time": "2022-07-17T08:59:08.218Z"
   },
   {
    "duration": 9,
    "start_time": "2022-07-17T08:59:08.503Z"
   },
   {
    "duration": 8,
    "start_time": "2022-07-17T08:59:08.514Z"
   },
   {
    "duration": 301,
    "start_time": "2022-07-17T08:59:08.524Z"
   },
   {
    "duration": 283,
    "start_time": "2022-07-17T08:59:08.828Z"
   },
   {
    "duration": 11,
    "start_time": "2022-07-17T08:59:09.113Z"
   },
   {
    "duration": 14,
    "start_time": "2022-07-17T08:59:09.126Z"
   },
   {
    "duration": 12,
    "start_time": "2022-07-17T08:59:09.142Z"
   },
   {
    "duration": 3,
    "start_time": "2022-07-17T08:59:09.156Z"
   },
   {
    "duration": 6,
    "start_time": "2022-07-17T08:59:09.160Z"
   },
   {
    "duration": 55,
    "start_time": "2022-07-17T08:59:09.167Z"
   },
   {
    "duration": 6,
    "start_time": "2022-07-17T08:59:09.223Z"
   },
   {
    "duration": 281,
    "start_time": "2022-07-17T08:59:09.230Z"
   },
   {
    "duration": 3,
    "start_time": "2022-07-17T08:59:09.513Z"
   },
   {
    "duration": 9,
    "start_time": "2022-07-17T08:59:09.518Z"
   },
   {
    "duration": 5,
    "start_time": "2022-07-17T08:59:09.529Z"
   },
   {
    "duration": 287,
    "start_time": "2022-07-17T08:59:09.535Z"
   },
   {
    "duration": 7,
    "start_time": "2022-07-17T08:59:09.824Z"
   },
   {
    "duration": 14,
    "start_time": "2022-07-17T08:59:09.833Z"
   },
   {
    "duration": 7,
    "start_time": "2022-07-17T08:59:09.851Z"
   },
   {
    "duration": 7,
    "start_time": "2022-07-17T08:59:09.861Z"
   },
   {
    "duration": 36,
    "start_time": "2022-07-17T08:59:09.869Z"
   },
   {
    "duration": 11,
    "start_time": "2022-07-17T08:59:09.907Z"
   },
   {
    "duration": 6,
    "start_time": "2022-07-17T08:59:09.920Z"
   },
   {
    "duration": 6,
    "start_time": "2022-07-17T08:59:09.928Z"
   },
   {
    "duration": 3,
    "start_time": "2022-07-17T08:59:09.936Z"
   },
   {
    "duration": 8,
    "start_time": "2022-07-17T08:59:09.941Z"
   },
   {
    "duration": 5,
    "start_time": "2022-07-17T08:59:09.951Z"
   },
   {
    "duration": 6,
    "start_time": "2022-07-17T08:59:09.957Z"
   },
   {
    "duration": 44,
    "start_time": "2022-07-17T08:59:09.965Z"
   },
   {
    "duration": 8,
    "start_time": "2022-07-17T08:59:10.011Z"
   },
   {
    "duration": 757,
    "start_time": "2022-07-17T08:59:10.021Z"
   },
   {
    "duration": 3,
    "start_time": "2022-07-17T08:59:10.780Z"
   },
   {
    "duration": 20,
    "start_time": "2022-07-17T08:59:10.785Z"
   },
   {
    "duration": 29,
    "start_time": "2022-07-17T08:59:10.807Z"
   },
   {
    "duration": 672,
    "start_time": "2022-07-17T08:59:10.838Z"
   },
   {
    "duration": 11,
    "start_time": "2022-07-17T08:59:11.512Z"
   },
   {
    "duration": 1822,
    "start_time": "2022-07-17T08:59:11.525Z"
   },
   {
    "duration": 872,
    "start_time": "2022-07-17T08:59:13.349Z"
   },
   {
    "duration": 17,
    "start_time": "2022-07-17T08:59:14.223Z"
   },
   {
    "duration": 6,
    "start_time": "2022-07-17T08:59:14.242Z"
   },
   {
    "duration": 10,
    "start_time": "2022-07-17T08:59:14.250Z"
   },
   {
    "duration": 5,
    "start_time": "2022-07-17T08:59:14.262Z"
   },
   {
    "duration": 2657,
    "start_time": "2022-07-17T08:59:14.269Z"
   },
   {
    "duration": 851,
    "start_time": "2022-07-17T08:59:16.928Z"
   },
   {
    "duration": 4,
    "start_time": "2022-07-17T08:59:17.781Z"
   },
   {
    "duration": 25,
    "start_time": "2022-07-17T08:59:17.787Z"
   },
   {
    "duration": 25,
    "start_time": "2022-07-17T08:59:17.813Z"
   },
   {
    "duration": 68,
    "start_time": "2022-07-17T08:59:17.840Z"
   },
   {
    "duration": 409,
    "start_time": "2022-07-17T08:59:17.911Z"
   },
   {
    "duration": 581,
    "start_time": "2022-07-17T08:59:28.484Z"
   },
   {
    "duration": 4,
    "start_time": "2022-07-17T09:00:12.627Z"
   },
   {
    "duration": 252,
    "start_time": "2022-07-17T09:00:12.660Z"
   },
   {
    "duration": 5,
    "start_time": "2022-07-17T09:00:12.915Z"
   },
   {
    "duration": 107,
    "start_time": "2022-07-17T09:00:12.921Z"
   },
   {
    "duration": 94,
    "start_time": "2022-07-17T09:00:13.030Z"
   },
   {
    "duration": 41,
    "start_time": "2022-07-17T09:00:13.126Z"
   },
   {
    "duration": 44,
    "start_time": "2022-07-17T09:00:13.169Z"
   },
   {
    "duration": 31,
    "start_time": "2022-07-17T09:00:13.214Z"
   },
   {
    "duration": 25,
    "start_time": "2022-07-17T09:00:13.247Z"
   },
   {
    "duration": 283,
    "start_time": "2022-07-17T09:00:13.273Z"
   },
   {
    "duration": 8,
    "start_time": "2022-07-17T09:00:13.559Z"
   },
   {
    "duration": 26,
    "start_time": "2022-07-17T09:00:13.569Z"
   },
   {
    "duration": 308,
    "start_time": "2022-07-17T09:00:13.598Z"
   },
   {
    "duration": 277,
    "start_time": "2022-07-17T09:00:13.908Z"
   },
   {
    "duration": 20,
    "start_time": "2022-07-17T09:00:14.187Z"
   },
   {
    "duration": 21,
    "start_time": "2022-07-17T09:00:14.209Z"
   },
   {
    "duration": 20,
    "start_time": "2022-07-17T09:00:14.232Z"
   },
   {
    "duration": 5,
    "start_time": "2022-07-17T09:00:14.254Z"
   },
   {
    "duration": 14,
    "start_time": "2022-07-17T09:00:14.261Z"
   },
   {
    "duration": 46,
    "start_time": "2022-07-17T09:00:14.276Z"
   },
   {
    "duration": 8,
    "start_time": "2022-07-17T09:00:14.324Z"
   },
   {
    "duration": 315,
    "start_time": "2022-07-17T09:00:14.334Z"
   },
   {
    "duration": 4,
    "start_time": "2022-07-17T09:00:14.651Z"
   },
   {
    "duration": 16,
    "start_time": "2022-07-17T09:00:14.656Z"
   },
   {
    "duration": 11,
    "start_time": "2022-07-17T09:00:14.673Z"
   },
   {
    "duration": 331,
    "start_time": "2022-07-17T09:00:14.686Z"
   },
   {
    "duration": 8,
    "start_time": "2022-07-17T09:00:15.018Z"
   },
   {
    "duration": 37,
    "start_time": "2022-07-17T09:00:15.028Z"
   },
   {
    "duration": 9,
    "start_time": "2022-07-17T09:00:15.072Z"
   },
   {
    "duration": 17,
    "start_time": "2022-07-17T09:00:15.083Z"
   },
   {
    "duration": 9,
    "start_time": "2022-07-17T09:00:15.104Z"
   },
   {
    "duration": 13,
    "start_time": "2022-07-17T09:00:15.116Z"
   },
   {
    "duration": 23,
    "start_time": "2022-07-17T09:00:15.131Z"
   },
   {
    "duration": 36,
    "start_time": "2022-07-17T09:00:15.156Z"
   },
   {
    "duration": 15,
    "start_time": "2022-07-17T09:00:15.194Z"
   },
   {
    "duration": 22,
    "start_time": "2022-07-17T09:00:15.211Z"
   },
   {
    "duration": 19,
    "start_time": "2022-07-17T09:00:15.235Z"
   },
   {
    "duration": 21,
    "start_time": "2022-07-17T09:00:15.257Z"
   },
   {
    "duration": 32,
    "start_time": "2022-07-17T09:00:15.281Z"
   },
   {
    "duration": 9,
    "start_time": "2022-07-17T09:00:15.315Z"
   },
   {
    "duration": 298,
    "start_time": "2022-07-17T09:00:15.326Z"
   },
   {
    "duration": 4,
    "start_time": "2022-07-17T09:00:15.626Z"
   },
   {
    "duration": 18,
    "start_time": "2022-07-17T09:00:15.632Z"
   },
   {
    "duration": 51,
    "start_time": "2022-07-17T09:00:15.652Z"
   },
   {
    "duration": 808,
    "start_time": "2022-07-17T09:00:15.705Z"
   },
   {
    "duration": 16,
    "start_time": "2022-07-17T09:00:16.515Z"
   },
   {
    "duration": 2173,
    "start_time": "2022-07-17T09:00:16.533Z"
   },
   {
    "duration": 1484,
    "start_time": "2022-07-17T09:00:18.707Z"
   },
   {
    "duration": 25,
    "start_time": "2022-07-17T09:00:20.193Z"
   },
   {
    "duration": 13,
    "start_time": "2022-07-17T09:00:20.220Z"
   },
   {
    "duration": 17,
    "start_time": "2022-07-17T09:00:20.236Z"
   },
   {
    "duration": 8,
    "start_time": "2022-07-17T09:00:20.255Z"
   },
   {
    "duration": 2122,
    "start_time": "2022-07-17T09:00:20.265Z"
   },
   {
    "duration": 889,
    "start_time": "2022-07-17T09:00:22.388Z"
   },
   {
    "duration": 6,
    "start_time": "2022-07-17T09:00:23.279Z"
   },
   {
    "duration": 83,
    "start_time": "2022-07-17T09:00:23.286Z"
   },
   {
    "duration": 61,
    "start_time": "2022-07-17T09:00:23.372Z"
   },
   {
    "duration": 113,
    "start_time": "2022-07-17T09:00:23.435Z"
   },
   {
    "duration": 356,
    "start_time": "2022-07-17T09:00:23.550Z"
   },
   {
    "duration": 455,
    "start_time": "2022-07-17T09:00:36.999Z"
   },
   {
    "duration": 5,
    "start_time": "2022-07-17T09:03:53.491Z"
   },
   {
    "duration": 218,
    "start_time": "2022-07-17T09:03:53.499Z"
   },
   {
    "duration": 4,
    "start_time": "2022-07-17T09:03:53.720Z"
   },
   {
    "duration": 101,
    "start_time": "2022-07-17T09:03:53.725Z"
   },
   {
    "duration": 94,
    "start_time": "2022-07-17T09:03:53.829Z"
   },
   {
    "duration": 45,
    "start_time": "2022-07-17T09:03:53.925Z"
   },
   {
    "duration": 46,
    "start_time": "2022-07-17T09:03:53.972Z"
   },
   {
    "duration": 48,
    "start_time": "2022-07-17T09:03:54.021Z"
   },
   {
    "duration": 36,
    "start_time": "2022-07-17T09:03:54.071Z"
   },
   {
    "duration": 308,
    "start_time": "2022-07-17T09:03:54.111Z"
   },
   {
    "duration": 10,
    "start_time": "2022-07-17T09:03:54.421Z"
   },
   {
    "duration": 34,
    "start_time": "2022-07-17T09:03:54.432Z"
   },
   {
    "duration": 302,
    "start_time": "2022-07-17T09:03:54.468Z"
   },
   {
    "duration": 282,
    "start_time": "2022-07-17T09:03:54.771Z"
   },
   {
    "duration": 13,
    "start_time": "2022-07-17T09:03:55.055Z"
   },
   {
    "duration": 48,
    "start_time": "2022-07-17T09:03:55.070Z"
   },
   {
    "duration": 26,
    "start_time": "2022-07-17T09:03:55.119Z"
   },
   {
    "duration": 5,
    "start_time": "2022-07-17T09:03:55.147Z"
   },
   {
    "duration": 15,
    "start_time": "2022-07-17T09:03:55.154Z"
   },
   {
    "duration": 45,
    "start_time": "2022-07-17T09:03:55.172Z"
   },
   {
    "duration": 9,
    "start_time": "2022-07-17T09:03:55.220Z"
   },
   {
    "duration": 347,
    "start_time": "2022-07-17T09:03:55.231Z"
   },
   {
    "duration": 4,
    "start_time": "2022-07-17T09:03:55.580Z"
   },
   {
    "duration": 23,
    "start_time": "2022-07-17T09:03:55.586Z"
   },
   {
    "duration": 9,
    "start_time": "2022-07-17T09:03:55.611Z"
   },
   {
    "duration": 322,
    "start_time": "2022-07-17T09:03:55.622Z"
   },
   {
    "duration": 8,
    "start_time": "2022-07-17T09:03:55.946Z"
   },
   {
    "duration": 20,
    "start_time": "2022-07-17T09:03:55.956Z"
   },
   {
    "duration": 25,
    "start_time": "2022-07-17T09:03:55.979Z"
   },
   {
    "duration": 9,
    "start_time": "2022-07-17T09:03:56.006Z"
   },
   {
    "duration": 10,
    "start_time": "2022-07-17T09:03:56.017Z"
   },
   {
    "duration": 8,
    "start_time": "2022-07-17T09:04:04.813Z"
   },
   {
    "duration": 6,
    "start_time": "2022-07-17T09:04:15.828Z"
   },
   {
    "duration": 5,
    "start_time": "2022-07-17T09:04:23.321Z"
   },
   {
    "duration": 5,
    "start_time": "2022-07-17T09:08:05.498Z"
   },
   {
    "duration": 267,
    "start_time": "2022-07-17T09:08:05.508Z"
   },
   {
    "duration": 4,
    "start_time": "2022-07-17T09:08:05.778Z"
   },
   {
    "duration": 90,
    "start_time": "2022-07-17T09:08:05.784Z"
   },
   {
    "duration": 67,
    "start_time": "2022-07-17T09:08:05.905Z"
   },
   {
    "duration": 61,
    "start_time": "2022-07-17T09:08:05.974Z"
   },
   {
    "duration": 11,
    "start_time": "2022-07-17T09:08:06.037Z"
   },
   {
    "duration": 65,
    "start_time": "2022-07-17T09:08:06.051Z"
   },
   {
    "duration": 21,
    "start_time": "2022-07-17T09:08:06.118Z"
   },
   {
    "duration": 305,
    "start_time": "2022-07-17T09:08:06.142Z"
   },
   {
    "duration": 8,
    "start_time": "2022-07-17T09:08:06.448Z"
   },
   {
    "duration": 17,
    "start_time": "2022-07-17T09:08:06.461Z"
   },
   {
    "duration": 421,
    "start_time": "2022-07-17T09:08:06.481Z"
   },
   {
    "duration": 326,
    "start_time": "2022-07-17T09:08:06.908Z"
   },
   {
    "duration": 16,
    "start_time": "2022-07-17T09:08:07.239Z"
   },
   {
    "duration": 57,
    "start_time": "2022-07-17T09:08:07.257Z"
   },
   {
    "duration": 58,
    "start_time": "2022-07-17T09:08:07.317Z"
   },
   {
    "duration": 27,
    "start_time": "2022-07-17T09:08:07.377Z"
   },
   {
    "duration": 37,
    "start_time": "2022-07-17T09:08:07.406Z"
   },
   {
    "duration": 46,
    "start_time": "2022-07-17T09:08:07.445Z"
   },
   {
    "duration": 6,
    "start_time": "2022-07-17T09:08:07.493Z"
   },
   {
    "duration": 999,
    "start_time": "2022-07-17T09:08:07.501Z"
   },
   {
    "duration": 5,
    "start_time": "2022-07-17T09:08:08.502Z"
   },
   {
    "duration": 28,
    "start_time": "2022-07-17T09:08:08.511Z"
   },
   {
    "duration": 5,
    "start_time": "2022-07-17T09:08:08.542Z"
   },
   {
    "duration": 370,
    "start_time": "2022-07-17T09:08:08.549Z"
   },
   {
    "duration": 9,
    "start_time": "2022-07-17T09:08:08.924Z"
   },
   {
    "duration": 27,
    "start_time": "2022-07-17T09:08:08.935Z"
   },
   {
    "duration": 10,
    "start_time": "2022-07-17T09:08:08.964Z"
   },
   {
    "duration": 9,
    "start_time": "2022-07-17T09:08:08.976Z"
   },
   {
    "duration": 8,
    "start_time": "2022-07-17T09:08:09.004Z"
   },
   {
    "duration": 17,
    "start_time": "2022-07-17T09:08:09.014Z"
   },
   {
    "duration": 26,
    "start_time": "2022-07-17T09:08:09.033Z"
   },
   {
    "duration": 10,
    "start_time": "2022-07-17T09:08:09.061Z"
   },
   {
    "duration": 15,
    "start_time": "2022-07-17T09:08:11.498Z"
   },
   {
    "duration": 4,
    "start_time": "2022-07-17T09:09:23.862Z"
   },
   {
    "duration": 245,
    "start_time": "2022-07-17T09:09:23.868Z"
   },
   {
    "duration": 5,
    "start_time": "2022-07-17T09:09:24.115Z"
   },
   {
    "duration": 104,
    "start_time": "2022-07-17T09:09:24.122Z"
   },
   {
    "duration": 78,
    "start_time": "2022-07-17T09:09:24.228Z"
   },
   {
    "duration": 42,
    "start_time": "2022-07-17T09:09:24.308Z"
   },
   {
    "duration": 10,
    "start_time": "2022-07-17T09:09:24.351Z"
   },
   {
    "duration": 73,
    "start_time": "2022-07-17T09:09:24.362Z"
   },
   {
    "duration": 14,
    "start_time": "2022-07-17T09:09:24.437Z"
   },
   {
    "duration": 295,
    "start_time": "2022-07-17T09:09:24.453Z"
   },
   {
    "duration": 9,
    "start_time": "2022-07-17T09:09:24.752Z"
   },
   {
    "duration": 7,
    "start_time": "2022-07-17T09:09:24.764Z"
   },
   {
    "duration": 310,
    "start_time": "2022-07-17T09:09:24.773Z"
   },
   {
    "duration": 301,
    "start_time": "2022-07-17T09:09:25.085Z"
   },
   {
    "duration": 31,
    "start_time": "2022-07-17T09:09:25.388Z"
   },
   {
    "duration": 20,
    "start_time": "2022-07-17T09:09:25.421Z"
   },
   {
    "duration": 20,
    "start_time": "2022-07-17T09:09:25.443Z"
   },
   {
    "duration": 4,
    "start_time": "2022-07-17T09:09:25.464Z"
   },
   {
    "duration": 22,
    "start_time": "2022-07-17T09:09:25.469Z"
   },
   {
    "duration": 71,
    "start_time": "2022-07-17T09:09:25.493Z"
   },
   {
    "duration": 6,
    "start_time": "2022-07-17T09:09:25.566Z"
   },
   {
    "duration": 282,
    "start_time": "2022-07-17T09:09:25.574Z"
   },
   {
    "duration": 4,
    "start_time": "2022-07-17T09:09:25.858Z"
   },
   {
    "duration": 14,
    "start_time": "2022-07-17T09:09:25.864Z"
   },
   {
    "duration": 7,
    "start_time": "2022-07-17T09:09:25.880Z"
   },
   {
    "duration": 342,
    "start_time": "2022-07-17T09:09:25.889Z"
   },
   {
    "duration": 9,
    "start_time": "2022-07-17T09:09:26.233Z"
   },
   {
    "duration": 21,
    "start_time": "2022-07-17T09:09:26.245Z"
   },
   {
    "duration": 9,
    "start_time": "2022-07-17T09:09:26.271Z"
   },
   {
    "duration": 10,
    "start_time": "2022-07-17T09:09:26.304Z"
   },
   {
    "duration": 15,
    "start_time": "2022-07-17T09:09:26.317Z"
   },
   {
    "duration": 11,
    "start_time": "2022-07-17T09:09:26.334Z"
   },
   {
    "duration": 14,
    "start_time": "2022-07-17T09:09:38.592Z"
   },
   {
    "duration": 5,
    "start_time": "2022-07-17T09:10:07.471Z"
   },
   {
    "duration": 16,
    "start_time": "2022-07-17T09:10:10.662Z"
   },
   {
    "duration": 5,
    "start_time": "2022-07-17T09:11:02.478Z"
   },
   {
    "duration": 21,
    "start_time": "2022-07-17T09:11:04.116Z"
   },
   {
    "duration": 1086,
    "start_time": "2022-07-17T09:11:18.913Z"
   },
   {
    "duration": 15,
    "start_time": "2022-07-17T09:11:20.287Z"
   },
   {
    "duration": 1310,
    "start_time": "2022-07-17T09:11:34.985Z"
   },
   {
    "duration": 10,
    "start_time": "2022-07-17T09:11:46.422Z"
   },
   {
    "duration": 13,
    "start_time": "2022-07-17T09:11:48.873Z"
   },
   {
    "duration": 8,
    "start_time": "2022-07-17T09:13:17.427Z"
   },
   {
    "duration": 5,
    "start_time": "2022-07-17T09:14:48.699Z"
   },
   {
    "duration": 234,
    "start_time": "2022-07-17T09:14:48.705Z"
   },
   {
    "duration": 5,
    "start_time": "2022-07-17T09:14:48.941Z"
   },
   {
    "duration": 91,
    "start_time": "2022-07-17T09:14:48.948Z"
   },
   {
    "duration": 89,
    "start_time": "2022-07-17T09:14:49.041Z"
   },
   {
    "duration": 73,
    "start_time": "2022-07-17T09:14:49.132Z"
   },
   {
    "duration": 14,
    "start_time": "2022-07-17T09:14:49.207Z"
   },
   {
    "duration": 19,
    "start_time": "2022-07-17T09:14:49.223Z"
   },
   {
    "duration": 25,
    "start_time": "2022-07-17T09:14:49.244Z"
   },
   {
    "duration": 291,
    "start_time": "2022-07-17T09:14:49.271Z"
   },
   {
    "duration": 8,
    "start_time": "2022-07-17T09:14:49.567Z"
   },
   {
    "duration": 7,
    "start_time": "2022-07-17T09:14:49.577Z"
   },
   {
    "duration": 369,
    "start_time": "2022-07-17T09:14:49.604Z"
   },
   {
    "duration": 313,
    "start_time": "2022-07-17T09:14:49.975Z"
   },
   {
    "duration": 17,
    "start_time": "2022-07-17T09:14:50.290Z"
   },
   {
    "duration": 19,
    "start_time": "2022-07-17T09:14:50.309Z"
   },
   {
    "duration": 16,
    "start_time": "2022-07-17T09:14:50.329Z"
   },
   {
    "duration": 3,
    "start_time": "2022-07-17T09:14:50.347Z"
   },
   {
    "duration": 14,
    "start_time": "2022-07-17T09:14:50.352Z"
   },
   {
    "duration": 62,
    "start_time": "2022-07-17T09:14:50.368Z"
   },
   {
    "duration": 8,
    "start_time": "2022-07-17T09:14:50.432Z"
   },
   {
    "duration": 313,
    "start_time": "2022-07-17T09:14:50.442Z"
   },
   {
    "duration": 11,
    "start_time": "2022-07-17T09:14:50.758Z"
   },
   {
    "duration": 17,
    "start_time": "2022-07-17T09:14:50.775Z"
   },
   {
    "duration": 10,
    "start_time": "2022-07-17T09:14:50.794Z"
   },
   {
    "duration": 315,
    "start_time": "2022-07-17T09:14:50.805Z"
   },
   {
    "duration": 20,
    "start_time": "2022-07-17T09:14:51.121Z"
   },
   {
    "duration": 23,
    "start_time": "2022-07-17T09:14:51.144Z"
   },
   {
    "duration": 26,
    "start_time": "2022-07-17T09:14:51.172Z"
   },
   {
    "duration": 12,
    "start_time": "2022-07-17T09:14:51.201Z"
   },
   {
    "duration": 7,
    "start_time": "2022-07-17T09:14:51.215Z"
   },
   {
    "duration": 13,
    "start_time": "2022-07-17T09:14:51.223Z"
   },
   {
    "duration": 11,
    "start_time": "2022-07-17T09:14:51.239Z"
   },
   {
    "duration": 8,
    "start_time": "2022-07-17T09:14:53.356Z"
   },
   {
    "duration": 15,
    "start_time": "2022-07-17T09:14:53.890Z"
   },
   {
    "duration": 8,
    "start_time": "2022-07-17T09:15:14.960Z"
   },
   {
    "duration": 12,
    "start_time": "2022-07-17T09:20:47.994Z"
   },
   {
    "duration": 596,
    "start_time": "2022-07-17T09:21:25.625Z"
   },
   {
    "duration": 6,
    "start_time": "2022-07-17T09:21:44.524Z"
   },
   {
    "duration": 17,
    "start_time": "2022-07-17T09:21:49.017Z"
   },
   {
    "duration": 25,
    "start_time": "2022-07-17T09:22:22.110Z"
   },
   {
    "duration": 8,
    "start_time": "2022-07-17T09:22:45.191Z"
   },
   {
    "duration": 7,
    "start_time": "2022-07-17T09:23:01.461Z"
   },
   {
    "duration": 8,
    "start_time": "2022-07-17T09:23:06.621Z"
   },
   {
    "duration": 6,
    "start_time": "2022-07-17T09:23:09.973Z"
   },
   {
    "duration": 13,
    "start_time": "2022-07-17T09:23:52.870Z"
   },
   {
    "duration": 4,
    "start_time": "2022-07-17T09:24:00.883Z"
   },
   {
    "duration": 436,
    "start_time": "2022-07-17T09:24:00.891Z"
   },
   {
    "duration": 4,
    "start_time": "2022-07-17T09:24:01.330Z"
   },
   {
    "duration": 169,
    "start_time": "2022-07-17T09:24:01.336Z"
   },
   {
    "duration": 86,
    "start_time": "2022-07-17T09:24:01.507Z"
   },
   {
    "duration": 38,
    "start_time": "2022-07-17T09:24:01.594Z"
   },
   {
    "duration": 10,
    "start_time": "2022-07-17T09:24:01.634Z"
   },
   {
    "duration": 19,
    "start_time": "2022-07-17T09:24:01.647Z"
   },
   {
    "duration": 14,
    "start_time": "2022-07-17T09:24:01.704Z"
   },
   {
    "duration": 278,
    "start_time": "2022-07-17T09:24:01.719Z"
   },
   {
    "duration": 7,
    "start_time": "2022-07-17T09:24:02.004Z"
   },
   {
    "duration": 12,
    "start_time": "2022-07-17T09:24:02.013Z"
   },
   {
    "duration": 288,
    "start_time": "2022-07-17T09:24:02.027Z"
   },
   {
    "duration": 244,
    "start_time": "2022-07-17T09:24:02.317Z"
   },
   {
    "duration": 11,
    "start_time": "2022-07-17T09:24:02.563Z"
   },
   {
    "duration": 33,
    "start_time": "2022-07-17T09:24:02.576Z"
   },
   {
    "duration": 19,
    "start_time": "2022-07-17T09:24:02.611Z"
   },
   {
    "duration": 16,
    "start_time": "2022-07-17T09:24:02.632Z"
   },
   {
    "duration": 17,
    "start_time": "2022-07-17T09:24:02.650Z"
   },
   {
    "duration": 51,
    "start_time": "2022-07-17T09:24:02.669Z"
   },
   {
    "duration": 7,
    "start_time": "2022-07-17T09:24:02.721Z"
   },
   {
    "duration": 286,
    "start_time": "2022-07-17T09:24:02.729Z"
   },
   {
    "duration": 3,
    "start_time": "2022-07-17T09:24:03.018Z"
   },
   {
    "duration": 14,
    "start_time": "2022-07-17T09:24:03.024Z"
   },
   {
    "duration": 19,
    "start_time": "2022-07-17T09:24:03.039Z"
   },
   {
    "duration": 303,
    "start_time": "2022-07-17T09:24:03.060Z"
   },
   {
    "duration": 8,
    "start_time": "2022-07-17T09:24:03.366Z"
   },
   {
    "duration": 29,
    "start_time": "2022-07-17T09:24:03.376Z"
   },
   {
    "duration": 9,
    "start_time": "2022-07-17T09:24:03.408Z"
   },
   {
    "duration": 12,
    "start_time": "2022-07-17T09:24:03.418Z"
   },
   {
    "duration": 13,
    "start_time": "2022-07-17T09:24:03.432Z"
   },
   {
    "duration": 6,
    "start_time": "2022-07-17T09:24:03.447Z"
   },
   {
    "duration": 18,
    "start_time": "2022-07-17T09:24:03.455Z"
   },
   {
    "duration": 14,
    "start_time": "2022-07-17T09:24:03.474Z"
   },
   {
    "duration": 30,
    "start_time": "2022-07-17T09:24:03.489Z"
   },
   {
    "duration": 11,
    "start_time": "2022-07-17T09:24:19.973Z"
   },
   {
    "duration": 7,
    "start_time": "2022-07-17T09:24:35.769Z"
   },
   {
    "duration": 13,
    "start_time": "2022-07-17T09:24:55.265Z"
   },
   {
    "duration": 11,
    "start_time": "2022-07-17T09:25:12.897Z"
   },
   {
    "duration": 4,
    "start_time": "2022-07-17T09:25:19.189Z"
   },
   {
    "duration": 235,
    "start_time": "2022-07-17T09:25:19.198Z"
   },
   {
    "duration": 4,
    "start_time": "2022-07-17T09:25:19.435Z"
   },
   {
    "duration": 99,
    "start_time": "2022-07-17T09:25:19.441Z"
   },
   {
    "duration": 85,
    "start_time": "2022-07-17T09:25:19.542Z"
   },
   {
    "duration": 38,
    "start_time": "2022-07-17T09:25:19.629Z"
   },
   {
    "duration": 43,
    "start_time": "2022-07-17T09:25:19.669Z"
   },
   {
    "duration": 19,
    "start_time": "2022-07-17T09:25:19.714Z"
   },
   {
    "duration": 14,
    "start_time": "2022-07-17T09:25:19.735Z"
   },
   {
    "duration": 309,
    "start_time": "2022-07-17T09:25:19.751Z"
   },
   {
    "duration": 7,
    "start_time": "2022-07-17T09:25:20.063Z"
   },
   {
    "duration": 7,
    "start_time": "2022-07-17T09:25:20.072Z"
   },
   {
    "duration": 975,
    "start_time": "2022-07-17T09:25:20.081Z"
   },
   {
    "duration": 285,
    "start_time": "2022-07-17T09:25:21.058Z"
   },
   {
    "duration": 12,
    "start_time": "2022-07-17T09:25:21.345Z"
   },
   {
    "duration": 22,
    "start_time": "2022-07-17T09:25:21.358Z"
   },
   {
    "duration": 25,
    "start_time": "2022-07-17T09:25:21.382Z"
   },
   {
    "duration": 4,
    "start_time": "2022-07-17T09:25:21.409Z"
   },
   {
    "duration": 8,
    "start_time": "2022-07-17T09:25:21.415Z"
   },
   {
    "duration": 33,
    "start_time": "2022-07-17T09:25:21.425Z"
   },
   {
    "duration": 6,
    "start_time": "2022-07-17T09:25:21.460Z"
   },
   {
    "duration": 301,
    "start_time": "2022-07-17T09:25:21.468Z"
   },
   {
    "duration": 4,
    "start_time": "2022-07-17T09:25:21.771Z"
   },
   {
    "duration": 12,
    "start_time": "2022-07-17T09:25:21.776Z"
   },
   {
    "duration": 15,
    "start_time": "2022-07-17T09:25:21.790Z"
   },
   {
    "duration": 312,
    "start_time": "2022-07-17T09:25:21.808Z"
   },
   {
    "duration": 7,
    "start_time": "2022-07-17T09:25:22.122Z"
   },
   {
    "duration": 23,
    "start_time": "2022-07-17T09:25:22.131Z"
   },
   {
    "duration": 10,
    "start_time": "2022-07-17T09:25:22.157Z"
   },
   {
    "duration": 12,
    "start_time": "2022-07-17T09:25:22.169Z"
   },
   {
    "duration": 8,
    "start_time": "2022-07-17T09:25:22.205Z"
   },
   {
    "duration": 6,
    "start_time": "2022-07-17T09:25:22.215Z"
   },
   {
    "duration": 10,
    "start_time": "2022-07-17T09:25:22.223Z"
   },
   {
    "duration": 7,
    "start_time": "2022-07-17T09:25:22.234Z"
   },
   {
    "duration": 15,
    "start_time": "2022-07-17T09:25:22.243Z"
   },
   {
    "duration": 17,
    "start_time": "2022-07-17T09:34:56.105Z"
   },
   {
    "duration": 15,
    "start_time": "2022-07-17T09:35:21.410Z"
   },
   {
    "duration": 20,
    "start_time": "2022-07-17T09:35:33.851Z"
   },
   {
    "duration": 15,
    "start_time": "2022-07-17T09:35:38.576Z"
   },
   {
    "duration": 13,
    "start_time": "2022-07-17T09:35:53.672Z"
   },
   {
    "duration": 23,
    "start_time": "2022-07-17T09:36:31.193Z"
   },
   {
    "duration": 19,
    "start_time": "2022-07-17T09:36:42.588Z"
   },
   {
    "duration": 12,
    "start_time": "2022-07-17T09:37:02.810Z"
   },
   {
    "duration": 4,
    "start_time": "2022-07-17T10:02:13.358Z"
   },
   {
    "duration": 255,
    "start_time": "2022-07-17T10:02:13.364Z"
   },
   {
    "duration": 3,
    "start_time": "2022-07-17T10:02:13.621Z"
   },
   {
    "duration": 86,
    "start_time": "2022-07-17T10:02:13.625Z"
   },
   {
    "duration": 57,
    "start_time": "2022-07-17T10:02:13.713Z"
   },
   {
    "duration": 58,
    "start_time": "2022-07-17T10:02:13.772Z"
   },
   {
    "duration": 10,
    "start_time": "2022-07-17T10:02:13.832Z"
   },
   {
    "duration": 24,
    "start_time": "2022-07-17T10:02:13.843Z"
   },
   {
    "duration": 15,
    "start_time": "2022-07-17T10:02:13.904Z"
   },
   {
    "duration": 294,
    "start_time": "2022-07-17T10:02:13.920Z"
   },
   {
    "duration": 9,
    "start_time": "2022-07-17T10:02:14.217Z"
   },
   {
    "duration": 31,
    "start_time": "2022-07-17T10:02:14.228Z"
   },
   {
    "duration": 305,
    "start_time": "2022-07-17T10:02:14.261Z"
   },
   {
    "duration": 249,
    "start_time": "2022-07-17T10:02:14.568Z"
   },
   {
    "duration": 11,
    "start_time": "2022-07-17T10:02:14.819Z"
   },
   {
    "duration": 22,
    "start_time": "2022-07-17T10:02:14.832Z"
   },
   {
    "duration": 27,
    "start_time": "2022-07-17T10:02:14.856Z"
   },
   {
    "duration": 13,
    "start_time": "2022-07-17T10:02:14.885Z"
   },
   {
    "duration": 16,
    "start_time": "2022-07-17T10:02:14.900Z"
   },
   {
    "duration": 40,
    "start_time": "2022-07-17T10:02:14.918Z"
   },
   {
    "duration": 15,
    "start_time": "2022-07-17T10:02:14.960Z"
   },
   {
    "duration": 282,
    "start_time": "2022-07-17T10:02:14.976Z"
   },
   {
    "duration": 4,
    "start_time": "2022-07-17T10:02:15.260Z"
   },
   {
    "duration": 9,
    "start_time": "2022-07-17T10:02:15.265Z"
   },
   {
    "duration": 6,
    "start_time": "2022-07-17T10:02:15.276Z"
   },
   {
    "duration": 297,
    "start_time": "2022-07-17T10:02:15.283Z"
   },
   {
    "duration": 8,
    "start_time": "2022-07-17T10:02:15.582Z"
   },
   {
    "duration": 6,
    "start_time": "2022-07-17T10:03:46.685Z"
   },
   {
    "duration": 12,
    "start_time": "2022-07-17T10:03:53.226Z"
   },
   {
    "duration": 7,
    "start_time": "2022-07-17T10:03:59.201Z"
   },
   {
    "duration": 11,
    "start_time": "2022-07-17T10:04:38.175Z"
   },
   {
    "duration": 6,
    "start_time": "2022-07-17T10:04:54.738Z"
   },
   {
    "duration": 9,
    "start_time": "2022-07-17T10:04:59.375Z"
   },
   {
    "duration": 32,
    "start_time": "2022-07-17T10:05:50.908Z"
   },
   {
    "duration": 31,
    "start_time": "2022-07-17T10:06:01.889Z"
   },
   {
    "duration": 12,
    "start_time": "2022-07-17T10:06:20.888Z"
   },
   {
    "duration": 21,
    "start_time": "2022-07-17T10:07:24.504Z"
   },
   {
    "duration": 4,
    "start_time": "2022-07-17T10:08:44.921Z"
   },
   {
    "duration": 5,
    "start_time": "2022-07-17T10:08:48.150Z"
   },
   {
    "duration": 16,
    "start_time": "2022-07-17T10:09:26.550Z"
   },
   {
    "duration": 4,
    "start_time": "2022-07-17T10:10:23.479Z"
   },
   {
    "duration": 263,
    "start_time": "2022-07-17T10:10:23.488Z"
   },
   {
    "duration": 4,
    "start_time": "2022-07-17T10:10:23.754Z"
   },
   {
    "duration": 88,
    "start_time": "2022-07-17T10:10:23.760Z"
   },
   {
    "duration": 69,
    "start_time": "2022-07-17T10:10:23.850Z"
   },
   {
    "duration": 41,
    "start_time": "2022-07-17T10:10:23.921Z"
   },
   {
    "duration": 14,
    "start_time": "2022-07-17T10:10:23.964Z"
   },
   {
    "duration": 42,
    "start_time": "2022-07-17T10:10:23.981Z"
   },
   {
    "duration": 21,
    "start_time": "2022-07-17T10:10:24.025Z"
   },
   {
    "duration": 459,
    "start_time": "2022-07-17T10:10:24.049Z"
   },
   {
    "duration": 11,
    "start_time": "2022-07-17T10:10:24.512Z"
   },
   {
    "duration": 36,
    "start_time": "2022-07-17T10:10:24.525Z"
   },
   {
    "duration": 508,
    "start_time": "2022-07-17T10:10:24.563Z"
   },
   {
    "duration": 292,
    "start_time": "2022-07-17T10:10:25.073Z"
   },
   {
    "duration": 12,
    "start_time": "2022-07-17T10:10:25.367Z"
   },
   {
    "duration": 41,
    "start_time": "2022-07-17T10:10:25.381Z"
   },
   {
    "duration": 26,
    "start_time": "2022-07-17T10:10:25.424Z"
   },
   {
    "duration": 13,
    "start_time": "2022-07-17T10:10:25.452Z"
   },
   {
    "duration": 22,
    "start_time": "2022-07-17T10:10:25.467Z"
   },
   {
    "duration": 46,
    "start_time": "2022-07-17T10:10:25.490Z"
   },
   {
    "duration": 20,
    "start_time": "2022-07-17T10:10:25.538Z"
   },
   {
    "duration": 294,
    "start_time": "2022-07-17T10:10:25.561Z"
   },
   {
    "duration": 4,
    "start_time": "2022-07-17T10:10:25.857Z"
   },
   {
    "duration": 13,
    "start_time": "2022-07-17T10:10:25.863Z"
   },
   {
    "duration": 13,
    "start_time": "2022-07-17T10:10:25.878Z"
   },
   {
    "duration": 338,
    "start_time": "2022-07-17T10:10:25.893Z"
   },
   {
    "duration": 8,
    "start_time": "2022-07-17T10:10:26.234Z"
   },
   {
    "duration": 16,
    "start_time": "2022-07-17T10:10:26.243Z"
   },
   {
    "duration": 3,
    "start_time": "2022-07-17T10:10:26.262Z"
   },
   {
    "duration": 14,
    "start_time": "2022-07-17T10:10:36.622Z"
   },
   {
    "duration": 11,
    "start_time": "2022-07-17T10:10:43.774Z"
   },
   {
    "duration": 4,
    "start_time": "2022-07-17T10:11:00.150Z"
   },
   {
    "duration": 285,
    "start_time": "2022-07-17T10:11:00.164Z"
   },
   {
    "duration": 4,
    "start_time": "2022-07-17T10:11:00.452Z"
   },
   {
    "duration": 92,
    "start_time": "2022-07-17T10:11:00.458Z"
   },
   {
    "duration": 94,
    "start_time": "2022-07-17T10:11:00.553Z"
   },
   {
    "duration": 67,
    "start_time": "2022-07-17T10:11:00.649Z"
   },
   {
    "duration": 13,
    "start_time": "2022-07-17T10:11:00.717Z"
   },
   {
    "duration": 29,
    "start_time": "2022-07-17T10:11:00.732Z"
   },
   {
    "duration": 19,
    "start_time": "2022-07-17T10:11:00.763Z"
   },
   {
    "duration": 291,
    "start_time": "2022-07-17T10:11:00.784Z"
   },
   {
    "duration": 7,
    "start_time": "2022-07-17T10:11:01.078Z"
   },
   {
    "duration": 22,
    "start_time": "2022-07-17T10:11:01.087Z"
   },
   {
    "duration": 290,
    "start_time": "2022-07-17T10:11:01.121Z"
   },
   {
    "duration": 278,
    "start_time": "2022-07-17T10:11:01.413Z"
   },
   {
    "duration": 22,
    "start_time": "2022-07-17T10:11:01.693Z"
   },
   {
    "duration": 21,
    "start_time": "2022-07-17T10:11:01.717Z"
   },
   {
    "duration": 19,
    "start_time": "2022-07-17T10:11:01.740Z"
   },
   {
    "duration": 5,
    "start_time": "2022-07-17T10:11:01.760Z"
   },
   {
    "duration": 7,
    "start_time": "2022-07-17T10:11:01.766Z"
   },
   {
    "duration": 45,
    "start_time": "2022-07-17T10:11:01.775Z"
   },
   {
    "duration": 7,
    "start_time": "2022-07-17T10:11:01.821Z"
   },
   {
    "duration": 289,
    "start_time": "2022-07-17T10:11:01.830Z"
   },
   {
    "duration": 4,
    "start_time": "2022-07-17T10:11:02.122Z"
   },
   {
    "duration": 10,
    "start_time": "2022-07-17T10:11:02.128Z"
   },
   {
    "duration": 11,
    "start_time": "2022-07-17T10:11:02.140Z"
   },
   {
    "duration": 314,
    "start_time": "2022-07-17T10:11:02.154Z"
   },
   {
    "duration": 8,
    "start_time": "2022-07-17T10:11:02.470Z"
   },
   {
    "duration": 40,
    "start_time": "2022-07-17T10:11:02.479Z"
   },
   {
    "duration": 3,
    "start_time": "2022-07-17T10:11:02.523Z"
   },
   {
    "duration": 11,
    "start_time": "2022-07-17T10:11:02.527Z"
   },
   {
    "duration": 15,
    "start_time": "2022-07-17T10:12:02.217Z"
   },
   {
    "duration": 12,
    "start_time": "2022-07-17T10:12:08.324Z"
   },
   {
    "duration": 13,
    "start_time": "2022-07-17T10:12:39.450Z"
   },
   {
    "duration": 8,
    "start_time": "2022-07-17T10:12:50.754Z"
   },
   {
    "duration": 17,
    "start_time": "2022-07-17T10:13:15.506Z"
   },
   {
    "duration": 5,
    "start_time": "2022-07-17T10:14:49.780Z"
   },
   {
    "duration": 268,
    "start_time": "2022-07-17T10:14:49.788Z"
   },
   {
    "duration": 4,
    "start_time": "2022-07-17T10:14:50.058Z"
   },
   {
    "duration": 108,
    "start_time": "2022-07-17T10:14:50.065Z"
   },
   {
    "duration": 112,
    "start_time": "2022-07-17T10:14:50.175Z"
   },
   {
    "duration": 56,
    "start_time": "2022-07-17T10:14:50.290Z"
   },
   {
    "duration": 10,
    "start_time": "2022-07-17T10:14:50.348Z"
   },
   {
    "duration": 60,
    "start_time": "2022-07-17T10:14:50.360Z"
   },
   {
    "duration": 24,
    "start_time": "2022-07-17T10:14:50.424Z"
   },
   {
    "duration": 278,
    "start_time": "2022-07-17T10:14:50.450Z"
   },
   {
    "duration": 9,
    "start_time": "2022-07-17T10:14:50.729Z"
   },
   {
    "duration": 15,
    "start_time": "2022-07-17T10:14:50.741Z"
   },
   {
    "duration": 301,
    "start_time": "2022-07-17T10:14:50.759Z"
   },
   {
    "duration": 294,
    "start_time": "2022-07-17T10:14:51.062Z"
   },
   {
    "duration": 13,
    "start_time": "2022-07-17T10:14:51.358Z"
   },
   {
    "duration": 46,
    "start_time": "2022-07-17T10:14:51.374Z"
   },
   {
    "duration": 32,
    "start_time": "2022-07-17T10:14:51.422Z"
   },
   {
    "duration": 5,
    "start_time": "2022-07-17T10:14:51.456Z"
   },
   {
    "duration": 34,
    "start_time": "2022-07-17T10:14:51.463Z"
   },
   {
    "duration": 50,
    "start_time": "2022-07-17T10:14:51.499Z"
   },
   {
    "duration": 8,
    "start_time": "2022-07-17T10:14:51.551Z"
   },
   {
    "duration": 315,
    "start_time": "2022-07-17T10:14:51.561Z"
   },
   {
    "duration": 4,
    "start_time": "2022-07-17T10:14:51.878Z"
   },
   {
    "duration": 95,
    "start_time": "2022-07-17T10:14:51.887Z"
   },
   {
    "duration": 73,
    "start_time": "2022-07-17T10:14:51.985Z"
   },
   {
    "duration": 446,
    "start_time": "2022-07-17T10:14:52.060Z"
   },
   {
    "duration": 13,
    "start_time": "2022-07-17T10:14:52.514Z"
   },
   {
    "duration": 49,
    "start_time": "2022-07-17T10:14:52.529Z"
   },
   {
    "duration": 13,
    "start_time": "2022-07-17T10:14:52.580Z"
   },
   {
    "duration": 45,
    "start_time": "2022-07-17T10:14:52.595Z"
   },
   {
    "duration": 58,
    "start_time": "2022-07-17T10:14:52.641Z"
   },
   {
    "duration": 43,
    "start_time": "2022-07-17T10:14:52.701Z"
   },
   {
    "duration": 26,
    "start_time": "2022-07-17T10:14:52.746Z"
   },
   {
    "duration": 29,
    "start_time": "2022-07-17T10:14:52.773Z"
   },
   {
    "duration": 35,
    "start_time": "2022-07-17T10:14:52.804Z"
   },
   {
    "duration": 32,
    "start_time": "2022-07-17T10:14:52.842Z"
   },
   {
    "duration": 74,
    "start_time": "2022-07-17T10:14:52.876Z"
   },
   {
    "duration": 33,
    "start_time": "2022-07-17T10:14:52.952Z"
   },
   {
    "duration": 1107,
    "start_time": "2022-07-17T10:14:52.987Z"
   },
   {
    "duration": 19,
    "start_time": "2022-07-17T10:14:54.095Z"
   },
   {
    "duration": 22,
    "start_time": "2022-07-17T10:14:54.123Z"
   },
   {
    "duration": 47,
    "start_time": "2022-07-17T10:14:54.147Z"
   },
   {
    "duration": 819,
    "start_time": "2022-07-17T10:14:54.196Z"
   },
   {
    "duration": 15,
    "start_time": "2022-07-17T10:14:55.021Z"
   },
   {
    "duration": 2382,
    "start_time": "2022-07-17T10:14:55.038Z"
   },
   {
    "duration": 1012,
    "start_time": "2022-07-17T10:14:57.422Z"
   },
   {
    "duration": 18,
    "start_time": "2022-07-17T10:14:58.437Z"
   },
   {
    "duration": 11,
    "start_time": "2022-07-17T10:14:58.457Z"
   },
   {
    "duration": 9,
    "start_time": "2022-07-17T10:14:58.470Z"
   },
   {
    "duration": 52,
    "start_time": "2022-07-17T10:14:58.481Z"
   },
   {
    "duration": 2262,
    "start_time": "2022-07-17T10:14:58.535Z"
   },
   {
    "duration": 996,
    "start_time": "2022-07-17T10:15:00.799Z"
   },
   {
    "duration": 21,
    "start_time": "2022-07-17T10:15:01.797Z"
   },
   {
    "duration": 19,
    "start_time": "2022-07-17T10:15:01.823Z"
   },
   {
    "duration": 21,
    "start_time": "2022-07-17T10:15:01.844Z"
   },
   {
    "duration": 66,
    "start_time": "2022-07-17T10:15:01.867Z"
   },
   {
    "duration": 392,
    "start_time": "2022-07-17T10:15:01.935Z"
   },
   {
    "duration": 515,
    "start_time": "2022-07-17T10:15:13.168Z"
   },
   {
    "duration": 8,
    "start_time": "2022-07-17T10:15:31.321Z"
   },
   {
    "duration": 692,
    "start_time": "2022-07-17T10:15:37.372Z"
   },
   {
    "duration": 13,
    "start_time": "2022-07-17T10:18:26.860Z"
   },
   {
    "duration": 5,
    "start_time": "2022-07-17T10:19:39.470Z"
   },
   {
    "duration": 240,
    "start_time": "2022-07-17T10:19:39.484Z"
   },
   {
    "duration": 5,
    "start_time": "2022-07-17T10:19:39.726Z"
   },
   {
    "duration": 95,
    "start_time": "2022-07-17T10:19:39.733Z"
   },
   {
    "duration": 93,
    "start_time": "2022-07-17T10:19:39.831Z"
   },
   {
    "duration": 79,
    "start_time": "2022-07-17T10:19:39.926Z"
   },
   {
    "duration": 18,
    "start_time": "2022-07-17T10:19:40.007Z"
   },
   {
    "duration": 26,
    "start_time": "2022-07-17T10:19:40.028Z"
   },
   {
    "duration": 20,
    "start_time": "2022-07-17T10:19:40.056Z"
   },
   {
    "duration": 337,
    "start_time": "2022-07-17T10:19:40.078Z"
   },
   {
    "duration": 10,
    "start_time": "2022-07-17T10:19:40.418Z"
   },
   {
    "duration": 24,
    "start_time": "2022-07-17T10:19:40.431Z"
   },
   {
    "duration": 313,
    "start_time": "2022-07-17T10:19:40.456Z"
   },
   {
    "duration": 289,
    "start_time": "2022-07-17T10:19:40.771Z"
   },
   {
    "duration": 11,
    "start_time": "2022-07-17T10:19:41.063Z"
   },
   {
    "duration": 22,
    "start_time": "2022-07-17T10:19:41.076Z"
   },
   {
    "duration": 26,
    "start_time": "2022-07-17T10:19:41.109Z"
   },
   {
    "duration": 3,
    "start_time": "2022-07-17T10:19:41.137Z"
   },
   {
    "duration": 9,
    "start_time": "2022-07-17T10:19:41.142Z"
   },
   {
    "duration": 43,
    "start_time": "2022-07-17T10:19:41.153Z"
   },
   {
    "duration": 16,
    "start_time": "2022-07-17T10:19:41.198Z"
   },
   {
    "duration": 298,
    "start_time": "2022-07-17T10:19:41.216Z"
   },
   {
    "duration": 4,
    "start_time": "2022-07-17T10:19:41.522Z"
   },
   {
    "duration": 12,
    "start_time": "2022-07-17T10:19:41.528Z"
   },
   {
    "duration": 8,
    "start_time": "2022-07-17T10:19:41.542Z"
   },
   {
    "duration": 322,
    "start_time": "2022-07-17T10:19:41.551Z"
   },
   {
    "duration": 8,
    "start_time": "2022-07-17T10:19:41.875Z"
   },
   {
    "duration": 32,
    "start_time": "2022-07-17T10:19:41.885Z"
   },
   {
    "duration": 9,
    "start_time": "2022-07-17T10:19:41.922Z"
   },
   {
    "duration": 10,
    "start_time": "2022-07-17T10:19:41.932Z"
   },
   {
    "duration": 18,
    "start_time": "2022-07-17T10:19:41.943Z"
   },
   {
    "duration": 13,
    "start_time": "2022-07-17T10:19:41.963Z"
   },
   {
    "duration": 38,
    "start_time": "2022-07-17T10:19:41.978Z"
   },
   {
    "duration": 11,
    "start_time": "2022-07-17T10:19:42.021Z"
   },
   {
    "duration": 12,
    "start_time": "2022-07-17T10:19:42.033Z"
   },
   {
    "duration": 16,
    "start_time": "2022-07-17T10:19:42.046Z"
   },
   {
    "duration": 21,
    "start_time": "2022-07-17T10:19:42.064Z"
   },
   {
    "duration": 9,
    "start_time": "2022-07-17T10:19:42.087Z"
   },
   {
    "duration": 311,
    "start_time": "2022-07-17T10:19:42.098Z"
   },
   {
    "duration": 5,
    "start_time": "2022-07-17T10:19:42.417Z"
   },
   {
    "duration": 9,
    "start_time": "2022-07-17T10:19:42.424Z"
   },
   {
    "duration": 31,
    "start_time": "2022-07-17T10:19:42.434Z"
   },
   {
    "duration": 803,
    "start_time": "2022-07-17T10:19:42.467Z"
   },
   {
    "duration": 14,
    "start_time": "2022-07-17T10:19:43.271Z"
   },
   {
    "duration": 3361,
    "start_time": "2022-07-17T10:19:43.287Z"
   },
   {
    "duration": 1026,
    "start_time": "2022-07-17T10:19:46.650Z"
   },
   {
    "duration": 33,
    "start_time": "2022-07-17T10:19:47.678Z"
   },
   {
    "duration": 19,
    "start_time": "2022-07-17T10:19:47.718Z"
   },
   {
    "duration": 18,
    "start_time": "2022-07-17T10:19:47.740Z"
   },
   {
    "duration": 20,
    "start_time": "2022-07-17T10:19:47.759Z"
   },
   {
    "duration": 2193,
    "start_time": "2022-07-17T10:19:47.782Z"
   },
   {
    "duration": 971,
    "start_time": "2022-07-17T10:19:49.977Z"
   },
   {
    "duration": 5,
    "start_time": "2022-07-17T10:19:50.949Z"
   },
   {
    "duration": 15,
    "start_time": "2022-07-17T10:19:50.956Z"
   },
   {
    "duration": 32,
    "start_time": "2022-07-17T10:19:50.973Z"
   },
   {
    "duration": 56,
    "start_time": "2022-07-17T10:19:51.011Z"
   },
   {
    "duration": 489,
    "start_time": "2022-07-17T10:19:51.070Z"
   },
   {
    "duration": 598,
    "start_time": "2022-07-17T10:20:28.892Z"
   },
   {
    "duration": 391945,
    "start_time": "2022-07-17T10:21:04.822Z"
   },
   {
    "duration": 443,
    "start_time": "2022-07-17T10:32:11.085Z"
   },
   {
    "duration": 12,
    "start_time": "2022-07-17T10:32:51.749Z"
   },
   {
    "duration": 381,
    "start_time": "2022-07-17T10:32:56.890Z"
   },
   {
    "duration": 10,
    "start_time": "2022-07-17T10:33:11.154Z"
   },
   {
    "duration": 275919,
    "start_time": "2022-07-17T10:33:43.924Z"
   },
   {
    "duration": 513487,
    "start_time": "2022-07-17T10:39:08.996Z"
   },
   {
    "duration": 1011,
    "start_time": "2022-07-17T10:51:14.417Z"
   },
   {
    "duration": 1356,
    "start_time": "2022-07-17T10:51:23.760Z"
   },
   {
    "duration": 1617,
    "start_time": "2022-07-17T10:51:37.237Z"
   },
   {
    "duration": 1150,
    "start_time": "2022-07-17T10:51:44.807Z"
   },
   {
    "duration": 754,
    "start_time": "2022-07-17T10:51:52.643Z"
   },
   {
    "duration": 1267,
    "start_time": "2022-07-17T10:51:57.876Z"
   },
   {
    "duration": 1185,
    "start_time": "2022-07-17T10:52:01.976Z"
   },
   {
    "duration": 1194,
    "start_time": "2022-07-17T10:52:07.156Z"
   },
   {
    "duration": 1750,
    "start_time": "2022-07-17T10:52:13.522Z"
   },
   {
    "duration": 2120,
    "start_time": "2022-07-17T10:52:18.189Z"
   },
   {
    "duration": 2346,
    "start_time": "2022-07-17T10:52:24.897Z"
   },
   {
    "duration": 2234,
    "start_time": "2022-07-17T10:52:31.536Z"
   },
   {
    "duration": 767,
    "start_time": "2022-07-17T10:52:46.998Z"
   },
   {
    "duration": 6,
    "start_time": "2022-07-17T10:54:40.193Z"
   },
   {
    "duration": 253,
    "start_time": "2022-07-17T10:54:40.201Z"
   },
   {
    "duration": 4,
    "start_time": "2022-07-17T10:54:40.456Z"
   },
   {
    "duration": 104,
    "start_time": "2022-07-17T10:54:40.462Z"
   },
   {
    "duration": 118,
    "start_time": "2022-07-17T10:54:40.568Z"
   },
   {
    "duration": 53,
    "start_time": "2022-07-17T10:54:40.703Z"
   },
   {
    "duration": 51,
    "start_time": "2022-07-17T10:54:40.758Z"
   },
   {
    "duration": 28,
    "start_time": "2022-07-17T10:54:40.812Z"
   },
   {
    "duration": 21,
    "start_time": "2022-07-17T10:54:40.843Z"
   },
   {
    "duration": 328,
    "start_time": "2022-07-17T10:54:40.904Z"
   },
   {
    "duration": 11,
    "start_time": "2022-07-17T10:54:41.235Z"
   },
   {
    "duration": 10,
    "start_time": "2022-07-17T10:54:41.248Z"
   },
   {
    "duration": 316,
    "start_time": "2022-07-17T10:54:41.260Z"
   },
   {
    "duration": 284,
    "start_time": "2022-07-17T10:54:41.579Z"
   },
   {
    "duration": 14,
    "start_time": "2022-07-17T10:54:41.865Z"
   },
   {
    "duration": 37,
    "start_time": "2022-07-17T10:54:41.881Z"
   },
   {
    "duration": 19,
    "start_time": "2022-07-17T10:54:41.921Z"
   },
   {
    "duration": 5,
    "start_time": "2022-07-17T10:54:41.942Z"
   },
   {
    "duration": 9,
    "start_time": "2022-07-17T10:54:41.949Z"
   },
   {
    "duration": 75,
    "start_time": "2022-07-17T10:54:41.960Z"
   },
   {
    "duration": 8,
    "start_time": "2022-07-17T10:54:42.038Z"
   },
   {
    "duration": 320,
    "start_time": "2022-07-17T10:54:42.048Z"
   },
   {
    "duration": 5,
    "start_time": "2022-07-17T10:54:42.370Z"
   },
   {
    "duration": 25,
    "start_time": "2022-07-17T10:54:42.378Z"
   },
   {
    "duration": 4,
    "start_time": "2022-07-17T10:54:42.406Z"
   },
   {
    "duration": 351,
    "start_time": "2022-07-17T10:54:42.413Z"
   },
   {
    "duration": 8,
    "start_time": "2022-07-17T10:54:42.767Z"
   },
   {
    "duration": 33,
    "start_time": "2022-07-17T10:54:42.780Z"
   },
   {
    "duration": 3,
    "start_time": "2022-07-17T10:54:42.816Z"
   },
   {
    "duration": 15,
    "start_time": "2022-07-17T10:54:42.821Z"
   },
   {
    "duration": 21,
    "start_time": "2022-07-17T10:54:42.838Z"
   },
   {
    "duration": 11,
    "start_time": "2022-07-17T10:54:42.861Z"
   },
   {
    "duration": 15,
    "start_time": "2022-07-17T10:54:42.905Z"
   },
   {
    "duration": 7,
    "start_time": "2022-07-17T10:54:42.923Z"
   },
   {
    "duration": 14,
    "start_time": "2022-07-17T10:54:42.932Z"
   },
   {
    "duration": 9,
    "start_time": "2022-07-17T10:54:42.949Z"
   },
   {
    "duration": 44,
    "start_time": "2022-07-17T10:54:42.960Z"
   },
   {
    "duration": 7,
    "start_time": "2022-07-17T10:54:43.006Z"
   },
   {
    "duration": 335,
    "start_time": "2022-07-17T10:54:43.015Z"
   },
   {
    "duration": 5,
    "start_time": "2022-07-17T10:54:43.352Z"
   },
   {
    "duration": 27,
    "start_time": "2022-07-17T10:54:43.359Z"
   },
   {
    "duration": 48,
    "start_time": "2022-07-17T10:54:43.389Z"
   },
   {
    "duration": 809,
    "start_time": "2022-07-17T10:54:43.439Z"
   },
   {
    "duration": 15,
    "start_time": "2022-07-17T10:54:44.250Z"
   },
   {
    "duration": 3493,
    "start_time": "2022-07-17T10:54:44.268Z"
   },
   {
    "duration": 1017,
    "start_time": "2022-07-17T10:54:47.764Z"
   },
   {
    "duration": 30,
    "start_time": "2022-07-17T10:54:48.783Z"
   },
   {
    "duration": 9,
    "start_time": "2022-07-17T10:54:48.814Z"
   },
   {
    "duration": 24,
    "start_time": "2022-07-17T10:54:48.825Z"
   },
   {
    "duration": 8,
    "start_time": "2022-07-17T10:54:48.852Z"
   },
   {
    "duration": 2271,
    "start_time": "2022-07-17T10:54:48.862Z"
   },
   {
    "duration": 946,
    "start_time": "2022-07-17T10:54:51.135Z"
   },
   {
    "duration": 21,
    "start_time": "2022-07-17T10:54:52.083Z"
   },
   {
    "duration": 12,
    "start_time": "2022-07-17T10:54:52.107Z"
   },
   {
    "duration": 19,
    "start_time": "2022-07-17T10:54:52.122Z"
   },
   {
    "duration": 75,
    "start_time": "2022-07-17T10:54:52.146Z"
   },
   {
    "duration": 505,
    "start_time": "2022-07-17T10:54:52.224Z"
   },
   {
    "duration": 774,
    "start_time": "2022-07-17T10:55:08.372Z"
   },
   {
    "duration": 8,
    "start_time": "2022-07-17T11:03:58.981Z"
   },
   {
    "duration": 9,
    "start_time": "2022-07-17T11:04:16.737Z"
   },
   {
    "duration": 5,
    "start_time": "2022-07-17T11:05:19.360Z"
   },
   {
    "duration": 245,
    "start_time": "2022-07-17T11:05:19.367Z"
   },
   {
    "duration": 5,
    "start_time": "2022-07-17T11:05:19.614Z"
   },
   {
    "duration": 113,
    "start_time": "2022-07-17T11:05:19.621Z"
   },
   {
    "duration": 104,
    "start_time": "2022-07-17T11:05:19.736Z"
   },
   {
    "duration": 77,
    "start_time": "2022-07-17T11:05:19.842Z"
   },
   {
    "duration": 11,
    "start_time": "2022-07-17T11:05:19.921Z"
   },
   {
    "duration": 22,
    "start_time": "2022-07-17T11:05:19.934Z"
   },
   {
    "duration": 15,
    "start_time": "2022-07-17T11:05:19.959Z"
   },
   {
    "duration": 332,
    "start_time": "2022-07-17T11:05:20.005Z"
   },
   {
    "duration": 9,
    "start_time": "2022-07-17T11:05:20.340Z"
   },
   {
    "duration": 47,
    "start_time": "2022-07-17T11:05:20.351Z"
   },
   {
    "duration": 305,
    "start_time": "2022-07-17T11:05:20.400Z"
   },
   {
    "duration": 261,
    "start_time": "2022-07-17T11:05:20.707Z"
   },
   {
    "duration": 12,
    "start_time": "2022-07-17T11:05:20.971Z"
   },
   {
    "duration": 33,
    "start_time": "2022-07-17T11:05:20.984Z"
   },
   {
    "duration": 73,
    "start_time": "2022-07-17T11:05:21.019Z"
   },
   {
    "duration": 52,
    "start_time": "2022-07-17T11:05:21.094Z"
   },
   {
    "duration": 95,
    "start_time": "2022-07-17T11:05:21.148Z"
   },
   {
    "duration": 65,
    "start_time": "2022-07-17T11:05:21.245Z"
   },
   {
    "duration": 8,
    "start_time": "2022-07-17T11:05:21.312Z"
   },
   {
    "duration": 304,
    "start_time": "2022-07-17T11:05:21.322Z"
   },
   {
    "duration": 5,
    "start_time": "2022-07-17T11:05:21.629Z"
   },
   {
    "duration": 20,
    "start_time": "2022-07-17T11:05:21.640Z"
   },
   {
    "duration": 14,
    "start_time": "2022-07-17T11:05:21.662Z"
   },
   {
    "duration": 337,
    "start_time": "2022-07-17T11:05:21.677Z"
   },
   {
    "duration": 8,
    "start_time": "2022-07-17T11:05:22.016Z"
   },
   {
    "duration": 21,
    "start_time": "2022-07-17T11:05:22.026Z"
   },
   {
    "duration": 3,
    "start_time": "2022-07-17T11:05:22.049Z"
   },
   {
    "duration": 24,
    "start_time": "2022-07-17T11:05:22.054Z"
   },
   {
    "duration": 35,
    "start_time": "2022-07-17T11:05:22.081Z"
   },
   {
    "duration": 10,
    "start_time": "2022-07-17T11:05:22.118Z"
   },
   {
    "duration": 19,
    "start_time": "2022-07-17T11:05:22.131Z"
   },
   {
    "duration": 26,
    "start_time": "2022-07-17T11:05:22.152Z"
   },
   {
    "duration": 29,
    "start_time": "2022-07-17T11:05:22.180Z"
   },
   {
    "duration": 9,
    "start_time": "2022-07-17T11:05:22.211Z"
   },
   {
    "duration": 30,
    "start_time": "2022-07-17T11:05:22.223Z"
   },
   {
    "duration": 36,
    "start_time": "2022-07-17T11:05:22.255Z"
   },
   {
    "duration": 274,
    "start_time": "2022-07-17T11:05:22.292Z"
   },
   {
    "duration": 4,
    "start_time": "2022-07-17T11:05:22.568Z"
   },
   {
    "duration": 17,
    "start_time": "2022-07-17T11:05:22.574Z"
   },
   {
    "duration": 54,
    "start_time": "2022-07-17T11:05:22.605Z"
   },
   {
    "duration": 846,
    "start_time": "2022-07-17T11:05:22.662Z"
   },
   {
    "duration": 21,
    "start_time": "2022-07-17T11:05:23.510Z"
   },
   {
    "duration": 2323,
    "start_time": "2022-07-17T11:05:23.533Z"
   },
   {
    "duration": 2134,
    "start_time": "2022-07-17T11:05:25.858Z"
   },
   {
    "duration": 18,
    "start_time": "2022-07-17T11:05:28.005Z"
   },
   {
    "duration": 7,
    "start_time": "2022-07-17T11:05:28.025Z"
   },
   {
    "duration": 7,
    "start_time": "2022-07-17T11:05:28.034Z"
   },
   {
    "duration": 8,
    "start_time": "2022-07-17T11:05:28.042Z"
   },
   {
    "duration": 2171,
    "start_time": "2022-07-17T11:05:28.052Z"
   },
   {
    "duration": 921,
    "start_time": "2022-07-17T11:05:30.225Z"
   },
   {
    "duration": 5,
    "start_time": "2022-07-17T11:05:31.148Z"
   },
   {
    "duration": 10,
    "start_time": "2022-07-17T11:05:31.156Z"
   },
   {
    "duration": 15,
    "start_time": "2022-07-17T11:05:31.168Z"
   },
   {
    "duration": 28,
    "start_time": "2022-07-17T11:05:31.205Z"
   },
   {
    "duration": 53,
    "start_time": "2022-07-17T11:05:31.236Z"
   },
   {
    "duration": 390,
    "start_time": "2022-07-17T11:05:31.291Z"
   },
   {
    "duration": 487099,
    "start_time": "2022-07-17T11:05:31.683Z"
   },
   {
    "duration": 726,
    "start_time": "2022-07-17T11:13:38.784Z"
   },
   {
    "duration": 639,
    "start_time": "2022-07-17T11:16:22.626Z"
   },
   {
    "duration": 655,
    "start_time": "2022-07-17T11:16:33.769Z"
   },
   {
    "duration": 619,
    "start_time": "2022-07-17T11:16:51.263Z"
   },
   {
    "duration": 113,
    "start_time": "2022-07-17T11:17:30.721Z"
   },
   {
    "duration": 5,
    "start_time": "2022-07-18T07:03:29.078Z"
   },
   {
    "duration": 319,
    "start_time": "2022-07-18T07:03:29.090Z"
   },
   {
    "duration": 4,
    "start_time": "2022-07-18T07:03:29.412Z"
   },
   {
    "duration": 110,
    "start_time": "2022-07-18T07:03:29.418Z"
   },
   {
    "duration": 100,
    "start_time": "2022-07-18T07:03:29.530Z"
   },
   {
    "duration": 68,
    "start_time": "2022-07-18T07:03:29.632Z"
   },
   {
    "duration": 17,
    "start_time": "2022-07-18T07:03:29.702Z"
   },
   {
    "duration": 73,
    "start_time": "2022-07-18T07:03:29.722Z"
   },
   {
    "duration": 13,
    "start_time": "2022-07-18T07:03:29.796Z"
   },
   {
    "duration": 261,
    "start_time": "2022-07-18T07:03:29.810Z"
   },
   {
    "duration": 10,
    "start_time": "2022-07-18T07:03:30.074Z"
   },
   {
    "duration": 10,
    "start_time": "2022-07-18T07:03:30.085Z"
   },
   {
    "duration": 462,
    "start_time": "2022-07-18T07:03:30.096Z"
   },
   {
    "duration": 333,
    "start_time": "2022-07-18T07:03:30.559Z"
   },
   {
    "duration": 11,
    "start_time": "2022-07-18T07:03:30.895Z"
   },
   {
    "duration": 37,
    "start_time": "2022-07-18T07:03:30.908Z"
   },
   {
    "duration": 55,
    "start_time": "2022-07-18T07:03:30.948Z"
   },
   {
    "duration": 18,
    "start_time": "2022-07-18T07:03:31.004Z"
   },
   {
    "duration": 55,
    "start_time": "2022-07-18T07:03:31.024Z"
   },
   {
    "duration": 56,
    "start_time": "2022-07-18T07:03:31.082Z"
   },
   {
    "duration": 7,
    "start_time": "2022-07-18T07:03:31.140Z"
   },
   {
    "duration": 314,
    "start_time": "2022-07-18T07:03:31.149Z"
   },
   {
    "duration": 12,
    "start_time": "2022-07-18T07:03:31.464Z"
   },
   {
    "duration": 27,
    "start_time": "2022-07-18T07:03:31.477Z"
   },
   {
    "duration": 15,
    "start_time": "2022-07-18T07:03:31.505Z"
   },
   {
    "duration": 319,
    "start_time": "2022-07-18T07:03:31.522Z"
   },
   {
    "duration": 8,
    "start_time": "2022-07-18T07:03:31.843Z"
   },
   {
    "duration": 23,
    "start_time": "2022-07-18T07:03:31.862Z"
   },
   {
    "duration": 11,
    "start_time": "2022-07-18T07:03:31.887Z"
   },
   {
    "duration": 13,
    "start_time": "2022-07-18T07:03:31.900Z"
   },
   {
    "duration": 25,
    "start_time": "2022-07-18T07:03:31.915Z"
   },
   {
    "duration": 32,
    "start_time": "2022-07-18T07:03:31.942Z"
   },
   {
    "duration": 48,
    "start_time": "2022-07-18T07:03:31.977Z"
   },
   {
    "duration": 18,
    "start_time": "2022-07-18T07:03:32.027Z"
   },
   {
    "duration": 15,
    "start_time": "2022-07-18T07:05:00.911Z"
   },
   {
    "duration": 7,
    "start_time": "2022-07-18T07:05:19.587Z"
   },
   {
    "duration": 1591,
    "start_time": "2022-07-18T07:06:13.233Z"
   },
   {
    "duration": 306,
    "start_time": "2022-07-18T07:06:14.826Z"
   },
   {
    "duration": 2,
    "start_time": "2022-07-18T07:06:15.134Z"
   },
   {
    "duration": 84,
    "start_time": "2022-07-18T07:06:15.138Z"
   },
   {
    "duration": 93,
    "start_time": "2022-07-18T07:06:15.224Z"
   },
   {
    "duration": 68,
    "start_time": "2022-07-18T07:06:15.320Z"
   },
   {
    "duration": 10,
    "start_time": "2022-07-18T07:06:15.390Z"
   },
   {
    "duration": 17,
    "start_time": "2022-07-18T07:06:15.401Z"
   },
   {
    "duration": 56,
    "start_time": "2022-07-18T07:06:15.421Z"
   },
   {
    "duration": 325,
    "start_time": "2022-07-18T07:06:15.479Z"
   },
   {
    "duration": 8,
    "start_time": "2022-07-18T07:06:15.806Z"
   },
   {
    "duration": 18,
    "start_time": "2022-07-18T07:06:15.816Z"
   },
   {
    "duration": 303,
    "start_time": "2022-07-18T07:06:15.837Z"
   },
   {
    "duration": 474,
    "start_time": "2022-07-18T07:06:16.144Z"
   },
   {
    "duration": 14,
    "start_time": "2022-07-18T07:06:16.621Z"
   },
   {
    "duration": 31,
    "start_time": "2022-07-18T07:06:16.637Z"
   },
   {
    "duration": 55,
    "start_time": "2022-07-18T07:06:16.670Z"
   },
   {
    "duration": 4,
    "start_time": "2022-07-18T07:06:16.728Z"
   },
   {
    "duration": 12,
    "start_time": "2022-07-18T07:06:16.733Z"
   },
   {
    "duration": 59,
    "start_time": "2022-07-18T07:06:16.747Z"
   },
   {
    "duration": 8,
    "start_time": "2022-07-18T07:06:16.808Z"
   },
   {
    "duration": 324,
    "start_time": "2022-07-18T07:06:16.818Z"
   },
   {
    "duration": 4,
    "start_time": "2022-07-18T07:06:17.144Z"
   },
   {
    "duration": 13,
    "start_time": "2022-07-18T07:06:17.150Z"
   },
   {
    "duration": 27,
    "start_time": "2022-07-18T07:06:17.165Z"
   },
   {
    "duration": 361,
    "start_time": "2022-07-18T07:06:17.195Z"
   },
   {
    "duration": 11,
    "start_time": "2022-07-18T07:06:17.558Z"
   },
   {
    "duration": 48,
    "start_time": "2022-07-18T07:06:17.571Z"
   },
   {
    "duration": 14,
    "start_time": "2022-07-18T07:06:17.622Z"
   },
   {
    "duration": 48,
    "start_time": "2022-07-18T07:06:17.639Z"
   },
   {
    "duration": 14,
    "start_time": "2022-07-18T07:06:17.690Z"
   },
   {
    "duration": 12,
    "start_time": "2022-07-18T07:06:17.707Z"
   },
   {
    "duration": 17,
    "start_time": "2022-07-18T07:06:17.720Z"
   },
   {
    "duration": 9,
    "start_time": "2022-07-18T07:06:17.739Z"
   },
   {
    "duration": 12,
    "start_time": "2022-07-18T07:06:17.749Z"
   },
   {
    "duration": 25,
    "start_time": "2022-07-18T07:06:17.763Z"
   },
   {
    "duration": 18,
    "start_time": "2022-07-18T07:06:17.790Z"
   },
   {
    "duration": 12,
    "start_time": "2022-07-18T07:06:17.811Z"
   },
   {
    "duration": 299,
    "start_time": "2022-07-18T07:06:17.825Z"
   },
   {
    "duration": 4,
    "start_time": "2022-07-18T07:06:18.127Z"
   },
   {
    "duration": 24,
    "start_time": "2022-07-18T07:06:18.137Z"
   },
   {
    "duration": 35,
    "start_time": "2022-07-18T07:06:18.163Z"
   },
   {
    "duration": 791,
    "start_time": "2022-07-18T07:06:18.199Z"
   },
   {
    "duration": 15,
    "start_time": "2022-07-18T07:06:18.992Z"
   },
   {
    "duration": 2367,
    "start_time": "2022-07-18T07:06:19.009Z"
   },
   {
    "duration": 865,
    "start_time": "2022-07-18T07:06:21.378Z"
   },
   {
    "duration": 37,
    "start_time": "2022-07-18T07:06:22.245Z"
   },
   {
    "duration": 10,
    "start_time": "2022-07-18T07:06:22.286Z"
   },
   {
    "duration": 10,
    "start_time": "2022-07-18T07:06:22.299Z"
   },
   {
    "duration": 10,
    "start_time": "2022-07-18T07:06:22.312Z"
   },
   {
    "duration": 2434,
    "start_time": "2022-07-18T07:06:22.324Z"
   },
   {
    "duration": 947,
    "start_time": "2022-07-18T07:06:24.759Z"
   },
   {
    "duration": 5,
    "start_time": "2022-07-18T07:06:25.708Z"
   },
   {
    "duration": 10,
    "start_time": "2022-07-18T07:06:25.715Z"
   },
   {
    "duration": 10,
    "start_time": "2022-07-18T07:06:25.727Z"
   },
   {
    "duration": 41,
    "start_time": "2022-07-18T07:06:25.739Z"
   },
   {
    "duration": 61,
    "start_time": "2022-07-18T07:06:25.784Z"
   },
   {
    "duration": 394,
    "start_time": "2022-07-18T07:06:25.847Z"
   },
   {
    "duration": 451737,
    "start_time": "2022-07-18T07:06:26.243Z"
   },
   {
    "duration": 613,
    "start_time": "2022-07-18T07:13:57.982Z"
   },
   {
    "duration": 13,
    "start_time": "2022-07-18T07:20:21.501Z"
   }
  ],
  "kernelspec": {
   "display_name": "Python 3 (ipykernel)",
   "language": "python",
   "name": "python3"
  },
  "language_info": {
   "codemirror_mode": {
    "name": "ipython",
    "version": 3
   },
   "file_extension": ".py",
   "mimetype": "text/x-python",
   "name": "python",
   "nbconvert_exporter": "python",
   "pygments_lexer": "ipython3",
   "version": "3.9.5"
  },
  "toc": {
   "base_numbering": 1,
   "nav_menu": {},
   "number_sections": true,
   "sideBar": true,
   "skip_h1_title": true,
   "title_cell": "Table of Contents",
   "title_sidebar": "Contents",
   "toc_cell": false,
   "toc_position": {},
   "toc_section_display": true,
   "toc_window_display": false
  }
 },
 "nbformat": 4,
 "nbformat_minor": 5
}
