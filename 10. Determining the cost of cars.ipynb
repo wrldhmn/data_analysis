{
 "cells": [
  {
   "cell_type": "markdown",
   "metadata": {},
   "source": [
    "# Determining the cost of cars"
   ]
  },
  {
   "cell_type": "markdown",
   "metadata": {},
   "source": [
    "The service for selling used cars “Not a Bit, Not a Paint” is developing an application to attract new customers. Here you can quickly find out the market value of your car. We have historical data at our disposal: technical characteristics, configurations and prices of cars. You need to build a model to determine the cost.\n",
    "\n",
    "The following are important to the customer:\n",
    "\n",
    "- quality of prediction;\n",
    "- prediction speed;\n",
    "- studying time."
   ]
  },
  {
   "cell_type": "markdown",
   "metadata": {},
   "source": [
    "# Description of data\n",
    "\n",
    "The data is in the file /datasets/autos.csv.\n",
    "\n",
    "<b>Signs</b>\n",
    "\n",
    "- DateCrawled — date the profile was downloaded from the database\n",
    "- VehicleType - car body type\n",
    "- RegistrationYear—year of vehicle registration\n",
    "- Gearbox - gearbox type\n",
    "- Power - power (hp)\n",
    "- Model - car model\n",
    "- Kilometer - mileage (km)\n",
    "- RegistrationMonth—month of vehicle registration\n",
    "- FuelType - fuel type\n",
    "- Brand - car brand\n",
    "- NotRepaired - whether the car was repaired or not\n",
    "- DateCreated — date of creation of the profile\n",
    "- NumberOfPictures — number of photos of the car\n",
    "- PostalCode — postal code of the profile owner (user)\n",
    "- LastSeen — date of the user’s last activity\n",
    "\n",
    "<b>Target feature</b>\n",
    "\n",
    "- Price — price (euros)"
   ]
  },
  {
   "cell_type": "code",
   "execution_count": 197,
   "metadata": {
    "scrolled": true
   },
   "outputs": [
    {
     "name": "stdout",
     "output_type": "stream",
     "text": [
      "Defaulting to user installation because normal site-packages is not writeable\n",
      "Requirement already satisfied: catboost in /home/zahar/.local/lib/python3.8/site-packages (1.0.5)\n",
      "Requirement already satisfied: scipy in /home/zahar/.local/lib/python3.8/site-packages (from catboost) (1.7.3)\n",
      "Requirement already satisfied: pandas>=0.24.0 in /home/zahar/.local/lib/python3.8/site-packages (from catboost) (1.2.5)\n",
      "Requirement already satisfied: numpy>=1.16.0 in /home/zahar/.local/lib/python3.8/site-packages (from catboost) (1.21.0)\n",
      "Requirement already satisfied: graphviz in /home/zahar/.local/lib/python3.8/site-packages (from catboost) (0.20)\n",
      "Requirement already satisfied: six in /usr/lib/python3/dist-packages (from catboost) (1.14.0)\n",
      "Requirement already satisfied: matplotlib in /home/zahar/.local/lib/python3.8/site-packages (from catboost) (3.5.1)\n",
      "Requirement already satisfied: plotly in /home/zahar/.local/lib/python3.8/site-packages (from catboost) (5.7.0)\n",
      "Requirement already satisfied: python-dateutil>=2.7.3 in /usr/lib/python3/dist-packages (from pandas>=0.24.0->catboost) (2.7.3)\n",
      "Requirement already satisfied: pytz>=2017.3 in /usr/lib/python3/dist-packages (from pandas>=0.24.0->catboost) (2019.3)\n",
      "Requirement already satisfied: cycler>=0.10 in /home/zahar/.local/lib/python3.8/site-packages (from matplotlib->catboost) (0.11.0)\n",
      "Requirement already satisfied: pillow>=6.2.0 in /usr/lib/python3/dist-packages (from matplotlib->catboost) (7.0.0)\n",
      "Requirement already satisfied: pyparsing>=2.2.1 in /home/zahar/.local/lib/python3.8/site-packages (from matplotlib->catboost) (3.0.6)\n",
      "Requirement already satisfied: kiwisolver>=1.0.1 in /home/zahar/.local/lib/python3.8/site-packages (from matplotlib->catboost) (1.3.2)\n",
      "Requirement already satisfied: packaging>=20.0 in /home/zahar/.local/lib/python3.8/site-packages (from matplotlib->catboost) (21.3)\n",
      "Requirement already satisfied: fonttools>=4.22.0 in /home/zahar/.local/lib/python3.8/site-packages (from matplotlib->catboost) (4.28.5)\n",
      "Requirement already satisfied: tenacity>=6.2.0 in /home/zahar/.local/lib/python3.8/site-packages (from plotly->catboost) (8.0.1)\n",
      "\u001b[33mWARNING: You are using pip version 21.3.1; however, version 22.0.4 is available.\n",
      "You should consider upgrading via the '/usr/bin/python3 -m pip install --upgrade pip' command.\u001b[0m\n",
      "Defaulting to user installation because normal site-packages is not writeable\n",
      "Requirement already satisfied: lightgbm in /home/zahar/.local/lib/python3.8/site-packages (3.3.2)\n",
      "Requirement already satisfied: wheel in /usr/lib/python3/dist-packages (from lightgbm) (0.34.2)\n",
      "Requirement already satisfied: numpy in /home/zahar/.local/lib/python3.8/site-packages (from lightgbm) (1.21.0)\n",
      "Requirement already satisfied: scikit-learn!=0.22.0 in /home/zahar/.local/lib/python3.8/site-packages (from lightgbm) (1.0.2)\n",
      "Requirement already satisfied: scipy in /home/zahar/.local/lib/python3.8/site-packages (from lightgbm) (1.7.3)\n",
      "Requirement already satisfied: joblib>=0.11 in /home/zahar/.local/lib/python3.8/site-packages (from scikit-learn!=0.22.0->lightgbm) (1.1.0)\n",
      "Requirement already satisfied: threadpoolctl>=2.0.0 in /home/zahar/.local/lib/python3.8/site-packages (from scikit-learn!=0.22.0->lightgbm) (3.1.0)\n",
      "\u001b[33mWARNING: You are using pip version 21.3.1; however, version 22.0.4 is available.\n",
      "You should consider upgrading via the '/usr/bin/python3 -m pip install --upgrade pip' command.\u001b[0m\n"
     ]
    }
   ],
   "source": [
    "!pip install catboost\n",
    "!pip install lightgbm"
   ]
  },
  {
   "cell_type": "markdown",
   "metadata": {},
   "source": [
    "## Data preparation"
   ]
  },
  {
   "cell_type": "code",
   "execution_count": 198,
   "metadata": {
    "scrolled": false
   },
   "outputs": [
    {
     "name": "stdout",
     "output_type": "stream",
     "text": [
      "<class 'pandas.core.frame.DataFrame'>\n",
      "RangeIndex: 354369 entries, 0 to 354368\n",
      "Data columns (total 16 columns):\n",
      " #   Column             Non-Null Count   Dtype \n",
      "---  ------             --------------   ----- \n",
      " 0   DateCrawled        354369 non-null  object\n",
      " 1   Price              354369 non-null  int64 \n",
      " 2   VehicleType        316879 non-null  object\n",
      " 3   RegistrationYear   354369 non-null  int64 \n",
      " 4   Gearbox            334536 non-null  object\n",
      " 5   Power              354369 non-null  int64 \n",
      " 6   Model              334664 non-null  object\n",
      " 7   Kilometer          354369 non-null  int64 \n",
      " 8   RegistrationMonth  354369 non-null  int64 \n",
      " 9   FuelType           321474 non-null  object\n",
      " 10  Brand              354369 non-null  object\n",
      " 11  NotRepaired        283215 non-null  object\n",
      " 12  DateCreated        354369 non-null  object\n",
      " 13  NumberOfPictures   354369 non-null  int64 \n",
      " 14  PostalCode         354369 non-null  int64 \n",
      " 15  LastSeen           354369 non-null  object\n",
      "dtypes: int64(7), object(9)\n",
      "memory usage: 43.3+ MB\n",
      "None\n"
     ]
    },
    {
     "data": {
      "text/html": [
       "<div>\n",
       "<style scoped>\n",
       "    .dataframe tbody tr th:only-of-type {\n",
       "        vertical-align: middle;\n",
       "    }\n",
       "\n",
       "    .dataframe tbody tr th {\n",
       "        vertical-align: top;\n",
       "    }\n",
       "\n",
       "    .dataframe thead th {\n",
       "        text-align: right;\n",
       "    }\n",
       "</style>\n",
       "<table border=\"1\" class=\"dataframe\">\n",
       "  <thead>\n",
       "    <tr style=\"text-align: right;\">\n",
       "      <th></th>\n",
       "      <th>DateCrawled</th>\n",
       "      <th>Price</th>\n",
       "      <th>VehicleType</th>\n",
       "      <th>RegistrationYear</th>\n",
       "      <th>Gearbox</th>\n",
       "      <th>Power</th>\n",
       "      <th>Model</th>\n",
       "      <th>Kilometer</th>\n",
       "      <th>RegistrationMonth</th>\n",
       "      <th>FuelType</th>\n",
       "      <th>Brand</th>\n",
       "      <th>NotRepaired</th>\n",
       "      <th>DateCreated</th>\n",
       "      <th>NumberOfPictures</th>\n",
       "      <th>PostalCode</th>\n",
       "      <th>LastSeen</th>\n",
       "    </tr>\n",
       "  </thead>\n",
       "  <tbody>\n",
       "    <tr>\n",
       "      <th>0</th>\n",
       "      <td>2016-03-24 11:52:17</td>\n",
       "      <td>480</td>\n",
       "      <td>NaN</td>\n",
       "      <td>1993</td>\n",
       "      <td>manual</td>\n",
       "      <td>0</td>\n",
       "      <td>golf</td>\n",
       "      <td>150000</td>\n",
       "      <td>0</td>\n",
       "      <td>petrol</td>\n",
       "      <td>volkswagen</td>\n",
       "      <td>NaN</td>\n",
       "      <td>2016-03-24 00:00:00</td>\n",
       "      <td>0</td>\n",
       "      <td>70435</td>\n",
       "      <td>2016-04-07 03:16:57</td>\n",
       "    </tr>\n",
       "    <tr>\n",
       "      <th>1</th>\n",
       "      <td>2016-03-24 10:58:45</td>\n",
       "      <td>18300</td>\n",
       "      <td>coupe</td>\n",
       "      <td>2011</td>\n",
       "      <td>manual</td>\n",
       "      <td>190</td>\n",
       "      <td>NaN</td>\n",
       "      <td>125000</td>\n",
       "      <td>5</td>\n",
       "      <td>gasoline</td>\n",
       "      <td>audi</td>\n",
       "      <td>yes</td>\n",
       "      <td>2016-03-24 00:00:00</td>\n",
       "      <td>0</td>\n",
       "      <td>66954</td>\n",
       "      <td>2016-04-07 01:46:50</td>\n",
       "    </tr>\n",
       "    <tr>\n",
       "      <th>2</th>\n",
       "      <td>2016-03-14 12:52:21</td>\n",
       "      <td>9800</td>\n",
       "      <td>suv</td>\n",
       "      <td>2004</td>\n",
       "      <td>auto</td>\n",
       "      <td>163</td>\n",
       "      <td>grand</td>\n",
       "      <td>125000</td>\n",
       "      <td>8</td>\n",
       "      <td>gasoline</td>\n",
       "      <td>jeep</td>\n",
       "      <td>NaN</td>\n",
       "      <td>2016-03-14 00:00:00</td>\n",
       "      <td>0</td>\n",
       "      <td>90480</td>\n",
       "      <td>2016-04-05 12:47:46</td>\n",
       "    </tr>\n",
       "    <tr>\n",
       "      <th>3</th>\n",
       "      <td>2016-03-17 16:54:04</td>\n",
       "      <td>1500</td>\n",
       "      <td>small</td>\n",
       "      <td>2001</td>\n",
       "      <td>manual</td>\n",
       "      <td>75</td>\n",
       "      <td>golf</td>\n",
       "      <td>150000</td>\n",
       "      <td>6</td>\n",
       "      <td>petrol</td>\n",
       "      <td>volkswagen</td>\n",
       "      <td>no</td>\n",
       "      <td>2016-03-17 00:00:00</td>\n",
       "      <td>0</td>\n",
       "      <td>91074</td>\n",
       "      <td>2016-03-17 17:40:17</td>\n",
       "    </tr>\n",
       "    <tr>\n",
       "      <th>4</th>\n",
       "      <td>2016-03-31 17:25:20</td>\n",
       "      <td>3600</td>\n",
       "      <td>small</td>\n",
       "      <td>2008</td>\n",
       "      <td>manual</td>\n",
       "      <td>69</td>\n",
       "      <td>fabia</td>\n",
       "      <td>90000</td>\n",
       "      <td>7</td>\n",
       "      <td>gasoline</td>\n",
       "      <td>skoda</td>\n",
       "      <td>no</td>\n",
       "      <td>2016-03-31 00:00:00</td>\n",
       "      <td>0</td>\n",
       "      <td>60437</td>\n",
       "      <td>2016-04-06 10:17:21</td>\n",
       "    </tr>\n",
       "  </tbody>\n",
       "</table>\n",
       "</div>"
      ],
      "text/plain": [
       "           DateCrawled  Price VehicleType  RegistrationYear Gearbox  Power  \\\n",
       "0  2016-03-24 11:52:17    480         NaN              1993  manual      0   \n",
       "1  2016-03-24 10:58:45  18300       coupe              2011  manual    190   \n",
       "2  2016-03-14 12:52:21   9800         suv              2004    auto    163   \n",
       "3  2016-03-17 16:54:04   1500       small              2001  manual     75   \n",
       "4  2016-03-31 17:25:20   3600       small              2008  manual     69   \n",
       "\n",
       "   Model  Kilometer  RegistrationMonth  FuelType       Brand NotRepaired  \\\n",
       "0   golf     150000                  0    petrol  volkswagen         NaN   \n",
       "1    NaN     125000                  5  gasoline        audi         yes   \n",
       "2  grand     125000                  8  gasoline        jeep         NaN   \n",
       "3   golf     150000                  6    petrol  volkswagen          no   \n",
       "4  fabia      90000                  7  gasoline       skoda          no   \n",
       "\n",
       "           DateCreated  NumberOfPictures  PostalCode             LastSeen  \n",
       "0  2016-03-24 00:00:00                 0       70435  2016-04-07 03:16:57  \n",
       "1  2016-03-24 00:00:00                 0       66954  2016-04-07 01:46:50  \n",
       "2  2016-03-14 00:00:00                 0       90480  2016-04-05 12:47:46  \n",
       "3  2016-03-17 00:00:00                 0       91074  2016-03-17 17:40:17  \n",
       "4  2016-03-31 00:00:00                 0       60437  2016-04-06 10:17:21  "
      ]
     },
     "metadata": {},
     "output_type": "display_data"
    },
    {
     "data": {
      "text/html": [
       "<div>\n",
       "<style scoped>\n",
       "    .dataframe tbody tr th:only-of-type {\n",
       "        vertical-align: middle;\n",
       "    }\n",
       "\n",
       "    .dataframe tbody tr th {\n",
       "        vertical-align: top;\n",
       "    }\n",
       "\n",
       "    .dataframe thead th {\n",
       "        text-align: right;\n",
       "    }\n",
       "</style>\n",
       "<table border=\"1\" class=\"dataframe\">\n",
       "  <thead>\n",
       "    <tr style=\"text-align: right;\">\n",
       "      <th></th>\n",
       "      <th>Price</th>\n",
       "      <th>RegistrationYear</th>\n",
       "      <th>Power</th>\n",
       "      <th>Kilometer</th>\n",
       "      <th>RegistrationMonth</th>\n",
       "      <th>NumberOfPictures</th>\n",
       "      <th>PostalCode</th>\n",
       "    </tr>\n",
       "  </thead>\n",
       "  <tbody>\n",
       "    <tr>\n",
       "      <th>count</th>\n",
       "      <td>354369.000000</td>\n",
       "      <td>354369.000000</td>\n",
       "      <td>354369.000000</td>\n",
       "      <td>354369.000000</td>\n",
       "      <td>354369.000000</td>\n",
       "      <td>354369.0</td>\n",
       "      <td>354369.000000</td>\n",
       "    </tr>\n",
       "    <tr>\n",
       "      <th>mean</th>\n",
       "      <td>4416.656776</td>\n",
       "      <td>2004.234448</td>\n",
       "      <td>110.094337</td>\n",
       "      <td>128211.172535</td>\n",
       "      <td>5.714645</td>\n",
       "      <td>0.0</td>\n",
       "      <td>50508.689087</td>\n",
       "    </tr>\n",
       "    <tr>\n",
       "      <th>std</th>\n",
       "      <td>4514.158514</td>\n",
       "      <td>90.227958</td>\n",
       "      <td>189.850405</td>\n",
       "      <td>37905.341530</td>\n",
       "      <td>3.726421</td>\n",
       "      <td>0.0</td>\n",
       "      <td>25783.096248</td>\n",
       "    </tr>\n",
       "    <tr>\n",
       "      <th>min</th>\n",
       "      <td>0.000000</td>\n",
       "      <td>1000.000000</td>\n",
       "      <td>0.000000</td>\n",
       "      <td>5000.000000</td>\n",
       "      <td>0.000000</td>\n",
       "      <td>0.0</td>\n",
       "      <td>1067.000000</td>\n",
       "    </tr>\n",
       "    <tr>\n",
       "      <th>25%</th>\n",
       "      <td>1050.000000</td>\n",
       "      <td>1999.000000</td>\n",
       "      <td>69.000000</td>\n",
       "      <td>125000.000000</td>\n",
       "      <td>3.000000</td>\n",
       "      <td>0.0</td>\n",
       "      <td>30165.000000</td>\n",
       "    </tr>\n",
       "    <tr>\n",
       "      <th>50%</th>\n",
       "      <td>2700.000000</td>\n",
       "      <td>2003.000000</td>\n",
       "      <td>105.000000</td>\n",
       "      <td>150000.000000</td>\n",
       "      <td>6.000000</td>\n",
       "      <td>0.0</td>\n",
       "      <td>49413.000000</td>\n",
       "    </tr>\n",
       "    <tr>\n",
       "      <th>75%</th>\n",
       "      <td>6400.000000</td>\n",
       "      <td>2008.000000</td>\n",
       "      <td>143.000000</td>\n",
       "      <td>150000.000000</td>\n",
       "      <td>9.000000</td>\n",
       "      <td>0.0</td>\n",
       "      <td>71083.000000</td>\n",
       "    </tr>\n",
       "    <tr>\n",
       "      <th>max</th>\n",
       "      <td>20000.000000</td>\n",
       "      <td>9999.000000</td>\n",
       "      <td>20000.000000</td>\n",
       "      <td>150000.000000</td>\n",
       "      <td>12.000000</td>\n",
       "      <td>0.0</td>\n",
       "      <td>99998.000000</td>\n",
       "    </tr>\n",
       "  </tbody>\n",
       "</table>\n",
       "</div>"
      ],
      "text/plain": [
       "               Price  RegistrationYear          Power      Kilometer  \\\n",
       "count  354369.000000     354369.000000  354369.000000  354369.000000   \n",
       "mean     4416.656776       2004.234448     110.094337  128211.172535   \n",
       "std      4514.158514         90.227958     189.850405   37905.341530   \n",
       "min         0.000000       1000.000000       0.000000    5000.000000   \n",
       "25%      1050.000000       1999.000000      69.000000  125000.000000   \n",
       "50%      2700.000000       2003.000000     105.000000  150000.000000   \n",
       "75%      6400.000000       2008.000000     143.000000  150000.000000   \n",
       "max     20000.000000       9999.000000   20000.000000  150000.000000   \n",
       "\n",
       "       RegistrationMonth  NumberOfPictures     PostalCode  \n",
       "count      354369.000000          354369.0  354369.000000  \n",
       "mean            5.714645               0.0   50508.689087  \n",
       "std             3.726421               0.0   25783.096248  \n",
       "min             0.000000               0.0    1067.000000  \n",
       "25%             3.000000               0.0   30165.000000  \n",
       "50%             6.000000               0.0   49413.000000  \n",
       "75%             9.000000               0.0   71083.000000  \n",
       "max            12.000000               0.0   99998.000000  "
      ]
     },
     "metadata": {},
     "output_type": "display_data"
    }
   ],
   "source": [
    "import pandas as pd\n",
    "import numpy as np\n",
    "\n",
    "from sklearn.model_selection import train_test_split, RandomizedSearchCV, cross_val_score\n",
    "from sklearn.preprocessing import LabelEncoder, StandardScaler\n",
    "from sklearn.metrics import mean_squared_error\n",
    "from sklearn.preprocessing import OrdinalEncoder\n",
    "\n",
    "from catboost import CatBoostRegressor\n",
    "import lightgbm as lgb\n",
    "\n",
    "import time\n",
    "import warnings\n",
    "warnings.filterwarnings('ignore')\n",
    "\n",
    "df = pd.read_csv('./autos.csv')\n",
    "\n",
    "print(df.info())\n",
    "display(df.head())\n",
    "display(df.describe())"
   ]
  },
  {
   "cell_type": "markdown",
   "metadata": {},
   "source": [
    "<b>Let's work through the gaps</b>"
   ]
  },
  {
   "cell_type": "code",
   "execution_count": 199,
   "metadata": {},
   "outputs": [
    {
     "data": {
      "text/plain": [
       "DateCrawled              0\n",
       "Price                    0\n",
       "VehicleType          37490\n",
       "RegistrationYear         0\n",
       "Gearbox              19833\n",
       "Power                    0\n",
       "Model                19705\n",
       "Kilometer                0\n",
       "RegistrationMonth        0\n",
       "FuelType             32895\n",
       "Brand                    0\n",
       "NotRepaired          71154\n",
       "DateCreated              0\n",
       "NumberOfPictures         0\n",
       "PostalCode               0\n",
       "LastSeen                 0\n",
       "dtype: int64"
      ]
     },
     "execution_count": 199,
     "metadata": {},
     "output_type": "execute_result"
    }
   ],
   "source": [
    "df.isna().sum()"
   ]
  },
  {
   "cell_type": "markdown",
   "metadata": {},
   "source": [
    "All gaps in features with type object. Replace all blanks with 'unknown'"
   ]
  },
  {
   "cell_type": "code",
   "execution_count": 200,
   "metadata": {
    "scrolled": true
   },
   "outputs": [
    {
     "data": {
      "text/plain": [
       "DateCrawled          0\n",
       "Price                0\n",
       "VehicleType          0\n",
       "RegistrationYear     0\n",
       "Gearbox              0\n",
       "Power                0\n",
       "Model                0\n",
       "Kilometer            0\n",
       "RegistrationMonth    0\n",
       "FuelType             0\n",
       "Brand                0\n",
       "NotRepaired          0\n",
       "DateCreated          0\n",
       "NumberOfPictures     0\n",
       "PostalCode           0\n",
       "LastSeen             0\n",
       "dtype: int64"
      ]
     },
     "execution_count": 200,
     "metadata": {},
     "output_type": "execute_result"
    }
   ],
   "source": [
    "df_change = ['VehicleType', 'Gearbox', 'Model', 'FuelType', 'NotRepaired']\n",
    "\n",
    "for i in df_change:\n",
    "    df[i] = df[i].fillna('unknown')\n",
    "    \n",
    "df.isna().sum()"
   ]
  },
  {
   "cell_type": "markdown",
   "metadata": {},
   "source": [
    "Let's remove columns that are not needed for training models"
   ]
  },
  {
   "cell_type": "code",
   "execution_count": 201,
   "metadata": {},
   "outputs": [],
   "source": [
    "df = df.drop(columns = ['DateCrawled', 'DateCreated', 'LastSeen', 'NumberOfPictures'])"
   ]
  },
  {
   "cell_type": "markdown",
   "metadata": {},
   "source": [
    "<b>Let's check for anomalies</b>"
   ]
  },
  {
   "cell_type": "code",
   "execution_count": 202,
   "metadata": {
    "scrolled": true
   },
   "outputs": [
    {
     "data": {
      "text/html": [
       "<div>\n",
       "<style scoped>\n",
       "    .dataframe tbody tr th:only-of-type {\n",
       "        vertical-align: middle;\n",
       "    }\n",
       "\n",
       "    .dataframe tbody tr th {\n",
       "        vertical-align: top;\n",
       "    }\n",
       "\n",
       "    .dataframe thead th {\n",
       "        text-align: right;\n",
       "    }\n",
       "</style>\n",
       "<table border=\"1\" class=\"dataframe\">\n",
       "  <thead>\n",
       "    <tr style=\"text-align: right;\">\n",
       "      <th></th>\n",
       "      <th>Price</th>\n",
       "      <th>RegistrationYear</th>\n",
       "      <th>Power</th>\n",
       "      <th>Kilometer</th>\n",
       "      <th>RegistrationMonth</th>\n",
       "      <th>PostalCode</th>\n",
       "    </tr>\n",
       "  </thead>\n",
       "  <tbody>\n",
       "    <tr>\n",
       "      <th>count</th>\n",
       "      <td>354369.000000</td>\n",
       "      <td>354369.000000</td>\n",
       "      <td>354369.000000</td>\n",
       "      <td>354369.000000</td>\n",
       "      <td>354369.000000</td>\n",
       "      <td>354369.000000</td>\n",
       "    </tr>\n",
       "    <tr>\n",
       "      <th>mean</th>\n",
       "      <td>4416.656776</td>\n",
       "      <td>2004.234448</td>\n",
       "      <td>110.094337</td>\n",
       "      <td>128211.172535</td>\n",
       "      <td>5.714645</td>\n",
       "      <td>50508.689087</td>\n",
       "    </tr>\n",
       "    <tr>\n",
       "      <th>std</th>\n",
       "      <td>4514.158514</td>\n",
       "      <td>90.227958</td>\n",
       "      <td>189.850405</td>\n",
       "      <td>37905.341530</td>\n",
       "      <td>3.726421</td>\n",
       "      <td>25783.096248</td>\n",
       "    </tr>\n",
       "    <tr>\n",
       "      <th>min</th>\n",
       "      <td>0.000000</td>\n",
       "      <td>1000.000000</td>\n",
       "      <td>0.000000</td>\n",
       "      <td>5000.000000</td>\n",
       "      <td>0.000000</td>\n",
       "      <td>1067.000000</td>\n",
       "    </tr>\n",
       "    <tr>\n",
       "      <th>25%</th>\n",
       "      <td>1050.000000</td>\n",
       "      <td>1999.000000</td>\n",
       "      <td>69.000000</td>\n",
       "      <td>125000.000000</td>\n",
       "      <td>3.000000</td>\n",
       "      <td>30165.000000</td>\n",
       "    </tr>\n",
       "    <tr>\n",
       "      <th>50%</th>\n",
       "      <td>2700.000000</td>\n",
       "      <td>2003.000000</td>\n",
       "      <td>105.000000</td>\n",
       "      <td>150000.000000</td>\n",
       "      <td>6.000000</td>\n",
       "      <td>49413.000000</td>\n",
       "    </tr>\n",
       "    <tr>\n",
       "      <th>75%</th>\n",
       "      <td>6400.000000</td>\n",
       "      <td>2008.000000</td>\n",
       "      <td>143.000000</td>\n",
       "      <td>150000.000000</td>\n",
       "      <td>9.000000</td>\n",
       "      <td>71083.000000</td>\n",
       "    </tr>\n",
       "    <tr>\n",
       "      <th>max</th>\n",
       "      <td>20000.000000</td>\n",
       "      <td>9999.000000</td>\n",
       "      <td>20000.000000</td>\n",
       "      <td>150000.000000</td>\n",
       "      <td>12.000000</td>\n",
       "      <td>99998.000000</td>\n",
       "    </tr>\n",
       "  </tbody>\n",
       "</table>\n",
       "</div>"
      ],
      "text/plain": [
       "               Price  RegistrationYear          Power      Kilometer  \\\n",
       "count  354369.000000     354369.000000  354369.000000  354369.000000   \n",
       "mean     4416.656776       2004.234448     110.094337  128211.172535   \n",
       "std      4514.158514         90.227958     189.850405   37905.341530   \n",
       "min         0.000000       1000.000000       0.000000    5000.000000   \n",
       "25%      1050.000000       1999.000000      69.000000  125000.000000   \n",
       "50%      2700.000000       2003.000000     105.000000  150000.000000   \n",
       "75%      6400.000000       2008.000000     143.000000  150000.000000   \n",
       "max     20000.000000       9999.000000   20000.000000  150000.000000   \n",
       "\n",
       "       RegistrationMonth     PostalCode  \n",
       "count      354369.000000  354369.000000  \n",
       "mean            5.714645   50508.689087  \n",
       "std             3.726421   25783.096248  \n",
       "min             0.000000    1067.000000  \n",
       "25%             3.000000   30165.000000  \n",
       "50%             6.000000   49413.000000  \n",
       "75%             9.000000   71083.000000  \n",
       "max            12.000000   99998.000000  "
      ]
     },
     "execution_count": 202,
     "metadata": {},
     "output_type": "execute_result"
    }
   ],
   "source": [
    "df.describe()"
   ]
  },
  {
   "cell_type": "code",
   "execution_count": 203,
   "metadata": {},
   "outputs": [
    {
     "data": {
      "text/plain": [
       "<AxesSubplot:>"
      ]
     },
     "execution_count": 203,
     "metadata": {},
     "output_type": "execute_result"
    },
    {
     "data": {
      "image/png": "[encoded data removed]",
      "text/plain": [
       "<Figure size 432x288 with 1 Axes>"
      ]
     },
     "metadata": {
      "needs_background": "light"
     },
     "output_type": "display_data"
    }
   ],
   "source": [
    "#Let's look at the price distribution\n",
    "\n",
    "df['Price'].hist(bins='auto')"
   ]
  },
  {
   "cell_type": "code",
   "execution_count": 204,
   "metadata": {},
   "outputs": [],
   "source": [
    "#Let's delete objects with zero value\n",
    "\n",
    "df = df.query('Price != 0')"
   ]
  },
  {
   "cell_type": "code",
   "execution_count": 205,
   "metadata": {},
   "outputs": [
    {
     "data": {
      "text/plain": [
       "2000    23072\n",
       "1999    21995\n",
       "2005    21524\n",
       "2006    19679\n",
       "2001    19654\n",
       "        ...  \n",
       "1949        1\n",
       "2222        1\n",
       "5300        1\n",
       "8888        1\n",
       "2290        1\n",
       "Name: RegistrationYear, Length: 140, dtype: int64"
      ]
     },
     "execution_count": 205,
     "metadata": {},
     "output_type": "execute_result"
    }
   ],
   "source": [
    "df['RegistrationYear'].value_counts()"
   ]
  },
  {
   "cell_type": "code",
   "execution_count": 206,
   "metadata": {},
   "outputs": [],
   "source": [
    "#Let's delete RegistrationYear objects less than 1950 and more than 2022.\n",
    "\n",
    "df = df.query('RegistrationYear < 2022')\n",
    "df = df.query('RegistrationYear > 1950')"
   ]
  },
  {
   "cell_type": "code",
   "execution_count": 207,
   "metadata": {},
   "outputs": [
    {
     "data": {
      "text/plain": [
       "2000    23072\n",
       "1999    21995\n",
       "2005    21524\n",
       "2006    19679\n",
       "2001    19654\n",
       "        ...  \n",
       "1957       13\n",
       "1955       13\n",
       "1951       10\n",
       "1954        9\n",
       "1952        8\n",
       "Name: RegistrationYear, Length: 69, dtype: int64"
      ]
     },
     "execution_count": 207,
     "metadata": {},
     "output_type": "execute_result"
    }
   ],
   "source": [
    "df['RegistrationYear'].value_counts()"
   ]
  },
  {
   "cell_type": "code",
   "execution_count": 208,
   "metadata": {},
   "outputs": [
    {
     "data": {
      "text/plain": [
       "<AxesSubplot:>"
      ]
     },
     "execution_count": 208,
     "metadata": {},
     "output_type": "execute_result"
    },
    {
     "data": {
      "image/png": "[encoded data removed]",
      "text/plain": [
       "<Figure size 432x288 with 1 Axes>"
      ]
     },
     "metadata": {
      "needs_background": "light"
     },
     "output_type": "display_data"
    }
   ],
   "source": [
    "#Let's check the Power sign\n",
    "\n",
    "df['Power'].hist(bins=range(0, 1000, 10))"
   ]
  },
  {
   "cell_type": "code",
   "execution_count": 209,
   "metadata": {},
   "outputs": [],
   "source": [
    "#Let's delete objects with 0 power\n",
    "\n",
    "df = df.query('Power != 0')"
   ]
  },
  {
   "cell_type": "code",
   "execution_count": 210,
   "metadata": {},
   "outputs": [
    {
     "data": {
      "text/plain": [
       "<AxesSubplot:>"
      ]
     },
     "execution_count": 210,
     "metadata": {},
     "output_type": "execute_result"
    },
    {
     "data": {
      "image/png": "[encoded data removed]",
      "text/plain": [
       "<Figure size 432x288 with 1 Axes>"
      ]
     },
     "metadata": {
      "needs_background": "light"
     },
     "output_type": "display_data"
    }
   ],
   "source": [
    "#Let's look at the RegistrationMonth distribution\n",
    "\n",
    "df['RegistrationMonth'].hist(bins=12)"
   ]
  },
  {
   "cell_type": "code",
   "execution_count": 211,
   "metadata": {},
   "outputs": [],
   "source": [
    "#Let's delete objects where 0 month\n",
    "\n",
    "df = df.query('RegistrationMonth != 0')"
   ]
  },
  {
   "cell_type": "markdown",
   "metadata": {},
   "source": [
    "<b>Convert to numbers</b>"
   ]
  },
  {
   "cell_type": "code",
   "execution_count": 212,
   "metadata": {},
   "outputs": [],
   "source": [
    "ord_enc = OrdinalEncoder()\n",
    "df[['NotRepaired', 'Gearbox', 'VehicleType', 'Model', 'FuelType', 'Brand']] = ord_enc.fit_transform(df[['NotRepaired', 'Gearbox', 'VehicleType', 'Model', 'FuelType', 'Brand']])"
   ]
  },
  {
   "cell_type": "code",
   "execution_count": 213,
   "metadata": {
    "scrolled": false
   },
   "outputs": [
    {
     "data": {
      "text/html": [
       "<div>\n",
       "<style scoped>\n",
       "    .dataframe tbody tr th:only-of-type {\n",
       "        vertical-align: middle;\n",
       "    }\n",
       "\n",
       "    .dataframe tbody tr th {\n",
       "        vertical-align: top;\n",
       "    }\n",
       "\n",
       "    .dataframe thead th {\n",
       "        text-align: right;\n",
       "    }\n",
       "</style>\n",
       "<table border=\"1\" class=\"dataframe\">\n",
       "  <thead>\n",
       "    <tr style=\"text-align: right;\">\n",
       "      <th></th>\n",
       "      <th>Price</th>\n",
       "      <th>VehicleType</th>\n",
       "      <th>RegistrationYear</th>\n",
       "      <th>Gearbox</th>\n",
       "      <th>Power</th>\n",
       "      <th>Model</th>\n",
       "      <th>Kilometer</th>\n",
       "      <th>RegistrationMonth</th>\n",
       "      <th>FuelType</th>\n",
       "      <th>Brand</th>\n",
       "      <th>NotRepaired</th>\n",
       "      <th>PostalCode</th>\n",
       "    </tr>\n",
       "  </thead>\n",
       "  <tbody>\n",
       "    <tr>\n",
       "      <th>1</th>\n",
       "      <td>18300</td>\n",
       "      <td>2.0</td>\n",
       "      <td>2011</td>\n",
       "      <td>1.0</td>\n",
       "      <td>190</td>\n",
       "      <td>227.0</td>\n",
       "      <td>125000</td>\n",
       "      <td>5</td>\n",
       "      <td>2.0</td>\n",
       "      <td>1.0</td>\n",
       "      <td>2.0</td>\n",
       "      <td>66954</td>\n",
       "    </tr>\n",
       "    <tr>\n",
       "      <th>2</th>\n",
       "      <td>9800</td>\n",
       "      <td>6.0</td>\n",
       "      <td>2004</td>\n",
       "      <td>0.0</td>\n",
       "      <td>163</td>\n",
       "      <td>117.0</td>\n",
       "      <td>125000</td>\n",
       "      <td>8</td>\n",
       "      <td>2.0</td>\n",
       "      <td>14.0</td>\n",
       "      <td>1.0</td>\n",
       "      <td>90480</td>\n",
       "    </tr>\n",
       "    <tr>\n",
       "      <th>3</th>\n",
       "      <td>1500</td>\n",
       "      <td>5.0</td>\n",
       "      <td>2001</td>\n",
       "      <td>1.0</td>\n",
       "      <td>75</td>\n",
       "      <td>116.0</td>\n",
       "      <td>150000</td>\n",
       "      <td>6</td>\n",
       "      <td>6.0</td>\n",
       "      <td>38.0</td>\n",
       "      <td>0.0</td>\n",
       "      <td>91074</td>\n",
       "    </tr>\n",
       "    <tr>\n",
       "      <th>4</th>\n",
       "      <td>3600</td>\n",
       "      <td>5.0</td>\n",
       "      <td>2008</td>\n",
       "      <td>1.0</td>\n",
       "      <td>69</td>\n",
       "      <td>101.0</td>\n",
       "      <td>90000</td>\n",
       "      <td>7</td>\n",
       "      <td>2.0</td>\n",
       "      <td>31.0</td>\n",
       "      <td>0.0</td>\n",
       "      <td>60437</td>\n",
       "    </tr>\n",
       "    <tr>\n",
       "      <th>5</th>\n",
       "      <td>650</td>\n",
       "      <td>4.0</td>\n",
       "      <td>1995</td>\n",
       "      <td>1.0</td>\n",
       "      <td>102</td>\n",
       "      <td>11.0</td>\n",
       "      <td>150000</td>\n",
       "      <td>10</td>\n",
       "      <td>6.0</td>\n",
       "      <td>2.0</td>\n",
       "      <td>2.0</td>\n",
       "      <td>33775</td>\n",
       "    </tr>\n",
       "  </tbody>\n",
       "</table>\n",
       "</div>"
      ],
      "text/plain": [
       "   Price  VehicleType  RegistrationYear  Gearbox  Power  Model  Kilometer  \\\n",
       "1  18300          2.0              2011      1.0    190  227.0     125000   \n",
       "2   9800          6.0              2004      0.0    163  117.0     125000   \n",
       "3   1500          5.0              2001      1.0     75  116.0     150000   \n",
       "4   3600          5.0              2008      1.0     69  101.0      90000   \n",
       "5    650          4.0              1995      1.0    102   11.0     150000   \n",
       "\n",
       "   RegistrationMonth  FuelType  Brand  NotRepaired  PostalCode  \n",
       "1                  5       2.0    1.0          2.0       66954  \n",
       "2                  8       2.0   14.0          1.0       90480  \n",
       "3                  6       6.0   38.0          0.0       91074  \n",
       "4                  7       2.0   31.0          0.0       60437  \n",
       "5                 10       6.0    2.0          2.0       33775  "
      ]
     },
     "execution_count": 213,
     "metadata": {},
     "output_type": "execute_result"
    }
   ],
   "source": [
    "df.head()"
   ]
  },
  {
   "cell_type": "markdown",
   "metadata": {},
   "source": [
    "Let's divide df into 3 samples. Test, training and validation."
   ]
  },
  {
   "cell_type": "code",
   "execution_count": 214,
   "metadata": {},
   "outputs": [],
   "source": [
    "df_train, df_test = train_test_split(df, test_size=0.2, random_state=12345)\n",
    "df_train, df_valid = train_test_split(df_train, test_size=0.25, random_state=12345)\n",
    "features_train = df_train.drop(['Price'], axis=1)\n",
    "target_train = df_train['Price']\n",
    "features_valid = df_valid.drop(['Price'], axis=1)\n",
    "target_valid = df_valid['Price']\n",
    "features_test = df_test.drop(['Price'], axis=1)\n",
    "target_test = df_test['Price']"
   ]
  },
  {
   "cell_type": "code",
   "execution_count": 215,
   "metadata": {},
   "outputs": [
    {
     "name": "stdout",
     "output_type": "stream",
     "text": [
      "Генеральная выборка - 287060\n",
      "Обучающая выборка - 172236\n",
      "Валидационная выборка - 57412\n",
      "Тестовая выборка - 57412\n"
     ]
    }
   ],
   "source": [
    "print('Генеральная выборка -', df.shape[0])\n",
    "print('Обучающая выборка -', features_train.shape[0])\n",
    "print('Валидационная выборка -', features_valid.shape[0])\n",
    "print('Тестовая выборка -', features_test.shape[0])"
   ]
  },
  {
   "cell_type": "markdown",
   "metadata": {},
   "source": [
    "The signs contain different scales. We standardize them using StandardScaler"
   ]
  },
  {
   "cell_type": "code",
   "execution_count": 216,
   "metadata": {
    "scrolled": true
   },
   "outputs": [
    {
     "data": {
      "text/html": [
       "<div>\n",
       "<style scoped>\n",
       "    .dataframe tbody tr th:only-of-type {\n",
       "        vertical-align: middle;\n",
       "    }\n",
       "\n",
       "    .dataframe tbody tr th {\n",
       "        vertical-align: top;\n",
       "    }\n",
       "\n",
       "    .dataframe thead th {\n",
       "        text-align: right;\n",
       "    }\n",
       "</style>\n",
       "<table border=\"1\" class=\"dataframe\">\n",
       "  <thead>\n",
       "    <tr style=\"text-align: right;\">\n",
       "      <th></th>\n",
       "      <th>VehicleType</th>\n",
       "      <th>RegistrationYear</th>\n",
       "      <th>Gearbox</th>\n",
       "      <th>Power</th>\n",
       "      <th>Model</th>\n",
       "      <th>Kilometer</th>\n",
       "      <th>RegistrationMonth</th>\n",
       "      <th>FuelType</th>\n",
       "      <th>Brand</th>\n",
       "      <th>NotRepaired</th>\n",
       "      <th>PostalCode</th>\n",
       "    </tr>\n",
       "  </thead>\n",
       "  <tbody>\n",
       "    <tr>\n",
       "      <th>215306</th>\n",
       "      <td>1.409624</td>\n",
       "      <td>0.980651</td>\n",
       "      <td>0.441085</td>\n",
       "      <td>-0.012982</td>\n",
       "      <td>0.051625</td>\n",
       "      <td>-0.081113</td>\n",
       "      <td>0.781557</td>\n",
       "      <td>0.635579</td>\n",
       "      <td>1.291978</td>\n",
       "      <td>-0.497904</td>\n",
       "      <td>-0.505830</td>\n",
       "    </tr>\n",
       "    <tr>\n",
       "      <th>5842</th>\n",
       "      <td>0.994480</td>\n",
       "      <td>2.165291</td>\n",
       "      <td>0.441085</td>\n",
       "      <td>0.151776</td>\n",
       "      <td>0.051625</td>\n",
       "      <td>0.598311</td>\n",
       "      <td>0.184215</td>\n",
       "      <td>0.635579</td>\n",
       "      <td>1.291978</td>\n",
       "      <td>-0.497904</td>\n",
       "      <td>-0.034522</td>\n",
       "    </tr>\n",
       "    <tr>\n",
       "      <th>174543</th>\n",
       "      <td>-1.911524</td>\n",
       "      <td>0.388331</td>\n",
       "      <td>0.441085</td>\n",
       "      <td>0.039976</td>\n",
       "      <td>1.520491</td>\n",
       "      <td>0.598311</td>\n",
       "      <td>0.482886</td>\n",
       "      <td>-1.479857</td>\n",
       "      <td>1.291978</td>\n",
       "      <td>-0.497904</td>\n",
       "      <td>0.982774</td>\n",
       "    </tr>\n",
       "    <tr>\n",
       "      <th>279444</th>\n",
       "      <td>1.409624</td>\n",
       "      <td>-1.092468</td>\n",
       "      <td>0.441085</td>\n",
       "      <td>-0.065940</td>\n",
       "      <td>0.738011</td>\n",
       "      <td>0.598311</td>\n",
       "      <td>1.677571</td>\n",
       "      <td>-1.479857</td>\n",
       "      <td>-0.054988</td>\n",
       "      <td>-0.497904</td>\n",
       "      <td>0.124550</td>\n",
       "    </tr>\n",
       "    <tr>\n",
       "      <th>212039</th>\n",
       "      <td>-0.250950</td>\n",
       "      <td>1.128731</td>\n",
       "      <td>-1.908911</td>\n",
       "      <td>0.828463</td>\n",
       "      <td>-0.730854</td>\n",
       "      <td>-2.119384</td>\n",
       "      <td>1.378900</td>\n",
       "      <td>-1.479857</td>\n",
       "      <td>-0.054988</td>\n",
       "      <td>-0.497904</td>\n",
       "      <td>-1.599358</td>\n",
       "    </tr>\n",
       "  </tbody>\n",
       "</table>\n",
       "</div>"
      ],
      "text/plain": [
       "        VehicleType  RegistrationYear   Gearbox     Power     Model  \\\n",
       "215306     1.409624          0.980651  0.441085 -0.012982  0.051625   \n",
       "5842       0.994480          2.165291  0.441085  0.151776  0.051625   \n",
       "174543    -1.911524          0.388331  0.441085  0.039976  1.520491   \n",
       "279444     1.409624         -1.092468  0.441085 -0.065940  0.738011   \n",
       "212039    -0.250950          1.128731 -1.908911  0.828463 -0.730854   \n",
       "\n",
       "        Kilometer  RegistrationMonth  FuelType     Brand  NotRepaired  \\\n",
       "215306  -0.081113           0.781557  0.635579  1.291978    -0.497904   \n",
       "5842     0.598311           0.184215  0.635579  1.291978    -0.497904   \n",
       "174543   0.598311           0.482886 -1.479857  1.291978    -0.497904   \n",
       "279444   0.598311           1.677571 -1.479857 -0.054988    -0.497904   \n",
       "212039  -2.119384           1.378900 -1.479857 -0.054988    -0.497904   \n",
       "\n",
       "        PostalCode  \n",
       "215306   -0.505830  \n",
       "5842     -0.034522  \n",
       "174543    0.982774  \n",
       "279444    0.124550  \n",
       "212039   -1.599358  "
      ]
     },
     "metadata": {},
     "output_type": "display_data"
    }
   ],
   "source": [
    "numeric = features_train.columns\n",
    "\n",
    "scaler = StandardScaler()\n",
    "scaler.fit(features_train[numeric])\n",
    "\n",
    "features_train[numeric] = scaler.transform(features_train[numeric])\n",
    "features_valid[numeric] = scaler.transform(features_valid[numeric])\n",
    "features_test[numeric] = scaler.transform(features_test[numeric])\n",
    "\n",
    "pd.options.mode.chained_assignment = None\n",
    "\n",
    "display(features_train.head())"
   ]
  },
  {
   "cell_type": "markdown",
   "metadata": {},
   "source": [
    "<b>Output</b>\n",
    "\n",
    "We reviewed the data and filled in the necessary blanks.\n",
    "\n",
    "Let's move on to training models"
   ]
  },
  {
   "cell_type": "markdown",
   "metadata": {},
   "source": [
    "## Model training"
   ]
  },
  {
   "cell_type": "markdown",
   "metadata": {},
   "source": [
    "<b>CatBoost</b>"
   ]
  },
  {
   "cell_type": "code",
   "execution_count": 217,
   "metadata": {
    "scrolled": true
   },
   "outputs": [
    {
     "name": "stdout",
     "output_type": "stream",
     "text": [
      "0:\tlearn: 4305.8806132\ttotal: 33.7ms\tremaining: 3.33s\n",
      "99:\tlearn: 1712.9877455\ttotal: 2.44s\tremaining: 0us\n",
      "Качество модели CatBoost на валидационной выборке: 1758.3141414318668\n"
     ]
    }
   ],
   "source": [
    "model_cb = CatBoostRegressor(random_state = 12345, iterations = 100)\n",
    "parameters_cb = {'depth': range(6, 11), 'learning_rate': [0.001, 0.01, 0.05, 0.1]}\n",
    "search_cb = RandomizedSearchCV(model_cb, parameters_cb, cv = 5, n_jobs = -1, random_state = 12345)\n",
    "search_cb.fit(features_train, target_train, verbose = 100)\n",
    "best_cb = search_cb.best_estimator_\n",
    "predict_cb_valid = best_cb.predict(features_valid)\n",
    "rmse_cb_valid = mean_squared_error(target_valid, predict_cb_valid)**0.5\n",
    "print('Качество модели CatBoost на валидационной выборке:', rmse_cb_valid)"
   ]
  },
  {
   "cell_type": "markdown",
   "metadata": {},
   "source": [
    "<b>LightGBM</b>"
   ]
  },
  {
   "cell_type": "code",
   "execution_count": 218,
   "metadata": {},
   "outputs": [
    {
     "name": "stdout",
     "output_type": "stream",
     "text": [
      "Качество модели LighGBM на валидационной выборке: 1676.1467079539314\n"
     ]
    }
   ],
   "source": [
    "model_lgb = lgb.LGBMRegressor(random_state=12345)\n",
    "parameters_lgb = {'max_depth': (6, 11), 'learning_rate': [0.001, 0.01, 0.05, 0.1], 'n_estimators': range(100, 501, 50)}\n",
    "search_lgb = RandomizedSearchCV(model_lgb, parameters_lgb, cv = 5, n_jobs = -1, random_state = 12345)\n",
    "search_lgb.fit(features_train, target_train)\n",
    "best_lgb = search_lgb.best_estimator_\n",
    "predict_lgb_valid = best_lgb.predict(features_valid)\n",
    "rmse_lgb_valid = mean_squared_error(target_valid, predict_lgb_valid)**0.5\n",
    "print('Качество модели LighGBM на валидационной выборке:', rmse_lgb_valid)"
   ]
  },
  {
   "cell_type": "markdown",
   "metadata": {},
   "source": [
    "## Model analysis"
   ]
  },
  {
   "cell_type": "markdown",
   "metadata": {},
   "source": [
    "<b>CatBoost</b>"
   ]
  },
  {
   "cell_type": "code",
   "execution_count": 219,
   "metadata": {},
   "outputs": [
    {
     "name": "stdout",
     "output_type": "stream",
     "text": [
      "0:\tlearn: 4305.8806132\ttotal: 27.3ms\tremaining: 2.7s\n",
      "99:\tlearn: 1712.9877455\ttotal: 2.85s\tremaining: 0us\n",
      "Качество модели CatBoost на тестовой выборке: 1764.186348743676\n",
      "CPU times: user 9.28 s, sys: 204 ms, total: 9.48 s\n",
      "Wall time: 2.98 s\n"
     ]
    }
   ],
   "source": [
    "%%time\n",
    "start_cb_fit = time.time()\n",
    "best_cb.fit(features_train, target_train, verbose = 100)\n",
    "end_cb_fit = time.time()\n",
    "time_cb_fit = end_cb_fit - start_cb_fit\n",
    "start_cb_predict = time.time()\n",
    "predict_cb_test = best_cb.predict(features_test)\n",
    "end_cb_predict = time.time()\n",
    "time_cb_predict = end_cb_predict - start_cb_predict\n",
    "rmse_cb_test = mean_squared_error(target_test, predict_cb_test)**0.5\n",
    "print('Качество модели CatBoost на тестовой выборке:', rmse_cb_test)"
   ]
  },
  {
   "cell_type": "markdown",
   "metadata": {},
   "source": [
    "<b>LightGBM</b>"
   ]
  },
  {
   "cell_type": "code",
   "execution_count": 220,
   "metadata": {
    "scrolled": true
   },
   "outputs": [
    {
     "name": "stdout",
     "output_type": "stream",
     "text": [
      "Качество модели CatBoost: 1672.6872899400298\n",
      "CPU times: user 6.99 s, sys: 20.5 ms, total: 7.01 s\n",
      "Wall time: 1.97 s\n"
     ]
    }
   ],
   "source": [
    "%%time\n",
    "start_lgb_fit = time.time()\n",
    "best_lgb.fit(features_train, target_train)\n",
    "end_lgb_fit = time.time()\n",
    "time_lgb_fit = end_lgb_fit - start_lgb_fit\n",
    "start_lgb_predict = time.time()\n",
    "predict_lgb_test = best_lgb.predict(features_test)\n",
    "end_lgb_predict = time.time()\n",
    "time_lgb_predict = end_lgb_predict - start_lgb_predict\n",
    "\n",
    "rmse_lgb_test = mean_squared_error(target_test, predict_lgb_test)**0.5\n",
    "print('Качество модели CatBoost:', rmse_lgb_test)"
   ]
  },
  {
   "cell_type": "markdown",
   "metadata": {},
   "source": [
    "## Final conclusion\n",
    "\n",
    "The LightGBM model is most suitable for our project. Using it we get RSME - 1672, total: 5.67 s, Wall time: 1.48 s"
   ]
  },
  {
   "cell_type": "code",
   "execution_count": null,
   "metadata": {},
   "outputs": [],
   "source": []
  }
 ],
 "metadata": {
  "ExecuteTimeLog": [
   {
    "duration": 2881,
    "start_time": "2022-04-26T06:48:55.149Z"
   },
   {
    "duration": 1055,
    "start_time": "2022-04-26T06:49:24.978Z"
   },
   {
    "duration": 127,
    "start_time": "2022-04-26T06:51:01.661Z"
   },
   {
    "duration": 220,
    "start_time": "2022-04-26T07:01:43.608Z"
   },
   {
    "duration": 14,
    "start_time": "2022-04-26T07:02:04.658Z"
   },
   {
    "duration": 65,
    "start_time": "2022-04-26T07:04:01.464Z"
   },
   {
    "duration": 1690,
    "start_time": "2022-04-26T07:05:58.843Z"
   },
   {
    "duration": 1046,
    "start_time": "2022-04-26T07:06:15.745Z"
   },
   {
    "duration": 133,
    "start_time": "2022-04-26T07:06:16.793Z"
   },
   {
    "duration": 232,
    "start_time": "2022-04-26T07:06:16.928Z"
   },
   {
    "duration": 2303,
    "start_time": "2022-04-26T07:06:17.162Z"
   },
   {
    "duration": 353,
    "start_time": "2022-04-26T07:06:21.937Z"
   },
   {
    "duration": 11,
    "start_time": "2022-04-26T07:06:29.234Z"
   },
   {
    "duration": 412,
    "start_time": "2022-04-26T07:06:56.969Z"
   },
   {
    "duration": 12,
    "start_time": "2022-04-26T07:07:02.140Z"
   },
   {
    "duration": 42,
    "start_time": "2022-04-26T07:08:18.245Z"
   },
   {
    "duration": 989,
    "start_time": "2022-04-26T07:08:42.369Z"
   },
   {
    "duration": 1022,
    "start_time": "2022-04-26T07:08:51.460Z"
   },
   {
    "duration": 138,
    "start_time": "2022-04-26T07:08:52.484Z"
   },
   {
    "duration": 229,
    "start_time": "2022-04-26T07:08:52.623Z"
   },
   {
    "duration": 2229,
    "start_time": "2022-04-26T07:08:52.854Z"
   },
   {
    "duration": 139,
    "start_time": "2022-04-26T07:08:55.085Z"
   },
   {
    "duration": 127,
    "start_time": "2022-04-26T07:08:56.330Z"
   },
   {
    "duration": 13,
    "start_time": "2022-04-26T07:17:32.830Z"
   },
   {
    "duration": 997,
    "start_time": "2022-04-26T07:17:57.134Z"
   },
   {
    "duration": 995,
    "start_time": "2022-04-26T07:18:39.081Z"
   },
   {
    "duration": 137,
    "start_time": "2022-04-26T07:18:40.079Z"
   },
   {
    "duration": 223,
    "start_time": "2022-04-26T07:18:40.217Z"
   },
   {
    "duration": 2226,
    "start_time": "2022-04-26T07:18:40.442Z"
   },
   {
    "duration": 123,
    "start_time": "2022-04-26T07:18:42.669Z"
   },
   {
    "duration": 237388,
    "start_time": "2022-04-26T07:18:42.793Z"
   },
   {
    "duration": 1007,
    "start_time": "2022-04-26T07:23:09.176Z"
   },
   {
    "duration": 10,
    "start_time": "2022-04-26T07:26:25.533Z"
   },
   {
    "duration": 1037,
    "start_time": "2022-04-26T07:26:48.581Z"
   },
   {
    "duration": 947,
    "start_time": "2022-04-26T07:26:57.572Z"
   },
   {
    "duration": 138,
    "start_time": "2022-04-26T07:26:58.521Z"
   },
   {
    "duration": 233,
    "start_time": "2022-04-26T07:26:58.661Z"
   },
   {
    "duration": 2238,
    "start_time": "2022-04-26T07:26:58.896Z"
   },
   {
    "duration": 117,
    "start_time": "2022-04-26T07:27:01.135Z"
   },
   {
    "duration": 0,
    "start_time": "2022-04-26T07:31:14.645Z"
   },
   {
    "duration": 0,
    "start_time": "2022-04-26T07:31:14.647Z"
   },
   {
    "duration": 0,
    "start_time": "2022-04-26T07:31:14.648Z"
   },
   {
    "duration": 0,
    "start_time": "2022-04-26T07:31:14.649Z"
   },
   {
    "duration": 0,
    "start_time": "2022-04-26T07:31:14.650Z"
   },
   {
    "duration": 0,
    "start_time": "2022-04-26T07:31:14.651Z"
   },
   {
    "duration": 0,
    "start_time": "2022-04-26T07:31:14.652Z"
   },
   {
    "duration": 929,
    "start_time": "2022-04-26T07:31:24.879Z"
   },
   {
    "duration": 132,
    "start_time": "2022-04-26T07:31:25.810Z"
   },
   {
    "duration": 230,
    "start_time": "2022-04-26T07:31:25.944Z"
   },
   {
    "duration": 2200,
    "start_time": "2022-04-26T07:31:26.176Z"
   },
   {
    "duration": 119,
    "start_time": "2022-04-26T07:31:28.378Z"
   },
   {
    "duration": 235597,
    "start_time": "2022-04-26T07:31:28.499Z"
   },
   {
    "duration": 0,
    "start_time": "2022-04-26T07:38:29.809Z"
   },
   {
    "duration": 74173,
    "start_time": "2022-04-26T07:38:41.056Z"
   },
   {
    "duration": 0,
    "start_time": "2022-04-26T07:39:55.231Z"
   },
   {
    "duration": 976,
    "start_time": "2022-04-26T07:39:59.353Z"
   },
   {
    "duration": 136,
    "start_time": "2022-04-26T07:40:00.331Z"
   },
   {
    "duration": 232,
    "start_time": "2022-04-26T07:40:00.469Z"
   },
   {
    "duration": 2285,
    "start_time": "2022-04-26T07:40:00.706Z"
   },
   {
    "duration": 139,
    "start_time": "2022-04-26T07:40:02.993Z"
   },
   {
    "duration": 59591,
    "start_time": "2022-04-26T07:40:06.441Z"
   },
   {
    "duration": 961,
    "start_time": "2022-04-26T07:41:27.652Z"
   },
   {
    "duration": 949,
    "start_time": "2022-04-26T07:41:37.718Z"
   },
   {
    "duration": 128,
    "start_time": "2022-04-26T07:41:38.669Z"
   },
   {
    "duration": 221,
    "start_time": "2022-04-26T07:41:38.808Z"
   },
   {
    "duration": 2179,
    "start_time": "2022-04-26T07:41:39.030Z"
   },
   {
    "duration": 120,
    "start_time": "2022-04-26T07:41:41.212Z"
   },
   {
    "duration": 570820,
    "start_time": "2022-04-26T07:41:44.509Z"
   },
   {
    "duration": 1043,
    "start_time": "2022-04-26T07:52:31.458Z"
   },
   {
    "duration": 951,
    "start_time": "2022-04-26T07:52:40.970Z"
   },
   {
    "duration": 130,
    "start_time": "2022-04-26T07:52:41.923Z"
   },
   {
    "duration": 223,
    "start_time": "2022-04-26T07:52:42.055Z"
   },
   {
    "duration": 2191,
    "start_time": "2022-04-26T07:52:42.280Z"
   },
   {
    "duration": 112,
    "start_time": "2022-04-26T07:52:44.473Z"
   },
   {
    "duration": 484731,
    "start_time": "2022-04-26T07:52:57.103Z"
   },
   {
    "duration": 0,
    "start_time": "2022-04-26T08:01:01.836Z"
   },
   {
    "duration": 13,
    "start_time": "2022-04-26T08:01:04.956Z"
   },
   {
    "duration": 19,
    "start_time": "2022-04-26T08:01:15.112Z"
   },
   {
    "duration": 67,
    "start_time": "2022-04-26T08:02:31.596Z"
   },
   {
    "duration": 0,
    "start_time": "2022-04-26T08:08:32.720Z"
   },
   {
    "duration": 199860,
    "start_time": "2022-04-26T08:08:35.758Z"
   },
   {
    "duration": 39291,
    "start_time": "2022-04-26T08:13:15.624Z"
   },
   {
    "duration": 366302,
    "start_time": "2022-04-26T08:14:07.817Z"
   },
   {
    "duration": 0,
    "start_time": "2022-04-26T08:20:14.122Z"
   },
   {
    "duration": 955,
    "start_time": "2022-04-26T08:20:29.741Z"
   },
   {
    "duration": 138,
    "start_time": "2022-04-26T08:20:30.698Z"
   },
   {
    "duration": 240,
    "start_time": "2022-04-26T08:20:30.837Z"
   },
   {
    "duration": 41,
    "start_time": "2022-04-26T08:20:31.078Z"
   },
   {
    "duration": 572,
    "start_time": "2022-04-26T08:20:31.121Z"
   },
   {
    "duration": 97,
    "start_time": "2022-04-26T08:20:31.695Z"
   },
   {
    "duration": 56675,
    "start_time": "2022-04-26T08:20:42.337Z"
   },
   {
    "duration": 313522,
    "start_time": "2022-04-26T08:22:42.709Z"
   },
   {
    "duration": 2531,
    "start_time": "2022-04-28T07:40:16.255Z"
   },
   {
    "duration": 127,
    "start_time": "2022-04-28T07:40:18.788Z"
   },
   {
    "duration": 225,
    "start_time": "2022-04-28T07:40:18.917Z"
   },
   {
    "duration": 64,
    "start_time": "2022-04-28T07:40:19.144Z"
   },
   {
    "duration": 573,
    "start_time": "2022-04-28T07:40:19.209Z"
   },
   {
    "duration": 125,
    "start_time": "2022-04-28T07:40:19.784Z"
   },
   {
    "duration": 223570,
    "start_time": "2022-04-28T07:40:19.911Z"
   },
   {
    "duration": 14144,
    "start_time": "2022-04-28T07:48:29.343Z"
   },
   {
    "duration": 45173,
    "start_time": "2022-04-28T07:49:21.722Z"
   },
   {
    "duration": 1053,
    "start_time": "2022-04-28T07:50:10.080Z"
   },
   {
    "duration": 125,
    "start_time": "2022-04-28T07:50:11.135Z"
   },
   {
    "duration": 214,
    "start_time": "2022-04-28T07:50:11.262Z"
   },
   {
    "duration": 46,
    "start_time": "2022-04-28T07:50:11.479Z"
   },
   {
    "duration": 546,
    "start_time": "2022-04-28T07:50:11.527Z"
   },
   {
    "duration": 110,
    "start_time": "2022-04-28T07:50:12.075Z"
   },
   {
    "duration": 3,
    "start_time": "2022-04-28T07:50:12.187Z"
   },
   {
    "duration": 990,
    "start_time": "2022-04-28T07:50:54.208Z"
   },
   {
    "duration": 127,
    "start_time": "2022-04-28T07:50:55.201Z"
   },
   {
    "duration": 222,
    "start_time": "2022-04-28T07:50:55.330Z"
   },
   {
    "duration": 51,
    "start_time": "2022-04-28T07:50:55.554Z"
   },
   {
    "duration": 532,
    "start_time": "2022-04-28T07:50:55.606Z"
   },
   {
    "duration": 111,
    "start_time": "2022-04-28T07:50:56.140Z"
   },
   {
    "duration": 698144,
    "start_time": "2022-04-28T07:50:56.253Z"
   },
   {
    "duration": 0,
    "start_time": "2022-04-28T08:02:34.399Z"
   },
   {
    "duration": 976,
    "start_time": "2022-04-28T08:04:53.059Z"
   },
   {
    "duration": 127,
    "start_time": "2022-04-28T08:04:54.037Z"
   },
   {
    "duration": 214,
    "start_time": "2022-04-28T08:04:54.173Z"
   },
   {
    "duration": 44,
    "start_time": "2022-04-28T08:04:54.389Z"
   },
   {
    "duration": 524,
    "start_time": "2022-04-28T08:04:54.434Z"
   },
   {
    "duration": 103,
    "start_time": "2022-04-28T08:04:54.960Z"
   },
   {
    "duration": 234130,
    "start_time": "2022-04-28T08:04:55.064Z"
   },
   {
    "duration": 6952,
    "start_time": "2022-04-28T08:09:23.145Z"
   },
   {
    "duration": 7211,
    "start_time": "2022-04-28T08:10:45.785Z"
   },
   {
    "duration": 18,
    "start_time": "2022-04-28T08:11:01.196Z"
   },
   {
    "duration": 7024,
    "start_time": "2022-04-28T08:12:13.171Z"
   },
   {
    "duration": 7875,
    "start_time": "2022-04-28T08:15:30.922Z"
   },
   {
    "duration": 7213,
    "start_time": "2022-04-28T08:16:51.576Z"
   },
   {
    "duration": 7812,
    "start_time": "2022-04-28T08:17:20.776Z"
   },
   {
    "duration": 7649,
    "start_time": "2022-04-28T08:19:49.238Z"
   },
   {
    "duration": 6623,
    "start_time": "2022-04-28T08:21:11.158Z"
   },
   {
    "duration": 164,
    "start_time": "2022-04-28T08:25:07.666Z"
   },
   {
    "duration": 509117,
    "start_time": "2022-04-28T08:25:48.595Z"
   },
   {
    "duration": 220440,
    "start_time": "2022-04-28T08:34:22.114Z"
   },
   {
    "duration": 626582,
    "start_time": "2022-04-28T08:40:21.292Z"
   },
   {
    "duration": 5514,
    "start_time": "2022-04-28T08:50:56.862Z"
   },
   {
    "duration": 565,
    "start_time": "2022-04-28T09:17:12.211Z"
   },
   {
    "duration": 948,
    "start_time": "2022-04-28T09:17:52.631Z"
   },
   {
    "duration": 129,
    "start_time": "2022-04-28T09:17:53.581Z"
   },
   {
    "duration": 213,
    "start_time": "2022-04-28T09:17:53.711Z"
   },
   {
    "duration": 46,
    "start_time": "2022-04-28T09:17:53.927Z"
   },
   {
    "duration": 509,
    "start_time": "2022-04-28T09:17:53.975Z"
   },
   {
    "duration": 111,
    "start_time": "2022-04-28T09:17:54.486Z"
   },
   {
    "duration": 225368,
    "start_time": "2022-04-28T09:17:54.599Z"
   },
   {
    "duration": 959317,
    "start_time": "2022-04-28T09:21:39.969Z"
   },
   {
    "duration": 0,
    "start_time": "2022-04-28T09:37:39.288Z"
   },
   {
    "duration": 0,
    "start_time": "2022-04-28T09:37:39.289Z"
   },
   {
    "duration": 17,
    "start_time": "2022-04-28T09:39:01.490Z"
   },
   {
    "duration": 16,
    "start_time": "2022-04-28T09:40:44.342Z"
   },
   {
    "duration": 66600,
    "start_time": "2022-04-28T09:40:58.799Z"
   },
   {
    "duration": 5421,
    "start_time": "2022-04-28T09:42:13.796Z"
   },
   {
    "duration": 154,
    "start_time": "2022-04-28T09:42:22.315Z"
   },
   {
    "duration": 8190,
    "start_time": "2022-04-29T07:56:13.298Z"
   },
   {
    "duration": 143,
    "start_time": "2022-04-29T07:56:21.490Z"
   },
   {
    "duration": 231,
    "start_time": "2022-04-29T07:56:21.635Z"
   },
   {
    "duration": 49,
    "start_time": "2022-04-29T07:56:21.868Z"
   },
   {
    "duration": 616,
    "start_time": "2022-04-29T07:56:21.919Z"
   },
   {
    "duration": 14,
    "start_time": "2022-04-29T07:56:27.570Z"
   },
   {
    "duration": 1059,
    "start_time": "2022-04-29T07:57:09.148Z"
   },
   {
    "duration": 135,
    "start_time": "2022-04-29T07:57:10.209Z"
   },
   {
    "duration": 23,
    "start_time": "2022-04-29T07:57:16.497Z"
   },
   {
    "duration": 18,
    "start_time": "2022-04-29T07:57:30.568Z"
   },
   {
    "duration": 19,
    "start_time": "2022-04-29T07:57:33.089Z"
   },
   {
    "duration": 578,
    "start_time": "2022-04-29T07:57:41.880Z"
   },
   {
    "duration": 22,
    "start_time": "2022-04-29T07:57:44.608Z"
   },
   {
    "duration": 1050,
    "start_time": "2022-04-29T07:59:12.593Z"
   },
   {
    "duration": 132,
    "start_time": "2022-04-29T07:59:13.644Z"
   },
   {
    "duration": 228,
    "start_time": "2022-04-29T07:59:13.778Z"
   },
   {
    "duration": 44,
    "start_time": "2022-04-29T07:59:14.008Z"
   },
   {
    "duration": 529,
    "start_time": "2022-04-29T07:59:16.918Z"
   },
   {
    "duration": 1055,
    "start_time": "2022-04-29T08:00:30.423Z"
   },
   {
    "duration": 132,
    "start_time": "2022-04-29T08:00:31.480Z"
   },
   {
    "duration": 228,
    "start_time": "2022-04-29T08:00:31.614Z"
   },
   {
    "duration": 34,
    "start_time": "2022-04-29T08:00:31.844Z"
   },
   {
    "duration": 557,
    "start_time": "2022-04-29T08:00:31.880Z"
   },
   {
    "duration": 1021,
    "start_time": "2022-04-29T08:05:43.903Z"
   },
   {
    "duration": 136,
    "start_time": "2022-04-29T08:05:44.933Z"
   },
   {
    "duration": 238,
    "start_time": "2022-04-29T08:05:45.071Z"
   },
   {
    "duration": 44,
    "start_time": "2022-04-29T08:05:45.311Z"
   },
   {
    "duration": 563,
    "start_time": "2022-04-29T08:05:45.357Z"
   },
   {
    "duration": 112,
    "start_time": "2022-04-29T08:05:45.921Z"
   },
   {
    "duration": 670121,
    "start_time": "2022-04-29T08:05:58.026Z"
   },
   {
    "duration": 239,
    "start_time": "2022-04-29T08:37:12.550Z"
   },
   {
    "duration": 71,
    "start_time": "2022-04-30T07:36:04.780Z"
   },
   {
    "duration": 3643,
    "start_time": "2022-04-30T07:36:09.936Z"
   },
   {
    "duration": 170,
    "start_time": "2022-04-30T07:36:13.581Z"
   },
   {
    "duration": 303,
    "start_time": "2022-04-30T07:36:13.753Z"
   },
   {
    "duration": 86,
    "start_time": "2022-04-30T07:36:14.060Z"
   },
   {
    "duration": 187,
    "start_time": "2022-04-30T07:36:14.149Z"
   },
   {
    "duration": 19,
    "start_time": "2022-04-30T07:37:12.009Z"
   },
   {
    "duration": 83,
    "start_time": "2022-04-30T07:38:42.497Z"
   },
   {
    "duration": 19,
    "start_time": "2022-04-30T07:38:48.508Z"
   },
   {
    "duration": 17,
    "start_time": "2022-04-30T07:39:06.857Z"
   },
   {
    "duration": 746,
    "start_time": "2022-04-30T07:39:49.919Z"
   },
   {
    "duration": 619,
    "start_time": "2022-04-30T07:40:06.860Z"
   },
   {
    "duration": 65,
    "start_time": "2022-04-30T07:42:52.170Z"
   }
  ],
  "kernelspec": {
   "display_name": "Python 3 (ipykernel)",
   "language": "python",
   "name": "python3"
  },
  "language_info": {
   "codemirror_mode": {
    "name": "ipython",
    "version": 3
   },
   "file_extension": ".py",
   "mimetype": "text/x-python",
   "name": "python",
   "nbconvert_exporter": "python",
   "pygments_lexer": "ipython3",
   "version": "3.9.5"
  },
  "toc": {
   "base_numbering": 1,
   "nav_menu": {},
   "number_sections": true,
   "sideBar": true,
   "skip_h1_title": true,
   "title_cell": "Table of Contents",
   "title_sidebar": "Contents",
   "toc_cell": false,
   "toc_position": {},
   "toc_section_display": true,
   "toc_window_display": false
  }
 },
 "nbformat": 4,
 "nbformat_minor": 2
}
