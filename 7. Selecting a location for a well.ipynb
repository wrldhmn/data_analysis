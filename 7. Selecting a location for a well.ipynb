{
 "cells": [
  {
   "cell_type": "markdown",
   "metadata": {},
   "source": [
    "# Selecting a location for a well"
   ]
  },
  {
   "cell_type": "markdown",
   "metadata": {},
   "source": [
    "Let's say we work for the mining company GlavRosGosNeft. We need to decide where to drill a new well.\n",
    "\n",
    "We were provided with oil samples in three regions: in each 10,000 fields, where the quality of oil and the volume of its reserves were measured. Let's build a machine learning model that will help determine the region where mining will bring the greatest profit. Let's analyze the possible profits and risks using the *Bootstrap.* technique\n",
    "\n",
    "Steps to select a location:\n",
    "\n",
    "- Deposits are searched for in the selected region, and the characteristic values ​​are determined for each;\n",
    "- Build a model and estimate the volume of reserves;\n",
    "- Deposits with the highest value estimates are selected. The number of fields depends on the company’s budget and the cost of developing one well;\n",
    "- Profit is equal to the total profit of the selected fields.\n",
    "\n",
    "<b>Description of data</b>\n",
    "\n",
    "Geological exploration data for three regions is in the following files:\n",
    "\n",
    "- /datasets/geo_data_0.csv.\n",
    "- /datasets/geo_data_1.csv.\n",
    "- /datasets/geo_data_2.csv.\n",
    "- id — unique identifier of the well;\n",
    "- f0, f1, f2 - three signs of points (it doesn’t matter what they mean, but the signs themselves are significant);\n",
    "- product — volume of reserves in the well (thousand barrels).\n",
    "\n",
    "\n",
    "<b>Task conditions:</b>\n",
    "- Only linear regression is suitable for training the model (the others are not predictable enough).\n",
    "- When exploring a region, 500 points are examined, from which, using machine learning, the best 200 are selected for development.\n",
    "- The budget for well development in the region is 10 billion rubles.\n",
    "- At current prices, one barrel of raw materials brings 450 rubles in income. The income from each unit of product is 450 thousand rubles, since the volume is indicated in thousands of barrels.\n",
    "- After assessing the risks, you need to leave only those regions in which the probability of losses is less than 2.5%. Among them, the region with the highest average profit is selected."
   ]
  },
  {
   "cell_type": "markdown",
   "metadata": {},
   "source": [
    "## Loading and preparing data"
   ]
  },
  {
   "cell_type": "markdown",
   "metadata": {},
   "source": [
    "Import the necessary libraries and look at the data"
   ]
  },
  {
   "cell_type": "code",
   "execution_count": 1,
   "metadata": {
    "scrolled": true
   },
   "outputs": [
    {
     "name": "stdout",
     "output_type": "stream",
     "text": [
      "<class 'pandas.core.frame.DataFrame'>\n",
      "RangeIndex: 100000 entries, 0 to 99999\n",
      "Data columns (total 5 columns):\n",
      " #   Column   Non-Null Count   Dtype  \n",
      "---  ------   --------------   -----  \n",
      " 0   id       100000 non-null  object \n",
      " 1   f0       100000 non-null  float64\n",
      " 2   f1       100000 non-null  float64\n",
      " 3   f2       100000 non-null  float64\n",
      " 4   product  100000 non-null  float64\n",
      "dtypes: float64(4), object(1)\n",
      "memory usage: 3.8+ MB\n",
      "None\n"
     ]
    },
    {
     "data": {
      "text/html": [
       "<div>\n",
       "<style scoped>\n",
       "    .dataframe tbody tr th:only-of-type {\n",
       "        vertical-align: middle;\n",
       "    }\n",
       "\n",
       "    .dataframe tbody tr th {\n",
       "        vertical-align: top;\n",
       "    }\n",
       "\n",
       "    .dataframe thead th {\n",
       "        text-align: right;\n",
       "    }\n",
       "</style>\n",
       "<table border=\"1\" class=\"dataframe\">\n",
       "  <thead>\n",
       "    <tr style=\"text-align: right;\">\n",
       "      <th></th>\n",
       "      <th>id</th>\n",
       "      <th>f0</th>\n",
       "      <th>f1</th>\n",
       "      <th>f2</th>\n",
       "      <th>product</th>\n",
       "    </tr>\n",
       "  </thead>\n",
       "  <tbody>\n",
       "    <tr>\n",
       "      <th>0</th>\n",
       "      <td>txEyH</td>\n",
       "      <td>0.705745</td>\n",
       "      <td>-0.497823</td>\n",
       "      <td>1.221170</td>\n",
       "      <td>105.280062</td>\n",
       "    </tr>\n",
       "    <tr>\n",
       "      <th>1</th>\n",
       "      <td>2acmU</td>\n",
       "      <td>1.334711</td>\n",
       "      <td>-0.340164</td>\n",
       "      <td>4.365080</td>\n",
       "      <td>73.037750</td>\n",
       "    </tr>\n",
       "    <tr>\n",
       "      <th>2</th>\n",
       "      <td>409Wp</td>\n",
       "      <td>1.022732</td>\n",
       "      <td>0.151990</td>\n",
       "      <td>1.419926</td>\n",
       "      <td>85.265647</td>\n",
       "    </tr>\n",
       "    <tr>\n",
       "      <th>3</th>\n",
       "      <td>iJLyR</td>\n",
       "      <td>-0.032172</td>\n",
       "      <td>0.139033</td>\n",
       "      <td>2.978566</td>\n",
       "      <td>168.620776</td>\n",
       "    </tr>\n",
       "    <tr>\n",
       "      <th>4</th>\n",
       "      <td>Xdl7t</td>\n",
       "      <td>1.988431</td>\n",
       "      <td>0.155413</td>\n",
       "      <td>4.751769</td>\n",
       "      <td>154.036647</td>\n",
       "    </tr>\n",
       "  </tbody>\n",
       "</table>\n",
       "</div>"
      ],
      "text/plain": [
       "      id        f0        f1        f2     product\n",
       "0  txEyH  0.705745 -0.497823  1.221170  105.280062\n",
       "1  2acmU  1.334711 -0.340164  4.365080   73.037750\n",
       "2  409Wp  1.022732  0.151990  1.419926   85.265647\n",
       "3  iJLyR -0.032172  0.139033  2.978566  168.620776\n",
       "4  Xdl7t  1.988431  0.155413  4.751769  154.036647"
      ]
     },
     "metadata": {},
     "output_type": "display_data"
    },
    {
     "name": "stdout",
     "output_type": "stream",
     "text": [
      "******************************\n",
      "<class 'pandas.core.frame.DataFrame'>\n",
      "RangeIndex: 100000 entries, 0 to 99999\n",
      "Data columns (total 5 columns):\n",
      " #   Column   Non-Null Count   Dtype  \n",
      "---  ------   --------------   -----  \n",
      " 0   id       100000 non-null  object \n",
      " 1   f0       100000 non-null  float64\n",
      " 2   f1       100000 non-null  float64\n",
      " 3   f2       100000 non-null  float64\n",
      " 4   product  100000 non-null  float64\n",
      "dtypes: float64(4), object(1)\n",
      "memory usage: 3.8+ MB\n",
      "None\n"
     ]
    },
    {
     "data": {
      "text/html": [
       "<div>\n",
       "<style scoped>\n",
       "    .dataframe tbody tr th:only-of-type {\n",
       "        vertical-align: middle;\n",
       "    }\n",
       "\n",
       "    .dataframe tbody tr th {\n",
       "        vertical-align: top;\n",
       "    }\n",
       "\n",
       "    .dataframe thead th {\n",
       "        text-align: right;\n",
       "    }\n",
       "</style>\n",
       "<table border=\"1\" class=\"dataframe\">\n",
       "  <thead>\n",
       "    <tr style=\"text-align: right;\">\n",
       "      <th></th>\n",
       "      <th>id</th>\n",
       "      <th>f0</th>\n",
       "      <th>f1</th>\n",
       "      <th>f2</th>\n",
       "      <th>product</th>\n",
       "    </tr>\n",
       "  </thead>\n",
       "  <tbody>\n",
       "    <tr>\n",
       "      <th>0</th>\n",
       "      <td>kBEdx</td>\n",
       "      <td>-15.001348</td>\n",
       "      <td>-8.276000</td>\n",
       "      <td>-0.005876</td>\n",
       "      <td>3.179103</td>\n",
       "    </tr>\n",
       "    <tr>\n",
       "      <th>1</th>\n",
       "      <td>62mP7</td>\n",
       "      <td>14.272088</td>\n",
       "      <td>-3.475083</td>\n",
       "      <td>0.999183</td>\n",
       "      <td>26.953261</td>\n",
       "    </tr>\n",
       "    <tr>\n",
       "      <th>2</th>\n",
       "      <td>vyE1P</td>\n",
       "      <td>6.263187</td>\n",
       "      <td>-5.948386</td>\n",
       "      <td>5.001160</td>\n",
       "      <td>134.766305</td>\n",
       "    </tr>\n",
       "    <tr>\n",
       "      <th>3</th>\n",
       "      <td>KcrkZ</td>\n",
       "      <td>-13.081196</td>\n",
       "      <td>-11.506057</td>\n",
       "      <td>4.999415</td>\n",
       "      <td>137.945408</td>\n",
       "    </tr>\n",
       "    <tr>\n",
       "      <th>4</th>\n",
       "      <td>AHL4O</td>\n",
       "      <td>12.702195</td>\n",
       "      <td>-8.147433</td>\n",
       "      <td>5.004363</td>\n",
       "      <td>134.766305</td>\n",
       "    </tr>\n",
       "  </tbody>\n",
       "</table>\n",
       "</div>"
      ],
      "text/plain": [
       "      id         f0         f1        f2     product\n",
       "0  kBEdx -15.001348  -8.276000 -0.005876    3.179103\n",
       "1  62mP7  14.272088  -3.475083  0.999183   26.953261\n",
       "2  vyE1P   6.263187  -5.948386  5.001160  134.766305\n",
       "3  KcrkZ -13.081196 -11.506057  4.999415  137.945408\n",
       "4  AHL4O  12.702195  -8.147433  5.004363  134.766305"
      ]
     },
     "metadata": {},
     "output_type": "display_data"
    },
    {
     "name": "stdout",
     "output_type": "stream",
     "text": [
      "******************************\n",
      "<class 'pandas.core.frame.DataFrame'>\n",
      "RangeIndex: 100000 entries, 0 to 99999\n",
      "Data columns (total 5 columns):\n",
      " #   Column   Non-Null Count   Dtype  \n",
      "---  ------   --------------   -----  \n",
      " 0   id       100000 non-null  object \n",
      " 1   f0       100000 non-null  float64\n",
      " 2   f1       100000 non-null  float64\n",
      " 3   f2       100000 non-null  float64\n",
      " 4   product  100000 non-null  float64\n",
      "dtypes: float64(4), object(1)\n",
      "memory usage: 3.8+ MB\n",
      "None\n"
     ]
    },
    {
     "data": {
      "text/html": [
       "<div>\n",
       "<style scoped>\n",
       "    .dataframe tbody tr th:only-of-type {\n",
       "        vertical-align: middle;\n",
       "    }\n",
       "\n",
       "    .dataframe tbody tr th {\n",
       "        vertical-align: top;\n",
       "    }\n",
       "\n",
       "    .dataframe thead th {\n",
       "        text-align: right;\n",
       "    }\n",
       "</style>\n",
       "<table border=\"1\" class=\"dataframe\">\n",
       "  <thead>\n",
       "    <tr style=\"text-align: right;\">\n",
       "      <th></th>\n",
       "      <th>id</th>\n",
       "      <th>f0</th>\n",
       "      <th>f1</th>\n",
       "      <th>f2</th>\n",
       "      <th>product</th>\n",
       "    </tr>\n",
       "  </thead>\n",
       "  <tbody>\n",
       "    <tr>\n",
       "      <th>0</th>\n",
       "      <td>fwXo0</td>\n",
       "      <td>-1.146987</td>\n",
       "      <td>0.963328</td>\n",
       "      <td>-0.828965</td>\n",
       "      <td>27.758673</td>\n",
       "    </tr>\n",
       "    <tr>\n",
       "      <th>1</th>\n",
       "      <td>WJtFt</td>\n",
       "      <td>0.262778</td>\n",
       "      <td>0.269839</td>\n",
       "      <td>-2.530187</td>\n",
       "      <td>56.069697</td>\n",
       "    </tr>\n",
       "    <tr>\n",
       "      <th>2</th>\n",
       "      <td>ovLUW</td>\n",
       "      <td>0.194587</td>\n",
       "      <td>0.289035</td>\n",
       "      <td>-5.586433</td>\n",
       "      <td>62.871910</td>\n",
       "    </tr>\n",
       "    <tr>\n",
       "      <th>3</th>\n",
       "      <td>q6cA6</td>\n",
       "      <td>2.236060</td>\n",
       "      <td>-0.553760</td>\n",
       "      <td>0.930038</td>\n",
       "      <td>114.572842</td>\n",
       "    </tr>\n",
       "    <tr>\n",
       "      <th>4</th>\n",
       "      <td>WPMUX</td>\n",
       "      <td>-0.515993</td>\n",
       "      <td>1.716266</td>\n",
       "      <td>5.899011</td>\n",
       "      <td>149.600746</td>\n",
       "    </tr>\n",
       "  </tbody>\n",
       "</table>\n",
       "</div>"
      ],
      "text/plain": [
       "      id        f0        f1        f2     product\n",
       "0  fwXo0 -1.146987  0.963328 -0.828965   27.758673\n",
       "1  WJtFt  0.262778  0.269839 -2.530187   56.069697\n",
       "2  ovLUW  0.194587  0.289035 -5.586433   62.871910\n",
       "3  q6cA6  2.236060 -0.553760  0.930038  114.572842\n",
       "4  WPMUX -0.515993  1.716266  5.899011  149.600746"
      ]
     },
     "metadata": {},
     "output_type": "display_data"
    },
    {
     "name": "stdout",
     "output_type": "stream",
     "text": [
      "******************************\n"
     ]
    }
   ],
   "source": [
    "import pandas as pd\n",
    "import numpy as np\n",
    "import seaborn as sns\n",
    "import matplotlib as plt\n",
    "\n",
    "from sklearn.linear_model import LinearRegression\n",
    "from sklearn.model_selection import train_test_split\n",
    "from sklearn.metrics import mean_squared_error\n",
    "from scipy import stats as st\n",
    "\n",
    "\n",
    "df_0 = pd.read_csv('/datasets/geo_data_0.csv')\n",
    "df_1 = pd.read_csv('/datasets/geo_data_1.csv')\n",
    "df_2 = pd.read_csv('/datasets/geo_data_2.csv')\n",
    "\n",
    "data = [df_0, df_1, df_2]\n",
    "\n",
    "for i in data:\n",
    "    print(i.info())\n",
    "    display(i.head())\n",
    "    print('*' * 30)"
   ]
  },
  {
   "cell_type": "markdown",
   "metadata": {},
   "source": [
    "Let's look at the correlation"
   ]
  },
  {
   "cell_type": "code",
   "execution_count": 225,
   "metadata": {
    "scrolled": true
   },
   "outputs": [
    {
     "name": "stdout",
     "output_type": "stream",
     "text": [
      "               f0        f1        f2   product\n",
      "f0       1.000000 -0.440723 -0.003153  0.143536\n",
      "f1      -0.440723  1.000000  0.001724 -0.192356\n",
      "f2      -0.003153  0.001724  1.000000  0.483663\n",
      "product  0.143536 -0.192356  0.483663  1.000000\n",
      "******************************\n",
      "               f0        f1        f2   product\n",
      "f0       1.000000  0.182287 -0.001777 -0.030491\n",
      "f1       0.182287  1.000000 -0.002595 -0.010155\n",
      "f2      -0.001777 -0.002595  1.000000  0.999397\n",
      "product -0.030491 -0.010155  0.999397  1.000000\n",
      "******************************\n",
      "               f0        f1        f2   product\n",
      "f0       1.000000  0.000528 -0.000448 -0.001987\n",
      "f1       0.000528  1.000000  0.000779 -0.001012\n",
      "f2      -0.000448  0.000779  1.000000  0.445871\n",
      "product -0.001987 -0.001012  0.445871  1.000000\n",
      "******************************\n"
     ]
    }
   ],
   "source": [
    "for i in data:\n",
    "    print(i.corr())\n",
    "    print('*' * 30)"
   ]
  },
  {
   "cell_type": "markdown",
   "metadata": {},
   "source": [
    "### Conclusion\n",
    "\n",
    "Data does not contain gaps\n",
    "\n",
    "Of the three characteristics, f2 correlates most with product. Moreover, in df_1 the correlation is almost 100%.\n",
    "\n",
    "Let's move on to building models"
   ]
  },
  {
   "cell_type": "markdown",
   "metadata": {},
   "source": [
    "## Model training and testing"
   ]
  },
  {
   "cell_type": "markdown",
   "metadata": {},
   "source": [
    "<b>Train the model using the data from the first region</b>"
   ]
  },
  {
   "cell_type": "code",
   "execution_count": 226,
   "metadata": {
    "scrolled": true
   },
   "outputs": [
    {
     "name": "stdout",
     "output_type": "stream",
     "text": [
      "RMSE 37.5794217150813\n",
      "Среднее кол-во нефти в регионе 92.50000000000001\n",
      "Score 0.2266310049191338\n"
     ]
    }
   ],
   "source": [
    "features_0 = df_0.drop(['product', 'id'], axis=1) #признаки \n",
    "target_0 = df_0['product'] # цель\n",
    "\n",
    "features_train_0, features_valid_0, target_train_0, target_valid_0 = train_test_split(features_0,\\\n",
    "    target_0, test_size=.25, random_state=12345)\n",
    "\n",
    "model_0 = LinearRegression(n_jobs=-1)\n",
    "model_0.fit(features_train_0, target_train_0)\n",
    "prediction_0 = model_0.predict(features_valid_0)\n",
    "rmse_0 = mean_squared_error(target_valid_0, prediction_0)**0.5\n",
    "scores_0 = model.score(features_train_0, target_train_0)\n",
    "print(\"RMSE\", rmse_0)\n",
    "print('Среднее кол-во нефти в регионе', df_0['product'].mean())\n",
    "print('Score', scores_0)"
   ]
  },
  {
   "cell_type": "markdown",
   "metadata": {},
   "source": [
    "<b>Train the model using the data from the second region</b>"
   ]
  },
  {
   "cell_type": "code",
   "execution_count": 227,
   "metadata": {},
   "outputs": [
    {
     "name": "stdout",
     "output_type": "stream",
     "text": [
      "RMSE 0.893099286775616\n",
      "Среднее кол-во нефти в регионе 68.82500000000002\n",
      "Score 0.047375840663758884\n"
     ]
    }
   ],
   "source": [
    "features_1 = df_1.drop(['product', 'id'], axis=1) #признаки \n",
    "target_1 = df_1['product'] # цель\n",
    "\n",
    "features_train_1, features_valid_1, target_train_1, target_valid_1 = train_test_split(features_1,\\\n",
    "    target_1, test_size=.25, random_state=12345)\n",
    "\n",
    "model_1 = LinearRegression(n_jobs=-1)\n",
    "model_1.fit(features_train_1, target_train_1)\n",
    "prediction_1 = model_1.predict(features_valid_1)\n",
    "rmse_1 = mean_squared_error(target_valid_1, prediction_1)**0.5\n",
    "scores_1 = model.score(features_train_1, target_train_1)\n",
    "print(\"RMSE\", rmse_1)\n",
    "print('Среднее кол-во нефти в регионе', df_1['product'].mean())\n",
    "print('Score', scores_1)"
   ]
  },
  {
   "cell_type": "markdown",
   "metadata": {},
   "source": [
    "<b>Train the model using data from the third region</b>"
   ]
  },
  {
   "cell_type": "code",
   "execution_count": 228,
   "metadata": {},
   "outputs": [
    {
     "name": "stdout",
     "output_type": "stream",
     "text": [
      "RMSE 40.02970873393434\n",
      "Среднее кол-во нефти в регионе 95.00000000000004\n",
      "Score 0.19661432867329998\n"
     ]
    }
   ],
   "source": [
    "features_2 = df_2.drop(['product', 'id'], axis=1) #признаки \n",
    "target_2 = df_2['product'] # цель\n",
    "\n",
    "features_train_2, features_valid_2, target_train_2, target_valid_2 = train_test_split(features_2,\\\n",
    "    target_2, test_size=.25, random_state=12345)\n",
    "\n",
    "model_2 = LinearRegression(n_jobs=-1)\n",
    "model_2.fit(features_train_2, target_train_2)\n",
    "prediction_2 = model_2.predict(features_valid_2)\n",
    "rmse_2 = mean_squared_error(target_valid_2, prediction_2)**0.5\n",
    "scores_2 = model.score(features_train_2, target_train_2)\n",
    "print(\"RMSE\", rmse_2)\n",
    "print('Среднее кол-во нефти в регионе', df_2['product'].mean())\n",
    "print('Score', scores_2)"
   ]
  },
  {
   "cell_type": "markdown",
   "metadata": {},
   "source": [
    "### Conclusion\n",
    "\n",
    "The RMSE of the first and third regions is quite high - 37 and 40, respectively.\n",
    "RMSE of the second region - 0.9\n",
    "\n",
    "The average amount of raw materials in region 2 is the smallest - 68 tons\n",
    "\n",
    "Let's move on to calculating profit"
   ]
  },
  {
   "cell_type": "markdown",
   "metadata": {},
   "source": [
    "## Preparation for profit calculation"
   ]
  },
  {
   "cell_type": "markdown",
   "metadata": {},
   "source": [
    "Let us denote the necessary variables according to the wording of the problem"
   ]
  },
  {
   "cell_type": "code",
   "execution_count": 229,
   "metadata": {},
   "outputs": [],
   "source": [
    "wells_all = 500 # wells to be studied\n",
    "wells_best = 200 # select only 200 out of 500\n",
    "budget = 10_000_000_000 # total budget\n",
    "barrel = 450 # revenue per barrel\n",
    "product = 450,000 # income per product (1 product = 1,000 barrels)"
   ]
  },
  {
   "cell_type": "markdown",
   "metadata": {},
   "source": [
    "Let's find a budget for 1 well"
   ]
  },
  {
   "cell_type": "code",
   "execution_count": 230,
   "metadata": {},
   "outputs": [
    {
     "data": {
      "text/plain": [
       "50000000.0"
      ]
     },
     "execution_count": 230,
     "metadata": {},
     "output_type": "execute_result"
    }
   ],
   "source": [
    "budget_well_best = budget / wells_best\n",
    "budget_well_best"
   ]
  },
  {
   "cell_type": "markdown",
   "metadata": {},
   "source": [
    "Minimum payback per well"
   ]
  },
  {
   "cell_type": "code",
   "execution_count": 231,
   "metadata": {},
   "outputs": [
    {
     "data": {
      "text/plain": [
       "111.11111111111111"
      ]
     },
     "execution_count": 231,
     "metadata": {},
     "output_type": "execute_result"
    }
   ],
   "source": [
    "min_product = budget_well_best / revenue_product\n",
    "min_product"
   ]
  },
  {
   "cell_type": "markdown",
   "metadata": {},
   "source": [
    "Let's write a function to determine profit for each region"
   ]
  },
  {
   "cell_type": "code",
   "execution_count": 232,
   "metadata": {},
   "outputs": [],
   "source": [
    "prediction_0 = pd.Series(prediction_0)\n",
    "target_valid_0 = pd.Series(target_valid_0).reset_index(drop=True)\n"
   ]
  },
  {
   "cell_type": "code",
   "execution_count": 233,
   "metadata": {},
   "outputs": [
    {
     "name": "stdout",
     "output_type": "stream",
     "text": [
      "Прибыль для первого региона: 3.3208260431398524 млрд руб\n"
     ]
    }
   ],
   "source": [
    "def revenue(target, predicted, count=200):\n",
    "    predicted_sorted = predicted.sort_values(ascending=False)\n",
    "    selected = target[predicted_sorted.index][:count]\n",
    "    return (((revenue_product * selected.sum() - budget))) / 1_000_000_000\n",
    "print('Прибыль для первого региона:', revenue(target_valid_0, prediction_0), 'млрд руб')\n"
   ]
  },
  {
   "cell_type": "code",
   "execution_count": 234,
   "metadata": {},
   "outputs": [
    {
     "name": "stdout",
     "output_type": "stream",
     "text": [
      "Прибыль для первого региона: 2.4150866966815108\n"
     ]
    }
   ],
   "source": [
    "prediction_1 = pd.Series(prediction_1)\n",
    "target_valid_1 = pd.Series(target_valid_1).reset_index(drop=True)\n",
    "\n",
    "print('Прибыль для первого региона:', revenue(target_valid_1, prediction_1))"
   ]
  },
  {
   "cell_type": "code",
   "execution_count": 235,
   "metadata": {},
   "outputs": [
    {
     "name": "stdout",
     "output_type": "stream",
     "text": [
      "Прибыль для первого региона: 2.7103499635998327\n"
     ]
    }
   ],
   "source": [
    "prediction_2 = pd.Series(prediction_2)\n",
    "target_valid_2 = pd.Series(target_valid_2).reset_index(drop=True)\n",
    "\n",
    "print('Прибыль для первого региона:', revenue(target_valid_2, prediction_2))"
   ]
  },
  {
   "cell_type": "markdown",
   "metadata": {},
   "source": [
    "### Conclusion\n",
    "\n",
    "From the results obtained above, we conclude that the profit of the 1st region is the highest and amounts to 3.3 billion rubles. 2nd - 2.4 billion rubles. 3rd - 2.7 billion rubles\n",
    "\n",
    "Let's move on to calculating profits and risks"
   ]
  },
  {
   "cell_type": "markdown",
   "metadata": {},
   "source": [
    "## Calculation of profits and risks"
   ]
  },
  {
   "cell_type": "markdown",
   "metadata": {},
   "source": [
    "Let's analyze the first region"
   ]
  },
  {
   "cell_type": "code",
   "execution_count": 236,
   "metadata": {},
   "outputs": [
    {
     "name": "stdout",
     "output_type": "stream",
     "text": [
      "Средняя прибыль для региона 0: 0.42593852691059236\n",
      "Доверительный интервал для региона 0: -0.10209009483793655 : 0.9479763533583688\n",
      "Риск 6.0 %\n"
     ]
    }
   ],
   "source": [
    "state = np.random.RandomState(12345)\n",
    "values_0 = []\n",
    "for i in range(1000):\n",
    "    target_subsample_0 = target_valid_0.sample(n=500, replace=True, random_state = state)\n",
    "    predictions_subsample_0 = prediction_0[target_subsample_0.index]\n",
    "    values_0.append(revenue(target_subsample_0, predictions_subsample_0))\n",
    "values_0 = pd.Series(values_0)\n",
    "mean_0 = values_0.mean()\n",
    "lower_0 = values_0.quantile(0.025)\n",
    "upper_0 = values_0.quantile(0.975)\n",
    "risk_0 = (((values_0 < 0).sum() / len(values_0)) * 100)\n",
    "print('Средняя прибыль для региона 0:', mean_0)\n",
    "print('Доверительный интервал для региона 0:', lower_0, ':', upper_0)\n",
    "print('Риск', risk_0, '%')"
   ]
  },
  {
   "cell_type": "markdown",
   "metadata": {},
   "source": [
    "Let's analyze the second region"
   ]
  },
  {
   "cell_type": "code",
   "execution_count": 237,
   "metadata": {},
   "outputs": [
    {
     "name": "stdout",
     "output_type": "stream",
     "text": [
      "Средняя прибыль для региона 1: 0.5182594936973248\n",
      "Доверительный интервал для региона 1: 0.1281232314330863 : 0.9536129820669086\n",
      "Риск 0.3 %\n"
     ]
    }
   ],
   "source": [
    "values_1 = []\n",
    "for i in range(1000):\n",
    "    target_subsample_1 = target_valid_1.sample(n=500, replace=True, random_state = state)\n",
    "    predictions_subsample_1 = prediction_1[target_subsample_1.index]\n",
    "    values_1.append(revenue(target_subsample_1, predictions_subsample_1))\n",
    "values_1 = pd.Series(values_1)\n",
    "mean_1 = values_1.mean()\n",
    "lower_1 = values_1.quantile(0.025)\n",
    "upper_1 = values_1.quantile(0.975)\n",
    "risk_1 = (((values_1 < 0).sum() / len(values_1)) * 100)\n",
    "print('Средняя прибыль для региона 1:', mean_1)\n",
    "print('Доверительный интервал для региона 1:', lower_1, ':', upper_1)\n",
    "print('Риск', risk_1, '%')"
   ]
  },
  {
   "cell_type": "markdown",
   "metadata": {},
   "source": [
    "Let's analyze the third region"
   ]
  },
  {
   "cell_type": "code",
   "execution_count": 238,
   "metadata": {},
   "outputs": [
    {
     "name": "stdout",
     "output_type": "stream",
     "text": [
      "Средняя прибыль для региона 2: 0.4201940053440501\n",
      "Доверительный интервал для региона 2: -0.11585260916001143 : 0.989629939844574\n",
      "Риск 6.2 %\n"
     ]
    }
   ],
   "source": [
    "values_2 = []\n",
    "for i in range(1000):\n",
    "    target_subsample_2 = target_valid_2.sample(n=500, replace=True, random_state = state)\n",
    "    predictions_subsample_2 = prediction_2[target_subsample_2.index]\n",
    "    values_2.append(revenue(target_subsample_2, predictions_subsample_2))\n",
    "values_2 = pd.Series(values_2)\n",
    "mean_2 = values_2.mean()\n",
    "lower_2 = values_2.quantile(0.025)\n",
    "upper_2 = values_2.quantile(0.975)\n",
    "risk_2 = (((values_2 < 0).sum() / len(values_2)) * 100)\n",
    "print('Средняя прибыль для региона 2:', mean_2)\n",
    "print('Доверительный интервал для региона 2:', lower_2, ':', upper_2)\n",
    "print('Риск', risk_2, '%')"
   ]
  },
  {
   "cell_type": "markdown",
   "metadata": {},
   "source": [
    "### Conclusion\n",
    "\n",
    "The second region has the highest average profit - 0.5 billion rubles\n",
    "\n",
    "This region also has the lowest risk - 0.3%\n"
   ]
  },
  {
   "cell_type": "markdown",
   "metadata": {},
   "source": [
    "## General conclusion\n",
    "\n",
    "We analyzed data on raw material production for three regions.\n",
    "\n",
    "Of the three regions, region 2 is the most attractive for mining.\n",
    "\n",
    "This region has the highest average profit and the lowest risks"
   ]
  },
  {
   "cell_type": "code",
   "execution_count": null,
   "metadata": {},
   "outputs": [],
   "source": []
  }
 ],
 "metadata": {
  "ExecuteTimeLog": [
   {
    "duration": 1467,
    "start_time": "2022-03-16T10:55:24.734Z"
   },
   {
    "duration": 439,
    "start_time": "2022-03-16T10:55:51.747Z"
   },
   {
    "duration": 441,
    "start_time": "2022-03-16T10:56:23.894Z"
   },
   {
    "duration": 1268,
    "start_time": "2022-03-16T11:16:34.030Z"
   },
   {
    "duration": 538,
    "start_time": "2022-03-16T11:59:42.516Z"
   },
   {
    "duration": 8,
    "start_time": "2022-03-16T12:00:21.221Z"
   },
   {
    "duration": 6,
    "start_time": "2022-03-16T12:00:58.307Z"
   },
   {
    "duration": 405,
    "start_time": "2022-03-16T12:02:29.890Z"
   },
   {
    "duration": 33,
    "start_time": "2022-03-16T12:04:08.054Z"
   },
   {
    "duration": 4,
    "start_time": "2022-03-16T12:04:51.135Z"
   },
   {
    "duration": 23,
    "start_time": "2022-03-16T12:05:39.398Z"
   },
   {
    "duration": 5,
    "start_time": "2022-03-16T12:05:48.589Z"
   },
   {
    "duration": 5,
    "start_time": "2022-03-16T12:06:03.629Z"
   },
   {
    "duration": 15,
    "start_time": "2022-03-16T12:35:19.631Z"
   },
   {
    "duration": 4,
    "start_time": "2022-03-16T12:35:21.991Z"
   },
   {
    "duration": 333,
    "start_time": "2022-03-16T12:45:56.865Z"
   },
   {
    "duration": 471,
    "start_time": "2022-03-16T12:46:10.811Z"
   },
   {
    "duration": 229,
    "start_time": "2022-03-16T12:46:16.597Z"
   },
   {
    "duration": 14,
    "start_time": "2022-03-16T12:47:04.165Z"
   },
   {
    "duration": 37,
    "start_time": "2022-03-16T12:48:27.805Z"
   },
   {
    "duration": 90,
    "start_time": "2022-03-16T12:49:26.345Z"
   },
   {
    "duration": 62,
    "start_time": "2022-03-16T12:49:31.181Z"
   },
   {
    "duration": 38,
    "start_time": "2022-03-16T12:50:35.716Z"
   },
   {
    "duration": 3,
    "start_time": "2022-03-16T13:41:20.832Z"
   },
   {
    "duration": 4,
    "start_time": "2022-03-16T13:42:13.812Z"
   },
   {
    "duration": 3,
    "start_time": "2022-03-16T13:43:56.900Z"
   },
   {
    "duration": 3,
    "start_time": "2022-03-16T14:10:21.252Z"
   },
   {
    "duration": 56,
    "start_time": "2022-03-16T15:30:15.237Z"
   },
   {
    "duration": 37,
    "start_time": "2022-03-16T15:30:19.033Z"
   },
   {
    "duration": 56,
    "start_time": "2022-03-16T15:30:34.184Z"
   },
   {
    "duration": 27,
    "start_time": "2022-03-16T15:31:12.645Z"
   },
   {
    "duration": 390,
    "start_time": "2022-03-16T15:31:23.093Z"
   },
   {
    "duration": 52,
    "start_time": "2022-03-16T15:31:23.485Z"
   },
   {
    "duration": 115,
    "start_time": "2022-03-16T15:31:23.539Z"
   },
   {
    "duration": 195,
    "start_time": "2022-03-16T15:31:23.656Z"
   },
   {
    "duration": 29,
    "start_time": "2022-03-16T15:31:57.031Z"
   },
   {
    "duration": 33,
    "start_time": "2022-03-16T15:32:04.229Z"
   },
   {
    "duration": 28,
    "start_time": "2022-03-16T15:32:09.522Z"
   },
   {
    "duration": 194,
    "start_time": "2022-03-16T15:33:53.516Z"
   },
   {
    "duration": 342,
    "start_time": "2022-03-16T15:34:03.647Z"
   },
   {
    "duration": 3,
    "start_time": "2022-03-16T15:34:25.894Z"
   },
   {
    "duration": 175,
    "start_time": "2022-03-16T15:34:27.938Z"
   },
   {
    "duration": 484,
    "start_time": "2022-03-16T15:34:28.262Z"
   },
   {
    "duration": 387,
    "start_time": "2022-03-16T15:46:31.178Z"
   },
   {
    "duration": 420,
    "start_time": "2022-03-16T15:46:49.388Z"
   },
   {
    "duration": 24,
    "start_time": "2022-03-16T15:46:53.998Z"
   },
   {
    "duration": 24,
    "start_time": "2022-03-16T15:47:14.591Z"
   },
   {
    "duration": 31,
    "start_time": "2022-03-16T15:47:27.728Z"
   },
   {
    "duration": 24,
    "start_time": "2022-03-16T15:50:55.046Z"
   },
   {
    "duration": 24,
    "start_time": "2022-03-16T15:51:45.759Z"
   },
   {
    "duration": 26,
    "start_time": "2022-03-16T15:52:01.182Z"
   },
   {
    "duration": 24,
    "start_time": "2022-03-16T15:52:23.143Z"
   },
   {
    "duration": 3,
    "start_time": "2022-03-16T15:54:14.675Z"
   },
   {
    "duration": 4,
    "start_time": "2022-03-16T15:55:07.794Z"
   },
   {
    "duration": 56,
    "start_time": "2022-03-16T15:56:30.193Z"
   },
   {
    "duration": 2,
    "start_time": "2022-03-16T15:56:32.501Z"
   },
   {
    "duration": 4,
    "start_time": "2022-03-16T15:56:39.013Z"
   },
   {
    "duration": 308,
    "start_time": "2022-03-16T16:03:30.750Z"
   },
   {
    "duration": 4,
    "start_time": "2022-03-16T16:04:22.058Z"
   },
   {
    "duration": 6,
    "start_time": "2022-03-16T16:04:30.010Z"
   },
   {
    "duration": 3,
    "start_time": "2022-03-16T16:04:47.919Z"
   },
   {
    "duration": 285,
    "start_time": "2022-03-16T16:04:49.457Z"
   },
   {
    "duration": 344,
    "start_time": "2022-03-16T16:05:08.643Z"
   },
   {
    "duration": 3,
    "start_time": "2022-03-16T16:05:18.260Z"
   },
   {
    "duration": 10,
    "start_time": "2022-03-16T16:05:21.605Z"
   },
   {
    "duration": 10,
    "start_time": "2022-03-16T16:05:44.072Z"
   },
   {
    "duration": 26,
    "start_time": "2022-03-16T16:09:10.205Z"
   },
   {
    "duration": 40,
    "start_time": "2022-03-16T16:10:03.747Z"
   },
   {
    "duration": 26,
    "start_time": "2022-03-16T16:11:09.205Z"
   },
   {
    "duration": 381,
    "start_time": "2022-03-16T16:11:22.075Z"
   },
   {
    "duration": 25,
    "start_time": "2022-03-16T16:11:22.458Z"
   },
   {
    "duration": 105,
    "start_time": "2022-03-16T16:11:22.537Z"
   },
   {
    "duration": 109,
    "start_time": "2022-03-16T16:11:22.644Z"
   },
   {
    "duration": 16,
    "start_time": "2022-03-16T16:11:22.837Z"
   },
   {
    "duration": 9,
    "start_time": "2022-03-16T16:11:22.933Z"
   },
   {
    "duration": 8,
    "start_time": "2022-03-16T16:11:22.944Z"
   },
   {
    "duration": 4,
    "start_time": "2022-03-16T16:11:22.956Z"
   },
   {
    "duration": 12,
    "start_time": "2022-03-16T16:11:22.962Z"
   },
   {
    "duration": 10,
    "start_time": "2022-03-16T16:12:41.317Z"
   },
   {
    "duration": 12,
    "start_time": "2022-03-16T16:14:59.928Z"
   },
   {
    "duration": 10,
    "start_time": "2022-03-16T16:15:16.091Z"
   },
   {
    "duration": 10,
    "start_time": "2022-03-16T16:15:30.578Z"
   },
   {
    "duration": 3,
    "start_time": "2022-03-16T16:17:36.026Z"
   },
   {
    "duration": 3,
    "start_time": "2022-03-16T16:17:43.860Z"
   },
   {
    "duration": 10,
    "start_time": "2022-03-16T16:17:46.205Z"
   },
   {
    "duration": 9,
    "start_time": "2022-03-16T16:18:31.464Z"
   },
   {
    "duration": 178,
    "start_time": "2022-03-16T16:19:26.671Z"
   },
   {
    "duration": 11,
    "start_time": "2022-03-16T16:19:32.217Z"
   },
   {
    "duration": 5,
    "start_time": "2022-03-16T16:19:56.164Z"
   },
   {
    "duration": 4,
    "start_time": "2022-03-16T16:20:48.482Z"
   },
   {
    "duration": 246,
    "start_time": "2022-03-16T16:21:20.670Z"
   },
   {
    "duration": 177,
    "start_time": "2022-03-16T16:21:31.101Z"
   },
   {
    "duration": 205,
    "start_time": "2022-03-16T16:21:37.227Z"
   },
   {
    "duration": 16,
    "start_time": "2022-03-16T16:21:41.905Z"
   },
   {
    "duration": 11,
    "start_time": "2022-03-16T16:22:44.748Z"
   },
   {
    "duration": 12,
    "start_time": "2022-03-16T16:22:50.154Z"
   },
   {
    "duration": 12,
    "start_time": "2022-03-16T16:26:37.630Z"
   },
   {
    "duration": 4,
    "start_time": "2022-03-16T16:28:11.720Z"
   },
   {
    "duration": 8,
    "start_time": "2022-03-16T16:28:13.172Z"
   },
   {
    "duration": 8,
    "start_time": "2022-03-16T16:28:37.448Z"
   },
   {
    "duration": 5,
    "start_time": "2022-03-16T16:29:11.693Z"
   },
   {
    "duration": 235,
    "start_time": "2022-03-16T16:29:58.712Z"
   },
   {
    "duration": 65,
    "start_time": "2022-03-16T16:30:02.239Z"
   },
   {
    "duration": 3,
    "start_time": "2022-03-16T16:30:07.390Z"
   },
   {
    "duration": 8,
    "start_time": "2022-03-16T16:30:09.209Z"
   },
   {
    "duration": 5,
    "start_time": "2022-03-16T16:30:10.766Z"
   },
   {
    "duration": 2,
    "start_time": "2022-03-16T16:30:17.584Z"
   },
   {
    "duration": 8,
    "start_time": "2022-03-16T16:30:18.359Z"
   },
   {
    "duration": 5,
    "start_time": "2022-03-16T16:30:19.851Z"
   },
   {
    "duration": 340,
    "start_time": "2022-03-16T16:30:25.850Z"
   },
   {
    "duration": 49,
    "start_time": "2022-03-16T16:30:26.192Z"
   },
   {
    "duration": 190,
    "start_time": "2022-03-16T16:30:26.244Z"
   },
   {
    "duration": 112,
    "start_time": "2022-03-16T16:30:26.441Z"
   },
   {
    "duration": 85,
    "start_time": "2022-03-16T16:30:26.555Z"
   },
   {
    "duration": 10,
    "start_time": "2022-03-16T16:30:26.732Z"
   },
   {
    "duration": 6,
    "start_time": "2022-03-16T16:30:26.744Z"
   },
   {
    "duration": 5,
    "start_time": "2022-03-16T16:30:26.751Z"
   },
   {
    "duration": 13,
    "start_time": "2022-03-16T16:30:26.758Z"
   },
   {
    "duration": 4,
    "start_time": "2022-03-16T16:30:26.773Z"
   },
   {
    "duration": 5,
    "start_time": "2022-03-16T17:49:13.013Z"
   },
   {
    "duration": 5,
    "start_time": "2022-03-16T17:49:33.542Z"
   },
   {
    "duration": 153,
    "start_time": "2022-03-16T17:49:51.130Z"
   },
   {
    "duration": 4,
    "start_time": "2022-03-16T17:49:53.439Z"
   },
   {
    "duration": 4,
    "start_time": "2022-03-16T17:50:01.870Z"
   },
   {
    "duration": 4,
    "start_time": "2022-03-16T17:50:12.909Z"
   },
   {
    "duration": 4,
    "start_time": "2022-03-16T17:51:06.781Z"
   },
   {
    "duration": 5,
    "start_time": "2022-03-16T17:51:11.880Z"
   },
   {
    "duration": 5,
    "start_time": "2022-03-16T17:51:16.037Z"
   },
   {
    "duration": 10,
    "start_time": "2022-03-16T17:51:29.385Z"
   },
   {
    "duration": 10,
    "start_time": "2022-03-16T17:52:09.409Z"
   },
   {
    "duration": 9,
    "start_time": "2022-03-16T17:52:24.230Z"
   },
   {
    "duration": 14,
    "start_time": "2022-03-16T17:53:12.206Z"
   },
   {
    "duration": 10,
    "start_time": "2022-03-16T17:53:14.142Z"
   },
   {
    "duration": 169,
    "start_time": "2022-03-16T17:57:06.038Z"
   },
   {
    "duration": 3174,
    "start_time": "2022-03-16T17:57:36.680Z"
   },
   {
    "duration": 3164,
    "start_time": "2022-03-16T17:59:44.954Z"
   },
   {
    "duration": 585,
    "start_time": "2022-03-16T18:11:44.133Z"
   },
   {
    "duration": 32,
    "start_time": "2022-03-16T18:11:44.720Z"
   },
   {
    "duration": 192,
    "start_time": "2022-03-16T18:11:44.755Z"
   },
   {
    "duration": 198,
    "start_time": "2022-03-16T18:11:44.949Z"
   },
   {
    "duration": 4,
    "start_time": "2022-03-16T18:11:45.149Z"
   },
   {
    "duration": 101,
    "start_time": "2022-03-16T18:11:45.234Z"
   },
   {
    "duration": 7,
    "start_time": "2022-03-16T18:11:45.336Z"
   },
   {
    "duration": 4,
    "start_time": "2022-03-16T18:11:45.345Z"
   },
   {
    "duration": 13,
    "start_time": "2022-03-16T18:11:45.350Z"
   },
   {
    "duration": 8,
    "start_time": "2022-03-16T18:11:45.365Z"
   },
   {
    "duration": 9,
    "start_time": "2022-03-16T18:11:45.374Z"
   },
   {
    "duration": 2999,
    "start_time": "2022-03-16T18:11:53.970Z"
   },
   {
    "duration": 5,
    "start_time": "2022-03-16T18:15:23.179Z"
   },
   {
    "duration": 5,
    "start_time": "2022-03-16T18:15:40.753Z"
   },
   {
    "duration": 3049,
    "start_time": "2022-03-16T18:16:50.721Z"
   },
   {
    "duration": 11,
    "start_time": "2022-03-16T18:17:21.842Z"
   },
   {
    "duration": 6,
    "start_time": "2022-03-16T18:17:34.115Z"
   },
   {
    "duration": 5,
    "start_time": "2022-03-16T18:17:45.403Z"
   },
   {
    "duration": 4,
    "start_time": "2022-03-16T18:17:51.676Z"
   },
   {
    "duration": 391,
    "start_time": "2022-03-16T18:20:51.262Z"
   },
   {
    "duration": 515,
    "start_time": "2022-03-16T18:21:00.136Z"
   },
   {
    "duration": 85,
    "start_time": "2022-03-16T18:21:00.653Z"
   },
   {
    "duration": 118,
    "start_time": "2022-03-16T18:21:00.740Z"
   },
   {
    "duration": 117,
    "start_time": "2022-03-16T18:21:00.935Z"
   },
   {
    "duration": 78,
    "start_time": "2022-03-16T18:21:01.055Z"
   },
   {
    "duration": 99,
    "start_time": "2022-03-16T18:21:01.136Z"
   },
   {
    "duration": 11,
    "start_time": "2022-03-16T18:21:01.237Z"
   },
   {
    "duration": 9,
    "start_time": "2022-03-16T18:21:01.250Z"
   },
   {
    "duration": 24,
    "start_time": "2022-03-16T18:21:01.261Z"
   },
   {
    "duration": 11,
    "start_time": "2022-03-16T18:21:01.287Z"
   },
   {
    "duration": 17,
    "start_time": "2022-03-16T18:21:01.300Z"
   },
   {
    "duration": 3030,
    "start_time": "2022-03-16T18:21:03.163Z"
   },
   {
    "duration": 3064,
    "start_time": "2022-03-16T18:21:43.064Z"
   },
   {
    "duration": 3183,
    "start_time": "2022-03-16T18:22:02.376Z"
   },
   {
    "duration": 2991,
    "start_time": "2022-03-16T18:22:26.542Z"
   },
   {
    "duration": 2977,
    "start_time": "2022-03-16T18:22:50.330Z"
   },
   {
    "duration": 2996,
    "start_time": "2022-03-16T18:23:26.954Z"
   },
   {
    "duration": 2981,
    "start_time": "2022-03-16T18:23:53.443Z"
   },
   {
    "duration": 3078,
    "start_time": "2022-03-16T18:36:17.034Z"
   },
   {
    "duration": 3356,
    "start_time": "2022-03-16T18:37:43.446Z"
   },
   {
    "duration": 3040,
    "start_time": "2022-03-16T19:03:19.259Z"
   },
   {
    "duration": 3014,
    "start_time": "2022-03-16T19:03:46.823Z"
   },
   {
    "duration": 3049,
    "start_time": "2022-03-16T19:05:03.967Z"
   },
   {
    "duration": 3003,
    "start_time": "2022-03-16T19:05:09.219Z"
   },
   {
    "duration": 210,
    "start_time": "2022-03-16T19:08:23.430Z"
   },
   {
    "duration": 40,
    "start_time": "2022-03-16T19:08:31.793Z"
   },
   {
    "duration": 76,
    "start_time": "2022-03-16T19:09:15.058Z"
   },
   {
    "duration": 37,
    "start_time": "2022-03-16T19:09:49.510Z"
   },
   {
    "duration": 520,
    "start_time": "2022-03-16T19:13:06.448Z"
   },
   {
    "duration": 4560,
    "start_time": "2022-03-16T19:14:48.936Z"
   },
   {
    "duration": 352,
    "start_time": "2022-03-16T19:16:24.268Z"
   },
   {
    "duration": 393,
    "start_time": "2022-03-16T19:16:38.659Z"
   },
   {
    "duration": 359,
    "start_time": "2022-03-16T19:18:02.985Z"
   },
   {
    "duration": 481,
    "start_time": "2022-03-16T19:18:51.343Z"
   },
   {
    "duration": 445,
    "start_time": "2022-03-16T19:19:19.542Z"
   },
   {
    "duration": 253,
    "start_time": "2022-03-16T19:20:17.657Z"
   },
   {
    "duration": 429,
    "start_time": "2022-03-16T19:20:40.626Z"
   },
   {
    "duration": 421,
    "start_time": "2022-03-16T19:21:40.804Z"
   },
   {
    "duration": 590,
    "start_time": "2022-03-16T19:21:45.714Z"
   },
   {
    "duration": 564,
    "start_time": "2022-03-16T19:22:02.444Z"
   },
   {
    "duration": 556,
    "start_time": "2022-03-16T19:22:09.957Z"
   },
   {
    "duration": 313,
    "start_time": "2022-03-16T19:22:41.680Z"
   },
   {
    "duration": 541,
    "start_time": "2022-03-16T19:22:47.985Z"
   },
   {
    "duration": 169,
    "start_time": "2022-03-16T19:23:01.372Z"
   },
   {
    "duration": 162,
    "start_time": "2022-03-16T19:23:21.266Z"
   },
   {
    "duration": 212,
    "start_time": "2022-03-16T19:23:29.912Z"
   },
   {
    "duration": 187,
    "start_time": "2022-03-16T19:23:45.046Z"
   },
   {
    "duration": 354,
    "start_time": "2022-03-16T19:23:52.498Z"
   },
   {
    "duration": 166,
    "start_time": "2022-03-16T19:23:56.712Z"
   },
   {
    "duration": 204,
    "start_time": "2022-03-16T19:24:05.849Z"
   },
   {
    "duration": 20,
    "start_time": "2022-03-16T19:25:42.456Z"
   },
   {
    "duration": 5,
    "start_time": "2022-03-16T19:37:10.972Z"
   },
   {
    "duration": 5,
    "start_time": "2022-03-16T19:37:24.908Z"
   },
   {
    "duration": 58,
    "start_time": "2022-03-16T19:37:32.662Z"
   },
   {
    "duration": 4,
    "start_time": "2022-03-16T19:37:41.439Z"
   },
   {
    "duration": 59,
    "start_time": "2022-03-16T19:37:58.201Z"
   },
   {
    "duration": 52,
    "start_time": "2022-03-16T19:38:06.633Z"
   },
   {
    "duration": 67,
    "start_time": "2022-03-16T19:38:10.881Z"
   },
   {
    "duration": 5,
    "start_time": "2022-03-16T19:38:22.253Z"
   },
   {
    "duration": 7,
    "start_time": "2022-03-16T19:38:48.581Z"
   },
   {
    "duration": 8,
    "start_time": "2022-03-16T19:38:52.782Z"
   },
   {
    "duration": 5,
    "start_time": "2022-03-16T19:38:56.553Z"
   },
   {
    "duration": 3,
    "start_time": "2022-03-16T19:41:11.404Z"
   },
   {
    "duration": 3,
    "start_time": "2022-03-16T19:41:15.190Z"
   },
   {
    "duration": 4,
    "start_time": "2022-03-16T19:41:16.266Z"
   },
   {
    "duration": 3,
    "start_time": "2022-03-16T19:41:20.530Z"
   },
   {
    "duration": 64,
    "start_time": "2022-03-16T19:45:11.330Z"
   },
   {
    "duration": 352,
    "start_time": "2022-03-16T19:50:36.574Z"
   },
   {
    "duration": 23,
    "start_time": "2022-03-16T19:50:36.928Z"
   },
   {
    "duration": 83,
    "start_time": "2022-03-16T19:50:36.953Z"
   },
   {
    "duration": 194,
    "start_time": "2022-03-16T19:50:37.039Z"
   },
   {
    "duration": 199,
    "start_time": "2022-03-16T19:50:37.236Z"
   },
   {
    "duration": 4,
    "start_time": "2022-03-16T19:50:37.437Z"
   },
   {
    "duration": 7,
    "start_time": "2022-03-16T19:50:37.533Z"
   },
   {
    "duration": 15,
    "start_time": "2022-03-16T19:50:37.542Z"
   },
   {
    "duration": 6,
    "start_time": "2022-03-16T19:50:37.558Z"
   },
   {
    "duration": 16,
    "start_time": "2022-03-16T19:50:37.565Z"
   },
   {
    "duration": 11,
    "start_time": "2022-03-16T19:50:37.582Z"
   },
   {
    "duration": 9,
    "start_time": "2022-03-16T19:50:37.594Z"
   },
   {
    "duration": 3184,
    "start_time": "2022-03-16T19:50:37.605Z"
   },
   {
    "duration": 3108,
    "start_time": "2022-03-16T19:50:40.791Z"
   },
   {
    "duration": 3095,
    "start_time": "2022-03-16T19:50:43.900Z"
   },
   {
    "duration": 3025,
    "start_time": "2022-03-21T12:25:01.925Z"
   }
  ],
  "kernelspec": {
   "display_name": "Python 3 (ipykernel)",
   "language": "python",
   "name": "python3"
  },
  "language_info": {
   "codemirror_mode": {
    "name": "ipython",
    "version": 3
   },
   "file_extension": ".py",
   "mimetype": "text/x-python",
   "name": "python",
   "nbconvert_exporter": "python",
   "pygments_lexer": "ipython3",
   "version": "3.9.5"
  },
  "toc": {
   "base_numbering": 1,
   "nav_menu": {},
   "number_sections": true,
   "sideBar": true,
   "skip_h1_title": true,
   "title_cell": "Table of Contents",
   "title_sidebar": "Contents",
   "toc_cell": false,
   "toc_position": {},
   "toc_section_display": true,
   "toc_window_display": false
  }
 },
 "nbformat": 4,
 "nbformat_minor": 2
}
