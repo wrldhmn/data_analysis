{
 "cells": [
  {
   "cell_type": "markdown",
   "metadata": {},
   "source": [
    "# \"Games\""
   ]
  },
  {
   "cell_type": "markdown",
   "metadata": {},
   "source": [
    "**Project Description**"
   ]
  },
  {
   "cell_type": "markdown",
   "metadata": {},
   "source": [
    "You work at \"Streamchik,\" an online store that sells computer games worldwide. Historical data on game sales, user and expert ratings, genres, and platforms (e.g., Xbox or PlayStation) are available from open sources."
   ]
  },
  {
   "cell_type": "markdown",
   "metadata": {},
   "source": [
    "**Task**"
   ]
  },
  {
   "cell_type": "markdown",
   "metadata": {},
   "source": [
    "It is necessary to identify patterns that determine the success of a game. This will allow you to bet on a potentially popular product and plan advertising campaigns."
   ]
  },
  {
   "cell_type": "markdown",
   "metadata": {},
   "source": [
    "**Data Description**"
   ]
  },
  {
   "cell_type": "markdown",
   "metadata": {},
   "source": [
    "- **Name**: Game title\n",
    "- **Platform**: Gaming platform\n",
    "- **Year_of_Release**: Release year\n",
    "- **Genre**: Game genre\n",
    "- **NA_sales**: Sales in North America (millions of copies sold)\n",
    "- **EU_sales**: Sales in Europe (millions of copies sold)\n",
    "- **JP_sales**: Sales in Japan (millions of copies sold)\n",
    "- **Other_sales**: Sales in other countries (millions of copies sold)\n",
    "- **Critic_Score**: Critic score (maximum 100)\n",
    "- **User_Score**: User score (maximum 10)\n",
    "- **Rating**: Rating from the Entertainment Software Rating Board (ESRB). This association assigns age ratings to computer games."
   ]
  },
  {
   "cell_type": "markdown",
   "metadata": {},
   "source": [
    "## First Glance at the Data"
   ]
  },
  {
   "cell_type": "markdown",
   "metadata": {},
   "source": [
    "Let's import the necessary libraries and display basic information."
   ]
  },
  {
   "cell_type": "code",
   "execution_count": 435,
   "metadata": {},
   "outputs": [
    {
     "name": "stdout",
     "output_type": "stream",
     "text": [
      "<class 'pandas.core.frame.DataFrame'>\n",
      "RangeIndex: 16715 entries, 0 to 16714\n",
      "Data columns (total 11 columns):\n",
      "Name               16713 non-null object\n",
      "Platform           16715 non-null object\n",
      "Year_of_Release    16446 non-null float64\n",
      "Genre              16713 non-null object\n",
      "NA_sales           16715 non-null float64\n",
      "EU_sales           16715 non-null float64\n",
      "JP_sales           16715 non-null float64\n",
      "Other_sales        16715 non-null float64\n",
      "Critic_Score       8137 non-null float64\n",
      "User_Score         10014 non-null object\n",
      "Rating             9949 non-null object\n",
      "dtypes: float64(6), object(5)\n",
      "memory usage: 1.4+ MB\n",
      "None\n"
     ]
    },
    {
     "data": {
      "text/html": [
       "<div>\n",
       "<style scoped>\n",
       "    .dataframe tbody tr th:only-of-type {\n",
       "        vertical-align: middle;\n",
       "    }\n",
       "\n",
       "    .dataframe tbody tr th {\n",
       "        vertical-align: top;\n",
       "    }\n",
       "\n",
       "    .dataframe thead th {\n",
       "        text-align: right;\n",
       "    }\n",
       "</style>\n",
       "<table border=\"1\" class=\"dataframe\">\n",
       "  <thead>\n",
       "    <tr style=\"text-align: right;\">\n",
       "      <th></th>\n",
       "      <th>Name</th>\n",
       "      <th>Platform</th>\n",
       "      <th>Year_of_Release</th>\n",
       "      <th>Genre</th>\n",
       "      <th>NA_sales</th>\n",
       "      <th>EU_sales</th>\n",
       "      <th>JP_sales</th>\n",
       "      <th>Other_sales</th>\n",
       "      <th>Critic_Score</th>\n",
       "      <th>User_Score</th>\n",
       "      <th>Rating</th>\n",
       "    </tr>\n",
       "  </thead>\n",
       "  <tbody>\n",
       "    <tr>\n",
       "      <td>0</td>\n",
       "      <td>Wii Sports</td>\n",
       "      <td>Wii</td>\n",
       "      <td>2006.0</td>\n",
       "      <td>Sports</td>\n",
       "      <td>41.36</td>\n",
       "      <td>28.96</td>\n",
       "      <td>3.77</td>\n",
       "      <td>8.45</td>\n",
       "      <td>76.0</td>\n",
       "      <td>8</td>\n",
       "      <td>E</td>\n",
       "    </tr>\n",
       "    <tr>\n",
       "      <td>1</td>\n",
       "      <td>Super Mario Bros.</td>\n",
       "      <td>NES</td>\n",
       "      <td>1985.0</td>\n",
       "      <td>Platform</td>\n",
       "      <td>29.08</td>\n",
       "      <td>3.58</td>\n",
       "      <td>6.81</td>\n",
       "      <td>0.77</td>\n",
       "      <td>NaN</td>\n",
       "      <td>NaN</td>\n",
       "      <td>NaN</td>\n",
       "    </tr>\n",
       "    <tr>\n",
       "      <td>2</td>\n",
       "      <td>Mario Kart Wii</td>\n",
       "      <td>Wii</td>\n",
       "      <td>2008.0</td>\n",
       "      <td>Racing</td>\n",
       "      <td>15.68</td>\n",
       "      <td>12.76</td>\n",
       "      <td>3.79</td>\n",
       "      <td>3.29</td>\n",
       "      <td>82.0</td>\n",
       "      <td>8.3</td>\n",
       "      <td>E</td>\n",
       "    </tr>\n",
       "    <tr>\n",
       "      <td>3</td>\n",
       "      <td>Wii Sports Resort</td>\n",
       "      <td>Wii</td>\n",
       "      <td>2009.0</td>\n",
       "      <td>Sports</td>\n",
       "      <td>15.61</td>\n",
       "      <td>10.93</td>\n",
       "      <td>3.28</td>\n",
       "      <td>2.95</td>\n",
       "      <td>80.0</td>\n",
       "      <td>8</td>\n",
       "      <td>E</td>\n",
       "    </tr>\n",
       "    <tr>\n",
       "      <td>4</td>\n",
       "      <td>Pokemon Red/Pokemon Blue</td>\n",
       "      <td>GB</td>\n",
       "      <td>1996.0</td>\n",
       "      <td>Role-Playing</td>\n",
       "      <td>11.27</td>\n",
       "      <td>8.89</td>\n",
       "      <td>10.22</td>\n",
       "      <td>1.00</td>\n",
       "      <td>NaN</td>\n",
       "      <td>NaN</td>\n",
       "      <td>NaN</td>\n",
       "    </tr>\n",
       "  </tbody>\n",
       "</table>\n",
       "</div>"
      ],
      "text/plain": [
       "                       Name Platform  Year_of_Release         Genre  NA_sales  \\\n",
       "0                Wii Sports      Wii           2006.0        Sports     41.36   \n",
       "1         Super Mario Bros.      NES           1985.0      Platform     29.08   \n",
       "2            Mario Kart Wii      Wii           2008.0        Racing     15.68   \n",
       "3         Wii Sports Resort      Wii           2009.0        Sports     15.61   \n",
       "4  Pokemon Red/Pokemon Blue       GB           1996.0  Role-Playing     11.27   \n",
       "\n",
       "   EU_sales  JP_sales  Other_sales  Critic_Score User_Score Rating  \n",
       "0     28.96      3.77         8.45          76.0          8      E  \n",
       "1      3.58      6.81         0.77           NaN        NaN    NaN  \n",
       "2     12.76      3.79         3.29          82.0        8.3      E  \n",
       "3     10.93      3.28         2.95          80.0          8      E  \n",
       "4      8.89     10.22         1.00           NaN        NaN    NaN  "
      ]
     },
     "metadata": {},
     "output_type": "display_data"
    }
   ],
   "source": [
    "from scipy import stats as st\n",
    "import numpy as np\n",
    "import pandas as pd\n",
    "import math\n",
    "import seaborn as sns\n",
    "import matplotlib.pyplot as plt\n",
    "\n",
    "df = pd.read_csv('/datasets/games.csv')\n",
    "\n",
    "print(df.info())\n",
    "display(df.head())"
   ]
  },
  {
   "cell_type": "markdown",
   "metadata": {},
   "source": [
    "Let's display information about missing values."
   ]
  },
  {
   "cell_type": "code",
   "execution_count": 436,
   "metadata": {},
   "outputs": [
    {
     "data": {
      "text/plain": [
       "Name                  2\n",
       "Platform              0\n",
       "Year_of_Release     269\n",
       "Genre                 2\n",
       "NA_sales              0\n",
       "EU_sales              0\n",
       "JP_sales              0\n",
       "Other_sales           0\n",
       "Critic_Score       8578\n",
       "User_Score         6701\n",
       "Rating             6766\n",
       "dtype: int64"
      ]
     },
     "execution_count": 436,
     "metadata": {},
     "output_type": "execute_result"
    }
   ],
   "source": [
    "df.isna().sum()"
   ]
  },
  {
   "cell_type": "markdown",
   "metadata": {},
   "source": [
    "Let's display the general description of the dataframe."
   ]
  },
  {
   "cell_type": "code",
   "execution_count": 437,
   "metadata": {},
   "outputs": [
    {
     "data": {
      "text/html": [
       "<div>\n",
       "<style scoped>\n",
       "    .dataframe tbody tr th:only-of-type {\n",
       "        vertical-align: middle;\n",
       "    }\n",
       "\n",
       "    .dataframe tbody tr th {\n",
       "        vertical-align: top;\n",
       "    }\n",
       "\n",
       "    .dataframe thead th {\n",
       "        text-align: right;\n",
       "    }\n",
       "</style>\n",
       "<table border=\"1\" class=\"dataframe\">\n",
       "  <thead>\n",
       "    <tr style=\"text-align: right;\">\n",
       "      <th></th>\n",
       "      <th>Year_of_Release</th>\n",
       "      <th>NA_sales</th>\n",
       "      <th>EU_sales</th>\n",
       "      <th>JP_sales</th>\n",
       "      <th>Other_sales</th>\n",
       "      <th>Critic_Score</th>\n",
       "    </tr>\n",
       "  </thead>\n",
       "  <tbody>\n",
       "    <tr>\n",
       "      <td>count</td>\n",
       "      <td>16446.000000</td>\n",
       "      <td>16715.000000</td>\n",
       "      <td>16715.000000</td>\n",
       "      <td>16715.000000</td>\n",
       "      <td>16715.000000</td>\n",
       "      <td>8137.000000</td>\n",
       "    </tr>\n",
       "    <tr>\n",
       "      <td>mean</td>\n",
       "      <td>2006.484616</td>\n",
       "      <td>0.263377</td>\n",
       "      <td>0.145060</td>\n",
       "      <td>0.077617</td>\n",
       "      <td>0.047342</td>\n",
       "      <td>68.967679</td>\n",
       "    </tr>\n",
       "    <tr>\n",
       "      <td>std</td>\n",
       "      <td>5.877050</td>\n",
       "      <td>0.813604</td>\n",
       "      <td>0.503339</td>\n",
       "      <td>0.308853</td>\n",
       "      <td>0.186731</td>\n",
       "      <td>13.938165</td>\n",
       "    </tr>\n",
       "    <tr>\n",
       "      <td>min</td>\n",
       "      <td>1980.000000</td>\n",
       "      <td>0.000000</td>\n",
       "      <td>0.000000</td>\n",
       "      <td>0.000000</td>\n",
       "      <td>0.000000</td>\n",
       "      <td>13.000000</td>\n",
       "    </tr>\n",
       "    <tr>\n",
       "      <td>25%</td>\n",
       "      <td>2003.000000</td>\n",
       "      <td>0.000000</td>\n",
       "      <td>0.000000</td>\n",
       "      <td>0.000000</td>\n",
       "      <td>0.000000</td>\n",
       "      <td>60.000000</td>\n",
       "    </tr>\n",
       "    <tr>\n",
       "      <td>50%</td>\n",
       "      <td>2007.000000</td>\n",
       "      <td>0.080000</td>\n",
       "      <td>0.020000</td>\n",
       "      <td>0.000000</td>\n",
       "      <td>0.010000</td>\n",
       "      <td>71.000000</td>\n",
       "    </tr>\n",
       "    <tr>\n",
       "      <td>75%</td>\n",
       "      <td>2010.000000</td>\n",
       "      <td>0.240000</td>\n",
       "      <td>0.110000</td>\n",
       "      <td>0.040000</td>\n",
       "      <td>0.030000</td>\n",
       "      <td>79.000000</td>\n",
       "    </tr>\n",
       "    <tr>\n",
       "      <td>max</td>\n",
       "      <td>2016.000000</td>\n",
       "      <td>41.360000</td>\n",
       "      <td>28.960000</td>\n",
       "      <td>10.220000</td>\n",
       "      <td>10.570000</td>\n",
       "      <td>98.000000</td>\n",
       "    </tr>\n",
       "  </tbody>\n",
       "</table>\n",
       "</div>"
      ],
      "text/plain": [
       "       Year_of_Release      NA_sales      EU_sales      JP_sales  \\\n",
       "count     16446.000000  16715.000000  16715.000000  16715.000000   \n",
       "mean       2006.484616      0.263377      0.145060      0.077617   \n",
       "std           5.877050      0.813604      0.503339      0.308853   \n",
       "min        1980.000000      0.000000      0.000000      0.000000   \n",
       "25%        2003.000000      0.000000      0.000000      0.000000   \n",
       "50%        2007.000000      0.080000      0.020000      0.000000   \n",
       "75%        2010.000000      0.240000      0.110000      0.040000   \n",
       "max        2016.000000     41.360000     28.960000     10.220000   \n",
       "\n",
       "        Other_sales  Critic_Score  \n",
       "count  16715.000000   8137.000000  \n",
       "mean       0.047342     68.967679  \n",
       "std        0.186731     13.938165  \n",
       "min        0.000000     13.000000  \n",
       "25%        0.000000     60.000000  \n",
       "50%        0.010000     71.000000  \n",
       "75%        0.030000     79.000000  \n",
       "max       10.570000     98.000000  "
      ]
     },
     "execution_count": 437,
     "metadata": {},
     "output_type": "execute_result"
    }
   ],
   "source": [
    "df.describe()"
   ]
  },
  {
   "cell_type": "markdown",
   "metadata": {},
   "source": [
    "### Conclusion\n",
    "\n",
    "There are missing values in some columns. We will remove them later.\n",
    "\n",
    "There are also rows with zero sales in regions.\n",
    "\n",
    "In the Rating column, there are values \"tbd\". We'll further process it."
   ]
  },
  {
   "cell_type": "markdown",
   "metadata": {},
   "source": [
    "## Data Preparation"
   ]
  },
  {
   "cell_type": "markdown",
   "metadata": {},
   "source": [
    "Let's convert the columns Name, Platform, Genre, and Rating to lowercase."
   ]
  },
  {
   "cell_type": "code",
   "execution_count": 438,
   "metadata": {},
   "outputs": [],
   "source": [
    "df_lower = ['Name', 'Platform', 'Genre', 'Rating']\n",
    "\n",
    "for i in df_lower:\n",
    "    df[i] = df[i].str.lower()"
   ]
  },
  {
   "cell_type": "markdown",
   "metadata": {},
   "source": [
    "Let's display rows with empty values in the Name column."
   ]
  },
  {
   "cell_type": "code",
   "execution_count": 439,
   "metadata": {},
   "outputs": [
    {
     "data": {
      "text/html": [
       "<div>\n",
       "<style scoped>\n",
       "    .dataframe tbody tr th:only-of-type {\n",
       "        vertical-align: middle;\n",
       "    }\n",
       "\n",
       "    .dataframe tbody tr th {\n",
       "        vertical-align: top;\n",
       "    }\n",
       "\n",
       "    .dataframe thead th {\n",
       "        text-align: right;\n",
       "    }\n",
       "</style>\n",
       "<table border=\"1\" class=\"dataframe\">\n",
       "  <thead>\n",
       "    <tr style=\"text-align: right;\">\n",
       "      <th></th>\n",
       "      <th>Name</th>\n",
       "      <th>Platform</th>\n",
       "      <th>Year_of_Release</th>\n",
       "      <th>Genre</th>\n",
       "      <th>NA_sales</th>\n",
       "      <th>EU_sales</th>\n",
       "      <th>JP_sales</th>\n",
       "      <th>Other_sales</th>\n",
       "      <th>Critic_Score</th>\n",
       "      <th>User_Score</th>\n",
       "      <th>Rating</th>\n",
       "    </tr>\n",
       "  </thead>\n",
       "  <tbody>\n",
       "    <tr>\n",
       "      <td>659</td>\n",
       "      <td>NaN</td>\n",
       "      <td>gen</td>\n",
       "      <td>1993.0</td>\n",
       "      <td>NaN</td>\n",
       "      <td>1.78</td>\n",
       "      <td>0.53</td>\n",
       "      <td>0.00</td>\n",
       "      <td>0.08</td>\n",
       "      <td>NaN</td>\n",
       "      <td>NaN</td>\n",
       "      <td>NaN</td>\n",
       "    </tr>\n",
       "    <tr>\n",
       "      <td>14244</td>\n",
       "      <td>NaN</td>\n",
       "      <td>gen</td>\n",
       "      <td>1993.0</td>\n",
       "      <td>NaN</td>\n",
       "      <td>0.00</td>\n",
       "      <td>0.00</td>\n",
       "      <td>0.03</td>\n",
       "      <td>0.00</td>\n",
       "      <td>NaN</td>\n",
       "      <td>NaN</td>\n",
       "      <td>NaN</td>\n",
       "    </tr>\n",
       "  </tbody>\n",
       "</table>\n",
       "</div>"
      ],
      "text/plain": [
       "      Name Platform  Year_of_Release Genre  NA_sales  EU_sales  JP_sales  \\\n",
       "659    NaN      gen           1993.0   NaN      1.78      0.53      0.00   \n",
       "14244  NaN      gen           1993.0   NaN      0.00      0.00      0.03   \n",
       "\n",
       "       Other_sales  Critic_Score User_Score Rating  \n",
       "659           0.08           NaN        NaN    NaN  \n",
       "14244         0.00           NaN        NaN    NaN  "
      ]
     },
     "execution_count": 439,
     "metadata": {},
     "output_type": "execute_result"
    }
   ],
   "source": [
    "df.query('Name.isna() == True')"
   ]
  },
  {
   "cell_type": "markdown",
   "metadata": {},
   "source": [
    "Let's delete these rows."
   ]
  },
  {
   "cell_type": "code",
   "execution_count": 440,
   "metadata": {},
   "outputs": [],
   "source": [
    "df = df.query('Name.isna() == False')"
   ]
  },
  {
   "cell_type": "markdown",
   "metadata": {},
   "source": [
    "From the description of the table, we can see that the median of Year_of_Release is 2007. Let's replace missing values with this number, as there are not too many of them."
   ]
  },
  {
   "cell_type": "code",
   "execution_count": 441,
   "metadata": {},
   "outputs": [],
   "source": [
    "df['Year_of_Release'] = df['Year_of_Release'].fillna(2007)"
   ]
  },
  {
   "cell_type": "markdown",
   "metadata": {},
   "source": [
    "Let's replace missing values in the Critic_Score column with -1, indicating that -1 represents missing values."
   ]
  },
  {
   "cell_type": "code",
   "execution_count": 442,
   "metadata": {},
   "outputs": [],
   "source": [
    "df['Critic_Score'] = df['Critic_Score'].fillna(-1)"
   ]
  },
  {
   "cell_type": "markdown",
   "metadata": {},
   "source": [
    "In the User_Score column, there are values \"tbd\" - To Be Determined. Let's change all these values to -1."
   ]
  },
  {
   "cell_type": "code",
   "execution_count": 443,
   "metadata": {},
   "outputs": [],
   "source": [
    "df.loc[df['User_Score'] == 'tbd', 'User_Score'] = -1"
   ]
  },
  {
   "cell_type": "markdown",
   "metadata": {},
   "source": [
    "Let's replace all missing values in the User_Score column with -1."
   ]
  },
  {
   "cell_type": "code",
   "execution_count": 444,
   "metadata": {},
   "outputs": [],
   "source": [
    "df['User_Score'] = df['User_Score'].fillna(-1)"
   ]
  },
  {
   "cell_type": "code",
   "execution_count": 445,
   "metadata": {},
   "outputs": [
    {
     "name": "stdout",
     "output_type": "stream",
     "text": [
      "<class 'pandas.core.frame.DataFrame'>\n",
      "Int64Index: 16713 entries, 0 to 16714\n",
      "Data columns (total 11 columns):\n",
      "Name               16713 non-null object\n",
      "Platform           16713 non-null object\n",
      "Year_of_Release    16713 non-null float64\n",
      "Genre              16713 non-null object\n",
      "NA_sales           16713 non-null float64\n",
      "EU_sales           16713 non-null float64\n",
      "JP_sales           16713 non-null float64\n",
      "Other_sales        16713 non-null float64\n",
      "Critic_Score       16713 non-null float64\n",
      "User_Score         16713 non-null object\n",
      "Rating             9949 non-null object\n",
      "dtypes: float64(6), object(5)\n",
      "memory usage: 1.5+ MB\n"
     ]
    }
   ],
   "source": [
    "df.info()"
   ]
  },
  {
   "cell_type": "markdown",
   "metadata": {},
   "source": [
    "Let's replace all missing values in the Rating column with 'No info'."
   ]
  },
  {
   "cell_type": "code",
   "execution_count": 446,
   "metadata": {},
   "outputs": [],
   "source": [
    "df['Rating'] = df['Rating'].fillna('No info')"
   ]
  },
  {
   "cell_type": "markdown",
   "metadata": {},
   "source": [
    "We've dealt with the missing values."
   ]
  },
  {
   "cell_type": "markdown",
   "metadata": {},
   "source": [
    "Let's convert the column names to lowercase."
   ]
  },
  {
   "cell_type": "code",
   "execution_count": 447,
   "metadata": {},
   "outputs": [],
   "source": [
    "df.columns = df.columns.str.lower()"
   ]
  },
  {
   "cell_type": "markdown",
   "metadata": {},
   "source": [
    "Let's check for duplicates."
   ]
  },
  {
   "cell_type": "code",
   "execution_count": 448,
   "metadata": {},
   "outputs": [
    {
     "data": {
      "text/plain": [
       "0"
      ]
     },
     "execution_count": 448,
     "metadata": {},
     "output_type": "execute_result"
    }
   ],
   "source": [
    "df.duplicated().sum()"
   ]
  },
  {
   "cell_type": "markdown",
   "metadata": {},
   "source": [
    "There are no duplicates.\n",
    "\n",
    "Let's change the data types."
   ]
  },
  {
   "cell_type": "code",
   "execution_count": 449,
   "metadata": {},
   "outputs": [
    {
     "name": "stdout",
     "output_type": "stream",
     "text": [
      "<class 'pandas.core.frame.DataFrame'>\n",
      "Int64Index: 16713 entries, 0 to 16714\n",
      "Data columns (total 11 columns):\n",
      "name               16713 non-null object\n",
      "platform           16713 non-null object\n",
      "year_of_release    16713 non-null float64\n",
      "genre              16713 non-null object\n",
      "na_sales           16713 non-null float64\n",
      "eu_sales           16713 non-null float64\n",
      "jp_sales           16713 non-null float64\n",
      "other_sales        16713 non-null float64\n",
      "critic_score       16713 non-null float64\n",
      "user_score         16713 non-null object\n",
      "rating             16713 non-null object\n",
      "dtypes: float64(6), object(5)\n",
      "memory usage: 1.5+ MB\n"
     ]
    }
   ],
   "source": [
    "df.info()"
   ]
  },
  {
   "cell_type": "code",
   "execution_count": 450,
   "metadata": {},
   "outputs": [],
   "source": [
    "df['year_of_release'] = df['year_of_release'].astype(int)\n",
    "df['user_score'] = df['user_score'].astype(float)"
   ]
  },
  {
   "cell_type": "markdown",
   "metadata": {},
   "source": [
    "Let's calculate the total sales in all regions."
   ]
  },
  {
   "cell_type": "code",
   "execution_count": 451,
   "metadata": {},
   "outputs": [],
   "source": [
    "df['total_sales'] = df['na_sales'] + df['eu_sales'] + df['jp_sales'] + df['other_sales']"
   ]
  },
  {
   "cell_type": "markdown",
   "metadata": {},
   "source": [
    "### Conclusion\n",
    "\n",
    "1. Changed data types.\n",
    "2. Converted all data to lowercase.\n",
    "3. Handled missing values."
   ]
  },
  {
   "cell_type": "markdown",
   "metadata": {},
   "source": [
    "## Exploratory Data Analysis"
   ]
  },
  {
   "cell_type": "markdown",
   "metadata": {},
   "source": [
    "### Let's see how many games were released in different years."
   ]
  },
  {
   "cell_type": "code",
   "execution_count": 452,
   "metadata": {
    "scrolled": false
   },
   "outputs": [
    {
     "data": {
      "text/plain": [
       "Text(0.5, 1.0, 'График кол-ва релиза игр в период 1980 - 2016 гг')"
      ]
     },
     "execution_count": 452,
     "metadata": {},
     "output_type": "execute_result"
    },
    {
     "data": {
      "image/png": "[encoded data removed]",
      "text/plain": [
       "<Figure size 1080x360 with 1 Axes>"
      ]
     },
     "metadata": {
      "needs_background": "light"
     },
     "output_type": "display_data"
    }
   ],
   "source": [
    "df_years = df.pivot_table(index='year_of_release', values='name', aggfunc='count').reset_index()\n",
    "df_years.plot(kind='bar', x='year_of_release', figsize=(15, 5))\n",
    "plt.title(\"График кол-ва релиза игр в период 1980 - 2016 гг\")"
   ]
  },
  {
   "cell_type": "markdown",
   "metadata": {},
   "source": [
    "Let's find the most popular platforms."
   ]
  },
  {
   "cell_type": "code",
   "execution_count": 453,
   "metadata": {},
   "outputs": [
    {
     "data": {
      "text/html": [
       "<div>\n",
       "<style scoped>\n",
       "    .dataframe tbody tr th:only-of-type {\n",
       "        vertical-align: middle;\n",
       "    }\n",
       "\n",
       "    .dataframe tbody tr th {\n",
       "        vertical-align: top;\n",
       "    }\n",
       "\n",
       "    .dataframe thead th {\n",
       "        text-align: right;\n",
       "    }\n",
       "</style>\n",
       "<table border=\"1\" class=\"dataframe\">\n",
       "  <thead>\n",
       "    <tr style=\"text-align: right;\">\n",
       "      <th></th>\n",
       "      <th>platform</th>\n",
       "      <th>total_sales</th>\n",
       "    </tr>\n",
       "  </thead>\n",
       "  <tbody>\n",
       "    <tr>\n",
       "      <td>16</td>\n",
       "      <td>ps2</td>\n",
       "      <td>1255.77</td>\n",
       "    </tr>\n",
       "    <tr>\n",
       "      <td>28</td>\n",
       "      <td>x360</td>\n",
       "      <td>971.42</td>\n",
       "    </tr>\n",
       "    <tr>\n",
       "      <td>17</td>\n",
       "      <td>ps3</td>\n",
       "      <td>939.65</td>\n",
       "    </tr>\n",
       "    <tr>\n",
       "      <td>25</td>\n",
       "      <td>wii</td>\n",
       "      <td>907.51</td>\n",
       "    </tr>\n",
       "  </tbody>\n",
       "</table>\n",
       "</div>"
      ],
      "text/plain": [
       "   platform  total_sales\n",
       "16      ps2      1255.77\n",
       "28     x360       971.42\n",
       "17      ps3       939.65\n",
       "25      wii       907.51"
      ]
     },
     "execution_count": 453,
     "metadata": {},
     "output_type": "execute_result"
    }
   ],
   "source": [
    "df_years_platform = df.pivot_table(index=['year_of_release', 'platform'], values='total_sales', aggfunc='sum').reset_index()\n",
    "df_years_platform.groupby('platform')['total_sales'].sum().reset_index().sort_values(by='total_sales', ascending=False).head(4)"
   ]
  },
  {
   "cell_type": "code",
   "execution_count": 454,
   "metadata": {},
   "outputs": [],
   "source": [
    "top_platform = ['ps2', 'x360', 'ps3', 'wii']"
   ]
  },
  {
   "cell_type": "code",
   "execution_count": 455,
   "metadata": {},
   "outputs": [],
   "source": [
    "df_years_platform_top = df_years_platform.query('platform in @top_platform')"
   ]
  },
  {
   "cell_type": "code",
   "execution_count": 456,
   "metadata": {},
   "outputs": [
    {
     "data": {
      "image/png": "[encoded data removed]",
      "text/plain": [
       "<Figure size 1080x360 with 1 Axes>"
      ]
     },
     "metadata": {
      "needs_background": "light"
     },
     "output_type": "display_data"
    }
   ],
   "source": [
    "line,ax = plt.subplots(figsize=(15,5))\n",
    "ax = sns.lineplot(x=\"year_of_release\", y=\"total_sales\", data=df_years_platform_top, palette=\"pastel\", hue=\"platform\")\n",
    "plt.title('График суммарного кол-ва продаж ТОП-4 игр')\n",
    "plt.show()"
   ]
  },
  {
   "cell_type": "markdown",
   "metadata": {},
   "source": [
    "From 2000 to 2005, PS2 was in the lead, from 2005 to 2010 it was Wii, and from 2010 onwards, PS3 and X360 were approximately at the same level."
   ]
  },
  {
   "cell_type": "markdown",
   "metadata": {},
   "source": [
    "Let's plot a sales graph for each of the top 4 platforms."
   ]
  },
  {
   "cell_type": "code",
   "execution_count": 457,
   "metadata": {},
   "outputs": [
    {
     "data": {
      "image/png": "[encoded data removed]",
      "text/plain": [
       "<Figure size 1296x360 with 4 Axes>"
      ]
     },
     "metadata": {
      "needs_background": "light"
     },
     "output_type": "display_data"
    }
   ],
   "source": [
    "ps2 = df_years_platform_top.query('platform == \"ps2\"')\n",
    "x360 = df_years_platform_top.query('platform == \"x360\"')\n",
    "ps3 = df_years_platform_top.query('platform == \"ps3\"')\n",
    "wii = df_years_platform_top.query('platform == \"wii\"')\n",
    "\n",
    "fig, axs = plt.subplots(2, 2, figsize=(18, 5))\n",
    "axs[0, 0].plot(ps2['year_of_release'], ps2['total_sales'])\n",
    "axs[0, 0].set_title('ps2')\n",
    "axs[0, 1].plot(wii['year_of_release'], wii['total_sales'], 'tab:orange')\n",
    "axs[0, 1].set_title('wii')\n",
    "axs[1, 0].plot(ps3['year_of_release'], ps3['total_sales'], 'tab:green')\n",
    "axs[1, 0].set_title('ps3')\n",
    "axs[1, 1].plot(x360['year_of_release'], x360['total_sales'], 'tab:red')\n",
    "axs[1, 1].set_title('x360')\n",
    "\n",
    "for ax in axs.flat:\n",
    "    ax.set(xlabel='year_of_release', ylabel='total_sales')\n",
    "\n",
    "# Hide x labels and tick labels for top plots and y ticks for right plots.\n",
    "for ax in axs.flat:\n",
    "    ax.label_outer()"
   ]
  },
  {
   "cell_type": "markdown",
   "metadata": {},
   "source": [
    "Starting from 2013, sales on all platforms are declining."
   ]
  },
  {
   "cell_type": "code",
   "execution_count": 458,
   "metadata": {},
   "outputs": [
    {
     "name": "stderr",
     "output_type": "stream",
     "text": [
      "/opt/conda/lib/python3.7/site-packages/numpy/core/_asarray.py:83: VisibleDeprecationWarning: Creating an ndarray from ragged nested sequences (which is a list-or-tuple of lists-or-tuples-or ndarrays with different lengths or shapes) is deprecated. If you meant to do this, you must specify 'dtype=object' when creating the ndarray\n",
      "  return array(a, dtype, copy=False, order=order)\n"
     ]
    },
    {
     "data": {
      "text/plain": [
       "Text(0.5, 1.0, 'График итоговых прожаж для ТОП-4 платформы')"
      ]
     },
     "execution_count": 458,
     "metadata": {},
     "output_type": "execute_result"
    },
    {
     "data": {
      "image/png": "[encoded data removed]",
      "text/plain": [
       "<Figure size 1080x360 with 1 Axes>"
      ]
     },
     "metadata": {
      "needs_background": "light"
     },
     "output_type": "display_data"
    }
   ],
   "source": [
    "df_years_platform_top.boxplot('total_sales', by='platform', figsize=(15, 5))\n",
    "plt.title('График итоговых прожаж для ТОП-4 платформы')"
   ]
  },
  {
   "cell_type": "markdown",
   "metadata": {},
   "source": [
    "The graph displays the top 4 platforms. The platform with the highest median is PS3 and PS2. Wii is the platform with the highest maximum value among the platforms."
   ]
  },
  {
   "cell_type": "markdown",
   "metadata": {},
   "source": [
    "<b>Let's find the top platforms starting from 2014.</b>\n",
    "\n",
    "For planning future advertising campaigns, we will rely on data from the last 3 years. I think this will be more accurate than simply relying on the previous year."
   ]
  },
  {
   "cell_type": "code",
   "execution_count": 459,
   "metadata": {},
   "outputs": [
    {
     "data": {
      "text/html": [
       "<div>\n",
       "<style scoped>\n",
       "    .dataframe tbody tr th:only-of-type {\n",
       "        vertical-align: middle;\n",
       "    }\n",
       "\n",
       "    .dataframe tbody tr th {\n",
       "        vertical-align: top;\n",
       "    }\n",
       "\n",
       "    .dataframe thead th {\n",
       "        text-align: right;\n",
       "    }\n",
       "</style>\n",
       "<table border=\"1\" class=\"dataframe\">\n",
       "  <thead>\n",
       "    <tr style=\"text-align: right;\">\n",
       "      <th></th>\n",
       "      <th>platform</th>\n",
       "      <th>total_sales</th>\n",
       "    </tr>\n",
       "  </thead>\n",
       "  <tbody>\n",
       "    <tr>\n",
       "      <td>3</td>\n",
       "      <td>ps4</td>\n",
       "      <td>288.15</td>\n",
       "    </tr>\n",
       "    <tr>\n",
       "      <td>9</td>\n",
       "      <td>xone</td>\n",
       "      <td>140.36</td>\n",
       "    </tr>\n",
       "    <tr>\n",
       "      <td>0</td>\n",
       "      <td>3ds</td>\n",
       "      <td>86.68</td>\n",
       "    </tr>\n",
       "    <tr>\n",
       "      <td>2</td>\n",
       "      <td>ps3</td>\n",
       "      <td>68.18</td>\n",
       "    </tr>\n",
       "  </tbody>\n",
       "</table>\n",
       "</div>"
      ],
      "text/plain": [
       "  platform  total_sales\n",
       "3      ps4       288.15\n",
       "9     xone       140.36\n",
       "0      3ds        86.68\n",
       "2      ps3        68.18"
      ]
     },
     "execution_count": 459,
     "metadata": {},
     "output_type": "execute_result"
    }
   ],
   "source": [
    "df_years_platform_2014 = df.pivot_table(index=['year_of_release', 'platform'], values='total_sales', aggfunc='sum').reset_index()\n",
    "df_years_platform_2014 = df_years_platform_2015.query('year_of_release >= 2014')\n",
    "df_years_platform_2014.groupby('platform')['total_sales'].sum().reset_index().sort_values(by='total_sales', ascending=False).head(4)"
   ]
  },
  {
   "cell_type": "code",
   "execution_count": 460,
   "metadata": {},
   "outputs": [
    {
     "data": {
      "text/plain": [
       "Text(0.5, 1.0, 'График итоговых прожаж для ТОП-4 платформы за период 2014-2016 гг')"
      ]
     },
     "execution_count": 460,
     "metadata": {},
     "output_type": "execute_result"
    },
    {
     "data": {
      "image/png": "[encoded data removed]",
      "text/plain": [
       "<Figure size 1080x360 with 1 Axes>"
      ]
     },
     "metadata": {
      "needs_background": "light"
     },
     "output_type": "display_data"
    }
   ],
   "source": [
    "top_platform_2014 = ['ps4', 'xone', '3ds', 'ps3']\n",
    "df_years_platform_2014 = df_years_platform_2014.query('platform in @top_platform_2014')\n",
    "\n",
    "df_years_platform_2014.boxplot('total_sales', by='platform', figsize=(15, 5))\n",
    "plt.title('График итоговых прожаж для ТОП-4 платформы за период 2014-2016 гг')"
   ]
  },
  {
   "cell_type": "markdown",
   "metadata": {},
   "source": [
    "The number of games released for PS4 since 2014 significantly exceeds all other platforms. In second place for sales is XOne."
   ]
  },
  {
   "cell_type": "markdown",
   "metadata": {},
   "source": [
    "<b>Let's plot a scatter plot for the PS3 platform.</b>"
   ]
  },
  {
   "cell_type": "code",
   "execution_count": 461,
   "metadata": {},
   "outputs": [],
   "source": [
    "df_ps3 = df.query('platform == \"ps3\"')"
   ]
  },
  {
   "cell_type": "code",
   "execution_count": 462,
   "metadata": {
    "scrolled": false
   },
   "outputs": [
    {
     "data": {
      "text/plain": [
       "Text(0.5, 1.0, 'График зависимости итоговых продаж от оценки пользователей')"
      ]
     },
     "execution_count": 462,
     "metadata": {},
     "output_type": "execute_result"
    },
    {
     "data": {
      "image/png": "[encoded data removed]",
      "text/plain": [
       "<Figure size 432x288 with 1 Axes>"
      ]
     },
     "metadata": {
      "needs_background": "light"
     },
     "output_type": "display_data"
    },
    {
     "data": {
      "image/png": "[encoded data removed]",
      "text/plain": [
       "<Figure size 432x288 with 1 Axes>"
      ]
     },
     "metadata": {
      "needs_background": "light"
     },
     "output_type": "display_data"
    }
   ],
   "source": [
    "df_ps3.plot.scatter(x='critic_score', y='total_sales')\n",
    "plt.title('График зависимости итоговых продаж от оценки критиков')\n",
    "df_ps3.plot.scatter(x='user_score', y='total_sales')\n",
    "plt.title('График зависимости итоговых продаж от оценки пользователей')"
   ]
  },
  {
   "cell_type": "markdown",
   "metadata": {},
   "source": [
    "Regarding the PS3:\n",
    "\n",
    "From the scatter plot, we can see that sales are strongly dependent on critic scores. Before a score of 70, there are no outliers. After a score of 80, large sales start to appear. That is, if a game's critic score is less than 80, there is a high chance that the game will not exceed 5 million in sales. The goal is to achieve a score of more than 80.\n",
    "\n",
    "User scores are not as critical for sales. Of course, they influence sales, but outliers are more common with user scores. This means a game can achieve high sales even with an average user score. The chance is not high, but it exists."
   ]
  },
  {
   "cell_type": "code",
   "execution_count": 463,
   "metadata": {},
   "outputs": [
    {
     "data": {
      "text/html": [
       "<div>\n",
       "<style scoped>\n",
       "    .dataframe tbody tr th:only-of-type {\n",
       "        vertical-align: middle;\n",
       "    }\n",
       "\n",
       "    .dataframe tbody tr th {\n",
       "        vertical-align: top;\n",
       "    }\n",
       "\n",
       "    .dataframe thead th {\n",
       "        text-align: right;\n",
       "    }\n",
       "</style>\n",
       "<table border=\"1\" class=\"dataframe\">\n",
       "  <thead>\n",
       "    <tr style=\"text-align: right;\">\n",
       "      <th></th>\n",
       "      <th>critic_score</th>\n",
       "      <th>user_score</th>\n",
       "      <th>total_sales</th>\n",
       "    </tr>\n",
       "  </thead>\n",
       "  <tbody>\n",
       "    <tr>\n",
       "      <td>critic_score</td>\n",
       "      <td>1.000000</td>\n",
       "      <td>0.823671</td>\n",
       "      <td>0.353793</td>\n",
       "    </tr>\n",
       "    <tr>\n",
       "      <td>user_score</td>\n",
       "      <td>0.823671</td>\n",
       "      <td>1.000000</td>\n",
       "      <td>0.272669</td>\n",
       "    </tr>\n",
       "    <tr>\n",
       "      <td>total_sales</td>\n",
       "      <td>0.353793</td>\n",
       "      <td>0.272669</td>\n",
       "      <td>1.000000</td>\n",
       "    </tr>\n",
       "  </tbody>\n",
       "</table>\n",
       "</div>"
      ],
      "text/plain": [
       "              critic_score  user_score  total_sales\n",
       "critic_score      1.000000    0.823671     0.353793\n",
       "user_score        0.823671    1.000000     0.272669\n",
       "total_sales       0.353793    0.272669     1.000000"
      ]
     },
     "execution_count": 463,
     "metadata": {},
     "output_type": "execute_result"
    }
   ],
   "source": [
    "df_ps3[['critic_score', 'user_score', 'total_sales']].corr()"
   ]
  },
  {
   "cell_type": "markdown",
   "metadata": {},
   "source": [
    "The dependency on critic scores is higher than on user scores, as I mentioned earlier."
   ]
  },
  {
   "cell_type": "markdown",
   "metadata": {},
   "source": [
    "<b>Let's plot a scatter plot for all platforms.</b>"
   ]
  },
  {
   "cell_type": "code",
   "execution_count": 464,
   "metadata": {},
   "outputs": [
    {
     "data": {
      "text/plain": [
       "Text(0.5, 1.0, 'График зависимости итоговых продаж от оценки пользователей')"
      ]
     },
     "execution_count": 464,
     "metadata": {},
     "output_type": "execute_result"
    },
    {
     "data": {
      "image/png": "[encoded data removed]",
      "text/plain": [
       "<Figure size 432x288 with 1 Axes>"
      ]
     },
     "metadata": {
      "needs_background": "light"
     },
     "output_type": "display_data"
    },
    {
     "data": {
      "image/png": "[encoded data removed]",
      "text/plain": [
       "<Figure size 432x288 with 1 Axes>"
      ]
     },
     "metadata": {
      "needs_background": "light"
     },
     "output_type": "display_data"
    }
   ],
   "source": [
    "df.plot.scatter(x='critic_score', y='total_sales')\n",
    "plt.title('График зависимости итоговых продаж от оценки критиков')\n",
    "df.plot.scatter(x='user_score', y='total_sales')\n",
    "plt.title('График зависимости итоговых продаж от оценки пользователей')"
   ]
  },
  {
   "cell_type": "code",
   "execution_count": 465,
   "metadata": {},
   "outputs": [
    {
     "data": {
      "text/html": [
       "<div>\n",
       "<style scoped>\n",
       "    .dataframe tbody tr th:only-of-type {\n",
       "        vertical-align: middle;\n",
       "    }\n",
       "\n",
       "    .dataframe tbody tr th {\n",
       "        vertical-align: top;\n",
       "    }\n",
       "\n",
       "    .dataframe thead th {\n",
       "        text-align: right;\n",
       "    }\n",
       "</style>\n",
       "<table border=\"1\" class=\"dataframe\">\n",
       "  <thead>\n",
       "    <tr style=\"text-align: right;\">\n",
       "      <th></th>\n",
       "      <th>critic_score</th>\n",
       "      <th>user_score</th>\n",
       "      <th>total_sales</th>\n",
       "    </tr>\n",
       "  </thead>\n",
       "  <tbody>\n",
       "    <tr>\n",
       "      <td>critic_score</td>\n",
       "      <td>1.000000</td>\n",
       "      <td>0.818959</td>\n",
       "      <td>0.148076</td>\n",
       "    </tr>\n",
       "    <tr>\n",
       "      <td>user_score</td>\n",
       "      <td>0.818959</td>\n",
       "      <td>1.000000</td>\n",
       "      <td>0.135123</td>\n",
       "    </tr>\n",
       "    <tr>\n",
       "      <td>total_sales</td>\n",
       "      <td>0.148076</td>\n",
       "      <td>0.135123</td>\n",
       "      <td>1.000000</td>\n",
       "    </tr>\n",
       "  </tbody>\n",
       "</table>\n",
       "</div>"
      ],
      "text/plain": [
       "              critic_score  user_score  total_sales\n",
       "critic_score      1.000000    0.818959     0.148076\n",
       "user_score        0.818959    1.000000     0.135123\n",
       "total_sales       0.148076    0.135123     1.000000"
      ]
     },
     "execution_count": 465,
     "metadata": {},
     "output_type": "execute_result"
    }
   ],
   "source": [
    "df[['critic_score', 'user_score', 'total_sales']].corr()"
   ]
  },
  {
   "cell_type": "markdown",
   "metadata": {},
   "source": [
    "The correlation shows that the dependence of total sales on critics is slightly higher than on users. However, both dependencies are quite weak."
   ]
  },
  {
   "cell_type": "markdown",
   "metadata": {},
   "source": [
    "Let's look at the distribution by genres."
   ]
  },
  {
   "cell_type": "code",
   "execution_count": 466,
   "metadata": {},
   "outputs": [],
   "source": [
    "df_genre = df.pivot_table(index=['year_of_release', 'genre'], values='total_sales', aggfunc='sum').reset_index()"
   ]
  },
  {
   "cell_type": "code",
   "execution_count": 467,
   "metadata": {},
   "outputs": [
    {
     "data": {
      "image/png": "[encoded data removed]",
      "text/plain": [
       "<Figure size 1080x720 with 1 Axes>"
      ]
     },
     "metadata": {
      "needs_background": "light"
     },
     "output_type": "display_data"
    }
   ],
   "source": [
    "line,ax = plt.subplots(figsize=(15,10))\n",
    "ax = sns.lineplot(x=\"year_of_release\", y=\"total_sales\", data=df_genre, palette=\"pastel\", hue=\"genre\")\n",
    "plt.title('Графки распределения кол-ва продаж по жанрам за период 1980 - 2016 гг')\n",
    "plt.show()\n"
   ]
  },
  {
   "cell_type": "markdown",
   "metadata": {},
   "source": [
    "The leader in sales is the action genre, followed by sports and shooters. The strategy genre sells the worst of all. Surprisingly, in 1985, the most popular genre was strategy."
   ]
  },
  {
   "cell_type": "code",
   "execution_count": 468,
   "metadata": {
    "scrolled": false
   },
   "outputs": [
    {
     "data": {
      "text/plain": [
       "Text(0.5, 1.0, 'Суммарные продажи по жанрам')"
      ]
     },
     "execution_count": 468,
     "metadata": {},
     "output_type": "execute_result"
    },
    {
     "data": {
      "image/png": "[encoded data removed]",
      "text/plain": [
       "<Figure size 432x288 with 1 Axes>"
      ]
     },
     "metadata": {
      "needs_background": "light"
     },
     "output_type": "display_data"
    }
   ],
   "source": [
    "df_genre.groupby('genre')['total_sales'].sum().plot(kind='bar')\n",
    "plt.title('Суммарные продажи по жанрам')"
   ]
  },
  {
   "cell_type": "markdown",
   "metadata": {},
   "source": [
    "Action stands out significantly against other genres. This is all thanks to cyberpunk. Just kidding. Let's move on."
   ]
  },
  {
   "cell_type": "code",
   "execution_count": 469,
   "metadata": {},
   "outputs": [
    {
     "data": {
      "text/plain": [
       "Text(0.5, 1.0, 'Средние продажи по жанрам')"
      ]
     },
     "execution_count": 469,
     "metadata": {},
     "output_type": "execute_result"
    },
    {
     "data": {
      "image/png": "[encoded data removed]",
      "text/plain": [
       "<Figure size 432x288 with 1 Axes>"
      ]
     },
     "metadata": {
      "needs_background": "light"
     },
     "output_type": "display_data"
    }
   ],
   "source": [
    "df_genre.groupby('genre')['total_sales'].mean().plot(kind='bar')\n",
    "plt.title('Средние продажи по жанрам')"
   ]
  },
  {
   "cell_type": "markdown",
   "metadata": {},
   "source": [
    "The average values ​​show the same picture as the total."
   ]
  },
  {
   "cell_type": "markdown",
   "metadata": {},
   "source": [
    "### Conclusion\n",
    "\n",
    "From the graphs, we learned the most successful year for game sales, the most popular genre, and the dependency on critic and user scores."
   ]
  },
  {
   "cell_type": "markdown",
   "metadata": {},
   "source": [
    "## User Portrait for Each Region"
   ]
  },
  {
   "cell_type": "markdown",
   "metadata": {},
   "source": [
    "<b>Top 5 Most Popular Platforms</b>"
   ]
  },
  {
   "cell_type": "code",
   "execution_count": 470,
   "metadata": {},
   "outputs": [
    {
     "data": {
      "text/plain": [
       "Index(['name', 'platform', 'year_of_release', 'genre', 'na_sales', 'eu_sales',\n",
       "       'jp_sales', 'other_sales', 'critic_score', 'user_score', 'rating',\n",
       "       'total_sales'],\n",
       "      dtype='object')"
      ]
     },
     "execution_count": 470,
     "metadata": {},
     "output_type": "execute_result"
    }
   ],
   "source": [
    "df.columns"
   ]
  },
  {
   "cell_type": "code",
   "execution_count": 471,
   "metadata": {
    "scrolled": false
   },
   "outputs": [
    {
     "data": {
      "text/html": [
       "<div>\n",
       "<style scoped>\n",
       "    .dataframe tbody tr th:only-of-type {\n",
       "        vertical-align: middle;\n",
       "    }\n",
       "\n",
       "    .dataframe tbody tr th {\n",
       "        vertical-align: top;\n",
       "    }\n",
       "\n",
       "    .dataframe thead th {\n",
       "        text-align: right;\n",
       "    }\n",
       "</style>\n",
       "<table border=\"1\" class=\"dataframe\">\n",
       "  <thead>\n",
       "    <tr style=\"text-align: right;\">\n",
       "      <th></th>\n",
       "      <th>platform</th>\n",
       "      <th>eu_sales</th>\n",
       "      <th>jp_sales</th>\n",
       "      <th>na_sales</th>\n",
       "      <th>na_sales_%</th>\n",
       "      <th>eu_sales_%</th>\n",
       "      <th>jp_sales_%</th>\n",
       "    </tr>\n",
       "  </thead>\n",
       "  <tbody>\n",
       "    <tr>\n",
       "      <td>28</td>\n",
       "      <td>x360</td>\n",
       "      <td>270.76</td>\n",
       "      <td>12.43</td>\n",
       "      <td>602.47</td>\n",
       "      <td>0.136907</td>\n",
       "      <td>0.111693</td>\n",
       "      <td>0.009581</td>\n",
       "    </tr>\n",
       "    <tr>\n",
       "      <td>16</td>\n",
       "      <td>ps2</td>\n",
       "      <td>339.29</td>\n",
       "      <td>139.20</td>\n",
       "      <td>583.84</td>\n",
       "      <td>0.132674</td>\n",
       "      <td>0.139963</td>\n",
       "      <td>0.107296</td>\n",
       "    </tr>\n",
       "    <tr>\n",
       "      <td>25</td>\n",
       "      <td>wii</td>\n",
       "      <td>262.21</td>\n",
       "      <td>69.33</td>\n",
       "      <td>496.90</td>\n",
       "      <td>0.112917</td>\n",
       "      <td>0.108166</td>\n",
       "      <td>0.053440</td>\n",
       "    </tr>\n",
       "    <tr>\n",
       "      <td>17</td>\n",
       "      <td>ps3</td>\n",
       "      <td>330.29</td>\n",
       "      <td>80.19</td>\n",
       "      <td>393.49</td>\n",
       "      <td>0.089418</td>\n",
       "      <td>0.136250</td>\n",
       "      <td>0.061811</td>\n",
       "    </tr>\n",
       "    <tr>\n",
       "      <td>4</td>\n",
       "      <td>ds</td>\n",
       "      <td>188.89</td>\n",
       "      <td>175.57</td>\n",
       "      <td>382.40</td>\n",
       "      <td>0.086898</td>\n",
       "      <td>0.077920</td>\n",
       "      <td>0.135331</td>\n",
       "    </tr>\n",
       "  </tbody>\n",
       "</table>\n",
       "</div>"
      ],
      "text/plain": [
       "   platform  eu_sales  jp_sales  na_sales  na_sales_%  eu_sales_%  jp_sales_%\n",
       "28     x360    270.76     12.43    602.47    0.136907    0.111693    0.009581\n",
       "16      ps2    339.29    139.20    583.84    0.132674    0.139963    0.107296\n",
       "25      wii    262.21     69.33    496.90    0.112917    0.108166    0.053440\n",
       "17      ps3    330.29     80.19    393.49    0.089418    0.136250    0.061811\n",
       "4        ds    188.89    175.57    382.40    0.086898    0.077920    0.135331"
      ]
     },
     "metadata": {},
     "output_type": "display_data"
    },
    {
     "name": "stdout",
     "output_type": "stream",
     "text": [
      "\n"
     ]
    },
    {
     "data": {
      "text/html": [
       "<div>\n",
       "<style scoped>\n",
       "    .dataframe tbody tr th:only-of-type {\n",
       "        vertical-align: middle;\n",
       "    }\n",
       "\n",
       "    .dataframe tbody tr th {\n",
       "        vertical-align: top;\n",
       "    }\n",
       "\n",
       "    .dataframe thead th {\n",
       "        text-align: right;\n",
       "    }\n",
       "</style>\n",
       "<table border=\"1\" class=\"dataframe\">\n",
       "  <thead>\n",
       "    <tr style=\"text-align: right;\">\n",
       "      <th></th>\n",
       "      <th>platform</th>\n",
       "      <th>eu_sales</th>\n",
       "      <th>jp_sales</th>\n",
       "      <th>na_sales</th>\n",
       "      <th>na_sales_%</th>\n",
       "      <th>eu_sales_%</th>\n",
       "      <th>jp_sales_%</th>\n",
       "    </tr>\n",
       "  </thead>\n",
       "  <tbody>\n",
       "    <tr>\n",
       "      <td>16</td>\n",
       "      <td>ps2</td>\n",
       "      <td>339.29</td>\n",
       "      <td>139.20</td>\n",
       "      <td>583.84</td>\n",
       "      <td>0.132674</td>\n",
       "      <td>0.139963</td>\n",
       "      <td>0.107296</td>\n",
       "    </tr>\n",
       "    <tr>\n",
       "      <td>17</td>\n",
       "      <td>ps3</td>\n",
       "      <td>330.29</td>\n",
       "      <td>80.19</td>\n",
       "      <td>393.49</td>\n",
       "      <td>0.089418</td>\n",
       "      <td>0.136250</td>\n",
       "      <td>0.061811</td>\n",
       "    </tr>\n",
       "    <tr>\n",
       "      <td>28</td>\n",
       "      <td>x360</td>\n",
       "      <td>270.76</td>\n",
       "      <td>12.43</td>\n",
       "      <td>602.47</td>\n",
       "      <td>0.136907</td>\n",
       "      <td>0.111693</td>\n",
       "      <td>0.009581</td>\n",
       "    </tr>\n",
       "    <tr>\n",
       "      <td>25</td>\n",
       "      <td>wii</td>\n",
       "      <td>262.21</td>\n",
       "      <td>69.33</td>\n",
       "      <td>496.90</td>\n",
       "      <td>0.112917</td>\n",
       "      <td>0.108166</td>\n",
       "      <td>0.053440</td>\n",
       "    </tr>\n",
       "    <tr>\n",
       "      <td>15</td>\n",
       "      <td>ps</td>\n",
       "      <td>213.61</td>\n",
       "      <td>139.82</td>\n",
       "      <td>336.52</td>\n",
       "      <td>0.076472</td>\n",
       "      <td>0.088118</td>\n",
       "      <td>0.107774</td>\n",
       "    </tr>\n",
       "  </tbody>\n",
       "</table>\n",
       "</div>"
      ],
      "text/plain": [
       "   platform  eu_sales  jp_sales  na_sales  na_sales_%  eu_sales_%  jp_sales_%\n",
       "16      ps2    339.29    139.20    583.84    0.132674    0.139963    0.107296\n",
       "17      ps3    330.29     80.19    393.49    0.089418    0.136250    0.061811\n",
       "28     x360    270.76     12.43    602.47    0.136907    0.111693    0.009581\n",
       "25      wii    262.21     69.33    496.90    0.112917    0.108166    0.053440\n",
       "15       ps    213.61    139.82    336.52    0.076472    0.088118    0.107774"
      ]
     },
     "metadata": {},
     "output_type": "display_data"
    },
    {
     "name": "stdout",
     "output_type": "stream",
     "text": [
      "\n"
     ]
    },
    {
     "data": {
      "text/html": [
       "<div>\n",
       "<style scoped>\n",
       "    .dataframe tbody tr th:only-of-type {\n",
       "        vertical-align: middle;\n",
       "    }\n",
       "\n",
       "    .dataframe tbody tr th {\n",
       "        vertical-align: top;\n",
       "    }\n",
       "\n",
       "    .dataframe thead th {\n",
       "        text-align: right;\n",
       "    }\n",
       "</style>\n",
       "<table border=\"1\" class=\"dataframe\">\n",
       "  <thead>\n",
       "    <tr style=\"text-align: right;\">\n",
       "      <th></th>\n",
       "      <th>platform</th>\n",
       "      <th>eu_sales</th>\n",
       "      <th>jp_sales</th>\n",
       "      <th>na_sales</th>\n",
       "      <th>na_sales_%</th>\n",
       "      <th>eu_sales_%</th>\n",
       "      <th>jp_sales_%</th>\n",
       "    </tr>\n",
       "  </thead>\n",
       "  <tbody>\n",
       "    <tr>\n",
       "      <td>4</td>\n",
       "      <td>ds</td>\n",
       "      <td>188.89</td>\n",
       "      <td>175.57</td>\n",
       "      <td>382.40</td>\n",
       "      <td>0.086898</td>\n",
       "      <td>0.077920</td>\n",
       "      <td>0.135331</td>\n",
       "    </tr>\n",
       "    <tr>\n",
       "      <td>15</td>\n",
       "      <td>ps</td>\n",
       "      <td>213.61</td>\n",
       "      <td>139.82</td>\n",
       "      <td>336.52</td>\n",
       "      <td>0.076472</td>\n",
       "      <td>0.088118</td>\n",
       "      <td>0.107774</td>\n",
       "    </tr>\n",
       "    <tr>\n",
       "      <td>16</td>\n",
       "      <td>ps2</td>\n",
       "      <td>339.29</td>\n",
       "      <td>139.20</td>\n",
       "      <td>583.84</td>\n",
       "      <td>0.132674</td>\n",
       "      <td>0.139963</td>\n",
       "      <td>0.107296</td>\n",
       "    </tr>\n",
       "    <tr>\n",
       "      <td>23</td>\n",
       "      <td>snes</td>\n",
       "      <td>19.04</td>\n",
       "      <td>116.55</td>\n",
       "      <td>61.23</td>\n",
       "      <td>0.013914</td>\n",
       "      <td>0.007854</td>\n",
       "      <td>0.089838</td>\n",
       "    </tr>\n",
       "    <tr>\n",
       "      <td>2</td>\n",
       "      <td>3ds</td>\n",
       "      <td>61.48</td>\n",
       "      <td>100.67</td>\n",
       "      <td>83.49</td>\n",
       "      <td>0.018973</td>\n",
       "      <td>0.025362</td>\n",
       "      <td>0.077597</td>\n",
       "    </tr>\n",
       "  </tbody>\n",
       "</table>\n",
       "</div>"
      ],
      "text/plain": [
       "   platform  eu_sales  jp_sales  na_sales  na_sales_%  eu_sales_%  jp_sales_%\n",
       "4        ds    188.89    175.57    382.40    0.086898    0.077920    0.135331\n",
       "15       ps    213.61    139.82    336.52    0.076472    0.088118    0.107774\n",
       "16      ps2    339.29    139.20    583.84    0.132674    0.139963    0.107296\n",
       "23     snes     19.04    116.55     61.23    0.013914    0.007854    0.089838\n",
       "2       3ds     61.48    100.67     83.49    0.018973    0.025362    0.077597"
      ]
     },
     "metadata": {},
     "output_type": "display_data"
    }
   ],
   "source": [
    "df_flatform_refion = df.pivot_table(index='platform', values=['na_sales', 'eu_sales', 'jp_sales'], aggfunc='sum').reset_index()\n",
    "df_flatform_refion['na_sales_%'] = df_flatform_refion['na_sales'] / df_flatform_refion['na_sales'].sum()\n",
    "df_flatform_refion['eu_sales_%'] = df_flatform_refion['eu_sales'] / df_flatform_refion['eu_sales'].sum()\n",
    "df_flatform_refion['jp_sales_%'] = df_flatform_refion['jp_sales'] / df_flatform_refion['jp_sales'].sum()\n",
    "\n",
    "display(df_flatform_refion.sort_values('na_sales_%', ascending=False).head())\n",
    "print()\n",
    "display(df_flatform_refion.sort_values('eu_sales_%', ascending=False).head())\n",
    "print()\n",
    "display(df_flatform_refion.sort_values('jp_sales_%', ascending=False).head())"
   ]
  },
  {
   "cell_type": "markdown",
   "metadata": {},
   "source": [
    "Among the top best, let's highlight the platform PS2, which is popular in all three regions."
   ]
  },
  {
   "cell_type": "markdown",
   "metadata": {},
   "source": [
    "<b>Top 5 Most Popular Genres</b>"
   ]
  },
  {
   "cell_type": "code",
   "execution_count": 472,
   "metadata": {},
   "outputs": [
    {
     "data": {
      "text/html": [
       "<div>\n",
       "<style scoped>\n",
       "    .dataframe tbody tr th:only-of-type {\n",
       "        vertical-align: middle;\n",
       "    }\n",
       "\n",
       "    .dataframe tbody tr th {\n",
       "        vertical-align: top;\n",
       "    }\n",
       "\n",
       "    .dataframe thead th {\n",
       "        text-align: right;\n",
       "    }\n",
       "</style>\n",
       "<table border=\"1\" class=\"dataframe\">\n",
       "  <thead>\n",
       "    <tr style=\"text-align: right;\">\n",
       "      <th></th>\n",
       "      <th>genre</th>\n",
       "      <th>eu_sales</th>\n",
       "      <th>jp_sales</th>\n",
       "      <th>na_sales</th>\n",
       "      <th>na_sales_%</th>\n",
       "      <th>eu_sales_%</th>\n",
       "      <th>jp_sales_%</th>\n",
       "    </tr>\n",
       "  </thead>\n",
       "  <tbody>\n",
       "    <tr>\n",
       "      <td>0</td>\n",
       "      <td>action</td>\n",
       "      <td>519.13</td>\n",
       "      <td>161.43</td>\n",
       "      <td>879.01</td>\n",
       "      <td>0.199749</td>\n",
       "      <td>0.214150</td>\n",
       "      <td>0.124432</td>\n",
       "    </tr>\n",
       "    <tr>\n",
       "      <td>10</td>\n",
       "      <td>sports</td>\n",
       "      <td>376.79</td>\n",
       "      <td>135.54</td>\n",
       "      <td>684.43</td>\n",
       "      <td>0.155532</td>\n",
       "      <td>0.155432</td>\n",
       "      <td>0.104475</td>\n",
       "    </tr>\n",
       "    <tr>\n",
       "      <td>8</td>\n",
       "      <td>shooter</td>\n",
       "      <td>317.34</td>\n",
       "      <td>38.76</td>\n",
       "      <td>592.24</td>\n",
       "      <td>0.134583</td>\n",
       "      <td>0.130908</td>\n",
       "      <td>0.029877</td>\n",
       "    </tr>\n",
       "    <tr>\n",
       "      <td>4</td>\n",
       "      <td>platform</td>\n",
       "      <td>200.35</td>\n",
       "      <td>130.83</td>\n",
       "      <td>445.50</td>\n",
       "      <td>0.101237</td>\n",
       "      <td>0.082648</td>\n",
       "      <td>0.100845</td>\n",
       "    </tr>\n",
       "    <tr>\n",
       "      <td>3</td>\n",
       "      <td>misc</td>\n",
       "      <td>212.74</td>\n",
       "      <td>108.11</td>\n",
       "      <td>407.27</td>\n",
       "      <td>0.092549</td>\n",
       "      <td>0.087759</td>\n",
       "      <td>0.083332</td>\n",
       "    </tr>\n",
       "  </tbody>\n",
       "</table>\n",
       "</div>"
      ],
      "text/plain": [
       "       genre  eu_sales  jp_sales  na_sales  na_sales_%  eu_sales_%  jp_sales_%\n",
       "0     action    519.13    161.43    879.01    0.199749    0.214150    0.124432\n",
       "10    sports    376.79    135.54    684.43    0.155532    0.155432    0.104475\n",
       "8    shooter    317.34     38.76    592.24    0.134583    0.130908    0.029877\n",
       "4   platform    200.35    130.83    445.50    0.101237    0.082648    0.100845\n",
       "3       misc    212.74    108.11    407.27    0.092549    0.087759    0.083332"
      ]
     },
     "metadata": {},
     "output_type": "display_data"
    },
    {
     "name": "stdout",
     "output_type": "stream",
     "text": [
      "\n"
     ]
    },
    {
     "data": {
      "text/html": [
       "<div>\n",
       "<style scoped>\n",
       "    .dataframe tbody tr th:only-of-type {\n",
       "        vertical-align: middle;\n",
       "    }\n",
       "\n",
       "    .dataframe tbody tr th {\n",
       "        vertical-align: top;\n",
       "    }\n",
       "\n",
       "    .dataframe thead th {\n",
       "        text-align: right;\n",
       "    }\n",
       "</style>\n",
       "<table border=\"1\" class=\"dataframe\">\n",
       "  <thead>\n",
       "    <tr style=\"text-align: right;\">\n",
       "      <th></th>\n",
       "      <th>genre</th>\n",
       "      <th>eu_sales</th>\n",
       "      <th>jp_sales</th>\n",
       "      <th>na_sales</th>\n",
       "      <th>na_sales_%</th>\n",
       "      <th>eu_sales_%</th>\n",
       "      <th>jp_sales_%</th>\n",
       "    </tr>\n",
       "  </thead>\n",
       "  <tbody>\n",
       "    <tr>\n",
       "      <td>0</td>\n",
       "      <td>action</td>\n",
       "      <td>519.13</td>\n",
       "      <td>161.43</td>\n",
       "      <td>879.01</td>\n",
       "      <td>0.199749</td>\n",
       "      <td>0.214150</td>\n",
       "      <td>0.124432</td>\n",
       "    </tr>\n",
       "    <tr>\n",
       "      <td>10</td>\n",
       "      <td>sports</td>\n",
       "      <td>376.79</td>\n",
       "      <td>135.54</td>\n",
       "      <td>684.43</td>\n",
       "      <td>0.155532</td>\n",
       "      <td>0.155432</td>\n",
       "      <td>0.104475</td>\n",
       "    </tr>\n",
       "    <tr>\n",
       "      <td>8</td>\n",
       "      <td>shooter</td>\n",
       "      <td>317.34</td>\n",
       "      <td>38.76</td>\n",
       "      <td>592.24</td>\n",
       "      <td>0.134583</td>\n",
       "      <td>0.130908</td>\n",
       "      <td>0.029877</td>\n",
       "    </tr>\n",
       "    <tr>\n",
       "      <td>6</td>\n",
       "      <td>racing</td>\n",
       "      <td>236.51</td>\n",
       "      <td>56.71</td>\n",
       "      <td>359.35</td>\n",
       "      <td>0.081660</td>\n",
       "      <td>0.097564</td>\n",
       "      <td>0.043713</td>\n",
       "    </tr>\n",
       "    <tr>\n",
       "      <td>3</td>\n",
       "      <td>misc</td>\n",
       "      <td>212.74</td>\n",
       "      <td>108.11</td>\n",
       "      <td>407.27</td>\n",
       "      <td>0.092549</td>\n",
       "      <td>0.087759</td>\n",
       "      <td>0.083332</td>\n",
       "    </tr>\n",
       "  </tbody>\n",
       "</table>\n",
       "</div>"
      ],
      "text/plain": [
       "      genre  eu_sales  jp_sales  na_sales  na_sales_%  eu_sales_%  jp_sales_%\n",
       "0    action    519.13    161.43    879.01    0.199749    0.214150    0.124432\n",
       "10   sports    376.79    135.54    684.43    0.155532    0.155432    0.104475\n",
       "8   shooter    317.34     38.76    592.24    0.134583    0.130908    0.029877\n",
       "6    racing    236.51     56.71    359.35    0.081660    0.097564    0.043713\n",
       "3      misc    212.74    108.11    407.27    0.092549    0.087759    0.083332"
      ]
     },
     "metadata": {},
     "output_type": "display_data"
    },
    {
     "name": "stdout",
     "output_type": "stream",
     "text": [
      "\n"
     ]
    },
    {
     "data": {
      "text/html": [
       "<div>\n",
       "<style scoped>\n",
       "    .dataframe tbody tr th:only-of-type {\n",
       "        vertical-align: middle;\n",
       "    }\n",
       "\n",
       "    .dataframe tbody tr th {\n",
       "        vertical-align: top;\n",
       "    }\n",
       "\n",
       "    .dataframe thead th {\n",
       "        text-align: right;\n",
       "    }\n",
       "</style>\n",
       "<table border=\"1\" class=\"dataframe\">\n",
       "  <thead>\n",
       "    <tr style=\"text-align: right;\">\n",
       "      <th></th>\n",
       "      <th>genre</th>\n",
       "      <th>eu_sales</th>\n",
       "      <th>jp_sales</th>\n",
       "      <th>na_sales</th>\n",
       "      <th>na_sales_%</th>\n",
       "      <th>eu_sales_%</th>\n",
       "      <th>jp_sales_%</th>\n",
       "    </tr>\n",
       "  </thead>\n",
       "  <tbody>\n",
       "    <tr>\n",
       "      <td>7</td>\n",
       "      <td>role-playing</td>\n",
       "      <td>188.71</td>\n",
       "      <td>355.41</td>\n",
       "      <td>330.81</td>\n",
       "      <td>0.075174</td>\n",
       "      <td>0.077846</td>\n",
       "      <td>0.273953</td>\n",
       "    </tr>\n",
       "    <tr>\n",
       "      <td>0</td>\n",
       "      <td>action</td>\n",
       "      <td>519.13</td>\n",
       "      <td>161.43</td>\n",
       "      <td>879.01</td>\n",
       "      <td>0.199749</td>\n",
       "      <td>0.214150</td>\n",
       "      <td>0.124432</td>\n",
       "    </tr>\n",
       "    <tr>\n",
       "      <td>10</td>\n",
       "      <td>sports</td>\n",
       "      <td>376.79</td>\n",
       "      <td>135.54</td>\n",
       "      <td>684.43</td>\n",
       "      <td>0.155532</td>\n",
       "      <td>0.155432</td>\n",
       "      <td>0.104475</td>\n",
       "    </tr>\n",
       "    <tr>\n",
       "      <td>4</td>\n",
       "      <td>platform</td>\n",
       "      <td>200.35</td>\n",
       "      <td>130.83</td>\n",
       "      <td>445.50</td>\n",
       "      <td>0.101237</td>\n",
       "      <td>0.082648</td>\n",
       "      <td>0.100845</td>\n",
       "    </tr>\n",
       "    <tr>\n",
       "      <td>3</td>\n",
       "      <td>misc</td>\n",
       "      <td>212.74</td>\n",
       "      <td>108.11</td>\n",
       "      <td>407.27</td>\n",
       "      <td>0.092549</td>\n",
       "      <td>0.087759</td>\n",
       "      <td>0.083332</td>\n",
       "    </tr>\n",
       "  </tbody>\n",
       "</table>\n",
       "</div>"
      ],
      "text/plain": [
       "           genre  eu_sales  jp_sales  na_sales  na_sales_%  eu_sales_%  \\\n",
       "7   role-playing    188.71    355.41    330.81    0.075174    0.077846   \n",
       "0         action    519.13    161.43    879.01    0.199749    0.214150   \n",
       "10        sports    376.79    135.54    684.43    0.155532    0.155432   \n",
       "4       platform    200.35    130.83    445.50    0.101237    0.082648   \n",
       "3           misc    212.74    108.11    407.27    0.092549    0.087759   \n",
       "\n",
       "    jp_sales_%  \n",
       "7     0.273953  \n",
       "0     0.124432  \n",
       "10    0.104475  \n",
       "4     0.100845  \n",
       "3     0.083332  "
      ]
     },
     "metadata": {},
     "output_type": "display_data"
    }
   ],
   "source": [
    "df_genre_refion = df.pivot_table(index='genre', values=['na_sales', 'eu_sales', 'jp_sales'], aggfunc='sum').reset_index()\n",
    "df_genre_refion['na_sales_%'] = df_genre_refion['na_sales'] / df_genre_refion['na_sales'].sum()\n",
    "df_genre_refion['eu_sales_%'] = df_genre_refion['eu_sales'] / df_genre_refion['eu_sales'].sum()\n",
    "df_genre_refion['jp_sales_%'] = df_genre_refion['jp_sales'] / df_genre_refion['jp_sales'].sum()\n",
    "\n",
    "display(df_genre_refion.sort_values('na_sales_%', ascending=False).head())\n",
    "print()\n",
    "display(df_genre_refion.sort_values('eu_sales_%', ascending=False).head())\n",
    "print()\n",
    "display(df_genre_refion.sort_values('jp_sales_%', ascending=False).head())"
   ]
  },
  {
   "cell_type": "markdown",
   "metadata": {},
   "source": [
    "In each region, the top genres of games are approximately the same."
   ]
  },
  {
   "cell_type": "markdown",
   "metadata": {},
   "source": [
    "Let's see if the ESRB rating affects the North American market."
   ]
  },
  {
   "cell_type": "code",
   "execution_count": 473,
   "metadata": {},
   "outputs": [
    {
     "data": {
      "text/plain": [
       "Text(0.5, 1.0, 'График продаж по рейтингам ESRB в Северной Америке')"
      ]
     },
     "execution_count": 473,
     "metadata": {},
     "output_type": "execute_result"
    },
    {
     "data": {
      "image/png": "[encoded data removed]",
      "text/plain": [
       "<Figure size 1080x360 with 1 Axes>"
      ]
     },
     "metadata": {
      "needs_background": "light"
     },
     "output_type": "display_data"
    }
   ],
   "source": [
    "df_esrb_na = df.groupby('rating')['na_sales'].sum().reset_index()\n",
    "df_esrb_na.plot(kind='bar', x='rating', figsize=(15,5))\n",
    "plt.title('График продаж по рейтингам ESRB в Северной Америке')"
   ]
  },
  {
   "cell_type": "markdown",
   "metadata": {},
   "source": [
    "The rating definitely has an impact.\n",
    "\n",
    "The \"E\" rating (Everyone) is the most popular, which is expected given its broad appeal."
   ]
  },
  {
   "cell_type": "markdown",
   "metadata": {},
   "source": [
    "### Conclusion\n",
    "\n",
    "We have identified the top platforms in each region and the top genres."
   ]
  },
  {
   "cell_type": "markdown",
   "metadata": {},
   "source": [
    "## Hypothesis Testing\n",
    "\n",
    "### Hypothesis 1\n",
    "\n",
    "<b>Null Hypothesis (H0): The average user rating of the Xbox One platform = the average user rating of the PC platform</b><br>\n",
    "<b>Alternative Hypothesis (H1): The average user rating of the Xbox One platform ≠ the average user rating of the PC platform</b>"
   ]
  },
  {
   "cell_type": "markdown",
   "metadata": {},
   "source": [
    "First, let's create a table without negative values, as we replaced missing values with -1."
   ]
  },
  {
   "cell_type": "code",
   "execution_count": 474,
   "metadata": {},
   "outputs": [],
   "source": [
    "df_h = df.query('user_score >= 0')"
   ]
  },
  {
   "cell_type": "code",
   "execution_count": 475,
   "metadata": {},
   "outputs": [],
   "source": [
    "df_h_xone = df_h.query('platform == \"xone\"')\n",
    "\n",
    "df_h_pc = df_h.query('platform == \"pc\"')"
   ]
  },
  {
   "cell_type": "markdown",
   "metadata": {},
   "source": [
    "We are testing the hypothesis."
   ]
  },
  {
   "cell_type": "code",
   "execution_count": 476,
   "metadata": {},
   "outputs": [
    {
     "name": "stdout",
     "output_type": "stream",
     "text": [
      "p-значение:  4.935072360183565e-06\n",
      "Отвергаем нулевую гипотезу\n"
     ]
    }
   ],
   "source": [
    "alpha = .01 # критический уровень статистической значимости\n",
    "# если p-value окажется меньше него - отвегнем гипотезу\n",
    "\n",
    "results = st.ttest_ind(\n",
    "    df_h_xone['user_score'], \n",
    "    df_h_pc['user_score'],\n",
    "    equal_var = False)\n",
    "\n",
    "print('p-значение: ', results.pvalue)\n",
    "\n",
    "if results.pvalue < alpha:\n",
    "    print(\"Отвергаем нулевую гипотезу\")\n",
    "else:\n",
    "    print(\"Не получилось отвергнуть нулевую гипотезу\")"
   ]
  },
  {
   "cell_type": "markdown",
   "metadata": {},
   "source": [
    "The hypothesis was not confirmed. The average values of user ratings between Xbox One and PC are not equal."
   ]
  },
  {
   "cell_type": "markdown",
   "metadata": {},
   "source": [
    "### Hypothesis 2\n",
    "\n",
    "<b>Null Hypothesis (H0): The average user rating of the Action genre = the average user rating of the Sports genre</b><br>\n",
    "<b>Alternative Hypothesis (H1): The average user rating of the Action genre ≠ the average user rating of the Sports genre</b>"
   ]
  },
  {
   "cell_type": "code",
   "execution_count": 477,
   "metadata": {},
   "outputs": [],
   "source": [
    "df_h_action = df_h.query('genre == \"action\"')\n",
    "df_h_sports = df_h.query('genre == \"sports\"')"
   ]
  },
  {
   "cell_type": "code",
   "execution_count": 478,
   "metadata": {},
   "outputs": [
    {
     "name": "stdout",
     "output_type": "stream",
     "text": [
      "p-значение:  0.11483818791498286\n",
      "Не получилось отвергнуть нулевую гипотезу\n"
     ]
    }
   ],
   "source": [
    "alpha = .01 # критический уровень статистической значимости\n",
    "# если p-value окажется меньше него - отвегнем гипотезу\n",
    "\n",
    "results = st.ttest_ind(\n",
    "    df_h_action['user_score'], \n",
    "    df_h_sports['user_score'],\n",
    "    equal_var = False)\n",
    "\n",
    "print('p-значение: ', results.pvalue)\n",
    "\n",
    "if results.pvalue < alpha:\n",
    "    print(\"Отвергаем нулевую гипотезу\")\n",
    "else:\n",
    "    print(\"Не получилось отвергнуть нулевую гипотезу\")"
   ]
  },
  {
   "cell_type": "markdown",
   "metadata": {},
   "source": [
    "The hypothesis was confirmed. The average values of user ratings between the Action and Sports genres are approximately equal."
   ]
  },
  {
   "cell_type": "markdown",
   "metadata": {},
   "source": [
    "### For the Final Task"
   ]
  },
  {
   "cell_type": "code",
   "execution_count": 479,
   "metadata": {},
   "outputs": [
    {
     "name": "stdout",
     "output_type": "stream",
     "text": [
      "NA 4400.570000000001\n",
      "EU 2424.1400000000003\n",
      "JP 1297.34\n"
     ]
    }
   ],
   "source": [
    "# Comparing Regions\n",
    "print('NA', df['na_sales'].sum())\n",
    "print('EU', df['eu_sales'].sum())\n",
    "print('JP', df['jp_sales'].sum())"
   ]
  },
  {
   "cell_type": "code",
   "execution_count": 480,
   "metadata": {},
   "outputs": [
    {
     "name": "stdout",
     "output_type": "stream",
     "text": [
      "ТОП-3 платформ    platform  total_sales\n",
      "16      ps2      1255.77\n",
      "28     x360       971.42\n",
      "17      ps3       939.65\n"
     ]
    }
   ],
   "source": [
    "# Top Consoles\n",
    "print('ТОП-3 платформ', df.groupby('platform')['total_sales'].sum().reset_index().sort_values('total_sales', ascending=False).head(3))"
   ]
  },
  {
   "cell_type": "code",
   "execution_count": 481,
   "metadata": {},
   "outputs": [
    {
     "name": "stdout",
     "output_type": "stream",
     "text": [
      "ТОП-3 жанра       genre  total_sales\n",
      "0    action      1744.17\n",
      "10   sports      1331.27\n",
      "8   shooter      1052.45\n"
     ]
    }
   ],
   "source": [
    "# Best Genres\n",
    "print('ТОП-3 жанра', df.groupby('genre')['total_sales'].sum().reset_index().sort_values('total_sales', ascending=False).head(3))"
   ]
  },
  {
   "cell_type": "markdown",
   "metadata": {},
   "source": [
    "### Conclusion\n",
    "\n",
    "The hypothesis of equality of the average user rating between the Xbox One platform and PC was not confirmed.\n",
    "\n",
    "The hypothesis of equality of the average user rating between the Action and Sports genres was confirmed."
   ]
  },
  {
   "cell_type": "markdown",
   "metadata": {},
   "source": [
    "## General Conclusion\n",
    "\n",
    "In addressing the main question of the task, let's outline the key points:\n",
    "\n",
    "1. The highest game sales are in North America.\n",
    "2. The top gaming platforms are PS2, X360, and PS3.\n",
    "3. The best-selling genres are action, sports, and shooter.\n",
    "\n",
    "Additionally, the critic and user ratings significantly influence the success criterion.\n",
    "\n",
    "These data points should be taken into account for the next advertising campaign."
   ]
  },
  {
   "cell_type": "markdown",
   "metadata": {},
   "source": []
  }
 ],
 "metadata": {
  "ExecuteTimeLog": [
   {
    "duration": 95,
    "start_time": "2022-01-24T07:57:01.987Z"
   },
   {
    "duration": 123,
    "start_time": "2022-01-24T08:01:03.984Z"
   },
   {
    "duration": 657,
    "start_time": "2022-01-24T08:01:08.648Z"
   },
   {
    "duration": 57,
    "start_time": "2022-01-24T08:01:15.316Z"
   },
   {
    "duration": 8,
    "start_time": "2022-01-24T08:02:45.353Z"
   },
   {
    "duration": 26,
    "start_time": "2022-01-24T08:03:12.581Z"
   },
   {
    "duration": 366,
    "start_time": "2022-01-24T08:05:34.579Z"
   },
   {
    "duration": 309,
    "start_time": "2022-01-24T08:05:45.826Z"
   },
   {
    "duration": 11,
    "start_time": "2022-01-24T08:05:55.139Z"
   },
   {
    "duration": 9,
    "start_time": "2022-01-24T08:06:01.663Z"
   },
   {
    "duration": 6,
    "start_time": "2022-01-24T08:06:24.003Z"
   },
   {
    "duration": 372,
    "start_time": "2022-01-24T08:06:35.806Z"
   },
   {
    "duration": 315,
    "start_time": "2022-01-24T08:06:41.871Z"
   },
   {
    "duration": 396,
    "start_time": "2022-01-24T08:08:01.761Z"
   },
   {
    "duration": 49,
    "start_time": "2022-01-24T08:08:13.487Z"
   },
   {
    "duration": 5,
    "start_time": "2022-01-24T08:08:16.482Z"
   },
   {
    "duration": 49,
    "start_time": "2022-01-24T08:10:54.672Z"
   },
   {
    "duration": 7,
    "start_time": "2022-01-24T08:10:54.723Z"
   },
   {
    "duration": 26,
    "start_time": "2022-01-24T08:10:54.731Z"
   },
   {
    "duration": 389,
    "start_time": "2022-01-24T08:11:20.473Z"
   },
   {
    "duration": 384,
    "start_time": "2022-01-24T08:12:37.374Z"
   },
   {
    "duration": 15,
    "start_time": "2022-01-24T08:12:43.912Z"
   },
   {
    "duration": 308,
    "start_time": "2022-01-24T08:16:04.337Z"
   },
   {
    "duration": 325,
    "start_time": "2022-01-24T08:17:03.945Z"
   },
   {
    "duration": 457,
    "start_time": "2022-01-24T08:17:34.857Z"
   },
   {
    "duration": 9,
    "start_time": "2022-01-24T08:18:09.650Z"
   },
   {
    "duration": 25,
    "start_time": "2022-01-24T08:19:32.399Z"
   },
   {
    "duration": 16,
    "start_time": "2022-01-24T08:19:39.594Z"
   },
   {
    "duration": 6,
    "start_time": "2022-01-24T08:19:57.873Z"
   },
   {
    "duration": 6,
    "start_time": "2022-01-24T08:20:01.771Z"
   },
   {
    "duration": 4,
    "start_time": "2022-01-24T08:20:10.882Z"
   },
   {
    "duration": 4,
    "start_time": "2022-01-24T08:20:14.739Z"
   },
   {
    "duration": 5,
    "start_time": "2022-01-24T08:20:18.238Z"
   },
   {
    "duration": 4,
    "start_time": "2022-01-24T08:20:22.127Z"
   },
   {
    "duration": 4,
    "start_time": "2022-01-24T08:20:25.947Z"
   },
   {
    "duration": 4,
    "start_time": "2022-01-24T08:20:29.919Z"
   },
   {
    "duration": 4,
    "start_time": "2022-01-24T08:20:35.352Z"
   },
   {
    "duration": 4,
    "start_time": "2022-01-24T08:20:38.699Z"
   },
   {
    "duration": 5,
    "start_time": "2022-01-24T08:20:42.311Z"
   },
   {
    "duration": 5,
    "start_time": "2022-01-24T08:20:46.187Z"
   },
   {
    "duration": 8,
    "start_time": "2022-01-24T08:22:36.823Z"
   },
   {
    "duration": 10,
    "start_time": "2022-01-24T08:22:41.215Z"
   },
   {
    "duration": 20,
    "start_time": "2022-01-24T08:24:03.652Z"
   },
   {
    "duration": 369,
    "start_time": "2022-01-24T08:24:52.336Z"
   },
   {
    "duration": 8,
    "start_time": "2022-01-24T08:24:59.684Z"
   },
   {
    "duration": 7,
    "start_time": "2022-01-24T08:25:07.428Z"
   },
   {
    "duration": 19,
    "start_time": "2022-01-24T08:25:13.720Z"
   },
   {
    "duration": 297,
    "start_time": "2022-01-24T08:27:48.864Z"
   },
   {
    "duration": 7,
    "start_time": "2022-01-24T08:27:53.128Z"
   },
   {
    "duration": 365,
    "start_time": "2022-01-24T08:29:38.590Z"
   },
   {
    "duration": 4,
    "start_time": "2022-01-24T08:29:45.494Z"
   },
   {
    "duration": 303,
    "start_time": "2022-01-24T08:29:49.218Z"
   },
   {
    "duration": 4288,
    "start_time": "2022-01-24T08:30:09.129Z"
   },
   {
    "duration": 52,
    "start_time": "2022-01-24T08:30:15.953Z"
   },
   {
    "duration": 9,
    "start_time": "2022-01-24T08:30:16.007Z"
   },
   {
    "duration": 33,
    "start_time": "2022-01-24T08:30:16.019Z"
   },
   {
    "duration": 32,
    "start_time": "2022-01-24T08:30:16.054Z"
   },
   {
    "duration": 15,
    "start_time": "2022-01-24T08:30:16.089Z"
   },
   {
    "duration": 8,
    "start_time": "2022-01-24T08:30:16.105Z"
   },
   {
    "duration": 3,
    "start_time": "2022-01-24T08:30:18.809Z"
   },
   {
    "duration": 10,
    "start_time": "2022-01-24T08:30:24.185Z"
   },
   {
    "duration": 3,
    "start_time": "2022-01-24T08:32:40.378Z"
   },
   {
    "duration": 9,
    "start_time": "2022-01-24T08:32:55.422Z"
   },
   {
    "duration": 7,
    "start_time": "2022-01-24T08:33:13.198Z"
   },
   {
    "duration": 7,
    "start_time": "2022-01-24T08:33:25.634Z"
   },
   {
    "duration": 292,
    "start_time": "2022-01-24T08:38:02.376Z"
   },
   {
    "duration": 285,
    "start_time": "2022-01-24T08:38:27.315Z"
   },
   {
    "duration": 6,
    "start_time": "2022-01-24T08:38:34.084Z"
   },
   {
    "duration": 352,
    "start_time": "2022-01-24T08:40:00.249Z"
   },
   {
    "duration": 330,
    "start_time": "2022-01-24T08:40:04.677Z"
   },
   {
    "duration": 21,
    "start_time": "2022-01-24T08:40:15.345Z"
   },
   {
    "duration": 9,
    "start_time": "2022-01-24T08:48:01.268Z"
   },
   {
    "duration": 4,
    "start_time": "2022-01-24T08:50:41.336Z"
   },
   {
    "duration": 6,
    "start_time": "2022-01-24T08:58:07.610Z"
   },
   {
    "duration": 5,
    "start_time": "2022-01-24T08:58:44.943Z"
   },
   {
    "duration": 306,
    "start_time": "2022-01-24T08:58:49.643Z"
   },
   {
    "duration": 10,
    "start_time": "2022-01-24T08:58:56.339Z"
   },
   {
    "duration": 7,
    "start_time": "2022-01-24T08:59:35.141Z"
   },
   {
    "duration": 5,
    "start_time": "2022-01-24T09:00:08.135Z"
   },
   {
    "duration": 6,
    "start_time": "2022-01-24T09:00:10.583Z"
   },
   {
    "duration": 504,
    "start_time": "2022-01-24T09:00:21.419Z"
   },
   {
    "duration": 7,
    "start_time": "2022-01-24T09:00:23.691Z"
   },
   {
    "duration": 5,
    "start_time": "2022-01-24T09:03:13.408Z"
   },
   {
    "duration": 51,
    "start_time": "2022-01-24T09:03:35.872Z"
   },
   {
    "duration": 9,
    "start_time": "2022-01-24T09:03:35.925Z"
   },
   {
    "duration": 40,
    "start_time": "2022-01-24T09:03:35.936Z"
   },
   {
    "duration": 25,
    "start_time": "2022-01-24T09:03:35.978Z"
   },
   {
    "duration": 16,
    "start_time": "2022-01-24T09:03:36.004Z"
   },
   {
    "duration": 7,
    "start_time": "2022-01-24T09:03:36.021Z"
   },
   {
    "duration": 3,
    "start_time": "2022-01-24T09:03:36.030Z"
   },
   {
    "duration": 6,
    "start_time": "2022-01-24T09:03:36.036Z"
   },
   {
    "duration": 29,
    "start_time": "2022-01-24T09:03:36.044Z"
   },
   {
    "duration": 5,
    "start_time": "2022-01-24T09:03:36.074Z"
   },
   {
    "duration": 13,
    "start_time": "2022-01-24T09:03:36.080Z"
   },
   {
    "duration": 4,
    "start_time": "2022-01-24T09:03:36.095Z"
   },
   {
    "duration": 304,
    "start_time": "2022-01-24T09:03:45.913Z"
   },
   {
    "duration": 3,
    "start_time": "2022-01-24T09:03:48.805Z"
   },
   {
    "duration": 8,
    "start_time": "2022-01-24T09:03:55.961Z"
   },
   {
    "duration": 3,
    "start_time": "2022-01-24T09:04:36.226Z"
   },
   {
    "duration": 4,
    "start_time": "2022-01-24T09:04:39.968Z"
   },
   {
    "duration": 16,
    "start_time": "2022-01-24T09:05:18.745Z"
   },
   {
    "duration": 15,
    "start_time": "2022-01-24T09:05:22.949Z"
   },
   {
    "duration": 9,
    "start_time": "2022-01-24T09:06:16.374Z"
   },
   {
    "duration": 4,
    "start_time": "2022-01-24T09:08:15.246Z"
   },
   {
    "duration": 5,
    "start_time": "2022-01-24T09:11:22.935Z"
   },
   {
    "duration": 13,
    "start_time": "2022-01-24T09:11:26.815Z"
   },
   {
    "duration": 10,
    "start_time": "2022-01-24T09:11:54.475Z"
   },
   {
    "duration": 592,
    "start_time": "2022-01-24T09:16:47.187Z"
   },
   {
    "duration": 8,
    "start_time": "2022-01-24T09:16:47.780Z"
   },
   {
    "duration": 24,
    "start_time": "2022-01-24T09:16:47.790Z"
   },
   {
    "duration": 24,
    "start_time": "2022-01-24T09:16:47.816Z"
   },
   {
    "duration": 34,
    "start_time": "2022-01-24T09:16:47.841Z"
   },
   {
    "duration": 7,
    "start_time": "2022-01-24T09:16:47.877Z"
   },
   {
    "duration": 3,
    "start_time": "2022-01-24T09:16:47.885Z"
   },
   {
    "duration": 4,
    "start_time": "2022-01-24T09:16:47.890Z"
   },
   {
    "duration": 5,
    "start_time": "2022-01-24T09:16:47.895Z"
   },
   {
    "duration": 4,
    "start_time": "2022-01-24T09:16:47.902Z"
   },
   {
    "duration": 10,
    "start_time": "2022-01-24T09:16:47.908Z"
   },
   {
    "duration": 7,
    "start_time": "2022-01-24T09:16:47.919Z"
   },
   {
    "duration": 9,
    "start_time": "2022-01-24T09:16:47.927Z"
   },
   {
    "duration": 37,
    "start_time": "2022-01-24T09:16:47.938Z"
   },
   {
    "duration": 8,
    "start_time": "2022-01-24T09:16:47.976Z"
   },
   {
    "duration": 3,
    "start_time": "2022-01-24T09:16:47.986Z"
   },
   {
    "duration": 8,
    "start_time": "2022-01-24T09:16:47.990Z"
   },
   {
    "duration": 8177,
    "start_time": "2022-01-24T09:18:43.846Z"
   },
   {
    "duration": 302,
    "start_time": "2022-01-24T09:19:06.793Z"
   },
   {
    "duration": 463,
    "start_time": "2022-01-24T09:21:30.231Z"
   },
   {
    "duration": 299,
    "start_time": "2022-01-24T09:21:49.330Z"
   },
   {
    "duration": 320,
    "start_time": "2022-01-24T09:21:54.146Z"
   },
   {
    "duration": 12,
    "start_time": "2022-01-24T09:23:44.332Z"
   },
   {
    "duration": 95,
    "start_time": "2022-01-24T09:24:04.005Z"
   },
   {
    "duration": 381,
    "start_time": "2022-01-24T09:24:10.206Z"
   },
   {
    "duration": 5,
    "start_time": "2022-01-24T09:24:47.087Z"
   },
   {
    "duration": 1183,
    "start_time": "2022-01-24T09:25:36.279Z"
   },
   {
    "duration": 1420,
    "start_time": "2022-01-24T09:26:03.635Z"
   },
   {
    "duration": 3808,
    "start_time": "2022-01-24T09:26:22.600Z"
   },
   {
    "duration": 4,
    "start_time": "2022-01-24T09:26:51.108Z"
   },
   {
    "duration": 6,
    "start_time": "2022-01-24T09:27:06.760Z"
   },
   {
    "duration": 230,
    "start_time": "2022-01-24T09:27:16.391Z"
   },
   {
    "duration": 190,
    "start_time": "2022-01-24T09:27:59.492Z"
   },
   {
    "duration": 206,
    "start_time": "2022-01-24T09:28:12.917Z"
   },
   {
    "duration": 13,
    "start_time": "2022-01-24T09:29:31.461Z"
   },
   {
    "duration": 190,
    "start_time": "2022-01-24T09:29:50.243Z"
   },
   {
    "duration": 9691,
    "start_time": "2022-01-24T09:30:07.385Z"
   },
   {
    "duration": 186,
    "start_time": "2022-01-24T09:30:53.327Z"
   },
   {
    "duration": 334,
    "start_time": "2022-01-24T09:31:49.754Z"
   },
   {
    "duration": 382,
    "start_time": "2022-01-24T09:32:02.493Z"
   },
   {
    "duration": 100,
    "start_time": "2022-01-24T09:32:18.778Z"
   },
   {
    "duration": 387,
    "start_time": "2022-01-24T09:32:22.203Z"
   },
   {
    "duration": 464,
    "start_time": "2022-01-24T09:32:39.498Z"
   },
   {
    "duration": 457,
    "start_time": "2022-01-24T09:32:48.526Z"
   },
   {
    "duration": 453,
    "start_time": "2022-01-24T09:32:52.524Z"
   },
   {
    "duration": 306,
    "start_time": "2022-01-24T09:33:06.062Z"
   },
   {
    "duration": 340,
    "start_time": "2022-01-24T09:33:30.022Z"
   },
   {
    "duration": 662,
    "start_time": "2022-01-24T09:33:36.170Z"
   },
   {
    "duration": 7,
    "start_time": "2022-01-24T09:35:52.882Z"
   },
   {
    "duration": 22,
    "start_time": "2022-01-24T09:40:15.717Z"
   },
   {
    "duration": 21,
    "start_time": "2022-01-24T09:40:30.395Z"
   },
   {
    "duration": 17,
    "start_time": "2022-01-24T09:41:18.849Z"
   },
   {
    "duration": 325,
    "start_time": "2022-01-24T09:41:48.593Z"
   },
   {
    "duration": 421,
    "start_time": "2022-01-24T09:41:54.561Z"
   },
   {
    "duration": 701,
    "start_time": "2022-01-24T09:42:24.349Z"
   },
   {
    "duration": 17,
    "start_time": "2022-01-24T09:42:35.492Z"
   },
   {
    "duration": 15,
    "start_time": "2022-01-24T09:43:19.001Z"
   },
   {
    "duration": 19,
    "start_time": "2022-01-24T09:43:23.841Z"
   },
   {
    "duration": 1444,
    "start_time": "2022-01-24T09:45:15.150Z"
   },
   {
    "duration": 19,
    "start_time": "2022-01-24T09:46:07.070Z"
   },
   {
    "duration": 17,
    "start_time": "2022-01-24T09:46:12.017Z"
   },
   {
    "duration": 17,
    "start_time": "2022-01-24T09:46:18.422Z"
   },
   {
    "duration": 21,
    "start_time": "2022-01-24T09:50:45.920Z"
   },
   {
    "duration": 18,
    "start_time": "2022-01-24T09:52:14.036Z"
   },
   {
    "duration": 23,
    "start_time": "2022-01-24T09:52:20.796Z"
   },
   {
    "duration": 22,
    "start_time": "2022-01-24T09:52:48.620Z"
   },
   {
    "duration": 21,
    "start_time": "2022-01-24T09:53:29.048Z"
   },
   {
    "duration": 22,
    "start_time": "2022-01-24T09:53:33.924Z"
   },
   {
    "duration": 20,
    "start_time": "2022-01-24T09:54:31.369Z"
   },
   {
    "duration": 14,
    "start_time": "2022-01-24T09:56:37.754Z"
   },
   {
    "duration": 320,
    "start_time": "2022-01-24T09:57:14.266Z"
   },
   {
    "duration": 11,
    "start_time": "2022-01-24T09:57:43.822Z"
   },
   {
    "duration": 8,
    "start_time": "2022-01-24T09:57:50.862Z"
   },
   {
    "duration": 3,
    "start_time": "2022-01-24T09:58:49.826Z"
   },
   {
    "duration": 12,
    "start_time": "2022-01-24T09:58:57.570Z"
   },
   {
    "duration": 626,
    "start_time": "2022-01-24T09:59:43.974Z"
   },
   {
    "duration": 391,
    "start_time": "2022-01-24T10:01:26.263Z"
   },
   {
    "duration": 671,
    "start_time": "2022-01-24T10:01:42.963Z"
   },
   {
    "duration": 705,
    "start_time": "2022-01-24T10:03:08.880Z"
   },
   {
    "duration": 595,
    "start_time": "2022-01-24T10:03:28.123Z"
   },
   {
    "duration": 322,
    "start_time": "2022-01-24T10:04:06.751Z"
   },
   {
    "duration": 279,
    "start_time": "2022-01-24T10:04:27.816Z"
   },
   {
    "duration": 226,
    "start_time": "2022-01-24T10:04:51.435Z"
   },
   {
    "duration": 214,
    "start_time": "2022-01-24T10:05:20.135Z"
   },
   {
    "duration": 663,
    "start_time": "2022-01-24T10:05:27.676Z"
   },
   {
    "duration": 300,
    "start_time": "2022-01-24T10:05:54.300Z"
   },
   {
    "duration": 309,
    "start_time": "2022-01-24T10:15:19.082Z"
   },
   {
    "duration": 344,
    "start_time": "2022-01-24T10:15:41.163Z"
   },
   {
    "duration": 12,
    "start_time": "2022-01-24T10:15:56.287Z"
   },
   {
    "duration": 639,
    "start_time": "2022-01-24T10:17:10.060Z"
   },
   {
    "duration": 8,
    "start_time": "2022-01-24T10:17:10.701Z"
   },
   {
    "duration": 25,
    "start_time": "2022-01-24T10:17:10.711Z"
   },
   {
    "duration": 46,
    "start_time": "2022-01-24T10:17:10.738Z"
   },
   {
    "duration": 14,
    "start_time": "2022-01-24T10:17:10.786Z"
   },
   {
    "duration": 8,
    "start_time": "2022-01-24T10:17:10.801Z"
   },
   {
    "duration": 3,
    "start_time": "2022-01-24T10:17:10.810Z"
   },
   {
    "duration": 3,
    "start_time": "2022-01-24T10:17:10.815Z"
   },
   {
    "duration": 9,
    "start_time": "2022-01-24T10:17:10.820Z"
   },
   {
    "duration": 10,
    "start_time": "2022-01-24T10:17:10.830Z"
   },
   {
    "duration": 33,
    "start_time": "2022-01-24T10:17:10.842Z"
   },
   {
    "duration": 4,
    "start_time": "2022-01-24T10:17:10.877Z"
   },
   {
    "duration": 4,
    "start_time": "2022-01-24T10:17:10.883Z"
   },
   {
    "duration": 22,
    "start_time": "2022-01-24T10:17:10.888Z"
   },
   {
    "duration": 9,
    "start_time": "2022-01-24T10:17:10.911Z"
   },
   {
    "duration": 5,
    "start_time": "2022-01-24T10:17:10.921Z"
   },
   {
    "duration": 9,
    "start_time": "2022-01-24T10:17:10.927Z"
   },
   {
    "duration": 419,
    "start_time": "2022-01-24T10:17:10.937Z"
   },
   {
    "duration": 29,
    "start_time": "2022-01-24T10:17:11.357Z"
   },
   {
    "duration": 3,
    "start_time": "2022-01-24T10:17:11.388Z"
   },
   {
    "duration": 5,
    "start_time": "2022-01-24T10:18:37.035Z"
   },
   {
    "duration": 10,
    "start_time": "2022-01-24T10:18:40.864Z"
   },
   {
    "duration": 184,
    "start_time": "2022-01-24T10:19:21.948Z"
   },
   {
    "duration": 165,
    "start_time": "2022-01-24T10:19:34.563Z"
   },
   {
    "duration": 1583,
    "start_time": "2022-01-24T10:20:02.860Z"
   },
   {
    "duration": 163,
    "start_time": "2022-01-24T10:20:16.305Z"
   },
   {
    "duration": 1079,
    "start_time": "2022-01-24T10:20:31.344Z"
   },
   {
    "duration": 112,
    "start_time": "2022-01-24T10:20:37.852Z"
   },
   {
    "duration": 178,
    "start_time": "2022-01-24T10:20:43.908Z"
   },
   {
    "duration": 452,
    "start_time": "2022-01-24T10:21:10.277Z"
   },
   {
    "duration": 288,
    "start_time": "2022-01-24T10:21:26.652Z"
   },
   {
    "duration": 708,
    "start_time": "2022-01-24T10:21:49.945Z"
   },
   {
    "duration": 229,
    "start_time": "2022-01-24T10:22:05.629Z"
   },
   {
    "duration": 298,
    "start_time": "2022-01-24T10:22:09.345Z"
   },
   {
    "duration": 235,
    "start_time": "2022-01-24T10:22:13.853Z"
   },
   {
    "duration": 753,
    "start_time": "2022-01-24T10:22:21.937Z"
   },
   {
    "duration": 546,
    "start_time": "2022-01-24T10:23:35.811Z"
   },
   {
    "duration": 587,
    "start_time": "2022-01-24T10:23:44.805Z"
   },
   {
    "duration": 317,
    "start_time": "2022-01-24T10:24:51.475Z"
   },
   {
    "duration": 489,
    "start_time": "2022-01-24T10:25:40.983Z"
   },
   {
    "duration": 322,
    "start_time": "2022-01-24T10:26:12.303Z"
   },
   {
    "duration": 515,
    "start_time": "2022-01-24T10:26:25.114Z"
   },
   {
    "duration": 505,
    "start_time": "2022-01-24T10:26:35.389Z"
   },
   {
    "duration": 349,
    "start_time": "2022-01-24T10:26:41.526Z"
   },
   {
    "duration": 473,
    "start_time": "2022-01-24T10:26:52.174Z"
   },
   {
    "duration": 491,
    "start_time": "2022-01-24T10:28:27.319Z"
   },
   {
    "duration": 504,
    "start_time": "2022-01-24T10:28:36.747Z"
   },
   {
    "duration": 486,
    "start_time": "2022-01-24T10:30:31.604Z"
   },
   {
    "duration": 486,
    "start_time": "2022-01-24T10:30:35.984Z"
   },
   {
    "duration": 501,
    "start_time": "2022-01-24T10:30:42.296Z"
   },
   {
    "duration": 477,
    "start_time": "2022-01-24T10:30:47.292Z"
   },
   {
    "duration": 507,
    "start_time": "2022-01-24T10:30:51.632Z"
   },
   {
    "duration": 621,
    "start_time": "2022-01-24T10:31:00.721Z"
   },
   {
    "duration": 474,
    "start_time": "2022-01-24T10:31:08.880Z"
   },
   {
    "duration": 8097,
    "start_time": "2022-01-24T10:31:25.847Z"
   },
   {
    "duration": 8618,
    "start_time": "2022-01-24T10:31:40.738Z"
   },
   {
    "duration": 461,
    "start_time": "2022-01-24T10:32:11.473Z"
   },
   {
    "duration": 2201,
    "start_time": "2022-01-24T10:35:08.213Z"
   },
   {
    "duration": 291,
    "start_time": "2022-01-24T10:36:35.638Z"
   },
   {
    "duration": 321,
    "start_time": "2022-01-24T10:37:00.639Z"
   },
   {
    "duration": 306,
    "start_time": "2022-01-24T10:37:16.923Z"
   },
   {
    "duration": 301,
    "start_time": "2022-01-24T10:37:44.879Z"
   },
   {
    "duration": 499,
    "start_time": "2022-01-24T10:38:39.511Z"
   },
   {
    "duration": 296,
    "start_time": "2022-01-24T10:38:48.503Z"
   },
   {
    "duration": 449,
    "start_time": "2022-01-24T10:38:58.063Z"
   },
   {
    "duration": 308,
    "start_time": "2022-01-24T10:39:03.699Z"
   },
   {
    "duration": 293,
    "start_time": "2022-01-24T10:39:56.324Z"
   },
   {
    "duration": 1087,
    "start_time": "2022-01-24T10:39:59.935Z"
   },
   {
    "duration": 410,
    "start_time": "2022-01-24T10:40:10.068Z"
   },
   {
    "duration": 443,
    "start_time": "2022-01-24T10:40:21.068Z"
   },
   {
    "duration": 316,
    "start_time": "2022-01-24T10:40:50.675Z"
   },
   {
    "duration": 301,
    "start_time": "2022-01-24T10:40:54.704Z"
   },
   {
    "duration": 306,
    "start_time": "2022-01-24T10:41:03.564Z"
   },
   {
    "duration": 298,
    "start_time": "2022-01-24T10:41:07.612Z"
   },
   {
    "duration": 314,
    "start_time": "2022-01-24T10:41:20.468Z"
   },
   {
    "duration": 4,
    "start_time": "2022-01-24T10:46:24.094Z"
   },
   {
    "duration": 309,
    "start_time": "2022-01-24T10:46:30.284Z"
   },
   {
    "duration": 22,
    "start_time": "2022-01-24T10:47:00.458Z"
   },
   {
    "duration": 19,
    "start_time": "2022-01-24T10:47:08.162Z"
   },
   {
    "duration": 20,
    "start_time": "2022-01-24T10:47:14.166Z"
   },
   {
    "duration": 108,
    "start_time": "2022-01-24T11:29:57.260Z"
   },
   {
    "duration": 52,
    "start_time": "2022-01-24T11:31:36.087Z"
   },
   {
    "duration": 8,
    "start_time": "2022-01-24T11:31:36.141Z"
   },
   {
    "duration": 26,
    "start_time": "2022-01-24T11:31:36.151Z"
   },
   {
    "duration": 23,
    "start_time": "2022-01-24T11:31:36.179Z"
   },
   {
    "duration": 15,
    "start_time": "2022-01-24T11:31:36.204Z"
   },
   {
    "duration": 12,
    "start_time": "2022-01-24T11:31:36.220Z"
   },
   {
    "duration": 8,
    "start_time": "2022-01-24T11:31:36.234Z"
   },
   {
    "duration": 3,
    "start_time": "2022-01-24T11:31:36.244Z"
   },
   {
    "duration": 28,
    "start_time": "2022-01-24T11:31:36.249Z"
   },
   {
    "duration": 5,
    "start_time": "2022-01-24T11:31:36.279Z"
   },
   {
    "duration": 10,
    "start_time": "2022-01-24T11:31:36.285Z"
   },
   {
    "duration": 4,
    "start_time": "2022-01-24T11:31:36.296Z"
   },
   {
    "duration": 13,
    "start_time": "2022-01-24T11:31:36.302Z"
   },
   {
    "duration": 24,
    "start_time": "2022-01-24T11:31:36.317Z"
   },
   {
    "duration": 9,
    "start_time": "2022-01-24T11:31:36.343Z"
   },
   {
    "duration": 3,
    "start_time": "2022-01-24T11:31:36.371Z"
   },
   {
    "duration": 7,
    "start_time": "2022-01-24T11:31:36.376Z"
   },
   {
    "duration": 398,
    "start_time": "2022-01-24T11:31:36.384Z"
   },
   {
    "duration": 19,
    "start_time": "2022-01-24T11:31:36.783Z"
   },
   {
    "duration": 2,
    "start_time": "2022-01-24T11:31:36.803Z"
   },
   {
    "duration": 6,
    "start_time": "2022-01-24T11:31:36.807Z"
   },
   {
    "duration": 325,
    "start_time": "2022-01-24T11:31:36.815Z"
   },
   {
    "duration": 5,
    "start_time": "2022-01-24T11:31:37.142Z"
   },
   {
    "duration": 304,
    "start_time": "2022-01-24T11:31:37.149Z"
   },
   {
    "duration": 112,
    "start_time": "2022-01-24T11:31:56.164Z"
   },
   {
    "duration": 495,
    "start_time": "2022-01-24T11:32:15.797Z"
   },
   {
    "duration": 461,
    "start_time": "2022-01-24T11:32:19.657Z"
   },
   {
    "duration": 170,
    "start_time": "2022-01-24T11:32:31.063Z"
   },
   {
    "duration": 1416,
    "start_time": "2022-01-24T11:34:23.929Z"
   },
   {
    "duration": 295,
    "start_time": "2022-01-24T11:35:19.430Z"
   },
   {
    "duration": 469,
    "start_time": "2022-01-24T11:35:49.302Z"
   },
   {
    "duration": 883,
    "start_time": "2022-01-24T11:36:13.994Z"
   },
   {
    "duration": 1135,
    "start_time": "2022-01-24T11:36:44.754Z"
   },
   {
    "duration": 113,
    "start_time": "2022-01-24T11:37:26.558Z"
   },
   {
    "duration": 623,
    "start_time": "2022-01-24T11:37:58.235Z"
   },
   {
    "duration": 553,
    "start_time": "2022-01-24T11:38:24.943Z"
   },
   {
    "duration": 456,
    "start_time": "2022-01-24T11:38:40.763Z"
   },
   {
    "duration": 390,
    "start_time": "2022-01-24T11:38:58.772Z"
   },
   {
    "duration": 377,
    "start_time": "2022-01-24T11:39:03.884Z"
   },
   {
    "duration": 524,
    "start_time": "2022-01-24T11:39:12.232Z"
   },
   {
    "duration": 815,
    "start_time": "2022-01-24T11:39:30.056Z"
   },
   {
    "duration": 636,
    "start_time": "2022-01-24T11:39:35.691Z"
   },
   {
    "duration": 969,
    "start_time": "2022-01-24T11:39:52.068Z"
   },
   {
    "duration": 647,
    "start_time": "2022-01-24T11:40:26.330Z"
   },
   {
    "duration": 729,
    "start_time": "2022-01-24T11:40:38.912Z"
   },
   {
    "duration": 115,
    "start_time": "2022-01-24T11:40:58.972Z"
   },
   {
    "duration": 934,
    "start_time": "2022-01-24T11:41:04.948Z"
   },
   {
    "duration": 10,
    "start_time": "2022-01-24T11:48:18.889Z"
   },
   {
    "duration": 8,
    "start_time": "2022-01-24T11:48:40.590Z"
   },
   {
    "duration": 325,
    "start_time": "2022-01-24T11:49:16.606Z"
   },
   {
    "duration": 336,
    "start_time": "2022-01-24T11:49:22.803Z"
   },
   {
    "duration": 297,
    "start_time": "2022-01-24T11:50:12.062Z"
   },
   {
    "duration": 308,
    "start_time": "2022-01-24T11:50:25.983Z"
   },
   {
    "duration": 528,
    "start_time": "2022-01-24T11:50:44.807Z"
   },
   {
    "duration": 531,
    "start_time": "2022-01-24T11:50:59.383Z"
   },
   {
    "duration": 300,
    "start_time": "2022-01-24T11:51:10.887Z"
   },
   {
    "duration": 303,
    "start_time": "2022-01-24T11:51:13.065Z"
   },
   {
    "duration": 7,
    "start_time": "2022-01-24T11:52:08.799Z"
   },
   {
    "duration": 60,
    "start_time": "2022-01-24T11:52:29.718Z"
   },
   {
    "duration": 10,
    "start_time": "2022-01-24T11:52:29.780Z"
   },
   {
    "duration": 29,
    "start_time": "2022-01-24T11:52:29.792Z"
   },
   {
    "duration": 55,
    "start_time": "2022-01-24T11:52:29.823Z"
   },
   {
    "duration": 16,
    "start_time": "2022-01-24T11:52:29.880Z"
   },
   {
    "duration": 7,
    "start_time": "2022-01-24T11:52:29.898Z"
   },
   {
    "duration": 3,
    "start_time": "2022-01-24T11:52:29.907Z"
   },
   {
    "duration": 4,
    "start_time": "2022-01-24T11:52:29.913Z"
   },
   {
    "duration": 6,
    "start_time": "2022-01-24T11:52:29.919Z"
   },
   {
    "duration": 6,
    "start_time": "2022-01-24T11:52:29.927Z"
   },
   {
    "duration": 37,
    "start_time": "2022-01-24T11:52:29.934Z"
   },
   {
    "duration": 5,
    "start_time": "2022-01-24T11:52:29.973Z"
   },
   {
    "duration": 4,
    "start_time": "2022-01-24T11:52:29.980Z"
   },
   {
    "duration": 22,
    "start_time": "2022-01-24T11:52:29.985Z"
   },
   {
    "duration": 9,
    "start_time": "2022-01-24T11:52:30.009Z"
   },
   {
    "duration": 8,
    "start_time": "2022-01-24T11:52:30.019Z"
   },
   {
    "duration": 5,
    "start_time": "2022-01-24T11:52:30.029Z"
   },
   {
    "duration": 1190,
    "start_time": "2022-01-24T11:52:30.036Z"
   },
   {
    "duration": 18,
    "start_time": "2022-01-24T11:52:31.228Z"
   },
   {
    "duration": 2,
    "start_time": "2022-01-24T11:52:31.248Z"
   },
   {
    "duration": 20,
    "start_time": "2022-01-24T11:52:31.252Z"
   },
   {
    "duration": 309,
    "start_time": "2022-01-24T11:52:31.273Z"
   },
   {
    "duration": 5,
    "start_time": "2022-01-24T11:52:31.585Z"
   },
   {
    "duration": 316,
    "start_time": "2022-01-24T11:52:31.591Z"
   },
   {
    "duration": 926,
    "start_time": "2022-01-24T11:52:31.909Z"
   },
   {
    "duration": 8,
    "start_time": "2022-01-24T11:52:32.837Z"
   },
   {
    "duration": 7,
    "start_time": "2022-01-24T11:52:35.769Z"
   },
   {
    "duration": 450,
    "start_time": "2022-01-24T11:52:36.226Z"
   },
   {
    "duration": 645,
    "start_time": "2022-01-24T11:52:41.510Z"
   },
   {
    "duration": 8242,
    "start_time": "2022-01-24T12:01:16.494Z"
   },
   {
    "duration": 10,
    "start_time": "2022-01-24T12:01:38.201Z"
   },
   {
    "duration": 10,
    "start_time": "2022-01-24T12:03:10.627Z"
   },
   {
    "duration": 743,
    "start_time": "2022-01-24T12:07:06.158Z"
   },
   {
    "duration": 10,
    "start_time": "2022-01-24T12:07:41.957Z"
   },
   {
    "duration": 189452,
    "start_time": "2022-01-24T12:16:17.459Z"
   },
   {
    "duration": 54,
    "start_time": "2022-01-24T12:19:26.913Z"
   },
   {
    "duration": 8,
    "start_time": "2022-01-24T12:19:26.972Z"
   },
   {
    "duration": 27,
    "start_time": "2022-01-24T12:19:26.982Z"
   },
   {
    "duration": 26,
    "start_time": "2022-01-24T12:19:27.011Z"
   },
   {
    "duration": 38,
    "start_time": "2022-01-24T12:19:27.039Z"
   },
   {
    "duration": 10,
    "start_time": "2022-01-24T12:19:27.079Z"
   },
   {
    "duration": 3,
    "start_time": "2022-01-24T12:19:27.092Z"
   },
   {
    "duration": 4,
    "start_time": "2022-01-24T12:19:27.097Z"
   },
   {
    "duration": 8,
    "start_time": "2022-01-24T12:19:27.102Z"
   },
   {
    "duration": 5,
    "start_time": "2022-01-24T12:19:27.111Z"
   },
   {
    "duration": 11,
    "start_time": "2022-01-24T12:19:27.117Z"
   },
   {
    "duration": 4,
    "start_time": "2022-01-24T12:19:27.130Z"
   },
   {
    "duration": 38,
    "start_time": "2022-01-24T12:19:27.135Z"
   },
   {
    "duration": 18,
    "start_time": "2022-01-24T12:19:27.174Z"
   },
   {
    "duration": 8,
    "start_time": "2022-01-24T12:19:27.194Z"
   },
   {
    "duration": 8,
    "start_time": "2022-01-24T12:19:27.204Z"
   },
   {
    "duration": 6,
    "start_time": "2022-01-24T12:19:27.213Z"
   },
   {
    "duration": 523,
    "start_time": "2022-01-24T12:19:27.221Z"
   },
   {
    "duration": 29,
    "start_time": "2022-01-24T12:19:27.746Z"
   },
   {
    "duration": 2,
    "start_time": "2022-01-24T12:19:27.777Z"
   },
   {
    "duration": 5,
    "start_time": "2022-01-24T12:19:27.781Z"
   },
   {
    "duration": 319,
    "start_time": "2022-01-24T12:19:27.789Z"
   },
   {
    "duration": 4,
    "start_time": "2022-01-24T12:19:28.110Z"
   },
   {
    "duration": 313,
    "start_time": "2022-01-24T12:19:28.116Z"
   },
   {
    "duration": 1003,
    "start_time": "2022-01-24T12:19:28.430Z"
   },
   {
    "duration": 7,
    "start_time": "2022-01-24T12:19:29.435Z"
   },
   {
    "duration": 459,
    "start_time": "2022-01-24T12:19:29.444Z"
   },
   {
    "duration": 8,
    "start_time": "2022-01-24T12:19:29.905Z"
   },
   {
    "duration": 820,
    "start_time": "2022-01-24T12:19:29.914Z"
   },
   {
    "duration": 9,
    "start_time": "2022-01-24T12:19:30.736Z"
   },
   {
    "duration": 6,
    "start_time": "2022-01-24T12:20:16.668Z"
   },
   {
    "duration": 194824,
    "start_time": "2022-01-24T12:23:38.944Z"
   },
   {
    "duration": 51,
    "start_time": "2022-01-24T12:26:53.770Z"
   },
   {
    "duration": 8,
    "start_time": "2022-01-24T12:26:53.823Z"
   },
   {
    "duration": 40,
    "start_time": "2022-01-24T12:26:53.832Z"
   },
   {
    "duration": 25,
    "start_time": "2022-01-24T12:26:53.873Z"
   },
   {
    "duration": 15,
    "start_time": "2022-01-24T12:26:53.899Z"
   },
   {
    "duration": 7,
    "start_time": "2022-01-24T12:26:53.917Z"
   },
   {
    "duration": 3,
    "start_time": "2022-01-24T12:26:53.926Z"
   },
   {
    "duration": 6,
    "start_time": "2022-01-24T12:26:53.930Z"
   },
   {
    "duration": 6,
    "start_time": "2022-01-24T12:26:53.938Z"
   },
   {
    "duration": 29,
    "start_time": "2022-01-24T12:26:53.945Z"
   },
   {
    "duration": 11,
    "start_time": "2022-01-24T12:26:53.975Z"
   },
   {
    "duration": 4,
    "start_time": "2022-01-24T12:26:53.988Z"
   },
   {
    "duration": 7,
    "start_time": "2022-01-24T12:26:53.994Z"
   },
   {
    "duration": 22,
    "start_time": "2022-01-24T12:26:54.003Z"
   },
   {
    "duration": 9,
    "start_time": "2022-01-24T12:26:54.026Z"
   },
   {
    "duration": 7,
    "start_time": "2022-01-24T12:26:54.036Z"
   },
   {
    "duration": 28,
    "start_time": "2022-01-24T12:26:54.044Z"
   },
   {
    "duration": 400,
    "start_time": "2022-01-24T12:26:54.074Z"
   },
   {
    "duration": 21,
    "start_time": "2022-01-24T12:26:54.476Z"
   },
   {
    "duration": 3,
    "start_time": "2022-01-24T12:26:54.498Z"
   },
   {
    "duration": 5,
    "start_time": "2022-01-24T12:26:54.503Z"
   },
   {
    "duration": 326,
    "start_time": "2022-01-24T12:26:54.510Z"
   },
   {
    "duration": 5,
    "start_time": "2022-01-24T12:26:54.837Z"
   },
   {
    "duration": 306,
    "start_time": "2022-01-24T12:26:54.843Z"
   },
   {
    "duration": 902,
    "start_time": "2022-01-24T12:26:55.151Z"
   },
   {
    "duration": 7,
    "start_time": "2022-01-24T12:26:56.055Z"
   },
   {
    "duration": 510,
    "start_time": "2022-01-24T12:26:56.072Z"
   },
   {
    "duration": 7,
    "start_time": "2022-01-24T12:26:56.584Z"
   },
   {
    "duration": 768,
    "start_time": "2022-01-24T12:26:56.593Z"
   },
   {
    "duration": 14,
    "start_time": "2022-01-24T12:26:57.363Z"
   },
   {
    "duration": 188386,
    "start_time": "2022-01-24T12:28:04.624Z"
   },
   {
    "duration": 15,
    "start_time": "2022-01-24T12:33:34.566Z"
   },
   {
    "duration": 187,
    "start_time": "2022-01-24T12:34:01.401Z"
   },
   {
    "duration": 201,
    "start_time": "2022-01-24T12:34:14.987Z"
   },
   {
    "duration": 5553,
    "start_time": "2022-01-24T12:40:22.383Z"
   },
   {
    "duration": 4480,
    "start_time": "2022-01-24T12:40:44.327Z"
   },
   {
    "duration": 7497,
    "start_time": "2022-01-24T12:41:27.687Z"
   },
   {
    "duration": 4330,
    "start_time": "2022-01-24T12:41:46.905Z"
   },
   {
    "duration": 20,
    "start_time": "2022-01-24T12:42:03.363Z"
   },
   {
    "duration": 22,
    "start_time": "2022-01-24T12:42:23.892Z"
   },
   {
    "duration": 5165,
    "start_time": "2022-01-24T12:43:06.092Z"
   },
   {
    "duration": 4614,
    "start_time": "2022-01-24T12:43:23.895Z"
   },
   {
    "duration": 487,
    "start_time": "2022-01-24T12:44:34.084Z"
   },
   {
    "duration": 658,
    "start_time": "2022-01-24T12:44:53.572Z"
   },
   {
    "duration": 312,
    "start_time": "2022-01-24T12:46:49.201Z"
   },
   {
    "duration": 338,
    "start_time": "2022-01-24T12:46:57.831Z"
   },
   {
    "duration": 7916,
    "start_time": "2022-01-24T12:47:21.545Z"
   },
   {
    "duration": 555,
    "start_time": "2022-01-24T12:47:40.397Z"
   },
   {
    "duration": 3850,
    "start_time": "2022-01-24T12:47:46.716Z"
   },
   {
    "duration": 6,
    "start_time": "2022-01-24T12:48:49.109Z"
   },
   {
    "duration": 181,
    "start_time": "2022-01-24T12:49:02.505Z"
   },
   {
    "duration": 4,
    "start_time": "2022-01-24T12:58:50.552Z"
   },
   {
    "duration": 607,
    "start_time": "2022-01-24T12:59:17.769Z"
   },
   {
    "duration": 671,
    "start_time": "2022-01-24T12:59:53.664Z"
   },
   {
    "duration": 8,
    "start_time": "2022-01-24T13:01:36.325Z"
   },
   {
    "duration": 18,
    "start_time": "2022-01-24T13:01:40.814Z"
   },
   {
    "duration": 562,
    "start_time": "2022-01-24T13:03:03.187Z"
   },
   {
    "duration": 315,
    "start_time": "2022-01-24T13:03:27.322Z"
   },
   {
    "duration": 374,
    "start_time": "2022-01-24T13:03:47.131Z"
   },
   {
    "duration": 18,
    "start_time": "2022-01-24T13:04:03.715Z"
   },
   {
    "duration": 650,
    "start_time": "2022-01-24T13:04:11.414Z"
   },
   {
    "duration": 608,
    "start_time": "2022-01-24T13:04:40.550Z"
   },
   {
    "duration": 929,
    "start_time": "2022-01-24T13:07:02.291Z"
   },
   {
    "duration": 1584,
    "start_time": "2022-01-24T13:07:54.800Z"
   },
   {
    "duration": 839,
    "start_time": "2022-01-24T13:08:04.088Z"
   },
   {
    "duration": 819,
    "start_time": "2022-01-24T13:08:17.474Z"
   },
   {
    "duration": 1981,
    "start_time": "2022-01-24T13:09:02.620Z"
   },
   {
    "duration": 1628,
    "start_time": "2022-01-24T13:09:27.076Z"
   },
   {
    "duration": 1903,
    "start_time": "2022-01-24T13:09:44.660Z"
   },
   {
    "duration": 2978,
    "start_time": "2022-01-24T13:10:24.072Z"
   },
   {
    "duration": 1938,
    "start_time": "2022-01-24T13:10:32.192Z"
   },
   {
    "duration": 1922,
    "start_time": "2022-01-24T13:11:00.349Z"
   },
   {
    "duration": 1803,
    "start_time": "2022-01-24T13:11:41.709Z"
   },
   {
    "duration": 600,
    "start_time": "2022-01-24T13:12:02.605Z"
   },
   {
    "duration": 1863,
    "start_time": "2022-01-24T13:12:14.953Z"
   },
   {
    "duration": 7,
    "start_time": "2022-01-24T13:14:17.738Z"
   },
   {
    "duration": 8,
    "start_time": "2022-01-24T13:14:32.998Z"
   },
   {
    "duration": 8,
    "start_time": "2022-01-24T13:14:58.025Z"
   },
   {
    "duration": 7,
    "start_time": "2022-01-24T13:15:02.934Z"
   },
   {
    "duration": 1697,
    "start_time": "2022-01-24T13:15:16.578Z"
   },
   {
    "duration": 10,
    "start_time": "2022-01-24T13:15:24.127Z"
   },
   {
    "duration": 432,
    "start_time": "2022-01-24T13:15:34.715Z"
   },
   {
    "duration": 10,
    "start_time": "2022-01-24T13:15:42.518Z"
   },
   {
    "duration": 7,
    "start_time": "2022-01-24T13:15:49.918Z"
   },
   {
    "duration": 10,
    "start_time": "2022-01-24T13:16:31.999Z"
   },
   {
    "duration": 15,
    "start_time": "2022-01-24T13:16:46.183Z"
   },
   {
    "duration": 11,
    "start_time": "2022-01-24T13:16:50.387Z"
   },
   {
    "duration": 9,
    "start_time": "2022-01-24T13:17:04.271Z"
   },
   {
    "duration": 9,
    "start_time": "2022-01-24T13:17:54.003Z"
   },
   {
    "duration": 10,
    "start_time": "2022-01-24T13:18:03.864Z"
   },
   {
    "duration": 14,
    "start_time": "2022-01-24T13:23:27.502Z"
   },
   {
    "duration": 17,
    "start_time": "2022-01-24T13:23:32.205Z"
   },
   {
    "duration": 453,
    "start_time": "2022-01-24T13:23:49.270Z"
   },
   {
    "duration": 21,
    "start_time": "2022-01-24T13:24:52.230Z"
   },
   {
    "duration": 15,
    "start_time": "2022-01-24T13:25:11.105Z"
   },
   {
    "duration": 372,
    "start_time": "2022-01-24T13:25:17.390Z"
   },
   {
    "duration": 296,
    "start_time": "2022-01-24T13:27:12.051Z"
   },
   {
    "duration": 15,
    "start_time": "2022-01-24T13:27:18.111Z"
   },
   {
    "duration": 16,
    "start_time": "2022-01-24T13:28:36.475Z"
   },
   {
    "duration": 16,
    "start_time": "2022-01-24T13:28:53.802Z"
   },
   {
    "duration": 16,
    "start_time": "2022-01-24T13:29:06.731Z"
   },
   {
    "duration": 13,
    "start_time": "2022-01-24T13:34:25.860Z"
   },
   {
    "duration": 19,
    "start_time": "2022-01-24T13:34:33.221Z"
   },
   {
    "duration": 19,
    "start_time": "2022-01-24T13:34:45.801Z"
   },
   {
    "duration": 18,
    "start_time": "2022-01-24T13:37:24.030Z"
   },
   {
    "duration": 19,
    "start_time": "2022-01-24T13:37:45.263Z"
   },
   {
    "duration": 20,
    "start_time": "2022-01-24T13:38:17.598Z"
   },
   {
    "duration": 22,
    "start_time": "2022-01-24T13:38:57.305Z"
   },
   {
    "duration": 24,
    "start_time": "2022-01-24T13:39:29.770Z"
   },
   {
    "duration": 26,
    "start_time": "2022-01-24T13:39:56.014Z"
   },
   {
    "duration": 26,
    "start_time": "2022-01-24T13:40:08.478Z"
   },
   {
    "duration": 15,
    "start_time": "2022-01-24T13:45:14.103Z"
   },
   {
    "duration": 12,
    "start_time": "2022-01-24T13:45:48.388Z"
   },
   {
    "duration": 12,
    "start_time": "2022-01-24T13:46:00.436Z"
   },
   {
    "duration": 91,
    "start_time": "2022-01-24T14:17:15.375Z"
   },
   {
    "duration": 26,
    "start_time": "2022-01-24T14:18:41.155Z"
   },
   {
    "duration": 27,
    "start_time": "2022-01-24T14:18:56.443Z"
   },
   {
    "duration": 36,
    "start_time": "2022-01-24T14:19:06.947Z"
   },
   {
    "duration": 36,
    "start_time": "2022-01-24T14:19:09.788Z"
   },
   {
    "duration": 6,
    "start_time": "2022-01-24T14:24:08.601Z"
   },
   {
    "duration": 172,
    "start_time": "2022-01-24T14:24:22.486Z"
   },
   {
    "duration": 10,
    "start_time": "2022-01-24T14:24:33.142Z"
   },
   {
    "duration": 162,
    "start_time": "2022-01-24T14:24:46.446Z"
   },
   {
    "duration": 157,
    "start_time": "2022-01-24T14:24:58.485Z"
   },
   {
    "duration": 217,
    "start_time": "2022-01-24T14:25:10.669Z"
   },
   {
    "duration": 6,
    "start_time": "2022-01-24T14:34:05.381Z"
   },
   {
    "duration": 7,
    "start_time": "2022-01-24T14:37:40.417Z"
   },
   {
    "duration": 325,
    "start_time": "2022-01-24T14:39:32.518Z"
   },
   {
    "duration": 6,
    "start_time": "2022-01-24T14:39:37.259Z"
   },
   {
    "duration": 21,
    "start_time": "2022-01-24T14:39:39.235Z"
   },
   {
    "duration": 19,
    "start_time": "2022-01-24T14:40:49.303Z"
   },
   {
    "duration": 5,
    "start_time": "2022-01-24T14:40:55.127Z"
   },
   {
    "duration": 5,
    "start_time": "2022-01-24T14:41:00.831Z"
   },
   {
    "duration": 5,
    "start_time": "2022-01-24T14:41:57.188Z"
   },
   {
    "duration": 341,
    "start_time": "2022-01-24T14:42:44.144Z"
   },
   {
    "duration": 23,
    "start_time": "2022-01-24T14:43:00.320Z"
   },
   {
    "duration": 8,
    "start_time": "2022-01-24T14:43:15.340Z"
   },
   {
    "duration": 11,
    "start_time": "2022-01-24T14:44:00.116Z"
   },
   {
    "duration": 10,
    "start_time": "2022-01-24T14:44:15.412Z"
   },
   {
    "duration": 8,
    "start_time": "2022-01-24T14:44:48.793Z"
   },
   {
    "duration": 8,
    "start_time": "2022-01-24T14:44:50.928Z"
   },
   {
    "duration": 7,
    "start_time": "2022-01-24T14:46:05.677Z"
   },
   {
    "duration": 6,
    "start_time": "2022-01-24T14:46:21.210Z"
   },
   {
    "duration": 20,
    "start_time": "2022-01-24T14:50:11.830Z"
   },
   {
    "duration": 23,
    "start_time": "2022-01-24T14:50:36.318Z"
   },
   {
    "duration": 9,
    "start_time": "2022-01-24T14:50:40.662Z"
   },
   {
    "duration": 4,
    "start_time": "2022-01-24T14:51:47.751Z"
   },
   {
    "duration": 96,
    "start_time": "2022-01-24T14:52:20.039Z"
   },
   {
    "duration": 4,
    "start_time": "2022-01-24T14:52:37.599Z"
   },
   {
    "duration": 4,
    "start_time": "2022-01-24T14:52:42.501Z"
   },
   {
    "duration": 52,
    "start_time": "2022-01-24T14:59:26.172Z"
   },
   {
    "duration": 8,
    "start_time": "2022-01-24T14:59:26.226Z"
   },
   {
    "duration": 43,
    "start_time": "2022-01-24T14:59:26.236Z"
   },
   {
    "duration": 23,
    "start_time": "2022-01-24T14:59:26.281Z"
   },
   {
    "duration": 18,
    "start_time": "2022-01-24T14:59:26.306Z"
   },
   {
    "duration": 7,
    "start_time": "2022-01-24T14:59:26.326Z"
   },
   {
    "duration": 3,
    "start_time": "2022-01-24T14:59:26.335Z"
   },
   {
    "duration": 3,
    "start_time": "2022-01-24T14:59:26.372Z"
   },
   {
    "duration": 7,
    "start_time": "2022-01-24T14:59:26.377Z"
   },
   {
    "duration": 9,
    "start_time": "2022-01-24T14:59:26.386Z"
   },
   {
    "duration": 13,
    "start_time": "2022-01-24T14:59:26.397Z"
   },
   {
    "duration": 4,
    "start_time": "2022-01-24T14:59:26.412Z"
   },
   {
    "duration": 8,
    "start_time": "2022-01-24T14:59:26.417Z"
   },
   {
    "duration": 20,
    "start_time": "2022-01-24T14:59:26.426Z"
   },
   {
    "duration": 27,
    "start_time": "2022-01-24T14:59:26.448Z"
   },
   {
    "duration": 7,
    "start_time": "2022-01-24T14:59:26.477Z"
   },
   {
    "duration": 6,
    "start_time": "2022-01-24T14:59:26.486Z"
   },
   {
    "duration": 411,
    "start_time": "2022-01-24T14:59:26.494Z"
   },
   {
    "duration": 21,
    "start_time": "2022-01-24T14:59:26.907Z"
   },
   {
    "duration": 2,
    "start_time": "2022-01-24T14:59:26.930Z"
   },
   {
    "duration": 6,
    "start_time": "2022-01-24T14:59:26.934Z"
   },
   {
    "duration": 342,
    "start_time": "2022-01-24T14:59:26.942Z"
   },
   {
    "duration": 5,
    "start_time": "2022-01-24T14:59:27.287Z"
   },
   {
    "duration": 322,
    "start_time": "2022-01-24T14:59:27.295Z"
   },
   {
    "duration": 937,
    "start_time": "2022-01-24T14:59:27.620Z"
   },
   {
    "duration": 16,
    "start_time": "2022-01-24T14:59:28.560Z"
   },
   {
    "duration": 509,
    "start_time": "2022-01-24T14:59:28.578Z"
   },
   {
    "duration": 8,
    "start_time": "2022-01-24T14:59:29.089Z"
   },
   {
    "duration": 779,
    "start_time": "2022-01-24T14:59:29.099Z"
   },
   {
    "duration": 8,
    "start_time": "2022-01-24T14:59:29.880Z"
   },
   {
    "duration": 564,
    "start_time": "2022-01-24T14:59:29.890Z"
   },
   {
    "duration": 200,
    "start_time": "2022-01-24T14:59:30.456Z"
   },
   {
    "duration": 4,
    "start_time": "2022-01-24T14:59:30.657Z"
   },
   {
    "duration": 42,
    "start_time": "2022-01-24T14:59:30.662Z"
   },
   {
    "duration": 37,
    "start_time": "2022-01-24T14:59:30.706Z"
   },
   {
    "duration": 227,
    "start_time": "2022-01-24T14:59:30.772Z"
   },
   {
    "duration": 7,
    "start_time": "2022-01-24T14:59:31.000Z"
   },
   {
    "duration": 10,
    "start_time": "2022-01-24T14:59:31.008Z"
   },
   {
    "duration": 6,
    "start_time": "2022-01-24T14:59:31.019Z"
   },
   {
    "duration": 18,
    "start_time": "2022-01-24T14:59:31.026Z"
   },
   {
    "duration": 7,
    "start_time": "2022-01-24T14:59:31.046Z"
   },
   {
    "duration": 10469,
    "start_time": "2022-01-24T15:10:01.857Z"
   },
   {
    "duration": 51,
    "start_time": "2022-01-24T15:10:17.404Z"
   },
   {
    "duration": 11,
    "start_time": "2022-01-24T15:10:17.457Z"
   },
   {
    "duration": 39,
    "start_time": "2022-01-24T15:10:17.470Z"
   },
   {
    "duration": 35,
    "start_time": "2022-01-24T15:10:17.512Z"
   },
   {
    "duration": 33,
    "start_time": "2022-01-24T15:10:17.549Z"
   },
   {
    "duration": 7,
    "start_time": "2022-01-24T15:10:17.584Z"
   },
   {
    "duration": 3,
    "start_time": "2022-01-24T15:10:17.593Z"
   },
   {
    "duration": 4,
    "start_time": "2022-01-24T15:10:17.598Z"
   },
   {
    "duration": 6,
    "start_time": "2022-01-24T15:10:20.340Z"
   },
   {
    "duration": 5,
    "start_time": "2022-01-24T15:10:30.457Z"
   },
   {
    "duration": 9,
    "start_time": "2022-01-24T15:10:31.473Z"
   },
   {
    "duration": 4,
    "start_time": "2022-01-24T15:10:39.717Z"
   },
   {
    "duration": 3,
    "start_time": "2022-01-24T15:10:46.314Z"
   },
   {
    "duration": 22,
    "start_time": "2022-01-24T15:10:50.865Z"
   },
   {
    "duration": 14,
    "start_time": "2022-01-24T15:10:52.893Z"
   },
   {
    "duration": 6,
    "start_time": "2022-01-24T15:10:57.525Z"
   },
   {
    "duration": 3,
    "start_time": "2022-01-24T15:11:18.273Z"
   },
   {
    "duration": 108,
    "start_time": "2022-01-24T15:12:12.477Z"
   },
   {
    "duration": 506,
    "start_time": "2022-01-24T15:12:28.249Z"
   },
   {
    "duration": 318,
    "start_time": "2022-01-24T15:12:43.265Z"
   },
   {
    "duration": 6,
    "start_time": "2022-01-24T15:12:56.613Z"
   },
   {
    "duration": 4,
    "start_time": "2022-01-24T15:12:57.461Z"
   },
   {
    "duration": 611,
    "start_time": "2022-01-24T15:12:59.589Z"
   },
   {
    "duration": 29,
    "start_time": "2022-01-24T15:13:02.701Z"
   },
   {
    "duration": 4,
    "start_time": "2022-01-24T15:13:10.701Z"
   },
   {
    "duration": 7,
    "start_time": "2022-01-24T15:13:11.714Z"
   },
   {
    "duration": 312,
    "start_time": "2022-01-24T15:13:12.530Z"
   },
   {
    "duration": 5,
    "start_time": "2022-01-24T15:13:20.949Z"
   },
   {
    "duration": 345,
    "start_time": "2022-01-24T15:13:22.585Z"
   },
   {
    "duration": 5,
    "start_time": "2022-01-24T15:13:35.506Z"
   },
   {
    "duration": 308,
    "start_time": "2022-01-24T15:13:36.285Z"
   },
   {
    "duration": 912,
    "start_time": "2022-01-24T15:13:46.845Z"
   },
   {
    "duration": 243,
    "start_time": "2022-01-24T15:14:02.150Z"
   },
   {
    "duration": 8,
    "start_time": "2022-01-24T15:14:23.537Z"
   },
   {
    "duration": 479,
    "start_time": "2022-01-24T15:14:26.854Z"
   },
   {
    "duration": 8,
    "start_time": "2022-01-24T15:14:56.710Z"
   },
   {
    "duration": 777,
    "start_time": "2022-01-24T15:14:59.870Z"
   },
   {
    "duration": 9,
    "start_time": "2022-01-24T15:15:13.266Z"
   },
   {
    "duration": 622,
    "start_time": "2022-01-24T15:15:19.646Z"
   },
   {
    "duration": 204,
    "start_time": "2022-01-24T15:15:24.098Z"
   },
   {
    "duration": 5,
    "start_time": "2022-01-24T15:15:30.198Z"
   },
   {
    "duration": 37,
    "start_time": "2022-01-24T15:15:36.229Z"
   },
   {
    "duration": 34,
    "start_time": "2022-01-24T15:15:40.730Z"
   },
   {
    "duration": 212,
    "start_time": "2022-01-24T15:15:59.169Z"
   },
   {
    "duration": 7,
    "start_time": "2022-01-24T15:16:04.262Z"
   },
   {
    "duration": 9,
    "start_time": "2022-01-24T15:16:05.150Z"
   },
   {
    "duration": 6,
    "start_time": "2022-01-24T15:16:07.570Z"
   },
   {
    "duration": 9,
    "start_time": "2022-01-24T15:16:11.142Z"
   },
   {
    "duration": 5,
    "start_time": "2022-01-24T15:16:12.261Z"
   },
   {
    "duration": 4,
    "start_time": "2022-01-24T15:16:36.614Z"
   },
   {
    "duration": 4,
    "start_time": "2022-01-24T15:16:44.747Z"
   },
   {
    "duration": 3,
    "start_time": "2022-01-24T15:18:33.323Z"
   },
   {
    "duration": 5,
    "start_time": "2022-01-24T15:20:11.076Z"
   },
   {
    "duration": 7,
    "start_time": "2022-01-24T15:21:31.536Z"
   },
   {
    "duration": 11,
    "start_time": "2022-01-24T15:21:49.116Z"
   },
   {
    "duration": 11,
    "start_time": "2022-01-24T15:22:10.136Z"
   },
   {
    "duration": 10,
    "start_time": "2022-01-24T15:22:28.207Z"
   },
   {
    "duration": 11,
    "start_time": "2022-01-24T15:22:49.153Z"
   },
   {
    "duration": 10,
    "start_time": "2022-01-24T15:23:51.884Z"
   },
   {
    "duration": 52,
    "start_time": "2022-01-24T15:31:15.283Z"
   },
   {
    "duration": 8,
    "start_time": "2022-01-24T15:31:15.337Z"
   },
   {
    "duration": 37,
    "start_time": "2022-01-24T15:31:15.347Z"
   },
   {
    "duration": 22,
    "start_time": "2022-01-24T15:31:15.387Z"
   },
   {
    "duration": 16,
    "start_time": "2022-01-24T15:31:15.411Z"
   },
   {
    "duration": 9,
    "start_time": "2022-01-24T15:31:15.428Z"
   },
   {
    "duration": 3,
    "start_time": "2022-01-24T15:31:15.438Z"
   },
   {
    "duration": 29,
    "start_time": "2022-01-24T15:31:15.443Z"
   },
   {
    "duration": 7,
    "start_time": "2022-01-24T15:31:15.474Z"
   },
   {
    "duration": 6,
    "start_time": "2022-01-24T15:31:15.483Z"
   },
   {
    "duration": 11,
    "start_time": "2022-01-24T15:31:15.491Z"
   },
   {
    "duration": 5,
    "start_time": "2022-01-24T15:31:15.503Z"
   },
   {
    "duration": 8,
    "start_time": "2022-01-24T15:31:15.510Z"
   },
   {
    "duration": 21,
    "start_time": "2022-01-24T15:31:15.519Z"
   },
   {
    "duration": 40,
    "start_time": "2022-01-24T15:31:15.541Z"
   },
   {
    "duration": 6,
    "start_time": "2022-01-24T15:31:15.584Z"
   },
   {
    "duration": 7,
    "start_time": "2022-01-24T15:31:15.591Z"
   },
   {
    "duration": 417,
    "start_time": "2022-01-24T15:31:15.599Z"
   },
   {
    "duration": 21,
    "start_time": "2022-01-24T15:31:16.017Z"
   },
   {
    "duration": 3,
    "start_time": "2022-01-24T15:31:16.040Z"
   },
   {
    "duration": 28,
    "start_time": "2022-01-24T15:31:16.044Z"
   },
   {
    "duration": 340,
    "start_time": "2022-01-24T15:31:16.075Z"
   },
   {
    "duration": 5,
    "start_time": "2022-01-24T15:31:16.417Z"
   },
   {
    "duration": 359,
    "start_time": "2022-01-24T15:31:16.423Z"
   },
   {
    "duration": 270,
    "start_time": "2022-01-24T15:31:16.784Z"
   },
   {
    "duration": 7,
    "start_time": "2022-01-24T15:31:17.056Z"
   },
   {
    "duration": 533,
    "start_time": "2022-01-24T15:31:17.074Z"
   },
   {
    "duration": 8,
    "start_time": "2022-01-24T15:31:17.609Z"
   },
   {
    "duration": 894,
    "start_time": "2022-01-24T15:31:17.619Z"
   },
   {
    "duration": 8,
    "start_time": "2022-01-24T15:31:18.515Z"
   },
   {
    "duration": 591,
    "start_time": "2022-01-24T15:31:18.524Z"
   },
   {
    "duration": 216,
    "start_time": "2022-01-24T15:31:19.116Z"
   },
   {
    "duration": 3,
    "start_time": "2022-01-24T15:31:19.334Z"
   },
   {
    "duration": 61,
    "start_time": "2022-01-24T15:31:19.339Z"
   },
   {
    "duration": 34,
    "start_time": "2022-01-24T15:31:19.401Z"
   },
   {
    "duration": 249,
    "start_time": "2022-01-24T15:31:19.437Z"
   },
   {
    "duration": 7,
    "start_time": "2022-01-24T15:31:19.688Z"
   },
   {
    "duration": 8,
    "start_time": "2022-01-24T15:31:19.696Z"
   },
   {
    "duration": 6,
    "start_time": "2022-01-24T15:31:19.706Z"
   },
   {
    "duration": 11,
    "start_time": "2022-01-24T15:31:19.715Z"
   },
   {
    "duration": 6,
    "start_time": "2022-01-24T15:31:19.728Z"
   },
   {
    "duration": 38,
    "start_time": "2022-01-24T15:31:19.735Z"
   },
   {
    "duration": 13,
    "start_time": "2022-01-24T15:31:19.775Z"
   },
   {
    "duration": 12,
    "start_time": "2022-01-24T15:31:19.790Z"
   },
   {
    "duration": 2,
    "start_time": "2022-01-24T15:34:40.581Z"
   },
   {
    "duration": 52,
    "start_time": "2022-01-24T15:38:02.177Z"
   },
   {
    "duration": 7,
    "start_time": "2022-01-24T15:38:02.231Z"
   },
   {
    "duration": 49,
    "start_time": "2022-01-24T15:38:02.240Z"
   },
   {
    "duration": 22,
    "start_time": "2022-01-24T15:38:02.291Z"
   },
   {
    "duration": 34,
    "start_time": "2022-01-24T15:38:02.315Z"
   },
   {
    "duration": 8,
    "start_time": "2022-01-24T15:38:02.350Z"
   },
   {
    "duration": 28,
    "start_time": "2022-01-24T15:38:02.359Z"
   },
   {
    "duration": 15,
    "start_time": "2022-01-24T15:38:02.390Z"
   },
   {
    "duration": 19,
    "start_time": "2022-01-24T15:38:02.407Z"
   },
   {
    "duration": 28,
    "start_time": "2022-01-24T15:38:02.427Z"
   },
   {
    "duration": 32,
    "start_time": "2022-01-24T15:38:02.456Z"
   },
   {
    "duration": 27,
    "start_time": "2022-01-24T15:38:02.490Z"
   },
   {
    "duration": 19,
    "start_time": "2022-01-24T15:38:02.519Z"
   },
   {
    "duration": 21,
    "start_time": "2022-01-24T15:38:02.540Z"
   },
   {
    "duration": 23,
    "start_time": "2022-01-24T15:38:02.562Z"
   },
   {
    "duration": 17,
    "start_time": "2022-01-24T15:38:02.587Z"
   },
   {
    "duration": 19,
    "start_time": "2022-01-24T15:38:02.606Z"
   },
   {
    "duration": 462,
    "start_time": "2022-01-24T15:38:02.627Z"
   },
   {
    "duration": 21,
    "start_time": "2022-01-24T15:38:03.092Z"
   },
   {
    "duration": 12,
    "start_time": "2022-01-24T15:38:03.115Z"
   },
   {
    "duration": 29,
    "start_time": "2022-01-24T15:38:03.129Z"
   },
   {
    "duration": 367,
    "start_time": "2022-01-24T15:38:03.159Z"
   },
   {
    "duration": 5,
    "start_time": "2022-01-24T15:38:03.531Z"
   },
   {
    "duration": 369,
    "start_time": "2022-01-24T15:38:03.538Z"
   },
   {
    "duration": 296,
    "start_time": "2022-01-24T15:38:03.909Z"
   },
   {
    "duration": 8,
    "start_time": "2022-01-24T15:38:04.207Z"
   },
   {
    "duration": 509,
    "start_time": "2022-01-24T15:38:04.216Z"
   },
   {
    "duration": 8,
    "start_time": "2022-01-24T15:38:04.727Z"
   },
   {
    "duration": 889,
    "start_time": "2022-01-24T15:38:04.737Z"
   },
   {
    "duration": 10,
    "start_time": "2022-01-24T15:38:05.628Z"
   },
   {
    "duration": 616,
    "start_time": "2022-01-24T15:38:05.639Z"
   },
   {
    "duration": 207,
    "start_time": "2022-01-24T15:38:06.257Z"
   },
   {
    "duration": 6,
    "start_time": "2022-01-24T15:38:06.466Z"
   },
   {
    "duration": 37,
    "start_time": "2022-01-24T15:38:06.474Z"
   },
   {
    "duration": 68,
    "start_time": "2022-01-24T15:38:06.513Z"
   },
   {
    "duration": 243,
    "start_time": "2022-01-24T15:38:06.583Z"
   },
   {
    "duration": 7,
    "start_time": "2022-01-24T15:38:06.828Z"
   },
   {
    "duration": 10,
    "start_time": "2022-01-24T15:38:06.837Z"
   },
   {
    "duration": 4,
    "start_time": "2022-01-24T15:38:06.849Z"
   },
   {
    "duration": 16,
    "start_time": "2022-01-24T15:38:06.872Z"
   },
   {
    "duration": 5,
    "start_time": "2022-01-24T15:38:06.890Z"
   },
   {
    "duration": 6,
    "start_time": "2022-01-24T15:38:06.897Z"
   },
   {
    "duration": 9,
    "start_time": "2022-01-24T15:38:06.904Z"
   },
   {
    "duration": 8,
    "start_time": "2022-01-24T15:38:06.914Z"
   },
   {
    "duration": 1344,
    "start_time": "2022-02-01T07:39:38.522Z"
   },
   {
    "duration": 16,
    "start_time": "2022-02-01T07:39:39.869Z"
   },
   {
    "duration": 69,
    "start_time": "2022-02-01T07:39:39.889Z"
   },
   {
    "duration": 75,
    "start_time": "2022-02-01T07:39:39.961Z"
   },
   {
    "duration": 30,
    "start_time": "2022-02-01T07:39:40.039Z"
   },
   {
    "duration": 13,
    "start_time": "2022-02-01T07:39:40.072Z"
   },
   {
    "duration": 20,
    "start_time": "2022-02-01T07:39:40.087Z"
   },
   {
    "duration": 12,
    "start_time": "2022-02-01T07:39:40.110Z"
   },
   {
    "duration": 15,
    "start_time": "2022-02-01T07:39:40.125Z"
   },
   {
    "duration": 12,
    "start_time": "2022-02-01T07:39:40.142Z"
   },
   {
    "duration": 23,
    "start_time": "2022-02-01T07:39:40.157Z"
   },
   {
    "duration": 6,
    "start_time": "2022-02-01T07:39:40.183Z"
   },
   {
    "duration": 17,
    "start_time": "2022-02-01T07:39:40.191Z"
   },
   {
    "duration": 40,
    "start_time": "2022-02-01T07:39:40.210Z"
   },
   {
    "duration": 14,
    "start_time": "2022-02-01T07:39:40.252Z"
   },
   {
    "duration": 40,
    "start_time": "2022-02-01T07:39:40.268Z"
   },
   {
    "duration": 23,
    "start_time": "2022-02-01T07:39:40.311Z"
   },
   {
    "duration": 637,
    "start_time": "2022-02-01T07:40:01.987Z"
   },
   {
    "duration": 661,
    "start_time": "2022-02-01T07:43:51.859Z"
   },
   {
    "duration": 619,
    "start_time": "2022-02-01T07:44:11.027Z"
   },
   {
    "duration": 658,
    "start_time": "2022-02-01T07:44:24.595Z"
   },
   {
    "duration": 669,
    "start_time": "2022-02-01T07:45:50.412Z"
   },
   {
    "duration": 756,
    "start_time": "2022-02-01T07:46:02.084Z"
   },
   {
    "duration": 509,
    "start_time": "2022-02-01T07:47:31.972Z"
   },
   {
    "duration": 10,
    "start_time": "2022-02-01T07:48:09.592Z"
   },
   {
    "duration": 647,
    "start_time": "2022-02-01T07:48:55.633Z"
   },
   {
    "duration": 545,
    "start_time": "2022-02-01T07:49:24.341Z"
   },
   {
    "duration": 796,
    "start_time": "2022-02-01T07:49:50.533Z"
   },
   {
    "duration": 780,
    "start_time": "2022-02-01T07:50:00.573Z"
   },
   {
    "duration": 463,
    "start_time": "2022-02-01T07:50:06.701Z"
   },
   {
    "duration": 525,
    "start_time": "2022-02-01T07:50:13.049Z"
   },
   {
    "duration": 448,
    "start_time": "2022-02-01T07:50:50.249Z"
   },
   {
    "duration": 445,
    "start_time": "2022-02-01T07:53:04.194Z"
   },
   {
    "duration": 63,
    "start_time": "2022-02-01T07:57:19.667Z"
   },
   {
    "duration": 10,
    "start_time": "2022-02-01T07:57:19.732Z"
   },
   {
    "duration": 33,
    "start_time": "2022-02-01T07:57:19.744Z"
   },
   {
    "duration": 52,
    "start_time": "2022-02-01T07:57:19.779Z"
   },
   {
    "duration": 17,
    "start_time": "2022-02-01T07:57:19.833Z"
   },
   {
    "duration": 15,
    "start_time": "2022-02-01T07:57:19.852Z"
   },
   {
    "duration": 4,
    "start_time": "2022-02-01T07:57:19.869Z"
   },
   {
    "duration": 31,
    "start_time": "2022-02-01T07:57:19.876Z"
   },
   {
    "duration": 6,
    "start_time": "2022-02-01T07:57:19.910Z"
   },
   {
    "duration": 8,
    "start_time": "2022-02-01T07:57:19.918Z"
   },
   {
    "duration": 15,
    "start_time": "2022-02-01T07:57:19.928Z"
   },
   {
    "duration": 5,
    "start_time": "2022-02-01T07:57:19.945Z"
   },
   {
    "duration": 7,
    "start_time": "2022-02-01T07:57:19.952Z"
   },
   {
    "duration": 21,
    "start_time": "2022-02-01T07:57:19.961Z"
   },
   {
    "duration": 33,
    "start_time": "2022-02-01T07:57:19.984Z"
   },
   {
    "duration": 9,
    "start_time": "2022-02-01T07:57:20.019Z"
   },
   {
    "duration": 14,
    "start_time": "2022-02-01T07:57:20.030Z"
   },
   {
    "duration": 476,
    "start_time": "2022-02-01T07:57:20.045Z"
   },
   {
    "duration": 23,
    "start_time": "2022-02-01T07:57:26.896Z"
   },
   {
    "duration": 4,
    "start_time": "2022-02-01T07:58:03.888Z"
   },
   {
    "duration": 5,
    "start_time": "2022-02-01T07:58:10.816Z"
   },
   {
    "duration": 3,
    "start_time": "2022-02-01T07:59:27.296Z"
   },
   {
    "duration": 6,
    "start_time": "2022-02-01T07:59:31.968Z"
   },
   {
    "duration": 379,
    "start_time": "2022-02-01T08:02:38.937Z"
   },
   {
    "duration": 363,
    "start_time": "2022-02-01T08:03:51.021Z"
   },
   {
    "duration": 83,
    "start_time": "2022-02-01T08:04:15.221Z"
   },
   {
    "duration": 2,
    "start_time": "2022-02-01T08:09:08.980Z"
   },
   {
    "duration": 11,
    "start_time": "2022-02-01T08:09:09.611Z"
   },
   {
    "duration": 384,
    "start_time": "2022-02-01T08:09:10.211Z"
   },
   {
    "duration": 64,
    "start_time": "2022-02-01T08:09:22.987Z"
   },
   {
    "duration": 12,
    "start_time": "2022-02-01T08:09:23.053Z"
   },
   {
    "duration": 58,
    "start_time": "2022-02-01T08:09:23.068Z"
   },
   {
    "duration": 30,
    "start_time": "2022-02-01T08:09:23.128Z"
   },
   {
    "duration": 23,
    "start_time": "2022-02-01T08:09:23.160Z"
   },
   {
    "duration": 10,
    "start_time": "2022-02-01T08:09:23.208Z"
   },
   {
    "duration": 4,
    "start_time": "2022-02-01T08:09:23.220Z"
   },
   {
    "duration": 6,
    "start_time": "2022-02-01T08:09:23.227Z"
   },
   {
    "duration": 10,
    "start_time": "2022-02-01T08:09:23.235Z"
   },
   {
    "duration": 10,
    "start_time": "2022-02-01T08:09:23.247Z"
   },
   {
    "duration": 48,
    "start_time": "2022-02-01T08:09:23.259Z"
   },
   {
    "duration": 14,
    "start_time": "2022-02-01T08:09:23.310Z"
   },
   {
    "duration": 3,
    "start_time": "2022-02-01T08:09:23.326Z"
   },
   {
    "duration": 23,
    "start_time": "2022-02-01T08:09:23.331Z"
   },
   {
    "duration": 15,
    "start_time": "2022-02-01T08:09:23.356Z"
   },
   {
    "duration": 7,
    "start_time": "2022-02-01T08:09:23.373Z"
   },
   {
    "duration": 6,
    "start_time": "2022-02-01T08:09:23.407Z"
   },
   {
    "duration": 574,
    "start_time": "2022-02-01T08:09:23.416Z"
   },
   {
    "duration": 36,
    "start_time": "2022-02-01T08:09:23.993Z"
   },
   {
    "duration": 3,
    "start_time": "2022-02-01T08:09:24.032Z"
   },
   {
    "duration": 13,
    "start_time": "2022-02-01T08:09:24.037Z"
   },
   {
    "duration": 5,
    "start_time": "2022-02-01T08:09:27.203Z"
   },
   {
    "duration": 352,
    "start_time": "2022-02-01T08:09:27.806Z"
   },
   {
    "duration": 6,
    "start_time": "2022-02-01T08:10:03.647Z"
   },
   {
    "duration": 252,
    "start_time": "2022-02-01T08:11:07.776Z"
   },
   {
    "duration": 267,
    "start_time": "2022-02-01T08:13:11.042Z"
   },
   {
    "duration": 866,
    "start_time": "2022-02-01T08:14:17.520Z"
   },
   {
    "duration": 11,
    "start_time": "2022-02-01T08:14:52.382Z"
   },
   {
    "duration": 8,
    "start_time": "2022-02-01T08:15:08.221Z"
   },
   {
    "duration": 9,
    "start_time": "2022-02-01T08:15:12.551Z"
   },
   {
    "duration": 1138,
    "start_time": "2022-02-01T08:15:44.913Z"
   },
   {
    "duration": 738,
    "start_time": "2022-02-01T08:16:04.779Z"
   },
   {
    "duration": 610,
    "start_time": "2022-02-01T08:17:52.174Z"
   },
   {
    "duration": 613,
    "start_time": "2022-02-01T08:18:09.838Z"
   },
   {
    "duration": 734,
    "start_time": "2022-02-01T08:18:35.710Z"
   },
   {
    "duration": 518,
    "start_time": "2022-02-01T08:18:41.817Z"
   },
   {
    "duration": 622,
    "start_time": "2022-02-01T08:18:45.034Z"
   },
   {
    "duration": 744,
    "start_time": "2022-02-01T08:21:06.511Z"
   },
   {
    "duration": 771,
    "start_time": "2022-02-01T08:21:12.061Z"
   },
   {
    "duration": 692,
    "start_time": "2022-02-01T08:21:25.963Z"
   },
   {
    "duration": 265,
    "start_time": "2022-02-01T08:22:36.067Z"
   },
   {
    "duration": 139,
    "start_time": "2022-02-01T08:23:18.811Z"
   },
   {
    "duration": 84,
    "start_time": "2022-02-01T08:23:23.968Z"
   },
   {
    "duration": 83,
    "start_time": "2022-02-01T08:23:31.152Z"
   },
   {
    "duration": 373,
    "start_time": "2022-02-01T08:24:23.788Z"
   },
   {
    "duration": 275,
    "start_time": "2022-02-01T08:24:26.604Z"
   },
   {
    "duration": 742,
    "start_time": "2022-02-01T08:25:39.240Z"
   },
   {
    "duration": 2607,
    "start_time": "2022-02-01T08:30:40.075Z"
   },
   {
    "duration": 2683,
    "start_time": "2022-02-01T08:31:41.567Z"
   },
   {
    "duration": 351,
    "start_time": "2022-02-01T08:34:27.529Z"
   },
   {
    "duration": 310,
    "start_time": "2022-02-01T08:35:15.544Z"
   },
   {
    "duration": 820,
    "start_time": "2022-02-01T08:52:27.461Z"
   },
   {
    "duration": 579,
    "start_time": "2022-02-01T08:53:23.178Z"
   },
   {
    "duration": 572,
    "start_time": "2022-02-01T08:54:27.695Z"
   },
   {
    "duration": 1253,
    "start_time": "2022-02-01T08:55:30.186Z"
   },
   {
    "duration": 88,
    "start_time": "2022-02-01T08:56:10.446Z"
   },
   {
    "duration": 677,
    "start_time": "2022-02-01T08:56:16.851Z"
   },
   {
    "duration": 868,
    "start_time": "2022-02-01T08:56:26.735Z"
   },
   {
    "duration": 905,
    "start_time": "2022-02-01T08:56:44.586Z"
   },
   {
    "duration": 567,
    "start_time": "2022-02-01T08:57:24.247Z"
   },
   {
    "duration": 582,
    "start_time": "2022-02-01T08:57:42.988Z"
   },
   {
    "duration": 290,
    "start_time": "2022-02-01T08:58:49.059Z"
   },
   {
    "duration": 972,
    "start_time": "2022-02-01T08:59:24.327Z"
   },
   {
    "duration": 600,
    "start_time": "2022-02-01T09:00:28.656Z"
   },
   {
    "duration": 1035,
    "start_time": "2022-02-01T09:01:03.876Z"
   },
   {
    "duration": 783,
    "start_time": "2022-02-01T09:02:33.732Z"
   },
   {
    "duration": 635,
    "start_time": "2022-02-01T09:02:43.924Z"
   },
   {
    "duration": 660,
    "start_time": "2022-02-01T09:04:15.585Z"
   },
   {
    "duration": 750,
    "start_time": "2022-02-01T09:04:39.580Z"
   },
   {
    "duration": 754,
    "start_time": "2022-02-01T09:06:20.105Z"
   },
   {
    "duration": 751,
    "start_time": "2022-02-01T09:07:22.458Z"
   },
   {
    "duration": 783,
    "start_time": "2022-02-01T09:07:34.236Z"
   },
   {
    "duration": 748,
    "start_time": "2022-02-01T09:07:38.648Z"
   },
   {
    "duration": 649,
    "start_time": "2022-02-01T09:07:44.738Z"
   },
   {
    "duration": 715,
    "start_time": "2022-02-01T09:07:49.730Z"
   },
   {
    "duration": 703,
    "start_time": "2022-02-01T09:08:00.532Z"
   },
   {
    "duration": 708,
    "start_time": "2022-02-01T09:08:49.084Z"
   },
   {
    "duration": 925,
    "start_time": "2022-02-01T09:09:16.965Z"
   },
   {
    "duration": 712,
    "start_time": "2022-02-01T09:09:47.551Z"
   },
   {
    "duration": 121,
    "start_time": "2022-02-01T09:11:32.564Z"
   },
   {
    "duration": 345,
    "start_time": "2022-02-01T09:11:49.176Z"
   },
   {
    "duration": 434,
    "start_time": "2022-02-01T09:11:56.579Z"
   },
   {
    "duration": 263,
    "start_time": "2022-02-01T09:20:58.302Z"
   },
   {
    "duration": 61,
    "start_time": "2022-02-01T09:21:03.419Z"
   },
   {
    "duration": 10,
    "start_time": "2022-02-01T09:21:03.482Z"
   },
   {
    "duration": 39,
    "start_time": "2022-02-01T09:21:03.494Z"
   },
   {
    "duration": 25,
    "start_time": "2022-02-01T09:21:03.535Z"
   },
   {
    "duration": 47,
    "start_time": "2022-02-01T09:21:03.562Z"
   },
   {
    "duration": 9,
    "start_time": "2022-02-01T09:21:03.611Z"
   },
   {
    "duration": 16,
    "start_time": "2022-02-01T09:21:03.622Z"
   },
   {
    "duration": 12,
    "start_time": "2022-02-01T09:21:03.641Z"
   },
   {
    "duration": 9,
    "start_time": "2022-02-01T09:21:03.656Z"
   },
   {
    "duration": 16,
    "start_time": "2022-02-01T09:21:03.667Z"
   },
   {
    "duration": 27,
    "start_time": "2022-02-01T09:21:03.685Z"
   },
   {
    "duration": 10,
    "start_time": "2022-02-01T09:21:03.715Z"
   },
   {
    "duration": 10,
    "start_time": "2022-02-01T09:21:03.727Z"
   },
   {
    "duration": 27,
    "start_time": "2022-02-01T09:21:03.739Z"
   },
   {
    "duration": 33,
    "start_time": "2022-02-01T09:21:03.767Z"
   },
   {
    "duration": 23,
    "start_time": "2022-02-01T09:21:03.802Z"
   },
   {
    "duration": 15,
    "start_time": "2022-02-01T09:21:03.828Z"
   },
   {
    "duration": 644,
    "start_time": "2022-02-01T09:21:03.845Z"
   },
   {
    "duration": 39,
    "start_time": "2022-02-01T09:21:04.491Z"
   },
   {
    "duration": 3,
    "start_time": "2022-02-01T09:21:04.532Z"
   },
   {
    "duration": 18,
    "start_time": "2022-02-01T09:21:04.538Z"
   },
   {
    "duration": 358,
    "start_time": "2022-02-01T09:21:04.558Z"
   },
   {
    "duration": 5,
    "start_time": "2022-02-01T09:21:04.919Z"
   },
   {
    "duration": 732,
    "start_time": "2022-02-01T09:21:04.926Z"
   },
   {
    "duration": 286,
    "start_time": "2022-02-01T09:21:05.660Z"
   },
   {
    "duration": 312,
    "start_time": "2022-02-01T09:21:08.769Z"
   },
   {
    "duration": 31,
    "start_time": "2022-02-01T09:23:42.363Z"
   },
   {
    "duration": 27,
    "start_time": "2022-02-01T09:24:17.091Z"
   },
   {
    "duration": 880,
    "start_time": "2022-02-01T09:28:18.764Z"
   },
   {
    "duration": 309,
    "start_time": "2022-02-01T09:28:56.588Z"
   },
   {
    "duration": 276,
    "start_time": "2022-02-01T09:29:08.160Z"
   },
   {
    "duration": 725,
    "start_time": "2022-02-01T09:29:21.646Z"
   },
   {
    "duration": 25,
    "start_time": "2022-02-01T09:29:40.548Z"
   },
   {
    "duration": 750,
    "start_time": "2022-02-01T09:29:41.289Z"
   },
   {
    "duration": 784,
    "start_time": "2022-02-01T09:30:25.864Z"
   },
   {
    "duration": 118,
    "start_time": "2022-02-01T09:32:34.156Z"
   },
   {
    "duration": 524,
    "start_time": "2022-02-01T09:32:43.436Z"
   },
   {
    "duration": 363,
    "start_time": "2022-02-01T09:33:03.651Z"
   },
   {
    "duration": 69,
    "start_time": "2022-02-01T09:33:22.138Z"
   },
   {
    "duration": 10,
    "start_time": "2022-02-01T09:33:22.209Z"
   },
   {
    "duration": 48,
    "start_time": "2022-02-01T09:33:22.223Z"
   },
   {
    "duration": 64,
    "start_time": "2022-02-01T09:33:22.273Z"
   },
   {
    "duration": 20,
    "start_time": "2022-02-01T09:33:22.339Z"
   },
   {
    "duration": 10,
    "start_time": "2022-02-01T09:33:22.361Z"
   },
   {
    "duration": 13,
    "start_time": "2022-02-01T09:33:22.373Z"
   },
   {
    "duration": 5,
    "start_time": "2022-02-01T09:33:22.410Z"
   },
   {
    "duration": 18,
    "start_time": "2022-02-01T09:33:22.418Z"
   },
   {
    "duration": 8,
    "start_time": "2022-02-01T09:33:22.438Z"
   },
   {
    "duration": 23,
    "start_time": "2022-02-01T09:33:22.448Z"
   },
   {
    "duration": 13,
    "start_time": "2022-02-01T09:33:22.473Z"
   },
   {
    "duration": 10,
    "start_time": "2022-02-01T09:33:22.488Z"
   },
   {
    "duration": 28,
    "start_time": "2022-02-01T09:33:22.507Z"
   },
   {
    "duration": 11,
    "start_time": "2022-02-01T09:33:22.537Z"
   },
   {
    "duration": 20,
    "start_time": "2022-02-01T09:33:22.551Z"
   },
   {
    "duration": 25,
    "start_time": "2022-02-01T09:33:22.573Z"
   },
   {
    "duration": 463,
    "start_time": "2022-02-01T09:33:22.600Z"
   },
   {
    "duration": 42,
    "start_time": "2022-02-01T09:33:23.065Z"
   },
   {
    "duration": 4,
    "start_time": "2022-02-01T09:33:23.110Z"
   },
   {
    "duration": 12,
    "start_time": "2022-02-01T09:33:23.116Z"
   },
   {
    "duration": 548,
    "start_time": "2022-02-01T09:33:23.130Z"
   },
   {
    "duration": 6,
    "start_time": "2022-02-01T09:33:23.681Z"
   },
   {
    "duration": 770,
    "start_time": "2022-02-01T09:33:23.689Z"
   },
   {
    "duration": 294,
    "start_time": "2022-02-01T09:33:24.461Z"
   },
   {
    "duration": 27,
    "start_time": "2022-02-01T09:33:24.758Z"
   },
   {
    "duration": 33,
    "start_time": "2022-02-01T09:33:27.136Z"
   },
   {
    "duration": 475,
    "start_time": "2022-02-01T09:33:27.797Z"
   },
   {
    "duration": 294,
    "start_time": "2022-02-01T09:33:58.303Z"
   },
   {
    "duration": 65,
    "start_time": "2022-02-01T09:34:29.047Z"
   },
   {
    "duration": 12,
    "start_time": "2022-02-01T09:34:29.115Z"
   },
   {
    "duration": 36,
    "start_time": "2022-02-01T09:34:29.129Z"
   },
   {
    "duration": 66,
    "start_time": "2022-02-01T09:34:29.168Z"
   },
   {
    "duration": 19,
    "start_time": "2022-02-01T09:34:29.237Z"
   },
   {
    "duration": 10,
    "start_time": "2022-02-01T09:34:29.258Z"
   },
   {
    "duration": 42,
    "start_time": "2022-02-01T09:34:29.270Z"
   },
   {
    "duration": 9,
    "start_time": "2022-02-01T09:34:29.315Z"
   },
   {
    "duration": 9,
    "start_time": "2022-02-01T09:34:29.327Z"
   },
   {
    "duration": 13,
    "start_time": "2022-02-01T09:34:29.338Z"
   },
   {
    "duration": 22,
    "start_time": "2022-02-01T09:34:29.354Z"
   },
   {
    "duration": 6,
    "start_time": "2022-02-01T09:34:29.379Z"
   },
   {
    "duration": 20,
    "start_time": "2022-02-01T09:34:29.388Z"
   },
   {
    "duration": 24,
    "start_time": "2022-02-01T09:34:29.410Z"
   },
   {
    "duration": 16,
    "start_time": "2022-02-01T09:34:29.436Z"
   },
   {
    "duration": 16,
    "start_time": "2022-02-01T09:34:29.454Z"
   },
   {
    "duration": 11,
    "start_time": "2022-02-01T09:34:29.472Z"
   },
   {
    "duration": 545,
    "start_time": "2022-02-01T09:34:29.485Z"
   },
   {
    "duration": 26,
    "start_time": "2022-02-01T09:34:30.033Z"
   },
   {
    "duration": 3,
    "start_time": "2022-02-01T09:34:30.061Z"
   },
   {
    "duration": 23,
    "start_time": "2022-02-01T09:34:30.066Z"
   },
   {
    "duration": 594,
    "start_time": "2022-02-01T09:34:30.109Z"
   },
   {
    "duration": 8,
    "start_time": "2022-02-01T09:34:30.709Z"
   },
   {
    "duration": 1274,
    "start_time": "2022-02-01T09:34:30.721Z"
   },
   {
    "duration": 460,
    "start_time": "2022-02-01T09:34:31.998Z"
   },
   {
    "duration": 49,
    "start_time": "2022-02-01T09:34:32.461Z"
   },
   {
    "duration": 35,
    "start_time": "2022-02-01T09:34:34.975Z"
   },
   {
    "duration": 360,
    "start_time": "2022-02-01T09:34:35.627Z"
   },
   {
    "duration": 261,
    "start_time": "2022-02-01T09:35:48.560Z"
   },
   {
    "duration": 64,
    "start_time": "2022-02-01T09:36:11.427Z"
   },
   {
    "duration": 11,
    "start_time": "2022-02-01T09:36:11.494Z"
   },
   {
    "duration": 33,
    "start_time": "2022-02-01T09:36:11.509Z"
   },
   {
    "duration": 28,
    "start_time": "2022-02-01T09:36:11.544Z"
   },
   {
    "duration": 48,
    "start_time": "2022-02-01T09:36:11.574Z"
   },
   {
    "duration": 11,
    "start_time": "2022-02-01T09:36:11.623Z"
   },
   {
    "duration": 6,
    "start_time": "2022-02-01T09:36:11.636Z"
   },
   {
    "duration": 10,
    "start_time": "2022-02-01T09:36:11.645Z"
   },
   {
    "duration": 8,
    "start_time": "2022-02-01T09:36:11.657Z"
   },
   {
    "duration": 8,
    "start_time": "2022-02-01T09:36:11.667Z"
   },
   {
    "duration": 36,
    "start_time": "2022-02-01T09:36:11.677Z"
   },
   {
    "duration": 5,
    "start_time": "2022-02-01T09:36:11.715Z"
   },
   {
    "duration": 9,
    "start_time": "2022-02-01T09:36:11.722Z"
   },
   {
    "duration": 22,
    "start_time": "2022-02-01T09:36:11.733Z"
   },
   {
    "duration": 10,
    "start_time": "2022-02-01T09:36:11.757Z"
   },
   {
    "duration": 11,
    "start_time": "2022-02-01T09:36:11.769Z"
   },
   {
    "duration": 28,
    "start_time": "2022-02-01T09:36:11.782Z"
   },
   {
    "duration": 608,
    "start_time": "2022-02-01T09:36:11.811Z"
   },
   {
    "duration": 26,
    "start_time": "2022-02-01T09:36:12.421Z"
   },
   {
    "duration": 3,
    "start_time": "2022-02-01T09:36:12.449Z"
   },
   {
    "duration": 20,
    "start_time": "2022-02-01T09:36:12.454Z"
   },
   {
    "duration": 367,
    "start_time": "2022-02-01T09:36:12.476Z"
   },
   {
    "duration": 6,
    "start_time": "2022-02-01T09:36:12.846Z"
   },
   {
    "duration": 725,
    "start_time": "2022-02-01T09:36:12.855Z"
   },
   {
    "duration": 279,
    "start_time": "2022-02-01T09:36:13.582Z"
   },
   {
    "duration": 26,
    "start_time": "2022-02-01T09:36:13.863Z"
   },
   {
    "duration": 25,
    "start_time": "2022-02-01T09:36:15.581Z"
   },
   {
    "duration": 368,
    "start_time": "2022-02-01T09:36:16.517Z"
   },
   {
    "duration": 99,
    "start_time": "2022-02-01T09:38:07.297Z"
   },
   {
    "duration": 58,
    "start_time": "2022-02-01T09:38:29.308Z"
   },
   {
    "duration": 9,
    "start_time": "2022-02-01T09:38:29.368Z"
   },
   {
    "duration": 49,
    "start_time": "2022-02-01T09:38:29.379Z"
   },
   {
    "duration": 25,
    "start_time": "2022-02-01T09:38:29.430Z"
   },
   {
    "duration": 30,
    "start_time": "2022-02-01T09:38:29.457Z"
   },
   {
    "duration": 23,
    "start_time": "2022-02-01T09:38:29.489Z"
   },
   {
    "duration": 23,
    "start_time": "2022-02-01T09:38:29.514Z"
   },
   {
    "duration": 10,
    "start_time": "2022-02-01T09:38:29.540Z"
   },
   {
    "duration": 28,
    "start_time": "2022-02-01T09:38:29.552Z"
   },
   {
    "duration": 16,
    "start_time": "2022-02-01T09:38:29.582Z"
   },
   {
    "duration": 36,
    "start_time": "2022-02-01T09:38:29.600Z"
   },
   {
    "duration": 16,
    "start_time": "2022-02-01T09:38:29.638Z"
   },
   {
    "duration": 17,
    "start_time": "2022-02-01T09:38:29.656Z"
   },
   {
    "duration": 36,
    "start_time": "2022-02-01T09:38:29.675Z"
   },
   {
    "duration": 11,
    "start_time": "2022-02-01T09:38:29.713Z"
   },
   {
    "duration": 26,
    "start_time": "2022-02-01T09:38:29.726Z"
   },
   {
    "duration": 20,
    "start_time": "2022-02-01T09:38:29.753Z"
   },
   {
    "duration": 444,
    "start_time": "2022-02-01T09:38:29.775Z"
   },
   {
    "duration": 22,
    "start_time": "2022-02-01T09:38:30.222Z"
   },
   {
    "duration": 12,
    "start_time": "2022-02-01T09:38:30.246Z"
   },
   {
    "duration": 32,
    "start_time": "2022-02-01T09:38:30.260Z"
   },
   {
    "duration": 461,
    "start_time": "2022-02-01T09:38:30.294Z"
   },
   {
    "duration": 7,
    "start_time": "2022-02-01T09:38:30.759Z"
   },
   {
    "duration": 771,
    "start_time": "2022-02-01T09:38:30.767Z"
   },
   {
    "duration": 286,
    "start_time": "2022-02-01T09:38:31.540Z"
   },
   {
    "duration": 26,
    "start_time": "2022-02-01T09:38:35.005Z"
   },
   {
    "duration": 90,
    "start_time": "2022-02-01T09:38:35.988Z"
   },
   {
    "duration": 280,
    "start_time": "2022-02-01T09:39:02.248Z"
   },
   {
    "duration": 69,
    "start_time": "2022-02-01T10:18:37.660Z"
   },
   {
    "duration": 11,
    "start_time": "2022-02-01T10:18:37.731Z"
   },
   {
    "duration": 33,
    "start_time": "2022-02-01T10:18:37.745Z"
   },
   {
    "duration": 28,
    "start_time": "2022-02-01T10:18:37.809Z"
   },
   {
    "duration": 18,
    "start_time": "2022-02-01T10:18:37.839Z"
   },
   {
    "duration": 10,
    "start_time": "2022-02-01T10:18:37.860Z"
   },
   {
    "duration": 5,
    "start_time": "2022-02-01T10:18:37.908Z"
   },
   {
    "duration": 7,
    "start_time": "2022-02-01T10:18:37.917Z"
   },
   {
    "duration": 12,
    "start_time": "2022-02-01T10:18:37.927Z"
   },
   {
    "duration": 16,
    "start_time": "2022-02-01T10:18:37.941Z"
   },
   {
    "duration": 13,
    "start_time": "2022-02-01T10:18:37.959Z"
   },
   {
    "duration": 10,
    "start_time": "2022-02-01T10:18:37.974Z"
   },
   {
    "duration": 4,
    "start_time": "2022-02-01T10:18:38.008Z"
   },
   {
    "duration": 23,
    "start_time": "2022-02-01T10:18:38.013Z"
   },
   {
    "duration": 11,
    "start_time": "2022-02-01T10:18:38.038Z"
   },
   {
    "duration": 9,
    "start_time": "2022-02-01T10:18:38.051Z"
   },
   {
    "duration": 6,
    "start_time": "2022-02-01T10:18:38.062Z"
   },
   {
    "duration": 436,
    "start_time": "2022-02-01T10:18:38.108Z"
   },
   {
    "duration": 24,
    "start_time": "2022-02-01T10:18:38.546Z"
   },
   {
    "duration": 3,
    "start_time": "2022-02-01T10:18:38.572Z"
   },
   {
    "duration": 33,
    "start_time": "2022-02-01T10:18:38.577Z"
   },
   {
    "duration": 524,
    "start_time": "2022-02-01T10:18:38.612Z"
   },
   {
    "duration": 5,
    "start_time": "2022-02-01T10:18:39.139Z"
   },
   {
    "duration": 1065,
    "start_time": "2022-02-01T10:18:39.146Z"
   },
   {
    "duration": 317,
    "start_time": "2022-02-01T10:18:40.213Z"
   },
   {
    "duration": 26,
    "start_time": "2022-02-01T10:18:40.532Z"
   },
   {
    "duration": 308,
    "start_time": "2022-02-01T10:18:40.560Z"
   },
   {
    "duration": 7,
    "start_time": "2022-02-01T10:18:40.871Z"
   },
   {
    "duration": 592,
    "start_time": "2022-02-01T10:18:40.880Z"
   },
   {
    "duration": 11,
    "start_time": "2022-02-01T10:18:41.474Z"
   },
   {
    "duration": 921,
    "start_time": "2022-02-01T10:18:41.487Z"
   },
   {
    "duration": 10,
    "start_time": "2022-02-01T10:18:42.410Z"
   },
   {
    "duration": 550,
    "start_time": "2022-02-01T10:18:42.422Z"
   },
   {
    "duration": -182,
    "start_time": "2022-02-01T10:18:43.156Z"
   },
   {
    "duration": 537,
    "start_time": "2022-02-01T10:19:03.337Z"
   },
   {
    "duration": 289,
    "start_time": "2022-02-01T10:22:01.626Z"
   },
   {
    "duration": 57,
    "start_time": "2022-02-01T10:22:07.219Z"
   },
   {
    "duration": 10,
    "start_time": "2022-02-01T10:22:07.278Z"
   },
   {
    "duration": 38,
    "start_time": "2022-02-01T10:22:07.290Z"
   },
   {
    "duration": 29,
    "start_time": "2022-02-01T10:22:07.331Z"
   },
   {
    "duration": 20,
    "start_time": "2022-02-01T10:22:07.362Z"
   },
   {
    "duration": 10,
    "start_time": "2022-02-01T10:22:07.408Z"
   },
   {
    "duration": 14,
    "start_time": "2022-02-01T10:22:07.420Z"
   },
   {
    "duration": 10,
    "start_time": "2022-02-01T10:22:07.437Z"
   },
   {
    "duration": 11,
    "start_time": "2022-02-01T10:22:07.449Z"
   },
   {
    "duration": 10,
    "start_time": "2022-02-01T10:22:07.462Z"
   },
   {
    "duration": 18,
    "start_time": "2022-02-01T10:22:07.474Z"
   },
   {
    "duration": 5,
    "start_time": "2022-02-01T10:22:07.507Z"
   },
   {
    "duration": 7,
    "start_time": "2022-02-01T10:22:07.514Z"
   },
   {
    "duration": 22,
    "start_time": "2022-02-01T10:22:07.522Z"
   },
   {
    "duration": 11,
    "start_time": "2022-02-01T10:22:07.546Z"
   },
   {
    "duration": 10,
    "start_time": "2022-02-01T10:22:07.560Z"
   },
   {
    "duration": 40,
    "start_time": "2022-02-01T10:22:07.572Z"
   },
   {
    "duration": 447,
    "start_time": "2022-02-01T10:22:07.613Z"
   },
   {
    "duration": 25,
    "start_time": "2022-02-01T10:22:08.062Z"
   },
   {
    "duration": 19,
    "start_time": "2022-02-01T10:22:08.089Z"
   },
   {
    "duration": 18,
    "start_time": "2022-02-01T10:22:08.110Z"
   },
   {
    "duration": 352,
    "start_time": "2022-02-01T10:22:08.130Z"
   },
   {
    "duration": 6,
    "start_time": "2022-02-01T10:22:08.485Z"
   },
   {
    "duration": 741,
    "start_time": "2022-02-01T10:22:08.493Z"
   },
   {
    "duration": 285,
    "start_time": "2022-02-01T10:22:09.235Z"
   },
   {
    "duration": 27,
    "start_time": "2022-02-01T10:22:09.522Z"
   },
   {
    "duration": 291,
    "start_time": "2022-02-01T10:22:09.550Z"
   },
   {
    "duration": 7,
    "start_time": "2022-02-01T10:22:09.843Z"
   },
   {
    "duration": 543,
    "start_time": "2022-02-01T10:22:09.852Z"
   },
   {
    "duration": 17,
    "start_time": "2022-02-01T10:22:10.397Z"
   },
   {
    "duration": 891,
    "start_time": "2022-02-01T10:22:10.416Z"
   },
   {
    "duration": 11,
    "start_time": "2022-02-01T10:22:11.310Z"
   },
   {
    "duration": 256,
    "start_time": "2022-02-01T10:22:13.978Z"
   },
   {
    "duration": 23,
    "start_time": "2022-02-01T10:23:44.790Z"
   },
   {
    "duration": 14,
    "start_time": "2022-02-01T10:23:48.714Z"
   },
   {
    "duration": 649,
    "start_time": "2022-02-01T10:23:50.999Z"
   },
   {
    "duration": 230,
    "start_time": "2022-02-01T10:23:57.986Z"
   },
   {
    "duration": 390,
    "start_time": "2022-02-01T10:24:42.703Z"
   },
   {
    "duration": 469,
    "start_time": "2022-02-01T10:27:37.965Z"
   },
   {
    "duration": 213,
    "start_time": "2022-02-01T10:27:49.144Z"
   },
   {
    "duration": 219,
    "start_time": "2022-02-01T10:28:14.709Z"
   },
   {
    "duration": 205,
    "start_time": "2022-02-01T10:28:24.535Z"
   },
   {
    "duration": 100,
    "start_time": "2022-02-01T10:29:05.054Z"
   },
   {
    "duration": 60,
    "start_time": "2022-02-01T10:46:24.990Z"
   },
   {
    "duration": 12,
    "start_time": "2022-02-01T10:46:33.482Z"
   },
   {
    "duration": 33,
    "start_time": "2022-02-01T10:46:35.576Z"
   },
   {
    "duration": 30,
    "start_time": "2022-02-01T10:46:50.425Z"
   },
   {
    "duration": 18,
    "start_time": "2022-02-01T10:46:58.746Z"
   },
   {
    "duration": 11,
    "start_time": "2022-02-01T10:47:07.217Z"
   },
   {
    "duration": 5,
    "start_time": "2022-02-01T10:47:39.542Z"
   },
   {
    "duration": 5,
    "start_time": "2022-02-01T10:47:48.334Z"
   },
   {
    "duration": 8,
    "start_time": "2022-02-01T10:47:55.466Z"
   },
   {
    "duration": 5,
    "start_time": "2022-02-01T10:47:58.830Z"
   },
   {
    "duration": 12,
    "start_time": "2022-02-01T10:47:59.598Z"
   },
   {
    "duration": 5,
    "start_time": "2022-02-01T10:48:14.203Z"
   },
   {
    "duration": 4,
    "start_time": "2022-02-01T10:48:24.574Z"
   },
   {
    "duration": 19,
    "start_time": "2022-02-01T10:48:31.923Z"
   },
   {
    "duration": 11,
    "start_time": "2022-02-01T10:48:34.763Z"
   },
   {
    "duration": 7,
    "start_time": "2022-02-01T10:48:39.667Z"
   },
   {
    "duration": 5,
    "start_time": "2022-02-01T10:48:45.147Z"
   },
   {
    "duration": 426,
    "start_time": "2022-02-01T10:49:13.403Z"
   },
   {
    "duration": 24,
    "start_time": "2022-02-01T10:49:36.343Z"
   },
   {
    "duration": 21,
    "start_time": "2022-02-01T10:49:49.096Z"
   },
   {
    "duration": 3,
    "start_time": "2022-02-01T10:49:53.019Z"
   },
   {
    "duration": 5,
    "start_time": "2022-02-01T10:49:57.787Z"
   },
   {
    "duration": 349,
    "start_time": "2022-02-01T10:50:12.231Z"
   },
   {
    "duration": 3,
    "start_time": "2022-02-01T10:53:23.417Z"
   },
   {
    "duration": 717,
    "start_time": "2022-02-01T10:53:24.361Z"
   },
   {
    "duration": 275,
    "start_time": "2022-02-01T10:54:03.966Z"
   },
   {
    "duration": 85,
    "start_time": "2022-02-01T10:54:54.073Z"
   },
   {
    "duration": 27,
    "start_time": "2022-02-01T10:56:20.450Z"
   },
   {
    "duration": 25,
    "start_time": "2022-02-01T10:56:26.354Z"
   },
   {
    "duration": 280,
    "start_time": "2022-02-01T10:56:31.093Z"
   },
   {
    "duration": 10,
    "start_time": "2022-02-01T10:57:00.938Z"
   },
   {
    "duration": 7,
    "start_time": "2022-02-01T10:57:37.670Z"
   },
   {
    "duration": 567,
    "start_time": "2022-02-01T10:57:38.850Z"
   },
   {
    "duration": 11,
    "start_time": "2022-02-01T10:57:44.798Z"
   },
   {
    "duration": 83,
    "start_time": "2022-02-01T10:58:46.290Z"
   },
   {
    "duration": 878,
    "start_time": "2022-02-01T10:58:53.238Z"
   },
   {
    "duration": 10,
    "start_time": "2022-02-01T10:59:00.982Z"
   },
   {
    "duration": 16,
    "start_time": "2022-02-01T10:59:18.238Z"
   },
   {
    "duration": 914,
    "start_time": "2022-02-01T11:00:33.239Z"
   },
   {
    "duration": 645,
    "start_time": "2022-02-01T11:00:38.447Z"
   },
   {
    "duration": 237,
    "start_time": "2022-02-01T11:00:46.932Z"
   },
   {
    "duration": 201,
    "start_time": "2022-02-01T11:00:50.042Z"
   },
   {
    "duration": 5,
    "start_time": "2022-02-01T11:01:09.627Z"
   },
   {
    "duration": 49,
    "start_time": "2022-02-01T11:01:10.439Z"
   },
   {
    "duration": 46,
    "start_time": "2022-02-01T11:01:14.199Z"
   },
   {
    "duration": 250,
    "start_time": "2022-02-01T11:01:19.511Z"
   },
   {
    "duration": 717,
    "start_time": "2022-02-01T11:03:35.750Z"
   },
   {
    "duration": 974,
    "start_time": "2022-02-01T11:03:47.460Z"
   },
   {
    "duration": 711,
    "start_time": "2022-02-01T11:03:55.960Z"
   },
   {
    "duration": 767,
    "start_time": "2022-02-01T11:04:01.224Z"
   },
   {
    "duration": 720,
    "start_time": "2022-02-01T11:04:26.320Z"
   },
   {
    "duration": 724,
    "start_time": "2022-02-01T11:04:36.400Z"
   },
   {
    "duration": 281,
    "start_time": "2022-02-01T11:07:04.074Z"
   },
   {
    "duration": 282,
    "start_time": "2022-02-01T11:08:03.436Z"
   },
   {
    "duration": 603,
    "start_time": "2022-02-01T11:08:45.022Z"
   },
   {
    "duration": 542,
    "start_time": "2022-02-01T11:08:54.744Z"
   },
   {
    "duration": 930,
    "start_time": "2022-02-01T11:09:17.403Z"
   },
   {
    "duration": 251,
    "start_time": "2022-02-01T11:10:13.980Z"
   },
   {
    "duration": 64,
    "start_time": "2022-02-01T11:10:33.620Z"
   },
   {
    "duration": 12,
    "start_time": "2022-02-01T11:10:33.686Z"
   },
   {
    "duration": 40,
    "start_time": "2022-02-01T11:10:33.701Z"
   },
   {
    "duration": 31,
    "start_time": "2022-02-01T11:10:33.743Z"
   },
   {
    "duration": 21,
    "start_time": "2022-02-01T11:10:33.809Z"
   },
   {
    "duration": 12,
    "start_time": "2022-02-01T11:10:33.832Z"
   },
   {
    "duration": 18,
    "start_time": "2022-02-01T11:10:33.846Z"
   },
   {
    "duration": 21,
    "start_time": "2022-02-01T11:10:33.867Z"
   },
   {
    "duration": 28,
    "start_time": "2022-02-01T11:10:33.890Z"
   },
   {
    "duration": 13,
    "start_time": "2022-02-01T11:10:33.920Z"
   },
   {
    "duration": 26,
    "start_time": "2022-02-01T11:10:33.935Z"
   },
   {
    "duration": 17,
    "start_time": "2022-02-01T11:10:33.963Z"
   },
   {
    "duration": 18,
    "start_time": "2022-02-01T11:10:33.982Z"
   },
   {
    "duration": 34,
    "start_time": "2022-02-01T11:10:34.002Z"
   },
   {
    "duration": 15,
    "start_time": "2022-02-01T11:10:34.038Z"
   },
   {
    "duration": 17,
    "start_time": "2022-02-01T11:10:34.054Z"
   },
   {
    "duration": 15,
    "start_time": "2022-02-01T11:10:34.072Z"
   },
   {
    "duration": 523,
    "start_time": "2022-02-01T11:10:34.089Z"
   },
   {
    "duration": 33,
    "start_time": "2022-02-01T11:10:34.614Z"
   },
   {
    "duration": 3,
    "start_time": "2022-02-01T11:10:34.650Z"
   },
   {
    "duration": 26,
    "start_time": "2022-02-01T11:10:34.655Z"
   },
   {
    "duration": 456,
    "start_time": "2022-02-01T11:10:34.683Z"
   },
   {
    "duration": 806,
    "start_time": "2022-02-01T11:10:35.143Z"
   },
   {
    "duration": 302,
    "start_time": "2022-02-01T11:10:35.951Z"
   },
   {
    "duration": 27,
    "start_time": "2022-02-01T11:10:36.255Z"
   },
   {
    "duration": 334,
    "start_time": "2022-02-01T11:10:36.285Z"
   },
   {
    "duration": 9,
    "start_time": "2022-02-01T11:10:36.621Z"
   },
   {
    "duration": 624,
    "start_time": "2022-02-01T11:10:36.632Z"
   },
   {
    "duration": 11,
    "start_time": "2022-02-01T11:10:37.258Z"
   },
   {
    "duration": 1075,
    "start_time": "2022-02-01T11:10:37.272Z"
   },
   {
    "duration": 11,
    "start_time": "2022-02-01T11:10:38.349Z"
   },
   {
    "duration": 15,
    "start_time": "2022-02-01T11:10:38.362Z"
   },
   {
    "duration": 1065,
    "start_time": "2022-02-01T11:10:38.379Z"
   },
   {
    "duration": 242,
    "start_time": "2022-02-01T11:10:39.447Z"
   },
   {
    "duration": 240,
    "start_time": "2022-02-01T11:10:39.691Z"
   },
   {
    "duration": 5,
    "start_time": "2022-02-01T11:10:39.934Z"
   },
   {
    "duration": 68,
    "start_time": "2022-02-01T11:10:39.941Z"
   },
   {
    "duration": 55,
    "start_time": "2022-02-01T11:10:40.011Z"
   },
   {
    "duration": 327,
    "start_time": "2022-02-01T11:10:40.068Z"
   },
   {
    "duration": 13,
    "start_time": "2022-02-01T11:10:40.397Z"
   },
   {
    "duration": 10,
    "start_time": "2022-02-01T11:10:40.413Z"
   },
   {
    "duration": 11,
    "start_time": "2022-02-01T11:10:40.425Z"
   },
   {
    "duration": 23,
    "start_time": "2022-02-01T11:10:40.438Z"
   },
   {
    "duration": 8,
    "start_time": "2022-02-01T11:10:40.463Z"
   },
   {
    "duration": 36,
    "start_time": "2022-02-01T11:10:40.473Z"
   },
   {
    "duration": 13,
    "start_time": "2022-02-01T11:10:40.511Z"
   },
   {
    "duration": 11,
    "start_time": "2022-02-01T11:10:40.526Z"
   }
  ],
  "kernelspec": {
   "display_name": "Python 3 (ipykernel)",
   "language": "python",
   "name": "python3"
  },
  "language_info": {
   "codemirror_mode": {
    "name": "ipython",
    "version": 3
   },
   "file_extension": ".py",
   "mimetype": "text/x-python",
   "name": "python",
   "nbconvert_exporter": "python",
   "pygments_lexer": "ipython3",
   "version": "3.9.5"
  },
  "toc": {
   "base_numbering": 1,
   "nav_menu": {},
   "number_sections": true,
   "sideBar": true,
   "skip_h1_title": true,
   "title_cell": "Table of Contents",
   "title_sidebar": "Contents",
   "toc_cell": false,
   "toc_position": {
    "height": "calc(100% - 180px)",
    "left": "10px",
    "top": "150px",
    "width": "228.188px"
   },
   "toc_section_display": true,
   "toc_window_display": true
  }
 },
 "nbformat": 4,
 "nbformat_minor": 2
}
