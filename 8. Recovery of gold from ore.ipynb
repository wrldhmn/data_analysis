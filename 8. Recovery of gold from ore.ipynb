{
 "cells": [
  {
   "cell_type": "markdown",
   "metadata": {},
   "source": [
    "# Recovery of gold from ore"
   ]
  },
  {
   "cell_type": "markdown",
   "metadata": {},
   "source": [
    "Prepare a prototype of a machine learning model for Digital. The company develops solutions for the efficient operation of industrial enterprises.\n",
    "\n",
    "The model must predict the recovery rate of gold from gold ore. Use data with mining and purification parameters.\n",
    "\n",
    "The model will help optimize production so as not to launch an enterprise with unprofitable characteristics.\n",
    "\n",
    "You need:\n",
    "\n",
    "1. Prepare data;\n",
    "2. Conduct exploratory data analysis;\n",
    "3. Build and train the model.\n",
    "\n",
    "To complete the project, use the *pandas*, *matplotlib*, and *sklearn libraries.* Their documentation will help you."
   ]
  },
  {
   "cell_type": "markdown",
   "metadata": {},
   "source": [
    "<b>Project description</b>\n",
    "\n",
    "The data is located in three files:\n",
    "- gold_recovery_train_new.csv — training sample;\n",
    "- gold_recovery_test_new.csv — test sample;\n",
    "- gold_recovery_full_new.csv - initial data.\n",
    "\n",
    "The data is indexed by the date and time the information was received (date attribute). Parameters adjacent in time are often similar.\n",
    "\n",
    "Some parameters are not available because they are measured and/or calculated much later. Because of this, the test sample lacks some features that may be present in the training sample. Also, the test set does not contain target features.\n",
    "\n",
    "The original dataset contains training and test samples with all the characteristics.\n",
    "\n",
    "We have raw data at our disposal: it was simply downloaded from the storage. Before you start building the model, check them according to our instructions for correctness."
   ]
  },
  {
   "cell_type": "markdown",
   "metadata": {},
   "source": [
    "## Data preparation"
   ]
  },
  {
   "cell_type": "markdown",
   "metadata": {},
   "source": [
    "### Import the necessary libraries and look at our data"
   ]
  },
  {
   "cell_type": "code",
   "execution_count": 232,
   "metadata": {
    "scrolled": true
   },
   "outputs": [
    {
     "data": {
      "text/html": [
       "<div>\n",
       "<style scoped>\n",
       "    .dataframe tbody tr th:only-of-type {\n",
       "        vertical-align: middle;\n",
       "    }\n",
       "\n",
       "    .dataframe tbody tr th {\n",
       "        vertical-align: top;\n",
       "    }\n",
       "\n",
       "    .dataframe thead th {\n",
       "        text-align: right;\n",
       "    }\n",
       "</style>\n",
       "<table border=\"1\" class=\"dataframe\">\n",
       "  <thead>\n",
       "    <tr style=\"text-align: right;\">\n",
       "      <th></th>\n",
       "      <th>final.output.concentrate_ag</th>\n",
       "      <th>final.output.concentrate_pb</th>\n",
       "      <th>final.output.concentrate_sol</th>\n",
       "      <th>final.output.concentrate_au</th>\n",
       "      <th>final.output.recovery</th>\n",
       "      <th>final.output.tail_ag</th>\n",
       "      <th>final.output.tail_pb</th>\n",
       "      <th>final.output.tail_sol</th>\n",
       "      <th>final.output.tail_au</th>\n",
       "      <th>primary_cleaner.input.sulfate</th>\n",
       "      <th>...</th>\n",
       "      <th>secondary_cleaner.state.floatbank4_a_air</th>\n",
       "      <th>secondary_cleaner.state.floatbank4_a_level</th>\n",
       "      <th>secondary_cleaner.state.floatbank4_b_air</th>\n",
       "      <th>secondary_cleaner.state.floatbank4_b_level</th>\n",
       "      <th>secondary_cleaner.state.floatbank5_a_air</th>\n",
       "      <th>secondary_cleaner.state.floatbank5_a_level</th>\n",
       "      <th>secondary_cleaner.state.floatbank5_b_air</th>\n",
       "      <th>secondary_cleaner.state.floatbank5_b_level</th>\n",
       "      <th>secondary_cleaner.state.floatbank6_a_air</th>\n",
       "      <th>secondary_cleaner.state.floatbank6_a_level</th>\n",
       "    </tr>\n",
       "    <tr>\n",
       "      <th>date</th>\n",
       "      <th></th>\n",
       "      <th></th>\n",
       "      <th></th>\n",
       "      <th></th>\n",
       "      <th></th>\n",
       "      <th></th>\n",
       "      <th></th>\n",
       "      <th></th>\n",
       "      <th></th>\n",
       "      <th></th>\n",
       "      <th></th>\n",
       "      <th></th>\n",
       "      <th></th>\n",
       "      <th></th>\n",
       "      <th></th>\n",
       "      <th></th>\n",
       "      <th></th>\n",
       "      <th></th>\n",
       "      <th></th>\n",
       "      <th></th>\n",
       "      <th></th>\n",
       "    </tr>\n",
       "  </thead>\n",
       "  <tbody>\n",
       "    <tr>\n",
       "      <th>2016-01-15 00:00:00</th>\n",
       "      <td>6.055403</td>\n",
       "      <td>9.889648</td>\n",
       "      <td>5.507324</td>\n",
       "      <td>42.192020</td>\n",
       "      <td>70.541216</td>\n",
       "      <td>10.411962</td>\n",
       "      <td>0.895447</td>\n",
       "      <td>16.904297</td>\n",
       "      <td>2.143149</td>\n",
       "      <td>127.092003</td>\n",
       "      <td>...</td>\n",
       "      <td>14.016835</td>\n",
       "      <td>-502.488007</td>\n",
       "      <td>12.099931</td>\n",
       "      <td>-504.715942</td>\n",
       "      <td>9.925633</td>\n",
       "      <td>-498.310211</td>\n",
       "      <td>8.079666</td>\n",
       "      <td>-500.470978</td>\n",
       "      <td>14.151341</td>\n",
       "      <td>-605.841980</td>\n",
       "    </tr>\n",
       "    <tr>\n",
       "      <th>2016-01-15 01:00:00</th>\n",
       "      <td>6.029369</td>\n",
       "      <td>9.968944</td>\n",
       "      <td>5.257781</td>\n",
       "      <td>42.701629</td>\n",
       "      <td>69.266198</td>\n",
       "      <td>10.462676</td>\n",
       "      <td>0.927452</td>\n",
       "      <td>16.634514</td>\n",
       "      <td>2.224930</td>\n",
       "      <td>125.629232</td>\n",
       "      <td>...</td>\n",
       "      <td>13.992281</td>\n",
       "      <td>-505.503262</td>\n",
       "      <td>11.950531</td>\n",
       "      <td>-501.331529</td>\n",
       "      <td>10.039245</td>\n",
       "      <td>-500.169983</td>\n",
       "      <td>7.984757</td>\n",
       "      <td>-500.582168</td>\n",
       "      <td>13.998353</td>\n",
       "      <td>-599.787184</td>\n",
       "    </tr>\n",
       "    <tr>\n",
       "      <th>2016-01-15 02:00:00</th>\n",
       "      <td>6.055926</td>\n",
       "      <td>10.213995</td>\n",
       "      <td>5.383759</td>\n",
       "      <td>42.657501</td>\n",
       "      <td>68.116445</td>\n",
       "      <td>10.507046</td>\n",
       "      <td>0.953716</td>\n",
       "      <td>16.208849</td>\n",
       "      <td>2.257889</td>\n",
       "      <td>123.819808</td>\n",
       "      <td>...</td>\n",
       "      <td>14.015015</td>\n",
       "      <td>-502.520901</td>\n",
       "      <td>11.912783</td>\n",
       "      <td>-501.133383</td>\n",
       "      <td>10.070913</td>\n",
       "      <td>-500.129135</td>\n",
       "      <td>8.013877</td>\n",
       "      <td>-500.517572</td>\n",
       "      <td>14.028663</td>\n",
       "      <td>-601.427363</td>\n",
       "    </tr>\n",
       "    <tr>\n",
       "      <th>2016-01-15 03:00:00</th>\n",
       "      <td>6.047977</td>\n",
       "      <td>9.977019</td>\n",
       "      <td>4.858634</td>\n",
       "      <td>42.689819</td>\n",
       "      <td>68.347543</td>\n",
       "      <td>10.422762</td>\n",
       "      <td>0.883763</td>\n",
       "      <td>16.532835</td>\n",
       "      <td>2.146849</td>\n",
       "      <td>122.270188</td>\n",
       "      <td>...</td>\n",
       "      <td>14.036510</td>\n",
       "      <td>-500.857308</td>\n",
       "      <td>11.999550</td>\n",
       "      <td>-501.193686</td>\n",
       "      <td>9.970366</td>\n",
       "      <td>-499.201640</td>\n",
       "      <td>7.977324</td>\n",
       "      <td>-500.255908</td>\n",
       "      <td>14.005551</td>\n",
       "      <td>-599.996129</td>\n",
       "    </tr>\n",
       "    <tr>\n",
       "      <th>2016-01-15 04:00:00</th>\n",
       "      <td>6.148599</td>\n",
       "      <td>10.142511</td>\n",
       "      <td>4.939416</td>\n",
       "      <td>42.774141</td>\n",
       "      <td>66.927016</td>\n",
       "      <td>10.360302</td>\n",
       "      <td>0.792826</td>\n",
       "      <td>16.525686</td>\n",
       "      <td>2.055292</td>\n",
       "      <td>117.988169</td>\n",
       "      <td>...</td>\n",
       "      <td>14.027298</td>\n",
       "      <td>-499.838632</td>\n",
       "      <td>11.953070</td>\n",
       "      <td>-501.053894</td>\n",
       "      <td>9.925709</td>\n",
       "      <td>-501.686727</td>\n",
       "      <td>7.894242</td>\n",
       "      <td>-500.356035</td>\n",
       "      <td>13.996647</td>\n",
       "      <td>-601.496691</td>\n",
       "    </tr>\n",
       "  </tbody>\n",
       "</table>\n",
       "<p>5 rows × 86 columns</p>\n",
       "</div>"
      ],
      "text/plain": [
       "                     final.output.concentrate_ag  final.output.concentrate_pb  \\\n",
       "date                                                                            \n",
       "2016-01-15 00:00:00                     6.055403                     9.889648   \n",
       "2016-01-15 01:00:00                     6.029369                     9.968944   \n",
       "2016-01-15 02:00:00                     6.055926                    10.213995   \n",
       "2016-01-15 03:00:00                     6.047977                     9.977019   \n",
       "2016-01-15 04:00:00                     6.148599                    10.142511   \n",
       "\n",
       "                     final.output.concentrate_sol  \\\n",
       "date                                                \n",
       "2016-01-15 00:00:00                      5.507324   \n",
       "2016-01-15 01:00:00                      5.257781   \n",
       "2016-01-15 02:00:00                      5.383759   \n",
       "2016-01-15 03:00:00                      4.858634   \n",
       "2016-01-15 04:00:00                      4.939416   \n",
       "\n",
       "                     final.output.concentrate_au  final.output.recovery  \\\n",
       "date                                                                      \n",
       "2016-01-15 00:00:00                    42.192020              70.541216   \n",
       "2016-01-15 01:00:00                    42.701629              69.266198   \n",
       "2016-01-15 02:00:00                    42.657501              68.116445   \n",
       "2016-01-15 03:00:00                    42.689819              68.347543   \n",
       "2016-01-15 04:00:00                    42.774141              66.927016   \n",
       "\n",
       "                     final.output.tail_ag  final.output.tail_pb  \\\n",
       "date                                                              \n",
       "2016-01-15 00:00:00             10.411962              0.895447   \n",
       "2016-01-15 01:00:00             10.462676              0.927452   \n",
       "2016-01-15 02:00:00             10.507046              0.953716   \n",
       "2016-01-15 03:00:00             10.422762              0.883763   \n",
       "2016-01-15 04:00:00             10.360302              0.792826   \n",
       "\n",
       "                     final.output.tail_sol  final.output.tail_au  \\\n",
       "date                                                               \n",
       "2016-01-15 00:00:00              16.904297              2.143149   \n",
       "2016-01-15 01:00:00              16.634514              2.224930   \n",
       "2016-01-15 02:00:00              16.208849              2.257889   \n",
       "2016-01-15 03:00:00              16.532835              2.146849   \n",
       "2016-01-15 04:00:00              16.525686              2.055292   \n",
       "\n",
       "                     primary_cleaner.input.sulfate  ...  \\\n",
       "date                                                ...   \n",
       "2016-01-15 00:00:00                     127.092003  ...   \n",
       "2016-01-15 01:00:00                     125.629232  ...   \n",
       "2016-01-15 02:00:00                     123.819808  ...   \n",
       "2016-01-15 03:00:00                     122.270188  ...   \n",
       "2016-01-15 04:00:00                     117.988169  ...   \n",
       "\n",
       "                     secondary_cleaner.state.floatbank4_a_air  \\\n",
       "date                                                            \n",
       "2016-01-15 00:00:00                                 14.016835   \n",
       "2016-01-15 01:00:00                                 13.992281   \n",
       "2016-01-15 02:00:00                                 14.015015   \n",
       "2016-01-15 03:00:00                                 14.036510   \n",
       "2016-01-15 04:00:00                                 14.027298   \n",
       "\n",
       "                     secondary_cleaner.state.floatbank4_a_level  \\\n",
       "date                                                              \n",
       "2016-01-15 00:00:00                                 -502.488007   \n",
       "2016-01-15 01:00:00                                 -505.503262   \n",
       "2016-01-15 02:00:00                                 -502.520901   \n",
       "2016-01-15 03:00:00                                 -500.857308   \n",
       "2016-01-15 04:00:00                                 -499.838632   \n",
       "\n",
       "                     secondary_cleaner.state.floatbank4_b_air  \\\n",
       "date                                                            \n",
       "2016-01-15 00:00:00                                 12.099931   \n",
       "2016-01-15 01:00:00                                 11.950531   \n",
       "2016-01-15 02:00:00                                 11.912783   \n",
       "2016-01-15 03:00:00                                 11.999550   \n",
       "2016-01-15 04:00:00                                 11.953070   \n",
       "\n",
       "                     secondary_cleaner.state.floatbank4_b_level  \\\n",
       "date                                                              \n",
       "2016-01-15 00:00:00                                 -504.715942   \n",
       "2016-01-15 01:00:00                                 -501.331529   \n",
       "2016-01-15 02:00:00                                 -501.133383   \n",
       "2016-01-15 03:00:00                                 -501.193686   \n",
       "2016-01-15 04:00:00                                 -501.053894   \n",
       "\n",
       "                     secondary_cleaner.state.floatbank5_a_air  \\\n",
       "date                                                            \n",
       "2016-01-15 00:00:00                                  9.925633   \n",
       "2016-01-15 01:00:00                                 10.039245   \n",
       "2016-01-15 02:00:00                                 10.070913   \n",
       "2016-01-15 03:00:00                                  9.970366   \n",
       "2016-01-15 04:00:00                                  9.925709   \n",
       "\n",
       "                     secondary_cleaner.state.floatbank5_a_level  \\\n",
       "date                                                              \n",
       "2016-01-15 00:00:00                                 -498.310211   \n",
       "2016-01-15 01:00:00                                 -500.169983   \n",
       "2016-01-15 02:00:00                                 -500.129135   \n",
       "2016-01-15 03:00:00                                 -499.201640   \n",
       "2016-01-15 04:00:00                                 -501.686727   \n",
       "\n",
       "                     secondary_cleaner.state.floatbank5_b_air  \\\n",
       "date                                                            \n",
       "2016-01-15 00:00:00                                  8.079666   \n",
       "2016-01-15 01:00:00                                  7.984757   \n",
       "2016-01-15 02:00:00                                  8.013877   \n",
       "2016-01-15 03:00:00                                  7.977324   \n",
       "2016-01-15 04:00:00                                  7.894242   \n",
       "\n",
       "                     secondary_cleaner.state.floatbank5_b_level  \\\n",
       "date                                                              \n",
       "2016-01-15 00:00:00                                 -500.470978   \n",
       "2016-01-15 01:00:00                                 -500.582168   \n",
       "2016-01-15 02:00:00                                 -500.517572   \n",
       "2016-01-15 03:00:00                                 -500.255908   \n",
       "2016-01-15 04:00:00                                 -500.356035   \n",
       "\n",
       "                     secondary_cleaner.state.floatbank6_a_air  \\\n",
       "date                                                            \n",
       "2016-01-15 00:00:00                                 14.151341   \n",
       "2016-01-15 01:00:00                                 13.998353   \n",
       "2016-01-15 02:00:00                                 14.028663   \n",
       "2016-01-15 03:00:00                                 14.005551   \n",
       "2016-01-15 04:00:00                                 13.996647   \n",
       "\n",
       "                     secondary_cleaner.state.floatbank6_a_level  \n",
       "date                                                             \n",
       "2016-01-15 00:00:00                                 -605.841980  \n",
       "2016-01-15 01:00:00                                 -599.787184  \n",
       "2016-01-15 02:00:00                                 -601.427363  \n",
       "2016-01-15 03:00:00                                 -599.996129  \n",
       "2016-01-15 04:00:00                                 -601.496691  \n",
       "\n",
       "[5 rows x 86 columns]"
      ]
     },
     "metadata": {},
     "output_type": "display_data"
    },
    {
     "name": "stdout",
     "output_type": "stream",
     "text": [
      "<class 'pandas.core.frame.DataFrame'>\n",
      "Index: 14149 entries, 2016-01-15 00:00:00 to 2018-08-18 10:59:59\n",
      "Data columns (total 86 columns):\n",
      " #   Column                                              Non-Null Count  Dtype  \n",
      "---  ------                                              --------------  -----  \n",
      " 0   final.output.concentrate_ag                         14148 non-null  float64\n",
      " 1   final.output.concentrate_pb                         14148 non-null  float64\n",
      " 2   final.output.concentrate_sol                        13938 non-null  float64\n",
      " 3   final.output.concentrate_au                         14149 non-null  float64\n",
      " 4   final.output.recovery                               14149 non-null  float64\n",
      " 5   final.output.tail_ag                                14149 non-null  float64\n",
      " 6   final.output.tail_pb                                14049 non-null  float64\n",
      " 7   final.output.tail_sol                               14144 non-null  float64\n",
      " 8   final.output.tail_au                                14149 non-null  float64\n",
      " 9   primary_cleaner.input.sulfate                       14129 non-null  float64\n",
      " 10  primary_cleaner.input.depressant                    14117 non-null  float64\n",
      " 11  primary_cleaner.input.feed_size                     14149 non-null  float64\n",
      " 12  primary_cleaner.input.xanthate                      14049 non-null  float64\n",
      " 13  primary_cleaner.output.concentrate_ag               14149 non-null  float64\n",
      " 14  primary_cleaner.output.concentrate_pb               14063 non-null  float64\n",
      " 15  primary_cleaner.output.concentrate_sol              13863 non-null  float64\n",
      " 16  primary_cleaner.output.concentrate_au               14149 non-null  float64\n",
      " 17  primary_cleaner.output.tail_ag                      14148 non-null  float64\n",
      " 18  primary_cleaner.output.tail_pb                      14134 non-null  float64\n",
      " 19  primary_cleaner.output.tail_sol                     14103 non-null  float64\n",
      " 20  primary_cleaner.output.tail_au                      14149 non-null  float64\n",
      " 21  primary_cleaner.state.floatbank8_a_air              14145 non-null  float64\n",
      " 22  primary_cleaner.state.floatbank8_a_level            14148 non-null  float64\n",
      " 23  primary_cleaner.state.floatbank8_b_air              14145 non-null  float64\n",
      " 24  primary_cleaner.state.floatbank8_b_level            14148 non-null  float64\n",
      " 25  primary_cleaner.state.floatbank8_c_air              14147 non-null  float64\n",
      " 26  primary_cleaner.state.floatbank8_c_level            14148 non-null  float64\n",
      " 27  primary_cleaner.state.floatbank8_d_air              14146 non-null  float64\n",
      " 28  primary_cleaner.state.floatbank8_d_level            14148 non-null  float64\n",
      " 29  rougher.calculation.sulfate_to_au_concentrate       14148 non-null  float64\n",
      " 30  rougher.calculation.floatbank10_sulfate_to_au_feed  14148 non-null  float64\n",
      " 31  rougher.calculation.floatbank11_sulfate_to_au_feed  14148 non-null  float64\n",
      " 32  rougher.calculation.au_pb_ratio                     14149 non-null  float64\n",
      " 33  rougher.input.feed_ag                               14149 non-null  float64\n",
      " 34  rougher.input.feed_pb                               14049 non-null  float64\n",
      " 35  rougher.input.feed_rate                             14141 non-null  float64\n",
      " 36  rougher.input.feed_size                             14005 non-null  float64\n",
      " 37  rougher.input.feed_sol                              14071 non-null  float64\n",
      " 38  rougher.input.feed_au                               14149 non-null  float64\n",
      " 39  rougher.input.floatbank10_sulfate                   14120 non-null  float64\n",
      " 40  rougher.input.floatbank10_xanthate                  14141 non-null  float64\n",
      " 41  rougher.input.floatbank11_sulfate                   14113 non-null  float64\n",
      " 42  rougher.input.floatbank11_xanthate                  13721 non-null  float64\n",
      " 43  rougher.output.concentrate_ag                       14149 non-null  float64\n",
      " 44  rougher.output.concentrate_pb                       14149 non-null  float64\n",
      " 45  rougher.output.concentrate_sol                      14127 non-null  float64\n",
      " 46  rougher.output.concentrate_au                       14149 non-null  float64\n",
      " 47  rougher.output.recovery                             14149 non-null  float64\n",
      " 48  rougher.output.tail_ag                              14148 non-null  float64\n",
      " 49  rougher.output.tail_pb                              14149 non-null  float64\n",
      " 50  rougher.output.tail_sol                             14149 non-null  float64\n",
      " 51  rougher.output.tail_au                              14149 non-null  float64\n",
      " 52  rougher.state.floatbank10_a_air                     14148 non-null  float64\n",
      " 53  rougher.state.floatbank10_a_level                   14148 non-null  float64\n",
      " 54  rougher.state.floatbank10_b_air                     14148 non-null  float64\n",
      " 55  rougher.state.floatbank10_b_level                   14148 non-null  float64\n",
      " 56  rougher.state.floatbank10_c_air                     14148 non-null  float64\n",
      " 57  rougher.state.floatbank10_c_level                   14148 non-null  float64\n",
      " 58  rougher.state.floatbank10_d_air                     14149 non-null  float64\n",
      " 59  rougher.state.floatbank10_d_level                   14149 non-null  float64\n",
      " 60  rougher.state.floatbank10_e_air                     13713 non-null  float64\n",
      " 61  rougher.state.floatbank10_e_level                   14149 non-null  float64\n",
      " 62  rougher.state.floatbank10_f_air                     14149 non-null  float64\n",
      " 63  rougher.state.floatbank10_f_level                   14149 non-null  float64\n",
      " 64  secondary_cleaner.output.tail_ag                    14147 non-null  float64\n",
      " 65  secondary_cleaner.output.tail_pb                    14139 non-null  float64\n",
      " 66  secondary_cleaner.output.tail_sol                   12544 non-null  float64\n",
      " 67  secondary_cleaner.output.tail_au                    14149 non-null  float64\n",
      " 68  secondary_cleaner.state.floatbank2_a_air            13932 non-null  float64\n",
      " 69  secondary_cleaner.state.floatbank2_a_level          14148 non-null  float64\n",
      " 70  secondary_cleaner.state.floatbank2_b_air            14128 non-null  float64\n",
      " 71  secondary_cleaner.state.floatbank2_b_level          14148 non-null  float64\n",
      " 72  secondary_cleaner.state.floatbank3_a_air            14145 non-null  float64\n",
      " 73  secondary_cleaner.state.floatbank3_a_level          14148 non-null  float64\n",
      " 74  secondary_cleaner.state.floatbank3_b_air            14148 non-null  float64\n",
      " 75  secondary_cleaner.state.floatbank3_b_level          14148 non-null  float64\n",
      " 76  secondary_cleaner.state.floatbank4_a_air            14143 non-null  float64\n",
      " 77  secondary_cleaner.state.floatbank4_a_level          14148 non-null  float64\n",
      " 78  secondary_cleaner.state.floatbank4_b_air            14148 non-null  float64\n",
      " 79  secondary_cleaner.state.floatbank4_b_level          14148 non-null  float64\n",
      " 80  secondary_cleaner.state.floatbank5_a_air            14148 non-null  float64\n",
      " 81  secondary_cleaner.state.floatbank5_a_level          14148 non-null  float64\n",
      " 82  secondary_cleaner.state.floatbank5_b_air            14148 non-null  float64\n",
      " 83  secondary_cleaner.state.floatbank5_b_level          14148 non-null  float64\n",
      " 84  secondary_cleaner.state.floatbank6_a_air            14147 non-null  float64\n",
      " 85  secondary_cleaner.state.floatbank6_a_level          14148 non-null  float64\n",
      "dtypes: float64(86)\n",
      "memory usage: 9.4+ MB\n",
      "None\n"
     ]
    },
    {
     "data": {
      "text/html": [
       "<div>\n",
       "<style scoped>\n",
       "    .dataframe tbody tr th:only-of-type {\n",
       "        vertical-align: middle;\n",
       "    }\n",
       "\n",
       "    .dataframe tbody tr th {\n",
       "        vertical-align: top;\n",
       "    }\n",
       "\n",
       "    .dataframe thead th {\n",
       "        text-align: right;\n",
       "    }\n",
       "</style>\n",
       "<table border=\"1\" class=\"dataframe\">\n",
       "  <thead>\n",
       "    <tr style=\"text-align: right;\">\n",
       "      <th></th>\n",
       "      <th>final.output.concentrate_ag</th>\n",
       "      <th>final.output.concentrate_pb</th>\n",
       "      <th>final.output.concentrate_sol</th>\n",
       "      <th>final.output.concentrate_au</th>\n",
       "      <th>final.output.recovery</th>\n",
       "      <th>final.output.tail_ag</th>\n",
       "      <th>final.output.tail_pb</th>\n",
       "      <th>final.output.tail_sol</th>\n",
       "      <th>final.output.tail_au</th>\n",
       "      <th>primary_cleaner.input.sulfate</th>\n",
       "      <th>...</th>\n",
       "      <th>secondary_cleaner.state.floatbank4_a_air</th>\n",
       "      <th>secondary_cleaner.state.floatbank4_a_level</th>\n",
       "      <th>secondary_cleaner.state.floatbank4_b_air</th>\n",
       "      <th>secondary_cleaner.state.floatbank4_b_level</th>\n",
       "      <th>secondary_cleaner.state.floatbank5_a_air</th>\n",
       "      <th>secondary_cleaner.state.floatbank5_a_level</th>\n",
       "      <th>secondary_cleaner.state.floatbank5_b_air</th>\n",
       "      <th>secondary_cleaner.state.floatbank5_b_level</th>\n",
       "      <th>secondary_cleaner.state.floatbank6_a_air</th>\n",
       "      <th>secondary_cleaner.state.floatbank6_a_level</th>\n",
       "    </tr>\n",
       "  </thead>\n",
       "  <tbody>\n",
       "    <tr>\n",
       "      <th>count</th>\n",
       "      <td>14148.000000</td>\n",
       "      <td>14148.000000</td>\n",
       "      <td>13938.000000</td>\n",
       "      <td>14149.000000</td>\n",
       "      <td>14149.000000</td>\n",
       "      <td>14149.000000</td>\n",
       "      <td>14049.000000</td>\n",
       "      <td>14144.000000</td>\n",
       "      <td>14149.000000</td>\n",
       "      <td>14129.000000</td>\n",
       "      <td>...</td>\n",
       "      <td>14143.000000</td>\n",
       "      <td>14148.000000</td>\n",
       "      <td>14148.000000</td>\n",
       "      <td>14148.000000</td>\n",
       "      <td>14148.000000</td>\n",
       "      <td>14148.000000</td>\n",
       "      <td>14148.000000</td>\n",
       "      <td>14148.000000</td>\n",
       "      <td>14147.000000</td>\n",
       "      <td>14148.000000</td>\n",
       "    </tr>\n",
       "    <tr>\n",
       "      <th>mean</th>\n",
       "      <td>5.142034</td>\n",
       "      <td>10.132960</td>\n",
       "      <td>9.202849</td>\n",
       "      <td>44.003792</td>\n",
       "      <td>66.518832</td>\n",
       "      <td>9.607035</td>\n",
       "      <td>2.597298</td>\n",
       "      <td>10.512122</td>\n",
       "      <td>2.918421</td>\n",
       "      <td>133.320659</td>\n",
       "      <td>...</td>\n",
       "      <td>19.985454</td>\n",
       "      <td>-478.696836</td>\n",
       "      <td>15.487065</td>\n",
       "      <td>-460.229416</td>\n",
       "      <td>16.775136</td>\n",
       "      <td>-483.956022</td>\n",
       "      <td>13.064590</td>\n",
       "      <td>-483.966564</td>\n",
       "      <td>19.577539</td>\n",
       "      <td>-506.798480</td>\n",
       "    </tr>\n",
       "    <tr>\n",
       "      <th>std</th>\n",
       "      <td>1.369586</td>\n",
       "      <td>1.654930</td>\n",
       "      <td>2.790516</td>\n",
       "      <td>4.905261</td>\n",
       "      <td>10.295402</td>\n",
       "      <td>2.319069</td>\n",
       "      <td>0.971843</td>\n",
       "      <td>3.003617</td>\n",
       "      <td>0.903712</td>\n",
       "      <td>39.431659</td>\n",
       "      <td>...</td>\n",
       "      <td>5.657723</td>\n",
       "      <td>50.736021</td>\n",
       "      <td>5.255655</td>\n",
       "      <td>58.843586</td>\n",
       "      <td>5.831906</td>\n",
       "      <td>37.892788</td>\n",
       "      <td>5.765617</td>\n",
       "      <td>39.207913</td>\n",
       "      <td>5.764417</td>\n",
       "      <td>37.079249</td>\n",
       "    </tr>\n",
       "    <tr>\n",
       "      <th>min</th>\n",
       "      <td>0.000000</td>\n",
       "      <td>0.000000</td>\n",
       "      <td>0.000000</td>\n",
       "      <td>0.000000</td>\n",
       "      <td>0.000000</td>\n",
       "      <td>0.000000</td>\n",
       "      <td>0.000000</td>\n",
       "      <td>0.000000</td>\n",
       "      <td>0.000000</td>\n",
       "      <td>0.003112</td>\n",
       "      <td>...</td>\n",
       "      <td>0.000000</td>\n",
       "      <td>-799.709069</td>\n",
       "      <td>0.000000</td>\n",
       "      <td>-799.889113</td>\n",
       "      <td>-0.372054</td>\n",
       "      <td>-797.142475</td>\n",
       "      <td>0.646208</td>\n",
       "      <td>-800.006180</td>\n",
       "      <td>0.195324</td>\n",
       "      <td>-809.398668</td>\n",
       "    </tr>\n",
       "    <tr>\n",
       "      <th>25%</th>\n",
       "      <td>4.211620</td>\n",
       "      <td>9.297355</td>\n",
       "      <td>7.484645</td>\n",
       "      <td>43.276111</td>\n",
       "      <td>62.545817</td>\n",
       "      <td>7.997429</td>\n",
       "      <td>1.905973</td>\n",
       "      <td>8.811324</td>\n",
       "      <td>2.368607</td>\n",
       "      <td>107.006651</td>\n",
       "      <td>...</td>\n",
       "      <td>14.990775</td>\n",
       "      <td>-500.628656</td>\n",
       "      <td>11.894558</td>\n",
       "      <td>-500.149000</td>\n",
       "      <td>11.083980</td>\n",
       "      <td>-500.363177</td>\n",
       "      <td>8.994405</td>\n",
       "      <td>-500.105994</td>\n",
       "      <td>14.989304</td>\n",
       "      <td>-500.745104</td>\n",
       "    </tr>\n",
       "    <tr>\n",
       "      <th>50%</th>\n",
       "      <td>4.994652</td>\n",
       "      <td>10.297144</td>\n",
       "      <td>8.845462</td>\n",
       "      <td>44.872436</td>\n",
       "      <td>67.432775</td>\n",
       "      <td>9.480270</td>\n",
       "      <td>2.592022</td>\n",
       "      <td>10.514621</td>\n",
       "      <td>2.851025</td>\n",
       "      <td>133.018328</td>\n",
       "      <td>...</td>\n",
       "      <td>20.001789</td>\n",
       "      <td>-499.681450</td>\n",
       "      <td>14.975536</td>\n",
       "      <td>-499.388738</td>\n",
       "      <td>17.932223</td>\n",
       "      <td>-499.702452</td>\n",
       "      <td>11.997547</td>\n",
       "      <td>-499.914556</td>\n",
       "      <td>19.984175</td>\n",
       "      <td>-500.061431</td>\n",
       "    </tr>\n",
       "    <tr>\n",
       "      <th>75%</th>\n",
       "      <td>5.859540</td>\n",
       "      <td>11.170603</td>\n",
       "      <td>10.487508</td>\n",
       "      <td>46.166425</td>\n",
       "      <td>72.346428</td>\n",
       "      <td>11.003707</td>\n",
       "      <td>3.241723</td>\n",
       "      <td>11.933009</td>\n",
       "      <td>3.434764</td>\n",
       "      <td>159.825396</td>\n",
       "      <td>...</td>\n",
       "      <td>24.990826</td>\n",
       "      <td>-477.472413</td>\n",
       "      <td>20.059375</td>\n",
       "      <td>-400.039008</td>\n",
       "      <td>21.346550</td>\n",
       "      <td>-487.712108</td>\n",
       "      <td>17.982903</td>\n",
       "      <td>-453.186936</td>\n",
       "      <td>24.991623</td>\n",
       "      <td>-499.536466</td>\n",
       "    </tr>\n",
       "    <tr>\n",
       "      <th>max</th>\n",
       "      <td>16.001945</td>\n",
       "      <td>17.031899</td>\n",
       "      <td>18.124851</td>\n",
       "      <td>52.756638</td>\n",
       "      <td>100.000000</td>\n",
       "      <td>19.552149</td>\n",
       "      <td>5.639565</td>\n",
       "      <td>22.317730</td>\n",
       "      <td>8.197408</td>\n",
       "      <td>250.127834</td>\n",
       "      <td>...</td>\n",
       "      <td>30.115735</td>\n",
       "      <td>-245.239184</td>\n",
       "      <td>24.007913</td>\n",
       "      <td>-145.071088</td>\n",
       "      <td>43.709931</td>\n",
       "      <td>-275.073125</td>\n",
       "      <td>27.926001</td>\n",
       "      <td>-157.396071</td>\n",
       "      <td>32.188906</td>\n",
       "      <td>-104.427459</td>\n",
       "    </tr>\n",
       "  </tbody>\n",
       "</table>\n",
       "<p>8 rows × 86 columns</p>\n",
       "</div>"
      ],
      "text/plain": [
       "       final.output.concentrate_ag  final.output.concentrate_pb  \\\n",
       "count                 14148.000000                 14148.000000   \n",
       "mean                      5.142034                    10.132960   \n",
       "std                       1.369586                     1.654930   \n",
       "min                       0.000000                     0.000000   \n",
       "25%                       4.211620                     9.297355   \n",
       "50%                       4.994652                    10.297144   \n",
       "75%                       5.859540                    11.170603   \n",
       "max                      16.001945                    17.031899   \n",
       "\n",
       "       final.output.concentrate_sol  final.output.concentrate_au  \\\n",
       "count                  13938.000000                 14149.000000   \n",
       "mean                       9.202849                    44.003792   \n",
       "std                        2.790516                     4.905261   \n",
       "min                        0.000000                     0.000000   \n",
       "25%                        7.484645                    43.276111   \n",
       "50%                        8.845462                    44.872436   \n",
       "75%                       10.487508                    46.166425   \n",
       "max                       18.124851                    52.756638   \n",
       "\n",
       "       final.output.recovery  final.output.tail_ag  final.output.tail_pb  \\\n",
       "count           14149.000000          14149.000000          14049.000000   \n",
       "mean               66.518832              9.607035              2.597298   \n",
       "std                10.295402              2.319069              0.971843   \n",
       "min                 0.000000              0.000000              0.000000   \n",
       "25%                62.545817              7.997429              1.905973   \n",
       "50%                67.432775              9.480270              2.592022   \n",
       "75%                72.346428             11.003707              3.241723   \n",
       "max               100.000000             19.552149              5.639565   \n",
       "\n",
       "       final.output.tail_sol  final.output.tail_au  \\\n",
       "count           14144.000000          14149.000000   \n",
       "mean               10.512122              2.918421   \n",
       "std                 3.003617              0.903712   \n",
       "min                 0.000000              0.000000   \n",
       "25%                 8.811324              2.368607   \n",
       "50%                10.514621              2.851025   \n",
       "75%                11.933009              3.434764   \n",
       "max                22.317730              8.197408   \n",
       "\n",
       "       primary_cleaner.input.sulfate  ...  \\\n",
       "count                   14129.000000  ...   \n",
       "mean                      133.320659  ...   \n",
       "std                        39.431659  ...   \n",
       "min                         0.003112  ...   \n",
       "25%                       107.006651  ...   \n",
       "50%                       133.018328  ...   \n",
       "75%                       159.825396  ...   \n",
       "max                       250.127834  ...   \n",
       "\n",
       "       secondary_cleaner.state.floatbank4_a_air  \\\n",
       "count                              14143.000000   \n",
       "mean                                  19.985454   \n",
       "std                                    5.657723   \n",
       "min                                    0.000000   \n",
       "25%                                   14.990775   \n",
       "50%                                   20.001789   \n",
       "75%                                   24.990826   \n",
       "max                                   30.115735   \n",
       "\n",
       "       secondary_cleaner.state.floatbank4_a_level  \\\n",
       "count                                14148.000000   \n",
       "mean                                  -478.696836   \n",
       "std                                     50.736021   \n",
       "min                                   -799.709069   \n",
       "25%                                   -500.628656   \n",
       "50%                                   -499.681450   \n",
       "75%                                   -477.472413   \n",
       "max                                   -245.239184   \n",
       "\n",
       "       secondary_cleaner.state.floatbank4_b_air  \\\n",
       "count                              14148.000000   \n",
       "mean                                  15.487065   \n",
       "std                                    5.255655   \n",
       "min                                    0.000000   \n",
       "25%                                   11.894558   \n",
       "50%                                   14.975536   \n",
       "75%                                   20.059375   \n",
       "max                                   24.007913   \n",
       "\n",
       "       secondary_cleaner.state.floatbank4_b_level  \\\n",
       "count                                14148.000000   \n",
       "mean                                  -460.229416   \n",
       "std                                     58.843586   \n",
       "min                                   -799.889113   \n",
       "25%                                   -500.149000   \n",
       "50%                                   -499.388738   \n",
       "75%                                   -400.039008   \n",
       "max                                   -145.071088   \n",
       "\n",
       "       secondary_cleaner.state.floatbank5_a_air  \\\n",
       "count                              14148.000000   \n",
       "mean                                  16.775136   \n",
       "std                                    5.831906   \n",
       "min                                   -0.372054   \n",
       "25%                                   11.083980   \n",
       "50%                                   17.932223   \n",
       "75%                                   21.346550   \n",
       "max                                   43.709931   \n",
       "\n",
       "       secondary_cleaner.state.floatbank5_a_level  \\\n",
       "count                                14148.000000   \n",
       "mean                                  -483.956022   \n",
       "std                                     37.892788   \n",
       "min                                   -797.142475   \n",
       "25%                                   -500.363177   \n",
       "50%                                   -499.702452   \n",
       "75%                                   -487.712108   \n",
       "max                                   -275.073125   \n",
       "\n",
       "       secondary_cleaner.state.floatbank5_b_air  \\\n",
       "count                              14148.000000   \n",
       "mean                                  13.064590   \n",
       "std                                    5.765617   \n",
       "min                                    0.646208   \n",
       "25%                                    8.994405   \n",
       "50%                                   11.997547   \n",
       "75%                                   17.982903   \n",
       "max                                   27.926001   \n",
       "\n",
       "       secondary_cleaner.state.floatbank5_b_level  \\\n",
       "count                                14148.000000   \n",
       "mean                                  -483.966564   \n",
       "std                                     39.207913   \n",
       "min                                   -800.006180   \n",
       "25%                                   -500.105994   \n",
       "50%                                   -499.914556   \n",
       "75%                                   -453.186936   \n",
       "max                                   -157.396071   \n",
       "\n",
       "       secondary_cleaner.state.floatbank6_a_air  \\\n",
       "count                              14147.000000   \n",
       "mean                                  19.577539   \n",
       "std                                    5.764417   \n",
       "min                                    0.195324   \n",
       "25%                                   14.989304   \n",
       "50%                                   19.984175   \n",
       "75%                                   24.991623   \n",
       "max                                   32.188906   \n",
       "\n",
       "       secondary_cleaner.state.floatbank6_a_level  \n",
       "count                                14148.000000  \n",
       "mean                                  -506.798480  \n",
       "std                                     37.079249  \n",
       "min                                   -809.398668  \n",
       "25%                                   -500.745104  \n",
       "50%                                   -500.061431  \n",
       "75%                                   -499.536466  \n",
       "max                                   -104.427459  \n",
       "\n",
       "[8 rows x 86 columns]"
      ]
     },
     "metadata": {},
     "output_type": "display_data"
    },
    {
     "name": "stdout",
     "output_type": "stream",
     "text": [
      "****************************************\n"
     ]
    },
    {
     "data": {
      "text/html": [
       "<div>\n",
       "<style scoped>\n",
       "    .dataframe tbody tr th:only-of-type {\n",
       "        vertical-align: middle;\n",
       "    }\n",
       "\n",
       "    .dataframe tbody tr th {\n",
       "        vertical-align: top;\n",
       "    }\n",
       "\n",
       "    .dataframe thead th {\n",
       "        text-align: right;\n",
       "    }\n",
       "</style>\n",
       "<table border=\"1\" class=\"dataframe\">\n",
       "  <thead>\n",
       "    <tr style=\"text-align: right;\">\n",
       "      <th></th>\n",
       "      <th>primary_cleaner.input.sulfate</th>\n",
       "      <th>primary_cleaner.input.depressant</th>\n",
       "      <th>primary_cleaner.input.feed_size</th>\n",
       "      <th>primary_cleaner.input.xanthate</th>\n",
       "      <th>primary_cleaner.state.floatbank8_a_air</th>\n",
       "      <th>primary_cleaner.state.floatbank8_a_level</th>\n",
       "      <th>primary_cleaner.state.floatbank8_b_air</th>\n",
       "      <th>primary_cleaner.state.floatbank8_b_level</th>\n",
       "      <th>primary_cleaner.state.floatbank8_c_air</th>\n",
       "      <th>primary_cleaner.state.floatbank8_c_level</th>\n",
       "      <th>...</th>\n",
       "      <th>secondary_cleaner.state.floatbank4_a_air</th>\n",
       "      <th>secondary_cleaner.state.floatbank4_a_level</th>\n",
       "      <th>secondary_cleaner.state.floatbank4_b_air</th>\n",
       "      <th>secondary_cleaner.state.floatbank4_b_level</th>\n",
       "      <th>secondary_cleaner.state.floatbank5_a_air</th>\n",
       "      <th>secondary_cleaner.state.floatbank5_a_level</th>\n",
       "      <th>secondary_cleaner.state.floatbank5_b_air</th>\n",
       "      <th>secondary_cleaner.state.floatbank5_b_level</th>\n",
       "      <th>secondary_cleaner.state.floatbank6_a_air</th>\n",
       "      <th>secondary_cleaner.state.floatbank6_a_level</th>\n",
       "    </tr>\n",
       "    <tr>\n",
       "      <th>date</th>\n",
       "      <th></th>\n",
       "      <th></th>\n",
       "      <th></th>\n",
       "      <th></th>\n",
       "      <th></th>\n",
       "      <th></th>\n",
       "      <th></th>\n",
       "      <th></th>\n",
       "      <th></th>\n",
       "      <th></th>\n",
       "      <th></th>\n",
       "      <th></th>\n",
       "      <th></th>\n",
       "      <th></th>\n",
       "      <th></th>\n",
       "      <th></th>\n",
       "      <th></th>\n",
       "      <th></th>\n",
       "      <th></th>\n",
       "      <th></th>\n",
       "      <th></th>\n",
       "    </tr>\n",
       "  </thead>\n",
       "  <tbody>\n",
       "    <tr>\n",
       "      <th>2016-09-01 00:59:59</th>\n",
       "      <td>210.800909</td>\n",
       "      <td>14.993118</td>\n",
       "      <td>8.080000</td>\n",
       "      <td>1.005021</td>\n",
       "      <td>1398.981301</td>\n",
       "      <td>-500.225577</td>\n",
       "      <td>1399.144926</td>\n",
       "      <td>-499.919735</td>\n",
       "      <td>1400.102998</td>\n",
       "      <td>-500.704369</td>\n",
       "      <td>...</td>\n",
       "      <td>12.023554</td>\n",
       "      <td>-497.795834</td>\n",
       "      <td>8.016656</td>\n",
       "      <td>-501.289139</td>\n",
       "      <td>7.946562</td>\n",
       "      <td>-432.317850</td>\n",
       "      <td>4.872511</td>\n",
       "      <td>-500.037437</td>\n",
       "      <td>26.705889</td>\n",
       "      <td>-499.709414</td>\n",
       "    </tr>\n",
       "    <tr>\n",
       "      <th>2016-09-01 01:59:59</th>\n",
       "      <td>215.392455</td>\n",
       "      <td>14.987471</td>\n",
       "      <td>8.080000</td>\n",
       "      <td>0.990469</td>\n",
       "      <td>1398.777912</td>\n",
       "      <td>-500.057435</td>\n",
       "      <td>1398.055362</td>\n",
       "      <td>-499.778182</td>\n",
       "      <td>1396.151033</td>\n",
       "      <td>-499.240168</td>\n",
       "      <td>...</td>\n",
       "      <td>12.058140</td>\n",
       "      <td>-498.695773</td>\n",
       "      <td>8.130979</td>\n",
       "      <td>-499.634209</td>\n",
       "      <td>7.958270</td>\n",
       "      <td>-525.839648</td>\n",
       "      <td>4.878850</td>\n",
       "      <td>-500.162375</td>\n",
       "      <td>25.019940</td>\n",
       "      <td>-499.819438</td>\n",
       "    </tr>\n",
       "    <tr>\n",
       "      <th>2016-09-01 02:59:59</th>\n",
       "      <td>215.259946</td>\n",
       "      <td>12.884934</td>\n",
       "      <td>7.786667</td>\n",
       "      <td>0.996043</td>\n",
       "      <td>1398.493666</td>\n",
       "      <td>-500.868360</td>\n",
       "      <td>1398.860436</td>\n",
       "      <td>-499.764529</td>\n",
       "      <td>1398.075709</td>\n",
       "      <td>-502.151509</td>\n",
       "      <td>...</td>\n",
       "      <td>11.962366</td>\n",
       "      <td>-498.767484</td>\n",
       "      <td>8.096893</td>\n",
       "      <td>-500.827423</td>\n",
       "      <td>8.071056</td>\n",
       "      <td>-500.801673</td>\n",
       "      <td>4.905125</td>\n",
       "      <td>-499.828510</td>\n",
       "      <td>24.994862</td>\n",
       "      <td>-500.622559</td>\n",
       "    </tr>\n",
       "    <tr>\n",
       "      <th>2016-09-01 03:59:59</th>\n",
       "      <td>215.336236</td>\n",
       "      <td>12.006805</td>\n",
       "      <td>7.640000</td>\n",
       "      <td>0.863514</td>\n",
       "      <td>1399.618111</td>\n",
       "      <td>-498.863574</td>\n",
       "      <td>1397.440120</td>\n",
       "      <td>-499.211024</td>\n",
       "      <td>1400.129303</td>\n",
       "      <td>-498.355873</td>\n",
       "      <td>...</td>\n",
       "      <td>12.033091</td>\n",
       "      <td>-498.350935</td>\n",
       "      <td>8.074946</td>\n",
       "      <td>-499.474407</td>\n",
       "      <td>7.897085</td>\n",
       "      <td>-500.868509</td>\n",
       "      <td>4.931400</td>\n",
       "      <td>-499.963623</td>\n",
       "      <td>24.948919</td>\n",
       "      <td>-498.709987</td>\n",
       "    </tr>\n",
       "    <tr>\n",
       "      <th>2016-09-01 04:59:59</th>\n",
       "      <td>199.099327</td>\n",
       "      <td>10.682530</td>\n",
       "      <td>7.530000</td>\n",
       "      <td>0.805575</td>\n",
       "      <td>1401.268123</td>\n",
       "      <td>-500.808305</td>\n",
       "      <td>1398.128818</td>\n",
       "      <td>-499.504543</td>\n",
       "      <td>1402.172226</td>\n",
       "      <td>-500.810606</td>\n",
       "      <td>...</td>\n",
       "      <td>12.025367</td>\n",
       "      <td>-500.786497</td>\n",
       "      <td>8.054678</td>\n",
       "      <td>-500.397500</td>\n",
       "      <td>8.107890</td>\n",
       "      <td>-509.526725</td>\n",
       "      <td>4.957674</td>\n",
       "      <td>-500.360026</td>\n",
       "      <td>25.003331</td>\n",
       "      <td>-500.856333</td>\n",
       "    </tr>\n",
       "  </tbody>\n",
       "</table>\n",
       "<p>5 rows × 52 columns</p>\n",
       "</div>"
      ],
      "text/plain": [
       "                     primary_cleaner.input.sulfate  \\\n",
       "date                                                 \n",
       "2016-09-01 00:59:59                     210.800909   \n",
       "2016-09-01 01:59:59                     215.392455   \n",
       "2016-09-01 02:59:59                     215.259946   \n",
       "2016-09-01 03:59:59                     215.336236   \n",
       "2016-09-01 04:59:59                     199.099327   \n",
       "\n",
       "                     primary_cleaner.input.depressant  \\\n",
       "date                                                    \n",
       "2016-09-01 00:59:59                         14.993118   \n",
       "2016-09-01 01:59:59                         14.987471   \n",
       "2016-09-01 02:59:59                         12.884934   \n",
       "2016-09-01 03:59:59                         12.006805   \n",
       "2016-09-01 04:59:59                         10.682530   \n",
       "\n",
       "                     primary_cleaner.input.feed_size  \\\n",
       "date                                                   \n",
       "2016-09-01 00:59:59                         8.080000   \n",
       "2016-09-01 01:59:59                         8.080000   \n",
       "2016-09-01 02:59:59                         7.786667   \n",
       "2016-09-01 03:59:59                         7.640000   \n",
       "2016-09-01 04:59:59                         7.530000   \n",
       "\n",
       "                     primary_cleaner.input.xanthate  \\\n",
       "date                                                  \n",
       "2016-09-01 00:59:59                        1.005021   \n",
       "2016-09-01 01:59:59                        0.990469   \n",
       "2016-09-01 02:59:59                        0.996043   \n",
       "2016-09-01 03:59:59                        0.863514   \n",
       "2016-09-01 04:59:59                        0.805575   \n",
       "\n",
       "                     primary_cleaner.state.floatbank8_a_air  \\\n",
       "date                                                          \n",
       "2016-09-01 00:59:59                             1398.981301   \n",
       "2016-09-01 01:59:59                             1398.777912   \n",
       "2016-09-01 02:59:59                             1398.493666   \n",
       "2016-09-01 03:59:59                             1399.618111   \n",
       "2016-09-01 04:59:59                             1401.268123   \n",
       "\n",
       "                     primary_cleaner.state.floatbank8_a_level  \\\n",
       "date                                                            \n",
       "2016-09-01 00:59:59                               -500.225577   \n",
       "2016-09-01 01:59:59                               -500.057435   \n",
       "2016-09-01 02:59:59                               -500.868360   \n",
       "2016-09-01 03:59:59                               -498.863574   \n",
       "2016-09-01 04:59:59                               -500.808305   \n",
       "\n",
       "                     primary_cleaner.state.floatbank8_b_air  \\\n",
       "date                                                          \n",
       "2016-09-01 00:59:59                             1399.144926   \n",
       "2016-09-01 01:59:59                             1398.055362   \n",
       "2016-09-01 02:59:59                             1398.860436   \n",
       "2016-09-01 03:59:59                             1397.440120   \n",
       "2016-09-01 04:59:59                             1398.128818   \n",
       "\n",
       "                     primary_cleaner.state.floatbank8_b_level  \\\n",
       "date                                                            \n",
       "2016-09-01 00:59:59                               -499.919735   \n",
       "2016-09-01 01:59:59                               -499.778182   \n",
       "2016-09-01 02:59:59                               -499.764529   \n",
       "2016-09-01 03:59:59                               -499.211024   \n",
       "2016-09-01 04:59:59                               -499.504543   \n",
       "\n",
       "                     primary_cleaner.state.floatbank8_c_air  \\\n",
       "date                                                          \n",
       "2016-09-01 00:59:59                             1400.102998   \n",
       "2016-09-01 01:59:59                             1396.151033   \n",
       "2016-09-01 02:59:59                             1398.075709   \n",
       "2016-09-01 03:59:59                             1400.129303   \n",
       "2016-09-01 04:59:59                             1402.172226   \n",
       "\n",
       "                     primary_cleaner.state.floatbank8_c_level  ...  \\\n",
       "date                                                           ...   \n",
       "2016-09-01 00:59:59                               -500.704369  ...   \n",
       "2016-09-01 01:59:59                               -499.240168  ...   \n",
       "2016-09-01 02:59:59                               -502.151509  ...   \n",
       "2016-09-01 03:59:59                               -498.355873  ...   \n",
       "2016-09-01 04:59:59                               -500.810606  ...   \n",
       "\n",
       "                     secondary_cleaner.state.floatbank4_a_air  \\\n",
       "date                                                            \n",
       "2016-09-01 00:59:59                                 12.023554   \n",
       "2016-09-01 01:59:59                                 12.058140   \n",
       "2016-09-01 02:59:59                                 11.962366   \n",
       "2016-09-01 03:59:59                                 12.033091   \n",
       "2016-09-01 04:59:59                                 12.025367   \n",
       "\n",
       "                     secondary_cleaner.state.floatbank4_a_level  \\\n",
       "date                                                              \n",
       "2016-09-01 00:59:59                                 -497.795834   \n",
       "2016-09-01 01:59:59                                 -498.695773   \n",
       "2016-09-01 02:59:59                                 -498.767484   \n",
       "2016-09-01 03:59:59                                 -498.350935   \n",
       "2016-09-01 04:59:59                                 -500.786497   \n",
       "\n",
       "                     secondary_cleaner.state.floatbank4_b_air  \\\n",
       "date                                                            \n",
       "2016-09-01 00:59:59                                  8.016656   \n",
       "2016-09-01 01:59:59                                  8.130979   \n",
       "2016-09-01 02:59:59                                  8.096893   \n",
       "2016-09-01 03:59:59                                  8.074946   \n",
       "2016-09-01 04:59:59                                  8.054678   \n",
       "\n",
       "                     secondary_cleaner.state.floatbank4_b_level  \\\n",
       "date                                                              \n",
       "2016-09-01 00:59:59                                 -501.289139   \n",
       "2016-09-01 01:59:59                                 -499.634209   \n",
       "2016-09-01 02:59:59                                 -500.827423   \n",
       "2016-09-01 03:59:59                                 -499.474407   \n",
       "2016-09-01 04:59:59                                 -500.397500   \n",
       "\n",
       "                     secondary_cleaner.state.floatbank5_a_air  \\\n",
       "date                                                            \n",
       "2016-09-01 00:59:59                                  7.946562   \n",
       "2016-09-01 01:59:59                                  7.958270   \n",
       "2016-09-01 02:59:59                                  8.071056   \n",
       "2016-09-01 03:59:59                                  7.897085   \n",
       "2016-09-01 04:59:59                                  8.107890   \n",
       "\n",
       "                     secondary_cleaner.state.floatbank5_a_level  \\\n",
       "date                                                              \n",
       "2016-09-01 00:59:59                                 -432.317850   \n",
       "2016-09-01 01:59:59                                 -525.839648   \n",
       "2016-09-01 02:59:59                                 -500.801673   \n",
       "2016-09-01 03:59:59                                 -500.868509   \n",
       "2016-09-01 04:59:59                                 -509.526725   \n",
       "\n",
       "                     secondary_cleaner.state.floatbank5_b_air  \\\n",
       "date                                                            \n",
       "2016-09-01 00:59:59                                  4.872511   \n",
       "2016-09-01 01:59:59                                  4.878850   \n",
       "2016-09-01 02:59:59                                  4.905125   \n",
       "2016-09-01 03:59:59                                  4.931400   \n",
       "2016-09-01 04:59:59                                  4.957674   \n",
       "\n",
       "                     secondary_cleaner.state.floatbank5_b_level  \\\n",
       "date                                                              \n",
       "2016-09-01 00:59:59                                 -500.037437   \n",
       "2016-09-01 01:59:59                                 -500.162375   \n",
       "2016-09-01 02:59:59                                 -499.828510   \n",
       "2016-09-01 03:59:59                                 -499.963623   \n",
       "2016-09-01 04:59:59                                 -500.360026   \n",
       "\n",
       "                     secondary_cleaner.state.floatbank6_a_air  \\\n",
       "date                                                            \n",
       "2016-09-01 00:59:59                                 26.705889   \n",
       "2016-09-01 01:59:59                                 25.019940   \n",
       "2016-09-01 02:59:59                                 24.994862   \n",
       "2016-09-01 03:59:59                                 24.948919   \n",
       "2016-09-01 04:59:59                                 25.003331   \n",
       "\n",
       "                     secondary_cleaner.state.floatbank6_a_level  \n",
       "date                                                             \n",
       "2016-09-01 00:59:59                                 -499.709414  \n",
       "2016-09-01 01:59:59                                 -499.819438  \n",
       "2016-09-01 02:59:59                                 -500.622559  \n",
       "2016-09-01 03:59:59                                 -498.709987  \n",
       "2016-09-01 04:59:59                                 -500.856333  \n",
       "\n",
       "[5 rows x 52 columns]"
      ]
     },
     "metadata": {},
     "output_type": "display_data"
    },
    {
     "name": "stdout",
     "output_type": "stream",
     "text": [
      "<class 'pandas.core.frame.DataFrame'>\n",
      "Index: 5290 entries, 2016-09-01 00:59:59 to 2017-12-31 23:59:59\n",
      "Data columns (total 52 columns):\n",
      " #   Column                                      Non-Null Count  Dtype  \n",
      "---  ------                                      --------------  -----  \n",
      " 0   primary_cleaner.input.sulfate               5286 non-null   float64\n",
      " 1   primary_cleaner.input.depressant            5285 non-null   float64\n",
      " 2   primary_cleaner.input.feed_size             5290 non-null   float64\n",
      " 3   primary_cleaner.input.xanthate              5286 non-null   float64\n",
      " 4   primary_cleaner.state.floatbank8_a_air      5290 non-null   float64\n",
      " 5   primary_cleaner.state.floatbank8_a_level    5290 non-null   float64\n",
      " 6   primary_cleaner.state.floatbank8_b_air      5290 non-null   float64\n",
      " 7   primary_cleaner.state.floatbank8_b_level    5290 non-null   float64\n",
      " 8   primary_cleaner.state.floatbank8_c_air      5290 non-null   float64\n",
      " 9   primary_cleaner.state.floatbank8_c_level    5290 non-null   float64\n",
      " 10  primary_cleaner.state.floatbank8_d_air      5290 non-null   float64\n",
      " 11  primary_cleaner.state.floatbank8_d_level    5290 non-null   float64\n",
      " 12  rougher.input.feed_ag                       5290 non-null   float64\n",
      " 13  rougher.input.feed_pb                       5290 non-null   float64\n",
      " 14  rougher.input.feed_rate                     5287 non-null   float64\n",
      " 15  rougher.input.feed_size                     5289 non-null   float64\n",
      " 16  rougher.input.feed_sol                      5269 non-null   float64\n",
      " 17  rougher.input.feed_au                       5290 non-null   float64\n",
      " 18  rougher.input.floatbank10_sulfate           5285 non-null   float64\n",
      " 19  rougher.input.floatbank10_xanthate          5290 non-null   float64\n",
      " 20  rougher.input.floatbank11_sulfate           5282 non-null   float64\n",
      " 21  rougher.input.floatbank11_xanthate          5265 non-null   float64\n",
      " 22  rougher.state.floatbank10_a_air             5290 non-null   float64\n",
      " 23  rougher.state.floatbank10_a_level           5290 non-null   float64\n",
      " 24  rougher.state.floatbank10_b_air             5290 non-null   float64\n",
      " 25  rougher.state.floatbank10_b_level           5290 non-null   float64\n",
      " 26  rougher.state.floatbank10_c_air             5290 non-null   float64\n",
      " 27  rougher.state.floatbank10_c_level           5290 non-null   float64\n",
      " 28  rougher.state.floatbank10_d_air             5290 non-null   float64\n",
      " 29  rougher.state.floatbank10_d_level           5290 non-null   float64\n",
      " 30  rougher.state.floatbank10_e_air             5290 non-null   float64\n",
      " 31  rougher.state.floatbank10_e_level           5290 non-null   float64\n",
      " 32  rougher.state.floatbank10_f_air             5290 non-null   float64\n",
      " 33  rougher.state.floatbank10_f_level           5290 non-null   float64\n",
      " 34  secondary_cleaner.state.floatbank2_a_air    5287 non-null   float64\n",
      " 35  secondary_cleaner.state.floatbank2_a_level  5290 non-null   float64\n",
      " 36  secondary_cleaner.state.floatbank2_b_air    5288 non-null   float64\n",
      " 37  secondary_cleaner.state.floatbank2_b_level  5290 non-null   float64\n",
      " 38  secondary_cleaner.state.floatbank3_a_air    5281 non-null   float64\n",
      " 39  secondary_cleaner.state.floatbank3_a_level  5290 non-null   float64\n",
      " 40  secondary_cleaner.state.floatbank3_b_air    5290 non-null   float64\n",
      " 41  secondary_cleaner.state.floatbank3_b_level  5290 non-null   float64\n",
      " 42  secondary_cleaner.state.floatbank4_a_air    5290 non-null   float64\n",
      " 43  secondary_cleaner.state.floatbank4_a_level  5290 non-null   float64\n",
      " 44  secondary_cleaner.state.floatbank4_b_air    5290 non-null   float64\n",
      " 45  secondary_cleaner.state.floatbank4_b_level  5290 non-null   float64\n",
      " 46  secondary_cleaner.state.floatbank5_a_air    5290 non-null   float64\n",
      " 47  secondary_cleaner.state.floatbank5_a_level  5290 non-null   float64\n",
      " 48  secondary_cleaner.state.floatbank5_b_air    5290 non-null   float64\n",
      " 49  secondary_cleaner.state.floatbank5_b_level  5290 non-null   float64\n",
      " 50  secondary_cleaner.state.floatbank6_a_air    5290 non-null   float64\n",
      " 51  secondary_cleaner.state.floatbank6_a_level  5290 non-null   float64\n",
      "dtypes: float64(52)\n",
      "memory usage: 2.1+ MB\n",
      "None\n"
     ]
    },
    {
     "data": {
      "text/html": [
       "<div>\n",
       "<style scoped>\n",
       "    .dataframe tbody tr th:only-of-type {\n",
       "        vertical-align: middle;\n",
       "    }\n",
       "\n",
       "    .dataframe tbody tr th {\n",
       "        vertical-align: top;\n",
       "    }\n",
       "\n",
       "    .dataframe thead th {\n",
       "        text-align: right;\n",
       "    }\n",
       "</style>\n",
       "<table border=\"1\" class=\"dataframe\">\n",
       "  <thead>\n",
       "    <tr style=\"text-align: right;\">\n",
       "      <th></th>\n",
       "      <th>primary_cleaner.input.sulfate</th>\n",
       "      <th>primary_cleaner.input.depressant</th>\n",
       "      <th>primary_cleaner.input.feed_size</th>\n",
       "      <th>primary_cleaner.input.xanthate</th>\n",
       "      <th>primary_cleaner.state.floatbank8_a_air</th>\n",
       "      <th>primary_cleaner.state.floatbank8_a_level</th>\n",
       "      <th>primary_cleaner.state.floatbank8_b_air</th>\n",
       "      <th>primary_cleaner.state.floatbank8_b_level</th>\n",
       "      <th>primary_cleaner.state.floatbank8_c_air</th>\n",
       "      <th>primary_cleaner.state.floatbank8_c_level</th>\n",
       "      <th>...</th>\n",
       "      <th>secondary_cleaner.state.floatbank4_a_air</th>\n",
       "      <th>secondary_cleaner.state.floatbank4_a_level</th>\n",
       "      <th>secondary_cleaner.state.floatbank4_b_air</th>\n",
       "      <th>secondary_cleaner.state.floatbank4_b_level</th>\n",
       "      <th>secondary_cleaner.state.floatbank5_a_air</th>\n",
       "      <th>secondary_cleaner.state.floatbank5_a_level</th>\n",
       "      <th>secondary_cleaner.state.floatbank5_b_air</th>\n",
       "      <th>secondary_cleaner.state.floatbank5_b_level</th>\n",
       "      <th>secondary_cleaner.state.floatbank6_a_air</th>\n",
       "      <th>secondary_cleaner.state.floatbank6_a_level</th>\n",
       "    </tr>\n",
       "  </thead>\n",
       "  <tbody>\n",
       "    <tr>\n",
       "      <th>count</th>\n",
       "      <td>5286.000000</td>\n",
       "      <td>5285.000000</td>\n",
       "      <td>5290.000000</td>\n",
       "      <td>5286.000000</td>\n",
       "      <td>5.290000e+03</td>\n",
       "      <td>5290.000000</td>\n",
       "      <td>5.290000e+03</td>\n",
       "      <td>5290.000000</td>\n",
       "      <td>5.290000e+03</td>\n",
       "      <td>5290.000000</td>\n",
       "      <td>...</td>\n",
       "      <td>5.290000e+03</td>\n",
       "      <td>5290.000000</td>\n",
       "      <td>5.290000e+03</td>\n",
       "      <td>5290.000000</td>\n",
       "      <td>5290.000000</td>\n",
       "      <td>5290.000000</td>\n",
       "      <td>5290.000000</td>\n",
       "      <td>5290.000000</td>\n",
       "      <td>5290.000000</td>\n",
       "      <td>5290.000000</td>\n",
       "    </tr>\n",
       "    <tr>\n",
       "      <th>mean</th>\n",
       "      <td>174.839652</td>\n",
       "      <td>8.683596</td>\n",
       "      <td>7.266339</td>\n",
       "      <td>1.383803</td>\n",
       "      <td>1.539494e+03</td>\n",
       "      <td>-497.665883</td>\n",
       "      <td>1.545174e+03</td>\n",
       "      <td>-500.273098</td>\n",
       "      <td>1.527272e+03</td>\n",
       "      <td>-498.330680</td>\n",
       "      <td>...</td>\n",
       "      <td>1.632007e+01</td>\n",
       "      <td>-505.144570</td>\n",
       "      <td>1.373544e+01</td>\n",
       "      <td>-463.349858</td>\n",
       "      <td>12.804186</td>\n",
       "      <td>-501.329122</td>\n",
       "      <td>9.881145</td>\n",
       "      <td>-495.663398</td>\n",
       "      <td>17.304935</td>\n",
       "      <td>-501.793193</td>\n",
       "    </tr>\n",
       "    <tr>\n",
       "      <th>std</th>\n",
       "      <td>43.027080</td>\n",
       "      <td>3.072050</td>\n",
       "      <td>0.610219</td>\n",
       "      <td>0.643474</td>\n",
       "      <td>1.167979e+02</td>\n",
       "      <td>19.952431</td>\n",
       "      <td>1.222246e+02</td>\n",
       "      <td>32.968307</td>\n",
       "      <td>1.225380e+02</td>\n",
       "      <td>21.964876</td>\n",
       "      <td>...</td>\n",
       "      <td>3.493583e+00</td>\n",
       "      <td>31.427337</td>\n",
       "      <td>3.430484e+00</td>\n",
       "      <td>86.189107</td>\n",
       "      <td>3.026591</td>\n",
       "      <td>17.951495</td>\n",
       "      <td>2.868205</td>\n",
       "      <td>34.535007</td>\n",
       "      <td>4.536544</td>\n",
       "      <td>39.044215</td>\n",
       "    </tr>\n",
       "    <tr>\n",
       "      <th>min</th>\n",
       "      <td>2.566156</td>\n",
       "      <td>0.003839</td>\n",
       "      <td>5.650000</td>\n",
       "      <td>0.004984</td>\n",
       "      <td>5.445860e-32</td>\n",
       "      <td>-795.316337</td>\n",
       "      <td>6.647490e-32</td>\n",
       "      <td>-799.997015</td>\n",
       "      <td>4.033736e-32</td>\n",
       "      <td>-799.960571</td>\n",
       "      <td>...</td>\n",
       "      <td>1.079872e-16</td>\n",
       "      <td>-799.798523</td>\n",
       "      <td>2.489718e-17</td>\n",
       "      <td>-800.836914</td>\n",
       "      <td>0.069227</td>\n",
       "      <td>-797.323986</td>\n",
       "      <td>0.528083</td>\n",
       "      <td>-800.220337</td>\n",
       "      <td>-0.079426</td>\n",
       "      <td>-809.741464</td>\n",
       "    </tr>\n",
       "    <tr>\n",
       "      <th>25%</th>\n",
       "      <td>147.121401</td>\n",
       "      <td>6.489555</td>\n",
       "      <td>6.890000</td>\n",
       "      <td>0.907623</td>\n",
       "      <td>1.498936e+03</td>\n",
       "      <td>-500.357298</td>\n",
       "      <td>1.498971e+03</td>\n",
       "      <td>-500.703002</td>\n",
       "      <td>1.473230e+03</td>\n",
       "      <td>-501.018117</td>\n",
       "      <td>...</td>\n",
       "      <td>1.403618e+01</td>\n",
       "      <td>-500.868258</td>\n",
       "      <td>1.202862e+01</td>\n",
       "      <td>-500.323028</td>\n",
       "      <td>10.914838</td>\n",
       "      <td>-500.726841</td>\n",
       "      <td>8.036719</td>\n",
       "      <td>-500.194668</td>\n",
       "      <td>13.997317</td>\n",
       "      <td>-500.690984</td>\n",
       "    </tr>\n",
       "    <tr>\n",
       "      <th>50%</th>\n",
       "      <td>177.828489</td>\n",
       "      <td>8.052207</td>\n",
       "      <td>7.250000</td>\n",
       "      <td>1.197610</td>\n",
       "      <td>1.585129e+03</td>\n",
       "      <td>-499.969164</td>\n",
       "      <td>1.595622e+03</td>\n",
       "      <td>-500.028514</td>\n",
       "      <td>1.549595e+03</td>\n",
       "      <td>-500.017711</td>\n",
       "      <td>...</td>\n",
       "      <td>1.700847e+01</td>\n",
       "      <td>-500.115727</td>\n",
       "      <td>1.496486e+01</td>\n",
       "      <td>-499.576513</td>\n",
       "      <td>12.954182</td>\n",
       "      <td>-499.990332</td>\n",
       "      <td>10.004301</td>\n",
       "      <td>-499.990535</td>\n",
       "      <td>16.014935</td>\n",
       "      <td>-500.007126</td>\n",
       "    </tr>\n",
       "    <tr>\n",
       "      <th>75%</th>\n",
       "      <td>208.125438</td>\n",
       "      <td>10.027764</td>\n",
       "      <td>7.600000</td>\n",
       "      <td>1.797819</td>\n",
       "      <td>1.602077e+03</td>\n",
       "      <td>-499.568951</td>\n",
       "      <td>1.602324e+03</td>\n",
       "      <td>-499.293257</td>\n",
       "      <td>1.601144e+03</td>\n",
       "      <td>-498.994130</td>\n",
       "      <td>...</td>\n",
       "      <td>1.803862e+01</td>\n",
       "      <td>-499.404224</td>\n",
       "      <td>1.596213e+01</td>\n",
       "      <td>-400.933805</td>\n",
       "      <td>15.097528</td>\n",
       "      <td>-499.283191</td>\n",
       "      <td>11.997467</td>\n",
       "      <td>-499.719913</td>\n",
       "      <td>21.020013</td>\n",
       "      <td>-499.373018</td>\n",
       "    </tr>\n",
       "    <tr>\n",
       "      <th>max</th>\n",
       "      <td>265.983123</td>\n",
       "      <td>40.000000</td>\n",
       "      <td>15.500000</td>\n",
       "      <td>4.102454</td>\n",
       "      <td>2.103104e+03</td>\n",
       "      <td>-57.195404</td>\n",
       "      <td>1.813084e+03</td>\n",
       "      <td>-142.527229</td>\n",
       "      <td>1.715054e+03</td>\n",
       "      <td>-150.937035</td>\n",
       "      <td>...</td>\n",
       "      <td>3.005180e+01</td>\n",
       "      <td>-401.565212</td>\n",
       "      <td>3.126971e+01</td>\n",
       "      <td>-6.506986</td>\n",
       "      <td>25.258848</td>\n",
       "      <td>-244.483566</td>\n",
       "      <td>14.086866</td>\n",
       "      <td>-137.740004</td>\n",
       "      <td>26.705889</td>\n",
       "      <td>-123.307487</td>\n",
       "    </tr>\n",
       "  </tbody>\n",
       "</table>\n",
       "<p>8 rows × 52 columns</p>\n",
       "</div>"
      ],
      "text/plain": [
       "       primary_cleaner.input.sulfate  primary_cleaner.input.depressant  \\\n",
       "count                    5286.000000                       5285.000000   \n",
       "mean                      174.839652                          8.683596   \n",
       "std                        43.027080                          3.072050   \n",
       "min                         2.566156                          0.003839   \n",
       "25%                       147.121401                          6.489555   \n",
       "50%                       177.828489                          8.052207   \n",
       "75%                       208.125438                         10.027764   \n",
       "max                       265.983123                         40.000000   \n",
       "\n",
       "       primary_cleaner.input.feed_size  primary_cleaner.input.xanthate  \\\n",
       "count                      5290.000000                     5286.000000   \n",
       "mean                          7.266339                        1.383803   \n",
       "std                           0.610219                        0.643474   \n",
       "min                           5.650000                        0.004984   \n",
       "25%                           6.890000                        0.907623   \n",
       "50%                           7.250000                        1.197610   \n",
       "75%                           7.600000                        1.797819   \n",
       "max                          15.500000                        4.102454   \n",
       "\n",
       "       primary_cleaner.state.floatbank8_a_air  \\\n",
       "count                            5.290000e+03   \n",
       "mean                             1.539494e+03   \n",
       "std                              1.167979e+02   \n",
       "min                              5.445860e-32   \n",
       "25%                              1.498936e+03   \n",
       "50%                              1.585129e+03   \n",
       "75%                              1.602077e+03   \n",
       "max                              2.103104e+03   \n",
       "\n",
       "       primary_cleaner.state.floatbank8_a_level  \\\n",
       "count                               5290.000000   \n",
       "mean                                -497.665883   \n",
       "std                                   19.952431   \n",
       "min                                 -795.316337   \n",
       "25%                                 -500.357298   \n",
       "50%                                 -499.969164   \n",
       "75%                                 -499.568951   \n",
       "max                                  -57.195404   \n",
       "\n",
       "       primary_cleaner.state.floatbank8_b_air  \\\n",
       "count                            5.290000e+03   \n",
       "mean                             1.545174e+03   \n",
       "std                              1.222246e+02   \n",
       "min                              6.647490e-32   \n",
       "25%                              1.498971e+03   \n",
       "50%                              1.595622e+03   \n",
       "75%                              1.602324e+03   \n",
       "max                              1.813084e+03   \n",
       "\n",
       "       primary_cleaner.state.floatbank8_b_level  \\\n",
       "count                               5290.000000   \n",
       "mean                                -500.273098   \n",
       "std                                   32.968307   \n",
       "min                                 -799.997015   \n",
       "25%                                 -500.703002   \n",
       "50%                                 -500.028514   \n",
       "75%                                 -499.293257   \n",
       "max                                 -142.527229   \n",
       "\n",
       "       primary_cleaner.state.floatbank8_c_air  \\\n",
       "count                            5.290000e+03   \n",
       "mean                             1.527272e+03   \n",
       "std                              1.225380e+02   \n",
       "min                              4.033736e-32   \n",
       "25%                              1.473230e+03   \n",
       "50%                              1.549595e+03   \n",
       "75%                              1.601144e+03   \n",
       "max                              1.715054e+03   \n",
       "\n",
       "       primary_cleaner.state.floatbank8_c_level  ...  \\\n",
       "count                               5290.000000  ...   \n",
       "mean                                -498.330680  ...   \n",
       "std                                   21.964876  ...   \n",
       "min                                 -799.960571  ...   \n",
       "25%                                 -501.018117  ...   \n",
       "50%                                 -500.017711  ...   \n",
       "75%                                 -498.994130  ...   \n",
       "max                                 -150.937035  ...   \n",
       "\n",
       "       secondary_cleaner.state.floatbank4_a_air  \\\n",
       "count                              5.290000e+03   \n",
       "mean                               1.632007e+01   \n",
       "std                                3.493583e+00   \n",
       "min                                1.079872e-16   \n",
       "25%                                1.403618e+01   \n",
       "50%                                1.700847e+01   \n",
       "75%                                1.803862e+01   \n",
       "max                                3.005180e+01   \n",
       "\n",
       "       secondary_cleaner.state.floatbank4_a_level  \\\n",
       "count                                 5290.000000   \n",
       "mean                                  -505.144570   \n",
       "std                                     31.427337   \n",
       "min                                   -799.798523   \n",
       "25%                                   -500.868258   \n",
       "50%                                   -500.115727   \n",
       "75%                                   -499.404224   \n",
       "max                                   -401.565212   \n",
       "\n",
       "       secondary_cleaner.state.floatbank4_b_air  \\\n",
       "count                              5.290000e+03   \n",
       "mean                               1.373544e+01   \n",
       "std                                3.430484e+00   \n",
       "min                                2.489718e-17   \n",
       "25%                                1.202862e+01   \n",
       "50%                                1.496486e+01   \n",
       "75%                                1.596213e+01   \n",
       "max                                3.126971e+01   \n",
       "\n",
       "       secondary_cleaner.state.floatbank4_b_level  \\\n",
       "count                                 5290.000000   \n",
       "mean                                  -463.349858   \n",
       "std                                     86.189107   \n",
       "min                                   -800.836914   \n",
       "25%                                   -500.323028   \n",
       "50%                                   -499.576513   \n",
       "75%                                   -400.933805   \n",
       "max                                     -6.506986   \n",
       "\n",
       "       secondary_cleaner.state.floatbank5_a_air  \\\n",
       "count                               5290.000000   \n",
       "mean                                  12.804186   \n",
       "std                                    3.026591   \n",
       "min                                    0.069227   \n",
       "25%                                   10.914838   \n",
       "50%                                   12.954182   \n",
       "75%                                   15.097528   \n",
       "max                                   25.258848   \n",
       "\n",
       "       secondary_cleaner.state.floatbank5_a_level  \\\n",
       "count                                 5290.000000   \n",
       "mean                                  -501.329122   \n",
       "std                                     17.951495   \n",
       "min                                   -797.323986   \n",
       "25%                                   -500.726841   \n",
       "50%                                   -499.990332   \n",
       "75%                                   -499.283191   \n",
       "max                                   -244.483566   \n",
       "\n",
       "       secondary_cleaner.state.floatbank5_b_air  \\\n",
       "count                               5290.000000   \n",
       "mean                                   9.881145   \n",
       "std                                    2.868205   \n",
       "min                                    0.528083   \n",
       "25%                                    8.036719   \n",
       "50%                                   10.004301   \n",
       "75%                                   11.997467   \n",
       "max                                   14.086866   \n",
       "\n",
       "       secondary_cleaner.state.floatbank5_b_level  \\\n",
       "count                                 5290.000000   \n",
       "mean                                  -495.663398   \n",
       "std                                     34.535007   \n",
       "min                                   -800.220337   \n",
       "25%                                   -500.194668   \n",
       "50%                                   -499.990535   \n",
       "75%                                   -499.719913   \n",
       "max                                   -137.740004   \n",
       "\n",
       "       secondary_cleaner.state.floatbank6_a_air  \\\n",
       "count                               5290.000000   \n",
       "mean                                  17.304935   \n",
       "std                                    4.536544   \n",
       "min                                   -0.079426   \n",
       "25%                                   13.997317   \n",
       "50%                                   16.014935   \n",
       "75%                                   21.020013   \n",
       "max                                   26.705889   \n",
       "\n",
       "       secondary_cleaner.state.floatbank6_a_level  \n",
       "count                                 5290.000000  \n",
       "mean                                  -501.793193  \n",
       "std                                     39.044215  \n",
       "min                                   -809.741464  \n",
       "25%                                   -500.690984  \n",
       "50%                                   -500.007126  \n",
       "75%                                   -499.373018  \n",
       "max                                   -123.307487  \n",
       "\n",
       "[8 rows x 52 columns]"
      ]
     },
     "metadata": {},
     "output_type": "display_data"
    },
    {
     "name": "stdout",
     "output_type": "stream",
     "text": [
      "****************************************\n"
     ]
    },
    {
     "data": {
      "text/html": [
       "<div>\n",
       "<style scoped>\n",
       "    .dataframe tbody tr th:only-of-type {\n",
       "        vertical-align: middle;\n",
       "    }\n",
       "\n",
       "    .dataframe tbody tr th {\n",
       "        vertical-align: top;\n",
       "    }\n",
       "\n",
       "    .dataframe thead th {\n",
       "        text-align: right;\n",
       "    }\n",
       "</style>\n",
       "<table border=\"1\" class=\"dataframe\">\n",
       "  <thead>\n",
       "    <tr style=\"text-align: right;\">\n",
       "      <th></th>\n",
       "      <th>final.output.concentrate_ag</th>\n",
       "      <th>final.output.concentrate_pb</th>\n",
       "      <th>final.output.concentrate_sol</th>\n",
       "      <th>final.output.concentrate_au</th>\n",
       "      <th>final.output.recovery</th>\n",
       "      <th>final.output.tail_ag</th>\n",
       "      <th>final.output.tail_pb</th>\n",
       "      <th>final.output.tail_sol</th>\n",
       "      <th>final.output.tail_au</th>\n",
       "      <th>primary_cleaner.input.sulfate</th>\n",
       "      <th>...</th>\n",
       "      <th>secondary_cleaner.state.floatbank4_a_air</th>\n",
       "      <th>secondary_cleaner.state.floatbank4_a_level</th>\n",
       "      <th>secondary_cleaner.state.floatbank4_b_air</th>\n",
       "      <th>secondary_cleaner.state.floatbank4_b_level</th>\n",
       "      <th>secondary_cleaner.state.floatbank5_a_air</th>\n",
       "      <th>secondary_cleaner.state.floatbank5_a_level</th>\n",
       "      <th>secondary_cleaner.state.floatbank5_b_air</th>\n",
       "      <th>secondary_cleaner.state.floatbank5_b_level</th>\n",
       "      <th>secondary_cleaner.state.floatbank6_a_air</th>\n",
       "      <th>secondary_cleaner.state.floatbank6_a_level</th>\n",
       "    </tr>\n",
       "    <tr>\n",
       "      <th>date</th>\n",
       "      <th></th>\n",
       "      <th></th>\n",
       "      <th></th>\n",
       "      <th></th>\n",
       "      <th></th>\n",
       "      <th></th>\n",
       "      <th></th>\n",
       "      <th></th>\n",
       "      <th></th>\n",
       "      <th></th>\n",
       "      <th></th>\n",
       "      <th></th>\n",
       "      <th></th>\n",
       "      <th></th>\n",
       "      <th></th>\n",
       "      <th></th>\n",
       "      <th></th>\n",
       "      <th></th>\n",
       "      <th></th>\n",
       "      <th></th>\n",
       "      <th></th>\n",
       "    </tr>\n",
       "  </thead>\n",
       "  <tbody>\n",
       "    <tr>\n",
       "      <th>2016-01-15 00:00:00</th>\n",
       "      <td>6.055403</td>\n",
       "      <td>9.889648</td>\n",
       "      <td>5.507324</td>\n",
       "      <td>42.192020</td>\n",
       "      <td>70.541216</td>\n",
       "      <td>10.411962</td>\n",
       "      <td>0.895447</td>\n",
       "      <td>16.904297</td>\n",
       "      <td>2.143149</td>\n",
       "      <td>127.092003</td>\n",
       "      <td>...</td>\n",
       "      <td>14.016835</td>\n",
       "      <td>-502.488007</td>\n",
       "      <td>12.099931</td>\n",
       "      <td>-504.715942</td>\n",
       "      <td>9.925633</td>\n",
       "      <td>-498.310211</td>\n",
       "      <td>8.079666</td>\n",
       "      <td>-500.470978</td>\n",
       "      <td>14.151341</td>\n",
       "      <td>-605.841980</td>\n",
       "    </tr>\n",
       "    <tr>\n",
       "      <th>2016-01-15 01:00:00</th>\n",
       "      <td>6.029369</td>\n",
       "      <td>9.968944</td>\n",
       "      <td>5.257781</td>\n",
       "      <td>42.701629</td>\n",
       "      <td>69.266198</td>\n",
       "      <td>10.462676</td>\n",
       "      <td>0.927452</td>\n",
       "      <td>16.634514</td>\n",
       "      <td>2.224930</td>\n",
       "      <td>125.629232</td>\n",
       "      <td>...</td>\n",
       "      <td>13.992281</td>\n",
       "      <td>-505.503262</td>\n",
       "      <td>11.950531</td>\n",
       "      <td>-501.331529</td>\n",
       "      <td>10.039245</td>\n",
       "      <td>-500.169983</td>\n",
       "      <td>7.984757</td>\n",
       "      <td>-500.582168</td>\n",
       "      <td>13.998353</td>\n",
       "      <td>-599.787184</td>\n",
       "    </tr>\n",
       "    <tr>\n",
       "      <th>2016-01-15 02:00:00</th>\n",
       "      <td>6.055926</td>\n",
       "      <td>10.213995</td>\n",
       "      <td>5.383759</td>\n",
       "      <td>42.657501</td>\n",
       "      <td>68.116445</td>\n",
       "      <td>10.507046</td>\n",
       "      <td>0.953716</td>\n",
       "      <td>16.208849</td>\n",
       "      <td>2.257889</td>\n",
       "      <td>123.819808</td>\n",
       "      <td>...</td>\n",
       "      <td>14.015015</td>\n",
       "      <td>-502.520901</td>\n",
       "      <td>11.912783</td>\n",
       "      <td>-501.133383</td>\n",
       "      <td>10.070913</td>\n",
       "      <td>-500.129135</td>\n",
       "      <td>8.013877</td>\n",
       "      <td>-500.517572</td>\n",
       "      <td>14.028663</td>\n",
       "      <td>-601.427363</td>\n",
       "    </tr>\n",
       "    <tr>\n",
       "      <th>2016-01-15 03:00:00</th>\n",
       "      <td>6.047977</td>\n",
       "      <td>9.977019</td>\n",
       "      <td>4.858634</td>\n",
       "      <td>42.689819</td>\n",
       "      <td>68.347543</td>\n",
       "      <td>10.422762</td>\n",
       "      <td>0.883763</td>\n",
       "      <td>16.532835</td>\n",
       "      <td>2.146849</td>\n",
       "      <td>122.270188</td>\n",
       "      <td>...</td>\n",
       "      <td>14.036510</td>\n",
       "      <td>-500.857308</td>\n",
       "      <td>11.999550</td>\n",
       "      <td>-501.193686</td>\n",
       "      <td>9.970366</td>\n",
       "      <td>-499.201640</td>\n",
       "      <td>7.977324</td>\n",
       "      <td>-500.255908</td>\n",
       "      <td>14.005551</td>\n",
       "      <td>-599.996129</td>\n",
       "    </tr>\n",
       "    <tr>\n",
       "      <th>2016-01-15 04:00:00</th>\n",
       "      <td>6.148599</td>\n",
       "      <td>10.142511</td>\n",
       "      <td>4.939416</td>\n",
       "      <td>42.774141</td>\n",
       "      <td>66.927016</td>\n",
       "      <td>10.360302</td>\n",
       "      <td>0.792826</td>\n",
       "      <td>16.525686</td>\n",
       "      <td>2.055292</td>\n",
       "      <td>117.988169</td>\n",
       "      <td>...</td>\n",
       "      <td>14.027298</td>\n",
       "      <td>-499.838632</td>\n",
       "      <td>11.953070</td>\n",
       "      <td>-501.053894</td>\n",
       "      <td>9.925709</td>\n",
       "      <td>-501.686727</td>\n",
       "      <td>7.894242</td>\n",
       "      <td>-500.356035</td>\n",
       "      <td>13.996647</td>\n",
       "      <td>-601.496691</td>\n",
       "    </tr>\n",
       "  </tbody>\n",
       "</table>\n",
       "<p>5 rows × 86 columns</p>\n",
       "</div>"
      ],
      "text/plain": [
       "                     final.output.concentrate_ag  final.output.concentrate_pb  \\\n",
       "date                                                                            \n",
       "2016-01-15 00:00:00                     6.055403                     9.889648   \n",
       "2016-01-15 01:00:00                     6.029369                     9.968944   \n",
       "2016-01-15 02:00:00                     6.055926                    10.213995   \n",
       "2016-01-15 03:00:00                     6.047977                     9.977019   \n",
       "2016-01-15 04:00:00                     6.148599                    10.142511   \n",
       "\n",
       "                     final.output.concentrate_sol  \\\n",
       "date                                                \n",
       "2016-01-15 00:00:00                      5.507324   \n",
       "2016-01-15 01:00:00                      5.257781   \n",
       "2016-01-15 02:00:00                      5.383759   \n",
       "2016-01-15 03:00:00                      4.858634   \n",
       "2016-01-15 04:00:00                      4.939416   \n",
       "\n",
       "                     final.output.concentrate_au  final.output.recovery  \\\n",
       "date                                                                      \n",
       "2016-01-15 00:00:00                    42.192020              70.541216   \n",
       "2016-01-15 01:00:00                    42.701629              69.266198   \n",
       "2016-01-15 02:00:00                    42.657501              68.116445   \n",
       "2016-01-15 03:00:00                    42.689819              68.347543   \n",
       "2016-01-15 04:00:00                    42.774141              66.927016   \n",
       "\n",
       "                     final.output.tail_ag  final.output.tail_pb  \\\n",
       "date                                                              \n",
       "2016-01-15 00:00:00             10.411962              0.895447   \n",
       "2016-01-15 01:00:00             10.462676              0.927452   \n",
       "2016-01-15 02:00:00             10.507046              0.953716   \n",
       "2016-01-15 03:00:00             10.422762              0.883763   \n",
       "2016-01-15 04:00:00             10.360302              0.792826   \n",
       "\n",
       "                     final.output.tail_sol  final.output.tail_au  \\\n",
       "date                                                               \n",
       "2016-01-15 00:00:00              16.904297              2.143149   \n",
       "2016-01-15 01:00:00              16.634514              2.224930   \n",
       "2016-01-15 02:00:00              16.208849              2.257889   \n",
       "2016-01-15 03:00:00              16.532835              2.146849   \n",
       "2016-01-15 04:00:00              16.525686              2.055292   \n",
       "\n",
       "                     primary_cleaner.input.sulfate  ...  \\\n",
       "date                                                ...   \n",
       "2016-01-15 00:00:00                     127.092003  ...   \n",
       "2016-01-15 01:00:00                     125.629232  ...   \n",
       "2016-01-15 02:00:00                     123.819808  ...   \n",
       "2016-01-15 03:00:00                     122.270188  ...   \n",
       "2016-01-15 04:00:00                     117.988169  ...   \n",
       "\n",
       "                     secondary_cleaner.state.floatbank4_a_air  \\\n",
       "date                                                            \n",
       "2016-01-15 00:00:00                                 14.016835   \n",
       "2016-01-15 01:00:00                                 13.992281   \n",
       "2016-01-15 02:00:00                                 14.015015   \n",
       "2016-01-15 03:00:00                                 14.036510   \n",
       "2016-01-15 04:00:00                                 14.027298   \n",
       "\n",
       "                     secondary_cleaner.state.floatbank4_a_level  \\\n",
       "date                                                              \n",
       "2016-01-15 00:00:00                                 -502.488007   \n",
       "2016-01-15 01:00:00                                 -505.503262   \n",
       "2016-01-15 02:00:00                                 -502.520901   \n",
       "2016-01-15 03:00:00                                 -500.857308   \n",
       "2016-01-15 04:00:00                                 -499.838632   \n",
       "\n",
       "                     secondary_cleaner.state.floatbank4_b_air  \\\n",
       "date                                                            \n",
       "2016-01-15 00:00:00                                 12.099931   \n",
       "2016-01-15 01:00:00                                 11.950531   \n",
       "2016-01-15 02:00:00                                 11.912783   \n",
       "2016-01-15 03:00:00                                 11.999550   \n",
       "2016-01-15 04:00:00                                 11.953070   \n",
       "\n",
       "                     secondary_cleaner.state.floatbank4_b_level  \\\n",
       "date                                                              \n",
       "2016-01-15 00:00:00                                 -504.715942   \n",
       "2016-01-15 01:00:00                                 -501.331529   \n",
       "2016-01-15 02:00:00                                 -501.133383   \n",
       "2016-01-15 03:00:00                                 -501.193686   \n",
       "2016-01-15 04:00:00                                 -501.053894   \n",
       "\n",
       "                     secondary_cleaner.state.floatbank5_a_air  \\\n",
       "date                                                            \n",
       "2016-01-15 00:00:00                                  9.925633   \n",
       "2016-01-15 01:00:00                                 10.039245   \n",
       "2016-01-15 02:00:00                                 10.070913   \n",
       "2016-01-15 03:00:00                                  9.970366   \n",
       "2016-01-15 04:00:00                                  9.925709   \n",
       "\n",
       "                     secondary_cleaner.state.floatbank5_a_level  \\\n",
       "date                                                              \n",
       "2016-01-15 00:00:00                                 -498.310211   \n",
       "2016-01-15 01:00:00                                 -500.169983   \n",
       "2016-01-15 02:00:00                                 -500.129135   \n",
       "2016-01-15 03:00:00                                 -499.201640   \n",
       "2016-01-15 04:00:00                                 -501.686727   \n",
       "\n",
       "                     secondary_cleaner.state.floatbank5_b_air  \\\n",
       "date                                                            \n",
       "2016-01-15 00:00:00                                  8.079666   \n",
       "2016-01-15 01:00:00                                  7.984757   \n",
       "2016-01-15 02:00:00                                  8.013877   \n",
       "2016-01-15 03:00:00                                  7.977324   \n",
       "2016-01-15 04:00:00                                  7.894242   \n",
       "\n",
       "                     secondary_cleaner.state.floatbank5_b_level  \\\n",
       "date                                                              \n",
       "2016-01-15 00:00:00                                 -500.470978   \n",
       "2016-01-15 01:00:00                                 -500.582168   \n",
       "2016-01-15 02:00:00                                 -500.517572   \n",
       "2016-01-15 03:00:00                                 -500.255908   \n",
       "2016-01-15 04:00:00                                 -500.356035   \n",
       "\n",
       "                     secondary_cleaner.state.floatbank6_a_air  \\\n",
       "date                                                            \n",
       "2016-01-15 00:00:00                                 14.151341   \n",
       "2016-01-15 01:00:00                                 13.998353   \n",
       "2016-01-15 02:00:00                                 14.028663   \n",
       "2016-01-15 03:00:00                                 14.005551   \n",
       "2016-01-15 04:00:00                                 13.996647   \n",
       "\n",
       "                     secondary_cleaner.state.floatbank6_a_level  \n",
       "date                                                             \n",
       "2016-01-15 00:00:00                                 -605.841980  \n",
       "2016-01-15 01:00:00                                 -599.787184  \n",
       "2016-01-15 02:00:00                                 -601.427363  \n",
       "2016-01-15 03:00:00                                 -599.996129  \n",
       "2016-01-15 04:00:00                                 -601.496691  \n",
       "\n",
       "[5 rows x 86 columns]"
      ]
     },
     "metadata": {},
     "output_type": "display_data"
    },
    {
     "name": "stdout",
     "output_type": "stream",
     "text": [
      "<class 'pandas.core.frame.DataFrame'>\n",
      "Index: 19439 entries, 2016-01-15 00:00:00 to 2018-08-18 10:59:59\n",
      "Data columns (total 86 columns):\n",
      " #   Column                                              Non-Null Count  Dtype  \n",
      "---  ------                                              --------------  -----  \n",
      " 0   final.output.concentrate_ag                         19438 non-null  float64\n",
      " 1   final.output.concentrate_pb                         19438 non-null  float64\n",
      " 2   final.output.concentrate_sol                        19228 non-null  float64\n",
      " 3   final.output.concentrate_au                         19439 non-null  float64\n",
      " 4   final.output.recovery                               19439 non-null  float64\n",
      " 5   final.output.tail_ag                                19438 non-null  float64\n",
      " 6   final.output.tail_pb                                19338 non-null  float64\n",
      " 7   final.output.tail_sol                               19433 non-null  float64\n",
      " 8   final.output.tail_au                                19439 non-null  float64\n",
      " 9   primary_cleaner.input.sulfate                       19415 non-null  float64\n",
      " 10  primary_cleaner.input.depressant                    19402 non-null  float64\n",
      " 11  primary_cleaner.input.feed_size                     19439 non-null  float64\n",
      " 12  primary_cleaner.input.xanthate                      19335 non-null  float64\n",
      " 13  primary_cleaner.output.concentrate_ag               19439 non-null  float64\n",
      " 14  primary_cleaner.output.concentrate_pb               19323 non-null  float64\n",
      " 15  primary_cleaner.output.concentrate_sol              19069 non-null  float64\n",
      " 16  primary_cleaner.output.concentrate_au               19439 non-null  float64\n",
      " 17  primary_cleaner.output.tail_ag                      19435 non-null  float64\n",
      " 18  primary_cleaner.output.tail_pb                      19418 non-null  float64\n",
      " 19  primary_cleaner.output.tail_sol                     19377 non-null  float64\n",
      " 20  primary_cleaner.output.tail_au                      19439 non-null  float64\n",
      " 21  primary_cleaner.state.floatbank8_a_air              19435 non-null  float64\n",
      " 22  primary_cleaner.state.floatbank8_a_level            19438 non-null  float64\n",
      " 23  primary_cleaner.state.floatbank8_b_air              19435 non-null  float64\n",
      " 24  primary_cleaner.state.floatbank8_b_level            19438 non-null  float64\n",
      " 25  primary_cleaner.state.floatbank8_c_air              19437 non-null  float64\n",
      " 26  primary_cleaner.state.floatbank8_c_level            19438 non-null  float64\n",
      " 27  primary_cleaner.state.floatbank8_d_air              19436 non-null  float64\n",
      " 28  primary_cleaner.state.floatbank8_d_level            19438 non-null  float64\n",
      " 29  rougher.calculation.sulfate_to_au_concentrate       19437 non-null  float64\n",
      " 30  rougher.calculation.floatbank10_sulfate_to_au_feed  19437 non-null  float64\n",
      " 31  rougher.calculation.floatbank11_sulfate_to_au_feed  19437 non-null  float64\n",
      " 32  rougher.calculation.au_pb_ratio                     19439 non-null  float64\n",
      " 33  rougher.input.feed_ag                               19439 non-null  float64\n",
      " 34  rougher.input.feed_pb                               19339 non-null  float64\n",
      " 35  rougher.input.feed_rate                             19428 non-null  float64\n",
      " 36  rougher.input.feed_size                             19294 non-null  float64\n",
      " 37  rougher.input.feed_sol                              19340 non-null  float64\n",
      " 38  rougher.input.feed_au                               19439 non-null  float64\n",
      " 39  rougher.input.floatbank10_sulfate                   19405 non-null  float64\n",
      " 40  rougher.input.floatbank10_xanthate                  19431 non-null  float64\n",
      " 41  rougher.input.floatbank11_sulfate                   19395 non-null  float64\n",
      " 42  rougher.input.floatbank11_xanthate                  18986 non-null  float64\n",
      " 43  rougher.output.concentrate_ag                       19439 non-null  float64\n",
      " 44  rougher.output.concentrate_pb                       19439 non-null  float64\n",
      " 45  rougher.output.concentrate_sol                      19416 non-null  float64\n",
      " 46  rougher.output.concentrate_au                       19439 non-null  float64\n",
      " 47  rougher.output.recovery                             19439 non-null  float64\n",
      " 48  rougher.output.tail_ag                              19438 non-null  float64\n",
      " 49  rougher.output.tail_pb                              19439 non-null  float64\n",
      " 50  rougher.output.tail_sol                             19439 non-null  float64\n",
      " 51  rougher.output.tail_au                              19439 non-null  float64\n",
      " 52  rougher.state.floatbank10_a_air                     19438 non-null  float64\n",
      " 53  rougher.state.floatbank10_a_level                   19438 non-null  float64\n",
      " 54  rougher.state.floatbank10_b_air                     19438 non-null  float64\n",
      " 55  rougher.state.floatbank10_b_level                   19438 non-null  float64\n",
      " 56  rougher.state.floatbank10_c_air                     19438 non-null  float64\n",
      " 57  rougher.state.floatbank10_c_level                   19438 non-null  float64\n",
      " 58  rougher.state.floatbank10_d_air                     19439 non-null  float64\n",
      " 59  rougher.state.floatbank10_d_level                   19439 non-null  float64\n",
      " 60  rougher.state.floatbank10_e_air                     19003 non-null  float64\n",
      " 61  rougher.state.floatbank10_e_level                   19439 non-null  float64\n",
      " 62  rougher.state.floatbank10_f_air                     19439 non-null  float64\n",
      " 63  rougher.state.floatbank10_f_level                   19439 non-null  float64\n",
      " 64  secondary_cleaner.output.tail_ag                    19437 non-null  float64\n",
      " 65  secondary_cleaner.output.tail_pb                    19427 non-null  float64\n",
      " 66  secondary_cleaner.output.tail_sol                   17691 non-null  float64\n",
      " 67  secondary_cleaner.output.tail_au                    19439 non-null  float64\n",
      " 68  secondary_cleaner.state.floatbank2_a_air            19219 non-null  float64\n",
      " 69  secondary_cleaner.state.floatbank2_a_level          19438 non-null  float64\n",
      " 70  secondary_cleaner.state.floatbank2_b_air            19416 non-null  float64\n",
      " 71  secondary_cleaner.state.floatbank2_b_level          19438 non-null  float64\n",
      " 72  secondary_cleaner.state.floatbank3_a_air            19426 non-null  float64\n",
      " 73  secondary_cleaner.state.floatbank3_a_level          19438 non-null  float64\n",
      " 74  secondary_cleaner.state.floatbank3_b_air            19438 non-null  float64\n",
      " 75  secondary_cleaner.state.floatbank3_b_level          19438 non-null  float64\n",
      " 76  secondary_cleaner.state.floatbank4_a_air            19433 non-null  float64\n",
      " 77  secondary_cleaner.state.floatbank4_a_level          19438 non-null  float64\n",
      " 78  secondary_cleaner.state.floatbank4_b_air            19438 non-null  float64\n",
      " 79  secondary_cleaner.state.floatbank4_b_level          19438 non-null  float64\n",
      " 80  secondary_cleaner.state.floatbank5_a_air            19438 non-null  float64\n",
      " 81  secondary_cleaner.state.floatbank5_a_level          19438 non-null  float64\n",
      " 82  secondary_cleaner.state.floatbank5_b_air            19438 non-null  float64\n",
      " 83  secondary_cleaner.state.floatbank5_b_level          19438 non-null  float64\n",
      " 84  secondary_cleaner.state.floatbank6_a_air            19437 non-null  float64\n",
      " 85  secondary_cleaner.state.floatbank6_a_level          19438 non-null  float64\n",
      "dtypes: float64(86)\n",
      "memory usage: 12.9+ MB\n",
      "None\n"
     ]
    },
    {
     "data": {
      "text/html": [
       "<div>\n",
       "<style scoped>\n",
       "    .dataframe tbody tr th:only-of-type {\n",
       "        vertical-align: middle;\n",
       "    }\n",
       "\n",
       "    .dataframe tbody tr th {\n",
       "        vertical-align: top;\n",
       "    }\n",
       "\n",
       "    .dataframe thead th {\n",
       "        text-align: right;\n",
       "    }\n",
       "</style>\n",
       "<table border=\"1\" class=\"dataframe\">\n",
       "  <thead>\n",
       "    <tr style=\"text-align: right;\">\n",
       "      <th></th>\n",
       "      <th>final.output.concentrate_ag</th>\n",
       "      <th>final.output.concentrate_pb</th>\n",
       "      <th>final.output.concentrate_sol</th>\n",
       "      <th>final.output.concentrate_au</th>\n",
       "      <th>final.output.recovery</th>\n",
       "      <th>final.output.tail_ag</th>\n",
       "      <th>final.output.tail_pb</th>\n",
       "      <th>final.output.tail_sol</th>\n",
       "      <th>final.output.tail_au</th>\n",
       "      <th>primary_cleaner.input.sulfate</th>\n",
       "      <th>...</th>\n",
       "      <th>secondary_cleaner.state.floatbank4_a_air</th>\n",
       "      <th>secondary_cleaner.state.floatbank4_a_level</th>\n",
       "      <th>secondary_cleaner.state.floatbank4_b_air</th>\n",
       "      <th>secondary_cleaner.state.floatbank4_b_level</th>\n",
       "      <th>secondary_cleaner.state.floatbank5_a_air</th>\n",
       "      <th>secondary_cleaner.state.floatbank5_a_level</th>\n",
       "      <th>secondary_cleaner.state.floatbank5_b_air</th>\n",
       "      <th>secondary_cleaner.state.floatbank5_b_level</th>\n",
       "      <th>secondary_cleaner.state.floatbank6_a_air</th>\n",
       "      <th>secondary_cleaner.state.floatbank6_a_level</th>\n",
       "    </tr>\n",
       "  </thead>\n",
       "  <tbody>\n",
       "    <tr>\n",
       "      <th>count</th>\n",
       "      <td>19438.000000</td>\n",
       "      <td>19438.000000</td>\n",
       "      <td>19228.000000</td>\n",
       "      <td>19439.000000</td>\n",
       "      <td>19439.000000</td>\n",
       "      <td>19438.000000</td>\n",
       "      <td>19338.000000</td>\n",
       "      <td>19433.000000</td>\n",
       "      <td>19439.000000</td>\n",
       "      <td>19415.000000</td>\n",
       "      <td>...</td>\n",
       "      <td>19433.000000</td>\n",
       "      <td>19438.000000</td>\n",
       "      <td>19438.000000</td>\n",
       "      <td>19438.000000</td>\n",
       "      <td>19438.000000</td>\n",
       "      <td>19438.000000</td>\n",
       "      <td>19438.000000</td>\n",
       "      <td>19438.000000</td>\n",
       "      <td>19437.000000</td>\n",
       "      <td>19438.000000</td>\n",
       "    </tr>\n",
       "    <tr>\n",
       "      <th>mean</th>\n",
       "      <td>5.168470</td>\n",
       "      <td>9.978895</td>\n",
       "      <td>9.501224</td>\n",
       "      <td>44.076513</td>\n",
       "      <td>67.050208</td>\n",
       "      <td>9.688589</td>\n",
       "      <td>2.705795</td>\n",
       "      <td>10.583728</td>\n",
       "      <td>3.042467</td>\n",
       "      <td>144.624774</td>\n",
       "      <td>...</td>\n",
       "      <td>18.987674</td>\n",
       "      <td>-485.894516</td>\n",
       "      <td>15.010366</td>\n",
       "      <td>-461.078636</td>\n",
       "      <td>15.694452</td>\n",
       "      <td>-488.684065</td>\n",
       "      <td>12.198224</td>\n",
       "      <td>-487.149827</td>\n",
       "      <td>18.959024</td>\n",
       "      <td>-505.436305</td>\n",
       "    </tr>\n",
       "    <tr>\n",
       "      <th>std</th>\n",
       "      <td>1.372348</td>\n",
       "      <td>1.669240</td>\n",
       "      <td>2.787537</td>\n",
       "      <td>5.129784</td>\n",
       "      <td>10.125840</td>\n",
       "      <td>2.328642</td>\n",
       "      <td>0.949077</td>\n",
       "      <td>2.868782</td>\n",
       "      <td>0.922808</td>\n",
       "      <td>44.464071</td>\n",
       "      <td>...</td>\n",
       "      <td>5.411058</td>\n",
       "      <td>47.758570</td>\n",
       "      <td>4.890228</td>\n",
       "      <td>67.405524</td>\n",
       "      <td>5.510974</td>\n",
       "      <td>34.533396</td>\n",
       "      <td>5.333024</td>\n",
       "      <td>38.347312</td>\n",
       "      <td>5.550498</td>\n",
       "      <td>37.689057</td>\n",
       "    </tr>\n",
       "    <tr>\n",
       "      <th>min</th>\n",
       "      <td>0.000000</td>\n",
       "      <td>0.000000</td>\n",
       "      <td>0.000000</td>\n",
       "      <td>0.000000</td>\n",
       "      <td>0.000000</td>\n",
       "      <td>0.000000</td>\n",
       "      <td>0.000000</td>\n",
       "      <td>0.000000</td>\n",
       "      <td>0.000000</td>\n",
       "      <td>0.003112</td>\n",
       "      <td>...</td>\n",
       "      <td>0.000000</td>\n",
       "      <td>-799.798523</td>\n",
       "      <td>0.000000</td>\n",
       "      <td>-800.836914</td>\n",
       "      <td>-0.372054</td>\n",
       "      <td>-797.323986</td>\n",
       "      <td>0.528083</td>\n",
       "      <td>-800.220337</td>\n",
       "      <td>-0.079426</td>\n",
       "      <td>-809.741464</td>\n",
       "    </tr>\n",
       "    <tr>\n",
       "      <th>25%</th>\n",
       "      <td>4.251240</td>\n",
       "      <td>9.137262</td>\n",
       "      <td>7.722820</td>\n",
       "      <td>43.402215</td>\n",
       "      <td>63.299712</td>\n",
       "      <td>8.062878</td>\n",
       "      <td>2.040119</td>\n",
       "      <td>8.938947</td>\n",
       "      <td>2.461138</td>\n",
       "      <td>114.107029</td>\n",
       "      <td>...</td>\n",
       "      <td>14.975734</td>\n",
       "      <td>-500.704892</td>\n",
       "      <td>11.940294</td>\n",
       "      <td>-500.187742</td>\n",
       "      <td>10.988606</td>\n",
       "      <td>-500.458467</td>\n",
       "      <td>8.971105</td>\n",
       "      <td>-500.129462</td>\n",
       "      <td>14.983037</td>\n",
       "      <td>-500.728067</td>\n",
       "    </tr>\n",
       "    <tr>\n",
       "      <th>50%</th>\n",
       "      <td>5.066094</td>\n",
       "      <td>10.102433</td>\n",
       "      <td>9.218961</td>\n",
       "      <td>45.011244</td>\n",
       "      <td>68.172738</td>\n",
       "      <td>9.743623</td>\n",
       "      <td>2.748730</td>\n",
       "      <td>10.622456</td>\n",
       "      <td>2.984909</td>\n",
       "      <td>143.232103</td>\n",
       "      <td>...</td>\n",
       "      <td>18.017481</td>\n",
       "      <td>-499.837793</td>\n",
       "      <td>14.971014</td>\n",
       "      <td>-499.459786</td>\n",
       "      <td>15.000036</td>\n",
       "      <td>-499.802605</td>\n",
       "      <td>11.019433</td>\n",
       "      <td>-499.935317</td>\n",
       "      <td>19.960541</td>\n",
       "      <td>-500.048400</td>\n",
       "    </tr>\n",
       "    <tr>\n",
       "      <th>75%</th>\n",
       "      <td>5.895527</td>\n",
       "      <td>11.035769</td>\n",
       "      <td>10.947813</td>\n",
       "      <td>46.275313</td>\n",
       "      <td>72.686642</td>\n",
       "      <td>11.134294</td>\n",
       "      <td>3.333216</td>\n",
       "      <td>12.104271</td>\n",
       "      <td>3.571351</td>\n",
       "      <td>175.075656</td>\n",
       "      <td>...</td>\n",
       "      <td>23.012470</td>\n",
       "      <td>-498.249730</td>\n",
       "      <td>19.034162</td>\n",
       "      <td>-400.118106</td>\n",
       "      <td>18.026190</td>\n",
       "      <td>-498.384187</td>\n",
       "      <td>14.019088</td>\n",
       "      <td>-499.436708</td>\n",
       "      <td>24.003170</td>\n",
       "      <td>-499.495378</td>\n",
       "    </tr>\n",
       "    <tr>\n",
       "      <th>max</th>\n",
       "      <td>16.001945</td>\n",
       "      <td>17.031899</td>\n",
       "      <td>19.615720</td>\n",
       "      <td>52.756638</td>\n",
       "      <td>100.000000</td>\n",
       "      <td>19.552149</td>\n",
       "      <td>5.804178</td>\n",
       "      <td>22.317730</td>\n",
       "      <td>8.245022</td>\n",
       "      <td>265.983123</td>\n",
       "      <td>...</td>\n",
       "      <td>30.115735</td>\n",
       "      <td>-245.239184</td>\n",
       "      <td>31.269706</td>\n",
       "      <td>-6.506986</td>\n",
       "      <td>43.709931</td>\n",
       "      <td>-244.483566</td>\n",
       "      <td>27.926001</td>\n",
       "      <td>-137.740004</td>\n",
       "      <td>32.188906</td>\n",
       "      <td>-104.427459</td>\n",
       "    </tr>\n",
       "  </tbody>\n",
       "</table>\n",
       "<p>8 rows × 86 columns</p>\n",
       "</div>"
      ],
      "text/plain": [
       "       final.output.concentrate_ag  final.output.concentrate_pb  \\\n",
       "count                 19438.000000                 19438.000000   \n",
       "mean                      5.168470                     9.978895   \n",
       "std                       1.372348                     1.669240   \n",
       "min                       0.000000                     0.000000   \n",
       "25%                       4.251240                     9.137262   \n",
       "50%                       5.066094                    10.102433   \n",
       "75%                       5.895527                    11.035769   \n",
       "max                      16.001945                    17.031899   \n",
       "\n",
       "       final.output.concentrate_sol  final.output.concentrate_au  \\\n",
       "count                  19228.000000                 19439.000000   \n",
       "mean                       9.501224                    44.076513   \n",
       "std                        2.787537                     5.129784   \n",
       "min                        0.000000                     0.000000   \n",
       "25%                        7.722820                    43.402215   \n",
       "50%                        9.218961                    45.011244   \n",
       "75%                       10.947813                    46.275313   \n",
       "max                       19.615720                    52.756638   \n",
       "\n",
       "       final.output.recovery  final.output.tail_ag  final.output.tail_pb  \\\n",
       "count           19439.000000          19438.000000          19338.000000   \n",
       "mean               67.050208              9.688589              2.705795   \n",
       "std                10.125840              2.328642              0.949077   \n",
       "min                 0.000000              0.000000              0.000000   \n",
       "25%                63.299712              8.062878              2.040119   \n",
       "50%                68.172738              9.743623              2.748730   \n",
       "75%                72.686642             11.134294              3.333216   \n",
       "max               100.000000             19.552149              5.804178   \n",
       "\n",
       "       final.output.tail_sol  final.output.tail_au  \\\n",
       "count           19433.000000          19439.000000   \n",
       "mean               10.583728              3.042467   \n",
       "std                 2.868782              0.922808   \n",
       "min                 0.000000              0.000000   \n",
       "25%                 8.938947              2.461138   \n",
       "50%                10.622456              2.984909   \n",
       "75%                12.104271              3.571351   \n",
       "max                22.317730              8.245022   \n",
       "\n",
       "       primary_cleaner.input.sulfate  ...  \\\n",
       "count                   19415.000000  ...   \n",
       "mean                      144.624774  ...   \n",
       "std                        44.464071  ...   \n",
       "min                         0.003112  ...   \n",
       "25%                       114.107029  ...   \n",
       "50%                       143.232103  ...   \n",
       "75%                       175.075656  ...   \n",
       "max                       265.983123  ...   \n",
       "\n",
       "       secondary_cleaner.state.floatbank4_a_air  \\\n",
       "count                              19433.000000   \n",
       "mean                                  18.987674   \n",
       "std                                    5.411058   \n",
       "min                                    0.000000   \n",
       "25%                                   14.975734   \n",
       "50%                                   18.017481   \n",
       "75%                                   23.012470   \n",
       "max                                   30.115735   \n",
       "\n",
       "       secondary_cleaner.state.floatbank4_a_level  \\\n",
       "count                                19438.000000   \n",
       "mean                                  -485.894516   \n",
       "std                                     47.758570   \n",
       "min                                   -799.798523   \n",
       "25%                                   -500.704892   \n",
       "50%                                   -499.837793   \n",
       "75%                                   -498.249730   \n",
       "max                                   -245.239184   \n",
       "\n",
       "       secondary_cleaner.state.floatbank4_b_air  \\\n",
       "count                              19438.000000   \n",
       "mean                                  15.010366   \n",
       "std                                    4.890228   \n",
       "min                                    0.000000   \n",
       "25%                                   11.940294   \n",
       "50%                                   14.971014   \n",
       "75%                                   19.034162   \n",
       "max                                   31.269706   \n",
       "\n",
       "       secondary_cleaner.state.floatbank4_b_level  \\\n",
       "count                                19438.000000   \n",
       "mean                                  -461.078636   \n",
       "std                                     67.405524   \n",
       "min                                   -800.836914   \n",
       "25%                                   -500.187742   \n",
       "50%                                   -499.459786   \n",
       "75%                                   -400.118106   \n",
       "max                                     -6.506986   \n",
       "\n",
       "       secondary_cleaner.state.floatbank5_a_air  \\\n",
       "count                              19438.000000   \n",
       "mean                                  15.694452   \n",
       "std                                    5.510974   \n",
       "min                                   -0.372054   \n",
       "25%                                   10.988606   \n",
       "50%                                   15.000036   \n",
       "75%                                   18.026190   \n",
       "max                                   43.709931   \n",
       "\n",
       "       secondary_cleaner.state.floatbank5_a_level  \\\n",
       "count                                19438.000000   \n",
       "mean                                  -488.684065   \n",
       "std                                     34.533396   \n",
       "min                                   -797.323986   \n",
       "25%                                   -500.458467   \n",
       "50%                                   -499.802605   \n",
       "75%                                   -498.384187   \n",
       "max                                   -244.483566   \n",
       "\n",
       "       secondary_cleaner.state.floatbank5_b_air  \\\n",
       "count                              19438.000000   \n",
       "mean                                  12.198224   \n",
       "std                                    5.333024   \n",
       "min                                    0.528083   \n",
       "25%                                    8.971105   \n",
       "50%                                   11.019433   \n",
       "75%                                   14.019088   \n",
       "max                                   27.926001   \n",
       "\n",
       "       secondary_cleaner.state.floatbank5_b_level  \\\n",
       "count                                19438.000000   \n",
       "mean                                  -487.149827   \n",
       "std                                     38.347312   \n",
       "min                                   -800.220337   \n",
       "25%                                   -500.129462   \n",
       "50%                                   -499.935317   \n",
       "75%                                   -499.436708   \n",
       "max                                   -137.740004   \n",
       "\n",
       "       secondary_cleaner.state.floatbank6_a_air  \\\n",
       "count                              19437.000000   \n",
       "mean                                  18.959024   \n",
       "std                                    5.550498   \n",
       "min                                   -0.079426   \n",
       "25%                                   14.983037   \n",
       "50%                                   19.960541   \n",
       "75%                                   24.003170   \n",
       "max                                   32.188906   \n",
       "\n",
       "       secondary_cleaner.state.floatbank6_a_level  \n",
       "count                                19438.000000  \n",
       "mean                                  -505.436305  \n",
       "std                                     37.689057  \n",
       "min                                   -809.741464  \n",
       "25%                                   -500.728067  \n",
       "50%                                   -500.048400  \n",
       "75%                                   -499.495378  \n",
       "max                                   -104.427459  \n",
       "\n",
       "[8 rows x 86 columns]"
      ]
     },
     "metadata": {},
     "output_type": "display_data"
    },
    {
     "name": "stdout",
     "output_type": "stream",
     "text": [
      "****************************************\n"
     ]
    }
   ],
   "source": [
    "import pandas as pd\n",
    "import numpy as np\n",
    "import matplotlib.pyplot as plt\n",
    "\n",
    "from sklearn.tree import DecisionTreeRegressor\n",
    "from sklearn.linear_model import LinearRegression\n",
    "from sklearn.ensemble import RandomForestRegressor\n",
    "from sklearn.metrics import mean_absolute_error\n",
    "from sklearn.linear_model import LinearRegression\n",
    "from sklearn.model_selection import train_test_split, cross_val_score, RandomizedSearchCV\n",
    "from sklearn.metrics import make_scorer\n",
    "from sklearn.dummy import DummyRegressor\n",
    "\n",
    "df_train = pd.read_csv('/datasets/gold_recovery_train_new.csv', index_col='date')\n",
    "df_test = pd.read_csv('/datasets/gold_recovery_test_new.csv', index_col='date')\n",
    "df_full = pd.read_csv('/datasets/gold_recovery_full_new.csv', index_col='date')\n",
    "\n",
    "df_all = [df_train, df_test, df_full]\n",
    "\n",
    "for i in df_all:\n",
    "    display(i.head())\n",
    "    print(i.info())\n",
    "    display(i.describe())\n",
    "    print('*' * 40)"
   ]
  },
  {
   "cell_type": "markdown",
   "metadata": {},
   "source": [
    "We see that there are gaps in all 3 samples.\n",
    "\n",
    "There are significantly fewer features in the test sample\n",
    "\n",
    "All signs are of type float64"
   ]
  },
  {
   "cell_type": "markdown",
   "metadata": {},
   "source": [
    "Let's write a function to calculate recovery"
   ]
  },
  {
   "cell_type": "code",
   "execution_count": 233,
   "metadata": {},
   "outputs": [],
   "source": [
    "def recovery(c, f, t):\n",
    "    return (c * ( f - t )) / ( f * (c - t)) * 100"
   ]
  },
  {
   "cell_type": "markdown",
   "metadata": {},
   "source": [
    "Let's add the calculation to the training set"
   ]
  },
  {
   "cell_type": "code",
   "execution_count": 234,
   "metadata": {},
   "outputs": [],
   "source": [
    "df_train['recovery'] = recovery(\n",
    "    df_train['rougher.output.concentrate_au'], \n",
    "    df_train['rougher.input.feed_au'], \n",
    "    df_train['rougher.output.tail_au'])"
   ]
  },
  {
   "cell_type": "markdown",
   "metadata": {},
   "source": [
    "Let's calculate MAE"
   ]
  },
  {
   "cell_type": "code",
   "execution_count": 235,
   "metadata": {},
   "outputs": [
    {
     "data": {
      "text/plain": [
       "9.73512347450521e-15"
      ]
     },
     "execution_count": 235,
     "metadata": {},
     "output_type": "execute_result"
    }
   ],
   "source": [
    "mean_absolute_error(df_train['recovery'], df_train['rougher.output.recovery'])"
   ]
  },
  {
   "cell_type": "markdown",
   "metadata": {},
   "source": [
    "MAE turned out to be minimal, which tells us that the recovery calculation is correct"
   ]
  },
  {
   "cell_type": "markdown",
   "metadata": {},
   "source": [
    "Let's find the names of columns that are not in the test sample"
   ]
  },
  {
   "cell_type": "code",
   "execution_count": 236,
   "metadata": {},
   "outputs": [],
   "source": [
    "drop_columns = list(set(df_train.columns) - set(df_test.columns))"
   ]
  },
  {
   "cell_type": "markdown",
   "metadata": {},
   "source": [
    "Let's remove two columns final.output.recovery, rougher.output.recovery from the current list, because we'll need them"
   ]
  },
  {
   "cell_type": "code",
   "execution_count": 237,
   "metadata": {},
   "outputs": [],
   "source": [
    "drop_columns.remove('final.output.recovery')\n",
    "drop_columns.remove('rougher.output.recovery')"
   ]
  },
  {
   "cell_type": "markdown",
   "metadata": {},
   "source": [
    "Let's remove these columns from the training set"
   ]
  },
  {
   "cell_type": "code",
   "execution_count": 238,
   "metadata": {},
   "outputs": [],
   "source": [
    "df_train.drop(drop_columns, axis=1, inplace=True)"
   ]
  },
  {
   "cell_type": "markdown",
   "metadata": {},
   "source": [
    "Let's add the columns final.output.recovery, rougher.output.recovery to the test sample"
   ]
  },
  {
   "cell_type": "code",
   "execution_count": 239,
   "metadata": {},
   "outputs": [],
   "source": [
    "df_test = df_test.merge(df_full[['final.output.recovery', 'rougher.output.recovery']], \n",
    "                         left_index=True, right_index=True, how='left')"
   ]
  },
  {
   "cell_type": "markdown",
   "metadata": {},
   "source": [
    "Let's check the size"
   ]
  },
  {
   "cell_type": "code",
   "execution_count": 240,
   "metadata": {},
   "outputs": [
    {
     "data": {
      "text/plain": [
       "(54, 54)"
      ]
     },
     "execution_count": 240,
     "metadata": {},
     "output_type": "execute_result"
    }
   ],
   "source": [
    "df_train.shape[1], df_test.shape[1]"
   ]
  },
  {
   "cell_type": "markdown",
   "metadata": {},
   "source": [
    "Let's delete objects with empty values"
   ]
  },
  {
   "cell_type": "code",
   "execution_count": 241,
   "metadata": {},
   "outputs": [],
   "source": [
    "df_test.fillna(method='ffill', inplace=True)\n",
    "df_train.fillna(method='ffill', inplace=True)\n",
    "df_full.fillna(method='ffill', inplace=True)"
   ]
  },
  {
   "cell_type": "code",
   "execution_count": 242,
   "metadata": {},
   "outputs": [
    {
     "data": {
      "text/plain": [
       "((5290, 54), (14149, 54))"
      ]
     },
     "execution_count": 242,
     "metadata": {},
     "output_type": "execute_result"
    }
   ],
   "source": [
    "df_test.shape, df_train.shape"
   ]
  },
  {
   "cell_type": "markdown",
   "metadata": {},
   "source": [
    "### Conclusion\n",
    "\n",
    "We analyzed three samples.\n",
    "\n",
    "Removed unnecessary features from the training set.\n",
    "\n",
    "Found recovery\n",
    "\n",
    "I believe that the best way would be to delete objects with empty values, because... their volume is about 20% and filling them with random values ​​can lead to data distortion."
   ]
  },
  {
   "cell_type": "markdown",
   "metadata": {},
   "source": [
    "## Data analysis"
   ]
  },
  {
   "cell_type": "markdown",
   "metadata": {},
   "source": [
    "### Let's see how the concentration of metals (Au, Ag, Pb) changes at different stages of purification"
   ]
  },
  {
   "cell_type": "markdown",
   "metadata": {},
   "source": [
    "<b>Flotation stage</b>"
   ]
  },
  {
   "cell_type": "code",
   "execution_count": 243,
   "metadata": {},
   "outputs": [
    {
     "data": {
      "text/plain": [
       "<AxesSubplot:title={'center':'Флотация золота'}, ylabel='Frequency'>"
      ]
     },
     "execution_count": 243,
     "metadata": {},
     "output_type": "execute_result"
    },
    {
     "data": {
      "image/png": "[encoded data removed]",
      "text/plain": [
       "<Figure size 432x288 with 1 Axes>"
      ]
     },
     "metadata": {
      "needs_background": "light"
     },
     "output_type": "display_data"
    }
   ],
   "source": [
    "df_full.plot(kind='hist', y='rougher.output.concentrate_au', bins=100, title='Флотация золота')"
   ]
  },
  {
   "cell_type": "code",
   "execution_count": 244,
   "metadata": {},
   "outputs": [
    {
     "data": {
      "text/plain": [
       "<AxesSubplot:title={'center':'Флотация серебра'}, ylabel='Frequency'>"
      ]
     },
     "execution_count": 244,
     "metadata": {},
     "output_type": "execute_result"
    },
    {
     "data": {
      "image/png": "[encoded data removed]",
      "text/plain": [
       "<Figure size 432x288 with 1 Axes>"
      ]
     },
     "metadata": {
      "needs_background": "light"
     },
     "output_type": "display_data"
    }
   ],
   "source": [
    "df_full.plot(kind='hist', y='rougher.output.concentrate_ag', bins=100, title='Флотация серебра')"
   ]
  },
  {
   "cell_type": "code",
   "execution_count": 245,
   "metadata": {},
   "outputs": [
    {
     "data": {
      "text/plain": [
       "<AxesSubplot:title={'center':'Флотация свинца'}, ylabel='Frequency'>"
      ]
     },
     "execution_count": 245,
     "metadata": {},
     "output_type": "execute_result"
    },
    {
     "data": {
      "image/png": "[encoded data removed]",
      "text/plain": [
       "<Figure size 432x288 with 1 Axes>"
      ]
     },
     "metadata": {
      "needs_background": "light"
     },
     "output_type": "display_data"
    }
   ],
   "source": [
    "df_full.plot(kind='hist', y='rougher.output.concentrate_pb', bins=100, title='Флотация свинца')"
   ]
  },
  {
   "cell_type": "markdown",
   "metadata": {},
   "source": [
    "<b>Primary cleaning stage</b>"
   ]
  },
  {
   "cell_type": "code",
   "execution_count": 246,
   "metadata": {},
   "outputs": [
    {
     "data": {
      "text/plain": [
       "<AxesSubplot:title={'center':'Первичная очистка золота'}, ylabel='Frequency'>"
      ]
     },
     "execution_count": 246,
     "metadata": {},
     "output_type": "execute_result"
    },
    {
     "data": {
      "image/png": "[encoded data removed]",
      "text/plain": [
       "<Figure size 432x288 with 1 Axes>"
      ]
     },
     "metadata": {
      "needs_background": "light"
     },
     "output_type": "display_data"
    }
   ],
   "source": [
    "df_full.plot(kind='hist', y='primary_cleaner.output.concentrate_au', bins=100, title='Первичная очистка золота', color='green')"
   ]
  },
  {
   "cell_type": "code",
   "execution_count": 247,
   "metadata": {},
   "outputs": [
    {
     "data": {
      "text/plain": [
       "<AxesSubplot:title={'center':'Первичная очистка серебра'}, ylabel='Frequency'>"
      ]
     },
     "execution_count": 247,
     "metadata": {},
     "output_type": "execute_result"
    },
    {
     "data": {
      "image/png": "[encoded data removed]",
      "text/plain": [
       "<Figure size 432x288 with 1 Axes>"
      ]
     },
     "metadata": {
      "needs_background": "light"
     },
     "output_type": "display_data"
    }
   ],
   "source": [
    "df_full.plot(kind='hist', y='primary_cleaner.output.concentrate_ag', bins=100, title='Первичная очистка серебра', color='green')"
   ]
  },
  {
   "cell_type": "code",
   "execution_count": 248,
   "metadata": {},
   "outputs": [
    {
     "data": {
      "text/plain": [
       "<AxesSubplot:title={'center':'Первичная очистка свинца'}, ylabel='Frequency'>"
      ]
     },
     "execution_count": 248,
     "metadata": {},
     "output_type": "execute_result"
    },
    {
     "data": {
      "image/png": "[encoded data removed]",
      "text/plain": [
       "<Figure size 432x288 with 1 Axes>"
      ]
     },
     "metadata": {
      "needs_background": "light"
     },
     "output_type": "display_data"
    }
   ],
   "source": [
    "df_full.plot(kind='hist', y='primary_cleaner.output.concentrate_pb', bins=100, title='Первичная очистка свинца', color='green')"
   ]
  },
  {
   "cell_type": "markdown",
   "metadata": {},
   "source": [
    "<b>Final stage</b>"
   ]
  },
  {
   "cell_type": "code",
   "execution_count": 249,
   "metadata": {},
   "outputs": [
    {
     "data": {
      "text/plain": [
       "<AxesSubplot:title={'center':'Финальны этап золота'}, ylabel='Frequency'>"
      ]
     },
     "execution_count": 249,
     "metadata": {},
     "output_type": "execute_result"
    },
    {
     "data": {
      "image/png": "[encoded data removed]",
      "text/plain": [
       "<Figure size 432x288 with 1 Axes>"
      ]
     },
     "metadata": {
      "needs_background": "light"
     },
     "output_type": "display_data"
    }
   ],
   "source": [
    "df_full.plot(kind='hist', y='final.output.concentrate_au', bins=100, title='Финальны этап золота', color='red')"
   ]
  },
  {
   "cell_type": "code",
   "execution_count": 250,
   "metadata": {},
   "outputs": [
    {
     "data": {
      "text/plain": [
       "<AxesSubplot:title={'center':'Финальны этап серебра'}, ylabel='Frequency'>"
      ]
     },
     "execution_count": 250,
     "metadata": {},
     "output_type": "execute_result"
    },
    {
     "data": {
      "image/png": "[encoded data removed]",
      "text/plain": [
       "<Figure size 432x288 with 1 Axes>"
      ]
     },
     "metadata": {
      "needs_background": "light"
     },
     "output_type": "display_data"
    }
   ],
   "source": [
    "df_full.plot(kind='hist', y='final.output.concentrate_ag', bins=100, title='Финальны этап серебра', color='red')"
   ]
  },
  {
   "cell_type": "code",
   "execution_count": 251,
   "metadata": {
    "scrolled": true
   },
   "outputs": [
    {
     "data": {
      "text/plain": [
       "<AxesSubplot:title={'center':'Финальны этап свинца'}, ylabel='Frequency'>"
      ]
     },
     "execution_count": 251,
     "metadata": {},
     "output_type": "execute_result"
    },
    {
     "data": {
      "image/png": "[encoded data removed]",
      "text/plain": [
       "<Figure size 432x288 with 1 Axes>"
      ]
     },
     "metadata": {
      "needs_background": "light"
     },
     "output_type": "display_data"
    }
   ],
   "source": [
    "df_full.plot(kind='hist', y='final.output.concentrate_pb', bins=100, title='Финальны этап свинца', color='red')"
   ]
  },
  {
   "cell_type": "markdown",
   "metadata": {},
   "source": [
    "<b>Output</b>\n",
    "\n",
    "In principle we have a normal distribution. And we also see that the gold concentration increases at each subsequent stage, which is in principle logical"
   ]
  },
  {
   "cell_type": "markdown",
   "metadata": {},
   "source": [
    "### Let's compare the size distributions of raw material granules on the training and test samples."
   ]
  },
  {
   "cell_type": "code",
   "execution_count": 252,
   "metadata": {},
   "outputs": [
    {
     "data": {
      "image/png": "[encoded data removed]",
      "text/plain": [
       "<Figure size 432x288 with 1 Axes>"
      ]
     },
     "metadata": {
      "needs_background": "light"
     },
     "output_type": "display_data"
    }
   ],
   "source": [
    "plt.hist(df_train['rougher.input.feed_size'], bins=20)\n",
    "plt.hist(df_test['rougher.input.feed_size'], bins=20)\n",
    "plt.grid(True)\n",
    "plt.legend(['data_train', 'data_test'])\n",
    "plt.xlabel('Размеры частиц');\n",
    "plt.ylabel('Кол-во частиц');\n",
    "plt.title('Размеры частиц на этапе флотации')\n",
    "\n",
    "plt.show()"
   ]
  },
  {
   "cell_type": "code",
   "execution_count": 253,
   "metadata": {},
   "outputs": [
    {
     "data": {
      "image/png": "[encoded data removed]",
      "text/plain": [
       "<Figure size 432x288 with 1 Axes>"
      ]
     },
     "metadata": {
      "needs_background": "light"
     },
     "output_type": "display_data"
    }
   ],
   "source": [
    "plt.hist(df_train['primary_cleaner.input.feed_size'], bins=20)\n",
    "plt.hist(df_test['primary_cleaner.input.feed_size'], bins=20)\n",
    "plt.grid(True)\n",
    "plt.legend(['data_train', 'data_test'])\n",
    "plt.xlabel('Размеры частиц');\n",
    "plt.ylabel('Кол-во частиц');\n",
    "plt.title('Размеры частиц на этапе флотации')\n",
    "\n",
    "plt.show()"
   ]
  },
  {
   "cell_type": "markdown",
   "metadata": {},
   "source": [
    "<b>Output</b>\n",
    "\n",
    "We have almost the same value of granules in the training and test sets"
   ]
  },
  {
   "cell_type": "markdown",
   "metadata": {},
   "source": [
    "### We study the total concentration of all substances at different stages: in raw materials, in rough and final concentrates"
   ]
  },
  {
   "cell_type": "code",
   "execution_count": 254,
   "metadata": {
    "scrolled": false
   },
   "outputs": [
    {
     "name": "stderr",
     "output_type": "stream",
     "text": [
      "/tmp/ipykernel_36/2690028577.py:2: SettingWithCopyWarning: \n",
      "A value is trying to be set on a copy of a slice from a DataFrame.\n",
      "Try using .loc[row_indexer,col_indexer] = value instead\n",
      "\n",
      "See the caveats in the documentation: https://pandas.pydata.org/pandas-docs/stable/user_guide/indexing.html#returning-a-view-versus-a-copy\n",
      "  df_sum_rougher['rougher.output.sum'] = df_sum_rougher['rougher.output.concentrate_ag'] + df_sum_rougher['rougher.output.concentrate_pb'] + df_sum_rougher['rougher.output.concentrate_au'] + df_sum_rougher['rougher.output.concentrate_sol']\n"
     ]
    },
    {
     "data": {
      "text/plain": [
       "<AxesSubplot:title={'center':'Суммарная концентрация веществ на стадии флотации'}, ylabel='Frequency'>"
      ]
     },
     "execution_count": 254,
     "metadata": {},
     "output_type": "execute_result"
    },
    {
     "data": {
      "image/png": "[encoded data removed]",
      "text/plain": [
       "<Figure size 432x288 with 1 Axes>"
      ]
     },
     "metadata": {
      "needs_background": "light"
     },
     "output_type": "display_data"
    }
   ],
   "source": [
    "df_sum_rougher = df_full[['rougher.output.concentrate_ag', 'rougher.output.concentrate_pb', 'rougher.output.concentrate_au', 'rougher.output.concentrate_sol']]\n",
    "df_sum_rougher['rougher.output.sum'] = df_sum_rougher['rougher.output.concentrate_ag'] + df_sum_rougher['rougher.output.concentrate_pb'] + df_sum_rougher['rougher.output.concentrate_au'] + df_sum_rougher['rougher.output.concentrate_sol']\n",
    "df_sum_rougher.plot(kind='hist', y='rougher.output.sum', bins=100, title='Суммарная концентрация веществ на стадии флотации', color='blue')"
   ]
  },
  {
   "cell_type": "code",
   "execution_count": 255,
   "metadata": {},
   "outputs": [
    {
     "name": "stderr",
     "output_type": "stream",
     "text": [
      "/tmp/ipykernel_36/339186216.py:2: SettingWithCopyWarning: \n",
      "A value is trying to be set on a copy of a slice from a DataFrame.\n",
      "Try using .loc[row_indexer,col_indexer] = value instead\n",
      "\n",
      "See the caveats in the documentation: https://pandas.pydata.org/pandas-docs/stable/user_guide/indexing.html#returning-a-view-versus-a-copy\n",
      "  df_sum_primary['rougher.output.sum.primary'] = df_sum_primary['primary_cleaner.output.concentrate_ag'] + df_sum_primary['primary_cleaner.output.concentrate_pb'] + df_sum_primary['primary_cleaner.output.concentrate_au'] + df_sum_primary['primary_cleaner.output.concentrate_sol']\n"
     ]
    },
    {
     "data": {
      "text/plain": [
       "<AxesSubplot:title={'center':'Суммарная концентрация веществ на стадии первичной очистки'}, ylabel='Frequency'>"
      ]
     },
     "execution_count": 255,
     "metadata": {},
     "output_type": "execute_result"
    },
    {
     "data": {
      "image/png": "[encoded data removed]",
      "text/plain": [
       "<Figure size 432x288 with 1 Axes>"
      ]
     },
     "metadata": {
      "needs_background": "light"
     },
     "output_type": "display_data"
    }
   ],
   "source": [
    "df_sum_primary = df_full[['primary_cleaner.output.concentrate_ag', 'primary_cleaner.output.concentrate_pb', 'primary_cleaner.output.concentrate_au','primary_cleaner.output.concentrate_sol']]\n",
    "df_sum_primary['rougher.output.sum.primary'] = df_sum_primary['primary_cleaner.output.concentrate_ag'] + df_sum_primary['primary_cleaner.output.concentrate_pb'] + df_sum_primary['primary_cleaner.output.concentrate_au'] + df_sum_primary['primary_cleaner.output.concentrate_sol']\n",
    "df_sum_primary.plot(kind='hist', y='rougher.output.sum.primary', bins=100, title='Суммарная концентрация веществ на стадии первичной очистки', color='blue')"
   ]
  },
  {
   "cell_type": "code",
   "execution_count": 256,
   "metadata": {
    "scrolled": false
   },
   "outputs": [
    {
     "name": "stderr",
     "output_type": "stream",
     "text": [
      "/tmp/ipykernel_36/357287951.py:2: SettingWithCopyWarning: \n",
      "A value is trying to be set on a copy of a slice from a DataFrame.\n",
      "Try using .loc[row_indexer,col_indexer] = value instead\n",
      "\n",
      "See the caveats in the documentation: https://pandas.pydata.org/pandas-docs/stable/user_guide/indexing.html#returning-a-view-versus-a-copy\n",
      "  df_sum_final['rougher.output.sum.final'] = df_sum_final['final.output.concentrate_ag'] + df_sum_final['final.output.concentrate_pb'] + df_sum_final['final.output.concentrate_au'] + df_sum_final['final.output.concentrate_sol']\n"
     ]
    },
    {
     "data": {
      "text/plain": [
       "<AxesSubplot:title={'center':'Суммарная концентрация веществ на стадии финальной очистки'}, ylabel='Frequency'>"
      ]
     },
     "execution_count": 256,
     "metadata": {},
     "output_type": "execute_result"
    },
    {
     "data": {
      "image/png": "[encoded data removed]",
      "text/plain": [
       "<Figure size 432x288 with 1 Axes>"
      ]
     },
     "metadata": {
      "needs_background": "light"
     },
     "output_type": "display_data"
    }
   ],
   "source": [
    "df_sum_final = df_full[['final.output.concentrate_ag', 'final.output.concentrate_pb', 'final.output.concentrate_au','final.output.concentrate_sol']]\n",
    "df_sum_final['rougher.output.sum.final'] = df_sum_final['final.output.concentrate_ag'] + df_sum_final['final.output.concentrate_pb'] + df_sum_final['final.output.concentrate_au'] + df_sum_final['final.output.concentrate_sol']\n",
    "df_sum_final.plot(kind='hist', y='rougher.output.sum.final', bins=100, title='Суммарная концентрация веществ на стадии финальной очистки', color='blue')"
   ]
  },
  {
   "cell_type": "markdown",
   "metadata": {},
   "source": [
    "Let’s remove from the training and test samples all objects where the total concentration of substances is zero"
   ]
  },
  {
   "cell_type": "code",
   "execution_count": 257,
   "metadata": {},
   "outputs": [],
   "source": [
    "df_sum_rougher = df_sum_rougher[df_sum_rougher['rougher.output.sum'] == 0]\n",
    "df_sum_primary = df_sum_primary[df_sum_primary['rougher.output.sum.primary'] == 0]\n",
    "df_sum_final = df_sum_final[df_sum_final['rougher.output.sum.final'] == 0]\n",
    "\n",
    "df_drop_index = [df_sum_rougher.index, df_sum_primary.index, df_sum_final.index]\n",
    "datas = [df_train, df_test]\n",
    "\n",
    "for i in df_drop_index:\n",
    "    for j in i:\n",
    "        if j in df_train.index:\n",
    "            df_train = df_train.drop(j)\n",
    "        if j in df_test.index:\n",
    "            df_test = df_test.drop(j)\n"
   ]
  },
  {
   "cell_type": "code",
   "execution_count": 258,
   "metadata": {},
   "outputs": [
    {
     "data": {
      "text/plain": [
       "((5123, 54), (13725, 54))"
      ]
     },
     "execution_count": 258,
     "metadata": {},
     "output_type": "execute_result"
    }
   ],
   "source": [
    "df_test.shape, df_train.shape"
   ]
  },
  {
   "cell_type": "markdown",
   "metadata": {},
   "source": [
    "### Conclusion\n",
    "\n",
    "At the final stage of purification, the total concentration of substances has practically no emissions and is at a high level"
   ]
  },
  {
   "cell_type": "markdown",
   "metadata": {},
   "source": [
    "## Model"
   ]
  },
  {
   "cell_type": "markdown",
   "metadata": {},
   "source": [
    "### Let's write a function to calculate the final sMAPE."
   ]
  },
  {
   "cell_type": "code",
   "execution_count": 259,
   "metadata": {},
   "outputs": [],
   "source": [
    "def symmetric_mean_absolute_percentage_error(y_true_rougher, y_pred_rougher, y_true_final, y_pred_final): \n",
    "    return 0.25 * (100 / len(df_full) * np.sum(2 * np.abs(y_true_rougher - y_pred_rougher) / (np.abs(y_true_rougher) + np.abs(y_pred_rougher)))) + 0.75 * (100 / len(df_full) * np.sum(2 * np.abs(y_true_final - y_pred_final) / (np.abs(y_true_final) + np.abs(y_pred_final))))"
   ]
  },
  {
   "cell_type": "markdown",
   "metadata": {},
   "source": [
    "### Let's train different models and evaluate their quality using cross-validation."
   ]
  },
  {
   "cell_type": "code",
   "execution_count": 260,
   "metadata": {
    "scrolled": true
   },
   "outputs": [],
   "source": [
    "features_train_rougher = df_train.drop(['rougher.output.recovery'], axis=1)\n",
    "target_train_rougher = df_train['rougher.output.recovery']\n",
    "features_test_rougher = df_test.drop(['rougher.output.recovery'], axis=1)\n",
    "target_test_rougher = df_test['rougher.output.recovery']\n",
    "\n",
    "features_train_final = df_train.drop(['final.output.recovery'], axis=1)\n",
    "target_train_final = df_train['final.output.recovery']\n",
    "features_test_final = df_test.drop(['final.output.recovery'], axis=1)\n",
    "target_test_final = df_test['final.output.recovery']"
   ]
  },
  {
   "cell_type": "markdown",
   "metadata": {},
   "source": [
    "<b>Model: Decision tree</b>"
   ]
  },
  {
   "cell_type": "code",
   "execution_count": 261,
   "metadata": {},
   "outputs": [
    {
     "name": "stdout",
     "output_type": "stream",
     "text": [
      "cross_val_score: -0.48237770534276897\n",
      "cross_val_score: -1.2582353691715515\n",
      "Итоговое sMAPE: 2.9929592553282705\n"
     ]
    }
   ],
   "source": [
    "model_decision_tree_rougher = DecisionTreeRegressor(random_state=12345, )\n",
    "cross_val_score_rougher = cross_val_score(model_decision_tree_rougher, features_train_rougher, target_train_rougher, cv=5)\n",
    "final_score_rougher = cross_val_score_rougher.sum() / cross_val_score_rougher.shape[0]\n",
    "print('cross_val_score:', final_score_rougher)\n",
    "model_decision_tree_rougher.fit(features_train_rougher, target_train_rougher)\n",
    "predicted_rougher = model_decision_tree_rougher.predict(features_test_rougher)\n",
    "\n",
    "model_decision_tree_final = DecisionTreeRegressor(random_state=12345)\n",
    "cross_val_score_final = cross_val_score(model_decision_tree_final, features_train_final, target_train_final, cv=5)\n",
    "final_score_final = cross_val_score_final.sum() / cross_val_score_final.shape[0]\n",
    "print('cross_val_score:', final_score_final)\n",
    "model_decision_tree_final.fit(features_train_final, target_train_final)\n",
    "predicted_final = model_decision_tree_final.predict(features_test_final)\n",
    "\n",
    "print('Итоговое sMAPE:', \n",
    "    symmetric_mean_absolute_percentage_error(target_test_rougher, predicted_rougher, \n",
    "    target_test_final, predicted_final))"
   ]
  },
  {
   "cell_type": "markdown",
   "metadata": {},
   "source": [
    "<b>Model: Random Forest</b>"
   ]
  },
  {
   "cell_type": "code",
   "execution_count": 262,
   "metadata": {
    "scrolled": true
   },
   "outputs": [
    {
     "name": "stdout",
     "output_type": "stream",
     "text": [
      "cross_val_score: 0.2863531140869893\n",
      "cross_val_score: 0.0871580911638475\n",
      "Итоговое sMAPE: 2.697918471801014\n"
     ]
    }
   ],
   "source": [
    "model_random_forest_rougher = RandomForestRegressor(random_state=12345)\n",
    "cross_val_score_rougher = cross_val_score(model_random_forest_rougher, features_train_rougher, target_train_rougher, cv=5)\n",
    "final_score_rougher = cross_val_score_rougher.sum() / cross_val_score_rougher.shape[0]\n",
    "print('cross_val_score:', final_score_rougher)\n",
    "model_random_forest_rougher.fit(features_train_rougher, target_train_rougher)\n",
    "predicted_rougher = model_random_forest_rougher.predict(features_test_rougher)\n",
    "\n",
    "model_random_forest_final = RandomForestRegressor(random_state=12345)\n",
    "cross_val_score_final = cross_val_score(model_random_forest_final, features_train_final, target_train_final, cv=5)\n",
    "final_score_final = cross_val_score_final.sum() / cross_val_score_final.shape[0]\n",
    "print('cross_val_score:', final_score_final)\n",
    "model_random_forest_final.fit(features_train_final, target_train_final)\n",
    "predicted_final = model_random_forest_final.predict(features_test_final)\n",
    "\n",
    "print('Итоговое sMAPE:', \n",
    "    symmetric_mean_absolute_percentage_error(target_test_rougher, predicted_rougher, \n",
    "    target_test_final, predicted_final))"
   ]
  },
  {
   "cell_type": "markdown",
   "metadata": {},
   "source": [
    "<b>Model: Linear Regression</b>"
   ]
  },
  {
   "cell_type": "code",
   "execution_count": 263,
   "metadata": {},
   "outputs": [
    {
     "name": "stdout",
     "output_type": "stream",
     "text": [
      "cross_val_score: 0.11392523157727703\n",
      "cross_val_score: 0.2894483293971798\n",
      "Итоговое sMAPE: 11.15253637701447\n"
     ]
    }
   ],
   "source": [
    "model_logistic_rougher = LinearRegression()\n",
    "cross_val_score_rougher = cross_val_score(model_logistic_rougher, features_train_rougher, target_train_rougher, cv=5)\n",
    "final_score_rougher = cross_val_score_rougher.sum() / cross_val_score_rougher.shape[0]\n",
    "print('cross_val_score:', final_score_rougher)\n",
    "model_logistic_rougher.fit(features_train_rougher, target_train_rougher)\n",
    "predicted_rougher = model_logistic_rougher.predict(features_test_rougher)\n",
    "\n",
    "model_logistic_final = LinearRegression()\n",
    "cross_val_score_final = cross_val_score(model_logistic_final, features_train_final, target_train_final, cv=5)\n",
    "final_score_final = cross_val_score_final.sum() / cross_val_score_final.shape[0]\n",
    "print('cross_val_score:', final_score_final)\n",
    "model_logistic_final.fit(features_train_final, target_train_final)\n",
    "predicted_rougher = model_logistic_final.predict(features_test_final)\n",
    "\n",
    "print('Итоговое sMAPE:', \n",
    "    symmetric_mean_absolute_percentage_error(target_test_rougher, predicted_rougher, \n",
    "    target_test_final, predicted_final))"
   ]
  },
  {
   "cell_type": "markdown",
   "metadata": {},
   "source": [
    "The best model is Random Forest with Final sMAPE 2.7"
   ]
  },
  {
   "cell_type": "markdown",
   "metadata": {},
   "source": [
    "<b>Let's check the model for adequacy using DummyRegressor</b>"
   ]
  },
  {
   "cell_type": "code",
   "execution_count": 270,
   "metadata": {
    "scrolled": true
   },
   "outputs": [
    {
     "name": "stdout",
     "output_type": "stream",
     "text": [
      "cross_val_score: -0.37276636453001544\n",
      "cross_val_score: -0.08134243611038094\n",
      "Итоговое sMAPE: 2.0498560571056244\n"
     ]
    }
   ],
   "source": [
    "model_DummyRegressor_rougher = DummyRegressor(strategy=\"mean\")\n",
    "cross_val_score_rougher = cross_val_score(model_DummyRegressor_rougher, features_train_rougher, target_train_rougher, cv=5)\n",
    "final_score_rougher = cross_val_score_rougher.sum() / cross_val_score_rougher.shape[0]\n",
    "print('cross_val_score:', final_score_rougher)\n",
    "model_DummyRegressor_rougher.fit(features_train_rougher, target_train_rougher)\n",
    "predicted_rougher = model_DummyRegressor_rougher.predict(features_test_rougher)\n",
    "\n",
    "model_DummyRegressor_final = DummyRegressor(strategy=\"mean\")\n",
    "cross_val_score_final = cross_val_score(model_DummyRegressor_final, features_train_final, target_train_final, cv=5)\n",
    "final_score_final = cross_val_score_final.sum() / cross_val_score_final.shape[0]\n",
    "print('cross_val_score:', final_score_final)\n",
    "model_DummyRegressor_final.fit(features_train_final, target_train_final)\n",
    "predicted_final = model_DummyRegressor_final.predict(features_test_final)\n",
    "\n",
    "print('Итоговое sMAPE:', \n",
    "    symmetric_mean_absolute_percentage_error(target_test_rougher, predicted_rougher, \n",
    "    target_test_final, predicted_final))"
   ]
  },
  {
   "cell_type": "markdown",
   "metadata": {},
   "source": [
    "## Final comment"
   ]
  },
  {
   "cell_type": "markdown",
   "metadata": {},
   "source": [
    "We analyzed data from three samples of gold mining industry data.\n",
    "\n",
    "After working through the samples, we found how the concentration of metals (Au, Ag, Pb) changes at different stages of purification\n",
    "\n",
    "We built various models to calculate sMAPE. The best model for our task was the model: Random Forest with an indicator of 2.7\n",
    "\n",
    "We also checked the model for adequacy using DummyRegressor. sMAPE - 2.05"
   ]
  }
 ],
 "metadata": {
  "ExecuteTimeLog": [
   {
    "duration": 801,
    "start_time": "2022-03-21T12:16:04.560Z"
   },
   {
    "duration": 20,
    "start_time": "2022-03-21T12:16:42.352Z"
   },
   {
    "duration": 22,
    "start_time": "2022-03-21T12:16:51.870Z"
   },
   {
    "duration": 71,
    "start_time": "2022-03-21T12:17:00.684Z"
   },
   {
    "duration": 19,
    "start_time": "2022-03-21T12:17:17.175Z"
   },
   {
    "duration": 72,
    "start_time": "2022-03-21T12:17:21.190Z"
   },
   {
    "duration": 65,
    "start_time": "2022-03-21T12:17:25.766Z"
   },
   {
    "duration": 84,
    "start_time": "2022-03-21T12:17:28.362Z"
   },
   {
    "duration": 99,
    "start_time": "2022-03-21T12:18:05.079Z"
   },
   {
    "duration": 92,
    "start_time": "2022-03-21T12:18:10.275Z"
   },
   {
    "duration": 81,
    "start_time": "2022-03-21T12:18:15.294Z"
   },
   {
    "duration": 68,
    "start_time": "2022-03-21T12:18:38.810Z"
   },
   {
    "duration": 78,
    "start_time": "2022-03-21T12:21:46.680Z"
   },
   {
    "duration": 21,
    "start_time": "2022-03-21T12:21:56.332Z"
   },
   {
    "duration": 65,
    "start_time": "2022-03-21T12:22:55.172Z"
   },
   {
    "duration": 82,
    "start_time": "2022-03-21T12:22:59.471Z"
   },
   {
    "duration": 86,
    "start_time": "2022-03-21T12:23:02.951Z"
   },
   {
    "duration": 21,
    "start_time": "2022-03-21T12:23:07.777Z"
   },
   {
    "duration": 68,
    "start_time": "2022-03-21T12:25:23.253Z"
   },
   {
    "duration": 20,
    "start_time": "2022-03-21T12:25:28.956Z"
   },
   {
    "duration": 107,
    "start_time": "2022-03-21T12:25:54.902Z"
   },
   {
    "duration": 80,
    "start_time": "2022-03-21T12:26:05.724Z"
   },
   {
    "duration": 81,
    "start_time": "2022-03-21T12:26:09.381Z"
   },
   {
    "duration": 1276,
    "start_time": "2022-03-21T12:27:22.468Z"
   },
   {
    "duration": 15,
    "start_time": "2022-03-21T12:28:58.637Z"
   },
   {
    "duration": 14,
    "start_time": "2022-03-21T12:29:11.036Z"
   },
   {
    "duration": 12,
    "start_time": "2022-03-21T12:29:18.156Z"
   },
   {
    "duration": 13,
    "start_time": "2022-03-21T12:29:46.617Z"
   },
   {
    "duration": 1818,
    "start_time": "2022-03-22T08:41:32.814Z"
   },
   {
    "duration": 96,
    "start_time": "2022-03-22T08:43:21.865Z"
   },
   {
    "duration": 20,
    "start_time": "2022-03-22T08:43:33.880Z"
   },
   {
    "duration": 20,
    "start_time": "2022-03-22T08:44:26.330Z"
   },
   {
    "duration": 21,
    "start_time": "2022-03-22T08:44:32.895Z"
   },
   {
    "duration": 1721,
    "start_time": "2022-03-22T14:35:31.903Z"
   },
   {
    "duration": 840,
    "start_time": "2022-03-22T14:35:48.237Z"
   },
   {
    "duration": 860,
    "start_time": "2022-03-22T14:36:35.495Z"
   },
   {
    "duration": 848,
    "start_time": "2022-03-22T14:36:55.114Z"
   },
   {
    "duration": 836,
    "start_time": "2022-03-22T14:37:16.185Z"
   },
   {
    "duration": 4,
    "start_time": "2022-03-22T14:42:37.355Z"
   },
   {
    "duration": 3,
    "start_time": "2022-03-22T14:42:44.708Z"
   },
   {
    "duration": 3,
    "start_time": "2022-03-22T14:43:00.803Z"
   },
   {
    "duration": 3,
    "start_time": "2022-03-22T14:43:31.649Z"
   },
   {
    "duration": 4,
    "start_time": "2022-03-22T14:44:05.347Z"
   },
   {
    "duration": 4,
    "start_time": "2022-03-22T14:44:13.198Z"
   },
   {
    "duration": 3,
    "start_time": "2022-03-22T14:46:47.827Z"
   },
   {
    "duration": 841,
    "start_time": "2022-03-22T14:49:37.416Z"
   },
   {
    "duration": 809,
    "start_time": "2022-03-22T14:50:22.507Z"
   },
   {
    "duration": 1309,
    "start_time": "2022-03-22T14:50:52.663Z"
   },
   {
    "duration": 286,
    "start_time": "2022-03-22T14:55:40.695Z"
   },
   {
    "duration": 1336,
    "start_time": "2022-03-22T15:01:52.797Z"
   },
   {
    "duration": 52,
    "start_time": "2022-03-22T15:02:52.479Z"
   },
   {
    "duration": 3,
    "start_time": "2022-03-22T15:03:36.250Z"
   },
   {
    "duration": 11,
    "start_time": "2022-03-22T15:04:11.956Z"
   },
   {
    "duration": 47,
    "start_time": "2022-03-22T15:07:41.761Z"
   },
   {
    "duration": 12,
    "start_time": "2022-03-22T15:07:45.157Z"
   },
   {
    "duration": 20,
    "start_time": "2022-03-22T15:08:42.393Z"
   },
   {
    "duration": 10,
    "start_time": "2022-03-22T15:08:51.736Z"
   },
   {
    "duration": 20,
    "start_time": "2022-03-22T15:09:49.318Z"
   },
   {
    "duration": 27,
    "start_time": "2022-03-22T15:09:54.747Z"
   },
   {
    "duration": 11,
    "start_time": "2022-03-22T15:09:58.844Z"
   },
   {
    "duration": 20,
    "start_time": "2022-03-22T15:10:13.110Z"
   },
   {
    "duration": 20,
    "start_time": "2022-03-22T15:10:59.111Z"
   },
   {
    "duration": 13,
    "start_time": "2022-03-22T15:11:00.173Z"
   },
   {
    "duration": 1364,
    "start_time": "2022-03-22T15:14:35.151Z"
   },
   {
    "duration": 4,
    "start_time": "2022-03-22T15:16:41.526Z"
   },
   {
    "duration": 20,
    "start_time": "2022-03-22T15:17:02.216Z"
   },
   {
    "duration": 4,
    "start_time": "2022-03-22T15:17:03.082Z"
   },
   {
    "duration": 3,
    "start_time": "2022-03-22T15:19:15.640Z"
   },
   {
    "duration": 5,
    "start_time": "2022-03-22T15:19:20.688Z"
   },
   {
    "duration": 4,
    "start_time": "2022-03-22T15:21:46.868Z"
   },
   {
    "duration": 1378,
    "start_time": "2022-03-22T15:22:37.479Z"
   },
   {
    "duration": 4,
    "start_time": "2022-03-22T15:22:38.859Z"
   },
   {
    "duration": 12,
    "start_time": "2022-03-22T15:22:38.864Z"
   },
   {
    "duration": 37,
    "start_time": "2022-03-22T15:22:38.878Z"
   },
   {
    "duration": 4,
    "start_time": "2022-03-22T15:22:38.917Z"
   },
   {
    "duration": 19,
    "start_time": "2022-03-22T15:22:38.923Z"
   },
   {
    "duration": 5,
    "start_time": "2022-03-22T15:23:18.569Z"
   },
   {
    "duration": 3,
    "start_time": "2022-03-22T17:43:41.925Z"
   },
   {
    "duration": 8,
    "start_time": "2022-03-22T18:02:07.708Z"
   },
   {
    "duration": 17,
    "start_time": "2022-03-22T18:02:18.350Z"
   },
   {
    "duration": 3927,
    "start_time": "2022-03-22T18:02:51.309Z"
   },
   {
    "duration": 135,
    "start_time": "2022-03-22T18:10:15.057Z"
   },
   {
    "duration": 147,
    "start_time": "2022-03-22T18:10:42.660Z"
   },
   {
    "duration": 144,
    "start_time": "2022-03-22T18:11:00.578Z"
   },
   {
    "duration": 147,
    "start_time": "2022-03-22T18:11:33.692Z"
   },
   {
    "duration": 138,
    "start_time": "2022-03-22T18:11:59.679Z"
   },
   {
    "duration": 18,
    "start_time": "2022-03-22T18:12:12.597Z"
   },
   {
    "duration": 3379,
    "start_time": "2022-03-24T10:22:21.355Z"
   },
   {
    "duration": 1905,
    "start_time": "2022-03-24T10:22:30.025Z"
   },
   {
    "duration": 6,
    "start_time": "2022-03-24T10:22:31.933Z"
   },
   {
    "duration": 25,
    "start_time": "2022-03-24T10:22:31.942Z"
   },
   {
    "duration": 35,
    "start_time": "2022-03-24T10:22:31.971Z"
   },
   {
    "duration": 6,
    "start_time": "2022-03-24T10:22:32.008Z"
   },
   {
    "duration": 5,
    "start_time": "2022-03-24T10:22:32.017Z"
   },
   {
    "duration": 6,
    "start_time": "2022-03-24T10:22:32.024Z"
   },
   {
    "duration": 261,
    "start_time": "2022-03-24T10:22:32.069Z"
   },
   {
    "duration": 48,
    "start_time": "2022-03-24T10:22:32.332Z"
   },
   {
    "duration": 224,
    "start_time": "2022-03-24T10:24:08.298Z"
   },
   {
    "duration": 33,
    "start_time": "2022-03-24T10:24:14.545Z"
   },
   {
    "duration": 24,
    "start_time": "2022-03-24T10:25:56.812Z"
   },
   {
    "duration": 25,
    "start_time": "2022-03-24T10:26:36.111Z"
   },
   {
    "duration": 145,
    "start_time": "2022-03-24T10:28:02.819Z"
   },
   {
    "duration": 1737,
    "start_time": "2022-03-24T10:28:39.507Z"
   },
   {
    "duration": 19,
    "start_time": "2022-03-24T10:28:41.248Z"
   },
   {
    "duration": 7,
    "start_time": "2022-03-24T10:28:41.270Z"
   },
   {
    "duration": 32,
    "start_time": "2022-03-24T10:28:41.281Z"
   },
   {
    "duration": 6,
    "start_time": "2022-03-24T10:28:41.315Z"
   },
   {
    "duration": 47,
    "start_time": "2022-03-24T10:28:41.323Z"
   },
   {
    "duration": 6,
    "start_time": "2022-03-24T10:28:41.372Z"
   },
   {
    "duration": 251,
    "start_time": "2022-03-24T10:28:41.380Z"
   },
   {
    "duration": 41,
    "start_time": "2022-03-24T10:28:41.633Z"
   },
   {
    "duration": 21,
    "start_time": "2022-03-24T10:28:41.678Z"
   },
   {
    "duration": 23,
    "start_time": "2022-03-24T10:28:44.587Z"
   },
   {
    "duration": 11,
    "start_time": "2022-03-24T10:28:58.860Z"
   },
   {
    "duration": 1619,
    "start_time": "2022-03-24T10:29:16.480Z"
   },
   {
    "duration": 20,
    "start_time": "2022-03-24T10:29:25.459Z"
   },
   {
    "duration": 11,
    "start_time": "2022-03-24T10:29:48.572Z"
   },
   {
    "duration": 4,
    "start_time": "2022-03-24T10:31:34.243Z"
   },
   {
    "duration": 26,
    "start_time": "2022-03-24T10:31:35.584Z"
   },
   {
    "duration": 1751,
    "start_time": "2022-03-24T10:32:13.710Z"
   },
   {
    "duration": 6,
    "start_time": "2022-03-24T10:32:15.464Z"
   },
   {
    "duration": 6,
    "start_time": "2022-03-24T10:32:15.473Z"
   },
   {
    "duration": 29,
    "start_time": "2022-03-24T10:32:15.482Z"
   },
   {
    "duration": 6,
    "start_time": "2022-03-24T10:32:15.513Z"
   },
   {
    "duration": 50,
    "start_time": "2022-03-24T10:32:15.521Z"
   },
   {
    "duration": 6,
    "start_time": "2022-03-24T10:32:15.573Z"
   },
   {
    "duration": 26,
    "start_time": "2022-03-24T10:32:15.581Z"
   },
   {
    "duration": 0,
    "start_time": "2022-03-24T10:32:15.610Z"
   },
   {
    "duration": 0,
    "start_time": "2022-03-24T10:32:15.612Z"
   },
   {
    "duration": 5,
    "start_time": "2022-03-24T10:32:30.789Z"
   },
   {
    "duration": 25,
    "start_time": "2022-03-24T10:32:32.485Z"
   },
   {
    "duration": 30,
    "start_time": "2022-03-24T10:32:33.457Z"
   },
   {
    "duration": 4,
    "start_time": "2022-03-24T10:33:10.391Z"
   },
   {
    "duration": 223,
    "start_time": "2022-03-24T10:33:11.519Z"
   },
   {
    "duration": 19,
    "start_time": "2022-03-24T10:33:29.989Z"
   },
   {
    "duration": 6,
    "start_time": "2022-03-24T10:33:34.584Z"
   },
   {
    "duration": 41,
    "start_time": "2022-03-24T10:34:21.602Z"
   },
   {
    "duration": 12,
    "start_time": "2022-03-24T10:34:26.127Z"
   },
   {
    "duration": 13,
    "start_time": "2022-03-24T10:34:40.032Z"
   },
   {
    "duration": 8,
    "start_time": "2022-03-24T10:35:30.994Z"
   },
   {
    "duration": 8,
    "start_time": "2022-03-24T10:35:40.731Z"
   },
   {
    "duration": 7,
    "start_time": "2022-03-24T10:36:00.844Z"
   },
   {
    "duration": 6,
    "start_time": "2022-03-24T10:36:21.338Z"
   },
   {
    "duration": 7,
    "start_time": "2022-03-24T10:37:28.837Z"
   },
   {
    "duration": 6,
    "start_time": "2022-03-24T10:37:36.030Z"
   },
   {
    "duration": 5,
    "start_time": "2022-03-24T10:37:40.320Z"
   },
   {
    "duration": 8,
    "start_time": "2022-03-24T10:37:42.572Z"
   },
   {
    "duration": 34,
    "start_time": "2022-03-24T10:37:44.496Z"
   },
   {
    "duration": 20,
    "start_time": "2022-03-24T10:37:47.250Z"
   },
   {
    "duration": 15,
    "start_time": "2022-03-24T10:37:48.264Z"
   },
   {
    "duration": 10,
    "start_time": "2022-03-24T10:37:56.737Z"
   },
   {
    "duration": 5,
    "start_time": "2022-03-24T10:39:04.185Z"
   },
   {
    "duration": 31,
    "start_time": "2022-03-24T10:39:10.161Z"
   },
   {
    "duration": 145,
    "start_time": "2022-03-24T10:49:44.553Z"
   },
   {
    "duration": 26,
    "start_time": "2022-03-24T10:49:45.070Z"
   },
   {
    "duration": 4,
    "start_time": "2022-03-24T10:50:26.027Z"
   },
   {
    "duration": 217,
    "start_time": "2022-03-24T10:50:26.685Z"
   },
   {
    "duration": 26,
    "start_time": "2022-03-24T11:33:35.426Z"
   },
   {
    "duration": 26,
    "start_time": "2022-03-24T11:35:55.228Z"
   },
   {
    "duration": 36,
    "start_time": "2022-03-24T11:36:17.077Z"
   },
   {
    "duration": 10,
    "start_time": "2022-03-24T11:36:29.507Z"
   },
   {
    "duration": 11,
    "start_time": "2022-03-24T11:36:40.077Z"
   },
   {
    "duration": 9,
    "start_time": "2022-03-24T11:36:50.802Z"
   },
   {
    "duration": 10,
    "start_time": "2022-03-24T11:36:56.827Z"
   },
   {
    "duration": 11,
    "start_time": "2022-03-24T11:37:06.562Z"
   },
   {
    "duration": 1727,
    "start_time": "2022-03-24T11:37:29.935Z"
   },
   {
    "duration": 31,
    "start_time": "2022-03-24T11:37:31.668Z"
   },
   {
    "duration": 31,
    "start_time": "2022-03-24T11:37:33.335Z"
   },
   {
    "duration": 11,
    "start_time": "2022-03-24T11:37:54.063Z"
   },
   {
    "duration": 11,
    "start_time": "2022-03-24T11:38:00.086Z"
   },
   {
    "duration": 11,
    "start_time": "2022-03-24T11:38:06.258Z"
   },
   {
    "duration": 3,
    "start_time": "2022-03-24T11:40:10.751Z"
   },
   {
    "duration": 8,
    "start_time": "2022-03-24T11:46:02.192Z"
   },
   {
    "duration": 35,
    "start_time": "2022-03-24T11:46:18.189Z"
   },
   {
    "duration": 99,
    "start_time": "2022-03-24T11:47:17.758Z"
   },
   {
    "duration": 11,
    "start_time": "2022-03-24T11:47:20.638Z"
   },
   {
    "duration": 11,
    "start_time": "2022-03-24T11:47:29.303Z"
   },
   {
    "duration": 2011,
    "start_time": "2022-03-24T11:48:10.690Z"
   },
   {
    "duration": 9,
    "start_time": "2022-03-24T11:48:42.457Z"
   },
   {
    "duration": 10,
    "start_time": "2022-03-24T12:50:35.337Z"
   },
   {
    "duration": 9,
    "start_time": "2022-03-24T12:51:00.737Z"
   },
   {
    "duration": 10,
    "start_time": "2022-03-24T12:51:15.585Z"
   },
   {
    "duration": 10,
    "start_time": "2022-03-24T12:51:19.636Z"
   },
   {
    "duration": 11,
    "start_time": "2022-03-24T12:51:25.216Z"
   },
   {
    "duration": 11,
    "start_time": "2022-03-24T12:51:36.823Z"
   },
   {
    "duration": 11,
    "start_time": "2022-03-24T12:57:55.720Z"
   },
   {
    "duration": 748,
    "start_time": "2022-03-24T12:58:00.679Z"
   },
   {
    "duration": 22,
    "start_time": "2022-03-24T12:59:02.920Z"
   },
   {
    "duration": 279,
    "start_time": "2022-03-24T12:59:06.517Z"
   },
   {
    "duration": 446,
    "start_time": "2022-03-24T12:59:11.358Z"
   },
   {
    "duration": 93,
    "start_time": "2022-03-24T12:59:42.960Z"
   },
   {
    "duration": 11,
    "start_time": "2022-03-24T12:59:47.572Z"
   },
   {
    "duration": 11,
    "start_time": "2022-03-24T12:59:53.967Z"
   },
   {
    "duration": 12,
    "start_time": "2022-03-24T13:00:01.089Z"
   },
   {
    "duration": 390,
    "start_time": "2022-03-24T13:00:03.121Z"
   },
   {
    "duration": 456,
    "start_time": "2022-03-24T13:00:15.250Z"
   },
   {
    "duration": 729,
    "start_time": "2022-03-24T13:01:01.679Z"
   },
   {
    "duration": 467,
    "start_time": "2022-03-24T13:04:02.922Z"
   },
   {
    "duration": 487,
    "start_time": "2022-03-24T13:04:41.771Z"
   },
   {
    "duration": 479,
    "start_time": "2022-03-24T13:05:21.252Z"
   },
   {
    "duration": 93,
    "start_time": "2022-03-24T13:07:11.976Z"
   },
   {
    "duration": 467,
    "start_time": "2022-03-24T13:07:52.629Z"
   },
   {
    "duration": 377,
    "start_time": "2022-03-24T13:08:40.232Z"
   },
   {
    "duration": 470,
    "start_time": "2022-03-24T13:09:43.087Z"
   },
   {
    "duration": 450,
    "start_time": "2022-03-24T13:09:51.482Z"
   },
   {
    "duration": 497,
    "start_time": "2022-03-24T13:10:00.458Z"
   },
   {
    "duration": 740,
    "start_time": "2022-03-24T13:10:12.382Z"
   },
   {
    "duration": 535,
    "start_time": "2022-03-24T13:10:44.262Z"
   },
   {
    "duration": 96,
    "start_time": "2022-03-24T13:11:31.702Z"
   },
   {
    "duration": 464,
    "start_time": "2022-03-24T13:12:21.881Z"
   },
   {
    "duration": 465,
    "start_time": "2022-03-24T13:12:35.455Z"
   },
   {
    "duration": 484,
    "start_time": "2022-03-24T13:12:50.670Z"
   },
   {
    "duration": 698,
    "start_time": "2022-03-24T13:14:16.949Z"
   },
   {
    "duration": 453,
    "start_time": "2022-03-24T13:24:35.894Z"
   },
   {
    "duration": 448,
    "start_time": "2022-03-24T13:24:48.966Z"
   },
   {
    "duration": 575,
    "start_time": "2022-03-24T13:29:14.538Z"
   },
   {
    "duration": 431,
    "start_time": "2022-03-24T13:31:26.841Z"
   },
   {
    "duration": 13,
    "start_time": "2022-03-24T13:31:51.140Z"
   },
   {
    "duration": 454,
    "start_time": "2022-03-24T13:31:55.562Z"
   },
   {
    "duration": 768,
    "start_time": "2022-03-24T13:47:49.262Z"
   },
   {
    "duration": 442,
    "start_time": "2022-03-24T13:49:19.780Z"
   },
   {
    "duration": 19,
    "start_time": "2022-03-24T13:49:28.972Z"
   },
   {
    "duration": 454,
    "start_time": "2022-03-24T13:49:39.427Z"
   },
   {
    "duration": 1521,
    "start_time": "2022-03-24T13:52:52.661Z"
   },
   {
    "duration": 477,
    "start_time": "2022-03-24T13:53:11.831Z"
   },
   {
    "duration": 539,
    "start_time": "2022-03-24T13:57:57.796Z"
   },
   {
    "duration": 455,
    "start_time": "2022-03-24T13:59:55.293Z"
   },
   {
    "duration": 6,
    "start_time": "2022-03-24T14:33:36.673Z"
   },
   {
    "duration": 21,
    "start_time": "2022-03-24T14:39:12.418Z"
   },
   {
    "duration": 13,
    "start_time": "2022-03-24T14:39:38.717Z"
   },
   {
    "duration": 24,
    "start_time": "2022-03-24T14:39:48.429Z"
   },
   {
    "duration": 5374,
    "start_time": "2022-03-24T15:02:14.340Z"
   },
   {
    "duration": 34,
    "start_time": "2022-03-24T15:02:19.717Z"
   },
   {
    "duration": 16,
    "start_time": "2022-03-24T15:02:19.754Z"
   },
   {
    "duration": 8,
    "start_time": "2022-03-24T15:02:19.773Z"
   },
   {
    "duration": 9,
    "start_time": "2022-03-24T15:02:19.783Z"
   },
   {
    "duration": 17,
    "start_time": "2022-03-24T15:04:32.455Z"
   },
   {
    "duration": 5,
    "start_time": "2022-03-24T15:04:42.170Z"
   },
   {
    "duration": 5,
    "start_time": "2022-03-24T15:04:46.907Z"
   },
   {
    "duration": 4,
    "start_time": "2022-03-24T15:08:45.965Z"
   },
   {
    "duration": 6,
    "start_time": "2022-03-24T15:08:47.820Z"
   },
   {
    "duration": 4,
    "start_time": "2022-03-24T15:10:02.238Z"
   },
   {
    "duration": 15,
    "start_time": "2022-03-24T15:11:16.556Z"
   },
   {
    "duration": 5,
    "start_time": "2022-03-24T15:11:39.153Z"
   },
   {
    "duration": 6,
    "start_time": "2022-03-24T15:11:41.889Z"
   },
   {
    "duration": 5,
    "start_time": "2022-03-24T15:11:51.136Z"
   },
   {
    "duration": 458,
    "start_time": "2022-03-24T15:12:16.816Z"
   },
   {
    "duration": 485,
    "start_time": "2022-03-24T15:12:18.358Z"
   },
   {
    "duration": 13,
    "start_time": "2022-03-24T15:14:17.413Z"
   },
   {
    "duration": 5,
    "start_time": "2022-03-24T15:14:20.433Z"
   },
   {
    "duration": 1763,
    "start_time": "2022-03-24T15:14:37.135Z"
   },
   {
    "duration": 33,
    "start_time": "2022-03-24T15:14:38.900Z"
   },
   {
    "duration": 4,
    "start_time": "2022-03-24T15:14:38.935Z"
   },
   {
    "duration": 29,
    "start_time": "2022-03-24T15:14:38.943Z"
   },
   {
    "duration": 9,
    "start_time": "2022-03-24T15:14:38.974Z"
   },
   {
    "duration": 4,
    "start_time": "2022-03-24T15:14:38.985Z"
   },
   {
    "duration": 5,
    "start_time": "2022-03-24T15:14:38.991Z"
   },
   {
    "duration": 15,
    "start_time": "2022-03-24T15:14:38.998Z"
   },
   {
    "duration": 53,
    "start_time": "2022-03-24T15:14:39.015Z"
   },
   {
    "duration": 5,
    "start_time": "2022-03-24T15:14:39.074Z"
   },
   {
    "duration": 482,
    "start_time": "2022-03-24T15:14:39.081Z"
   },
   {
    "duration": 499,
    "start_time": "2022-03-24T15:14:39.568Z"
   },
   {
    "duration": 500,
    "start_time": "2022-03-24T15:14:40.070Z"
   },
   {
    "duration": 811,
    "start_time": "2022-03-24T15:14:40.572Z"
   },
   {
    "duration": 593,
    "start_time": "2022-03-24T15:14:41.385Z"
   },
   {
    "duration": 528,
    "start_time": "2022-03-24T15:14:41.980Z"
   },
   {
    "duration": 472,
    "start_time": "2022-03-24T15:14:42.510Z"
   },
   {
    "duration": 474,
    "start_time": "2022-03-24T15:14:42.984Z"
   },
   {
    "duration": 511,
    "start_time": "2022-03-24T15:14:43.467Z"
   },
   {
    "duration": 453,
    "start_time": "2022-03-24T15:14:43.980Z"
   },
   {
    "duration": 533,
    "start_time": "2022-03-24T15:14:44.435Z"
   },
   {
    "duration": 461,
    "start_time": "2022-03-24T15:14:44.970Z"
   },
   {
    "duration": 464,
    "start_time": "2022-03-24T15:14:45.433Z"
   },
   {
    "duration": 463,
    "start_time": "2022-03-24T15:14:45.899Z"
   },
   {
    "duration": 495,
    "start_time": "2022-03-24T15:14:46.368Z"
   },
   {
    "duration": 480,
    "start_time": "2022-03-24T15:14:46.868Z"
   },
   {
    "duration": 6,
    "start_time": "2022-03-24T15:14:47.350Z"
   },
   {
    "duration": 6,
    "start_time": "2022-03-24T15:15:06.046Z"
   },
   {
    "duration": 13,
    "start_time": "2022-03-24T15:15:07.545Z"
   },
   {
    "duration": 13,
    "start_time": "2022-03-24T15:19:46.504Z"
   },
   {
    "duration": 1752,
    "start_time": "2022-03-24T15:20:20.150Z"
   },
   {
    "duration": 1796,
    "start_time": "2022-03-24T15:20:30.372Z"
   },
   {
    "duration": 31,
    "start_time": "2022-03-24T15:20:32.170Z"
   },
   {
    "duration": 4,
    "start_time": "2022-03-24T15:20:32.203Z"
   },
   {
    "duration": 7,
    "start_time": "2022-03-24T15:20:32.210Z"
   },
   {
    "duration": 10,
    "start_time": "2022-03-24T15:20:32.219Z"
   },
   {
    "duration": 37,
    "start_time": "2022-03-24T15:20:32.232Z"
   },
   {
    "duration": 4,
    "start_time": "2022-03-24T15:20:32.274Z"
   },
   {
    "duration": 16,
    "start_time": "2022-03-24T15:20:32.281Z"
   },
   {
    "duration": 29,
    "start_time": "2022-03-24T15:20:32.299Z"
   },
   {
    "duration": 9,
    "start_time": "2022-03-24T15:20:32.332Z"
   },
   {
    "duration": 924,
    "start_time": "2022-03-24T15:20:32.343Z"
   },
   {
    "duration": 484,
    "start_time": "2022-03-24T15:20:33.269Z"
   },
   {
    "duration": 483,
    "start_time": "2022-03-24T15:20:33.755Z"
   },
   {
    "duration": 469,
    "start_time": "2022-03-24T15:20:34.241Z"
   },
   {
    "duration": 506,
    "start_time": "2022-03-24T15:20:34.712Z"
   },
   {
    "duration": 503,
    "start_time": "2022-03-24T15:20:35.221Z"
   },
   {
    "duration": 494,
    "start_time": "2022-03-24T15:20:35.727Z"
   },
   {
    "duration": 481,
    "start_time": "2022-03-24T15:20:36.223Z"
   },
   {
    "duration": 838,
    "start_time": "2022-03-24T15:20:36.707Z"
   },
   {
    "duration": 499,
    "start_time": "2022-03-24T15:20:37.548Z"
   },
   {
    "duration": 498,
    "start_time": "2022-03-24T15:20:38.050Z"
   },
   {
    "duration": 442,
    "start_time": "2022-03-24T15:20:38.550Z"
   },
   {
    "duration": 463,
    "start_time": "2022-03-24T15:20:38.994Z"
   },
   {
    "duration": 450,
    "start_time": "2022-03-24T15:20:39.467Z"
   },
   {
    "duration": 508,
    "start_time": "2022-03-24T15:20:39.920Z"
   },
   {
    "duration": 492,
    "start_time": "2022-03-24T15:20:40.431Z"
   },
   {
    "duration": 5,
    "start_time": "2022-03-24T15:20:40.925Z"
   },
   {
    "duration": 34,
    "start_time": "2022-03-24T15:20:40.935Z"
   },
   {
    "duration": 14,
    "start_time": "2022-03-24T15:20:44.843Z"
   },
   {
    "duration": 1719,
    "start_time": "2022-03-24T15:20:45.461Z"
   },
   {
    "duration": 17,
    "start_time": "2022-03-24T15:22:28.533Z"
   },
   {
    "duration": 1822,
    "start_time": "2022-03-24T15:22:30.556Z"
   },
   {
    "duration": 11,
    "start_time": "2022-03-24T15:23:00.912Z"
   },
   {
    "duration": 7,
    "start_time": "2022-03-24T15:23:11.692Z"
   },
   {
    "duration": 9,
    "start_time": "2022-03-24T15:23:21.829Z"
   },
   {
    "duration": 22,
    "start_time": "2022-03-24T15:27:24.442Z"
   },
   {
    "duration": 27,
    "start_time": "2022-03-24T15:27:38.529Z"
   },
   {
    "duration": 1772,
    "start_time": "2022-03-24T15:28:17.139Z"
   },
   {
    "duration": 32,
    "start_time": "2022-03-24T15:28:20.909Z"
   },
   {
    "duration": 4,
    "start_time": "2022-03-24T15:28:22.564Z"
   },
   {
    "duration": 7,
    "start_time": "2022-03-24T15:28:24.746Z"
   },
   {
    "duration": 10,
    "start_time": "2022-03-24T15:28:31.109Z"
   },
   {
    "duration": 1773,
    "start_time": "2022-03-24T15:30:25.297Z"
   },
   {
    "duration": 4,
    "start_time": "2022-03-24T15:30:27.073Z"
   },
   {
    "duration": 9,
    "start_time": "2022-03-24T15:30:27.079Z"
   },
   {
    "duration": 10,
    "start_time": "2022-03-24T15:30:27.091Z"
   },
   {
    "duration": 6,
    "start_time": "2022-03-24T15:30:27.103Z"
   },
   {
    "duration": 5,
    "start_time": "2022-03-24T15:30:27.111Z"
   },
   {
    "duration": 55,
    "start_time": "2022-03-24T15:30:27.118Z"
   },
   {
    "duration": 11,
    "start_time": "2022-03-24T15:30:27.176Z"
   },
   {
    "duration": 7,
    "start_time": "2022-03-24T15:30:27.189Z"
   },
   {
    "duration": 31,
    "start_time": "2022-03-24T15:31:01.038Z"
   },
   {
    "duration": 2215,
    "start_time": "2022-03-24T15:31:15.971Z"
   },
   {
    "duration": 4,
    "start_time": "2022-03-24T15:31:18.189Z"
   },
   {
    "duration": 7,
    "start_time": "2022-03-24T15:31:18.195Z"
   },
   {
    "duration": 9,
    "start_time": "2022-03-24T15:31:18.205Z"
   },
   {
    "duration": 4,
    "start_time": "2022-03-24T15:31:18.216Z"
   },
   {
    "duration": 5,
    "start_time": "2022-03-24T15:31:18.222Z"
   },
   {
    "duration": 11,
    "start_time": "2022-03-24T15:31:18.268Z"
   },
   {
    "duration": 12,
    "start_time": "2022-03-24T15:31:18.282Z"
   },
   {
    "duration": 7,
    "start_time": "2022-03-24T15:31:18.296Z"
   },
   {
    "duration": 69,
    "start_time": "2022-03-24T15:31:18.309Z"
   },
   {
    "duration": 487,
    "start_time": "2022-03-24T15:31:18.380Z"
   },
   {
    "duration": 501,
    "start_time": "2022-03-24T15:31:18.869Z"
   },
   {
    "duration": 482,
    "start_time": "2022-03-24T15:31:19.372Z"
   },
   {
    "duration": 469,
    "start_time": "2022-03-24T15:31:19.857Z"
   },
   {
    "duration": 498,
    "start_time": "2022-03-24T15:31:20.328Z"
   },
   {
    "duration": 522,
    "start_time": "2022-03-24T15:31:20.828Z"
   },
   {
    "duration": 473,
    "start_time": "2022-03-24T15:31:21.352Z"
   },
   {
    "duration": 467,
    "start_time": "2022-03-24T15:31:21.827Z"
   },
   {
    "duration": 489,
    "start_time": "2022-03-24T15:31:22.297Z"
   },
   {
    "duration": 461,
    "start_time": "2022-03-24T15:31:22.788Z"
   },
   {
    "duration": 478,
    "start_time": "2022-03-24T15:31:23.252Z"
   },
   {
    "duration": 460,
    "start_time": "2022-03-24T15:31:23.732Z"
   },
   {
    "duration": 466,
    "start_time": "2022-03-24T15:31:24.194Z"
   },
   {
    "duration": 476,
    "start_time": "2022-03-24T15:31:24.662Z"
   },
   {
    "duration": 479,
    "start_time": "2022-03-24T15:31:25.140Z"
   },
   {
    "duration": 487,
    "start_time": "2022-03-24T15:31:25.622Z"
   },
   {
    "duration": 6,
    "start_time": "2022-03-24T15:31:26.111Z"
   },
   {
    "duration": 21,
    "start_time": "2022-03-24T15:31:34.662Z"
   },
   {
    "duration": 1809,
    "start_time": "2022-03-24T15:31:39.163Z"
   },
   {
    "duration": 13,
    "start_time": "2022-03-24T15:34:03.885Z"
   },
   {
    "duration": 1804,
    "start_time": "2022-03-24T15:34:27.397Z"
   },
   {
    "duration": 1771,
    "start_time": "2022-03-24T15:34:35.556Z"
   },
   {
    "duration": 4,
    "start_time": "2022-03-24T15:34:37.329Z"
   },
   {
    "duration": 7,
    "start_time": "2022-03-24T15:34:37.336Z"
   },
   {
    "duration": 29,
    "start_time": "2022-03-24T15:34:37.346Z"
   },
   {
    "duration": 4,
    "start_time": "2022-03-24T15:34:37.377Z"
   },
   {
    "duration": 4,
    "start_time": "2022-03-24T15:34:37.384Z"
   },
   {
    "duration": 15,
    "start_time": "2022-03-24T15:34:37.391Z"
   },
   {
    "duration": 13,
    "start_time": "2022-03-24T15:34:37.408Z"
   },
   {
    "duration": 5,
    "start_time": "2022-03-24T15:34:37.467Z"
   },
   {
    "duration": 28,
    "start_time": "2022-03-24T15:34:37.478Z"
   },
   {
    "duration": 479,
    "start_time": "2022-03-24T15:34:37.508Z"
   },
   {
    "duration": 501,
    "start_time": "2022-03-24T15:34:37.990Z"
   },
   {
    "duration": 487,
    "start_time": "2022-03-24T15:34:38.494Z"
   },
   {
    "duration": 1010,
    "start_time": "2022-03-24T15:34:38.984Z"
   },
   {
    "duration": 500,
    "start_time": "2022-03-24T15:34:39.996Z"
   },
   {
    "duration": 505,
    "start_time": "2022-03-24T15:34:40.498Z"
   },
   {
    "duration": 482,
    "start_time": "2022-03-24T15:34:41.006Z"
   },
   {
    "duration": 469,
    "start_time": "2022-03-24T15:34:41.491Z"
   },
   {
    "duration": 494,
    "start_time": "2022-03-24T15:34:41.968Z"
   },
   {
    "duration": 462,
    "start_time": "2022-03-24T15:34:42.464Z"
   },
   {
    "duration": 488,
    "start_time": "2022-03-24T15:34:42.928Z"
   },
   {
    "duration": 458,
    "start_time": "2022-03-24T15:34:43.418Z"
   },
   {
    "duration": 470,
    "start_time": "2022-03-24T15:34:43.877Z"
   },
   {
    "duration": 490,
    "start_time": "2022-03-24T15:34:44.349Z"
   },
   {
    "duration": 507,
    "start_time": "2022-03-24T15:34:44.843Z"
   },
   {
    "duration": 483,
    "start_time": "2022-03-24T15:34:45.353Z"
   },
   {
    "duration": 6,
    "start_time": "2022-03-24T15:34:45.840Z"
   },
   {
    "duration": 22,
    "start_time": "2022-03-24T15:34:45.867Z"
   },
   {
    "duration": 19,
    "start_time": "2022-03-24T15:34:49.019Z"
   },
   {
    "duration": 1831,
    "start_time": "2022-03-24T15:34:49.635Z"
   },
   {
    "duration": 1715,
    "start_time": "2022-03-24T15:47:05.111Z"
   },
   {
    "duration": 4,
    "start_time": "2022-03-24T15:47:39.341Z"
   },
   {
    "duration": 1751,
    "start_time": "2022-03-24T15:47:48.067Z"
   },
   {
    "duration": 4,
    "start_time": "2022-03-24T15:47:49.821Z"
   },
   {
    "duration": 8,
    "start_time": "2022-03-24T15:47:49.827Z"
   },
   {
    "duration": 34,
    "start_time": "2022-03-24T15:47:49.838Z"
   },
   {
    "duration": 5,
    "start_time": "2022-03-24T15:47:49.874Z"
   },
   {
    "duration": 5,
    "start_time": "2022-03-24T15:47:49.881Z"
   },
   {
    "duration": 22,
    "start_time": "2022-03-24T15:47:49.888Z"
   },
   {
    "duration": 12,
    "start_time": "2022-03-24T15:47:49.913Z"
   },
   {
    "duration": 41,
    "start_time": "2022-03-24T15:47:49.928Z"
   },
   {
    "duration": 31,
    "start_time": "2022-03-24T15:47:49.973Z"
   },
   {
    "duration": 481,
    "start_time": "2022-03-24T15:47:50.006Z"
   },
   {
    "duration": 502,
    "start_time": "2022-03-24T15:47:50.490Z"
   },
   {
    "duration": 479,
    "start_time": "2022-03-24T15:47:50.994Z"
   },
   {
    "duration": 476,
    "start_time": "2022-03-24T15:47:51.476Z"
   },
   {
    "duration": 496,
    "start_time": "2022-03-24T15:47:51.954Z"
   },
   {
    "duration": 514,
    "start_time": "2022-03-24T15:47:52.453Z"
   },
   {
    "duration": 501,
    "start_time": "2022-03-24T15:47:52.970Z"
   },
   {
    "duration": 504,
    "start_time": "2022-03-24T15:47:53.474Z"
   },
   {
    "duration": 567,
    "start_time": "2022-03-24T15:47:53.982Z"
   },
   {
    "duration": 470,
    "start_time": "2022-03-24T15:47:54.551Z"
   },
   {
    "duration": 1224,
    "start_time": "2022-03-24T15:47:55.023Z"
   },
   {
    "duration": 557,
    "start_time": "2022-03-24T15:47:56.250Z"
   },
   {
    "duration": 551,
    "start_time": "2022-03-24T15:47:56.811Z"
   },
   {
    "duration": 482,
    "start_time": "2022-03-24T15:47:57.364Z"
   },
   {
    "duration": 615,
    "start_time": "2022-03-24T15:47:57.849Z"
   },
   {
    "duration": 478,
    "start_time": "2022-03-24T15:47:58.467Z"
   },
   {
    "duration": 5,
    "start_time": "2022-03-24T15:47:58.947Z"
   },
   {
    "duration": 32,
    "start_time": "2022-03-24T15:47:58.957Z"
   },
   {
    "duration": 1978,
    "start_time": "2022-03-24T15:47:58.991Z"
   },
   {
    "duration": 0,
    "start_time": "2022-03-24T16:00:59.352Z"
   },
   {
    "duration": 2415,
    "start_time": "2022-03-24T16:01:05.213Z"
   },
   {
    "duration": 1702,
    "start_time": "2022-03-24T16:01:22.878Z"
   },
   {
    "duration": 4,
    "start_time": "2022-03-24T16:01:24.583Z"
   },
   {
    "duration": 8,
    "start_time": "2022-03-24T16:01:24.589Z"
   },
   {
    "duration": 10,
    "start_time": "2022-03-24T16:01:24.600Z"
   },
   {
    "duration": 6,
    "start_time": "2022-03-24T16:01:24.613Z"
   },
   {
    "duration": 47,
    "start_time": "2022-03-24T16:01:24.621Z"
   },
   {
    "duration": 19,
    "start_time": "2022-03-24T16:01:24.670Z"
   },
   {
    "duration": 13,
    "start_time": "2022-03-24T16:01:24.691Z"
   },
   {
    "duration": 6,
    "start_time": "2022-03-24T16:01:24.706Z"
   },
   {
    "duration": 56,
    "start_time": "2022-03-24T16:01:24.716Z"
   },
   {
    "duration": 486,
    "start_time": "2022-03-24T16:01:24.774Z"
   },
   {
    "duration": 483,
    "start_time": "2022-03-24T16:01:25.267Z"
   },
   {
    "duration": 470,
    "start_time": "2022-03-24T16:01:25.753Z"
   },
   {
    "duration": 577,
    "start_time": "2022-03-24T16:01:26.225Z"
   },
   {
    "duration": 518,
    "start_time": "2022-03-24T16:01:26.804Z"
   },
   {
    "duration": 494,
    "start_time": "2022-03-24T16:01:27.325Z"
   },
   {
    "duration": 479,
    "start_time": "2022-03-24T16:01:27.821Z"
   },
   {
    "duration": 475,
    "start_time": "2022-03-24T16:01:28.302Z"
   },
   {
    "duration": 492,
    "start_time": "2022-03-24T16:01:28.780Z"
   },
   {
    "duration": 474,
    "start_time": "2022-03-24T16:01:29.274Z"
   },
   {
    "duration": 516,
    "start_time": "2022-03-24T16:01:29.751Z"
   },
   {
    "duration": 467,
    "start_time": "2022-03-24T16:01:30.270Z"
   },
   {
    "duration": 483,
    "start_time": "2022-03-24T16:01:30.740Z"
   },
   {
    "duration": 479,
    "start_time": "2022-03-24T16:01:31.226Z"
   },
   {
    "duration": 498,
    "start_time": "2022-03-24T16:01:31.708Z"
   },
   {
    "duration": 482,
    "start_time": "2022-03-24T16:01:32.208Z"
   },
   {
    "duration": 5,
    "start_time": "2022-03-24T16:01:32.692Z"
   },
   {
    "duration": 22,
    "start_time": "2022-03-24T16:01:52.189Z"
   },
   {
    "duration": 1829,
    "start_time": "2022-03-24T16:01:56.247Z"
   },
   {
    "duration": 6380,
    "start_time": "2022-03-24T16:02:07.746Z"
   },
   {
    "duration": 6608,
    "start_time": "2022-03-24T16:06:42.237Z"
   },
   {
    "duration": 6409,
    "start_time": "2022-03-24T16:07:11.013Z"
   },
   {
    "duration": 20,
    "start_time": "2022-03-24T16:08:20.163Z"
   },
   {
    "duration": 5,
    "start_time": "2022-03-24T16:10:29.619Z"
   },
   {
    "duration": 18,
    "start_time": "2022-03-24T16:10:35.299Z"
   },
   {
    "duration": 6,
    "start_time": "2022-03-24T16:10:54.468Z"
   },
   {
    "duration": 9,
    "start_time": "2022-03-24T16:11:08.918Z"
   },
   {
    "duration": 8,
    "start_time": "2022-03-24T16:11:36.781Z"
   },
   {
    "duration": 217148,
    "start_time": "2022-03-24T16:12:31.029Z"
   },
   {
    "duration": 3472,
    "start_time": "2022-03-24T17:31:32.682Z"
   },
   {
    "duration": 5,
    "start_time": "2022-03-24T17:31:36.156Z"
   },
   {
    "duration": 11,
    "start_time": "2022-03-24T17:31:36.174Z"
   },
   {
    "duration": 11,
    "start_time": "2022-03-24T17:31:36.188Z"
   },
   {
    "duration": 5,
    "start_time": "2022-03-24T17:31:36.202Z"
   },
   {
    "duration": 4,
    "start_time": "2022-03-24T17:31:36.209Z"
   },
   {
    "duration": 58,
    "start_time": "2022-03-24T17:31:36.216Z"
   },
   {
    "duration": 15,
    "start_time": "2022-03-24T17:31:36.276Z"
   },
   {
    "duration": 6,
    "start_time": "2022-03-24T17:31:36.293Z"
   },
   {
    "duration": 32,
    "start_time": "2022-03-24T17:31:36.306Z"
   },
   {
    "duration": 1066,
    "start_time": "2022-03-24T17:31:36.375Z"
   },
   {
    "duration": 557,
    "start_time": "2022-03-24T17:31:37.445Z"
   },
   {
    "duration": 482,
    "start_time": "2022-03-24T17:31:38.003Z"
   },
   {
    "duration": 475,
    "start_time": "2022-03-24T17:31:38.488Z"
   },
   {
    "duration": 490,
    "start_time": "2022-03-24T17:31:38.965Z"
   },
   {
    "duration": 608,
    "start_time": "2022-03-24T17:31:39.457Z"
   },
   {
    "duration": 481,
    "start_time": "2022-03-24T17:31:40.068Z"
   },
   {
    "duration": 664,
    "start_time": "2022-03-24T17:31:40.551Z"
   },
   {
    "duration": 484,
    "start_time": "2022-03-24T17:31:41.218Z"
   },
   {
    "duration": 487,
    "start_time": "2022-03-24T17:31:41.705Z"
   },
   {
    "duration": 499,
    "start_time": "2022-03-24T17:31:42.195Z"
   },
   {
    "duration": 461,
    "start_time": "2022-03-24T17:31:42.696Z"
   },
   {
    "duration": 600,
    "start_time": "2022-03-24T17:31:43.160Z"
   },
   {
    "duration": 461,
    "start_time": "2022-03-24T17:31:43.763Z"
   },
   {
    "duration": 527,
    "start_time": "2022-03-24T17:31:44.226Z"
   },
   {
    "duration": 495,
    "start_time": "2022-03-24T17:31:44.756Z"
   },
   {
    "duration": 6,
    "start_time": "2022-03-24T17:31:45.253Z"
   },
   {
    "duration": 43,
    "start_time": "2022-03-24T17:31:45.263Z"
   },
   {
    "duration": 20,
    "start_time": "2022-03-24T17:31:51.807Z"
   },
   {
    "duration": 6,
    "start_time": "2022-03-24T17:31:55.260Z"
   },
   {
    "duration": 6697,
    "start_time": "2022-03-24T17:31:56.749Z"
   },
   {
    "duration": 6607,
    "start_time": "2022-03-24T17:32:03.449Z"
   },
   {
    "duration": 16,
    "start_time": "2022-03-24T17:32:10.058Z"
   },
   {
    "duration": 17,
    "start_time": "2022-03-24T17:33:40.121Z"
   },
   {
    "duration": 5,
    "start_time": "2022-03-24T17:33:40.689Z"
   },
   {
    "duration": 6445,
    "start_time": "2022-03-24T17:33:45.049Z"
   },
   {
    "duration": 6574,
    "start_time": "2022-03-24T17:33:52.242Z"
   },
   {
    "duration": 10,
    "start_time": "2022-03-24T17:33:59.878Z"
   },
   {
    "duration": 12914,
    "start_time": "2022-03-24T19:03:37.503Z"
   },
   {
    "duration": 12813,
    "start_time": "2022-03-24T19:03:51.090Z"
   },
   {
    "duration": 14,
    "start_time": "2022-03-24T19:06:19.543Z"
   },
   {
    "duration": 13229,
    "start_time": "2022-03-24T19:06:21.581Z"
   },
   {
    "duration": 44,
    "start_time": "2022-03-24T19:06:54.730Z"
   },
   {
    "duration": 32,
    "start_time": "2022-03-24T19:07:20.134Z"
   },
   {
    "duration": 47,
    "start_time": "2022-03-24T19:08:01.169Z"
   },
   {
    "duration": 10,
    "start_time": "2022-03-24T19:08:03.968Z"
   },
   {
    "duration": 772648,
    "start_time": "2022-03-24T19:13:26.961Z"
   },
   {
    "duration": 2689,
    "start_time": "2022-03-24T21:10:47.042Z"
   },
   {
    "duration": 3,
    "start_time": "2022-03-24T21:10:49.733Z"
   },
   {
    "duration": 15,
    "start_time": "2022-03-24T21:10:49.737Z"
   },
   {
    "duration": 6,
    "start_time": "2022-03-24T21:10:49.754Z"
   },
   {
    "duration": 3,
    "start_time": "2022-03-24T21:10:49.762Z"
   },
   {
    "duration": 16,
    "start_time": "2022-03-24T21:10:49.767Z"
   },
   {
    "duration": 15,
    "start_time": "2022-03-24T21:10:49.784Z"
   },
   {
    "duration": 8,
    "start_time": "2022-03-24T21:10:49.800Z"
   },
   {
    "duration": 5,
    "start_time": "2022-03-24T21:10:49.810Z"
   },
   {
    "duration": 22,
    "start_time": "2022-03-24T21:10:49.816Z"
   },
   {
    "duration": 544,
    "start_time": "2022-03-24T21:10:49.840Z"
   },
   {
    "duration": 327,
    "start_time": "2022-03-24T21:10:50.386Z"
   },
   {
    "duration": 250,
    "start_time": "2022-03-24T21:10:50.714Z"
   },
   {
    "duration": 251,
    "start_time": "2022-03-24T21:10:50.968Z"
   },
   {
    "duration": 260,
    "start_time": "2022-03-24T21:10:51.221Z"
   },
   {
    "duration": 268,
    "start_time": "2022-03-24T21:10:51.482Z"
   },
   {
    "duration": 247,
    "start_time": "2022-03-24T21:10:51.752Z"
   },
   {
    "duration": 324,
    "start_time": "2022-03-24T21:10:52.001Z"
   },
   {
    "duration": 261,
    "start_time": "2022-03-24T21:10:52.327Z"
   },
   {
    "duration": 232,
    "start_time": "2022-03-24T21:10:52.590Z"
   },
   {
    "duration": 241,
    "start_time": "2022-03-24T21:10:52.824Z"
   },
   {
    "duration": 239,
    "start_time": "2022-03-24T21:10:53.066Z"
   },
   {
    "duration": 354,
    "start_time": "2022-03-24T21:10:53.306Z"
   },
   {
    "duration": 245,
    "start_time": "2022-03-24T21:10:53.661Z"
   },
   {
    "duration": 260,
    "start_time": "2022-03-24T21:10:53.907Z"
   },
   {
    "duration": 248,
    "start_time": "2022-03-24T21:10:54.168Z"
   },
   {
    "duration": 3,
    "start_time": "2022-03-24T21:10:54.418Z"
   },
   {
    "duration": 16,
    "start_time": "2022-03-24T21:10:54.423Z"
   },
   {
    "duration": 9663,
    "start_time": "2022-03-24T21:10:54.441Z"
   },
   {
    "duration": 558221,
    "start_time": "2022-03-24T21:11:04.106Z"
   },
   {
    "duration": 3454,
    "start_time": "2022-03-24T21:20:22.329Z"
   },
   {
    "duration": 3645,
    "start_time": "2022-03-25T18:07:44.523Z"
   },
   {
    "duration": 13,
    "start_time": "2022-03-25T18:07:48.171Z"
   },
   {
    "duration": 15,
    "start_time": "2022-03-25T18:07:48.186Z"
   },
   {
    "duration": 12,
    "start_time": "2022-03-25T18:07:48.204Z"
   },
   {
    "duration": 10,
    "start_time": "2022-03-25T18:07:48.218Z"
   },
   {
    "duration": 12,
    "start_time": "2022-03-25T18:07:48.230Z"
   },
   {
    "duration": 32,
    "start_time": "2022-03-25T18:07:48.244Z"
   },
   {
    "duration": 13,
    "start_time": "2022-03-25T18:07:48.283Z"
   },
   {
    "duration": 12,
    "start_time": "2022-03-25T18:07:48.299Z"
   },
   {
    "duration": 58,
    "start_time": "2022-03-25T18:08:14.610Z"
   },
   {
    "duration": 11,
    "start_time": "2022-03-25T18:09:17.827Z"
   },
   {
    "duration": 9,
    "start_time": "2022-03-25T18:09:34.298Z"
   },
   {
    "duration": 10,
    "start_time": "2022-03-25T18:09:43.789Z"
   },
   {
    "duration": 128,
    "start_time": "2022-03-25T18:11:36.570Z"
   },
   {
    "duration": 2080,
    "start_time": "2022-03-25T18:18:39.348Z"
   },
   {
    "duration": 1072,
    "start_time": "2022-03-25T18:19:04.295Z"
   },
   {
    "duration": 1433,
    "start_time": "2022-03-25T18:19:13.489Z"
   },
   {
    "duration": 1451,
    "start_time": "2022-03-25T18:19:29.754Z"
   },
   {
    "duration": 1254,
    "start_time": "2022-03-25T18:19:33.405Z"
   },
   {
    "duration": 1008,
    "start_time": "2022-03-25T18:19:36.349Z"
   },
   {
    "duration": 22,
    "start_time": "2022-03-25T18:19:45.363Z"
   },
   {
    "duration": 2138,
    "start_time": "2022-03-25T18:20:42.906Z"
   },
   {
    "duration": 4,
    "start_time": "2022-03-25T18:20:45.048Z"
   },
   {
    "duration": 29,
    "start_time": "2022-03-25T18:20:45.055Z"
   },
   {
    "duration": 11,
    "start_time": "2022-03-25T18:20:45.087Z"
   },
   {
    "duration": 9,
    "start_time": "2022-03-25T18:20:45.101Z"
   },
   {
    "duration": 9,
    "start_time": "2022-03-25T18:20:45.113Z"
   },
   {
    "duration": 30,
    "start_time": "2022-03-25T18:20:45.125Z"
   },
   {
    "duration": 34,
    "start_time": "2022-03-25T18:20:45.158Z"
   },
   {
    "duration": 7,
    "start_time": "2022-03-25T18:20:45.195Z"
   },
   {
    "duration": 14,
    "start_time": "2022-03-25T18:20:45.206Z"
   },
   {
    "duration": 502,
    "start_time": "2022-03-25T18:20:45.223Z"
   },
   {
    "duration": 512,
    "start_time": "2022-03-25T18:20:45.728Z"
   },
   {
    "duration": 747,
    "start_time": "2022-03-25T18:20:46.243Z"
   },
   {
    "duration": 866,
    "start_time": "2022-03-25T18:20:46.994Z"
   },
   {
    "duration": 835,
    "start_time": "2022-03-25T18:20:47.865Z"
   },
   {
    "duration": 714,
    "start_time": "2022-03-25T18:20:48.703Z"
   },
   {
    "duration": 738,
    "start_time": "2022-03-25T18:20:49.420Z"
   },
   {
    "duration": 500,
    "start_time": "2022-03-25T18:20:50.161Z"
   },
   {
    "duration": 540,
    "start_time": "2022-03-25T18:20:50.664Z"
   },
   {
    "duration": 490,
    "start_time": "2022-03-25T18:20:51.207Z"
   },
   {
    "duration": 768,
    "start_time": "2022-03-25T18:20:51.700Z"
   },
   {
    "duration": 1766,
    "start_time": "2022-03-25T18:21:15.944Z"
   },
   {
    "duration": 28,
    "start_time": "2022-03-25T18:23:34.382Z"
   },
   {
    "duration": 276,
    "start_time": "2022-03-25T18:24:18.261Z"
   },
   {
    "duration": 313,
    "start_time": "2022-03-25T18:24:31.794Z"
   },
   {
    "duration": 216,
    "start_time": "2022-03-25T18:24:45.038Z"
   },
   {
    "duration": 205,
    "start_time": "2022-03-25T18:24:49.954Z"
   },
   {
    "duration": 1337,
    "start_time": "2022-03-25T18:26:06.658Z"
   },
   {
    "duration": 1071,
    "start_time": "2022-03-25T18:26:44.226Z"
   },
   {
    "duration": 24,
    "start_time": "2022-03-25T18:27:23.448Z"
   },
   {
    "duration": 331,
    "start_time": "2022-03-25T18:28:03.474Z"
   },
   {
    "duration": 266,
    "start_time": "2022-03-25T18:33:49.758Z"
   },
   {
    "duration": 342,
    "start_time": "2022-03-25T18:33:59.921Z"
   },
   {
    "duration": 608,
    "start_time": "2022-03-25T18:34:22.325Z"
   },
   {
    "duration": 564,
    "start_time": "2022-03-25T18:34:32.725Z"
   },
   {
    "duration": 667,
    "start_time": "2022-03-25T18:34:39.304Z"
   },
   {
    "duration": 396,
    "start_time": "2022-03-25T18:36:45.056Z"
   },
   {
    "duration": 381,
    "start_time": "2022-03-25T18:36:57.104Z"
   },
   {
    "duration": 474,
    "start_time": "2022-03-25T18:37:32.324Z"
   },
   {
    "duration": 609,
    "start_time": "2022-03-25T18:38:49.285Z"
   },
   {
    "duration": 193,
    "start_time": "2022-03-25T18:39:13.164Z"
   },
   {
    "duration": 181,
    "start_time": "2022-03-25T18:39:18.841Z"
   },
   {
    "duration": 591,
    "start_time": "2022-03-25T18:39:51.559Z"
   },
   {
    "duration": 637,
    "start_time": "2022-03-25T18:39:58.220Z"
   },
   {
    "duration": 982,
    "start_time": "2022-03-25T18:40:04.670Z"
   },
   {
    "duration": 580,
    "start_time": "2022-03-25T18:40:14.609Z"
   },
   {
    "duration": 618,
    "start_time": "2022-03-25T18:42:10.908Z"
   },
   {
    "duration": 278,
    "start_time": "2022-03-25T18:42:34.137Z"
   },
   {
    "duration": 264,
    "start_time": "2022-03-25T18:42:41.737Z"
   },
   {
    "duration": 248,
    "start_time": "2022-03-25T18:42:46.046Z"
   },
   {
    "duration": 276,
    "start_time": "2022-03-25T18:42:49.918Z"
   },
   {
    "duration": 578,
    "start_time": "2022-03-25T18:43:02.723Z"
   },
   {
    "duration": 337,
    "start_time": "2022-03-25T18:43:17.762Z"
   },
   {
    "duration": 313,
    "start_time": "2022-03-25T18:44:35.591Z"
   },
   {
    "duration": 338,
    "start_time": "2022-03-25T18:45:09.042Z"
   },
   {
    "duration": 346,
    "start_time": "2022-03-25T18:46:02.438Z"
   },
   {
    "duration": 344,
    "start_time": "2022-03-25T18:46:23.969Z"
   },
   {
    "duration": 288,
    "start_time": "2022-03-25T18:49:44.166Z"
   },
   {
    "duration": 294,
    "start_time": "2022-03-25T18:51:38.892Z"
   },
   {
    "duration": 344,
    "start_time": "2022-03-25T18:51:47.432Z"
   },
   {
    "duration": 386,
    "start_time": "2022-03-25T18:52:00.853Z"
   },
   {
    "duration": 358,
    "start_time": "2022-03-25T18:52:10.809Z"
   },
   {
    "duration": 338,
    "start_time": "2022-03-25T18:52:36.853Z"
   },
   {
    "duration": 337,
    "start_time": "2022-03-25T18:53:32.313Z"
   },
   {
    "duration": 112,
    "start_time": "2022-03-25T18:56:19.082Z"
   },
   {
    "duration": 21,
    "start_time": "2022-03-25T19:10:39.193Z"
   },
   {
    "duration": 19,
    "start_time": "2022-03-25T19:10:58.480Z"
   },
   {
    "duration": 17,
    "start_time": "2022-03-25T19:12:06.507Z"
   },
   {
    "duration": 1675,
    "start_time": "2022-03-25T19:12:55.106Z"
   },
   {
    "duration": 19,
    "start_time": "2022-03-25T19:13:22.224Z"
   },
   {
    "duration": 1972,
    "start_time": "2022-03-25T19:14:32.622Z"
   },
   {
    "duration": 5,
    "start_time": "2022-03-25T19:14:58.513Z"
   },
   {
    "duration": 22,
    "start_time": "2022-03-25T19:15:02.193Z"
   },
   {
    "duration": 18,
    "start_time": "2022-03-25T19:17:12.861Z"
   },
   {
    "duration": 1976,
    "start_time": "2022-03-25T19:17:20.416Z"
   },
   {
    "duration": 4,
    "start_time": "2022-03-25T19:17:22.396Z"
   },
   {
    "duration": 25,
    "start_time": "2022-03-25T19:17:22.403Z"
   },
   {
    "duration": 33,
    "start_time": "2022-03-25T19:17:22.431Z"
   },
   {
    "duration": 14,
    "start_time": "2022-03-25T19:17:22.467Z"
   },
   {
    "duration": 27,
    "start_time": "2022-03-25T19:17:22.484Z"
   },
   {
    "duration": 22,
    "start_time": "2022-03-25T19:17:22.514Z"
   },
   {
    "duration": 25,
    "start_time": "2022-03-25T19:17:22.539Z"
   },
   {
    "duration": 15,
    "start_time": "2022-03-25T19:17:22.568Z"
   },
   {
    "duration": 32,
    "start_time": "2022-03-25T19:17:22.588Z"
   },
   {
    "duration": 500,
    "start_time": "2022-03-25T19:17:22.623Z"
   },
   {
    "duration": 563,
    "start_time": "2022-03-25T19:17:23.126Z"
   },
   {
    "duration": 799,
    "start_time": "2022-03-25T19:17:23.691Z"
   },
   {
    "duration": 1016,
    "start_time": "2022-03-25T19:17:24.493Z"
   },
   {
    "duration": 585,
    "start_time": "2022-03-25T19:17:25.512Z"
   },
   {
    "duration": 525,
    "start_time": "2022-03-25T19:17:26.100Z"
   },
   {
    "duration": 503,
    "start_time": "2022-03-25T19:17:26.627Z"
   },
   {
    "duration": 507,
    "start_time": "2022-03-25T19:17:27.132Z"
   },
   {
    "duration": 488,
    "start_time": "2022-03-25T19:17:27.641Z"
   },
   {
    "duration": 375,
    "start_time": "2022-03-25T19:17:28.131Z"
   },
   {
    "duration": 379,
    "start_time": "2022-03-25T19:17:28.509Z"
   },
   {
    "duration": 25,
    "start_time": "2022-03-25T19:17:28.891Z"
   },
   {
    "duration": 18,
    "start_time": "2022-03-25T19:17:37.879Z"
   },
   {
    "duration": 19,
    "start_time": "2022-03-25T19:23:16.265Z"
   },
   {
    "duration": 19,
    "start_time": "2022-03-25T19:25:01.739Z"
   },
   {
    "duration": 18,
    "start_time": "2022-03-25T19:25:06.483Z"
   },
   {
    "duration": 1564,
    "start_time": "2022-03-25T19:25:57.783Z"
   },
   {
    "duration": 9,
    "start_time": "2022-03-25T19:26:13.381Z"
   },
   {
    "duration": 13,
    "start_time": "2022-03-25T19:35:32.906Z"
   },
   {
    "duration": 2384,
    "start_time": "2022-03-25T19:35:40.183Z"
   },
   {
    "duration": 14,
    "start_time": "2022-03-25T19:35:42.570Z"
   },
   {
    "duration": 12,
    "start_time": "2022-03-25T19:35:42.591Z"
   },
   {
    "duration": 11,
    "start_time": "2022-03-25T19:35:42.607Z"
   },
   {
    "duration": 9,
    "start_time": "2022-03-25T19:35:42.620Z"
   },
   {
    "duration": 5,
    "start_time": "2022-03-25T19:35:42.631Z"
   },
   {
    "duration": 53,
    "start_time": "2022-03-25T19:35:42.638Z"
   },
   {
    "duration": 12,
    "start_time": "2022-03-25T19:35:42.693Z"
   },
   {
    "duration": 13,
    "start_time": "2022-03-25T19:35:42.708Z"
   },
   {
    "duration": 17,
    "start_time": "2022-03-25T19:35:42.726Z"
   },
   {
    "duration": 685,
    "start_time": "2022-03-25T19:35:42.746Z"
   },
   {
    "duration": 696,
    "start_time": "2022-03-25T19:35:43.434Z"
   },
   {
    "duration": 801,
    "start_time": "2022-03-25T19:35:44.133Z"
   },
   {
    "duration": 695,
    "start_time": "2022-03-25T19:35:44.937Z"
   },
   {
    "duration": 535,
    "start_time": "2022-03-25T19:35:45.634Z"
   },
   {
    "duration": 538,
    "start_time": "2022-03-25T19:35:46.171Z"
   },
   {
    "duration": 494,
    "start_time": "2022-03-25T19:35:46.712Z"
   },
   {
    "duration": 1222,
    "start_time": "2022-03-25T19:35:47.209Z"
   },
   {
    "duration": 782,
    "start_time": "2022-03-25T19:35:48.434Z"
   },
   {
    "duration": 365,
    "start_time": "2022-03-25T19:35:49.218Z"
   },
   {
    "duration": 355,
    "start_time": "2022-03-25T19:35:49.586Z"
   },
   {
    "duration": 686,
    "start_time": "2022-03-25T19:35:49.943Z"
   },
   {
    "duration": 741,
    "start_time": "2022-03-25T19:35:50.631Z"
   },
   {
    "duration": 805,
    "start_time": "2022-03-25T19:35:51.383Z"
   },
   {
    "duration": 23,
    "start_time": "2022-03-25T19:35:52.191Z"
   },
   {
    "duration": 55,
    "start_time": "2022-03-25T19:37:08.152Z"
   },
   {
    "duration": 54,
    "start_time": "2022-03-25T19:37:46.337Z"
   },
   {
    "duration": 45,
    "start_time": "2022-03-25T19:38:09.930Z"
   },
   {
    "duration": 23,
    "start_time": "2022-03-25T19:39:14.715Z"
   },
   {
    "duration": 24,
    "start_time": "2022-03-25T19:42:03.691Z"
   },
   {
    "duration": 34,
    "start_time": "2022-03-25T19:43:10.383Z"
   },
   {
    "duration": 11,
    "start_time": "2022-03-25T19:45:09.664Z"
   },
   {
    "duration": 26,
    "start_time": "2022-03-25T19:46:40.218Z"
   },
   {
    "duration": 26,
    "start_time": "2022-03-25T19:51:37.981Z"
   },
   {
    "duration": 27,
    "start_time": "2022-03-25T19:51:51.197Z"
   },
   {
    "duration": 9,
    "start_time": "2022-03-25T20:03:34.241Z"
   },
   {
    "duration": 6,
    "start_time": "2022-03-25T20:04:10.075Z"
   },
   {
    "duration": 6,
    "start_time": "2022-03-25T20:05:03.794Z"
   },
   {
    "duration": 6,
    "start_time": "2022-03-25T20:05:18.304Z"
   },
   {
    "duration": 1808,
    "start_time": "2022-03-25T20:05:24.427Z"
   },
   {
    "duration": 5,
    "start_time": "2022-03-25T20:05:26.238Z"
   },
   {
    "duration": 13,
    "start_time": "2022-03-25T20:05:26.244Z"
   },
   {
    "duration": 28,
    "start_time": "2022-03-25T20:05:26.260Z"
   },
   {
    "duration": 5,
    "start_time": "2022-03-25T20:05:26.290Z"
   },
   {
    "duration": 9,
    "start_time": "2022-03-25T20:05:26.297Z"
   },
   {
    "duration": 17,
    "start_time": "2022-03-25T20:05:26.308Z"
   },
   {
    "duration": 13,
    "start_time": "2022-03-25T20:05:26.328Z"
   },
   {
    "duration": 14,
    "start_time": "2022-03-25T20:05:26.343Z"
   },
   {
    "duration": 14,
    "start_time": "2022-03-25T20:05:26.386Z"
   },
   {
    "duration": 6,
    "start_time": "2022-03-25T20:05:26.403Z"
   },
   {
    "duration": 492,
    "start_time": "2022-03-25T20:05:26.411Z"
   },
   {
    "duration": 482,
    "start_time": "2022-03-25T20:05:26.905Z"
   },
   {
    "duration": 519,
    "start_time": "2022-03-25T20:05:27.389Z"
   },
   {
    "duration": 466,
    "start_time": "2022-03-25T20:05:27.911Z"
   },
   {
    "duration": 543,
    "start_time": "2022-03-25T20:05:28.379Z"
   },
   {
    "duration": 525,
    "start_time": "2022-03-25T20:05:28.924Z"
   },
   {
    "duration": 487,
    "start_time": "2022-03-25T20:05:29.451Z"
   },
   {
    "duration": 479,
    "start_time": "2022-03-25T20:05:29.941Z"
   },
   {
    "duration": 478,
    "start_time": "2022-03-25T20:05:30.422Z"
   },
   {
    "duration": 369,
    "start_time": "2022-03-25T20:05:30.902Z"
   },
   {
    "duration": 361,
    "start_time": "2022-03-25T20:05:31.274Z"
   },
   {
    "duration": 1071,
    "start_time": "2022-03-25T20:05:31.638Z"
   },
   {
    "duration": 526,
    "start_time": "2022-03-25T20:05:32.712Z"
   },
   {
    "duration": 504,
    "start_time": "2022-03-25T20:05:33.241Z"
   },
   {
    "duration": 11,
    "start_time": "2022-03-25T20:05:33.747Z"
   },
   {
    "duration": 26,
    "start_time": "2022-03-25T20:05:33.760Z"
   },
   {
    "duration": 5,
    "start_time": "2022-03-25T20:05:37.092Z"
   },
   {
    "duration": 11,
    "start_time": "2022-03-25T20:09:11.370Z"
   },
   {
    "duration": 5,
    "start_time": "2022-03-25T20:09:12.904Z"
   },
   {
    "duration": 3297,
    "start_time": "2022-03-25T20:09:49.287Z"
   },
   {
    "duration": 6,
    "start_time": "2022-03-25T20:09:52.586Z"
   },
   {
    "duration": 1909,
    "start_time": "2022-03-25T20:16:11.152Z"
   },
   {
    "duration": 1900,
    "start_time": "2022-03-25T20:17:55.573Z"
   },
   {
    "duration": 8,
    "start_time": "2022-03-25T20:17:57.477Z"
   },
   {
    "duration": 14,
    "start_time": "2022-03-25T20:17:57.487Z"
   },
   {
    "duration": 14,
    "start_time": "2022-03-25T20:17:57.505Z"
   },
   {
    "duration": 10,
    "start_time": "2022-03-25T20:17:57.521Z"
   },
   {
    "duration": 14,
    "start_time": "2022-03-25T20:17:57.533Z"
   },
   {
    "duration": 63,
    "start_time": "2022-03-25T20:17:57.550Z"
   },
   {
    "duration": 14,
    "start_time": "2022-03-25T20:17:57.616Z"
   },
   {
    "duration": 9,
    "start_time": "2022-03-25T20:17:57.632Z"
   },
   {
    "duration": 39,
    "start_time": "2022-03-25T20:17:57.646Z"
   },
   {
    "duration": 7,
    "start_time": "2022-03-25T20:17:57.688Z"
   },
   {
    "duration": 509,
    "start_time": "2022-03-25T20:17:57.698Z"
   },
   {
    "duration": 601,
    "start_time": "2022-03-25T20:17:58.209Z"
   },
   {
    "duration": 513,
    "start_time": "2022-03-25T20:17:58.812Z"
   },
   {
    "duration": 577,
    "start_time": "2022-03-25T20:17:59.328Z"
   },
   {
    "duration": 586,
    "start_time": "2022-03-25T20:17:59.908Z"
   },
   {
    "duration": 548,
    "start_time": "2022-03-25T20:18:00.496Z"
   },
   {
    "duration": 528,
    "start_time": "2022-03-25T20:18:01.046Z"
   },
   {
    "duration": 492,
    "start_time": "2022-03-25T20:18:01.583Z"
   },
   {
    "duration": 485,
    "start_time": "2022-03-25T20:18:02.078Z"
   },
   {
    "duration": 366,
    "start_time": "2022-03-25T20:18:02.565Z"
   },
   {
    "duration": 351,
    "start_time": "2022-03-25T20:18:02.933Z"
   },
   {
    "duration": 499,
    "start_time": "2022-03-25T20:18:03.287Z"
   },
   {
    "duration": 539,
    "start_time": "2022-03-25T20:18:03.789Z"
   },
   {
    "duration": 527,
    "start_time": "2022-03-25T20:18:04.332Z"
   },
   {
    "duration": 3273,
    "start_time": "2022-03-25T20:18:04.861Z"
   },
   {
    "duration": 5,
    "start_time": "2022-03-25T20:18:08.136Z"
   },
   {
    "duration": 23,
    "start_time": "2022-03-25T20:18:08.147Z"
   },
   {
    "duration": 26,
    "start_time": "2022-03-25T20:18:08.172Z"
   },
   {
    "duration": 15121,
    "start_time": "2022-03-25T20:18:30.956Z"
   },
   {
    "duration": 816916,
    "start_time": "2022-03-25T20:19:08.068Z"
   },
   {
    "duration": 4792,
    "start_time": "2022-03-25T20:33:05.707Z"
   },
   {
    "duration": 13526,
    "start_time": "2022-03-25T20:39:46.679Z"
   },
   {
    "duration": 16,
    "start_time": "2022-03-25T20:55:20.211Z"
   },
   {
    "duration": 1813,
    "start_time": "2022-03-25T20:55:53.193Z"
   },
   {
    "duration": 1819,
    "start_time": "2022-03-25T20:56:08.536Z"
   },
   {
    "duration": 4,
    "start_time": "2022-03-25T20:56:10.358Z"
   },
   {
    "duration": 23,
    "start_time": "2022-03-25T20:56:10.364Z"
   },
   {
    "duration": 10,
    "start_time": "2022-03-25T20:56:10.390Z"
   },
   {
    "duration": 6,
    "start_time": "2022-03-25T20:56:10.402Z"
   },
   {
    "duration": 9,
    "start_time": "2022-03-25T20:56:10.410Z"
   },
   {
    "duration": 14,
    "start_time": "2022-03-25T20:56:10.421Z"
   },
   {
    "duration": 49,
    "start_time": "2022-03-25T20:56:10.437Z"
   },
   {
    "duration": 8,
    "start_time": "2022-03-25T20:56:10.488Z"
   },
   {
    "duration": 13,
    "start_time": "2022-03-25T20:56:10.500Z"
   },
   {
    "duration": 6,
    "start_time": "2022-03-25T20:56:10.515Z"
   },
   {
    "duration": 487,
    "start_time": "2022-03-25T20:56:10.523Z"
   },
   {
    "duration": 482,
    "start_time": "2022-03-25T20:56:11.012Z"
   },
   {
    "duration": 1072,
    "start_time": "2022-03-25T20:56:11.496Z"
   },
   {
    "duration": 494,
    "start_time": "2022-03-25T20:56:12.570Z"
   },
   {
    "duration": 524,
    "start_time": "2022-03-25T20:56:13.066Z"
   },
   {
    "duration": 631,
    "start_time": "2022-03-25T20:56:13.593Z"
   },
   {
    "duration": 486,
    "start_time": "2022-03-25T20:56:14.226Z"
   },
   {
    "duration": 479,
    "start_time": "2022-03-25T20:56:14.715Z"
   },
   {
    "duration": 472,
    "start_time": "2022-03-25T20:56:15.197Z"
   },
   {
    "duration": 366,
    "start_time": "2022-03-25T20:56:15.671Z"
   },
   {
    "duration": 365,
    "start_time": "2022-03-25T20:56:16.039Z"
   },
   {
    "duration": 492,
    "start_time": "2022-03-25T20:56:16.407Z"
   },
   {
    "duration": 560,
    "start_time": "2022-03-25T20:56:16.902Z"
   },
   {
    "duration": 526,
    "start_time": "2022-03-25T20:56:17.465Z"
   },
   {
    "duration": 4243,
    "start_time": "2022-03-25T20:56:17.993Z"
   },
   {
    "duration": 7,
    "start_time": "2022-03-25T20:56:22.240Z"
   },
   {
    "duration": 11,
    "start_time": "2022-03-25T20:56:22.253Z"
   },
   {
    "duration": 32,
    "start_time": "2022-03-25T20:56:22.267Z"
   },
   {
    "duration": 13611,
    "start_time": "2022-03-25T20:56:22.302Z"
   },
   {
    "duration": 794498,
    "start_time": "2022-03-25T20:56:35.915Z"
   },
   {
    "duration": 4482,
    "start_time": "2022-03-25T21:09:50.415Z"
   },
   {
    "duration": 285,
    "start_time": "2022-03-25T21:09:54.900Z"
   },
   {
    "duration": 16,
    "start_time": "2022-03-25T21:15:00.139Z"
   },
   {
    "duration": 16,
    "start_time": "2022-03-25T21:15:36.227Z"
   },
   {
    "duration": 52,
    "start_time": "2022-03-25T21:15:50.813Z"
   },
   {
    "duration": 58,
    "start_time": "2022-03-25T21:19:15.938Z"
   },
   {
    "duration": 17,
    "start_time": "2022-03-25T21:19:56.541Z"
   },
   {
    "duration": 81,
    "start_time": "2022-03-25T21:20:16.907Z"
   }
  ],
  "kernelspec": {
   "display_name": "Python 3 (ipykernel)",
   "language": "python",
   "name": "python3"
  },
  "language_info": {
   "codemirror_mode": {
    "name": "ipython",
    "version": 3
   },
   "file_extension": ".py",
   "mimetype": "text/x-python",
   "name": "python",
   "nbconvert_exporter": "python",
   "pygments_lexer": "ipython3",
   "version": "3.9.5"
  },
  "toc": {
   "base_numbering": 1,
   "nav_menu": {},
   "number_sections": true,
   "sideBar": true,
   "skip_h1_title": true,
   "title_cell": "Содержание",
   "title_sidebar": "Contents",
   "toc_cell": true,
   "toc_position": {
    "height": "calc(100% - 180px)",
    "left": "10px",
    "top": "150px",
    "width": "275px"
   },
   "toc_section_display": true,
   "toc_window_display": true
  }
 },
 "nbformat": 4,
 "nbformat_minor": 2
}
