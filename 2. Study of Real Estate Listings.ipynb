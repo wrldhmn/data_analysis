{
 "cells": [
  {
   "cell_type": "markdown",
   "metadata": {},
   "source": [
    "# Study of Real Estate Listings\n",
    "\n",
    "You have access to data from the Yandex.Real Estate service, containing archives of apartment sales listings in St. Petersburg and surrounding areas spanning several years. The objective is to develop the ability to accurately determine the market value of real estate properties. Your task is to establish parameters for this purpose, which will facilitate the creation of an automated system capable of detecting anomalies and fraudulent activities.\n",
    "\n",
    "Each apartment listing includes two types of data. The first type is entered by users, while the second type is obtained automatically from cartographic data sources. This includes information such as distance to the city center, airport, nearest park, and bodies of water."
   ]
  },
  {
   "cell_type": "markdown",
   "metadata": {},
   "source": [
    "## Data Analysis from File"
   ]
  },
  {
   "cell_type": "code",
   "execution_count": 1,
   "metadata": {
    "scrolled": false
   },
   "outputs": [
    {
     "name": "stdout",
     "output_type": "stream",
     "text": [
      "<class 'pandas.core.frame.DataFrame'>\n",
      "RangeIndex: 23699 entries, 0 to 23698\n",
      "Data columns (total 22 columns):\n",
      "total_images            23699 non-null int64\n",
      "last_price              23699 non-null float64\n",
      "total_area              23699 non-null float64\n",
      "first_day_exposition    23699 non-null object\n",
      "rooms                   23699 non-null int64\n",
      "ceiling_height          14504 non-null float64\n",
      "floors_total            23613 non-null float64\n",
      "living_area             21796 non-null float64\n",
      "floor                   23699 non-null int64\n",
      "is_apartment            2775 non-null object\n",
      "studio                  23699 non-null bool\n",
      "open_plan               23699 non-null bool\n",
      "kitchen_area            21421 non-null float64\n",
      "balcony                 12180 non-null float64\n",
      "locality_name           23650 non-null object\n",
      "airports_nearest        18157 non-null float64\n",
      "cityCenters_nearest     18180 non-null float64\n",
      "parks_around3000        18181 non-null float64\n",
      "parks_nearest           8079 non-null float64\n",
      "ponds_around3000        18181 non-null float64\n",
      "ponds_nearest           9110 non-null float64\n",
      "days_exposition         20518 non-null float64\n",
      "dtypes: bool(2), float64(14), int64(3), object(3)\n",
      "memory usage: 3.7+ MB\n",
      "None\n"
     ]
    },
    {
     "data": {
      "text/html": [
       "<div>\n",
       "<style scoped>\n",
       "    .dataframe tbody tr th:only-of-type {\n",
       "        vertical-align: middle;\n",
       "    }\n",
       "\n",
       "    .dataframe tbody tr th {\n",
       "        vertical-align: top;\n",
       "    }\n",
       "\n",
       "    .dataframe thead th {\n",
       "        text-align: right;\n",
       "    }\n",
       "</style>\n",
       "<table border=\"1\" class=\"dataframe\">\n",
       "  <thead>\n",
       "    <tr style=\"text-align: right;\">\n",
       "      <th></th>\n",
       "      <th>total_images</th>\n",
       "      <th>last_price</th>\n",
       "      <th>total_area</th>\n",
       "      <th>first_day_exposition</th>\n",
       "      <th>rooms</th>\n",
       "      <th>ceiling_height</th>\n",
       "      <th>floors_total</th>\n",
       "      <th>living_area</th>\n",
       "      <th>floor</th>\n",
       "      <th>is_apartment</th>\n",
       "      <th>...</th>\n",
       "      <th>kitchen_area</th>\n",
       "      <th>balcony</th>\n",
       "      <th>locality_name</th>\n",
       "      <th>airports_nearest</th>\n",
       "      <th>cityCenters_nearest</th>\n",
       "      <th>parks_around3000</th>\n",
       "      <th>parks_nearest</th>\n",
       "      <th>ponds_around3000</th>\n",
       "      <th>ponds_nearest</th>\n",
       "      <th>days_exposition</th>\n",
       "    </tr>\n",
       "  </thead>\n",
       "  <tbody>\n",
       "    <tr>\n",
       "      <td>0</td>\n",
       "      <td>20</td>\n",
       "      <td>13000000.0</td>\n",
       "      <td>108.0</td>\n",
       "      <td>2019-03-07T00:00:00</td>\n",
       "      <td>3</td>\n",
       "      <td>2.70</td>\n",
       "      <td>16.0</td>\n",
       "      <td>51.0</td>\n",
       "      <td>8</td>\n",
       "      <td>NaN</td>\n",
       "      <td>...</td>\n",
       "      <td>25.0</td>\n",
       "      <td>NaN</td>\n",
       "      <td>Санкт-Петербург</td>\n",
       "      <td>18863.0</td>\n",
       "      <td>16028.0</td>\n",
       "      <td>1.0</td>\n",
       "      <td>482.0</td>\n",
       "      <td>2.0</td>\n",
       "      <td>755.0</td>\n",
       "      <td>NaN</td>\n",
       "    </tr>\n",
       "    <tr>\n",
       "      <td>1</td>\n",
       "      <td>7</td>\n",
       "      <td>3350000.0</td>\n",
       "      <td>40.4</td>\n",
       "      <td>2018-12-04T00:00:00</td>\n",
       "      <td>1</td>\n",
       "      <td>NaN</td>\n",
       "      <td>11.0</td>\n",
       "      <td>18.6</td>\n",
       "      <td>1</td>\n",
       "      <td>NaN</td>\n",
       "      <td>...</td>\n",
       "      <td>11.0</td>\n",
       "      <td>2.0</td>\n",
       "      <td>посёлок Шушары</td>\n",
       "      <td>12817.0</td>\n",
       "      <td>18603.0</td>\n",
       "      <td>0.0</td>\n",
       "      <td>NaN</td>\n",
       "      <td>0.0</td>\n",
       "      <td>NaN</td>\n",
       "      <td>81.0</td>\n",
       "    </tr>\n",
       "    <tr>\n",
       "      <td>2</td>\n",
       "      <td>10</td>\n",
       "      <td>5196000.0</td>\n",
       "      <td>56.0</td>\n",
       "      <td>2015-08-20T00:00:00</td>\n",
       "      <td>2</td>\n",
       "      <td>NaN</td>\n",
       "      <td>5.0</td>\n",
       "      <td>34.3</td>\n",
       "      <td>4</td>\n",
       "      <td>NaN</td>\n",
       "      <td>...</td>\n",
       "      <td>8.3</td>\n",
       "      <td>0.0</td>\n",
       "      <td>Санкт-Петербург</td>\n",
       "      <td>21741.0</td>\n",
       "      <td>13933.0</td>\n",
       "      <td>1.0</td>\n",
       "      <td>90.0</td>\n",
       "      <td>2.0</td>\n",
       "      <td>574.0</td>\n",
       "      <td>558.0</td>\n",
       "    </tr>\n",
       "    <tr>\n",
       "      <td>3</td>\n",
       "      <td>0</td>\n",
       "      <td>64900000.0</td>\n",
       "      <td>159.0</td>\n",
       "      <td>2015-07-24T00:00:00</td>\n",
       "      <td>3</td>\n",
       "      <td>NaN</td>\n",
       "      <td>14.0</td>\n",
       "      <td>NaN</td>\n",
       "      <td>9</td>\n",
       "      <td>NaN</td>\n",
       "      <td>...</td>\n",
       "      <td>NaN</td>\n",
       "      <td>0.0</td>\n",
       "      <td>Санкт-Петербург</td>\n",
       "      <td>28098.0</td>\n",
       "      <td>6800.0</td>\n",
       "      <td>2.0</td>\n",
       "      <td>84.0</td>\n",
       "      <td>3.0</td>\n",
       "      <td>234.0</td>\n",
       "      <td>424.0</td>\n",
       "    </tr>\n",
       "    <tr>\n",
       "      <td>4</td>\n",
       "      <td>2</td>\n",
       "      <td>10000000.0</td>\n",
       "      <td>100.0</td>\n",
       "      <td>2018-06-19T00:00:00</td>\n",
       "      <td>2</td>\n",
       "      <td>3.03</td>\n",
       "      <td>14.0</td>\n",
       "      <td>32.0</td>\n",
       "      <td>13</td>\n",
       "      <td>NaN</td>\n",
       "      <td>...</td>\n",
       "      <td>41.0</td>\n",
       "      <td>NaN</td>\n",
       "      <td>Санкт-Петербург</td>\n",
       "      <td>31856.0</td>\n",
       "      <td>8098.0</td>\n",
       "      <td>2.0</td>\n",
       "      <td>112.0</td>\n",
       "      <td>1.0</td>\n",
       "      <td>48.0</td>\n",
       "      <td>121.0</td>\n",
       "    </tr>\n",
       "  </tbody>\n",
       "</table>\n",
       "<p>5 rows × 22 columns</p>\n",
       "</div>"
      ],
      "text/plain": [
       "   total_images  last_price  total_area first_day_exposition  rooms  \\\n",
       "0            20  13000000.0       108.0  2019-03-07T00:00:00      3   \n",
       "1             7   3350000.0        40.4  2018-12-04T00:00:00      1   \n",
       "2            10   5196000.0        56.0  2015-08-20T00:00:00      2   \n",
       "3             0  64900000.0       159.0  2015-07-24T00:00:00      3   \n",
       "4             2  10000000.0       100.0  2018-06-19T00:00:00      2   \n",
       "\n",
       "   ceiling_height  floors_total  living_area  floor is_apartment  ...  \\\n",
       "0            2.70          16.0         51.0      8          NaN  ...   \n",
       "1             NaN          11.0         18.6      1          NaN  ...   \n",
       "2             NaN           5.0         34.3      4          NaN  ...   \n",
       "3             NaN          14.0          NaN      9          NaN  ...   \n",
       "4            3.03          14.0         32.0     13          NaN  ...   \n",
       "\n",
       "   kitchen_area  balcony    locality_name  airports_nearest  \\\n",
       "0          25.0      NaN  Санкт-Петербург           18863.0   \n",
       "1          11.0      2.0   посёлок Шушары           12817.0   \n",
       "2           8.3      0.0  Санкт-Петербург           21741.0   \n",
       "3           NaN      0.0  Санкт-Петербург           28098.0   \n",
       "4          41.0      NaN  Санкт-Петербург           31856.0   \n",
       "\n",
       "  cityCenters_nearest  parks_around3000  parks_nearest  ponds_around3000  \\\n",
       "0             16028.0               1.0          482.0               2.0   \n",
       "1             18603.0               0.0            NaN               0.0   \n",
       "2             13933.0               1.0           90.0               2.0   \n",
       "3              6800.0               2.0           84.0               3.0   \n",
       "4              8098.0               2.0          112.0               1.0   \n",
       "\n",
       "   ponds_nearest  days_exposition  \n",
       "0          755.0              NaN  \n",
       "1            NaN             81.0  \n",
       "2          574.0            558.0  \n",
       "3          234.0            424.0  \n",
       "4           48.0            121.0  \n",
       "\n",
       "[5 rows x 22 columns]"
      ]
     },
     "metadata": {},
     "output_type": "display_data"
    }
   ],
   "source": [
    "import pandas as pd\n",
    "df = pd.read_csv('/datasets/real_estate_data.csv', sep='\\t')\n",
    "print(df.info())\n",
    "display(df.head())"
   ]
  },
  {
   "cell_type": "markdown",
   "metadata": {},
   "source": [
    "Let's display general information about apartment prices in millions of rubles."
   ]
  },
  {
   "cell_type": "code",
   "execution_count": 2,
   "metadata": {},
   "outputs": [
    {
     "name": "stdout",
     "output_type": "stream",
     "text": [
      "count    23699.000000\n",
      "mean         6.541549\n",
      "std         10.887013\n",
      "min          0.012190\n",
      "25%          3.400000\n",
      "50%          4.650000\n",
      "75%          6.800000\n",
      "max        763.000000\n",
      "Name: last_price, dtype: float64\n"
     ]
    }
   ],
   "source": [
    "print((df['last_price'] / 1000000).describe())"
   ]
  },
  {
   "cell_type": "markdown",
   "metadata": {},
   "source": [
    "Let's check for any obvious duplicates."
   ]
  },
  {
   "cell_type": "code",
   "execution_count": 3,
   "metadata": {},
   "outputs": [
    {
     "name": "stdout",
     "output_type": "stream",
     "text": [
      "0\n"
     ]
    }
   ],
   "source": [
    "print(df.duplicated().sum())"
   ]
  },
  {
   "cell_type": "markdown",
   "metadata": {},
   "source": [
    "Let's examine the proportion of missing values in each column."
   ]
  },
  {
   "cell_type": "code",
   "execution_count": 4,
   "metadata": {},
   "outputs": [
    {
     "data": {
      "text/plain": [
       "total_images            0.000000\n",
       "last_price              0.000000\n",
       "total_area              0.000000\n",
       "first_day_exposition    0.000000\n",
       "rooms                   0.000000\n",
       "ceiling_height          0.387991\n",
       "floors_total            0.003629\n",
       "living_area             0.080299\n",
       "floor                   0.000000\n",
       "is_apartment            0.882906\n",
       "studio                  0.000000\n",
       "open_plan               0.000000\n",
       "kitchen_area            0.096122\n",
       "balcony                 0.486054\n",
       "locality_name           0.002068\n",
       "airports_nearest        0.233850\n",
       "cityCenters_nearest     0.232879\n",
       "parks_around3000        0.232837\n",
       "parks_nearest           0.659100\n",
       "ponds_around3000        0.232837\n",
       "ponds_nearest           0.615596\n",
       "days_exposition         0.134225\n",
       "dtype: float64"
      ]
     },
     "execution_count": 4,
     "metadata": {},
     "output_type": "execute_result"
    }
   ],
   "source": [
    "df.isna().mean()"
   ]
  },
  {
   "cell_type": "markdown",
   "metadata": {},
   "source": [
    "### Conclusion\n",
    "\n",
    "From the information provided, it's evident that some columns contain missing values. We'll proceed to address them.\n",
    "\n",
    "The following data type changes are needed for the columns:\n",
    "- `last_price`, `floors_total`, `balcony` - to integer\n",
    "- `first_day_exposition` - to date format\n",
    "\n",
    "Regarding the price description, there's a considerable price range. The cheapest apartment is priced at approximately 12,000 rubles, while the most expensive one is around 763 million rubles. The average apartment price is 6.5 million rubles.\n",
    "\n",
    "No obvious duplicates were found.\n",
    "\n",
    "Analysis of missing values indicates that some columns have missing values exceeding 50%. We'll address these missing values in the relevant columns."
   ]
  },
  {
   "cell_type": "markdown",
   "metadata": {},
   "source": [
    "## Data Preprocessing"
   ]
  },
  {
   "cell_type": "markdown",
   "metadata": {},
   "source": [
    "In the column `is_apartment`, there are many missing values. Let's assume that all missing values indicate that the properties are not apartments. Therefore, we'll replace all these missing values with False."
   ]
  },
  {
   "cell_type": "code",
   "execution_count": 5,
   "metadata": {},
   "outputs": [],
   "source": [
    "df['is_apartment'] = df['is_apartment'].fillna(False)"
   ]
  },
  {
   "cell_type": "markdown",
   "metadata": {},
   "source": [
    "If a value is missing in the `balcony` column, it's likely that there is no balcony. Let's replace all missing values with 0."
   ]
  },
  {
   "cell_type": "code",
   "execution_count": 6,
   "metadata": {},
   "outputs": [],
   "source": [
    "df['balcony'] = df['balcony'].fillna(0)"
   ]
  },
  {
   "cell_type": "markdown",
   "metadata": {},
   "source": [
    "There are few missing values in the `floors_total` column, so we can assume that all missing values in this column are equal to the corresponding values in the `floor` column."
   ]
  },
  {
   "cell_type": "code",
   "execution_count": 7,
   "metadata": {},
   "outputs": [],
   "source": [
    "df['floors_total'] = df['floors_total'].fillna(df['floor'])"
   ]
  },
  {
   "cell_type": "markdown",
   "metadata": {},
   "source": [
    "There are many missing values in the `ceiling_height` column. Let's replace these missing values with the most frequent value in this column."
   ]
  },
  {
   "cell_type": "code",
   "execution_count": 8,
   "metadata": {},
   "outputs": [
    {
     "data": {
      "text/plain": [
       "2.5    3515\n",
       "2.6    1646\n",
       "2.7    1574\n",
       "3.0    1112\n",
       "2.8     993\n",
       "Name: ceiling_height, dtype: int64"
      ]
     },
     "execution_count": 8,
     "metadata": {},
     "output_type": "execute_result"
    }
   ],
   "source": [
    "df['ceiling_height'].value_counts().head()"
   ]
  },
  {
   "cell_type": "markdown",
   "metadata": {},
   "source": [
    "We can see that the majority of apartments have a ceiling height of 2.5 meters. Let's replace all missing values in this column with 2.5 meters."
   ]
  },
  {
   "cell_type": "code",
   "execution_count": 9,
   "metadata": {},
   "outputs": [],
   "source": [
    "df['ceiling_height'] = df['ceiling_height'].fillna(2.5)"
   ]
  },
  {
   "cell_type": "code",
   "execution_count": 10,
   "metadata": {},
   "outputs": [
    {
     "name": "stdout",
     "output_type": "stream",
     "text": [
      "<class 'pandas.core.frame.DataFrame'>\n",
      "RangeIndex: 23699 entries, 0 to 23698\n",
      "Data columns (total 22 columns):\n",
      "total_images            23699 non-null int64\n",
      "last_price              23699 non-null float64\n",
      "total_area              23699 non-null float64\n",
      "first_day_exposition    23699 non-null object\n",
      "rooms                   23699 non-null int64\n",
      "ceiling_height          23699 non-null float64\n",
      "floors_total            23699 non-null float64\n",
      "living_area             21796 non-null float64\n",
      "floor                   23699 non-null int64\n",
      "is_apartment            23699 non-null bool\n",
      "studio                  23699 non-null bool\n",
      "open_plan               23699 non-null bool\n",
      "kitchen_area            21421 non-null float64\n",
      "balcony                 23699 non-null float64\n",
      "locality_name           23650 non-null object\n",
      "airports_nearest        18157 non-null float64\n",
      "cityCenters_nearest     18180 non-null float64\n",
      "parks_around3000        18181 non-null float64\n",
      "parks_nearest           8079 non-null float64\n",
      "ponds_around3000        18181 non-null float64\n",
      "ponds_nearest           9110 non-null float64\n",
      "days_exposition         20518 non-null float64\n",
      "dtypes: bool(3), float64(14), int64(3), object(2)\n",
      "memory usage: 3.5+ MB\n"
     ]
    }
   ],
   "source": [
    "df.info()"
   ]
  },
  {
   "cell_type": "markdown",
   "metadata": {},
   "source": [
    "In the columns `last_price`, `balcony`, and `floors_total`, we'll change the data type to `int64`. For the `is_apartment` column, we'll change the data type to `bool`."
   ]
  },
  {
   "cell_type": "code",
   "execution_count": 11,
   "metadata": {},
   "outputs": [],
   "source": [
    "df[['last_price', 'balcony', 'floors_total']] = df[['last_price', 'balcony', 'floors_total']].astype(int)\n",
    "df['is_apartment'] = df['is_apartment'].astype(bool)"
   ]
  },
  {
   "cell_type": "markdown",
   "metadata": {},
   "source": [
    "We'll change the date format in the `first_day_exposition` column."
   ]
  },
  {
   "cell_type": "code",
   "execution_count": 12,
   "metadata": {},
   "outputs": [],
   "source": [
    "df['first_day_exposition'] = pd.to_datetime(df['first_day_exposition'], format='%Y.%m.%dT%H:%M:%S')"
   ]
  },
  {
   "cell_type": "markdown",
   "metadata": {},
   "source": [
    "We'll change the data type of the columns `total_area`, `living_area`, and `kitchen_area` from `float64` to `float32` to save memory."
   ]
  },
  {
   "cell_type": "code",
   "execution_count": 13,
   "metadata": {},
   "outputs": [],
   "source": [
    "df[['total_area', 'living_area', 'kitchen_area']] = df[['total_area', 'living_area', 'kitchen_area']].astype('float32')"
   ]
  },
  {
   "cell_type": "markdown",
   "metadata": {},
   "source": [
    "Let's see how many apartments have ceiling heights above 4 meters or below 2 meters."
   ]
  },
  {
   "cell_type": "code",
   "execution_count": 14,
   "metadata": {},
   "outputs": [
    {
     "data": {
      "text/plain": [
       "78"
      ]
     },
     "execution_count": 14,
     "metadata": {},
     "output_type": "execute_result"
    }
   ],
   "source": [
    "df_height = df.query('ceiling_height > 4 or ceiling_height < 2')\n",
    "df_height.shape[0]"
   ]
  },
  {
   "cell_type": "markdown",
   "metadata": {},
   "source": [
    "There are 78 apartments with ceiling heights above 4 meters or below 2 meters. Let's remove them because such apartments could potentially skew the graphs in the future."
   ]
  },
  {
   "cell_type": "code",
   "execution_count": 15,
   "metadata": {},
   "outputs": [],
   "source": [
    "df = df.query('ceiling_height >= 2 and ceiling_height <= 4')"
   ]
  },
  {
   "cell_type": "markdown",
   "metadata": {},
   "source": [
    "Let's see how many apartments have more than 7 rooms."
   ]
  },
  {
   "cell_type": "code",
   "execution_count": 16,
   "metadata": {},
   "outputs": [
    {
     "data": {
      "text/plain": [
       "31"
      ]
     },
     "execution_count": 16,
     "metadata": {},
     "output_type": "execute_result"
    }
   ],
   "source": [
    "df_rooms = df.query('rooms > 7')\n",
    "df_rooms.shape[0]"
   ]
  },
  {
   "cell_type": "markdown",
   "metadata": {},
   "source": [
    "We are deleting it. Such apartments are very rare"
   ]
  },
  {
   "cell_type": "code",
   "execution_count": 17,
   "metadata": {},
   "outputs": [],
   "source": [
    "df = df.query('rooms <= 7')"
   ]
  },
  {
   "cell_type": "markdown",
   "metadata": {},
   "source": [
    "### Conclusion\n",
    "\n",
    "Filled empty values, changed data types and deleted rows with rare values"
   ]
  },
  {
   "cell_type": "markdown",
   "metadata": {},
   "source": [
    "## Calculations and adding results to the table"
   ]
  },
  {
   "cell_type": "markdown",
   "metadata": {},
   "source": [
    "Add a column with a valuable 1 square meter"
   ]
  },
  {
   "cell_type": "code",
   "execution_count": 18,
   "metadata": {},
   "outputs": [],
   "source": [
    "df['one_metr_price'] = (df['last_price'] / df['total_area']).astype(int)"
   ]
  },
  {
   "cell_type": "markdown",
   "metadata": {},
   "source": [
    "Add columns with information about the date of publication\n",
    "\n",
    "1. Day of the week\n",
    "\n",
    "2. Month\n",
    "\n",
    "3. Year"
   ]
  },
  {
   "cell_type": "code",
   "execution_count": 19,
   "metadata": {
    "scrolled": false
   },
   "outputs": [],
   "source": [
    "df['day_exposition'] = df['first_day_exposition'].dt.day_name()\n",
    "df['month_exposition'] = df['first_day_exposition'].dt.month_name()\n",
    "df['year_exposition'] = df['first_day_exposition'].dt.year"
   ]
  },
  {
   "cell_type": "markdown",
   "metadata": {},
   "source": [
    "Now let's add a column with information about the floor. Where there will be three options.\n",
    "\n",
    "1. Ground floor\n",
    "\n",
    "2. Top floor\n",
    "\n",
    "3. Other\n",
    "\n",
    "To do this, let's write a function"
   ]
  },
  {
   "cell_type": "code",
   "execution_count": 20,
   "metadata": {},
   "outputs": [],
   "source": [
    "def floor_description_func(floor, floors_total):\n",
    "    if floor == 1:\n",
    "        return 'Первый'\n",
    "    elif floor == floors_total:\n",
    "        return 'Последний'\n",
    "    else:\n",
    "        return 'Другой'\n"
   ]
  },
  {
   "cell_type": "code",
   "execution_count": 21,
   "metadata": {},
   "outputs": [],
   "source": [
    "df['floor_description'] = df.apply(lambda x: floor_description_func(x['floor'], x['floors_total']), axis=1)"
   ]
  },
  {
   "cell_type": "markdown",
   "metadata": {},
   "source": [
    "Let's add two new columns\n",
    "\n",
    "1. Ratio of living space to total\n",
    "2. Ratio of kitchen area to total area"
   ]
  },
  {
   "cell_type": "code",
   "execution_count": 22,
   "metadata": {},
   "outputs": [],
   "source": [
    "df['living_area_ratio'] = df['living_area'] / df['total_area'] * 100\n",
    "df['kitchen_area_ratio'] = df['kitchen_area'] / df['total_area'] * 100"
   ]
  },
  {
   "cell_type": "markdown",
   "metadata": {},
   "source": [
    "Add a column with distance from the center in km"
   ]
  },
  {
   "cell_type": "code",
   "execution_count": 23,
   "metadata": {},
   "outputs": [],
   "source": [
    "df['cityCenters_nearest_km'] = (df['cityCenters_nearest'] / 1000).round(0)"
   ]
  },
  {
   "cell_type": "markdown",
   "metadata": {},
   "source": [
    "### Conclusion\n",
    "\n",
    "Added new columns with the necessary information"
   ]
  },
  {
   "cell_type": "markdown",
   "metadata": {},
   "source": [
    "## Exploratory data analysis"
   ]
  },
  {
   "cell_type": "markdown",
   "metadata": {},
   "source": [
    "Let's build histograms for the total area, price, number of rooms and ceiling heights. Let's see what we can already see."
   ]
  },
  {
   "cell_type": "code",
   "execution_count": 24,
   "metadata": {
    "scrolled": false
   },
   "outputs": [
    {
     "data": {
      "image/png": "[encoded data removed]",
      "text/plain": [
       "<Figure size 432x288 with 1 Axes>"
      ]
     },
     "metadata": {
      "needs_background": "light"
     },
     "output_type": "display_data"
    },
    {
     "data": {
      "image/png": "[encoded data removed]",
      "text/plain": [
       "<Figure size 432x288 with 1 Axes>"
      ]
     },
     "metadata": {
      "needs_background": "light"
     },
     "output_type": "display_data"
    },
    {
     "data": {
      "image/png": "[encoded data removed]",
      "text/plain": [
       "<Figure size 432x288 with 1 Axes>"
      ]
     },
     "metadata": {
      "needs_background": "light"
     },
     "output_type": "display_data"
    },
    {
     "data": {
      "image/png": "[encoded data removed]",
      "text/plain": [
       "<Figure size 432x288 with 1 Axes>"
      ]
     },
     "metadata": {
      "needs_background": "light"
     },
     "output_type": "display_data"
    }
   ],
   "source": [
    "first_hist = ['total_area', 'last_price', 'rooms', 'ceiling_height']\n",
    "\n",
    "for i in first_hist:\n",
    "    df.plot(kind='hist', y=i, bins=50, grid=True)\n"
   ]
  },
  {
   "cell_type": "markdown",
   "metadata": {},
   "source": [
    "1. The vast majority of apartments with a total area of ​​up to 200 square meters\n",
    "2. Not everything is clear about the price yet. Next, we will make a schedule with a price of up to 20 million rubles\n",
    "3. Most apartments have 1 - 3 rooms. Other meanings are rare\n",
    "4. And ceiling heights range from 2.5m to 3m. Other meanings are not so popular\n",
    "\n",
    "Let's build a new histogram for the value"
   ]
  },
  {
   "cell_type": "markdown",
   "metadata": {},
   "source": [
    "But for ease of perception, we will add a new column where the price will be indicated in million rubles"
   ]
  },
  {
   "cell_type": "code",
   "execution_count": 25,
   "metadata": {},
   "outputs": [],
   "source": [
    "df['last_price_mil'] = df['last_price'] / 1000000"
   ]
  },
  {
   "cell_type": "code",
   "execution_count": 26,
   "metadata": {},
   "outputs": [
    {
     "data": {
      "text/plain": [
       "<matplotlib.axes._subplots.AxesSubplot at 0x7f1b77ea7d90>"
      ]
     },
     "execution_count": 26,
     "metadata": {},
     "output_type": "execute_result"
    },
    {
     "data": {
      "image/png": "[encoded data removed]",
      "text/plain": [
       "<Figure size 432x288 with 1 Axes>"
      ]
     },
     "metadata": {
      "needs_background": "light"
     },
     "output_type": "display_data"
    }
   ],
   "source": [
    "df_last_price_mil = df.query('last_price_mil <= 20')\n",
    "df_last_price_mil.plot(kind='hist', y='last_price_mil', bins=50, grid=True)"
   ]
  },
  {
   "cell_type": "markdown",
   "metadata": {},
   "source": [
    "Now we can say that the overwhelming number of apartments are in the range from 2.5 to 5 million rubles"
   ]
  },
  {
   "cell_type": "markdown",
   "metadata": {},
   "source": [
    "Let's look at the average time to sell an apartment"
   ]
  },
  {
   "cell_type": "code",
   "execution_count": 27,
   "metadata": {
    "scrolled": false
   },
   "outputs": [
    {
     "data": {
      "text/plain": [
       "count    20430.000000\n",
       "mean       180.405384\n",
       "std        219.135320\n",
       "min          1.000000\n",
       "25%         45.000000\n",
       "50%         95.000000\n",
       "75%        231.000000\n",
       "max       1580.000000\n",
       "Name: days_exposition, dtype: float64"
      ]
     },
     "execution_count": 27,
     "metadata": {},
     "output_type": "execute_result"
    },
    {
     "data": {
      "image/png": "[encoded data removed]",
      "text/plain": [
       "<Figure size 432x288 with 1 Axes>"
      ]
     },
     "metadata": {
      "needs_background": "light"
     },
     "output_type": "display_data"
    }
   ],
   "source": [
    "df.plot(kind='hist', y='days_exposition', bins=200, grid=True)\n",
    "df['days_exposition'].describe()"
   ]
  },
  {
   "cell_type": "markdown",
   "metadata": {},
   "source": [
    "From the graph above, we note that the bulk of transactions are completed within 100 days.\n",
    "\n",
    "Let's build a new histogram for the total area of ​​apartments up to 200 m"
   ]
  },
  {
   "cell_type": "code",
   "execution_count": 28,
   "metadata": {},
   "outputs": [
    {
     "data": {
      "text/plain": [
       "<matplotlib.axes._subplots.AxesSubplot at 0x7f1b6f69a390>"
      ]
     },
     "execution_count": 28,
     "metadata": {},
     "output_type": "execute_result"
    },
    {
     "data": {
      "image/png": "[encoded data removed]",
      "text/plain": [
       "<Figure size 432x288 with 1 Axes>"
      ]
     },
     "metadata": {
      "needs_background": "light"
     },
     "output_type": "display_data"
    }
   ],
   "source": [
    "df_total_area_popular = df.query('total_area <= 200')\n",
    "df_total_area_popular.plot(kind='hist', y='total_area', bins=100, grid=True)"
   ]
  },
  {
   "cell_type": "markdown",
   "metadata": {},
   "source": [
    "The largest number of apartments have a total area of ​​approximately 30 to 70 square meters\n",
    "\n",
    "Now we will build a graph for the time of sale of apartments up to 800 days. Because after the values ​​become rare"
   ]
  },
  {
   "cell_type": "code",
   "execution_count": 29,
   "metadata": {},
   "outputs": [
    {
     "data": {
      "text/plain": [
       "<matplotlib.axes._subplots.AxesSubplot at 0x7f1b6f6c1750>"
      ]
     },
     "execution_count": 29,
     "metadata": {},
     "output_type": "execute_result"
    },
    {
     "data": {
      "image/png": "[encoded data removed]",
      "text/plain": [
       "<Figure size 432x288 with 1 Axes>"
      ]
     },
     "metadata": {
      "needs_background": "light"
     },
     "output_type": "display_data"
    }
   ],
   "source": [
    "df_days_exposition_popular = df.query('days_exposition <= 800')\n",
    "df_days_exposition_popular.plot(kind='hist', y='days_exposition', bins=100, grid=True)"
   ]
  },
  {
   "cell_type": "markdown",
   "metadata": {},
   "source": [
    "Most often, an apartment is sold within 100-200 days"
   ]
  },
  {
   "cell_type": "markdown",
   "metadata": {},
   "source": [
    "Now let's see if the price of an apartment depends on the area, number of rooms and distance from the center"
   ]
  },
  {
   "cell_type": "code",
   "execution_count": 30,
   "metadata": {
    "scrolled": true
   },
   "outputs": [
    {
     "name": "stdout",
     "output_type": "stream",
     "text": [
      "                     last_price  total_area     rooms  cityCenters_nearest\n",
      "last_price             1.000000    0.634406  0.346283            -0.209986\n",
      "total_area             0.634406    1.000000  0.751139            -0.233046\n",
      "rooms                  0.346283    0.751139  1.000000            -0.181586\n",
      "cityCenters_nearest   -0.209986   -0.233046 -0.181586             1.000000\n"
     ]
    }
   ],
   "source": [
    "print(df[['last_price', 'total_area', 'rooms', 'cityCenters_nearest']].corr())"
   ]
  },
  {
   "cell_type": "markdown",
   "metadata": {},
   "source": [
    "You can see above that the price is most influenced by the total area. The larger the area and the more rooms, the higher the price of the apartment. Logical. And the further from the center, the cheaper the apartments"
   ]
  },
  {
   "cell_type": "markdown",
   "metadata": {},
   "source": [
    "Now let's see on which floors the most expensive apartments are"
   ]
  },
  {
   "cell_type": "code",
   "execution_count": 31,
   "metadata": {},
   "outputs": [
    {
     "name": "stdout",
     "output_type": "stream",
     "text": [
      "floor_description\n",
      "Другой       6.629277\n",
      "Первый       4.736709\n",
      "Последний    6.899457\n",
      "Name: last_price_mil, dtype: float64\n"
     ]
    }
   ],
   "source": [
    "print(df.groupby('floor_description')['last_price_mil'].mean())"
   ]
  },
  {
   "cell_type": "markdown",
   "metadata": {},
   "source": [
    "The apartments on the top floor are not much, but nevertheless more expensive than on other floors. The cheapest apartments are on the ground floor"
   ]
  },
  {
   "cell_type": "markdown",
   "metadata": {},
   "source": [
    "Let's see what time the most expensive apartments are"
   ]
  },
  {
   "cell_type": "code",
   "execution_count": 32,
   "metadata": {},
   "outputs": [
    {
     "name": "stdout",
     "output_type": "stream",
     "text": [
      "                last_price_mil\n",
      "day_exposition                \n",
      "Friday                6.331354\n",
      "Monday                6.432392\n",
      "Saturday              6.876046\n",
      "Sunday                6.169935\n",
      "Thursday              6.568719\n",
      "Tuesday               6.355769\n",
      "Wednesday             6.378474\n",
      "\n",
      "                  last_price_mil\n",
      "month_exposition                \n",
      "April                   6.666634\n",
      "August                  6.353054\n",
      "December                6.650528\n",
      "February                6.421588\n",
      "January                 6.482463\n",
      "July                    6.435779\n",
      "June                    6.193962\n",
      "March                   6.279734\n",
      "May                     6.525790\n",
      "November                6.421161\n",
      "October                 6.087175\n",
      "September               6.778465\n",
      "\n",
      "                 last_price_mil\n",
      "year_exposition                \n",
      "2014                  11.859835\n",
      "2015                   8.213918\n",
      "2016                   6.778940\n",
      "2017                   6.433276\n",
      "2018                   5.892339\n",
      "2019                   6.722723\n"
     ]
    }
   ],
   "source": [
    "df_day_all = df.pivot_table(index='day_exposition', values='last_price_mil')\n",
    "df_month_all = df.pivot_table(index='month_exposition', values='last_price_mil')\n",
    "df_year_all = df.pivot_table(index='year_exposition', values='last_price_mil')\n",
    "\n",
    "print(df_day_all)\n",
    "print()\n",
    "print(df_month_all)\n",
    "print()\n",
    "print(df_year_all)"
   ]
  },
  {
   "cell_type": "markdown",
   "metadata": {},
   "source": [
    "There has been a noticeable drop in apartment prices since 2014. We will also display statistics on the price per square meter"
   ]
  },
  {
   "cell_type": "code",
   "execution_count": 33,
   "metadata": {},
   "outputs": [
    {
     "name": "stdout",
     "output_type": "stream",
     "text": [
      "                 one_metr_price\n",
      "year_exposition                \n",
      "2014              124618.647059\n",
      "2015              104116.808475\n",
      "2016               98230.499639\n",
      "2017               97234.864172\n",
      "2018               97608.368415\n",
      "2019              107164.743286\n"
     ]
    }
   ],
   "source": [
    "print(df.pivot_table(index='year_exposition', values='one_metr_price'))"
   ]
  },
  {
   "cell_type": "markdown",
   "metadata": {},
   "source": [
    "In 2014, prices for apartments really were the highest, then they began to fall. From 2016 to 2018 they remained at approximately the same level. And they grew a little in 2019"
   ]
  },
  {
   "cell_type": "markdown",
   "metadata": {},
   "source": [
    "1. Apartment advertisements posted on Saturday have the highest average price. But this is more of an accident, because... the difference between the days of the week is minimal\n",
    "2. Apartment advertisements posted in September have the highest average price\n",
    "3. Apartment advertisements posted in 2014 have the highest average price"
   ]
  },
  {
   "cell_type": "markdown",
   "metadata": {},
   "source": [
    "Let's add a new column with information about the price of 1 square meter"
   ]
  },
  {
   "cell_type": "code",
   "execution_count": 34,
   "metadata": {},
   "outputs": [],
   "source": [
    "df['price_one_metr'] = df['last_price'] / df['total_area']"
   ]
  },
  {
   "cell_type": "markdown",
   "metadata": {},
   "source": [
    "Let's build a summary and find the average price and number of advertisements in each locality"
   ]
  },
  {
   "cell_type": "code",
   "execution_count": 35,
   "metadata": {},
   "outputs": [
    {
     "data": {
      "text/html": [
       "<div>\n",
       "<style scoped>\n",
       "    .dataframe tbody tr th:only-of-type {\n",
       "        vertical-align: middle;\n",
       "    }\n",
       "\n",
       "    .dataframe tbody tr th {\n",
       "        vertical-align: top;\n",
       "    }\n",
       "\n",
       "    .dataframe thead tr th {\n",
       "        text-align: left;\n",
       "    }\n",
       "\n",
       "    .dataframe thead tr:last-of-type th {\n",
       "        text-align: right;\n",
       "    }\n",
       "</style>\n",
       "<table border=\"1\" class=\"dataframe\">\n",
       "  <thead>\n",
       "    <tr>\n",
       "      <th></th>\n",
       "      <th>mean</th>\n",
       "      <th>count</th>\n",
       "    </tr>\n",
       "    <tr>\n",
       "      <th></th>\n",
       "      <th>price_one_metr</th>\n",
       "      <th>price_one_metr</th>\n",
       "    </tr>\n",
       "    <tr>\n",
       "      <th>locality_name</th>\n",
       "      <th></th>\n",
       "      <th></th>\n",
       "    </tr>\n",
       "  </thead>\n",
       "  <tbody>\n",
       "    <tr>\n",
       "      <td>Бокситогорск</td>\n",
       "      <td>17457.330200</td>\n",
       "      <td>15</td>\n",
       "    </tr>\n",
       "    <tr>\n",
       "      <td>Волосово</td>\n",
       "      <td>40183.326053</td>\n",
       "      <td>36</td>\n",
       "    </tr>\n",
       "    <tr>\n",
       "      <td>Волхов</td>\n",
       "      <td>35055.143613</td>\n",
       "      <td>110</td>\n",
       "    </tr>\n",
       "    <tr>\n",
       "      <td>Всеволожск</td>\n",
       "      <td>68605.573132</td>\n",
       "      <td>397</td>\n",
       "    </tr>\n",
       "    <tr>\n",
       "      <td>Выборг</td>\n",
       "      <td>58093.893095</td>\n",
       "      <td>236</td>\n",
       "    </tr>\n",
       "  </tbody>\n",
       "</table>\n",
       "</div>"
      ],
      "text/plain": [
       "                        mean          count\n",
       "              price_one_metr price_one_metr\n",
       "locality_name                              \n",
       "Бокситогорск    17457.330200             15\n",
       "Волосово        40183.326053             36\n",
       "Волхов          35055.143613            110\n",
       "Всеволожск      68605.573132            397\n",
       "Выборг          58093.893095            236"
      ]
     },
     "metadata": {},
     "output_type": "display_data"
    }
   ],
   "source": [
    "df_location = df.pivot_table(index='locality_name', values='price_one_metr', aggfunc=['mean', 'count'])\n",
    "display(df_location.head())"
   ]
  },
  {
   "cell_type": "markdown",
   "metadata": {},
   "source": [
    "Let's rename the columns"
   ]
  },
  {
   "cell_type": "code",
   "execution_count": 36,
   "metadata": {},
   "outputs": [],
   "source": [
    "df_location.columns = ['one_metr_price_mean', 'count']"
   ]
  },
  {
   "cell_type": "markdown",
   "metadata": {},
   "source": [
    "We will display 10 settlements with the largest number of advertisements"
   ]
  },
  {
   "cell_type": "code",
   "execution_count": 37,
   "metadata": {},
   "outputs": [
    {
     "name": "stdout",
     "output_type": "stream",
     "text": [
      "                   one_metr_price_mean  count\n",
      "locality_name                                \n",
      "Санкт-Петербург          114556.963970  15631\n",
      "посёлок Мурино            85725.241254    520\n",
      "посёлок Шушары            78677.364183    440\n",
      "Всеволожск                68605.573132    397\n",
      "Пушкин                   103058.361327    368\n",
      "Колпино                   75333.295708    337\n",
      "посёлок Парголово         90175.913487    327\n",
      "Гатчина                   68757.678558    306\n",
      "деревня Кудрово           92473.547479    299\n",
      "Выборг                    58093.893095    236\n",
      "AxesSubplot(0.135,0.125;0.755x0.755)\n"
     ]
    },
    {
     "data": {
      "image/png": "[encoded data removed]",
      "text/plain": [
       "<Figure size 576x576 with 1 Axes>"
      ]
     },
     "metadata": {},
     "output_type": "display_data"
    }
   ],
   "source": [
    "print(df_location.sort_values('count', ascending=False).head(10))\n",
    "print(df_location.sort_values('count', ascending=False).head(10).plot(kind='pie', y='count', figsize=(8, 8), legend=False, label='ТОП-10 по кол-ву объявлений'))"
   ]
  },
  {
   "cell_type": "markdown",
   "metadata": {},
   "source": [
    "The largest number of advertisements in St. Petersburg"
   ]
  },
  {
   "cell_type": "markdown",
   "metadata": {},
   "source": [
    "Now let’s display the settlement with the highest and lowest valuable 1 square meter of housing"
   ]
  },
  {
   "cell_type": "code",
   "execution_count": 38,
   "metadata": {},
   "outputs": [
    {
     "name": "stdout",
     "output_type": "stream",
     "text": [
      "                   one_metr_price_mean  count\n",
      "locality_name                                \n",
      "посёлок Лисий Нос        121616.221304      2\n",
      "\n",
      "                    one_metr_price_mean  count\n",
      "locality_name                                 \n",
      "деревня Старополье         11206.221077      3\n"
     ]
    }
   ],
   "source": [
    "print(df_location.sort_values('one_metr_price_mean', ascending=False).head(1))\n",
    "print()\n",
    "print(df_location.sort_values('one_metr_price_mean', ascending=True).head(1))"
   ]
  },
  {
   "cell_type": "markdown",
   "metadata": {},
   "source": [
    "Interesting. The difference between the two settlements is more than 10 times"
   ]
  },
  {
   "cell_type": "markdown",
   "metadata": {},
   "source": [
    "<b>We will create a df only with apartments in St. Petersburg</b>"
   ]
  },
  {
   "cell_type": "code",
   "execution_count": 39,
   "metadata": {},
   "outputs": [],
   "source": [
    "df_saint_petersburg = df.query('locality_name == \"Санкт-Петербург\"')"
   ]
  },
  {
   "cell_type": "markdown",
   "metadata": {},
   "source": [
    "Let's build a histogram and see how distance from the center affects the price"
   ]
  },
  {
   "cell_type": "code",
   "execution_count": 40,
   "metadata": {},
   "outputs": [
    {
     "data": {
      "text/plain": [
       "<matplotlib.axes._subplots.AxesSubplot at 0x7f1b77ea7210>"
      ]
     },
     "execution_count": 40,
     "metadata": {},
     "output_type": "execute_result"
    },
    {
     "data": {
      "image/png": "[encoded data removed]",
      "text/plain": [
       "<Figure size 432x288 with 1 Axes>"
      ]
     },
     "metadata": {
      "needs_background": "light"
     },
     "output_type": "display_data"
    }
   ],
   "source": [
    "df_saint_petersburg_center = df_saint_petersburg.pivot_table(index='cityCenters_nearest_km', values='last_price_mil')\n",
    "df_saint_petersburg_center.plot(kind='hist', y='last_price_mil', bins=30, grid=True)"
   ]
  },
  {
   "cell_type": "markdown",
   "metadata": {},
   "source": [
    "The peak price occurs in the range of 0-7 km. Let's assume that this is the center"
   ]
  },
  {
   "cell_type": "markdown",
   "metadata": {},
   "source": [
    "We will create a df with apartments in St. Petersburg within a 7 km radius"
   ]
  },
  {
   "cell_type": "code",
   "execution_count": 41,
   "metadata": {},
   "outputs": [],
   "source": [
    "df_saint_petersburg_center_7km = df_saint_petersburg.query('cityCenters_nearest_km <= 7')"
   ]
  },
  {
   "cell_type": "markdown",
   "metadata": {},
   "source": [
    "Now let's build histograms and see the price dependence"
   ]
  },
  {
   "cell_type": "code",
   "execution_count": 42,
   "metadata": {},
   "outputs": [
    {
     "name": "stdout",
     "output_type": "stream",
     "text": [
      "                     last_price  total_area     rooms  cityCenters_nearest\n",
      "last_price             1.000000    0.607585  0.306242            -0.045403\n",
      "total_area             0.607585    1.000000  0.724997            -0.103763\n",
      "rooms                  0.306242    0.724997  1.000000            -0.181730\n",
      "cityCenters_nearest   -0.045403   -0.103763 -0.181730             1.000000\n"
     ]
    }
   ],
   "source": [
    "print(df_saint_petersburg_center_7km[['last_price', 'total_area', 'rooms', 'cityCenters_nearest']].corr())"
   ]
  },
  {
   "cell_type": "markdown",
   "metadata": {},
   "source": [
    "The price is no longer affected by distance from the center. So 7km is the correct value.\n",
    "\n",
    "Everything is the same, the total area influences the most"
   ]
  },
  {
   "cell_type": "markdown",
   "metadata": {},
   "source": [
    "Let's see how the floor affects the price"
   ]
  },
  {
   "cell_type": "code",
   "execution_count": 43,
   "metadata": {
    "scrolled": true
   },
   "outputs": [
    {
     "name": "stdout",
     "output_type": "stream",
     "text": [
      "floor_description\n",
      "Другой       14.671402\n",
      "Первый        9.073137\n",
      "Последний    17.065957\n",
      "Name: last_price_mil, dtype: float64\n"
     ]
    }
   ],
   "source": [
    "print(df_saint_petersburg_center_7km.groupby('floor_description')['last_price_mil'].mean())"
   ]
  },
  {
   "cell_type": "markdown",
   "metadata": {},
   "source": [
    "The cheapest apartments also remained on the ground floor. But the most expensive apartments were the ones on the top floor"
   ]
  },
  {
   "cell_type": "markdown",
   "metadata": {},
   "source": [
    "Let's see how the day of the week, month and year affect the price"
   ]
  },
  {
   "cell_type": "code",
   "execution_count": 44,
   "metadata": {},
   "outputs": [
    {
     "name": "stdout",
     "output_type": "stream",
     "text": [
      "                last_price_mil\n",
      "day_exposition                \n",
      "Friday               14.447557\n",
      "Monday               14.257825\n",
      "Saturday             18.733012\n",
      "Sunday               15.161635\n",
      "Thursday             13.966784\n",
      "Tuesday              14.080676\n",
      "Wednesday            13.602053\n",
      "\n",
      "                  last_price_mil\n",
      "month_exposition                \n",
      "April                  16.008337\n",
      "August                 13.943881\n",
      "December               15.145997\n",
      "February               14.841771\n",
      "January                15.171682\n",
      "July                   14.340605\n",
      "June                   13.750216\n",
      "March                  14.137453\n",
      "May                    14.230961\n",
      "November               14.056173\n",
      "October                12.301438\n",
      "September              15.793645\n",
      "\n",
      "                 last_price_mil\n",
      "year_exposition                \n",
      "2014                  25.026800\n",
      "2015                  16.192596\n",
      "2016                  15.549479\n",
      "2017                  14.842804\n",
      "2018                  12.558871\n",
      "2019                  15.050451\n"
     ]
    }
   ],
   "source": [
    "#df_day_center = df_saint_petersburg_center_7km.groupby('day_exposition')['last_price_mil'].mean()\n",
    "#df_month_center = df_saint_petersburg_center_7km.groupby('month_exposition')['last_price_mil'].mean()\n",
    "#df_year_center = df_saint_petersburg_center_7km.groupby('year_exposition')['last_price_mil'].mean()\n",
    "\n",
    "df_day_center = df_saint_petersburg_center_7km.pivot_table(index='day_exposition', values='last_price_mil')\n",
    "df_month_center = df_saint_petersburg_center_7km.pivot_table(index='month_exposition', values='last_price_mil')\n",
    "df_year_center = df_saint_petersburg_center_7km.pivot_table(index='year_exposition', values='last_price_mil')\n",
    "\n",
    "\n",
    "\n",
    "print(df_day_center)\n",
    "print()\n",
    "print(df_month_center)\n",
    "print()\n",
    "print(df_year_center)"
   ]
  },
  {
   "cell_type": "markdown",
   "metadata": {},
   "source": [
    "1. Apartment advertisements posted on Saturday have the highest average price. No different from previous data\n",
    "2. Apartment advertisements posted in April have the highest average price. Is different. Last time the most expensive month was September\n",
    "3. Apartment advertisements posted in 2014 have the highest average price. The year is no different"
   ]
  },
  {
   "cell_type": "markdown",
   "metadata": {},
   "source": [
    "For clarity, we will combine information on the time of the center of St. Petersburg and the time throughout the region"
   ]
  },
  {
   "cell_type": "code",
   "execution_count": 45,
   "metadata": {},
   "outputs": [],
   "source": [
    "df_day_final = df_day_all.merge(df_day_center, on='day_exposition')\n",
    "df_month_final = df_month_all.merge(df_month_center, on='month_exposition')\n",
    "df_year_final = df_year_all.merge(df_year_center, on='year_exposition')\n",
    "\n",
    "for_hist_final = [df_day_final, df_month_final, df_year_final]\n",
    "\n",
    "for i in for_hist_final:\n",
    "    i.columns = ['last_price_mil', 'last_price_mil_center']"
   ]
  },
  {
   "cell_type": "markdown",
   "metadata": {},
   "source": [
    "Let's build general graphs"
   ]
  },
  {
   "cell_type": "code",
   "execution_count": 46,
   "metadata": {
    "scrolled": false
   },
   "outputs": [
    {
     "data": {
      "image/png": "[encoded data removed]",
      "text/plain": [
       "<Figure size 720x216 with 1 Axes>"
      ]
     },
     "metadata": {
      "needs_background": "light"
     },
     "output_type": "display_data"
    },
    {
     "data": {
      "image/png": "[encoded data removed]",
      "text/plain": [
       "<Figure size 720x216 with 1 Axes>"
      ]
     },
     "metadata": {
      "needs_background": "light"
     },
     "output_type": "display_data"
    },
    {
     "data": {
      "image/png": "[encoded data removed]",
      "text/plain": [
       "<Figure size 720x216 with 1 Axes>"
      ]
     },
     "metadata": {
      "needs_background": "light"
     },
     "output_type": "display_data"
    }
   ],
   "source": [
    "for i in for_hist_final:\n",
    "    i.plot(figsize=(10, 3), kind='bar')"
   ]
  },
  {
   "cell_type": "markdown",
   "metadata": {},
   "source": [
    "Summarize:\n",
    "- apartments in the region are independent of the day of the week. For apartments in the center of St. Petersburg, the highest price fell on Saturday\n",
    "- apartments in the region are not dependent on the month. There is a slight dependence in the central apartments of St. Petersburg.\n",
    "- The years have the same effect on apartments in the region and the center of St. Petersburg."
   ]
  },
  {
   "cell_type": "markdown",
   "metadata": {},
   "source": [
    "## General conclusion"
   ]
  },
  {
   "cell_type": "markdown",
   "metadata": {},
   "source": [
    "After analyzing the data obtained on the sale of apartments, the following conclusions can be drawn:\n",
    "1. The price of an apartment depends most strongly on the total area.\n",
    "2. Depends less on the number of rooms. But because The number of rooms strongly depends on the total area, and therefore the price will also depend.\n",
    "3. There is a weak dependence of the price of an apartment on the center. While for apartments in St. Petersburg within 7 km from the center there is no such dependence at all.\n",
    "4. The highest prices for apartments were in advertisements posted on Saturday. It is not a fact that they were deliberately bought at a higher price. Most likely, they prefer to put up expensive apartments for sale on Saturday. In the case of St. Petersburg, this is especially noticeable.\n",
    "5. Also, the highest prices for apartments were in advertisements posted in September. In St. Petersburg - in April.\n",
    "6. In 2014 were the highest prices for apartments. Or at this time many expensive apartments were sold.\n",
    "7. Localities with the cheapest and most expensive prices per 1 square meter are also displayed."
   ]
  }
 ],
 "metadata": {
  "ExecuteTimeLog": [
   {
    "duration": 827,
    "start_time": "2021-12-26T07:42:44.585Z"
   },
   {
    "duration": 88,
    "start_time": "2021-12-26T07:43:00.857Z"
   },
   {
    "duration": 113,
    "start_time": "2021-12-26T07:43:27.393Z"
   },
   {
    "duration": 106,
    "start_time": "2021-12-26T07:43:32.521Z"
   },
   {
    "duration": 104,
    "start_time": "2021-12-26T07:44:43.881Z"
   },
   {
    "duration": 97,
    "start_time": "2021-12-26T07:45:13.230Z"
   },
   {
    "duration": 84,
    "start_time": "2021-12-26T07:45:41.314Z"
   },
   {
    "duration": 83,
    "start_time": "2021-12-26T07:46:01.694Z"
   },
   {
    "duration": 95,
    "start_time": "2021-12-26T07:46:14.854Z"
   },
   {
    "duration": 84,
    "start_time": "2021-12-26T07:46:22.234Z"
   },
   {
    "duration": 88,
    "start_time": "2021-12-26T07:48:06.143Z"
   },
   {
    "duration": 114,
    "start_time": "2021-12-26T07:48:14.419Z"
   },
   {
    "duration": 83,
    "start_time": "2021-12-26T07:48:20.299Z"
   },
   {
    "duration": 90,
    "start_time": "2021-12-26T07:49:29.355Z"
   },
   {
    "duration": 571,
    "start_time": "2021-12-26T07:54:40.773Z"
   },
   {
    "duration": 81,
    "start_time": "2021-12-26T07:54:49.405Z"
   },
   {
    "duration": 116,
    "start_time": "2021-12-26T07:55:03.469Z"
   },
   {
    "duration": 136,
    "start_time": "2021-12-26T07:55:29.957Z"
   },
   {
    "duration": 7,
    "start_time": "2021-12-26T09:44:34.327Z"
   },
   {
    "duration": 10,
    "start_time": "2021-12-26T09:44:41.613Z"
   },
   {
    "duration": 7,
    "start_time": "2021-12-26T09:45:13.900Z"
   },
   {
    "duration": 428,
    "start_time": "2021-12-26T12:45:02.498Z"
   },
   {
    "duration": 904,
    "start_time": "2021-12-26T12:45:07.402Z"
   },
   {
    "duration": 9,
    "start_time": "2021-12-26T12:45:11.462Z"
   },
   {
    "duration": 8,
    "start_time": "2021-12-26T12:45:16.970Z"
   },
   {
    "duration": 176,
    "start_time": "2021-12-26T13:10:23.419Z"
   },
   {
    "duration": 11,
    "start_time": "2021-12-26T13:13:44.555Z"
   },
   {
    "duration": 342,
    "start_time": "2021-12-26T13:19:36.717Z"
   },
   {
    "duration": 312,
    "start_time": "2021-12-26T13:19:46.289Z"
   },
   {
    "duration": 303,
    "start_time": "2021-12-26T13:19:52.717Z"
   },
   {
    "duration": 9,
    "start_time": "2021-12-26T13:20:39.003Z"
   },
   {
    "duration": 38,
    "start_time": "2021-12-26T13:20:52.386Z"
   },
   {
    "duration": 21,
    "start_time": "2021-12-26T13:21:00.432Z"
   },
   {
    "duration": 7,
    "start_time": "2021-12-26T13:23:07.114Z"
   },
   {
    "duration": 5,
    "start_time": "2021-12-26T13:24:38.386Z"
   },
   {
    "duration": 5,
    "start_time": "2021-12-26T13:25:24.822Z"
   },
   {
    "duration": 23,
    "start_time": "2021-12-26T13:39:18.144Z"
   },
   {
    "duration": 17,
    "start_time": "2021-12-26T13:39:32.875Z"
   },
   {
    "duration": 14,
    "start_time": "2021-12-26T13:39:44.127Z"
   },
   {
    "duration": 17,
    "start_time": "2021-12-26T13:40:28.136Z"
   },
   {
    "duration": 14,
    "start_time": "2021-12-26T13:40:30.896Z"
   },
   {
    "duration": 132,
    "start_time": "2021-12-26T13:41:00.556Z"
   },
   {
    "duration": 7,
    "start_time": "2021-12-26T13:41:05.888Z"
   },
   {
    "duration": 6,
    "start_time": "2021-12-26T13:41:08.568Z"
   },
   {
    "duration": 14,
    "start_time": "2021-12-26T13:41:12.176Z"
   },
   {
    "duration": 14,
    "start_time": "2021-12-26T13:41:14.300Z"
   },
   {
    "duration": 319,
    "start_time": "2021-12-26T13:42:30.540Z"
   },
   {
    "duration": 293,
    "start_time": "2021-12-26T13:45:57.734Z"
   },
   {
    "duration": 647,
    "start_time": "2021-12-26T13:46:04.578Z"
   },
   {
    "duration": 291,
    "start_time": "2021-12-26T13:46:16.094Z"
   },
   {
    "duration": 318,
    "start_time": "2021-12-26T13:46:31.190Z"
   },
   {
    "duration": 333,
    "start_time": "2021-12-26T13:46:40.334Z"
   },
   {
    "duration": 31,
    "start_time": "2021-12-26T13:47:43.199Z"
   },
   {
    "duration": 328,
    "start_time": "2021-12-26T13:47:55.566Z"
   },
   {
    "duration": -69,
    "start_time": "2021-12-26T13:48:30.057Z"
   },
   {
    "duration": 7,
    "start_time": "2021-12-26T13:48:42.606Z"
   },
   {
    "duration": 333,
    "start_time": "2021-12-26T13:49:03.491Z"
   },
   {
    "duration": 55,
    "start_time": "2021-12-26T13:49:07.788Z"
   },
   {
    "duration": 10,
    "start_time": "2021-12-26T13:54:07.536Z"
   },
   {
    "duration": 15,
    "start_time": "2021-12-26T13:54:11.101Z"
   },
   {
    "duration": 8,
    "start_time": "2021-12-26T13:55:06.839Z"
   },
   {
    "duration": 14,
    "start_time": "2021-12-26T13:55:15.309Z"
   },
   {
    "duration": 11,
    "start_time": "2021-12-26T13:58:32.390Z"
   },
   {
    "duration": 6,
    "start_time": "2021-12-26T13:58:45.950Z"
   },
   {
    "duration": 6,
    "start_time": "2021-12-26T13:59:11.577Z"
   },
   {
    "duration": 7,
    "start_time": "2021-12-26T13:59:13.858Z"
   },
   {
    "duration": 36,
    "start_time": "2021-12-26T14:00:17.883Z"
   },
   {
    "duration": 9,
    "start_time": "2021-12-26T14:01:29.838Z"
   },
   {
    "duration": 35,
    "start_time": "2021-12-26T14:01:31.938Z"
   },
   {
    "duration": 49,
    "start_time": "2021-12-26T14:01:43.162Z"
   },
   {
    "duration": 127,
    "start_time": "2021-12-26T14:01:49.986Z"
   },
   {
    "duration": 7,
    "start_time": "2021-12-26T14:01:56.279Z"
   },
   {
    "duration": 5,
    "start_time": "2021-12-26T14:01:57.994Z"
   },
   {
    "duration": 11,
    "start_time": "2021-12-26T14:01:59.834Z"
   },
   {
    "duration": 48,
    "start_time": "2021-12-26T14:02:02.171Z"
   },
   {
    "duration": 68,
    "start_time": "2021-12-26T14:02:14.695Z"
   },
   {
    "duration": 3485,
    "start_time": "2021-12-26T14:02:26.595Z"
   },
   {
    "duration": -60,
    "start_time": "2021-12-26T14:02:30.144Z"
   },
   {
    "duration": 3084,
    "start_time": "2021-12-26T14:02:35.779Z"
   },
   {
    "duration": 2467,
    "start_time": "2021-12-26T14:03:08.187Z"
   },
   {
    "duration": 45,
    "start_time": "2021-12-26T14:03:10.803Z"
   },
   {
    "duration": 4506,
    "start_time": "2021-12-26T14:04:26.769Z"
   },
   {
    "duration": -64,
    "start_time": "2021-12-26T14:04:31.342Z"
   },
   {
    "duration": 12,
    "start_time": "2021-12-26T14:05:04.968Z"
   },
   {
    "duration": 50,
    "start_time": "2021-12-26T14:05:11.711Z"
   },
   {
    "duration": 7,
    "start_time": "2021-12-26T15:40:57.454Z"
   },
   {
    "duration": 21,
    "start_time": "2021-12-26T15:43:23.935Z"
   },
   {
    "duration": -52,
    "start_time": "2021-12-26T15:45:57.626Z"
   },
   {
    "duration": -62,
    "start_time": "2021-12-26T15:46:13.852Z"
   },
   {
    "duration": 136,
    "start_time": "2021-12-26T15:46:17.108Z"
   },
   {
    "duration": 11,
    "start_time": "2021-12-26T15:46:24.377Z"
   },
   {
    "duration": 7,
    "start_time": "2021-12-26T15:46:26.113Z"
   },
   {
    "duration": 16,
    "start_time": "2021-12-26T15:46:26.788Z"
   },
   {
    "duration": 8,
    "start_time": "2021-12-26T15:46:29.100Z"
   },
   {
    "duration": 176,
    "start_time": "2021-12-26T15:50:24.097Z"
   },
   {
    "duration": 6,
    "start_time": "2021-12-26T15:51:58.269Z"
   },
   {
    "duration": 17,
    "start_time": "2021-12-26T15:52:09.665Z"
   },
   {
    "duration": 68,
    "start_time": "2021-12-26T15:54:45.863Z"
   },
   {
    "duration": 26,
    "start_time": "2021-12-26T15:54:55.270Z"
   },
   {
    "duration": 6,
    "start_time": "2021-12-26T15:55:57.611Z"
   },
   {
    "duration": 29,
    "start_time": "2021-12-26T15:58:08.192Z"
   },
   {
    "duration": 444,
    "start_time": "2021-12-26T16:00:28.285Z"
   },
   {
    "duration": 309,
    "start_time": "2021-12-26T16:00:42.541Z"
   },
   {
    "duration": 392,
    "start_time": "2021-12-26T16:02:43.398Z"
   },
   {
    "duration": 299,
    "start_time": "2021-12-26T16:03:47.349Z"
   },
   {
    "duration": 308,
    "start_time": "2021-12-26T16:05:00.210Z"
   },
   {
    "duration": 469,
    "start_time": "2021-12-26T16:05:55.879Z"
   },
   {
    "duration": 329,
    "start_time": "2021-12-26T16:06:00.398Z"
   },
   {
    "duration": 14,
    "start_time": "2021-12-26T16:06:05.751Z"
   },
   {
    "duration": 336,
    "start_time": "2021-12-26T16:06:13.263Z"
   },
   {
    "duration": 321,
    "start_time": "2021-12-26T16:08:30.407Z"
   },
   {
    "duration": 583,
    "start_time": "2021-12-26T16:08:48.616Z"
   },
   {
    "duration": 12,
    "start_time": "2021-12-26T16:09:42.036Z"
   },
   {
    "duration": 23,
    "start_time": "2021-12-26T16:09:50.692Z"
   },
   {
    "duration": 32,
    "start_time": "2021-12-26T16:11:14.268Z"
   },
   {
    "duration": 29,
    "start_time": "2021-12-26T16:13:10.212Z"
   },
   {
    "duration": 435,
    "start_time": "2021-12-26T16:13:36.169Z"
   },
   {
    "duration": 37,
    "start_time": "2021-12-26T16:14:08.501Z"
   },
   {
    "duration": 95,
    "start_time": "2021-12-26T16:14:22.402Z"
   },
   {
    "duration": 8,
    "start_time": "2021-12-26T16:15:40.489Z"
   },
   {
    "duration": 74,
    "start_time": "2021-12-26T16:15:42.909Z"
   },
   {
    "duration": 75,
    "start_time": "2021-12-26T16:17:07.710Z"
   },
   {
    "duration": 151,
    "start_time": "2021-12-26T16:18:20.311Z"
   },
   {
    "duration": 5,
    "start_time": "2021-12-26T16:21:55.327Z"
   },
   {
    "duration": 312,
    "start_time": "2021-12-26T16:24:43.806Z"
   },
   {
    "duration": 6,
    "start_time": "2021-12-26T16:24:50.570Z"
   },
   {
    "duration": 314,
    "start_time": "2021-12-26T16:24:52.613Z"
   },
   {
    "duration": 9046,
    "start_time": "2021-12-26T16:25:55.106Z"
   },
   {
    "duration": 475,
    "start_time": "2021-12-26T16:27:38.063Z"
   },
   {
    "duration": 6,
    "start_time": "2021-12-26T16:28:03.599Z"
   },
   {
    "duration": 431,
    "start_time": "2021-12-26T16:28:05.606Z"
   },
   {
    "duration": 399,
    "start_time": "2021-12-26T16:30:07.271Z"
   },
   {
    "duration": 312,
    "start_time": "2021-12-26T16:30:20.062Z"
   },
   {
    "duration": 4,
    "start_time": "2021-12-26T16:30:33.814Z"
   },
   {
    "duration": 327,
    "start_time": "2021-12-26T16:30:36.083Z"
   },
   {
    "duration": 49,
    "start_time": "2021-12-26T16:31:31.539Z"
   },
   {
    "duration": 10,
    "start_time": "2021-12-26T16:32:53.334Z"
   },
   {
    "duration": 5,
    "start_time": "2021-12-26T16:32:57.687Z"
   },
   {
    "duration": 45,
    "start_time": "2021-12-26T16:32:59.423Z"
   },
   {
    "duration": 355,
    "start_time": "2021-12-26T16:33:05.155Z"
   },
   {
    "duration": 108,
    "start_time": "2021-12-26T16:33:45.295Z"
   },
   {
    "duration": 4,
    "start_time": "2021-12-26T16:34:03.420Z"
   },
   {
    "duration": 461,
    "start_time": "2021-12-26T16:34:05.259Z"
   },
   {
    "duration": 451,
    "start_time": "2021-12-26T16:34:22.724Z"
   },
   {
    "duration": 477,
    "start_time": "2021-12-26T16:35:35.284Z"
   },
   {
    "duration": 101,
    "start_time": "2021-12-26T16:36:29.917Z"
   },
   {
    "duration": 471,
    "start_time": "2021-12-26T16:36:39.040Z"
   },
   {
    "duration": 4,
    "start_time": "2021-12-26T16:36:46.428Z"
   },
   {
    "duration": 656,
    "start_time": "2021-12-26T16:36:49.056Z"
   },
   {
    "duration": 417,
    "start_time": "2021-12-26T16:39:26.845Z"
   },
   {
    "duration": 319,
    "start_time": "2021-12-26T16:39:39.161Z"
   },
   {
    "duration": 828,
    "start_time": "2021-12-26T16:41:04.506Z"
   },
   {
    "duration": 1299,
    "start_time": "2021-12-26T16:41:49.502Z"
   },
   {
    "duration": 839,
    "start_time": "2021-12-26T16:42:22.862Z"
   },
   {
    "duration": 9,
    "start_time": "2021-12-26T16:45:55.723Z"
   },
   {
    "duration": 98,
    "start_time": "2021-12-26T16:46:04.155Z"
   },
   {
    "duration": 138,
    "start_time": "2021-12-26T16:46:41.880Z"
   },
   {
    "duration": 6,
    "start_time": "2021-12-26T16:46:52.632Z"
   },
   {
    "duration": 7,
    "start_time": "2021-12-26T16:56:51.662Z"
   },
   {
    "duration": 7,
    "start_time": "2021-12-26T16:57:00.850Z"
   },
   {
    "duration": 8,
    "start_time": "2021-12-26T16:57:09.207Z"
   },
   {
    "duration": 5,
    "start_time": "2021-12-26T16:57:20.699Z"
   },
   {
    "duration": 653,
    "start_time": "2021-12-26T16:58:26.082Z"
   },
   {
    "duration": 3328,
    "start_time": "2021-12-26T16:58:42.527Z"
   },
   {
    "duration": 279,
    "start_time": "2021-12-26T16:58:56.311Z"
   },
   {
    "duration": 501,
    "start_time": "2021-12-26T16:59:23.283Z"
   },
   {
    "duration": 567,
    "start_time": "2021-12-26T16:59:31.503Z"
   },
   {
    "duration": 428,
    "start_time": "2021-12-26T16:59:37.335Z"
   },
   {
    "duration": 575,
    "start_time": "2021-12-26T16:59:40.619Z"
   },
   {
    "duration": 401,
    "start_time": "2021-12-26T16:59:46.747Z"
   },
   {
    "duration": 390,
    "start_time": "2021-12-26T16:59:54.475Z"
   },
   {
    "duration": 1543,
    "start_time": "2021-12-26T17:00:52.095Z"
   },
   {
    "duration": 12524,
    "start_time": "2021-12-26T17:01:01.324Z"
   },
   {
    "duration": 732,
    "start_time": "2021-12-26T17:02:35.984Z"
   },
   {
    "duration": 489,
    "start_time": "2021-12-26T17:02:54.068Z"
   },
   {
    "duration": 407,
    "start_time": "2021-12-26T17:03:19.060Z"
   },
   {
    "duration": 813,
    "start_time": "2021-12-26T17:03:28.757Z"
   },
   {
    "duration": 707,
    "start_time": "2021-12-26T17:03:43.237Z"
   },
   {
    "duration": 909,
    "start_time": "2021-12-26T17:03:56.356Z"
   },
   {
    "duration": 952,
    "start_time": "2021-12-26T17:04:22.613Z"
   },
   {
    "duration": 856,
    "start_time": "2021-12-26T17:04:34.801Z"
   },
   {
    "duration": 785,
    "start_time": "2021-12-26T17:04:49.770Z"
   },
   {
    "duration": 778,
    "start_time": "2021-12-26T17:04:57.041Z"
   },
   {
    "duration": 810,
    "start_time": "2021-12-26T17:05:03.565Z"
   },
   {
    "duration": 833,
    "start_time": "2021-12-26T17:05:07.305Z"
   },
   {
    "duration": 839,
    "start_time": "2021-12-26T17:05:10.837Z"
   },
   {
    "duration": 806,
    "start_time": "2021-12-26T17:05:17.957Z"
   },
   {
    "duration": 1057,
    "start_time": "2021-12-26T17:05:21.653Z"
   },
   {
    "duration": 1054,
    "start_time": "2021-12-26T17:06:31.977Z"
   },
   {
    "duration": 5,
    "start_time": "2021-12-26T17:07:03.990Z"
   },
   {
    "duration": 5,
    "start_time": "2021-12-26T17:07:59.818Z"
   },
   {
    "duration": 851,
    "start_time": "2021-12-26T17:08:12.742Z"
   },
   {
    "duration": 1560,
    "start_time": "2021-12-26T17:08:44.116Z"
   },
   {
    "duration": 1382,
    "start_time": "2021-12-26T17:09:01.338Z"
   },
   {
    "duration": 1216,
    "start_time": "2021-12-26T17:09:26.150Z"
   },
   {
    "duration": 1738,
    "start_time": "2021-12-26T17:09:43.287Z"
   },
   {
    "duration": 1788,
    "start_time": "2021-12-26T17:09:59.443Z"
   },
   {
    "duration": 1321,
    "start_time": "2021-12-26T17:13:02.144Z"
   },
   {
    "duration": 16,
    "start_time": "2021-12-26T17:13:41.323Z"
   },
   {
    "duration": 1925,
    "start_time": "2021-12-26T17:16:25.956Z"
   },
   {
    "duration": 2284,
    "start_time": "2021-12-26T17:17:28.781Z"
   },
   {
    "duration": 1894,
    "start_time": "2021-12-26T17:17:44.493Z"
   },
   {
    "duration": 1569,
    "start_time": "2021-12-26T17:18:08.018Z"
   },
   {
    "duration": 6,
    "start_time": "2021-12-26T17:18:29.745Z"
   },
   {
    "duration": 5,
    "start_time": "2021-12-26T17:18:33.632Z"
   },
   {
    "duration": 10,
    "start_time": "2021-12-26T17:18:52.176Z"
   },
   {
    "duration": 8,
    "start_time": "2021-12-26T17:19:20.249Z"
   },
   {
    "duration": 8,
    "start_time": "2021-12-26T17:19:32.209Z"
   },
   {
    "duration": 8,
    "start_time": "2021-12-26T17:19:35.722Z"
   },
   {
    "duration": 9,
    "start_time": "2021-12-26T17:19:38.637Z"
   },
   {
    "duration": 349,
    "start_time": "2021-12-26T17:24:18.863Z"
   },
   {
    "duration": 9,
    "start_time": "2021-12-26T17:26:47.489Z"
   },
   {
    "duration": 14,
    "start_time": "2021-12-26T17:27:04.760Z"
   },
   {
    "duration": 9,
    "start_time": "2021-12-26T17:27:16.651Z"
   },
   {
    "duration": -59,
    "start_time": "2021-12-26T17:28:56.792Z"
   },
   {
    "duration": 1603,
    "start_time": "2021-12-26T17:29:05.772Z"
   },
   {
    "duration": 304,
    "start_time": "2021-12-26T17:29:20.708Z"
   },
   {
    "duration": 365,
    "start_time": "2021-12-26T17:29:29.165Z"
   },
   {
    "duration": 317,
    "start_time": "2021-12-26T17:29:40.702Z"
   },
   {
    "duration": 35,
    "start_time": "2021-12-26T17:29:52.136Z"
   },
   {
    "duration": 320,
    "start_time": "2021-12-26T17:30:15.377Z"
   },
   {
    "duration": 437,
    "start_time": "2021-12-26T17:30:20.077Z"
   },
   {
    "duration": 502,
    "start_time": "2021-12-26T17:30:27.771Z"
   },
   {
    "duration": 326,
    "start_time": "2021-12-26T17:30:42.686Z"
   },
   {
    "duration": 211,
    "start_time": "2021-12-26T17:31:00.146Z"
   },
   {
    "duration": 11,
    "start_time": "2021-12-26T17:31:01.693Z"
   },
   {
    "duration": 5,
    "start_time": "2021-12-26T17:31:02.145Z"
   },
   {
    "duration": 6,
    "start_time": "2021-12-26T17:31:02.587Z"
   },
   {
    "duration": 26,
    "start_time": "2021-12-26T17:31:02.777Z"
   },
   {
    "duration": 18,
    "start_time": "2021-12-26T17:31:03.793Z"
   },
   {
    "duration": 22,
    "start_time": "2021-12-26T17:31:04.242Z"
   },
   {
    "duration": 8,
    "start_time": "2021-12-26T17:31:05.198Z"
   },
   {
    "duration": 9,
    "start_time": "2021-12-26T17:31:06.226Z"
   },
   {
    "duration": 73,
    "start_time": "2021-12-26T17:31:09.185Z"
   },
   {
    "duration": 15,
    "start_time": "2021-12-26T17:31:10.171Z"
   },
   {
    "duration": 6,
    "start_time": "2021-12-26T17:31:13.277Z"
   },
   {
    "duration": 1307,
    "start_time": "2021-12-26T17:31:13.834Z"
   },
   {
    "duration": 11,
    "start_time": "2021-12-26T17:31:16.726Z"
   },
   {
    "duration": 320,
    "start_time": "2021-12-26T17:31:18.312Z"
   },
   {
    "duration": 20,
    "start_time": "2021-12-26T17:32:27.202Z"
   },
   {
    "duration": 9,
    "start_time": "2021-12-26T17:32:49.618Z"
   },
   {
    "duration": 9,
    "start_time": "2021-12-26T17:32:55.550Z"
   },
   {
    "duration": 8,
    "start_time": "2021-12-26T17:33:06.454Z"
   },
   {
    "duration": 11,
    "start_time": "2021-12-26T17:33:10.642Z"
   },
   {
    "duration": 20,
    "start_time": "2021-12-26T17:33:14.987Z"
   },
   {
    "duration": 20,
    "start_time": "2021-12-26T17:33:18.075Z"
   },
   {
    "duration": 296,
    "start_time": "2021-12-26T18:12:03.864Z"
   },
   {
    "duration": 312,
    "start_time": "2021-12-26T18:12:16.291Z"
   },
   {
    "duration": 316,
    "start_time": "2021-12-26T18:12:34.380Z"
   },
   {
    "duration": 12,
    "start_time": "2021-12-26T18:12:39.472Z"
   },
   {
    "duration": 75,
    "start_time": "2021-12-26T18:12:46.576Z"
   },
   {
    "duration": 11,
    "start_time": "2021-12-26T18:12:54.799Z"
   },
   {
    "duration": 15,
    "start_time": "2021-12-26T18:13:01.368Z"
   },
   {
    "duration": 387,
    "start_time": "2021-12-26T18:14:46.044Z"
   },
   {
    "duration": 13,
    "start_time": "2021-12-26T18:15:02.264Z"
   },
   {
    "duration": 11,
    "start_time": "2021-12-26T18:15:35.913Z"
   },
   {
    "duration": 14,
    "start_time": "2021-12-26T18:15:42.873Z"
   },
   {
    "duration": 13,
    "start_time": "2021-12-26T18:22:43.859Z"
   },
   {
    "duration": 19,
    "start_time": "2021-12-26T18:22:56.167Z"
   },
   {
    "duration": 14,
    "start_time": "2021-12-26T18:23:00.107Z"
   },
   {
    "duration": 11,
    "start_time": "2021-12-26T18:23:02.787Z"
   },
   {
    "duration": 1553,
    "start_time": "2021-12-26T18:23:08.075Z"
   },
   {
    "duration": 2271,
    "start_time": "2021-12-26T18:23:51.764Z"
   },
   {
    "duration": 1849,
    "start_time": "2021-12-26T18:24:10.388Z"
   },
   {
    "duration": 9,
    "start_time": "2021-12-26T18:25:46.883Z"
   },
   {
    "duration": 16,
    "start_time": "2021-12-26T18:27:13.792Z"
   },
   {
    "duration": 10,
    "start_time": "2021-12-26T18:27:52.809Z"
   },
   {
    "duration": 2012,
    "start_time": "2021-12-26T18:28:00.416Z"
   },
   {
    "duration": 533,
    "start_time": "2021-12-26T18:30:03.673Z"
   },
   {
    "duration": 15,
    "start_time": "2021-12-26T18:30:12.229Z"
   },
   {
    "duration": 11,
    "start_time": "2021-12-26T18:30:20.388Z"
   },
   {
    "duration": 12,
    "start_time": "2021-12-26T18:30:24.597Z"
   },
   {
    "duration": 15,
    "start_time": "2021-12-26T18:30:48.670Z"
   },
   {
    "duration": 12,
    "start_time": "2021-12-26T18:31:01.157Z"
   },
   {
    "duration": 2349,
    "start_time": "2021-12-26T18:31:08.781Z"
   },
   {
    "duration": 1989,
    "start_time": "2021-12-26T18:31:44.965Z"
   },
   {
    "duration": 668,
    "start_time": "2021-12-26T18:35:29.074Z"
   },
   {
    "duration": 12,
    "start_time": "2021-12-26T18:37:35.055Z"
   },
   {
    "duration": 15,
    "start_time": "2021-12-26T18:38:31.567Z"
   },
   {
    "duration": 13,
    "start_time": "2021-12-26T18:39:19.235Z"
   },
   {
    "duration": 8,
    "start_time": "2021-12-26T18:39:34.407Z"
   },
   {
    "duration": 320,
    "start_time": "2021-12-26T18:39:41.968Z"
   },
   {
    "duration": 12,
    "start_time": "2021-12-26T18:39:49.219Z"
   },
   {
    "duration": 435,
    "start_time": "2021-12-26T18:39:55.243Z"
   },
   {
    "duration": 575,
    "start_time": "2021-12-26T18:39:58.927Z"
   },
   {
    "duration": 11,
    "start_time": "2021-12-26T18:40:01.544Z"
   },
   {
    "duration": 144,
    "start_time": "2021-12-26T18:40:19.896Z"
   },
   {
    "duration": 7,
    "start_time": "2021-12-26T18:40:29.008Z"
   },
   {
    "duration": 3483,
    "start_time": "2021-12-26T18:40:30.404Z"
   },
   {
    "duration": 4286,
    "start_time": "2021-12-26T18:40:34.728Z"
   },
   {
    "duration": 5755,
    "start_time": "2021-12-26T18:40:39.449Z"
   },
   {
    "duration": 684,
    "start_time": "2021-12-26T18:40:51.484Z"
   },
   {
    "duration": 5426,
    "start_time": "2021-12-26T18:40:53.232Z"
   },
   {
    "duration": 6107,
    "start_time": "2021-12-26T18:40:58.661Z"
   },
   {
    "duration": 6330,
    "start_time": "2021-12-26T18:41:04.772Z"
   },
   {
    "duration": 12,
    "start_time": "2021-12-26T18:41:33.236Z"
   },
   {
    "duration": 13,
    "start_time": "2021-12-26T18:41:52.304Z"
   },
   {
    "duration": 12,
    "start_time": "2021-12-26T18:42:15.848Z"
   },
   {
    "duration": 130,
    "start_time": "2021-12-26T18:42:40.188Z"
   },
   {
    "duration": 3844,
    "start_time": "2021-12-26T18:42:44.317Z"
   },
   {
    "duration": 20,
    "start_time": "2021-12-26T18:42:48.164Z"
   },
   {
    "duration": 8,
    "start_time": "2021-12-26T18:42:48.191Z"
   },
   {
    "duration": 19,
    "start_time": "2021-12-26T18:42:48.203Z"
   },
   {
    "duration": 16,
    "start_time": "2021-12-26T18:42:52.289Z"
   },
   {
    "duration": 19,
    "start_time": "2021-12-26T18:42:53.025Z"
   },
   {
    "duration": 6,
    "start_time": "2021-12-26T18:42:56.440Z"
   },
   {
    "duration": 17,
    "start_time": "2021-12-26T18:43:01.463Z"
   },
   {
    "duration": 5,
    "start_time": "2021-12-26T18:43:20.216Z"
   },
   {
    "duration": 12,
    "start_time": "2021-12-26T18:44:19.173Z"
   },
   {
    "duration": 15,
    "start_time": "2021-12-26T18:44:45.581Z"
   },
   {
    "duration": 13,
    "start_time": "2021-12-26T18:44:58.371Z"
   },
   {
    "duration": 107,
    "start_time": "2021-12-26T18:45:35.354Z"
   },
   {
    "duration": 12,
    "start_time": "2021-12-26T18:45:44.265Z"
   },
   {
    "duration": 6,
    "start_time": "2021-12-26T18:46:01.789Z"
   },
   {
    "duration": 12,
    "start_time": "2021-12-26T18:46:44.374Z"
   },
   {
    "duration": 144,
    "start_time": "2021-12-26T18:46:54.018Z"
   },
   {
    "duration": 9,
    "start_time": "2021-12-26T18:46:56.766Z"
   },
   {
    "duration": 5,
    "start_time": "2021-12-26T18:46:57.646Z"
   },
   {
    "duration": 7,
    "start_time": "2021-12-26T18:46:58.593Z"
   },
   {
    "duration": 15,
    "start_time": "2021-12-26T18:46:59.466Z"
   },
   {
    "duration": 11,
    "start_time": "2021-12-26T18:47:03.654Z"
   },
   {
    "duration": 12,
    "start_time": "2021-12-26T18:47:06.074Z"
   },
   {
    "duration": 6,
    "start_time": "2021-12-26T18:47:07.938Z"
   },
   {
    "duration": 7,
    "start_time": "2021-12-26T18:47:22.138Z"
   },
   {
    "duration": 6,
    "start_time": "2021-12-26T18:47:34.306Z"
   },
   {
    "duration": 16,
    "start_time": "2021-12-26T18:48:01.150Z"
   },
   {
    "duration": 10,
    "start_time": "2021-12-26T18:48:09.338Z"
   },
   {
    "duration": 9,
    "start_time": "2021-12-26T18:48:18.295Z"
   },
   {
    "duration": 9,
    "start_time": "2021-12-26T18:48:47.131Z"
   },
   {
    "duration": 13,
    "start_time": "2021-12-26T18:48:55.035Z"
   },
   {
    "duration": 11,
    "start_time": "2021-12-26T18:48:59.339Z"
   },
   {
    "duration": 10,
    "start_time": "2021-12-26T18:49:19.127Z"
   },
   {
    "duration": 12,
    "start_time": "2021-12-26T18:49:34.250Z"
   },
   {
    "duration": 10,
    "start_time": "2021-12-26T18:49:40.515Z"
   },
   {
    "duration": 6,
    "start_time": "2021-12-26T18:49:44.659Z"
   },
   {
    "duration": 15,
    "start_time": "2021-12-26T18:50:36.663Z"
   },
   {
    "duration": 13,
    "start_time": "2021-12-26T18:50:49.551Z"
   },
   {
    "duration": 16,
    "start_time": "2021-12-26T18:51:57.704Z"
   },
   {
    "duration": 18,
    "start_time": "2021-12-26T18:52:08.108Z"
   },
   {
    "duration": 362,
    "start_time": "2021-12-26T18:52:21.881Z"
   },
   {
    "duration": 17,
    "start_time": "2021-12-26T18:52:27.436Z"
   },
   {
    "duration": 17,
    "start_time": "2021-12-26T18:52:58.052Z"
   },
   {
    "duration": 11,
    "start_time": "2021-12-26T18:53:06.189Z"
   },
   {
    "duration": 1989,
    "start_time": "2021-12-26T18:53:09.429Z"
   },
   {
    "duration": 23,
    "start_time": "2021-12-26T18:53:49.369Z"
   },
   {
    "duration": 12,
    "start_time": "2021-12-26T18:53:51.180Z"
   },
   {
    "duration": 14,
    "start_time": "2021-12-26T18:53:52.477Z"
   },
   {
    "duration": 9,
    "start_time": "2021-12-26T18:53:53.169Z"
   },
   {
    "duration": 6,
    "start_time": "2021-12-26T18:53:55.228Z"
   },
   {
    "duration": 29,
    "start_time": "2021-12-26T18:53:56.269Z"
   },
   {
    "duration": 9,
    "start_time": "2021-12-26T18:53:57.856Z"
   },
   {
    "duration": 7,
    "start_time": "2021-12-26T18:53:58.473Z"
   },
   {
    "duration": 16,
    "start_time": "2021-12-26T18:54:21.469Z"
   },
   {
    "duration": 7,
    "start_time": "2021-12-26T18:54:22.904Z"
   },
   {
    "duration": 12,
    "start_time": "2021-12-26T18:54:24.428Z"
   },
   {
    "duration": 1929,
    "start_time": "2021-12-26T18:54:26.760Z"
   },
   {
    "duration": 8,
    "start_time": "2021-12-26T18:54:53.609Z"
   },
   {
    "duration": 442,
    "start_time": "2021-12-26T18:54:57.759Z"
   },
   {
    "duration": 749,
    "start_time": "2021-12-26T18:55:08.049Z"
   },
   {
    "duration": 18,
    "start_time": "2021-12-26T18:55:11.958Z"
   },
   {
    "duration": 11,
    "start_time": "2021-12-26T18:55:12.855Z"
   },
   {
    "duration": 5,
    "start_time": "2021-12-26T18:55:13.725Z"
   },
   {
    "duration": 22,
    "start_time": "2021-12-26T18:55:14.177Z"
   },
   {
    "duration": 18,
    "start_time": "2021-12-26T18:55:15.591Z"
   },
   {
    "duration": 11,
    "start_time": "2021-12-26T18:55:16.430Z"
   },
   {
    "duration": 7,
    "start_time": "2021-12-26T18:55:17.317Z"
   },
   {
    "duration": 17,
    "start_time": "2021-12-26T18:55:18.197Z"
   },
   {
    "duration": 7,
    "start_time": "2021-12-26T18:55:19.181Z"
   },
   {
    "duration": 18,
    "start_time": "2021-12-26T18:55:19.541Z"
   },
   {
    "duration": 12,
    "start_time": "2021-12-26T18:55:20.856Z"
   },
   {
    "duration": 17,
    "start_time": "2021-12-26T18:55:21.725Z"
   },
   {
    "duration": 12,
    "start_time": "2021-12-26T18:55:22.417Z"
   },
   {
    "duration": 8,
    "start_time": "2021-12-26T18:55:26.353Z"
   },
   {
    "duration": 49,
    "start_time": "2021-12-26T18:55:27.509Z"
   },
   {
    "duration": 13,
    "start_time": "2021-12-26T18:55:28.753Z"
   },
   {
    "duration": 4,
    "start_time": "2021-12-26T18:55:30.909Z"
   },
   {
    "duration": 1008,
    "start_time": "2021-12-26T18:55:31.545Z"
   },
   {
    "duration": 14,
    "start_time": "2021-12-26T18:55:32.563Z"
   },
   {
    "duration": 20,
    "start_time": "2021-12-26T18:55:33.953Z"
   },
   {
    "duration": 2149,
    "start_time": "2021-12-26T18:55:34.445Z"
   },
   {
    "duration": 611,
    "start_time": "2021-12-26T18:55:44.693Z"
   },
   {
    "duration": 755,
    "start_time": "2021-12-26T18:56:11.394Z"
   },
   {
    "duration": 1244,
    "start_time": "2021-12-26T18:56:23.898Z"
   },
   {
    "duration": 870,
    "start_time": "2021-12-27T10:24:17.615Z"
   },
   {
    "duration": 11,
    "start_time": "2021-12-27T10:24:24.001Z"
   },
   {
    "duration": 6,
    "start_time": "2021-12-27T10:24:25.173Z"
   },
   {
    "duration": 5,
    "start_time": "2021-12-27T10:24:30.020Z"
   },
   {
    "duration": 6,
    "start_time": "2021-12-27T10:25:04.421Z"
   },
   {
    "duration": 6,
    "start_time": "2021-12-27T10:25:12.097Z"
   },
   {
    "duration": 7,
    "start_time": "2021-12-27T10:26:15.105Z"
   },
   {
    "duration": 15,
    "start_time": "2021-12-27T10:26:18.753Z"
   },
   {
    "duration": 11,
    "start_time": "2021-12-27T10:27:29.601Z"
   },
   {
    "duration": 12,
    "start_time": "2021-12-27T10:27:36.305Z"
   },
   {
    "duration": 17,
    "start_time": "2021-12-27T10:27:48.575Z"
   },
   {
    "duration": 19,
    "start_time": "2021-12-27T10:29:04.958Z"
   },
   {
    "duration": 136,
    "start_time": "2021-12-27T10:29:59.579Z"
   },
   {
    "duration": 14,
    "start_time": "2021-12-27T10:30:09.414Z"
   },
   {
    "duration": 14,
    "start_time": "2021-12-27T10:30:14.431Z"
   },
   {
    "duration": 11,
    "start_time": "2021-12-27T10:30:39.925Z"
   },
   {
    "duration": 9,
    "start_time": "2021-12-27T10:30:55.142Z"
   },
   {
    "duration": 8,
    "start_time": "2021-12-27T10:31:05.958Z"
   },
   {
    "duration": 48,
    "start_time": "2021-12-27T10:31:12.899Z"
   },
   {
    "duration": 31,
    "start_time": "2021-12-27T10:31:18.866Z"
   },
   {
    "duration": 9,
    "start_time": "2021-12-27T10:31:46.266Z"
   },
   {
    "duration": 4,
    "start_time": "2021-12-27T10:31:54.131Z"
   },
   {
    "duration": 807,
    "start_time": "2021-12-27T10:32:01.443Z"
   },
   {
    "duration": 9,
    "start_time": "2021-12-27T10:32:07.928Z"
   },
   {
    "duration": 17,
    "start_time": "2021-12-27T10:32:22.899Z"
   },
   {
    "duration": 1855,
    "start_time": "2021-12-27T10:32:27.951Z"
   },
   {
    "duration": 1113,
    "start_time": "2021-12-27T10:33:02.023Z"
   },
   {
    "duration": 1630,
    "start_time": "2021-12-27T10:44:41.315Z"
   },
   {
    "duration": 1201,
    "start_time": "2021-12-27T10:45:12.579Z"
   },
   {
    "duration": 9375,
    "start_time": "2021-12-27T10:53:26.123Z"
   },
   {
    "duration": 8184,
    "start_time": "2021-12-27T10:53:37.610Z"
   },
   {
    "duration": 14,
    "start_time": "2021-12-27T10:54:06.194Z"
   },
   {
    "duration": 930,
    "start_time": "2021-12-27T18:30:30.867Z"
   },
   {
    "duration": 8,
    "start_time": "2021-12-27T18:30:40.428Z"
   },
   {
    "duration": 4,
    "start_time": "2021-12-27T18:30:42.112Z"
   },
   {
    "duration": 5,
    "start_time": "2021-12-27T18:30:44.920Z"
   },
   {
    "duration": 6,
    "start_time": "2021-12-27T18:30:46.224Z"
   },
   {
    "duration": 16,
    "start_time": "2021-12-27T18:30:51.096Z"
   },
   {
    "duration": 16,
    "start_time": "2021-12-27T18:30:59.571Z"
   },
   {
    "duration": 12,
    "start_time": "2021-12-27T18:31:39.032Z"
   },
   {
    "duration": 28,
    "start_time": "2021-12-27T18:31:57.140Z"
   },
   {
    "duration": 12,
    "start_time": "2021-12-27T18:32:40.828Z"
   },
   {
    "duration": 12,
    "start_time": "2021-12-27T18:33:05.828Z"
   },
   {
    "duration": 10,
    "start_time": "2021-12-27T18:33:29.720Z"
   },
   {
    "duration": 7,
    "start_time": "2021-12-27T18:36:14.441Z"
   },
   {
    "duration": 72,
    "start_time": "2021-12-27T18:36:26.242Z"
   },
   {
    "duration": 5,
    "start_time": "2021-12-27T18:36:58.726Z"
   },
   {
    "duration": 805,
    "start_time": "2021-12-27T18:37:01.793Z"
   },
   {
    "duration": 8,
    "start_time": "2021-12-27T18:37:21.057Z"
   },
   {
    "duration": 1902,
    "start_time": "2021-12-27T18:39:53.222Z"
   },
   {
    "duration": 633,
    "start_time": "2021-12-27T18:47:29.204Z"
   },
   {
    "duration": 507,
    "start_time": "2021-12-27T18:47:41.738Z"
   },
   {
    "duration": 518,
    "start_time": "2021-12-27T18:47:54.008Z"
   },
   {
    "duration": 5,
    "start_time": "2021-12-27T18:50:56.706Z"
   },
   {
    "duration": 551,
    "start_time": "2021-12-27T18:52:06.257Z"
   },
   {
    "duration": 14,
    "start_time": "2021-12-27T18:57:35.755Z"
   },
   {
    "duration": 10,
    "start_time": "2021-12-27T19:02:05.517Z"
   },
   {
    "duration": 9,
    "start_time": "2021-12-27T19:02:17.241Z"
   },
   {
    "duration": 19,
    "start_time": "2021-12-27T19:02:41.428Z"
   },
   {
    "duration": 10,
    "start_time": "2021-12-27T19:02:52.041Z"
   },
   {
    "duration": 10,
    "start_time": "2021-12-27T19:03:16.340Z"
   },
   {
    "duration": 9,
    "start_time": "2021-12-27T19:09:08.915Z"
   },
   {
    "duration": 86,
    "start_time": "2021-12-27T19:09:34.239Z"
   },
   {
    "duration": 17,
    "start_time": "2021-12-27T19:09:43.023Z"
   },
   {
    "duration": 6,
    "start_time": "2021-12-27T19:15:39.481Z"
   },
   {
    "duration": 28,
    "start_time": "2021-12-27T19:18:37.582Z"
   },
   {
    "duration": 38,
    "start_time": "2021-12-27T19:18:46.726Z"
   },
   {
    "duration": 28,
    "start_time": "2021-12-27T19:19:15.922Z"
   },
   {
    "duration": 35,
    "start_time": "2021-12-27T19:19:45.229Z"
   },
   {
    "duration": 5,
    "start_time": "2021-12-27T19:21:34.151Z"
   },
   {
    "duration": 12,
    "start_time": "2021-12-27T19:23:42.456Z"
   },
   {
    "duration": 11,
    "start_time": "2021-12-27T19:24:00.164Z"
   },
   {
    "duration": 390,
    "start_time": "2021-12-27T19:24:20.004Z"
   },
   {
    "duration": 9,
    "start_time": "2021-12-27T19:24:27.164Z"
   },
   {
    "duration": 8,
    "start_time": "2021-12-27T19:24:39.764Z"
   },
   {
    "duration": 9,
    "start_time": "2021-12-27T19:24:43.268Z"
   },
   {
    "duration": 11,
    "start_time": "2021-12-27T19:27:20.237Z"
   },
   {
    "duration": 13,
    "start_time": "2021-12-27T19:27:29.365Z"
   },
   {
    "duration": 40,
    "start_time": "2021-12-27T19:29:32.827Z"
   },
   {
    "duration": 37,
    "start_time": "2021-12-27T19:29:38.855Z"
   },
   {
    "duration": 13,
    "start_time": "2021-12-27T19:36:21.244Z"
   },
   {
    "duration": 6,
    "start_time": "2021-12-27T19:37:58.021Z"
   },
   {
    "duration": 25,
    "start_time": "2021-12-27T19:39:54.758Z"
   },
   {
    "duration": 6,
    "start_time": "2021-12-27T19:42:09.482Z"
   },
   {
    "duration": 18,
    "start_time": "2021-12-27T19:42:49.395Z"
   },
   {
    "duration": 6,
    "start_time": "2021-12-27T19:44:12.299Z"
   },
   {
    "duration": 296,
    "start_time": "2021-12-27T19:45:17.023Z"
   },
   {
    "duration": 9,
    "start_time": "2021-12-27T19:45:30.693Z"
   },
   {
    "duration": 8,
    "start_time": "2021-12-27T19:45:50.308Z"
   },
   {
    "duration": 8,
    "start_time": "2021-12-27T19:46:00.388Z"
   },
   {
    "duration": 7,
    "start_time": "2021-12-27T19:46:27.508Z"
   },
   {
    "duration": 7,
    "start_time": "2021-12-27T19:49:47.013Z"
   },
   {
    "duration": 6,
    "start_time": "2021-12-27T19:50:13.256Z"
   },
   {
    "duration": 16,
    "start_time": "2021-12-27T19:50:30.113Z"
   },
   {
    "duration": 351,
    "start_time": "2021-12-27T19:53:47.130Z"
   },
   {
    "duration": 422,
    "start_time": "2021-12-27T19:54:06.418Z"
   },
   {
    "duration": 360,
    "start_time": "2021-12-27T19:54:19.426Z"
   },
   {
    "duration": 130,
    "start_time": "2021-12-27T19:54:35.158Z"
   },
   {
    "duration": 340,
    "start_time": "2021-12-27T19:54:46.290Z"
   },
   {
    "duration": 400,
    "start_time": "2021-12-27T19:55:20.534Z"
   },
   {
    "duration": 392,
    "start_time": "2021-12-27T19:55:30.534Z"
   },
   {
    "duration": 384,
    "start_time": "2021-12-27T19:55:35.318Z"
   },
   {
    "duration": 7,
    "start_time": "2021-12-27T19:59:04.615Z"
   },
   {
    "duration": 7962,
    "start_time": "2021-12-27T20:00:38.449Z"
   },
   {
    "duration": 10,
    "start_time": "2021-12-27T20:01:29.584Z"
   },
   {
    "duration": 1681,
    "start_time": "2021-12-27T20:01:31.888Z"
   },
   {
    "duration": 1688,
    "start_time": "2021-12-27T20:02:21.964Z"
   },
   {
    "duration": 1848,
    "start_time": "2021-12-27T20:02:45.909Z"
   },
   {
    "duration": 1783,
    "start_time": "2021-12-27T20:03:08.364Z"
   },
   {
    "duration": 11,
    "start_time": "2021-12-27T20:07:15.914Z"
   },
   {
    "duration": 8,
    "start_time": "2021-12-27T20:09:51.791Z"
   },
   {
    "duration": 15,
    "start_time": "2021-12-27T20:16:13.825Z"
   },
   {
    "duration": 133,
    "start_time": "2021-12-27T20:30:42.334Z"
   },
   {
    "duration": 8,
    "start_time": "2021-12-27T20:30:45.410Z"
   },
   {
    "duration": 5,
    "start_time": "2021-12-27T20:30:46.394Z"
   },
   {
    "duration": 6,
    "start_time": "2021-12-27T20:30:47.367Z"
   },
   {
    "duration": 6,
    "start_time": "2021-12-27T20:30:48.334Z"
   },
   {
    "duration": 17,
    "start_time": "2021-12-27T20:30:48.886Z"
   },
   {
    "duration": 13,
    "start_time": "2021-12-27T20:30:50.074Z"
   },
   {
    "duration": 13,
    "start_time": "2021-12-27T20:30:51.054Z"
   },
   {
    "duration": 14,
    "start_time": "2021-12-27T20:30:52.041Z"
   },
   {
    "duration": 14,
    "start_time": "2021-12-27T20:30:53.106Z"
   },
   {
    "duration": 13,
    "start_time": "2021-12-27T20:30:54.182Z"
   },
   {
    "duration": 10,
    "start_time": "2021-12-27T20:30:55.359Z"
   },
   {
    "duration": 6,
    "start_time": "2021-12-27T20:30:57.386Z"
   },
   {
    "duration": 32,
    "start_time": "2021-12-27T20:30:58.394Z"
   },
   {
    "duration": 5,
    "start_time": "2021-12-27T20:30:59.418Z"
   },
   {
    "duration": 1520,
    "start_time": "2021-12-27T20:30:59.930Z"
   },
   {
    "duration": 26,
    "start_time": "2021-12-27T20:31:01.464Z"
   },
   {
    "duration": 7,
    "start_time": "2021-12-27T20:31:02.482Z"
   },
   {
    "duration": 1910,
    "start_time": "2021-12-27T20:31:05.384Z"
   },
   {
    "duration": 6,
    "start_time": "2021-12-27T20:31:09.384Z"
   },
   {
    "duration": 508,
    "start_time": "2021-12-27T20:31:10.059Z"
   },
   {
    "duration": 1165,
    "start_time": "2021-12-27T20:31:12.346Z"
   },
   {
    "duration": 12,
    "start_time": "2021-12-27T20:31:15.254Z"
   },
   {
    "duration": 10,
    "start_time": "2021-12-27T20:31:18.310Z"
   },
   {
    "duration": 17,
    "start_time": "2021-12-27T20:31:19.870Z"
   },
   {
    "duration": 6,
    "start_time": "2021-12-27T20:31:22.034Z"
   },
   {
    "duration": 36,
    "start_time": "2021-12-27T20:31:23.050Z"
   },
   {
    "duration": 4,
    "start_time": "2021-12-27T20:31:24.190Z"
   },
   {
    "duration": 8,
    "start_time": "2021-12-27T20:31:25.270Z"
   },
   {
    "duration": 11,
    "start_time": "2021-12-27T20:31:27.212Z"
   },
   {
    "duration": 14,
    "start_time": "2021-12-27T20:31:29.578Z"
   },
   {
    "duration": 386,
    "start_time": "2021-12-27T20:31:30.706Z"
   },
   {
    "duration": 10,
    "start_time": "2021-12-27T20:31:32.878Z"
   },
   {
    "duration": 11,
    "start_time": "2021-12-27T20:31:33.942Z"
   },
   {
    "duration": 8,
    "start_time": "2021-12-27T20:31:36.082Z"
   },
   {
    "duration": 16,
    "start_time": "2021-12-27T20:31:39.918Z"
   },
   {
    "duration": 875,
    "start_time": "2021-12-28T19:23:12.571Z"
   },
   {
    "duration": 7,
    "start_time": "2021-12-28T19:23:13.449Z"
   },
   {
    "duration": 5,
    "start_time": "2021-12-28T19:23:13.460Z"
   },
   {
    "duration": 5,
    "start_time": "2021-12-28T19:23:13.468Z"
   },
   {
    "duration": 42,
    "start_time": "2021-12-28T19:23:13.475Z"
   },
   {
    "duration": 15,
    "start_time": "2021-12-28T19:23:13.520Z"
   },
   {
    "duration": 11,
    "start_time": "2021-12-28T19:23:13.538Z"
   },
   {
    "duration": 13,
    "start_time": "2021-12-28T19:23:13.554Z"
   },
   {
    "duration": 52,
    "start_time": "2021-12-28T19:23:13.570Z"
   },
   {
    "duration": 14,
    "start_time": "2021-12-28T19:23:13.625Z"
   },
   {
    "duration": 12,
    "start_time": "2021-12-28T19:23:13.641Z"
   },
   {
    "duration": 11,
    "start_time": "2021-12-28T19:23:13.656Z"
   },
   {
    "duration": 48,
    "start_time": "2021-12-28T19:23:13.670Z"
   },
   {
    "duration": 47,
    "start_time": "2021-12-28T19:23:13.721Z"
   },
   {
    "duration": 5,
    "start_time": "2021-12-28T19:23:13.771Z"
   },
   {
    "duration": 814,
    "start_time": "2021-12-28T19:23:13.779Z"
   },
   {
    "duration": 9,
    "start_time": "2021-12-28T19:23:14.595Z"
   },
   {
    "duration": 8,
    "start_time": "2021-12-28T19:23:14.617Z"
   },
   {
    "duration": 1879,
    "start_time": "2021-12-28T19:23:14.628Z"
   },
   {
    "duration": 10,
    "start_time": "2021-12-28T19:23:16.509Z"
   },
   {
    "duration": 518,
    "start_time": "2021-12-28T19:23:16.522Z"
   },
   {
    "duration": 1004,
    "start_time": "2021-12-28T19:23:17.043Z"
   },
   {
    "duration": 12,
    "start_time": "2021-12-28T19:23:18.052Z"
   },
   {
    "duration": 8,
    "start_time": "2021-12-28T19:23:18.067Z"
   },
   {
    "duration": 50,
    "start_time": "2021-12-28T19:23:18.078Z"
   },
   {
    "duration": 6,
    "start_time": "2021-12-28T19:23:18.130Z"
   },
   {
    "duration": 40,
    "start_time": "2021-12-28T19:23:18.138Z"
   },
   {
    "duration": 4,
    "start_time": "2021-12-28T19:23:18.180Z"
   },
   {
    "duration": 37,
    "start_time": "2021-12-28T19:23:18.186Z"
   },
   {
    "duration": 14,
    "start_time": "2021-12-28T19:23:18.225Z"
   },
   {
    "duration": 14,
    "start_time": "2021-12-28T19:23:18.241Z"
   },
   {
    "duration": 629,
    "start_time": "2021-12-28T19:23:18.257Z"
   },
   {
    "duration": 10,
    "start_time": "2021-12-28T19:23:18.889Z"
   },
   {
    "duration": 23,
    "start_time": "2021-12-28T19:23:18.902Z"
   },
   {
    "duration": 8,
    "start_time": "2021-12-28T19:23:18.928Z"
   },
   {
    "duration": 14,
    "start_time": "2021-12-28T19:23:18.939Z"
   },
   {
    "duration": 1212,
    "start_time": "2021-12-28T19:58:02.206Z"
   },
   {
    "duration": 432,
    "start_time": "2021-12-28T19:58:16.942Z"
   },
   {
    "duration": 16,
    "start_time": "2021-12-28T19:58:26.401Z"
   },
   {
    "duration": 20,
    "start_time": "2021-12-28T19:59:05.990Z"
   },
   {
    "duration": 50,
    "start_time": "2021-12-28T20:04:59.056Z"
   },
   {
    "duration": 109,
    "start_time": "2021-12-28T20:07:57.716Z"
   },
   {
    "duration": 5,
    "start_time": "2021-12-28T20:08:10.541Z"
   },
   {
    "duration": 82,
    "start_time": "2021-12-28T20:11:31.787Z"
   },
   {
    "duration": 12,
    "start_time": "2021-12-28T20:14:48.447Z"
   },
   {
    "duration": 12,
    "start_time": "2021-12-28T20:15:59.804Z"
   },
   {
    "duration": 182,
    "start_time": "2021-12-28T20:18:56.628Z"
   },
   {
    "duration": 11,
    "start_time": "2021-12-28T20:19:02.028Z"
   },
   {
    "duration": 36,
    "start_time": "2021-12-28T20:19:04.632Z"
   },
   {
    "duration": 13,
    "start_time": "2021-12-28T20:19:07.832Z"
   },
   {
    "duration": 8,
    "start_time": "2021-12-28T20:19:27.401Z"
   },
   {
    "duration": 5,
    "start_time": "2021-12-28T20:19:42.737Z"
   },
   {
    "duration": 6,
    "start_time": "2021-12-28T20:19:57.799Z"
   },
   {
    "duration": 8,
    "start_time": "2021-12-28T20:21:47.449Z"
   },
   {
    "duration": 5,
    "start_time": "2021-12-28T20:23:53.517Z"
   },
   {
    "duration": 9,
    "start_time": "2021-12-28T20:24:05.349Z"
   },
   {
    "duration": 5,
    "start_time": "2021-12-28T20:24:14.933Z"
   },
   {
    "duration": 11,
    "start_time": "2021-12-28T20:24:25.378Z"
   },
   {
    "duration": 5,
    "start_time": "2021-12-28T20:24:30.970Z"
   },
   {
    "duration": 130,
    "start_time": "2021-12-28T20:25:41.062Z"
   },
   {
    "duration": 10,
    "start_time": "2021-12-28T20:25:43.147Z"
   },
   {
    "duration": 35,
    "start_time": "2021-12-28T20:25:46.323Z"
   },
   {
    "duration": 14,
    "start_time": "2021-12-28T20:25:48.915Z"
   },
   {
    "duration": 9,
    "start_time": "2021-12-28T20:25:54.248Z"
   },
   {
    "duration": 6,
    "start_time": "2021-12-28T20:25:55.634Z"
   },
   {
    "duration": 5,
    "start_time": "2021-12-28T20:25:59.374Z"
   },
   {
    "duration": 9,
    "start_time": "2021-12-28T20:26:02.355Z"
   },
   {
    "duration": 5,
    "start_time": "2021-12-28T20:26:05.846Z"
   },
   {
    "duration": 13,
    "start_time": "2021-12-28T20:26:20.866Z"
   },
   {
    "duration": 11,
    "start_time": "2021-12-28T20:26:47.450Z"
   },
   {
    "duration": 20,
    "start_time": "2021-12-28T20:26:54.043Z"
   },
   {
    "duration": 7021,
    "start_time": "2021-12-28T20:30:03.264Z"
   },
   {
    "duration": 7316,
    "start_time": "2021-12-28T20:31:41.712Z"
   },
   {
    "duration": 7306,
    "start_time": "2021-12-28T20:32:35.332Z"
   },
   {
    "duration": -78,
    "start_time": "2021-12-28T20:32:42.719Z"
   },
   {
    "duration": 15,
    "start_time": "2021-12-28T20:32:47.968Z"
   },
   {
    "duration": 9,
    "start_time": "2021-12-28T20:33:20.169Z"
   },
   {
    "duration": 14,
    "start_time": "2021-12-28T20:33:24.708Z"
   },
   {
    "duration": 114,
    "start_time": "2021-12-28T20:33:50.585Z"
   },
   {
    "duration": 10,
    "start_time": "2021-12-28T20:35:20.138Z"
   },
   {
    "duration": 10,
    "start_time": "2021-12-28T20:35:21.651Z"
   },
   {
    "duration": 11,
    "start_time": "2021-12-28T20:35:22.746Z"
   },
   {
    "duration": 12,
    "start_time": "2021-12-28T20:35:26.878Z"
   },
   {
    "duration": 6,
    "start_time": "2021-12-28T20:35:31.894Z"
   },
   {
    "duration": 33,
    "start_time": "2021-12-28T20:35:33.634Z"
   },
   {
    "duration": 4,
    "start_time": "2021-12-28T20:35:43.837Z"
   },
   {
    "duration": 870,
    "start_time": "2021-12-28T20:35:44.619Z"
   },
   {
    "duration": 7,
    "start_time": "2021-12-28T20:35:50.242Z"
   },
   {
    "duration": 6,
    "start_time": "2021-12-28T20:35:54.454Z"
   },
   {
    "duration": 1813,
    "start_time": "2021-12-28T20:39:10.607Z"
   },
   {
    "duration": 1808,
    "start_time": "2021-12-28T20:39:27.255Z"
   },
   {
    "duration": 1955,
    "start_time": "2021-12-28T20:39:45.595Z"
   },
   {
    "duration": 1784,
    "start_time": "2021-12-28T20:40:09.836Z"
   },
   {
    "duration": 737,
    "start_time": "2021-12-28T20:52:22.563Z"
   },
   {
    "duration": 655,
    "start_time": "2021-12-28T20:57:29.104Z"
   },
   {
    "duration": 94,
    "start_time": "2021-12-28T21:00:54.777Z"
   },
   {
    "duration": 302,
    "start_time": "2021-12-28T21:04:46.638Z"
   },
   {
    "duration": 1345,
    "start_time": "2021-12-28T21:05:01.399Z"
   },
   {
    "duration": 1027,
    "start_time": "2021-12-28T21:05:05.735Z"
   },
   {
    "duration": 1154,
    "start_time": "2021-12-28T21:05:09.075Z"
   },
   {
    "duration": 17,
    "start_time": "2021-12-28T21:05:15.179Z"
   },
   {
    "duration": 275,
    "start_time": "2021-12-28T21:05:21.167Z"
   },
   {
    "duration": 190,
    "start_time": "2021-12-28T21:05:28.911Z"
   },
   {
    "duration": 14,
    "start_time": "2021-12-28T21:05:30.279Z"
   },
   {
    "duration": 50,
    "start_time": "2021-12-28T21:05:31.491Z"
   },
   {
    "duration": 18,
    "start_time": "2021-12-28T21:05:32.599Z"
   },
   {
    "duration": 8,
    "start_time": "2021-12-28T21:05:35.895Z"
   },
   {
    "duration": 6,
    "start_time": "2021-12-28T21:05:37.335Z"
   },
   {
    "duration": 6,
    "start_time": "2021-12-28T21:05:38.747Z"
   },
   {
    "duration": 11,
    "start_time": "2021-12-28T21:05:40.055Z"
   },
   {
    "duration": 6,
    "start_time": "2021-12-28T21:05:42.555Z"
   },
   {
    "duration": 22,
    "start_time": "2021-12-28T21:05:44.179Z"
   },
   {
    "duration": 15,
    "start_time": "2021-12-28T21:05:45.423Z"
   },
   {
    "duration": 12,
    "start_time": "2021-12-28T21:05:46.371Z"
   },
   {
    "duration": 11,
    "start_time": "2021-12-28T21:05:48.901Z"
   },
   {
    "duration": 14,
    "start_time": "2021-12-28T21:05:50.370Z"
   },
   {
    "duration": 13,
    "start_time": "2021-12-28T21:05:51.350Z"
   },
   {
    "duration": 11,
    "start_time": "2021-12-28T21:05:54.692Z"
   },
   {
    "duration": 11,
    "start_time": "2021-12-28T21:05:55.867Z"
   },
   {
    "duration": 7,
    "start_time": "2021-12-28T21:05:58.576Z"
   },
   {
    "duration": 60,
    "start_time": "2021-12-28T21:06:01.495Z"
   },
   {
    "duration": 5,
    "start_time": "2021-12-28T21:06:02.658Z"
   },
   {
    "duration": 861,
    "start_time": "2021-12-28T21:06:03.132Z"
   },
   {
    "duration": 11,
    "start_time": "2021-12-28T21:06:06.167Z"
   },
   {
    "duration": 6,
    "start_time": "2021-12-28T21:06:07.191Z"
   },
   {
    "duration": 1933,
    "start_time": "2021-12-28T21:06:09.859Z"
   },
   {
    "duration": 6,
    "start_time": "2021-12-28T21:06:23.743Z"
   },
   {
    "duration": 669,
    "start_time": "2021-12-28T21:06:24.568Z"
   },
   {
    "duration": 1055,
    "start_time": "2021-12-28T21:06:29.061Z"
   },
   {
    "duration": 734,
    "start_time": "2021-12-28T21:06:32.726Z"
   },
   {
    "duration": 658,
    "start_time": "2021-12-28T21:06:35.947Z"
   },
   {
    "duration": 16,
    "start_time": "2021-12-28T21:06:41.839Z"
   },
   {
    "duration": 9,
    "start_time": "2021-12-28T21:06:46.108Z"
   },
   {
    "duration": 16,
    "start_time": "2021-12-28T21:06:55.623Z"
   },
   {
    "duration": 16,
    "start_time": "2021-12-28T21:07:03.352Z"
   },
   {
    "duration": 8,
    "start_time": "2021-12-28T21:07:44.447Z"
   },
   {
    "duration": 5,
    "start_time": "2021-12-28T21:11:11.709Z"
   },
   {
    "duration": 37,
    "start_time": "2021-12-28T21:11:13.253Z"
   },
   {
    "duration": 4,
    "start_time": "2021-12-28T21:11:58.317Z"
   },
   {
    "duration": 308,
    "start_time": "2021-12-28T21:13:17.037Z"
   },
   {
    "duration": 8,
    "start_time": "2021-12-28T21:13:56.786Z"
   },
   {
    "duration": 804,
    "start_time": "2021-12-28T21:15:03.123Z"
   },
   {
    "duration": 524,
    "start_time": "2021-12-28T21:15:09.919Z"
   },
   {
    "duration": 289,
    "start_time": "2021-12-28T21:15:24.298Z"
   },
   {
    "duration": 397,
    "start_time": "2021-12-28T21:15:49.846Z"
   },
   {
    "duration": 316,
    "start_time": "2021-12-28T21:16:26.287Z"
   },
   {
    "duration": 225,
    "start_time": "2021-12-28T21:16:59.870Z"
   },
   {
    "duration": 230,
    "start_time": "2021-12-28T21:17:44.251Z"
   },
   {
    "duration": 92,
    "start_time": "2021-12-28T21:18:39.579Z"
   },
   {
    "duration": 332,
    "start_time": "2021-12-28T21:19:15.171Z"
   },
   {
    "duration": 339,
    "start_time": "2021-12-28T21:19:44.232Z"
   },
   {
    "duration": 235,
    "start_time": "2021-12-28T21:20:37.323Z"
   },
   {
    "duration": 232,
    "start_time": "2021-12-28T21:20:47.244Z"
   },
   {
    "duration": 11,
    "start_time": "2021-12-28T21:21:16.765Z"
   },
   {
    "duration": 17,
    "start_time": "2021-12-28T21:21:22.340Z"
   },
   {
    "duration": 360,
    "start_time": "2021-12-28T21:21:23.628Z"
   },
   {
    "duration": 9,
    "start_time": "2021-12-28T21:21:28.544Z"
   },
   {
    "duration": 12,
    "start_time": "2021-12-28T21:21:29.781Z"
   },
   {
    "duration": 9,
    "start_time": "2021-12-28T21:21:43.888Z"
   },
   {
    "duration": 14,
    "start_time": "2021-12-28T21:21:55.901Z"
   },
   {
    "duration": 84,
    "start_time": "2021-12-28T21:25:17.693Z"
   },
   {
    "duration": 96,
    "start_time": "2021-12-28T21:25:28.681Z"
   },
   {
    "duration": 277,
    "start_time": "2021-12-28T21:25:34.353Z"
   },
   {
    "duration": 247,
    "start_time": "2021-12-28T21:25:52.306Z"
   },
   {
    "duration": 335,
    "start_time": "2021-12-28T21:26:22.302Z"
   },
   {
    "duration": 272,
    "start_time": "2021-12-28T21:26:47.310Z"
   },
   {
    "duration": 284,
    "start_time": "2021-12-28T21:27:13.390Z"
   },
   {
    "duration": 15,
    "start_time": "2021-12-28T21:28:06.857Z"
   },
   {
    "duration": 272,
    "start_time": "2021-12-28T21:31:11.042Z"
   },
   {
    "duration": 384,
    "start_time": "2021-12-28T21:31:19.360Z"
   },
   {
    "duration": 287,
    "start_time": "2021-12-28T21:31:25.415Z"
   },
   {
    "duration": 19,
    "start_time": "2021-12-28T21:33:35.355Z"
   },
   {
    "duration": 17,
    "start_time": "2021-12-28T21:37:23.958Z"
   },
   {
    "duration": 16,
    "start_time": "2021-12-28T21:39:00.374Z"
   },
   {
    "duration": 313,
    "start_time": "2021-12-28T21:41:20.602Z"
   },
   {
    "duration": 290,
    "start_time": "2021-12-28T21:41:31.778Z"
   },
   {
    "duration": 8,
    "start_time": "2021-12-28T21:41:46.390Z"
   },
   {
    "duration": 41,
    "start_time": "2021-12-28T21:43:12.239Z"
   },
   {
    "duration": 40,
    "start_time": "2021-12-28T21:43:27.665Z"
   },
   {
    "duration": 36,
    "start_time": "2021-12-28T21:44:35.968Z"
   },
   {
    "duration": 20,
    "start_time": "2021-12-28T21:45:17.948Z"
   },
   {
    "duration": 15,
    "start_time": "2021-12-28T21:45:23.085Z"
   },
   {
    "duration": 301,
    "start_time": "2021-12-28T21:45:50.824Z"
   },
   {
    "duration": 280,
    "start_time": "2021-12-28T21:46:04.105Z"
   },
   {
    "duration": 15,
    "start_time": "2021-12-28T21:46:06.572Z"
   },
   {
    "duration": 21,
    "start_time": "2021-12-28T21:47:18.577Z"
   },
   {
    "duration": 26,
    "start_time": "2021-12-28T21:48:07.086Z"
   },
   {
    "duration": 25,
    "start_time": "2021-12-28T21:48:23.070Z"
   },
   {
    "duration": 18,
    "start_time": "2021-12-28T21:48:26.713Z"
   },
   {
    "duration": 25,
    "start_time": "2021-12-28T21:48:31.273Z"
   },
   {
    "duration": 24,
    "start_time": "2021-12-28T21:48:44.649Z"
   },
   {
    "duration": 20,
    "start_time": "2021-12-28T21:49:45.310Z"
   },
   {
    "duration": 34,
    "start_time": "2021-12-28T21:50:45.846Z"
   },
   {
    "duration": 18,
    "start_time": "2021-12-28T21:51:05.854Z"
   },
   {
    "duration": 372,
    "start_time": "2021-12-28T21:52:22.901Z"
   },
   {
    "duration": 272,
    "start_time": "2021-12-28T21:52:37.367Z"
   },
   {
    "duration": 288,
    "start_time": "2021-12-28T21:52:54.142Z"
   },
   {
    "duration": 672,
    "start_time": "2021-12-28T21:52:57.999Z"
   },
   {
    "duration": 265,
    "start_time": "2021-12-28T21:57:00.240Z"
   },
   {
    "duration": 951,
    "start_time": "2021-12-28T21:58:40.132Z"
   },
   {
    "duration": 20,
    "start_time": "2021-12-28T22:00:07.609Z"
   },
   {
    "duration": 1023,
    "start_time": "2021-12-28T22:00:14.573Z"
   },
   {
    "duration": 21,
    "start_time": "2021-12-28T22:00:42.812Z"
   },
   {
    "duration": 621,
    "start_time": "2021-12-28T22:01:31.717Z"
   },
   {
    "duration": 907,
    "start_time": "2021-12-28T22:01:46.663Z"
   },
   {
    "duration": 1167,
    "start_time": "2021-12-28T22:02:06.586Z"
   },
   {
    "duration": 835,
    "start_time": "2021-12-28T22:02:26.618Z"
   },
   {
    "duration": 995,
    "start_time": "2021-12-28T22:02:31.982Z"
   },
   {
    "duration": 560,
    "start_time": "2021-12-28T22:02:45.863Z"
   },
   {
    "duration": 925,
    "start_time": "2021-12-28T22:03:00.658Z"
   },
   {
    "duration": 958,
    "start_time": "2021-12-28T22:03:08.566Z"
   },
   {
    "duration": 828,
    "start_time": "2021-12-28T22:09:36.240Z"
   },
   {
    "duration": 826,
    "start_time": "2021-12-28T22:09:43.588Z"
   },
   {
    "duration": 1075,
    "start_time": "2021-12-28T22:12:38.512Z"
   },
   {
    "duration": 919,
    "start_time": "2021-12-28T22:12:47.329Z"
   },
   {
    "duration": 1128,
    "start_time": "2021-12-28T22:13:42.610Z"
   },
   {
    "duration": 96,
    "start_time": "2021-12-28T22:17:12.610Z"
   },
   {
    "duration": 98,
    "start_time": "2021-12-28T22:18:11.931Z"
   },
   {
    "duration": 128,
    "start_time": "2021-12-28T22:19:28.152Z"
   },
   {
    "duration": 11,
    "start_time": "2021-12-28T22:19:32.867Z"
   },
   {
    "duration": 38,
    "start_time": "2021-12-28T22:19:34.323Z"
   },
   {
    "duration": 20,
    "start_time": "2021-12-28T22:19:35.643Z"
   },
   {
    "duration": 11,
    "start_time": "2021-12-28T22:19:43.807Z"
   },
   {
    "duration": 7,
    "start_time": "2021-12-28T22:19:46.039Z"
   },
   {
    "duration": 7,
    "start_time": "2021-12-28T22:19:49.251Z"
   },
   {
    "duration": 9,
    "start_time": "2021-12-28T22:19:50.839Z"
   },
   {
    "duration": 5,
    "start_time": "2021-12-28T22:19:56.959Z"
   },
   {
    "duration": 16,
    "start_time": "2021-12-28T22:20:01.763Z"
   },
   {
    "duration": 10,
    "start_time": "2021-12-28T22:20:03.043Z"
   },
   {
    "duration": 14,
    "start_time": "2021-12-28T22:20:05.860Z"
   },
   {
    "duration": 12,
    "start_time": "2021-12-28T22:20:07.132Z"
   },
   {
    "duration": 14,
    "start_time": "2021-12-28T22:20:10.407Z"
   },
   {
    "duration": 13,
    "start_time": "2021-12-28T22:20:11.743Z"
   },
   {
    "duration": 13,
    "start_time": "2021-12-28T22:20:14.897Z"
   },
   {
    "duration": 12,
    "start_time": "2021-12-28T22:20:15.964Z"
   },
   {
    "duration": 7,
    "start_time": "2021-12-28T22:20:18.540Z"
   },
   {
    "duration": 37,
    "start_time": "2021-12-28T22:20:22.056Z"
   },
   {
    "duration": 5,
    "start_time": "2021-12-28T22:20:23.227Z"
   },
   {
    "duration": 758,
    "start_time": "2021-12-28T22:20:23.847Z"
   },
   {
    "duration": 11,
    "start_time": "2021-12-28T22:20:26.765Z"
   },
   {
    "duration": 8,
    "start_time": "2021-12-28T22:20:30.840Z"
   },
   {
    "duration": 2864,
    "start_time": "2021-12-28T22:20:35.172Z"
   },
   {
    "duration": 7,
    "start_time": "2021-12-28T22:20:44.067Z"
   },
   {
    "duration": 772,
    "start_time": "2021-12-28T22:20:45.807Z"
   },
   {
    "duration": 1746,
    "start_time": "2021-12-28T22:20:52.953Z"
   },
   {
    "duration": 688,
    "start_time": "2021-12-28T22:20:59.380Z"
   },
   {
    "duration": 1145,
    "start_time": "2021-12-28T22:21:01.840Z"
   },
   {
    "duration": 18,
    "start_time": "2021-12-28T22:21:08.820Z"
   },
   {
    "duration": 12,
    "start_time": "2021-12-28T22:21:10.717Z"
   },
   {
    "duration": 64,
    "start_time": "2021-12-28T22:21:14.820Z"
   },
   {
    "duration": 21,
    "start_time": "2021-12-28T22:21:18.723Z"
   },
   {
    "duration": 5,
    "start_time": "2021-12-28T22:21:28.296Z"
   },
   {
    "duration": 56,
    "start_time": "2021-12-28T22:21:31.380Z"
   },
   {
    "duration": 5,
    "start_time": "2021-12-28T22:21:32.804Z"
   },
   {
    "duration": 237,
    "start_time": "2021-12-28T22:21:37.764Z"
   },
   {
    "duration": 12,
    "start_time": "2021-12-28T22:21:44.709Z"
   },
   {
    "duration": 15,
    "start_time": "2021-12-28T22:21:49.568Z"
   },
   {
    "duration": 369,
    "start_time": "2021-12-28T22:21:51.904Z"
   },
   {
    "duration": 10,
    "start_time": "2021-12-28T22:21:55.224Z"
   },
   {
    "duration": 14,
    "start_time": "2021-12-28T22:21:59.311Z"
   },
   {
    "duration": 8,
    "start_time": "2021-12-28T22:22:01.077Z"
   },
   {
    "duration": 50,
    "start_time": "2021-12-28T22:22:04.016Z"
   },
   {
    "duration": 27,
    "start_time": "2021-12-28T22:22:10.992Z"
   },
   {
    "duration": 1506,
    "start_time": "2021-12-28T22:22:14.060Z"
   },
   {
    "duration": 710,
    "start_time": "2021-12-29T08:37:20.916Z"
   },
   {
    "duration": 12,
    "start_time": "2021-12-29T08:37:21.628Z"
   },
   {
    "duration": 48,
    "start_time": "2021-12-29T08:37:21.643Z"
   },
   {
    "duration": 10,
    "start_time": "2021-12-29T08:37:21.693Z"
   },
   {
    "duration": 6,
    "start_time": "2021-12-29T08:37:21.706Z"
   },
   {
    "duration": 5,
    "start_time": "2021-12-29T08:37:21.714Z"
   },
   {
    "duration": 6,
    "start_time": "2021-12-29T08:37:21.721Z"
   },
   {
    "duration": 7,
    "start_time": "2021-12-29T08:37:21.730Z"
   },
   {
    "duration": 9,
    "start_time": "2021-12-29T08:37:21.739Z"
   },
   {
    "duration": 45,
    "start_time": "2021-12-29T08:37:21.750Z"
   },
   {
    "duration": 11,
    "start_time": "2021-12-29T08:37:21.797Z"
   },
   {
    "duration": 8,
    "start_time": "2021-12-29T08:37:21.810Z"
   },
   {
    "duration": 13,
    "start_time": "2021-12-29T08:37:21.820Z"
   },
   {
    "duration": 10,
    "start_time": "2021-12-29T08:37:21.835Z"
   },
   {
    "duration": 45,
    "start_time": "2021-12-29T08:37:21.846Z"
   },
   {
    "duration": 10,
    "start_time": "2021-12-29T08:37:21.893Z"
   },
   {
    "duration": 12,
    "start_time": "2021-12-29T08:37:21.904Z"
   },
   {
    "duration": 5,
    "start_time": "2021-12-29T08:37:21.918Z"
   },
   {
    "duration": 32,
    "start_time": "2021-12-29T08:37:21.925Z"
   },
   {
    "duration": 4,
    "start_time": "2021-12-29T08:37:21.960Z"
   },
   {
    "duration": 521,
    "start_time": "2021-12-29T08:37:21.966Z"
   },
   {
    "duration": 6,
    "start_time": "2021-12-29T08:37:22.491Z"
   },
   {
    "duration": 5,
    "start_time": "2021-12-29T08:37:22.502Z"
   },
   {
    "duration": 1392,
    "start_time": "2021-12-29T08:37:22.509Z"
   },
   {
    "duration": 5,
    "start_time": "2021-12-29T08:37:23.904Z"
   },
   {
    "duration": 351,
    "start_time": "2021-12-29T08:37:23.910Z"
   },
   {
    "duration": 682,
    "start_time": "2021-12-29T08:37:24.263Z"
   },
   {
    "duration": 523,
    "start_time": "2021-12-29T08:37:24.947Z"
   },
   {
    "duration": 459,
    "start_time": "2021-12-29T08:37:25.472Z"
   },
   {
    "duration": 10,
    "start_time": "2021-12-29T08:37:25.933Z"
   },
   {
    "duration": 6,
    "start_time": "2021-12-29T08:37:25.945Z"
   },
   {
    "duration": 52,
    "start_time": "2021-12-29T08:37:25.953Z"
   },
   {
    "duration": 12,
    "start_time": "2021-12-29T08:37:26.007Z"
   },
   {
    "duration": 5,
    "start_time": "2021-12-29T08:37:26.021Z"
   },
   {
    "duration": 39,
    "start_time": "2021-12-29T08:37:26.028Z"
   },
   {
    "duration": 23,
    "start_time": "2021-12-29T08:37:26.069Z"
   },
   {
    "duration": 166,
    "start_time": "2021-12-29T08:37:26.094Z"
   },
   {
    "duration": 9,
    "start_time": "2021-12-29T08:37:26.261Z"
   },
   {
    "duration": 23,
    "start_time": "2021-12-29T08:37:26.272Z"
   },
   {
    "duration": 272,
    "start_time": "2021-12-29T08:37:26.298Z"
   },
   {
    "duration": 7,
    "start_time": "2021-12-29T08:37:26.572Z"
   },
   {
    "duration": 16,
    "start_time": "2021-12-29T08:37:26.581Z"
   },
   {
    "duration": 15,
    "start_time": "2021-12-29T08:37:26.599Z"
   },
   {
    "duration": 34,
    "start_time": "2021-12-29T08:37:26.617Z"
   },
   {
    "duration": 12,
    "start_time": "2021-12-29T08:37:26.653Z"
   },
   {
    "duration": 709,
    "start_time": "2021-12-29T08:37:26.667Z"
   }
  ],
  "kernelspec": {
   "display_name": "Python 3 (ipykernel)",
   "language": "python",
   "name": "python3"
  },
  "language_info": {
   "codemirror_mode": {
    "name": "ipython",
    "version": 3
   },
   "file_extension": ".py",
   "mimetype": "text/x-python",
   "name": "python",
   "nbconvert_exporter": "python",
   "pygments_lexer": "ipython3",
   "version": "3.9.5"
  },
  "toc": {
   "base_numbering": 1,
   "nav_menu": {},
   "number_sections": true,
   "sideBar": true,
   "skip_h1_title": true,
   "title_cell": "Содержание",
   "title_sidebar": "Contents",
   "toc_cell": true,
   "toc_position": {
    "height": "calc(100% - 180px)",
    "left": "10px",
    "top": "150px",
    "width": "352px"
   },
   "toc_section_display": true,
   "toc_window_display": true
  }
 },
 "nbformat": 4,
 "nbformat_minor": 2
}
